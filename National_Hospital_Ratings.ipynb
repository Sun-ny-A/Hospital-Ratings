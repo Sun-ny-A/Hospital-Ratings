{
  "nbformat": 4,
  "nbformat_minor": 0,
  "metadata": {
    "colab": {
      "name": "National Hospital Ratings",
      "provenance": [],
      "collapsed_sections": [],
      "mount_file_id": "1_QKRg3IgIQFekeTcnMaPYkxVibwyze09",
      "authorship_tag": "ABX9TyPxUZ/yU8Vj/SiU+ZG0qHEi",
      "include_colab_link": true
    },
    "kernelspec": {
      "name": "python3",
      "display_name": "Python 3"
    },
    "language_info": {
      "name": "python"
    }
  },
  "cells": [
    {
      "cell_type": "markdown",
      "metadata": {
        "id": "view-in-github",
        "colab_type": "text"
      },
      "source": [
        "<a href=\"https://colab.research.google.com/github/Sun-ny-A/Hospital-Ratings/blob/main/National_Hospital_Ratings.ipynb\" target=\"_parent\"><img src=\"https://colab.research.google.com/assets/colab-badge.svg\" alt=\"Open In Colab\"/></a>"
      ]
    },
    {
      "cell_type": "markdown",
      "source": [
        "**Clean Data**"
      ],
      "metadata": {
        "id": "43MdcgH_OwKG"
      }
    },
    {
      "cell_type": "code",
      "execution_count": 235,
      "metadata": {
        "id": "HwaFtOdAe0UI",
        "colab": {
          "base_uri": "https://localhost:8080/"
        },
        "outputId": "84e61b31-e6cd-4ee2-d52d-1ce74adb54c2"
      },
      "outputs": [
        {
          "output_type": "stream",
          "name": "stdout",
          "text": [
            "Drive already mounted at /content/drive; to attempt to forcibly remount, call drive.mount(\"/content/drive\", force_remount=True).\n"
          ]
        }
      ],
      "source": [
        "#mount drive\n",
        "from google.colab import drive\n",
        "drive.mount('/content/drive')"
      ]
    },
    {
      "cell_type": "code",
      "source": [
        "#import\n",
        "import pandas as pd\n",
        "import numpy as np\n",
        "import matplotlib.pyplot as plt\n",
        "import seaborn as sns\n",
        "from sklearn import set_config\n",
        "set_config(display='diagram')\n",
        "import seaborn as sns\n",
        "from sklearn.model_selection import train_test_split, cross_val_score\n",
        "from sklearn.preprocessing import StandardScaler, OneHotEncoder\n",
        "from sklearn.pipeline import make_pipeline\n",
        "from sklearn.neighbors import KNeighborsClassifier\n",
        "from sklearn.metrics import accuracy_score, plot_confusion_matrix, classification_report\n",
        "from sklearn.compose import make_column_selector, make_column_transformer\n",
        "from sklearn.impute import SimpleImputer\n",
        "from sklearn.decomposition import PCA\n",
        "from sklearn.linear_model import LogisticRegression\n",
        "from sklearn import metrics\n",
        "from sklearn.ensemble import RandomForestRegressor\n",
        "import folium\n",
        "from folium.features import GeoJsonTooltip\n",
        "import geopandas as gpd\n",
        "!apt install libspatialindex-dev\n",
        "!pip install rtree\n",
        "!pip install geopandas\n",
        "#last three lines installed geopandas, source = https://stackoverflow.com/questions/65324533/geopandas-in-google-colab"
      ],
      "metadata": {
        "id": "0cIOqW8vO3XJ",
        "colab": {
          "base_uri": "https://localhost:8080/"
        },
        "outputId": "89adb1f2-c311-4a36-a026-e805ed669dea"
      },
      "execution_count": 391,
      "outputs": [
        {
          "output_type": "stream",
          "name": "stdout",
          "text": [
            "Reading package lists... Done\n",
            "Building dependency tree       \n",
            "Reading state information... Done\n",
            "libspatialindex-dev is already the newest version (1.8.5-5).\n",
            "The following package was automatically installed and is no longer required:\n",
            "  libnvidia-common-460\n",
            "Use 'apt autoremove' to remove it.\n",
            "0 upgraded, 0 newly installed, 0 to remove and 49 not upgraded.\n",
            "Looking in indexes: https://pypi.org/simple, https://us-python.pkg.dev/colab-wheels/public/simple/\n",
            "Requirement already satisfied: rtree in /usr/local/lib/python3.7/dist-packages (1.0.0)\n",
            "Requirement already satisfied: typing-extensions>=3.7 in /usr/local/lib/python3.7/dist-packages (from rtree) (4.1.1)\n",
            "Looking in indexes: https://pypi.org/simple, https://us-python.pkg.dev/colab-wheels/public/simple/\n",
            "Requirement already satisfied: geopandas in /usr/local/lib/python3.7/dist-packages (0.10.2)\n",
            "Requirement already satisfied: pyproj>=2.2.0 in /usr/local/lib/python3.7/dist-packages (from geopandas) (3.2.1)\n",
            "Requirement already satisfied: fiona>=1.8 in /usr/local/lib/python3.7/dist-packages (from geopandas) (1.8.21)\n",
            "Requirement already satisfied: pandas>=0.25.0 in /usr/local/lib/python3.7/dist-packages (from geopandas) (1.3.5)\n",
            "Requirement already satisfied: shapely>=1.6 in /usr/local/lib/python3.7/dist-packages (from geopandas) (1.8.2)\n",
            "Requirement already satisfied: setuptools in /usr/local/lib/python3.7/dist-packages (from fiona>=1.8->geopandas) (57.4.0)\n",
            "Requirement already satisfied: six>=1.7 in /usr/local/lib/python3.7/dist-packages (from fiona>=1.8->geopandas) (1.15.0)\n",
            "Requirement already satisfied: click-plugins>=1.0 in /usr/local/lib/python3.7/dist-packages (from fiona>=1.8->geopandas) (1.1.1)\n",
            "Requirement already satisfied: attrs>=17 in /usr/local/lib/python3.7/dist-packages (from fiona>=1.8->geopandas) (21.4.0)\n",
            "Requirement already satisfied: click>=4.0 in /usr/local/lib/python3.7/dist-packages (from fiona>=1.8->geopandas) (7.1.2)\n",
            "Requirement already satisfied: certifi in /usr/local/lib/python3.7/dist-packages (from fiona>=1.8->geopandas) (2022.6.15)\n",
            "Requirement already satisfied: munch in /usr/local/lib/python3.7/dist-packages (from fiona>=1.8->geopandas) (2.5.0)\n",
            "Requirement already satisfied: cligj>=0.5 in /usr/local/lib/python3.7/dist-packages (from fiona>=1.8->geopandas) (0.7.2)\n",
            "Requirement already satisfied: pytz>=2017.3 in /usr/local/lib/python3.7/dist-packages (from pandas>=0.25.0->geopandas) (2022.1)\n",
            "Requirement already satisfied: numpy>=1.17.3 in /usr/local/lib/python3.7/dist-packages (from pandas>=0.25.0->geopandas) (1.21.6)\n",
            "Requirement already satisfied: python-dateutil>=2.7.3 in /usr/local/lib/python3.7/dist-packages (from pandas>=0.25.0->geopandas) (2.8.2)\n"
          ]
        }
      ]
    },
    {
      "cell_type": "markdown",
      "source": [
        "source of dataset: https://corgis-edu.github.io/corgis/csv/hospitals/"
      ],
      "metadata": {
        "id": "4P0_3T14AvzM"
      }
    },
    {
      "cell_type": "code",
      "source": [
        "#upload data\n",
        "df = pd.read_csv('/content/hospitals.csv')\n",
        "df.head(10)"
      ],
      "metadata": {
        "colab": {
          "base_uri": "https://localhost:8080/",
          "height": 751
        },
        "id": "q2WH5OjLPCvE",
        "outputId": "8cb74a0c-50b6-45c3-a338-781922682de1"
      },
      "execution_count": 260,
      "outputs": [
        {
          "output_type": "execute_result",
          "data": {
            "text/plain": [
              "                      Facility.Name Facility.City Facility.State  \\\n",
              "0  Southeast Alabama Medical Center        Dothan             AL   \n",
              "1     Marshall Medical Center South          Boaz             AL   \n",
              "2    Eliza Coffee Memorial Hospital      Florence             AL   \n",
              "3          Mizell Memorial Hospital           Opp             AL   \n",
              "4       Crenshaw Community Hospital       Luverne             AL   \n",
              "5                 St Vincent's East    Birmingham             AL   \n",
              "6    Dekalb Regional Medical Center    Fort Payne             AL   \n",
              "7     Shelby Baptist Medical Center     Alabaster             AL   \n",
              "8             Callahan Eye Hospital    Birmingham             AL   \n",
              "9    Helen Keller Memorial Hospital     Sheffield             AL   \n",
              "\n",
              "  Facility.Type  Rating.Overall Rating.Mortality Rating.Safety  \\\n",
              "0    Government               2            Below         Above   \n",
              "1    Government               1            Below         Below   \n",
              "2    Government               3            Below         Above   \n",
              "3       Private               1             Same          Same   \n",
              "4   Proprietary               4             Same          None   \n",
              "5       Private               2             Same         Below   \n",
              "6   Proprietary               2            Below         Above   \n",
              "7       Private               2             Same         Below   \n",
              "8       Private              -1             None          None   \n",
              "9    Government               3             Same         Above   \n",
              "\n",
              "  Rating.Readmission Rating.Experience Rating.Effectiveness  ...  \\\n",
              "0              Below             Below                 Same  ...   \n",
              "1              Below              Same                Above  ...   \n",
              "2              Above             Below                 Same  ...   \n",
              "3              Below             Below                Below  ...   \n",
              "4              Above              None                 Same  ...   \n",
              "5              Below             Below                Below  ...   \n",
              "6              Below             Below                 Same  ...   \n",
              "7              Above             Below                 Same  ...   \n",
              "8               None              None                 Same  ...   \n",
              "9              Below              Same                 Same  ...   \n",
              "\n",
              "  Procedure.Heart Attack.Value Procedure.Heart Failure.Cost  \\\n",
              "0                      Average                        17041   \n",
              "1                      Average                        15819   \n",
              "2                      Average                        16334   \n",
              "3                      Unknown                        14541   \n",
              "4                      Unknown                        13767   \n",
              "5                      Average                        16132   \n",
              "6                      Average                        15761   \n",
              "7                      Average                        17937   \n",
              "8                      Unknown                            0   \n",
              "9                      Average                        17311   \n",
              "\n",
              "   Procedure.Heart Failure.Quality Procedure.Heart Failure.Value  \\\n",
              "0                          Average                       Average   \n",
              "1                            Worse                       Average   \n",
              "2                          Average                       Average   \n",
              "3                          Average                         Lower   \n",
              "4                          Average                         Lower   \n",
              "5                          Average                       Average   \n",
              "6                          Average                       Average   \n",
              "7                          Average                        Higher   \n",
              "8                          Unknown                       Unknown   \n",
              "9                          Average                       Average   \n",
              "\n",
              "  Procedure.Pneumonia.Cost  Procedure.Pneumonia.Quality  \\\n",
              "0                    18281                      Average   \n",
              "1                    15614                        Worse   \n",
              "2                    17371                      Average   \n",
              "3                    15226                        Worse   \n",
              "4                    14341                      Average   \n",
              "5                    17848                      Average   \n",
              "6                    17896                        Worse   \n",
              "7                    18858                      Average   \n",
              "8                        0                      Unknown   \n",
              "9                    17516                      Average   \n",
              "\n",
              "  Procedure.Pneumonia.Value Procedure.Hip Knee.Cost  \\\n",
              "0                   Average                   25812   \n",
              "1                     Lower                   22747   \n",
              "2                   Average                   24491   \n",
              "3                     Lower                   23472   \n",
              "4                     Lower                       0   \n",
              "5                   Average                   23792   \n",
              "6                   Average                       0   \n",
              "7                    Higher                   22367   \n",
              "8                   Unknown                       0   \n",
              "9                   Average                   23130   \n",
              "\n",
              "   Procedure.Hip Knee.Quality Procedure.Hip Knee.Value  \n",
              "0                     Average                   Higher  \n",
              "1                     Average                  Average  \n",
              "2                     Average                   Higher  \n",
              "3                     Average                  Average  \n",
              "4                     Unknown                  Unknown  \n",
              "5                     Average                   Higher  \n",
              "6                     Unknown                  Unknown  \n",
              "7                     Average                  Average  \n",
              "8                     Unknown                  Unknown  \n",
              "9                     Average                   Higher  \n",
              "\n",
              "[10 rows x 24 columns]"
            ],
            "text/html": [
              "\n",
              "  <div id=\"df-e13f1da2-9e16-4c6b-9925-986c8478c83a\">\n",
              "    <div class=\"colab-df-container\">\n",
              "      <div>\n",
              "<style scoped>\n",
              "    .dataframe tbody tr th:only-of-type {\n",
              "        vertical-align: middle;\n",
              "    }\n",
              "\n",
              "    .dataframe tbody tr th {\n",
              "        vertical-align: top;\n",
              "    }\n",
              "\n",
              "    .dataframe thead th {\n",
              "        text-align: right;\n",
              "    }\n",
              "</style>\n",
              "<table border=\"1\" class=\"dataframe\">\n",
              "  <thead>\n",
              "    <tr style=\"text-align: right;\">\n",
              "      <th></th>\n",
              "      <th>Facility.Name</th>\n",
              "      <th>Facility.City</th>\n",
              "      <th>Facility.State</th>\n",
              "      <th>Facility.Type</th>\n",
              "      <th>Rating.Overall</th>\n",
              "      <th>Rating.Mortality</th>\n",
              "      <th>Rating.Safety</th>\n",
              "      <th>Rating.Readmission</th>\n",
              "      <th>Rating.Experience</th>\n",
              "      <th>Rating.Effectiveness</th>\n",
              "      <th>...</th>\n",
              "      <th>Procedure.Heart Attack.Value</th>\n",
              "      <th>Procedure.Heart Failure.Cost</th>\n",
              "      <th>Procedure.Heart Failure.Quality</th>\n",
              "      <th>Procedure.Heart Failure.Value</th>\n",
              "      <th>Procedure.Pneumonia.Cost</th>\n",
              "      <th>Procedure.Pneumonia.Quality</th>\n",
              "      <th>Procedure.Pneumonia.Value</th>\n",
              "      <th>Procedure.Hip Knee.Cost</th>\n",
              "      <th>Procedure.Hip Knee.Quality</th>\n",
              "      <th>Procedure.Hip Knee.Value</th>\n",
              "    </tr>\n",
              "  </thead>\n",
              "  <tbody>\n",
              "    <tr>\n",
              "      <th>0</th>\n",
              "      <td>Southeast Alabama Medical Center</td>\n",
              "      <td>Dothan</td>\n",
              "      <td>AL</td>\n",
              "      <td>Government</td>\n",
              "      <td>2</td>\n",
              "      <td>Below</td>\n",
              "      <td>Above</td>\n",
              "      <td>Below</td>\n",
              "      <td>Below</td>\n",
              "      <td>Same</td>\n",
              "      <td>...</td>\n",
              "      <td>Average</td>\n",
              "      <td>17041</td>\n",
              "      <td>Average</td>\n",
              "      <td>Average</td>\n",
              "      <td>18281</td>\n",
              "      <td>Average</td>\n",
              "      <td>Average</td>\n",
              "      <td>25812</td>\n",
              "      <td>Average</td>\n",
              "      <td>Higher</td>\n",
              "    </tr>\n",
              "    <tr>\n",
              "      <th>1</th>\n",
              "      <td>Marshall Medical Center South</td>\n",
              "      <td>Boaz</td>\n",
              "      <td>AL</td>\n",
              "      <td>Government</td>\n",
              "      <td>1</td>\n",
              "      <td>Below</td>\n",
              "      <td>Below</td>\n",
              "      <td>Below</td>\n",
              "      <td>Same</td>\n",
              "      <td>Above</td>\n",
              "      <td>...</td>\n",
              "      <td>Average</td>\n",
              "      <td>15819</td>\n",
              "      <td>Worse</td>\n",
              "      <td>Average</td>\n",
              "      <td>15614</td>\n",
              "      <td>Worse</td>\n",
              "      <td>Lower</td>\n",
              "      <td>22747</td>\n",
              "      <td>Average</td>\n",
              "      <td>Average</td>\n",
              "    </tr>\n",
              "    <tr>\n",
              "      <th>2</th>\n",
              "      <td>Eliza Coffee Memorial Hospital</td>\n",
              "      <td>Florence</td>\n",
              "      <td>AL</td>\n",
              "      <td>Government</td>\n",
              "      <td>3</td>\n",
              "      <td>Below</td>\n",
              "      <td>Above</td>\n",
              "      <td>Above</td>\n",
              "      <td>Below</td>\n",
              "      <td>Same</td>\n",
              "      <td>...</td>\n",
              "      <td>Average</td>\n",
              "      <td>16334</td>\n",
              "      <td>Average</td>\n",
              "      <td>Average</td>\n",
              "      <td>17371</td>\n",
              "      <td>Average</td>\n",
              "      <td>Average</td>\n",
              "      <td>24491</td>\n",
              "      <td>Average</td>\n",
              "      <td>Higher</td>\n",
              "    </tr>\n",
              "    <tr>\n",
              "      <th>3</th>\n",
              "      <td>Mizell Memorial Hospital</td>\n",
              "      <td>Opp</td>\n",
              "      <td>AL</td>\n",
              "      <td>Private</td>\n",
              "      <td>1</td>\n",
              "      <td>Same</td>\n",
              "      <td>Same</td>\n",
              "      <td>Below</td>\n",
              "      <td>Below</td>\n",
              "      <td>Below</td>\n",
              "      <td>...</td>\n",
              "      <td>Unknown</td>\n",
              "      <td>14541</td>\n",
              "      <td>Average</td>\n",
              "      <td>Lower</td>\n",
              "      <td>15226</td>\n",
              "      <td>Worse</td>\n",
              "      <td>Lower</td>\n",
              "      <td>23472</td>\n",
              "      <td>Average</td>\n",
              "      <td>Average</td>\n",
              "    </tr>\n",
              "    <tr>\n",
              "      <th>4</th>\n",
              "      <td>Crenshaw Community Hospital</td>\n",
              "      <td>Luverne</td>\n",
              "      <td>AL</td>\n",
              "      <td>Proprietary</td>\n",
              "      <td>4</td>\n",
              "      <td>Same</td>\n",
              "      <td>None</td>\n",
              "      <td>Above</td>\n",
              "      <td>None</td>\n",
              "      <td>Same</td>\n",
              "      <td>...</td>\n",
              "      <td>Unknown</td>\n",
              "      <td>13767</td>\n",
              "      <td>Average</td>\n",
              "      <td>Lower</td>\n",
              "      <td>14341</td>\n",
              "      <td>Average</td>\n",
              "      <td>Lower</td>\n",
              "      <td>0</td>\n",
              "      <td>Unknown</td>\n",
              "      <td>Unknown</td>\n",
              "    </tr>\n",
              "    <tr>\n",
              "      <th>5</th>\n",
              "      <td>St Vincent's East</td>\n",
              "      <td>Birmingham</td>\n",
              "      <td>AL</td>\n",
              "      <td>Private</td>\n",
              "      <td>2</td>\n",
              "      <td>Same</td>\n",
              "      <td>Below</td>\n",
              "      <td>Below</td>\n",
              "      <td>Below</td>\n",
              "      <td>Below</td>\n",
              "      <td>...</td>\n",
              "      <td>Average</td>\n",
              "      <td>16132</td>\n",
              "      <td>Average</td>\n",
              "      <td>Average</td>\n",
              "      <td>17848</td>\n",
              "      <td>Average</td>\n",
              "      <td>Average</td>\n",
              "      <td>23792</td>\n",
              "      <td>Average</td>\n",
              "      <td>Higher</td>\n",
              "    </tr>\n",
              "    <tr>\n",
              "      <th>6</th>\n",
              "      <td>Dekalb Regional Medical Center</td>\n",
              "      <td>Fort Payne</td>\n",
              "      <td>AL</td>\n",
              "      <td>Proprietary</td>\n",
              "      <td>2</td>\n",
              "      <td>Below</td>\n",
              "      <td>Above</td>\n",
              "      <td>Below</td>\n",
              "      <td>Below</td>\n",
              "      <td>Same</td>\n",
              "      <td>...</td>\n",
              "      <td>Average</td>\n",
              "      <td>15761</td>\n",
              "      <td>Average</td>\n",
              "      <td>Average</td>\n",
              "      <td>17896</td>\n",
              "      <td>Worse</td>\n",
              "      <td>Average</td>\n",
              "      <td>0</td>\n",
              "      <td>Unknown</td>\n",
              "      <td>Unknown</td>\n",
              "    </tr>\n",
              "    <tr>\n",
              "      <th>7</th>\n",
              "      <td>Shelby Baptist Medical Center</td>\n",
              "      <td>Alabaster</td>\n",
              "      <td>AL</td>\n",
              "      <td>Private</td>\n",
              "      <td>2</td>\n",
              "      <td>Same</td>\n",
              "      <td>Below</td>\n",
              "      <td>Above</td>\n",
              "      <td>Below</td>\n",
              "      <td>Same</td>\n",
              "      <td>...</td>\n",
              "      <td>Average</td>\n",
              "      <td>17937</td>\n",
              "      <td>Average</td>\n",
              "      <td>Higher</td>\n",
              "      <td>18858</td>\n",
              "      <td>Average</td>\n",
              "      <td>Higher</td>\n",
              "      <td>22367</td>\n",
              "      <td>Average</td>\n",
              "      <td>Average</td>\n",
              "    </tr>\n",
              "    <tr>\n",
              "      <th>8</th>\n",
              "      <td>Callahan Eye Hospital</td>\n",
              "      <td>Birmingham</td>\n",
              "      <td>AL</td>\n",
              "      <td>Private</td>\n",
              "      <td>-1</td>\n",
              "      <td>None</td>\n",
              "      <td>None</td>\n",
              "      <td>None</td>\n",
              "      <td>None</td>\n",
              "      <td>Same</td>\n",
              "      <td>...</td>\n",
              "      <td>Unknown</td>\n",
              "      <td>0</td>\n",
              "      <td>Unknown</td>\n",
              "      <td>Unknown</td>\n",
              "      <td>0</td>\n",
              "      <td>Unknown</td>\n",
              "      <td>Unknown</td>\n",
              "      <td>0</td>\n",
              "      <td>Unknown</td>\n",
              "      <td>Unknown</td>\n",
              "    </tr>\n",
              "    <tr>\n",
              "      <th>9</th>\n",
              "      <td>Helen Keller Memorial Hospital</td>\n",
              "      <td>Sheffield</td>\n",
              "      <td>AL</td>\n",
              "      <td>Government</td>\n",
              "      <td>3</td>\n",
              "      <td>Same</td>\n",
              "      <td>Above</td>\n",
              "      <td>Below</td>\n",
              "      <td>Same</td>\n",
              "      <td>Same</td>\n",
              "      <td>...</td>\n",
              "      <td>Average</td>\n",
              "      <td>17311</td>\n",
              "      <td>Average</td>\n",
              "      <td>Average</td>\n",
              "      <td>17516</td>\n",
              "      <td>Average</td>\n",
              "      <td>Average</td>\n",
              "      <td>23130</td>\n",
              "      <td>Average</td>\n",
              "      <td>Higher</td>\n",
              "    </tr>\n",
              "  </tbody>\n",
              "</table>\n",
              "<p>10 rows × 24 columns</p>\n",
              "</div>\n",
              "      <button class=\"colab-df-convert\" onclick=\"convertToInteractive('df-e13f1da2-9e16-4c6b-9925-986c8478c83a')\"\n",
              "              title=\"Convert this dataframe to an interactive table.\"\n",
              "              style=\"display:none;\">\n",
              "        \n",
              "  <svg xmlns=\"http://www.w3.org/2000/svg\" height=\"24px\"viewBox=\"0 0 24 24\"\n",
              "       width=\"24px\">\n",
              "    <path d=\"M0 0h24v24H0V0z\" fill=\"none\"/>\n",
              "    <path d=\"M18.56 5.44l.94 2.06.94-2.06 2.06-.94-2.06-.94-.94-2.06-.94 2.06-2.06.94zm-11 1L8.5 8.5l.94-2.06 2.06-.94-2.06-.94L8.5 2.5l-.94 2.06-2.06.94zm10 10l.94 2.06.94-2.06 2.06-.94-2.06-.94-.94-2.06-.94 2.06-2.06.94z\"/><path d=\"M17.41 7.96l-1.37-1.37c-.4-.4-.92-.59-1.43-.59-.52 0-1.04.2-1.43.59L10.3 9.45l-7.72 7.72c-.78.78-.78 2.05 0 2.83L4 21.41c.39.39.9.59 1.41.59.51 0 1.02-.2 1.41-.59l7.78-7.78 2.81-2.81c.8-.78.8-2.07 0-2.86zM5.41 20L4 18.59l7.72-7.72 1.47 1.35L5.41 20z\"/>\n",
              "  </svg>\n",
              "      </button>\n",
              "      \n",
              "  <style>\n",
              "    .colab-df-container {\n",
              "      display:flex;\n",
              "      flex-wrap:wrap;\n",
              "      gap: 12px;\n",
              "    }\n",
              "\n",
              "    .colab-df-convert {\n",
              "      background-color: #E8F0FE;\n",
              "      border: none;\n",
              "      border-radius: 50%;\n",
              "      cursor: pointer;\n",
              "      display: none;\n",
              "      fill: #1967D2;\n",
              "      height: 32px;\n",
              "      padding: 0 0 0 0;\n",
              "      width: 32px;\n",
              "    }\n",
              "\n",
              "    .colab-df-convert:hover {\n",
              "      background-color: #E2EBFA;\n",
              "      box-shadow: 0px 1px 2px rgba(60, 64, 67, 0.3), 0px 1px 3px 1px rgba(60, 64, 67, 0.15);\n",
              "      fill: #174EA6;\n",
              "    }\n",
              "\n",
              "    [theme=dark] .colab-df-convert {\n",
              "      background-color: #3B4455;\n",
              "      fill: #D2E3FC;\n",
              "    }\n",
              "\n",
              "    [theme=dark] .colab-df-convert:hover {\n",
              "      background-color: #434B5C;\n",
              "      box-shadow: 0px 1px 3px 1px rgba(0, 0, 0, 0.15);\n",
              "      filter: drop-shadow(0px 1px 2px rgba(0, 0, 0, 0.3));\n",
              "      fill: #FFFFFF;\n",
              "    }\n",
              "  </style>\n",
              "\n",
              "      <script>\n",
              "        const buttonEl =\n",
              "          document.querySelector('#df-e13f1da2-9e16-4c6b-9925-986c8478c83a button.colab-df-convert');\n",
              "        buttonEl.style.display =\n",
              "          google.colab.kernel.accessAllowed ? 'block' : 'none';\n",
              "\n",
              "        async function convertToInteractive(key) {\n",
              "          const element = document.querySelector('#df-e13f1da2-9e16-4c6b-9925-986c8478c83a');\n",
              "          const dataTable =\n",
              "            await google.colab.kernel.invokeFunction('convertToInteractive',\n",
              "                                                     [key], {});\n",
              "          if (!dataTable) return;\n",
              "\n",
              "          const docLinkHtml = 'Like what you see? Visit the ' +\n",
              "            '<a target=\"_blank\" href=https://colab.research.google.com/notebooks/data_table.ipynb>data table notebook</a>'\n",
              "            + ' to learn more about interactive tables.';\n",
              "          element.innerHTML = '';\n",
              "          dataTable['output_type'] = 'display_data';\n",
              "          await google.colab.output.renderOutput(dataTable, element);\n",
              "          const docLink = document.createElement('div');\n",
              "          docLink.innerHTML = docLinkHtml;\n",
              "          element.appendChild(docLink);\n",
              "        }\n",
              "      </script>\n",
              "    </div>\n",
              "  </div>\n",
              "  "
            ]
          },
          "metadata": {},
          "execution_count": 260
        }
      ]
    },
    {
      "cell_type": "code",
      "source": [
        "#check for duplicates\n",
        "df.duplicated().sum()\n",
        "#drop duplicates from data\n",
        "df.drop_duplicates(inplace=True)"
      ],
      "metadata": {
        "colab": {
          "base_uri": "https://localhost:8080/"
        },
        "id": "OdeZvpAzPv0i",
        "outputId": "596a9cf0-9361-4ca6-c21a-5716069143fe"
      },
      "execution_count": 261,
      "outputs": [
        {
          "output_type": "execute_result",
          "data": {
            "text/plain": [
              "0"
            ]
          },
          "metadata": {},
          "execution_count": 261
        }
      ]
    },
    {
      "cell_type": "code",
      "source": [
        "#no missing values\n",
        "df.info()\n",
        "#rating, quality, and value columns are ordinal"
      ],
      "metadata": {
        "colab": {
          "base_uri": "https://localhost:8080/"
        },
        "id": "X_ua9wtFP7Xk",
        "outputId": "d1fab0df-956d-4e16-a9b3-3d9b7652af25"
      },
      "execution_count": 262,
      "outputs": [
        {
          "output_type": "stream",
          "name": "stdout",
          "text": [
            "<class 'pandas.core.frame.DataFrame'>\n",
            "RangeIndex: 4772 entries, 0 to 4771\n",
            "Data columns (total 24 columns):\n",
            " #   Column                           Non-Null Count  Dtype \n",
            "---  ------                           --------------  ----- \n",
            " 0   Facility.Name                    4772 non-null   object\n",
            " 1   Facility.City                    4772 non-null   object\n",
            " 2   Facility.State                   4772 non-null   object\n",
            " 3   Facility.Type                    4772 non-null   object\n",
            " 4   Rating.Overall                   4772 non-null   int64 \n",
            " 5   Rating.Mortality                 4772 non-null   object\n",
            " 6   Rating.Safety                    4772 non-null   object\n",
            " 7   Rating.Readmission               4772 non-null   object\n",
            " 8   Rating.Experience                4772 non-null   object\n",
            " 9   Rating.Effectiveness             4772 non-null   object\n",
            " 10  Rating.Timeliness                4772 non-null   object\n",
            " 11  Rating.Imaging                   4772 non-null   object\n",
            " 12  Procedure.Heart Attack.Cost      4772 non-null   int64 \n",
            " 13  Procedure.Heart Attack.Quality   4772 non-null   object\n",
            " 14  Procedure.Heart Attack.Value     4772 non-null   object\n",
            " 15  Procedure.Heart Failure.Cost     4772 non-null   int64 \n",
            " 16  Procedure.Heart Failure.Quality  4772 non-null   object\n",
            " 17  Procedure.Heart Failure.Value    4772 non-null   object\n",
            " 18  Procedure.Pneumonia.Cost         4772 non-null   int64 \n",
            " 19  Procedure.Pneumonia.Quality      4772 non-null   object\n",
            " 20  Procedure.Pneumonia.Value        4772 non-null   object\n",
            " 21  Procedure.Hip Knee.Cost          4772 non-null   int64 \n",
            " 22  Procedure.Hip Knee.Quality       4772 non-null   object\n",
            " 23  Procedure.Hip Knee.Value         4772 non-null   object\n",
            "dtypes: int64(5), object(19)\n",
            "memory usage: 894.9+ KB\n"
          ]
        }
      ]
    },
    {
      "cell_type": "code",
      "source": [
        "#rename columns with spaces\n",
        "df.rename(columns={'Procedure.Heart Attack.Cost':'Procedure.Heart.Attack.Cost'}, inplace=True)\n",
        "df.rename(columns={'Procedure.Heart Attack.Quality':'Procedure.Heart.Attack.Quality'}, inplace=True)\n",
        "df.rename(columns={'Procedure.Heart Attack.Value':'Procedure.Heart.Attack.Value'}, inplace=True)\n",
        "df.rename(columns={'Procedure.Heart Failure.Cost':'Procedure.Heart.Failure.Cost'}, inplace=True)\n",
        "df.rename(columns={'Procedure.Heart Failure.Quality':'Procedure.Heart.Failure.Quality'}, inplace=True)\n",
        "df.rename(columns={'Procedure.Heart Failure.Value':'Procedure.Heart.Failure.Value'}, inplace=True)\n",
        "df.rename(columns={'Procedure.Hip Knee.Cost':'Procedure.Hip.Knee.Cost'}, inplace=True)\n",
        "df.rename(columns={'Procedure.Hip Knee.Quality':'Procedure.Hip.Knee.Quality'}, inplace=True)\n",
        "df.rename(columns={'Procedure.Hip Knee.Value':'Procedure.Hip.Knee.Value'}, inplace=True)"
      ],
      "metadata": {
        "id": "cHJiL2QFlNpp"
      },
      "execution_count": 263,
      "outputs": []
    },
    {
      "cell_type": "code",
      "source": [
        "df.nunique()\n",
        "#all ordinal columns for quality and vaue have the four subtypes Above, Same, Below, or None/Unknown."
      ],
      "metadata": {
        "colab": {
          "base_uri": "https://localhost:8080/"
        },
        "id": "IseqZlqQ0iSw",
        "outputId": "f7cbfb7d-5b4b-424e-f10a-edfbb65654bf"
      },
      "execution_count": 264,
      "outputs": [
        {
          "output_type": "execute_result",
          "data": {
            "text/plain": [
              "Facility.Name                      4589\n",
              "Facility.City                      2929\n",
              "Facility.State                       56\n",
              "Facility.Type                         5\n",
              "Rating.Overall                        6\n",
              "Rating.Mortality                      4\n",
              "Rating.Safety                         4\n",
              "Rating.Readmission                    4\n",
              "Rating.Experience                     4\n",
              "Rating.Effectiveness                  4\n",
              "Rating.Timeliness                     4\n",
              "Rating.Imaging                        4\n",
              "Procedure.Heart.Attack.Cost        1845\n",
              "Procedure.Heart.Attack.Quality        4\n",
              "Procedure.Heart.Attack.Value          4\n",
              "Procedure.Heart.Failure.Cost       2469\n",
              "Procedure.Heart.Failure.Quality       4\n",
              "Procedure.Heart.Failure.Value         4\n",
              "Procedure.Pneumonia.Cost           2992\n",
              "Procedure.Pneumonia.Quality           4\n",
              "Procedure.Pneumonia.Value             4\n",
              "Procedure.Hip.Knee.Cost            2335\n",
              "Procedure.Hip.Knee.Quality            4\n",
              "Procedure.Hip.Knee.Value              4\n",
              "dtype: int64"
            ]
          },
          "metadata": {},
          "execution_count": 264
        }
      ]
    },
    {
      "cell_type": "markdown",
      "source": [
        "Target is Overall.Rating. Will drop all other rating columns. Will also drop Facility.Name as this is identifying/unique info but will do this later before modeling as I may need it when creating chloropleth map. "
      ],
      "metadata": {
        "id": "VzcpWvb8P1A4"
      }
    },
    {
      "cell_type": "code",
      "source": [
        "#drop columns\n",
        "df.drop([ 'Rating.Mortality', 'Rating.Safety', 'Rating.Readmission', 'Rating.Experience', 'Rating.Effectiveness', 'Rating.Timeliness', 'Rating.Imaging'], axis=1, inplace=True)\n",
        "df.head()"
      ],
      "metadata": {
        "colab": {
          "base_uri": "https://localhost:8080/",
          "height": 426
        },
        "id": "pigVPoumQCni",
        "outputId": "33e535f0-c05b-45c3-bb51-f3556279429f"
      },
      "execution_count": 265,
      "outputs": [
        {
          "output_type": "execute_result",
          "data": {
            "text/plain": [
              "                      Facility.Name Facility.City Facility.State  \\\n",
              "0  Southeast Alabama Medical Center        Dothan             AL   \n",
              "1     Marshall Medical Center South          Boaz             AL   \n",
              "2    Eliza Coffee Memorial Hospital      Florence             AL   \n",
              "3          Mizell Memorial Hospital           Opp             AL   \n",
              "4       Crenshaw Community Hospital       Luverne             AL   \n",
              "\n",
              "  Facility.Type  Rating.Overall  Procedure.Heart.Attack.Cost  \\\n",
              "0    Government               2                        23394   \n",
              "1    Government               1                        22579   \n",
              "2    Government               3                        24002   \n",
              "3       Private               1                            0   \n",
              "4   Proprietary               4                            0   \n",
              "\n",
              "  Procedure.Heart.Attack.Quality Procedure.Heart.Attack.Value  \\\n",
              "0                        Average                      Average   \n",
              "1                        Average                      Average   \n",
              "2                        Average                      Average   \n",
              "3                        Unknown                      Unknown   \n",
              "4                        Unknown                      Unknown   \n",
              "\n",
              "   Procedure.Heart.Failure.Cost Procedure.Heart.Failure.Quality  \\\n",
              "0                         17041                         Average   \n",
              "1                         15819                           Worse   \n",
              "2                         16334                         Average   \n",
              "3                         14541                         Average   \n",
              "4                         13767                         Average   \n",
              "\n",
              "  Procedure.Heart.Failure.Value  Procedure.Pneumonia.Cost  \\\n",
              "0                       Average                     18281   \n",
              "1                       Average                     15614   \n",
              "2                       Average                     17371   \n",
              "3                         Lower                     15226   \n",
              "4                         Lower                     14341   \n",
              "\n",
              "  Procedure.Pneumonia.Quality Procedure.Pneumonia.Value  \\\n",
              "0                     Average                   Average   \n",
              "1                       Worse                     Lower   \n",
              "2                     Average                   Average   \n",
              "3                       Worse                     Lower   \n",
              "4                     Average                     Lower   \n",
              "\n",
              "   Procedure.Hip.Knee.Cost Procedure.Hip.Knee.Quality Procedure.Hip.Knee.Value  \n",
              "0                    25812                    Average                   Higher  \n",
              "1                    22747                    Average                  Average  \n",
              "2                    24491                    Average                   Higher  \n",
              "3                    23472                    Average                  Average  \n",
              "4                        0                    Unknown                  Unknown  "
            ],
            "text/html": [
              "\n",
              "  <div id=\"df-3144fb24-711a-4548-b81d-3f1ce39d6745\">\n",
              "    <div class=\"colab-df-container\">\n",
              "      <div>\n",
              "<style scoped>\n",
              "    .dataframe tbody tr th:only-of-type {\n",
              "        vertical-align: middle;\n",
              "    }\n",
              "\n",
              "    .dataframe tbody tr th {\n",
              "        vertical-align: top;\n",
              "    }\n",
              "\n",
              "    .dataframe thead th {\n",
              "        text-align: right;\n",
              "    }\n",
              "</style>\n",
              "<table border=\"1\" class=\"dataframe\">\n",
              "  <thead>\n",
              "    <tr style=\"text-align: right;\">\n",
              "      <th></th>\n",
              "      <th>Facility.Name</th>\n",
              "      <th>Facility.City</th>\n",
              "      <th>Facility.State</th>\n",
              "      <th>Facility.Type</th>\n",
              "      <th>Rating.Overall</th>\n",
              "      <th>Procedure.Heart.Attack.Cost</th>\n",
              "      <th>Procedure.Heart.Attack.Quality</th>\n",
              "      <th>Procedure.Heart.Attack.Value</th>\n",
              "      <th>Procedure.Heart.Failure.Cost</th>\n",
              "      <th>Procedure.Heart.Failure.Quality</th>\n",
              "      <th>Procedure.Heart.Failure.Value</th>\n",
              "      <th>Procedure.Pneumonia.Cost</th>\n",
              "      <th>Procedure.Pneumonia.Quality</th>\n",
              "      <th>Procedure.Pneumonia.Value</th>\n",
              "      <th>Procedure.Hip.Knee.Cost</th>\n",
              "      <th>Procedure.Hip.Knee.Quality</th>\n",
              "      <th>Procedure.Hip.Knee.Value</th>\n",
              "    </tr>\n",
              "  </thead>\n",
              "  <tbody>\n",
              "    <tr>\n",
              "      <th>0</th>\n",
              "      <td>Southeast Alabama Medical Center</td>\n",
              "      <td>Dothan</td>\n",
              "      <td>AL</td>\n",
              "      <td>Government</td>\n",
              "      <td>2</td>\n",
              "      <td>23394</td>\n",
              "      <td>Average</td>\n",
              "      <td>Average</td>\n",
              "      <td>17041</td>\n",
              "      <td>Average</td>\n",
              "      <td>Average</td>\n",
              "      <td>18281</td>\n",
              "      <td>Average</td>\n",
              "      <td>Average</td>\n",
              "      <td>25812</td>\n",
              "      <td>Average</td>\n",
              "      <td>Higher</td>\n",
              "    </tr>\n",
              "    <tr>\n",
              "      <th>1</th>\n",
              "      <td>Marshall Medical Center South</td>\n",
              "      <td>Boaz</td>\n",
              "      <td>AL</td>\n",
              "      <td>Government</td>\n",
              "      <td>1</td>\n",
              "      <td>22579</td>\n",
              "      <td>Average</td>\n",
              "      <td>Average</td>\n",
              "      <td>15819</td>\n",
              "      <td>Worse</td>\n",
              "      <td>Average</td>\n",
              "      <td>15614</td>\n",
              "      <td>Worse</td>\n",
              "      <td>Lower</td>\n",
              "      <td>22747</td>\n",
              "      <td>Average</td>\n",
              "      <td>Average</td>\n",
              "    </tr>\n",
              "    <tr>\n",
              "      <th>2</th>\n",
              "      <td>Eliza Coffee Memorial Hospital</td>\n",
              "      <td>Florence</td>\n",
              "      <td>AL</td>\n",
              "      <td>Government</td>\n",
              "      <td>3</td>\n",
              "      <td>24002</td>\n",
              "      <td>Average</td>\n",
              "      <td>Average</td>\n",
              "      <td>16334</td>\n",
              "      <td>Average</td>\n",
              "      <td>Average</td>\n",
              "      <td>17371</td>\n",
              "      <td>Average</td>\n",
              "      <td>Average</td>\n",
              "      <td>24491</td>\n",
              "      <td>Average</td>\n",
              "      <td>Higher</td>\n",
              "    </tr>\n",
              "    <tr>\n",
              "      <th>3</th>\n",
              "      <td>Mizell Memorial Hospital</td>\n",
              "      <td>Opp</td>\n",
              "      <td>AL</td>\n",
              "      <td>Private</td>\n",
              "      <td>1</td>\n",
              "      <td>0</td>\n",
              "      <td>Unknown</td>\n",
              "      <td>Unknown</td>\n",
              "      <td>14541</td>\n",
              "      <td>Average</td>\n",
              "      <td>Lower</td>\n",
              "      <td>15226</td>\n",
              "      <td>Worse</td>\n",
              "      <td>Lower</td>\n",
              "      <td>23472</td>\n",
              "      <td>Average</td>\n",
              "      <td>Average</td>\n",
              "    </tr>\n",
              "    <tr>\n",
              "      <th>4</th>\n",
              "      <td>Crenshaw Community Hospital</td>\n",
              "      <td>Luverne</td>\n",
              "      <td>AL</td>\n",
              "      <td>Proprietary</td>\n",
              "      <td>4</td>\n",
              "      <td>0</td>\n",
              "      <td>Unknown</td>\n",
              "      <td>Unknown</td>\n",
              "      <td>13767</td>\n",
              "      <td>Average</td>\n",
              "      <td>Lower</td>\n",
              "      <td>14341</td>\n",
              "      <td>Average</td>\n",
              "      <td>Lower</td>\n",
              "      <td>0</td>\n",
              "      <td>Unknown</td>\n",
              "      <td>Unknown</td>\n",
              "    </tr>\n",
              "  </tbody>\n",
              "</table>\n",
              "</div>\n",
              "      <button class=\"colab-df-convert\" onclick=\"convertToInteractive('df-3144fb24-711a-4548-b81d-3f1ce39d6745')\"\n",
              "              title=\"Convert this dataframe to an interactive table.\"\n",
              "              style=\"display:none;\">\n",
              "        \n",
              "  <svg xmlns=\"http://www.w3.org/2000/svg\" height=\"24px\"viewBox=\"0 0 24 24\"\n",
              "       width=\"24px\">\n",
              "    <path d=\"M0 0h24v24H0V0z\" fill=\"none\"/>\n",
              "    <path d=\"M18.56 5.44l.94 2.06.94-2.06 2.06-.94-2.06-.94-.94-2.06-.94 2.06-2.06.94zm-11 1L8.5 8.5l.94-2.06 2.06-.94-2.06-.94L8.5 2.5l-.94 2.06-2.06.94zm10 10l.94 2.06.94-2.06 2.06-.94-2.06-.94-.94-2.06-.94 2.06-2.06.94z\"/><path d=\"M17.41 7.96l-1.37-1.37c-.4-.4-.92-.59-1.43-.59-.52 0-1.04.2-1.43.59L10.3 9.45l-7.72 7.72c-.78.78-.78 2.05 0 2.83L4 21.41c.39.39.9.59 1.41.59.51 0 1.02-.2 1.41-.59l7.78-7.78 2.81-2.81c.8-.78.8-2.07 0-2.86zM5.41 20L4 18.59l7.72-7.72 1.47 1.35L5.41 20z\"/>\n",
              "  </svg>\n",
              "      </button>\n",
              "      \n",
              "  <style>\n",
              "    .colab-df-container {\n",
              "      display:flex;\n",
              "      flex-wrap:wrap;\n",
              "      gap: 12px;\n",
              "    }\n",
              "\n",
              "    .colab-df-convert {\n",
              "      background-color: #E8F0FE;\n",
              "      border: none;\n",
              "      border-radius: 50%;\n",
              "      cursor: pointer;\n",
              "      display: none;\n",
              "      fill: #1967D2;\n",
              "      height: 32px;\n",
              "      padding: 0 0 0 0;\n",
              "      width: 32px;\n",
              "    }\n",
              "\n",
              "    .colab-df-convert:hover {\n",
              "      background-color: #E2EBFA;\n",
              "      box-shadow: 0px 1px 2px rgba(60, 64, 67, 0.3), 0px 1px 3px 1px rgba(60, 64, 67, 0.15);\n",
              "      fill: #174EA6;\n",
              "    }\n",
              "\n",
              "    [theme=dark] .colab-df-convert {\n",
              "      background-color: #3B4455;\n",
              "      fill: #D2E3FC;\n",
              "    }\n",
              "\n",
              "    [theme=dark] .colab-df-convert:hover {\n",
              "      background-color: #434B5C;\n",
              "      box-shadow: 0px 1px 3px 1px rgba(0, 0, 0, 0.15);\n",
              "      filter: drop-shadow(0px 1px 2px rgba(0, 0, 0, 0.3));\n",
              "      fill: #FFFFFF;\n",
              "    }\n",
              "  </style>\n",
              "\n",
              "      <script>\n",
              "        const buttonEl =\n",
              "          document.querySelector('#df-3144fb24-711a-4548-b81d-3f1ce39d6745 button.colab-df-convert');\n",
              "        buttonEl.style.display =\n",
              "          google.colab.kernel.accessAllowed ? 'block' : 'none';\n",
              "\n",
              "        async function convertToInteractive(key) {\n",
              "          const element = document.querySelector('#df-3144fb24-711a-4548-b81d-3f1ce39d6745');\n",
              "          const dataTable =\n",
              "            await google.colab.kernel.invokeFunction('convertToInteractive',\n",
              "                                                     [key], {});\n",
              "          if (!dataTable) return;\n",
              "\n",
              "          const docLinkHtml = 'Like what you see? Visit the ' +\n",
              "            '<a target=\"_blank\" href=https://colab.research.google.com/notebooks/data_table.ipynb>data table notebook</a>'\n",
              "            + ' to learn more about interactive tables.';\n",
              "          element.innerHTML = '';\n",
              "          dataTable['output_type'] = 'display_data';\n",
              "          await google.colab.output.renderOutput(dataTable, element);\n",
              "          const docLink = document.createElement('div');\n",
              "          docLink.innerHTML = docLinkHtml;\n",
              "          element.appendChild(docLink);\n",
              "        }\n",
              "      </script>\n",
              "    </div>\n",
              "  </div>\n",
              "  "
            ]
          },
          "metadata": {},
          "execution_count": 265
        }
      ]
    },
    {
      "cell_type": "code",
      "source": [
        "df['Facility.State'].value_counts()\n",
        "#double check VI, GU, AS, MP"
      ],
      "metadata": {
        "colab": {
          "base_uri": "https://localhost:8080/"
        },
        "id": "60od0fBz32I9",
        "outputId": "c158643e-b973-4c6c-d4f7-8fd076ea20aa"
      },
      "execution_count": 266,
      "outputs": [
        {
          "output_type": "execute_result",
          "data": {
            "text/plain": [
              "TX    403\n",
              "CA    340\n",
              "FL    184\n",
              "IL    180\n",
              "PA    171\n",
              "NY    168\n",
              "OH    168\n",
              "KS    136\n",
              "GA    132\n",
              "MI    131\n",
              "MN    130\n",
              "OK    123\n",
              "WI    123\n",
              "IN    120\n",
              "IA    116\n",
              "LA    116\n",
              "MO    111\n",
              "TN    105\n",
              "NC    105\n",
              "MS     95\n",
              "WA     91\n",
              "KY     91\n",
              "AL     90\n",
              "NE     89\n",
              "VA     84\n",
              "CO     82\n",
              "AR     77\n",
              "AZ     77\n",
              "NJ     66\n",
              "MA     62\n",
              "MT     62\n",
              "OR     60\n",
              "SC     60\n",
              "SD     58\n",
              "PR     52\n",
              "WV     49\n",
              "MD     49\n",
              "UT     46\n",
              "ND     44\n",
              "ID     42\n",
              "NM     41\n",
              "NV     35\n",
              "ME     33\n",
              "CT     31\n",
              "WY     28\n",
              "NH     26\n",
              "HI     23\n",
              "AK     22\n",
              "VT     14\n",
              "RI     10\n",
              "DC      8\n",
              "DE      7\n",
              "VI      2\n",
              "GU      2\n",
              "AS      1\n",
              "MP      1\n",
              "Name: Facility.State, dtype: int64"
            ]
          },
          "metadata": {},
          "execution_count": 266
        }
      ]
    },
    {
      "cell_type": "code",
      "source": [
        "#locate VI\n",
        "df.loc[df['Facility.State'] == 'VI']\n",
        "#looks like US territories are included in the state list, VI is Virgin Islands"
      ],
      "metadata": {
        "colab": {
          "base_uri": "https://localhost:8080/",
          "height": 246
        },
        "id": "zptbZ03N5HbO",
        "outputId": "eb506d4d-1855-4d3a-a73e-210fb556f662"
      },
      "execution_count": 267,
      "outputs": [
        {
          "output_type": "execute_result",
          "data": {
            "text/plain": [
              "                               Facility.Name Facility.City Facility.State  \\\n",
              "4326       Roy Lester Schneider Hospital,the     St Thomas             VI   \n",
              "4327  Gov Juan F Luis Hospital & Medical Ctr      St Croix             VI   \n",
              "\n",
              "     Facility.Type  Rating.Overall  Procedure.Heart.Attack.Cost  \\\n",
              "4326    Government               3                        19583   \n",
              "4327    Government               2                        20088   \n",
              "\n",
              "     Procedure.Heart.Attack.Quality Procedure.Heart.Attack.Value  \\\n",
              "4326                        Average                        Lower   \n",
              "4327                        Average                        Lower   \n",
              "\n",
              "      Procedure.Heart.Failure.Cost Procedure.Heart.Failure.Quality  \\\n",
              "4326                         11716                         Average   \n",
              "4327                         13420                         Average   \n",
              "\n",
              "     Procedure.Heart.Failure.Value  Procedure.Pneumonia.Cost  \\\n",
              "4326                         Lower                     13192   \n",
              "4327                         Lower                     13038   \n",
              "\n",
              "     Procedure.Pneumonia.Quality Procedure.Pneumonia.Value  \\\n",
              "4326                     Average                     Lower   \n",
              "4327                     Average                     Lower   \n",
              "\n",
              "      Procedure.Hip.Knee.Cost Procedure.Hip.Knee.Quality  \\\n",
              "4326                    19770                    Average   \n",
              "4327                    17725                    Average   \n",
              "\n",
              "     Procedure.Hip.Knee.Value  \n",
              "4326                    Lower  \n",
              "4327                    Lower  "
            ],
            "text/html": [
              "\n",
              "  <div id=\"df-2f294979-40f8-4923-8eb2-6809f75dde82\">\n",
              "    <div class=\"colab-df-container\">\n",
              "      <div>\n",
              "<style scoped>\n",
              "    .dataframe tbody tr th:only-of-type {\n",
              "        vertical-align: middle;\n",
              "    }\n",
              "\n",
              "    .dataframe tbody tr th {\n",
              "        vertical-align: top;\n",
              "    }\n",
              "\n",
              "    .dataframe thead th {\n",
              "        text-align: right;\n",
              "    }\n",
              "</style>\n",
              "<table border=\"1\" class=\"dataframe\">\n",
              "  <thead>\n",
              "    <tr style=\"text-align: right;\">\n",
              "      <th></th>\n",
              "      <th>Facility.Name</th>\n",
              "      <th>Facility.City</th>\n",
              "      <th>Facility.State</th>\n",
              "      <th>Facility.Type</th>\n",
              "      <th>Rating.Overall</th>\n",
              "      <th>Procedure.Heart.Attack.Cost</th>\n",
              "      <th>Procedure.Heart.Attack.Quality</th>\n",
              "      <th>Procedure.Heart.Attack.Value</th>\n",
              "      <th>Procedure.Heart.Failure.Cost</th>\n",
              "      <th>Procedure.Heart.Failure.Quality</th>\n",
              "      <th>Procedure.Heart.Failure.Value</th>\n",
              "      <th>Procedure.Pneumonia.Cost</th>\n",
              "      <th>Procedure.Pneumonia.Quality</th>\n",
              "      <th>Procedure.Pneumonia.Value</th>\n",
              "      <th>Procedure.Hip.Knee.Cost</th>\n",
              "      <th>Procedure.Hip.Knee.Quality</th>\n",
              "      <th>Procedure.Hip.Knee.Value</th>\n",
              "    </tr>\n",
              "  </thead>\n",
              "  <tbody>\n",
              "    <tr>\n",
              "      <th>4326</th>\n",
              "      <td>Roy Lester Schneider Hospital,the</td>\n",
              "      <td>St Thomas</td>\n",
              "      <td>VI</td>\n",
              "      <td>Government</td>\n",
              "      <td>3</td>\n",
              "      <td>19583</td>\n",
              "      <td>Average</td>\n",
              "      <td>Lower</td>\n",
              "      <td>11716</td>\n",
              "      <td>Average</td>\n",
              "      <td>Lower</td>\n",
              "      <td>13192</td>\n",
              "      <td>Average</td>\n",
              "      <td>Lower</td>\n",
              "      <td>19770</td>\n",
              "      <td>Average</td>\n",
              "      <td>Lower</td>\n",
              "    </tr>\n",
              "    <tr>\n",
              "      <th>4327</th>\n",
              "      <td>Gov Juan F Luis Hospital &amp; Medical Ctr</td>\n",
              "      <td>St Croix</td>\n",
              "      <td>VI</td>\n",
              "      <td>Government</td>\n",
              "      <td>2</td>\n",
              "      <td>20088</td>\n",
              "      <td>Average</td>\n",
              "      <td>Lower</td>\n",
              "      <td>13420</td>\n",
              "      <td>Average</td>\n",
              "      <td>Lower</td>\n",
              "      <td>13038</td>\n",
              "      <td>Average</td>\n",
              "      <td>Lower</td>\n",
              "      <td>17725</td>\n",
              "      <td>Average</td>\n",
              "      <td>Lower</td>\n",
              "    </tr>\n",
              "  </tbody>\n",
              "</table>\n",
              "</div>\n",
              "      <button class=\"colab-df-convert\" onclick=\"convertToInteractive('df-2f294979-40f8-4923-8eb2-6809f75dde82')\"\n",
              "              title=\"Convert this dataframe to an interactive table.\"\n",
              "              style=\"display:none;\">\n",
              "        \n",
              "  <svg xmlns=\"http://www.w3.org/2000/svg\" height=\"24px\"viewBox=\"0 0 24 24\"\n",
              "       width=\"24px\">\n",
              "    <path d=\"M0 0h24v24H0V0z\" fill=\"none\"/>\n",
              "    <path d=\"M18.56 5.44l.94 2.06.94-2.06 2.06-.94-2.06-.94-.94-2.06-.94 2.06-2.06.94zm-11 1L8.5 8.5l.94-2.06 2.06-.94-2.06-.94L8.5 2.5l-.94 2.06-2.06.94zm10 10l.94 2.06.94-2.06 2.06-.94-2.06-.94-.94-2.06-.94 2.06-2.06.94z\"/><path d=\"M17.41 7.96l-1.37-1.37c-.4-.4-.92-.59-1.43-.59-.52 0-1.04.2-1.43.59L10.3 9.45l-7.72 7.72c-.78.78-.78 2.05 0 2.83L4 21.41c.39.39.9.59 1.41.59.51 0 1.02-.2 1.41-.59l7.78-7.78 2.81-2.81c.8-.78.8-2.07 0-2.86zM5.41 20L4 18.59l7.72-7.72 1.47 1.35L5.41 20z\"/>\n",
              "  </svg>\n",
              "      </button>\n",
              "      \n",
              "  <style>\n",
              "    .colab-df-container {\n",
              "      display:flex;\n",
              "      flex-wrap:wrap;\n",
              "      gap: 12px;\n",
              "    }\n",
              "\n",
              "    .colab-df-convert {\n",
              "      background-color: #E8F0FE;\n",
              "      border: none;\n",
              "      border-radius: 50%;\n",
              "      cursor: pointer;\n",
              "      display: none;\n",
              "      fill: #1967D2;\n",
              "      height: 32px;\n",
              "      padding: 0 0 0 0;\n",
              "      width: 32px;\n",
              "    }\n",
              "\n",
              "    .colab-df-convert:hover {\n",
              "      background-color: #E2EBFA;\n",
              "      box-shadow: 0px 1px 2px rgba(60, 64, 67, 0.3), 0px 1px 3px 1px rgba(60, 64, 67, 0.15);\n",
              "      fill: #174EA6;\n",
              "    }\n",
              "\n",
              "    [theme=dark] .colab-df-convert {\n",
              "      background-color: #3B4455;\n",
              "      fill: #D2E3FC;\n",
              "    }\n",
              "\n",
              "    [theme=dark] .colab-df-convert:hover {\n",
              "      background-color: #434B5C;\n",
              "      box-shadow: 0px 1px 3px 1px rgba(0, 0, 0, 0.15);\n",
              "      filter: drop-shadow(0px 1px 2px rgba(0, 0, 0, 0.3));\n",
              "      fill: #FFFFFF;\n",
              "    }\n",
              "  </style>\n",
              "\n",
              "      <script>\n",
              "        const buttonEl =\n",
              "          document.querySelector('#df-2f294979-40f8-4923-8eb2-6809f75dde82 button.colab-df-convert');\n",
              "        buttonEl.style.display =\n",
              "          google.colab.kernel.accessAllowed ? 'block' : 'none';\n",
              "\n",
              "        async function convertToInteractive(key) {\n",
              "          const element = document.querySelector('#df-2f294979-40f8-4923-8eb2-6809f75dde82');\n",
              "          const dataTable =\n",
              "            await google.colab.kernel.invokeFunction('convertToInteractive',\n",
              "                                                     [key], {});\n",
              "          if (!dataTable) return;\n",
              "\n",
              "          const docLinkHtml = 'Like what you see? Visit the ' +\n",
              "            '<a target=\"_blank\" href=https://colab.research.google.com/notebooks/data_table.ipynb>data table notebook</a>'\n",
              "            + ' to learn more about interactive tables.';\n",
              "          element.innerHTML = '';\n",
              "          dataTable['output_type'] = 'display_data';\n",
              "          await google.colab.output.renderOutput(dataTable, element);\n",
              "          const docLink = document.createElement('div');\n",
              "          docLink.innerHTML = docLinkHtml;\n",
              "          element.appendChild(docLink);\n",
              "        }\n",
              "      </script>\n",
              "    </div>\n",
              "  </div>\n",
              "  "
            ]
          },
          "metadata": {},
          "execution_count": 267
        }
      ]
    },
    {
      "cell_type": "code",
      "source": [
        "#locate GU\n",
        "df.loc[df['Facility.State'] == 'GU']\n",
        "#GU is Guam"
      ],
      "metadata": {
        "colab": {
          "base_uri": "https://localhost:8080/",
          "height": 228
        },
        "id": "p-vwQuTr5efW",
        "outputId": "1e288aea-a285-458a-b695-4596f19a2813"
      },
      "execution_count": 268,
      "outputs": [
        {
          "output_type": "execute_result",
          "data": {
            "text/plain": [
              "                         Facility.Name Facility.City Facility.State  \\\n",
              "4704  Guam Memorial Hospital Authority      Tamuning             GU   \n",
              "4705        Guam Regional Medical City        Dededo             GU   \n",
              "\n",
              "     Facility.Type  Rating.Overall  Procedure.Heart.Attack.Cost  \\\n",
              "4704    Government              -1                        14241   \n",
              "4705       Private              -1                            0   \n",
              "\n",
              "     Procedure.Heart.Attack.Quality Procedure.Heart.Attack.Value  \\\n",
              "4704                        Average                        Lower   \n",
              "4705                        Unknown                      Unknown   \n",
              "\n",
              "      Procedure.Heart.Failure.Cost Procedure.Heart.Failure.Quality  \\\n",
              "4704                         12685                         Average   \n",
              "4705                             0                         Unknown   \n",
              "\n",
              "     Procedure.Heart.Failure.Value  Procedure.Pneumonia.Cost  \\\n",
              "4704                         Lower                     12413   \n",
              "4705                       Unknown                         0   \n",
              "\n",
              "     Procedure.Pneumonia.Quality Procedure.Pneumonia.Value  \\\n",
              "4704                     Average                     Lower   \n",
              "4705                     Unknown                   Unknown   \n",
              "\n",
              "      Procedure.Hip.Knee.Cost Procedure.Hip.Knee.Quality  \\\n",
              "4704                        0                    Unknown   \n",
              "4705                        0                    Unknown   \n",
              "\n",
              "     Procedure.Hip.Knee.Value  \n",
              "4704                  Unknown  \n",
              "4705                  Unknown  "
            ],
            "text/html": [
              "\n",
              "  <div id=\"df-98187db0-40cd-47b0-9588-a424edbab3db\">\n",
              "    <div class=\"colab-df-container\">\n",
              "      <div>\n",
              "<style scoped>\n",
              "    .dataframe tbody tr th:only-of-type {\n",
              "        vertical-align: middle;\n",
              "    }\n",
              "\n",
              "    .dataframe tbody tr th {\n",
              "        vertical-align: top;\n",
              "    }\n",
              "\n",
              "    .dataframe thead th {\n",
              "        text-align: right;\n",
              "    }\n",
              "</style>\n",
              "<table border=\"1\" class=\"dataframe\">\n",
              "  <thead>\n",
              "    <tr style=\"text-align: right;\">\n",
              "      <th></th>\n",
              "      <th>Facility.Name</th>\n",
              "      <th>Facility.City</th>\n",
              "      <th>Facility.State</th>\n",
              "      <th>Facility.Type</th>\n",
              "      <th>Rating.Overall</th>\n",
              "      <th>Procedure.Heart.Attack.Cost</th>\n",
              "      <th>Procedure.Heart.Attack.Quality</th>\n",
              "      <th>Procedure.Heart.Attack.Value</th>\n",
              "      <th>Procedure.Heart.Failure.Cost</th>\n",
              "      <th>Procedure.Heart.Failure.Quality</th>\n",
              "      <th>Procedure.Heart.Failure.Value</th>\n",
              "      <th>Procedure.Pneumonia.Cost</th>\n",
              "      <th>Procedure.Pneumonia.Quality</th>\n",
              "      <th>Procedure.Pneumonia.Value</th>\n",
              "      <th>Procedure.Hip.Knee.Cost</th>\n",
              "      <th>Procedure.Hip.Knee.Quality</th>\n",
              "      <th>Procedure.Hip.Knee.Value</th>\n",
              "    </tr>\n",
              "  </thead>\n",
              "  <tbody>\n",
              "    <tr>\n",
              "      <th>4704</th>\n",
              "      <td>Guam Memorial Hospital Authority</td>\n",
              "      <td>Tamuning</td>\n",
              "      <td>GU</td>\n",
              "      <td>Government</td>\n",
              "      <td>-1</td>\n",
              "      <td>14241</td>\n",
              "      <td>Average</td>\n",
              "      <td>Lower</td>\n",
              "      <td>12685</td>\n",
              "      <td>Average</td>\n",
              "      <td>Lower</td>\n",
              "      <td>12413</td>\n",
              "      <td>Average</td>\n",
              "      <td>Lower</td>\n",
              "      <td>0</td>\n",
              "      <td>Unknown</td>\n",
              "      <td>Unknown</td>\n",
              "    </tr>\n",
              "    <tr>\n",
              "      <th>4705</th>\n",
              "      <td>Guam Regional Medical City</td>\n",
              "      <td>Dededo</td>\n",
              "      <td>GU</td>\n",
              "      <td>Private</td>\n",
              "      <td>-1</td>\n",
              "      <td>0</td>\n",
              "      <td>Unknown</td>\n",
              "      <td>Unknown</td>\n",
              "      <td>0</td>\n",
              "      <td>Unknown</td>\n",
              "      <td>Unknown</td>\n",
              "      <td>0</td>\n",
              "      <td>Unknown</td>\n",
              "      <td>Unknown</td>\n",
              "      <td>0</td>\n",
              "      <td>Unknown</td>\n",
              "      <td>Unknown</td>\n",
              "    </tr>\n",
              "  </tbody>\n",
              "</table>\n",
              "</div>\n",
              "      <button class=\"colab-df-convert\" onclick=\"convertToInteractive('df-98187db0-40cd-47b0-9588-a424edbab3db')\"\n",
              "              title=\"Convert this dataframe to an interactive table.\"\n",
              "              style=\"display:none;\">\n",
              "        \n",
              "  <svg xmlns=\"http://www.w3.org/2000/svg\" height=\"24px\"viewBox=\"0 0 24 24\"\n",
              "       width=\"24px\">\n",
              "    <path d=\"M0 0h24v24H0V0z\" fill=\"none\"/>\n",
              "    <path d=\"M18.56 5.44l.94 2.06.94-2.06 2.06-.94-2.06-.94-.94-2.06-.94 2.06-2.06.94zm-11 1L8.5 8.5l.94-2.06 2.06-.94-2.06-.94L8.5 2.5l-.94 2.06-2.06.94zm10 10l.94 2.06.94-2.06 2.06-.94-2.06-.94-.94-2.06-.94 2.06-2.06.94z\"/><path d=\"M17.41 7.96l-1.37-1.37c-.4-.4-.92-.59-1.43-.59-.52 0-1.04.2-1.43.59L10.3 9.45l-7.72 7.72c-.78.78-.78 2.05 0 2.83L4 21.41c.39.39.9.59 1.41.59.51 0 1.02-.2 1.41-.59l7.78-7.78 2.81-2.81c.8-.78.8-2.07 0-2.86zM5.41 20L4 18.59l7.72-7.72 1.47 1.35L5.41 20z\"/>\n",
              "  </svg>\n",
              "      </button>\n",
              "      \n",
              "  <style>\n",
              "    .colab-df-container {\n",
              "      display:flex;\n",
              "      flex-wrap:wrap;\n",
              "      gap: 12px;\n",
              "    }\n",
              "\n",
              "    .colab-df-convert {\n",
              "      background-color: #E8F0FE;\n",
              "      border: none;\n",
              "      border-radius: 50%;\n",
              "      cursor: pointer;\n",
              "      display: none;\n",
              "      fill: #1967D2;\n",
              "      height: 32px;\n",
              "      padding: 0 0 0 0;\n",
              "      width: 32px;\n",
              "    }\n",
              "\n",
              "    .colab-df-convert:hover {\n",
              "      background-color: #E2EBFA;\n",
              "      box-shadow: 0px 1px 2px rgba(60, 64, 67, 0.3), 0px 1px 3px 1px rgba(60, 64, 67, 0.15);\n",
              "      fill: #174EA6;\n",
              "    }\n",
              "\n",
              "    [theme=dark] .colab-df-convert {\n",
              "      background-color: #3B4455;\n",
              "      fill: #D2E3FC;\n",
              "    }\n",
              "\n",
              "    [theme=dark] .colab-df-convert:hover {\n",
              "      background-color: #434B5C;\n",
              "      box-shadow: 0px 1px 3px 1px rgba(0, 0, 0, 0.15);\n",
              "      filter: drop-shadow(0px 1px 2px rgba(0, 0, 0, 0.3));\n",
              "      fill: #FFFFFF;\n",
              "    }\n",
              "  </style>\n",
              "\n",
              "      <script>\n",
              "        const buttonEl =\n",
              "          document.querySelector('#df-98187db0-40cd-47b0-9588-a424edbab3db button.colab-df-convert');\n",
              "        buttonEl.style.display =\n",
              "          google.colab.kernel.accessAllowed ? 'block' : 'none';\n",
              "\n",
              "        async function convertToInteractive(key) {\n",
              "          const element = document.querySelector('#df-98187db0-40cd-47b0-9588-a424edbab3db');\n",
              "          const dataTable =\n",
              "            await google.colab.kernel.invokeFunction('convertToInteractive',\n",
              "                                                     [key], {});\n",
              "          if (!dataTable) return;\n",
              "\n",
              "          const docLinkHtml = 'Like what you see? Visit the ' +\n",
              "            '<a target=\"_blank\" href=https://colab.research.google.com/notebooks/data_table.ipynb>data table notebook</a>'\n",
              "            + ' to learn more about interactive tables.';\n",
              "          element.innerHTML = '';\n",
              "          dataTable['output_type'] = 'display_data';\n",
              "          await google.colab.output.renderOutput(dataTable, element);\n",
              "          const docLink = document.createElement('div');\n",
              "          docLink.innerHTML = docLinkHtml;\n",
              "          element.appendChild(docLink);\n",
              "        }\n",
              "      </script>\n",
              "    </div>\n",
              "  </div>\n",
              "  "
            ]
          },
          "metadata": {},
          "execution_count": 268
        }
      ]
    },
    {
      "cell_type": "code",
      "source": [
        "#locate AS\n",
        "df.loc[df['Facility.State'] == 'AS']\n",
        "#AS is American Samoa"
      ],
      "metadata": {
        "colab": {
          "base_uri": "https://localhost:8080/",
          "height": 162
        },
        "id": "h220lt2_5oXU",
        "outputId": "d9fede8f-d7b8-4f55-bbf6-1b28c5c04fed"
      },
      "execution_count": 269,
      "outputs": [
        {
          "output_type": "execute_result",
          "data": {
            "text/plain": [
              "                    Facility.Name Facility.City Facility.State Facility.Type  \\\n",
              "4703  Lbj Tropical Medical Center     Pago Pago             AS    Government   \n",
              "\n",
              "      Rating.Overall  Procedure.Heart.Attack.Cost  \\\n",
              "4703              -1                            0   \n",
              "\n",
              "     Procedure.Heart.Attack.Quality Procedure.Heart.Attack.Value  \\\n",
              "4703                        Unknown                      Unknown   \n",
              "\n",
              "      Procedure.Heart.Failure.Cost Procedure.Heart.Failure.Quality  \\\n",
              "4703                             0                         Unknown   \n",
              "\n",
              "     Procedure.Heart.Failure.Value  Procedure.Pneumonia.Cost  \\\n",
              "4703                       Unknown                         0   \n",
              "\n",
              "     Procedure.Pneumonia.Quality Procedure.Pneumonia.Value  \\\n",
              "4703                     Unknown                   Unknown   \n",
              "\n",
              "      Procedure.Hip.Knee.Cost Procedure.Hip.Knee.Quality  \\\n",
              "4703                        0                    Unknown   \n",
              "\n",
              "     Procedure.Hip.Knee.Value  \n",
              "4703                  Unknown  "
            ],
            "text/html": [
              "\n",
              "  <div id=\"df-810843e8-9e9d-4fc9-a84b-4a25b0ae00cb\">\n",
              "    <div class=\"colab-df-container\">\n",
              "      <div>\n",
              "<style scoped>\n",
              "    .dataframe tbody tr th:only-of-type {\n",
              "        vertical-align: middle;\n",
              "    }\n",
              "\n",
              "    .dataframe tbody tr th {\n",
              "        vertical-align: top;\n",
              "    }\n",
              "\n",
              "    .dataframe thead th {\n",
              "        text-align: right;\n",
              "    }\n",
              "</style>\n",
              "<table border=\"1\" class=\"dataframe\">\n",
              "  <thead>\n",
              "    <tr style=\"text-align: right;\">\n",
              "      <th></th>\n",
              "      <th>Facility.Name</th>\n",
              "      <th>Facility.City</th>\n",
              "      <th>Facility.State</th>\n",
              "      <th>Facility.Type</th>\n",
              "      <th>Rating.Overall</th>\n",
              "      <th>Procedure.Heart.Attack.Cost</th>\n",
              "      <th>Procedure.Heart.Attack.Quality</th>\n",
              "      <th>Procedure.Heart.Attack.Value</th>\n",
              "      <th>Procedure.Heart.Failure.Cost</th>\n",
              "      <th>Procedure.Heart.Failure.Quality</th>\n",
              "      <th>Procedure.Heart.Failure.Value</th>\n",
              "      <th>Procedure.Pneumonia.Cost</th>\n",
              "      <th>Procedure.Pneumonia.Quality</th>\n",
              "      <th>Procedure.Pneumonia.Value</th>\n",
              "      <th>Procedure.Hip.Knee.Cost</th>\n",
              "      <th>Procedure.Hip.Knee.Quality</th>\n",
              "      <th>Procedure.Hip.Knee.Value</th>\n",
              "    </tr>\n",
              "  </thead>\n",
              "  <tbody>\n",
              "    <tr>\n",
              "      <th>4703</th>\n",
              "      <td>Lbj Tropical Medical Center</td>\n",
              "      <td>Pago Pago</td>\n",
              "      <td>AS</td>\n",
              "      <td>Government</td>\n",
              "      <td>-1</td>\n",
              "      <td>0</td>\n",
              "      <td>Unknown</td>\n",
              "      <td>Unknown</td>\n",
              "      <td>0</td>\n",
              "      <td>Unknown</td>\n",
              "      <td>Unknown</td>\n",
              "      <td>0</td>\n",
              "      <td>Unknown</td>\n",
              "      <td>Unknown</td>\n",
              "      <td>0</td>\n",
              "      <td>Unknown</td>\n",
              "      <td>Unknown</td>\n",
              "    </tr>\n",
              "  </tbody>\n",
              "</table>\n",
              "</div>\n",
              "      <button class=\"colab-df-convert\" onclick=\"convertToInteractive('df-810843e8-9e9d-4fc9-a84b-4a25b0ae00cb')\"\n",
              "              title=\"Convert this dataframe to an interactive table.\"\n",
              "              style=\"display:none;\">\n",
              "        \n",
              "  <svg xmlns=\"http://www.w3.org/2000/svg\" height=\"24px\"viewBox=\"0 0 24 24\"\n",
              "       width=\"24px\">\n",
              "    <path d=\"M0 0h24v24H0V0z\" fill=\"none\"/>\n",
              "    <path d=\"M18.56 5.44l.94 2.06.94-2.06 2.06-.94-2.06-.94-.94-2.06-.94 2.06-2.06.94zm-11 1L8.5 8.5l.94-2.06 2.06-.94-2.06-.94L8.5 2.5l-.94 2.06-2.06.94zm10 10l.94 2.06.94-2.06 2.06-.94-2.06-.94-.94-2.06-.94 2.06-2.06.94z\"/><path d=\"M17.41 7.96l-1.37-1.37c-.4-.4-.92-.59-1.43-.59-.52 0-1.04.2-1.43.59L10.3 9.45l-7.72 7.72c-.78.78-.78 2.05 0 2.83L4 21.41c.39.39.9.59 1.41.59.51 0 1.02-.2 1.41-.59l7.78-7.78 2.81-2.81c.8-.78.8-2.07 0-2.86zM5.41 20L4 18.59l7.72-7.72 1.47 1.35L5.41 20z\"/>\n",
              "  </svg>\n",
              "      </button>\n",
              "      \n",
              "  <style>\n",
              "    .colab-df-container {\n",
              "      display:flex;\n",
              "      flex-wrap:wrap;\n",
              "      gap: 12px;\n",
              "    }\n",
              "\n",
              "    .colab-df-convert {\n",
              "      background-color: #E8F0FE;\n",
              "      border: none;\n",
              "      border-radius: 50%;\n",
              "      cursor: pointer;\n",
              "      display: none;\n",
              "      fill: #1967D2;\n",
              "      height: 32px;\n",
              "      padding: 0 0 0 0;\n",
              "      width: 32px;\n",
              "    }\n",
              "\n",
              "    .colab-df-convert:hover {\n",
              "      background-color: #E2EBFA;\n",
              "      box-shadow: 0px 1px 2px rgba(60, 64, 67, 0.3), 0px 1px 3px 1px rgba(60, 64, 67, 0.15);\n",
              "      fill: #174EA6;\n",
              "    }\n",
              "\n",
              "    [theme=dark] .colab-df-convert {\n",
              "      background-color: #3B4455;\n",
              "      fill: #D2E3FC;\n",
              "    }\n",
              "\n",
              "    [theme=dark] .colab-df-convert:hover {\n",
              "      background-color: #434B5C;\n",
              "      box-shadow: 0px 1px 3px 1px rgba(0, 0, 0, 0.15);\n",
              "      filter: drop-shadow(0px 1px 2px rgba(0, 0, 0, 0.3));\n",
              "      fill: #FFFFFF;\n",
              "    }\n",
              "  </style>\n",
              "\n",
              "      <script>\n",
              "        const buttonEl =\n",
              "          document.querySelector('#df-810843e8-9e9d-4fc9-a84b-4a25b0ae00cb button.colab-df-convert');\n",
              "        buttonEl.style.display =\n",
              "          google.colab.kernel.accessAllowed ? 'block' : 'none';\n",
              "\n",
              "        async function convertToInteractive(key) {\n",
              "          const element = document.querySelector('#df-810843e8-9e9d-4fc9-a84b-4a25b0ae00cb');\n",
              "          const dataTable =\n",
              "            await google.colab.kernel.invokeFunction('convertToInteractive',\n",
              "                                                     [key], {});\n",
              "          if (!dataTable) return;\n",
              "\n",
              "          const docLinkHtml = 'Like what you see? Visit the ' +\n",
              "            '<a target=\"_blank\" href=https://colab.research.google.com/notebooks/data_table.ipynb>data table notebook</a>'\n",
              "            + ' to learn more about interactive tables.';\n",
              "          element.innerHTML = '';\n",
              "          dataTable['output_type'] = 'display_data';\n",
              "          await google.colab.output.renderOutput(dataTable, element);\n",
              "          const docLink = document.createElement('div');\n",
              "          docLink.innerHTML = docLinkHtml;\n",
              "          element.appendChild(docLink);\n",
              "        }\n",
              "      </script>\n",
              "    </div>\n",
              "  </div>\n",
              "  "
            ]
          },
          "metadata": {},
          "execution_count": 269
        }
      ]
    },
    {
      "cell_type": "code",
      "source": [
        "#locate MP\n",
        "df.loc[df['Facility.State'] == 'MP']\n",
        "#MP is Northern Mariana Islands"
      ],
      "metadata": {
        "colab": {
          "base_uri": "https://localhost:8080/",
          "height": 162
        },
        "id": "TGeFTfIR5o-j",
        "outputId": "1ea4fe0b-be14-4457-bdb2-b8a10b0ad6ba"
      },
      "execution_count": 270,
      "outputs": [
        {
          "output_type": "execute_result",
          "data": {
            "text/plain": [
              "                   Facility.Name Facility.City Facility.State Facility.Type  \\\n",
              "4706  Commonwealth Health Center       Garapan             MP   Proprietary   \n",
              "\n",
              "      Rating.Overall  Procedure.Heart.Attack.Cost  \\\n",
              "4706              -1                        15702   \n",
              "\n",
              "     Procedure.Heart.Attack.Quality Procedure.Heart.Attack.Value  \\\n",
              "4706                        Average                        Lower   \n",
              "\n",
              "      Procedure.Heart.Failure.Cost Procedure.Heart.Failure.Quality  \\\n",
              "4706                         14173                         Average   \n",
              "\n",
              "     Procedure.Heart.Failure.Value  Procedure.Pneumonia.Cost  \\\n",
              "4706                         Lower                     11087   \n",
              "\n",
              "     Procedure.Pneumonia.Quality Procedure.Pneumonia.Value  \\\n",
              "4706                       Worse                     Lower   \n",
              "\n",
              "      Procedure.Hip.Knee.Cost Procedure.Hip.Knee.Quality  \\\n",
              "4706                        0                    Unknown   \n",
              "\n",
              "     Procedure.Hip.Knee.Value  \n",
              "4706                  Unknown  "
            ],
            "text/html": [
              "\n",
              "  <div id=\"df-bba2a99a-67f0-4ae0-9a3b-a3606b735fc0\">\n",
              "    <div class=\"colab-df-container\">\n",
              "      <div>\n",
              "<style scoped>\n",
              "    .dataframe tbody tr th:only-of-type {\n",
              "        vertical-align: middle;\n",
              "    }\n",
              "\n",
              "    .dataframe tbody tr th {\n",
              "        vertical-align: top;\n",
              "    }\n",
              "\n",
              "    .dataframe thead th {\n",
              "        text-align: right;\n",
              "    }\n",
              "</style>\n",
              "<table border=\"1\" class=\"dataframe\">\n",
              "  <thead>\n",
              "    <tr style=\"text-align: right;\">\n",
              "      <th></th>\n",
              "      <th>Facility.Name</th>\n",
              "      <th>Facility.City</th>\n",
              "      <th>Facility.State</th>\n",
              "      <th>Facility.Type</th>\n",
              "      <th>Rating.Overall</th>\n",
              "      <th>Procedure.Heart.Attack.Cost</th>\n",
              "      <th>Procedure.Heart.Attack.Quality</th>\n",
              "      <th>Procedure.Heart.Attack.Value</th>\n",
              "      <th>Procedure.Heart.Failure.Cost</th>\n",
              "      <th>Procedure.Heart.Failure.Quality</th>\n",
              "      <th>Procedure.Heart.Failure.Value</th>\n",
              "      <th>Procedure.Pneumonia.Cost</th>\n",
              "      <th>Procedure.Pneumonia.Quality</th>\n",
              "      <th>Procedure.Pneumonia.Value</th>\n",
              "      <th>Procedure.Hip.Knee.Cost</th>\n",
              "      <th>Procedure.Hip.Knee.Quality</th>\n",
              "      <th>Procedure.Hip.Knee.Value</th>\n",
              "    </tr>\n",
              "  </thead>\n",
              "  <tbody>\n",
              "    <tr>\n",
              "      <th>4706</th>\n",
              "      <td>Commonwealth Health Center</td>\n",
              "      <td>Garapan</td>\n",
              "      <td>MP</td>\n",
              "      <td>Proprietary</td>\n",
              "      <td>-1</td>\n",
              "      <td>15702</td>\n",
              "      <td>Average</td>\n",
              "      <td>Lower</td>\n",
              "      <td>14173</td>\n",
              "      <td>Average</td>\n",
              "      <td>Lower</td>\n",
              "      <td>11087</td>\n",
              "      <td>Worse</td>\n",
              "      <td>Lower</td>\n",
              "      <td>0</td>\n",
              "      <td>Unknown</td>\n",
              "      <td>Unknown</td>\n",
              "    </tr>\n",
              "  </tbody>\n",
              "</table>\n",
              "</div>\n",
              "      <button class=\"colab-df-convert\" onclick=\"convertToInteractive('df-bba2a99a-67f0-4ae0-9a3b-a3606b735fc0')\"\n",
              "              title=\"Convert this dataframe to an interactive table.\"\n",
              "              style=\"display:none;\">\n",
              "        \n",
              "  <svg xmlns=\"http://www.w3.org/2000/svg\" height=\"24px\"viewBox=\"0 0 24 24\"\n",
              "       width=\"24px\">\n",
              "    <path d=\"M0 0h24v24H0V0z\" fill=\"none\"/>\n",
              "    <path d=\"M18.56 5.44l.94 2.06.94-2.06 2.06-.94-2.06-.94-.94-2.06-.94 2.06-2.06.94zm-11 1L8.5 8.5l.94-2.06 2.06-.94-2.06-.94L8.5 2.5l-.94 2.06-2.06.94zm10 10l.94 2.06.94-2.06 2.06-.94-2.06-.94-.94-2.06-.94 2.06-2.06.94z\"/><path d=\"M17.41 7.96l-1.37-1.37c-.4-.4-.92-.59-1.43-.59-.52 0-1.04.2-1.43.59L10.3 9.45l-7.72 7.72c-.78.78-.78 2.05 0 2.83L4 21.41c.39.39.9.59 1.41.59.51 0 1.02-.2 1.41-.59l7.78-7.78 2.81-2.81c.8-.78.8-2.07 0-2.86zM5.41 20L4 18.59l7.72-7.72 1.47 1.35L5.41 20z\"/>\n",
              "  </svg>\n",
              "      </button>\n",
              "      \n",
              "  <style>\n",
              "    .colab-df-container {\n",
              "      display:flex;\n",
              "      flex-wrap:wrap;\n",
              "      gap: 12px;\n",
              "    }\n",
              "\n",
              "    .colab-df-convert {\n",
              "      background-color: #E8F0FE;\n",
              "      border: none;\n",
              "      border-radius: 50%;\n",
              "      cursor: pointer;\n",
              "      display: none;\n",
              "      fill: #1967D2;\n",
              "      height: 32px;\n",
              "      padding: 0 0 0 0;\n",
              "      width: 32px;\n",
              "    }\n",
              "\n",
              "    .colab-df-convert:hover {\n",
              "      background-color: #E2EBFA;\n",
              "      box-shadow: 0px 1px 2px rgba(60, 64, 67, 0.3), 0px 1px 3px 1px rgba(60, 64, 67, 0.15);\n",
              "      fill: #174EA6;\n",
              "    }\n",
              "\n",
              "    [theme=dark] .colab-df-convert {\n",
              "      background-color: #3B4455;\n",
              "      fill: #D2E3FC;\n",
              "    }\n",
              "\n",
              "    [theme=dark] .colab-df-convert:hover {\n",
              "      background-color: #434B5C;\n",
              "      box-shadow: 0px 1px 3px 1px rgba(0, 0, 0, 0.15);\n",
              "      filter: drop-shadow(0px 1px 2px rgba(0, 0, 0, 0.3));\n",
              "      fill: #FFFFFF;\n",
              "    }\n",
              "  </style>\n",
              "\n",
              "      <script>\n",
              "        const buttonEl =\n",
              "          document.querySelector('#df-bba2a99a-67f0-4ae0-9a3b-a3606b735fc0 button.colab-df-convert');\n",
              "        buttonEl.style.display =\n",
              "          google.colab.kernel.accessAllowed ? 'block' : 'none';\n",
              "\n",
              "        async function convertToInteractive(key) {\n",
              "          const element = document.querySelector('#df-bba2a99a-67f0-4ae0-9a3b-a3606b735fc0');\n",
              "          const dataTable =\n",
              "            await google.colab.kernel.invokeFunction('convertToInteractive',\n",
              "                                                     [key], {});\n",
              "          if (!dataTable) return;\n",
              "\n",
              "          const docLinkHtml = 'Like what you see? Visit the ' +\n",
              "            '<a target=\"_blank\" href=https://colab.research.google.com/notebooks/data_table.ipynb>data table notebook</a>'\n",
              "            + ' to learn more about interactive tables.';\n",
              "          element.innerHTML = '';\n",
              "          dataTable['output_type'] = 'display_data';\n",
              "          await google.colab.output.renderOutput(dataTable, element);\n",
              "          const docLink = document.createElement('div');\n",
              "          docLink.innerHTML = docLinkHtml;\n",
              "          element.appendChild(docLink);\n",
              "        }\n",
              "      </script>\n",
              "    </div>\n",
              "  </div>\n",
              "  "
            ]
          },
          "metadata": {},
          "execution_count": 270
        }
      ]
    },
    {
      "cell_type": "markdown",
      "source": [
        "US territories listed plus Puerto Rico and DC adds up to 56 for this column"
      ],
      "metadata": {
        "id": "TS_LJFR774C0"
      }
    },
    {
      "cell_type": "code",
      "source": [
        "#Kind of organization operating the hospital: one of Government, Private, Proprietary, Church, or Unknown\n",
        "df['Facility.Type'].value_counts()"
      ],
      "metadata": {
        "colab": {
          "base_uri": "https://localhost:8080/"
        },
        "id": "gQgH1EKF2b7g",
        "outputId": "3a8974bc-80de-440d-e2dc-db900dfe5d82"
      },
      "execution_count": 271,
      "outputs": [
        {
          "output_type": "execute_result",
          "data": {
            "text/plain": [
              "Private        2078\n",
              "Government     1064\n",
              "Proprietary     796\n",
              "Unknown         506\n",
              "Church          328\n",
              "Name: Facility.Type, dtype: int64"
            ]
          },
          "metadata": {},
          "execution_count": 271
        }
      ]
    },
    {
      "cell_type": "markdown",
      "source": [
        "Change ordinal columns to numeric to make visualizations easier to understand"
      ],
      "metadata": {
        "id": "-7beGoBj8L-q"
      }
    },
    {
      "cell_type": "code",
      "source": [
        "#Overall rating between 1 and 5 stars, with 5 stars being the highest rating; -1 represents no rating.\n",
        "df['Rating.Overall'].value_counts()"
      ],
      "metadata": {
        "colab": {
          "base_uri": "https://localhost:8080/"
        },
        "id": "_TYnwL_g22SW",
        "outputId": "2655e512-bcf6-44c2-f3b2-3e8b0d4f0fd5"
      },
      "execution_count": 272,
      "outputs": [
        {
          "output_type": "execute_result",
          "data": {
            "text/plain": [
              " 3    1258\n",
              " 4    1087\n",
              "-1    1057\n",
              " 2     797\n",
              " 5     292\n",
              " 1     281\n",
              "Name: Rating.Overall, dtype: int64"
            ]
          },
          "metadata": {},
          "execution_count": 272
        }
      ]
    },
    {
      "cell_type": "code",
      "source": [
        "#create dictionary to fix -1 rating to 0 to represent no rating in Rating.Overall Column\n",
        "df['Rating.Overall'] = df['Rating.Overall'].replace(['-1'],'0')\n",
        "df['Rating.Overall'].replace({'-1': 0,}, inplace=True)"
      ],
      "metadata": {
        "id": "X4btmrMd9Zzy"
      },
      "execution_count": 273,
      "outputs": []
    },
    {
      "cell_type": "code",
      "source": [
        "df['Rating.Overall'].value_counts()"
      ],
      "metadata": {
        "colab": {
          "base_uri": "https://localhost:8080/"
        },
        "id": "YuklaPy--UNx",
        "outputId": "ecaa9e6d-bb9e-4fc4-ba0f-ae1b95e6c85e"
      },
      "execution_count": 274,
      "outputs": [
        {
          "output_type": "execute_result",
          "data": {
            "text/plain": [
              " 3    1258\n",
              " 4    1087\n",
              "-1    1057\n",
              " 2     797\n",
              " 5     292\n",
              " 1     281\n",
              "Name: Rating.Overall, dtype: int64"
            ]
          },
          "metadata": {},
          "execution_count": 274
        }
      ]
    },
    {
      "cell_type": "code",
      "source": [
        "#Changing type to integer\n",
        "df = df.astype({\"Rating.Overall\":'int'})"
      ],
      "metadata": {
        "id": "pBH2vFUGOxf3"
      },
      "execution_count": 275,
      "outputs": []
    },
    {
      "cell_type": "code",
      "source": [
        "#Better, Average, Worse, or Unknown\n",
        "df['Procedure.Heart.Attack.Value'].replace({'Unknown': 0, 'None': 0, 'Worse': 1, 'Lower': 1, 'Average': 2, 'Higher': 3, 'Better': 3}, inplace=True)\n",
        "df['Procedure.Heart.Attack.Quality'].replace({'Unknown': 0, 'None': 0, 'Worse': 1, 'Average': 2, 'Higher': 3, 'Better': 3}, inplace=True)\n",
        "df['Procedure.Heart.Failure.Quality'].replace({'Unknown': 0, 'None': 0, 'Worse': 1, 'Average': 2, 'Higher': 3, 'Better': 3}, inplace=True)\n",
        "df['Procedure.Heart.Failure.Value'].replace({'Unknown': 0, 'None': 0, 'Worse': 1, 'Average': 2, 'Lower': 1, 'Higher': 3, 'Better': 3}, inplace=True)\n",
        "df['Procedure.Pneumonia.Quality'].replace({'Unknown': 0, 'None': 0, 'Worse': 1, 'Average': 2, 'Higher': 3, 'Better': 3}, inplace=True)\n",
        "df['Procedure.Pneumonia.Value'].replace({'Unknown': 0, 'None': 0, 'Worse': 1, 'Lower': 1, 'Average': 2, 'Higher': 3, 'Better': 3}, inplace=True)\n",
        "df['Procedure.Hip.Knee.Quality'].replace({'Unknown': 0, 'None': 0, 'Worse': 1, 'Average': 2, 'Higher': 3, 'Better': 3}, inplace=True)\n",
        "df['Procedure.Hip.Knee.Value'].replace({'Unknown': 0, 'None': 0, 'Worse': 1, 'Lower': 1, 'Average': 2, 'Higher': 3, 'Better': 3}, inplace=True)"
      ],
      "metadata": {
        "id": "XBa_xaXWKckV"
      },
      "execution_count": 293,
      "outputs": []
    },
    {
      "cell_type": "code",
      "source": [
        "#reviewing to confirm change\n",
        "df['Procedure.Heart.Attack.Quality'].value_counts()"
      ],
      "metadata": {
        "colab": {
          "base_uri": "https://localhost:8080/"
        },
        "id": "kBcEH5i9NtEa",
        "outputId": "92d7e196-1c32-4069-f33d-12e70e931a1f"
      },
      "execution_count": 278,
      "outputs": [
        {
          "output_type": "execute_result",
          "data": {
            "text/plain": [
              "0    2506\n",
              "2    2197\n",
              "3      45\n",
              "1      24\n",
              "Name: Procedure.Heart.Attack.Quality, dtype: int64"
            ]
          },
          "metadata": {},
          "execution_count": 278
        }
      ]
    },
    {
      "cell_type": "code",
      "source": [
        "df['Procedure.Heart.Attack.Value'].value_counts()"
      ],
      "metadata": {
        "colab": {
          "base_uri": "https://localhost:8080/"
        },
        "id": "MozFrQ7bFtDS",
        "outputId": "13ee1499-5303-4ef8-8192-fac66580077f"
      },
      "execution_count": 281,
      "outputs": [
        {
          "output_type": "execute_result",
          "data": {
            "text/plain": [
              "0    2506\n",
              "2    1875\n",
              "3     199\n",
              "1     192\n",
              "Name: Procedure.Heart.Attack.Value, dtype: int64"
            ]
          },
          "metadata": {},
          "execution_count": 281
        }
      ]
    },
    {
      "cell_type": "code",
      "source": [
        "df['Procedure.Heart.Failure.Quality'].value_counts()"
      ],
      "metadata": {
        "colab": {
          "base_uri": "https://localhost:8080/"
        },
        "id": "Zg6CUWfYH89F",
        "outputId": "2389acbe-3c91-488f-c938-e0c6edecb533"
      },
      "execution_count": 282,
      "outputs": [
        {
          "output_type": "execute_result",
          "data": {
            "text/plain": [
              "2    3141\n",
              "0    1300\n",
              "3     196\n",
              "1     135\n",
              "Name: Procedure.Heart.Failure.Quality, dtype: int64"
            ]
          },
          "metadata": {},
          "execution_count": 282
        }
      ]
    },
    {
      "cell_type": "code",
      "source": [
        "df['Procedure.Heart.Failure.Value'].value_counts()"
      ],
      "metadata": {
        "colab": {
          "base_uri": "https://localhost:8080/"
        },
        "id": "l471bVizIHkT",
        "outputId": "ffc7cc21-f4c3-4e9e-a989-e6b478cd3656"
      },
      "execution_count": 285,
      "outputs": [
        {
          "output_type": "execute_result",
          "data": {
            "text/plain": [
              "2    2522\n",
              "0    1300\n",
              "3     536\n",
              "1     414\n",
              "Name: Procedure.Heart.Failure.Value, dtype: int64"
            ]
          },
          "metadata": {},
          "execution_count": 285
        }
      ]
    },
    {
      "cell_type": "code",
      "source": [
        "df['Procedure.Pneumonia.Quality'].value_counts()"
      ],
      "metadata": {
        "colab": {
          "base_uri": "https://localhost:8080/"
        },
        "id": "qugSxTw_ITB9",
        "outputId": "7b654a57-96e5-4402-bbb3-3921e4994295"
      },
      "execution_count": 286,
      "outputs": [
        {
          "output_type": "execute_result",
          "data": {
            "text/plain": [
              "2    3555\n",
              "0     759\n",
              "1     239\n",
              "3     219\n",
              "Name: Procedure.Pneumonia.Quality, dtype: int64"
            ]
          },
          "metadata": {},
          "execution_count": 286
        }
      ]
    },
    {
      "cell_type": "code",
      "source": [
        "df['Procedure.Pneumonia.Value'].value_counts()"
      ],
      "metadata": {
        "colab": {
          "base_uri": "https://localhost:8080/"
        },
        "id": "y8q3VmCEIY0H",
        "outputId": "5e056607-3c94-4550-ac06-89e5718be84a"
      },
      "execution_count": 291,
      "outputs": [
        {
          "output_type": "execute_result",
          "data": {
            "text/plain": [
              "2    2338\n",
              "1     868\n",
              "3     807\n",
              "0     759\n",
              "Name: Procedure.Pneumonia.Value, dtype: int64"
            ]
          },
          "metadata": {},
          "execution_count": 291
        }
      ]
    },
    {
      "cell_type": "code",
      "source": [
        "df['Procedure.Hip.Knee.Quality'].value_counts()"
      ],
      "metadata": {
        "colab": {
          "base_uri": "https://localhost:8080/"
        },
        "id": "OcCgiUo_Ihc-",
        "outputId": "8168c80a-66a6-4f9c-8f77-e095abf5fe99"
      },
      "execution_count": 288,
      "outputs": [
        {
          "output_type": "execute_result",
          "data": {
            "text/plain": [
              "2    2615\n",
              "0    2045\n",
              "3      68\n",
              "1      44\n",
              "Name: Procedure.Hip.Knee.Quality, dtype: int64"
            ]
          },
          "metadata": {},
          "execution_count": 288
        }
      ]
    },
    {
      "cell_type": "code",
      "source": [
        "df['Procedure.Hip.Knee.Value'].value_counts()"
      ],
      "metadata": {
        "colab": {
          "base_uri": "https://localhost:8080/"
        },
        "id": "WHs2I16VIqJF",
        "outputId": "1916e019-db5c-4846-ab7c-1309ae83b3ef"
      },
      "execution_count": 295,
      "outputs": [
        {
          "output_type": "execute_result",
          "data": {
            "text/plain": [
              "0    2045\n",
              "2    1033\n",
              "1    1027\n",
              "3     667\n",
              "Name: Procedure.Hip.Knee.Value, dtype: int64"
            ]
          },
          "metadata": {},
          "execution_count": 295
        }
      ]
    },
    {
      "cell_type": "markdown",
      "source": [
        "**Visualizations**"
      ],
      "metadata": {
        "id": "fOgFcQZe2IQq"
      }
    },
    {
      "cell_type": "code",
      "source": [
        "df['Rating.Overall'].hist()\n",
        "plt.xticks(rotation=90);"
      ],
      "metadata": {
        "colab": {
          "base_uri": "https://localhost:8080/",
          "height": 270
        },
        "id": "nx7hrtB8kMfa",
        "outputId": "4a46dda1-7968-445c-fc7e-c1b32b3b2b9f"
      },
      "execution_count": 294,
      "outputs": [
        {
          "output_type": "display_data",
          "data": {
            "text/plain": [
              "<Figure size 432x288 with 1 Axes>"
            ],
            "image/png": "[encoded data removed]"
          },
          "metadata": {
            "needs_background": "light"
          }
        }
      ]
    },
    {
      "cell_type": "markdown",
      "source": [
        "The Overal Rating histogram above shows that the greatest number of hospitals have a 3, or average, rating. Over a 1000 hospitals have a 4 rating but almost just as many have no rating."
      ],
      "metadata": {
        "id": "89k26JhckZRa"
      }
    },
    {
      "cell_type": "code",
      "source": [
        "corr = df.corr()\n",
        "sns.heatmap(corr, cmap = 'Blues');"
      ],
      "metadata": {
        "colab": {
          "base_uri": "https://localhost:8080/",
          "height": 416
        },
        "id": "2uGFCNSQww5K",
        "outputId": "3ef786d6-28e8-4b4e-9c1f-a9c9547410a2"
      },
      "execution_count": 296,
      "outputs": [
        {
          "output_type": "display_data",
          "data": {
            "text/plain": [
              "<Figure size 432x288 with 2 Axes>"
            ],
            "image/png": "[encoded data removed]"
          },
          "metadata": {
            "needs_background": "light"
          }
        }
      ]
    },
    {
      "cell_type": "markdown",
      "source": [
        "In the heat map, I took out annot=True to take out the correlation values as there are too many features and the values overlapped. \n",
        "\n",
        "General trends- Procedure.Heart.Failure.Quality and cost has a high correlation with Rating.Morality.\n",
        "\n",
        "The costs for all 4 procedures tend to be highly correlated with quality and value of that procedure. \n",
        "\n",
        "Rating.Readmission has about a 0.7 correlation with Rating.Overall"
      ],
      "metadata": {
        "id": "lPW_pMEOzAvH"
      }
    },
    {
      "cell_type": "code",
      "source": [
        "fig, axes = plt.subplots(ncols=2, figsize=(14,5))\n",
        "sns.barplot(data = df, x = 'Rating.Overall', y = 'Procedure.Heart.Attack.Cost', ax=axes[0])\n",
        "axes[0].set_title('Hospital Rating Based on Heart Attack Procedure Cost', fontsize = 15, fontweight = 'bold')\n",
        "\n",
        "sns.barplot(data = df, x = 'Rating.Overall', y = 'Procedure.Heart.Failure.Cost', ax=axes[1])\n",
        "axes[1].set_title('Hospital Rating Based on Heart Failure Procedure Cost', fontsize = 15, fontweight = 'bold')\n",
        "\n",
        "fig.suptitle('The Effect of Heart Attack and Heart Failure Costs on Hospital Ratings', fontsize = 20, fontweight = 'bold', y=1.05)\n",
        "fig.tight_layout()"
      ],
      "metadata": {
        "colab": {
          "base_uri": "https://localhost:8080/",
          "height": 398
        },
        "id": "ol41XbQGlTfD",
        "outputId": "765910c5-88e9-49f4-db6e-3428fd3fd6af"
      },
      "execution_count": 297,
      "outputs": [
        {
          "output_type": "display_data",
          "data": {
            "text/plain": [
              "<Figure size 1008x360 with 2 Axes>"
            ],
            "image/png": "[encoded data removed]"
          },
          "metadata": {
            "needs_background": "light"
          }
        }
      ]
    },
    {
      "cell_type": "markdown",
      "source": [
        "Heart failure costs are slightly higher than heart attack costs at 4 and 3 rated hospitals. Heart attack costs are higher than heart failure costs at 1 rated hospitals. In general, heart failure and heart attack costs decrease the higher the hospital rating."
      ],
      "metadata": {
        "id": "1ogzy0m1-m6b"
      }
    },
    {
      "cell_type": "code",
      "source": [
        "fig, axes = plt.subplots(ncols=2, figsize=(14,5))\n",
        "sns.barplot(data = df, x = 'Rating.Overall', y = 'Procedure.Pneumonia.Cost', ax=axes[0])\n",
        "axes[0].set_title('Hospital Rating Based on Pneumonia Procedure Cost', fontsize = 15, fontweight = 'bold')\n",
        "\n",
        "sns.barplot(data = df, x = 'Rating.Overall', y = 'Procedure.Hip.Knee.Cost', ax=axes[1])\n",
        "axes[1].set_title('Hospital Rating Based on Hip Knee Procedure Cost', fontsize = 15, fontweight = 'bold')\n",
        "\n",
        "fig.suptitle('The Effect of Knee and Hip Procedural Costs on Hospital Ratings', fontsize = 20, fontweight = 'bold', y=1.05)\n",
        "fig.tight_layout()"
      ],
      "metadata": {
        "colab": {
          "base_uri": "https://localhost:8080/",
          "height": 398
        },
        "id": "9QsABB042ViH",
        "outputId": "48347d39-0b12-49fc-d0f1-d1ffcb743974"
      },
      "execution_count": 298,
      "outputs": [
        {
          "output_type": "display_data",
          "data": {
            "text/plain": [
              "<Figure size 1008x360 with 2 Axes>"
            ],
            "image/png": "[encoded data removed]"
          },
          "metadata": {
            "needs_background": "light"
          }
        }
      ]
    },
    {
      "cell_type": "markdown",
      "source": [
        "The trend in the above barplot shows the higher the hospital rating the lower the costs for pneumonia procedures while costs for hip and knee procedures fluctuate more with a average rating of 3 having the least cost."
      ],
      "metadata": {
        "id": "s-Drm-jIlv8j"
      }
    },
    {
      "cell_type": "code",
      "source": [
        "#stripplot\n",
        "#source: https://www.askpython.com/python-modules/seaborn-stripplot-method\n",
        "#source: https://stackoverflow.com/questions/40576060/how-to-increase-yaxis-on-seaborn-stripplot\n",
        "plt.figure(figsize=(12,8))\n",
        "g= sns.stripplot(x=\"Facility.Type\", y=\"Procedure.Hip.Knee.Cost\", hue=\"Procedure.Hip.Knee.Quality\", data=df, palette=\"Set2\", size=13, marker=\"D\", edgecolor=\"gray\", alpha=.40, jitter=0.10);\n",
        "g.set_ylim([12000,45000]);"
      ],
      "metadata": {
        "colab": {
          "base_uri": "https://localhost:8080/",
          "height": 501
        },
        "id": "VNSyf_UqrbJj",
        "outputId": "c3c19db2-2589-45f2-f849-d85938b9359f"
      },
      "execution_count": 299,
      "outputs": [
        {
          "output_type": "display_data",
          "data": {
            "text/plain": [
              "<Figure size 864x576 with 1 Axes>"
            ],
            "image/png": "[encoded data removed]"
          },
          "metadata": {
            "needs_background": "light"
          }
        }
      ]
    },
    {
      "cell_type": "markdown",
      "source": [
        "1=below average.\n",
        "2=average.\n",
        "3=higher than average.\n",
        "\n",
        "The above graph is a stripplot of hip and knee procedure costs and the type of facility based on the procedure's quality compared to the national average. Most hospitals no matter the type have a average rating of 2, which is average compared to the national average. There also appears to be a few more 1 rated, or below average rated government hospitals as compared to the others. "
      ],
      "metadata": {
        "id": "3aH8xRsVySES"
      }
    },
    {
      "cell_type": "markdown",
      "source": [
        "How to create a geospatial map, source = https://towardsdatascience.com/folium-and-choropleth-map-from-zero-to-pro-6127f9e68564\n",
        "\n",
        "GeoJSON file of US hospitals, source = https://userclub.opendatasoft.com/explore/dataset/us-hospitals/export/ "
      ],
      "metadata": {
        "id": "ZLOJ6uBHRWTI"
      }
    },
    {
      "cell_type": "code",
      "source": [
        "#upload data for geospatial map visualization\n",
        "geojson = gpd.read_file(r'/content/us-hospitals.geojson')"
      ],
      "metadata": {
        "colab": {
          "base_uri": "https://localhost:8080/"
        },
        "id": "PD8V1coASvEr",
        "outputId": "6636988d-a51a-4d09-b607-da43ea4a8fe1"
      },
      "execution_count": 300,
      "outputs": [
        {
          "output_type": "stream",
          "name": "stderr",
          "text": [
            "WARNING:fiona.ogrext:Skipping field geo_point: invalid type 3\n"
          ]
        }
      ]
    },
    {
      "cell_type": "code",
      "source": [
        "geojson.duplicated().sum()"
      ],
      "metadata": {
        "colab": {
          "base_uri": "https://localhost:8080/"
        },
        "id": "hpkdJktxk7b3",
        "outputId": "817e3244-4a9f-4643-d615-82e17c4222a3"
      },
      "execution_count": 301,
      "outputs": [
        {
          "output_type": "execute_result",
          "data": {
            "text/plain": [
              "0"
            ]
          },
          "metadata": {},
          "execution_count": 301
        }
      ]
    },
    {
      "cell_type": "code",
      "source": [
        "geojson.info()"
      ],
      "metadata": {
        "colab": {
          "base_uri": "https://localhost:8080/"
        },
        "id": "JDFq95IZZGNn",
        "outputId": "e0e1e5c3-1312-4fa5-bb2b-eb7195286fba"
      },
      "execution_count": 302,
      "outputs": [
        {
          "output_type": "stream",
          "name": "stdout",
          "text": [
            "<class 'geopandas.geodataframe.GeoDataFrame'>\n",
            "RangeIndex: 6635 entries, 0 to 6634\n",
            "Data columns (total 36 columns):\n",
            " #   Column      Non-Null Count  Dtype   \n",
            "---  ------      --------------  -----   \n",
            " 0   owner       6315 non-null   object  \n",
            " 1   trauma      6315 non-null   object  \n",
            " 2   fid         6635 non-null   object  \n",
            " 3   zip         6622 non-null   object  \n",
            " 4   population  6315 non-null   float64 \n",
            " 5   alt_name    6315 non-null   object  \n",
            " 6   naics_code  6463 non-null   object  \n",
            " 7   helipad     6315 non-null   object  \n",
            " 8   zip4        6622 non-null   object  \n",
            " 9   name        6635 non-null   object  \n",
            " 10  ttl_staff   6315 non-null   float64 \n",
            " 11  state_id    6315 non-null   object  \n",
            " 12  naics_desc  6463 non-null   object  \n",
            " 13  beds_range  6315 non-null   object  \n",
            " 14  longitude   6463 non-null   object  \n",
            " 15  county      6470 non-null   object  \n",
            " 16  city        6632 non-null   object  \n",
            " 17  source_dat  6315 non-null   object  \n",
            " 18  address2    6632 non-null   object  \n",
            " 19  val_method  6463 non-null   object  \n",
            " 20  telephone   6622 non-null   object  \n",
            " 21  countyfips  6315 non-null   float64 \n",
            " 22  date_creat  6315 non-null   object  \n",
            " 23  beds        6315 non-null   float64 \n",
            " 24  id          6635 non-null   object  \n",
            " 25  st_fips     6315 non-null   float64 \n",
            " 26  latitude    6463 non-null   object  \n",
            " 27  source      6463 non-null   object  \n",
            " 28  state       6622 non-null   object  \n",
            " 29  val_date    6315 non-null   object  \n",
            " 30  status      6470 non-null   object  \n",
            " 31  country     6470 non-null   object  \n",
            " 32  address     6632 non-null   object  \n",
            " 33  type        6470 non-null   object  \n",
            " 34  website     6315 non-null   object  \n",
            " 35  geometry    6470 non-null   geometry\n",
            "dtypes: float64(5), geometry(1), object(30)\n",
            "memory usage: 1.8+ MB\n"
          ]
        }
      ]
    },
    {
      "cell_type": "code",
      "source": [
        "#only need countyfips and geometry columns for mapping but added city and pop for better visuals\n",
        "geojson = geojson[['countyfips','geometry', 'name', 'city', 'state']]"
      ],
      "metadata": {
        "id": "loUJKKIdagKd"
      },
      "execution_count": 304,
      "outputs": []
    },
    {
      "cell_type": "code",
      "source": [
        "#Join the geojson file with covid_df, merged based on hospital name\n",
        "df_mapping = geojson.merge(df, left_on=\"name\", right_on=\"Facility.Name\", how=\"outer\") \n",
        "df_mapping = df_mapping[~df_mapping['name'].isna()]"
      ],
      "metadata": {
        "id": "Wjy6eSiahbFy"
      },
      "execution_count": 305,
      "outputs": []
    },
    {
      "cell_type": "code",
      "source": [
        "df_mapping.head()"
      ],
      "metadata": {
        "colab": {
          "base_uri": "https://localhost:8080/",
          "height": 525
        },
        "id": "p6ia--bWhyUh",
        "outputId": "afd7579e-0d2d-4f9f-dc5a-18ab6a48a410"
      },
      "execution_count": 306,
      "outputs": [
        {
          "output_type": "execute_result",
          "data": {
            "text/plain": [
              "   countyfips                     geometry  \\\n",
              "0     42095.0   POINT (-75.36546 40.67312)   \n",
              "1     45031.0   POINT (-79.83980 34.31333)   \n",
              "2     42045.0   POINT (-75.36764 39.85650)   \n",
              "3     47187.0   POINT (-86.81925 35.91616)   \n",
              "4     49019.0  POINT (-109.56361 38.57874)   \n",
              "\n",
              "                                     name        city state  \\\n",
              "0  Coordinated Health Orthopedic Hospital   Bethlehem    PA   \n",
              "1        Mcleod Medical Center-Darlington  Darlington    SC   \n",
              "2           Crozer-Chester Medical Center      Upland    PA   \n",
              "3               Williamson Medical Center    Franklin    TN   \n",
              "4                  Moab Regional Hospital        Moab    UT   \n",
              "\n",
              "                            Facility.Name Facility.City Facility.State  \\\n",
              "0  Coordinated Health Orthopedic Hospital     Bethlehem             PA   \n",
              "1                                     NaN           NaN            NaN   \n",
              "2                                     NaN           NaN            NaN   \n",
              "3               Williamson Medical Center      Franklin             TN   \n",
              "4                  Moab Regional Hospital          Moab             UT   \n",
              "\n",
              "  Facility.Type  Rating.Overall  ...  Procedure.Heart.Attack.Value  \\\n",
              "0       Unknown            -1.0  ...                           0.0   \n",
              "1           NaN             NaN  ...                           NaN   \n",
              "2           NaN             NaN  ...                           NaN   \n",
              "3    Government             5.0  ...                           2.0   \n",
              "4       Private            -1.0  ...                           0.0   \n",
              "\n",
              "   Procedure.Heart.Failure.Cost  Procedure.Heart.Failure.Quality  \\\n",
              "0                           0.0                              0.0   \n",
              "1                           NaN                              NaN   \n",
              "2                           NaN                              NaN   \n",
              "3                       16211.0                              2.0   \n",
              "4                           0.0                              0.0   \n",
              "\n",
              "   Procedure.Heart.Failure.Value  Procedure.Pneumonia.Cost  \\\n",
              "0                            0.0                       0.0   \n",
              "1                            NaN                       NaN   \n",
              "2                            NaN                       NaN   \n",
              "3                            2.0                   16148.0   \n",
              "4                            0.0                   16201.0   \n",
              "\n",
              "   Procedure.Pneumonia.Quality  Procedure.Pneumonia.Value  \\\n",
              "0                          0.0                        0.0   \n",
              "1                          NaN                        NaN   \n",
              "2                          NaN                        NaN   \n",
              "3                          2.0                        1.0   \n",
              "4                          2.0                        2.0   \n",
              "\n",
              "   Procedure.Hip.Knee.Cost  Procedure.Hip.Knee.Quality  \\\n",
              "0                  19599.0                         2.0   \n",
              "1                      NaN                         NaN   \n",
              "2                      NaN                         NaN   \n",
              "3                  21335.0                         2.0   \n",
              "4                      0.0                         0.0   \n",
              "\n",
              "   Procedure.Hip.Knee.Value  \n",
              "0                       1.0  \n",
              "1                       NaN  \n",
              "2                       NaN  \n",
              "3                       1.0  \n",
              "4                       0.0  \n",
              "\n",
              "[5 rows x 22 columns]"
            ],
            "text/html": [
              "\n",
              "  <div id=\"df-69ea3546-2c03-4f16-a8d6-730126e459c6\">\n",
              "    <div class=\"colab-df-container\">\n",
              "      <div>\n",
              "<style scoped>\n",
              "    .dataframe tbody tr th:only-of-type {\n",
              "        vertical-align: middle;\n",
              "    }\n",
              "\n",
              "    .dataframe tbody tr th {\n",
              "        vertical-align: top;\n",
              "    }\n",
              "\n",
              "    .dataframe thead th {\n",
              "        text-align: right;\n",
              "    }\n",
              "</style>\n",
              "<table border=\"1\" class=\"dataframe\">\n",
              "  <thead>\n",
              "    <tr style=\"text-align: right;\">\n",
              "      <th></th>\n",
              "      <th>countyfips</th>\n",
              "      <th>geometry</th>\n",
              "      <th>name</th>\n",
              "      <th>city</th>\n",
              "      <th>state</th>\n",
              "      <th>Facility.Name</th>\n",
              "      <th>Facility.City</th>\n",
              "      <th>Facility.State</th>\n",
              "      <th>Facility.Type</th>\n",
              "      <th>Rating.Overall</th>\n",
              "      <th>...</th>\n",
              "      <th>Procedure.Heart.Attack.Value</th>\n",
              "      <th>Procedure.Heart.Failure.Cost</th>\n",
              "      <th>Procedure.Heart.Failure.Quality</th>\n",
              "      <th>Procedure.Heart.Failure.Value</th>\n",
              "      <th>Procedure.Pneumonia.Cost</th>\n",
              "      <th>Procedure.Pneumonia.Quality</th>\n",
              "      <th>Procedure.Pneumonia.Value</th>\n",
              "      <th>Procedure.Hip.Knee.Cost</th>\n",
              "      <th>Procedure.Hip.Knee.Quality</th>\n",
              "      <th>Procedure.Hip.Knee.Value</th>\n",
              "    </tr>\n",
              "  </thead>\n",
              "  <tbody>\n",
              "    <tr>\n",
              "      <th>0</th>\n",
              "      <td>42095.0</td>\n",
              "      <td>POINT (-75.36546 40.67312)</td>\n",
              "      <td>Coordinated Health Orthopedic Hospital</td>\n",
              "      <td>Bethlehem</td>\n",
              "      <td>PA</td>\n",
              "      <td>Coordinated Health Orthopedic Hospital</td>\n",
              "      <td>Bethlehem</td>\n",
              "      <td>PA</td>\n",
              "      <td>Unknown</td>\n",
              "      <td>-1.0</td>\n",
              "      <td>...</td>\n",
              "      <td>0.0</td>\n",
              "      <td>0.0</td>\n",
              "      <td>0.0</td>\n",
              "      <td>0.0</td>\n",
              "      <td>0.0</td>\n",
              "      <td>0.0</td>\n",
              "      <td>0.0</td>\n",
              "      <td>19599.0</td>\n",
              "      <td>2.0</td>\n",
              "      <td>1.0</td>\n",
              "    </tr>\n",
              "    <tr>\n",
              "      <th>1</th>\n",
              "      <td>45031.0</td>\n",
              "      <td>POINT (-79.83980 34.31333)</td>\n",
              "      <td>Mcleod Medical Center-Darlington</td>\n",
              "      <td>Darlington</td>\n",
              "      <td>SC</td>\n",
              "      <td>NaN</td>\n",
              "      <td>NaN</td>\n",
              "      <td>NaN</td>\n",
              "      <td>NaN</td>\n",
              "      <td>NaN</td>\n",
              "      <td>...</td>\n",
              "      <td>NaN</td>\n",
              "      <td>NaN</td>\n",
              "      <td>NaN</td>\n",
              "      <td>NaN</td>\n",
              "      <td>NaN</td>\n",
              "      <td>NaN</td>\n",
              "      <td>NaN</td>\n",
              "      <td>NaN</td>\n",
              "      <td>NaN</td>\n",
              "      <td>NaN</td>\n",
              "    </tr>\n",
              "    <tr>\n",
              "      <th>2</th>\n",
              "      <td>42045.0</td>\n",
              "      <td>POINT (-75.36764 39.85650)</td>\n",
              "      <td>Crozer-Chester Medical Center</td>\n",
              "      <td>Upland</td>\n",
              "      <td>PA</td>\n",
              "      <td>NaN</td>\n",
              "      <td>NaN</td>\n",
              "      <td>NaN</td>\n",
              "      <td>NaN</td>\n",
              "      <td>NaN</td>\n",
              "      <td>...</td>\n",
              "      <td>NaN</td>\n",
              "      <td>NaN</td>\n",
              "      <td>NaN</td>\n",
              "      <td>NaN</td>\n",
              "      <td>NaN</td>\n",
              "      <td>NaN</td>\n",
              "      <td>NaN</td>\n",
              "      <td>NaN</td>\n",
              "      <td>NaN</td>\n",
              "      <td>NaN</td>\n",
              "    </tr>\n",
              "    <tr>\n",
              "      <th>3</th>\n",
              "      <td>47187.0</td>\n",
              "      <td>POINT (-86.81925 35.91616)</td>\n",
              "      <td>Williamson Medical Center</td>\n",
              "      <td>Franklin</td>\n",
              "      <td>TN</td>\n",
              "      <td>Williamson Medical Center</td>\n",
              "      <td>Franklin</td>\n",
              "      <td>TN</td>\n",
              "      <td>Government</td>\n",
              "      <td>5.0</td>\n",
              "      <td>...</td>\n",
              "      <td>2.0</td>\n",
              "      <td>16211.0</td>\n",
              "      <td>2.0</td>\n",
              "      <td>2.0</td>\n",
              "      <td>16148.0</td>\n",
              "      <td>2.0</td>\n",
              "      <td>1.0</td>\n",
              "      <td>21335.0</td>\n",
              "      <td>2.0</td>\n",
              "      <td>1.0</td>\n",
              "    </tr>\n",
              "    <tr>\n",
              "      <th>4</th>\n",
              "      <td>49019.0</td>\n",
              "      <td>POINT (-109.56361 38.57874)</td>\n",
              "      <td>Moab Regional Hospital</td>\n",
              "      <td>Moab</td>\n",
              "      <td>UT</td>\n",
              "      <td>Moab Regional Hospital</td>\n",
              "      <td>Moab</td>\n",
              "      <td>UT</td>\n",
              "      <td>Private</td>\n",
              "      <td>-1.0</td>\n",
              "      <td>...</td>\n",
              "      <td>0.0</td>\n",
              "      <td>0.0</td>\n",
              "      <td>0.0</td>\n",
              "      <td>0.0</td>\n",
              "      <td>16201.0</td>\n",
              "      <td>2.0</td>\n",
              "      <td>2.0</td>\n",
              "      <td>0.0</td>\n",
              "      <td>0.0</td>\n",
              "      <td>0.0</td>\n",
              "    </tr>\n",
              "  </tbody>\n",
              "</table>\n",
              "<p>5 rows × 22 columns</p>\n",
              "</div>\n",
              "      <button class=\"colab-df-convert\" onclick=\"convertToInteractive('df-69ea3546-2c03-4f16-a8d6-730126e459c6')\"\n",
              "              title=\"Convert this dataframe to an interactive table.\"\n",
              "              style=\"display:none;\">\n",
              "        \n",
              "  <svg xmlns=\"http://www.w3.org/2000/svg\" height=\"24px\"viewBox=\"0 0 24 24\"\n",
              "       width=\"24px\">\n",
              "    <path d=\"M0 0h24v24H0V0z\" fill=\"none\"/>\n",
              "    <path d=\"M18.56 5.44l.94 2.06.94-2.06 2.06-.94-2.06-.94-.94-2.06-.94 2.06-2.06.94zm-11 1L8.5 8.5l.94-2.06 2.06-.94-2.06-.94L8.5 2.5l-.94 2.06-2.06.94zm10 10l.94 2.06.94-2.06 2.06-.94-2.06-.94-.94-2.06-.94 2.06-2.06.94z\"/><path d=\"M17.41 7.96l-1.37-1.37c-.4-.4-.92-.59-1.43-.59-.52 0-1.04.2-1.43.59L10.3 9.45l-7.72 7.72c-.78.78-.78 2.05 0 2.83L4 21.41c.39.39.9.59 1.41.59.51 0 1.02-.2 1.41-.59l7.78-7.78 2.81-2.81c.8-.78.8-2.07 0-2.86zM5.41 20L4 18.59l7.72-7.72 1.47 1.35L5.41 20z\"/>\n",
              "  </svg>\n",
              "      </button>\n",
              "      \n",
              "  <style>\n",
              "    .colab-df-container {\n",
              "      display:flex;\n",
              "      flex-wrap:wrap;\n",
              "      gap: 12px;\n",
              "    }\n",
              "\n",
              "    .colab-df-convert {\n",
              "      background-color: #E8F0FE;\n",
              "      border: none;\n",
              "      border-radius: 50%;\n",
              "      cursor: pointer;\n",
              "      display: none;\n",
              "      fill: #1967D2;\n",
              "      height: 32px;\n",
              "      padding: 0 0 0 0;\n",
              "      width: 32px;\n",
              "    }\n",
              "\n",
              "    .colab-df-convert:hover {\n",
              "      background-color: #E2EBFA;\n",
              "      box-shadow: 0px 1px 2px rgba(60, 64, 67, 0.3), 0px 1px 3px 1px rgba(60, 64, 67, 0.15);\n",
              "      fill: #174EA6;\n",
              "    }\n",
              "\n",
              "    [theme=dark] .colab-df-convert {\n",
              "      background-color: #3B4455;\n",
              "      fill: #D2E3FC;\n",
              "    }\n",
              "\n",
              "    [theme=dark] .colab-df-convert:hover {\n",
              "      background-color: #434B5C;\n",
              "      box-shadow: 0px 1px 3px 1px rgba(0, 0, 0, 0.15);\n",
              "      filter: drop-shadow(0px 1px 2px rgba(0, 0, 0, 0.3));\n",
              "      fill: #FFFFFF;\n",
              "    }\n",
              "  </style>\n",
              "\n",
              "      <script>\n",
              "        const buttonEl =\n",
              "          document.querySelector('#df-69ea3546-2c03-4f16-a8d6-730126e459c6 button.colab-df-convert');\n",
              "        buttonEl.style.display =\n",
              "          google.colab.kernel.accessAllowed ? 'block' : 'none';\n",
              "\n",
              "        async function convertToInteractive(key) {\n",
              "          const element = document.querySelector('#df-69ea3546-2c03-4f16-a8d6-730126e459c6');\n",
              "          const dataTable =\n",
              "            await google.colab.kernel.invokeFunction('convertToInteractive',\n",
              "                                                     [key], {});\n",
              "          if (!dataTable) return;\n",
              "\n",
              "          const docLinkHtml = 'Like what you see? Visit the ' +\n",
              "            '<a target=\"_blank\" href=https://colab.research.google.com/notebooks/data_table.ipynb>data table notebook</a>'\n",
              "            + ' to learn more about interactive tables.';\n",
              "          element.innerHTML = '';\n",
              "          dataTable['output_type'] = 'display_data';\n",
              "          await google.colab.output.renderOutput(dataTable, element);\n",
              "          const docLink = document.createElement('div');\n",
              "          docLink.innerHTML = docLinkHtml;\n",
              "          element.appendChild(docLink);\n",
              "        }\n",
              "      </script>\n",
              "    </div>\n",
              "  </div>\n",
              "  "
            ]
          },
          "metadata": {},
          "execution_count": 306
        }
      ]
    },
    {
      "cell_type": "code",
      "source": [
        "# Reviewing data for types and missing values\n",
        "print(df_mapping.isna().sum())"
      ],
      "metadata": {
        "colab": {
          "base_uri": "https://localhost:8080/"
        },
        "id": "1EVsLDAV6I3E",
        "outputId": "26d73a18-efee-4e85-9389-5b83ca0bdccf"
      },
      "execution_count": 307,
      "outputs": [
        {
          "output_type": "stream",
          "name": "stdout",
          "text": [
            "countyfips                          353\n",
            "geometry                            165\n",
            "name                                  0\n",
            "city                                  7\n",
            "state                                17\n",
            "Facility.Name                      4065\n",
            "Facility.City                      4065\n",
            "Facility.State                     4065\n",
            "Facility.Type                      4065\n",
            "Rating.Overall                     4065\n",
            "Procedure.Heart.Attack.Cost        4065\n",
            "Procedure.Heart.Attack.Quality     4065\n",
            "Procedure.Heart.Attack.Value       4065\n",
            "Procedure.Heart.Failure.Cost       4065\n",
            "Procedure.Heart.Failure.Quality    4065\n",
            "Procedure.Heart.Failure.Value      4065\n",
            "Procedure.Pneumonia.Cost           4065\n",
            "Procedure.Pneumonia.Quality        4065\n",
            "Procedure.Pneumonia.Value          4065\n",
            "Procedure.Hip.Knee.Cost            4065\n",
            "Procedure.Hip.Knee.Quality         4065\n",
            "Procedure.Hip.Knee.Value           4065\n",
            "dtype: int64\n"
          ]
        }
      ]
    },
    {
      "cell_type": "code",
      "source": [
        "#drop missing values in geometry and countyfips columns\n",
        "#source= https://thispointer.com/pandas-drop-rows-from-a-dataframe-with-missing-values-or-nan-in-columns/\n",
        "df_mapping= df_mapping.dropna( how='any', subset=['geometry', 'countyfips'])"
      ],
      "metadata": {
        "id": "bCG__k6zA0eU"
      },
      "execution_count": 308,
      "outputs": []
    },
    {
      "cell_type": "code",
      "source": [
        "#confirming no missing values in geometry and countyfips columns\n",
        "print(df_mapping.isna().sum())"
      ],
      "metadata": {
        "colab": {
          "base_uri": "https://localhost:8080/"
        },
        "id": "eyQvGZW6BFf9",
        "outputId": "3b06d18f-4d7d-4479-d0d6-f50f31cd2a8d"
      },
      "execution_count": 309,
      "outputs": [
        {
          "output_type": "stream",
          "name": "stdout",
          "text": [
            "countyfips                            0\n",
            "geometry                              0\n",
            "name                                  0\n",
            "city                                  0\n",
            "state                                 0\n",
            "Facility.Name                      3857\n",
            "Facility.City                      3857\n",
            "Facility.State                     3857\n",
            "Facility.Type                      3857\n",
            "Rating.Overall                     3857\n",
            "Procedure.Heart.Attack.Cost        3857\n",
            "Procedure.Heart.Attack.Quality     3857\n",
            "Procedure.Heart.Attack.Value       3857\n",
            "Procedure.Heart.Failure.Cost       3857\n",
            "Procedure.Heart.Failure.Quality    3857\n",
            "Procedure.Heart.Failure.Value      3857\n",
            "Procedure.Pneumonia.Cost           3857\n",
            "Procedure.Pneumonia.Quality        3857\n",
            "Procedure.Pneumonia.Value          3857\n",
            "Procedure.Hip.Knee.Cost            3857\n",
            "Procedure.Hip.Knee.Quality         3857\n",
            "Procedure.Hip.Knee.Value           3857\n",
            "dtype: int64\n"
          ]
        }
      ]
    },
    {
      "cell_type": "code",
      "source": [
        "#create base map using folium of just the data from geojson\n",
        "#40, -96 is center of United States coordinates\n",
        "us_map = folium.Map(location=[40, -96], zoom_start=4,tiles='openstreetmap')\n",
        "\n",
        "us_map"
      ],
      "metadata": {
        "colab": {
          "base_uri": "https://localhost:8080/",
          "height": 712
        },
        "id": "BOgHvE4fConF",
        "outputId": "24295a55-81c5-43a6-a733-a824590a49d0"
      },
      "execution_count": 310,
      "outputs": [
        {
          "output_type": "execute_result",
          "data": {
            "text/plain": [
              "<folium.folium.Map at 0x7fb1d6763310>"
            ],
            "text/html": [
              "<div style=\"width:100%;\"><div style=\"position:relative;width:100%;height:0;padding-bottom:60%;\"><span style=\"color:#565656\">Make this Notebook Trusted to load map: File -> Trust Notebook</span><iframe srcdoc=\"&lt;!DOCTYPE html&gt;\n",
              "&lt;head&gt;    \n",
              "    &lt;meta http-equiv=&quot;content-type&quot; content=&quot;text/html; charset=UTF-8&quot; /&gt;\n",
              "    &lt;script&gt;L_PREFER_CANVAS=false; L_NO_TOUCH=false; L_DISABLE_3D=false;&lt;/script&gt;\n",
              "    &lt;script src=&quot;https://cdn.jsdelivr.net/npm/leaflet@1.4.0/dist/leaflet.js&quot;&gt;&lt;/script&gt;\n",
              "    &lt;script src=&quot;https://code.jquery.com/jquery-1.12.4.min.js&quot;&gt;&lt;/script&gt;\n",
              "    &lt;script src=&quot;https://maxcdn.bootstrapcdn.com/bootstrap/3.2.0/js/bootstrap.min.js&quot;&gt;&lt;/script&gt;\n",
              "    &lt;script src=&quot;https://cdnjs.cloudflare.com/ajax/libs/Leaflet.awesome-markers/2.0.2/leaflet.awesome-markers.js&quot;&gt;&lt;/script&gt;\n",
              "    &lt;link rel=&quot;stylesheet&quot; href=&quot;https://cdn.jsdelivr.net/npm/leaflet@1.4.0/dist/leaflet.css&quot;/&gt;\n",
              "    &lt;link rel=&quot;stylesheet&quot; href=&quot;https://maxcdn.bootstrapcdn.com/bootstrap/3.2.0/css/bootstrap.min.css&quot;/&gt;\n",
              "    &lt;link rel=&quot;stylesheet&quot; href=&quot;https://maxcdn.bootstrapcdn.com/bootstrap/3.2.0/css/bootstrap-theme.min.css&quot;/&gt;\n",
              "    &lt;link rel=&quot;stylesheet&quot; href=&quot;https://maxcdn.bootstrapcdn.com/font-awesome/4.6.3/css/font-awesome.min.css&quot;/&gt;\n",
              "    &lt;link rel=&quot;stylesheet&quot; href=&quot;https://cdnjs.cloudflare.com/ajax/libs/Leaflet.awesome-markers/2.0.2/leaflet.awesome-markers.css&quot;/&gt;\n",
              "    &lt;link rel=&quot;stylesheet&quot; href=&quot;https://rawcdn.githack.com/python-visualization/folium/master/folium/templates/leaflet.awesome.rotate.css&quot;/&gt;\n",
              "    &lt;style&gt;html, body {width: 100%;height: 100%;margin: 0;padding: 0;}&lt;/style&gt;\n",
              "    &lt;style&gt;#map {position:absolute;top:0;bottom:0;right:0;left:0;}&lt;/style&gt;\n",
              "    \n",
              "    &lt;meta name=&quot;viewport&quot; content=&quot;width=device-width,\n",
              "        initial-scale=1.0, maximum-scale=1.0, user-scalable=no&quot; /&gt;\n",
              "    &lt;style&gt;#map_aa4e417ed7bbe48b5590fc867442a293 {\n",
              "        position: relative;\n",
              "        width: 100.0%;\n",
              "        height: 100.0%;\n",
              "        left: 0.0%;\n",
              "        top: 0.0%;\n",
              "        }\n",
              "    &lt;/style&gt;\n",
              "&lt;/head&gt;\n",
              "&lt;body&gt;    \n",
              "    \n",
              "    &lt;div class=&quot;folium-map&quot; id=&quot;map_aa4e417ed7bbe48b5590fc867442a293&quot; &gt;&lt;/div&gt;\n",
              "&lt;/body&gt;\n",
              "&lt;script&gt;    \n",
              "    \n",
              "    \n",
              "        var bounds = null;\n",
              "    \n",
              "\n",
              "    var map_aa4e417ed7bbe48b5590fc867442a293 = L.map(\n",
              "        &#x27;map_aa4e417ed7bbe48b5590fc867442a293&#x27;, {\n",
              "        center: [40, -96],\n",
              "        zoom: 4,\n",
              "        maxBounds: bounds,\n",
              "        layers: [],\n",
              "        worldCopyJump: false,\n",
              "        crs: L.CRS.EPSG3857,\n",
              "        zoomControl: true,\n",
              "        });\n",
              "\n",
              "\n",
              "    \n",
              "    var tile_layer_29803147a927a4ce617e666e95b0e0c0 = L.tileLayer(\n",
              "        &#x27;https://{s}.tile.openstreetmap.org/{z}/{x}/{y}.png&#x27;,\n",
              "        {\n",
              "        &quot;attribution&quot;: null,\n",
              "        &quot;detectRetina&quot;: false,\n",
              "        &quot;maxNativeZoom&quot;: 18,\n",
              "        &quot;maxZoom&quot;: 18,\n",
              "        &quot;minZoom&quot;: 0,\n",
              "        &quot;noWrap&quot;: false,\n",
              "        &quot;opacity&quot;: 1,\n",
              "        &quot;subdomains&quot;: &quot;abc&quot;,\n",
              "        &quot;tms&quot;: false\n",
              "}).addTo(map_aa4e417ed7bbe48b5590fc867442a293);\n",
              "&lt;/script&gt;\" style=\"position:absolute;width:100%;height:100%;left:0;top:0;border:none !important;\" allowfullscreen webkitallowfullscreen mozallowfullscreen></iframe></div></div>"
            ]
          },
          "metadata": {},
          "execution_count": 310
        }
      ]
    },
    {
      "cell_type": "code",
      "source": [
        "#keep getting mapping error, will test chloropleth map on just geojson data\n",
        "#scale\n",
        "custom_scale = (geojson['countyfips'].quantile((0,0.2,0.4,0.6,0.8,1))).tolist()\n",
        "\n",
        "#add to base map by choropleth layering\n",
        "folium.Choropleth(geo_data=r'.../content/us-hospitals.geojson', data=df_mapping, columns=['geometry','countyfips'],\n",
        "            key_on='feature.properties.countyfips', #Here we grab the geometries/county boundaries from the geojson file using the key 'coty_code' which is the same as county fip\n",
        "            threshold_scale=custom_scale,\n",
        "            fill_color='YlOrRd',\n",
        "            nan_fill_color=\"White\", #Use white color if there is no data available\n",
        "            fill_opacity=0.7,\n",
        "            line_opacity=0.2,\n",
        "            legend_name='test',\n",
        "            highlight=True,\n",
        "            line_color='black').add_to(us_map)\n",
        "\n",
        "us_map"
      ],
      "metadata": {
        "colab": {
          "base_uri": "https://localhost:8080/",
          "height": 381
        },
        "id": "hPKoRJQZfizh",
        "outputId": "d53a91de-1f91-4e9f-f903-472d2b27b869"
      },
      "execution_count": 312,
      "outputs": [
        {
          "output_type": "error",
          "ename": "TypeError",
          "evalue": "ignored",
          "traceback": [
            "\u001b[0;31m---------------------------------------------------------------------------\u001b[0m",
            "\u001b[0;31mTypeError\u001b[0m                                 Traceback (most recent call last)",
            "\u001b[0;32m<ipython-input-312-e91f31dcd07a>\u001b[0m in \u001b[0;36m<module>\u001b[0;34m()\u001b[0m\n\u001b[1;32m     13\u001b[0m             \u001b[0mlegend_name\u001b[0m\u001b[0;34m=\u001b[0m\u001b[0;34m'test'\u001b[0m\u001b[0;34m,\u001b[0m\u001b[0;34m\u001b[0m\u001b[0;34m\u001b[0m\u001b[0m\n\u001b[1;32m     14\u001b[0m             \u001b[0mhighlight\u001b[0m\u001b[0;34m=\u001b[0m\u001b[0;32mTrue\u001b[0m\u001b[0;34m,\u001b[0m\u001b[0;34m\u001b[0m\u001b[0;34m\u001b[0m\u001b[0m\n\u001b[0;32m---> 15\u001b[0;31m             line_color='black').add_to(us_map)\n\u001b[0m\u001b[1;32m     16\u001b[0m \u001b[0;34m\u001b[0m\u001b[0m\n\u001b[1;32m     17\u001b[0m \u001b[0mus_map\u001b[0m\u001b[0;34m\u001b[0m\u001b[0;34m\u001b[0m\u001b[0m\n",
            "\u001b[0;32m/usr/local/lib/python3.7/dist-packages/folium/features.py\u001b[0m in \u001b[0;36m__init__\u001b[0;34m(self, geo_data, data, columns, key_on, bins, fill_color, nan_fill_color, fill_opacity, nan_fill_opacity, line_color, line_weight, line_opacity, name, legend_name, overlay, control, show, topojson, smooth_factor, highlight, **kwargs)\u001b[0m\n\u001b[1;32m    949\u001b[0m         \u001b[0;32mif\u001b[0m \u001b[0mhasattr\u001b[0m\u001b[0;34m(\u001b[0m\u001b[0mdata\u001b[0m\u001b[0;34m,\u001b[0m \u001b[0;34m'set_index'\u001b[0m\u001b[0;34m)\u001b[0m\u001b[0;34m:\u001b[0m\u001b[0;34m\u001b[0m\u001b[0;34m\u001b[0m\u001b[0m\n\u001b[1;32m    950\u001b[0m             \u001b[0;31m# This is a pd.DataFrame\u001b[0m\u001b[0;34m\u001b[0m\u001b[0;34m\u001b[0m\u001b[0;34m\u001b[0m\u001b[0m\n\u001b[0;32m--> 951\u001b[0;31m             \u001b[0mcolor_data\u001b[0m \u001b[0;34m=\u001b[0m \u001b[0mdata\u001b[0m\u001b[0;34m.\u001b[0m\u001b[0mset_index\u001b[0m\u001b[0;34m(\u001b[0m\u001b[0mcolumns\u001b[0m\u001b[0;34m[\u001b[0m\u001b[0;36m0\u001b[0m\u001b[0;34m]\u001b[0m\u001b[0;34m)\u001b[0m\u001b[0;34m[\u001b[0m\u001b[0mcolumns\u001b[0m\u001b[0;34m[\u001b[0m\u001b[0;36m1\u001b[0m\u001b[0;34m]\u001b[0m\u001b[0;34m]\u001b[0m\u001b[0;34m.\u001b[0m\u001b[0mto_dict\u001b[0m\u001b[0;34m(\u001b[0m\u001b[0;34m)\u001b[0m\u001b[0;34m\u001b[0m\u001b[0;34m\u001b[0m\u001b[0m\n\u001b[0m\u001b[1;32m    952\u001b[0m         \u001b[0;32melif\u001b[0m \u001b[0mhasattr\u001b[0m\u001b[0;34m(\u001b[0m\u001b[0mdata\u001b[0m\u001b[0;34m,\u001b[0m \u001b[0;34m'to_dict'\u001b[0m\u001b[0;34m)\u001b[0m\u001b[0;34m:\u001b[0m\u001b[0;34m\u001b[0m\u001b[0;34m\u001b[0m\u001b[0m\n\u001b[1;32m    953\u001b[0m             \u001b[0;31m# This is a pd.Series\u001b[0m\u001b[0;34m\u001b[0m\u001b[0;34m\u001b[0m\u001b[0;34m\u001b[0m\u001b[0m\n",
            "\u001b[0;32m/usr/local/lib/python3.7/dist-packages/pandas/core/series.py\u001b[0m in \u001b[0;36mto_dict\u001b[0;34m(self, into)\u001b[0m\n\u001b[1;32m   1718\u001b[0m         \u001b[0;31m# GH16122\u001b[0m\u001b[0;34m\u001b[0m\u001b[0;34m\u001b[0m\u001b[0;34m\u001b[0m\u001b[0m\n\u001b[1;32m   1719\u001b[0m         \u001b[0minto_c\u001b[0m \u001b[0;34m=\u001b[0m \u001b[0mcom\u001b[0m\u001b[0;34m.\u001b[0m\u001b[0mstandardize_mapping\u001b[0m\u001b[0;34m(\u001b[0m\u001b[0minto\u001b[0m\u001b[0;34m)\u001b[0m\u001b[0;34m\u001b[0m\u001b[0;34m\u001b[0m\u001b[0m\n\u001b[0;32m-> 1720\u001b[0;31m         \u001b[0;32mreturn\u001b[0m \u001b[0minto_c\u001b[0m\u001b[0;34m(\u001b[0m\u001b[0;34m(\u001b[0m\u001b[0mk\u001b[0m\u001b[0;34m,\u001b[0m \u001b[0mmaybe_box_native\u001b[0m\u001b[0;34m(\u001b[0m\u001b[0mv\u001b[0m\u001b[0;34m)\u001b[0m\u001b[0;34m)\u001b[0m \u001b[0;32mfor\u001b[0m \u001b[0mk\u001b[0m\u001b[0;34m,\u001b[0m \u001b[0mv\u001b[0m \u001b[0;32min\u001b[0m \u001b[0mself\u001b[0m\u001b[0;34m.\u001b[0m\u001b[0mitems\u001b[0m\u001b[0;34m(\u001b[0m\u001b[0;34m)\u001b[0m\u001b[0;34m)\u001b[0m\u001b[0;34m\u001b[0m\u001b[0;34m\u001b[0m\u001b[0m\n\u001b[0m\u001b[1;32m   1721\u001b[0m \u001b[0;34m\u001b[0m\u001b[0m\n\u001b[1;32m   1722\u001b[0m     \u001b[0;32mdef\u001b[0m \u001b[0mto_frame\u001b[0m\u001b[0;34m(\u001b[0m\u001b[0mself\u001b[0m\u001b[0;34m,\u001b[0m \u001b[0mname\u001b[0m\u001b[0;34m=\u001b[0m\u001b[0;32mNone\u001b[0m\u001b[0;34m)\u001b[0m \u001b[0;34m->\u001b[0m \u001b[0mDataFrame\u001b[0m\u001b[0;34m:\u001b[0m\u001b[0;34m\u001b[0m\u001b[0;34m\u001b[0m\u001b[0m\n",
            "\u001b[0;31mTypeError\u001b[0m: unhashable type: 'Point'"
          ]
        }
      ]
    },
    {
      "cell_type": "code",
      "source": [
        "#test chloropleth map on combined geojson and df data (df_final)\n",
        "\n",
        "#scale\n",
        "custom_scale = (df_mapping['Procedure.Heart.Attack.Cost'].quantile((0,0.2,0.4,0.6,0.8,1))).tolist()\n",
        "\n",
        "#add to base map by choropleth layering\n",
        "folium.Choropleth(geo_data=r'.../content/us-hospitals.geojson', data=df_mapping, columns=['geometry','Procedure.Heart.Attack.Cost'],\n",
        "            key_on='feature.properties.countyfips', #Here we grab the geometries/county boundaries from the geojson file using the key 'coty_code' which is the same as county fip\n",
        "            threshold_scale=custom_scale,\n",
        "            fill_color='YlOrRd',\n",
        "            nan_fill_color=\"White\", #Use white color if there is no data available\n",
        "            fill_opacity=0.7,\n",
        "            line_opacity=0.2,\n",
        "            legend_name='Costs of Heart Attack Procedures Based on National Average',\n",
        "            highlight=True,\n",
        "            line_color='black').add_to(us_map)\n",
        "us_map"
      ],
      "metadata": {
        "colab": {
          "base_uri": "https://localhost:8080/",
          "height": 363
        },
        "id": "lYxpcRUsgGty",
        "outputId": "380a7a81-4d73-4fdf-9a4f-bc74526fa105"
      },
      "execution_count": 313,
      "outputs": [
        {
          "output_type": "error",
          "ename": "TypeError",
          "evalue": "ignored",
          "traceback": [
            "\u001b[0;31m---------------------------------------------------------------------------\u001b[0m",
            "\u001b[0;31mTypeError\u001b[0m                                 Traceback (most recent call last)",
            "\u001b[0;32m<ipython-input-313-7d7382ca870e>\u001b[0m in \u001b[0;36m<module>\u001b[0;34m()\u001b[0m\n\u001b[1;32m     14\u001b[0m             \u001b[0mlegend_name\u001b[0m\u001b[0;34m=\u001b[0m\u001b[0;34m'Costs of Heart Attack Procedures Based on National Average'\u001b[0m\u001b[0;34m,\u001b[0m\u001b[0;34m\u001b[0m\u001b[0;34m\u001b[0m\u001b[0m\n\u001b[1;32m     15\u001b[0m             \u001b[0mhighlight\u001b[0m\u001b[0;34m=\u001b[0m\u001b[0;32mTrue\u001b[0m\u001b[0;34m,\u001b[0m\u001b[0;34m\u001b[0m\u001b[0;34m\u001b[0m\u001b[0m\n\u001b[0;32m---> 16\u001b[0;31m             line_color='black').add_to(us_map)\n\u001b[0m\u001b[1;32m     17\u001b[0m \u001b[0mus_map\u001b[0m\u001b[0;34m\u001b[0m\u001b[0;34m\u001b[0m\u001b[0m\n",
            "\u001b[0;32m/usr/local/lib/python3.7/dist-packages/folium/features.py\u001b[0m in \u001b[0;36m__init__\u001b[0;34m(self, geo_data, data, columns, key_on, bins, fill_color, nan_fill_color, fill_opacity, nan_fill_opacity, line_color, line_weight, line_opacity, name, legend_name, overlay, control, show, topojson, smooth_factor, highlight, **kwargs)\u001b[0m\n\u001b[1;32m    949\u001b[0m         \u001b[0;32mif\u001b[0m \u001b[0mhasattr\u001b[0m\u001b[0;34m(\u001b[0m\u001b[0mdata\u001b[0m\u001b[0;34m,\u001b[0m \u001b[0;34m'set_index'\u001b[0m\u001b[0;34m)\u001b[0m\u001b[0;34m:\u001b[0m\u001b[0;34m\u001b[0m\u001b[0;34m\u001b[0m\u001b[0m\n\u001b[1;32m    950\u001b[0m             \u001b[0;31m# This is a pd.DataFrame\u001b[0m\u001b[0;34m\u001b[0m\u001b[0;34m\u001b[0m\u001b[0;34m\u001b[0m\u001b[0m\n\u001b[0;32m--> 951\u001b[0;31m             \u001b[0mcolor_data\u001b[0m \u001b[0;34m=\u001b[0m \u001b[0mdata\u001b[0m\u001b[0;34m.\u001b[0m\u001b[0mset_index\u001b[0m\u001b[0;34m(\u001b[0m\u001b[0mcolumns\u001b[0m\u001b[0;34m[\u001b[0m\u001b[0;36m0\u001b[0m\u001b[0;34m]\u001b[0m\u001b[0;34m)\u001b[0m\u001b[0;34m[\u001b[0m\u001b[0mcolumns\u001b[0m\u001b[0;34m[\u001b[0m\u001b[0;36m1\u001b[0m\u001b[0;34m]\u001b[0m\u001b[0;34m]\u001b[0m\u001b[0;34m.\u001b[0m\u001b[0mto_dict\u001b[0m\u001b[0;34m(\u001b[0m\u001b[0;34m)\u001b[0m\u001b[0;34m\u001b[0m\u001b[0;34m\u001b[0m\u001b[0m\n\u001b[0m\u001b[1;32m    952\u001b[0m         \u001b[0;32melif\u001b[0m \u001b[0mhasattr\u001b[0m\u001b[0;34m(\u001b[0m\u001b[0mdata\u001b[0m\u001b[0;34m,\u001b[0m \u001b[0;34m'to_dict'\u001b[0m\u001b[0;34m)\u001b[0m\u001b[0;34m:\u001b[0m\u001b[0;34m\u001b[0m\u001b[0;34m\u001b[0m\u001b[0m\n\u001b[1;32m    953\u001b[0m             \u001b[0;31m# This is a pd.Series\u001b[0m\u001b[0;34m\u001b[0m\u001b[0;34m\u001b[0m\u001b[0;34m\u001b[0m\u001b[0m\n",
            "\u001b[0;32m/usr/local/lib/python3.7/dist-packages/pandas/core/series.py\u001b[0m in \u001b[0;36mto_dict\u001b[0;34m(self, into)\u001b[0m\n\u001b[1;32m   1718\u001b[0m         \u001b[0;31m# GH16122\u001b[0m\u001b[0;34m\u001b[0m\u001b[0;34m\u001b[0m\u001b[0;34m\u001b[0m\u001b[0m\n\u001b[1;32m   1719\u001b[0m         \u001b[0minto_c\u001b[0m \u001b[0;34m=\u001b[0m \u001b[0mcom\u001b[0m\u001b[0;34m.\u001b[0m\u001b[0mstandardize_mapping\u001b[0m\u001b[0;34m(\u001b[0m\u001b[0minto\u001b[0m\u001b[0;34m)\u001b[0m\u001b[0;34m\u001b[0m\u001b[0;34m\u001b[0m\u001b[0m\n\u001b[0;32m-> 1720\u001b[0;31m         \u001b[0;32mreturn\u001b[0m \u001b[0minto_c\u001b[0m\u001b[0;34m(\u001b[0m\u001b[0;34m(\u001b[0m\u001b[0mk\u001b[0m\u001b[0;34m,\u001b[0m \u001b[0mmaybe_box_native\u001b[0m\u001b[0;34m(\u001b[0m\u001b[0mv\u001b[0m\u001b[0;34m)\u001b[0m\u001b[0;34m)\u001b[0m \u001b[0;32mfor\u001b[0m \u001b[0mk\u001b[0m\u001b[0;34m,\u001b[0m \u001b[0mv\u001b[0m \u001b[0;32min\u001b[0m \u001b[0mself\u001b[0m\u001b[0;34m.\u001b[0m\u001b[0mitems\u001b[0m\u001b[0;34m(\u001b[0m\u001b[0;34m)\u001b[0m\u001b[0;34m)\u001b[0m\u001b[0;34m\u001b[0m\u001b[0;34m\u001b[0m\u001b[0m\n\u001b[0m\u001b[1;32m   1721\u001b[0m \u001b[0;34m\u001b[0m\u001b[0m\n\u001b[1;32m   1722\u001b[0m     \u001b[0;32mdef\u001b[0m \u001b[0mto_frame\u001b[0m\u001b[0;34m(\u001b[0m\u001b[0mself\u001b[0m\u001b[0;34m,\u001b[0m \u001b[0mname\u001b[0m\u001b[0;34m=\u001b[0m\u001b[0;32mNone\u001b[0m\u001b[0;34m)\u001b[0m \u001b[0;34m->\u001b[0m \u001b[0mDataFrame\u001b[0m\u001b[0;34m:\u001b[0m\u001b[0;34m\u001b[0m\u001b[0;34m\u001b[0m\u001b[0m\n",
            "\u001b[0;31mTypeError\u001b[0m: unhashable type: 'Point'"
          ]
        }
      ]
    },
    {
      "cell_type": "markdown",
      "source": [
        "Still getting same error. Come back to mapping. "
      ],
      "metadata": {
        "id": "aJaWh_Rg1SG0"
      }
    },
    {
      "cell_type": "markdown",
      "source": [
        "**Modeling**"
      ],
      "metadata": {
        "id": "Mn8VPrQj1XEE"
      }
    },
    {
      "cell_type": "code",
      "source": [
        "#drop Facility.Name from original dataset\n",
        "df.drop(('Facility.Name'), axis=1, inplace=True)"
      ],
      "metadata": {
        "id": "_WENbZ7v3DjN"
      },
      "execution_count": null,
      "outputs": []
    },
    {
      "cell_type": "code",
      "source": [
        "df1 = df.copy()\n",
        "df1.duplicated().sum()\n",
        "#drop duplicates from data\n",
        "df1.drop_duplicates(inplace=True)"
      ],
      "metadata": {
        "id": "L5bbSEq-LO2X"
      },
      "execution_count": 365,
      "outputs": []
    },
    {
      "cell_type": "markdown",
      "source": [
        "Preprocessing"
      ],
      "metadata": {
        "id": "fMOiPMjrOOKa"
      }
    },
    {
      "cell_type": "code",
      "source": [
        "#assign X and y\n",
        "#Overall.Rating is the target\n",
        "\n",
        "X = df1.drop(columns='Rating.Overall')\n",
        "y = df1['Rating.Overall']\n",
        "\n",
        "# split into training and test sets\n",
        "X_train, X_test, y_train, y_test = train_test_split(X, y, random_state=42)"
      ],
      "metadata": {
        "id": "QiBjnAl_Jr00"
      },
      "execution_count": 366,
      "outputs": []
    },
    {
      "cell_type": "code",
      "source": [
        "#assign numerical and categorical data\n",
        "cat_selector = make_column_selector(dtype_include='object')\n",
        "num_selector = make_column_selector(dtype_include='number')"
      ],
      "metadata": {
        "id": "pEEWoWfvMOaS"
      },
      "execution_count": 367,
      "outputs": []
    },
    {
      "cell_type": "code",
      "source": [
        "#instantiate the encoder\n",
        "scaler = StandardScaler()\n",
        "ohe = OneHotEncoder(handle_unknown='ignore', sparse=False)\n",
        "# Imputers\n",
        "freq_imputer = SimpleImputer(strategy='most_frequent')\n",
        "median_imputer = SimpleImputer(strategy='median')"
      ],
      "metadata": {
        "id": "fkxtmggYMR54"
      },
      "execution_count": 368,
      "outputs": []
    },
    {
      "cell_type": "code",
      "source": [
        "# instantiate two pipelines for numerical and categorical data\n",
        "numeric_pipe = make_pipeline(median_imputer, scaler)\n",
        "numeric_pipe"
      ],
      "metadata": {
        "colab": {
          "base_uri": "https://localhost:8080/",
          "height": 126
        },
        "id": "Iq8WQvwQMk5T",
        "outputId": "f7488f4f-2510-4568-857b-046408bf25b3"
      },
      "execution_count": 369,
      "outputs": [
        {
          "output_type": "execute_result",
          "data": {
            "text/plain": [
              "Pipeline(steps=[('simpleimputer', SimpleImputer(strategy='median')),\n",
              "                ('standardscaler', StandardScaler())])"
            ],
            "text/html": [
              "<style>#sk-6d140750-abf1-435a-85ff-a6c5bfc3a93e {color: black;background-color: white;}#sk-6d140750-abf1-435a-85ff-a6c5bfc3a93e pre{padding: 0;}#sk-6d140750-abf1-435a-85ff-a6c5bfc3a93e div.sk-toggleable {background-color: white;}#sk-6d140750-abf1-435a-85ff-a6c5bfc3a93e label.sk-toggleable__label {cursor: pointer;display: block;width: 100%;margin-bottom: 0;padding: 0.3em;box-sizing: border-box;text-align: center;}#sk-6d140750-abf1-435a-85ff-a6c5bfc3a93e label.sk-toggleable__label-arrow:before {content: \"▸\";float: left;margin-right: 0.25em;color: #696969;}#sk-6d140750-abf1-435a-85ff-a6c5bfc3a93e label.sk-toggleable__label-arrow:hover:before {color: black;}#sk-6d140750-abf1-435a-85ff-a6c5bfc3a93e div.sk-estimator:hover label.sk-toggleable__label-arrow:before {color: black;}#sk-6d140750-abf1-435a-85ff-a6c5bfc3a93e div.sk-toggleable__content {max-height: 0;max-width: 0;overflow: hidden;text-align: left;background-color: #f0f8ff;}#sk-6d140750-abf1-435a-85ff-a6c5bfc3a93e div.sk-toggleable__content pre {margin: 0.2em;color: black;border-radius: 0.25em;background-color: #f0f8ff;}#sk-6d140750-abf1-435a-85ff-a6c5bfc3a93e input.sk-toggleable__control:checked~div.sk-toggleable__content {max-height: 200px;max-width: 100%;overflow: auto;}#sk-6d140750-abf1-435a-85ff-a6c5bfc3a93e input.sk-toggleable__control:checked~label.sk-toggleable__label-arrow:before {content: \"▾\";}#sk-6d140750-abf1-435a-85ff-a6c5bfc3a93e div.sk-estimator input.sk-toggleable__control:checked~label.sk-toggleable__label {background-color: #d4ebff;}#sk-6d140750-abf1-435a-85ff-a6c5bfc3a93e div.sk-label input.sk-toggleable__control:checked~label.sk-toggleable__label {background-color: #d4ebff;}#sk-6d140750-abf1-435a-85ff-a6c5bfc3a93e input.sk-hidden--visually {border: 0;clip: rect(1px 1px 1px 1px);clip: rect(1px, 1px, 1px, 1px);height: 1px;margin: -1px;overflow: hidden;padding: 0;position: absolute;width: 1px;}#sk-6d140750-abf1-435a-85ff-a6c5bfc3a93e div.sk-estimator {font-family: monospace;background-color: #f0f8ff;border: 1px dotted black;border-radius: 0.25em;box-sizing: border-box;margin-bottom: 0.5em;}#sk-6d140750-abf1-435a-85ff-a6c5bfc3a93e div.sk-estimator:hover {background-color: #d4ebff;}#sk-6d140750-abf1-435a-85ff-a6c5bfc3a93e div.sk-parallel-item::after {content: \"\";width: 100%;border-bottom: 1px solid gray;flex-grow: 1;}#sk-6d140750-abf1-435a-85ff-a6c5bfc3a93e div.sk-label:hover label.sk-toggleable__label {background-color: #d4ebff;}#sk-6d140750-abf1-435a-85ff-a6c5bfc3a93e div.sk-serial::before {content: \"\";position: absolute;border-left: 1px solid gray;box-sizing: border-box;top: 2em;bottom: 0;left: 50%;}#sk-6d140750-abf1-435a-85ff-a6c5bfc3a93e div.sk-serial {display: flex;flex-direction: column;align-items: center;background-color: white;padding-right: 0.2em;padding-left: 0.2em;}#sk-6d140750-abf1-435a-85ff-a6c5bfc3a93e div.sk-item {z-index: 1;}#sk-6d140750-abf1-435a-85ff-a6c5bfc3a93e div.sk-parallel {display: flex;align-items: stretch;justify-content: center;background-color: white;}#sk-6d140750-abf1-435a-85ff-a6c5bfc3a93e div.sk-parallel::before {content: \"\";position: absolute;border-left: 1px solid gray;box-sizing: border-box;top: 2em;bottom: 0;left: 50%;}#sk-6d140750-abf1-435a-85ff-a6c5bfc3a93e div.sk-parallel-item {display: flex;flex-direction: column;position: relative;background-color: white;}#sk-6d140750-abf1-435a-85ff-a6c5bfc3a93e div.sk-parallel-item:first-child::after {align-self: flex-end;width: 50%;}#sk-6d140750-abf1-435a-85ff-a6c5bfc3a93e div.sk-parallel-item:last-child::after {align-self: flex-start;width: 50%;}#sk-6d140750-abf1-435a-85ff-a6c5bfc3a93e div.sk-parallel-item:only-child::after {width: 0;}#sk-6d140750-abf1-435a-85ff-a6c5bfc3a93e div.sk-dashed-wrapped {border: 1px dashed gray;margin: 0 0.4em 0.5em 0.4em;box-sizing: border-box;padding-bottom: 0.4em;background-color: white;position: relative;}#sk-6d140750-abf1-435a-85ff-a6c5bfc3a93e div.sk-label label {font-family: monospace;font-weight: bold;background-color: white;display: inline-block;line-height: 1.2em;}#sk-6d140750-abf1-435a-85ff-a6c5bfc3a93e div.sk-label-container {position: relative;z-index: 2;text-align: center;}#sk-6d140750-abf1-435a-85ff-a6c5bfc3a93e div.sk-container {/* jupyter's `normalize.less` sets `[hidden] { display: none; }` but bootstrap.min.css set `[hidden] { display: none !important; }` so we also need the `!important` here to be able to override the default hidden behavior on the sphinx rendered scikit-learn.org. See: https://github.com/scikit-learn/scikit-learn/issues/21755 */display: inline-block !important;position: relative;}#sk-6d140750-abf1-435a-85ff-a6c5bfc3a93e div.sk-text-repr-fallback {display: none;}</style><div id=\"sk-6d140750-abf1-435a-85ff-a6c5bfc3a93e\" class=\"sk-top-container\"><div class=\"sk-text-repr-fallback\"><pre>Pipeline(steps=[(&#x27;simpleimputer&#x27;, SimpleImputer(strategy=&#x27;median&#x27;)),\n",
              "                (&#x27;standardscaler&#x27;, StandardScaler())])</pre><b>Please rerun this cell to show the HTML repr or trust the notebook.</b></div><div class=\"sk-container\" hidden><div class=\"sk-item sk-dashed-wrapped\"><div class=\"sk-label-container\"><div class=\"sk-label sk-toggleable\"><input class=\"sk-toggleable__control sk-hidden--visually\" id=\"2ed202a0-c8d9-458b-b293-5546c9813d3c\" type=\"checkbox\" ><label for=\"2ed202a0-c8d9-458b-b293-5546c9813d3c\" class=\"sk-toggleable__label sk-toggleable__label-arrow\">Pipeline</label><div class=\"sk-toggleable__content\"><pre>Pipeline(steps=[(&#x27;simpleimputer&#x27;, SimpleImputer(strategy=&#x27;median&#x27;)),\n",
              "                (&#x27;standardscaler&#x27;, StandardScaler())])</pre></div></div></div><div class=\"sk-serial\"><div class=\"sk-item\"><div class=\"sk-estimator sk-toggleable\"><input class=\"sk-toggleable__control sk-hidden--visually\" id=\"bce44237-7cc9-4c98-b699-f12a409c93dd\" type=\"checkbox\" ><label for=\"bce44237-7cc9-4c98-b699-f12a409c93dd\" class=\"sk-toggleable__label sk-toggleable__label-arrow\">SimpleImputer</label><div class=\"sk-toggleable__content\"><pre>SimpleImputer(strategy=&#x27;median&#x27;)</pre></div></div></div><div class=\"sk-item\"><div class=\"sk-estimator sk-toggleable\"><input class=\"sk-toggleable__control sk-hidden--visually\" id=\"a60cf967-8b35-43f8-a89b-828232987cab\" type=\"checkbox\" ><label for=\"a60cf967-8b35-43f8-a89b-828232987cab\" class=\"sk-toggleable__label sk-toggleable__label-arrow\">StandardScaler</label><div class=\"sk-toggleable__content\"><pre>StandardScaler()</pre></div></div></div></div></div></div></div>"
            ]
          },
          "metadata": {},
          "execution_count": 369
        }
      ]
    },
    {
      "cell_type": "code",
      "source": [
        "categorical_pipe = make_pipeline(freq_imputer, ohe)\n",
        "categorical_pipe"
      ],
      "metadata": {
        "colab": {
          "base_uri": "https://localhost:8080/",
          "height": 126
        },
        "id": "k58oSG2pMpjk",
        "outputId": "ceef460b-1eb1-4578-ef04-24e211158a6b"
      },
      "execution_count": 370,
      "outputs": [
        {
          "output_type": "execute_result",
          "data": {
            "text/plain": [
              "Pipeline(steps=[('simpleimputer', SimpleImputer(strategy='most_frequent')),\n",
              "                ('onehotencoder',\n",
              "                 OneHotEncoder(handle_unknown='ignore', sparse=False))])"
            ],
            "text/html": [
              "<style>#sk-587a91a0-1826-4af8-a46f-a55adad04af6 {color: black;background-color: white;}#sk-587a91a0-1826-4af8-a46f-a55adad04af6 pre{padding: 0;}#sk-587a91a0-1826-4af8-a46f-a55adad04af6 div.sk-toggleable {background-color: white;}#sk-587a91a0-1826-4af8-a46f-a55adad04af6 label.sk-toggleable__label {cursor: pointer;display: block;width: 100%;margin-bottom: 0;padding: 0.3em;box-sizing: border-box;text-align: center;}#sk-587a91a0-1826-4af8-a46f-a55adad04af6 label.sk-toggleable__label-arrow:before {content: \"▸\";float: left;margin-right: 0.25em;color: #696969;}#sk-587a91a0-1826-4af8-a46f-a55adad04af6 label.sk-toggleable__label-arrow:hover:before {color: black;}#sk-587a91a0-1826-4af8-a46f-a55adad04af6 div.sk-estimator:hover label.sk-toggleable__label-arrow:before {color: black;}#sk-587a91a0-1826-4af8-a46f-a55adad04af6 div.sk-toggleable__content {max-height: 0;max-width: 0;overflow: hidden;text-align: left;background-color: #f0f8ff;}#sk-587a91a0-1826-4af8-a46f-a55adad04af6 div.sk-toggleable__content pre {margin: 0.2em;color: black;border-radius: 0.25em;background-color: #f0f8ff;}#sk-587a91a0-1826-4af8-a46f-a55adad04af6 input.sk-toggleable__control:checked~div.sk-toggleable__content {max-height: 200px;max-width: 100%;overflow: auto;}#sk-587a91a0-1826-4af8-a46f-a55adad04af6 input.sk-toggleable__control:checked~label.sk-toggleable__label-arrow:before {content: \"▾\";}#sk-587a91a0-1826-4af8-a46f-a55adad04af6 div.sk-estimator input.sk-toggleable__control:checked~label.sk-toggleable__label {background-color: #d4ebff;}#sk-587a91a0-1826-4af8-a46f-a55adad04af6 div.sk-label input.sk-toggleable__control:checked~label.sk-toggleable__label {background-color: #d4ebff;}#sk-587a91a0-1826-4af8-a46f-a55adad04af6 input.sk-hidden--visually {border: 0;clip: rect(1px 1px 1px 1px);clip: rect(1px, 1px, 1px, 1px);height: 1px;margin: -1px;overflow: hidden;padding: 0;position: absolute;width: 1px;}#sk-587a91a0-1826-4af8-a46f-a55adad04af6 div.sk-estimator {font-family: monospace;background-color: #f0f8ff;border: 1px dotted black;border-radius: 0.25em;box-sizing: border-box;margin-bottom: 0.5em;}#sk-587a91a0-1826-4af8-a46f-a55adad04af6 div.sk-estimator:hover {background-color: #d4ebff;}#sk-587a91a0-1826-4af8-a46f-a55adad04af6 div.sk-parallel-item::after {content: \"\";width: 100%;border-bottom: 1px solid gray;flex-grow: 1;}#sk-587a91a0-1826-4af8-a46f-a55adad04af6 div.sk-label:hover label.sk-toggleable__label {background-color: #d4ebff;}#sk-587a91a0-1826-4af8-a46f-a55adad04af6 div.sk-serial::before {content: \"\";position: absolute;border-left: 1px solid gray;box-sizing: border-box;top: 2em;bottom: 0;left: 50%;}#sk-587a91a0-1826-4af8-a46f-a55adad04af6 div.sk-serial {display: flex;flex-direction: column;align-items: center;background-color: white;padding-right: 0.2em;padding-left: 0.2em;}#sk-587a91a0-1826-4af8-a46f-a55adad04af6 div.sk-item {z-index: 1;}#sk-587a91a0-1826-4af8-a46f-a55adad04af6 div.sk-parallel {display: flex;align-items: stretch;justify-content: center;background-color: white;}#sk-587a91a0-1826-4af8-a46f-a55adad04af6 div.sk-parallel::before {content: \"\";position: absolute;border-left: 1px solid gray;box-sizing: border-box;top: 2em;bottom: 0;left: 50%;}#sk-587a91a0-1826-4af8-a46f-a55adad04af6 div.sk-parallel-item {display: flex;flex-direction: column;position: relative;background-color: white;}#sk-587a91a0-1826-4af8-a46f-a55adad04af6 div.sk-parallel-item:first-child::after {align-self: flex-end;width: 50%;}#sk-587a91a0-1826-4af8-a46f-a55adad04af6 div.sk-parallel-item:last-child::after {align-self: flex-start;width: 50%;}#sk-587a91a0-1826-4af8-a46f-a55adad04af6 div.sk-parallel-item:only-child::after {width: 0;}#sk-587a91a0-1826-4af8-a46f-a55adad04af6 div.sk-dashed-wrapped {border: 1px dashed gray;margin: 0 0.4em 0.5em 0.4em;box-sizing: border-box;padding-bottom: 0.4em;background-color: white;position: relative;}#sk-587a91a0-1826-4af8-a46f-a55adad04af6 div.sk-label label {font-family: monospace;font-weight: bold;background-color: white;display: inline-block;line-height: 1.2em;}#sk-587a91a0-1826-4af8-a46f-a55adad04af6 div.sk-label-container {position: relative;z-index: 2;text-align: center;}#sk-587a91a0-1826-4af8-a46f-a55adad04af6 div.sk-container {/* jupyter's `normalize.less` sets `[hidden] { display: none; }` but bootstrap.min.css set `[hidden] { display: none !important; }` so we also need the `!important` here to be able to override the default hidden behavior on the sphinx rendered scikit-learn.org. See: https://github.com/scikit-learn/scikit-learn/issues/21755 */display: inline-block !important;position: relative;}#sk-587a91a0-1826-4af8-a46f-a55adad04af6 div.sk-text-repr-fallback {display: none;}</style><div id=\"sk-587a91a0-1826-4af8-a46f-a55adad04af6\" class=\"sk-top-container\"><div class=\"sk-text-repr-fallback\"><pre>Pipeline(steps=[(&#x27;simpleimputer&#x27;, SimpleImputer(strategy=&#x27;most_frequent&#x27;)),\n",
              "                (&#x27;onehotencoder&#x27;,\n",
              "                 OneHotEncoder(handle_unknown=&#x27;ignore&#x27;, sparse=False))])</pre><b>Please rerun this cell to show the HTML repr or trust the notebook.</b></div><div class=\"sk-container\" hidden><div class=\"sk-item sk-dashed-wrapped\"><div class=\"sk-label-container\"><div class=\"sk-label sk-toggleable\"><input class=\"sk-toggleable__control sk-hidden--visually\" id=\"0e1e4c4e-30a1-4bd4-8922-739a4fbdb948\" type=\"checkbox\" ><label for=\"0e1e4c4e-30a1-4bd4-8922-739a4fbdb948\" class=\"sk-toggleable__label sk-toggleable__label-arrow\">Pipeline</label><div class=\"sk-toggleable__content\"><pre>Pipeline(steps=[(&#x27;simpleimputer&#x27;, SimpleImputer(strategy=&#x27;most_frequent&#x27;)),\n",
              "                (&#x27;onehotencoder&#x27;,\n",
              "                 OneHotEncoder(handle_unknown=&#x27;ignore&#x27;, sparse=False))])</pre></div></div></div><div class=\"sk-serial\"><div class=\"sk-item\"><div class=\"sk-estimator sk-toggleable\"><input class=\"sk-toggleable__control sk-hidden--visually\" id=\"4c18f5f5-c8e9-42c3-b788-7ec8d8b5de84\" type=\"checkbox\" ><label for=\"4c18f5f5-c8e9-42c3-b788-7ec8d8b5de84\" class=\"sk-toggleable__label sk-toggleable__label-arrow\">SimpleImputer</label><div class=\"sk-toggleable__content\"><pre>SimpleImputer(strategy=&#x27;most_frequent&#x27;)</pre></div></div></div><div class=\"sk-item\"><div class=\"sk-estimator sk-toggleable\"><input class=\"sk-toggleable__control sk-hidden--visually\" id=\"5d046365-e0bc-4502-aa34-3c66abecc986\" type=\"checkbox\" ><label for=\"5d046365-e0bc-4502-aa34-3c66abecc986\" class=\"sk-toggleable__label sk-toggleable__label-arrow\">OneHotEncoder</label><div class=\"sk-toggleable__content\"><pre>OneHotEncoder(handle_unknown=&#x27;ignore&#x27;, sparse=False)</pre></div></div></div></div></div></div></div>"
            ]
          },
          "metadata": {},
          "execution_count": 370
        }
      ]
    },
    {
      "cell_type": "code",
      "source": [
        "# instantiate Column Transformer\n",
        "# create tuples\n",
        "num_tuple = (numeric_pipe, num_selector)\n",
        "cat_tuple = (categorical_pipe, cat_selector)\n",
        "# rename column transformer to preprocessor\n",
        "preprocessor = make_column_transformer(num_tuple, cat_tuple)\n",
        "preprocessor"
      ],
      "metadata": {
        "colab": {
          "base_uri": "https://localhost:8080/",
          "height": 152
        },
        "id": "N8c85HV2Mwbb",
        "outputId": "88dcf7c4-35d9-4ed8-8962-9aeb3dd0c0c1"
      },
      "execution_count": 371,
      "outputs": [
        {
          "output_type": "execute_result",
          "data": {
            "text/plain": [
              "ColumnTransformer(transformers=[('pipeline-1',\n",
              "                                 Pipeline(steps=[('simpleimputer',\n",
              "                                                  SimpleImputer(strategy='median')),\n",
              "                                                 ('standardscaler',\n",
              "                                                  StandardScaler())]),\n",
              "                                 <sklearn.compose._column_transformer.make_column_selector object at 0x7fb1cbf167d0>),\n",
              "                                ('pipeline-2',\n",
              "                                 Pipeline(steps=[('simpleimputer',\n",
              "                                                  SimpleImputer(strategy='most_frequent')),\n",
              "                                                 ('onehotencoder',\n",
              "                                                  OneHotEncoder(handle_unknown='ignore',\n",
              "                                                                sparse=False))]),\n",
              "                                 <sklearn.compose._column_transformer.make_column_selector object at 0x7fb1cbf16b50>)])"
            ],
            "text/html": [
              "<style>#sk-7173827e-93ed-4917-bec8-7e1b71547b5e {color: black;background-color: white;}#sk-7173827e-93ed-4917-bec8-7e1b71547b5e pre{padding: 0;}#sk-7173827e-93ed-4917-bec8-7e1b71547b5e div.sk-toggleable {background-color: white;}#sk-7173827e-93ed-4917-bec8-7e1b71547b5e label.sk-toggleable__label {cursor: pointer;display: block;width: 100%;margin-bottom: 0;padding: 0.3em;box-sizing: border-box;text-align: center;}#sk-7173827e-93ed-4917-bec8-7e1b71547b5e label.sk-toggleable__label-arrow:before {content: \"▸\";float: left;margin-right: 0.25em;color: #696969;}#sk-7173827e-93ed-4917-bec8-7e1b71547b5e label.sk-toggleable__label-arrow:hover:before {color: black;}#sk-7173827e-93ed-4917-bec8-7e1b71547b5e div.sk-estimator:hover label.sk-toggleable__label-arrow:before {color: black;}#sk-7173827e-93ed-4917-bec8-7e1b71547b5e div.sk-toggleable__content {max-height: 0;max-width: 0;overflow: hidden;text-align: left;background-color: #f0f8ff;}#sk-7173827e-93ed-4917-bec8-7e1b71547b5e div.sk-toggleable__content pre {margin: 0.2em;color: black;border-radius: 0.25em;background-color: #f0f8ff;}#sk-7173827e-93ed-4917-bec8-7e1b71547b5e input.sk-toggleable__control:checked~div.sk-toggleable__content {max-height: 200px;max-width: 100%;overflow: auto;}#sk-7173827e-93ed-4917-bec8-7e1b71547b5e input.sk-toggleable__control:checked~label.sk-toggleable__label-arrow:before {content: \"▾\";}#sk-7173827e-93ed-4917-bec8-7e1b71547b5e div.sk-estimator input.sk-toggleable__control:checked~label.sk-toggleable__label {background-color: #d4ebff;}#sk-7173827e-93ed-4917-bec8-7e1b71547b5e div.sk-label input.sk-toggleable__control:checked~label.sk-toggleable__label {background-color: #d4ebff;}#sk-7173827e-93ed-4917-bec8-7e1b71547b5e input.sk-hidden--visually {border: 0;clip: rect(1px 1px 1px 1px);clip: rect(1px, 1px, 1px, 1px);height: 1px;margin: -1px;overflow: hidden;padding: 0;position: absolute;width: 1px;}#sk-7173827e-93ed-4917-bec8-7e1b71547b5e div.sk-estimator {font-family: monospace;background-color: #f0f8ff;border: 1px dotted black;border-radius: 0.25em;box-sizing: border-box;margin-bottom: 0.5em;}#sk-7173827e-93ed-4917-bec8-7e1b71547b5e div.sk-estimator:hover {background-color: #d4ebff;}#sk-7173827e-93ed-4917-bec8-7e1b71547b5e div.sk-parallel-item::after {content: \"\";width: 100%;border-bottom: 1px solid gray;flex-grow: 1;}#sk-7173827e-93ed-4917-bec8-7e1b71547b5e div.sk-label:hover label.sk-toggleable__label {background-color: #d4ebff;}#sk-7173827e-93ed-4917-bec8-7e1b71547b5e div.sk-serial::before {content: \"\";position: absolute;border-left: 1px solid gray;box-sizing: border-box;top: 2em;bottom: 0;left: 50%;}#sk-7173827e-93ed-4917-bec8-7e1b71547b5e div.sk-serial {display: flex;flex-direction: column;align-items: center;background-color: white;padding-right: 0.2em;padding-left: 0.2em;}#sk-7173827e-93ed-4917-bec8-7e1b71547b5e div.sk-item {z-index: 1;}#sk-7173827e-93ed-4917-bec8-7e1b71547b5e div.sk-parallel {display: flex;align-items: stretch;justify-content: center;background-color: white;}#sk-7173827e-93ed-4917-bec8-7e1b71547b5e div.sk-parallel::before {content: \"\";position: absolute;border-left: 1px solid gray;box-sizing: border-box;top: 2em;bottom: 0;left: 50%;}#sk-7173827e-93ed-4917-bec8-7e1b71547b5e div.sk-parallel-item {display: flex;flex-direction: column;position: relative;background-color: white;}#sk-7173827e-93ed-4917-bec8-7e1b71547b5e div.sk-parallel-item:first-child::after {align-self: flex-end;width: 50%;}#sk-7173827e-93ed-4917-bec8-7e1b71547b5e div.sk-parallel-item:last-child::after {align-self: flex-start;width: 50%;}#sk-7173827e-93ed-4917-bec8-7e1b71547b5e div.sk-parallel-item:only-child::after {width: 0;}#sk-7173827e-93ed-4917-bec8-7e1b71547b5e div.sk-dashed-wrapped {border: 1px dashed gray;margin: 0 0.4em 0.5em 0.4em;box-sizing: border-box;padding-bottom: 0.4em;background-color: white;position: relative;}#sk-7173827e-93ed-4917-bec8-7e1b71547b5e div.sk-label label {font-family: monospace;font-weight: bold;background-color: white;display: inline-block;line-height: 1.2em;}#sk-7173827e-93ed-4917-bec8-7e1b71547b5e div.sk-label-container {position: relative;z-index: 2;text-align: center;}#sk-7173827e-93ed-4917-bec8-7e1b71547b5e div.sk-container {/* jupyter's `normalize.less` sets `[hidden] { display: none; }` but bootstrap.min.css set `[hidden] { display: none !important; }` so we also need the `!important` here to be able to override the default hidden behavior on the sphinx rendered scikit-learn.org. See: https://github.com/scikit-learn/scikit-learn/issues/21755 */display: inline-block !important;position: relative;}#sk-7173827e-93ed-4917-bec8-7e1b71547b5e div.sk-text-repr-fallback {display: none;}</style><div id=\"sk-7173827e-93ed-4917-bec8-7e1b71547b5e\" class=\"sk-top-container\"><div class=\"sk-text-repr-fallback\"><pre>ColumnTransformer(transformers=[(&#x27;pipeline-1&#x27;,\n",
              "                                 Pipeline(steps=[(&#x27;simpleimputer&#x27;,\n",
              "                                                  SimpleImputer(strategy=&#x27;median&#x27;)),\n",
              "                                                 (&#x27;standardscaler&#x27;,\n",
              "                                                  StandardScaler())]),\n",
              "                                 &lt;sklearn.compose._column_transformer.make_column_selector object at 0x7fb1cbf167d0&gt;),\n",
              "                                (&#x27;pipeline-2&#x27;,\n",
              "                                 Pipeline(steps=[(&#x27;simpleimputer&#x27;,\n",
              "                                                  SimpleImputer(strategy=&#x27;most_frequent&#x27;)),\n",
              "                                                 (&#x27;onehotencoder&#x27;,\n",
              "                                                  OneHotEncoder(handle_unknown=&#x27;ignore&#x27;,\n",
              "                                                                sparse=False))]),\n",
              "                                 &lt;sklearn.compose._column_transformer.make_column_selector object at 0x7fb1cbf16b50&gt;)])</pre><b>Please rerun this cell to show the HTML repr or trust the notebook.</b></div><div class=\"sk-container\" hidden><div class=\"sk-item sk-dashed-wrapped\"><div class=\"sk-label-container\"><div class=\"sk-label sk-toggleable\"><input class=\"sk-toggleable__control sk-hidden--visually\" id=\"9a7a07ca-dd01-42ec-8c7b-c6c9feaafd91\" type=\"checkbox\" ><label for=\"9a7a07ca-dd01-42ec-8c7b-c6c9feaafd91\" class=\"sk-toggleable__label sk-toggleable__label-arrow\">ColumnTransformer</label><div class=\"sk-toggleable__content\"><pre>ColumnTransformer(transformers=[(&#x27;pipeline-1&#x27;,\n",
              "                                 Pipeline(steps=[(&#x27;simpleimputer&#x27;,\n",
              "                                                  SimpleImputer(strategy=&#x27;median&#x27;)),\n",
              "                                                 (&#x27;standardscaler&#x27;,\n",
              "                                                  StandardScaler())]),\n",
              "                                 &lt;sklearn.compose._column_transformer.make_column_selector object at 0x7fb1cbf167d0&gt;),\n",
              "                                (&#x27;pipeline-2&#x27;,\n",
              "                                 Pipeline(steps=[(&#x27;simpleimputer&#x27;,\n",
              "                                                  SimpleImputer(strategy=&#x27;most_frequent&#x27;)),\n",
              "                                                 (&#x27;onehotencoder&#x27;,\n",
              "                                                  OneHotEncoder(handle_unknown=&#x27;ignore&#x27;,\n",
              "                                                                sparse=False))]),\n",
              "                                 &lt;sklearn.compose._column_transformer.make_column_selector object at 0x7fb1cbf16b50&gt;)])</pre></div></div></div><div class=\"sk-parallel\"><div class=\"sk-parallel-item\"><div class=\"sk-item\"><div class=\"sk-label-container\"><div class=\"sk-label sk-toggleable\"><input class=\"sk-toggleable__control sk-hidden--visually\" id=\"775ef159-34e9-482b-96a9-4123380f03b8\" type=\"checkbox\" ><label for=\"775ef159-34e9-482b-96a9-4123380f03b8\" class=\"sk-toggleable__label sk-toggleable__label-arrow\">pipeline-1</label><div class=\"sk-toggleable__content\"><pre>&lt;sklearn.compose._column_transformer.make_column_selector object at 0x7fb1cbf167d0&gt;</pre></div></div></div><div class=\"sk-serial\"><div class=\"sk-item\"><div class=\"sk-serial\"><div class=\"sk-item\"><div class=\"sk-estimator sk-toggleable\"><input class=\"sk-toggleable__control sk-hidden--visually\" id=\"104081d7-c618-4c03-b12d-03095549ec62\" type=\"checkbox\" ><label for=\"104081d7-c618-4c03-b12d-03095549ec62\" class=\"sk-toggleable__label sk-toggleable__label-arrow\">SimpleImputer</label><div class=\"sk-toggleable__content\"><pre>SimpleImputer(strategy=&#x27;median&#x27;)</pre></div></div></div><div class=\"sk-item\"><div class=\"sk-estimator sk-toggleable\"><input class=\"sk-toggleable__control sk-hidden--visually\" id=\"0bc2138e-c468-4440-8cce-a53265b99fff\" type=\"checkbox\" ><label for=\"0bc2138e-c468-4440-8cce-a53265b99fff\" class=\"sk-toggleable__label sk-toggleable__label-arrow\">StandardScaler</label><div class=\"sk-toggleable__content\"><pre>StandardScaler()</pre></div></div></div></div></div></div></div></div><div class=\"sk-parallel-item\"><div class=\"sk-item\"><div class=\"sk-label-container\"><div class=\"sk-label sk-toggleable\"><input class=\"sk-toggleable__control sk-hidden--visually\" id=\"759eb54d-2983-48fa-ab72-bd27cdc0dd49\" type=\"checkbox\" ><label for=\"759eb54d-2983-48fa-ab72-bd27cdc0dd49\" class=\"sk-toggleable__label sk-toggleable__label-arrow\">pipeline-2</label><div class=\"sk-toggleable__content\"><pre>&lt;sklearn.compose._column_transformer.make_column_selector object at 0x7fb1cbf16b50&gt;</pre></div></div></div><div class=\"sk-serial\"><div class=\"sk-item\"><div class=\"sk-serial\"><div class=\"sk-item\"><div class=\"sk-estimator sk-toggleable\"><input class=\"sk-toggleable__control sk-hidden--visually\" id=\"78dd329f-5b4f-40e1-bb2f-8c52e07c66ad\" type=\"checkbox\" ><label for=\"78dd329f-5b4f-40e1-bb2f-8c52e07c66ad\" class=\"sk-toggleable__label sk-toggleable__label-arrow\">SimpleImputer</label><div class=\"sk-toggleable__content\"><pre>SimpleImputer(strategy=&#x27;most_frequent&#x27;)</pre></div></div></div><div class=\"sk-item\"><div class=\"sk-estimator sk-toggleable\"><input class=\"sk-toggleable__control sk-hidden--visually\" id=\"45a74fbb-d59a-4195-9b35-545c64e60e7d\" type=\"checkbox\" ><label for=\"45a74fbb-d59a-4195-9b35-545c64e60e7d\" class=\"sk-toggleable__label sk-toggleable__label-arrow\">OneHotEncoder</label><div class=\"sk-toggleable__content\"><pre>OneHotEncoder(handle_unknown=&#x27;ignore&#x27;, sparse=False)</pre></div></div></div></div></div></div></div></div></div></div></div></div>"
            ]
          },
          "metadata": {},
          "execution_count": 371
        }
      ]
    },
    {
      "cell_type": "code",
      "source": [
        "preprocessor = make_column_transformer(num_tuple, cat_tuple, remainder = 'passthrough')\n",
        "preprocessor"
      ],
      "metadata": {
        "colab": {
          "base_uri": "https://localhost:8080/",
          "height": 152
        },
        "id": "WwUyQZhGM38K",
        "outputId": "e9d845a9-aa2a-4c8e-8212-fe011452a395"
      },
      "execution_count": 372,
      "outputs": [
        {
          "output_type": "execute_result",
          "data": {
            "text/plain": [
              "ColumnTransformer(remainder='passthrough',\n",
              "                  transformers=[('pipeline-1',\n",
              "                                 Pipeline(steps=[('simpleimputer',\n",
              "                                                  SimpleImputer(strategy='median')),\n",
              "                                                 ('standardscaler',\n",
              "                                                  StandardScaler())]),\n",
              "                                 <sklearn.compose._column_transformer.make_column_selector object at 0x7fb1cbf167d0>),\n",
              "                                ('pipeline-2',\n",
              "                                 Pipeline(steps=[('simpleimputer',\n",
              "                                                  SimpleImputer(strategy='most_frequent')),\n",
              "                                                 ('onehotencoder',\n",
              "                                                  OneHotEncoder(handle_unknown='ignore',\n",
              "                                                                sparse=False))]),\n",
              "                                 <sklearn.compose._column_transformer.make_column_selector object at 0x7fb1cbf16b50>)])"
            ],
            "text/html": [
              "<style>#sk-6d8fe5c8-28bc-4365-98a9-a4a9bf3505be {color: black;background-color: white;}#sk-6d8fe5c8-28bc-4365-98a9-a4a9bf3505be pre{padding: 0;}#sk-6d8fe5c8-28bc-4365-98a9-a4a9bf3505be div.sk-toggleable {background-color: white;}#sk-6d8fe5c8-28bc-4365-98a9-a4a9bf3505be label.sk-toggleable__label {cursor: pointer;display: block;width: 100%;margin-bottom: 0;padding: 0.3em;box-sizing: border-box;text-align: center;}#sk-6d8fe5c8-28bc-4365-98a9-a4a9bf3505be label.sk-toggleable__label-arrow:before {content: \"▸\";float: left;margin-right: 0.25em;color: #696969;}#sk-6d8fe5c8-28bc-4365-98a9-a4a9bf3505be label.sk-toggleable__label-arrow:hover:before {color: black;}#sk-6d8fe5c8-28bc-4365-98a9-a4a9bf3505be div.sk-estimator:hover label.sk-toggleable__label-arrow:before {color: black;}#sk-6d8fe5c8-28bc-4365-98a9-a4a9bf3505be div.sk-toggleable__content {max-height: 0;max-width: 0;overflow: hidden;text-align: left;background-color: #f0f8ff;}#sk-6d8fe5c8-28bc-4365-98a9-a4a9bf3505be div.sk-toggleable__content pre {margin: 0.2em;color: black;border-radius: 0.25em;background-color: #f0f8ff;}#sk-6d8fe5c8-28bc-4365-98a9-a4a9bf3505be input.sk-toggleable__control:checked~div.sk-toggleable__content {max-height: 200px;max-width: 100%;overflow: auto;}#sk-6d8fe5c8-28bc-4365-98a9-a4a9bf3505be input.sk-toggleable__control:checked~label.sk-toggleable__label-arrow:before {content: \"▾\";}#sk-6d8fe5c8-28bc-4365-98a9-a4a9bf3505be div.sk-estimator input.sk-toggleable__control:checked~label.sk-toggleable__label {background-color: #d4ebff;}#sk-6d8fe5c8-28bc-4365-98a9-a4a9bf3505be div.sk-label input.sk-toggleable__control:checked~label.sk-toggleable__label {background-color: #d4ebff;}#sk-6d8fe5c8-28bc-4365-98a9-a4a9bf3505be input.sk-hidden--visually {border: 0;clip: rect(1px 1px 1px 1px);clip: rect(1px, 1px, 1px, 1px);height: 1px;margin: -1px;overflow: hidden;padding: 0;position: absolute;width: 1px;}#sk-6d8fe5c8-28bc-4365-98a9-a4a9bf3505be div.sk-estimator {font-family: monospace;background-color: #f0f8ff;border: 1px dotted black;border-radius: 0.25em;box-sizing: border-box;margin-bottom: 0.5em;}#sk-6d8fe5c8-28bc-4365-98a9-a4a9bf3505be div.sk-estimator:hover {background-color: #d4ebff;}#sk-6d8fe5c8-28bc-4365-98a9-a4a9bf3505be div.sk-parallel-item::after {content: \"\";width: 100%;border-bottom: 1px solid gray;flex-grow: 1;}#sk-6d8fe5c8-28bc-4365-98a9-a4a9bf3505be div.sk-label:hover label.sk-toggleable__label {background-color: #d4ebff;}#sk-6d8fe5c8-28bc-4365-98a9-a4a9bf3505be div.sk-serial::before {content: \"\";position: absolute;border-left: 1px solid gray;box-sizing: border-box;top: 2em;bottom: 0;left: 50%;}#sk-6d8fe5c8-28bc-4365-98a9-a4a9bf3505be div.sk-serial {display: flex;flex-direction: column;align-items: center;background-color: white;padding-right: 0.2em;padding-left: 0.2em;}#sk-6d8fe5c8-28bc-4365-98a9-a4a9bf3505be div.sk-item {z-index: 1;}#sk-6d8fe5c8-28bc-4365-98a9-a4a9bf3505be div.sk-parallel {display: flex;align-items: stretch;justify-content: center;background-color: white;}#sk-6d8fe5c8-28bc-4365-98a9-a4a9bf3505be div.sk-parallel::before {content: \"\";position: absolute;border-left: 1px solid gray;box-sizing: border-box;top: 2em;bottom: 0;left: 50%;}#sk-6d8fe5c8-28bc-4365-98a9-a4a9bf3505be div.sk-parallel-item {display: flex;flex-direction: column;position: relative;background-color: white;}#sk-6d8fe5c8-28bc-4365-98a9-a4a9bf3505be div.sk-parallel-item:first-child::after {align-self: flex-end;width: 50%;}#sk-6d8fe5c8-28bc-4365-98a9-a4a9bf3505be div.sk-parallel-item:last-child::after {align-self: flex-start;width: 50%;}#sk-6d8fe5c8-28bc-4365-98a9-a4a9bf3505be div.sk-parallel-item:only-child::after {width: 0;}#sk-6d8fe5c8-28bc-4365-98a9-a4a9bf3505be div.sk-dashed-wrapped {border: 1px dashed gray;margin: 0 0.4em 0.5em 0.4em;box-sizing: border-box;padding-bottom: 0.4em;background-color: white;position: relative;}#sk-6d8fe5c8-28bc-4365-98a9-a4a9bf3505be div.sk-label label {font-family: monospace;font-weight: bold;background-color: white;display: inline-block;line-height: 1.2em;}#sk-6d8fe5c8-28bc-4365-98a9-a4a9bf3505be div.sk-label-container {position: relative;z-index: 2;text-align: center;}#sk-6d8fe5c8-28bc-4365-98a9-a4a9bf3505be div.sk-container {/* jupyter's `normalize.less` sets `[hidden] { display: none; }` but bootstrap.min.css set `[hidden] { display: none !important; }` so we also need the `!important` here to be able to override the default hidden behavior on the sphinx rendered scikit-learn.org. See: https://github.com/scikit-learn/scikit-learn/issues/21755 */display: inline-block !important;position: relative;}#sk-6d8fe5c8-28bc-4365-98a9-a4a9bf3505be div.sk-text-repr-fallback {display: none;}</style><div id=\"sk-6d8fe5c8-28bc-4365-98a9-a4a9bf3505be\" class=\"sk-top-container\"><div class=\"sk-text-repr-fallback\"><pre>ColumnTransformer(remainder=&#x27;passthrough&#x27;,\n",
              "                  transformers=[(&#x27;pipeline-1&#x27;,\n",
              "                                 Pipeline(steps=[(&#x27;simpleimputer&#x27;,\n",
              "                                                  SimpleImputer(strategy=&#x27;median&#x27;)),\n",
              "                                                 (&#x27;standardscaler&#x27;,\n",
              "                                                  StandardScaler())]),\n",
              "                                 &lt;sklearn.compose._column_transformer.make_column_selector object at 0x7fb1cbf167d0&gt;),\n",
              "                                (&#x27;pipeline-2&#x27;,\n",
              "                                 Pipeline(steps=[(&#x27;simpleimputer&#x27;,\n",
              "                                                  SimpleImputer(strategy=&#x27;most_frequent&#x27;)),\n",
              "                                                 (&#x27;onehotencoder&#x27;,\n",
              "                                                  OneHotEncoder(handle_unknown=&#x27;ignore&#x27;,\n",
              "                                                                sparse=False))]),\n",
              "                                 &lt;sklearn.compose._column_transformer.make_column_selector object at 0x7fb1cbf16b50&gt;)])</pre><b>Please rerun this cell to show the HTML repr or trust the notebook.</b></div><div class=\"sk-container\" hidden><div class=\"sk-item sk-dashed-wrapped\"><div class=\"sk-label-container\"><div class=\"sk-label sk-toggleable\"><input class=\"sk-toggleable__control sk-hidden--visually\" id=\"bccd8a12-85c8-4b83-859b-5990ab153a0f\" type=\"checkbox\" ><label for=\"bccd8a12-85c8-4b83-859b-5990ab153a0f\" class=\"sk-toggleable__label sk-toggleable__label-arrow\">ColumnTransformer</label><div class=\"sk-toggleable__content\"><pre>ColumnTransformer(remainder=&#x27;passthrough&#x27;,\n",
              "                  transformers=[(&#x27;pipeline-1&#x27;,\n",
              "                                 Pipeline(steps=[(&#x27;simpleimputer&#x27;,\n",
              "                                                  SimpleImputer(strategy=&#x27;median&#x27;)),\n",
              "                                                 (&#x27;standardscaler&#x27;,\n",
              "                                                  StandardScaler())]),\n",
              "                                 &lt;sklearn.compose._column_transformer.make_column_selector object at 0x7fb1cbf167d0&gt;),\n",
              "                                (&#x27;pipeline-2&#x27;,\n",
              "                                 Pipeline(steps=[(&#x27;simpleimputer&#x27;,\n",
              "                                                  SimpleImputer(strategy=&#x27;most_frequent&#x27;)),\n",
              "                                                 (&#x27;onehotencoder&#x27;,\n",
              "                                                  OneHotEncoder(handle_unknown=&#x27;ignore&#x27;,\n",
              "                                                                sparse=False))]),\n",
              "                                 &lt;sklearn.compose._column_transformer.make_column_selector object at 0x7fb1cbf16b50&gt;)])</pre></div></div></div><div class=\"sk-parallel\"><div class=\"sk-parallel-item\"><div class=\"sk-item\"><div class=\"sk-label-container\"><div class=\"sk-label sk-toggleable\"><input class=\"sk-toggleable__control sk-hidden--visually\" id=\"b0b93888-5253-412b-9f0d-4f440330af7e\" type=\"checkbox\" ><label for=\"b0b93888-5253-412b-9f0d-4f440330af7e\" class=\"sk-toggleable__label sk-toggleable__label-arrow\">pipeline-1</label><div class=\"sk-toggleable__content\"><pre>&lt;sklearn.compose._column_transformer.make_column_selector object at 0x7fb1cbf167d0&gt;</pre></div></div></div><div class=\"sk-serial\"><div class=\"sk-item\"><div class=\"sk-serial\"><div class=\"sk-item\"><div class=\"sk-estimator sk-toggleable\"><input class=\"sk-toggleable__control sk-hidden--visually\" id=\"0b87d28d-92e0-46df-b18f-00b00d71967e\" type=\"checkbox\" ><label for=\"0b87d28d-92e0-46df-b18f-00b00d71967e\" class=\"sk-toggleable__label sk-toggleable__label-arrow\">SimpleImputer</label><div class=\"sk-toggleable__content\"><pre>SimpleImputer(strategy=&#x27;median&#x27;)</pre></div></div></div><div class=\"sk-item\"><div class=\"sk-estimator sk-toggleable\"><input class=\"sk-toggleable__control sk-hidden--visually\" id=\"1dbc9cda-b0e6-40cd-8241-d8cd5655144a\" type=\"checkbox\" ><label for=\"1dbc9cda-b0e6-40cd-8241-d8cd5655144a\" class=\"sk-toggleable__label sk-toggleable__label-arrow\">StandardScaler</label><div class=\"sk-toggleable__content\"><pre>StandardScaler()</pre></div></div></div></div></div></div></div></div><div class=\"sk-parallel-item\"><div class=\"sk-item\"><div class=\"sk-label-container\"><div class=\"sk-label sk-toggleable\"><input class=\"sk-toggleable__control sk-hidden--visually\" id=\"6eb1717d-4d05-45cf-9214-370bba40fd81\" type=\"checkbox\" ><label for=\"6eb1717d-4d05-45cf-9214-370bba40fd81\" class=\"sk-toggleable__label sk-toggleable__label-arrow\">pipeline-2</label><div class=\"sk-toggleable__content\"><pre>&lt;sklearn.compose._column_transformer.make_column_selector object at 0x7fb1cbf16b50&gt;</pre></div></div></div><div class=\"sk-serial\"><div class=\"sk-item\"><div class=\"sk-serial\"><div class=\"sk-item\"><div class=\"sk-estimator sk-toggleable\"><input class=\"sk-toggleable__control sk-hidden--visually\" id=\"3f0fb084-4403-4aaa-bc87-9daf4be1574c\" type=\"checkbox\" ><label for=\"3f0fb084-4403-4aaa-bc87-9daf4be1574c\" class=\"sk-toggleable__label sk-toggleable__label-arrow\">SimpleImputer</label><div class=\"sk-toggleable__content\"><pre>SimpleImputer(strategy=&#x27;most_frequent&#x27;)</pre></div></div></div><div class=\"sk-item\"><div class=\"sk-estimator sk-toggleable\"><input class=\"sk-toggleable__control sk-hidden--visually\" id=\"e57cf58a-598b-4ed9-9e67-e75903fbb90e\" type=\"checkbox\" ><label for=\"e57cf58a-598b-4ed9-9e67-e75903fbb90e\" class=\"sk-toggleable__label sk-toggleable__label-arrow\">OneHotEncoder</label><div class=\"sk-toggleable__content\"><pre>OneHotEncoder(handle_unknown=&#x27;ignore&#x27;, sparse=False)</pre></div></div></div></div></div></div></div></div><div class=\"sk-parallel-item\"><div class=\"sk-item\"><div class=\"sk-label-container\"><div class=\"sk-label sk-toggleable\"><input class=\"sk-toggleable__control sk-hidden--visually\" id=\"a6b8af46-c4b6-419e-811d-ca566623424b\" type=\"checkbox\" ><label for=\"a6b8af46-c4b6-419e-811d-ca566623424b\" class=\"sk-toggleable__label sk-toggleable__label-arrow\">remainder</label><div class=\"sk-toggleable__content\"><pre></pre></div></div></div><div class=\"sk-serial\"><div class=\"sk-item\"><div class=\"sk-estimator sk-toggleable\"><input class=\"sk-toggleable__control sk-hidden--visually\" id=\"48d8db8a-c690-4fd5-ac12-4f7530f0f186\" type=\"checkbox\" ><label for=\"48d8db8a-c690-4fd5-ac12-4f7530f0f186\" class=\"sk-toggleable__label sk-toggleable__label-arrow\">passthrough</label><div class=\"sk-toggleable__content\"><pre>passthrough</pre></div></div></div></div></div></div></div></div></div></div>"
            ]
          },
          "metadata": {},
          "execution_count": 372
        }
      ]
    },
    {
      "cell_type": "code",
      "source": [
        "# only fit to training data\n",
        "preprocessor.fit(X_train)"
      ],
      "metadata": {
        "colab": {
          "base_uri": "https://localhost:8080/",
          "height": 152
        },
        "id": "EsToSdwBNCEp",
        "outputId": "0366a7d2-2990-4ee5-c79b-e0cf8d87060b"
      },
      "execution_count": 373,
      "outputs": [
        {
          "output_type": "execute_result",
          "data": {
            "text/plain": [
              "ColumnTransformer(remainder='passthrough',\n",
              "                  transformers=[('pipeline-1',\n",
              "                                 Pipeline(steps=[('simpleimputer',\n",
              "                                                  SimpleImputer(strategy='median')),\n",
              "                                                 ('standardscaler',\n",
              "                                                  StandardScaler())]),\n",
              "                                 <sklearn.compose._column_transformer.make_column_selector object at 0x7fb1cbf167d0>),\n",
              "                                ('pipeline-2',\n",
              "                                 Pipeline(steps=[('simpleimputer',\n",
              "                                                  SimpleImputer(strategy='most_frequent')),\n",
              "                                                 ('onehotencoder',\n",
              "                                                  OneHotEncoder(handle_unknown='ignore',\n",
              "                                                                sparse=False))]),\n",
              "                                 <sklearn.compose._column_transformer.make_column_selector object at 0x7fb1cbf16b50>)])"
            ],
            "text/html": [
              "<style>#sk-32c9c03e-7d8f-4603-8fff-7ec3f739f82f {color: black;background-color: white;}#sk-32c9c03e-7d8f-4603-8fff-7ec3f739f82f pre{padding: 0;}#sk-32c9c03e-7d8f-4603-8fff-7ec3f739f82f div.sk-toggleable {background-color: white;}#sk-32c9c03e-7d8f-4603-8fff-7ec3f739f82f label.sk-toggleable__label {cursor: pointer;display: block;width: 100%;margin-bottom: 0;padding: 0.3em;box-sizing: border-box;text-align: center;}#sk-32c9c03e-7d8f-4603-8fff-7ec3f739f82f label.sk-toggleable__label-arrow:before {content: \"▸\";float: left;margin-right: 0.25em;color: #696969;}#sk-32c9c03e-7d8f-4603-8fff-7ec3f739f82f label.sk-toggleable__label-arrow:hover:before {color: black;}#sk-32c9c03e-7d8f-4603-8fff-7ec3f739f82f div.sk-estimator:hover label.sk-toggleable__label-arrow:before {color: black;}#sk-32c9c03e-7d8f-4603-8fff-7ec3f739f82f div.sk-toggleable__content {max-height: 0;max-width: 0;overflow: hidden;text-align: left;background-color: #f0f8ff;}#sk-32c9c03e-7d8f-4603-8fff-7ec3f739f82f div.sk-toggleable__content pre {margin: 0.2em;color: black;border-radius: 0.25em;background-color: #f0f8ff;}#sk-32c9c03e-7d8f-4603-8fff-7ec3f739f82f input.sk-toggleable__control:checked~div.sk-toggleable__content {max-height: 200px;max-width: 100%;overflow: auto;}#sk-32c9c03e-7d8f-4603-8fff-7ec3f739f82f input.sk-toggleable__control:checked~label.sk-toggleable__label-arrow:before {content: \"▾\";}#sk-32c9c03e-7d8f-4603-8fff-7ec3f739f82f div.sk-estimator input.sk-toggleable__control:checked~label.sk-toggleable__label {background-color: #d4ebff;}#sk-32c9c03e-7d8f-4603-8fff-7ec3f739f82f div.sk-label input.sk-toggleable__control:checked~label.sk-toggleable__label {background-color: #d4ebff;}#sk-32c9c03e-7d8f-4603-8fff-7ec3f739f82f input.sk-hidden--visually {border: 0;clip: rect(1px 1px 1px 1px);clip: rect(1px, 1px, 1px, 1px);height: 1px;margin: -1px;overflow: hidden;padding: 0;position: absolute;width: 1px;}#sk-32c9c03e-7d8f-4603-8fff-7ec3f739f82f div.sk-estimator {font-family: monospace;background-color: #f0f8ff;border: 1px dotted black;border-radius: 0.25em;box-sizing: border-box;margin-bottom: 0.5em;}#sk-32c9c03e-7d8f-4603-8fff-7ec3f739f82f div.sk-estimator:hover {background-color: #d4ebff;}#sk-32c9c03e-7d8f-4603-8fff-7ec3f739f82f div.sk-parallel-item::after {content: \"\";width: 100%;border-bottom: 1px solid gray;flex-grow: 1;}#sk-32c9c03e-7d8f-4603-8fff-7ec3f739f82f div.sk-label:hover label.sk-toggleable__label {background-color: #d4ebff;}#sk-32c9c03e-7d8f-4603-8fff-7ec3f739f82f div.sk-serial::before {content: \"\";position: absolute;border-left: 1px solid gray;box-sizing: border-box;top: 2em;bottom: 0;left: 50%;}#sk-32c9c03e-7d8f-4603-8fff-7ec3f739f82f div.sk-serial {display: flex;flex-direction: column;align-items: center;background-color: white;padding-right: 0.2em;padding-left: 0.2em;}#sk-32c9c03e-7d8f-4603-8fff-7ec3f739f82f div.sk-item {z-index: 1;}#sk-32c9c03e-7d8f-4603-8fff-7ec3f739f82f div.sk-parallel {display: flex;align-items: stretch;justify-content: center;background-color: white;}#sk-32c9c03e-7d8f-4603-8fff-7ec3f739f82f div.sk-parallel::before {content: \"\";position: absolute;border-left: 1px solid gray;box-sizing: border-box;top: 2em;bottom: 0;left: 50%;}#sk-32c9c03e-7d8f-4603-8fff-7ec3f739f82f div.sk-parallel-item {display: flex;flex-direction: column;position: relative;background-color: white;}#sk-32c9c03e-7d8f-4603-8fff-7ec3f739f82f div.sk-parallel-item:first-child::after {align-self: flex-end;width: 50%;}#sk-32c9c03e-7d8f-4603-8fff-7ec3f739f82f div.sk-parallel-item:last-child::after {align-self: flex-start;width: 50%;}#sk-32c9c03e-7d8f-4603-8fff-7ec3f739f82f div.sk-parallel-item:only-child::after {width: 0;}#sk-32c9c03e-7d8f-4603-8fff-7ec3f739f82f div.sk-dashed-wrapped {border: 1px dashed gray;margin: 0 0.4em 0.5em 0.4em;box-sizing: border-box;padding-bottom: 0.4em;background-color: white;position: relative;}#sk-32c9c03e-7d8f-4603-8fff-7ec3f739f82f div.sk-label label {font-family: monospace;font-weight: bold;background-color: white;display: inline-block;line-height: 1.2em;}#sk-32c9c03e-7d8f-4603-8fff-7ec3f739f82f div.sk-label-container {position: relative;z-index: 2;text-align: center;}#sk-32c9c03e-7d8f-4603-8fff-7ec3f739f82f div.sk-container {/* jupyter's `normalize.less` sets `[hidden] { display: none; }` but bootstrap.min.css set `[hidden] { display: none !important; }` so we also need the `!important` here to be able to override the default hidden behavior on the sphinx rendered scikit-learn.org. See: https://github.com/scikit-learn/scikit-learn/issues/21755 */display: inline-block !important;position: relative;}#sk-32c9c03e-7d8f-4603-8fff-7ec3f739f82f div.sk-text-repr-fallback {display: none;}</style><div id=\"sk-32c9c03e-7d8f-4603-8fff-7ec3f739f82f\" class=\"sk-top-container\"><div class=\"sk-text-repr-fallback\"><pre>ColumnTransformer(remainder=&#x27;passthrough&#x27;,\n",
              "                  transformers=[(&#x27;pipeline-1&#x27;,\n",
              "                                 Pipeline(steps=[(&#x27;simpleimputer&#x27;,\n",
              "                                                  SimpleImputer(strategy=&#x27;median&#x27;)),\n",
              "                                                 (&#x27;standardscaler&#x27;,\n",
              "                                                  StandardScaler())]),\n",
              "                                 &lt;sklearn.compose._column_transformer.make_column_selector object at 0x7fb1cbf167d0&gt;),\n",
              "                                (&#x27;pipeline-2&#x27;,\n",
              "                                 Pipeline(steps=[(&#x27;simpleimputer&#x27;,\n",
              "                                                  SimpleImputer(strategy=&#x27;most_frequent&#x27;)),\n",
              "                                                 (&#x27;onehotencoder&#x27;,\n",
              "                                                  OneHotEncoder(handle_unknown=&#x27;ignore&#x27;,\n",
              "                                                                sparse=False))]),\n",
              "                                 &lt;sklearn.compose._column_transformer.make_column_selector object at 0x7fb1cbf16b50&gt;)])</pre><b>Please rerun this cell to show the HTML repr or trust the notebook.</b></div><div class=\"sk-container\" hidden><div class=\"sk-item sk-dashed-wrapped\"><div class=\"sk-label-container\"><div class=\"sk-label sk-toggleable\"><input class=\"sk-toggleable__control sk-hidden--visually\" id=\"92bd92c2-5ad0-4c6b-a0cc-5b32e48a826d\" type=\"checkbox\" ><label for=\"92bd92c2-5ad0-4c6b-a0cc-5b32e48a826d\" class=\"sk-toggleable__label sk-toggleable__label-arrow\">ColumnTransformer</label><div class=\"sk-toggleable__content\"><pre>ColumnTransformer(remainder=&#x27;passthrough&#x27;,\n",
              "                  transformers=[(&#x27;pipeline-1&#x27;,\n",
              "                                 Pipeline(steps=[(&#x27;simpleimputer&#x27;,\n",
              "                                                  SimpleImputer(strategy=&#x27;median&#x27;)),\n",
              "                                                 (&#x27;standardscaler&#x27;,\n",
              "                                                  StandardScaler())]),\n",
              "                                 &lt;sklearn.compose._column_transformer.make_column_selector object at 0x7fb1cbf167d0&gt;),\n",
              "                                (&#x27;pipeline-2&#x27;,\n",
              "                                 Pipeline(steps=[(&#x27;simpleimputer&#x27;,\n",
              "                                                  SimpleImputer(strategy=&#x27;most_frequent&#x27;)),\n",
              "                                                 (&#x27;onehotencoder&#x27;,\n",
              "                                                  OneHotEncoder(handle_unknown=&#x27;ignore&#x27;,\n",
              "                                                                sparse=False))]),\n",
              "                                 &lt;sklearn.compose._column_transformer.make_column_selector object at 0x7fb1cbf16b50&gt;)])</pre></div></div></div><div class=\"sk-parallel\"><div class=\"sk-parallel-item\"><div class=\"sk-item\"><div class=\"sk-label-container\"><div class=\"sk-label sk-toggleable\"><input class=\"sk-toggleable__control sk-hidden--visually\" id=\"de9d956b-7048-4b05-a796-67f2f5980ad1\" type=\"checkbox\" ><label for=\"de9d956b-7048-4b05-a796-67f2f5980ad1\" class=\"sk-toggleable__label sk-toggleable__label-arrow\">pipeline-1</label><div class=\"sk-toggleable__content\"><pre>&lt;sklearn.compose._column_transformer.make_column_selector object at 0x7fb1cbf167d0&gt;</pre></div></div></div><div class=\"sk-serial\"><div class=\"sk-item\"><div class=\"sk-serial\"><div class=\"sk-item\"><div class=\"sk-estimator sk-toggleable\"><input class=\"sk-toggleable__control sk-hidden--visually\" id=\"dc2fc612-3793-4e06-aef6-23832e652322\" type=\"checkbox\" ><label for=\"dc2fc612-3793-4e06-aef6-23832e652322\" class=\"sk-toggleable__label sk-toggleable__label-arrow\">SimpleImputer</label><div class=\"sk-toggleable__content\"><pre>SimpleImputer(strategy=&#x27;median&#x27;)</pre></div></div></div><div class=\"sk-item\"><div class=\"sk-estimator sk-toggleable\"><input class=\"sk-toggleable__control sk-hidden--visually\" id=\"d002d1e0-871c-4493-b13b-9709dc02fad1\" type=\"checkbox\" ><label for=\"d002d1e0-871c-4493-b13b-9709dc02fad1\" class=\"sk-toggleable__label sk-toggleable__label-arrow\">StandardScaler</label><div class=\"sk-toggleable__content\"><pre>StandardScaler()</pre></div></div></div></div></div></div></div></div><div class=\"sk-parallel-item\"><div class=\"sk-item\"><div class=\"sk-label-container\"><div class=\"sk-label sk-toggleable\"><input class=\"sk-toggleable__control sk-hidden--visually\" id=\"f531a770-90f7-41f5-8f20-2b463e4e4bfb\" type=\"checkbox\" ><label for=\"f531a770-90f7-41f5-8f20-2b463e4e4bfb\" class=\"sk-toggleable__label sk-toggleable__label-arrow\">pipeline-2</label><div class=\"sk-toggleable__content\"><pre>&lt;sklearn.compose._column_transformer.make_column_selector object at 0x7fb1cbf16b50&gt;</pre></div></div></div><div class=\"sk-serial\"><div class=\"sk-item\"><div class=\"sk-serial\"><div class=\"sk-item\"><div class=\"sk-estimator sk-toggleable\"><input class=\"sk-toggleable__control sk-hidden--visually\" id=\"5cd6135b-8ffb-4685-bb58-b99ba150d625\" type=\"checkbox\" ><label for=\"5cd6135b-8ffb-4685-bb58-b99ba150d625\" class=\"sk-toggleable__label sk-toggleable__label-arrow\">SimpleImputer</label><div class=\"sk-toggleable__content\"><pre>SimpleImputer(strategy=&#x27;most_frequent&#x27;)</pre></div></div></div><div class=\"sk-item\"><div class=\"sk-estimator sk-toggleable\"><input class=\"sk-toggleable__control sk-hidden--visually\" id=\"cf1d2be1-9b41-4ebe-8ffd-0b435e3f0856\" type=\"checkbox\" ><label for=\"cf1d2be1-9b41-4ebe-8ffd-0b435e3f0856\" class=\"sk-toggleable__label sk-toggleable__label-arrow\">OneHotEncoder</label><div class=\"sk-toggleable__content\"><pre>OneHotEncoder(handle_unknown=&#x27;ignore&#x27;, sparse=False)</pre></div></div></div></div></div></div></div></div><div class=\"sk-parallel-item\"><div class=\"sk-item\"><div class=\"sk-label-container\"><div class=\"sk-label sk-toggleable\"><input class=\"sk-toggleable__control sk-hidden--visually\" id=\"a8ed3a8e-e7c2-4868-9777-23ec4c104a4c\" type=\"checkbox\" ><label for=\"a8ed3a8e-e7c2-4868-9777-23ec4c104a4c\" class=\"sk-toggleable__label sk-toggleable__label-arrow\">remainder</label><div class=\"sk-toggleable__content\"><pre>[]</pre></div></div></div><div class=\"sk-serial\"><div class=\"sk-item\"><div class=\"sk-estimator sk-toggleable\"><input class=\"sk-toggleable__control sk-hidden--visually\" id=\"7438e9f5-2714-49db-a09a-b62ee85ca1a7\" type=\"checkbox\" ><label for=\"7438e9f5-2714-49db-a09a-b62ee85ca1a7\" class=\"sk-toggleable__label sk-toggleable__label-arrow\">passthrough</label><div class=\"sk-toggleable__content\"><pre>passthrough</pre></div></div></div></div></div></div></div></div></div></div>"
            ]
          },
          "metadata": {},
          "execution_count": 373
        }
      ]
    },
    {
      "cell_type": "markdown",
      "source": [
        "KNN Model"
      ],
      "metadata": {
        "id": "Sx7ICvTkNnOq"
      }
    },
    {
      "cell_type": "code",
      "source": [
        "df1['Rating.Overall'].value_counts()"
      ],
      "metadata": {
        "colab": {
          "base_uri": "https://localhost:8080/"
        },
        "id": "S5q8yCEzNLKL",
        "outputId": "b25ab772-644e-49cc-f177-2b2ce6ec0e93"
      },
      "execution_count": 374,
      "outputs": [
        {
          "output_type": "execute_result",
          "data": {
            "text/plain": [
              " 3    1258\n",
              " 4    1087\n",
              "-1    1026\n",
              " 2     797\n",
              " 5     292\n",
              " 1     281\n",
              "Name: Rating.Overall, dtype: int64"
            ]
          },
          "metadata": {},
          "execution_count": 374
        }
      ]
    },
    {
      "cell_type": "code",
      "source": [
        "knn= KNeighborsClassifier()\n",
        "\n",
        "#create a pipeline for KNN model\n",
        "knn_pipe = make_pipeline(preprocessor, knn)\n",
        "#fit model to dataset\n",
        "knn_pipe.fit(X_train, y_train)"
      ],
      "metadata": {
        "colab": {
          "base_uri": "https://localhost:8080/",
          "height": 227
        },
        "id": "0PC2_Et3OhKx",
        "outputId": "03e3246a-3e24-4b16-acd2-2594e61ccd36"
      },
      "execution_count": 375,
      "outputs": [
        {
          "output_type": "execute_result",
          "data": {
            "text/plain": [
              "Pipeline(steps=[('columntransformer',\n",
              "                 ColumnTransformer(remainder='passthrough',\n",
              "                                   transformers=[('pipeline-1',\n",
              "                                                  Pipeline(steps=[('simpleimputer',\n",
              "                                                                   SimpleImputer(strategy='median')),\n",
              "                                                                  ('standardscaler',\n",
              "                                                                   StandardScaler())]),\n",
              "                                                  <sklearn.compose._column_transformer.make_column_selector object at 0x7fb1cbf167d0>),\n",
              "                                                 ('pipeline-2',\n",
              "                                                  Pipeline(steps=[('simpleimputer',\n",
              "                                                                   SimpleImputer(strategy='most_frequent')),\n",
              "                                                                  ('onehotencoder',\n",
              "                                                                   OneHotEncoder(handle_unknown='ignore',\n",
              "                                                                                 sparse=False))]),\n",
              "                                                  <sklearn.compose._column_transformer.make_column_selector object at 0x7fb1cbf16b50>)])),\n",
              "                ('kneighborsclassifier', KNeighborsClassifier())])"
            ],
            "text/html": [
              "<style>#sk-362e0132-4bc4-41be-a08f-89a4e5d8cfcb {color: black;background-color: white;}#sk-362e0132-4bc4-41be-a08f-89a4e5d8cfcb pre{padding: 0;}#sk-362e0132-4bc4-41be-a08f-89a4e5d8cfcb div.sk-toggleable {background-color: white;}#sk-362e0132-4bc4-41be-a08f-89a4e5d8cfcb label.sk-toggleable__label {cursor: pointer;display: block;width: 100%;margin-bottom: 0;padding: 0.3em;box-sizing: border-box;text-align: center;}#sk-362e0132-4bc4-41be-a08f-89a4e5d8cfcb label.sk-toggleable__label-arrow:before {content: \"▸\";float: left;margin-right: 0.25em;color: #696969;}#sk-362e0132-4bc4-41be-a08f-89a4e5d8cfcb label.sk-toggleable__label-arrow:hover:before {color: black;}#sk-362e0132-4bc4-41be-a08f-89a4e5d8cfcb div.sk-estimator:hover label.sk-toggleable__label-arrow:before {color: black;}#sk-362e0132-4bc4-41be-a08f-89a4e5d8cfcb div.sk-toggleable__content {max-height: 0;max-width: 0;overflow: hidden;text-align: left;background-color: #f0f8ff;}#sk-362e0132-4bc4-41be-a08f-89a4e5d8cfcb div.sk-toggleable__content pre {margin: 0.2em;color: black;border-radius: 0.25em;background-color: #f0f8ff;}#sk-362e0132-4bc4-41be-a08f-89a4e5d8cfcb input.sk-toggleable__control:checked~div.sk-toggleable__content {max-height: 200px;max-width: 100%;overflow: auto;}#sk-362e0132-4bc4-41be-a08f-89a4e5d8cfcb input.sk-toggleable__control:checked~label.sk-toggleable__label-arrow:before {content: \"▾\";}#sk-362e0132-4bc4-41be-a08f-89a4e5d8cfcb div.sk-estimator input.sk-toggleable__control:checked~label.sk-toggleable__label {background-color: #d4ebff;}#sk-362e0132-4bc4-41be-a08f-89a4e5d8cfcb div.sk-label input.sk-toggleable__control:checked~label.sk-toggleable__label {background-color: #d4ebff;}#sk-362e0132-4bc4-41be-a08f-89a4e5d8cfcb input.sk-hidden--visually {border: 0;clip: rect(1px 1px 1px 1px);clip: rect(1px, 1px, 1px, 1px);height: 1px;margin: -1px;overflow: hidden;padding: 0;position: absolute;width: 1px;}#sk-362e0132-4bc4-41be-a08f-89a4e5d8cfcb div.sk-estimator {font-family: monospace;background-color: #f0f8ff;border: 1px dotted black;border-radius: 0.25em;box-sizing: border-box;margin-bottom: 0.5em;}#sk-362e0132-4bc4-41be-a08f-89a4e5d8cfcb div.sk-estimator:hover {background-color: #d4ebff;}#sk-362e0132-4bc4-41be-a08f-89a4e5d8cfcb div.sk-parallel-item::after {content: \"\";width: 100%;border-bottom: 1px solid gray;flex-grow: 1;}#sk-362e0132-4bc4-41be-a08f-89a4e5d8cfcb div.sk-label:hover label.sk-toggleable__label {background-color: #d4ebff;}#sk-362e0132-4bc4-41be-a08f-89a4e5d8cfcb div.sk-serial::before {content: \"\";position: absolute;border-left: 1px solid gray;box-sizing: border-box;top: 2em;bottom: 0;left: 50%;}#sk-362e0132-4bc4-41be-a08f-89a4e5d8cfcb div.sk-serial {display: flex;flex-direction: column;align-items: center;background-color: white;padding-right: 0.2em;padding-left: 0.2em;}#sk-362e0132-4bc4-41be-a08f-89a4e5d8cfcb div.sk-item {z-index: 1;}#sk-362e0132-4bc4-41be-a08f-89a4e5d8cfcb div.sk-parallel {display: flex;align-items: stretch;justify-content: center;background-color: white;}#sk-362e0132-4bc4-41be-a08f-89a4e5d8cfcb div.sk-parallel::before {content: \"\";position: absolute;border-left: 1px solid gray;box-sizing: border-box;top: 2em;bottom: 0;left: 50%;}#sk-362e0132-4bc4-41be-a08f-89a4e5d8cfcb div.sk-parallel-item {display: flex;flex-direction: column;position: relative;background-color: white;}#sk-362e0132-4bc4-41be-a08f-89a4e5d8cfcb div.sk-parallel-item:first-child::after {align-self: flex-end;width: 50%;}#sk-362e0132-4bc4-41be-a08f-89a4e5d8cfcb div.sk-parallel-item:last-child::after {align-self: flex-start;width: 50%;}#sk-362e0132-4bc4-41be-a08f-89a4e5d8cfcb div.sk-parallel-item:only-child::after {width: 0;}#sk-362e0132-4bc4-41be-a08f-89a4e5d8cfcb div.sk-dashed-wrapped {border: 1px dashed gray;margin: 0 0.4em 0.5em 0.4em;box-sizing: border-box;padding-bottom: 0.4em;background-color: white;position: relative;}#sk-362e0132-4bc4-41be-a08f-89a4e5d8cfcb div.sk-label label {font-family: monospace;font-weight: bold;background-color: white;display: inline-block;line-height: 1.2em;}#sk-362e0132-4bc4-41be-a08f-89a4e5d8cfcb div.sk-label-container {position: relative;z-index: 2;text-align: center;}#sk-362e0132-4bc4-41be-a08f-89a4e5d8cfcb div.sk-container {/* jupyter's `normalize.less` sets `[hidden] { display: none; }` but bootstrap.min.css set `[hidden] { display: none !important; }` so we also need the `!important` here to be able to override the default hidden behavior on the sphinx rendered scikit-learn.org. See: https://github.com/scikit-learn/scikit-learn/issues/21755 */display: inline-block !important;position: relative;}#sk-362e0132-4bc4-41be-a08f-89a4e5d8cfcb div.sk-text-repr-fallback {display: none;}</style><div id=\"sk-362e0132-4bc4-41be-a08f-89a4e5d8cfcb\" class=\"sk-top-container\"><div class=\"sk-text-repr-fallback\"><pre>Pipeline(steps=[(&#x27;columntransformer&#x27;,\n",
              "                 ColumnTransformer(remainder=&#x27;passthrough&#x27;,\n",
              "                                   transformers=[(&#x27;pipeline-1&#x27;,\n",
              "                                                  Pipeline(steps=[(&#x27;simpleimputer&#x27;,\n",
              "                                                                   SimpleImputer(strategy=&#x27;median&#x27;)),\n",
              "                                                                  (&#x27;standardscaler&#x27;,\n",
              "                                                                   StandardScaler())]),\n",
              "                                                  &lt;sklearn.compose._column_transformer.make_column_selector object at 0x7fb1cbf167d0&gt;),\n",
              "                                                 (&#x27;pipeline-2&#x27;,\n",
              "                                                  Pipeline(steps=[(&#x27;simpleimputer&#x27;,\n",
              "                                                                   SimpleImputer(strategy=&#x27;most_frequent&#x27;)),\n",
              "                                                                  (&#x27;onehotencoder&#x27;,\n",
              "                                                                   OneHotEncoder(handle_unknown=&#x27;ignore&#x27;,\n",
              "                                                                                 sparse=False))]),\n",
              "                                                  &lt;sklearn.compose._column_transformer.make_column_selector object at 0x7fb1cbf16b50&gt;)])),\n",
              "                (&#x27;kneighborsclassifier&#x27;, KNeighborsClassifier())])</pre><b>Please rerun this cell to show the HTML repr or trust the notebook.</b></div><div class=\"sk-container\" hidden><div class=\"sk-item sk-dashed-wrapped\"><div class=\"sk-label-container\"><div class=\"sk-label sk-toggleable\"><input class=\"sk-toggleable__control sk-hidden--visually\" id=\"62734858-d7c3-44d0-a715-274e178d4c5d\" type=\"checkbox\" ><label for=\"62734858-d7c3-44d0-a715-274e178d4c5d\" class=\"sk-toggleable__label sk-toggleable__label-arrow\">Pipeline</label><div class=\"sk-toggleable__content\"><pre>Pipeline(steps=[(&#x27;columntransformer&#x27;,\n",
              "                 ColumnTransformer(remainder=&#x27;passthrough&#x27;,\n",
              "                                   transformers=[(&#x27;pipeline-1&#x27;,\n",
              "                                                  Pipeline(steps=[(&#x27;simpleimputer&#x27;,\n",
              "                                                                   SimpleImputer(strategy=&#x27;median&#x27;)),\n",
              "                                                                  (&#x27;standardscaler&#x27;,\n",
              "                                                                   StandardScaler())]),\n",
              "                                                  &lt;sklearn.compose._column_transformer.make_column_selector object at 0x7fb1cbf167d0&gt;),\n",
              "                                                 (&#x27;pipeline-2&#x27;,\n",
              "                                                  Pipeline(steps=[(&#x27;simpleimputer&#x27;,\n",
              "                                                                   SimpleImputer(strategy=&#x27;most_frequent&#x27;)),\n",
              "                                                                  (&#x27;onehotencoder&#x27;,\n",
              "                                                                   OneHotEncoder(handle_unknown=&#x27;ignore&#x27;,\n",
              "                                                                                 sparse=False))]),\n",
              "                                                  &lt;sklearn.compose._column_transformer.make_column_selector object at 0x7fb1cbf16b50&gt;)])),\n",
              "                (&#x27;kneighborsclassifier&#x27;, KNeighborsClassifier())])</pre></div></div></div><div class=\"sk-serial\"><div class=\"sk-item sk-dashed-wrapped\"><div class=\"sk-label-container\"><div class=\"sk-label sk-toggleable\"><input class=\"sk-toggleable__control sk-hidden--visually\" id=\"321951d6-8238-4239-83a1-6ecb9ae57fe6\" type=\"checkbox\" ><label for=\"321951d6-8238-4239-83a1-6ecb9ae57fe6\" class=\"sk-toggleable__label sk-toggleable__label-arrow\">columntransformer: ColumnTransformer</label><div class=\"sk-toggleable__content\"><pre>ColumnTransformer(remainder=&#x27;passthrough&#x27;,\n",
              "                  transformers=[(&#x27;pipeline-1&#x27;,\n",
              "                                 Pipeline(steps=[(&#x27;simpleimputer&#x27;,\n",
              "                                                  SimpleImputer(strategy=&#x27;median&#x27;)),\n",
              "                                                 (&#x27;standardscaler&#x27;,\n",
              "                                                  StandardScaler())]),\n",
              "                                 &lt;sklearn.compose._column_transformer.make_column_selector object at 0x7fb1cbf167d0&gt;),\n",
              "                                (&#x27;pipeline-2&#x27;,\n",
              "                                 Pipeline(steps=[(&#x27;simpleimputer&#x27;,\n",
              "                                                  SimpleImputer(strategy=&#x27;most_frequent&#x27;)),\n",
              "                                                 (&#x27;onehotencoder&#x27;,\n",
              "                                                  OneHotEncoder(handle_unknown=&#x27;ignore&#x27;,\n",
              "                                                                sparse=False))]),\n",
              "                                 &lt;sklearn.compose._column_transformer.make_column_selector object at 0x7fb1cbf16b50&gt;)])</pre></div></div></div><div class=\"sk-parallel\"><div class=\"sk-parallel-item\"><div class=\"sk-item\"><div class=\"sk-label-container\"><div class=\"sk-label sk-toggleable\"><input class=\"sk-toggleable__control sk-hidden--visually\" id=\"283a102e-1d8c-45a7-a16d-104c2ea0445a\" type=\"checkbox\" ><label for=\"283a102e-1d8c-45a7-a16d-104c2ea0445a\" class=\"sk-toggleable__label sk-toggleable__label-arrow\">pipeline-1</label><div class=\"sk-toggleable__content\"><pre>&lt;sklearn.compose._column_transformer.make_column_selector object at 0x7fb1cbf167d0&gt;</pre></div></div></div><div class=\"sk-serial\"><div class=\"sk-item\"><div class=\"sk-serial\"><div class=\"sk-item\"><div class=\"sk-estimator sk-toggleable\"><input class=\"sk-toggleable__control sk-hidden--visually\" id=\"6cae82df-3aa5-44a3-be29-4acbe09e61ea\" type=\"checkbox\" ><label for=\"6cae82df-3aa5-44a3-be29-4acbe09e61ea\" class=\"sk-toggleable__label sk-toggleable__label-arrow\">SimpleImputer</label><div class=\"sk-toggleable__content\"><pre>SimpleImputer(strategy=&#x27;median&#x27;)</pre></div></div></div><div class=\"sk-item\"><div class=\"sk-estimator sk-toggleable\"><input class=\"sk-toggleable__control sk-hidden--visually\" id=\"1597aebf-7d34-497b-a997-8b0c75ad6f35\" type=\"checkbox\" ><label for=\"1597aebf-7d34-497b-a997-8b0c75ad6f35\" class=\"sk-toggleable__label sk-toggleable__label-arrow\">StandardScaler</label><div class=\"sk-toggleable__content\"><pre>StandardScaler()</pre></div></div></div></div></div></div></div></div><div class=\"sk-parallel-item\"><div class=\"sk-item\"><div class=\"sk-label-container\"><div class=\"sk-label sk-toggleable\"><input class=\"sk-toggleable__control sk-hidden--visually\" id=\"872d3089-4c71-409f-82a3-df4d5979c664\" type=\"checkbox\" ><label for=\"872d3089-4c71-409f-82a3-df4d5979c664\" class=\"sk-toggleable__label sk-toggleable__label-arrow\">pipeline-2</label><div class=\"sk-toggleable__content\"><pre>&lt;sklearn.compose._column_transformer.make_column_selector object at 0x7fb1cbf16b50&gt;</pre></div></div></div><div class=\"sk-serial\"><div class=\"sk-item\"><div class=\"sk-serial\"><div class=\"sk-item\"><div class=\"sk-estimator sk-toggleable\"><input class=\"sk-toggleable__control sk-hidden--visually\" id=\"47d5b819-f574-4047-ae47-b8e874bf777e\" type=\"checkbox\" ><label for=\"47d5b819-f574-4047-ae47-b8e874bf777e\" class=\"sk-toggleable__label sk-toggleable__label-arrow\">SimpleImputer</label><div class=\"sk-toggleable__content\"><pre>SimpleImputer(strategy=&#x27;most_frequent&#x27;)</pre></div></div></div><div class=\"sk-item\"><div class=\"sk-estimator sk-toggleable\"><input class=\"sk-toggleable__control sk-hidden--visually\" id=\"7067e0d5-333f-4c93-9199-e6dd18de4b45\" type=\"checkbox\" ><label for=\"7067e0d5-333f-4c93-9199-e6dd18de4b45\" class=\"sk-toggleable__label sk-toggleable__label-arrow\">OneHotEncoder</label><div class=\"sk-toggleable__content\"><pre>OneHotEncoder(handle_unknown=&#x27;ignore&#x27;, sparse=False)</pre></div></div></div></div></div></div></div></div><div class=\"sk-parallel-item\"><div class=\"sk-item\"><div class=\"sk-label-container\"><div class=\"sk-label sk-toggleable\"><input class=\"sk-toggleable__control sk-hidden--visually\" id=\"40fe352f-61e1-4d15-bf54-62ad75105ed4\" type=\"checkbox\" ><label for=\"40fe352f-61e1-4d15-bf54-62ad75105ed4\" class=\"sk-toggleable__label sk-toggleable__label-arrow\">remainder</label><div class=\"sk-toggleable__content\"><pre>[]</pre></div></div></div><div class=\"sk-serial\"><div class=\"sk-item\"><div class=\"sk-estimator sk-toggleable\"><input class=\"sk-toggleable__control sk-hidden--visually\" id=\"7e6be13d-2e61-4c5a-bc11-32ab9211dadf\" type=\"checkbox\" ><label for=\"7e6be13d-2e61-4c5a-bc11-32ab9211dadf\" class=\"sk-toggleable__label sk-toggleable__label-arrow\">passthrough</label><div class=\"sk-toggleable__content\"><pre>passthrough</pre></div></div></div></div></div></div></div></div><div class=\"sk-item\"><div class=\"sk-estimator sk-toggleable\"><input class=\"sk-toggleable__control sk-hidden--visually\" id=\"fc66eb74-0aa0-4bf6-9996-e61d3702ada4\" type=\"checkbox\" ><label for=\"fc66eb74-0aa0-4bf6-9996-e61d3702ada4\" class=\"sk-toggleable__label sk-toggleable__label-arrow\">KNeighborsClassifier</label><div class=\"sk-toggleable__content\"><pre>KNeighborsClassifier()</pre></div></div></div></div></div></div></div>"
            ]
          },
          "metadata": {},
          "execution_count": 375
        }
      ]
    },
    {
      "cell_type": "code",
      "source": [
        "#predict Rating.Overall\n",
        "knn_train_preds = knn_pipe.predict(X_train)\n",
        "knn_test_preds = knn_pipe.predict(X_test)"
      ],
      "metadata": {
        "id": "zmYfDUezO5rW"
      },
      "execution_count": 376,
      "outputs": []
    },
    {
      "cell_type": "code",
      "source": [
        "#evaluate KNN model\n",
        "\n",
        "#accuracy\n",
        "print('Accuracy of Train set', accuracy_score(y_train, knn_train_preds))\n",
        "print('Accuracy of Test set', accuracy_score(y_test, knn_test_preds))"
      ],
      "metadata": {
        "colab": {
          "base_uri": "https://localhost:8080/"
        },
        "id": "gNgBMtAQPGB5",
        "outputId": "645f7875-6ea9-463c-884c-c0f5273d4cf8"
      },
      "execution_count": 377,
      "outputs": [
        {
          "output_type": "stream",
          "name": "stdout",
          "text": [
            "Accuracy of Train set 0.6047819971870605\n",
            "Accuracy of Test set 0.4477234401349072\n"
          ]
        }
      ]
    },
    {
      "cell_type": "markdown",
      "source": [
        "Accuracy of KNN model is 44.8%"
      ],
      "metadata": {
        "id": "xecyT-n0QyK1"
      }
    },
    {
      "cell_type": "code",
      "source": [
        "#find best K value\n",
        "krange = range(1, 50)\n",
        "test_accuracies = []\n",
        "bestacc = 0\n",
        "bestk = 0\n",
        "for k in krange:\n",
        "  #find accuracy for each k\n",
        "  pipe = make_pipeline(preprocessor, KNeighborsClassifier(n_neighbors=k))\n",
        "  pipe.fit(X_train, y_train)\n",
        "  acc = accuracy_score(y_test, pipe.predict(X_test))\n",
        "  #if accuracy for this k is better than previous accuracies, set bestk = k\n",
        "  if acc > bestacc:\n",
        "    bestacc = acc\n",
        "    bestk = k\n",
        "\n",
        "  test_accuracies.append(acc)\n",
        "\n",
        "#plot accuracies over K\n",
        "plt.plot(krange, test_accuracies, label='Test K Scores')\n",
        "plt.show()\n",
        "\n",
        "#print best k and best accuracy\n",
        "print(f'Best K value is {bestk} \\nwith {bestacc} accuracy on the test set')"
      ],
      "metadata": {
        "colab": {
          "base_uri": "https://localhost:8080/",
          "height": 300
        },
        "id": "NFbvclHnPTCg",
        "outputId": "38da247c-e3b3-46a0-9b43-0c7290526097"
      },
      "execution_count": 378,
      "outputs": [
        {
          "output_type": "display_data",
          "data": {
            "text/plain": [
              "<Figure size 432x288 with 1 Axes>"
            ],
            "image/png": "[encoded data removed]"
          },
          "metadata": {
            "needs_background": "light"
          }
        },
        {
          "output_type": "stream",
          "name": "stdout",
          "text": [
            "Best K value is 14 \n",
            "with 0.463743676222597 accuracy on the test set\n"
          ]
        }
      ]
    },
    {
      "cell_type": "markdown",
      "source": [
        "Accuracy of KNN model with best k only improved slightly at 46% for the test set."
      ],
      "metadata": {
        "id": "w6ofKSkbQvP7"
      }
    },
    {
      "cell_type": "code",
      "source": [
        "#KNN model, new model with best k and confusion matrix\n",
        "knn_final_pipe = make_pipeline(preprocessor, \n",
        "                               KNeighborsClassifier(n_neighbors = bestk))\n",
        "knn_final_pipe.fit(X_train, y_train)\n",
        "\n",
        "#confusion matrix for KNN with best k\n",
        "plot_confusion_matrix(knn_final_pipe, X_test, y_test, cmap = 'Blues', values_format = 'd');"
      ],
      "metadata": {
        "colab": {
          "base_uri": "https://localhost:8080/",
          "height": 334
        },
        "id": "_BjyG67mTAXh",
        "outputId": "c8cb75c4-84e0-48cf-8523-2a784ebaf680"
      },
      "execution_count": 341,
      "outputs": [
        {
          "output_type": "stream",
          "name": "stderr",
          "text": [
            "/usr/local/lib/python3.7/dist-packages/sklearn/utils/deprecation.py:87: FutureWarning: Function plot_confusion_matrix is deprecated; Function `plot_confusion_matrix` is deprecated in 1.0 and will be removed in 1.2. Use one of the class methods: ConfusionMatrixDisplay.from_predictions or ConfusionMatrixDisplay.from_estimator.\n",
            "  warnings.warn(msg, category=FutureWarning)\n"
          ]
        },
        {
          "output_type": "display_data",
          "data": {
            "text/plain": [
              "<Figure size 432x288 with 2 Axes>"
            ],
            "image/png": "[encoded data removed]"
          },
          "metadata": {
            "needs_background": "light"
          }
        }
      ]
    },
    {
      "cell_type": "markdown",
      "source": [
        "The confusion matrix shows an overall low correlation ability. It can successfully predict hospitals with no ratings and it has a better than average success of predicting hospitals with an average rating of 3."
      ],
      "metadata": {
        "id": "cAJ6aMZMT3sQ"
      }
    },
    {
      "cell_type": "markdown",
      "source": [
        "PCA with KNN model"
      ],
      "metadata": {
        "id": "e43PBVdIUfyk"
      }
    },
    {
      "cell_type": "code",
      "source": [
        "knn2 = KNeighborsClassifier()"
      ],
      "metadata": {
        "id": "lkDCYs1zWsDD"
      },
      "execution_count": 342,
      "outputs": []
    },
    {
      "cell_type": "code",
      "source": [
        "#create a modeling pipeline for the 1st model with pca\n",
        "knn2_pca_pipe = make_pipeline(preprocessor, knn2)\n",
        "knn2_pca_pipe.fit(X_train, y_train)"
      ],
      "metadata": {
        "colab": {
          "base_uri": "https://localhost:8080/",
          "height": 227
        },
        "id": "CW6UD_KQWxxX",
        "outputId": "b47c581c-e70e-44ee-ca5f-cadd311bce4d"
      },
      "execution_count": 346,
      "outputs": [
        {
          "output_type": "execute_result",
          "data": {
            "text/plain": [
              "Pipeline(steps=[('columntransformer',\n",
              "                 ColumnTransformer(remainder='passthrough',\n",
              "                                   transformers=[('pipeline-1',\n",
              "                                                  Pipeline(steps=[('simpleimputer',\n",
              "                                                                   SimpleImputer(strategy='median')),\n",
              "                                                                  ('standardscaler',\n",
              "                                                                   StandardScaler())]),\n",
              "                                                  <sklearn.compose._column_transformer.make_column_selector object at 0x7fb1cc8cfa90>),\n",
              "                                                 ('pipeline-2',\n",
              "                                                  Pipeline(steps=[('simpleimputer',\n",
              "                                                                   SimpleImputer(strategy='most_frequent')),\n",
              "                                                                  ('onehotencoder',\n",
              "                                                                   OneHotEncoder(handle_unknown='ignore',\n",
              "                                                                                 sparse=False))]),\n",
              "                                                  <sklearn.compose._column_transformer.make_column_selector object at 0x7fb1cc8cfb90>)])),\n",
              "                ('kneighborsclassifier', KNeighborsClassifier())])"
            ],
            "text/html": [
              "<style>#sk-18a27412-bfdf-405c-9b0f-210ee33969cf {color: black;background-color: white;}#sk-18a27412-bfdf-405c-9b0f-210ee33969cf pre{padding: 0;}#sk-18a27412-bfdf-405c-9b0f-210ee33969cf div.sk-toggleable {background-color: white;}#sk-18a27412-bfdf-405c-9b0f-210ee33969cf label.sk-toggleable__label {cursor: pointer;display: block;width: 100%;margin-bottom: 0;padding: 0.3em;box-sizing: border-box;text-align: center;}#sk-18a27412-bfdf-405c-9b0f-210ee33969cf label.sk-toggleable__label-arrow:before {content: \"▸\";float: left;margin-right: 0.25em;color: #696969;}#sk-18a27412-bfdf-405c-9b0f-210ee33969cf label.sk-toggleable__label-arrow:hover:before {color: black;}#sk-18a27412-bfdf-405c-9b0f-210ee33969cf div.sk-estimator:hover label.sk-toggleable__label-arrow:before {color: black;}#sk-18a27412-bfdf-405c-9b0f-210ee33969cf div.sk-toggleable__content {max-height: 0;max-width: 0;overflow: hidden;text-align: left;background-color: #f0f8ff;}#sk-18a27412-bfdf-405c-9b0f-210ee33969cf div.sk-toggleable__content pre {margin: 0.2em;color: black;border-radius: 0.25em;background-color: #f0f8ff;}#sk-18a27412-bfdf-405c-9b0f-210ee33969cf input.sk-toggleable__control:checked~div.sk-toggleable__content {max-height: 200px;max-width: 100%;overflow: auto;}#sk-18a27412-bfdf-405c-9b0f-210ee33969cf input.sk-toggleable__control:checked~label.sk-toggleable__label-arrow:before {content: \"▾\";}#sk-18a27412-bfdf-405c-9b0f-210ee33969cf div.sk-estimator input.sk-toggleable__control:checked~label.sk-toggleable__label {background-color: #d4ebff;}#sk-18a27412-bfdf-405c-9b0f-210ee33969cf div.sk-label input.sk-toggleable__control:checked~label.sk-toggleable__label {background-color: #d4ebff;}#sk-18a27412-bfdf-405c-9b0f-210ee33969cf input.sk-hidden--visually {border: 0;clip: rect(1px 1px 1px 1px);clip: rect(1px, 1px, 1px, 1px);height: 1px;margin: -1px;overflow: hidden;padding: 0;position: absolute;width: 1px;}#sk-18a27412-bfdf-405c-9b0f-210ee33969cf div.sk-estimator {font-family: monospace;background-color: #f0f8ff;border: 1px dotted black;border-radius: 0.25em;box-sizing: border-box;margin-bottom: 0.5em;}#sk-18a27412-bfdf-405c-9b0f-210ee33969cf div.sk-estimator:hover {background-color: #d4ebff;}#sk-18a27412-bfdf-405c-9b0f-210ee33969cf div.sk-parallel-item::after {content: \"\";width: 100%;border-bottom: 1px solid gray;flex-grow: 1;}#sk-18a27412-bfdf-405c-9b0f-210ee33969cf div.sk-label:hover label.sk-toggleable__label {background-color: #d4ebff;}#sk-18a27412-bfdf-405c-9b0f-210ee33969cf div.sk-serial::before {content: \"\";position: absolute;border-left: 1px solid gray;box-sizing: border-box;top: 2em;bottom: 0;left: 50%;}#sk-18a27412-bfdf-405c-9b0f-210ee33969cf div.sk-serial {display: flex;flex-direction: column;align-items: center;background-color: white;padding-right: 0.2em;padding-left: 0.2em;}#sk-18a27412-bfdf-405c-9b0f-210ee33969cf div.sk-item {z-index: 1;}#sk-18a27412-bfdf-405c-9b0f-210ee33969cf div.sk-parallel {display: flex;align-items: stretch;justify-content: center;background-color: white;}#sk-18a27412-bfdf-405c-9b0f-210ee33969cf div.sk-parallel::before {content: \"\";position: absolute;border-left: 1px solid gray;box-sizing: border-box;top: 2em;bottom: 0;left: 50%;}#sk-18a27412-bfdf-405c-9b0f-210ee33969cf div.sk-parallel-item {display: flex;flex-direction: column;position: relative;background-color: white;}#sk-18a27412-bfdf-405c-9b0f-210ee33969cf div.sk-parallel-item:first-child::after {align-self: flex-end;width: 50%;}#sk-18a27412-bfdf-405c-9b0f-210ee33969cf div.sk-parallel-item:last-child::after {align-self: flex-start;width: 50%;}#sk-18a27412-bfdf-405c-9b0f-210ee33969cf div.sk-parallel-item:only-child::after {width: 0;}#sk-18a27412-bfdf-405c-9b0f-210ee33969cf div.sk-dashed-wrapped {border: 1px dashed gray;margin: 0 0.4em 0.5em 0.4em;box-sizing: border-box;padding-bottom: 0.4em;background-color: white;position: relative;}#sk-18a27412-bfdf-405c-9b0f-210ee33969cf div.sk-label label {font-family: monospace;font-weight: bold;background-color: white;display: inline-block;line-height: 1.2em;}#sk-18a27412-bfdf-405c-9b0f-210ee33969cf div.sk-label-container {position: relative;z-index: 2;text-align: center;}#sk-18a27412-bfdf-405c-9b0f-210ee33969cf div.sk-container {/* jupyter's `normalize.less` sets `[hidden] { display: none; }` but bootstrap.min.css set `[hidden] { display: none !important; }` so we also need the `!important` here to be able to override the default hidden behavior on the sphinx rendered scikit-learn.org. See: https://github.com/scikit-learn/scikit-learn/issues/21755 */display: inline-block !important;position: relative;}#sk-18a27412-bfdf-405c-9b0f-210ee33969cf div.sk-text-repr-fallback {display: none;}</style><div id=\"sk-18a27412-bfdf-405c-9b0f-210ee33969cf\" class=\"sk-top-container\"><div class=\"sk-text-repr-fallback\"><pre>Pipeline(steps=[(&#x27;columntransformer&#x27;,\n",
              "                 ColumnTransformer(remainder=&#x27;passthrough&#x27;,\n",
              "                                   transformers=[(&#x27;pipeline-1&#x27;,\n",
              "                                                  Pipeline(steps=[(&#x27;simpleimputer&#x27;,\n",
              "                                                                   SimpleImputer(strategy=&#x27;median&#x27;)),\n",
              "                                                                  (&#x27;standardscaler&#x27;,\n",
              "                                                                   StandardScaler())]),\n",
              "                                                  &lt;sklearn.compose._column_transformer.make_column_selector object at 0x7fb1cc8cfa90&gt;),\n",
              "                                                 (&#x27;pipeline-2&#x27;,\n",
              "                                                  Pipeline(steps=[(&#x27;simpleimputer&#x27;,\n",
              "                                                                   SimpleImputer(strategy=&#x27;most_frequent&#x27;)),\n",
              "                                                                  (&#x27;onehotencoder&#x27;,\n",
              "                                                                   OneHotEncoder(handle_unknown=&#x27;ignore&#x27;,\n",
              "                                                                                 sparse=False))]),\n",
              "                                                  &lt;sklearn.compose._column_transformer.make_column_selector object at 0x7fb1cc8cfb90&gt;)])),\n",
              "                (&#x27;kneighborsclassifier&#x27;, KNeighborsClassifier())])</pre><b>Please rerun this cell to show the HTML repr or trust the notebook.</b></div><div class=\"sk-container\" hidden><div class=\"sk-item sk-dashed-wrapped\"><div class=\"sk-label-container\"><div class=\"sk-label sk-toggleable\"><input class=\"sk-toggleable__control sk-hidden--visually\" id=\"ae4b39bf-103a-4f9b-95c5-7df6567aebf4\" type=\"checkbox\" ><label for=\"ae4b39bf-103a-4f9b-95c5-7df6567aebf4\" class=\"sk-toggleable__label sk-toggleable__label-arrow\">Pipeline</label><div class=\"sk-toggleable__content\"><pre>Pipeline(steps=[(&#x27;columntransformer&#x27;,\n",
              "                 ColumnTransformer(remainder=&#x27;passthrough&#x27;,\n",
              "                                   transformers=[(&#x27;pipeline-1&#x27;,\n",
              "                                                  Pipeline(steps=[(&#x27;simpleimputer&#x27;,\n",
              "                                                                   SimpleImputer(strategy=&#x27;median&#x27;)),\n",
              "                                                                  (&#x27;standardscaler&#x27;,\n",
              "                                                                   StandardScaler())]),\n",
              "                                                  &lt;sklearn.compose._column_transformer.make_column_selector object at 0x7fb1cc8cfa90&gt;),\n",
              "                                                 (&#x27;pipeline-2&#x27;,\n",
              "                                                  Pipeline(steps=[(&#x27;simpleimputer&#x27;,\n",
              "                                                                   SimpleImputer(strategy=&#x27;most_frequent&#x27;)),\n",
              "                                                                  (&#x27;onehotencoder&#x27;,\n",
              "                                                                   OneHotEncoder(handle_unknown=&#x27;ignore&#x27;,\n",
              "                                                                                 sparse=False))]),\n",
              "                                                  &lt;sklearn.compose._column_transformer.make_column_selector object at 0x7fb1cc8cfb90&gt;)])),\n",
              "                (&#x27;kneighborsclassifier&#x27;, KNeighborsClassifier())])</pre></div></div></div><div class=\"sk-serial\"><div class=\"sk-item sk-dashed-wrapped\"><div class=\"sk-label-container\"><div class=\"sk-label sk-toggleable\"><input class=\"sk-toggleable__control sk-hidden--visually\" id=\"3dbcd405-6d70-45c2-aa49-4e096c829352\" type=\"checkbox\" ><label for=\"3dbcd405-6d70-45c2-aa49-4e096c829352\" class=\"sk-toggleable__label sk-toggleable__label-arrow\">columntransformer: ColumnTransformer</label><div class=\"sk-toggleable__content\"><pre>ColumnTransformer(remainder=&#x27;passthrough&#x27;,\n",
              "                  transformers=[(&#x27;pipeline-1&#x27;,\n",
              "                                 Pipeline(steps=[(&#x27;simpleimputer&#x27;,\n",
              "                                                  SimpleImputer(strategy=&#x27;median&#x27;)),\n",
              "                                                 (&#x27;standardscaler&#x27;,\n",
              "                                                  StandardScaler())]),\n",
              "                                 &lt;sklearn.compose._column_transformer.make_column_selector object at 0x7fb1cc8cfa90&gt;),\n",
              "                                (&#x27;pipeline-2&#x27;,\n",
              "                                 Pipeline(steps=[(&#x27;simpleimputer&#x27;,\n",
              "                                                  SimpleImputer(strategy=&#x27;most_frequent&#x27;)),\n",
              "                                                 (&#x27;onehotencoder&#x27;,\n",
              "                                                  OneHotEncoder(handle_unknown=&#x27;ignore&#x27;,\n",
              "                                                                sparse=False))]),\n",
              "                                 &lt;sklearn.compose._column_transformer.make_column_selector object at 0x7fb1cc8cfb90&gt;)])</pre></div></div></div><div class=\"sk-parallel\"><div class=\"sk-parallel-item\"><div class=\"sk-item\"><div class=\"sk-label-container\"><div class=\"sk-label sk-toggleable\"><input class=\"sk-toggleable__control sk-hidden--visually\" id=\"2deee4f2-b1e0-404b-b2cb-dc776fabdc8e\" type=\"checkbox\" ><label for=\"2deee4f2-b1e0-404b-b2cb-dc776fabdc8e\" class=\"sk-toggleable__label sk-toggleable__label-arrow\">pipeline-1</label><div class=\"sk-toggleable__content\"><pre>&lt;sklearn.compose._column_transformer.make_column_selector object at 0x7fb1cc8cfa90&gt;</pre></div></div></div><div class=\"sk-serial\"><div class=\"sk-item\"><div class=\"sk-serial\"><div class=\"sk-item\"><div class=\"sk-estimator sk-toggleable\"><input class=\"sk-toggleable__control sk-hidden--visually\" id=\"f398b4c6-2428-422b-ae65-902c755bfee5\" type=\"checkbox\" ><label for=\"f398b4c6-2428-422b-ae65-902c755bfee5\" class=\"sk-toggleable__label sk-toggleable__label-arrow\">SimpleImputer</label><div class=\"sk-toggleable__content\"><pre>SimpleImputer(strategy=&#x27;median&#x27;)</pre></div></div></div><div class=\"sk-item\"><div class=\"sk-estimator sk-toggleable\"><input class=\"sk-toggleable__control sk-hidden--visually\" id=\"b202e385-e635-4259-9e00-32b640ef103e\" type=\"checkbox\" ><label for=\"b202e385-e635-4259-9e00-32b640ef103e\" class=\"sk-toggleable__label sk-toggleable__label-arrow\">StandardScaler</label><div class=\"sk-toggleable__content\"><pre>StandardScaler()</pre></div></div></div></div></div></div></div></div><div class=\"sk-parallel-item\"><div class=\"sk-item\"><div class=\"sk-label-container\"><div class=\"sk-label sk-toggleable\"><input class=\"sk-toggleable__control sk-hidden--visually\" id=\"9731993f-2bc6-4d63-a0f7-b492b1390ef4\" type=\"checkbox\" ><label for=\"9731993f-2bc6-4d63-a0f7-b492b1390ef4\" class=\"sk-toggleable__label sk-toggleable__label-arrow\">pipeline-2</label><div class=\"sk-toggleable__content\"><pre>&lt;sklearn.compose._column_transformer.make_column_selector object at 0x7fb1cc8cfb90&gt;</pre></div></div></div><div class=\"sk-serial\"><div class=\"sk-item\"><div class=\"sk-serial\"><div class=\"sk-item\"><div class=\"sk-estimator sk-toggleable\"><input class=\"sk-toggleable__control sk-hidden--visually\" id=\"1ab7716a-bad0-4343-b543-b0e3a9cbed96\" type=\"checkbox\" ><label for=\"1ab7716a-bad0-4343-b543-b0e3a9cbed96\" class=\"sk-toggleable__label sk-toggleable__label-arrow\">SimpleImputer</label><div class=\"sk-toggleable__content\"><pre>SimpleImputer(strategy=&#x27;most_frequent&#x27;)</pre></div></div></div><div class=\"sk-item\"><div class=\"sk-estimator sk-toggleable\"><input class=\"sk-toggleable__control sk-hidden--visually\" id=\"0edf6379-fe54-4eaa-89f0-e7ec2021e5d4\" type=\"checkbox\" ><label for=\"0edf6379-fe54-4eaa-89f0-e7ec2021e5d4\" class=\"sk-toggleable__label sk-toggleable__label-arrow\">OneHotEncoder</label><div class=\"sk-toggleable__content\"><pre>OneHotEncoder(handle_unknown=&#x27;ignore&#x27;, sparse=False)</pre></div></div></div></div></div></div></div></div><div class=\"sk-parallel-item\"><div class=\"sk-item\"><div class=\"sk-label-container\"><div class=\"sk-label sk-toggleable\"><input class=\"sk-toggleable__control sk-hidden--visually\" id=\"7738dcc3-ab01-4c2d-8b13-5379560f5ad2\" type=\"checkbox\" ><label for=\"7738dcc3-ab01-4c2d-8b13-5379560f5ad2\" class=\"sk-toggleable__label sk-toggleable__label-arrow\">remainder</label><div class=\"sk-toggleable__content\"><pre>[]</pre></div></div></div><div class=\"sk-serial\"><div class=\"sk-item\"><div class=\"sk-estimator sk-toggleable\"><input class=\"sk-toggleable__control sk-hidden--visually\" id=\"20667311-abe9-4166-9e2c-355938a513f8\" type=\"checkbox\" ><label for=\"20667311-abe9-4166-9e2c-355938a513f8\" class=\"sk-toggleable__label sk-toggleable__label-arrow\">passthrough</label><div class=\"sk-toggleable__content\"><pre>passthrough</pre></div></div></div></div></div></div></div></div><div class=\"sk-item\"><div class=\"sk-estimator sk-toggleable\"><input class=\"sk-toggleable__control sk-hidden--visually\" id=\"ddf21995-5a9d-4490-9417-3c503d6b6558\" type=\"checkbox\" ><label for=\"ddf21995-5a9d-4490-9417-3c503d6b6558\" class=\"sk-toggleable__label sk-toggleable__label-arrow\">KNeighborsClassifier</label><div class=\"sk-toggleable__content\"><pre>KNeighborsClassifier()</pre></div></div></div></div></div></div></div>"
            ]
          },
          "metadata": {},
          "execution_count": 346
        }
      ]
    },
    {
      "cell_type": "code",
      "source": [
        "#evaluate accuracy\n",
        "print('Training accuracy:', knn2_pca_pipe.score(X_train, y_train))\n",
        "print('Testing accuracy:', knn2_pca_pipe.score(X_test, y_test))"
      ],
      "metadata": {
        "colab": {
          "base_uri": "https://localhost:8080/"
        },
        "id": "yUS4GRuNYzRd",
        "outputId": "eb51fcc8-0633-4b30-c063-e9e5f6f3612b"
      },
      "execution_count": 347,
      "outputs": [
        {
          "output_type": "stream",
          "name": "stdout",
          "text": [
            "Training accuracy: 0.6047819971870605\n",
            "Testing accuracy: 0.4477234401349072\n"
          ]
        }
      ]
    },
    {
      "cell_type": "markdown",
      "source": [
        "Accuracy with PCA decreased the model's ability to make predictions. The model can only explain 44.8% of the variance."
      ],
      "metadata": {
        "id": "kgTN3J1gZ71o"
      }
    },
    {
      "cell_type": "markdown",
      "source": [
        "Logistic Regression Model"
      ],
      "metadata": {
        "id": "qgZF4xm_aulX"
      }
    },
    {
      "cell_type": "code",
      "source": [
        "logreg = LogisticRegression(C = 1000)\n",
        "\n",
        "#instanstiate model\n",
        "logreg_pipe = make_pipeline(preprocessor, logreg)\n",
        "#train model\n",
        "logreg_pipe.fit(X_train,y_train)"
      ],
      "metadata": {
        "colab": {
          "base_uri": "https://localhost:8080/",
          "height": 366
        },
        "id": "U6F-Z8D_awcy",
        "outputId": "d62bbe0a-cdf5-4ef7-9517-130bef70d5c0"
      },
      "execution_count": 385,
      "outputs": [
        {
          "output_type": "stream",
          "name": "stderr",
          "text": [
            "/usr/local/lib/python3.7/dist-packages/sklearn/linear_model/_logistic.py:818: ConvergenceWarning: lbfgs failed to converge (status=1):\n",
            "STOP: TOTAL NO. of ITERATIONS REACHED LIMIT.\n",
            "\n",
            "Increase the number of iterations (max_iter) or scale the data as shown in:\n",
            "    https://scikit-learn.org/stable/modules/preprocessing.html\n",
            "Please also refer to the documentation for alternative solver options:\n",
            "    https://scikit-learn.org/stable/modules/linear_model.html#logistic-regression\n",
            "  extra_warning_msg=_LOGISTIC_SOLVER_CONVERGENCE_MSG,\n"
          ]
        },
        {
          "output_type": "execute_result",
          "data": {
            "text/plain": [
              "Pipeline(steps=[('columntransformer',\n",
              "                 ColumnTransformer(remainder='passthrough',\n",
              "                                   transformers=[('pipeline-1',\n",
              "                                                  Pipeline(steps=[('simpleimputer',\n",
              "                                                                   SimpleImputer(strategy='median')),\n",
              "                                                                  ('standardscaler',\n",
              "                                                                   StandardScaler())]),\n",
              "                                                  <sklearn.compose._column_transformer.make_column_selector object at 0x7fb1cbf167d0>),\n",
              "                                                 ('pipeline-2',\n",
              "                                                  Pipeline(steps=[('simpleimputer',\n",
              "                                                                   SimpleImputer(strategy='most_frequent')),\n",
              "                                                                  ('onehotencoder',\n",
              "                                                                   OneHotEncoder(handle_unknown='ignore',\n",
              "                                                                                 sparse=False))]),\n",
              "                                                  <sklearn.compose._column_transformer.make_column_selector object at 0x7fb1cbf16b50>)])),\n",
              "                ('logisticregression', LogisticRegression(C=1000))])"
            ],
            "text/html": [
              "<style>#sk-a3e258af-d826-4452-ad0b-c7ad2af006d6 {color: black;background-color: white;}#sk-a3e258af-d826-4452-ad0b-c7ad2af006d6 pre{padding: 0;}#sk-a3e258af-d826-4452-ad0b-c7ad2af006d6 div.sk-toggleable {background-color: white;}#sk-a3e258af-d826-4452-ad0b-c7ad2af006d6 label.sk-toggleable__label {cursor: pointer;display: block;width: 100%;margin-bottom: 0;padding: 0.3em;box-sizing: border-box;text-align: center;}#sk-a3e258af-d826-4452-ad0b-c7ad2af006d6 label.sk-toggleable__label-arrow:before {content: \"▸\";float: left;margin-right: 0.25em;color: #696969;}#sk-a3e258af-d826-4452-ad0b-c7ad2af006d6 label.sk-toggleable__label-arrow:hover:before {color: black;}#sk-a3e258af-d826-4452-ad0b-c7ad2af006d6 div.sk-estimator:hover label.sk-toggleable__label-arrow:before {color: black;}#sk-a3e258af-d826-4452-ad0b-c7ad2af006d6 div.sk-toggleable__content {max-height: 0;max-width: 0;overflow: hidden;text-align: left;background-color: #f0f8ff;}#sk-a3e258af-d826-4452-ad0b-c7ad2af006d6 div.sk-toggleable__content pre {margin: 0.2em;color: black;border-radius: 0.25em;background-color: #f0f8ff;}#sk-a3e258af-d826-4452-ad0b-c7ad2af006d6 input.sk-toggleable__control:checked~div.sk-toggleable__content {max-height: 200px;max-width: 100%;overflow: auto;}#sk-a3e258af-d826-4452-ad0b-c7ad2af006d6 input.sk-toggleable__control:checked~label.sk-toggleable__label-arrow:before {content: \"▾\";}#sk-a3e258af-d826-4452-ad0b-c7ad2af006d6 div.sk-estimator input.sk-toggleable__control:checked~label.sk-toggleable__label {background-color: #d4ebff;}#sk-a3e258af-d826-4452-ad0b-c7ad2af006d6 div.sk-label input.sk-toggleable__control:checked~label.sk-toggleable__label {background-color: #d4ebff;}#sk-a3e258af-d826-4452-ad0b-c7ad2af006d6 input.sk-hidden--visually {border: 0;clip: rect(1px 1px 1px 1px);clip: rect(1px, 1px, 1px, 1px);height: 1px;margin: -1px;overflow: hidden;padding: 0;position: absolute;width: 1px;}#sk-a3e258af-d826-4452-ad0b-c7ad2af006d6 div.sk-estimator {font-family: monospace;background-color: #f0f8ff;border: 1px dotted black;border-radius: 0.25em;box-sizing: border-box;margin-bottom: 0.5em;}#sk-a3e258af-d826-4452-ad0b-c7ad2af006d6 div.sk-estimator:hover {background-color: #d4ebff;}#sk-a3e258af-d826-4452-ad0b-c7ad2af006d6 div.sk-parallel-item::after {content: \"\";width: 100%;border-bottom: 1px solid gray;flex-grow: 1;}#sk-a3e258af-d826-4452-ad0b-c7ad2af006d6 div.sk-label:hover label.sk-toggleable__label {background-color: #d4ebff;}#sk-a3e258af-d826-4452-ad0b-c7ad2af006d6 div.sk-serial::before {content: \"\";position: absolute;border-left: 1px solid gray;box-sizing: border-box;top: 2em;bottom: 0;left: 50%;}#sk-a3e258af-d826-4452-ad0b-c7ad2af006d6 div.sk-serial {display: flex;flex-direction: column;align-items: center;background-color: white;padding-right: 0.2em;padding-left: 0.2em;}#sk-a3e258af-d826-4452-ad0b-c7ad2af006d6 div.sk-item {z-index: 1;}#sk-a3e258af-d826-4452-ad0b-c7ad2af006d6 div.sk-parallel {display: flex;align-items: stretch;justify-content: center;background-color: white;}#sk-a3e258af-d826-4452-ad0b-c7ad2af006d6 div.sk-parallel::before {content: \"\";position: absolute;border-left: 1px solid gray;box-sizing: border-box;top: 2em;bottom: 0;left: 50%;}#sk-a3e258af-d826-4452-ad0b-c7ad2af006d6 div.sk-parallel-item {display: flex;flex-direction: column;position: relative;background-color: white;}#sk-a3e258af-d826-4452-ad0b-c7ad2af006d6 div.sk-parallel-item:first-child::after {align-self: flex-end;width: 50%;}#sk-a3e258af-d826-4452-ad0b-c7ad2af006d6 div.sk-parallel-item:last-child::after {align-self: flex-start;width: 50%;}#sk-a3e258af-d826-4452-ad0b-c7ad2af006d6 div.sk-parallel-item:only-child::after {width: 0;}#sk-a3e258af-d826-4452-ad0b-c7ad2af006d6 div.sk-dashed-wrapped {border: 1px dashed gray;margin: 0 0.4em 0.5em 0.4em;box-sizing: border-box;padding-bottom: 0.4em;background-color: white;position: relative;}#sk-a3e258af-d826-4452-ad0b-c7ad2af006d6 div.sk-label label {font-family: monospace;font-weight: bold;background-color: white;display: inline-block;line-height: 1.2em;}#sk-a3e258af-d826-4452-ad0b-c7ad2af006d6 div.sk-label-container {position: relative;z-index: 2;text-align: center;}#sk-a3e258af-d826-4452-ad0b-c7ad2af006d6 div.sk-container {/* jupyter's `normalize.less` sets `[hidden] { display: none; }` but bootstrap.min.css set `[hidden] { display: none !important; }` so we also need the `!important` here to be able to override the default hidden behavior on the sphinx rendered scikit-learn.org. See: https://github.com/scikit-learn/scikit-learn/issues/21755 */display: inline-block !important;position: relative;}#sk-a3e258af-d826-4452-ad0b-c7ad2af006d6 div.sk-text-repr-fallback {display: none;}</style><div id=\"sk-a3e258af-d826-4452-ad0b-c7ad2af006d6\" class=\"sk-top-container\"><div class=\"sk-text-repr-fallback\"><pre>Pipeline(steps=[(&#x27;columntransformer&#x27;,\n",
              "                 ColumnTransformer(remainder=&#x27;passthrough&#x27;,\n",
              "                                   transformers=[(&#x27;pipeline-1&#x27;,\n",
              "                                                  Pipeline(steps=[(&#x27;simpleimputer&#x27;,\n",
              "                                                                   SimpleImputer(strategy=&#x27;median&#x27;)),\n",
              "                                                                  (&#x27;standardscaler&#x27;,\n",
              "                                                                   StandardScaler())]),\n",
              "                                                  &lt;sklearn.compose._column_transformer.make_column_selector object at 0x7fb1cbf167d0&gt;),\n",
              "                                                 (&#x27;pipeline-2&#x27;,\n",
              "                                                  Pipeline(steps=[(&#x27;simpleimputer&#x27;,\n",
              "                                                                   SimpleImputer(strategy=&#x27;most_frequent&#x27;)),\n",
              "                                                                  (&#x27;onehotencoder&#x27;,\n",
              "                                                                   OneHotEncoder(handle_unknown=&#x27;ignore&#x27;,\n",
              "                                                                                 sparse=False))]),\n",
              "                                                  &lt;sklearn.compose._column_transformer.make_column_selector object at 0x7fb1cbf16b50&gt;)])),\n",
              "                (&#x27;logisticregression&#x27;, LogisticRegression(C=1000))])</pre><b>Please rerun this cell to show the HTML repr or trust the notebook.</b></div><div class=\"sk-container\" hidden><div class=\"sk-item sk-dashed-wrapped\"><div class=\"sk-label-container\"><div class=\"sk-label sk-toggleable\"><input class=\"sk-toggleable__control sk-hidden--visually\" id=\"8e249b8e-5dca-411a-84cb-dfd29a5cefde\" type=\"checkbox\" ><label for=\"8e249b8e-5dca-411a-84cb-dfd29a5cefde\" class=\"sk-toggleable__label sk-toggleable__label-arrow\">Pipeline</label><div class=\"sk-toggleable__content\"><pre>Pipeline(steps=[(&#x27;columntransformer&#x27;,\n",
              "                 ColumnTransformer(remainder=&#x27;passthrough&#x27;,\n",
              "                                   transformers=[(&#x27;pipeline-1&#x27;,\n",
              "                                                  Pipeline(steps=[(&#x27;simpleimputer&#x27;,\n",
              "                                                                   SimpleImputer(strategy=&#x27;median&#x27;)),\n",
              "                                                                  (&#x27;standardscaler&#x27;,\n",
              "                                                                   StandardScaler())]),\n",
              "                                                  &lt;sklearn.compose._column_transformer.make_column_selector object at 0x7fb1cbf167d0&gt;),\n",
              "                                                 (&#x27;pipeline-2&#x27;,\n",
              "                                                  Pipeline(steps=[(&#x27;simpleimputer&#x27;,\n",
              "                                                                   SimpleImputer(strategy=&#x27;most_frequent&#x27;)),\n",
              "                                                                  (&#x27;onehotencoder&#x27;,\n",
              "                                                                   OneHotEncoder(handle_unknown=&#x27;ignore&#x27;,\n",
              "                                                                                 sparse=False))]),\n",
              "                                                  &lt;sklearn.compose._column_transformer.make_column_selector object at 0x7fb1cbf16b50&gt;)])),\n",
              "                (&#x27;logisticregression&#x27;, LogisticRegression(C=1000))])</pre></div></div></div><div class=\"sk-serial\"><div class=\"sk-item sk-dashed-wrapped\"><div class=\"sk-label-container\"><div class=\"sk-label sk-toggleable\"><input class=\"sk-toggleable__control sk-hidden--visually\" id=\"72a74d7d-6707-4188-8530-6badf73dab65\" type=\"checkbox\" ><label for=\"72a74d7d-6707-4188-8530-6badf73dab65\" class=\"sk-toggleable__label sk-toggleable__label-arrow\">columntransformer: ColumnTransformer</label><div class=\"sk-toggleable__content\"><pre>ColumnTransformer(remainder=&#x27;passthrough&#x27;,\n",
              "                  transformers=[(&#x27;pipeline-1&#x27;,\n",
              "                                 Pipeline(steps=[(&#x27;simpleimputer&#x27;,\n",
              "                                                  SimpleImputer(strategy=&#x27;median&#x27;)),\n",
              "                                                 (&#x27;standardscaler&#x27;,\n",
              "                                                  StandardScaler())]),\n",
              "                                 &lt;sklearn.compose._column_transformer.make_column_selector object at 0x7fb1cbf167d0&gt;),\n",
              "                                (&#x27;pipeline-2&#x27;,\n",
              "                                 Pipeline(steps=[(&#x27;simpleimputer&#x27;,\n",
              "                                                  SimpleImputer(strategy=&#x27;most_frequent&#x27;)),\n",
              "                                                 (&#x27;onehotencoder&#x27;,\n",
              "                                                  OneHotEncoder(handle_unknown=&#x27;ignore&#x27;,\n",
              "                                                                sparse=False))]),\n",
              "                                 &lt;sklearn.compose._column_transformer.make_column_selector object at 0x7fb1cbf16b50&gt;)])</pre></div></div></div><div class=\"sk-parallel\"><div class=\"sk-parallel-item\"><div class=\"sk-item\"><div class=\"sk-label-container\"><div class=\"sk-label sk-toggleable\"><input class=\"sk-toggleable__control sk-hidden--visually\" id=\"2d26d5e1-f947-4614-be97-4969df6b1ce1\" type=\"checkbox\" ><label for=\"2d26d5e1-f947-4614-be97-4969df6b1ce1\" class=\"sk-toggleable__label sk-toggleable__label-arrow\">pipeline-1</label><div class=\"sk-toggleable__content\"><pre>&lt;sklearn.compose._column_transformer.make_column_selector object at 0x7fb1cbf167d0&gt;</pre></div></div></div><div class=\"sk-serial\"><div class=\"sk-item\"><div class=\"sk-serial\"><div class=\"sk-item\"><div class=\"sk-estimator sk-toggleable\"><input class=\"sk-toggleable__control sk-hidden--visually\" id=\"73eabaa3-92ca-4c05-8103-294f598a0fe0\" type=\"checkbox\" ><label for=\"73eabaa3-92ca-4c05-8103-294f598a0fe0\" class=\"sk-toggleable__label sk-toggleable__label-arrow\">SimpleImputer</label><div class=\"sk-toggleable__content\"><pre>SimpleImputer(strategy=&#x27;median&#x27;)</pre></div></div></div><div class=\"sk-item\"><div class=\"sk-estimator sk-toggleable\"><input class=\"sk-toggleable__control sk-hidden--visually\" id=\"7b26ac5a-b291-43e9-80e1-fefebaeeb5a7\" type=\"checkbox\" ><label for=\"7b26ac5a-b291-43e9-80e1-fefebaeeb5a7\" class=\"sk-toggleable__label sk-toggleable__label-arrow\">StandardScaler</label><div class=\"sk-toggleable__content\"><pre>StandardScaler()</pre></div></div></div></div></div></div></div></div><div class=\"sk-parallel-item\"><div class=\"sk-item\"><div class=\"sk-label-container\"><div class=\"sk-label sk-toggleable\"><input class=\"sk-toggleable__control sk-hidden--visually\" id=\"b0bd3081-8094-4b37-8c38-d45c46bc1d5b\" type=\"checkbox\" ><label for=\"b0bd3081-8094-4b37-8c38-d45c46bc1d5b\" class=\"sk-toggleable__label sk-toggleable__label-arrow\">pipeline-2</label><div class=\"sk-toggleable__content\"><pre>&lt;sklearn.compose._column_transformer.make_column_selector object at 0x7fb1cbf16b50&gt;</pre></div></div></div><div class=\"sk-serial\"><div class=\"sk-item\"><div class=\"sk-serial\"><div class=\"sk-item\"><div class=\"sk-estimator sk-toggleable\"><input class=\"sk-toggleable__control sk-hidden--visually\" id=\"dcfb46b8-eee3-4dfe-9637-314e01855c9d\" type=\"checkbox\" ><label for=\"dcfb46b8-eee3-4dfe-9637-314e01855c9d\" class=\"sk-toggleable__label sk-toggleable__label-arrow\">SimpleImputer</label><div class=\"sk-toggleable__content\"><pre>SimpleImputer(strategy=&#x27;most_frequent&#x27;)</pre></div></div></div><div class=\"sk-item\"><div class=\"sk-estimator sk-toggleable\"><input class=\"sk-toggleable__control sk-hidden--visually\" id=\"8d49db59-4a15-4e69-9ade-b688056947ec\" type=\"checkbox\" ><label for=\"8d49db59-4a15-4e69-9ade-b688056947ec\" class=\"sk-toggleable__label sk-toggleable__label-arrow\">OneHotEncoder</label><div class=\"sk-toggleable__content\"><pre>OneHotEncoder(handle_unknown=&#x27;ignore&#x27;, sparse=False)</pre></div></div></div></div></div></div></div></div><div class=\"sk-parallel-item\"><div class=\"sk-item\"><div class=\"sk-label-container\"><div class=\"sk-label sk-toggleable\"><input class=\"sk-toggleable__control sk-hidden--visually\" id=\"51273b53-6709-4373-95c5-2f13a195dc11\" type=\"checkbox\" ><label for=\"51273b53-6709-4373-95c5-2f13a195dc11\" class=\"sk-toggleable__label sk-toggleable__label-arrow\">remainder</label><div class=\"sk-toggleable__content\"><pre>[]</pre></div></div></div><div class=\"sk-serial\"><div class=\"sk-item\"><div class=\"sk-estimator sk-toggleable\"><input class=\"sk-toggleable__control sk-hidden--visually\" id=\"1fda9acd-3003-4389-91d6-4eb286bba215\" type=\"checkbox\" ><label for=\"1fda9acd-3003-4389-91d6-4eb286bba215\" class=\"sk-toggleable__label sk-toggleable__label-arrow\">passthrough</label><div class=\"sk-toggleable__content\"><pre>passthrough</pre></div></div></div></div></div></div></div></div><div class=\"sk-item\"><div class=\"sk-estimator sk-toggleable\"><input class=\"sk-toggleable__control sk-hidden--visually\" id=\"b032a519-85db-4643-84d9-b29d8759ae59\" type=\"checkbox\" ><label for=\"b032a519-85db-4643-84d9-b29d8759ae59\" class=\"sk-toggleable__label sk-toggleable__label-arrow\">LogisticRegression</label><div class=\"sk-toggleable__content\"><pre>LogisticRegression(C=1000)</pre></div></div></div></div></div></div></div>"
            ]
          },
          "metadata": {},
          "execution_count": 385
        }
      ]
    },
    {
      "cell_type": "code",
      "source": [
        "#check test score\n",
        "print(logreg_pipe.score(X_train, y_train))\n",
        "print(logreg_pipe.score(X_test, y_test))\n"
      ],
      "metadata": {
        "colab": {
          "base_uri": "https://localhost:8080/"
        },
        "id": "_fis9DrDbx79",
        "outputId": "bf36d82d-baaa-4ec5-9613-6636d8466782"
      },
      "execution_count": 386,
      "outputs": [
        {
          "output_type": "stream",
          "name": "stdout",
          "text": [
            "0.8784810126582279\n",
            "0.4418212478920742\n"
          ]
        }
      ]
    },
    {
      "cell_type": "code",
      "source": [
        "# tuning via L1 regularization\n",
        "\n",
        "# create a list of c values and empty lists for scores\n",
        "c_values = [0.0001, 0.001, 0.01, 0.1, 1, 10, 100, 1000]\n",
        "train_scores = []\n",
        "test_scores = []\n",
        "#iterative over the c values\n",
        "for c in c_values:\n",
        "    # instantiate a model with each value of c and fit it on the data\n",
        "  log_reg = LogisticRegression(C=c, max_iter=1000, solver='liblinear', penalty='l1')\n",
        "  log_reg_pipe = make_pipeline(preprocessor, log_reg)\n",
        "  log_reg_pipe.fit(X_train, y_train)\n",
        " \n",
        "  # add the training and testing scores to our scores lists\n",
        "  train_scores.append(log_reg_pipe.score(X_train, y_train))\n",
        "  test_scores.append(log_reg_pipe.score(X_test, y_test))\n",
        " \n",
        "#plot the change in accuracy as we change the value of C\n",
        "fig, ax = plt.subplots(1,1)\n",
        "ax.plot(c_values, train_scores, label='Training Accuracy')\n",
        "ax.plot(c_values, test_scores, label='Testing Accuracy')\n",
        "ax.set_xticks(c_values)\n",
        "ax.set_title('Change in accuracy over C values for l1 regularization')\n",
        "ax.legend()\n",
        " \n",
        "#set the x axis to a logarithmic scale to show the values of C in even intervals\n",
        "ax.set_xscale('log')\n",
        "# print a dictionary of values of C and accuracy scores\n",
        "{c:score for c, score in zip(c_values, test_scores)}\n",
        "\n",
        "\n",
        "# highest accuracy at 0.1: 0.4645868465430017"
      ],
      "metadata": {
        "colab": {
          "base_uri": "https://localhost:8080/",
          "height": 424
        },
        "id": "Qj2cRDDMhFuF",
        "outputId": "41d0e1e6-862b-41d5-e810-9b82e3fa5760"
      },
      "execution_count": 389,
      "outputs": [
        {
          "output_type": "execute_result",
          "data": {
            "text/plain": [
              "{0.0001: 0.2175379426644182,\n",
              " 0.001: 0.42074198988195616,\n",
              " 0.01: 0.4308600337268128,\n",
              " 0.1: 0.45446880269814505,\n",
              " 1: 0.4645868465430017,\n",
              " 10: 0.4426644182124789,\n",
              " 100: 0.40809443507588533,\n",
              " 1000: 0.3962900505902192}"
            ]
          },
          "metadata": {},
          "execution_count": 389
        },
        {
          "output_type": "display_data",
          "data": {
            "text/plain": [
              "<Figure size 432x288 with 1 Axes>"
            ],
            "image/png": "[encoded data removed]"
          },
          "metadata": {
            "needs_background": "light"
          }
        }
      ]
    },
    {
      "cell_type": "code",
      "source": [
        "# tuning via L2 regularization\n",
        "\n",
        "# create a list of c values and empty lists for scores\n",
        "c_values = [0.0001, 0.001, 0.01, 0.1, 1, 10, 100, 1000]\n",
        "train_scores = []\n",
        "test_scores = []\n",
        "#iterative over the c values\n",
        "for c in c_values:\n",
        "  # instantiate a model with each value of c and fit it on the data\n",
        "  log_reg = LogisticRegression(C=c, max_iter=1000, solver='liblinear', penalty='l2')\n",
        "  log_reg_pipe = make_pipeline(preprocessor, log_reg)\n",
        "  log_reg_pipe.fit(X_train, y_train)\n",
        " \n",
        "  # add the training and testing scores to our scores lists\n",
        "  train_scores.append(log_reg_pipe.score(X_train, y_train))\n",
        "  test_scores.append(log_reg_pipe.score(X_test, y_test))\n",
        "  \n",
        "#plot the change in accuracy as we change the value of C\n",
        "fig, ax = plt.subplots(1,1)\n",
        "ax.plot(c_values, train_scores, label='Training Accuracy')\n",
        "ax.plot(c_values, test_scores, label='Testing Accuracy')\n",
        "ax.set_xticks(c_values)\n",
        "ax.set_title('Change in accuracy over C values for l2 regularization')\n",
        "ax.legend()\n",
        "#set the x axis to a logarithmic scale to show the values of C in even intervals\n",
        "ax.set_xscale('log')\n",
        "# print a dictionary of values of C and accuracy scores\n",
        "{c:score for c, score in zip(c_values, test_scores)}\n",
        "\n",
        "\n",
        "#highest accuracy is at 0.1: 0.4671163575042159"
      ],
      "metadata": {
        "colab": {
          "base_uri": "https://localhost:8080/",
          "height": 424
        },
        "id": "UqRoH7QgiBCT",
        "outputId": "98d805b5-a9bf-4546-d760-dda4964a03a0"
      },
      "execution_count": 390,
      "outputs": [
        {
          "output_type": "execute_result",
          "data": {
            "text/plain": [
              "{0.0001: 0.4156829679595278,\n",
              " 0.001: 0.44097807757166946,\n",
              " 0.01: 0.4494097807757167,\n",
              " 0.1: 0.4671163575042159,\n",
              " 1: 0.45952782462057334,\n",
              " 10: 0.45109612141652616,\n",
              " 100: 0.4274873524451939,\n",
              " 1000: 0.3996627318718381}"
            ]
          },
          "metadata": {},
          "execution_count": 390
        },
        {
          "output_type": "display_data",
          "data": {
            "text/plain": [
              "<Figure size 432x288 with 1 Axes>"
            ],
            "image/png": "[encoded data removed]"
          },
          "metadata": {
            "needs_background": "light"
          }
        }
      ]
    },
    {
      "cell_type": "markdown",
      "source": [
        "Logistic Regression with L2 regularization increased the model's accuracy to 46.7% which is the only very slightly higher than the KNN model with k value of 14."
      ],
      "metadata": {
        "id": "QHSi-NfdjpMj"
      }
    },
    {
      "cell_type": "markdown",
      "source": [
        "Random Forest Regressor"
      ],
      "metadata": {
        "id": "cJFqsikXl6DO"
      }
    },
    {
      "cell_type": "code",
      "source": [
        "#instantiate model\n",
        "rf = RandomForestRegressor(random_state = 42)\n",
        "#review hyperparameters\n",
        "rf.get_params()"
      ],
      "metadata": {
        "colab": {
          "base_uri": "https://localhost:8080/"
        },
        "id": "rcrPPFw7mOVZ",
        "outputId": "c9fd8a9f-b251-4531-93da-ad44361433ec"
      },
      "execution_count": 392,
      "outputs": [
        {
          "output_type": "execute_result",
          "data": {
            "text/plain": [
              "{'bootstrap': True,\n",
              " 'ccp_alpha': 0.0,\n",
              " 'criterion': 'squared_error',\n",
              " 'max_depth': None,\n",
              " 'max_features': 'auto',\n",
              " 'max_leaf_nodes': None,\n",
              " 'max_samples': None,\n",
              " 'min_impurity_decrease': 0.0,\n",
              " 'min_samples_leaf': 1,\n",
              " 'min_samples_split': 2,\n",
              " 'min_weight_fraction_leaf': 0.0,\n",
              " 'n_estimators': 100,\n",
              " 'n_jobs': None,\n",
              " 'oob_score': False,\n",
              " 'random_state': 42,\n",
              " 'verbose': 0,\n",
              " 'warm_start': False}"
            ]
          },
          "metadata": {},
          "execution_count": 392
        }
      ]
    },
    {
      "cell_type": "code",
      "source": [
        "#instanstiate model\n",
        "rf_pipe = make_pipeline(preprocessor, rf)\n",
        "#train model\n",
        "rf_pipe.fit(X_train,y_train)"
      ],
      "metadata": {
        "colab": {
          "base_uri": "https://localhost:8080/",
          "height": 227
        },
        "id": "qTcTzgRtmfhy",
        "outputId": "c0499e82-1a0d-44af-dae3-3ac7649706f8"
      },
      "execution_count": 394,
      "outputs": [
        {
          "output_type": "execute_result",
          "data": {
            "text/plain": [
              "Pipeline(steps=[('columntransformer',\n",
              "                 ColumnTransformer(remainder='passthrough',\n",
              "                                   transformers=[('pipeline-1',\n",
              "                                                  Pipeline(steps=[('simpleimputer',\n",
              "                                                                   SimpleImputer(strategy='median')),\n",
              "                                                                  ('standardscaler',\n",
              "                                                                   StandardScaler())]),\n",
              "                                                  <sklearn.compose._column_transformer.make_column_selector object at 0x7fb1cbf167d0>),\n",
              "                                                 ('pipeline-2',\n",
              "                                                  Pipeline(steps=[('simpleimputer',\n",
              "                                                                   SimpleImputer(strategy='most_frequent')),\n",
              "                                                                  ('onehotencoder',\n",
              "                                                                   OneHotEncoder(handle_unknown='ignore',\n",
              "                                                                                 sparse=False))]),\n",
              "                                                  <sklearn.compose._column_transformer.make_column_selector object at 0x7fb1cbf16b50>)])),\n",
              "                ('randomforestregressor',\n",
              "                 RandomForestRegressor(random_state=42))])"
            ],
            "text/html": [
              "<style>#sk-b2496791-49ba-4615-a504-2b47e1878aa4 {color: black;background-color: white;}#sk-b2496791-49ba-4615-a504-2b47e1878aa4 pre{padding: 0;}#sk-b2496791-49ba-4615-a504-2b47e1878aa4 div.sk-toggleable {background-color: white;}#sk-b2496791-49ba-4615-a504-2b47e1878aa4 label.sk-toggleable__label {cursor: pointer;display: block;width: 100%;margin-bottom: 0;padding: 0.3em;box-sizing: border-box;text-align: center;}#sk-b2496791-49ba-4615-a504-2b47e1878aa4 label.sk-toggleable__label-arrow:before {content: \"▸\";float: left;margin-right: 0.25em;color: #696969;}#sk-b2496791-49ba-4615-a504-2b47e1878aa4 label.sk-toggleable__label-arrow:hover:before {color: black;}#sk-b2496791-49ba-4615-a504-2b47e1878aa4 div.sk-estimator:hover label.sk-toggleable__label-arrow:before {color: black;}#sk-b2496791-49ba-4615-a504-2b47e1878aa4 div.sk-toggleable__content {max-height: 0;max-width: 0;overflow: hidden;text-align: left;background-color: #f0f8ff;}#sk-b2496791-49ba-4615-a504-2b47e1878aa4 div.sk-toggleable__content pre {margin: 0.2em;color: black;border-radius: 0.25em;background-color: #f0f8ff;}#sk-b2496791-49ba-4615-a504-2b47e1878aa4 input.sk-toggleable__control:checked~div.sk-toggleable__content {max-height: 200px;max-width: 100%;overflow: auto;}#sk-b2496791-49ba-4615-a504-2b47e1878aa4 input.sk-toggleable__control:checked~label.sk-toggleable__label-arrow:before {content: \"▾\";}#sk-b2496791-49ba-4615-a504-2b47e1878aa4 div.sk-estimator input.sk-toggleable__control:checked~label.sk-toggleable__label {background-color: #d4ebff;}#sk-b2496791-49ba-4615-a504-2b47e1878aa4 div.sk-label input.sk-toggleable__control:checked~label.sk-toggleable__label {background-color: #d4ebff;}#sk-b2496791-49ba-4615-a504-2b47e1878aa4 input.sk-hidden--visually {border: 0;clip: rect(1px 1px 1px 1px);clip: rect(1px, 1px, 1px, 1px);height: 1px;margin: -1px;overflow: hidden;padding: 0;position: absolute;width: 1px;}#sk-b2496791-49ba-4615-a504-2b47e1878aa4 div.sk-estimator {font-family: monospace;background-color: #f0f8ff;border: 1px dotted black;border-radius: 0.25em;box-sizing: border-box;margin-bottom: 0.5em;}#sk-b2496791-49ba-4615-a504-2b47e1878aa4 div.sk-estimator:hover {background-color: #d4ebff;}#sk-b2496791-49ba-4615-a504-2b47e1878aa4 div.sk-parallel-item::after {content: \"\";width: 100%;border-bottom: 1px solid gray;flex-grow: 1;}#sk-b2496791-49ba-4615-a504-2b47e1878aa4 div.sk-label:hover label.sk-toggleable__label {background-color: #d4ebff;}#sk-b2496791-49ba-4615-a504-2b47e1878aa4 div.sk-serial::before {content: \"\";position: absolute;border-left: 1px solid gray;box-sizing: border-box;top: 2em;bottom: 0;left: 50%;}#sk-b2496791-49ba-4615-a504-2b47e1878aa4 div.sk-serial {display: flex;flex-direction: column;align-items: center;background-color: white;padding-right: 0.2em;padding-left: 0.2em;}#sk-b2496791-49ba-4615-a504-2b47e1878aa4 div.sk-item {z-index: 1;}#sk-b2496791-49ba-4615-a504-2b47e1878aa4 div.sk-parallel {display: flex;align-items: stretch;justify-content: center;background-color: white;}#sk-b2496791-49ba-4615-a504-2b47e1878aa4 div.sk-parallel::before {content: \"\";position: absolute;border-left: 1px solid gray;box-sizing: border-box;top: 2em;bottom: 0;left: 50%;}#sk-b2496791-49ba-4615-a504-2b47e1878aa4 div.sk-parallel-item {display: flex;flex-direction: column;position: relative;background-color: white;}#sk-b2496791-49ba-4615-a504-2b47e1878aa4 div.sk-parallel-item:first-child::after {align-self: flex-end;width: 50%;}#sk-b2496791-49ba-4615-a504-2b47e1878aa4 div.sk-parallel-item:last-child::after {align-self: flex-start;width: 50%;}#sk-b2496791-49ba-4615-a504-2b47e1878aa4 div.sk-parallel-item:only-child::after {width: 0;}#sk-b2496791-49ba-4615-a504-2b47e1878aa4 div.sk-dashed-wrapped {border: 1px dashed gray;margin: 0 0.4em 0.5em 0.4em;box-sizing: border-box;padding-bottom: 0.4em;background-color: white;position: relative;}#sk-b2496791-49ba-4615-a504-2b47e1878aa4 div.sk-label label {font-family: monospace;font-weight: bold;background-color: white;display: inline-block;line-height: 1.2em;}#sk-b2496791-49ba-4615-a504-2b47e1878aa4 div.sk-label-container {position: relative;z-index: 2;text-align: center;}#sk-b2496791-49ba-4615-a504-2b47e1878aa4 div.sk-container {/* jupyter's `normalize.less` sets `[hidden] { display: none; }` but bootstrap.min.css set `[hidden] { display: none !important; }` so we also need the `!important` here to be able to override the default hidden behavior on the sphinx rendered scikit-learn.org. See: https://github.com/scikit-learn/scikit-learn/issues/21755 */display: inline-block !important;position: relative;}#sk-b2496791-49ba-4615-a504-2b47e1878aa4 div.sk-text-repr-fallback {display: none;}</style><div id=\"sk-b2496791-49ba-4615-a504-2b47e1878aa4\" class=\"sk-top-container\"><div class=\"sk-text-repr-fallback\"><pre>Pipeline(steps=[(&#x27;columntransformer&#x27;,\n",
              "                 ColumnTransformer(remainder=&#x27;passthrough&#x27;,\n",
              "                                   transformers=[(&#x27;pipeline-1&#x27;,\n",
              "                                                  Pipeline(steps=[(&#x27;simpleimputer&#x27;,\n",
              "                                                                   SimpleImputer(strategy=&#x27;median&#x27;)),\n",
              "                                                                  (&#x27;standardscaler&#x27;,\n",
              "                                                                   StandardScaler())]),\n",
              "                                                  &lt;sklearn.compose._column_transformer.make_column_selector object at 0x7fb1cbf167d0&gt;),\n",
              "                                                 (&#x27;pipeline-2&#x27;,\n",
              "                                                  Pipeline(steps=[(&#x27;simpleimputer&#x27;,\n",
              "                                                                   SimpleImputer(strategy=&#x27;most_frequent&#x27;)),\n",
              "                                                                  (&#x27;onehotencoder&#x27;,\n",
              "                                                                   OneHotEncoder(handle_unknown=&#x27;ignore&#x27;,\n",
              "                                                                                 sparse=False))]),\n",
              "                                                  &lt;sklearn.compose._column_transformer.make_column_selector object at 0x7fb1cbf16b50&gt;)])),\n",
              "                (&#x27;randomforestregressor&#x27;,\n",
              "                 RandomForestRegressor(random_state=42))])</pre><b>Please rerun this cell to show the HTML repr or trust the notebook.</b></div><div class=\"sk-container\" hidden><div class=\"sk-item sk-dashed-wrapped\"><div class=\"sk-label-container\"><div class=\"sk-label sk-toggleable\"><input class=\"sk-toggleable__control sk-hidden--visually\" id=\"b8c273a9-6c27-4f06-95c7-6534f725eff8\" type=\"checkbox\" ><label for=\"b8c273a9-6c27-4f06-95c7-6534f725eff8\" class=\"sk-toggleable__label sk-toggleable__label-arrow\">Pipeline</label><div class=\"sk-toggleable__content\"><pre>Pipeline(steps=[(&#x27;columntransformer&#x27;,\n",
              "                 ColumnTransformer(remainder=&#x27;passthrough&#x27;,\n",
              "                                   transformers=[(&#x27;pipeline-1&#x27;,\n",
              "                                                  Pipeline(steps=[(&#x27;simpleimputer&#x27;,\n",
              "                                                                   SimpleImputer(strategy=&#x27;median&#x27;)),\n",
              "                                                                  (&#x27;standardscaler&#x27;,\n",
              "                                                                   StandardScaler())]),\n",
              "                                                  &lt;sklearn.compose._column_transformer.make_column_selector object at 0x7fb1cbf167d0&gt;),\n",
              "                                                 (&#x27;pipeline-2&#x27;,\n",
              "                                                  Pipeline(steps=[(&#x27;simpleimputer&#x27;,\n",
              "                                                                   SimpleImputer(strategy=&#x27;most_frequent&#x27;)),\n",
              "                                                                  (&#x27;onehotencoder&#x27;,\n",
              "                                                                   OneHotEncoder(handle_unknown=&#x27;ignore&#x27;,\n",
              "                                                                                 sparse=False))]),\n",
              "                                                  &lt;sklearn.compose._column_transformer.make_column_selector object at 0x7fb1cbf16b50&gt;)])),\n",
              "                (&#x27;randomforestregressor&#x27;,\n",
              "                 RandomForestRegressor(random_state=42))])</pre></div></div></div><div class=\"sk-serial\"><div class=\"sk-item sk-dashed-wrapped\"><div class=\"sk-label-container\"><div class=\"sk-label sk-toggleable\"><input class=\"sk-toggleable__control sk-hidden--visually\" id=\"acaac134-8659-4924-9d79-b96f9825227c\" type=\"checkbox\" ><label for=\"acaac134-8659-4924-9d79-b96f9825227c\" class=\"sk-toggleable__label sk-toggleable__label-arrow\">columntransformer: ColumnTransformer</label><div class=\"sk-toggleable__content\"><pre>ColumnTransformer(remainder=&#x27;passthrough&#x27;,\n",
              "                  transformers=[(&#x27;pipeline-1&#x27;,\n",
              "                                 Pipeline(steps=[(&#x27;simpleimputer&#x27;,\n",
              "                                                  SimpleImputer(strategy=&#x27;median&#x27;)),\n",
              "                                                 (&#x27;standardscaler&#x27;,\n",
              "                                                  StandardScaler())]),\n",
              "                                 &lt;sklearn.compose._column_transformer.make_column_selector object at 0x7fb1cbf167d0&gt;),\n",
              "                                (&#x27;pipeline-2&#x27;,\n",
              "                                 Pipeline(steps=[(&#x27;simpleimputer&#x27;,\n",
              "                                                  SimpleImputer(strategy=&#x27;most_frequent&#x27;)),\n",
              "                                                 (&#x27;onehotencoder&#x27;,\n",
              "                                                  OneHotEncoder(handle_unknown=&#x27;ignore&#x27;,\n",
              "                                                                sparse=False))]),\n",
              "                                 &lt;sklearn.compose._column_transformer.make_column_selector object at 0x7fb1cbf16b50&gt;)])</pre></div></div></div><div class=\"sk-parallel\"><div class=\"sk-parallel-item\"><div class=\"sk-item\"><div class=\"sk-label-container\"><div class=\"sk-label sk-toggleable\"><input class=\"sk-toggleable__control sk-hidden--visually\" id=\"fb9ca11a-9bc5-4fc7-ad0e-94bd5572cec9\" type=\"checkbox\" ><label for=\"fb9ca11a-9bc5-4fc7-ad0e-94bd5572cec9\" class=\"sk-toggleable__label sk-toggleable__label-arrow\">pipeline-1</label><div class=\"sk-toggleable__content\"><pre>&lt;sklearn.compose._column_transformer.make_column_selector object at 0x7fb1cbf167d0&gt;</pre></div></div></div><div class=\"sk-serial\"><div class=\"sk-item\"><div class=\"sk-serial\"><div class=\"sk-item\"><div class=\"sk-estimator sk-toggleable\"><input class=\"sk-toggleable__control sk-hidden--visually\" id=\"4861bcb7-a65e-43dc-9a03-12e525aa2dee\" type=\"checkbox\" ><label for=\"4861bcb7-a65e-43dc-9a03-12e525aa2dee\" class=\"sk-toggleable__label sk-toggleable__label-arrow\">SimpleImputer</label><div class=\"sk-toggleable__content\"><pre>SimpleImputer(strategy=&#x27;median&#x27;)</pre></div></div></div><div class=\"sk-item\"><div class=\"sk-estimator sk-toggleable\"><input class=\"sk-toggleable__control sk-hidden--visually\" id=\"d4174bf8-36f4-4e1b-97f5-8b35c5af8c07\" type=\"checkbox\" ><label for=\"d4174bf8-36f4-4e1b-97f5-8b35c5af8c07\" class=\"sk-toggleable__label sk-toggleable__label-arrow\">StandardScaler</label><div class=\"sk-toggleable__content\"><pre>StandardScaler()</pre></div></div></div></div></div></div></div></div><div class=\"sk-parallel-item\"><div class=\"sk-item\"><div class=\"sk-label-container\"><div class=\"sk-label sk-toggleable\"><input class=\"sk-toggleable__control sk-hidden--visually\" id=\"8bbdd090-c37b-4e8d-b344-ff46ca9c89f9\" type=\"checkbox\" ><label for=\"8bbdd090-c37b-4e8d-b344-ff46ca9c89f9\" class=\"sk-toggleable__label sk-toggleable__label-arrow\">pipeline-2</label><div class=\"sk-toggleable__content\"><pre>&lt;sklearn.compose._column_transformer.make_column_selector object at 0x7fb1cbf16b50&gt;</pre></div></div></div><div class=\"sk-serial\"><div class=\"sk-item\"><div class=\"sk-serial\"><div class=\"sk-item\"><div class=\"sk-estimator sk-toggleable\"><input class=\"sk-toggleable__control sk-hidden--visually\" id=\"6fa9f2b8-0ce5-4ba4-87b8-7440e556d27c\" type=\"checkbox\" ><label for=\"6fa9f2b8-0ce5-4ba4-87b8-7440e556d27c\" class=\"sk-toggleable__label sk-toggleable__label-arrow\">SimpleImputer</label><div class=\"sk-toggleable__content\"><pre>SimpleImputer(strategy=&#x27;most_frequent&#x27;)</pre></div></div></div><div class=\"sk-item\"><div class=\"sk-estimator sk-toggleable\"><input class=\"sk-toggleable__control sk-hidden--visually\" id=\"5f09be9b-830e-46ef-ac8a-5b700844ec54\" type=\"checkbox\" ><label for=\"5f09be9b-830e-46ef-ac8a-5b700844ec54\" class=\"sk-toggleable__label sk-toggleable__label-arrow\">OneHotEncoder</label><div class=\"sk-toggleable__content\"><pre>OneHotEncoder(handle_unknown=&#x27;ignore&#x27;, sparse=False)</pre></div></div></div></div></div></div></div></div><div class=\"sk-parallel-item\"><div class=\"sk-item\"><div class=\"sk-label-container\"><div class=\"sk-label sk-toggleable\"><input class=\"sk-toggleable__control sk-hidden--visually\" id=\"409018bf-2e77-4b8c-900d-d3c6f2217ca3\" type=\"checkbox\" ><label for=\"409018bf-2e77-4b8c-900d-d3c6f2217ca3\" class=\"sk-toggleable__label sk-toggleable__label-arrow\">remainder</label><div class=\"sk-toggleable__content\"><pre>[]</pre></div></div></div><div class=\"sk-serial\"><div class=\"sk-item\"><div class=\"sk-estimator sk-toggleable\"><input class=\"sk-toggleable__control sk-hidden--visually\" id=\"c1d7fb36-36db-44bf-8df2-c978ac06af18\" type=\"checkbox\" ><label for=\"c1d7fb36-36db-44bf-8df2-c978ac06af18\" class=\"sk-toggleable__label sk-toggleable__label-arrow\">passthrough</label><div class=\"sk-toggleable__content\"><pre>passthrough</pre></div></div></div></div></div></div></div></div><div class=\"sk-item\"><div class=\"sk-estimator sk-toggleable\"><input class=\"sk-toggleable__control sk-hidden--visually\" id=\"c0c44df5-211f-41b1-b390-11cd577d5ccc\" type=\"checkbox\" ><label for=\"c0c44df5-211f-41b1-b390-11cd577d5ccc\" class=\"sk-toggleable__label sk-toggleable__label-arrow\">RandomForestRegressor</label><div class=\"sk-toggleable__content\"><pre>RandomForestRegressor(random_state=42)</pre></div></div></div></div></div></div></div>"
            ]
          },
          "metadata": {},
          "execution_count": 394
        }
      ]
    },
    {
      "cell_type": "code",
      "source": [
        "#predict values for y\n",
        "rf_pipe.predict(X_test)"
      ],
      "metadata": {
        "colab": {
          "base_uri": "https://localhost:8080/"
        },
        "id": "8s7a-3mfnU78",
        "outputId": "fe9d1204-8fdf-4cba-9794-0e3707fc7e9d"
      },
      "execution_count": 396,
      "outputs": [
        {
          "output_type": "execute_result",
          "data": {
            "text/plain": [
              "array([ 3.42,  3.66, -0.96, ...,  2.95,  2.4 ,  3.57])"
            ]
          },
          "metadata": {},
          "execution_count": 396
        }
      ]
    },
    {
      "cell_type": "code",
      "source": [
        "#evaluate random forest model performance\n",
        "rf_pipe_train_score = rf_pipe.score(X_train, y_train)\n",
        "rf_pipe_test_score = rf_pipe.score(X_test, y_test)\n",
        "print(rf_pipe_train_score)\n",
        "print(rf_pipe_test_score)"
      ],
      "metadata": {
        "colab": {
          "base_uri": "https://localhost:8080/"
        },
        "id": "YGwPi6ldnhSl",
        "outputId": "6dee9145-31ff-4792-b3d0-6c6878d8bbbd"
      },
      "execution_count": 397,
      "outputs": [
        {
          "output_type": "stream",
          "name": "stdout",
          "text": [
            "0.9226656977524839\n",
            "0.49022992339020777\n"
          ]
        }
      ]
    },
    {
      "cell_type": "markdown",
      "source": [
        "R2 value of 49% for test set. Will tune random forest model to see if model can be improved."
      ],
      "metadata": {
        "id": "CV1mRY2loW6j"
      }
    },
    {
      "cell_type": "code",
      "source": [
        "#depth of model with unlimited max_depth\n",
        "est_depths = [estimator.get_depth() for estimator in rf.estimators_]\n",
        "max(est_depths)"
      ],
      "metadata": {
        "colab": {
          "base_uri": "https://localhost:8080/"
        },
        "id": "k1HodsYKoeqO",
        "outputId": "27a06d4e-a6ce-4889-d40c-267c2c07f0cf"
      },
      "execution_count": 398,
      "outputs": [
        {
          "output_type": "execute_result",
          "data": {
            "text/plain": [
              "93"
            ]
          },
          "metadata": {},
          "execution_count": 398
        }
      ]
    },
    {
      "cell_type": "code",
      "source": [
        "#use loop to loop to find best max_depth\n",
        "depths = range(1, max(est_depths))\n",
        "scores = pd.DataFrame(index=depths, columns=['Test Score'])\n",
        "for depth in depths:    \n",
        "   model = RandomForestRegressor(max_depth=depth)\n",
        "   model_pipe = make_pipeline(preprocessor, model)\n",
        "   model_pipe.fit(X_train, y_train)\n",
        "   scores.loc[depth, 'Train Score'] = model_pipe.score(X_train, y_train)\n",
        "   scores.loc[depth, 'Test Score'] = model_pipe.score(X_test, y_test)\n",
        "   scores.head()"
      ],
      "metadata": {
        "id": "ZkKpZiNBscg7"
      },
      "execution_count": null,
      "outputs": []
    },
    {
      "cell_type": "code",
      "source": [
        "sorted_scores = scores.sort_values(by='Test Score', ascending=False)\n",
        "sorted_scores.head()\n",
        "\n",
        "# best test score at the top"
      ],
      "metadata": {
        "colab": {
          "base_uri": "https://localhost:8080/",
          "height": 206
        },
        "id": "dfWSv_PpqX01",
        "outputId": "873ced65-d7a1-453b-8893-9682e1f4a368"
      },
      "execution_count": 404,
      "outputs": [
        {
          "output_type": "execute_result",
          "data": {
            "text/plain": [
              "   Test Score  Train Score\n",
              "10   0.524941     0.681572\n",
              "8    0.524176     0.627215\n",
              "9    0.523833     0.656692\n",
              "12   0.522367     0.724292\n",
              "7     0.52118     0.602240"
            ],
            "text/html": [
              "\n",
              "  <div id=\"df-839dfdcd-c973-450d-b3c5-8e55714ce4dd\">\n",
              "    <div class=\"colab-df-container\">\n",
              "      <div>\n",
              "<style scoped>\n",
              "    .dataframe tbody tr th:only-of-type {\n",
              "        vertical-align: middle;\n",
              "    }\n",
              "\n",
              "    .dataframe tbody tr th {\n",
              "        vertical-align: top;\n",
              "    }\n",
              "\n",
              "    .dataframe thead th {\n",
              "        text-align: right;\n",
              "    }\n",
              "</style>\n",
              "<table border=\"1\" class=\"dataframe\">\n",
              "  <thead>\n",
              "    <tr style=\"text-align: right;\">\n",
              "      <th></th>\n",
              "      <th>Test Score</th>\n",
              "      <th>Train Score</th>\n",
              "    </tr>\n",
              "  </thead>\n",
              "  <tbody>\n",
              "    <tr>\n",
              "      <th>10</th>\n",
              "      <td>0.524941</td>\n",
              "      <td>0.681572</td>\n",
              "    </tr>\n",
              "    <tr>\n",
              "      <th>8</th>\n",
              "      <td>0.524176</td>\n",
              "      <td>0.627215</td>\n",
              "    </tr>\n",
              "    <tr>\n",
              "      <th>9</th>\n",
              "      <td>0.523833</td>\n",
              "      <td>0.656692</td>\n",
              "    </tr>\n",
              "    <tr>\n",
              "      <th>12</th>\n",
              "      <td>0.522367</td>\n",
              "      <td>0.724292</td>\n",
              "    </tr>\n",
              "    <tr>\n",
              "      <th>7</th>\n",
              "      <td>0.52118</td>\n",
              "      <td>0.602240</td>\n",
              "    </tr>\n",
              "  </tbody>\n",
              "</table>\n",
              "</div>\n",
              "      <button class=\"colab-df-convert\" onclick=\"convertToInteractive('df-839dfdcd-c973-450d-b3c5-8e55714ce4dd')\"\n",
              "              title=\"Convert this dataframe to an interactive table.\"\n",
              "              style=\"display:none;\">\n",
              "        \n",
              "  <svg xmlns=\"http://www.w3.org/2000/svg\" height=\"24px\"viewBox=\"0 0 24 24\"\n",
              "       width=\"24px\">\n",
              "    <path d=\"M0 0h24v24H0V0z\" fill=\"none\"/>\n",
              "    <path d=\"M18.56 5.44l.94 2.06.94-2.06 2.06-.94-2.06-.94-.94-2.06-.94 2.06-2.06.94zm-11 1L8.5 8.5l.94-2.06 2.06-.94-2.06-.94L8.5 2.5l-.94 2.06-2.06.94zm10 10l.94 2.06.94-2.06 2.06-.94-2.06-.94-.94-2.06-.94 2.06-2.06.94z\"/><path d=\"M17.41 7.96l-1.37-1.37c-.4-.4-.92-.59-1.43-.59-.52 0-1.04.2-1.43.59L10.3 9.45l-7.72 7.72c-.78.78-.78 2.05 0 2.83L4 21.41c.39.39.9.59 1.41.59.51 0 1.02-.2 1.41-.59l7.78-7.78 2.81-2.81c.8-.78.8-2.07 0-2.86zM5.41 20L4 18.59l7.72-7.72 1.47 1.35L5.41 20z\"/>\n",
              "  </svg>\n",
              "      </button>\n",
              "      \n",
              "  <style>\n",
              "    .colab-df-container {\n",
              "      display:flex;\n",
              "      flex-wrap:wrap;\n",
              "      gap: 12px;\n",
              "    }\n",
              "\n",
              "    .colab-df-convert {\n",
              "      background-color: #E8F0FE;\n",
              "      border: none;\n",
              "      border-radius: 50%;\n",
              "      cursor: pointer;\n",
              "      display: none;\n",
              "      fill: #1967D2;\n",
              "      height: 32px;\n",
              "      padding: 0 0 0 0;\n",
              "      width: 32px;\n",
              "    }\n",
              "\n",
              "    .colab-df-convert:hover {\n",
              "      background-color: #E2EBFA;\n",
              "      box-shadow: 0px 1px 2px rgba(60, 64, 67, 0.3), 0px 1px 3px 1px rgba(60, 64, 67, 0.15);\n",
              "      fill: #174EA6;\n",
              "    }\n",
              "\n",
              "    [theme=dark] .colab-df-convert {\n",
              "      background-color: #3B4455;\n",
              "      fill: #D2E3FC;\n",
              "    }\n",
              "\n",
              "    [theme=dark] .colab-df-convert:hover {\n",
              "      background-color: #434B5C;\n",
              "      box-shadow: 0px 1px 3px 1px rgba(0, 0, 0, 0.15);\n",
              "      filter: drop-shadow(0px 1px 2px rgba(0, 0, 0, 0.3));\n",
              "      fill: #FFFFFF;\n",
              "    }\n",
              "  </style>\n",
              "\n",
              "      <script>\n",
              "        const buttonEl =\n",
              "          document.querySelector('#df-839dfdcd-c973-450d-b3c5-8e55714ce4dd button.colab-df-convert');\n",
              "        buttonEl.style.display =\n",
              "          google.colab.kernel.accessAllowed ? 'block' : 'none';\n",
              "\n",
              "        async function convertToInteractive(key) {\n",
              "          const element = document.querySelector('#df-839dfdcd-c973-450d-b3c5-8e55714ce4dd');\n",
              "          const dataTable =\n",
              "            await google.colab.kernel.invokeFunction('convertToInteractive',\n",
              "                                                     [key], {});\n",
              "          if (!dataTable) return;\n",
              "\n",
              "          const docLinkHtml = 'Like what you see? Visit the ' +\n",
              "            '<a target=\"_blank\" href=https://colab.research.google.com/notebooks/data_table.ipynb>data table notebook</a>'\n",
              "            + ' to learn more about interactive tables.';\n",
              "          element.innerHTML = '';\n",
              "          dataTable['output_type'] = 'display_data';\n",
              "          await google.colab.output.renderOutput(dataTable, element);\n",
              "          const docLink = document.createElement('div');\n",
              "          docLink.innerHTML = docLinkHtml;\n",
              "          element.appendChild(docLink);\n",
              "        }\n",
              "      </script>\n",
              "    </div>\n",
              "  </div>\n",
              "  "
            ]
          },
          "metadata": {},
          "execution_count": 404
        }
      ]
    },
    {
      "cell_type": "code",
      "source": [
        "plt.plot(scores['Test Score'])\n",
        "\n",
        "# confirming best max_depth at 10 via plot"
      ],
      "metadata": {
        "colab": {
          "base_uri": "https://localhost:8080/",
          "height": 282
        },
        "id": "oRZhzvuTxn4C",
        "outputId": "36bb117a-0895-4402-ca59-b23a79f78e0a"
      },
      "execution_count": 405,
      "outputs": [
        {
          "output_type": "execute_result",
          "data": {
            "text/plain": [
              "[<matplotlib.lines.Line2D at 0x7fb1cbac5f90>]"
            ]
          },
          "metadata": {},
          "execution_count": 405
        },
        {
          "output_type": "display_data",
          "data": {
            "text/plain": [
              "<Figure size 432x288 with 1 Axes>"
            ],
            "image/png": "[encoded data removed]"
          },
          "metadata": {
            "needs_background": "light"
          }
        }
      ]
    },
    {
      "cell_type": "code",
      "source": [
        "#tune model using n_estimators instead\n",
        "\n",
        "n_ests = [15, 20, 25, 30, 35]\n",
        "scores2 = pd.DataFrame(index=n_ests, columns=['Test Score', 'Train Score'])\n",
        "for n in n_ests:\n",
        "   model2 = RandomForestRegressor(max_depth=40, n_estimators=n)\n",
        "   model2_pipe = make_pipeline(preprocessor, model)\n",
        "   model2_pipe.fit(X_train, y_train)\n",
        "   scores2.loc[n, 'Train Score'] = model2_pipe.score(X_train, y_train)\n",
        "   scores2.loc[n, 'Test Score'] = model2_pipe.score(X_test, y_test)\n",
        "scores2.head()"
      ],
      "metadata": {
        "colab": {
          "base_uri": "https://localhost:8080/",
          "height": 206
        },
        "id": "cHnUDhKkxtnt",
        "outputId": "f46ecf43-1c2e-445b-cdf6-ee16c5f7309f"
      },
      "execution_count": 411,
      "outputs": [
        {
          "output_type": "execute_result",
          "data": {
            "text/plain": [
              "   Test Score Train Score\n",
              "15   0.475764    0.866106\n",
              "20   0.475758    0.874129\n",
              "25   0.486941    0.874456\n",
              "30   0.461011    0.867503\n",
              "35     0.4607    0.884916"
            ],
            "text/html": [
              "\n",
              "  <div id=\"df-485a131f-2426-41a9-a883-6f310b27014a\">\n",
              "    <div class=\"colab-df-container\">\n",
              "      <div>\n",
              "<style scoped>\n",
              "    .dataframe tbody tr th:only-of-type {\n",
              "        vertical-align: middle;\n",
              "    }\n",
              "\n",
              "    .dataframe tbody tr th {\n",
              "        vertical-align: top;\n",
              "    }\n",
              "\n",
              "    .dataframe thead th {\n",
              "        text-align: right;\n",
              "    }\n",
              "</style>\n",
              "<table border=\"1\" class=\"dataframe\">\n",
              "  <thead>\n",
              "    <tr style=\"text-align: right;\">\n",
              "      <th></th>\n",
              "      <th>Test Score</th>\n",
              "      <th>Train Score</th>\n",
              "    </tr>\n",
              "  </thead>\n",
              "  <tbody>\n",
              "    <tr>\n",
              "      <th>15</th>\n",
              "      <td>0.475764</td>\n",
              "      <td>0.866106</td>\n",
              "    </tr>\n",
              "    <tr>\n",
              "      <th>20</th>\n",
              "      <td>0.475758</td>\n",
              "      <td>0.874129</td>\n",
              "    </tr>\n",
              "    <tr>\n",
              "      <th>25</th>\n",
              "      <td>0.486941</td>\n",
              "      <td>0.874456</td>\n",
              "    </tr>\n",
              "    <tr>\n",
              "      <th>30</th>\n",
              "      <td>0.461011</td>\n",
              "      <td>0.867503</td>\n",
              "    </tr>\n",
              "    <tr>\n",
              "      <th>35</th>\n",
              "      <td>0.4607</td>\n",
              "      <td>0.884916</td>\n",
              "    </tr>\n",
              "  </tbody>\n",
              "</table>\n",
              "</div>\n",
              "      <button class=\"colab-df-convert\" onclick=\"convertToInteractive('df-485a131f-2426-41a9-a883-6f310b27014a')\"\n",
              "              title=\"Convert this dataframe to an interactive table.\"\n",
              "              style=\"display:none;\">\n",
              "        \n",
              "  <svg xmlns=\"http://www.w3.org/2000/svg\" height=\"24px\"viewBox=\"0 0 24 24\"\n",
              "       width=\"24px\">\n",
              "    <path d=\"M0 0h24v24H0V0z\" fill=\"none\"/>\n",
              "    <path d=\"M18.56 5.44l.94 2.06.94-2.06 2.06-.94-2.06-.94-.94-2.06-.94 2.06-2.06.94zm-11 1L8.5 8.5l.94-2.06 2.06-.94-2.06-.94L8.5 2.5l-.94 2.06-2.06.94zm10 10l.94 2.06.94-2.06 2.06-.94-2.06-.94-.94-2.06-.94 2.06-2.06.94z\"/><path d=\"M17.41 7.96l-1.37-1.37c-.4-.4-.92-.59-1.43-.59-.52 0-1.04.2-1.43.59L10.3 9.45l-7.72 7.72c-.78.78-.78 2.05 0 2.83L4 21.41c.39.39.9.59 1.41.59.51 0 1.02-.2 1.41-.59l7.78-7.78 2.81-2.81c.8-.78.8-2.07 0-2.86zM5.41 20L4 18.59l7.72-7.72 1.47 1.35L5.41 20z\"/>\n",
              "  </svg>\n",
              "      </button>\n",
              "      \n",
              "  <style>\n",
              "    .colab-df-container {\n",
              "      display:flex;\n",
              "      flex-wrap:wrap;\n",
              "      gap: 12px;\n",
              "    }\n",
              "\n",
              "    .colab-df-convert {\n",
              "      background-color: #E8F0FE;\n",
              "      border: none;\n",
              "      border-radius: 50%;\n",
              "      cursor: pointer;\n",
              "      display: none;\n",
              "      fill: #1967D2;\n",
              "      height: 32px;\n",
              "      padding: 0 0 0 0;\n",
              "      width: 32px;\n",
              "    }\n",
              "\n",
              "    .colab-df-convert:hover {\n",
              "      background-color: #E2EBFA;\n",
              "      box-shadow: 0px 1px 2px rgba(60, 64, 67, 0.3), 0px 1px 3px 1px rgba(60, 64, 67, 0.15);\n",
              "      fill: #174EA6;\n",
              "    }\n",
              "\n",
              "    [theme=dark] .colab-df-convert {\n",
              "      background-color: #3B4455;\n",
              "      fill: #D2E3FC;\n",
              "    }\n",
              "\n",
              "    [theme=dark] .colab-df-convert:hover {\n",
              "      background-color: #434B5C;\n",
              "      box-shadow: 0px 1px 3px 1px rgba(0, 0, 0, 0.15);\n",
              "      filter: drop-shadow(0px 1px 2px rgba(0, 0, 0, 0.3));\n",
              "      fill: #FFFFFF;\n",
              "    }\n",
              "  </style>\n",
              "\n",
              "      <script>\n",
              "        const buttonEl =\n",
              "          document.querySelector('#df-485a131f-2426-41a9-a883-6f310b27014a button.colab-df-convert');\n",
              "        buttonEl.style.display =\n",
              "          google.colab.kernel.accessAllowed ? 'block' : 'none';\n",
              "\n",
              "        async function convertToInteractive(key) {\n",
              "          const element = document.querySelector('#df-485a131f-2426-41a9-a883-6f310b27014a');\n",
              "          const dataTable =\n",
              "            await google.colab.kernel.invokeFunction('convertToInteractive',\n",
              "                                                     [key], {});\n",
              "          if (!dataTable) return;\n",
              "\n",
              "          const docLinkHtml = 'Like what you see? Visit the ' +\n",
              "            '<a target=\"_blank\" href=https://colab.research.google.com/notebooks/data_table.ipynb>data table notebook</a>'\n",
              "            + ' to learn more about interactive tables.';\n",
              "          element.innerHTML = '';\n",
              "          dataTable['output_type'] = 'display_data';\n",
              "          await google.colab.output.renderOutput(dataTable, element);\n",
              "          const docLink = document.createElement('div');\n",
              "          docLink.innerHTML = docLinkHtml;\n",
              "          element.appendChild(docLink);\n",
              "        }\n",
              "      </script>\n",
              "    </div>\n",
              "  </div>\n",
              "  "
            ]
          },
          "metadata": {},
          "execution_count": 411
        }
      ]
    },
    {
      "cell_type": "code",
      "source": [
        "# plot\n",
        "plt.plot(scores2['Test Score'])\n",
        "plt.xticks(n_ests);"
      ],
      "metadata": {
        "colab": {
          "base_uri": "https://localhost:8080/",
          "height": 265
        },
        "id": "aI7EgZgyx85G",
        "outputId": "ed938897-bb9e-426e-bd30-f99c50eec5d5"
      },
      "execution_count": 412,
      "outputs": [
        {
          "output_type": "display_data",
          "data": {
            "text/plain": [
              "<Figure size 432x288 with 1 Axes>"
            ],
            "image/png": "[encoded data removed]"
          },
          "metadata": {
            "needs_background": "light"
          }
        }
      ]
    },
    {
      "cell_type": "code",
      "source": [
        "sorted_scores2 = scores2.sort_values(by='Test Score', ascending=False)\n",
        "sorted_scores2.head()\n",
        "\n",
        "# sorted by best score"
      ],
      "metadata": {
        "colab": {
          "base_uri": "https://localhost:8080/",
          "height": 206
        },
        "id": "547rN5eex9yg",
        "outputId": "39fe07ab-1883-4eda-fed9-ece14267ab78"
      },
      "execution_count": 413,
      "outputs": [
        {
          "output_type": "execute_result",
          "data": {
            "text/plain": [
              "   Test Score Train Score\n",
              "25   0.486941    0.874456\n",
              "15   0.475764    0.866106\n",
              "20   0.475758    0.874129\n",
              "30   0.461011    0.867503\n",
              "35     0.4607    0.884916"
            ],
            "text/html": [
              "\n",
              "  <div id=\"df-61efca24-878f-417a-89ad-d19a331e8245\">\n",
              "    <div class=\"colab-df-container\">\n",
              "      <div>\n",
              "<style scoped>\n",
              "    .dataframe tbody tr th:only-of-type {\n",
              "        vertical-align: middle;\n",
              "    }\n",
              "\n",
              "    .dataframe tbody tr th {\n",
              "        vertical-align: top;\n",
              "    }\n",
              "\n",
              "    .dataframe thead th {\n",
              "        text-align: right;\n",
              "    }\n",
              "</style>\n",
              "<table border=\"1\" class=\"dataframe\">\n",
              "  <thead>\n",
              "    <tr style=\"text-align: right;\">\n",
              "      <th></th>\n",
              "      <th>Test Score</th>\n",
              "      <th>Train Score</th>\n",
              "    </tr>\n",
              "  </thead>\n",
              "  <tbody>\n",
              "    <tr>\n",
              "      <th>25</th>\n",
              "      <td>0.486941</td>\n",
              "      <td>0.874456</td>\n",
              "    </tr>\n",
              "    <tr>\n",
              "      <th>15</th>\n",
              "      <td>0.475764</td>\n",
              "      <td>0.866106</td>\n",
              "    </tr>\n",
              "    <tr>\n",
              "      <th>20</th>\n",
              "      <td>0.475758</td>\n",
              "      <td>0.874129</td>\n",
              "    </tr>\n",
              "    <tr>\n",
              "      <th>30</th>\n",
              "      <td>0.461011</td>\n",
              "      <td>0.867503</td>\n",
              "    </tr>\n",
              "    <tr>\n",
              "      <th>35</th>\n",
              "      <td>0.4607</td>\n",
              "      <td>0.884916</td>\n",
              "    </tr>\n",
              "  </tbody>\n",
              "</table>\n",
              "</div>\n",
              "      <button class=\"colab-df-convert\" onclick=\"convertToInteractive('df-61efca24-878f-417a-89ad-d19a331e8245')\"\n",
              "              title=\"Convert this dataframe to an interactive table.\"\n",
              "              style=\"display:none;\">\n",
              "        \n",
              "  <svg xmlns=\"http://www.w3.org/2000/svg\" height=\"24px\"viewBox=\"0 0 24 24\"\n",
              "       width=\"24px\">\n",
              "    <path d=\"M0 0h24v24H0V0z\" fill=\"none\"/>\n",
              "    <path d=\"M18.56 5.44l.94 2.06.94-2.06 2.06-.94-2.06-.94-.94-2.06-.94 2.06-2.06.94zm-11 1L8.5 8.5l.94-2.06 2.06-.94-2.06-.94L8.5 2.5l-.94 2.06-2.06.94zm10 10l.94 2.06.94-2.06 2.06-.94-2.06-.94-.94-2.06-.94 2.06-2.06.94z\"/><path d=\"M17.41 7.96l-1.37-1.37c-.4-.4-.92-.59-1.43-.59-.52 0-1.04.2-1.43.59L10.3 9.45l-7.72 7.72c-.78.78-.78 2.05 0 2.83L4 21.41c.39.39.9.59 1.41.59.51 0 1.02-.2 1.41-.59l7.78-7.78 2.81-2.81c.8-.78.8-2.07 0-2.86zM5.41 20L4 18.59l7.72-7.72 1.47 1.35L5.41 20z\"/>\n",
              "  </svg>\n",
              "      </button>\n",
              "      \n",
              "  <style>\n",
              "    .colab-df-container {\n",
              "      display:flex;\n",
              "      flex-wrap:wrap;\n",
              "      gap: 12px;\n",
              "    }\n",
              "\n",
              "    .colab-df-convert {\n",
              "      background-color: #E8F0FE;\n",
              "      border: none;\n",
              "      border-radius: 50%;\n",
              "      cursor: pointer;\n",
              "      display: none;\n",
              "      fill: #1967D2;\n",
              "      height: 32px;\n",
              "      padding: 0 0 0 0;\n",
              "      width: 32px;\n",
              "    }\n",
              "\n",
              "    .colab-df-convert:hover {\n",
              "      background-color: #E2EBFA;\n",
              "      box-shadow: 0px 1px 2px rgba(60, 64, 67, 0.3), 0px 1px 3px 1px rgba(60, 64, 67, 0.15);\n",
              "      fill: #174EA6;\n",
              "    }\n",
              "\n",
              "    [theme=dark] .colab-df-convert {\n",
              "      background-color: #3B4455;\n",
              "      fill: #D2E3FC;\n",
              "    }\n",
              "\n",
              "    [theme=dark] .colab-df-convert:hover {\n",
              "      background-color: #434B5C;\n",
              "      box-shadow: 0px 1px 3px 1px rgba(0, 0, 0, 0.15);\n",
              "      filter: drop-shadow(0px 1px 2px rgba(0, 0, 0, 0.3));\n",
              "      fill: #FFFFFF;\n",
              "    }\n",
              "  </style>\n",
              "\n",
              "      <script>\n",
              "        const buttonEl =\n",
              "          document.querySelector('#df-61efca24-878f-417a-89ad-d19a331e8245 button.colab-df-convert');\n",
              "        buttonEl.style.display =\n",
              "          google.colab.kernel.accessAllowed ? 'block' : 'none';\n",
              "\n",
              "        async function convertToInteractive(key) {\n",
              "          const element = document.querySelector('#df-61efca24-878f-417a-89ad-d19a331e8245');\n",
              "          const dataTable =\n",
              "            await google.colab.kernel.invokeFunction('convertToInteractive',\n",
              "                                                     [key], {});\n",
              "          if (!dataTable) return;\n",
              "\n",
              "          const docLinkHtml = 'Like what you see? Visit the ' +\n",
              "            '<a target=\"_blank\" href=https://colab.research.google.com/notebooks/data_table.ipynb>data table notebook</a>'\n",
              "            + ' to learn more about interactive tables.';\n",
              "          element.innerHTML = '';\n",
              "          dataTable['output_type'] = 'display_data';\n",
              "          await google.colab.output.renderOutput(dataTable, element);\n",
              "          const docLink = document.createElement('div');\n",
              "          docLink.innerHTML = docLinkHtml;\n",
              "          element.appendChild(docLink);\n",
              "        }\n",
              "      </script>\n",
              "    </div>\n",
              "  </div>\n",
              "  "
            ]
          },
          "metadata": {},
          "execution_count": 413
        }
      ]
    },
    {
      "cell_type": "markdown",
      "source": [
        "Random Forest model was tuned by using loop to loop find the best max_depth and was also tuned by adjusting n_estimators to change the number of decision trees. Adjusting for n_estimators did not improve the model, it actually decreased to 48.7%. The Random Forest model tuned with loop to loop has the highest test score at 52.5% with a max_depth of 10."
      ],
      "metadata": {
        "id": "ErCHQmHr0cnI"
      }
    }
  ]
}