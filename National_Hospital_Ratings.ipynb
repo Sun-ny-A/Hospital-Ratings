{
  "nbformat": 4,
  "nbformat_minor": 0,
  "metadata": {
    "colab": {
      "name": "National Hospital Ratings",
      "provenance": [],
      "collapsed_sections": [],
      "mount_file_id": "1eZAGP6ekXS0e_Psbn7pZjjcfc9gmt_8x",
      "authorship_tag": "ABX9TyOVoEGm4Spe6jqGs1SO37cP",
      "include_colab_link": true
    },
    "kernelspec": {
      "name": "python3",
      "display_name": "Python 3"
    },
    "language_info": {
      "name": "python"
    }
  },
  "cells": [
    {
      "cell_type": "markdown",
      "metadata": {
        "id": "view-in-github",
        "colab_type": "text"
      },
      "source": [
        "<a href=\"https://colab.research.google.com/github/Sun-ny-A/Hospital-Ratings/blob/main/National_Hospital_Ratings.ipynb\" target=\"_parent\"><img src=\"https://colab.research.google.com/assets/colab-badge.svg\" alt=\"Open In Colab\"/></a>"
      ]
    },
    {
      "cell_type": "markdown",
      "source": [
        "Hospital Ratings in the United States\n",
        "\n",
        "Senait Abate"
      ],
      "metadata": {
        "id": "m8WfXD0w5DUN"
      }
    },
    {
      "cell_type": "markdown",
      "source": [
        "**Clean Data**"
      ],
      "metadata": {
        "id": "ER0Fb-MG5HGr"
      }
    },
    {
      "cell_type": "code",
      "source": [
        "#mount drive\n",
        "from google.colab import drive\n",
        "drive.mount('/content/drive')"
      ],
      "metadata": {
        "colab": {
          "base_uri": "https://localhost:8080/"
        },
        "id": "188IciAy3JNR",
        "outputId": "696c9ce4-86d2-4d5b-99d9-7c020f385b97"
      },
      "execution_count": 1,
      "outputs": [
        {
          "output_type": "stream",
          "name": "stdout",
          "text": [
            "Drive already mounted at /content/drive; to attempt to forcibly remount, call drive.mount(\"/content/drive\", force_remount=True).\n"
          ]
        }
      ]
    },
    {
      "cell_type": "code",
      "execution_count": 65,
      "metadata": {
        "colab": {
          "base_uri": "https://localhost:8080/"
        },
        "id": "RzVJBBh02XGr",
        "outputId": "f3584f0f-79b7-4cfc-8df2-9a61b6e72a55"
      },
      "outputs": [
        {
          "output_type": "stream",
          "name": "stdout",
          "text": [
            "Looking in indexes: https://pypi.org/simple, https://us-python.pkg.dev/colab-wheels/public/simple/\n",
            "Requirement already satisfied: plotly in /usr/local/lib/python3.7/dist-packages (5.9.0)\n",
            "Requirement already satisfied: tenacity>=6.2.0 in /usr/local/lib/python3.7/dist-packages (from plotly) (8.0.1)\n"
          ]
        }
      ],
      "source": [
        "#import\n",
        "import pandas as pd\n",
        "import numpy as np\n",
        "import matplotlib.pyplot as plt\n",
        "from matplotlib import pyplot\n",
        "import seaborn as sns\n",
        "from sklearn import set_config\n",
        "set_config(display='diagram')\n",
        "import seaborn as sns\n",
        "from sklearn.model_selection import train_test_split, cross_val_score, GridSearchCV\n",
        "from sklearn.preprocessing import StandardScaler, OneHotEncoder\n",
        "from sklearn.pipeline import make_pipeline\n",
        "from sklearn.neighbors import KNeighborsClassifier\n",
        "from sklearn.metrics import accuracy_score, plot_confusion_matrix, classification_report, mean_absolute_error, mean_squared_error, r2_score, classification_report, \\\n",
        "ConfusionMatrixDisplay\n",
        "from sklearn.compose import make_column_selector, make_column_transformer\n",
        "from sklearn.impute import SimpleImputer\n",
        "from sklearn.decomposition import PCA\n",
        "from sklearn import metrics\n",
        "from sklearn.ensemble import RandomForestRegressor, GradientBoostingClassifier\n",
        "import folium\n",
        "!pip install --upgrade plotly\n",
        "import plotly.graph_objects as go\n",
        "import tensorflow.keras as keras\n",
        "from tensorflow.keras.models import Sequential\n",
        "from tensorflow.keras.layers import Dense, Dropout"
      ]
    },
    {
      "cell_type": "markdown",
      "source": [
        "source of dataset: https://corgis-edu.github.io/corgis/csv/hospitals/"
      ],
      "metadata": {
        "id": "dpKBlt7I3Bjt"
      }
    },
    {
      "cell_type": "code",
      "source": [
        "#upload data\n",
        "df = pd.read_csv('/content/hospitals.csv')\n",
        "df.head()"
      ],
      "metadata": {
        "colab": {
          "base_uri": "https://localhost:8080/",
          "height": 438
        },
        "id": "t1F0CO8N2xqu",
        "outputId": "b9a7dd02-0fcb-4946-dc98-04cdd5d0153f"
      },
      "execution_count": 14,
      "outputs": [
        {
          "output_type": "execute_result",
          "data": {
            "text/plain": [
              "                     Facility.Name Facility.City Facility.State Facility.Type  \\\n",
              "0    Marshall Medical Center South          Boaz             AL    Government   \n",
              "1         Mizell Memorial Hospital           Opp             AL       Private   \n",
              "2         Highlands Medical Center    Scottsboro             AL    Government   \n",
              "3  Mobile Infirmary Medical Center        Mobile             AL       Private   \n",
              "4     Springhill Memorial Hospital        Mobile             AL   Proprietary   \n",
              "\n",
              "   Rating.Overall Rating.Mortality Rating.Safety Rating.Readmission  \\\n",
              "0             1.0            Below         Below              Below   \n",
              "1             1.0             Same          Same              Below   \n",
              "2             1.0             Same         Below              Below   \n",
              "3             1.0             Same         Below              Below   \n",
              "4             1.0             Same         Below              Below   \n",
              "\n",
              "  Rating.Experience Rating.Effectiveness  ... Procedure.Heart Attack.Value  \\\n",
              "0              Same                Above  ...                      Average   \n",
              "1             Below                Below  ...                      Unknown   \n",
              "2             Below                 Same  ...                      Unknown   \n",
              "3             Above                 Same  ...                      Average   \n",
              "4              Same                 Same  ...                      Average   \n",
              "\n",
              "  Procedure.Heart Failure.Cost  Procedure.Heart Failure.Quality  \\\n",
              "0                        15819                            Worse   \n",
              "1                        14541                          Average   \n",
              "2                        14855                          Average   \n",
              "3                        17664                          Average   \n",
              "4                        17150                          Average   \n",
              "\n",
              "  Procedure.Heart Failure.Value Procedure.Pneumonia.Cost  \\\n",
              "0                       Average                    15614   \n",
              "1                         Lower                    15226   \n",
              "2                         Lower                    14509   \n",
              "3                        Higher                    18321   \n",
              "4                       Average                    17128   \n",
              "\n",
              "   Procedure.Pneumonia.Quality Procedure.Pneumonia.Value  \\\n",
              "0                        Worse                     Lower   \n",
              "1                        Worse                     Lower   \n",
              "2                      Average                     Lower   \n",
              "3                      Average                    Higher   \n",
              "4                      Average                   Average   \n",
              "\n",
              "  Procedure.Hip Knee.Cost  Procedure.Hip Knee.Quality Procedure.Hip Knee.Value  \n",
              "0                   22747                     Average                  Average  \n",
              "1                   23472                     Average                  Average  \n",
              "2                   24701                     Average                   Higher  \n",
              "3                   21994                     Average                  Average  \n",
              "4                   23520                     Average                   Higher  \n",
              "\n",
              "[5 rows x 24 columns]"
            ],
            "text/html": [
              "\n",
              "  <div id=\"df-0bb335ac-43fe-4212-b16f-e5547826fc06\">\n",
              "    <div class=\"colab-df-container\">\n",
              "      <div>\n",
              "<style scoped>\n",
              "    .dataframe tbody tr th:only-of-type {\n",
              "        vertical-align: middle;\n",
              "    }\n",
              "\n",
              "    .dataframe tbody tr th {\n",
              "        vertical-align: top;\n",
              "    }\n",
              "\n",
              "    .dataframe thead th {\n",
              "        text-align: right;\n",
              "    }\n",
              "</style>\n",
              "<table border=\"1\" class=\"dataframe\">\n",
              "  <thead>\n",
              "    <tr style=\"text-align: right;\">\n",
              "      <th></th>\n",
              "      <th>Facility.Name</th>\n",
              "      <th>Facility.City</th>\n",
              "      <th>Facility.State</th>\n",
              "      <th>Facility.Type</th>\n",
              "      <th>Rating.Overall</th>\n",
              "      <th>Rating.Mortality</th>\n",
              "      <th>Rating.Safety</th>\n",
              "      <th>Rating.Readmission</th>\n",
              "      <th>Rating.Experience</th>\n",
              "      <th>Rating.Effectiveness</th>\n",
              "      <th>...</th>\n",
              "      <th>Procedure.Heart Attack.Value</th>\n",
              "      <th>Procedure.Heart Failure.Cost</th>\n",
              "      <th>Procedure.Heart Failure.Quality</th>\n",
              "      <th>Procedure.Heart Failure.Value</th>\n",
              "      <th>Procedure.Pneumonia.Cost</th>\n",
              "      <th>Procedure.Pneumonia.Quality</th>\n",
              "      <th>Procedure.Pneumonia.Value</th>\n",
              "      <th>Procedure.Hip Knee.Cost</th>\n",
              "      <th>Procedure.Hip Knee.Quality</th>\n",
              "      <th>Procedure.Hip Knee.Value</th>\n",
              "    </tr>\n",
              "  </thead>\n",
              "  <tbody>\n",
              "    <tr>\n",
              "      <th>0</th>\n",
              "      <td>Marshall Medical Center South</td>\n",
              "      <td>Boaz</td>\n",
              "      <td>AL</td>\n",
              "      <td>Government</td>\n",
              "      <td>1.0</td>\n",
              "      <td>Below</td>\n",
              "      <td>Below</td>\n",
              "      <td>Below</td>\n",
              "      <td>Same</td>\n",
              "      <td>Above</td>\n",
              "      <td>...</td>\n",
              "      <td>Average</td>\n",
              "      <td>15819</td>\n",
              "      <td>Worse</td>\n",
              "      <td>Average</td>\n",
              "      <td>15614</td>\n",
              "      <td>Worse</td>\n",
              "      <td>Lower</td>\n",
              "      <td>22747</td>\n",
              "      <td>Average</td>\n",
              "      <td>Average</td>\n",
              "    </tr>\n",
              "    <tr>\n",
              "      <th>1</th>\n",
              "      <td>Mizell Memorial Hospital</td>\n",
              "      <td>Opp</td>\n",
              "      <td>AL</td>\n",
              "      <td>Private</td>\n",
              "      <td>1.0</td>\n",
              "      <td>Same</td>\n",
              "      <td>Same</td>\n",
              "      <td>Below</td>\n",
              "      <td>Below</td>\n",
              "      <td>Below</td>\n",
              "      <td>...</td>\n",
              "      <td>Unknown</td>\n",
              "      <td>14541</td>\n",
              "      <td>Average</td>\n",
              "      <td>Lower</td>\n",
              "      <td>15226</td>\n",
              "      <td>Worse</td>\n",
              "      <td>Lower</td>\n",
              "      <td>23472</td>\n",
              "      <td>Average</td>\n",
              "      <td>Average</td>\n",
              "    </tr>\n",
              "    <tr>\n",
              "      <th>2</th>\n",
              "      <td>Highlands Medical Center</td>\n",
              "      <td>Scottsboro</td>\n",
              "      <td>AL</td>\n",
              "      <td>Government</td>\n",
              "      <td>1.0</td>\n",
              "      <td>Same</td>\n",
              "      <td>Below</td>\n",
              "      <td>Below</td>\n",
              "      <td>Below</td>\n",
              "      <td>Same</td>\n",
              "      <td>...</td>\n",
              "      <td>Unknown</td>\n",
              "      <td>14855</td>\n",
              "      <td>Average</td>\n",
              "      <td>Lower</td>\n",
              "      <td>14509</td>\n",
              "      <td>Average</td>\n",
              "      <td>Lower</td>\n",
              "      <td>24701</td>\n",
              "      <td>Average</td>\n",
              "      <td>Higher</td>\n",
              "    </tr>\n",
              "    <tr>\n",
              "      <th>3</th>\n",
              "      <td>Mobile Infirmary Medical Center</td>\n",
              "      <td>Mobile</td>\n",
              "      <td>AL</td>\n",
              "      <td>Private</td>\n",
              "      <td>1.0</td>\n",
              "      <td>Same</td>\n",
              "      <td>Below</td>\n",
              "      <td>Below</td>\n",
              "      <td>Above</td>\n",
              "      <td>Same</td>\n",
              "      <td>...</td>\n",
              "      <td>Average</td>\n",
              "      <td>17664</td>\n",
              "      <td>Average</td>\n",
              "      <td>Higher</td>\n",
              "      <td>18321</td>\n",
              "      <td>Average</td>\n",
              "      <td>Higher</td>\n",
              "      <td>21994</td>\n",
              "      <td>Average</td>\n",
              "      <td>Average</td>\n",
              "    </tr>\n",
              "    <tr>\n",
              "      <th>4</th>\n",
              "      <td>Springhill Memorial Hospital</td>\n",
              "      <td>Mobile</td>\n",
              "      <td>AL</td>\n",
              "      <td>Proprietary</td>\n",
              "      <td>1.0</td>\n",
              "      <td>Same</td>\n",
              "      <td>Below</td>\n",
              "      <td>Below</td>\n",
              "      <td>Same</td>\n",
              "      <td>Same</td>\n",
              "      <td>...</td>\n",
              "      <td>Average</td>\n",
              "      <td>17150</td>\n",
              "      <td>Average</td>\n",
              "      <td>Average</td>\n",
              "      <td>17128</td>\n",
              "      <td>Average</td>\n",
              "      <td>Average</td>\n",
              "      <td>23520</td>\n",
              "      <td>Average</td>\n",
              "      <td>Higher</td>\n",
              "    </tr>\n",
              "  </tbody>\n",
              "</table>\n",
              "<p>5 rows × 24 columns</p>\n",
              "</div>\n",
              "      <button class=\"colab-df-convert\" onclick=\"convertToInteractive('df-0bb335ac-43fe-4212-b16f-e5547826fc06')\"\n",
              "              title=\"Convert this dataframe to an interactive table.\"\n",
              "              style=\"display:none;\">\n",
              "        \n",
              "  <svg xmlns=\"http://www.w3.org/2000/svg\" height=\"24px\"viewBox=\"0 0 24 24\"\n",
              "       width=\"24px\">\n",
              "    <path d=\"M0 0h24v24H0V0z\" fill=\"none\"/>\n",
              "    <path d=\"M18.56 5.44l.94 2.06.94-2.06 2.06-.94-2.06-.94-.94-2.06-.94 2.06-2.06.94zm-11 1L8.5 8.5l.94-2.06 2.06-.94-2.06-.94L8.5 2.5l-.94 2.06-2.06.94zm10 10l.94 2.06.94-2.06 2.06-.94-2.06-.94-.94-2.06-.94 2.06-2.06.94z\"/><path d=\"M17.41 7.96l-1.37-1.37c-.4-.4-.92-.59-1.43-.59-.52 0-1.04.2-1.43.59L10.3 9.45l-7.72 7.72c-.78.78-.78 2.05 0 2.83L4 21.41c.39.39.9.59 1.41.59.51 0 1.02-.2 1.41-.59l7.78-7.78 2.81-2.81c.8-.78.8-2.07 0-2.86zM5.41 20L4 18.59l7.72-7.72 1.47 1.35L5.41 20z\"/>\n",
              "  </svg>\n",
              "      </button>\n",
              "      \n",
              "  <style>\n",
              "    .colab-df-container {\n",
              "      display:flex;\n",
              "      flex-wrap:wrap;\n",
              "      gap: 12px;\n",
              "    }\n",
              "\n",
              "    .colab-df-convert {\n",
              "      background-color: #E8F0FE;\n",
              "      border: none;\n",
              "      border-radius: 50%;\n",
              "      cursor: pointer;\n",
              "      display: none;\n",
              "      fill: #1967D2;\n",
              "      height: 32px;\n",
              "      padding: 0 0 0 0;\n",
              "      width: 32px;\n",
              "    }\n",
              "\n",
              "    .colab-df-convert:hover {\n",
              "      background-color: #E2EBFA;\n",
              "      box-shadow: 0px 1px 2px rgba(60, 64, 67, 0.3), 0px 1px 3px 1px rgba(60, 64, 67, 0.15);\n",
              "      fill: #174EA6;\n",
              "    }\n",
              "\n",
              "    [theme=dark] .colab-df-convert {\n",
              "      background-color: #3B4455;\n",
              "      fill: #D2E3FC;\n",
              "    }\n",
              "\n",
              "    [theme=dark] .colab-df-convert:hover {\n",
              "      background-color: #434B5C;\n",
              "      box-shadow: 0px 1px 3px 1px rgba(0, 0, 0, 0.15);\n",
              "      filter: drop-shadow(0px 1px 2px rgba(0, 0, 0, 0.3));\n",
              "      fill: #FFFFFF;\n",
              "    }\n",
              "  </style>\n",
              "\n",
              "      <script>\n",
              "        const buttonEl =\n",
              "          document.querySelector('#df-0bb335ac-43fe-4212-b16f-e5547826fc06 button.colab-df-convert');\n",
              "        buttonEl.style.display =\n",
              "          google.colab.kernel.accessAllowed ? 'block' : 'none';\n",
              "\n",
              "        async function convertToInteractive(key) {\n",
              "          const element = document.querySelector('#df-0bb335ac-43fe-4212-b16f-e5547826fc06');\n",
              "          const dataTable =\n",
              "            await google.colab.kernel.invokeFunction('convertToInteractive',\n",
              "                                                     [key], {});\n",
              "          if (!dataTable) return;\n",
              "\n",
              "          const docLinkHtml = 'Like what you see? Visit the ' +\n",
              "            '<a target=\"_blank\" href=https://colab.research.google.com/notebooks/data_table.ipynb>data table notebook</a>'\n",
              "            + ' to learn more about interactive tables.';\n",
              "          element.innerHTML = '';\n",
              "          dataTable['output_type'] = 'display_data';\n",
              "          await google.colab.output.renderOutput(dataTable, element);\n",
              "          const docLink = document.createElement('div');\n",
              "          docLink.innerHTML = docLinkHtml;\n",
              "          element.appendChild(docLink);\n",
              "        }\n",
              "      </script>\n",
              "    </div>\n",
              "  </div>\n",
              "  "
            ]
          },
          "metadata": {},
          "execution_count": 14
        }
      ]
    },
    {
      "cell_type": "code",
      "source": [
        "#check for duplicates\n",
        "df.duplicated().sum()\n",
        "#drop duplicates from data\n",
        "df.drop_duplicates(inplace=True)"
      ],
      "metadata": {
        "id": "xu3O98CU2-xb"
      },
      "execution_count": 15,
      "outputs": []
    },
    {
      "cell_type": "code",
      "source": [
        "#no missing values\n",
        "df.info()\n",
        "#rating, quality, and value columns are ordinal"
      ],
      "metadata": {
        "colab": {
          "base_uri": "https://localhost:8080/"
        },
        "id": "L8AOiFN_3WTF",
        "outputId": "6d925a60-48fe-4caa-dd6e-c522247600c6"
      },
      "execution_count": 16,
      "outputs": [
        {
          "output_type": "stream",
          "name": "stdout",
          "text": [
            "<class 'pandas.core.frame.DataFrame'>\n",
            "Int64Index: 3715 entries, 0 to 3714\n",
            "Data columns (total 24 columns):\n",
            " #   Column                           Non-Null Count  Dtype  \n",
            "---  ------                           --------------  -----  \n",
            " 0   Facility.Name                    3715 non-null   object \n",
            " 1   Facility.City                    3715 non-null   object \n",
            " 2   Facility.State                   3715 non-null   object \n",
            " 3   Facility.Type                    3715 non-null   object \n",
            " 4   Rating.Overall                   3715 non-null   float64\n",
            " 5   Rating.Mortality                 3715 non-null   object \n",
            " 6   Rating.Safety                    3715 non-null   object \n",
            " 7   Rating.Readmission               3715 non-null   object \n",
            " 8   Rating.Experience                3715 non-null   object \n",
            " 9   Rating.Effectiveness             3715 non-null   object \n",
            " 10  Rating.Timeliness                3715 non-null   object \n",
            " 11  Rating.Imaging                   3715 non-null   object \n",
            " 12  Procedure.Heart Attack.Cost      3715 non-null   int64  \n",
            " 13  Procedure.Heart Attack.Quality   3715 non-null   object \n",
            " 14  Procedure.Heart Attack.Value     3715 non-null   object \n",
            " 15  Procedure.Heart Failure.Cost     3715 non-null   int64  \n",
            " 16  Procedure.Heart Failure.Quality  3715 non-null   object \n",
            " 17  Procedure.Heart Failure.Value    3715 non-null   object \n",
            " 18  Procedure.Pneumonia.Cost         3715 non-null   int64  \n",
            " 19  Procedure.Pneumonia.Quality      3715 non-null   object \n",
            " 20  Procedure.Pneumonia.Value        3715 non-null   object \n",
            " 21  Procedure.Hip Knee.Cost          3715 non-null   int64  \n",
            " 22  Procedure.Hip Knee.Quality       3715 non-null   object \n",
            " 23  Procedure.Hip Knee.Value         3715 non-null   object \n",
            "dtypes: float64(1), int64(4), object(19)\n",
            "memory usage: 725.6+ KB\n"
          ]
        }
      ]
    },
    {
      "cell_type": "code",
      "source": [
        "#rename columns with spaces\n",
        "df.rename(columns={'Procedure.Heart Attack.Cost':'Procedure.Heart.Attack.Cost'}, inplace=True)\n",
        "df.rename(columns={'Procedure.Heart Attack.Quality':'Procedure.Heart.Attack.Quality'}, inplace=True)\n",
        "df.rename(columns={'Procedure.Heart Attack.Value':'Procedure.Heart.Attack.Value'}, inplace=True)\n",
        "df.rename(columns={'Procedure.Heart Failure.Cost':'Procedure.Heart.Failure.Cost'}, inplace=True)\n",
        "df.rename(columns={'Procedure.Heart Failure.Quality':'Procedure.Heart.Failure.Quality'}, inplace=True)\n",
        "df.rename(columns={'Procedure.Heart Failure.Value':'Procedure.Heart.Failure.Value'}, inplace=True)\n",
        "df.rename(columns={'Procedure.Hip Knee.Cost':'Procedure.Hip.Knee.Cost'}, inplace=True)\n",
        "df.rename(columns={'Procedure.Hip Knee.Quality':'Procedure.Hip.Knee.Quality'}, inplace=True)\n",
        "df.rename(columns={'Procedure.Hip Knee.Value':'Procedure.Hip.Knee.Value'}, inplace=True)"
      ],
      "metadata": {
        "id": "FKdTngzX3chf"
      },
      "execution_count": 17,
      "outputs": []
    },
    {
      "cell_type": "code",
      "source": [
        "df.nunique()\n",
        "#all ordinal columns for quality and vaue have the four subtypes Above, Same, Below, or None/Unknown."
      ],
      "metadata": {
        "colab": {
          "base_uri": "https://localhost:8080/"
        },
        "id": "mA_zd4tU3h4W",
        "outputId": "4a70dae8-63b5-49b0-83e9-5376d3c24b88"
      },
      "execution_count": 18,
      "outputs": [
        {
          "output_type": "execute_result",
          "data": {
            "text/plain": [
              "Facility.Name                      3570\n",
              "Facility.City                      2363\n",
              "Facility.State                       53\n",
              "Facility.Type                         5\n",
              "Rating.Overall                        5\n",
              "Rating.Mortality                      4\n",
              "Rating.Safety                         4\n",
              "Rating.Readmission                    4\n",
              "Rating.Experience                     4\n",
              "Rating.Effectiveness                  4\n",
              "Rating.Timeliness                     4\n",
              "Rating.Imaging                        4\n",
              "Procedure.Heart.Attack.Cost        1835\n",
              "Procedure.Heart.Attack.Quality        4\n",
              "Procedure.Heart.Attack.Value          4\n",
              "Procedure.Heart.Failure.Cost       2413\n",
              "Procedure.Heart.Failure.Quality       4\n",
              "Procedure.Heart.Failure.Value         4\n",
              "Procedure.Pneumonia.Cost           2728\n",
              "Procedure.Pneumonia.Quality           4\n",
              "Procedure.Pneumonia.Value             4\n",
              "Procedure.Hip.Knee.Cost            2267\n",
              "Procedure.Hip.Knee.Quality            4\n",
              "Procedure.Hip.Knee.Value              4\n",
              "dtype: int64"
            ]
          },
          "metadata": {},
          "execution_count": 18
        }
      ]
    },
    {
      "cell_type": "code",
      "source": [
        "#drop columns\n",
        "df.drop(['Facility.City', 'Facility.Name', 'Rating.Mortality', 'Rating.Safety', 'Rating.Readmission', 'Rating.Experience', 'Rating.Effectiveness', 'Rating.Timeliness', 'Rating.Imaging'], axis=1, inplace=True)\n",
        "df.head()"
      ],
      "metadata": {
        "colab": {
          "base_uri": "https://localhost:8080/",
          "height": 270
        },
        "id": "tdMUkxDF3kFQ",
        "outputId": "6c24758f-1d6f-435e-adc0-76d01fa9ec5c"
      },
      "execution_count": 19,
      "outputs": [
        {
          "output_type": "execute_result",
          "data": {
            "text/plain": [
              "  Facility.State Facility.Type  Rating.Overall  Procedure.Heart.Attack.Cost  \\\n",
              "0             AL    Government             1.0                        22579   \n",
              "1             AL       Private             1.0                            0   \n",
              "2             AL    Government             1.0                            0   \n",
              "3             AL       Private             1.0                        22788   \n",
              "4             AL   Proprietary             1.0                        22208   \n",
              "\n",
              "  Procedure.Heart.Attack.Quality Procedure.Heart.Attack.Value  \\\n",
              "0                        Average                      Average   \n",
              "1                        Unknown                      Unknown   \n",
              "2                        Unknown                      Unknown   \n",
              "3                        Average                      Average   \n",
              "4                        Average                      Average   \n",
              "\n",
              "   Procedure.Heart.Failure.Cost Procedure.Heart.Failure.Quality  \\\n",
              "0                         15819                           Worse   \n",
              "1                         14541                         Average   \n",
              "2                         14855                         Average   \n",
              "3                         17664                         Average   \n",
              "4                         17150                         Average   \n",
              "\n",
              "  Procedure.Heart.Failure.Value  Procedure.Pneumonia.Cost  \\\n",
              "0                       Average                     15614   \n",
              "1                         Lower                     15226   \n",
              "2                         Lower                     14509   \n",
              "3                        Higher                     18321   \n",
              "4                       Average                     17128   \n",
              "\n",
              "  Procedure.Pneumonia.Quality Procedure.Pneumonia.Value  \\\n",
              "0                       Worse                     Lower   \n",
              "1                       Worse                     Lower   \n",
              "2                     Average                     Lower   \n",
              "3                     Average                    Higher   \n",
              "4                     Average                   Average   \n",
              "\n",
              "   Procedure.Hip.Knee.Cost Procedure.Hip.Knee.Quality Procedure.Hip.Knee.Value  \n",
              "0                    22747                    Average                  Average  \n",
              "1                    23472                    Average                  Average  \n",
              "2                    24701                    Average                   Higher  \n",
              "3                    21994                    Average                  Average  \n",
              "4                    23520                    Average                   Higher  "
            ],
            "text/html": [
              "\n",
              "  <div id=\"df-accab599-02db-4b92-a477-99455f5f7e64\">\n",
              "    <div class=\"colab-df-container\">\n",
              "      <div>\n",
              "<style scoped>\n",
              "    .dataframe tbody tr th:only-of-type {\n",
              "        vertical-align: middle;\n",
              "    }\n",
              "\n",
              "    .dataframe tbody tr th {\n",
              "        vertical-align: top;\n",
              "    }\n",
              "\n",
              "    .dataframe thead th {\n",
              "        text-align: right;\n",
              "    }\n",
              "</style>\n",
              "<table border=\"1\" class=\"dataframe\">\n",
              "  <thead>\n",
              "    <tr style=\"text-align: right;\">\n",
              "      <th></th>\n",
              "      <th>Facility.State</th>\n",
              "      <th>Facility.Type</th>\n",
              "      <th>Rating.Overall</th>\n",
              "      <th>Procedure.Heart.Attack.Cost</th>\n",
              "      <th>Procedure.Heart.Attack.Quality</th>\n",
              "      <th>Procedure.Heart.Attack.Value</th>\n",
              "      <th>Procedure.Heart.Failure.Cost</th>\n",
              "      <th>Procedure.Heart.Failure.Quality</th>\n",
              "      <th>Procedure.Heart.Failure.Value</th>\n",
              "      <th>Procedure.Pneumonia.Cost</th>\n",
              "      <th>Procedure.Pneumonia.Quality</th>\n",
              "      <th>Procedure.Pneumonia.Value</th>\n",
              "      <th>Procedure.Hip.Knee.Cost</th>\n",
              "      <th>Procedure.Hip.Knee.Quality</th>\n",
              "      <th>Procedure.Hip.Knee.Value</th>\n",
              "    </tr>\n",
              "  </thead>\n",
              "  <tbody>\n",
              "    <tr>\n",
              "      <th>0</th>\n",
              "      <td>AL</td>\n",
              "      <td>Government</td>\n",
              "      <td>1.0</td>\n",
              "      <td>22579</td>\n",
              "      <td>Average</td>\n",
              "      <td>Average</td>\n",
              "      <td>15819</td>\n",
              "      <td>Worse</td>\n",
              "      <td>Average</td>\n",
              "      <td>15614</td>\n",
              "      <td>Worse</td>\n",
              "      <td>Lower</td>\n",
              "      <td>22747</td>\n",
              "      <td>Average</td>\n",
              "      <td>Average</td>\n",
              "    </tr>\n",
              "    <tr>\n",
              "      <th>1</th>\n",
              "      <td>AL</td>\n",
              "      <td>Private</td>\n",
              "      <td>1.0</td>\n",
              "      <td>0</td>\n",
              "      <td>Unknown</td>\n",
              "      <td>Unknown</td>\n",
              "      <td>14541</td>\n",
              "      <td>Average</td>\n",
              "      <td>Lower</td>\n",
              "      <td>15226</td>\n",
              "      <td>Worse</td>\n",
              "      <td>Lower</td>\n",
              "      <td>23472</td>\n",
              "      <td>Average</td>\n",
              "      <td>Average</td>\n",
              "    </tr>\n",
              "    <tr>\n",
              "      <th>2</th>\n",
              "      <td>AL</td>\n",
              "      <td>Government</td>\n",
              "      <td>1.0</td>\n",
              "      <td>0</td>\n",
              "      <td>Unknown</td>\n",
              "      <td>Unknown</td>\n",
              "      <td>14855</td>\n",
              "      <td>Average</td>\n",
              "      <td>Lower</td>\n",
              "      <td>14509</td>\n",
              "      <td>Average</td>\n",
              "      <td>Lower</td>\n",
              "      <td>24701</td>\n",
              "      <td>Average</td>\n",
              "      <td>Higher</td>\n",
              "    </tr>\n",
              "    <tr>\n",
              "      <th>3</th>\n",
              "      <td>AL</td>\n",
              "      <td>Private</td>\n",
              "      <td>1.0</td>\n",
              "      <td>22788</td>\n",
              "      <td>Average</td>\n",
              "      <td>Average</td>\n",
              "      <td>17664</td>\n",
              "      <td>Average</td>\n",
              "      <td>Higher</td>\n",
              "      <td>18321</td>\n",
              "      <td>Average</td>\n",
              "      <td>Higher</td>\n",
              "      <td>21994</td>\n",
              "      <td>Average</td>\n",
              "      <td>Average</td>\n",
              "    </tr>\n",
              "    <tr>\n",
              "      <th>4</th>\n",
              "      <td>AL</td>\n",
              "      <td>Proprietary</td>\n",
              "      <td>1.0</td>\n",
              "      <td>22208</td>\n",
              "      <td>Average</td>\n",
              "      <td>Average</td>\n",
              "      <td>17150</td>\n",
              "      <td>Average</td>\n",
              "      <td>Average</td>\n",
              "      <td>17128</td>\n",
              "      <td>Average</td>\n",
              "      <td>Average</td>\n",
              "      <td>23520</td>\n",
              "      <td>Average</td>\n",
              "      <td>Higher</td>\n",
              "    </tr>\n",
              "  </tbody>\n",
              "</table>\n",
              "</div>\n",
              "      <button class=\"colab-df-convert\" onclick=\"convertToInteractive('df-accab599-02db-4b92-a477-99455f5f7e64')\"\n",
              "              title=\"Convert this dataframe to an interactive table.\"\n",
              "              style=\"display:none;\">\n",
              "        \n",
              "  <svg xmlns=\"http://www.w3.org/2000/svg\" height=\"24px\"viewBox=\"0 0 24 24\"\n",
              "       width=\"24px\">\n",
              "    <path d=\"M0 0h24v24H0V0z\" fill=\"none\"/>\n",
              "    <path d=\"M18.56 5.44l.94 2.06.94-2.06 2.06-.94-2.06-.94-.94-2.06-.94 2.06-2.06.94zm-11 1L8.5 8.5l.94-2.06 2.06-.94-2.06-.94L8.5 2.5l-.94 2.06-2.06.94zm10 10l.94 2.06.94-2.06 2.06-.94-2.06-.94-.94-2.06-.94 2.06-2.06.94z\"/><path d=\"M17.41 7.96l-1.37-1.37c-.4-.4-.92-.59-1.43-.59-.52 0-1.04.2-1.43.59L10.3 9.45l-7.72 7.72c-.78.78-.78 2.05 0 2.83L4 21.41c.39.39.9.59 1.41.59.51 0 1.02-.2 1.41-.59l7.78-7.78 2.81-2.81c.8-.78.8-2.07 0-2.86zM5.41 20L4 18.59l7.72-7.72 1.47 1.35L5.41 20z\"/>\n",
              "  </svg>\n",
              "      </button>\n",
              "      \n",
              "  <style>\n",
              "    .colab-df-container {\n",
              "      display:flex;\n",
              "      flex-wrap:wrap;\n",
              "      gap: 12px;\n",
              "    }\n",
              "\n",
              "    .colab-df-convert {\n",
              "      background-color: #E8F0FE;\n",
              "      border: none;\n",
              "      border-radius: 50%;\n",
              "      cursor: pointer;\n",
              "      display: none;\n",
              "      fill: #1967D2;\n",
              "      height: 32px;\n",
              "      padding: 0 0 0 0;\n",
              "      width: 32px;\n",
              "    }\n",
              "\n",
              "    .colab-df-convert:hover {\n",
              "      background-color: #E2EBFA;\n",
              "      box-shadow: 0px 1px 2px rgba(60, 64, 67, 0.3), 0px 1px 3px 1px rgba(60, 64, 67, 0.15);\n",
              "      fill: #174EA6;\n",
              "    }\n",
              "\n",
              "    [theme=dark] .colab-df-convert {\n",
              "      background-color: #3B4455;\n",
              "      fill: #D2E3FC;\n",
              "    }\n",
              "\n",
              "    [theme=dark] .colab-df-convert:hover {\n",
              "      background-color: #434B5C;\n",
              "      box-shadow: 0px 1px 3px 1px rgba(0, 0, 0, 0.15);\n",
              "      filter: drop-shadow(0px 1px 2px rgba(0, 0, 0, 0.3));\n",
              "      fill: #FFFFFF;\n",
              "    }\n",
              "  </style>\n",
              "\n",
              "      <script>\n",
              "        const buttonEl =\n",
              "          document.querySelector('#df-accab599-02db-4b92-a477-99455f5f7e64 button.colab-df-convert');\n",
              "        buttonEl.style.display =\n",
              "          google.colab.kernel.accessAllowed ? 'block' : 'none';\n",
              "\n",
              "        async function convertToInteractive(key) {\n",
              "          const element = document.querySelector('#df-accab599-02db-4b92-a477-99455f5f7e64');\n",
              "          const dataTable =\n",
              "            await google.colab.kernel.invokeFunction('convertToInteractive',\n",
              "                                                     [key], {});\n",
              "          if (!dataTable) return;\n",
              "\n",
              "          const docLinkHtml = 'Like what you see? Visit the ' +\n",
              "            '<a target=\"_blank\" href=https://colab.research.google.com/notebooks/data_table.ipynb>data table notebook</a>'\n",
              "            + ' to learn more about interactive tables.';\n",
              "          element.innerHTML = '';\n",
              "          dataTable['output_type'] = 'display_data';\n",
              "          await google.colab.output.renderOutput(dataTable, element);\n",
              "          const docLink = document.createElement('div');\n",
              "          docLink.innerHTML = docLinkHtml;\n",
              "          element.appendChild(docLink);\n",
              "        }\n",
              "      </script>\n",
              "    </div>\n",
              "  </div>\n",
              "  "
            ]
          },
          "metadata": {},
          "execution_count": 19
        }
      ]
    },
    {
      "cell_type": "code",
      "source": [
        "df['Facility.State'].value_counts()\n",
        "#double check VI"
      ],
      "metadata": {
        "colab": {
          "base_uri": "https://localhost:8080/"
        },
        "id": "znwxZxqD3qr9",
        "outputId": "c763add8-ff28-4aa8-ca1f-1cded82498c6"
      },
      "execution_count": 20,
      "outputs": [
        {
          "output_type": "execute_result",
          "data": {
            "text/plain": [
              "CA    296\n",
              "TX    266\n",
              "FL    169\n",
              "IL    163\n",
              "NY    150\n",
              "PA    150\n",
              "OH    146\n",
              "MI    116\n",
              "IN    110\n",
              "GA    108\n",
              "WI    108\n",
              "NC     94\n",
              "TN     91\n",
              "MO     89\n",
              "OK     85\n",
              "IA     84\n",
              "KY     82\n",
              "LA     81\n",
              "AL     79\n",
              "VA     77\n",
              "MN     76\n",
              "KS     70\n",
              "WA     68\n",
              "MS     65\n",
              "NJ     64\n",
              "AR     62\n",
              "CO     57\n",
              "NE     57\n",
              "MA     56\n",
              "SC     55\n",
              "AZ     55\n",
              "OR     52\n",
              "MD     45\n",
              "WV     39\n",
              "UT     34\n",
              "ME     32\n",
              "NM     30\n",
              "CT     28\n",
              "NV     27\n",
              "NH     26\n",
              "ID     25\n",
              "MT     25\n",
              "ND     20\n",
              "SD     19\n",
              "WY     18\n",
              "HI     13\n",
              "VT     12\n",
              "AK     10\n",
              "RI     10\n",
              "DC      7\n",
              "DE      6\n",
              "PR      6\n",
              "VI      2\n",
              "Name: Facility.State, dtype: int64"
            ]
          },
          "metadata": {},
          "execution_count": 20
        }
      ]
    },
    {
      "cell_type": "code",
      "source": [
        "#locate VI\n",
        "df.loc[df['Facility.State'] == 'VI']\n",
        "#looks like US territories are included in the state list, VI is Virgin Islands"
      ],
      "metadata": {
        "colab": {
          "base_uri": "https://localhost:8080/",
          "height": 176
        },
        "id": "MPw6NXix3uFT",
        "outputId": "d8a35f7c-8f63-4bf3-b9a0-25ecfdd38267"
      },
      "execution_count": 21,
      "outputs": [
        {
          "output_type": "execute_result",
          "data": {
            "text/plain": [
              "     Facility.State Facility.Type  Rating.Overall  \\\n",
              "1024             VI    Government             2.0   \n",
              "2226             VI    Government             3.0   \n",
              "\n",
              "      Procedure.Heart.Attack.Cost Procedure.Heart.Attack.Quality  \\\n",
              "1024                        20088                        Average   \n",
              "2226                        19583                        Average   \n",
              "\n",
              "     Procedure.Heart.Attack.Value  Procedure.Heart.Failure.Cost  \\\n",
              "1024                        Lower                         13420   \n",
              "2226                        Lower                         11716   \n",
              "\n",
              "     Procedure.Heart.Failure.Quality Procedure.Heart.Failure.Value  \\\n",
              "1024                         Average                         Lower   \n",
              "2226                         Average                         Lower   \n",
              "\n",
              "      Procedure.Pneumonia.Cost Procedure.Pneumonia.Quality  \\\n",
              "1024                     13038                     Average   \n",
              "2226                     13192                     Average   \n",
              "\n",
              "     Procedure.Pneumonia.Value  Procedure.Hip.Knee.Cost  \\\n",
              "1024                     Lower                    17725   \n",
              "2226                     Lower                    19770   \n",
              "\n",
              "     Procedure.Hip.Knee.Quality Procedure.Hip.Knee.Value  \n",
              "1024                    Average                    Lower  \n",
              "2226                    Average                    Lower  "
            ],
            "text/html": [
              "\n",
              "  <div id=\"df-2f7c1a24-f9d2-4170-9478-12bb0ae597ee\">\n",
              "    <div class=\"colab-df-container\">\n",
              "      <div>\n",
              "<style scoped>\n",
              "    .dataframe tbody tr th:only-of-type {\n",
              "        vertical-align: middle;\n",
              "    }\n",
              "\n",
              "    .dataframe tbody tr th {\n",
              "        vertical-align: top;\n",
              "    }\n",
              "\n",
              "    .dataframe thead th {\n",
              "        text-align: right;\n",
              "    }\n",
              "</style>\n",
              "<table border=\"1\" class=\"dataframe\">\n",
              "  <thead>\n",
              "    <tr style=\"text-align: right;\">\n",
              "      <th></th>\n",
              "      <th>Facility.State</th>\n",
              "      <th>Facility.Type</th>\n",
              "      <th>Rating.Overall</th>\n",
              "      <th>Procedure.Heart.Attack.Cost</th>\n",
              "      <th>Procedure.Heart.Attack.Quality</th>\n",
              "      <th>Procedure.Heart.Attack.Value</th>\n",
              "      <th>Procedure.Heart.Failure.Cost</th>\n",
              "      <th>Procedure.Heart.Failure.Quality</th>\n",
              "      <th>Procedure.Heart.Failure.Value</th>\n",
              "      <th>Procedure.Pneumonia.Cost</th>\n",
              "      <th>Procedure.Pneumonia.Quality</th>\n",
              "      <th>Procedure.Pneumonia.Value</th>\n",
              "      <th>Procedure.Hip.Knee.Cost</th>\n",
              "      <th>Procedure.Hip.Knee.Quality</th>\n",
              "      <th>Procedure.Hip.Knee.Value</th>\n",
              "    </tr>\n",
              "  </thead>\n",
              "  <tbody>\n",
              "    <tr>\n",
              "      <th>1024</th>\n",
              "      <td>VI</td>\n",
              "      <td>Government</td>\n",
              "      <td>2.0</td>\n",
              "      <td>20088</td>\n",
              "      <td>Average</td>\n",
              "      <td>Lower</td>\n",
              "      <td>13420</td>\n",
              "      <td>Average</td>\n",
              "      <td>Lower</td>\n",
              "      <td>13038</td>\n",
              "      <td>Average</td>\n",
              "      <td>Lower</td>\n",
              "      <td>17725</td>\n",
              "      <td>Average</td>\n",
              "      <td>Lower</td>\n",
              "    </tr>\n",
              "    <tr>\n",
              "      <th>2226</th>\n",
              "      <td>VI</td>\n",
              "      <td>Government</td>\n",
              "      <td>3.0</td>\n",
              "      <td>19583</td>\n",
              "      <td>Average</td>\n",
              "      <td>Lower</td>\n",
              "      <td>11716</td>\n",
              "      <td>Average</td>\n",
              "      <td>Lower</td>\n",
              "      <td>13192</td>\n",
              "      <td>Average</td>\n",
              "      <td>Lower</td>\n",
              "      <td>19770</td>\n",
              "      <td>Average</td>\n",
              "      <td>Lower</td>\n",
              "    </tr>\n",
              "  </tbody>\n",
              "</table>\n",
              "</div>\n",
              "      <button class=\"colab-df-convert\" onclick=\"convertToInteractive('df-2f7c1a24-f9d2-4170-9478-12bb0ae597ee')\"\n",
              "              title=\"Convert this dataframe to an interactive table.\"\n",
              "              style=\"display:none;\">\n",
              "        \n",
              "  <svg xmlns=\"http://www.w3.org/2000/svg\" height=\"24px\"viewBox=\"0 0 24 24\"\n",
              "       width=\"24px\">\n",
              "    <path d=\"M0 0h24v24H0V0z\" fill=\"none\"/>\n",
              "    <path d=\"M18.56 5.44l.94 2.06.94-2.06 2.06-.94-2.06-.94-.94-2.06-.94 2.06-2.06.94zm-11 1L8.5 8.5l.94-2.06 2.06-.94-2.06-.94L8.5 2.5l-.94 2.06-2.06.94zm10 10l.94 2.06.94-2.06 2.06-.94-2.06-.94-.94-2.06-.94 2.06-2.06.94z\"/><path d=\"M17.41 7.96l-1.37-1.37c-.4-.4-.92-.59-1.43-.59-.52 0-1.04.2-1.43.59L10.3 9.45l-7.72 7.72c-.78.78-.78 2.05 0 2.83L4 21.41c.39.39.9.59 1.41.59.51 0 1.02-.2 1.41-.59l7.78-7.78 2.81-2.81c.8-.78.8-2.07 0-2.86zM5.41 20L4 18.59l7.72-7.72 1.47 1.35L5.41 20z\"/>\n",
              "  </svg>\n",
              "      </button>\n",
              "      \n",
              "  <style>\n",
              "    .colab-df-container {\n",
              "      display:flex;\n",
              "      flex-wrap:wrap;\n",
              "      gap: 12px;\n",
              "    }\n",
              "\n",
              "    .colab-df-convert {\n",
              "      background-color: #E8F0FE;\n",
              "      border: none;\n",
              "      border-radius: 50%;\n",
              "      cursor: pointer;\n",
              "      display: none;\n",
              "      fill: #1967D2;\n",
              "      height: 32px;\n",
              "      padding: 0 0 0 0;\n",
              "      width: 32px;\n",
              "    }\n",
              "\n",
              "    .colab-df-convert:hover {\n",
              "      background-color: #E2EBFA;\n",
              "      box-shadow: 0px 1px 2px rgba(60, 64, 67, 0.3), 0px 1px 3px 1px rgba(60, 64, 67, 0.15);\n",
              "      fill: #174EA6;\n",
              "    }\n",
              "\n",
              "    [theme=dark] .colab-df-convert {\n",
              "      background-color: #3B4455;\n",
              "      fill: #D2E3FC;\n",
              "    }\n",
              "\n",
              "    [theme=dark] .colab-df-convert:hover {\n",
              "      background-color: #434B5C;\n",
              "      box-shadow: 0px 1px 3px 1px rgba(0, 0, 0, 0.15);\n",
              "      filter: drop-shadow(0px 1px 2px rgba(0, 0, 0, 0.3));\n",
              "      fill: #FFFFFF;\n",
              "    }\n",
              "  </style>\n",
              "\n",
              "      <script>\n",
              "        const buttonEl =\n",
              "          document.querySelector('#df-2f7c1a24-f9d2-4170-9478-12bb0ae597ee button.colab-df-convert');\n",
              "        buttonEl.style.display =\n",
              "          google.colab.kernel.accessAllowed ? 'block' : 'none';\n",
              "\n",
              "        async function convertToInteractive(key) {\n",
              "          const element = document.querySelector('#df-2f7c1a24-f9d2-4170-9478-12bb0ae597ee');\n",
              "          const dataTable =\n",
              "            await google.colab.kernel.invokeFunction('convertToInteractive',\n",
              "                                                     [key], {});\n",
              "          if (!dataTable) return;\n",
              "\n",
              "          const docLinkHtml = 'Like what you see? Visit the ' +\n",
              "            '<a target=\"_blank\" href=https://colab.research.google.com/notebooks/data_table.ipynb>data table notebook</a>'\n",
              "            + ' to learn more about interactive tables.';\n",
              "          element.innerHTML = '';\n",
              "          dataTable['output_type'] = 'display_data';\n",
              "          await google.colab.output.renderOutput(dataTable, element);\n",
              "          const docLink = document.createElement('div');\n",
              "          docLink.innerHTML = docLinkHtml;\n",
              "          element.appendChild(docLink);\n",
              "        }\n",
              "      </script>\n",
              "    </div>\n",
              "  </div>\n",
              "  "
            ]
          },
          "metadata": {},
          "execution_count": 21
        }
      ]
    },
    {
      "cell_type": "code",
      "source": [
        "#Better, Average, Worse, or Unknown\n",
        "df['Procedure.Heart.Attack.Value'].replace({'Unknown': 0, 'None': 0, 'Worse': 1, 'Lower': 1, 'Average': 2, 'Higher': 3, 'Better': 3}, inplace=True)\n",
        "df['Procedure.Heart.Attack.Quality'].replace({'Unknown': 0, 'None': 0, 'Worse': 1, 'Average': 2, 'Higher': 3, 'Better': 3}, inplace=True)\n",
        "df['Procedure.Heart.Failure.Quality'].replace({'Unknown': 0, 'None': 0, 'Worse': 1, 'Average': 2, 'Higher': 3, 'Better': 3}, inplace=True)\n",
        "df['Procedure.Heart.Failure.Value'].replace({'Unknown': 0, 'None': 0, 'Worse': 1, 'Average': 2, 'Lower': 1, 'Higher': 3, 'Better': 3}, inplace=True)\n",
        "df['Procedure.Pneumonia.Quality'].replace({'Unknown': 0, 'None': 0, 'Worse': 1, 'Average': 2, 'Higher': 3, 'Better': 3}, inplace=True)\n",
        "df['Procedure.Pneumonia.Value'].replace({'Unknown': 0, 'None': 0, 'Worse': 1, 'Lower': 1, 'Average': 2, 'Higher': 3, 'Better': 3}, inplace=True)\n",
        "df['Procedure.Hip.Knee.Quality'].replace({'Unknown': 0, 'None': 0, 'Worse': 1, 'Average': 2, 'Higher': 3, 'Better': 3}, inplace=True)\n",
        "df['Procedure.Hip.Knee.Value'].replace({'Unknown': 0, 'None': 0, 'Worse': 1, 'Lower': 1, 'Average': 2, 'Higher': 3, 'Better': 3}, inplace=True)"
      ],
      "metadata": {
        "id": "oXv1qjJc5mJG"
      },
      "execution_count": 22,
      "outputs": []
    },
    {
      "cell_type": "code",
      "source": [
        "#Kind of organization operating the hospital: one of Government, Private, Proprietary, Church, or Unknown\n",
        "df['Facility.Type'].value_counts()"
      ],
      "metadata": {
        "colab": {
          "base_uri": "https://localhost:8080/"
        },
        "id": "TwwUXlWf34tW",
        "outputId": "b5c424c2-bb2a-4da5-c9e6-03688858f42e"
      },
      "execution_count": 23,
      "outputs": [
        {
          "output_type": "execute_result",
          "data": {
            "text/plain": [
              "Private        1713\n",
              "Government      672\n",
              "Proprietary     627\n",
              "Unknown         404\n",
              "Church          299\n",
              "Name: Facility.Type, dtype: int64"
            ]
          },
          "metadata": {},
          "execution_count": 23
        }
      ]
    },
    {
      "cell_type": "code",
      "source": [
        "#Overall rating between 1 and 5 stars, with 5 stars being the highest rating; -1 represents no rating.\n",
        "df['Rating.Overall'].value_counts()"
      ],
      "metadata": {
        "colab": {
          "base_uri": "https://localhost:8080/"
        },
        "id": "3FAVBSPz4DLq",
        "outputId": "3ae0356c-e42c-4b2e-d435-5edbfa3b8439"
      },
      "execution_count": 24,
      "outputs": [
        {
          "output_type": "execute_result",
          "data": {
            "text/plain": [
              "3.0    1258\n",
              "4.0    1087\n",
              "2.0     797\n",
              "5.0     292\n",
              "1.0     281\n",
              "Name: Rating.Overall, dtype: int64"
            ]
          },
          "metadata": {},
          "execution_count": 24
        }
      ]
    },
    {
      "cell_type": "code",
      "source": [
        "#reviewing to confirm change\n",
        "df['Procedure.Heart.Attack.Quality'].value_counts()"
      ],
      "metadata": {
        "colab": {
          "base_uri": "https://localhost:8080/"
        },
        "id": "1Ab4nKgv4LWB",
        "outputId": "12da3528-2ff5-4156-dbbf-465b9224beb2"
      },
      "execution_count": 25,
      "outputs": [
        {
          "output_type": "execute_result",
          "data": {
            "text/plain": [
              "2    2185\n",
              "0    1461\n",
              "3      45\n",
              "1      24\n",
              "Name: Procedure.Heart.Attack.Quality, dtype: int64"
            ]
          },
          "metadata": {},
          "execution_count": 25
        }
      ]
    },
    {
      "cell_type": "code",
      "source": [
        "df['Procedure.Heart.Attack.Value'].value_counts()"
      ],
      "metadata": {
        "colab": {
          "base_uri": "https://localhost:8080/"
        },
        "id": "sERkY0fj4RIu",
        "outputId": "d8260bd0-497f-463d-b8b3-cfe7cb1f5362"
      },
      "execution_count": 26,
      "outputs": [
        {
          "output_type": "execute_result",
          "data": {
            "text/plain": [
              "2    1868\n",
              "0    1461\n",
              "3     199\n",
              "1     187\n",
              "Name: Procedure.Heart.Attack.Value, dtype: int64"
            ]
          },
          "metadata": {},
          "execution_count": 26
        }
      ]
    },
    {
      "cell_type": "code",
      "source": [
        "df['Procedure.Heart.Failure.Quality'].value_counts()"
      ],
      "metadata": {
        "colab": {
          "base_uri": "https://localhost:8080/"
        },
        "id": "3DaBqMJW4WF_",
        "outputId": "3f084b2a-8b49-415e-abfd-7deb05a64bfb"
      },
      "execution_count": 27,
      "outputs": [
        {
          "output_type": "execute_result",
          "data": {
            "text/plain": [
              "2    3031\n",
              "0     354\n",
              "3     196\n",
              "1     134\n",
              "Name: Procedure.Heart.Failure.Quality, dtype: int64"
            ]
          },
          "metadata": {},
          "execution_count": 27
        }
      ]
    },
    {
      "cell_type": "code",
      "source": [
        "df['Procedure.Heart.Failure.Value'].value_counts()"
      ],
      "metadata": {
        "colab": {
          "base_uri": "https://localhost:8080/"
        },
        "id": "aX3BI2ow4XPw",
        "outputId": "183b1b06-6f6c-4a41-e02e-0e71f372c406"
      },
      "execution_count": 28,
      "outputs": [
        {
          "output_type": "execute_result",
          "data": {
            "text/plain": [
              "2    2423\n",
              "3     530\n",
              "1     408\n",
              "0     354\n",
              "Name: Procedure.Heart.Failure.Value, dtype: int64"
            ]
          },
          "metadata": {},
          "execution_count": 28
        }
      ]
    },
    {
      "cell_type": "code",
      "source": [
        "df['Procedure.Pneumonia.Quality'].value_counts()"
      ],
      "metadata": {
        "colab": {
          "base_uri": "https://localhost:8080/"
        },
        "id": "4QGKZdFt4cJ0",
        "outputId": "cbcdc12b-2b6c-4aa7-d266-b02f6e2eb3c4"
      },
      "execution_count": 29,
      "outputs": [
        {
          "output_type": "execute_result",
          "data": {
            "text/plain": [
              "2    3154\n",
              "1     232\n",
              "3     218\n",
              "0     111\n",
              "Name: Procedure.Pneumonia.Quality, dtype: int64"
            ]
          },
          "metadata": {},
          "execution_count": 29
        }
      ]
    },
    {
      "cell_type": "code",
      "source": [
        "df['Procedure.Pneumonia.Value'].value_counts()"
      ],
      "metadata": {
        "colab": {
          "base_uri": "https://localhost:8080/"
        },
        "id": "SbttNkuJ4fur",
        "outputId": "9ea2923f-f7d0-43d2-e2ec-661b41fc6cfc"
      },
      "execution_count": 30,
      "outputs": [
        {
          "output_type": "execute_result",
          "data": {
            "text/plain": [
              "2    2078\n",
              "1     785\n",
              "3     741\n",
              "0     111\n",
              "Name: Procedure.Pneumonia.Value, dtype: int64"
            ]
          },
          "metadata": {},
          "execution_count": 30
        }
      ]
    },
    {
      "cell_type": "code",
      "source": [
        "df['Procedure.Hip.Knee.Quality'].value_counts()"
      ],
      "metadata": {
        "colab": {
          "base_uri": "https://localhost:8080/"
        },
        "id": "0YzNEeZq4gEC",
        "outputId": "b892283b-f356-4436-cd26-ff8828690386"
      },
      "execution_count": 31,
      "outputs": [
        {
          "output_type": "execute_result",
          "data": {
            "text/plain": [
              "2    2527\n",
              "0    1082\n",
              "3      62\n",
              "1      44\n",
              "Name: Procedure.Hip.Knee.Quality, dtype: int64"
            ]
          },
          "metadata": {},
          "execution_count": 31
        }
      ]
    },
    {
      "cell_type": "code",
      "source": [
        "df['Procedure.Hip.Knee.Value'].value_counts()"
      ],
      "metadata": {
        "colab": {
          "base_uri": "https://localhost:8080/"
        },
        "id": "j1_BgtGH4gY7",
        "outputId": "1df33659-373f-4b56-828c-326aef3084c2"
      },
      "execution_count": 32,
      "outputs": [
        {
          "output_type": "execute_result",
          "data": {
            "text/plain": [
              "0    1082\n",
              "2    1007\n",
              "1     977\n",
              "3     649\n",
              "Name: Procedure.Hip.Knee.Value, dtype: int64"
            ]
          },
          "metadata": {},
          "execution_count": 32
        }
      ]
    },
    {
      "cell_type": "code",
      "source": [
        "#add average heart attack procedure per state to data- adding for visuals\n",
        "#source= https://stackoverflow.com/questions/69227651/add-a-column-with-mean-values-for-groups-based-on-another-column \n",
        "df = df.join(df.groupby('Facility.State')[['Procedure.Heart.Attack.Cost']]\n",
        "             .transform('mean')\n",
        "             .rename(columns='Mean.HAC.State'.format))"
      ],
      "metadata": {
        "id": "qmedCuvYEXT6"
      },
      "execution_count": 33,
      "outputs": []
    },
    {
      "cell_type": "code",
      "source": [
        "#add average cost of care for heart failure per state to data\n",
        "df = df.join(df.groupby('Facility.State')[['Procedure.Heart.Failure.Cost']]\n",
        "             .transform('mean')\n",
        "             .rename(columns='Mean.HFC.State'.format))"
      ],
      "metadata": {
        "id": "dEJD1s3cLAlO"
      },
      "execution_count": 34,
      "outputs": []
    },
    {
      "cell_type": "code",
      "source": [
        "#add average cost of care for pneumonia per state to data\n",
        "df = df.join(df.groupby('Facility.State')[['Procedure.Pneumonia.Cost']]\n",
        "             .transform('mean')\n",
        "             .rename(columns='Mean.Pne.State'.format))"
      ],
      "metadata": {
        "id": "aIIvXCqPMABD"
      },
      "execution_count": 35,
      "outputs": []
    },
    {
      "cell_type": "code",
      "source": [
        "#add average cost of hip and knee procedures per state to data\n",
        "df = df.join(df.groupby('Facility.State')[['Procedure.Hip.Knee.Cost']]\n",
        "             .transform('mean')\n",
        "             .rename(columns='Mean.HK.State'.format))"
      ],
      "metadata": {
        "id": "yr-jslYYMMeP"
      },
      "execution_count": 36,
      "outputs": []
    },
    {
      "cell_type": "code",
      "source": [
        "df.head()"
      ],
      "metadata": {
        "colab": {
          "base_uri": "https://localhost:8080/",
          "height": 270
        },
        "id": "xVQAUi2bFo6T",
        "outputId": "be758763-8cfe-4932-cd49-c717553dc7ed"
      },
      "execution_count": 37,
      "outputs": [
        {
          "output_type": "execute_result",
          "data": {
            "text/plain": [
              "  Facility.State Facility.Type  Rating.Overall  Procedure.Heart.Attack.Cost  \\\n",
              "0             AL    Government             1.0                        22579   \n",
              "1             AL       Private             1.0                            0   \n",
              "2             AL    Government             1.0                            0   \n",
              "3             AL       Private             1.0                        22788   \n",
              "4             AL   Proprietary             1.0                        22208   \n",
              "\n",
              "   Procedure.Heart.Attack.Quality  Procedure.Heart.Attack.Value  \\\n",
              "0                               2                             2   \n",
              "1                               0                             0   \n",
              "2                               0                             0   \n",
              "3                               2                             2   \n",
              "4                               2                             2   \n",
              "\n",
              "   Procedure.Heart.Failure.Cost  Procedure.Heart.Failure.Quality  \\\n",
              "0                         15819                                1   \n",
              "1                         14541                                2   \n",
              "2                         14855                                2   \n",
              "3                         17664                                2   \n",
              "4                         17150                                2   \n",
              "\n",
              "   Procedure.Heart.Failure.Value  Procedure.Pneumonia.Cost  \\\n",
              "0                              2                     15614   \n",
              "1                              1                     15226   \n",
              "2                              1                     14509   \n",
              "3                              3                     18321   \n",
              "4                              2                     17128   \n",
              "\n",
              "   Procedure.Pneumonia.Quality  Procedure.Pneumonia.Value  \\\n",
              "0                            1                          1   \n",
              "1                            1                          1   \n",
              "2                            2                          1   \n",
              "3                            2                          3   \n",
              "4                            2                          2   \n",
              "\n",
              "   Procedure.Hip.Knee.Cost  Procedure.Hip.Knee.Quality  \\\n",
              "0                    22747                           2   \n",
              "1                    23472                           2   \n",
              "2                    24701                           2   \n",
              "3                    21994                           2   \n",
              "4                    23520                           2   \n",
              "\n",
              "   Procedure.Hip.Knee.Value  Mean.HAC.State  Mean.HFC.State  Mean.Pne.State  \\\n",
              "0                         2    11610.202532    15131.860759    16264.227848   \n",
              "1                         2    11610.202532    15131.860759    16264.227848   \n",
              "2                         3    11610.202532    15131.860759    16264.227848   \n",
              "3                         2    11610.202532    15131.860759    16264.227848   \n",
              "4                         3    11610.202532    15131.860759    16264.227848   \n",
              "\n",
              "   Mean.HK.State  \n",
              "0        12110.0  \n",
              "1        12110.0  \n",
              "2        12110.0  \n",
              "3        12110.0  \n",
              "4        12110.0  "
            ],
            "text/html": [
              "\n",
              "  <div id=\"df-1962e8fc-fae4-4e3d-8ed3-65ccdd34017f\">\n",
              "    <div class=\"colab-df-container\">\n",
              "      <div>\n",
              "<style scoped>\n",
              "    .dataframe tbody tr th:only-of-type {\n",
              "        vertical-align: middle;\n",
              "    }\n",
              "\n",
              "    .dataframe tbody tr th {\n",
              "        vertical-align: top;\n",
              "    }\n",
              "\n",
              "    .dataframe thead th {\n",
              "        text-align: right;\n",
              "    }\n",
              "</style>\n",
              "<table border=\"1\" class=\"dataframe\">\n",
              "  <thead>\n",
              "    <tr style=\"text-align: right;\">\n",
              "      <th></th>\n",
              "      <th>Facility.State</th>\n",
              "      <th>Facility.Type</th>\n",
              "      <th>Rating.Overall</th>\n",
              "      <th>Procedure.Heart.Attack.Cost</th>\n",
              "      <th>Procedure.Heart.Attack.Quality</th>\n",
              "      <th>Procedure.Heart.Attack.Value</th>\n",
              "      <th>Procedure.Heart.Failure.Cost</th>\n",
              "      <th>Procedure.Heart.Failure.Quality</th>\n",
              "      <th>Procedure.Heart.Failure.Value</th>\n",
              "      <th>Procedure.Pneumonia.Cost</th>\n",
              "      <th>Procedure.Pneumonia.Quality</th>\n",
              "      <th>Procedure.Pneumonia.Value</th>\n",
              "      <th>Procedure.Hip.Knee.Cost</th>\n",
              "      <th>Procedure.Hip.Knee.Quality</th>\n",
              "      <th>Procedure.Hip.Knee.Value</th>\n",
              "      <th>Mean.HAC.State</th>\n",
              "      <th>Mean.HFC.State</th>\n",
              "      <th>Mean.Pne.State</th>\n",
              "      <th>Mean.HK.State</th>\n",
              "    </tr>\n",
              "  </thead>\n",
              "  <tbody>\n",
              "    <tr>\n",
              "      <th>0</th>\n",
              "      <td>AL</td>\n",
              "      <td>Government</td>\n",
              "      <td>1.0</td>\n",
              "      <td>22579</td>\n",
              "      <td>2</td>\n",
              "      <td>2</td>\n",
              "      <td>15819</td>\n",
              "      <td>1</td>\n",
              "      <td>2</td>\n",
              "      <td>15614</td>\n",
              "      <td>1</td>\n",
              "      <td>1</td>\n",
              "      <td>22747</td>\n",
              "      <td>2</td>\n",
              "      <td>2</td>\n",
              "      <td>11610.202532</td>\n",
              "      <td>15131.860759</td>\n",
              "      <td>16264.227848</td>\n",
              "      <td>12110.0</td>\n",
              "    </tr>\n",
              "    <tr>\n",
              "      <th>1</th>\n",
              "      <td>AL</td>\n",
              "      <td>Private</td>\n",
              "      <td>1.0</td>\n",
              "      <td>0</td>\n",
              "      <td>0</td>\n",
              "      <td>0</td>\n",
              "      <td>14541</td>\n",
              "      <td>2</td>\n",
              "      <td>1</td>\n",
              "      <td>15226</td>\n",
              "      <td>1</td>\n",
              "      <td>1</td>\n",
              "      <td>23472</td>\n",
              "      <td>2</td>\n",
              "      <td>2</td>\n",
              "      <td>11610.202532</td>\n",
              "      <td>15131.860759</td>\n",
              "      <td>16264.227848</td>\n",
              "      <td>12110.0</td>\n",
              "    </tr>\n",
              "    <tr>\n",
              "      <th>2</th>\n",
              "      <td>AL</td>\n",
              "      <td>Government</td>\n",
              "      <td>1.0</td>\n",
              "      <td>0</td>\n",
              "      <td>0</td>\n",
              "      <td>0</td>\n",
              "      <td>14855</td>\n",
              "      <td>2</td>\n",
              "      <td>1</td>\n",
              "      <td>14509</td>\n",
              "      <td>2</td>\n",
              "      <td>1</td>\n",
              "      <td>24701</td>\n",
              "      <td>2</td>\n",
              "      <td>3</td>\n",
              "      <td>11610.202532</td>\n",
              "      <td>15131.860759</td>\n",
              "      <td>16264.227848</td>\n",
              "      <td>12110.0</td>\n",
              "    </tr>\n",
              "    <tr>\n",
              "      <th>3</th>\n",
              "      <td>AL</td>\n",
              "      <td>Private</td>\n",
              "      <td>1.0</td>\n",
              "      <td>22788</td>\n",
              "      <td>2</td>\n",
              "      <td>2</td>\n",
              "      <td>17664</td>\n",
              "      <td>2</td>\n",
              "      <td>3</td>\n",
              "      <td>18321</td>\n",
              "      <td>2</td>\n",
              "      <td>3</td>\n",
              "      <td>21994</td>\n",
              "      <td>2</td>\n",
              "      <td>2</td>\n",
              "      <td>11610.202532</td>\n",
              "      <td>15131.860759</td>\n",
              "      <td>16264.227848</td>\n",
              "      <td>12110.0</td>\n",
              "    </tr>\n",
              "    <tr>\n",
              "      <th>4</th>\n",
              "      <td>AL</td>\n",
              "      <td>Proprietary</td>\n",
              "      <td>1.0</td>\n",
              "      <td>22208</td>\n",
              "      <td>2</td>\n",
              "      <td>2</td>\n",
              "      <td>17150</td>\n",
              "      <td>2</td>\n",
              "      <td>2</td>\n",
              "      <td>17128</td>\n",
              "      <td>2</td>\n",
              "      <td>2</td>\n",
              "      <td>23520</td>\n",
              "      <td>2</td>\n",
              "      <td>3</td>\n",
              "      <td>11610.202532</td>\n",
              "      <td>15131.860759</td>\n",
              "      <td>16264.227848</td>\n",
              "      <td>12110.0</td>\n",
              "    </tr>\n",
              "  </tbody>\n",
              "</table>\n",
              "</div>\n",
              "      <button class=\"colab-df-convert\" onclick=\"convertToInteractive('df-1962e8fc-fae4-4e3d-8ed3-65ccdd34017f')\"\n",
              "              title=\"Convert this dataframe to an interactive table.\"\n",
              "              style=\"display:none;\">\n",
              "        \n",
              "  <svg xmlns=\"http://www.w3.org/2000/svg\" height=\"24px\"viewBox=\"0 0 24 24\"\n",
              "       width=\"24px\">\n",
              "    <path d=\"M0 0h24v24H0V0z\" fill=\"none\"/>\n",
              "    <path d=\"M18.56 5.44l.94 2.06.94-2.06 2.06-.94-2.06-.94-.94-2.06-.94 2.06-2.06.94zm-11 1L8.5 8.5l.94-2.06 2.06-.94-2.06-.94L8.5 2.5l-.94 2.06-2.06.94zm10 10l.94 2.06.94-2.06 2.06-.94-2.06-.94-.94-2.06-.94 2.06-2.06.94z\"/><path d=\"M17.41 7.96l-1.37-1.37c-.4-.4-.92-.59-1.43-.59-.52 0-1.04.2-1.43.59L10.3 9.45l-7.72 7.72c-.78.78-.78 2.05 0 2.83L4 21.41c.39.39.9.59 1.41.59.51 0 1.02-.2 1.41-.59l7.78-7.78 2.81-2.81c.8-.78.8-2.07 0-2.86zM5.41 20L4 18.59l7.72-7.72 1.47 1.35L5.41 20z\"/>\n",
              "  </svg>\n",
              "      </button>\n",
              "      \n",
              "  <style>\n",
              "    .colab-df-container {\n",
              "      display:flex;\n",
              "      flex-wrap:wrap;\n",
              "      gap: 12px;\n",
              "    }\n",
              "\n",
              "    .colab-df-convert {\n",
              "      background-color: #E8F0FE;\n",
              "      border: none;\n",
              "      border-radius: 50%;\n",
              "      cursor: pointer;\n",
              "      display: none;\n",
              "      fill: #1967D2;\n",
              "      height: 32px;\n",
              "      padding: 0 0 0 0;\n",
              "      width: 32px;\n",
              "    }\n",
              "\n",
              "    .colab-df-convert:hover {\n",
              "      background-color: #E2EBFA;\n",
              "      box-shadow: 0px 1px 2px rgba(60, 64, 67, 0.3), 0px 1px 3px 1px rgba(60, 64, 67, 0.15);\n",
              "      fill: #174EA6;\n",
              "    }\n",
              "\n",
              "    [theme=dark] .colab-df-convert {\n",
              "      background-color: #3B4455;\n",
              "      fill: #D2E3FC;\n",
              "    }\n",
              "\n",
              "    [theme=dark] .colab-df-convert:hover {\n",
              "      background-color: #434B5C;\n",
              "      box-shadow: 0px 1px 3px 1px rgba(0, 0, 0, 0.15);\n",
              "      filter: drop-shadow(0px 1px 2px rgba(0, 0, 0, 0.3));\n",
              "      fill: #FFFFFF;\n",
              "    }\n",
              "  </style>\n",
              "\n",
              "      <script>\n",
              "        const buttonEl =\n",
              "          document.querySelector('#df-1962e8fc-fae4-4e3d-8ed3-65ccdd34017f button.colab-df-convert');\n",
              "        buttonEl.style.display =\n",
              "          google.colab.kernel.accessAllowed ? 'block' : 'none';\n",
              "\n",
              "        async function convertToInteractive(key) {\n",
              "          const element = document.querySelector('#df-1962e8fc-fae4-4e3d-8ed3-65ccdd34017f');\n",
              "          const dataTable =\n",
              "            await google.colab.kernel.invokeFunction('convertToInteractive',\n",
              "                                                     [key], {});\n",
              "          if (!dataTable) return;\n",
              "\n",
              "          const docLinkHtml = 'Like what you see? Visit the ' +\n",
              "            '<a target=\"_blank\" href=https://colab.research.google.com/notebooks/data_table.ipynb>data table notebook</a>'\n",
              "            + ' to learn more about interactive tables.';\n",
              "          element.innerHTML = '';\n",
              "          dataTable['output_type'] = 'display_data';\n",
              "          await google.colab.output.renderOutput(dataTable, element);\n",
              "          const docLink = document.createElement('div');\n",
              "          docLink.innerHTML = docLinkHtml;\n",
              "          element.appendChild(docLink);\n",
              "        }\n",
              "      </script>\n",
              "    </div>\n",
              "  </div>\n",
              "  "
            ]
          },
          "metadata": {},
          "execution_count": 37
        }
      ]
    },
    {
      "cell_type": "markdown",
      "source": [
        "**Visualizations**"
      ],
      "metadata": {
        "id": "0hj7B3pD4-Mu"
      }
    },
    {
      "cell_type": "code",
      "source": [
        "corr = df.corr()\n",
        "sns.heatmap(corr, cmap = 'Blues');"
      ],
      "metadata": {
        "colab": {
          "base_uri": "https://localhost:8080/",
          "height": 416
        },
        "id": "vG8aWcyH46ca",
        "outputId": "be8b02af-343f-45f1-f599-9afc419174ba"
      },
      "execution_count": 38,
      "outputs": [
        {
          "output_type": "display_data",
          "data": {
            "text/plain": [
              "<Figure size 432x288 with 2 Axes>"
            ],
            "image/png": "[encoded data removed]"
          },
          "metadata": {
            "needs_background": "light"
          }
        }
      ]
    },
    {
      "cell_type": "markdown",
      "source": [
        "In the heat map, I took out annot=True to take out the correlation values as there are too many features and the values overlapped. \n",
        "\n",
        "The costs for all 4 procedures tend to be highly correlated with quality and value of that procedure. "
      ],
      "metadata": {
        "id": "Y-McnIMQ56H6"
      }
    },
    {
      "cell_type": "code",
      "source": [
        "fig, axes = plt.subplots(ncols=2, figsize=(14,5))\n",
        "sns.barplot(data = df, x = 'Rating.Overall', y = 'Procedure.Heart.Attack.Cost', ax=axes[0])\n",
        "axes[0].set_title('Hospital Rating Based on Heart Attack Procedure Cost', fontsize = 15, fontweight = 'bold')\n",
        "\n",
        "sns.barplot(data = df, x = 'Rating.Overall', y = 'Procedure.Heart.Failure.Cost', ax=axes[1])\n",
        "axes[1].set_title('Hospital Rating Based on Heart Failure Procedure Cost', fontsize = 15, fontweight = 'bold')\n",
        "\n",
        "fig.suptitle('The Effect of Heart Attack and Heart Failure Costs on Hospital Ratings', fontsize = 20, fontweight = 'bold', y=1.05)\n",
        "fig.tight_layout()"
      ],
      "metadata": {
        "colab": {
          "base_uri": "https://localhost:8080/",
          "height": 398
        },
        "id": "Hxjl6F6M50fs",
        "outputId": "c69515cd-9a3e-4764-8cb2-898c6955619c"
      },
      "execution_count": 39,
      "outputs": [
        {
          "output_type": "display_data",
          "data": {
            "text/plain": [
              "<Figure size 1008x360 with 2 Axes>"
            ],
            "image/png": "[encoded data removed]"
          },
          "metadata": {
            "needs_background": "light"
          }
        }
      ]
    },
    {
      "cell_type": "markdown",
      "source": [
        "Heart failure costs are slightly higher than heart attack costs at 4 and 3 rated hospitals. \n",
        "\n",
        "Heart attack costs are higher than heart failure costs at 1 rated hospitals. \n",
        "\n",
        "In general, heart failure and heart attack costs decrease the higher the hospital rating.\n",
        "\n",
        "There is also much less variation in heart failure costs across all rated hospitals versus heart attack costs across all rated hospitals. "
      ],
      "metadata": {
        "id": "Fnvk9Zy76N4n"
      }
    },
    {
      "cell_type": "code",
      "source": [
        "fig, axes = plt.subplots(ncols=2, figsize=(14,5))\n",
        "sns.barplot(data = df, x = 'Rating.Overall', y = 'Procedure.Pneumonia.Cost', ax=axes[0])\n",
        "axes[0].set_title('Hospital Rating Based on Pneumonia Procedure Cost', fontsize = 15, fontweight = 'bold')\n",
        "\n",
        "sns.barplot(data = df, x = 'Rating.Overall', y = 'Procedure.Hip.Knee.Cost', ax=axes[1])\n",
        "axes[1].set_title('Hospital Rating Based on Hip Knee Procedure Cost', fontsize = 15, fontweight = 'bold')\n",
        "\n",
        "fig.suptitle('The Effect of Knee and Hip Procedural Costs on Hospital Ratings', fontsize = 20, fontweight = 'bold', y=1.05)\n",
        "fig.tight_layout()"
      ],
      "metadata": {
        "colab": {
          "base_uri": "https://localhost:8080/",
          "height": 398
        },
        "id": "MRpgcS0L6ItZ",
        "outputId": "b26141b9-15a3-46f3-f7a9-13108f92050f"
      },
      "execution_count": 40,
      "outputs": [
        {
          "output_type": "display_data",
          "data": {
            "text/plain": [
              "<Figure size 1008x360 with 2 Axes>"
            ],
            "image/png": "[encoded data removed]"
          },
          "metadata": {
            "needs_background": "light"
          }
        }
      ]
    },
    {
      "cell_type": "markdown",
      "source": [
        "The trend in the above barplot shows the higher the hospital rating the lower the costs for pneumonia procedures while costs for hip and knee procedures fluctuate more with a average rating of 3 having the least cost."
      ],
      "metadata": {
        "id": "wdPjb-ya6UPv"
      }
    },
    {
      "cell_type": "code",
      "source": [
        "#source= https://infopython.com/9-ways-to-plot-a-pie-chart-using-python/ \n",
        "values = df['Facility.Type'].value_counts()\n",
        "labels = ['Private', 'Government', 'Proprietary', 'Unknown', 'Church']\n",
        "\n",
        "circle_fig = go.Figure(data=[go.Pie(values=values, labels=labels, hole=0.3)])\n",
        "circle_fig.update_layout(title_text='Percentage of Hospitals by Facility Type')\n",
        "circle_fig.show()\n",
        "\n",
        "print(values)"
      ],
      "metadata": {
        "colab": {
          "base_uri": "https://localhost:8080/",
          "height": 646
        },
        "id": "3CBJzHk_f21q",
        "outputId": "b5b31c06-215d-4e9e-ed45-15ddfa98fb37"
      },
      "execution_count": 80,
      "outputs": [
        {
          "output_type": "display_data",
          "data": {
            "text/html": [
              "<html>\n",
              "<head><meta charset=\"utf-8\" /></head>\n",
              "<body>\n",
              "    <div>            <script src=\"https://cdnjs.cloudflare.com/ajax/libs/mathjax/2.7.5/MathJax.js?config=TeX-AMS-MML_SVG\"></script><script type=\"text/javascript\">if (window.MathJax && window.MathJax.Hub && window.MathJax.Hub.Config) {window.MathJax.Hub.Config({SVG: {font: \"STIX-Web\"}});}</script>                <script type=\"text/javascript\">window.PlotlyConfig = {MathJaxConfig: 'local'};</script>\n",
              "        <script src=\"https://cdn.plot.ly/plotly-2.12.1.min.js\"></script>                <div id=\"95930370-6060-4f57-88b9-8023d7a76859\" class=\"plotly-graph-div\" style=\"height:525px; width:100%;\"></div>            <script type=\"text/javascript\">                                    window.PLOTLYENV=window.PLOTLYENV || {};                                    if (document.getElementById(\"95930370-6060-4f57-88b9-8023d7a76859\")) {                    Plotly.newPlot(                        \"95930370-6060-4f57-88b9-8023d7a76859\",                        [{\"hole\":0.3,\"labels\":[\"Private\",\"Government\",\"Proprietary\",\"Unknown\",\"Church\"],\"values\":[1713,672,627,404,299],\"type\":\"pie\"}],                        {\"template\":{\"data\":{\"histogram2dcontour\":[{\"type\":\"histogram2dcontour\",\"colorbar\":{\"outlinewidth\":0,\"ticks\":\"\"},\"colorscale\":[[0.0,\"#0d0887\"],[0.1111111111111111,\"#46039f\"],[0.2222222222222222,\"#7201a8\"],[0.3333333333333333,\"#9c179e\"],[0.4444444444444444,\"#bd3786\"],[0.5555555555555556,\"#d8576b\"],[0.6666666666666666,\"#ed7953\"],[0.7777777777777778,\"#fb9f3a\"],[0.8888888888888888,\"#fdca26\"],[1.0,\"#f0f921\"]]}],\"choropleth\":[{\"type\":\"choropleth\",\"colorbar\":{\"outlinewidth\":0,\"ticks\":\"\"}}],\"histogram2d\":[{\"type\":\"histogram2d\",\"colorbar\":{\"outlinewidth\":0,\"ticks\":\"\"},\"colorscale\":[[0.0,\"#0d0887\"],[0.1111111111111111,\"#46039f\"],[0.2222222222222222,\"#7201a8\"],[0.3333333333333333,\"#9c179e\"],[0.4444444444444444,\"#bd3786\"],[0.5555555555555556,\"#d8576b\"],[0.6666666666666666,\"#ed7953\"],[0.7777777777777778,\"#fb9f3a\"],[0.8888888888888888,\"#fdca26\"],[1.0,\"#f0f921\"]]}],\"heatmap\":[{\"type\":\"heatmap\",\"colorbar\":{\"outlinewidth\":0,\"ticks\":\"\"},\"colorscale\":[[0.0,\"#0d0887\"],[0.1111111111111111,\"#46039f\"],[0.2222222222222222,\"#7201a8\"],[0.3333333333333333,\"#9c179e\"],[0.4444444444444444,\"#bd3786\"],[0.5555555555555556,\"#d8576b\"],[0.6666666666666666,\"#ed7953\"],[0.7777777777777778,\"#fb9f3a\"],[0.8888888888888888,\"#fdca26\"],[1.0,\"#f0f921\"]]}],\"heatmapgl\":[{\"type\":\"heatmapgl\",\"colorbar\":{\"outlinewidth\":0,\"ticks\":\"\"},\"colorscale\":[[0.0,\"#0d0887\"],[0.1111111111111111,\"#46039f\"],[0.2222222222222222,\"#7201a8\"],[0.3333333333333333,\"#9c179e\"],[0.4444444444444444,\"#bd3786\"],[0.5555555555555556,\"#d8576b\"],[0.6666666666666666,\"#ed7953\"],[0.7777777777777778,\"#fb9f3a\"],[0.8888888888888888,\"#fdca26\"],[1.0,\"#f0f921\"]]}],\"contourcarpet\":[{\"type\":\"contourcarpet\",\"colorbar\":{\"outlinewidth\":0,\"ticks\":\"\"}}],\"contour\":[{\"type\":\"contour\",\"colorbar\":{\"outlinewidth\":0,\"ticks\":\"\"},\"colorscale\":[[0.0,\"#0d0887\"],[0.1111111111111111,\"#46039f\"],[0.2222222222222222,\"#7201a8\"],[0.3333333333333333,\"#9c179e\"],[0.4444444444444444,\"#bd3786\"],[0.5555555555555556,\"#d8576b\"],[0.6666666666666666,\"#ed7953\"],[0.7777777777777778,\"#fb9f3a\"],[0.8888888888888888,\"#fdca26\"],[1.0,\"#f0f921\"]]}],\"surface\":[{\"type\":\"surface\",\"colorbar\":{\"outlinewidth\":0,\"ticks\":\"\"},\"colorscale\":[[0.0,\"#0d0887\"],[0.1111111111111111,\"#46039f\"],[0.2222222222222222,\"#7201a8\"],[0.3333333333333333,\"#9c179e\"],[0.4444444444444444,\"#bd3786\"],[0.5555555555555556,\"#d8576b\"],[0.6666666666666666,\"#ed7953\"],[0.7777777777777778,\"#fb9f3a\"],[0.8888888888888888,\"#fdca26\"],[1.0,\"#f0f921\"]]}],\"mesh3d\":[{\"type\":\"mesh3d\",\"colorbar\":{\"outlinewidth\":0,\"ticks\":\"\"}}],\"scatter\":[{\"fillpattern\":{\"fillmode\":\"overlay\",\"size\":10,\"solidity\":0.2},\"type\":\"scatter\"}],\"parcoords\":[{\"type\":\"parcoords\",\"line\":{\"colorbar\":{\"outlinewidth\":0,\"ticks\":\"\"}}}],\"scatterpolargl\":[{\"type\":\"scatterpolargl\",\"marker\":{\"colorbar\":{\"outlinewidth\":0,\"ticks\":\"\"}}}],\"bar\":[{\"error_x\":{\"color\":\"#2a3f5f\"},\"error_y\":{\"color\":\"#2a3f5f\"},\"marker\":{\"line\":{\"color\":\"#E5ECF6\",\"width\":0.5},\"pattern\":{\"fillmode\":\"overlay\",\"size\":10,\"solidity\":0.2}},\"type\":\"bar\"}],\"scattergeo\":[{\"type\":\"scattergeo\",\"marker\":{\"colorbar\":{\"outlinewidth\":0,\"ticks\":\"\"}}}],\"scatterpolar\":[{\"type\":\"scatterpolar\",\"marker\":{\"colorbar\":{\"outlinewidth\":0,\"ticks\":\"\"}}}],\"histogram\":[{\"marker\":{\"pattern\":{\"fillmode\":\"overlay\",\"size\":10,\"solidity\":0.2}},\"type\":\"histogram\"}],\"scattergl\":[{\"type\":\"scattergl\",\"marker\":{\"colorbar\":{\"outlinewidth\":0,\"ticks\":\"\"}}}],\"scatter3d\":[{\"type\":\"scatter3d\",\"line\":{\"colorbar\":{\"outlinewidth\":0,\"ticks\":\"\"}},\"marker\":{\"colorbar\":{\"outlinewidth\":0,\"ticks\":\"\"}}}],\"scattermapbox\":[{\"type\":\"scattermapbox\",\"marker\":{\"colorbar\":{\"outlinewidth\":0,\"ticks\":\"\"}}}],\"scatterternary\":[{\"type\":\"scatterternary\",\"marker\":{\"colorbar\":{\"outlinewidth\":0,\"ticks\":\"\"}}}],\"scattercarpet\":[{\"type\":\"scattercarpet\",\"marker\":{\"colorbar\":{\"outlinewidth\":0,\"ticks\":\"\"}}}],\"carpet\":[{\"aaxis\":{\"endlinecolor\":\"#2a3f5f\",\"gridcolor\":\"white\",\"linecolor\":\"white\",\"minorgridcolor\":\"white\",\"startlinecolor\":\"#2a3f5f\"},\"baxis\":{\"endlinecolor\":\"#2a3f5f\",\"gridcolor\":\"white\",\"linecolor\":\"white\",\"minorgridcolor\":\"white\",\"startlinecolor\":\"#2a3f5f\"},\"type\":\"carpet\"}],\"table\":[{\"cells\":{\"fill\":{\"color\":\"#EBF0F8\"},\"line\":{\"color\":\"white\"}},\"header\":{\"fill\":{\"color\":\"#C8D4E3\"},\"line\":{\"color\":\"white\"}},\"type\":\"table\"}],\"barpolar\":[{\"marker\":{\"line\":{\"color\":\"#E5ECF6\",\"width\":0.5},\"pattern\":{\"fillmode\":\"overlay\",\"size\":10,\"solidity\":0.2}},\"type\":\"barpolar\"}],\"pie\":[{\"automargin\":true,\"type\":\"pie\"}]},\"layout\":{\"autotypenumbers\":\"strict\",\"colorway\":[\"#636efa\",\"#EF553B\",\"#00cc96\",\"#ab63fa\",\"#FFA15A\",\"#19d3f3\",\"#FF6692\",\"#B6E880\",\"#FF97FF\",\"#FECB52\"],\"font\":{\"color\":\"#2a3f5f\"},\"hovermode\":\"closest\",\"hoverlabel\":{\"align\":\"left\"},\"paper_bgcolor\":\"white\",\"plot_bgcolor\":\"#E5ECF6\",\"polar\":{\"bgcolor\":\"#E5ECF6\",\"angularaxis\":{\"gridcolor\":\"white\",\"linecolor\":\"white\",\"ticks\":\"\"},\"radialaxis\":{\"gridcolor\":\"white\",\"linecolor\":\"white\",\"ticks\":\"\"}},\"ternary\":{\"bgcolor\":\"#E5ECF6\",\"aaxis\":{\"gridcolor\":\"white\",\"linecolor\":\"white\",\"ticks\":\"\"},\"baxis\":{\"gridcolor\":\"white\",\"linecolor\":\"white\",\"ticks\":\"\"},\"caxis\":{\"gridcolor\":\"white\",\"linecolor\":\"white\",\"ticks\":\"\"}},\"coloraxis\":{\"colorbar\":{\"outlinewidth\":0,\"ticks\":\"\"}},\"colorscale\":{\"sequential\":[[0.0,\"#0d0887\"],[0.1111111111111111,\"#46039f\"],[0.2222222222222222,\"#7201a8\"],[0.3333333333333333,\"#9c179e\"],[0.4444444444444444,\"#bd3786\"],[0.5555555555555556,\"#d8576b\"],[0.6666666666666666,\"#ed7953\"],[0.7777777777777778,\"#fb9f3a\"],[0.8888888888888888,\"#fdca26\"],[1.0,\"#f0f921\"]],\"sequentialminus\":[[0.0,\"#0d0887\"],[0.1111111111111111,\"#46039f\"],[0.2222222222222222,\"#7201a8\"],[0.3333333333333333,\"#9c179e\"],[0.4444444444444444,\"#bd3786\"],[0.5555555555555556,\"#d8576b\"],[0.6666666666666666,\"#ed7953\"],[0.7777777777777778,\"#fb9f3a\"],[0.8888888888888888,\"#fdca26\"],[1.0,\"#f0f921\"]],\"diverging\":[[0,\"#8e0152\"],[0.1,\"#c51b7d\"],[0.2,\"#de77ae\"],[0.3,\"#f1b6da\"],[0.4,\"#fde0ef\"],[0.5,\"#f7f7f7\"],[0.6,\"#e6f5d0\"],[0.7,\"#b8e186\"],[0.8,\"#7fbc41\"],[0.9,\"#4d9221\"],[1,\"#276419\"]]},\"xaxis\":{\"gridcolor\":\"white\",\"linecolor\":\"white\",\"ticks\":\"\",\"title\":{\"standoff\":15},\"zerolinecolor\":\"white\",\"automargin\":true,\"zerolinewidth\":2},\"yaxis\":{\"gridcolor\":\"white\",\"linecolor\":\"white\",\"ticks\":\"\",\"title\":{\"standoff\":15},\"zerolinecolor\":\"white\",\"automargin\":true,\"zerolinewidth\":2},\"scene\":{\"xaxis\":{\"backgroundcolor\":\"#E5ECF6\",\"gridcolor\":\"white\",\"linecolor\":\"white\",\"showbackground\":true,\"ticks\":\"\",\"zerolinecolor\":\"white\",\"gridwidth\":2},\"yaxis\":{\"backgroundcolor\":\"#E5ECF6\",\"gridcolor\":\"white\",\"linecolor\":\"white\",\"showbackground\":true,\"ticks\":\"\",\"zerolinecolor\":\"white\",\"gridwidth\":2},\"zaxis\":{\"backgroundcolor\":\"#E5ECF6\",\"gridcolor\":\"white\",\"linecolor\":\"white\",\"showbackground\":true,\"ticks\":\"\",\"zerolinecolor\":\"white\",\"gridwidth\":2}},\"shapedefaults\":{\"line\":{\"color\":\"#2a3f5f\"}},\"annotationdefaults\":{\"arrowcolor\":\"#2a3f5f\",\"arrowhead\":0,\"arrowwidth\":1},\"geo\":{\"bgcolor\":\"white\",\"landcolor\":\"#E5ECF6\",\"subunitcolor\":\"white\",\"showland\":true,\"showlakes\":true,\"lakecolor\":\"white\"},\"title\":{\"x\":0.05},\"mapbox\":{\"style\":\"light\"}}},\"title\":{\"text\":\"Percentage of Hospitals by Facility Type\"}},                        {\"responsive\": true}                    ).then(function(){\n",
              "                            \n",
              "var gd = document.getElementById('95930370-6060-4f57-88b9-8023d7a76859');\n",
              "var x = new MutationObserver(function (mutations, observer) {{\n",
              "        var display = window.getComputedStyle(gd).display;\n",
              "        if (!display || display === 'none') {{\n",
              "            console.log([gd, 'removed!']);\n",
              "            Plotly.purge(gd);\n",
              "            observer.disconnect();\n",
              "        }}\n",
              "}});\n",
              "\n",
              "// Listen for the removal of the full notebook cells\n",
              "var notebookContainer = gd.closest('#notebook-container');\n",
              "if (notebookContainer) {{\n",
              "    x.observe(notebookContainer, {childList: true});\n",
              "}}\n",
              "\n",
              "// Listen for the clearing of the current output cell\n",
              "var outputEl = gd.closest('.output');\n",
              "if (outputEl) {{\n",
              "    x.observe(outputEl, {childList: true});\n",
              "}}\n",
              "\n",
              "                        })                };                            </script>        </div>\n",
              "</body>\n",
              "</html>"
            ]
          },
          "metadata": {}
        },
        {
          "output_type": "stream",
          "name": "stdout",
          "text": [
            "Private        1713\n",
            "Government      672\n",
            "Proprietary     627\n",
            "Unknown         404\n",
            "Church          299\n",
            "Name: Facility.Type, dtype: int64\n"
          ]
        }
      ]
    },
    {
      "cell_type": "code",
      "source": [
        "#choropleth maps of cost of care by state\n",
        "#source= https://plotly.com/python/choropleth-maps/ \n",
        "\n",
        "fig = go.Figure(data=go.Choropleth(\n",
        "    locations=df['Facility.State'],\n",
        "    z = df['Mean.HAC.State'].astype(float),\n",
        "    locationmode = 'USA-states',\n",
        "    colorscale = 'Reds',\n",
        "    colorbar_title = \"Heart Attack Care in Dollars\",\n",
        "))\n",
        "\n",
        "fig2 = go.Figure(data=go.Choropleth(\n",
        "    locations=df['Facility.State'],\n",
        "    z = df['Mean.HFC.State'].astype(float),\n",
        "    locationmode = 'USA-states',\n",
        "    colorscale = 'Blues',\n",
        "    colorbar_title = \"Heart Failure Care in Dollars\",\n",
        "))\n",
        "\n",
        "fig3 = go.Figure(data=go.Choropleth(\n",
        "    locations=df['Facility.State'],\n",
        "    z = df['Mean.Pne.State'].astype(float),\n",
        "    locationmode = 'USA-states',\n",
        "    colorscale = 'Reds',\n",
        "    colorbar_title = \"Pneumonia Care in Dollars\",\n",
        "))\n",
        "\n",
        "fig4 = go.Figure(data=go.Choropleth(\n",
        "    locations=df['Facility.State'],\n",
        "    z = df['Mean.HK.State'].astype(float),\n",
        "    locationmode = 'USA-states',\n",
        "    colorscale = 'Blues',\n",
        "    colorbar_title = \"Hip and Knee Care in Dollars\",\n",
        "))\n",
        "\n",
        "fig.update_layout(\n",
        "    title_text = 'Average Cost of Heart Attack Care by State',\n",
        "    geo_scope='usa',\n",
        ")\n",
        "\n",
        "fig2.update_layout(\n",
        "    title_text = 'Average Cost of Heart Failure Care by State',\n",
        "    geo_scope='usa',\n",
        ")\n",
        "\n",
        "fig3.update_layout(\n",
        "    title_text = 'Average Cost of Pneumonia Care by State',\n",
        "    geo_scope='usa',\n",
        ")\n",
        "\n",
        "fig4.update_layout(\n",
        "    title_text = 'Average Cost of Hip and Knee Care by State',\n",
        "    geo_scope='usa',\n",
        ")\n",
        "\n",
        "fig.show()\n",
        "fig2.show()\n",
        "fig3.show()\n",
        "fig4.show()"
      ],
      "metadata": {
        "colab": {
          "base_uri": "https://localhost:8080/",
          "height": 1000
        },
        "id": "onvXEHCYLFZM",
        "outputId": "1e64fa44-34a3-4158-f3ae-ca505bcb657d"
      },
      "execution_count": 42,
      "outputs": [
        {
          "output_type": "display_data",
          "data": {
            "text/html": [
              "<html>\n",
              "<head><meta charset=\"utf-8\" /></head>\n",
              "<body>\n",
              "    <div>            <script src=\"https://cdnjs.cloudflare.com/ajax/libs/mathjax/2.7.5/MathJax.js?config=TeX-AMS-MML_SVG\"></script><script type=\"text/javascript\">if (window.MathJax && window.MathJax.Hub && window.MathJax.Hub.Config) {window.MathJax.Hub.Config({SVG: {font: \"STIX-Web\"}});}</script>                <script type=\"text/javascript\">window.PlotlyConfig = {MathJaxConfig: 'local'};</script>\n",
              "        <script src=\"https://cdn.plot.ly/plotly-2.12.1.min.js\"></script>                <div id=\"c8620f9c-84d8-4651-8fb5-573113e2c8c1\" class=\"plotly-graph-div\" style=\"height:525px; width:100%;\"></div>            <script type=\"text/javascript\">                                    window.PLOTLYENV=window.PLOTLYENV || {};                                    if (document.getElementById(\"c8620f9c-84d8-4651-8fb5-573113e2c8c1\")) {                    Plotly.newPlot(                        \"c8620f9c-84d8-4651-8fb5-573113e2c8c1\",                        [{\"colorbar\":{\"title\":{\"text\":\"Heart Attack Care in Dollars\"}},\"colorscale\":[[0.0,\"rgb(255,245,240)\"],[0.125,\"rgb(254,224,210)\"],[0.25,\"rgb(252,187,161)\"],[0.375,\"rgb(252,146,114)\"],[0.5,\"rgb(251,106,74)\"],[0.625,\"rgb(239,59,44)\"],[0.75,\"rgb(203,24,29)\"],[0.875,\"rgb(165,15,21)\"],[1.0,\"rgb(103,0,13)\"]],\"locationmode\":\"USA-states\",\"locations\":[\"AL\",\"AL\",\"AL\",\"AL\",\"AL\",\"AZ\",\"AZ\",\"AR\",\"AR\",\"AR\",\"AR\",\"AR\",\"AR\",\"AR\",\"AR\",\"CA\",\"CA\",\"CA\",\"CA\",\"CA\",\"CA\",\"CA\",\"CA\",\"CA\",\"CA\",\"CA\",\"CA\",\"CA\",\"CA\",\"CA\",\"CA\",\"CA\",\"CA\",\"CA\",\"CA\",\"CA\",\"CA\",\"CA\",\"CA\",\"CT\",\"CT\",\"CT\",\"CT\",\"CT\",\"CT\",\"DC\",\"DC\",\"DC\",\"DC\",\"DC\",\"FL\",\"FL\",\"FL\",\"FL\",\"FL\",\"FL\",\"FL\",\"FL\",\"FL\",\"FL\",\"FL\",\"FL\",\"FL\",\"FL\",\"FL\",\"FL\",\"FL\",\"FL\",\"FL\",\"FL\",\"FL\",\"FL\",\"FL\",\"FL\",\"FL\",\"FL\",\"FL\",\"FL\",\"FL\",\"FL\",\"FL\",\"FL\",\"GA\",\"GA\",\"GA\",\"GA\",\"GA\",\"GA\",\"GA\",\"GA\",\"GA\",\"GA\",\"GA\",\"GA\",\"IL\",\"IL\",\"IL\",\"IL\",\"IL\",\"IL\",\"IL\",\"IL\",\"IL\",\"IL\",\"IL\",\"IL\",\"IL\",\"IL\",\"IL\",\"IL\",\"IA\",\"KS\",\"KY\",\"KY\",\"KY\",\"KY\",\"KY\",\"KY\",\"LA\",\"LA\",\"MD\",\"MD\",\"MD\",\"MD\",\"MD\",\"MD\",\"MA\",\"MA\",\"MA\",\"MA\",\"MI\",\"MI\",\"MI\",\"MI\",\"MN\",\"MS\",\"MS\",\"MS\",\"MS\",\"MS\",\"MS\",\"MO\",\"MO\",\"MO\",\"MO\",\"MO\",\"MO\",\"MO\",\"NE\",\"NV\",\"NV\",\"NV\",\"NV\",\"NV\",\"NV\",\"NV\",\"NV\",\"NV\",\"NV\",\"NJ\",\"NJ\",\"NJ\",\"NJ\",\"NJ\",\"NJ\",\"NJ\",\"NJ\",\"NM\",\"NM\",\"NM\",\"NY\",\"NY\",\"NY\",\"NY\",\"NY\",\"NY\",\"NY\",\"NY\",\"NY\",\"NY\",\"NY\",\"NY\",\"NY\",\"NY\",\"NY\",\"NY\",\"NY\",\"NY\",\"NY\",\"NY\",\"NY\",\"NY\",\"NY\",\"NY\",\"NY\",\"NY\",\"NY\",\"NY\",\"NY\",\"NY\",\"NY\",\"NY\",\"NY\",\"NY\",\"NY\",\"NY\",\"NY\",\"NY\",\"NY\",\"NY\",\"NY\",\"NY\",\"NY\",\"NY\",\"NY\",\"NY\",\"NY\",\"NY\",\"NC\",\"NC\",\"NC\",\"NC\",\"NC\",\"NC\",\"NC\",\"ND\",\"ND\",\"OH\",\"OH\",\"OK\",\"OK\",\"OK\",\"OK\",\"OK\",\"PA\",\"PA\",\"PA\",\"PA\",\"PA\",\"PA\",\"PA\",\"PA\",\"PA\",\"PA\",\"PA\",\"PA\",\"PA\",\"PR\",\"PR\",\"PR\",\"SC\",\"SC\",\"SC\",\"TN\",\"TN\",\"TN\",\"TN\",\"TN\",\"TN\",\"TN\",\"TN\",\"TN\",\"TN\",\"TX\",\"TX\",\"TX\",\"TX\",\"TX\",\"TX\",\"TX\",\"TX\",\"TX\",\"TX\",\"VA\",\"VA\",\"VA\",\"WA\",\"WA\",\"WV\",\"WV\",\"WI\",\"AL\",\"AL\",\"AL\",\"AL\",\"AL\",\"AL\",\"AL\",\"AL\",\"AL\",\"AL\",\"AL\",\"AL\",\"AL\",\"AL\",\"AL\",\"AL\",\"AL\",\"AL\",\"AL\",\"AL\",\"AL\",\"AL\",\"AL\",\"AK\",\"AZ\",\"AZ\",\"AZ\",\"AZ\",\"AZ\",\"AZ\",\"AZ\",\"AZ\",\"AZ\",\"AZ\",\"AZ\",\"AZ\",\"AZ\",\"AZ\",\"AZ\",\"AZ\",\"AR\",\"AR\",\"AR\",\"AR\",\"AR\",\"AR\",\"AR\",\"AR\",\"AR\",\"AR\",\"AR\",\"AR\",\"AR\",\"AR\",\"AR\",\"AR\",\"AR\",\"AR\",\"AR\",\"AR\",\"CA\",\"CA\",\"CA\",\"CA\",\"CA\",\"CA\",\"CA\",\"CA\",\"CA\",\"CA\",\"CA\",\"CA\",\"CA\",\"CA\",\"CA\",\"CA\",\"CA\",\"CA\",\"CA\",\"CA\",\"CA\",\"CA\",\"CA\",\"CA\",\"CA\",\"CA\",\"CA\",\"CA\",\"CA\",\"CA\",\"CA\",\"CA\",\"CA\",\"CA\",\"CA\",\"CA\",\"CA\",\"CA\",\"CA\",\"CA\",\"CA\",\"CA\",\"CA\",\"CA\",\"CA\",\"CA\",\"CA\",\"CA\",\"CA\",\"CA\",\"CA\",\"CA\",\"CA\",\"CA\",\"CA\",\"CA\",\"CA\",\"CA\",\"CA\",\"CA\",\"CA\",\"CA\",\"CA\",\"CA\",\"CA\",\"CA\",\"CA\",\"CA\",\"CA\",\"CA\",\"CA\",\"CA\",\"CA\",\"CA\",\"CA\",\"CA\",\"CA\",\"CA\",\"CA\",\"CA\",\"CA\",\"CA\",\"CA\",\"CA\",\"CA\",\"CA\",\"CA\",\"CA\",\"CA\",\"CA\",\"CA\",\"CA\",\"CA\",\"CA\",\"CA\",\"CA\",\"CO\",\"CO\",\"CO\",\"CT\",\"CT\",\"CT\",\"CT\",\"DE\",\"DE\",\"DC\",\"FL\",\"FL\",\"FL\",\"FL\",\"FL\",\"FL\",\"FL\",\"FL\",\"FL\",\"FL\",\"FL\",\"FL\",\"FL\",\"FL\",\"FL\",\"FL\",\"FL\",\"FL\",\"FL\",\"FL\",\"FL\",\"FL\",\"FL\",\"FL\",\"FL\",\"FL\",\"FL\",\"FL\",\"FL\",\"FL\",\"FL\",\"FL\",\"FL\",\"FL\",\"FL\",\"FL\",\"FL\",\"FL\",\"FL\",\"FL\",\"FL\",\"FL\",\"FL\",\"FL\",\"FL\",\"FL\",\"FL\",\"FL\",\"FL\",\"FL\",\"FL\",\"FL\",\"FL\",\"FL\",\"FL\",\"FL\",\"FL\",\"FL\",\"FL\",\"FL\",\"GA\",\"GA\",\"GA\",\"GA\",\"GA\",\"GA\",\"GA\",\"GA\",\"GA\",\"GA\",\"GA\",\"GA\",\"GA\",\"GA\",\"GA\",\"GA\",\"GA\",\"GA\",\"GA\",\"GA\",\"GA\",\"GA\",\"GA\",\"HI\",\"ID\",\"ID\",\"ID\",\"IL\",\"IL\",\"IL\",\"IL\",\"IL\",\"IL\",\"IL\",\"IL\",\"IL\",\"IL\",\"IL\",\"IL\",\"IL\",\"IL\",\"IL\",\"IL\",\"IL\",\"IL\",\"IL\",\"IL\",\"IL\",\"IL\",\"IL\",\"IL\",\"IL\",\"IL\",\"IL\",\"IL\",\"IL\",\"IL\",\"IL\",\"IN\",\"IN\",\"IN\",\"IN\",\"IN\",\"IN\",\"IN\",\"IN\",\"IN\",\"IN\",\"IA\",\"IA\",\"IA\",\"IA\",\"IA\",\"IA\",\"IA\",\"IA\",\"IA\",\"IA\",\"IA\",\"KS\",\"KS\",\"KS\",\"KS\",\"KS\",\"KS\",\"KS\",\"KS\",\"KS\",\"KS\",\"KY\",\"KY\",\"KY\",\"KY\",\"KY\",\"KY\",\"KY\",\"KY\",\"KY\",\"KY\",\"KY\",\"KY\",\"KY\",\"KY\",\"KY\",\"KY\",\"KY\",\"KY\",\"KY\",\"KY\",\"KY\",\"KY\",\"LA\",\"LA\",\"LA\",\"LA\",\"LA\",\"LA\",\"LA\",\"LA\",\"LA\",\"LA\",\"LA\",\"LA\",\"LA\",\"LA\",\"LA\",\"LA\",\"LA\",\"LA\",\"LA\",\"LA\",\"LA\",\"ME\",\"ME\",\"ME\",\"ME\",\"ME\",\"MD\",\"MD\",\"MD\",\"MD\",\"MD\",\"MD\",\"MA\",\"MA\",\"MA\",\"MA\",\"MA\",\"MA\",\"MA\",\"MA\",\"MA\",\"MA\",\"MA\",\"MA\",\"MA\",\"MA\",\"MA\",\"MI\",\"MI\",\"MI\",\"MI\",\"MI\",\"MI\",\"MI\",\"MI\",\"MI\",\"MI\",\"MI\",\"MI\",\"MI\",\"MN\",\"MN\",\"MN\",\"MN\",\"MN\",\"MS\",\"MS\",\"MS\",\"MS\",\"MS\",\"MS\",\"MS\",\"MS\",\"MS\",\"MS\",\"MS\",\"MS\",\"MS\",\"MS\",\"MS\",\"MS\",\"MS\",\"MS\",\"MS\",\"MS\",\"MS\",\"MS\",\"MS\",\"MS\",\"MS\",\"MO\",\"MO\",\"MO\",\"MO\",\"MO\",\"MO\",\"MO\",\"MO\",\"MO\",\"MO\",\"MO\",\"MO\",\"MO\",\"MO\",\"MO\",\"MO\",\"MO\",\"MT\",\"MT\",\"NE\",\"NE\",\"NE\",\"NV\",\"NV\",\"NV\",\"NV\",\"NV\",\"NV\",\"NH\",\"NH\",\"NH\",\"NH\",\"NJ\",\"NJ\",\"NJ\",\"NJ\",\"NJ\",\"NJ\",\"NJ\",\"NJ\",\"NJ\",\"NJ\",\"NJ\",\"NJ\",\"NJ\",\"NJ\",\"NJ\",\"NJ\",\"NJ\",\"NJ\",\"NJ\",\"NJ\",\"NJ\",\"NJ\",\"NJ\",\"NJ\",\"NJ\",\"NJ\",\"NM\",\"NM\",\"NM\",\"NM\",\"NM\",\"NM\",\"NM\",\"NM\",\"NY\",\"NY\",\"NY\",\"NY\",\"NY\",\"NY\",\"NY\",\"NY\",\"NY\",\"NY\",\"NY\",\"NY\",\"NY\",\"NY\",\"NY\",\"NY\",\"NY\",\"NY\",\"NY\",\"NY\",\"NY\",\"NY\",\"NY\",\"NY\",\"NY\",\"NY\",\"NY\",\"NY\",\"NY\",\"NY\",\"NY\",\"NY\",\"NY\",\"NY\",\"NY\",\"NY\",\"NY\",\"NY\",\"NY\",\"NY\",\"NY\",\"NY\",\"NY\",\"NY\",\"NY\",\"NC\",\"NC\",\"NC\",\"NC\",\"NC\",\"NC\",\"NC\",\"NC\",\"NC\",\"NC\",\"NC\",\"NC\",\"NC\",\"NC\",\"NC\",\"NC\",\"NC\",\"NC\",\"ND\",\"ND\",\"OH\",\"OH\",\"OH\",\"OH\",\"OH\",\"OH\",\"OH\",\"OH\",\"OH\",\"OH\",\"OH\",\"OH\",\"OH\",\"OH\",\"OH\",\"OH\",\"OH\",\"OH\",\"OH\",\"OH\",\"OH\",\"OH\",\"OK\",\"OK\",\"OK\",\"OK\",\"OK\",\"OK\",\"OK\",\"OK\",\"OK\",\"OK\",\"OK\",\"OK\",\"OK\",\"OK\",\"OK\",\"OK\",\"OK\",\"OK\",\"OK\",\"OR\",\"OR\",\"OR\",\"OR\",\"PA\",\"PA\",\"PA\",\"PA\",\"PA\",\"PA\",\"PA\",\"PA\",\"PA\",\"PA\",\"PA\",\"PA\",\"PA\",\"PA\",\"PA\",\"PA\",\"PA\",\"PA\",\"PA\",\"PA\",\"PA\",\"PA\",\"PA\",\"PA\",\"PA\",\"PA\",\"PA\",\"PA\",\"PA\",\"PA\",\"PA\",\"PA\",\"PA\",\"PA\",\"PA\",\"PA\",\"PA\",\"PR\",\"PR\",\"PR\",\"RI\",\"RI\",\"RI\",\"SC\",\"SC\",\"SC\",\"SC\",\"SC\",\"SC\",\"SC\",\"SC\",\"SC\",\"SC\",\"SC\",\"SC\",\"SC\",\"SC\",\"SC\",\"SD\",\"TN\",\"TN\",\"TN\",\"TN\",\"TN\",\"TN\",\"TN\",\"TN\",\"TN\",\"TN\",\"TN\",\"TN\",\"TN\",\"TN\",\"TN\",\"TN\",\"TN\",\"TN\",\"TN\",\"TN\",\"TN\",\"TN\",\"TN\",\"TN\",\"TN\",\"TN\",\"TN\",\"TX\",\"TX\",\"TX\",\"TX\",\"TX\",\"TX\",\"TX\",\"TX\",\"TX\",\"TX\",\"TX\",\"TX\",\"TX\",\"TX\",\"TX\",\"TX\",\"TX\",\"TX\",\"TX\",\"TX\",\"TX\",\"TX\",\"TX\",\"TX\",\"TX\",\"TX\",\"TX\",\"TX\",\"TX\",\"TX\",\"TX\",\"TX\",\"TX\",\"TX\",\"TX\",\"TX\",\"TX\",\"TX\",\"TX\",\"TX\",\"TX\",\"TX\",\"TX\",\"TX\",\"TX\",\"TX\",\"TX\",\"TX\",\"TX\",\"TX\",\"TX\",\"UT\",\"UT\",\"VT\",\"VI\",\"VA\",\"VA\",\"VA\",\"VA\",\"VA\",\"VA\",\"VA\",\"VA\",\"VA\",\"VA\",\"VA\",\"VA\",\"VA\",\"VA\",\"VA\",\"VA\",\"VA\",\"WA\",\"WA\",\"WA\",\"WA\",\"WA\",\"WA\",\"WA\",\"WA\",\"WA\",\"WA\",\"WA\",\"WA\",\"WA\",\"WA\",\"WA\",\"WA\",\"WA\",\"WV\",\"WV\",\"WV\",\"WV\",\"WV\",\"WV\",\"WV\",\"WV\",\"WV\",\"WV\",\"WI\",\"WI\",\"WI\",\"WI\",\"WI\",\"WY\",\"WY\",\"TX\",\"TX\",\"AL\",\"AL\",\"AL\",\"AL\",\"AL\",\"AL\",\"AL\",\"AL\",\"AL\",\"AL\",\"AL\",\"AL\",\"AL\",\"AL\",\"AL\",\"AL\",\"AL\",\"AL\",\"AL\",\"AL\",\"AL\",\"AL\",\"AL\",\"AL\",\"AL\",\"AL\",\"AL\",\"AL\",\"AL\",\"AL\",\"AL\",\"AK\",\"AK\",\"AK\",\"AZ\",\"AZ\",\"AZ\",\"AZ\",\"AZ\",\"AZ\",\"AZ\",\"AZ\",\"AZ\",\"AZ\",\"AZ\",\"AZ\",\"AZ\",\"AZ\",\"AZ\",\"AZ\",\"AZ\",\"AZ\",\"AZ\",\"AR\",\"AR\",\"AR\",\"AR\",\"AR\",\"AR\",\"AR\",\"AR\",\"AR\",\"AR\",\"AR\",\"AR\",\"AR\",\"AR\",\"AR\",\"AR\",\"AR\",\"AR\",\"AR\",\"AR\",\"AR\",\"AR\",\"AR\",\"CA\",\"CA\",\"CA\",\"CA\",\"CA\",\"CA\",\"CA\",\"CA\",\"CA\",\"CA\",\"CA\",\"CA\",\"CA\",\"CA\",\"CA\",\"CA\",\"CA\",\"CA\",\"CA\",\"CA\",\"CA\",\"CA\",\"CA\",\"CA\",\"CA\",\"CA\",\"CA\",\"CA\",\"CA\",\"CA\",\"CA\",\"CA\",\"CA\",\"CA\",\"CA\",\"CA\",\"CA\",\"CA\",\"CA\",\"CA\",\"CA\",\"CA\",\"CA\",\"CA\",\"CA\",\"CA\",\"CA\",\"CA\",\"CA\",\"CA\",\"CA\",\"CA\",\"CA\",\"CA\",\"CA\",\"CA\",\"CA\",\"CA\",\"CA\",\"CA\",\"CA\",\"CA\",\"CA\",\"CA\",\"CA\",\"CA\",\"CA\",\"CA\",\"CA\",\"CA\",\"CA\",\"CA\",\"CA\",\"CA\",\"CA\",\"CA\",\"CA\",\"CA\",\"CA\",\"CA\",\"CA\",\"CA\",\"CA\",\"CA\",\"CA\",\"CA\",\"CA\",\"CA\",\"CA\",\"CA\",\"CA\",\"CA\",\"CA\",\"CO\",\"CO\",\"CO\",\"CO\",\"CO\",\"CO\",\"CO\",\"CO\",\"CO\",\"CO\",\"CO\",\"CO\",\"CO\",\"CO\",\"CO\",\"CO\",\"CO\",\"CO\",\"CO\",\"CO\",\"CO\",\"CO\",\"CO\",\"CT\",\"CT\",\"CT\",\"CT\",\"CT\",\"CT\",\"CT\",\"CT\",\"CT\",\"DE\",\"DE\",\"DE\",\"DC\",\"FL\",\"FL\",\"FL\",\"FL\",\"FL\",\"FL\",\"FL\",\"FL\",\"FL\",\"FL\",\"FL\",\"FL\",\"FL\",\"FL\",\"FL\",\"FL\",\"FL\",\"FL\",\"FL\",\"FL\",\"FL\",\"FL\",\"FL\",\"FL\",\"FL\",\"FL\",\"FL\",\"FL\",\"FL\",\"FL\",\"FL\",\"FL\",\"FL\",\"FL\",\"FL\",\"FL\",\"FL\",\"FL\",\"FL\",\"FL\",\"GA\",\"GA\",\"GA\",\"GA\",\"GA\",\"GA\",\"GA\",\"GA\",\"GA\",\"GA\",\"GA\",\"GA\",\"GA\",\"GA\",\"GA\",\"GA\",\"GA\",\"GA\",\"GA\",\"GA\",\"GA\",\"GA\",\"GA\",\"GA\",\"GA\",\"GA\",\"GA\",\"GA\",\"GA\",\"GA\",\"GA\",\"GA\",\"GA\",\"GA\",\"GA\",\"GA\",\"GA\",\"GA\",\"GA\",\"GA\",\"GA\",\"GA\",\"HI\",\"HI\",\"HI\",\"HI\",\"ID\",\"ID\",\"ID\",\"ID\",\"ID\",\"ID\",\"IL\",\"IL\",\"IL\",\"IL\",\"IL\",\"IL\",\"IL\",\"IL\",\"IL\",\"IL\",\"IL\",\"IL\",\"IL\",\"IL\",\"IL\",\"IL\",\"IL\",\"IL\",\"IL\",\"IL\",\"IL\",\"IL\",\"IL\",\"IL\",\"IL\",\"IL\",\"IL\",\"IL\",\"IL\",\"IL\",\"IL\",\"IL\",\"IL\",\"IL\",\"IL\",\"IL\",\"IL\",\"IL\",\"IL\",\"IL\",\"IL\",\"IL\",\"IL\",\"IL\",\"IL\",\"IL\",\"IL\",\"IL\",\"IL\",\"IL\",\"IL\",\"IL\",\"IL\",\"IL\",\"IL\",\"IN\",\"IN\",\"IN\",\"IN\",\"IN\",\"IN\",\"IN\",\"IN\",\"IN\",\"IN\",\"IN\",\"IN\",\"IN\",\"IN\",\"IN\",\"IN\",\"IN\",\"IN\",\"IN\",\"IN\",\"IN\",\"IN\",\"IN\",\"IN\",\"IN\",\"IN\",\"IN\",\"IN\",\"IN\",\"IN\",\"IN\",\"IN\",\"IN\",\"IN\",\"IN\",\"IN\",\"IA\",\"IA\",\"IA\",\"IA\",\"IA\",\"IA\",\"IA\",\"IA\",\"IA\",\"IA\",\"IA\",\"IA\",\"IA\",\"IA\",\"IA\",\"IA\",\"IA\",\"IA\",\"IA\",\"IA\",\"IA\",\"IA\",\"IA\",\"IA\",\"IA\",\"IA\",\"IA\",\"IA\",\"IA\",\"KS\",\"KS\",\"KS\",\"KS\",\"KS\",\"KS\",\"KS\",\"KS\",\"KS\",\"KS\",\"KS\",\"KS\",\"KS\",\"KS\",\"KS\",\"KS\",\"KS\",\"KS\",\"KS\",\"KS\",\"KS\",\"KS\",\"KS\",\"KS\",\"KS\",\"KS\",\"KS\",\"KS\",\"KS\",\"KS\",\"KY\",\"KY\",\"KY\",\"KY\",\"KY\",\"KY\",\"KY\",\"KY\",\"KY\",\"KY\",\"KY\",\"KY\",\"KY\",\"KY\",\"KY\",\"KY\",\"KY\",\"KY\",\"KY\",\"KY\",\"KY\",\"KY\",\"KY\",\"KY\",\"KY\",\"KY\",\"KY\",\"KY\",\"KY\",\"KY\",\"KY\",\"KY\",\"LA\",\"LA\",\"LA\",\"LA\",\"LA\",\"LA\",\"LA\",\"LA\",\"LA\",\"LA\",\"LA\",\"LA\",\"LA\",\"LA\",\"LA\",\"LA\",\"LA\",\"LA\",\"LA\",\"LA\",\"LA\",\"LA\",\"LA\",\"LA\",\"LA\",\"LA\",\"LA\",\"LA\",\"LA\",\"LA\",\"LA\",\"LA\",\"LA\",\"LA\",\"LA\",\"ME\",\"ME\",\"ME\",\"ME\",\"ME\",\"ME\",\"ME\",\"ME\",\"ME\",\"ME\",\"MD\",\"MD\",\"MD\",\"MD\",\"MD\",\"MD\",\"MD\",\"MD\",\"MD\",\"MD\",\"MD\",\"MD\",\"MD\",\"MD\",\"MD\",\"MD\",\"MD\",\"MD\",\"MD\",\"MA\",\"MA\",\"MA\",\"MA\",\"MA\",\"MA\",\"MA\",\"MA\",\"MA\",\"MA\",\"MA\",\"MA\",\"MA\",\"MA\",\"MA\",\"MA\",\"MA\",\"MA\",\"MA\",\"MI\",\"MI\",\"MI\",\"MI\",\"MI\",\"MI\",\"MI\",\"MI\",\"MI\",\"MI\",\"MI\",\"MI\",\"MI\",\"MI\",\"MI\",\"MI\",\"MI\",\"MI\",\"MI\",\"MI\",\"MI\",\"MI\",\"MI\",\"MI\",\"MI\",\"MI\",\"MI\",\"MI\",\"MI\",\"MI\",\"MI\",\"MI\",\"MI\",\"MI\",\"MI\",\"MI\",\"MI\",\"MN\",\"MN\",\"MN\",\"MN\",\"MN\",\"MN\",\"MN\",\"MN\",\"MN\",\"MN\",\"MN\",\"MN\",\"MN\",\"MN\",\"MN\",\"MN\",\"MN\",\"MN\",\"MN\",\"MS\",\"MS\",\"MS\",\"MS\",\"MS\",\"MS\",\"MS\",\"MS\",\"MS\",\"MS\",\"MS\",\"MS\",\"MS\",\"MS\",\"MS\",\"MS\",\"MS\",\"MS\",\"MS\",\"MS\",\"MS\",\"MS\",\"MS\",\"MS\",\"MS\",\"MS\",\"MO\",\"MO\",\"MO\",\"MO\",\"MO\",\"MO\",\"MO\",\"MO\",\"MO\",\"MO\",\"MO\",\"MO\",\"MO\",\"MO\",\"MO\",\"MO\",\"MO\",\"MO\",\"MO\",\"MO\",\"MO\",\"MO\",\"MO\",\"MO\",\"MO\",\"MO\",\"MO\",\"MO\",\"MO\",\"MO\",\"MO\",\"MO\",\"MO\",\"MO\",\"MO\",\"MO\",\"MT\",\"MT\",\"MT\",\"MT\",\"MT\",\"MT\",\"MT\",\"MT\",\"NE\",\"NE\",\"NE\",\"NE\",\"NE\",\"NE\",\"NE\",\"NE\",\"NE\",\"NE\",\"NE\",\"NE\",\"NE\",\"NE\",\"NE\",\"NE\",\"NE\",\"NE\",\"NE\",\"NE\",\"NE\",\"NE\",\"NE\",\"NE\",\"NE\",\"NE\",\"NV\",\"NV\",\"NV\",\"NV\",\"NV\",\"NV\",\"NV\",\"NH\",\"NH\",\"NH\",\"NH\",\"NH\",\"NH\",\"NH\",\"NH\",\"NH\",\"NJ\",\"NJ\",\"NJ\",\"NJ\",\"NJ\",\"NJ\",\"NJ\",\"NJ\",\"NJ\",\"NJ\",\"NJ\",\"NJ\",\"NJ\",\"NJ\",\"NM\",\"NM\",\"NM\",\"NM\",\"NM\",\"NM\",\"NM\",\"NM\",\"NM\",\"NM\",\"NM\",\"NM\",\"NM\",\"NY\",\"NY\",\"NY\",\"NY\",\"NY\",\"NY\",\"NY\",\"NY\",\"NY\",\"NY\",\"NY\",\"NY\",\"NY\",\"NY\",\"NY\",\"NY\",\"NY\",\"NY\",\"NY\",\"NY\",\"NY\",\"NY\",\"NY\",\"NY\",\"NY\",\"NY\",\"NY\",\"NY\",\"NY\",\"NY\",\"NY\",\"NY\",\"NY\",\"NY\",\"NY\",\"NY\",\"NY\",\"NY\",\"NY\",\"NY\",\"NC\",\"NC\",\"NC\",\"NC\",\"NC\",\"NC\",\"NC\",\"NC\",\"NC\",\"NC\",\"NC\",\"NC\",\"NC\",\"NC\",\"NC\",\"NC\",\"NC\",\"NC\",\"NC\",\"NC\",\"NC\",\"NC\",\"NC\",\"NC\",\"NC\",\"NC\",\"NC\",\"NC\",\"NC\",\"NC\",\"NC\",\"NC\",\"NC\",\"NC\",\"NC\",\"NC\",\"ND\",\"ND\",\"ND\",\"ND\",\"ND\",\"ND\",\"ND\",\"ND\",\"OH\",\"OH\",\"OH\",\"OH\",\"OH\",\"OH\",\"OH\",\"OH\",\"OH\",\"OH\",\"OH\",\"OH\",\"OH\",\"OH\",\"OH\",\"OH\",\"OH\",\"OH\",\"OH\",\"OH\",\"OH\",\"OH\",\"OH\",\"OH\",\"OH\",\"OH\",\"OH\",\"OH\",\"OH\",\"OH\",\"OH\",\"OH\",\"OH\",\"OH\",\"OH\",\"OH\",\"OH\",\"OH\",\"OH\",\"OH\",\"OH\",\"OH\",\"OH\",\"OH\",\"OH\",\"OH\",\"OH\",\"OH\",\"OH\",\"OH\",\"OK\",\"OK\",\"OK\",\"OK\",\"OK\",\"OK\",\"OK\",\"OK\",\"OK\",\"OK\",\"OK\",\"OK\",\"OK\",\"OK\",\"OK\",\"OK\",\"OK\",\"OK\",\"OK\",\"OK\",\"OK\",\"OK\",\"OK\",\"OK\",\"OK\",\"OK\",\"OK\",\"OK\",\"OR\",\"OR\",\"OR\",\"OR\",\"OR\",\"OR\",\"OR\",\"OR\",\"OR\",\"OR\",\"OR\",\"OR\",\"OR\",\"OR\",\"OR\",\"OR\",\"OR\",\"OR\",\"OR\",\"OR\",\"OR\",\"OR\",\"OR\",\"PA\",\"PA\",\"PA\",\"PA\",\"PA\",\"PA\",\"PA\",\"PA\",\"PA\",\"PA\",\"PA\",\"PA\",\"PA\",\"PA\",\"PA\",\"PA\",\"PA\",\"PA\",\"PA\",\"PA\",\"PA\",\"PA\",\"PA\",\"PA\",\"PA\",\"PA\",\"PA\",\"PA\",\"PA\",\"PA\",\"PA\",\"PA\",\"PA\",\"PA\",\"PA\",\"PA\",\"PA\",\"PA\",\"PA\",\"PA\",\"PA\",\"PA\",\"PA\",\"PA\",\"PA\",\"PA\",\"PA\",\"PA\",\"PA\",\"PA\",\"PA\",\"PA\",\"PA\",\"RI\",\"RI\",\"RI\",\"SC\",\"SC\",\"SC\",\"SC\",\"SC\",\"SC\",\"SC\",\"SC\",\"SC\",\"SC\",\"SC\",\"SC\",\"SC\",\"SC\",\"SC\",\"SC\",\"SC\",\"SD\",\"SD\",\"SD\",\"SD\",\"SD\",\"SD\",\"TN\",\"TN\",\"TN\",\"TN\",\"TN\",\"TN\",\"TN\",\"TN\",\"TN\",\"TN\",\"TN\",\"TN\",\"TN\",\"TN\",\"TN\",\"TN\",\"TN\",\"TN\",\"TN\",\"TN\",\"TN\",\"TN\",\"TN\",\"TN\",\"TN\",\"TN\",\"TN\",\"TN\",\"TN\",\"TN\",\"TN\",\"TN\",\"TX\",\"TX\",\"TX\",\"TX\",\"TX\",\"TX\",\"TX\",\"TX\",\"TX\",\"TX\",\"TX\",\"TX\",\"TX\",\"TX\",\"TX\",\"TX\",\"TX\",\"TX\",\"TX\",\"TX\",\"TX\",\"TX\",\"TX\",\"TX\",\"TX\",\"TX\",\"TX\",\"TX\",\"TX\",\"TX\",\"TX\",\"TX\",\"TX\",\"TX\",\"TX\",\"TX\",\"TX\",\"TX\",\"TX\",\"TX\",\"TX\",\"TX\",\"TX\",\"TX\",\"TX\",\"TX\",\"TX\",\"TX\",\"TX\",\"TX\",\"TX\",\"TX\",\"TX\",\"TX\",\"TX\",\"TX\",\"TX\",\"TX\",\"TX\",\"TX\",\"TX\",\"TX\",\"TX\",\"TX\",\"TX\",\"TX\",\"TX\",\"TX\",\"TX\",\"TX\",\"TX\",\"TX\",\"TX\",\"TX\",\"TX\",\"TX\",\"TX\",\"TX\",\"TX\",\"TX\",\"TX\",\"TX\",\"UT\",\"UT\",\"UT\",\"UT\",\"UT\",\"UT\",\"UT\",\"VT\",\"VT\",\"VT\",\"VT\",\"VT\",\"VT\",\"VI\",\"VA\",\"VA\",\"VA\",\"VA\",\"VA\",\"VA\",\"VA\",\"VA\",\"VA\",\"VA\",\"VA\",\"VA\",\"VA\",\"VA\",\"VA\",\"VA\",\"VA\",\"VA\",\"VA\",\"VA\",\"VA\",\"VA\",\"VA\",\"VA\",\"WA\",\"WA\",\"WA\",\"WA\",\"WA\",\"WA\",\"WA\",\"WA\",\"WA\",\"WA\",\"WA\",\"WA\",\"WA\",\"WA\",\"WA\",\"WA\",\"WA\",\"WA\",\"WA\",\"WA\",\"WA\",\"WA\",\"WA\",\"WA\",\"WV\",\"WV\",\"WV\",\"WV\",\"WV\",\"WV\",\"WV\",\"WV\",\"WV\",\"WV\",\"WV\",\"WV\",\"WV\",\"WV\",\"WV\",\"WV\",\"WV\",\"WV\",\"WI\",\"WI\",\"WI\",\"WI\",\"WI\",\"WI\",\"WI\",\"WI\",\"WI\",\"WI\",\"WI\",\"WI\",\"WI\",\"WI\",\"WI\",\"WI\",\"WI\",\"WI\",\"WI\",\"WI\",\"WI\",\"WY\",\"WY\",\"WY\",\"WY\",\"WY\",\"WY\",\"WY\",\"WY\",\"WY\",\"TX\",\"TX\",\"TX\",\"TX\",\"TX\",\"TX\",\"TX\",\"TX\",\"TX\",\"TX\",\"TX\",\"TX\",\"TX\",\"AL\",\"AL\",\"AL\",\"AL\",\"AL\",\"AL\",\"AL\",\"AL\",\"AL\",\"AL\",\"AL\",\"AL\",\"AL\",\"AL\",\"AL\",\"AK\",\"AK\",\"AK\",\"AK\",\"AZ\",\"AZ\",\"AZ\",\"AZ\",\"AZ\",\"AZ\",\"AZ\",\"AZ\",\"AZ\",\"AZ\",\"AZ\",\"AZ\",\"AZ\",\"AZ\",\"AR\",\"AR\",\"AR\",\"AR\",\"AR\",\"AR\",\"AR\",\"AR\",\"AR\",\"CA\",\"CA\",\"CA\",\"CA\",\"CA\",\"CA\",\"CA\",\"CA\",\"CA\",\"CA\",\"CA\",\"CA\",\"CA\",\"CA\",\"CA\",\"CA\",\"CA\",\"CA\",\"CA\",\"CA\",\"CA\",\"CA\",\"CA\",\"CA\",\"CA\",\"CA\",\"CA\",\"CA\",\"CA\",\"CA\",\"CA\",\"CA\",\"CA\",\"CA\",\"CA\",\"CA\",\"CA\",\"CA\",\"CA\",\"CA\",\"CA\",\"CA\",\"CA\",\"CA\",\"CA\",\"CA\",\"CA\",\"CA\",\"CA\",\"CA\",\"CA\",\"CA\",\"CA\",\"CA\",\"CA\",\"CA\",\"CA\",\"CA\",\"CA\",\"CA\",\"CA\",\"CA\",\"CO\",\"CO\",\"CO\",\"CO\",\"CO\",\"CO\",\"CO\",\"CO\",\"CO\",\"CO\",\"CO\",\"CO\",\"CO\",\"CO\",\"CO\",\"CO\",\"CO\",\"CO\",\"CO\",\"CO\",\"CO\",\"CO\",\"CO\",\"CO\",\"CO\",\"CT\",\"CT\",\"CT\",\"CT\",\"CT\",\"CT\",\"CT\",\"CT\",\"CT\",\"DE\",\"FL\",\"FL\",\"FL\",\"FL\",\"FL\",\"FL\",\"FL\",\"FL\",\"FL\",\"FL\",\"FL\",\"FL\",\"FL\",\"FL\",\"FL\",\"FL\",\"FL\",\"FL\",\"FL\",\"FL\",\"FL\",\"FL\",\"FL\",\"FL\",\"FL\",\"FL\",\"FL\",\"FL\",\"GA\",\"GA\",\"GA\",\"GA\",\"GA\",\"GA\",\"GA\",\"GA\",\"GA\",\"GA\",\"GA\",\"GA\",\"GA\",\"GA\",\"GA\",\"GA\",\"GA\",\"GA\",\"GA\",\"GA\",\"GA\",\"GA\",\"GA\",\"GA\",\"GA\",\"GA\",\"HI\",\"HI\",\"HI\",\"HI\",\"HI\",\"ID\",\"ID\",\"ID\",\"ID\",\"ID\",\"ID\",\"ID\",\"ID\",\"ID\",\"ID\",\"ID\",\"IL\",\"IL\",\"IL\",\"IL\",\"IL\",\"IL\",\"IL\",\"IL\",\"IL\",\"IL\",\"IL\",\"IL\",\"IL\",\"IL\",\"IL\",\"IL\",\"IL\",\"IL\",\"IL\",\"IL\",\"IL\",\"IL\",\"IL\",\"IL\",\"IL\",\"IL\",\"IL\",\"IL\",\"IL\",\"IL\",\"IL\",\"IL\",\"IL\",\"IL\",\"IL\",\"IL\",\"IL\",\"IL\",\"IL\",\"IL\",\"IL\",\"IL\",\"IL\",\"IL\",\"IL\",\"IL\",\"IL\",\"IL\",\"IL\",\"IN\",\"IN\",\"IN\",\"IN\",\"IN\",\"IN\",\"IN\",\"IN\",\"IN\",\"IN\",\"IN\",\"IN\",\"IN\",\"IN\",\"IN\",\"IN\",\"IN\",\"IN\",\"IN\",\"IN\",\"IN\",\"IN\",\"IN\",\"IN\",\"IN\",\"IN\",\"IN\",\"IN\",\"IN\",\"IN\",\"IN\",\"IN\",\"IN\",\"IN\",\"IN\",\"IN\",\"IN\",\"IN\",\"IN\",\"IN\",\"IN\",\"IN\",\"IN\",\"IN\",\"IN\",\"IN\",\"IN\",\"IN\",\"IN\",\"IN\",\"IN\",\"IA\",\"IA\",\"IA\",\"IA\",\"IA\",\"IA\",\"IA\",\"IA\",\"IA\",\"IA\",\"IA\",\"IA\",\"IA\",\"IA\",\"IA\",\"IA\",\"IA\",\"IA\",\"IA\",\"IA\",\"IA\",\"IA\",\"IA\",\"IA\",\"IA\",\"IA\",\"IA\",\"IA\",\"IA\",\"IA\",\"IA\",\"IA\",\"IA\",\"IA\",\"IA\",\"IA\",\"KS\",\"KS\",\"KS\",\"KS\",\"KS\",\"KS\",\"KS\",\"KS\",\"KS\",\"KS\",\"KS\",\"KS\",\"KS\",\"KS\",\"KS\",\"KS\",\"KS\",\"KS\",\"KS\",\"KS\",\"KS\",\"KY\",\"KY\",\"KY\",\"KY\",\"KY\",\"KY\",\"KY\",\"KY\",\"KY\",\"KY\",\"KY\",\"KY\",\"KY\",\"KY\",\"KY\",\"KY\",\"KY\",\"KY\",\"KY\",\"KY\",\"KY\",\"LA\",\"LA\",\"LA\",\"LA\",\"LA\",\"LA\",\"LA\",\"LA\",\"LA\",\"LA\",\"LA\",\"LA\",\"LA\",\"LA\",\"LA\",\"LA\",\"LA\",\"LA\",\"LA\",\"LA\",\"ME\",\"ME\",\"ME\",\"ME\",\"ME\",\"ME\",\"ME\",\"ME\",\"ME\",\"ME\",\"ME\",\"ME\",\"ME\",\"ME\",\"MD\",\"MD\",\"MD\",\"MD\",\"MD\",\"MD\",\"MD\",\"MD\",\"MD\",\"MA\",\"MA\",\"MA\",\"MA\",\"MA\",\"MA\",\"MA\",\"MA\",\"MA\",\"MA\",\"MA\",\"MI\",\"MI\",\"MI\",\"MI\",\"MI\",\"MI\",\"MI\",\"MI\",\"MI\",\"MI\",\"MI\",\"MI\",\"MI\",\"MI\",\"MI\",\"MI\",\"MI\",\"MI\",\"MI\",\"MI\",\"MI\",\"MI\",\"MI\",\"MI\",\"MI\",\"MI\",\"MI\",\"MI\",\"MI\",\"MI\",\"MI\",\"MI\",\"MI\",\"MI\",\"MI\",\"MI\",\"MI\",\"MI\",\"MI\",\"MI\",\"MI\",\"MI\",\"MI\",\"MI\",\"MI\",\"MI\",\"MI\",\"MI\",\"MI\",\"MI\",\"MI\",\"MN\",\"MN\",\"MN\",\"MN\",\"MN\",\"MN\",\"MN\",\"MN\",\"MN\",\"MN\",\"MN\",\"MN\",\"MN\",\"MN\",\"MN\",\"MN\",\"MN\",\"MN\",\"MN\",\"MN\",\"MN\",\"MN\",\"MN\",\"MN\",\"MN\",\"MN\",\"MN\",\"MN\",\"MN\",\"MN\",\"MN\",\"MN\",\"MN\",\"MN\",\"MN\",\"MN\",\"MN\",\"MN\",\"MN\",\"MN\",\"MN\",\"MN\",\"MN\",\"MS\",\"MS\",\"MS\",\"MS\",\"MS\",\"MS\",\"MS\",\"MO\",\"MO\",\"MO\",\"MO\",\"MO\",\"MO\",\"MO\",\"MO\",\"MO\",\"MO\",\"MO\",\"MO\",\"MO\",\"MO\",\"MO\",\"MO\",\"MO\",\"MO\",\"MO\",\"MO\",\"MO\",\"MO\",\"MO\",\"MT\",\"MT\",\"MT\",\"MT\",\"MT\",\"MT\",\"MT\",\"MT\",\"MT\",\"MT\",\"MT\",\"MT\",\"NE\",\"NE\",\"NE\",\"NE\",\"NE\",\"NE\",\"NE\",\"NE\",\"NE\",\"NE\",\"NE\",\"NE\",\"NE\",\"NE\",\"NE\",\"NE\",\"NE\",\"NE\",\"NE\",\"NE\",\"NE\",\"NE\",\"NE\",\"NE\",\"NE\",\"NV\",\"NV\",\"NV\",\"NV\",\"NH\",\"NH\",\"NH\",\"NH\",\"NH\",\"NH\",\"NH\",\"NH\",\"NH\",\"NH\",\"NJ\",\"NJ\",\"NJ\",\"NJ\",\"NJ\",\"NJ\",\"NJ\",\"NJ\",\"NJ\",\"NJ\",\"NM\",\"NM\",\"NM\",\"NM\",\"NM\",\"NM\",\"NY\",\"NY\",\"NY\",\"NY\",\"NY\",\"NY\",\"NY\",\"NY\",\"NY\",\"NY\",\"NY\",\"NY\",\"NY\",\"NY\",\"NY\",\"NY\",\"NC\",\"NC\",\"NC\",\"NC\",\"NC\",\"NC\",\"NC\",\"NC\",\"NC\",\"NC\",\"NC\",\"NC\",\"NC\",\"NC\",\"NC\",\"NC\",\"NC\",\"NC\",\"NC\",\"NC\",\"NC\",\"NC\",\"NC\",\"NC\",\"NC\",\"NC\",\"ND\",\"ND\",\"ND\",\"ND\",\"ND\",\"ND\",\"ND\",\"ND\",\"OH\",\"OH\",\"OH\",\"OH\",\"OH\",\"OH\",\"OH\",\"OH\",\"OH\",\"OH\",\"OH\",\"OH\",\"OH\",\"OH\",\"OH\",\"OH\",\"OH\",\"OH\",\"OH\",\"OH\",\"OH\",\"OH\",\"OH\",\"OH\",\"OH\",\"OH\",\"OH\",\"OH\",\"OH\",\"OH\",\"OH\",\"OH\",\"OH\",\"OH\",\"OH\",\"OH\",\"OH\",\"OH\",\"OH\",\"OH\",\"OH\",\"OH\",\"OH\",\"OH\",\"OH\",\"OH\",\"OH\",\"OH\",\"OH\",\"OH\",\"OH\",\"OH\",\"OK\",\"OK\",\"OK\",\"OK\",\"OK\",\"OK\",\"OK\",\"OK\",\"OK\",\"OK\",\"OK\",\"OK\",\"OK\",\"OK\",\"OK\",\"OK\",\"OK\",\"OK\",\"OK\",\"OK\",\"OK\",\"OK\",\"OK\",\"OK\",\"OR\",\"OR\",\"OR\",\"OR\",\"OR\",\"OR\",\"OR\",\"OR\",\"OR\",\"OR\",\"OR\",\"OR\",\"OR\",\"OR\",\"OR\",\"OR\",\"OR\",\"OR\",\"OR\",\"OR\",\"OR\",\"OR\",\"PA\",\"PA\",\"PA\",\"PA\",\"PA\",\"PA\",\"PA\",\"PA\",\"PA\",\"PA\",\"PA\",\"PA\",\"PA\",\"PA\",\"PA\",\"PA\",\"PA\",\"PA\",\"PA\",\"PA\",\"PA\",\"PA\",\"PA\",\"PA\",\"PA\",\"PA\",\"PA\",\"PA\",\"PA\",\"PA\",\"PA\",\"PA\",\"PA\",\"PA\",\"PA\",\"PA\",\"RI\",\"RI\",\"SC\",\"SC\",\"SC\",\"SC\",\"SC\",\"SC\",\"SC\",\"SC\",\"SC\",\"SC\",\"SC\",\"SC\",\"SC\",\"SC\",\"SC\",\"SD\",\"SD\",\"SD\",\"SD\",\"SD\",\"SD\",\"SD\",\"TN\",\"TN\",\"TN\",\"TN\",\"TN\",\"TN\",\"TN\",\"TN\",\"TN\",\"TN\",\"TN\",\"TN\",\"TN\",\"TN\",\"TN\",\"TN\",\"TN\",\"TN\",\"TN\",\"TN\",\"TN\",\"TX\",\"TX\",\"TX\",\"TX\",\"TX\",\"TX\",\"TX\",\"TX\",\"TX\",\"TX\",\"TX\",\"TX\",\"TX\",\"TX\",\"TX\",\"TX\",\"TX\",\"TX\",\"TX\",\"TX\",\"TX\",\"TX\",\"TX\",\"TX\",\"TX\",\"TX\",\"TX\",\"TX\",\"TX\",\"TX\",\"TX\",\"TX\",\"TX\",\"TX\",\"TX\",\"TX\",\"TX\",\"TX\",\"TX\",\"TX\",\"TX\",\"TX\",\"TX\",\"TX\",\"TX\",\"TX\",\"TX\",\"TX\",\"TX\",\"TX\",\"TX\",\"TX\",\"TX\",\"TX\",\"TX\",\"TX\",\"TX\",\"TX\",\"TX\",\"TX\",\"TX\",\"TX\",\"TX\",\"TX\",\"TX\",\"TX\",\"TX\",\"TX\",\"TX\",\"TX\",\"TX\",\"TX\",\"TX\",\"UT\",\"UT\",\"UT\",\"UT\",\"UT\",\"UT\",\"UT\",\"UT\",\"UT\",\"UT\",\"UT\",\"UT\",\"UT\",\"UT\",\"UT\",\"UT\",\"UT\",\"UT\",\"UT\",\"UT\",\"UT\",\"VT\",\"VT\",\"VT\",\"VT\",\"VT\",\"VA\",\"VA\",\"VA\",\"VA\",\"VA\",\"VA\",\"VA\",\"VA\",\"VA\",\"VA\",\"VA\",\"VA\",\"VA\",\"VA\",\"VA\",\"VA\",\"VA\",\"VA\",\"VA\",\"VA\",\"VA\",\"VA\",\"VA\",\"VA\",\"WA\",\"WA\",\"WA\",\"WA\",\"WA\",\"WA\",\"WA\",\"WA\",\"WA\",\"WA\",\"WA\",\"WA\",\"WA\",\"WA\",\"WA\",\"WA\",\"WA\",\"WA\",\"WA\",\"WV\",\"WV\",\"WV\",\"WV\",\"WV\",\"WV\",\"WV\",\"WV\",\"WI\",\"WI\",\"WI\",\"WI\",\"WI\",\"WI\",\"WI\",\"WI\",\"WI\",\"WI\",\"WI\",\"WI\",\"WI\",\"WI\",\"WI\",\"WI\",\"WI\",\"WI\",\"WI\",\"WI\",\"WI\",\"WI\",\"WI\",\"WI\",\"WI\",\"WI\",\"WI\",\"WI\",\"WI\",\"WI\",\"WI\",\"WI\",\"WI\",\"WI\",\"WI\",\"WI\",\"WI\",\"WI\",\"WI\",\"WI\",\"WI\",\"WI\",\"WI\",\"WI\",\"WI\",\"WI\",\"WI\",\"WI\",\"WI\",\"WI\",\"WI\",\"WI\",\"WI\",\"WI\",\"WI\",\"WI\",\"WI\",\"WI\",\"WI\",\"WY\",\"WY\",\"WY\",\"WY\",\"WY\",\"WY\",\"TX\",\"TX\",\"TX\",\"TX\",\"TX\",\"TX\",\"TX\",\"TX\",\"TX\",\"TX\",\"TX\",\"AL\",\"AL\",\"AL\",\"AL\",\"AL\",\"AK\",\"AK\",\"AZ\",\"AZ\",\"AZ\",\"AZ\",\"AR\",\"AR\",\"CA\",\"CA\",\"CA\",\"CA\",\"CA\",\"CA\",\"CA\",\"CA\",\"CA\",\"CA\",\"CA\",\"CA\",\"CA\",\"CA\",\"CA\",\"CA\",\"CA\",\"CA\",\"CA\",\"CA\",\"CA\",\"CO\",\"CO\",\"CO\",\"CO\",\"CO\",\"CO\",\"FL\",\"FL\",\"FL\",\"FL\",\"FL\",\"FL\",\"FL\",\"FL\",\"FL\",\"GA\",\"GA\",\"GA\",\"GA\",\"GA\",\"HI\",\"HI\",\"HI\",\"ID\",\"ID\",\"ID\",\"ID\",\"ID\",\"IL\",\"IL\",\"IL\",\"IL\",\"IL\",\"IL\",\"IL\",\"IL\",\"IL\",\"IL\",\"IL\",\"IL\",\"IN\",\"IN\",\"IN\",\"IN\",\"IN\",\"IN\",\"IN\",\"IN\",\"IN\",\"IN\",\"IN\",\"IN\",\"IN\",\"IA\",\"IA\",\"IA\",\"IA\",\"IA\",\"IA\",\"IA\",\"KS\",\"KS\",\"KS\",\"KS\",\"KS\",\"KS\",\"KS\",\"KS\",\"KY\",\"LA\",\"LA\",\"LA\",\"ME\",\"ME\",\"ME\",\"MD\",\"MD\",\"MD\",\"MD\",\"MD\",\"MA\",\"MA\",\"MA\",\"MA\",\"MA\",\"MA\",\"MA\",\"MI\",\"MI\",\"MI\",\"MI\",\"MI\",\"MI\",\"MI\",\"MI\",\"MI\",\"MI\",\"MI\",\"MN\",\"MN\",\"MN\",\"MN\",\"MN\",\"MN\",\"MN\",\"MN\",\"MS\",\"MO\",\"MO\",\"MO\",\"MO\",\"MO\",\"MO\",\"MT\",\"MT\",\"MT\",\"NE\",\"NE\",\"NH\",\"NH\",\"NH\",\"NJ\",\"NJ\",\"NJ\",\"NJ\",\"NJ\",\"NJ\",\"NY\",\"NC\",\"NC\",\"NC\",\"NC\",\"NC\",\"NC\",\"NC\",\"OH\",\"OH\",\"OH\",\"OH\",\"OH\",\"OH\",\"OH\",\"OH\",\"OH\",\"OH\",\"OH\",\"OH\",\"OH\",\"OH\",\"OH\",\"OH\",\"OH\",\"OH\",\"OH\",\"OH\",\"OK\",\"OK\",\"OK\",\"OK\",\"OK\",\"OK\",\"OK\",\"OK\",\"OK\",\"OR\",\"OR\",\"OR\",\"PA\",\"PA\",\"PA\",\"PA\",\"PA\",\"PA\",\"PA\",\"PA\",\"PA\",\"PA\",\"PA\",\"RI\",\"RI\",\"SC\",\"SC\",\"SC\",\"SC\",\"SC\",\"SD\",\"SD\",\"SD\",\"SD\",\"SD\",\"TN\",\"TX\",\"TX\",\"TX\",\"TX\",\"TX\",\"TX\",\"TX\",\"TX\",\"TX\",\"TX\",\"TX\",\"TX\",\"TX\",\"TX\",\"TX\",\"TX\",\"UT\",\"UT\",\"UT\",\"UT\",\"VA\",\"VA\",\"VA\",\"VA\",\"VA\",\"VA\",\"VA\",\"VA\",\"VA\",\"WA\",\"WA\",\"WA\",\"WA\",\"WA\",\"WA\",\"WV\",\"WI\",\"WI\",\"WI\",\"WI\",\"WI\",\"WI\",\"WI\",\"WI\",\"WI\",\"WI\",\"WI\",\"WI\",\"WI\",\"WI\",\"WI\",\"WI\",\"WI\",\"WI\",\"WI\",\"WI\",\"WI\",\"WI\",\"WY\",\"TX\",\"TX\",\"TX\",\"TX\",\"TX\",\"TX\",\"TX\",\"TX\"],\"z\":[11610.20253164557,11610.20253164557,11610.20253164557,11610.20253164557,11610.20253164557,19225.272727272728,19225.272727272728,9710.709677419354,9710.709677419354,9710.709677419354,9710.709677419354,9710.709677419354,9710.709677419354,9710.709677419354,9710.709677419354,16172.510135135135,16172.510135135135,16172.510135135135,16172.510135135135,16172.510135135135,16172.510135135135,16172.510135135135,16172.510135135135,16172.510135135135,16172.510135135135,16172.510135135135,16172.510135135135,16172.510135135135,16172.510135135135,16172.510135135135,16172.510135135135,16172.510135135135,16172.510135135135,16172.510135135135,16172.510135135135,16172.510135135135,16172.510135135135,16172.510135135135,16172.510135135135,21553.678571428572,21553.678571428572,21553.678571428572,21553.678571428572,21553.678571428572,21553.678571428572,23816.428571428572,23816.428571428572,23816.428571428572,23816.428571428572,23816.428571428572,21691.065088757397,21691.065088757397,21691.065088757397,21691.065088757397,21691.065088757397,21691.065088757397,21691.065088757397,21691.065088757397,21691.065088757397,21691.065088757397,21691.065088757397,21691.065088757397,21691.065088757397,21691.065088757397,21691.065088757397,21691.065088757397,21691.065088757397,21691.065088757397,21691.065088757397,21691.065088757397,21691.065088757397,21691.065088757397,21691.065088757397,21691.065088757397,21691.065088757397,21691.065088757397,21691.065088757397,21691.065088757397,21691.065088757397,21691.065088757397,21691.065088757397,21691.065088757397,13601.861111111111,13601.861111111111,13601.861111111111,13601.861111111111,13601.861111111111,13601.861111111111,13601.861111111111,13601.861111111111,13601.861111111111,13601.861111111111,13601.861111111111,13601.861111111111,15048.907975460123,15048.907975460123,15048.907975460123,15048.907975460123,15048.907975460123,15048.907975460123,15048.907975460123,15048.907975460123,15048.907975460123,15048.907975460123,15048.907975460123,15048.907975460123,15048.907975460123,15048.907975460123,15048.907975460123,15048.907975460123,6944.75,8184.1,12657.59756097561,12657.59756097561,12657.59756097561,12657.59756097561,12657.59756097561,12657.59756097561,11458.012345679012,11458.012345679012,21513.577777777777,21513.577777777777,21513.577777777777,21513.577777777777,21513.577777777777,21513.577777777777,21334.535714285714,21334.535714285714,21334.535714285714,21334.535714285714,13720.120689655172,13720.120689655172,13720.120689655172,13720.120689655172,6635.973684210527,8934.338461538462,8934.338461538462,8934.338461538462,8934.338461538462,8934.338461538462,8934.338461538462,13719.41573033708,13719.41573033708,13719.41573033708,13719.41573033708,13719.41573033708,13719.41573033708,13719.41573033708,8018.684210526316,17514.0,17514.0,17514.0,17514.0,17514.0,17514.0,17514.0,17514.0,17514.0,17514.0,25278.109375,25278.109375,25278.109375,25278.109375,25278.109375,25278.109375,25278.109375,25278.109375,9254.2,9254.2,9254.2,18786.366666666665,18786.366666666665,18786.366666666665,18786.366666666665,18786.366666666665,18786.366666666665,18786.366666666665,18786.366666666665,18786.366666666665,18786.366666666665,18786.366666666665,18786.366666666665,18786.366666666665,18786.366666666665,18786.366666666665,18786.366666666665,18786.366666666665,18786.366666666665,18786.366666666665,18786.366666666665,18786.366666666665,18786.366666666665,18786.366666666665,18786.366666666665,18786.366666666665,18786.366666666665,18786.366666666665,18786.366666666665,18786.366666666665,18786.366666666665,18786.366666666665,18786.366666666665,18786.366666666665,18786.366666666665,18786.366666666665,18786.366666666665,18786.366666666665,18786.366666666665,18786.366666666665,18786.366666666665,18786.366666666665,18786.366666666665,18786.366666666665,18786.366666666665,18786.366666666665,18786.366666666665,18786.366666666665,18786.366666666665,17598.81914893617,17598.81914893617,17598.81914893617,17598.81914893617,17598.81914893617,17598.81914893617,17598.81914893617,9304.1,9304.1,14425.609589041096,14425.609589041096,8960.164705882353,8960.164705882353,8960.164705882353,8960.164705882353,8960.164705882353,17518.746666666666,17518.746666666666,17518.746666666666,17518.746666666666,17518.746666666666,17518.746666666666,17518.746666666666,17518.746666666666,17518.746666666666,17518.746666666666,17518.746666666666,17518.746666666666,17518.746666666666,17034.833333333332,17034.833333333332,17034.833333333332,13818.927272727273,13818.927272727273,13818.927272727273,12326.89010989011,12326.89010989011,12326.89010989011,12326.89010989011,12326.89010989011,12326.89010989011,12326.89010989011,12326.89010989011,12326.89010989011,12326.89010989011,16034.142857142857,16034.142857142857,16034.142857142857,16034.142857142857,16034.142857142857,16034.142857142857,16034.142857142857,16034.142857142857,16034.142857142857,16034.142857142857,18986.66233766234,18986.66233766234,18986.66233766234,15031.85294117647,15031.85294117647,14540.358974358975,14540.358974358975,10571.481481481482,11610.20253164557,11610.20253164557,11610.20253164557,11610.20253164557,11610.20253164557,11610.20253164557,11610.20253164557,11610.20253164557,11610.20253164557,11610.20253164557,11610.20253164557,11610.20253164557,11610.20253164557,11610.20253164557,11610.20253164557,11610.20253164557,11610.20253164557,11610.20253164557,11610.20253164557,11610.20253164557,11610.20253164557,11610.20253164557,11610.20253164557,11596.5,19225.272727272728,19225.272727272728,19225.272727272728,19225.272727272728,19225.272727272728,19225.272727272728,19225.272727272728,19225.272727272728,19225.272727272728,19225.272727272728,19225.272727272728,19225.272727272728,19225.272727272728,19225.272727272728,19225.272727272728,19225.272727272728,9710.709677419354,9710.709677419354,9710.709677419354,9710.709677419354,9710.709677419354,9710.709677419354,9710.709677419354,9710.709677419354,9710.709677419354,9710.709677419354,9710.709677419354,9710.709677419354,9710.709677419354,9710.709677419354,9710.709677419354,9710.709677419354,9710.709677419354,9710.709677419354,9710.709677419354,9710.709677419354,16172.510135135135,16172.510135135135,16172.510135135135,16172.510135135135,16172.510135135135,16172.510135135135,16172.510135135135,16172.510135135135,16172.510135135135,16172.510135135135,16172.510135135135,16172.510135135135,16172.510135135135,16172.510135135135,16172.510135135135,16172.510135135135,16172.510135135135,16172.510135135135,16172.510135135135,16172.510135135135,16172.510135135135,16172.510135135135,16172.510135135135,16172.510135135135,16172.510135135135,16172.510135135135,16172.510135135135,16172.510135135135,16172.510135135135,16172.510135135135,16172.510135135135,16172.510135135135,16172.510135135135,16172.510135135135,16172.510135135135,16172.510135135135,16172.510135135135,16172.510135135135,16172.510135135135,16172.510135135135,16172.510135135135,16172.510135135135,16172.510135135135,16172.510135135135,16172.510135135135,16172.510135135135,16172.510135135135,16172.510135135135,16172.510135135135,16172.510135135135,16172.510135135135,16172.510135135135,16172.510135135135,16172.510135135135,16172.510135135135,16172.510135135135,16172.510135135135,16172.510135135135,16172.510135135135,16172.510135135135,16172.510135135135,16172.510135135135,16172.510135135135,16172.510135135135,16172.510135135135,16172.510135135135,16172.510135135135,16172.510135135135,16172.510135135135,16172.510135135135,16172.510135135135,16172.510135135135,16172.510135135135,16172.510135135135,16172.510135135135,16172.510135135135,16172.510135135135,16172.510135135135,16172.510135135135,16172.510135135135,16172.510135135135,16172.510135135135,16172.510135135135,16172.510135135135,16172.510135135135,16172.510135135135,16172.510135135135,16172.510135135135,16172.510135135135,16172.510135135135,16172.510135135135,16172.510135135135,16172.510135135135,16172.510135135135,16172.510135135135,16172.510135135135,13464.087719298246,13464.087719298246,13464.087719298246,21553.678571428572,21553.678571428572,21553.678571428572,21553.678571428572,25066.666666666668,25066.666666666668,23816.428571428572,21691.065088757397,21691.065088757397,21691.065088757397,21691.065088757397,21691.065088757397,21691.065088757397,21691.065088757397,21691.065088757397,21691.065088757397,21691.065088757397,21691.065088757397,21691.065088757397,21691.065088757397,21691.065088757397,21691.065088757397,21691.065088757397,21691.065088757397,21691.065088757397,21691.065088757397,21691.065088757397,21691.065088757397,21691.065088757397,21691.065088757397,21691.065088757397,21691.065088757397,21691.065088757397,21691.065088757397,21691.065088757397,21691.065088757397,21691.065088757397,21691.065088757397,21691.065088757397,21691.065088757397,21691.065088757397,21691.065088757397,21691.065088757397,21691.065088757397,21691.065088757397,21691.065088757397,21691.065088757397,21691.065088757397,21691.065088757397,21691.065088757397,21691.065088757397,21691.065088757397,21691.065088757397,21691.065088757397,21691.065088757397,21691.065088757397,21691.065088757397,21691.065088757397,21691.065088757397,21691.065088757397,21691.065088757397,21691.065088757397,21691.065088757397,21691.065088757397,21691.065088757397,21691.065088757397,21691.065088757397,13601.861111111111,13601.861111111111,13601.861111111111,13601.861111111111,13601.861111111111,13601.861111111111,13601.861111111111,13601.861111111111,13601.861111111111,13601.861111111111,13601.861111111111,13601.861111111111,13601.861111111111,13601.861111111111,13601.861111111111,13601.861111111111,13601.861111111111,13601.861111111111,13601.861111111111,13601.861111111111,13601.861111111111,13601.861111111111,13601.861111111111,15220.923076923076,8181.12,8181.12,8181.12,15048.907975460123,15048.907975460123,15048.907975460123,15048.907975460123,15048.907975460123,15048.907975460123,15048.907975460123,15048.907975460123,15048.907975460123,15048.907975460123,15048.907975460123,15048.907975460123,15048.907975460123,15048.907975460123,15048.907975460123,15048.907975460123,15048.907975460123,15048.907975460123,15048.907975460123,15048.907975460123,15048.907975460123,15048.907975460123,15048.907975460123,15048.907975460123,15048.907975460123,15048.907975460123,15048.907975460123,15048.907975460123,15048.907975460123,15048.907975460123,15048.907975460123,12750.318181818182,12750.318181818182,12750.318181818182,12750.318181818182,12750.318181818182,12750.318181818182,12750.318181818182,12750.318181818182,12750.318181818182,12750.318181818182,6944.75,6944.75,6944.75,6944.75,6944.75,6944.75,6944.75,6944.75,6944.75,6944.75,6944.75,8184.1,8184.1,8184.1,8184.1,8184.1,8184.1,8184.1,8184.1,8184.1,8184.1,12657.59756097561,12657.59756097561,12657.59756097561,12657.59756097561,12657.59756097561,12657.59756097561,12657.59756097561,12657.59756097561,12657.59756097561,12657.59756097561,12657.59756097561,12657.59756097561,12657.59756097561,12657.59756097561,12657.59756097561,12657.59756097561,12657.59756097561,12657.59756097561,12657.59756097561,12657.59756097561,12657.59756097561,12657.59756097561,11458.012345679012,11458.012345679012,11458.012345679012,11458.012345679012,11458.012345679012,11458.012345679012,11458.012345679012,11458.012345679012,11458.012345679012,11458.012345679012,11458.012345679012,11458.012345679012,11458.012345679012,11458.012345679012,11458.012345679012,11458.012345679012,11458.012345679012,11458.012345679012,11458.012345679012,11458.012345679012,11458.012345679012,17917.53125,17917.53125,17917.53125,17917.53125,17917.53125,21513.577777777777,21513.577777777777,21513.577777777777,21513.577777777777,21513.577777777777,21513.577777777777,21334.535714285714,21334.535714285714,21334.535714285714,21334.535714285714,21334.535714285714,21334.535714285714,21334.535714285714,21334.535714285714,21334.535714285714,21334.535714285714,21334.535714285714,21334.535714285714,21334.535714285714,21334.535714285714,21334.535714285714,13720.120689655172,13720.120689655172,13720.120689655172,13720.120689655172,13720.120689655172,13720.120689655172,13720.120689655172,13720.120689655172,13720.120689655172,13720.120689655172,13720.120689655172,13720.120689655172,13720.120689655172,6635.973684210527,6635.973684210527,6635.973684210527,6635.973684210527,6635.973684210527,8934.338461538462,8934.338461538462,8934.338461538462,8934.338461538462,8934.338461538462,8934.338461538462,8934.338461538462,8934.338461538462,8934.338461538462,8934.338461538462,8934.338461538462,8934.338461538462,8934.338461538462,8934.338461538462,8934.338461538462,8934.338461538462,8934.338461538462,8934.338461538462,8934.338461538462,8934.338461538462,8934.338461538462,8934.338461538462,8934.338461538462,8934.338461538462,8934.338461538462,13719.41573033708,13719.41573033708,13719.41573033708,13719.41573033708,13719.41573033708,13719.41573033708,13719.41573033708,13719.41573033708,13719.41573033708,13719.41573033708,13719.41573033708,13719.41573033708,13719.41573033708,13719.41573033708,13719.41573033708,13719.41573033708,13719.41573033708,8331.6,8331.6,8018.684210526316,8018.684210526316,8018.684210526316,17514.0,17514.0,17514.0,17514.0,17514.0,17514.0,15502.23076923077,15502.23076923077,15502.23076923077,15502.23076923077,25278.109375,25278.109375,25278.109375,25278.109375,25278.109375,25278.109375,25278.109375,25278.109375,25278.109375,25278.109375,25278.109375,25278.109375,25278.109375,25278.109375,25278.109375,25278.109375,25278.109375,25278.109375,25278.109375,25278.109375,25278.109375,25278.109375,25278.109375,25278.109375,25278.109375,25278.109375,9254.2,9254.2,9254.2,9254.2,9254.2,9254.2,9254.2,9254.2,18786.366666666665,18786.366666666665,18786.366666666665,18786.366666666665,18786.366666666665,18786.366666666665,18786.366666666665,18786.366666666665,18786.366666666665,18786.366666666665,18786.366666666665,18786.366666666665,18786.366666666665,18786.366666666665,18786.366666666665,18786.366666666665,18786.366666666665,18786.366666666665,18786.366666666665,18786.366666666665,18786.366666666665,18786.366666666665,18786.366666666665,18786.366666666665,18786.366666666665,18786.366666666665,18786.366666666665,18786.366666666665,18786.366666666665,18786.366666666665,18786.366666666665,18786.366666666665,18786.366666666665,18786.366666666665,18786.366666666665,18786.366666666665,18786.366666666665,18786.366666666665,18786.366666666665,18786.366666666665,18786.366666666665,18786.366666666665,18786.366666666665,18786.366666666665,18786.366666666665,17598.81914893617,17598.81914893617,17598.81914893617,17598.81914893617,17598.81914893617,17598.81914893617,17598.81914893617,17598.81914893617,17598.81914893617,17598.81914893617,17598.81914893617,17598.81914893617,17598.81914893617,17598.81914893617,17598.81914893617,17598.81914893617,17598.81914893617,17598.81914893617,9304.1,9304.1,14425.609589041096,14425.609589041096,14425.609589041096,14425.609589041096,14425.609589041096,14425.609589041096,14425.609589041096,14425.609589041096,14425.609589041096,14425.609589041096,14425.609589041096,14425.609589041096,14425.609589041096,14425.609589041096,14425.609589041096,14425.609589041096,14425.609589041096,14425.609589041096,14425.609589041096,14425.609589041096,14425.609589041096,14425.609589041096,8960.164705882353,8960.164705882353,8960.164705882353,8960.164705882353,8960.164705882353,8960.164705882353,8960.164705882353,8960.164705882353,8960.164705882353,8960.164705882353,8960.164705882353,8960.164705882353,8960.164705882353,8960.164705882353,8960.164705882353,8960.164705882353,8960.164705882353,8960.164705882353,8960.164705882353,10821.211538461539,10821.211538461539,10821.211538461539,10821.211538461539,17518.746666666666,17518.746666666666,17518.746666666666,17518.746666666666,17518.746666666666,17518.746666666666,17518.746666666666,17518.746666666666,17518.746666666666,17518.746666666666,17518.746666666666,17518.746666666666,17518.746666666666,17518.746666666666,17518.746666666666,17518.746666666666,17518.746666666666,17518.746666666666,17518.746666666666,17518.746666666666,17518.746666666666,17518.746666666666,17518.746666666666,17518.746666666666,17518.746666666666,17518.746666666666,17518.746666666666,17518.746666666666,17518.746666666666,17518.746666666666,17518.746666666666,17518.746666666666,17518.746666666666,17518.746666666666,17518.746666666666,17518.746666666666,17518.746666666666,17034.833333333332,17034.833333333332,17034.833333333332,20879.7,20879.7,20879.7,13818.927272727273,13818.927272727273,13818.927272727273,13818.927272727273,13818.927272727273,13818.927272727273,13818.927272727273,13818.927272727273,13818.927272727273,13818.927272727273,13818.927272727273,13818.927272727273,13818.927272727273,13818.927272727273,13818.927272727273,9886.263157894737,12326.89010989011,12326.89010989011,12326.89010989011,12326.89010989011,12326.89010989011,12326.89010989011,12326.89010989011,12326.89010989011,12326.89010989011,12326.89010989011,12326.89010989011,12326.89010989011,12326.89010989011,12326.89010989011,12326.89010989011,12326.89010989011,12326.89010989011,12326.89010989011,12326.89010989011,12326.89010989011,12326.89010989011,12326.89010989011,12326.89010989011,12326.89010989011,12326.89010989011,12326.89010989011,12326.89010989011,16034.142857142857,16034.142857142857,16034.142857142857,16034.142857142857,16034.142857142857,16034.142857142857,16034.142857142857,16034.142857142857,16034.142857142857,16034.142857142857,16034.142857142857,16034.142857142857,16034.142857142857,16034.142857142857,16034.142857142857,16034.142857142857,16034.142857142857,16034.142857142857,16034.142857142857,16034.142857142857,16034.142857142857,16034.142857142857,16034.142857142857,16034.142857142857,16034.142857142857,16034.142857142857,16034.142857142857,16034.142857142857,16034.142857142857,16034.142857142857,16034.142857142857,16034.142857142857,16034.142857142857,16034.142857142857,16034.142857142857,16034.142857142857,16034.142857142857,16034.142857142857,16034.142857142857,16034.142857142857,16034.142857142857,16034.142857142857,16034.142857142857,16034.142857142857,16034.142857142857,16034.142857142857,16034.142857142857,16034.142857142857,16034.142857142857,16034.142857142857,16034.142857142857,9963.823529411764,9963.823529411764,15377.75,19835.5,18986.66233766234,18986.66233766234,18986.66233766234,18986.66233766234,18986.66233766234,18986.66233766234,18986.66233766234,18986.66233766234,18986.66233766234,18986.66233766234,18986.66233766234,18986.66233766234,18986.66233766234,18986.66233766234,18986.66233766234,18986.66233766234,18986.66233766234,15031.85294117647,15031.85294117647,15031.85294117647,15031.85294117647,15031.85294117647,15031.85294117647,15031.85294117647,15031.85294117647,15031.85294117647,15031.85294117647,15031.85294117647,15031.85294117647,15031.85294117647,15031.85294117647,15031.85294117647,15031.85294117647,15031.85294117647,14540.358974358975,14540.358974358975,14540.358974358975,14540.358974358975,14540.358974358975,14540.358974358975,14540.358974358975,14540.358974358975,14540.358974358975,14540.358974358975,10571.481481481482,10571.481481481482,10571.481481481482,10571.481481481482,10571.481481481482,5208.611111111111,5208.611111111111,16034.142857142857,16034.142857142857,11610.20253164557,11610.20253164557,11610.20253164557,11610.20253164557,11610.20253164557,11610.20253164557,11610.20253164557,11610.20253164557,11610.20253164557,11610.20253164557,11610.20253164557,11610.20253164557,11610.20253164557,11610.20253164557,11610.20253164557,11610.20253164557,11610.20253164557,11610.20253164557,11610.20253164557,11610.20253164557,11610.20253164557,11610.20253164557,11610.20253164557,11610.20253164557,11610.20253164557,11610.20253164557,11610.20253164557,11610.20253164557,11610.20253164557,11610.20253164557,11610.20253164557,11596.5,11596.5,11596.5,19225.272727272728,19225.272727272728,19225.272727272728,19225.272727272728,19225.272727272728,19225.272727272728,19225.272727272728,19225.272727272728,19225.272727272728,19225.272727272728,19225.272727272728,19225.272727272728,19225.272727272728,19225.272727272728,19225.272727272728,19225.272727272728,19225.272727272728,19225.272727272728,19225.272727272728,9710.709677419354,9710.709677419354,9710.709677419354,9710.709677419354,9710.709677419354,9710.709677419354,9710.709677419354,9710.709677419354,9710.709677419354,9710.709677419354,9710.709677419354,9710.709677419354,9710.709677419354,9710.709677419354,9710.709677419354,9710.709677419354,9710.709677419354,9710.709677419354,9710.709677419354,9710.709677419354,9710.709677419354,9710.709677419354,9710.709677419354,16172.510135135135,16172.510135135135,16172.510135135135,16172.510135135135,16172.510135135135,16172.510135135135,16172.510135135135,16172.510135135135,16172.510135135135,16172.510135135135,16172.510135135135,16172.510135135135,16172.510135135135,16172.510135135135,16172.510135135135,16172.510135135135,16172.510135135135,16172.510135135135,16172.510135135135,16172.510135135135,16172.510135135135,16172.510135135135,16172.510135135135,16172.510135135135,16172.510135135135,16172.510135135135,16172.510135135135,16172.510135135135,16172.510135135135,16172.510135135135,16172.510135135135,16172.510135135135,16172.510135135135,16172.510135135135,16172.510135135135,16172.510135135135,16172.510135135135,16172.510135135135,16172.510135135135,16172.510135135135,16172.510135135135,16172.510135135135,16172.510135135135,16172.510135135135,16172.510135135135,16172.510135135135,16172.510135135135,16172.510135135135,16172.510135135135,16172.510135135135,16172.510135135135,16172.510135135135,16172.510135135135,16172.510135135135,16172.510135135135,16172.510135135135,16172.510135135135,16172.510135135135,16172.510135135135,16172.510135135135,16172.510135135135,16172.510135135135,16172.510135135135,16172.510135135135,16172.510135135135,16172.510135135135,16172.510135135135,16172.510135135135,16172.510135135135,16172.510135135135,16172.510135135135,16172.510135135135,16172.510135135135,16172.510135135135,16172.510135135135,16172.510135135135,16172.510135135135,16172.510135135135,16172.510135135135,16172.510135135135,16172.510135135135,16172.510135135135,16172.510135135135,16172.510135135135,16172.510135135135,16172.510135135135,16172.510135135135,16172.510135135135,16172.510135135135,16172.510135135135,16172.510135135135,16172.510135135135,16172.510135135135,13464.087719298246,13464.087719298246,13464.087719298246,13464.087719298246,13464.087719298246,13464.087719298246,13464.087719298246,13464.087719298246,13464.087719298246,13464.087719298246,13464.087719298246,13464.087719298246,13464.087719298246,13464.087719298246,13464.087719298246,13464.087719298246,13464.087719298246,13464.087719298246,13464.087719298246,13464.087719298246,13464.087719298246,13464.087719298246,13464.087719298246,21553.678571428572,21553.678571428572,21553.678571428572,21553.678571428572,21553.678571428572,21553.678571428572,21553.678571428572,21553.678571428572,21553.678571428572,25066.666666666668,25066.666666666668,25066.666666666668,23816.428571428572,21691.065088757397,21691.065088757397,21691.065088757397,21691.065088757397,21691.065088757397,21691.065088757397,21691.065088757397,21691.065088757397,21691.065088757397,21691.065088757397,21691.065088757397,21691.065088757397,21691.065088757397,21691.065088757397,21691.065088757397,21691.065088757397,21691.065088757397,21691.065088757397,21691.065088757397,21691.065088757397,21691.065088757397,21691.065088757397,21691.065088757397,21691.065088757397,21691.065088757397,21691.065088757397,21691.065088757397,21691.065088757397,21691.065088757397,21691.065088757397,21691.065088757397,21691.065088757397,21691.065088757397,21691.065088757397,21691.065088757397,21691.065088757397,21691.065088757397,21691.065088757397,21691.065088757397,21691.065088757397,13601.861111111111,13601.861111111111,13601.861111111111,13601.861111111111,13601.861111111111,13601.861111111111,13601.861111111111,13601.861111111111,13601.861111111111,13601.861111111111,13601.861111111111,13601.861111111111,13601.861111111111,13601.861111111111,13601.861111111111,13601.861111111111,13601.861111111111,13601.861111111111,13601.861111111111,13601.861111111111,13601.861111111111,13601.861111111111,13601.861111111111,13601.861111111111,13601.861111111111,13601.861111111111,13601.861111111111,13601.861111111111,13601.861111111111,13601.861111111111,13601.861111111111,13601.861111111111,13601.861111111111,13601.861111111111,13601.861111111111,13601.861111111111,13601.861111111111,13601.861111111111,13601.861111111111,13601.861111111111,13601.861111111111,13601.861111111111,15220.923076923076,15220.923076923076,15220.923076923076,15220.923076923076,8181.12,8181.12,8181.12,8181.12,8181.12,8181.12,15048.907975460123,15048.907975460123,15048.907975460123,15048.907975460123,15048.907975460123,15048.907975460123,15048.907975460123,15048.907975460123,15048.907975460123,15048.907975460123,15048.907975460123,15048.907975460123,15048.907975460123,15048.907975460123,15048.907975460123,15048.907975460123,15048.907975460123,15048.907975460123,15048.907975460123,15048.907975460123,15048.907975460123,15048.907975460123,15048.907975460123,15048.907975460123,15048.907975460123,15048.907975460123,15048.907975460123,15048.907975460123,15048.907975460123,15048.907975460123,15048.907975460123,15048.907975460123,15048.907975460123,15048.907975460123,15048.907975460123,15048.907975460123,15048.907975460123,15048.907975460123,15048.907975460123,15048.907975460123,15048.907975460123,15048.907975460123,15048.907975460123,15048.907975460123,15048.907975460123,15048.907975460123,15048.907975460123,15048.907975460123,15048.907975460123,15048.907975460123,15048.907975460123,15048.907975460123,15048.907975460123,15048.907975460123,15048.907975460123,12750.318181818182,12750.318181818182,12750.318181818182,12750.318181818182,12750.318181818182,12750.318181818182,12750.318181818182,12750.318181818182,12750.318181818182,12750.318181818182,12750.318181818182,12750.318181818182,12750.318181818182,12750.318181818182,12750.318181818182,12750.318181818182,12750.318181818182,12750.318181818182,12750.318181818182,12750.318181818182,12750.318181818182,12750.318181818182,12750.318181818182,12750.318181818182,12750.318181818182,12750.318181818182,12750.318181818182,12750.318181818182,12750.318181818182,12750.318181818182,12750.318181818182,12750.318181818182,12750.318181818182,12750.318181818182,12750.318181818182,12750.318181818182,6944.75,6944.75,6944.75,6944.75,6944.75,6944.75,6944.75,6944.75,6944.75,6944.75,6944.75,6944.75,6944.75,6944.75,6944.75,6944.75,6944.75,6944.75,6944.75,6944.75,6944.75,6944.75,6944.75,6944.75,6944.75,6944.75,6944.75,6944.75,6944.75,8184.1,8184.1,8184.1,8184.1,8184.1,8184.1,8184.1,8184.1,8184.1,8184.1,8184.1,8184.1,8184.1,8184.1,8184.1,8184.1,8184.1,8184.1,8184.1,8184.1,8184.1,8184.1,8184.1,8184.1,8184.1,8184.1,8184.1,8184.1,8184.1,8184.1,12657.59756097561,12657.59756097561,12657.59756097561,12657.59756097561,12657.59756097561,12657.59756097561,12657.59756097561,12657.59756097561,12657.59756097561,12657.59756097561,12657.59756097561,12657.59756097561,12657.59756097561,12657.59756097561,12657.59756097561,12657.59756097561,12657.59756097561,12657.59756097561,12657.59756097561,12657.59756097561,12657.59756097561,12657.59756097561,12657.59756097561,12657.59756097561,12657.59756097561,12657.59756097561,12657.59756097561,12657.59756097561,12657.59756097561,12657.59756097561,12657.59756097561,12657.59756097561,11458.012345679012,11458.012345679012,11458.012345679012,11458.012345679012,11458.012345679012,11458.012345679012,11458.012345679012,11458.012345679012,11458.012345679012,11458.012345679012,11458.012345679012,11458.012345679012,11458.012345679012,11458.012345679012,11458.012345679012,11458.012345679012,11458.012345679012,11458.012345679012,11458.012345679012,11458.012345679012,11458.012345679012,11458.012345679012,11458.012345679012,11458.012345679012,11458.012345679012,11458.012345679012,11458.012345679012,11458.012345679012,11458.012345679012,11458.012345679012,11458.012345679012,11458.012345679012,11458.012345679012,11458.012345679012,11458.012345679012,17917.53125,17917.53125,17917.53125,17917.53125,17917.53125,17917.53125,17917.53125,17917.53125,17917.53125,17917.53125,21513.577777777777,21513.577777777777,21513.577777777777,21513.577777777777,21513.577777777777,21513.577777777777,21513.577777777777,21513.577777777777,21513.577777777777,21513.577777777777,21513.577777777777,21513.577777777777,21513.577777777777,21513.577777777777,21513.577777777777,21513.577777777777,21513.577777777777,21513.577777777777,21513.577777777777,21334.535714285714,21334.535714285714,21334.535714285714,21334.535714285714,21334.535714285714,21334.535714285714,21334.535714285714,21334.535714285714,21334.535714285714,21334.535714285714,21334.535714285714,21334.535714285714,21334.535714285714,21334.535714285714,21334.535714285714,21334.535714285714,21334.535714285714,21334.535714285714,21334.535714285714,13720.120689655172,13720.120689655172,13720.120689655172,13720.120689655172,13720.120689655172,13720.120689655172,13720.120689655172,13720.120689655172,13720.120689655172,13720.120689655172,13720.120689655172,13720.120689655172,13720.120689655172,13720.120689655172,13720.120689655172,13720.120689655172,13720.120689655172,13720.120689655172,13720.120689655172,13720.120689655172,13720.120689655172,13720.120689655172,13720.120689655172,13720.120689655172,13720.120689655172,13720.120689655172,13720.120689655172,13720.120689655172,13720.120689655172,13720.120689655172,13720.120689655172,13720.120689655172,13720.120689655172,13720.120689655172,13720.120689655172,13720.120689655172,13720.120689655172,6635.973684210527,6635.973684210527,6635.973684210527,6635.973684210527,6635.973684210527,6635.973684210527,6635.973684210527,6635.973684210527,6635.973684210527,6635.973684210527,6635.973684210527,6635.973684210527,6635.973684210527,6635.973684210527,6635.973684210527,6635.973684210527,6635.973684210527,6635.973684210527,6635.973684210527,8934.338461538462,8934.338461538462,8934.338461538462,8934.338461538462,8934.338461538462,8934.338461538462,8934.338461538462,8934.338461538462,8934.338461538462,8934.338461538462,8934.338461538462,8934.338461538462,8934.338461538462,8934.338461538462,8934.338461538462,8934.338461538462,8934.338461538462,8934.338461538462,8934.338461538462,8934.338461538462,8934.338461538462,8934.338461538462,8934.338461538462,8934.338461538462,8934.338461538462,8934.338461538462,13719.41573033708,13719.41573033708,13719.41573033708,13719.41573033708,13719.41573033708,13719.41573033708,13719.41573033708,13719.41573033708,13719.41573033708,13719.41573033708,13719.41573033708,13719.41573033708,13719.41573033708,13719.41573033708,13719.41573033708,13719.41573033708,13719.41573033708,13719.41573033708,13719.41573033708,13719.41573033708,13719.41573033708,13719.41573033708,13719.41573033708,13719.41573033708,13719.41573033708,13719.41573033708,13719.41573033708,13719.41573033708,13719.41573033708,13719.41573033708,13719.41573033708,13719.41573033708,13719.41573033708,13719.41573033708,13719.41573033708,13719.41573033708,8331.6,8331.6,8331.6,8331.6,8331.6,8331.6,8331.6,8331.6,8018.684210526316,8018.684210526316,8018.684210526316,8018.684210526316,8018.684210526316,8018.684210526316,8018.684210526316,8018.684210526316,8018.684210526316,8018.684210526316,8018.684210526316,8018.684210526316,8018.684210526316,8018.684210526316,8018.684210526316,8018.684210526316,8018.684210526316,8018.684210526316,8018.684210526316,8018.684210526316,8018.684210526316,8018.684210526316,8018.684210526316,8018.684210526316,8018.684210526316,8018.684210526316,17514.0,17514.0,17514.0,17514.0,17514.0,17514.0,17514.0,15502.23076923077,15502.23076923077,15502.23076923077,15502.23076923077,15502.23076923077,15502.23076923077,15502.23076923077,15502.23076923077,15502.23076923077,25278.109375,25278.109375,25278.109375,25278.109375,25278.109375,25278.109375,25278.109375,25278.109375,25278.109375,25278.109375,25278.109375,25278.109375,25278.109375,25278.109375,9254.2,9254.2,9254.2,9254.2,9254.2,9254.2,9254.2,9254.2,9254.2,9254.2,9254.2,9254.2,9254.2,18786.366666666665,18786.366666666665,18786.366666666665,18786.366666666665,18786.366666666665,18786.366666666665,18786.366666666665,18786.366666666665,18786.366666666665,18786.366666666665,18786.366666666665,18786.366666666665,18786.366666666665,18786.366666666665,18786.366666666665,18786.366666666665,18786.366666666665,18786.366666666665,18786.366666666665,18786.366666666665,18786.366666666665,18786.366666666665,18786.366666666665,18786.366666666665,18786.366666666665,18786.366666666665,18786.366666666665,18786.366666666665,18786.366666666665,18786.366666666665,18786.366666666665,18786.366666666665,18786.366666666665,18786.366666666665,18786.366666666665,18786.366666666665,18786.366666666665,18786.366666666665,18786.366666666665,18786.366666666665,17598.81914893617,17598.81914893617,17598.81914893617,17598.81914893617,17598.81914893617,17598.81914893617,17598.81914893617,17598.81914893617,17598.81914893617,17598.81914893617,17598.81914893617,17598.81914893617,17598.81914893617,17598.81914893617,17598.81914893617,17598.81914893617,17598.81914893617,17598.81914893617,17598.81914893617,17598.81914893617,17598.81914893617,17598.81914893617,17598.81914893617,17598.81914893617,17598.81914893617,17598.81914893617,17598.81914893617,17598.81914893617,17598.81914893617,17598.81914893617,17598.81914893617,17598.81914893617,17598.81914893617,17598.81914893617,17598.81914893617,17598.81914893617,9304.1,9304.1,9304.1,9304.1,9304.1,9304.1,9304.1,9304.1,14425.609589041096,14425.609589041096,14425.609589041096,14425.609589041096,14425.609589041096,14425.609589041096,14425.609589041096,14425.609589041096,14425.609589041096,14425.609589041096,14425.609589041096,14425.609589041096,14425.609589041096,14425.609589041096,14425.609589041096,14425.609589041096,14425.609589041096,14425.609589041096,14425.609589041096,14425.609589041096,14425.609589041096,14425.609589041096,14425.609589041096,14425.609589041096,14425.609589041096,14425.609589041096,14425.609589041096,14425.609589041096,14425.609589041096,14425.609589041096,14425.609589041096,14425.609589041096,14425.609589041096,14425.609589041096,14425.609589041096,14425.609589041096,14425.609589041096,14425.609589041096,14425.609589041096,14425.609589041096,14425.609589041096,14425.609589041096,14425.609589041096,14425.609589041096,14425.609589041096,14425.609589041096,14425.609589041096,14425.609589041096,14425.609589041096,14425.609589041096,8960.164705882353,8960.164705882353,8960.164705882353,8960.164705882353,8960.164705882353,8960.164705882353,8960.164705882353,8960.164705882353,8960.164705882353,8960.164705882353,8960.164705882353,8960.164705882353,8960.164705882353,8960.164705882353,8960.164705882353,8960.164705882353,8960.164705882353,8960.164705882353,8960.164705882353,8960.164705882353,8960.164705882353,8960.164705882353,8960.164705882353,8960.164705882353,8960.164705882353,8960.164705882353,8960.164705882353,8960.164705882353,10821.211538461539,10821.211538461539,10821.211538461539,10821.211538461539,10821.211538461539,10821.211538461539,10821.211538461539,10821.211538461539,10821.211538461539,10821.211538461539,10821.211538461539,10821.211538461539,10821.211538461539,10821.211538461539,10821.211538461539,10821.211538461539,10821.211538461539,10821.211538461539,10821.211538461539,10821.211538461539,10821.211538461539,10821.211538461539,10821.211538461539,17518.746666666666,17518.746666666666,17518.746666666666,17518.746666666666,17518.746666666666,17518.746666666666,17518.746666666666,17518.746666666666,17518.746666666666,17518.746666666666,17518.746666666666,17518.746666666666,17518.746666666666,17518.746666666666,17518.746666666666,17518.746666666666,17518.746666666666,17518.746666666666,17518.746666666666,17518.746666666666,17518.746666666666,17518.746666666666,17518.746666666666,17518.746666666666,17518.746666666666,17518.746666666666,17518.746666666666,17518.746666666666,17518.746666666666,17518.746666666666,17518.746666666666,17518.746666666666,17518.746666666666,17518.746666666666,17518.746666666666,17518.746666666666,17518.746666666666,17518.746666666666,17518.746666666666,17518.746666666666,17518.746666666666,17518.746666666666,17518.746666666666,17518.746666666666,17518.746666666666,17518.746666666666,17518.746666666666,17518.746666666666,17518.746666666666,17518.746666666666,17518.746666666666,17518.746666666666,17518.746666666666,20879.7,20879.7,20879.7,13818.927272727273,13818.927272727273,13818.927272727273,13818.927272727273,13818.927272727273,13818.927272727273,13818.927272727273,13818.927272727273,13818.927272727273,13818.927272727273,13818.927272727273,13818.927272727273,13818.927272727273,13818.927272727273,13818.927272727273,13818.927272727273,13818.927272727273,9886.263157894737,9886.263157894737,9886.263157894737,9886.263157894737,9886.263157894737,9886.263157894737,12326.89010989011,12326.89010989011,12326.89010989011,12326.89010989011,12326.89010989011,12326.89010989011,12326.89010989011,12326.89010989011,12326.89010989011,12326.89010989011,12326.89010989011,12326.89010989011,12326.89010989011,12326.89010989011,12326.89010989011,12326.89010989011,12326.89010989011,12326.89010989011,12326.89010989011,12326.89010989011,12326.89010989011,12326.89010989011,12326.89010989011,12326.89010989011,12326.89010989011,12326.89010989011,12326.89010989011,12326.89010989011,12326.89010989011,12326.89010989011,12326.89010989011,12326.89010989011,16034.142857142857,16034.142857142857,16034.142857142857,16034.142857142857,16034.142857142857,16034.142857142857,16034.142857142857,16034.142857142857,16034.142857142857,16034.142857142857,16034.142857142857,16034.142857142857,16034.142857142857,16034.142857142857,16034.142857142857,16034.142857142857,16034.142857142857,16034.142857142857,16034.142857142857,16034.142857142857,16034.142857142857,16034.142857142857,16034.142857142857,16034.142857142857,16034.142857142857,16034.142857142857,16034.142857142857,16034.142857142857,16034.142857142857,16034.142857142857,16034.142857142857,16034.142857142857,16034.142857142857,16034.142857142857,16034.142857142857,16034.142857142857,16034.142857142857,16034.142857142857,16034.142857142857,16034.142857142857,16034.142857142857,16034.142857142857,16034.142857142857,16034.142857142857,16034.142857142857,16034.142857142857,16034.142857142857,16034.142857142857,16034.142857142857,16034.142857142857,16034.142857142857,16034.142857142857,16034.142857142857,16034.142857142857,16034.142857142857,16034.142857142857,16034.142857142857,16034.142857142857,16034.142857142857,16034.142857142857,16034.142857142857,16034.142857142857,16034.142857142857,16034.142857142857,16034.142857142857,16034.142857142857,16034.142857142857,16034.142857142857,16034.142857142857,16034.142857142857,16034.142857142857,16034.142857142857,16034.142857142857,16034.142857142857,16034.142857142857,16034.142857142857,16034.142857142857,16034.142857142857,16034.142857142857,16034.142857142857,16034.142857142857,16034.142857142857,9963.823529411764,9963.823529411764,9963.823529411764,9963.823529411764,9963.823529411764,9963.823529411764,9963.823529411764,15377.75,15377.75,15377.75,15377.75,15377.75,15377.75,19835.5,18986.66233766234,18986.66233766234,18986.66233766234,18986.66233766234,18986.66233766234,18986.66233766234,18986.66233766234,18986.66233766234,18986.66233766234,18986.66233766234,18986.66233766234,18986.66233766234,18986.66233766234,18986.66233766234,18986.66233766234,18986.66233766234,18986.66233766234,18986.66233766234,18986.66233766234,18986.66233766234,18986.66233766234,18986.66233766234,18986.66233766234,18986.66233766234,15031.85294117647,15031.85294117647,15031.85294117647,15031.85294117647,15031.85294117647,15031.85294117647,15031.85294117647,15031.85294117647,15031.85294117647,15031.85294117647,15031.85294117647,15031.85294117647,15031.85294117647,15031.85294117647,15031.85294117647,15031.85294117647,15031.85294117647,15031.85294117647,15031.85294117647,15031.85294117647,15031.85294117647,15031.85294117647,15031.85294117647,15031.85294117647,14540.358974358975,14540.358974358975,14540.358974358975,14540.358974358975,14540.358974358975,14540.358974358975,14540.358974358975,14540.358974358975,14540.358974358975,14540.358974358975,14540.358974358975,14540.358974358975,14540.358974358975,14540.358974358975,14540.358974358975,14540.358974358975,14540.358974358975,14540.358974358975,10571.481481481482,10571.481481481482,10571.481481481482,10571.481481481482,10571.481481481482,10571.481481481482,10571.481481481482,10571.481481481482,10571.481481481482,10571.481481481482,10571.481481481482,10571.481481481482,10571.481481481482,10571.481481481482,10571.481481481482,10571.481481481482,10571.481481481482,10571.481481481482,10571.481481481482,10571.481481481482,10571.481481481482,5208.611111111111,5208.611111111111,5208.611111111111,5208.611111111111,5208.611111111111,5208.611111111111,5208.611111111111,5208.611111111111,5208.611111111111,16034.142857142857,16034.142857142857,16034.142857142857,16034.142857142857,16034.142857142857,16034.142857142857,16034.142857142857,16034.142857142857,16034.142857142857,16034.142857142857,16034.142857142857,16034.142857142857,16034.142857142857,11610.20253164557,11610.20253164557,11610.20253164557,11610.20253164557,11610.20253164557,11610.20253164557,11610.20253164557,11610.20253164557,11610.20253164557,11610.20253164557,11610.20253164557,11610.20253164557,11610.20253164557,11610.20253164557,11610.20253164557,11596.5,11596.5,11596.5,11596.5,19225.272727272728,19225.272727272728,19225.272727272728,19225.272727272728,19225.272727272728,19225.272727272728,19225.272727272728,19225.272727272728,19225.272727272728,19225.272727272728,19225.272727272728,19225.272727272728,19225.272727272728,19225.272727272728,9710.709677419354,9710.709677419354,9710.709677419354,9710.709677419354,9710.709677419354,9710.709677419354,9710.709677419354,9710.709677419354,9710.709677419354,16172.510135135135,16172.510135135135,16172.510135135135,16172.510135135135,16172.510135135135,16172.510135135135,16172.510135135135,16172.510135135135,16172.510135135135,16172.510135135135,16172.510135135135,16172.510135135135,16172.510135135135,16172.510135135135,16172.510135135135,16172.510135135135,16172.510135135135,16172.510135135135,16172.510135135135,16172.510135135135,16172.510135135135,16172.510135135135,16172.510135135135,16172.510135135135,16172.510135135135,16172.510135135135,16172.510135135135,16172.510135135135,16172.510135135135,16172.510135135135,16172.510135135135,16172.510135135135,16172.510135135135,16172.510135135135,16172.510135135135,16172.510135135135,16172.510135135135,16172.510135135135,16172.510135135135,16172.510135135135,16172.510135135135,16172.510135135135,16172.510135135135,16172.510135135135,16172.510135135135,16172.510135135135,16172.510135135135,16172.510135135135,16172.510135135135,16172.510135135135,16172.510135135135,16172.510135135135,16172.510135135135,16172.510135135135,16172.510135135135,16172.510135135135,16172.510135135135,16172.510135135135,16172.510135135135,16172.510135135135,16172.510135135135,16172.510135135135,13464.087719298246,13464.087719298246,13464.087719298246,13464.087719298246,13464.087719298246,13464.087719298246,13464.087719298246,13464.087719298246,13464.087719298246,13464.087719298246,13464.087719298246,13464.087719298246,13464.087719298246,13464.087719298246,13464.087719298246,13464.087719298246,13464.087719298246,13464.087719298246,13464.087719298246,13464.087719298246,13464.087719298246,13464.087719298246,13464.087719298246,13464.087719298246,13464.087719298246,21553.678571428572,21553.678571428572,21553.678571428572,21553.678571428572,21553.678571428572,21553.678571428572,21553.678571428572,21553.678571428572,21553.678571428572,25066.666666666668,21691.065088757397,21691.065088757397,21691.065088757397,21691.065088757397,21691.065088757397,21691.065088757397,21691.065088757397,21691.065088757397,21691.065088757397,21691.065088757397,21691.065088757397,21691.065088757397,21691.065088757397,21691.065088757397,21691.065088757397,21691.065088757397,21691.065088757397,21691.065088757397,21691.065088757397,21691.065088757397,21691.065088757397,21691.065088757397,21691.065088757397,21691.065088757397,21691.065088757397,21691.065088757397,21691.065088757397,21691.065088757397,13601.861111111111,13601.861111111111,13601.861111111111,13601.861111111111,13601.861111111111,13601.861111111111,13601.861111111111,13601.861111111111,13601.861111111111,13601.861111111111,13601.861111111111,13601.861111111111,13601.861111111111,13601.861111111111,13601.861111111111,13601.861111111111,13601.861111111111,13601.861111111111,13601.861111111111,13601.861111111111,13601.861111111111,13601.861111111111,13601.861111111111,13601.861111111111,13601.861111111111,13601.861111111111,15220.923076923076,15220.923076923076,15220.923076923076,15220.923076923076,15220.923076923076,8181.12,8181.12,8181.12,8181.12,8181.12,8181.12,8181.12,8181.12,8181.12,8181.12,8181.12,15048.907975460123,15048.907975460123,15048.907975460123,15048.907975460123,15048.907975460123,15048.907975460123,15048.907975460123,15048.907975460123,15048.907975460123,15048.907975460123,15048.907975460123,15048.907975460123,15048.907975460123,15048.907975460123,15048.907975460123,15048.907975460123,15048.907975460123,15048.907975460123,15048.907975460123,15048.907975460123,15048.907975460123,15048.907975460123,15048.907975460123,15048.907975460123,15048.907975460123,15048.907975460123,15048.907975460123,15048.907975460123,15048.907975460123,15048.907975460123,15048.907975460123,15048.907975460123,15048.907975460123,15048.907975460123,15048.907975460123,15048.907975460123,15048.907975460123,15048.907975460123,15048.907975460123,15048.907975460123,15048.907975460123,15048.907975460123,15048.907975460123,15048.907975460123,15048.907975460123,15048.907975460123,15048.907975460123,15048.907975460123,15048.907975460123,12750.318181818182,12750.318181818182,12750.318181818182,12750.318181818182,12750.318181818182,12750.318181818182,12750.318181818182,12750.318181818182,12750.318181818182,12750.318181818182,12750.318181818182,12750.318181818182,12750.318181818182,12750.318181818182,12750.318181818182,12750.318181818182,12750.318181818182,12750.318181818182,12750.318181818182,12750.318181818182,12750.318181818182,12750.318181818182,12750.318181818182,12750.318181818182,12750.318181818182,12750.318181818182,12750.318181818182,12750.318181818182,12750.318181818182,12750.318181818182,12750.318181818182,12750.318181818182,12750.318181818182,12750.318181818182,12750.318181818182,12750.318181818182,12750.318181818182,12750.318181818182,12750.318181818182,12750.318181818182,12750.318181818182,12750.318181818182,12750.318181818182,12750.318181818182,12750.318181818182,12750.318181818182,12750.318181818182,12750.318181818182,12750.318181818182,12750.318181818182,12750.318181818182,6944.75,6944.75,6944.75,6944.75,6944.75,6944.75,6944.75,6944.75,6944.75,6944.75,6944.75,6944.75,6944.75,6944.75,6944.75,6944.75,6944.75,6944.75,6944.75,6944.75,6944.75,6944.75,6944.75,6944.75,6944.75,6944.75,6944.75,6944.75,6944.75,6944.75,6944.75,6944.75,6944.75,6944.75,6944.75,6944.75,8184.1,8184.1,8184.1,8184.1,8184.1,8184.1,8184.1,8184.1,8184.1,8184.1,8184.1,8184.1,8184.1,8184.1,8184.1,8184.1,8184.1,8184.1,8184.1,8184.1,8184.1,12657.59756097561,12657.59756097561,12657.59756097561,12657.59756097561,12657.59756097561,12657.59756097561,12657.59756097561,12657.59756097561,12657.59756097561,12657.59756097561,12657.59756097561,12657.59756097561,12657.59756097561,12657.59756097561,12657.59756097561,12657.59756097561,12657.59756097561,12657.59756097561,12657.59756097561,12657.59756097561,12657.59756097561,11458.012345679012,11458.012345679012,11458.012345679012,11458.012345679012,11458.012345679012,11458.012345679012,11458.012345679012,11458.012345679012,11458.012345679012,11458.012345679012,11458.012345679012,11458.012345679012,11458.012345679012,11458.012345679012,11458.012345679012,11458.012345679012,11458.012345679012,11458.012345679012,11458.012345679012,11458.012345679012,17917.53125,17917.53125,17917.53125,17917.53125,17917.53125,17917.53125,17917.53125,17917.53125,17917.53125,17917.53125,17917.53125,17917.53125,17917.53125,17917.53125,21513.577777777777,21513.577777777777,21513.577777777777,21513.577777777777,21513.577777777777,21513.577777777777,21513.577777777777,21513.577777777777,21513.577777777777,21334.535714285714,21334.535714285714,21334.535714285714,21334.535714285714,21334.535714285714,21334.535714285714,21334.535714285714,21334.535714285714,21334.535714285714,21334.535714285714,21334.535714285714,13720.120689655172,13720.120689655172,13720.120689655172,13720.120689655172,13720.120689655172,13720.120689655172,13720.120689655172,13720.120689655172,13720.120689655172,13720.120689655172,13720.120689655172,13720.120689655172,13720.120689655172,13720.120689655172,13720.120689655172,13720.120689655172,13720.120689655172,13720.120689655172,13720.120689655172,13720.120689655172,13720.120689655172,13720.120689655172,13720.120689655172,13720.120689655172,13720.120689655172,13720.120689655172,13720.120689655172,13720.120689655172,13720.120689655172,13720.120689655172,13720.120689655172,13720.120689655172,13720.120689655172,13720.120689655172,13720.120689655172,13720.120689655172,13720.120689655172,13720.120689655172,13720.120689655172,13720.120689655172,13720.120689655172,13720.120689655172,13720.120689655172,13720.120689655172,13720.120689655172,13720.120689655172,13720.120689655172,13720.120689655172,13720.120689655172,13720.120689655172,13720.120689655172,6635.973684210527,6635.973684210527,6635.973684210527,6635.973684210527,6635.973684210527,6635.973684210527,6635.973684210527,6635.973684210527,6635.973684210527,6635.973684210527,6635.973684210527,6635.973684210527,6635.973684210527,6635.973684210527,6635.973684210527,6635.973684210527,6635.973684210527,6635.973684210527,6635.973684210527,6635.973684210527,6635.973684210527,6635.973684210527,6635.973684210527,6635.973684210527,6635.973684210527,6635.973684210527,6635.973684210527,6635.973684210527,6635.973684210527,6635.973684210527,6635.973684210527,6635.973684210527,6635.973684210527,6635.973684210527,6635.973684210527,6635.973684210527,6635.973684210527,6635.973684210527,6635.973684210527,6635.973684210527,6635.973684210527,6635.973684210527,6635.973684210527,8934.338461538462,8934.338461538462,8934.338461538462,8934.338461538462,8934.338461538462,8934.338461538462,8934.338461538462,13719.41573033708,13719.41573033708,13719.41573033708,13719.41573033708,13719.41573033708,13719.41573033708,13719.41573033708,13719.41573033708,13719.41573033708,13719.41573033708,13719.41573033708,13719.41573033708,13719.41573033708,13719.41573033708,13719.41573033708,13719.41573033708,13719.41573033708,13719.41573033708,13719.41573033708,13719.41573033708,13719.41573033708,13719.41573033708,13719.41573033708,8331.6,8331.6,8331.6,8331.6,8331.6,8331.6,8331.6,8331.6,8331.6,8331.6,8331.6,8331.6,8018.684210526316,8018.684210526316,8018.684210526316,8018.684210526316,8018.684210526316,8018.684210526316,8018.684210526316,8018.684210526316,8018.684210526316,8018.684210526316,8018.684210526316,8018.684210526316,8018.684210526316,8018.684210526316,8018.684210526316,8018.684210526316,8018.684210526316,8018.684210526316,8018.684210526316,8018.684210526316,8018.684210526316,8018.684210526316,8018.684210526316,8018.684210526316,8018.684210526316,17514.0,17514.0,17514.0,17514.0,15502.23076923077,15502.23076923077,15502.23076923077,15502.23076923077,15502.23076923077,15502.23076923077,15502.23076923077,15502.23076923077,15502.23076923077,15502.23076923077,25278.109375,25278.109375,25278.109375,25278.109375,25278.109375,25278.109375,25278.109375,25278.109375,25278.109375,25278.109375,9254.2,9254.2,9254.2,9254.2,9254.2,9254.2,18786.366666666665,18786.366666666665,18786.366666666665,18786.366666666665,18786.366666666665,18786.366666666665,18786.366666666665,18786.366666666665,18786.366666666665,18786.366666666665,18786.366666666665,18786.366666666665,18786.366666666665,18786.366666666665,18786.366666666665,18786.366666666665,17598.81914893617,17598.81914893617,17598.81914893617,17598.81914893617,17598.81914893617,17598.81914893617,17598.81914893617,17598.81914893617,17598.81914893617,17598.81914893617,17598.81914893617,17598.81914893617,17598.81914893617,17598.81914893617,17598.81914893617,17598.81914893617,17598.81914893617,17598.81914893617,17598.81914893617,17598.81914893617,17598.81914893617,17598.81914893617,17598.81914893617,17598.81914893617,17598.81914893617,17598.81914893617,9304.1,9304.1,9304.1,9304.1,9304.1,9304.1,9304.1,9304.1,14425.609589041096,14425.609589041096,14425.609589041096,14425.609589041096,14425.609589041096,14425.609589041096,14425.609589041096,14425.609589041096,14425.609589041096,14425.609589041096,14425.609589041096,14425.609589041096,14425.609589041096,14425.609589041096,14425.609589041096,14425.609589041096,14425.609589041096,14425.609589041096,14425.609589041096,14425.609589041096,14425.609589041096,14425.609589041096,14425.609589041096,14425.609589041096,14425.609589041096,14425.609589041096,14425.609589041096,14425.609589041096,14425.609589041096,14425.609589041096,14425.609589041096,14425.609589041096,14425.609589041096,14425.609589041096,14425.609589041096,14425.609589041096,14425.609589041096,14425.609589041096,14425.609589041096,14425.609589041096,14425.609589041096,14425.609589041096,14425.609589041096,14425.609589041096,14425.609589041096,14425.609589041096,14425.609589041096,14425.609589041096,14425.609589041096,14425.609589041096,14425.609589041096,14425.609589041096,8960.164705882353,8960.164705882353,8960.164705882353,8960.164705882353,8960.164705882353,8960.164705882353,8960.164705882353,8960.164705882353,8960.164705882353,8960.164705882353,8960.164705882353,8960.164705882353,8960.164705882353,8960.164705882353,8960.164705882353,8960.164705882353,8960.164705882353,8960.164705882353,8960.164705882353,8960.164705882353,8960.164705882353,8960.164705882353,8960.164705882353,8960.164705882353,10821.211538461539,10821.211538461539,10821.211538461539,10821.211538461539,10821.211538461539,10821.211538461539,10821.211538461539,10821.211538461539,10821.211538461539,10821.211538461539,10821.211538461539,10821.211538461539,10821.211538461539,10821.211538461539,10821.211538461539,10821.211538461539,10821.211538461539,10821.211538461539,10821.211538461539,10821.211538461539,10821.211538461539,10821.211538461539,17518.746666666666,17518.746666666666,17518.746666666666,17518.746666666666,17518.746666666666,17518.746666666666,17518.746666666666,17518.746666666666,17518.746666666666,17518.746666666666,17518.746666666666,17518.746666666666,17518.746666666666,17518.746666666666,17518.746666666666,17518.746666666666,17518.746666666666,17518.746666666666,17518.746666666666,17518.746666666666,17518.746666666666,17518.746666666666,17518.746666666666,17518.746666666666,17518.746666666666,17518.746666666666,17518.746666666666,17518.746666666666,17518.746666666666,17518.746666666666,17518.746666666666,17518.746666666666,17518.746666666666,17518.746666666666,17518.746666666666,17518.746666666666,20879.7,20879.7,13818.927272727273,13818.927272727273,13818.927272727273,13818.927272727273,13818.927272727273,13818.927272727273,13818.927272727273,13818.927272727273,13818.927272727273,13818.927272727273,13818.927272727273,13818.927272727273,13818.927272727273,13818.927272727273,13818.927272727273,9886.263157894737,9886.263157894737,9886.263157894737,9886.263157894737,9886.263157894737,9886.263157894737,9886.263157894737,12326.89010989011,12326.89010989011,12326.89010989011,12326.89010989011,12326.89010989011,12326.89010989011,12326.89010989011,12326.89010989011,12326.89010989011,12326.89010989011,12326.89010989011,12326.89010989011,12326.89010989011,12326.89010989011,12326.89010989011,12326.89010989011,12326.89010989011,12326.89010989011,12326.89010989011,12326.89010989011,12326.89010989011,16034.142857142857,16034.142857142857,16034.142857142857,16034.142857142857,16034.142857142857,16034.142857142857,16034.142857142857,16034.142857142857,16034.142857142857,16034.142857142857,16034.142857142857,16034.142857142857,16034.142857142857,16034.142857142857,16034.142857142857,16034.142857142857,16034.142857142857,16034.142857142857,16034.142857142857,16034.142857142857,16034.142857142857,16034.142857142857,16034.142857142857,16034.142857142857,16034.142857142857,16034.142857142857,16034.142857142857,16034.142857142857,16034.142857142857,16034.142857142857,16034.142857142857,16034.142857142857,16034.142857142857,16034.142857142857,16034.142857142857,16034.142857142857,16034.142857142857,16034.142857142857,16034.142857142857,16034.142857142857,16034.142857142857,16034.142857142857,16034.142857142857,16034.142857142857,16034.142857142857,16034.142857142857,16034.142857142857,16034.142857142857,16034.142857142857,16034.142857142857,16034.142857142857,16034.142857142857,16034.142857142857,16034.142857142857,16034.142857142857,16034.142857142857,16034.142857142857,16034.142857142857,16034.142857142857,16034.142857142857,16034.142857142857,16034.142857142857,16034.142857142857,16034.142857142857,16034.142857142857,16034.142857142857,16034.142857142857,16034.142857142857,16034.142857142857,16034.142857142857,16034.142857142857,16034.142857142857,16034.142857142857,9963.823529411764,9963.823529411764,9963.823529411764,9963.823529411764,9963.823529411764,9963.823529411764,9963.823529411764,9963.823529411764,9963.823529411764,9963.823529411764,9963.823529411764,9963.823529411764,9963.823529411764,9963.823529411764,9963.823529411764,9963.823529411764,9963.823529411764,9963.823529411764,9963.823529411764,9963.823529411764,9963.823529411764,15377.75,15377.75,15377.75,15377.75,15377.75,18986.66233766234,18986.66233766234,18986.66233766234,18986.66233766234,18986.66233766234,18986.66233766234,18986.66233766234,18986.66233766234,18986.66233766234,18986.66233766234,18986.66233766234,18986.66233766234,18986.66233766234,18986.66233766234,18986.66233766234,18986.66233766234,18986.66233766234,18986.66233766234,18986.66233766234,18986.66233766234,18986.66233766234,18986.66233766234,18986.66233766234,18986.66233766234,15031.85294117647,15031.85294117647,15031.85294117647,15031.85294117647,15031.85294117647,15031.85294117647,15031.85294117647,15031.85294117647,15031.85294117647,15031.85294117647,15031.85294117647,15031.85294117647,15031.85294117647,15031.85294117647,15031.85294117647,15031.85294117647,15031.85294117647,15031.85294117647,15031.85294117647,14540.358974358975,14540.358974358975,14540.358974358975,14540.358974358975,14540.358974358975,14540.358974358975,14540.358974358975,14540.358974358975,10571.481481481482,10571.481481481482,10571.481481481482,10571.481481481482,10571.481481481482,10571.481481481482,10571.481481481482,10571.481481481482,10571.481481481482,10571.481481481482,10571.481481481482,10571.481481481482,10571.481481481482,10571.481481481482,10571.481481481482,10571.481481481482,10571.481481481482,10571.481481481482,10571.481481481482,10571.481481481482,10571.481481481482,10571.481481481482,10571.481481481482,10571.481481481482,10571.481481481482,10571.481481481482,10571.481481481482,10571.481481481482,10571.481481481482,10571.481481481482,10571.481481481482,10571.481481481482,10571.481481481482,10571.481481481482,10571.481481481482,10571.481481481482,10571.481481481482,10571.481481481482,10571.481481481482,10571.481481481482,10571.481481481482,10571.481481481482,10571.481481481482,10571.481481481482,10571.481481481482,10571.481481481482,10571.481481481482,10571.481481481482,10571.481481481482,10571.481481481482,10571.481481481482,10571.481481481482,10571.481481481482,10571.481481481482,10571.481481481482,10571.481481481482,10571.481481481482,10571.481481481482,10571.481481481482,5208.611111111111,5208.611111111111,5208.611111111111,5208.611111111111,5208.611111111111,5208.611111111111,16034.142857142857,16034.142857142857,16034.142857142857,16034.142857142857,16034.142857142857,16034.142857142857,16034.142857142857,16034.142857142857,16034.142857142857,16034.142857142857,16034.142857142857,11610.20253164557,11610.20253164557,11610.20253164557,11610.20253164557,11610.20253164557,11596.5,11596.5,19225.272727272728,19225.272727272728,19225.272727272728,19225.272727272728,9710.709677419354,9710.709677419354,16172.510135135135,16172.510135135135,16172.510135135135,16172.510135135135,16172.510135135135,16172.510135135135,16172.510135135135,16172.510135135135,16172.510135135135,16172.510135135135,16172.510135135135,16172.510135135135,16172.510135135135,16172.510135135135,16172.510135135135,16172.510135135135,16172.510135135135,16172.510135135135,16172.510135135135,16172.510135135135,16172.510135135135,13464.087719298246,13464.087719298246,13464.087719298246,13464.087719298246,13464.087719298246,13464.087719298246,21691.065088757397,21691.065088757397,21691.065088757397,21691.065088757397,21691.065088757397,21691.065088757397,21691.065088757397,21691.065088757397,21691.065088757397,13601.861111111111,13601.861111111111,13601.861111111111,13601.861111111111,13601.861111111111,15220.923076923076,15220.923076923076,15220.923076923076,8181.12,8181.12,8181.12,8181.12,8181.12,15048.907975460123,15048.907975460123,15048.907975460123,15048.907975460123,15048.907975460123,15048.907975460123,15048.907975460123,15048.907975460123,15048.907975460123,15048.907975460123,15048.907975460123,15048.907975460123,12750.318181818182,12750.318181818182,12750.318181818182,12750.318181818182,12750.318181818182,12750.318181818182,12750.318181818182,12750.318181818182,12750.318181818182,12750.318181818182,12750.318181818182,12750.318181818182,12750.318181818182,6944.75,6944.75,6944.75,6944.75,6944.75,6944.75,6944.75,8184.1,8184.1,8184.1,8184.1,8184.1,8184.1,8184.1,8184.1,12657.59756097561,11458.012345679012,11458.012345679012,11458.012345679012,17917.53125,17917.53125,17917.53125,21513.577777777777,21513.577777777777,21513.577777777777,21513.577777777777,21513.577777777777,21334.535714285714,21334.535714285714,21334.535714285714,21334.535714285714,21334.535714285714,21334.535714285714,21334.535714285714,13720.120689655172,13720.120689655172,13720.120689655172,13720.120689655172,13720.120689655172,13720.120689655172,13720.120689655172,13720.120689655172,13720.120689655172,13720.120689655172,13720.120689655172,6635.973684210527,6635.973684210527,6635.973684210527,6635.973684210527,6635.973684210527,6635.973684210527,6635.973684210527,6635.973684210527,8934.338461538462,13719.41573033708,13719.41573033708,13719.41573033708,13719.41573033708,13719.41573033708,13719.41573033708,8331.6,8331.6,8331.6,8018.684210526316,8018.684210526316,15502.23076923077,15502.23076923077,15502.23076923077,25278.109375,25278.109375,25278.109375,25278.109375,25278.109375,25278.109375,18786.366666666665,17598.81914893617,17598.81914893617,17598.81914893617,17598.81914893617,17598.81914893617,17598.81914893617,17598.81914893617,14425.609589041096,14425.609589041096,14425.609589041096,14425.609589041096,14425.609589041096,14425.609589041096,14425.609589041096,14425.609589041096,14425.609589041096,14425.609589041096,14425.609589041096,14425.609589041096,14425.609589041096,14425.609589041096,14425.609589041096,14425.609589041096,14425.609589041096,14425.609589041096,14425.609589041096,14425.609589041096,8960.164705882353,8960.164705882353,8960.164705882353,8960.164705882353,8960.164705882353,8960.164705882353,8960.164705882353,8960.164705882353,8960.164705882353,10821.211538461539,10821.211538461539,10821.211538461539,17518.746666666666,17518.746666666666,17518.746666666666,17518.746666666666,17518.746666666666,17518.746666666666,17518.746666666666,17518.746666666666,17518.746666666666,17518.746666666666,17518.746666666666,20879.7,20879.7,13818.927272727273,13818.927272727273,13818.927272727273,13818.927272727273,13818.927272727273,9886.263157894737,9886.263157894737,9886.263157894737,9886.263157894737,9886.263157894737,12326.89010989011,16034.142857142857,16034.142857142857,16034.142857142857,16034.142857142857,16034.142857142857,16034.142857142857,16034.142857142857,16034.142857142857,16034.142857142857,16034.142857142857,16034.142857142857,16034.142857142857,16034.142857142857,16034.142857142857,16034.142857142857,16034.142857142857,9963.823529411764,9963.823529411764,9963.823529411764,9963.823529411764,18986.66233766234,18986.66233766234,18986.66233766234,18986.66233766234,18986.66233766234,18986.66233766234,18986.66233766234,18986.66233766234,18986.66233766234,15031.85294117647,15031.85294117647,15031.85294117647,15031.85294117647,15031.85294117647,15031.85294117647,14540.358974358975,10571.481481481482,10571.481481481482,10571.481481481482,10571.481481481482,10571.481481481482,10571.481481481482,10571.481481481482,10571.481481481482,10571.481481481482,10571.481481481482,10571.481481481482,10571.481481481482,10571.481481481482,10571.481481481482,10571.481481481482,10571.481481481482,10571.481481481482,10571.481481481482,10571.481481481482,10571.481481481482,10571.481481481482,10571.481481481482,5208.611111111111,16034.142857142857,16034.142857142857,16034.142857142857,16034.142857142857,16034.142857142857,16034.142857142857,16034.142857142857,16034.142857142857],\"type\":\"choropleth\"}],                        {\"template\":{\"data\":{\"histogram2dcontour\":[{\"type\":\"histogram2dcontour\",\"colorbar\":{\"outlinewidth\":0,\"ticks\":\"\"},\"colorscale\":[[0.0,\"#0d0887\"],[0.1111111111111111,\"#46039f\"],[0.2222222222222222,\"#7201a8\"],[0.3333333333333333,\"#9c179e\"],[0.4444444444444444,\"#bd3786\"],[0.5555555555555556,\"#d8576b\"],[0.6666666666666666,\"#ed7953\"],[0.7777777777777778,\"#fb9f3a\"],[0.8888888888888888,\"#fdca26\"],[1.0,\"#f0f921\"]]}],\"choropleth\":[{\"type\":\"choropleth\",\"colorbar\":{\"outlinewidth\":0,\"ticks\":\"\"}}],\"histogram2d\":[{\"type\":\"histogram2d\",\"colorbar\":{\"outlinewidth\":0,\"ticks\":\"\"},\"colorscale\":[[0.0,\"#0d0887\"],[0.1111111111111111,\"#46039f\"],[0.2222222222222222,\"#7201a8\"],[0.3333333333333333,\"#9c179e\"],[0.4444444444444444,\"#bd3786\"],[0.5555555555555556,\"#d8576b\"],[0.6666666666666666,\"#ed7953\"],[0.7777777777777778,\"#fb9f3a\"],[0.8888888888888888,\"#fdca26\"],[1.0,\"#f0f921\"]]}],\"heatmap\":[{\"type\":\"heatmap\",\"colorbar\":{\"outlinewidth\":0,\"ticks\":\"\"},\"colorscale\":[[0.0,\"#0d0887\"],[0.1111111111111111,\"#46039f\"],[0.2222222222222222,\"#7201a8\"],[0.3333333333333333,\"#9c179e\"],[0.4444444444444444,\"#bd3786\"],[0.5555555555555556,\"#d8576b\"],[0.6666666666666666,\"#ed7953\"],[0.7777777777777778,\"#fb9f3a\"],[0.8888888888888888,\"#fdca26\"],[1.0,\"#f0f921\"]]}],\"heatmapgl\":[{\"type\":\"heatmapgl\",\"colorbar\":{\"outlinewidth\":0,\"ticks\":\"\"},\"colorscale\":[[0.0,\"#0d0887\"],[0.1111111111111111,\"#46039f\"],[0.2222222222222222,\"#7201a8\"],[0.3333333333333333,\"#9c179e\"],[0.4444444444444444,\"#bd3786\"],[0.5555555555555556,\"#d8576b\"],[0.6666666666666666,\"#ed7953\"],[0.7777777777777778,\"#fb9f3a\"],[0.8888888888888888,\"#fdca26\"],[1.0,\"#f0f921\"]]}],\"contourcarpet\":[{\"type\":\"contourcarpet\",\"colorbar\":{\"outlinewidth\":0,\"ticks\":\"\"}}],\"contour\":[{\"type\":\"contour\",\"colorbar\":{\"outlinewidth\":0,\"ticks\":\"\"},\"colorscale\":[[0.0,\"#0d0887\"],[0.1111111111111111,\"#46039f\"],[0.2222222222222222,\"#7201a8\"],[0.3333333333333333,\"#9c179e\"],[0.4444444444444444,\"#bd3786\"],[0.5555555555555556,\"#d8576b\"],[0.6666666666666666,\"#ed7953\"],[0.7777777777777778,\"#fb9f3a\"],[0.8888888888888888,\"#fdca26\"],[1.0,\"#f0f921\"]]}],\"surface\":[{\"type\":\"surface\",\"colorbar\":{\"outlinewidth\":0,\"ticks\":\"\"},\"colorscale\":[[0.0,\"#0d0887\"],[0.1111111111111111,\"#46039f\"],[0.2222222222222222,\"#7201a8\"],[0.3333333333333333,\"#9c179e\"],[0.4444444444444444,\"#bd3786\"],[0.5555555555555556,\"#d8576b\"],[0.6666666666666666,\"#ed7953\"],[0.7777777777777778,\"#fb9f3a\"],[0.8888888888888888,\"#fdca26\"],[1.0,\"#f0f921\"]]}],\"mesh3d\":[{\"type\":\"mesh3d\",\"colorbar\":{\"outlinewidth\":0,\"ticks\":\"\"}}],\"scatter\":[{\"fillpattern\":{\"fillmode\":\"overlay\",\"size\":10,\"solidity\":0.2},\"type\":\"scatter\"}],\"parcoords\":[{\"type\":\"parcoords\",\"line\":{\"colorbar\":{\"outlinewidth\":0,\"ticks\":\"\"}}}],\"scatterpolargl\":[{\"type\":\"scatterpolargl\",\"marker\":{\"colorbar\":{\"outlinewidth\":0,\"ticks\":\"\"}}}],\"bar\":[{\"error_x\":{\"color\":\"#2a3f5f\"},\"error_y\":{\"color\":\"#2a3f5f\"},\"marker\":{\"line\":{\"color\":\"#E5ECF6\",\"width\":0.5},\"pattern\":{\"fillmode\":\"overlay\",\"size\":10,\"solidity\":0.2}},\"type\":\"bar\"}],\"scattergeo\":[{\"type\":\"scattergeo\",\"marker\":{\"colorbar\":{\"outlinewidth\":0,\"ticks\":\"\"}}}],\"scatterpolar\":[{\"type\":\"scatterpolar\",\"marker\":{\"colorbar\":{\"outlinewidth\":0,\"ticks\":\"\"}}}],\"histogram\":[{\"marker\":{\"pattern\":{\"fillmode\":\"overlay\",\"size\":10,\"solidity\":0.2}},\"type\":\"histogram\"}],\"scattergl\":[{\"type\":\"scattergl\",\"marker\":{\"colorbar\":{\"outlinewidth\":0,\"ticks\":\"\"}}}],\"scatter3d\":[{\"type\":\"scatter3d\",\"line\":{\"colorbar\":{\"outlinewidth\":0,\"ticks\":\"\"}},\"marker\":{\"colorbar\":{\"outlinewidth\":0,\"ticks\":\"\"}}}],\"scattermapbox\":[{\"type\":\"scattermapbox\",\"marker\":{\"colorbar\":{\"outlinewidth\":0,\"ticks\":\"\"}}}],\"scatterternary\":[{\"type\":\"scatterternary\",\"marker\":{\"colorbar\":{\"outlinewidth\":0,\"ticks\":\"\"}}}],\"scattercarpet\":[{\"type\":\"scattercarpet\",\"marker\":{\"colorbar\":{\"outlinewidth\":0,\"ticks\":\"\"}}}],\"carpet\":[{\"aaxis\":{\"endlinecolor\":\"#2a3f5f\",\"gridcolor\":\"white\",\"linecolor\":\"white\",\"minorgridcolor\":\"white\",\"startlinecolor\":\"#2a3f5f\"},\"baxis\":{\"endlinecolor\":\"#2a3f5f\",\"gridcolor\":\"white\",\"linecolor\":\"white\",\"minorgridcolor\":\"white\",\"startlinecolor\":\"#2a3f5f\"},\"type\":\"carpet\"}],\"table\":[{\"cells\":{\"fill\":{\"color\":\"#EBF0F8\"},\"line\":{\"color\":\"white\"}},\"header\":{\"fill\":{\"color\":\"#C8D4E3\"},\"line\":{\"color\":\"white\"}},\"type\":\"table\"}],\"barpolar\":[{\"marker\":{\"line\":{\"color\":\"#E5ECF6\",\"width\":0.5},\"pattern\":{\"fillmode\":\"overlay\",\"size\":10,\"solidity\":0.2}},\"type\":\"barpolar\"}],\"pie\":[{\"automargin\":true,\"type\":\"pie\"}]},\"layout\":{\"autotypenumbers\":\"strict\",\"colorway\":[\"#636efa\",\"#EF553B\",\"#00cc96\",\"#ab63fa\",\"#FFA15A\",\"#19d3f3\",\"#FF6692\",\"#B6E880\",\"#FF97FF\",\"#FECB52\"],\"font\":{\"color\":\"#2a3f5f\"},\"hovermode\":\"closest\",\"hoverlabel\":{\"align\":\"left\"},\"paper_bgcolor\":\"white\",\"plot_bgcolor\":\"#E5ECF6\",\"polar\":{\"bgcolor\":\"#E5ECF6\",\"angularaxis\":{\"gridcolor\":\"white\",\"linecolor\":\"white\",\"ticks\":\"\"},\"radialaxis\":{\"gridcolor\":\"white\",\"linecolor\":\"white\",\"ticks\":\"\"}},\"ternary\":{\"bgcolor\":\"#E5ECF6\",\"aaxis\":{\"gridcolor\":\"white\",\"linecolor\":\"white\",\"ticks\":\"\"},\"baxis\":{\"gridcolor\":\"white\",\"linecolor\":\"white\",\"ticks\":\"\"},\"caxis\":{\"gridcolor\":\"white\",\"linecolor\":\"white\",\"ticks\":\"\"}},\"coloraxis\":{\"colorbar\":{\"outlinewidth\":0,\"ticks\":\"\"}},\"colorscale\":{\"sequential\":[[0.0,\"#0d0887\"],[0.1111111111111111,\"#46039f\"],[0.2222222222222222,\"#7201a8\"],[0.3333333333333333,\"#9c179e\"],[0.4444444444444444,\"#bd3786\"],[0.5555555555555556,\"#d8576b\"],[0.6666666666666666,\"#ed7953\"],[0.7777777777777778,\"#fb9f3a\"],[0.8888888888888888,\"#fdca26\"],[1.0,\"#f0f921\"]],\"sequentialminus\":[[0.0,\"#0d0887\"],[0.1111111111111111,\"#46039f\"],[0.2222222222222222,\"#7201a8\"],[0.3333333333333333,\"#9c179e\"],[0.4444444444444444,\"#bd3786\"],[0.5555555555555556,\"#d8576b\"],[0.6666666666666666,\"#ed7953\"],[0.7777777777777778,\"#fb9f3a\"],[0.8888888888888888,\"#fdca26\"],[1.0,\"#f0f921\"]],\"diverging\":[[0,\"#8e0152\"],[0.1,\"#c51b7d\"],[0.2,\"#de77ae\"],[0.3,\"#f1b6da\"],[0.4,\"#fde0ef\"],[0.5,\"#f7f7f7\"],[0.6,\"#e6f5d0\"],[0.7,\"#b8e186\"],[0.8,\"#7fbc41\"],[0.9,\"#4d9221\"],[1,\"#276419\"]]},\"xaxis\":{\"gridcolor\":\"white\",\"linecolor\":\"white\",\"ticks\":\"\",\"title\":{\"standoff\":15},\"zerolinecolor\":\"white\",\"automargin\":true,\"zerolinewidth\":2},\"yaxis\":{\"gridcolor\":\"white\",\"linecolor\":\"white\",\"ticks\":\"\",\"title\":{\"standoff\":15},\"zerolinecolor\":\"white\",\"automargin\":true,\"zerolinewidth\":2},\"scene\":{\"xaxis\":{\"backgroundcolor\":\"#E5ECF6\",\"gridcolor\":\"white\",\"linecolor\":\"white\",\"showbackground\":true,\"ticks\":\"\",\"zerolinecolor\":\"white\",\"gridwidth\":2},\"yaxis\":{\"backgroundcolor\":\"#E5ECF6\",\"gridcolor\":\"white\",\"linecolor\":\"white\",\"showbackground\":true,\"ticks\":\"\",\"zerolinecolor\":\"white\",\"gridwidth\":2},\"zaxis\":{\"backgroundcolor\":\"#E5ECF6\",\"gridcolor\":\"white\",\"linecolor\":\"white\",\"showbackground\":true,\"ticks\":\"\",\"zerolinecolor\":\"white\",\"gridwidth\":2}},\"shapedefaults\":{\"line\":{\"color\":\"#2a3f5f\"}},\"annotationdefaults\":{\"arrowcolor\":\"#2a3f5f\",\"arrowhead\":0,\"arrowwidth\":1},\"geo\":{\"bgcolor\":\"white\",\"landcolor\":\"#E5ECF6\",\"subunitcolor\":\"white\",\"showland\":true,\"showlakes\":true,\"lakecolor\":\"white\"},\"title\":{\"x\":0.05},\"mapbox\":{\"style\":\"light\"}}},\"title\":{\"text\":\"Average Cost of Heart Attack Care by State\"},\"geo\":{\"scope\":\"usa\"}},                        {\"responsive\": true}                    ).then(function(){\n",
              "                            \n",
              "var gd = document.getElementById('c8620f9c-84d8-4651-8fb5-573113e2c8c1');\n",
              "var x = new MutationObserver(function (mutations, observer) {{\n",
              "        var display = window.getComputedStyle(gd).display;\n",
              "        if (!display || display === 'none') {{\n",
              "            console.log([gd, 'removed!']);\n",
              "            Plotly.purge(gd);\n",
              "            observer.disconnect();\n",
              "        }}\n",
              "}});\n",
              "\n",
              "// Listen for the removal of the full notebook cells\n",
              "var notebookContainer = gd.closest('#notebook-container');\n",
              "if (notebookContainer) {{\n",
              "    x.observe(notebookContainer, {childList: true});\n",
              "}}\n",
              "\n",
              "// Listen for the clearing of the current output cell\n",
              "var outputEl = gd.closest('.output');\n",
              "if (outputEl) {{\n",
              "    x.observe(outputEl, {childList: true});\n",
              "}}\n",
              "\n",
              "                        })                };                            </script>        </div>\n",
              "</body>\n",
              "</html>"
            ]
          },
          "metadata": {}
        },
        {
          "output_type": "display_data",
          "data": {
            "text/html": [
              "<html>\n",
              "<head><meta charset=\"utf-8\" /></head>\n",
              "<body>\n",
              "    <div>            <script src=\"https://cdnjs.cloudflare.com/ajax/libs/mathjax/2.7.5/MathJax.js?config=TeX-AMS-MML_SVG\"></script><script type=\"text/javascript\">if (window.MathJax && window.MathJax.Hub && window.MathJax.Hub.Config) {window.MathJax.Hub.Config({SVG: {font: \"STIX-Web\"}});}</script>                <script type=\"text/javascript\">window.PlotlyConfig = {MathJaxConfig: 'local'};</script>\n",
              "        <script src=\"https://cdn.plot.ly/plotly-2.12.1.min.js\"></script>                <div id=\"bd7b6e04-fb9f-409f-a1ac-a25e470fdc9e\" class=\"plotly-graph-div\" style=\"height:525px; width:100%;\"></div>            <script type=\"text/javascript\">                                    window.PLOTLYENV=window.PLOTLYENV || {};                                    if (document.getElementById(\"bd7b6e04-fb9f-409f-a1ac-a25e470fdc9e\")) {                    Plotly.newPlot(                        \"bd7b6e04-fb9f-409f-a1ac-a25e470fdc9e\",                        [{\"colorbar\":{\"title\":{\"text\":\"Heart Failure Care in Dollars\"}},\"colorscale\":[[0.0,\"rgb(247,251,255)\"],[0.125,\"rgb(222,235,247)\"],[0.25,\"rgb(198,219,239)\"],[0.375,\"rgb(158,202,225)\"],[0.5,\"rgb(107,174,214)\"],[0.625,\"rgb(66,146,198)\"],[0.75,\"rgb(33,113,181)\"],[0.875,\"rgb(8,81,156)\"],[1.0,\"rgb(8,48,107)\"]],\"locationmode\":\"USA-states\",\"locations\":[\"AL\",\"AL\",\"AL\",\"AL\",\"AL\",\"AZ\",\"AZ\",\"AR\",\"AR\",\"AR\",\"AR\",\"AR\",\"AR\",\"AR\",\"AR\",\"CA\",\"CA\",\"CA\",\"CA\",\"CA\",\"CA\",\"CA\",\"CA\",\"CA\",\"CA\",\"CA\",\"CA\",\"CA\",\"CA\",\"CA\",\"CA\",\"CA\",\"CA\",\"CA\",\"CA\",\"CA\",\"CA\",\"CA\",\"CA\",\"CT\",\"CT\",\"CT\",\"CT\",\"CT\",\"CT\",\"DC\",\"DC\",\"DC\",\"DC\",\"DC\",\"FL\",\"FL\",\"FL\",\"FL\",\"FL\",\"FL\",\"FL\",\"FL\",\"FL\",\"FL\",\"FL\",\"FL\",\"FL\",\"FL\",\"FL\",\"FL\",\"FL\",\"FL\",\"FL\",\"FL\",\"FL\",\"FL\",\"FL\",\"FL\",\"FL\",\"FL\",\"FL\",\"FL\",\"FL\",\"FL\",\"FL\",\"FL\",\"GA\",\"GA\",\"GA\",\"GA\",\"GA\",\"GA\",\"GA\",\"GA\",\"GA\",\"GA\",\"GA\",\"GA\",\"IL\",\"IL\",\"IL\",\"IL\",\"IL\",\"IL\",\"IL\",\"IL\",\"IL\",\"IL\",\"IL\",\"IL\",\"IL\",\"IL\",\"IL\",\"IL\",\"IA\",\"KS\",\"KY\",\"KY\",\"KY\",\"KY\",\"KY\",\"KY\",\"LA\",\"LA\",\"MD\",\"MD\",\"MD\",\"MD\",\"MD\",\"MD\",\"MA\",\"MA\",\"MA\",\"MA\",\"MI\",\"MI\",\"MI\",\"MI\",\"MN\",\"MS\",\"MS\",\"MS\",\"MS\",\"MS\",\"MS\",\"MO\",\"MO\",\"MO\",\"MO\",\"MO\",\"MO\",\"MO\",\"NE\",\"NV\",\"NV\",\"NV\",\"NV\",\"NV\",\"NV\",\"NV\",\"NV\",\"NV\",\"NV\",\"NJ\",\"NJ\",\"NJ\",\"NJ\",\"NJ\",\"NJ\",\"NJ\",\"NJ\",\"NM\",\"NM\",\"NM\",\"NY\",\"NY\",\"NY\",\"NY\",\"NY\",\"NY\",\"NY\",\"NY\",\"NY\",\"NY\",\"NY\",\"NY\",\"NY\",\"NY\",\"NY\",\"NY\",\"NY\",\"NY\",\"NY\",\"NY\",\"NY\",\"NY\",\"NY\",\"NY\",\"NY\",\"NY\",\"NY\",\"NY\",\"NY\",\"NY\",\"NY\",\"NY\",\"NY\",\"NY\",\"NY\",\"NY\",\"NY\",\"NY\",\"NY\",\"NY\",\"NY\",\"NY\",\"NY\",\"NY\",\"NY\",\"NY\",\"NY\",\"NY\",\"NC\",\"NC\",\"NC\",\"NC\",\"NC\",\"NC\",\"NC\",\"ND\",\"ND\",\"OH\",\"OH\",\"OK\",\"OK\",\"OK\",\"OK\",\"OK\",\"PA\",\"PA\",\"PA\",\"PA\",\"PA\",\"PA\",\"PA\",\"PA\",\"PA\",\"PA\",\"PA\",\"PA\",\"PA\",\"PR\",\"PR\",\"PR\",\"SC\",\"SC\",\"SC\",\"TN\",\"TN\",\"TN\",\"TN\",\"TN\",\"TN\",\"TN\",\"TN\",\"TN\",\"TN\",\"TX\",\"TX\",\"TX\",\"TX\",\"TX\",\"TX\",\"TX\",\"TX\",\"TX\",\"TX\",\"VA\",\"VA\",\"VA\",\"WA\",\"WA\",\"WV\",\"WV\",\"WI\",\"AL\",\"AL\",\"AL\",\"AL\",\"AL\",\"AL\",\"AL\",\"AL\",\"AL\",\"AL\",\"AL\",\"AL\",\"AL\",\"AL\",\"AL\",\"AL\",\"AL\",\"AL\",\"AL\",\"AL\",\"AL\",\"AL\",\"AL\",\"AK\",\"AZ\",\"AZ\",\"AZ\",\"AZ\",\"AZ\",\"AZ\",\"AZ\",\"AZ\",\"AZ\",\"AZ\",\"AZ\",\"AZ\",\"AZ\",\"AZ\",\"AZ\",\"AZ\",\"AR\",\"AR\",\"AR\",\"AR\",\"AR\",\"AR\",\"AR\",\"AR\",\"AR\",\"AR\",\"AR\",\"AR\",\"AR\",\"AR\",\"AR\",\"AR\",\"AR\",\"AR\",\"AR\",\"AR\",\"CA\",\"CA\",\"CA\",\"CA\",\"CA\",\"CA\",\"CA\",\"CA\",\"CA\",\"CA\",\"CA\",\"CA\",\"CA\",\"CA\",\"CA\",\"CA\",\"CA\",\"CA\",\"CA\",\"CA\",\"CA\",\"CA\",\"CA\",\"CA\",\"CA\",\"CA\",\"CA\",\"CA\",\"CA\",\"CA\",\"CA\",\"CA\",\"CA\",\"CA\",\"CA\",\"CA\",\"CA\",\"CA\",\"CA\",\"CA\",\"CA\",\"CA\",\"CA\",\"CA\",\"CA\",\"CA\",\"CA\",\"CA\",\"CA\",\"CA\",\"CA\",\"CA\",\"CA\",\"CA\",\"CA\",\"CA\",\"CA\",\"CA\",\"CA\",\"CA\",\"CA\",\"CA\",\"CA\",\"CA\",\"CA\",\"CA\",\"CA\",\"CA\",\"CA\",\"CA\",\"CA\",\"CA\",\"CA\",\"CA\",\"CA\",\"CA\",\"CA\",\"CA\",\"CA\",\"CA\",\"CA\",\"CA\",\"CA\",\"CA\",\"CA\",\"CA\",\"CA\",\"CA\",\"CA\",\"CA\",\"CA\",\"CA\",\"CA\",\"CA\",\"CA\",\"CA\",\"CO\",\"CO\",\"CO\",\"CT\",\"CT\",\"CT\",\"CT\",\"DE\",\"DE\",\"DC\",\"FL\",\"FL\",\"FL\",\"FL\",\"FL\",\"FL\",\"FL\",\"FL\",\"FL\",\"FL\",\"FL\",\"FL\",\"FL\",\"FL\",\"FL\",\"FL\",\"FL\",\"FL\",\"FL\",\"FL\",\"FL\",\"FL\",\"FL\",\"FL\",\"FL\",\"FL\",\"FL\",\"FL\",\"FL\",\"FL\",\"FL\",\"FL\",\"FL\",\"FL\",\"FL\",\"FL\",\"FL\",\"FL\",\"FL\",\"FL\",\"FL\",\"FL\",\"FL\",\"FL\",\"FL\",\"FL\",\"FL\",\"FL\",\"FL\",\"FL\",\"FL\",\"FL\",\"FL\",\"FL\",\"FL\",\"FL\",\"FL\",\"FL\",\"FL\",\"FL\",\"GA\",\"GA\",\"GA\",\"GA\",\"GA\",\"GA\",\"GA\",\"GA\",\"GA\",\"GA\",\"GA\",\"GA\",\"GA\",\"GA\",\"GA\",\"GA\",\"GA\",\"GA\",\"GA\",\"GA\",\"GA\",\"GA\",\"GA\",\"HI\",\"ID\",\"ID\",\"ID\",\"IL\",\"IL\",\"IL\",\"IL\",\"IL\",\"IL\",\"IL\",\"IL\",\"IL\",\"IL\",\"IL\",\"IL\",\"IL\",\"IL\",\"IL\",\"IL\",\"IL\",\"IL\",\"IL\",\"IL\",\"IL\",\"IL\",\"IL\",\"IL\",\"IL\",\"IL\",\"IL\",\"IL\",\"IL\",\"IL\",\"IL\",\"IN\",\"IN\",\"IN\",\"IN\",\"IN\",\"IN\",\"IN\",\"IN\",\"IN\",\"IN\",\"IA\",\"IA\",\"IA\",\"IA\",\"IA\",\"IA\",\"IA\",\"IA\",\"IA\",\"IA\",\"IA\",\"KS\",\"KS\",\"KS\",\"KS\",\"KS\",\"KS\",\"KS\",\"KS\",\"KS\",\"KS\",\"KY\",\"KY\",\"KY\",\"KY\",\"KY\",\"KY\",\"KY\",\"KY\",\"KY\",\"KY\",\"KY\",\"KY\",\"KY\",\"KY\",\"KY\",\"KY\",\"KY\",\"KY\",\"KY\",\"KY\",\"KY\",\"KY\",\"LA\",\"LA\",\"LA\",\"LA\",\"LA\",\"LA\",\"LA\",\"LA\",\"LA\",\"LA\",\"LA\",\"LA\",\"LA\",\"LA\",\"LA\",\"LA\",\"LA\",\"LA\",\"LA\",\"LA\",\"LA\",\"ME\",\"ME\",\"ME\",\"ME\",\"ME\",\"MD\",\"MD\",\"MD\",\"MD\",\"MD\",\"MD\",\"MA\",\"MA\",\"MA\",\"MA\",\"MA\",\"MA\",\"MA\",\"MA\",\"MA\",\"MA\",\"MA\",\"MA\",\"MA\",\"MA\",\"MA\",\"MI\",\"MI\",\"MI\",\"MI\",\"MI\",\"MI\",\"MI\",\"MI\",\"MI\",\"MI\",\"MI\",\"MI\",\"MI\",\"MN\",\"MN\",\"MN\",\"MN\",\"MN\",\"MS\",\"MS\",\"MS\",\"MS\",\"MS\",\"MS\",\"MS\",\"MS\",\"MS\",\"MS\",\"MS\",\"MS\",\"MS\",\"MS\",\"MS\",\"MS\",\"MS\",\"MS\",\"MS\",\"MS\",\"MS\",\"MS\",\"MS\",\"MS\",\"MS\",\"MO\",\"MO\",\"MO\",\"MO\",\"MO\",\"MO\",\"MO\",\"MO\",\"MO\",\"MO\",\"MO\",\"MO\",\"MO\",\"MO\",\"MO\",\"MO\",\"MO\",\"MT\",\"MT\",\"NE\",\"NE\",\"NE\",\"NV\",\"NV\",\"NV\",\"NV\",\"NV\",\"NV\",\"NH\",\"NH\",\"NH\",\"NH\",\"NJ\",\"NJ\",\"NJ\",\"NJ\",\"NJ\",\"NJ\",\"NJ\",\"NJ\",\"NJ\",\"NJ\",\"NJ\",\"NJ\",\"NJ\",\"NJ\",\"NJ\",\"NJ\",\"NJ\",\"NJ\",\"NJ\",\"NJ\",\"NJ\",\"NJ\",\"NJ\",\"NJ\",\"NJ\",\"NJ\",\"NM\",\"NM\",\"NM\",\"NM\",\"NM\",\"NM\",\"NM\",\"NM\",\"NY\",\"NY\",\"NY\",\"NY\",\"NY\",\"NY\",\"NY\",\"NY\",\"NY\",\"NY\",\"NY\",\"NY\",\"NY\",\"NY\",\"NY\",\"NY\",\"NY\",\"NY\",\"NY\",\"NY\",\"NY\",\"NY\",\"NY\",\"NY\",\"NY\",\"NY\",\"NY\",\"NY\",\"NY\",\"NY\",\"NY\",\"NY\",\"NY\",\"NY\",\"NY\",\"NY\",\"NY\",\"NY\",\"NY\",\"NY\",\"NY\",\"NY\",\"NY\",\"NY\",\"NY\",\"NC\",\"NC\",\"NC\",\"NC\",\"NC\",\"NC\",\"NC\",\"NC\",\"NC\",\"NC\",\"NC\",\"NC\",\"NC\",\"NC\",\"NC\",\"NC\",\"NC\",\"NC\",\"ND\",\"ND\",\"OH\",\"OH\",\"OH\",\"OH\",\"OH\",\"OH\",\"OH\",\"OH\",\"OH\",\"OH\",\"OH\",\"OH\",\"OH\",\"OH\",\"OH\",\"OH\",\"OH\",\"OH\",\"OH\",\"OH\",\"OH\",\"OH\",\"OK\",\"OK\",\"OK\",\"OK\",\"OK\",\"OK\",\"OK\",\"OK\",\"OK\",\"OK\",\"OK\",\"OK\",\"OK\",\"OK\",\"OK\",\"OK\",\"OK\",\"OK\",\"OK\",\"OR\",\"OR\",\"OR\",\"OR\",\"PA\",\"PA\",\"PA\",\"PA\",\"PA\",\"PA\",\"PA\",\"PA\",\"PA\",\"PA\",\"PA\",\"PA\",\"PA\",\"PA\",\"PA\",\"PA\",\"PA\",\"PA\",\"PA\",\"PA\",\"PA\",\"PA\",\"PA\",\"PA\",\"PA\",\"PA\",\"PA\",\"PA\",\"PA\",\"PA\",\"PA\",\"PA\",\"PA\",\"PA\",\"PA\",\"PA\",\"PA\",\"PR\",\"PR\",\"PR\",\"RI\",\"RI\",\"RI\",\"SC\",\"SC\",\"SC\",\"SC\",\"SC\",\"SC\",\"SC\",\"SC\",\"SC\",\"SC\",\"SC\",\"SC\",\"SC\",\"SC\",\"SC\",\"SD\",\"TN\",\"TN\",\"TN\",\"TN\",\"TN\",\"TN\",\"TN\",\"TN\",\"TN\",\"TN\",\"TN\",\"TN\",\"TN\",\"TN\",\"TN\",\"TN\",\"TN\",\"TN\",\"TN\",\"TN\",\"TN\",\"TN\",\"TN\",\"TN\",\"TN\",\"TN\",\"TN\",\"TX\",\"TX\",\"TX\",\"TX\",\"TX\",\"TX\",\"TX\",\"TX\",\"TX\",\"TX\",\"TX\",\"TX\",\"TX\",\"TX\",\"TX\",\"TX\",\"TX\",\"TX\",\"TX\",\"TX\",\"TX\",\"TX\",\"TX\",\"TX\",\"TX\",\"TX\",\"TX\",\"TX\",\"TX\",\"TX\",\"TX\",\"TX\",\"TX\",\"TX\",\"TX\",\"TX\",\"TX\",\"TX\",\"TX\",\"TX\",\"TX\",\"TX\",\"TX\",\"TX\",\"TX\",\"TX\",\"TX\",\"TX\",\"TX\",\"TX\",\"TX\",\"UT\",\"UT\",\"VT\",\"VI\",\"VA\",\"VA\",\"VA\",\"VA\",\"VA\",\"VA\",\"VA\",\"VA\",\"VA\",\"VA\",\"VA\",\"VA\",\"VA\",\"VA\",\"VA\",\"VA\",\"VA\",\"WA\",\"WA\",\"WA\",\"WA\",\"WA\",\"WA\",\"WA\",\"WA\",\"WA\",\"WA\",\"WA\",\"WA\",\"WA\",\"WA\",\"WA\",\"WA\",\"WA\",\"WV\",\"WV\",\"WV\",\"WV\",\"WV\",\"WV\",\"WV\",\"WV\",\"WV\",\"WV\",\"WI\",\"WI\",\"WI\",\"WI\",\"WI\",\"WY\",\"WY\",\"TX\",\"TX\",\"AL\",\"AL\",\"AL\",\"AL\",\"AL\",\"AL\",\"AL\",\"AL\",\"AL\",\"AL\",\"AL\",\"AL\",\"AL\",\"AL\",\"AL\",\"AL\",\"AL\",\"AL\",\"AL\",\"AL\",\"AL\",\"AL\",\"AL\",\"AL\",\"AL\",\"AL\",\"AL\",\"AL\",\"AL\",\"AL\",\"AL\",\"AK\",\"AK\",\"AK\",\"AZ\",\"AZ\",\"AZ\",\"AZ\",\"AZ\",\"AZ\",\"AZ\",\"AZ\",\"AZ\",\"AZ\",\"AZ\",\"AZ\",\"AZ\",\"AZ\",\"AZ\",\"AZ\",\"AZ\",\"AZ\",\"AZ\",\"AR\",\"AR\",\"AR\",\"AR\",\"AR\",\"AR\",\"AR\",\"AR\",\"AR\",\"AR\",\"AR\",\"AR\",\"AR\",\"AR\",\"AR\",\"AR\",\"AR\",\"AR\",\"AR\",\"AR\",\"AR\",\"AR\",\"AR\",\"CA\",\"CA\",\"CA\",\"CA\",\"CA\",\"CA\",\"CA\",\"CA\",\"CA\",\"CA\",\"CA\",\"CA\",\"CA\",\"CA\",\"CA\",\"CA\",\"CA\",\"CA\",\"CA\",\"CA\",\"CA\",\"CA\",\"CA\",\"CA\",\"CA\",\"CA\",\"CA\",\"CA\",\"CA\",\"CA\",\"CA\",\"CA\",\"CA\",\"CA\",\"CA\",\"CA\",\"CA\",\"CA\",\"CA\",\"CA\",\"CA\",\"CA\",\"CA\",\"CA\",\"CA\",\"CA\",\"CA\",\"CA\",\"CA\",\"CA\",\"CA\",\"CA\",\"CA\",\"CA\",\"CA\",\"CA\",\"CA\",\"CA\",\"CA\",\"CA\",\"CA\",\"CA\",\"CA\",\"CA\",\"CA\",\"CA\",\"CA\",\"CA\",\"CA\",\"CA\",\"CA\",\"CA\",\"CA\",\"CA\",\"CA\",\"CA\",\"CA\",\"CA\",\"CA\",\"CA\",\"CA\",\"CA\",\"CA\",\"CA\",\"CA\",\"CA\",\"CA\",\"CA\",\"CA\",\"CA\",\"CA\",\"CA\",\"CA\",\"CO\",\"CO\",\"CO\",\"CO\",\"CO\",\"CO\",\"CO\",\"CO\",\"CO\",\"CO\",\"CO\",\"CO\",\"CO\",\"CO\",\"CO\",\"CO\",\"CO\",\"CO\",\"CO\",\"CO\",\"CO\",\"CO\",\"CO\",\"CT\",\"CT\",\"CT\",\"CT\",\"CT\",\"CT\",\"CT\",\"CT\",\"CT\",\"DE\",\"DE\",\"DE\",\"DC\",\"FL\",\"FL\",\"FL\",\"FL\",\"FL\",\"FL\",\"FL\",\"FL\",\"FL\",\"FL\",\"FL\",\"FL\",\"FL\",\"FL\",\"FL\",\"FL\",\"FL\",\"FL\",\"FL\",\"FL\",\"FL\",\"FL\",\"FL\",\"FL\",\"FL\",\"FL\",\"FL\",\"FL\",\"FL\",\"FL\",\"FL\",\"FL\",\"FL\",\"FL\",\"FL\",\"FL\",\"FL\",\"FL\",\"FL\",\"FL\",\"GA\",\"GA\",\"GA\",\"GA\",\"GA\",\"GA\",\"GA\",\"GA\",\"GA\",\"GA\",\"GA\",\"GA\",\"GA\",\"GA\",\"GA\",\"GA\",\"GA\",\"GA\",\"GA\",\"GA\",\"GA\",\"GA\",\"GA\",\"GA\",\"GA\",\"GA\",\"GA\",\"GA\",\"GA\",\"GA\",\"GA\",\"GA\",\"GA\",\"GA\",\"GA\",\"GA\",\"GA\",\"GA\",\"GA\",\"GA\",\"GA\",\"GA\",\"HI\",\"HI\",\"HI\",\"HI\",\"ID\",\"ID\",\"ID\",\"ID\",\"ID\",\"ID\",\"IL\",\"IL\",\"IL\",\"IL\",\"IL\",\"IL\",\"IL\",\"IL\",\"IL\",\"IL\",\"IL\",\"IL\",\"IL\",\"IL\",\"IL\",\"IL\",\"IL\",\"IL\",\"IL\",\"IL\",\"IL\",\"IL\",\"IL\",\"IL\",\"IL\",\"IL\",\"IL\",\"IL\",\"IL\",\"IL\",\"IL\",\"IL\",\"IL\",\"IL\",\"IL\",\"IL\",\"IL\",\"IL\",\"IL\",\"IL\",\"IL\",\"IL\",\"IL\",\"IL\",\"IL\",\"IL\",\"IL\",\"IL\",\"IL\",\"IL\",\"IL\",\"IL\",\"IL\",\"IL\",\"IL\",\"IN\",\"IN\",\"IN\",\"IN\",\"IN\",\"IN\",\"IN\",\"IN\",\"IN\",\"IN\",\"IN\",\"IN\",\"IN\",\"IN\",\"IN\",\"IN\",\"IN\",\"IN\",\"IN\",\"IN\",\"IN\",\"IN\",\"IN\",\"IN\",\"IN\",\"IN\",\"IN\",\"IN\",\"IN\",\"IN\",\"IN\",\"IN\",\"IN\",\"IN\",\"IN\",\"IN\",\"IA\",\"IA\",\"IA\",\"IA\",\"IA\",\"IA\",\"IA\",\"IA\",\"IA\",\"IA\",\"IA\",\"IA\",\"IA\",\"IA\",\"IA\",\"IA\",\"IA\",\"IA\",\"IA\",\"IA\",\"IA\",\"IA\",\"IA\",\"IA\",\"IA\",\"IA\",\"IA\",\"IA\",\"IA\",\"KS\",\"KS\",\"KS\",\"KS\",\"KS\",\"KS\",\"KS\",\"KS\",\"KS\",\"KS\",\"KS\",\"KS\",\"KS\",\"KS\",\"KS\",\"KS\",\"KS\",\"KS\",\"KS\",\"KS\",\"KS\",\"KS\",\"KS\",\"KS\",\"KS\",\"KS\",\"KS\",\"KS\",\"KS\",\"KS\",\"KY\",\"KY\",\"KY\",\"KY\",\"KY\",\"KY\",\"KY\",\"KY\",\"KY\",\"KY\",\"KY\",\"KY\",\"KY\",\"KY\",\"KY\",\"KY\",\"KY\",\"KY\",\"KY\",\"KY\",\"KY\",\"KY\",\"KY\",\"KY\",\"KY\",\"KY\",\"KY\",\"KY\",\"KY\",\"KY\",\"KY\",\"KY\",\"LA\",\"LA\",\"LA\",\"LA\",\"LA\",\"LA\",\"LA\",\"LA\",\"LA\",\"LA\",\"LA\",\"LA\",\"LA\",\"LA\",\"LA\",\"LA\",\"LA\",\"LA\",\"LA\",\"LA\",\"LA\",\"LA\",\"LA\",\"LA\",\"LA\",\"LA\",\"LA\",\"LA\",\"LA\",\"LA\",\"LA\",\"LA\",\"LA\",\"LA\",\"LA\",\"ME\",\"ME\",\"ME\",\"ME\",\"ME\",\"ME\",\"ME\",\"ME\",\"ME\",\"ME\",\"MD\",\"MD\",\"MD\",\"MD\",\"MD\",\"MD\",\"MD\",\"MD\",\"MD\",\"MD\",\"MD\",\"MD\",\"MD\",\"MD\",\"MD\",\"MD\",\"MD\",\"MD\",\"MD\",\"MA\",\"MA\",\"MA\",\"MA\",\"MA\",\"MA\",\"MA\",\"MA\",\"MA\",\"MA\",\"MA\",\"MA\",\"MA\",\"MA\",\"MA\",\"MA\",\"MA\",\"MA\",\"MA\",\"MI\",\"MI\",\"MI\",\"MI\",\"MI\",\"MI\",\"MI\",\"MI\",\"MI\",\"MI\",\"MI\",\"MI\",\"MI\",\"MI\",\"MI\",\"MI\",\"MI\",\"MI\",\"MI\",\"MI\",\"MI\",\"MI\",\"MI\",\"MI\",\"MI\",\"MI\",\"MI\",\"MI\",\"MI\",\"MI\",\"MI\",\"MI\",\"MI\",\"MI\",\"MI\",\"MI\",\"MI\",\"MN\",\"MN\",\"MN\",\"MN\",\"MN\",\"MN\",\"MN\",\"MN\",\"MN\",\"MN\",\"MN\",\"MN\",\"MN\",\"MN\",\"MN\",\"MN\",\"MN\",\"MN\",\"MN\",\"MS\",\"MS\",\"MS\",\"MS\",\"MS\",\"MS\",\"MS\",\"MS\",\"MS\",\"MS\",\"MS\",\"MS\",\"MS\",\"MS\",\"MS\",\"MS\",\"MS\",\"MS\",\"MS\",\"MS\",\"MS\",\"MS\",\"MS\",\"MS\",\"MS\",\"MS\",\"MO\",\"MO\",\"MO\",\"MO\",\"MO\",\"MO\",\"MO\",\"MO\",\"MO\",\"MO\",\"MO\",\"MO\",\"MO\",\"MO\",\"MO\",\"MO\",\"MO\",\"MO\",\"MO\",\"MO\",\"MO\",\"MO\",\"MO\",\"MO\",\"MO\",\"MO\",\"MO\",\"MO\",\"MO\",\"MO\",\"MO\",\"MO\",\"MO\",\"MO\",\"MO\",\"MO\",\"MT\",\"MT\",\"MT\",\"MT\",\"MT\",\"MT\",\"MT\",\"MT\",\"NE\",\"NE\",\"NE\",\"NE\",\"NE\",\"NE\",\"NE\",\"NE\",\"NE\",\"NE\",\"NE\",\"NE\",\"NE\",\"NE\",\"NE\",\"NE\",\"NE\",\"NE\",\"NE\",\"NE\",\"NE\",\"NE\",\"NE\",\"NE\",\"NE\",\"NE\",\"NV\",\"NV\",\"NV\",\"NV\",\"NV\",\"NV\",\"NV\",\"NH\",\"NH\",\"NH\",\"NH\",\"NH\",\"NH\",\"NH\",\"NH\",\"NH\",\"NJ\",\"NJ\",\"NJ\",\"NJ\",\"NJ\",\"NJ\",\"NJ\",\"NJ\",\"NJ\",\"NJ\",\"NJ\",\"NJ\",\"NJ\",\"NJ\",\"NM\",\"NM\",\"NM\",\"NM\",\"NM\",\"NM\",\"NM\",\"NM\",\"NM\",\"NM\",\"NM\",\"NM\",\"NM\",\"NY\",\"NY\",\"NY\",\"NY\",\"NY\",\"NY\",\"NY\",\"NY\",\"NY\",\"NY\",\"NY\",\"NY\",\"NY\",\"NY\",\"NY\",\"NY\",\"NY\",\"NY\",\"NY\",\"NY\",\"NY\",\"NY\",\"NY\",\"NY\",\"NY\",\"NY\",\"NY\",\"NY\",\"NY\",\"NY\",\"NY\",\"NY\",\"NY\",\"NY\",\"NY\",\"NY\",\"NY\",\"NY\",\"NY\",\"NY\",\"NC\",\"NC\",\"NC\",\"NC\",\"NC\",\"NC\",\"NC\",\"NC\",\"NC\",\"NC\",\"NC\",\"NC\",\"NC\",\"NC\",\"NC\",\"NC\",\"NC\",\"NC\",\"NC\",\"NC\",\"NC\",\"NC\",\"NC\",\"NC\",\"NC\",\"NC\",\"NC\",\"NC\",\"NC\",\"NC\",\"NC\",\"NC\",\"NC\",\"NC\",\"NC\",\"NC\",\"ND\",\"ND\",\"ND\",\"ND\",\"ND\",\"ND\",\"ND\",\"ND\",\"OH\",\"OH\",\"OH\",\"OH\",\"OH\",\"OH\",\"OH\",\"OH\",\"OH\",\"OH\",\"OH\",\"OH\",\"OH\",\"OH\",\"OH\",\"OH\",\"OH\",\"OH\",\"OH\",\"OH\",\"OH\",\"OH\",\"OH\",\"OH\",\"OH\",\"OH\",\"OH\",\"OH\",\"OH\",\"OH\",\"OH\",\"OH\",\"OH\",\"OH\",\"OH\",\"OH\",\"OH\",\"OH\",\"OH\",\"OH\",\"OH\",\"OH\",\"OH\",\"OH\",\"OH\",\"OH\",\"OH\",\"OH\",\"OH\",\"OH\",\"OK\",\"OK\",\"OK\",\"OK\",\"OK\",\"OK\",\"OK\",\"OK\",\"OK\",\"OK\",\"OK\",\"OK\",\"OK\",\"OK\",\"OK\",\"OK\",\"OK\",\"OK\",\"OK\",\"OK\",\"OK\",\"OK\",\"OK\",\"OK\",\"OK\",\"OK\",\"OK\",\"OK\",\"OR\",\"OR\",\"OR\",\"OR\",\"OR\",\"OR\",\"OR\",\"OR\",\"OR\",\"OR\",\"OR\",\"OR\",\"OR\",\"OR\",\"OR\",\"OR\",\"OR\",\"OR\",\"OR\",\"OR\",\"OR\",\"OR\",\"OR\",\"PA\",\"PA\",\"PA\",\"PA\",\"PA\",\"PA\",\"PA\",\"PA\",\"PA\",\"PA\",\"PA\",\"PA\",\"PA\",\"PA\",\"PA\",\"PA\",\"PA\",\"PA\",\"PA\",\"PA\",\"PA\",\"PA\",\"PA\",\"PA\",\"PA\",\"PA\",\"PA\",\"PA\",\"PA\",\"PA\",\"PA\",\"PA\",\"PA\",\"PA\",\"PA\",\"PA\",\"PA\",\"PA\",\"PA\",\"PA\",\"PA\",\"PA\",\"PA\",\"PA\",\"PA\",\"PA\",\"PA\",\"PA\",\"PA\",\"PA\",\"PA\",\"PA\",\"PA\",\"RI\",\"RI\",\"RI\",\"SC\",\"SC\",\"SC\",\"SC\",\"SC\",\"SC\",\"SC\",\"SC\",\"SC\",\"SC\",\"SC\",\"SC\",\"SC\",\"SC\",\"SC\",\"SC\",\"SC\",\"SD\",\"SD\",\"SD\",\"SD\",\"SD\",\"SD\",\"TN\",\"TN\",\"TN\",\"TN\",\"TN\",\"TN\",\"TN\",\"TN\",\"TN\",\"TN\",\"TN\",\"TN\",\"TN\",\"TN\",\"TN\",\"TN\",\"TN\",\"TN\",\"TN\",\"TN\",\"TN\",\"TN\",\"TN\",\"TN\",\"TN\",\"TN\",\"TN\",\"TN\",\"TN\",\"TN\",\"TN\",\"TN\",\"TX\",\"TX\",\"TX\",\"TX\",\"TX\",\"TX\",\"TX\",\"TX\",\"TX\",\"TX\",\"TX\",\"TX\",\"TX\",\"TX\",\"TX\",\"TX\",\"TX\",\"TX\",\"TX\",\"TX\",\"TX\",\"TX\",\"TX\",\"TX\",\"TX\",\"TX\",\"TX\",\"TX\",\"TX\",\"TX\",\"TX\",\"TX\",\"TX\",\"TX\",\"TX\",\"TX\",\"TX\",\"TX\",\"TX\",\"TX\",\"TX\",\"TX\",\"TX\",\"TX\",\"TX\",\"TX\",\"TX\",\"TX\",\"TX\",\"TX\",\"TX\",\"TX\",\"TX\",\"TX\",\"TX\",\"TX\",\"TX\",\"TX\",\"TX\",\"TX\",\"TX\",\"TX\",\"TX\",\"TX\",\"TX\",\"TX\",\"TX\",\"TX\",\"TX\",\"TX\",\"TX\",\"TX\",\"TX\",\"TX\",\"TX\",\"TX\",\"TX\",\"TX\",\"TX\",\"TX\",\"TX\",\"TX\",\"UT\",\"UT\",\"UT\",\"UT\",\"UT\",\"UT\",\"UT\",\"VT\",\"VT\",\"VT\",\"VT\",\"VT\",\"VT\",\"VI\",\"VA\",\"VA\",\"VA\",\"VA\",\"VA\",\"VA\",\"VA\",\"VA\",\"VA\",\"VA\",\"VA\",\"VA\",\"VA\",\"VA\",\"VA\",\"VA\",\"VA\",\"VA\",\"VA\",\"VA\",\"VA\",\"VA\",\"VA\",\"VA\",\"WA\",\"WA\",\"WA\",\"WA\",\"WA\",\"WA\",\"WA\",\"WA\",\"WA\",\"WA\",\"WA\",\"WA\",\"WA\",\"WA\",\"WA\",\"WA\",\"WA\",\"WA\",\"WA\",\"WA\",\"WA\",\"WA\",\"WA\",\"WA\",\"WV\",\"WV\",\"WV\",\"WV\",\"WV\",\"WV\",\"WV\",\"WV\",\"WV\",\"WV\",\"WV\",\"WV\",\"WV\",\"WV\",\"WV\",\"WV\",\"WV\",\"WV\",\"WI\",\"WI\",\"WI\",\"WI\",\"WI\",\"WI\",\"WI\",\"WI\",\"WI\",\"WI\",\"WI\",\"WI\",\"WI\",\"WI\",\"WI\",\"WI\",\"WI\",\"WI\",\"WI\",\"WI\",\"WI\",\"WY\",\"WY\",\"WY\",\"WY\",\"WY\",\"WY\",\"WY\",\"WY\",\"WY\",\"TX\",\"TX\",\"TX\",\"TX\",\"TX\",\"TX\",\"TX\",\"TX\",\"TX\",\"TX\",\"TX\",\"TX\",\"TX\",\"AL\",\"AL\",\"AL\",\"AL\",\"AL\",\"AL\",\"AL\",\"AL\",\"AL\",\"AL\",\"AL\",\"AL\",\"AL\",\"AL\",\"AL\",\"AK\",\"AK\",\"AK\",\"AK\",\"AZ\",\"AZ\",\"AZ\",\"AZ\",\"AZ\",\"AZ\",\"AZ\",\"AZ\",\"AZ\",\"AZ\",\"AZ\",\"AZ\",\"AZ\",\"AZ\",\"AR\",\"AR\",\"AR\",\"AR\",\"AR\",\"AR\",\"AR\",\"AR\",\"AR\",\"CA\",\"CA\",\"CA\",\"CA\",\"CA\",\"CA\",\"CA\",\"CA\",\"CA\",\"CA\",\"CA\",\"CA\",\"CA\",\"CA\",\"CA\",\"CA\",\"CA\",\"CA\",\"CA\",\"CA\",\"CA\",\"CA\",\"CA\",\"CA\",\"CA\",\"CA\",\"CA\",\"CA\",\"CA\",\"CA\",\"CA\",\"CA\",\"CA\",\"CA\",\"CA\",\"CA\",\"CA\",\"CA\",\"CA\",\"CA\",\"CA\",\"CA\",\"CA\",\"CA\",\"CA\",\"CA\",\"CA\",\"CA\",\"CA\",\"CA\",\"CA\",\"CA\",\"CA\",\"CA\",\"CA\",\"CA\",\"CA\",\"CA\",\"CA\",\"CA\",\"CA\",\"CA\",\"CO\",\"CO\",\"CO\",\"CO\",\"CO\",\"CO\",\"CO\",\"CO\",\"CO\",\"CO\",\"CO\",\"CO\",\"CO\",\"CO\",\"CO\",\"CO\",\"CO\",\"CO\",\"CO\",\"CO\",\"CO\",\"CO\",\"CO\",\"CO\",\"CO\",\"CT\",\"CT\",\"CT\",\"CT\",\"CT\",\"CT\",\"CT\",\"CT\",\"CT\",\"DE\",\"FL\",\"FL\",\"FL\",\"FL\",\"FL\",\"FL\",\"FL\",\"FL\",\"FL\",\"FL\",\"FL\",\"FL\",\"FL\",\"FL\",\"FL\",\"FL\",\"FL\",\"FL\",\"FL\",\"FL\",\"FL\",\"FL\",\"FL\",\"FL\",\"FL\",\"FL\",\"FL\",\"FL\",\"GA\",\"GA\",\"GA\",\"GA\",\"GA\",\"GA\",\"GA\",\"GA\",\"GA\",\"GA\",\"GA\",\"GA\",\"GA\",\"GA\",\"GA\",\"GA\",\"GA\",\"GA\",\"GA\",\"GA\",\"GA\",\"GA\",\"GA\",\"GA\",\"GA\",\"GA\",\"HI\",\"HI\",\"HI\",\"HI\",\"HI\",\"ID\",\"ID\",\"ID\",\"ID\",\"ID\",\"ID\",\"ID\",\"ID\",\"ID\",\"ID\",\"ID\",\"IL\",\"IL\",\"IL\",\"IL\",\"IL\",\"IL\",\"IL\",\"IL\",\"IL\",\"IL\",\"IL\",\"IL\",\"IL\",\"IL\",\"IL\",\"IL\",\"IL\",\"IL\",\"IL\",\"IL\",\"IL\",\"IL\",\"IL\",\"IL\",\"IL\",\"IL\",\"IL\",\"IL\",\"IL\",\"IL\",\"IL\",\"IL\",\"IL\",\"IL\",\"IL\",\"IL\",\"IL\",\"IL\",\"IL\",\"IL\",\"IL\",\"IL\",\"IL\",\"IL\",\"IL\",\"IL\",\"IL\",\"IL\",\"IL\",\"IN\",\"IN\",\"IN\",\"IN\",\"IN\",\"IN\",\"IN\",\"IN\",\"IN\",\"IN\",\"IN\",\"IN\",\"IN\",\"IN\",\"IN\",\"IN\",\"IN\",\"IN\",\"IN\",\"IN\",\"IN\",\"IN\",\"IN\",\"IN\",\"IN\",\"IN\",\"IN\",\"IN\",\"IN\",\"IN\",\"IN\",\"IN\",\"IN\",\"IN\",\"IN\",\"IN\",\"IN\",\"IN\",\"IN\",\"IN\",\"IN\",\"IN\",\"IN\",\"IN\",\"IN\",\"IN\",\"IN\",\"IN\",\"IN\",\"IN\",\"IN\",\"IA\",\"IA\",\"IA\",\"IA\",\"IA\",\"IA\",\"IA\",\"IA\",\"IA\",\"IA\",\"IA\",\"IA\",\"IA\",\"IA\",\"IA\",\"IA\",\"IA\",\"IA\",\"IA\",\"IA\",\"IA\",\"IA\",\"IA\",\"IA\",\"IA\",\"IA\",\"IA\",\"IA\",\"IA\",\"IA\",\"IA\",\"IA\",\"IA\",\"IA\",\"IA\",\"IA\",\"KS\",\"KS\",\"KS\",\"KS\",\"KS\",\"KS\",\"KS\",\"KS\",\"KS\",\"KS\",\"KS\",\"KS\",\"KS\",\"KS\",\"KS\",\"KS\",\"KS\",\"KS\",\"KS\",\"KS\",\"KS\",\"KY\",\"KY\",\"KY\",\"KY\",\"KY\",\"KY\",\"KY\",\"KY\",\"KY\",\"KY\",\"KY\",\"KY\",\"KY\",\"KY\",\"KY\",\"KY\",\"KY\",\"KY\",\"KY\",\"KY\",\"KY\",\"LA\",\"LA\",\"LA\",\"LA\",\"LA\",\"LA\",\"LA\",\"LA\",\"LA\",\"LA\",\"LA\",\"LA\",\"LA\",\"LA\",\"LA\",\"LA\",\"LA\",\"LA\",\"LA\",\"LA\",\"ME\",\"ME\",\"ME\",\"ME\",\"ME\",\"ME\",\"ME\",\"ME\",\"ME\",\"ME\",\"ME\",\"ME\",\"ME\",\"ME\",\"MD\",\"MD\",\"MD\",\"MD\",\"MD\",\"MD\",\"MD\",\"MD\",\"MD\",\"MA\",\"MA\",\"MA\",\"MA\",\"MA\",\"MA\",\"MA\",\"MA\",\"MA\",\"MA\",\"MA\",\"MI\",\"MI\",\"MI\",\"MI\",\"MI\",\"MI\",\"MI\",\"MI\",\"MI\",\"MI\",\"MI\",\"MI\",\"MI\",\"MI\",\"MI\",\"MI\",\"MI\",\"MI\",\"MI\",\"MI\",\"MI\",\"MI\",\"MI\",\"MI\",\"MI\",\"MI\",\"MI\",\"MI\",\"MI\",\"MI\",\"MI\",\"MI\",\"MI\",\"MI\",\"MI\",\"MI\",\"MI\",\"MI\",\"MI\",\"MI\",\"MI\",\"MI\",\"MI\",\"MI\",\"MI\",\"MI\",\"MI\",\"MI\",\"MI\",\"MI\",\"MI\",\"MN\",\"MN\",\"MN\",\"MN\",\"MN\",\"MN\",\"MN\",\"MN\",\"MN\",\"MN\",\"MN\",\"MN\",\"MN\",\"MN\",\"MN\",\"MN\",\"MN\",\"MN\",\"MN\",\"MN\",\"MN\",\"MN\",\"MN\",\"MN\",\"MN\",\"MN\",\"MN\",\"MN\",\"MN\",\"MN\",\"MN\",\"MN\",\"MN\",\"MN\",\"MN\",\"MN\",\"MN\",\"MN\",\"MN\",\"MN\",\"MN\",\"MN\",\"MN\",\"MS\",\"MS\",\"MS\",\"MS\",\"MS\",\"MS\",\"MS\",\"MO\",\"MO\",\"MO\",\"MO\",\"MO\",\"MO\",\"MO\",\"MO\",\"MO\",\"MO\",\"MO\",\"MO\",\"MO\",\"MO\",\"MO\",\"MO\",\"MO\",\"MO\",\"MO\",\"MO\",\"MO\",\"MO\",\"MO\",\"MT\",\"MT\",\"MT\",\"MT\",\"MT\",\"MT\",\"MT\",\"MT\",\"MT\",\"MT\",\"MT\",\"MT\",\"NE\",\"NE\",\"NE\",\"NE\",\"NE\",\"NE\",\"NE\",\"NE\",\"NE\",\"NE\",\"NE\",\"NE\",\"NE\",\"NE\",\"NE\",\"NE\",\"NE\",\"NE\",\"NE\",\"NE\",\"NE\",\"NE\",\"NE\",\"NE\",\"NE\",\"NV\",\"NV\",\"NV\",\"NV\",\"NH\",\"NH\",\"NH\",\"NH\",\"NH\",\"NH\",\"NH\",\"NH\",\"NH\",\"NH\",\"NJ\",\"NJ\",\"NJ\",\"NJ\",\"NJ\",\"NJ\",\"NJ\",\"NJ\",\"NJ\",\"NJ\",\"NM\",\"NM\",\"NM\",\"NM\",\"NM\",\"NM\",\"NY\",\"NY\",\"NY\",\"NY\",\"NY\",\"NY\",\"NY\",\"NY\",\"NY\",\"NY\",\"NY\",\"NY\",\"NY\",\"NY\",\"NY\",\"NY\",\"NC\",\"NC\",\"NC\",\"NC\",\"NC\",\"NC\",\"NC\",\"NC\",\"NC\",\"NC\",\"NC\",\"NC\",\"NC\",\"NC\",\"NC\",\"NC\",\"NC\",\"NC\",\"NC\",\"NC\",\"NC\",\"NC\",\"NC\",\"NC\",\"NC\",\"NC\",\"ND\",\"ND\",\"ND\",\"ND\",\"ND\",\"ND\",\"ND\",\"ND\",\"OH\",\"OH\",\"OH\",\"OH\",\"OH\",\"OH\",\"OH\",\"OH\",\"OH\",\"OH\",\"OH\",\"OH\",\"OH\",\"OH\",\"OH\",\"OH\",\"OH\",\"OH\",\"OH\",\"OH\",\"OH\",\"OH\",\"OH\",\"OH\",\"OH\",\"OH\",\"OH\",\"OH\",\"OH\",\"OH\",\"OH\",\"OH\",\"OH\",\"OH\",\"OH\",\"OH\",\"OH\",\"OH\",\"OH\",\"OH\",\"OH\",\"OH\",\"OH\",\"OH\",\"OH\",\"OH\",\"OH\",\"OH\",\"OH\",\"OH\",\"OH\",\"OH\",\"OK\",\"OK\",\"OK\",\"OK\",\"OK\",\"OK\",\"OK\",\"OK\",\"OK\",\"OK\",\"OK\",\"OK\",\"OK\",\"OK\",\"OK\",\"OK\",\"OK\",\"OK\",\"OK\",\"OK\",\"OK\",\"OK\",\"OK\",\"OK\",\"OR\",\"OR\",\"OR\",\"OR\",\"OR\",\"OR\",\"OR\",\"OR\",\"OR\",\"OR\",\"OR\",\"OR\",\"OR\",\"OR\",\"OR\",\"OR\",\"OR\",\"OR\",\"OR\",\"OR\",\"OR\",\"OR\",\"PA\",\"PA\",\"PA\",\"PA\",\"PA\",\"PA\",\"PA\",\"PA\",\"PA\",\"PA\",\"PA\",\"PA\",\"PA\",\"PA\",\"PA\",\"PA\",\"PA\",\"PA\",\"PA\",\"PA\",\"PA\",\"PA\",\"PA\",\"PA\",\"PA\",\"PA\",\"PA\",\"PA\",\"PA\",\"PA\",\"PA\",\"PA\",\"PA\",\"PA\",\"PA\",\"PA\",\"RI\",\"RI\",\"SC\",\"SC\",\"SC\",\"SC\",\"SC\",\"SC\",\"SC\",\"SC\",\"SC\",\"SC\",\"SC\",\"SC\",\"SC\",\"SC\",\"SC\",\"SD\",\"SD\",\"SD\",\"SD\",\"SD\",\"SD\",\"SD\",\"TN\",\"TN\",\"TN\",\"TN\",\"TN\",\"TN\",\"TN\",\"TN\",\"TN\",\"TN\",\"TN\",\"TN\",\"TN\",\"TN\",\"TN\",\"TN\",\"TN\",\"TN\",\"TN\",\"TN\",\"TN\",\"TX\",\"TX\",\"TX\",\"TX\",\"TX\",\"TX\",\"TX\",\"TX\",\"TX\",\"TX\",\"TX\",\"TX\",\"TX\",\"TX\",\"TX\",\"TX\",\"TX\",\"TX\",\"TX\",\"TX\",\"TX\",\"TX\",\"TX\",\"TX\",\"TX\",\"TX\",\"TX\",\"TX\",\"TX\",\"TX\",\"TX\",\"TX\",\"TX\",\"TX\",\"TX\",\"TX\",\"TX\",\"TX\",\"TX\",\"TX\",\"TX\",\"TX\",\"TX\",\"TX\",\"TX\",\"TX\",\"TX\",\"TX\",\"TX\",\"TX\",\"TX\",\"TX\",\"TX\",\"TX\",\"TX\",\"TX\",\"TX\",\"TX\",\"TX\",\"TX\",\"TX\",\"TX\",\"TX\",\"TX\",\"TX\",\"TX\",\"TX\",\"TX\",\"TX\",\"TX\",\"TX\",\"TX\",\"TX\",\"UT\",\"UT\",\"UT\",\"UT\",\"UT\",\"UT\",\"UT\",\"UT\",\"UT\",\"UT\",\"UT\",\"UT\",\"UT\",\"UT\",\"UT\",\"UT\",\"UT\",\"UT\",\"UT\",\"UT\",\"UT\",\"VT\",\"VT\",\"VT\",\"VT\",\"VT\",\"VA\",\"VA\",\"VA\",\"VA\",\"VA\",\"VA\",\"VA\",\"VA\",\"VA\",\"VA\",\"VA\",\"VA\",\"VA\",\"VA\",\"VA\",\"VA\",\"VA\",\"VA\",\"VA\",\"VA\",\"VA\",\"VA\",\"VA\",\"VA\",\"WA\",\"WA\",\"WA\",\"WA\",\"WA\",\"WA\",\"WA\",\"WA\",\"WA\",\"WA\",\"WA\",\"WA\",\"WA\",\"WA\",\"WA\",\"WA\",\"WA\",\"WA\",\"WA\",\"WV\",\"WV\",\"WV\",\"WV\",\"WV\",\"WV\",\"WV\",\"WV\",\"WI\",\"WI\",\"WI\",\"WI\",\"WI\",\"WI\",\"WI\",\"WI\",\"WI\",\"WI\",\"WI\",\"WI\",\"WI\",\"WI\",\"WI\",\"WI\",\"WI\",\"WI\",\"WI\",\"WI\",\"WI\",\"WI\",\"WI\",\"WI\",\"WI\",\"WI\",\"WI\",\"WI\",\"WI\",\"WI\",\"WI\",\"WI\",\"WI\",\"WI\",\"WI\",\"WI\",\"WI\",\"WI\",\"WI\",\"WI\",\"WI\",\"WI\",\"WI\",\"WI\",\"WI\",\"WI\",\"WI\",\"WI\",\"WI\",\"WI\",\"WI\",\"WI\",\"WI\",\"WI\",\"WI\",\"WI\",\"WI\",\"WI\",\"WI\",\"WY\",\"WY\",\"WY\",\"WY\",\"WY\",\"WY\",\"TX\",\"TX\",\"TX\",\"TX\",\"TX\",\"TX\",\"TX\",\"TX\",\"TX\",\"TX\",\"TX\",\"AL\",\"AL\",\"AL\",\"AL\",\"AL\",\"AK\",\"AK\",\"AZ\",\"AZ\",\"AZ\",\"AZ\",\"AR\",\"AR\",\"CA\",\"CA\",\"CA\",\"CA\",\"CA\",\"CA\",\"CA\",\"CA\",\"CA\",\"CA\",\"CA\",\"CA\",\"CA\",\"CA\",\"CA\",\"CA\",\"CA\",\"CA\",\"CA\",\"CA\",\"CA\",\"CO\",\"CO\",\"CO\",\"CO\",\"CO\",\"CO\",\"FL\",\"FL\",\"FL\",\"FL\",\"FL\",\"FL\",\"FL\",\"FL\",\"FL\",\"GA\",\"GA\",\"GA\",\"GA\",\"GA\",\"HI\",\"HI\",\"HI\",\"ID\",\"ID\",\"ID\",\"ID\",\"ID\",\"IL\",\"IL\",\"IL\",\"IL\",\"IL\",\"IL\",\"IL\",\"IL\",\"IL\",\"IL\",\"IL\",\"IL\",\"IN\",\"IN\",\"IN\",\"IN\",\"IN\",\"IN\",\"IN\",\"IN\",\"IN\",\"IN\",\"IN\",\"IN\",\"IN\",\"IA\",\"IA\",\"IA\",\"IA\",\"IA\",\"IA\",\"IA\",\"KS\",\"KS\",\"KS\",\"KS\",\"KS\",\"KS\",\"KS\",\"KS\",\"KY\",\"LA\",\"LA\",\"LA\",\"ME\",\"ME\",\"ME\",\"MD\",\"MD\",\"MD\",\"MD\",\"MD\",\"MA\",\"MA\",\"MA\",\"MA\",\"MA\",\"MA\",\"MA\",\"MI\",\"MI\",\"MI\",\"MI\",\"MI\",\"MI\",\"MI\",\"MI\",\"MI\",\"MI\",\"MI\",\"MN\",\"MN\",\"MN\",\"MN\",\"MN\",\"MN\",\"MN\",\"MN\",\"MS\",\"MO\",\"MO\",\"MO\",\"MO\",\"MO\",\"MO\",\"MT\",\"MT\",\"MT\",\"NE\",\"NE\",\"NH\",\"NH\",\"NH\",\"NJ\",\"NJ\",\"NJ\",\"NJ\",\"NJ\",\"NJ\",\"NY\",\"NC\",\"NC\",\"NC\",\"NC\",\"NC\",\"NC\",\"NC\",\"OH\",\"OH\",\"OH\",\"OH\",\"OH\",\"OH\",\"OH\",\"OH\",\"OH\",\"OH\",\"OH\",\"OH\",\"OH\",\"OH\",\"OH\",\"OH\",\"OH\",\"OH\",\"OH\",\"OH\",\"OK\",\"OK\",\"OK\",\"OK\",\"OK\",\"OK\",\"OK\",\"OK\",\"OK\",\"OR\",\"OR\",\"OR\",\"PA\",\"PA\",\"PA\",\"PA\",\"PA\",\"PA\",\"PA\",\"PA\",\"PA\",\"PA\",\"PA\",\"RI\",\"RI\",\"SC\",\"SC\",\"SC\",\"SC\",\"SC\",\"SD\",\"SD\",\"SD\",\"SD\",\"SD\",\"TN\",\"TX\",\"TX\",\"TX\",\"TX\",\"TX\",\"TX\",\"TX\",\"TX\",\"TX\",\"TX\",\"TX\",\"TX\",\"TX\",\"TX\",\"TX\",\"TX\",\"UT\",\"UT\",\"UT\",\"UT\",\"VA\",\"VA\",\"VA\",\"VA\",\"VA\",\"VA\",\"VA\",\"VA\",\"VA\",\"WA\",\"WA\",\"WA\",\"WA\",\"WA\",\"WA\",\"WV\",\"WI\",\"WI\",\"WI\",\"WI\",\"WI\",\"WI\",\"WI\",\"WI\",\"WI\",\"WI\",\"WI\",\"WI\",\"WI\",\"WI\",\"WI\",\"WI\",\"WI\",\"WI\",\"WI\",\"WI\",\"WI\",\"WI\",\"WY\",\"TX\",\"TX\",\"TX\",\"TX\",\"TX\",\"TX\",\"TX\",\"TX\"],\"z\":[15131.860759493671,15131.860759493671,15131.860759493671,15131.860759493671,15131.860759493671,15239.927272727273,15239.927272727273,14963.741935483871,14963.741935483871,14963.741935483871,14963.741935483871,14963.741935483871,14963.741935483871,14963.741935483871,14963.741935483871,14275.631756756757,14275.631756756757,14275.631756756757,14275.631756756757,14275.631756756757,14275.631756756757,14275.631756756757,14275.631756756757,14275.631756756757,14275.631756756757,14275.631756756757,14275.631756756757,14275.631756756757,14275.631756756757,14275.631756756757,14275.631756756757,14275.631756756757,14275.631756756757,14275.631756756757,14275.631756756757,14275.631756756757,14275.631756756757,14275.631756756757,14275.631756756757,17479.928571428572,17479.928571428572,17479.928571428572,17479.928571428572,17479.928571428572,17479.928571428572,16599.714285714286,16599.714285714286,16599.714285714286,16599.714285714286,16599.714285714286,17528.958579881655,17528.958579881655,17528.958579881655,17528.958579881655,17528.958579881655,17528.958579881655,17528.958579881655,17528.958579881655,17528.958579881655,17528.958579881655,17528.958579881655,17528.958579881655,17528.958579881655,17528.958579881655,17528.958579881655,17528.958579881655,17528.958579881655,17528.958579881655,17528.958579881655,17528.958579881655,17528.958579881655,17528.958579881655,17528.958579881655,17528.958579881655,17528.958579881655,17528.958579881655,17528.958579881655,17528.958579881655,17528.958579881655,17528.958579881655,17528.958579881655,17528.958579881655,13924.518518518518,13924.518518518518,13924.518518518518,13924.518518518518,13924.518518518518,13924.518518518518,13924.518518518518,13924.518518518518,13924.518518518518,13924.518518518518,13924.518518518518,13924.518518518518,15991.79754601227,15991.79754601227,15991.79754601227,15991.79754601227,15991.79754601227,15991.79754601227,15991.79754601227,15991.79754601227,15991.79754601227,15991.79754601227,15991.79754601227,15991.79754601227,15991.79754601227,15991.79754601227,15991.79754601227,15991.79754601227,13758.392857142857,14375.757142857143,15410.219512195123,15410.219512195123,15410.219512195123,15410.219512195123,15410.219512195123,15410.219512195123,14672.345679012345,14672.345679012345,16141.244444444445,16141.244444444445,16141.244444444445,16141.244444444445,16141.244444444445,16141.244444444445,16732.589285714286,16732.589285714286,16732.589285714286,16732.589285714286,15121.956896551725,15121.956896551725,15121.956896551725,15121.956896551725,13076.631578947368,15944.323076923078,15944.323076923078,15944.323076923078,15944.323076923078,15944.323076923078,15944.323076923078,15327.41573033708,15327.41573033708,15327.41573033708,15327.41573033708,15327.41573033708,15327.41573033708,15327.41573033708,11046.035087719298,16389.40740740741,16389.40740740741,16389.40740740741,16389.40740740741,16389.40740740741,16389.40740740741,16389.40740740741,16389.40740740741,16389.40740740741,16389.40740740741,18314.90625,18314.90625,18314.90625,18314.90625,18314.90625,18314.90625,18314.90625,18314.90625,15123.633333333333,15123.633333333333,15123.633333333333,15795.6,15795.6,15795.6,15795.6,15795.6,15795.6,15795.6,15795.6,15795.6,15795.6,15795.6,15795.6,15795.6,15795.6,15795.6,15795.6,15795.6,15795.6,15795.6,15795.6,15795.6,15795.6,15795.6,15795.6,15795.6,15795.6,15795.6,15795.6,15795.6,15795.6,15795.6,15795.6,15795.6,15795.6,15795.6,15795.6,15795.6,15795.6,15795.6,15795.6,15795.6,15795.6,15795.6,15795.6,15795.6,15795.6,15795.6,15795.6,15117.234042553191,15117.234042553191,15117.234042553191,15117.234042553191,15117.234042553191,15117.234042553191,15117.234042553191,11334.6,11334.6,15905.808219178081,15905.808219178081,13660.70588235294,13660.70588235294,13660.70588235294,13660.70588235294,13660.70588235294,16380.18,16380.18,16380.18,16380.18,16380.18,16380.18,16380.18,16380.18,16380.18,16380.18,16380.18,16380.18,16380.18,14337.666666666666,14337.666666666666,14337.666666666666,15103.872727272726,15103.872727272726,15103.872727272726,15252.692307692309,15252.692307692309,15252.692307692309,15252.692307692309,15252.692307692309,15252.692307692309,15252.692307692309,15252.692307692309,15252.692307692309,15252.692307692309,15058.62030075188,15058.62030075188,15058.62030075188,15058.62030075188,15058.62030075188,15058.62030075188,15058.62030075188,15058.62030075188,15058.62030075188,15058.62030075188,16337.636363636364,16337.636363636364,16337.636363636364,14469.14705882353,14469.14705882353,13396.23076923077,13396.23076923077,14351.574074074075,15131.860759493671,15131.860759493671,15131.860759493671,15131.860759493671,15131.860759493671,15131.860759493671,15131.860759493671,15131.860759493671,15131.860759493671,15131.860759493671,15131.860759493671,15131.860759493671,15131.860759493671,15131.860759493671,15131.860759493671,15131.860759493671,15131.860759493671,15131.860759493671,15131.860759493671,15131.860759493671,15131.860759493671,15131.860759493671,15131.860759493671,13600.9,15239.927272727273,15239.927272727273,15239.927272727273,15239.927272727273,15239.927272727273,15239.927272727273,15239.927272727273,15239.927272727273,15239.927272727273,15239.927272727273,15239.927272727273,15239.927272727273,15239.927272727273,15239.927272727273,15239.927272727273,15239.927272727273,14963.741935483871,14963.741935483871,14963.741935483871,14963.741935483871,14963.741935483871,14963.741935483871,14963.741935483871,14963.741935483871,14963.741935483871,14963.741935483871,14963.741935483871,14963.741935483871,14963.741935483871,14963.741935483871,14963.741935483871,14963.741935483871,14963.741935483871,14963.741935483871,14963.741935483871,14963.741935483871,14275.631756756757,14275.631756756757,14275.631756756757,14275.631756756757,14275.631756756757,14275.631756756757,14275.631756756757,14275.631756756757,14275.631756756757,14275.631756756757,14275.631756756757,14275.631756756757,14275.631756756757,14275.631756756757,14275.631756756757,14275.631756756757,14275.631756756757,14275.631756756757,14275.631756756757,14275.631756756757,14275.631756756757,14275.631756756757,14275.631756756757,14275.631756756757,14275.631756756757,14275.631756756757,14275.631756756757,14275.631756756757,14275.631756756757,14275.631756756757,14275.631756756757,14275.631756756757,14275.631756756757,14275.631756756757,14275.631756756757,14275.631756756757,14275.631756756757,14275.631756756757,14275.631756756757,14275.631756756757,14275.631756756757,14275.631756756757,14275.631756756757,14275.631756756757,14275.631756756757,14275.631756756757,14275.631756756757,14275.631756756757,14275.631756756757,14275.631756756757,14275.631756756757,14275.631756756757,14275.631756756757,14275.631756756757,14275.631756756757,14275.631756756757,14275.631756756757,14275.631756756757,14275.631756756757,14275.631756756757,14275.631756756757,14275.631756756757,14275.631756756757,14275.631756756757,14275.631756756757,14275.631756756757,14275.631756756757,14275.631756756757,14275.631756756757,14275.631756756757,14275.631756756757,14275.631756756757,14275.631756756757,14275.631756756757,14275.631756756757,14275.631756756757,14275.631756756757,14275.631756756757,14275.631756756757,14275.631756756757,14275.631756756757,14275.631756756757,14275.631756756757,14275.631756756757,14275.631756756757,14275.631756756757,14275.631756756757,14275.631756756757,14275.631756756757,14275.631756756757,14275.631756756757,14275.631756756757,14275.631756756757,14275.631756756757,14275.631756756757,14275.631756756757,13443.40350877193,13443.40350877193,13443.40350877193,17479.928571428572,17479.928571428572,17479.928571428572,17479.928571428572,16965.166666666668,16965.166666666668,16599.714285714286,17528.958579881655,17528.958579881655,17528.958579881655,17528.958579881655,17528.958579881655,17528.958579881655,17528.958579881655,17528.958579881655,17528.958579881655,17528.958579881655,17528.958579881655,17528.958579881655,17528.958579881655,17528.958579881655,17528.958579881655,17528.958579881655,17528.958579881655,17528.958579881655,17528.958579881655,17528.958579881655,17528.958579881655,17528.958579881655,17528.958579881655,17528.958579881655,17528.958579881655,17528.958579881655,17528.958579881655,17528.958579881655,17528.958579881655,17528.958579881655,17528.958579881655,17528.958579881655,17528.958579881655,17528.958579881655,17528.958579881655,17528.958579881655,17528.958579881655,17528.958579881655,17528.958579881655,17528.958579881655,17528.958579881655,17528.958579881655,17528.958579881655,17528.958579881655,17528.958579881655,17528.958579881655,17528.958579881655,17528.958579881655,17528.958579881655,17528.958579881655,17528.958579881655,17528.958579881655,17528.958579881655,17528.958579881655,17528.958579881655,17528.958579881655,17528.958579881655,17528.958579881655,17528.958579881655,17528.958579881655,13924.518518518518,13924.518518518518,13924.518518518518,13924.518518518518,13924.518518518518,13924.518518518518,13924.518518518518,13924.518518518518,13924.518518518518,13924.518518518518,13924.518518518518,13924.518518518518,13924.518518518518,13924.518518518518,13924.518518518518,13924.518518518518,13924.518518518518,13924.518518518518,13924.518518518518,13924.518518518518,13924.518518518518,13924.518518518518,13924.518518518518,14192.153846153846,12450.84,12450.84,12450.84,15991.79754601227,15991.79754601227,15991.79754601227,15991.79754601227,15991.79754601227,15991.79754601227,15991.79754601227,15991.79754601227,15991.79754601227,15991.79754601227,15991.79754601227,15991.79754601227,15991.79754601227,15991.79754601227,15991.79754601227,15991.79754601227,15991.79754601227,15991.79754601227,15991.79754601227,15991.79754601227,15991.79754601227,15991.79754601227,15991.79754601227,15991.79754601227,15991.79754601227,15991.79754601227,15991.79754601227,15991.79754601227,15991.79754601227,15991.79754601227,15991.79754601227,15901.054545454546,15901.054545454546,15901.054545454546,15901.054545454546,15901.054545454546,15901.054545454546,15901.054545454546,15901.054545454546,15901.054545454546,15901.054545454546,13758.392857142857,13758.392857142857,13758.392857142857,13758.392857142857,13758.392857142857,13758.392857142857,13758.392857142857,13758.392857142857,13758.392857142857,13758.392857142857,13758.392857142857,14375.757142857143,14375.757142857143,14375.757142857143,14375.757142857143,14375.757142857143,14375.757142857143,14375.757142857143,14375.757142857143,14375.757142857143,14375.757142857143,15410.219512195123,15410.219512195123,15410.219512195123,15410.219512195123,15410.219512195123,15410.219512195123,15410.219512195123,15410.219512195123,15410.219512195123,15410.219512195123,15410.219512195123,15410.219512195123,15410.219512195123,15410.219512195123,15410.219512195123,15410.219512195123,15410.219512195123,15410.219512195123,15410.219512195123,15410.219512195123,15410.219512195123,15410.219512195123,14672.345679012345,14672.345679012345,14672.345679012345,14672.345679012345,14672.345679012345,14672.345679012345,14672.345679012345,14672.345679012345,14672.345679012345,14672.345679012345,14672.345679012345,14672.345679012345,14672.345679012345,14672.345679012345,14672.345679012345,14672.345679012345,14672.345679012345,14672.345679012345,14672.345679012345,14672.345679012345,14672.345679012345,16064.9375,16064.9375,16064.9375,16064.9375,16064.9375,16141.244444444445,16141.244444444445,16141.244444444445,16141.244444444445,16141.244444444445,16141.244444444445,16732.589285714286,16732.589285714286,16732.589285714286,16732.589285714286,16732.589285714286,16732.589285714286,16732.589285714286,16732.589285714286,16732.589285714286,16732.589285714286,16732.589285714286,16732.589285714286,16732.589285714286,16732.589285714286,16732.589285714286,15121.956896551725,15121.956896551725,15121.956896551725,15121.956896551725,15121.956896551725,15121.956896551725,15121.956896551725,15121.956896551725,15121.956896551725,15121.956896551725,15121.956896551725,15121.956896551725,15121.956896551725,13076.631578947368,13076.631578947368,13076.631578947368,13076.631578947368,13076.631578947368,15944.323076923078,15944.323076923078,15944.323076923078,15944.323076923078,15944.323076923078,15944.323076923078,15944.323076923078,15944.323076923078,15944.323076923078,15944.323076923078,15944.323076923078,15944.323076923078,15944.323076923078,15944.323076923078,15944.323076923078,15944.323076923078,15944.323076923078,15944.323076923078,15944.323076923078,15944.323076923078,15944.323076923078,15944.323076923078,15944.323076923078,15944.323076923078,15944.323076923078,15327.41573033708,15327.41573033708,15327.41573033708,15327.41573033708,15327.41573033708,15327.41573033708,15327.41573033708,15327.41573033708,15327.41573033708,15327.41573033708,15327.41573033708,15327.41573033708,15327.41573033708,15327.41573033708,15327.41573033708,15327.41573033708,15327.41573033708,14058.96,14058.96,11046.035087719298,11046.035087719298,11046.035087719298,16389.40740740741,16389.40740740741,16389.40740740741,16389.40740740741,16389.40740740741,16389.40740740741,15933.0,15933.0,15933.0,15933.0,18314.90625,18314.90625,18314.90625,18314.90625,18314.90625,18314.90625,18314.90625,18314.90625,18314.90625,18314.90625,18314.90625,18314.90625,18314.90625,18314.90625,18314.90625,18314.90625,18314.90625,18314.90625,18314.90625,18314.90625,18314.90625,18314.90625,18314.90625,18314.90625,18314.90625,18314.90625,15123.633333333333,15123.633333333333,15123.633333333333,15123.633333333333,15123.633333333333,15123.633333333333,15123.633333333333,15123.633333333333,15795.6,15795.6,15795.6,15795.6,15795.6,15795.6,15795.6,15795.6,15795.6,15795.6,15795.6,15795.6,15795.6,15795.6,15795.6,15795.6,15795.6,15795.6,15795.6,15795.6,15795.6,15795.6,15795.6,15795.6,15795.6,15795.6,15795.6,15795.6,15795.6,15795.6,15795.6,15795.6,15795.6,15795.6,15795.6,15795.6,15795.6,15795.6,15795.6,15795.6,15795.6,15795.6,15795.6,15795.6,15795.6,15117.234042553191,15117.234042553191,15117.234042553191,15117.234042553191,15117.234042553191,15117.234042553191,15117.234042553191,15117.234042553191,15117.234042553191,15117.234042553191,15117.234042553191,15117.234042553191,15117.234042553191,15117.234042553191,15117.234042553191,15117.234042553191,15117.234042553191,15117.234042553191,11334.6,11334.6,15905.808219178081,15905.808219178081,15905.808219178081,15905.808219178081,15905.808219178081,15905.808219178081,15905.808219178081,15905.808219178081,15905.808219178081,15905.808219178081,15905.808219178081,15905.808219178081,15905.808219178081,15905.808219178081,15905.808219178081,15905.808219178081,15905.808219178081,15905.808219178081,15905.808219178081,15905.808219178081,15905.808219178081,15905.808219178081,13660.70588235294,13660.70588235294,13660.70588235294,13660.70588235294,13660.70588235294,13660.70588235294,13660.70588235294,13660.70588235294,13660.70588235294,13660.70588235294,13660.70588235294,13660.70588235294,13660.70588235294,13660.70588235294,13660.70588235294,13660.70588235294,13660.70588235294,13660.70588235294,13660.70588235294,13591.096153846154,13591.096153846154,13591.096153846154,13591.096153846154,16380.18,16380.18,16380.18,16380.18,16380.18,16380.18,16380.18,16380.18,16380.18,16380.18,16380.18,16380.18,16380.18,16380.18,16380.18,16380.18,16380.18,16380.18,16380.18,16380.18,16380.18,16380.18,16380.18,16380.18,16380.18,16380.18,16380.18,16380.18,16380.18,16380.18,16380.18,16380.18,16380.18,16380.18,16380.18,16380.18,16380.18,14337.666666666666,14337.666666666666,14337.666666666666,14933.6,14933.6,14933.6,15103.872727272726,15103.872727272726,15103.872727272726,15103.872727272726,15103.872727272726,15103.872727272726,15103.872727272726,15103.872727272726,15103.872727272726,15103.872727272726,15103.872727272726,15103.872727272726,15103.872727272726,15103.872727272726,15103.872727272726,13748.421052631578,15252.692307692309,15252.692307692309,15252.692307692309,15252.692307692309,15252.692307692309,15252.692307692309,15252.692307692309,15252.692307692309,15252.692307692309,15252.692307692309,15252.692307692309,15252.692307692309,15252.692307692309,15252.692307692309,15252.692307692309,15252.692307692309,15252.692307692309,15252.692307692309,15252.692307692309,15252.692307692309,15252.692307692309,15252.692307692309,15252.692307692309,15252.692307692309,15252.692307692309,15252.692307692309,15252.692307692309,15058.62030075188,15058.62030075188,15058.62030075188,15058.62030075188,15058.62030075188,15058.62030075188,15058.62030075188,15058.62030075188,15058.62030075188,15058.62030075188,15058.62030075188,15058.62030075188,15058.62030075188,15058.62030075188,15058.62030075188,15058.62030075188,15058.62030075188,15058.62030075188,15058.62030075188,15058.62030075188,15058.62030075188,15058.62030075188,15058.62030075188,15058.62030075188,15058.62030075188,15058.62030075188,15058.62030075188,15058.62030075188,15058.62030075188,15058.62030075188,15058.62030075188,15058.62030075188,15058.62030075188,15058.62030075188,15058.62030075188,15058.62030075188,15058.62030075188,15058.62030075188,15058.62030075188,15058.62030075188,15058.62030075188,15058.62030075188,15058.62030075188,15058.62030075188,15058.62030075188,15058.62030075188,15058.62030075188,15058.62030075188,15058.62030075188,15058.62030075188,15058.62030075188,12323.85294117647,12323.85294117647,15462.0,12568.0,16337.636363636364,16337.636363636364,16337.636363636364,16337.636363636364,16337.636363636364,16337.636363636364,16337.636363636364,16337.636363636364,16337.636363636364,16337.636363636364,16337.636363636364,16337.636363636364,16337.636363636364,16337.636363636364,16337.636363636364,16337.636363636364,16337.636363636364,14469.14705882353,14469.14705882353,14469.14705882353,14469.14705882353,14469.14705882353,14469.14705882353,14469.14705882353,14469.14705882353,14469.14705882353,14469.14705882353,14469.14705882353,14469.14705882353,14469.14705882353,14469.14705882353,14469.14705882353,14469.14705882353,14469.14705882353,13396.23076923077,13396.23076923077,13396.23076923077,13396.23076923077,13396.23076923077,13396.23076923077,13396.23076923077,13396.23076923077,13396.23076923077,13396.23076923077,14351.574074074075,14351.574074074075,14351.574074074075,14351.574074074075,14351.574074074075,14000.777777777777,14000.777777777777,15058.62030075188,15058.62030075188,15131.860759493671,15131.860759493671,15131.860759493671,15131.860759493671,15131.860759493671,15131.860759493671,15131.860759493671,15131.860759493671,15131.860759493671,15131.860759493671,15131.860759493671,15131.860759493671,15131.860759493671,15131.860759493671,15131.860759493671,15131.860759493671,15131.860759493671,15131.860759493671,15131.860759493671,15131.860759493671,15131.860759493671,15131.860759493671,15131.860759493671,15131.860759493671,15131.860759493671,15131.860759493671,15131.860759493671,15131.860759493671,15131.860759493671,15131.860759493671,15131.860759493671,13600.9,13600.9,13600.9,15239.927272727273,15239.927272727273,15239.927272727273,15239.927272727273,15239.927272727273,15239.927272727273,15239.927272727273,15239.927272727273,15239.927272727273,15239.927272727273,15239.927272727273,15239.927272727273,15239.927272727273,15239.927272727273,15239.927272727273,15239.927272727273,15239.927272727273,15239.927272727273,15239.927272727273,14963.741935483871,14963.741935483871,14963.741935483871,14963.741935483871,14963.741935483871,14963.741935483871,14963.741935483871,14963.741935483871,14963.741935483871,14963.741935483871,14963.741935483871,14963.741935483871,14963.741935483871,14963.741935483871,14963.741935483871,14963.741935483871,14963.741935483871,14963.741935483871,14963.741935483871,14963.741935483871,14963.741935483871,14963.741935483871,14963.741935483871,14275.631756756757,14275.631756756757,14275.631756756757,14275.631756756757,14275.631756756757,14275.631756756757,14275.631756756757,14275.631756756757,14275.631756756757,14275.631756756757,14275.631756756757,14275.631756756757,14275.631756756757,14275.631756756757,14275.631756756757,14275.631756756757,14275.631756756757,14275.631756756757,14275.631756756757,14275.631756756757,14275.631756756757,14275.631756756757,14275.631756756757,14275.631756756757,14275.631756756757,14275.631756756757,14275.631756756757,14275.631756756757,14275.631756756757,14275.631756756757,14275.631756756757,14275.631756756757,14275.631756756757,14275.631756756757,14275.631756756757,14275.631756756757,14275.631756756757,14275.631756756757,14275.631756756757,14275.631756756757,14275.631756756757,14275.631756756757,14275.631756756757,14275.631756756757,14275.631756756757,14275.631756756757,14275.631756756757,14275.631756756757,14275.631756756757,14275.631756756757,14275.631756756757,14275.631756756757,14275.631756756757,14275.631756756757,14275.631756756757,14275.631756756757,14275.631756756757,14275.631756756757,14275.631756756757,14275.631756756757,14275.631756756757,14275.631756756757,14275.631756756757,14275.631756756757,14275.631756756757,14275.631756756757,14275.631756756757,14275.631756756757,14275.631756756757,14275.631756756757,14275.631756756757,14275.631756756757,14275.631756756757,14275.631756756757,14275.631756756757,14275.631756756757,14275.631756756757,14275.631756756757,14275.631756756757,14275.631756756757,14275.631756756757,14275.631756756757,14275.631756756757,14275.631756756757,14275.631756756757,14275.631756756757,14275.631756756757,14275.631756756757,14275.631756756757,14275.631756756757,14275.631756756757,14275.631756756757,14275.631756756757,13443.40350877193,13443.40350877193,13443.40350877193,13443.40350877193,13443.40350877193,13443.40350877193,13443.40350877193,13443.40350877193,13443.40350877193,13443.40350877193,13443.40350877193,13443.40350877193,13443.40350877193,13443.40350877193,13443.40350877193,13443.40350877193,13443.40350877193,13443.40350877193,13443.40350877193,13443.40350877193,13443.40350877193,13443.40350877193,13443.40350877193,17479.928571428572,17479.928571428572,17479.928571428572,17479.928571428572,17479.928571428572,17479.928571428572,17479.928571428572,17479.928571428572,17479.928571428572,16965.166666666668,16965.166666666668,16965.166666666668,16599.714285714286,17528.958579881655,17528.958579881655,17528.958579881655,17528.958579881655,17528.958579881655,17528.958579881655,17528.958579881655,17528.958579881655,17528.958579881655,17528.958579881655,17528.958579881655,17528.958579881655,17528.958579881655,17528.958579881655,17528.958579881655,17528.958579881655,17528.958579881655,17528.958579881655,17528.958579881655,17528.958579881655,17528.958579881655,17528.958579881655,17528.958579881655,17528.958579881655,17528.958579881655,17528.958579881655,17528.958579881655,17528.958579881655,17528.958579881655,17528.958579881655,17528.958579881655,17528.958579881655,17528.958579881655,17528.958579881655,17528.958579881655,17528.958579881655,17528.958579881655,17528.958579881655,17528.958579881655,17528.958579881655,13924.518518518518,13924.518518518518,13924.518518518518,13924.518518518518,13924.518518518518,13924.518518518518,13924.518518518518,13924.518518518518,13924.518518518518,13924.518518518518,13924.518518518518,13924.518518518518,13924.518518518518,13924.518518518518,13924.518518518518,13924.518518518518,13924.518518518518,13924.518518518518,13924.518518518518,13924.518518518518,13924.518518518518,13924.518518518518,13924.518518518518,13924.518518518518,13924.518518518518,13924.518518518518,13924.518518518518,13924.518518518518,13924.518518518518,13924.518518518518,13924.518518518518,13924.518518518518,13924.518518518518,13924.518518518518,13924.518518518518,13924.518518518518,13924.518518518518,13924.518518518518,13924.518518518518,13924.518518518518,13924.518518518518,13924.518518518518,14192.153846153846,14192.153846153846,14192.153846153846,14192.153846153846,12450.84,12450.84,12450.84,12450.84,12450.84,12450.84,15991.79754601227,15991.79754601227,15991.79754601227,15991.79754601227,15991.79754601227,15991.79754601227,15991.79754601227,15991.79754601227,15991.79754601227,15991.79754601227,15991.79754601227,15991.79754601227,15991.79754601227,15991.79754601227,15991.79754601227,15991.79754601227,15991.79754601227,15991.79754601227,15991.79754601227,15991.79754601227,15991.79754601227,15991.79754601227,15991.79754601227,15991.79754601227,15991.79754601227,15991.79754601227,15991.79754601227,15991.79754601227,15991.79754601227,15991.79754601227,15991.79754601227,15991.79754601227,15991.79754601227,15991.79754601227,15991.79754601227,15991.79754601227,15991.79754601227,15991.79754601227,15991.79754601227,15991.79754601227,15991.79754601227,15991.79754601227,15991.79754601227,15991.79754601227,15991.79754601227,15991.79754601227,15991.79754601227,15991.79754601227,15991.79754601227,15991.79754601227,15991.79754601227,15991.79754601227,15991.79754601227,15991.79754601227,15991.79754601227,15901.054545454546,15901.054545454546,15901.054545454546,15901.054545454546,15901.054545454546,15901.054545454546,15901.054545454546,15901.054545454546,15901.054545454546,15901.054545454546,15901.054545454546,15901.054545454546,15901.054545454546,15901.054545454546,15901.054545454546,15901.054545454546,15901.054545454546,15901.054545454546,15901.054545454546,15901.054545454546,15901.054545454546,15901.054545454546,15901.054545454546,15901.054545454546,15901.054545454546,15901.054545454546,15901.054545454546,15901.054545454546,15901.054545454546,15901.054545454546,15901.054545454546,15901.054545454546,15901.054545454546,15901.054545454546,15901.054545454546,15901.054545454546,13758.392857142857,13758.392857142857,13758.392857142857,13758.392857142857,13758.392857142857,13758.392857142857,13758.392857142857,13758.392857142857,13758.392857142857,13758.392857142857,13758.392857142857,13758.392857142857,13758.392857142857,13758.392857142857,13758.392857142857,13758.392857142857,13758.392857142857,13758.392857142857,13758.392857142857,13758.392857142857,13758.392857142857,13758.392857142857,13758.392857142857,13758.392857142857,13758.392857142857,13758.392857142857,13758.392857142857,13758.392857142857,13758.392857142857,14375.757142857143,14375.757142857143,14375.757142857143,14375.757142857143,14375.757142857143,14375.757142857143,14375.757142857143,14375.757142857143,14375.757142857143,14375.757142857143,14375.757142857143,14375.757142857143,14375.757142857143,14375.757142857143,14375.757142857143,14375.757142857143,14375.757142857143,14375.757142857143,14375.757142857143,14375.757142857143,14375.757142857143,14375.757142857143,14375.757142857143,14375.757142857143,14375.757142857143,14375.757142857143,14375.757142857143,14375.757142857143,14375.757142857143,14375.757142857143,15410.219512195123,15410.219512195123,15410.219512195123,15410.219512195123,15410.219512195123,15410.219512195123,15410.219512195123,15410.219512195123,15410.219512195123,15410.219512195123,15410.219512195123,15410.219512195123,15410.219512195123,15410.219512195123,15410.219512195123,15410.219512195123,15410.219512195123,15410.219512195123,15410.219512195123,15410.219512195123,15410.219512195123,15410.219512195123,15410.219512195123,15410.219512195123,15410.219512195123,15410.219512195123,15410.219512195123,15410.219512195123,15410.219512195123,15410.219512195123,15410.219512195123,15410.219512195123,14672.345679012345,14672.345679012345,14672.345679012345,14672.345679012345,14672.345679012345,14672.345679012345,14672.345679012345,14672.345679012345,14672.345679012345,14672.345679012345,14672.345679012345,14672.345679012345,14672.345679012345,14672.345679012345,14672.345679012345,14672.345679012345,14672.345679012345,14672.345679012345,14672.345679012345,14672.345679012345,14672.345679012345,14672.345679012345,14672.345679012345,14672.345679012345,14672.345679012345,14672.345679012345,14672.345679012345,14672.345679012345,14672.345679012345,14672.345679012345,14672.345679012345,14672.345679012345,14672.345679012345,14672.345679012345,14672.345679012345,16064.9375,16064.9375,16064.9375,16064.9375,16064.9375,16064.9375,16064.9375,16064.9375,16064.9375,16064.9375,16141.244444444445,16141.244444444445,16141.244444444445,16141.244444444445,16141.244444444445,16141.244444444445,16141.244444444445,16141.244444444445,16141.244444444445,16141.244444444445,16141.244444444445,16141.244444444445,16141.244444444445,16141.244444444445,16141.244444444445,16141.244444444445,16141.244444444445,16141.244444444445,16141.244444444445,16732.589285714286,16732.589285714286,16732.589285714286,16732.589285714286,16732.589285714286,16732.589285714286,16732.589285714286,16732.589285714286,16732.589285714286,16732.589285714286,16732.589285714286,16732.589285714286,16732.589285714286,16732.589285714286,16732.589285714286,16732.589285714286,16732.589285714286,16732.589285714286,16732.589285714286,15121.956896551725,15121.956896551725,15121.956896551725,15121.956896551725,15121.956896551725,15121.956896551725,15121.956896551725,15121.956896551725,15121.956896551725,15121.956896551725,15121.956896551725,15121.956896551725,15121.956896551725,15121.956896551725,15121.956896551725,15121.956896551725,15121.956896551725,15121.956896551725,15121.956896551725,15121.956896551725,15121.956896551725,15121.956896551725,15121.956896551725,15121.956896551725,15121.956896551725,15121.956896551725,15121.956896551725,15121.956896551725,15121.956896551725,15121.956896551725,15121.956896551725,15121.956896551725,15121.956896551725,15121.956896551725,15121.956896551725,15121.956896551725,15121.956896551725,13076.631578947368,13076.631578947368,13076.631578947368,13076.631578947368,13076.631578947368,13076.631578947368,13076.631578947368,13076.631578947368,13076.631578947368,13076.631578947368,13076.631578947368,13076.631578947368,13076.631578947368,13076.631578947368,13076.631578947368,13076.631578947368,13076.631578947368,13076.631578947368,13076.631578947368,15944.323076923078,15944.323076923078,15944.323076923078,15944.323076923078,15944.323076923078,15944.323076923078,15944.323076923078,15944.323076923078,15944.323076923078,15944.323076923078,15944.323076923078,15944.323076923078,15944.323076923078,15944.323076923078,15944.323076923078,15944.323076923078,15944.323076923078,15944.323076923078,15944.323076923078,15944.323076923078,15944.323076923078,15944.323076923078,15944.323076923078,15944.323076923078,15944.323076923078,15944.323076923078,15327.41573033708,15327.41573033708,15327.41573033708,15327.41573033708,15327.41573033708,15327.41573033708,15327.41573033708,15327.41573033708,15327.41573033708,15327.41573033708,15327.41573033708,15327.41573033708,15327.41573033708,15327.41573033708,15327.41573033708,15327.41573033708,15327.41573033708,15327.41573033708,15327.41573033708,15327.41573033708,15327.41573033708,15327.41573033708,15327.41573033708,15327.41573033708,15327.41573033708,15327.41573033708,15327.41573033708,15327.41573033708,15327.41573033708,15327.41573033708,15327.41573033708,15327.41573033708,15327.41573033708,15327.41573033708,15327.41573033708,15327.41573033708,14058.96,14058.96,14058.96,14058.96,14058.96,14058.96,14058.96,14058.96,11046.035087719298,11046.035087719298,11046.035087719298,11046.035087719298,11046.035087719298,11046.035087719298,11046.035087719298,11046.035087719298,11046.035087719298,11046.035087719298,11046.035087719298,11046.035087719298,11046.035087719298,11046.035087719298,11046.035087719298,11046.035087719298,11046.035087719298,11046.035087719298,11046.035087719298,11046.035087719298,11046.035087719298,11046.035087719298,11046.035087719298,11046.035087719298,11046.035087719298,11046.035087719298,16389.40740740741,16389.40740740741,16389.40740740741,16389.40740740741,16389.40740740741,16389.40740740741,16389.40740740741,15933.0,15933.0,15933.0,15933.0,15933.0,15933.0,15933.0,15933.0,15933.0,18314.90625,18314.90625,18314.90625,18314.90625,18314.90625,18314.90625,18314.90625,18314.90625,18314.90625,18314.90625,18314.90625,18314.90625,18314.90625,18314.90625,15123.633333333333,15123.633333333333,15123.633333333333,15123.633333333333,15123.633333333333,15123.633333333333,15123.633333333333,15123.633333333333,15123.633333333333,15123.633333333333,15123.633333333333,15123.633333333333,15123.633333333333,15795.6,15795.6,15795.6,15795.6,15795.6,15795.6,15795.6,15795.6,15795.6,15795.6,15795.6,15795.6,15795.6,15795.6,15795.6,15795.6,15795.6,15795.6,15795.6,15795.6,15795.6,15795.6,15795.6,15795.6,15795.6,15795.6,15795.6,15795.6,15795.6,15795.6,15795.6,15795.6,15795.6,15795.6,15795.6,15795.6,15795.6,15795.6,15795.6,15795.6,15117.234042553191,15117.234042553191,15117.234042553191,15117.234042553191,15117.234042553191,15117.234042553191,15117.234042553191,15117.234042553191,15117.234042553191,15117.234042553191,15117.234042553191,15117.234042553191,15117.234042553191,15117.234042553191,15117.234042553191,15117.234042553191,15117.234042553191,15117.234042553191,15117.234042553191,15117.234042553191,15117.234042553191,15117.234042553191,15117.234042553191,15117.234042553191,15117.234042553191,15117.234042553191,15117.234042553191,15117.234042553191,15117.234042553191,15117.234042553191,15117.234042553191,15117.234042553191,15117.234042553191,15117.234042553191,15117.234042553191,15117.234042553191,11334.6,11334.6,11334.6,11334.6,11334.6,11334.6,11334.6,11334.6,15905.808219178081,15905.808219178081,15905.808219178081,15905.808219178081,15905.808219178081,15905.808219178081,15905.808219178081,15905.808219178081,15905.808219178081,15905.808219178081,15905.808219178081,15905.808219178081,15905.808219178081,15905.808219178081,15905.808219178081,15905.808219178081,15905.808219178081,15905.808219178081,15905.808219178081,15905.808219178081,15905.808219178081,15905.808219178081,15905.808219178081,15905.808219178081,15905.808219178081,15905.808219178081,15905.808219178081,15905.808219178081,15905.808219178081,15905.808219178081,15905.808219178081,15905.808219178081,15905.808219178081,15905.808219178081,15905.808219178081,15905.808219178081,15905.808219178081,15905.808219178081,15905.808219178081,15905.808219178081,15905.808219178081,15905.808219178081,15905.808219178081,15905.808219178081,15905.808219178081,15905.808219178081,15905.808219178081,15905.808219178081,15905.808219178081,15905.808219178081,13660.70588235294,13660.70588235294,13660.70588235294,13660.70588235294,13660.70588235294,13660.70588235294,13660.70588235294,13660.70588235294,13660.70588235294,13660.70588235294,13660.70588235294,13660.70588235294,13660.70588235294,13660.70588235294,13660.70588235294,13660.70588235294,13660.70588235294,13660.70588235294,13660.70588235294,13660.70588235294,13660.70588235294,13660.70588235294,13660.70588235294,13660.70588235294,13660.70588235294,13660.70588235294,13660.70588235294,13660.70588235294,13591.096153846154,13591.096153846154,13591.096153846154,13591.096153846154,13591.096153846154,13591.096153846154,13591.096153846154,13591.096153846154,13591.096153846154,13591.096153846154,13591.096153846154,13591.096153846154,13591.096153846154,13591.096153846154,13591.096153846154,13591.096153846154,13591.096153846154,13591.096153846154,13591.096153846154,13591.096153846154,13591.096153846154,13591.096153846154,13591.096153846154,16380.18,16380.18,16380.18,16380.18,16380.18,16380.18,16380.18,16380.18,16380.18,16380.18,16380.18,16380.18,16380.18,16380.18,16380.18,16380.18,16380.18,16380.18,16380.18,16380.18,16380.18,16380.18,16380.18,16380.18,16380.18,16380.18,16380.18,16380.18,16380.18,16380.18,16380.18,16380.18,16380.18,16380.18,16380.18,16380.18,16380.18,16380.18,16380.18,16380.18,16380.18,16380.18,16380.18,16380.18,16380.18,16380.18,16380.18,16380.18,16380.18,16380.18,16380.18,16380.18,16380.18,14933.6,14933.6,14933.6,15103.872727272726,15103.872727272726,15103.872727272726,15103.872727272726,15103.872727272726,15103.872727272726,15103.872727272726,15103.872727272726,15103.872727272726,15103.872727272726,15103.872727272726,15103.872727272726,15103.872727272726,15103.872727272726,15103.872727272726,15103.872727272726,15103.872727272726,13748.421052631578,13748.421052631578,13748.421052631578,13748.421052631578,13748.421052631578,13748.421052631578,15252.692307692309,15252.692307692309,15252.692307692309,15252.692307692309,15252.692307692309,15252.692307692309,15252.692307692309,15252.692307692309,15252.692307692309,15252.692307692309,15252.692307692309,15252.692307692309,15252.692307692309,15252.692307692309,15252.692307692309,15252.692307692309,15252.692307692309,15252.692307692309,15252.692307692309,15252.692307692309,15252.692307692309,15252.692307692309,15252.692307692309,15252.692307692309,15252.692307692309,15252.692307692309,15252.692307692309,15252.692307692309,15252.692307692309,15252.692307692309,15252.692307692309,15252.692307692309,15058.62030075188,15058.62030075188,15058.62030075188,15058.62030075188,15058.62030075188,15058.62030075188,15058.62030075188,15058.62030075188,15058.62030075188,15058.62030075188,15058.62030075188,15058.62030075188,15058.62030075188,15058.62030075188,15058.62030075188,15058.62030075188,15058.62030075188,15058.62030075188,15058.62030075188,15058.62030075188,15058.62030075188,15058.62030075188,15058.62030075188,15058.62030075188,15058.62030075188,15058.62030075188,15058.62030075188,15058.62030075188,15058.62030075188,15058.62030075188,15058.62030075188,15058.62030075188,15058.62030075188,15058.62030075188,15058.62030075188,15058.62030075188,15058.62030075188,15058.62030075188,15058.62030075188,15058.62030075188,15058.62030075188,15058.62030075188,15058.62030075188,15058.62030075188,15058.62030075188,15058.62030075188,15058.62030075188,15058.62030075188,15058.62030075188,15058.62030075188,15058.62030075188,15058.62030075188,15058.62030075188,15058.62030075188,15058.62030075188,15058.62030075188,15058.62030075188,15058.62030075188,15058.62030075188,15058.62030075188,15058.62030075188,15058.62030075188,15058.62030075188,15058.62030075188,15058.62030075188,15058.62030075188,15058.62030075188,15058.62030075188,15058.62030075188,15058.62030075188,15058.62030075188,15058.62030075188,15058.62030075188,15058.62030075188,15058.62030075188,15058.62030075188,15058.62030075188,15058.62030075188,15058.62030075188,15058.62030075188,15058.62030075188,15058.62030075188,12323.85294117647,12323.85294117647,12323.85294117647,12323.85294117647,12323.85294117647,12323.85294117647,12323.85294117647,15462.0,15462.0,15462.0,15462.0,15462.0,15462.0,12568.0,16337.636363636364,16337.636363636364,16337.636363636364,16337.636363636364,16337.636363636364,16337.636363636364,16337.636363636364,16337.636363636364,16337.636363636364,16337.636363636364,16337.636363636364,16337.636363636364,16337.636363636364,16337.636363636364,16337.636363636364,16337.636363636364,16337.636363636364,16337.636363636364,16337.636363636364,16337.636363636364,16337.636363636364,16337.636363636364,16337.636363636364,16337.636363636364,14469.14705882353,14469.14705882353,14469.14705882353,14469.14705882353,14469.14705882353,14469.14705882353,14469.14705882353,14469.14705882353,14469.14705882353,14469.14705882353,14469.14705882353,14469.14705882353,14469.14705882353,14469.14705882353,14469.14705882353,14469.14705882353,14469.14705882353,14469.14705882353,14469.14705882353,14469.14705882353,14469.14705882353,14469.14705882353,14469.14705882353,14469.14705882353,13396.23076923077,13396.23076923077,13396.23076923077,13396.23076923077,13396.23076923077,13396.23076923077,13396.23076923077,13396.23076923077,13396.23076923077,13396.23076923077,13396.23076923077,13396.23076923077,13396.23076923077,13396.23076923077,13396.23076923077,13396.23076923077,13396.23076923077,13396.23076923077,14351.574074074075,14351.574074074075,14351.574074074075,14351.574074074075,14351.574074074075,14351.574074074075,14351.574074074075,14351.574074074075,14351.574074074075,14351.574074074075,14351.574074074075,14351.574074074075,14351.574074074075,14351.574074074075,14351.574074074075,14351.574074074075,14351.574074074075,14351.574074074075,14351.574074074075,14351.574074074075,14351.574074074075,14000.777777777777,14000.777777777777,14000.777777777777,14000.777777777777,14000.777777777777,14000.777777777777,14000.777777777777,14000.777777777777,14000.777777777777,15058.62030075188,15058.62030075188,15058.62030075188,15058.62030075188,15058.62030075188,15058.62030075188,15058.62030075188,15058.62030075188,15058.62030075188,15058.62030075188,15058.62030075188,15058.62030075188,15058.62030075188,15131.860759493671,15131.860759493671,15131.860759493671,15131.860759493671,15131.860759493671,15131.860759493671,15131.860759493671,15131.860759493671,15131.860759493671,15131.860759493671,15131.860759493671,15131.860759493671,15131.860759493671,15131.860759493671,15131.860759493671,13600.9,13600.9,13600.9,13600.9,15239.927272727273,15239.927272727273,15239.927272727273,15239.927272727273,15239.927272727273,15239.927272727273,15239.927272727273,15239.927272727273,15239.927272727273,15239.927272727273,15239.927272727273,15239.927272727273,15239.927272727273,15239.927272727273,14963.741935483871,14963.741935483871,14963.741935483871,14963.741935483871,14963.741935483871,14963.741935483871,14963.741935483871,14963.741935483871,14963.741935483871,14275.631756756757,14275.631756756757,14275.631756756757,14275.631756756757,14275.631756756757,14275.631756756757,14275.631756756757,14275.631756756757,14275.631756756757,14275.631756756757,14275.631756756757,14275.631756756757,14275.631756756757,14275.631756756757,14275.631756756757,14275.631756756757,14275.631756756757,14275.631756756757,14275.631756756757,14275.631756756757,14275.631756756757,14275.631756756757,14275.631756756757,14275.631756756757,14275.631756756757,14275.631756756757,14275.631756756757,14275.631756756757,14275.631756756757,14275.631756756757,14275.631756756757,14275.631756756757,14275.631756756757,14275.631756756757,14275.631756756757,14275.631756756757,14275.631756756757,14275.631756756757,14275.631756756757,14275.631756756757,14275.631756756757,14275.631756756757,14275.631756756757,14275.631756756757,14275.631756756757,14275.631756756757,14275.631756756757,14275.631756756757,14275.631756756757,14275.631756756757,14275.631756756757,14275.631756756757,14275.631756756757,14275.631756756757,14275.631756756757,14275.631756756757,14275.631756756757,14275.631756756757,14275.631756756757,14275.631756756757,14275.631756756757,14275.631756756757,13443.40350877193,13443.40350877193,13443.40350877193,13443.40350877193,13443.40350877193,13443.40350877193,13443.40350877193,13443.40350877193,13443.40350877193,13443.40350877193,13443.40350877193,13443.40350877193,13443.40350877193,13443.40350877193,13443.40350877193,13443.40350877193,13443.40350877193,13443.40350877193,13443.40350877193,13443.40350877193,13443.40350877193,13443.40350877193,13443.40350877193,13443.40350877193,13443.40350877193,17479.928571428572,17479.928571428572,17479.928571428572,17479.928571428572,17479.928571428572,17479.928571428572,17479.928571428572,17479.928571428572,17479.928571428572,16965.166666666668,17528.958579881655,17528.958579881655,17528.958579881655,17528.958579881655,17528.958579881655,17528.958579881655,17528.958579881655,17528.958579881655,17528.958579881655,17528.958579881655,17528.958579881655,17528.958579881655,17528.958579881655,17528.958579881655,17528.958579881655,17528.958579881655,17528.958579881655,17528.958579881655,17528.958579881655,17528.958579881655,17528.958579881655,17528.958579881655,17528.958579881655,17528.958579881655,17528.958579881655,17528.958579881655,17528.958579881655,17528.958579881655,13924.518518518518,13924.518518518518,13924.518518518518,13924.518518518518,13924.518518518518,13924.518518518518,13924.518518518518,13924.518518518518,13924.518518518518,13924.518518518518,13924.518518518518,13924.518518518518,13924.518518518518,13924.518518518518,13924.518518518518,13924.518518518518,13924.518518518518,13924.518518518518,13924.518518518518,13924.518518518518,13924.518518518518,13924.518518518518,13924.518518518518,13924.518518518518,13924.518518518518,13924.518518518518,14192.153846153846,14192.153846153846,14192.153846153846,14192.153846153846,14192.153846153846,12450.84,12450.84,12450.84,12450.84,12450.84,12450.84,12450.84,12450.84,12450.84,12450.84,12450.84,15991.79754601227,15991.79754601227,15991.79754601227,15991.79754601227,15991.79754601227,15991.79754601227,15991.79754601227,15991.79754601227,15991.79754601227,15991.79754601227,15991.79754601227,15991.79754601227,15991.79754601227,15991.79754601227,15991.79754601227,15991.79754601227,15991.79754601227,15991.79754601227,15991.79754601227,15991.79754601227,15991.79754601227,15991.79754601227,15991.79754601227,15991.79754601227,15991.79754601227,15991.79754601227,15991.79754601227,15991.79754601227,15991.79754601227,15991.79754601227,15991.79754601227,15991.79754601227,15991.79754601227,15991.79754601227,15991.79754601227,15991.79754601227,15991.79754601227,15991.79754601227,15991.79754601227,15991.79754601227,15991.79754601227,15991.79754601227,15991.79754601227,15991.79754601227,15991.79754601227,15991.79754601227,15991.79754601227,15991.79754601227,15991.79754601227,15901.054545454546,15901.054545454546,15901.054545454546,15901.054545454546,15901.054545454546,15901.054545454546,15901.054545454546,15901.054545454546,15901.054545454546,15901.054545454546,15901.054545454546,15901.054545454546,15901.054545454546,15901.054545454546,15901.054545454546,15901.054545454546,15901.054545454546,15901.054545454546,15901.054545454546,15901.054545454546,15901.054545454546,15901.054545454546,15901.054545454546,15901.054545454546,15901.054545454546,15901.054545454546,15901.054545454546,15901.054545454546,15901.054545454546,15901.054545454546,15901.054545454546,15901.054545454546,15901.054545454546,15901.054545454546,15901.054545454546,15901.054545454546,15901.054545454546,15901.054545454546,15901.054545454546,15901.054545454546,15901.054545454546,15901.054545454546,15901.054545454546,15901.054545454546,15901.054545454546,15901.054545454546,15901.054545454546,15901.054545454546,15901.054545454546,15901.054545454546,15901.054545454546,13758.392857142857,13758.392857142857,13758.392857142857,13758.392857142857,13758.392857142857,13758.392857142857,13758.392857142857,13758.392857142857,13758.392857142857,13758.392857142857,13758.392857142857,13758.392857142857,13758.392857142857,13758.392857142857,13758.392857142857,13758.392857142857,13758.392857142857,13758.392857142857,13758.392857142857,13758.392857142857,13758.392857142857,13758.392857142857,13758.392857142857,13758.392857142857,13758.392857142857,13758.392857142857,13758.392857142857,13758.392857142857,13758.392857142857,13758.392857142857,13758.392857142857,13758.392857142857,13758.392857142857,13758.392857142857,13758.392857142857,13758.392857142857,14375.757142857143,14375.757142857143,14375.757142857143,14375.757142857143,14375.757142857143,14375.757142857143,14375.757142857143,14375.757142857143,14375.757142857143,14375.757142857143,14375.757142857143,14375.757142857143,14375.757142857143,14375.757142857143,14375.757142857143,14375.757142857143,14375.757142857143,14375.757142857143,14375.757142857143,14375.757142857143,14375.757142857143,15410.219512195123,15410.219512195123,15410.219512195123,15410.219512195123,15410.219512195123,15410.219512195123,15410.219512195123,15410.219512195123,15410.219512195123,15410.219512195123,15410.219512195123,15410.219512195123,15410.219512195123,15410.219512195123,15410.219512195123,15410.219512195123,15410.219512195123,15410.219512195123,15410.219512195123,15410.219512195123,15410.219512195123,14672.345679012345,14672.345679012345,14672.345679012345,14672.345679012345,14672.345679012345,14672.345679012345,14672.345679012345,14672.345679012345,14672.345679012345,14672.345679012345,14672.345679012345,14672.345679012345,14672.345679012345,14672.345679012345,14672.345679012345,14672.345679012345,14672.345679012345,14672.345679012345,14672.345679012345,14672.345679012345,16064.9375,16064.9375,16064.9375,16064.9375,16064.9375,16064.9375,16064.9375,16064.9375,16064.9375,16064.9375,16064.9375,16064.9375,16064.9375,16064.9375,16141.244444444445,16141.244444444445,16141.244444444445,16141.244444444445,16141.244444444445,16141.244444444445,16141.244444444445,16141.244444444445,16141.244444444445,16732.589285714286,16732.589285714286,16732.589285714286,16732.589285714286,16732.589285714286,16732.589285714286,16732.589285714286,16732.589285714286,16732.589285714286,16732.589285714286,16732.589285714286,15121.956896551725,15121.956896551725,15121.956896551725,15121.956896551725,15121.956896551725,15121.956896551725,15121.956896551725,15121.956896551725,15121.956896551725,15121.956896551725,15121.956896551725,15121.956896551725,15121.956896551725,15121.956896551725,15121.956896551725,15121.956896551725,15121.956896551725,15121.956896551725,15121.956896551725,15121.956896551725,15121.956896551725,15121.956896551725,15121.956896551725,15121.956896551725,15121.956896551725,15121.956896551725,15121.956896551725,15121.956896551725,15121.956896551725,15121.956896551725,15121.956896551725,15121.956896551725,15121.956896551725,15121.956896551725,15121.956896551725,15121.956896551725,15121.956896551725,15121.956896551725,15121.956896551725,15121.956896551725,15121.956896551725,15121.956896551725,15121.956896551725,15121.956896551725,15121.956896551725,15121.956896551725,15121.956896551725,15121.956896551725,15121.956896551725,15121.956896551725,15121.956896551725,13076.631578947368,13076.631578947368,13076.631578947368,13076.631578947368,13076.631578947368,13076.631578947368,13076.631578947368,13076.631578947368,13076.631578947368,13076.631578947368,13076.631578947368,13076.631578947368,13076.631578947368,13076.631578947368,13076.631578947368,13076.631578947368,13076.631578947368,13076.631578947368,13076.631578947368,13076.631578947368,13076.631578947368,13076.631578947368,13076.631578947368,13076.631578947368,13076.631578947368,13076.631578947368,13076.631578947368,13076.631578947368,13076.631578947368,13076.631578947368,13076.631578947368,13076.631578947368,13076.631578947368,13076.631578947368,13076.631578947368,13076.631578947368,13076.631578947368,13076.631578947368,13076.631578947368,13076.631578947368,13076.631578947368,13076.631578947368,13076.631578947368,15944.323076923078,15944.323076923078,15944.323076923078,15944.323076923078,15944.323076923078,15944.323076923078,15944.323076923078,15327.41573033708,15327.41573033708,15327.41573033708,15327.41573033708,15327.41573033708,15327.41573033708,15327.41573033708,15327.41573033708,15327.41573033708,15327.41573033708,15327.41573033708,15327.41573033708,15327.41573033708,15327.41573033708,15327.41573033708,15327.41573033708,15327.41573033708,15327.41573033708,15327.41573033708,15327.41573033708,15327.41573033708,15327.41573033708,15327.41573033708,14058.96,14058.96,14058.96,14058.96,14058.96,14058.96,14058.96,14058.96,14058.96,14058.96,14058.96,14058.96,11046.035087719298,11046.035087719298,11046.035087719298,11046.035087719298,11046.035087719298,11046.035087719298,11046.035087719298,11046.035087719298,11046.035087719298,11046.035087719298,11046.035087719298,11046.035087719298,11046.035087719298,11046.035087719298,11046.035087719298,11046.035087719298,11046.035087719298,11046.035087719298,11046.035087719298,11046.035087719298,11046.035087719298,11046.035087719298,11046.035087719298,11046.035087719298,11046.035087719298,16389.40740740741,16389.40740740741,16389.40740740741,16389.40740740741,15933.0,15933.0,15933.0,15933.0,15933.0,15933.0,15933.0,15933.0,15933.0,15933.0,18314.90625,18314.90625,18314.90625,18314.90625,18314.90625,18314.90625,18314.90625,18314.90625,18314.90625,18314.90625,15123.633333333333,15123.633333333333,15123.633333333333,15123.633333333333,15123.633333333333,15123.633333333333,15795.6,15795.6,15795.6,15795.6,15795.6,15795.6,15795.6,15795.6,15795.6,15795.6,15795.6,15795.6,15795.6,15795.6,15795.6,15795.6,15117.234042553191,15117.234042553191,15117.234042553191,15117.234042553191,15117.234042553191,15117.234042553191,15117.234042553191,15117.234042553191,15117.234042553191,15117.234042553191,15117.234042553191,15117.234042553191,15117.234042553191,15117.234042553191,15117.234042553191,15117.234042553191,15117.234042553191,15117.234042553191,15117.234042553191,15117.234042553191,15117.234042553191,15117.234042553191,15117.234042553191,15117.234042553191,15117.234042553191,15117.234042553191,11334.6,11334.6,11334.6,11334.6,11334.6,11334.6,11334.6,11334.6,15905.808219178081,15905.808219178081,15905.808219178081,15905.808219178081,15905.808219178081,15905.808219178081,15905.808219178081,15905.808219178081,15905.808219178081,15905.808219178081,15905.808219178081,15905.808219178081,15905.808219178081,15905.808219178081,15905.808219178081,15905.808219178081,15905.808219178081,15905.808219178081,15905.808219178081,15905.808219178081,15905.808219178081,15905.808219178081,15905.808219178081,15905.808219178081,15905.808219178081,15905.808219178081,15905.808219178081,15905.808219178081,15905.808219178081,15905.808219178081,15905.808219178081,15905.808219178081,15905.808219178081,15905.808219178081,15905.808219178081,15905.808219178081,15905.808219178081,15905.808219178081,15905.808219178081,15905.808219178081,15905.808219178081,15905.808219178081,15905.808219178081,15905.808219178081,15905.808219178081,15905.808219178081,15905.808219178081,15905.808219178081,15905.808219178081,15905.808219178081,15905.808219178081,15905.808219178081,13660.70588235294,13660.70588235294,13660.70588235294,13660.70588235294,13660.70588235294,13660.70588235294,13660.70588235294,13660.70588235294,13660.70588235294,13660.70588235294,13660.70588235294,13660.70588235294,13660.70588235294,13660.70588235294,13660.70588235294,13660.70588235294,13660.70588235294,13660.70588235294,13660.70588235294,13660.70588235294,13660.70588235294,13660.70588235294,13660.70588235294,13660.70588235294,13591.096153846154,13591.096153846154,13591.096153846154,13591.096153846154,13591.096153846154,13591.096153846154,13591.096153846154,13591.096153846154,13591.096153846154,13591.096153846154,13591.096153846154,13591.096153846154,13591.096153846154,13591.096153846154,13591.096153846154,13591.096153846154,13591.096153846154,13591.096153846154,13591.096153846154,13591.096153846154,13591.096153846154,13591.096153846154,16380.18,16380.18,16380.18,16380.18,16380.18,16380.18,16380.18,16380.18,16380.18,16380.18,16380.18,16380.18,16380.18,16380.18,16380.18,16380.18,16380.18,16380.18,16380.18,16380.18,16380.18,16380.18,16380.18,16380.18,16380.18,16380.18,16380.18,16380.18,16380.18,16380.18,16380.18,16380.18,16380.18,16380.18,16380.18,16380.18,14933.6,14933.6,15103.872727272726,15103.872727272726,15103.872727272726,15103.872727272726,15103.872727272726,15103.872727272726,15103.872727272726,15103.872727272726,15103.872727272726,15103.872727272726,15103.872727272726,15103.872727272726,15103.872727272726,15103.872727272726,15103.872727272726,13748.421052631578,13748.421052631578,13748.421052631578,13748.421052631578,13748.421052631578,13748.421052631578,13748.421052631578,15252.692307692309,15252.692307692309,15252.692307692309,15252.692307692309,15252.692307692309,15252.692307692309,15252.692307692309,15252.692307692309,15252.692307692309,15252.692307692309,15252.692307692309,15252.692307692309,15252.692307692309,15252.692307692309,15252.692307692309,15252.692307692309,15252.692307692309,15252.692307692309,15252.692307692309,15252.692307692309,15252.692307692309,15058.62030075188,15058.62030075188,15058.62030075188,15058.62030075188,15058.62030075188,15058.62030075188,15058.62030075188,15058.62030075188,15058.62030075188,15058.62030075188,15058.62030075188,15058.62030075188,15058.62030075188,15058.62030075188,15058.62030075188,15058.62030075188,15058.62030075188,15058.62030075188,15058.62030075188,15058.62030075188,15058.62030075188,15058.62030075188,15058.62030075188,15058.62030075188,15058.62030075188,15058.62030075188,15058.62030075188,15058.62030075188,15058.62030075188,15058.62030075188,15058.62030075188,15058.62030075188,15058.62030075188,15058.62030075188,15058.62030075188,15058.62030075188,15058.62030075188,15058.62030075188,15058.62030075188,15058.62030075188,15058.62030075188,15058.62030075188,15058.62030075188,15058.62030075188,15058.62030075188,15058.62030075188,15058.62030075188,15058.62030075188,15058.62030075188,15058.62030075188,15058.62030075188,15058.62030075188,15058.62030075188,15058.62030075188,15058.62030075188,15058.62030075188,15058.62030075188,15058.62030075188,15058.62030075188,15058.62030075188,15058.62030075188,15058.62030075188,15058.62030075188,15058.62030075188,15058.62030075188,15058.62030075188,15058.62030075188,15058.62030075188,15058.62030075188,15058.62030075188,15058.62030075188,15058.62030075188,15058.62030075188,12323.85294117647,12323.85294117647,12323.85294117647,12323.85294117647,12323.85294117647,12323.85294117647,12323.85294117647,12323.85294117647,12323.85294117647,12323.85294117647,12323.85294117647,12323.85294117647,12323.85294117647,12323.85294117647,12323.85294117647,12323.85294117647,12323.85294117647,12323.85294117647,12323.85294117647,12323.85294117647,12323.85294117647,15462.0,15462.0,15462.0,15462.0,15462.0,16337.636363636364,16337.636363636364,16337.636363636364,16337.636363636364,16337.636363636364,16337.636363636364,16337.636363636364,16337.636363636364,16337.636363636364,16337.636363636364,16337.636363636364,16337.636363636364,16337.636363636364,16337.636363636364,16337.636363636364,16337.636363636364,16337.636363636364,16337.636363636364,16337.636363636364,16337.636363636364,16337.636363636364,16337.636363636364,16337.636363636364,16337.636363636364,14469.14705882353,14469.14705882353,14469.14705882353,14469.14705882353,14469.14705882353,14469.14705882353,14469.14705882353,14469.14705882353,14469.14705882353,14469.14705882353,14469.14705882353,14469.14705882353,14469.14705882353,14469.14705882353,14469.14705882353,14469.14705882353,14469.14705882353,14469.14705882353,14469.14705882353,13396.23076923077,13396.23076923077,13396.23076923077,13396.23076923077,13396.23076923077,13396.23076923077,13396.23076923077,13396.23076923077,14351.574074074075,14351.574074074075,14351.574074074075,14351.574074074075,14351.574074074075,14351.574074074075,14351.574074074075,14351.574074074075,14351.574074074075,14351.574074074075,14351.574074074075,14351.574074074075,14351.574074074075,14351.574074074075,14351.574074074075,14351.574074074075,14351.574074074075,14351.574074074075,14351.574074074075,14351.574074074075,14351.574074074075,14351.574074074075,14351.574074074075,14351.574074074075,14351.574074074075,14351.574074074075,14351.574074074075,14351.574074074075,14351.574074074075,14351.574074074075,14351.574074074075,14351.574074074075,14351.574074074075,14351.574074074075,14351.574074074075,14351.574074074075,14351.574074074075,14351.574074074075,14351.574074074075,14351.574074074075,14351.574074074075,14351.574074074075,14351.574074074075,14351.574074074075,14351.574074074075,14351.574074074075,14351.574074074075,14351.574074074075,14351.574074074075,14351.574074074075,14351.574074074075,14351.574074074075,14351.574074074075,14351.574074074075,14351.574074074075,14351.574074074075,14351.574074074075,14351.574074074075,14351.574074074075,14000.777777777777,14000.777777777777,14000.777777777777,14000.777777777777,14000.777777777777,14000.777777777777,15058.62030075188,15058.62030075188,15058.62030075188,15058.62030075188,15058.62030075188,15058.62030075188,15058.62030075188,15058.62030075188,15058.62030075188,15058.62030075188,15058.62030075188,15131.860759493671,15131.860759493671,15131.860759493671,15131.860759493671,15131.860759493671,13600.9,13600.9,15239.927272727273,15239.927272727273,15239.927272727273,15239.927272727273,14963.741935483871,14963.741935483871,14275.631756756757,14275.631756756757,14275.631756756757,14275.631756756757,14275.631756756757,14275.631756756757,14275.631756756757,14275.631756756757,14275.631756756757,14275.631756756757,14275.631756756757,14275.631756756757,14275.631756756757,14275.631756756757,14275.631756756757,14275.631756756757,14275.631756756757,14275.631756756757,14275.631756756757,14275.631756756757,14275.631756756757,13443.40350877193,13443.40350877193,13443.40350877193,13443.40350877193,13443.40350877193,13443.40350877193,17528.958579881655,17528.958579881655,17528.958579881655,17528.958579881655,17528.958579881655,17528.958579881655,17528.958579881655,17528.958579881655,17528.958579881655,13924.518518518518,13924.518518518518,13924.518518518518,13924.518518518518,13924.518518518518,14192.153846153846,14192.153846153846,14192.153846153846,12450.84,12450.84,12450.84,12450.84,12450.84,15991.79754601227,15991.79754601227,15991.79754601227,15991.79754601227,15991.79754601227,15991.79754601227,15991.79754601227,15991.79754601227,15991.79754601227,15991.79754601227,15991.79754601227,15991.79754601227,15901.054545454546,15901.054545454546,15901.054545454546,15901.054545454546,15901.054545454546,15901.054545454546,15901.054545454546,15901.054545454546,15901.054545454546,15901.054545454546,15901.054545454546,15901.054545454546,15901.054545454546,13758.392857142857,13758.392857142857,13758.392857142857,13758.392857142857,13758.392857142857,13758.392857142857,13758.392857142857,14375.757142857143,14375.757142857143,14375.757142857143,14375.757142857143,14375.757142857143,14375.757142857143,14375.757142857143,14375.757142857143,15410.219512195123,14672.345679012345,14672.345679012345,14672.345679012345,16064.9375,16064.9375,16064.9375,16141.244444444445,16141.244444444445,16141.244444444445,16141.244444444445,16141.244444444445,16732.589285714286,16732.589285714286,16732.589285714286,16732.589285714286,16732.589285714286,16732.589285714286,16732.589285714286,15121.956896551725,15121.956896551725,15121.956896551725,15121.956896551725,15121.956896551725,15121.956896551725,15121.956896551725,15121.956896551725,15121.956896551725,15121.956896551725,15121.956896551725,13076.631578947368,13076.631578947368,13076.631578947368,13076.631578947368,13076.631578947368,13076.631578947368,13076.631578947368,13076.631578947368,15944.323076923078,15327.41573033708,15327.41573033708,15327.41573033708,15327.41573033708,15327.41573033708,15327.41573033708,14058.96,14058.96,14058.96,11046.035087719298,11046.035087719298,15933.0,15933.0,15933.0,18314.90625,18314.90625,18314.90625,18314.90625,18314.90625,18314.90625,15795.6,15117.234042553191,15117.234042553191,15117.234042553191,15117.234042553191,15117.234042553191,15117.234042553191,15117.234042553191,15905.808219178081,15905.808219178081,15905.808219178081,15905.808219178081,15905.808219178081,15905.808219178081,15905.808219178081,15905.808219178081,15905.808219178081,15905.808219178081,15905.808219178081,15905.808219178081,15905.808219178081,15905.808219178081,15905.808219178081,15905.808219178081,15905.808219178081,15905.808219178081,15905.808219178081,15905.808219178081,13660.70588235294,13660.70588235294,13660.70588235294,13660.70588235294,13660.70588235294,13660.70588235294,13660.70588235294,13660.70588235294,13660.70588235294,13591.096153846154,13591.096153846154,13591.096153846154,16380.18,16380.18,16380.18,16380.18,16380.18,16380.18,16380.18,16380.18,16380.18,16380.18,16380.18,14933.6,14933.6,15103.872727272726,15103.872727272726,15103.872727272726,15103.872727272726,15103.872727272726,13748.421052631578,13748.421052631578,13748.421052631578,13748.421052631578,13748.421052631578,15252.692307692309,15058.62030075188,15058.62030075188,15058.62030075188,15058.62030075188,15058.62030075188,15058.62030075188,15058.62030075188,15058.62030075188,15058.62030075188,15058.62030075188,15058.62030075188,15058.62030075188,15058.62030075188,15058.62030075188,15058.62030075188,15058.62030075188,12323.85294117647,12323.85294117647,12323.85294117647,12323.85294117647,16337.636363636364,16337.636363636364,16337.636363636364,16337.636363636364,16337.636363636364,16337.636363636364,16337.636363636364,16337.636363636364,16337.636363636364,14469.14705882353,14469.14705882353,14469.14705882353,14469.14705882353,14469.14705882353,14469.14705882353,13396.23076923077,14351.574074074075,14351.574074074075,14351.574074074075,14351.574074074075,14351.574074074075,14351.574074074075,14351.574074074075,14351.574074074075,14351.574074074075,14351.574074074075,14351.574074074075,14351.574074074075,14351.574074074075,14351.574074074075,14351.574074074075,14351.574074074075,14351.574074074075,14351.574074074075,14351.574074074075,14351.574074074075,14351.574074074075,14351.574074074075,14000.777777777777,15058.62030075188,15058.62030075188,15058.62030075188,15058.62030075188,15058.62030075188,15058.62030075188,15058.62030075188,15058.62030075188],\"type\":\"choropleth\"}],                        {\"template\":{\"data\":{\"histogram2dcontour\":[{\"type\":\"histogram2dcontour\",\"colorbar\":{\"outlinewidth\":0,\"ticks\":\"\"},\"colorscale\":[[0.0,\"#0d0887\"],[0.1111111111111111,\"#46039f\"],[0.2222222222222222,\"#7201a8\"],[0.3333333333333333,\"#9c179e\"],[0.4444444444444444,\"#bd3786\"],[0.5555555555555556,\"#d8576b\"],[0.6666666666666666,\"#ed7953\"],[0.7777777777777778,\"#fb9f3a\"],[0.8888888888888888,\"#fdca26\"],[1.0,\"#f0f921\"]]}],\"choropleth\":[{\"type\":\"choropleth\",\"colorbar\":{\"outlinewidth\":0,\"ticks\":\"\"}}],\"histogram2d\":[{\"type\":\"histogram2d\",\"colorbar\":{\"outlinewidth\":0,\"ticks\":\"\"},\"colorscale\":[[0.0,\"#0d0887\"],[0.1111111111111111,\"#46039f\"],[0.2222222222222222,\"#7201a8\"],[0.3333333333333333,\"#9c179e\"],[0.4444444444444444,\"#bd3786\"],[0.5555555555555556,\"#d8576b\"],[0.6666666666666666,\"#ed7953\"],[0.7777777777777778,\"#fb9f3a\"],[0.8888888888888888,\"#fdca26\"],[1.0,\"#f0f921\"]]}],\"heatmap\":[{\"type\":\"heatmap\",\"colorbar\":{\"outlinewidth\":0,\"ticks\":\"\"},\"colorscale\":[[0.0,\"#0d0887\"],[0.1111111111111111,\"#46039f\"],[0.2222222222222222,\"#7201a8\"],[0.3333333333333333,\"#9c179e\"],[0.4444444444444444,\"#bd3786\"],[0.5555555555555556,\"#d8576b\"],[0.6666666666666666,\"#ed7953\"],[0.7777777777777778,\"#fb9f3a\"],[0.8888888888888888,\"#fdca26\"],[1.0,\"#f0f921\"]]}],\"heatmapgl\":[{\"type\":\"heatmapgl\",\"colorbar\":{\"outlinewidth\":0,\"ticks\":\"\"},\"colorscale\":[[0.0,\"#0d0887\"],[0.1111111111111111,\"#46039f\"],[0.2222222222222222,\"#7201a8\"],[0.3333333333333333,\"#9c179e\"],[0.4444444444444444,\"#bd3786\"],[0.5555555555555556,\"#d8576b\"],[0.6666666666666666,\"#ed7953\"],[0.7777777777777778,\"#fb9f3a\"],[0.8888888888888888,\"#fdca26\"],[1.0,\"#f0f921\"]]}],\"contourcarpet\":[{\"type\":\"contourcarpet\",\"colorbar\":{\"outlinewidth\":0,\"ticks\":\"\"}}],\"contour\":[{\"type\":\"contour\",\"colorbar\":{\"outlinewidth\":0,\"ticks\":\"\"},\"colorscale\":[[0.0,\"#0d0887\"],[0.1111111111111111,\"#46039f\"],[0.2222222222222222,\"#7201a8\"],[0.3333333333333333,\"#9c179e\"],[0.4444444444444444,\"#bd3786\"],[0.5555555555555556,\"#d8576b\"],[0.6666666666666666,\"#ed7953\"],[0.7777777777777778,\"#fb9f3a\"],[0.8888888888888888,\"#fdca26\"],[1.0,\"#f0f921\"]]}],\"surface\":[{\"type\":\"surface\",\"colorbar\":{\"outlinewidth\":0,\"ticks\":\"\"},\"colorscale\":[[0.0,\"#0d0887\"],[0.1111111111111111,\"#46039f\"],[0.2222222222222222,\"#7201a8\"],[0.3333333333333333,\"#9c179e\"],[0.4444444444444444,\"#bd3786\"],[0.5555555555555556,\"#d8576b\"],[0.6666666666666666,\"#ed7953\"],[0.7777777777777778,\"#fb9f3a\"],[0.8888888888888888,\"#fdca26\"],[1.0,\"#f0f921\"]]}],\"mesh3d\":[{\"type\":\"mesh3d\",\"colorbar\":{\"outlinewidth\":0,\"ticks\":\"\"}}],\"scatter\":[{\"fillpattern\":{\"fillmode\":\"overlay\",\"size\":10,\"solidity\":0.2},\"type\":\"scatter\"}],\"parcoords\":[{\"type\":\"parcoords\",\"line\":{\"colorbar\":{\"outlinewidth\":0,\"ticks\":\"\"}}}],\"scatterpolargl\":[{\"type\":\"scatterpolargl\",\"marker\":{\"colorbar\":{\"outlinewidth\":0,\"ticks\":\"\"}}}],\"bar\":[{\"error_x\":{\"color\":\"#2a3f5f\"},\"error_y\":{\"color\":\"#2a3f5f\"},\"marker\":{\"line\":{\"color\":\"#E5ECF6\",\"width\":0.5},\"pattern\":{\"fillmode\":\"overlay\",\"size\":10,\"solidity\":0.2}},\"type\":\"bar\"}],\"scattergeo\":[{\"type\":\"scattergeo\",\"marker\":{\"colorbar\":{\"outlinewidth\":0,\"ticks\":\"\"}}}],\"scatterpolar\":[{\"type\":\"scatterpolar\",\"marker\":{\"colorbar\":{\"outlinewidth\":0,\"ticks\":\"\"}}}],\"histogram\":[{\"marker\":{\"pattern\":{\"fillmode\":\"overlay\",\"size\":10,\"solidity\":0.2}},\"type\":\"histogram\"}],\"scattergl\":[{\"type\":\"scattergl\",\"marker\":{\"colorbar\":{\"outlinewidth\":0,\"ticks\":\"\"}}}],\"scatter3d\":[{\"type\":\"scatter3d\",\"line\":{\"colorbar\":{\"outlinewidth\":0,\"ticks\":\"\"}},\"marker\":{\"colorbar\":{\"outlinewidth\":0,\"ticks\":\"\"}}}],\"scattermapbox\":[{\"type\":\"scattermapbox\",\"marker\":{\"colorbar\":{\"outlinewidth\":0,\"ticks\":\"\"}}}],\"scatterternary\":[{\"type\":\"scatterternary\",\"marker\":{\"colorbar\":{\"outlinewidth\":0,\"ticks\":\"\"}}}],\"scattercarpet\":[{\"type\":\"scattercarpet\",\"marker\":{\"colorbar\":{\"outlinewidth\":0,\"ticks\":\"\"}}}],\"carpet\":[{\"aaxis\":{\"endlinecolor\":\"#2a3f5f\",\"gridcolor\":\"white\",\"linecolor\":\"white\",\"minorgridcolor\":\"white\",\"startlinecolor\":\"#2a3f5f\"},\"baxis\":{\"endlinecolor\":\"#2a3f5f\",\"gridcolor\":\"white\",\"linecolor\":\"white\",\"minorgridcolor\":\"white\",\"startlinecolor\":\"#2a3f5f\"},\"type\":\"carpet\"}],\"table\":[{\"cells\":{\"fill\":{\"color\":\"#EBF0F8\"},\"line\":{\"color\":\"white\"}},\"header\":{\"fill\":{\"color\":\"#C8D4E3\"},\"line\":{\"color\":\"white\"}},\"type\":\"table\"}],\"barpolar\":[{\"marker\":{\"line\":{\"color\":\"#E5ECF6\",\"width\":0.5},\"pattern\":{\"fillmode\":\"overlay\",\"size\":10,\"solidity\":0.2}},\"type\":\"barpolar\"}],\"pie\":[{\"automargin\":true,\"type\":\"pie\"}]},\"layout\":{\"autotypenumbers\":\"strict\",\"colorway\":[\"#636efa\",\"#EF553B\",\"#00cc96\",\"#ab63fa\",\"#FFA15A\",\"#19d3f3\",\"#FF6692\",\"#B6E880\",\"#FF97FF\",\"#FECB52\"],\"font\":{\"color\":\"#2a3f5f\"},\"hovermode\":\"closest\",\"hoverlabel\":{\"align\":\"left\"},\"paper_bgcolor\":\"white\",\"plot_bgcolor\":\"#E5ECF6\",\"polar\":{\"bgcolor\":\"#E5ECF6\",\"angularaxis\":{\"gridcolor\":\"white\",\"linecolor\":\"white\",\"ticks\":\"\"},\"radialaxis\":{\"gridcolor\":\"white\",\"linecolor\":\"white\",\"ticks\":\"\"}},\"ternary\":{\"bgcolor\":\"#E5ECF6\",\"aaxis\":{\"gridcolor\":\"white\",\"linecolor\":\"white\",\"ticks\":\"\"},\"baxis\":{\"gridcolor\":\"white\",\"linecolor\":\"white\",\"ticks\":\"\"},\"caxis\":{\"gridcolor\":\"white\",\"linecolor\":\"white\",\"ticks\":\"\"}},\"coloraxis\":{\"colorbar\":{\"outlinewidth\":0,\"ticks\":\"\"}},\"colorscale\":{\"sequential\":[[0.0,\"#0d0887\"],[0.1111111111111111,\"#46039f\"],[0.2222222222222222,\"#7201a8\"],[0.3333333333333333,\"#9c179e\"],[0.4444444444444444,\"#bd3786\"],[0.5555555555555556,\"#d8576b\"],[0.6666666666666666,\"#ed7953\"],[0.7777777777777778,\"#fb9f3a\"],[0.8888888888888888,\"#fdca26\"],[1.0,\"#f0f921\"]],\"sequentialminus\":[[0.0,\"#0d0887\"],[0.1111111111111111,\"#46039f\"],[0.2222222222222222,\"#7201a8\"],[0.3333333333333333,\"#9c179e\"],[0.4444444444444444,\"#bd3786\"],[0.5555555555555556,\"#d8576b\"],[0.6666666666666666,\"#ed7953\"],[0.7777777777777778,\"#fb9f3a\"],[0.8888888888888888,\"#fdca26\"],[1.0,\"#f0f921\"]],\"diverging\":[[0,\"#8e0152\"],[0.1,\"#c51b7d\"],[0.2,\"#de77ae\"],[0.3,\"#f1b6da\"],[0.4,\"#fde0ef\"],[0.5,\"#f7f7f7\"],[0.6,\"#e6f5d0\"],[0.7,\"#b8e186\"],[0.8,\"#7fbc41\"],[0.9,\"#4d9221\"],[1,\"#276419\"]]},\"xaxis\":{\"gridcolor\":\"white\",\"linecolor\":\"white\",\"ticks\":\"\",\"title\":{\"standoff\":15},\"zerolinecolor\":\"white\",\"automargin\":true,\"zerolinewidth\":2},\"yaxis\":{\"gridcolor\":\"white\",\"linecolor\":\"white\",\"ticks\":\"\",\"title\":{\"standoff\":15},\"zerolinecolor\":\"white\",\"automargin\":true,\"zerolinewidth\":2},\"scene\":{\"xaxis\":{\"backgroundcolor\":\"#E5ECF6\",\"gridcolor\":\"white\",\"linecolor\":\"white\",\"showbackground\":true,\"ticks\":\"\",\"zerolinecolor\":\"white\",\"gridwidth\":2},\"yaxis\":{\"backgroundcolor\":\"#E5ECF6\",\"gridcolor\":\"white\",\"linecolor\":\"white\",\"showbackground\":true,\"ticks\":\"\",\"zerolinecolor\":\"white\",\"gridwidth\":2},\"zaxis\":{\"backgroundcolor\":\"#E5ECF6\",\"gridcolor\":\"white\",\"linecolor\":\"white\",\"showbackground\":true,\"ticks\":\"\",\"zerolinecolor\":\"white\",\"gridwidth\":2}},\"shapedefaults\":{\"line\":{\"color\":\"#2a3f5f\"}},\"annotationdefaults\":{\"arrowcolor\":\"#2a3f5f\",\"arrowhead\":0,\"arrowwidth\":1},\"geo\":{\"bgcolor\":\"white\",\"landcolor\":\"#E5ECF6\",\"subunitcolor\":\"white\",\"showland\":true,\"showlakes\":true,\"lakecolor\":\"white\"},\"title\":{\"x\":0.05},\"mapbox\":{\"style\":\"light\"}}},\"title\":{\"text\":\"Average Cost of Heart Failure Care by State\"},\"geo\":{\"scope\":\"usa\"}},                        {\"responsive\": true}                    ).then(function(){\n",
              "                            \n",
              "var gd = document.getElementById('bd7b6e04-fb9f-409f-a1ac-a25e470fdc9e');\n",
              "var x = new MutationObserver(function (mutations, observer) {{\n",
              "        var display = window.getComputedStyle(gd).display;\n",
              "        if (!display || display === 'none') {{\n",
              "            console.log([gd, 'removed!']);\n",
              "            Plotly.purge(gd);\n",
              "            observer.disconnect();\n",
              "        }}\n",
              "}});\n",
              "\n",
              "// Listen for the removal of the full notebook cells\n",
              "var notebookContainer = gd.closest('#notebook-container');\n",
              "if (notebookContainer) {{\n",
              "    x.observe(notebookContainer, {childList: true});\n",
              "}}\n",
              "\n",
              "// Listen for the clearing of the current output cell\n",
              "var outputEl = gd.closest('.output');\n",
              "if (outputEl) {{\n",
              "    x.observe(outputEl, {childList: true});\n",
              "}}\n",
              "\n",
              "                        })                };                            </script>        </div>\n",
              "</body>\n",
              "</html>"
            ]
          },
          "metadata": {}
        },
        {
          "output_type": "display_data",
          "data": {
            "text/html": [
              "<html>\n",
              "<head><meta charset=\"utf-8\" /></head>\n",
              "<body>\n",
              "    <div>            <script src=\"https://cdnjs.cloudflare.com/ajax/libs/mathjax/2.7.5/MathJax.js?config=TeX-AMS-MML_SVG\"></script><script type=\"text/javascript\">if (window.MathJax && window.MathJax.Hub && window.MathJax.Hub.Config) {window.MathJax.Hub.Config({SVG: {font: \"STIX-Web\"}});}</script>                <script type=\"text/javascript\">window.PlotlyConfig = {MathJaxConfig: 'local'};</script>\n",
              "        <script src=\"https://cdn.plot.ly/plotly-2.12.1.min.js\"></script>                <div id=\"6ca14931-cd52-4544-82ee-94986d005d2f\" class=\"plotly-graph-div\" style=\"height:525px; width:100%;\"></div>            <script type=\"text/javascript\">                                    window.PLOTLYENV=window.PLOTLYENV || {};                                    if (document.getElementById(\"6ca14931-cd52-4544-82ee-94986d005d2f\")) {                    Plotly.newPlot(                        \"6ca14931-cd52-4544-82ee-94986d005d2f\",                        [{\"colorbar\":{\"title\":{\"text\":\"Pneumonia Care in Dollars\"}},\"colorscale\":[[0.0,\"rgb(255,245,240)\"],[0.125,\"rgb(254,224,210)\"],[0.25,\"rgb(252,187,161)\"],[0.375,\"rgb(252,146,114)\"],[0.5,\"rgb(251,106,74)\"],[0.625,\"rgb(239,59,44)\"],[0.75,\"rgb(203,24,29)\"],[0.875,\"rgb(165,15,21)\"],[1.0,\"rgb(103,0,13)\"]],\"locationmode\":\"USA-states\",\"locations\":[\"AL\",\"AL\",\"AL\",\"AL\",\"AL\",\"AZ\",\"AZ\",\"AR\",\"AR\",\"AR\",\"AR\",\"AR\",\"AR\",\"AR\",\"AR\",\"CA\",\"CA\",\"CA\",\"CA\",\"CA\",\"CA\",\"CA\",\"CA\",\"CA\",\"CA\",\"CA\",\"CA\",\"CA\",\"CA\",\"CA\",\"CA\",\"CA\",\"CA\",\"CA\",\"CA\",\"CA\",\"CA\",\"CA\",\"CA\",\"CT\",\"CT\",\"CT\",\"CT\",\"CT\",\"CT\",\"DC\",\"DC\",\"DC\",\"DC\",\"DC\",\"FL\",\"FL\",\"FL\",\"FL\",\"FL\",\"FL\",\"FL\",\"FL\",\"FL\",\"FL\",\"FL\",\"FL\",\"FL\",\"FL\",\"FL\",\"FL\",\"FL\",\"FL\",\"FL\",\"FL\",\"FL\",\"FL\",\"FL\",\"FL\",\"FL\",\"FL\",\"FL\",\"FL\",\"FL\",\"FL\",\"FL\",\"FL\",\"GA\",\"GA\",\"GA\",\"GA\",\"GA\",\"GA\",\"GA\",\"GA\",\"GA\",\"GA\",\"GA\",\"GA\",\"IL\",\"IL\",\"IL\",\"IL\",\"IL\",\"IL\",\"IL\",\"IL\",\"IL\",\"IL\",\"IL\",\"IL\",\"IL\",\"IL\",\"IL\",\"IL\",\"IA\",\"KS\",\"KY\",\"KY\",\"KY\",\"KY\",\"KY\",\"KY\",\"LA\",\"LA\",\"MD\",\"MD\",\"MD\",\"MD\",\"MD\",\"MD\",\"MA\",\"MA\",\"MA\",\"MA\",\"MI\",\"MI\",\"MI\",\"MI\",\"MN\",\"MS\",\"MS\",\"MS\",\"MS\",\"MS\",\"MS\",\"MO\",\"MO\",\"MO\",\"MO\",\"MO\",\"MO\",\"MO\",\"NE\",\"NV\",\"NV\",\"NV\",\"NV\",\"NV\",\"NV\",\"NV\",\"NV\",\"NV\",\"NV\",\"NJ\",\"NJ\",\"NJ\",\"NJ\",\"NJ\",\"NJ\",\"NJ\",\"NJ\",\"NM\",\"NM\",\"NM\",\"NY\",\"NY\",\"NY\",\"NY\",\"NY\",\"NY\",\"NY\",\"NY\",\"NY\",\"NY\",\"NY\",\"NY\",\"NY\",\"NY\",\"NY\",\"NY\",\"NY\",\"NY\",\"NY\",\"NY\",\"NY\",\"NY\",\"NY\",\"NY\",\"NY\",\"NY\",\"NY\",\"NY\",\"NY\",\"NY\",\"NY\",\"NY\",\"NY\",\"NY\",\"NY\",\"NY\",\"NY\",\"NY\",\"NY\",\"NY\",\"NY\",\"NY\",\"NY\",\"NY\",\"NY\",\"NY\",\"NY\",\"NY\",\"NC\",\"NC\",\"NC\",\"NC\",\"NC\",\"NC\",\"NC\",\"ND\",\"ND\",\"OH\",\"OH\",\"OK\",\"OK\",\"OK\",\"OK\",\"OK\",\"PA\",\"PA\",\"PA\",\"PA\",\"PA\",\"PA\",\"PA\",\"PA\",\"PA\",\"PA\",\"PA\",\"PA\",\"PA\",\"PR\",\"PR\",\"PR\",\"SC\",\"SC\",\"SC\",\"TN\",\"TN\",\"TN\",\"TN\",\"TN\",\"TN\",\"TN\",\"TN\",\"TN\",\"TN\",\"TX\",\"TX\",\"TX\",\"TX\",\"TX\",\"TX\",\"TX\",\"TX\",\"TX\",\"TX\",\"VA\",\"VA\",\"VA\",\"WA\",\"WA\",\"WV\",\"WV\",\"WI\",\"AL\",\"AL\",\"AL\",\"AL\",\"AL\",\"AL\",\"AL\",\"AL\",\"AL\",\"AL\",\"AL\",\"AL\",\"AL\",\"AL\",\"AL\",\"AL\",\"AL\",\"AL\",\"AL\",\"AL\",\"AL\",\"AL\",\"AL\",\"AK\",\"AZ\",\"AZ\",\"AZ\",\"AZ\",\"AZ\",\"AZ\",\"AZ\",\"AZ\",\"AZ\",\"AZ\",\"AZ\",\"AZ\",\"AZ\",\"AZ\",\"AZ\",\"AZ\",\"AR\",\"AR\",\"AR\",\"AR\",\"AR\",\"AR\",\"AR\",\"AR\",\"AR\",\"AR\",\"AR\",\"AR\",\"AR\",\"AR\",\"AR\",\"AR\",\"AR\",\"AR\",\"AR\",\"AR\",\"CA\",\"CA\",\"CA\",\"CA\",\"CA\",\"CA\",\"CA\",\"CA\",\"CA\",\"CA\",\"CA\",\"CA\",\"CA\",\"CA\",\"CA\",\"CA\",\"CA\",\"CA\",\"CA\",\"CA\",\"CA\",\"CA\",\"CA\",\"CA\",\"CA\",\"CA\",\"CA\",\"CA\",\"CA\",\"CA\",\"CA\",\"CA\",\"CA\",\"CA\",\"CA\",\"CA\",\"CA\",\"CA\",\"CA\",\"CA\",\"CA\",\"CA\",\"CA\",\"CA\",\"CA\",\"CA\",\"CA\",\"CA\",\"CA\",\"CA\",\"CA\",\"CA\",\"CA\",\"CA\",\"CA\",\"CA\",\"CA\",\"CA\",\"CA\",\"CA\",\"CA\",\"CA\",\"CA\",\"CA\",\"CA\",\"CA\",\"CA\",\"CA\",\"CA\",\"CA\",\"CA\",\"CA\",\"CA\",\"CA\",\"CA\",\"CA\",\"CA\",\"CA\",\"CA\",\"CA\",\"CA\",\"CA\",\"CA\",\"CA\",\"CA\",\"CA\",\"CA\",\"CA\",\"CA\",\"CA\",\"CA\",\"CA\",\"CA\",\"CA\",\"CA\",\"CA\",\"CO\",\"CO\",\"CO\",\"CT\",\"CT\",\"CT\",\"CT\",\"DE\",\"DE\",\"DC\",\"FL\",\"FL\",\"FL\",\"FL\",\"FL\",\"FL\",\"FL\",\"FL\",\"FL\",\"FL\",\"FL\",\"FL\",\"FL\",\"FL\",\"FL\",\"FL\",\"FL\",\"FL\",\"FL\",\"FL\",\"FL\",\"FL\",\"FL\",\"FL\",\"FL\",\"FL\",\"FL\",\"FL\",\"FL\",\"FL\",\"FL\",\"FL\",\"FL\",\"FL\",\"FL\",\"FL\",\"FL\",\"FL\",\"FL\",\"FL\",\"FL\",\"FL\",\"FL\",\"FL\",\"FL\",\"FL\",\"FL\",\"FL\",\"FL\",\"FL\",\"FL\",\"FL\",\"FL\",\"FL\",\"FL\",\"FL\",\"FL\",\"FL\",\"FL\",\"FL\",\"GA\",\"GA\",\"GA\",\"GA\",\"GA\",\"GA\",\"GA\",\"GA\",\"GA\",\"GA\",\"GA\",\"GA\",\"GA\",\"GA\",\"GA\",\"GA\",\"GA\",\"GA\",\"GA\",\"GA\",\"GA\",\"GA\",\"GA\",\"HI\",\"ID\",\"ID\",\"ID\",\"IL\",\"IL\",\"IL\",\"IL\",\"IL\",\"IL\",\"IL\",\"IL\",\"IL\",\"IL\",\"IL\",\"IL\",\"IL\",\"IL\",\"IL\",\"IL\",\"IL\",\"IL\",\"IL\",\"IL\",\"IL\",\"IL\",\"IL\",\"IL\",\"IL\",\"IL\",\"IL\",\"IL\",\"IL\",\"IL\",\"IL\",\"IN\",\"IN\",\"IN\",\"IN\",\"IN\",\"IN\",\"IN\",\"IN\",\"IN\",\"IN\",\"IA\",\"IA\",\"IA\",\"IA\",\"IA\",\"IA\",\"IA\",\"IA\",\"IA\",\"IA\",\"IA\",\"KS\",\"KS\",\"KS\",\"KS\",\"KS\",\"KS\",\"KS\",\"KS\",\"KS\",\"KS\",\"KY\",\"KY\",\"KY\",\"KY\",\"KY\",\"KY\",\"KY\",\"KY\",\"KY\",\"KY\",\"KY\",\"KY\",\"KY\",\"KY\",\"KY\",\"KY\",\"KY\",\"KY\",\"KY\",\"KY\",\"KY\",\"KY\",\"LA\",\"LA\",\"LA\",\"LA\",\"LA\",\"LA\",\"LA\",\"LA\",\"LA\",\"LA\",\"LA\",\"LA\",\"LA\",\"LA\",\"LA\",\"LA\",\"LA\",\"LA\",\"LA\",\"LA\",\"LA\",\"ME\",\"ME\",\"ME\",\"ME\",\"ME\",\"MD\",\"MD\",\"MD\",\"MD\",\"MD\",\"MD\",\"MA\",\"MA\",\"MA\",\"MA\",\"MA\",\"MA\",\"MA\",\"MA\",\"MA\",\"MA\",\"MA\",\"MA\",\"MA\",\"MA\",\"MA\",\"MI\",\"MI\",\"MI\",\"MI\",\"MI\",\"MI\",\"MI\",\"MI\",\"MI\",\"MI\",\"MI\",\"MI\",\"MI\",\"MN\",\"MN\",\"MN\",\"MN\",\"MN\",\"MS\",\"MS\",\"MS\",\"MS\",\"MS\",\"MS\",\"MS\",\"MS\",\"MS\",\"MS\",\"MS\",\"MS\",\"MS\",\"MS\",\"MS\",\"MS\",\"MS\",\"MS\",\"MS\",\"MS\",\"MS\",\"MS\",\"MS\",\"MS\",\"MS\",\"MO\",\"MO\",\"MO\",\"MO\",\"MO\",\"MO\",\"MO\",\"MO\",\"MO\",\"MO\",\"MO\",\"MO\",\"MO\",\"MO\",\"MO\",\"MO\",\"MO\",\"MT\",\"MT\",\"NE\",\"NE\",\"NE\",\"NV\",\"NV\",\"NV\",\"NV\",\"NV\",\"NV\",\"NH\",\"NH\",\"NH\",\"NH\",\"NJ\",\"NJ\",\"NJ\",\"NJ\",\"NJ\",\"NJ\",\"NJ\",\"NJ\",\"NJ\",\"NJ\",\"NJ\",\"NJ\",\"NJ\",\"NJ\",\"NJ\",\"NJ\",\"NJ\",\"NJ\",\"NJ\",\"NJ\",\"NJ\",\"NJ\",\"NJ\",\"NJ\",\"NJ\",\"NJ\",\"NM\",\"NM\",\"NM\",\"NM\",\"NM\",\"NM\",\"NM\",\"NM\",\"NY\",\"NY\",\"NY\",\"NY\",\"NY\",\"NY\",\"NY\",\"NY\",\"NY\",\"NY\",\"NY\",\"NY\",\"NY\",\"NY\",\"NY\",\"NY\",\"NY\",\"NY\",\"NY\",\"NY\",\"NY\",\"NY\",\"NY\",\"NY\",\"NY\",\"NY\",\"NY\",\"NY\",\"NY\",\"NY\",\"NY\",\"NY\",\"NY\",\"NY\",\"NY\",\"NY\",\"NY\",\"NY\",\"NY\",\"NY\",\"NY\",\"NY\",\"NY\",\"NY\",\"NY\",\"NC\",\"NC\",\"NC\",\"NC\",\"NC\",\"NC\",\"NC\",\"NC\",\"NC\",\"NC\",\"NC\",\"NC\",\"NC\",\"NC\",\"NC\",\"NC\",\"NC\",\"NC\",\"ND\",\"ND\",\"OH\",\"OH\",\"OH\",\"OH\",\"OH\",\"OH\",\"OH\",\"OH\",\"OH\",\"OH\",\"OH\",\"OH\",\"OH\",\"OH\",\"OH\",\"OH\",\"OH\",\"OH\",\"OH\",\"OH\",\"OH\",\"OH\",\"OK\",\"OK\",\"OK\",\"OK\",\"OK\",\"OK\",\"OK\",\"OK\",\"OK\",\"OK\",\"OK\",\"OK\",\"OK\",\"OK\",\"OK\",\"OK\",\"OK\",\"OK\",\"OK\",\"OR\",\"OR\",\"OR\",\"OR\",\"PA\",\"PA\",\"PA\",\"PA\",\"PA\",\"PA\",\"PA\",\"PA\",\"PA\",\"PA\",\"PA\",\"PA\",\"PA\",\"PA\",\"PA\",\"PA\",\"PA\",\"PA\",\"PA\",\"PA\",\"PA\",\"PA\",\"PA\",\"PA\",\"PA\",\"PA\",\"PA\",\"PA\",\"PA\",\"PA\",\"PA\",\"PA\",\"PA\",\"PA\",\"PA\",\"PA\",\"PA\",\"PR\",\"PR\",\"PR\",\"RI\",\"RI\",\"RI\",\"SC\",\"SC\",\"SC\",\"SC\",\"SC\",\"SC\",\"SC\",\"SC\",\"SC\",\"SC\",\"SC\",\"SC\",\"SC\",\"SC\",\"SC\",\"SD\",\"TN\",\"TN\",\"TN\",\"TN\",\"TN\",\"TN\",\"TN\",\"TN\",\"TN\",\"TN\",\"TN\",\"TN\",\"TN\",\"TN\",\"TN\",\"TN\",\"TN\",\"TN\",\"TN\",\"TN\",\"TN\",\"TN\",\"TN\",\"TN\",\"TN\",\"TN\",\"TN\",\"TX\",\"TX\",\"TX\",\"TX\",\"TX\",\"TX\",\"TX\",\"TX\",\"TX\",\"TX\",\"TX\",\"TX\",\"TX\",\"TX\",\"TX\",\"TX\",\"TX\",\"TX\",\"TX\",\"TX\",\"TX\",\"TX\",\"TX\",\"TX\",\"TX\",\"TX\",\"TX\",\"TX\",\"TX\",\"TX\",\"TX\",\"TX\",\"TX\",\"TX\",\"TX\",\"TX\",\"TX\",\"TX\",\"TX\",\"TX\",\"TX\",\"TX\",\"TX\",\"TX\",\"TX\",\"TX\",\"TX\",\"TX\",\"TX\",\"TX\",\"TX\",\"UT\",\"UT\",\"VT\",\"VI\",\"VA\",\"VA\",\"VA\",\"VA\",\"VA\",\"VA\",\"VA\",\"VA\",\"VA\",\"VA\",\"VA\",\"VA\",\"VA\",\"VA\",\"VA\",\"VA\",\"VA\",\"WA\",\"WA\",\"WA\",\"WA\",\"WA\",\"WA\",\"WA\",\"WA\",\"WA\",\"WA\",\"WA\",\"WA\",\"WA\",\"WA\",\"WA\",\"WA\",\"WA\",\"WV\",\"WV\",\"WV\",\"WV\",\"WV\",\"WV\",\"WV\",\"WV\",\"WV\",\"WV\",\"WI\",\"WI\",\"WI\",\"WI\",\"WI\",\"WY\",\"WY\",\"TX\",\"TX\",\"AL\",\"AL\",\"AL\",\"AL\",\"AL\",\"AL\",\"AL\",\"AL\",\"AL\",\"AL\",\"AL\",\"AL\",\"AL\",\"AL\",\"AL\",\"AL\",\"AL\",\"AL\",\"AL\",\"AL\",\"AL\",\"AL\",\"AL\",\"AL\",\"AL\",\"AL\",\"AL\",\"AL\",\"AL\",\"AL\",\"AL\",\"AK\",\"AK\",\"AK\",\"AZ\",\"AZ\",\"AZ\",\"AZ\",\"AZ\",\"AZ\",\"AZ\",\"AZ\",\"AZ\",\"AZ\",\"AZ\",\"AZ\",\"AZ\",\"AZ\",\"AZ\",\"AZ\",\"AZ\",\"AZ\",\"AZ\",\"AR\",\"AR\",\"AR\",\"AR\",\"AR\",\"AR\",\"AR\",\"AR\",\"AR\",\"AR\",\"AR\",\"AR\",\"AR\",\"AR\",\"AR\",\"AR\",\"AR\",\"AR\",\"AR\",\"AR\",\"AR\",\"AR\",\"AR\",\"CA\",\"CA\",\"CA\",\"CA\",\"CA\",\"CA\",\"CA\",\"CA\",\"CA\",\"CA\",\"CA\",\"CA\",\"CA\",\"CA\",\"CA\",\"CA\",\"CA\",\"CA\",\"CA\",\"CA\",\"CA\",\"CA\",\"CA\",\"CA\",\"CA\",\"CA\",\"CA\",\"CA\",\"CA\",\"CA\",\"CA\",\"CA\",\"CA\",\"CA\",\"CA\",\"CA\",\"CA\",\"CA\",\"CA\",\"CA\",\"CA\",\"CA\",\"CA\",\"CA\",\"CA\",\"CA\",\"CA\",\"CA\",\"CA\",\"CA\",\"CA\",\"CA\",\"CA\",\"CA\",\"CA\",\"CA\",\"CA\",\"CA\",\"CA\",\"CA\",\"CA\",\"CA\",\"CA\",\"CA\",\"CA\",\"CA\",\"CA\",\"CA\",\"CA\",\"CA\",\"CA\",\"CA\",\"CA\",\"CA\",\"CA\",\"CA\",\"CA\",\"CA\",\"CA\",\"CA\",\"CA\",\"CA\",\"CA\",\"CA\",\"CA\",\"CA\",\"CA\",\"CA\",\"CA\",\"CA\",\"CA\",\"CA\",\"CA\",\"CO\",\"CO\",\"CO\",\"CO\",\"CO\",\"CO\",\"CO\",\"CO\",\"CO\",\"CO\",\"CO\",\"CO\",\"CO\",\"CO\",\"CO\",\"CO\",\"CO\",\"CO\",\"CO\",\"CO\",\"CO\",\"CO\",\"CO\",\"CT\",\"CT\",\"CT\",\"CT\",\"CT\",\"CT\",\"CT\",\"CT\",\"CT\",\"DE\",\"DE\",\"DE\",\"DC\",\"FL\",\"FL\",\"FL\",\"FL\",\"FL\",\"FL\",\"FL\",\"FL\",\"FL\",\"FL\",\"FL\",\"FL\",\"FL\",\"FL\",\"FL\",\"FL\",\"FL\",\"FL\",\"FL\",\"FL\",\"FL\",\"FL\",\"FL\",\"FL\",\"FL\",\"FL\",\"FL\",\"FL\",\"FL\",\"FL\",\"FL\",\"FL\",\"FL\",\"FL\",\"FL\",\"FL\",\"FL\",\"FL\",\"FL\",\"FL\",\"GA\",\"GA\",\"GA\",\"GA\",\"GA\",\"GA\",\"GA\",\"GA\",\"GA\",\"GA\",\"GA\",\"GA\",\"GA\",\"GA\",\"GA\",\"GA\",\"GA\",\"GA\",\"GA\",\"GA\",\"GA\",\"GA\",\"GA\",\"GA\",\"GA\",\"GA\",\"GA\",\"GA\",\"GA\",\"GA\",\"GA\",\"GA\",\"GA\",\"GA\",\"GA\",\"GA\",\"GA\",\"GA\",\"GA\",\"GA\",\"GA\",\"GA\",\"HI\",\"HI\",\"HI\",\"HI\",\"ID\",\"ID\",\"ID\",\"ID\",\"ID\",\"ID\",\"IL\",\"IL\",\"IL\",\"IL\",\"IL\",\"IL\",\"IL\",\"IL\",\"IL\",\"IL\",\"IL\",\"IL\",\"IL\",\"IL\",\"IL\",\"IL\",\"IL\",\"IL\",\"IL\",\"IL\",\"IL\",\"IL\",\"IL\",\"IL\",\"IL\",\"IL\",\"IL\",\"IL\",\"IL\",\"IL\",\"IL\",\"IL\",\"IL\",\"IL\",\"IL\",\"IL\",\"IL\",\"IL\",\"IL\",\"IL\",\"IL\",\"IL\",\"IL\",\"IL\",\"IL\",\"IL\",\"IL\",\"IL\",\"IL\",\"IL\",\"IL\",\"IL\",\"IL\",\"IL\",\"IL\",\"IN\",\"IN\",\"IN\",\"IN\",\"IN\",\"IN\",\"IN\",\"IN\",\"IN\",\"IN\",\"IN\",\"IN\",\"IN\",\"IN\",\"IN\",\"IN\",\"IN\",\"IN\",\"IN\",\"IN\",\"IN\",\"IN\",\"IN\",\"IN\",\"IN\",\"IN\",\"IN\",\"IN\",\"IN\",\"IN\",\"IN\",\"IN\",\"IN\",\"IN\",\"IN\",\"IN\",\"IA\",\"IA\",\"IA\",\"IA\",\"IA\",\"IA\",\"IA\",\"IA\",\"IA\",\"IA\",\"IA\",\"IA\",\"IA\",\"IA\",\"IA\",\"IA\",\"IA\",\"IA\",\"IA\",\"IA\",\"IA\",\"IA\",\"IA\",\"IA\",\"IA\",\"IA\",\"IA\",\"IA\",\"IA\",\"KS\",\"KS\",\"KS\",\"KS\",\"KS\",\"KS\",\"KS\",\"KS\",\"KS\",\"KS\",\"KS\",\"KS\",\"KS\",\"KS\",\"KS\",\"KS\",\"KS\",\"KS\",\"KS\",\"KS\",\"KS\",\"KS\",\"KS\",\"KS\",\"KS\",\"KS\",\"KS\",\"KS\",\"KS\",\"KS\",\"KY\",\"KY\",\"KY\",\"KY\",\"KY\",\"KY\",\"KY\",\"KY\",\"KY\",\"KY\",\"KY\",\"KY\",\"KY\",\"KY\",\"KY\",\"KY\",\"KY\",\"KY\",\"KY\",\"KY\",\"KY\",\"KY\",\"KY\",\"KY\",\"KY\",\"KY\",\"KY\",\"KY\",\"KY\",\"KY\",\"KY\",\"KY\",\"LA\",\"LA\",\"LA\",\"LA\",\"LA\",\"LA\",\"LA\",\"LA\",\"LA\",\"LA\",\"LA\",\"LA\",\"LA\",\"LA\",\"LA\",\"LA\",\"LA\",\"LA\",\"LA\",\"LA\",\"LA\",\"LA\",\"LA\",\"LA\",\"LA\",\"LA\",\"LA\",\"LA\",\"LA\",\"LA\",\"LA\",\"LA\",\"LA\",\"LA\",\"LA\",\"ME\",\"ME\",\"ME\",\"ME\",\"ME\",\"ME\",\"ME\",\"ME\",\"ME\",\"ME\",\"MD\",\"MD\",\"MD\",\"MD\",\"MD\",\"MD\",\"MD\",\"MD\",\"MD\",\"MD\",\"MD\",\"MD\",\"MD\",\"MD\",\"MD\",\"MD\",\"MD\",\"MD\",\"MD\",\"MA\",\"MA\",\"MA\",\"MA\",\"MA\",\"MA\",\"MA\",\"MA\",\"MA\",\"MA\",\"MA\",\"MA\",\"MA\",\"MA\",\"MA\",\"MA\",\"MA\",\"MA\",\"MA\",\"MI\",\"MI\",\"MI\",\"MI\",\"MI\",\"MI\",\"MI\",\"MI\",\"MI\",\"MI\",\"MI\",\"MI\",\"MI\",\"MI\",\"MI\",\"MI\",\"MI\",\"MI\",\"MI\",\"MI\",\"MI\",\"MI\",\"MI\",\"MI\",\"MI\",\"MI\",\"MI\",\"MI\",\"MI\",\"MI\",\"MI\",\"MI\",\"MI\",\"MI\",\"MI\",\"MI\",\"MI\",\"MN\",\"MN\",\"MN\",\"MN\",\"MN\",\"MN\",\"MN\",\"MN\",\"MN\",\"MN\",\"MN\",\"MN\",\"MN\",\"MN\",\"MN\",\"MN\",\"MN\",\"MN\",\"MN\",\"MS\",\"MS\",\"MS\",\"MS\",\"MS\",\"MS\",\"MS\",\"MS\",\"MS\",\"MS\",\"MS\",\"MS\",\"MS\",\"MS\",\"MS\",\"MS\",\"MS\",\"MS\",\"MS\",\"MS\",\"MS\",\"MS\",\"MS\",\"MS\",\"MS\",\"MS\",\"MO\",\"MO\",\"MO\",\"MO\",\"MO\",\"MO\",\"MO\",\"MO\",\"MO\",\"MO\",\"MO\",\"MO\",\"MO\",\"MO\",\"MO\",\"MO\",\"MO\",\"MO\",\"MO\",\"MO\",\"MO\",\"MO\",\"MO\",\"MO\",\"MO\",\"MO\",\"MO\",\"MO\",\"MO\",\"MO\",\"MO\",\"MO\",\"MO\",\"MO\",\"MO\",\"MO\",\"MT\",\"MT\",\"MT\",\"MT\",\"MT\",\"MT\",\"MT\",\"MT\",\"NE\",\"NE\",\"NE\",\"NE\",\"NE\",\"NE\",\"NE\",\"NE\",\"NE\",\"NE\",\"NE\",\"NE\",\"NE\",\"NE\",\"NE\",\"NE\",\"NE\",\"NE\",\"NE\",\"NE\",\"NE\",\"NE\",\"NE\",\"NE\",\"NE\",\"NE\",\"NV\",\"NV\",\"NV\",\"NV\",\"NV\",\"NV\",\"NV\",\"NH\",\"NH\",\"NH\",\"NH\",\"NH\",\"NH\",\"NH\",\"NH\",\"NH\",\"NJ\",\"NJ\",\"NJ\",\"NJ\",\"NJ\",\"NJ\",\"NJ\",\"NJ\",\"NJ\",\"NJ\",\"NJ\",\"NJ\",\"NJ\",\"NJ\",\"NM\",\"NM\",\"NM\",\"NM\",\"NM\",\"NM\",\"NM\",\"NM\",\"NM\",\"NM\",\"NM\",\"NM\",\"NM\",\"NY\",\"NY\",\"NY\",\"NY\",\"NY\",\"NY\",\"NY\",\"NY\",\"NY\",\"NY\",\"NY\",\"NY\",\"NY\",\"NY\",\"NY\",\"NY\",\"NY\",\"NY\",\"NY\",\"NY\",\"NY\",\"NY\",\"NY\",\"NY\",\"NY\",\"NY\",\"NY\",\"NY\",\"NY\",\"NY\",\"NY\",\"NY\",\"NY\",\"NY\",\"NY\",\"NY\",\"NY\",\"NY\",\"NY\",\"NY\",\"NC\",\"NC\",\"NC\",\"NC\",\"NC\",\"NC\",\"NC\",\"NC\",\"NC\",\"NC\",\"NC\",\"NC\",\"NC\",\"NC\",\"NC\",\"NC\",\"NC\",\"NC\",\"NC\",\"NC\",\"NC\",\"NC\",\"NC\",\"NC\",\"NC\",\"NC\",\"NC\",\"NC\",\"NC\",\"NC\",\"NC\",\"NC\",\"NC\",\"NC\",\"NC\",\"NC\",\"ND\",\"ND\",\"ND\",\"ND\",\"ND\",\"ND\",\"ND\",\"ND\",\"OH\",\"OH\",\"OH\",\"OH\",\"OH\",\"OH\",\"OH\",\"OH\",\"OH\",\"OH\",\"OH\",\"OH\",\"OH\",\"OH\",\"OH\",\"OH\",\"OH\",\"OH\",\"OH\",\"OH\",\"OH\",\"OH\",\"OH\",\"OH\",\"OH\",\"OH\",\"OH\",\"OH\",\"OH\",\"OH\",\"OH\",\"OH\",\"OH\",\"OH\",\"OH\",\"OH\",\"OH\",\"OH\",\"OH\",\"OH\",\"OH\",\"OH\",\"OH\",\"OH\",\"OH\",\"OH\",\"OH\",\"OH\",\"OH\",\"OH\",\"OK\",\"OK\",\"OK\",\"OK\",\"OK\",\"OK\",\"OK\",\"OK\",\"OK\",\"OK\",\"OK\",\"OK\",\"OK\",\"OK\",\"OK\",\"OK\",\"OK\",\"OK\",\"OK\",\"OK\",\"OK\",\"OK\",\"OK\",\"OK\",\"OK\",\"OK\",\"OK\",\"OK\",\"OR\",\"OR\",\"OR\",\"OR\",\"OR\",\"OR\",\"OR\",\"OR\",\"OR\",\"OR\",\"OR\",\"OR\",\"OR\",\"OR\",\"OR\",\"OR\",\"OR\",\"OR\",\"OR\",\"OR\",\"OR\",\"OR\",\"OR\",\"PA\",\"PA\",\"PA\",\"PA\",\"PA\",\"PA\",\"PA\",\"PA\",\"PA\",\"PA\",\"PA\",\"PA\",\"PA\",\"PA\",\"PA\",\"PA\",\"PA\",\"PA\",\"PA\",\"PA\",\"PA\",\"PA\",\"PA\",\"PA\",\"PA\",\"PA\",\"PA\",\"PA\",\"PA\",\"PA\",\"PA\",\"PA\",\"PA\",\"PA\",\"PA\",\"PA\",\"PA\",\"PA\",\"PA\",\"PA\",\"PA\",\"PA\",\"PA\",\"PA\",\"PA\",\"PA\",\"PA\",\"PA\",\"PA\",\"PA\",\"PA\",\"PA\",\"PA\",\"RI\",\"RI\",\"RI\",\"SC\",\"SC\",\"SC\",\"SC\",\"SC\",\"SC\",\"SC\",\"SC\",\"SC\",\"SC\",\"SC\",\"SC\",\"SC\",\"SC\",\"SC\",\"SC\",\"SC\",\"SD\",\"SD\",\"SD\",\"SD\",\"SD\",\"SD\",\"TN\",\"TN\",\"TN\",\"TN\",\"TN\",\"TN\",\"TN\",\"TN\",\"TN\",\"TN\",\"TN\",\"TN\",\"TN\",\"TN\",\"TN\",\"TN\",\"TN\",\"TN\",\"TN\",\"TN\",\"TN\",\"TN\",\"TN\",\"TN\",\"TN\",\"TN\",\"TN\",\"TN\",\"TN\",\"TN\",\"TN\",\"TN\",\"TX\",\"TX\",\"TX\",\"TX\",\"TX\",\"TX\",\"TX\",\"TX\",\"TX\",\"TX\",\"TX\",\"TX\",\"TX\",\"TX\",\"TX\",\"TX\",\"TX\",\"TX\",\"TX\",\"TX\",\"TX\",\"TX\",\"TX\",\"TX\",\"TX\",\"TX\",\"TX\",\"TX\",\"TX\",\"TX\",\"TX\",\"TX\",\"TX\",\"TX\",\"TX\",\"TX\",\"TX\",\"TX\",\"TX\",\"TX\",\"TX\",\"TX\",\"TX\",\"TX\",\"TX\",\"TX\",\"TX\",\"TX\",\"TX\",\"TX\",\"TX\",\"TX\",\"TX\",\"TX\",\"TX\",\"TX\",\"TX\",\"TX\",\"TX\",\"TX\",\"TX\",\"TX\",\"TX\",\"TX\",\"TX\",\"TX\",\"TX\",\"TX\",\"TX\",\"TX\",\"TX\",\"TX\",\"TX\",\"TX\",\"TX\",\"TX\",\"TX\",\"TX\",\"TX\",\"TX\",\"TX\",\"TX\",\"UT\",\"UT\",\"UT\",\"UT\",\"UT\",\"UT\",\"UT\",\"VT\",\"VT\",\"VT\",\"VT\",\"VT\",\"VT\",\"VI\",\"VA\",\"VA\",\"VA\",\"VA\",\"VA\",\"VA\",\"VA\",\"VA\",\"VA\",\"VA\",\"VA\",\"VA\",\"VA\",\"VA\",\"VA\",\"VA\",\"VA\",\"VA\",\"VA\",\"VA\",\"VA\",\"VA\",\"VA\",\"VA\",\"WA\",\"WA\",\"WA\",\"WA\",\"WA\",\"WA\",\"WA\",\"WA\",\"WA\",\"WA\",\"WA\",\"WA\",\"WA\",\"WA\",\"WA\",\"WA\",\"WA\",\"WA\",\"WA\",\"WA\",\"WA\",\"WA\",\"WA\",\"WA\",\"WV\",\"WV\",\"WV\",\"WV\",\"WV\",\"WV\",\"WV\",\"WV\",\"WV\",\"WV\",\"WV\",\"WV\",\"WV\",\"WV\",\"WV\",\"WV\",\"WV\",\"WV\",\"WI\",\"WI\",\"WI\",\"WI\",\"WI\",\"WI\",\"WI\",\"WI\",\"WI\",\"WI\",\"WI\",\"WI\",\"WI\",\"WI\",\"WI\",\"WI\",\"WI\",\"WI\",\"WI\",\"WI\",\"WI\",\"WY\",\"WY\",\"WY\",\"WY\",\"WY\",\"WY\",\"WY\",\"WY\",\"WY\",\"TX\",\"TX\",\"TX\",\"TX\",\"TX\",\"TX\",\"TX\",\"TX\",\"TX\",\"TX\",\"TX\",\"TX\",\"TX\",\"AL\",\"AL\",\"AL\",\"AL\",\"AL\",\"AL\",\"AL\",\"AL\",\"AL\",\"AL\",\"AL\",\"AL\",\"AL\",\"AL\",\"AL\",\"AK\",\"AK\",\"AK\",\"AK\",\"AZ\",\"AZ\",\"AZ\",\"AZ\",\"AZ\",\"AZ\",\"AZ\",\"AZ\",\"AZ\",\"AZ\",\"AZ\",\"AZ\",\"AZ\",\"AZ\",\"AR\",\"AR\",\"AR\",\"AR\",\"AR\",\"AR\",\"AR\",\"AR\",\"AR\",\"CA\",\"CA\",\"CA\",\"CA\",\"CA\",\"CA\",\"CA\",\"CA\",\"CA\",\"CA\",\"CA\",\"CA\",\"CA\",\"CA\",\"CA\",\"CA\",\"CA\",\"CA\",\"CA\",\"CA\",\"CA\",\"CA\",\"CA\",\"CA\",\"CA\",\"CA\",\"CA\",\"CA\",\"CA\",\"CA\",\"CA\",\"CA\",\"CA\",\"CA\",\"CA\",\"CA\",\"CA\",\"CA\",\"CA\",\"CA\",\"CA\",\"CA\",\"CA\",\"CA\",\"CA\",\"CA\",\"CA\",\"CA\",\"CA\",\"CA\",\"CA\",\"CA\",\"CA\",\"CA\",\"CA\",\"CA\",\"CA\",\"CA\",\"CA\",\"CA\",\"CA\",\"CA\",\"CO\",\"CO\",\"CO\",\"CO\",\"CO\",\"CO\",\"CO\",\"CO\",\"CO\",\"CO\",\"CO\",\"CO\",\"CO\",\"CO\",\"CO\",\"CO\",\"CO\",\"CO\",\"CO\",\"CO\",\"CO\",\"CO\",\"CO\",\"CO\",\"CO\",\"CT\",\"CT\",\"CT\",\"CT\",\"CT\",\"CT\",\"CT\",\"CT\",\"CT\",\"DE\",\"FL\",\"FL\",\"FL\",\"FL\",\"FL\",\"FL\",\"FL\",\"FL\",\"FL\",\"FL\",\"FL\",\"FL\",\"FL\",\"FL\",\"FL\",\"FL\",\"FL\",\"FL\",\"FL\",\"FL\",\"FL\",\"FL\",\"FL\",\"FL\",\"FL\",\"FL\",\"FL\",\"FL\",\"GA\",\"GA\",\"GA\",\"GA\",\"GA\",\"GA\",\"GA\",\"GA\",\"GA\",\"GA\",\"GA\",\"GA\",\"GA\",\"GA\",\"GA\",\"GA\",\"GA\",\"GA\",\"GA\",\"GA\",\"GA\",\"GA\",\"GA\",\"GA\",\"GA\",\"GA\",\"HI\",\"HI\",\"HI\",\"HI\",\"HI\",\"ID\",\"ID\",\"ID\",\"ID\",\"ID\",\"ID\",\"ID\",\"ID\",\"ID\",\"ID\",\"ID\",\"IL\",\"IL\",\"IL\",\"IL\",\"IL\",\"IL\",\"IL\",\"IL\",\"IL\",\"IL\",\"IL\",\"IL\",\"IL\",\"IL\",\"IL\",\"IL\",\"IL\",\"IL\",\"IL\",\"IL\",\"IL\",\"IL\",\"IL\",\"IL\",\"IL\",\"IL\",\"IL\",\"IL\",\"IL\",\"IL\",\"IL\",\"IL\",\"IL\",\"IL\",\"IL\",\"IL\",\"IL\",\"IL\",\"IL\",\"IL\",\"IL\",\"IL\",\"IL\",\"IL\",\"IL\",\"IL\",\"IL\",\"IL\",\"IL\",\"IN\",\"IN\",\"IN\",\"IN\",\"IN\",\"IN\",\"IN\",\"IN\",\"IN\",\"IN\",\"IN\",\"IN\",\"IN\",\"IN\",\"IN\",\"IN\",\"IN\",\"IN\",\"IN\",\"IN\",\"IN\",\"IN\",\"IN\",\"IN\",\"IN\",\"IN\",\"IN\",\"IN\",\"IN\",\"IN\",\"IN\",\"IN\",\"IN\",\"IN\",\"IN\",\"IN\",\"IN\",\"IN\",\"IN\",\"IN\",\"IN\",\"IN\",\"IN\",\"IN\",\"IN\",\"IN\",\"IN\",\"IN\",\"IN\",\"IN\",\"IN\",\"IA\",\"IA\",\"IA\",\"IA\",\"IA\",\"IA\",\"IA\",\"IA\",\"IA\",\"IA\",\"IA\",\"IA\",\"IA\",\"IA\",\"IA\",\"IA\",\"IA\",\"IA\",\"IA\",\"IA\",\"IA\",\"IA\",\"IA\",\"IA\",\"IA\",\"IA\",\"IA\",\"IA\",\"IA\",\"IA\",\"IA\",\"IA\",\"IA\",\"IA\",\"IA\",\"IA\",\"KS\",\"KS\",\"KS\",\"KS\",\"KS\",\"KS\",\"KS\",\"KS\",\"KS\",\"KS\",\"KS\",\"KS\",\"KS\",\"KS\",\"KS\",\"KS\",\"KS\",\"KS\",\"KS\",\"KS\",\"KS\",\"KY\",\"KY\",\"KY\",\"KY\",\"KY\",\"KY\",\"KY\",\"KY\",\"KY\",\"KY\",\"KY\",\"KY\",\"KY\",\"KY\",\"KY\",\"KY\",\"KY\",\"KY\",\"KY\",\"KY\",\"KY\",\"LA\",\"LA\",\"LA\",\"LA\",\"LA\",\"LA\",\"LA\",\"LA\",\"LA\",\"LA\",\"LA\",\"LA\",\"LA\",\"LA\",\"LA\",\"LA\",\"LA\",\"LA\",\"LA\",\"LA\",\"ME\",\"ME\",\"ME\",\"ME\",\"ME\",\"ME\",\"ME\",\"ME\",\"ME\",\"ME\",\"ME\",\"ME\",\"ME\",\"ME\",\"MD\",\"MD\",\"MD\",\"MD\",\"MD\",\"MD\",\"MD\",\"MD\",\"MD\",\"MA\",\"MA\",\"MA\",\"MA\",\"MA\",\"MA\",\"MA\",\"MA\",\"MA\",\"MA\",\"MA\",\"MI\",\"MI\",\"MI\",\"MI\",\"MI\",\"MI\",\"MI\",\"MI\",\"MI\",\"MI\",\"MI\",\"MI\",\"MI\",\"MI\",\"MI\",\"MI\",\"MI\",\"MI\",\"MI\",\"MI\",\"MI\",\"MI\",\"MI\",\"MI\",\"MI\",\"MI\",\"MI\",\"MI\",\"MI\",\"MI\",\"MI\",\"MI\",\"MI\",\"MI\",\"MI\",\"MI\",\"MI\",\"MI\",\"MI\",\"MI\",\"MI\",\"MI\",\"MI\",\"MI\",\"MI\",\"MI\",\"MI\",\"MI\",\"MI\",\"MI\",\"MI\",\"MN\",\"MN\",\"MN\",\"MN\",\"MN\",\"MN\",\"MN\",\"MN\",\"MN\",\"MN\",\"MN\",\"MN\",\"MN\",\"MN\",\"MN\",\"MN\",\"MN\",\"MN\",\"MN\",\"MN\",\"MN\",\"MN\",\"MN\",\"MN\",\"MN\",\"MN\",\"MN\",\"MN\",\"MN\",\"MN\",\"MN\",\"MN\",\"MN\",\"MN\",\"MN\",\"MN\",\"MN\",\"MN\",\"MN\",\"MN\",\"MN\",\"MN\",\"MN\",\"MS\",\"MS\",\"MS\",\"MS\",\"MS\",\"MS\",\"MS\",\"MO\",\"MO\",\"MO\",\"MO\",\"MO\",\"MO\",\"MO\",\"MO\",\"MO\",\"MO\",\"MO\",\"MO\",\"MO\",\"MO\",\"MO\",\"MO\",\"MO\",\"MO\",\"MO\",\"MO\",\"MO\",\"MO\",\"MO\",\"MT\",\"MT\",\"MT\",\"MT\",\"MT\",\"MT\",\"MT\",\"MT\",\"MT\",\"MT\",\"MT\",\"MT\",\"NE\",\"NE\",\"NE\",\"NE\",\"NE\",\"NE\",\"NE\",\"NE\",\"NE\",\"NE\",\"NE\",\"NE\",\"NE\",\"NE\",\"NE\",\"NE\",\"NE\",\"NE\",\"NE\",\"NE\",\"NE\",\"NE\",\"NE\",\"NE\",\"NE\",\"NV\",\"NV\",\"NV\",\"NV\",\"NH\",\"NH\",\"NH\",\"NH\",\"NH\",\"NH\",\"NH\",\"NH\",\"NH\",\"NH\",\"NJ\",\"NJ\",\"NJ\",\"NJ\",\"NJ\",\"NJ\",\"NJ\",\"NJ\",\"NJ\",\"NJ\",\"NM\",\"NM\",\"NM\",\"NM\",\"NM\",\"NM\",\"NY\",\"NY\",\"NY\",\"NY\",\"NY\",\"NY\",\"NY\",\"NY\",\"NY\",\"NY\",\"NY\",\"NY\",\"NY\",\"NY\",\"NY\",\"NY\",\"NC\",\"NC\",\"NC\",\"NC\",\"NC\",\"NC\",\"NC\",\"NC\",\"NC\",\"NC\",\"NC\",\"NC\",\"NC\",\"NC\",\"NC\",\"NC\",\"NC\",\"NC\",\"NC\",\"NC\",\"NC\",\"NC\",\"NC\",\"NC\",\"NC\",\"NC\",\"ND\",\"ND\",\"ND\",\"ND\",\"ND\",\"ND\",\"ND\",\"ND\",\"OH\",\"OH\",\"OH\",\"OH\",\"OH\",\"OH\",\"OH\",\"OH\",\"OH\",\"OH\",\"OH\",\"OH\",\"OH\",\"OH\",\"OH\",\"OH\",\"OH\",\"OH\",\"OH\",\"OH\",\"OH\",\"OH\",\"OH\",\"OH\",\"OH\",\"OH\",\"OH\",\"OH\",\"OH\",\"OH\",\"OH\",\"OH\",\"OH\",\"OH\",\"OH\",\"OH\",\"OH\",\"OH\",\"OH\",\"OH\",\"OH\",\"OH\",\"OH\",\"OH\",\"OH\",\"OH\",\"OH\",\"OH\",\"OH\",\"OH\",\"OH\",\"OH\",\"OK\",\"OK\",\"OK\",\"OK\",\"OK\",\"OK\",\"OK\",\"OK\",\"OK\",\"OK\",\"OK\",\"OK\",\"OK\",\"OK\",\"OK\",\"OK\",\"OK\",\"OK\",\"OK\",\"OK\",\"OK\",\"OK\",\"OK\",\"OK\",\"OR\",\"OR\",\"OR\",\"OR\",\"OR\",\"OR\",\"OR\",\"OR\",\"OR\",\"OR\",\"OR\",\"OR\",\"OR\",\"OR\",\"OR\",\"OR\",\"OR\",\"OR\",\"OR\",\"OR\",\"OR\",\"OR\",\"PA\",\"PA\",\"PA\",\"PA\",\"PA\",\"PA\",\"PA\",\"PA\",\"PA\",\"PA\",\"PA\",\"PA\",\"PA\",\"PA\",\"PA\",\"PA\",\"PA\",\"PA\",\"PA\",\"PA\",\"PA\",\"PA\",\"PA\",\"PA\",\"PA\",\"PA\",\"PA\",\"PA\",\"PA\",\"PA\",\"PA\",\"PA\",\"PA\",\"PA\",\"PA\",\"PA\",\"RI\",\"RI\",\"SC\",\"SC\",\"SC\",\"SC\",\"SC\",\"SC\",\"SC\",\"SC\",\"SC\",\"SC\",\"SC\",\"SC\",\"SC\",\"SC\",\"SC\",\"SD\",\"SD\",\"SD\",\"SD\",\"SD\",\"SD\",\"SD\",\"TN\",\"TN\",\"TN\",\"TN\",\"TN\",\"TN\",\"TN\",\"TN\",\"TN\",\"TN\",\"TN\",\"TN\",\"TN\",\"TN\",\"TN\",\"TN\",\"TN\",\"TN\",\"TN\",\"TN\",\"TN\",\"TX\",\"TX\",\"TX\",\"TX\",\"TX\",\"TX\",\"TX\",\"TX\",\"TX\",\"TX\",\"TX\",\"TX\",\"TX\",\"TX\",\"TX\",\"TX\",\"TX\",\"TX\",\"TX\",\"TX\",\"TX\",\"TX\",\"TX\",\"TX\",\"TX\",\"TX\",\"TX\",\"TX\",\"TX\",\"TX\",\"TX\",\"TX\",\"TX\",\"TX\",\"TX\",\"TX\",\"TX\",\"TX\",\"TX\",\"TX\",\"TX\",\"TX\",\"TX\",\"TX\",\"TX\",\"TX\",\"TX\",\"TX\",\"TX\",\"TX\",\"TX\",\"TX\",\"TX\",\"TX\",\"TX\",\"TX\",\"TX\",\"TX\",\"TX\",\"TX\",\"TX\",\"TX\",\"TX\",\"TX\",\"TX\",\"TX\",\"TX\",\"TX\",\"TX\",\"TX\",\"TX\",\"TX\",\"TX\",\"UT\",\"UT\",\"UT\",\"UT\",\"UT\",\"UT\",\"UT\",\"UT\",\"UT\",\"UT\",\"UT\",\"UT\",\"UT\",\"UT\",\"UT\",\"UT\",\"UT\",\"UT\",\"UT\",\"UT\",\"UT\",\"VT\",\"VT\",\"VT\",\"VT\",\"VT\",\"VA\",\"VA\",\"VA\",\"VA\",\"VA\",\"VA\",\"VA\",\"VA\",\"VA\",\"VA\",\"VA\",\"VA\",\"VA\",\"VA\",\"VA\",\"VA\",\"VA\",\"VA\",\"VA\",\"VA\",\"VA\",\"VA\",\"VA\",\"VA\",\"WA\",\"WA\",\"WA\",\"WA\",\"WA\",\"WA\",\"WA\",\"WA\",\"WA\",\"WA\",\"WA\",\"WA\",\"WA\",\"WA\",\"WA\",\"WA\",\"WA\",\"WA\",\"WA\",\"WV\",\"WV\",\"WV\",\"WV\",\"WV\",\"WV\",\"WV\",\"WV\",\"WI\",\"WI\",\"WI\",\"WI\",\"WI\",\"WI\",\"WI\",\"WI\",\"WI\",\"WI\",\"WI\",\"WI\",\"WI\",\"WI\",\"WI\",\"WI\",\"WI\",\"WI\",\"WI\",\"WI\",\"WI\",\"WI\",\"WI\",\"WI\",\"WI\",\"WI\",\"WI\",\"WI\",\"WI\",\"WI\",\"WI\",\"WI\",\"WI\",\"WI\",\"WI\",\"WI\",\"WI\",\"WI\",\"WI\",\"WI\",\"WI\",\"WI\",\"WI\",\"WI\",\"WI\",\"WI\",\"WI\",\"WI\",\"WI\",\"WI\",\"WI\",\"WI\",\"WI\",\"WI\",\"WI\",\"WI\",\"WI\",\"WI\",\"WI\",\"WY\",\"WY\",\"WY\",\"WY\",\"WY\",\"WY\",\"TX\",\"TX\",\"TX\",\"TX\",\"TX\",\"TX\",\"TX\",\"TX\",\"TX\",\"TX\",\"TX\",\"AL\",\"AL\",\"AL\",\"AL\",\"AL\",\"AK\",\"AK\",\"AZ\",\"AZ\",\"AZ\",\"AZ\",\"AR\",\"AR\",\"CA\",\"CA\",\"CA\",\"CA\",\"CA\",\"CA\",\"CA\",\"CA\",\"CA\",\"CA\",\"CA\",\"CA\",\"CA\",\"CA\",\"CA\",\"CA\",\"CA\",\"CA\",\"CA\",\"CA\",\"CA\",\"CO\",\"CO\",\"CO\",\"CO\",\"CO\",\"CO\",\"FL\",\"FL\",\"FL\",\"FL\",\"FL\",\"FL\",\"FL\",\"FL\",\"FL\",\"GA\",\"GA\",\"GA\",\"GA\",\"GA\",\"HI\",\"HI\",\"HI\",\"ID\",\"ID\",\"ID\",\"ID\",\"ID\",\"IL\",\"IL\",\"IL\",\"IL\",\"IL\",\"IL\",\"IL\",\"IL\",\"IL\",\"IL\",\"IL\",\"IL\",\"IN\",\"IN\",\"IN\",\"IN\",\"IN\",\"IN\",\"IN\",\"IN\",\"IN\",\"IN\",\"IN\",\"IN\",\"IN\",\"IA\",\"IA\",\"IA\",\"IA\",\"IA\",\"IA\",\"IA\",\"KS\",\"KS\",\"KS\",\"KS\",\"KS\",\"KS\",\"KS\",\"KS\",\"KY\",\"LA\",\"LA\",\"LA\",\"ME\",\"ME\",\"ME\",\"MD\",\"MD\",\"MD\",\"MD\",\"MD\",\"MA\",\"MA\",\"MA\",\"MA\",\"MA\",\"MA\",\"MA\",\"MI\",\"MI\",\"MI\",\"MI\",\"MI\",\"MI\",\"MI\",\"MI\",\"MI\",\"MI\",\"MI\",\"MN\",\"MN\",\"MN\",\"MN\",\"MN\",\"MN\",\"MN\",\"MN\",\"MS\",\"MO\",\"MO\",\"MO\",\"MO\",\"MO\",\"MO\",\"MT\",\"MT\",\"MT\",\"NE\",\"NE\",\"NH\",\"NH\",\"NH\",\"NJ\",\"NJ\",\"NJ\",\"NJ\",\"NJ\",\"NJ\",\"NY\",\"NC\",\"NC\",\"NC\",\"NC\",\"NC\",\"NC\",\"NC\",\"OH\",\"OH\",\"OH\",\"OH\",\"OH\",\"OH\",\"OH\",\"OH\",\"OH\",\"OH\",\"OH\",\"OH\",\"OH\",\"OH\",\"OH\",\"OH\",\"OH\",\"OH\",\"OH\",\"OH\",\"OK\",\"OK\",\"OK\",\"OK\",\"OK\",\"OK\",\"OK\",\"OK\",\"OK\",\"OR\",\"OR\",\"OR\",\"PA\",\"PA\",\"PA\",\"PA\",\"PA\",\"PA\",\"PA\",\"PA\",\"PA\",\"PA\",\"PA\",\"RI\",\"RI\",\"SC\",\"SC\",\"SC\",\"SC\",\"SC\",\"SD\",\"SD\",\"SD\",\"SD\",\"SD\",\"TN\",\"TX\",\"TX\",\"TX\",\"TX\",\"TX\",\"TX\",\"TX\",\"TX\",\"TX\",\"TX\",\"TX\",\"TX\",\"TX\",\"TX\",\"TX\",\"TX\",\"UT\",\"UT\",\"UT\",\"UT\",\"VA\",\"VA\",\"VA\",\"VA\",\"VA\",\"VA\",\"VA\",\"VA\",\"VA\",\"WA\",\"WA\",\"WA\",\"WA\",\"WA\",\"WA\",\"WV\",\"WI\",\"WI\",\"WI\",\"WI\",\"WI\",\"WI\",\"WI\",\"WI\",\"WI\",\"WI\",\"WI\",\"WI\",\"WI\",\"WI\",\"WI\",\"WI\",\"WI\",\"WI\",\"WI\",\"WI\",\"WI\",\"WI\",\"WY\",\"TX\",\"TX\",\"TX\",\"TX\",\"TX\",\"TX\",\"TX\",\"TX\"],\"z\":[16264.227848101265,16264.227848101265,16264.227848101265,16264.227848101265,16264.227848101265,17446.0,17446.0,16838.5,16838.5,16838.5,16838.5,16838.5,16838.5,16838.5,16838.5,16642.006756756757,16642.006756756757,16642.006756756757,16642.006756756757,16642.006756756757,16642.006756756757,16642.006756756757,16642.006756756757,16642.006756756757,16642.006756756757,16642.006756756757,16642.006756756757,16642.006756756757,16642.006756756757,16642.006756756757,16642.006756756757,16642.006756756757,16642.006756756757,16642.006756756757,16642.006756756757,16642.006756756757,16642.006756756757,16642.006756756757,16642.006756756757,18143.5,18143.5,18143.5,18143.5,18143.5,18143.5,18610.0,18610.0,18610.0,18610.0,18610.0,17994.207100591717,17994.207100591717,17994.207100591717,17994.207100591717,17994.207100591717,17994.207100591717,17994.207100591717,17994.207100591717,17994.207100591717,17994.207100591717,17994.207100591717,17994.207100591717,17994.207100591717,17994.207100591717,17994.207100591717,17994.207100591717,17994.207100591717,17994.207100591717,17994.207100591717,17994.207100591717,17994.207100591717,17994.207100591717,17994.207100591717,17994.207100591717,17994.207100591717,17994.207100591717,17994.207100591717,17994.207100591717,17994.207100591717,17994.207100591717,17994.207100591717,17994.207100591717,16506.212962962964,16506.212962962964,16506.212962962964,16506.212962962964,16506.212962962964,16506.212962962964,16506.212962962964,16506.212962962964,16506.212962962964,16506.212962962964,16506.212962962964,16506.212962962964,17372.552147239265,17372.552147239265,17372.552147239265,17372.552147239265,17372.552147239265,17372.552147239265,17372.552147239265,17372.552147239265,17372.552147239265,17372.552147239265,17372.552147239265,17372.552147239265,17372.552147239265,17372.552147239265,17372.552147239265,17372.552147239265,16856.095238095237,16465.628571428573,16735.170731707316,16735.170731707316,16735.170731707316,16735.170731707316,16735.170731707316,16735.170731707316,16286.41975308642,16286.41975308642,16988.666666666668,16988.666666666668,16988.666666666668,16988.666666666668,16988.666666666668,16988.666666666668,17144.053571428572,17144.053571428572,17144.053571428572,17144.053571428572,16827.629310344826,16827.629310344826,16827.629310344826,16827.629310344826,16454.13157894737,17355.26153846154,17355.26153846154,17355.26153846154,17355.26153846154,17355.26153846154,17355.26153846154,17247.011235955055,17247.011235955055,17247.011235955055,17247.011235955055,17247.011235955055,17247.011235955055,17247.011235955055,17309.929824561405,18729.51851851852,18729.51851851852,18729.51851851852,18729.51851851852,18729.51851851852,18729.51851851852,18729.51851851852,18729.51851851852,18729.51851851852,18729.51851851852,19029.734375,19029.734375,19029.734375,19029.734375,19029.734375,19029.734375,19029.734375,19029.734375,16407.266666666666,16407.266666666666,16407.266666666666,16979.1,16979.1,16979.1,16979.1,16979.1,16979.1,16979.1,16979.1,16979.1,16979.1,16979.1,16979.1,16979.1,16979.1,16979.1,16979.1,16979.1,16979.1,16979.1,16979.1,16979.1,16979.1,16979.1,16979.1,16979.1,16979.1,16979.1,16979.1,16979.1,16979.1,16979.1,16979.1,16979.1,16979.1,16979.1,16979.1,16979.1,16979.1,16979.1,16979.1,16979.1,16979.1,16979.1,16979.1,16979.1,16979.1,16979.1,16979.1,16737.797872340427,16737.797872340427,16737.797872340427,16737.797872340427,16737.797872340427,16737.797872340427,16737.797872340427,16343.5,16343.5,17059.253424657534,17059.253424657534,15705.24705882353,15705.24705882353,15705.24705882353,15705.24705882353,15705.24705882353,17613.713333333333,17613.713333333333,17613.713333333333,17613.713333333333,17613.713333333333,17613.713333333333,17613.713333333333,17613.713333333333,17613.713333333333,17613.713333333333,17613.713333333333,17613.713333333333,17613.713333333333,16044.833333333334,16044.833333333334,16044.833333333334,16929.654545454545,16929.654545454545,16929.654545454545,16775.604395604394,16775.604395604394,16775.604395604394,16775.604395604394,16775.604395604394,16775.604395604394,16775.604395604394,16775.604395604394,16775.604395604394,16775.604395604394,16995.533834586466,16995.533834586466,16995.533834586466,16995.533834586466,16995.533834586466,16995.533834586466,16995.533834586466,16995.533834586466,16995.533834586466,16995.533834586466,16736.077922077922,16736.077922077922,16736.077922077922,16733.867647058825,16733.867647058825,16683.128205128207,16683.128205128207,16331.175925925925,16264.227848101265,16264.227848101265,16264.227848101265,16264.227848101265,16264.227848101265,16264.227848101265,16264.227848101265,16264.227848101265,16264.227848101265,16264.227848101265,16264.227848101265,16264.227848101265,16264.227848101265,16264.227848101265,16264.227848101265,16264.227848101265,16264.227848101265,16264.227848101265,16264.227848101265,16264.227848101265,16264.227848101265,16264.227848101265,16264.227848101265,14440.0,17446.0,17446.0,17446.0,17446.0,17446.0,17446.0,17446.0,17446.0,17446.0,17446.0,17446.0,17446.0,17446.0,17446.0,17446.0,17446.0,16838.5,16838.5,16838.5,16838.5,16838.5,16838.5,16838.5,16838.5,16838.5,16838.5,16838.5,16838.5,16838.5,16838.5,16838.5,16838.5,16838.5,16838.5,16838.5,16838.5,16642.006756756757,16642.006756756757,16642.006756756757,16642.006756756757,16642.006756756757,16642.006756756757,16642.006756756757,16642.006756756757,16642.006756756757,16642.006756756757,16642.006756756757,16642.006756756757,16642.006756756757,16642.006756756757,16642.006756756757,16642.006756756757,16642.006756756757,16642.006756756757,16642.006756756757,16642.006756756757,16642.006756756757,16642.006756756757,16642.006756756757,16642.006756756757,16642.006756756757,16642.006756756757,16642.006756756757,16642.006756756757,16642.006756756757,16642.006756756757,16642.006756756757,16642.006756756757,16642.006756756757,16642.006756756757,16642.006756756757,16642.006756756757,16642.006756756757,16642.006756756757,16642.006756756757,16642.006756756757,16642.006756756757,16642.006756756757,16642.006756756757,16642.006756756757,16642.006756756757,16642.006756756757,16642.006756756757,16642.006756756757,16642.006756756757,16642.006756756757,16642.006756756757,16642.006756756757,16642.006756756757,16642.006756756757,16642.006756756757,16642.006756756757,16642.006756756757,16642.006756756757,16642.006756756757,16642.006756756757,16642.006756756757,16642.006756756757,16642.006756756757,16642.006756756757,16642.006756756757,16642.006756756757,16642.006756756757,16642.006756756757,16642.006756756757,16642.006756756757,16642.006756756757,16642.006756756757,16642.006756756757,16642.006756756757,16642.006756756757,16642.006756756757,16642.006756756757,16642.006756756757,16642.006756756757,16642.006756756757,16642.006756756757,16642.006756756757,16642.006756756757,16642.006756756757,16642.006756756757,16642.006756756757,16642.006756756757,16642.006756756757,16642.006756756757,16642.006756756757,16642.006756756757,16642.006756756757,16642.006756756757,16642.006756756757,16642.006756756757,16642.006756756757,16449.78947368421,16449.78947368421,16449.78947368421,18143.5,18143.5,18143.5,18143.5,18236.166666666668,18236.166666666668,18610.0,17994.207100591717,17994.207100591717,17994.207100591717,17994.207100591717,17994.207100591717,17994.207100591717,17994.207100591717,17994.207100591717,17994.207100591717,17994.207100591717,17994.207100591717,17994.207100591717,17994.207100591717,17994.207100591717,17994.207100591717,17994.207100591717,17994.207100591717,17994.207100591717,17994.207100591717,17994.207100591717,17994.207100591717,17994.207100591717,17994.207100591717,17994.207100591717,17994.207100591717,17994.207100591717,17994.207100591717,17994.207100591717,17994.207100591717,17994.207100591717,17994.207100591717,17994.207100591717,17994.207100591717,17994.207100591717,17994.207100591717,17994.207100591717,17994.207100591717,17994.207100591717,17994.207100591717,17994.207100591717,17994.207100591717,17994.207100591717,17994.207100591717,17994.207100591717,17994.207100591717,17994.207100591717,17994.207100591717,17994.207100591717,17994.207100591717,17994.207100591717,17994.207100591717,17994.207100591717,17994.207100591717,17994.207100591717,17994.207100591717,17994.207100591717,17994.207100591717,17994.207100591717,17994.207100591717,17994.207100591717,16506.212962962964,16506.212962962964,16506.212962962964,16506.212962962964,16506.212962962964,16506.212962962964,16506.212962962964,16506.212962962964,16506.212962962964,16506.212962962964,16506.212962962964,16506.212962962964,16506.212962962964,16506.212962962964,16506.212962962964,16506.212962962964,16506.212962962964,16506.212962962964,16506.212962962964,16506.212962962964,16506.212962962964,16506.212962962964,16506.212962962964,16682.23076923077,15244.36,15244.36,15244.36,17372.552147239265,17372.552147239265,17372.552147239265,17372.552147239265,17372.552147239265,17372.552147239265,17372.552147239265,17372.552147239265,17372.552147239265,17372.552147239265,17372.552147239265,17372.552147239265,17372.552147239265,17372.552147239265,17372.552147239265,17372.552147239265,17372.552147239265,17372.552147239265,17372.552147239265,17372.552147239265,17372.552147239265,17372.552147239265,17372.552147239265,17372.552147239265,17372.552147239265,17372.552147239265,17372.552147239265,17372.552147239265,17372.552147239265,17372.552147239265,17372.552147239265,16718.081818181818,16718.081818181818,16718.081818181818,16718.081818181818,16718.081818181818,16718.081818181818,16718.081818181818,16718.081818181818,16718.081818181818,16718.081818181818,16856.095238095237,16856.095238095237,16856.095238095237,16856.095238095237,16856.095238095237,16856.095238095237,16856.095238095237,16856.095238095237,16856.095238095237,16856.095238095237,16856.095238095237,16465.628571428573,16465.628571428573,16465.628571428573,16465.628571428573,16465.628571428573,16465.628571428573,16465.628571428573,16465.628571428573,16465.628571428573,16465.628571428573,16735.170731707316,16735.170731707316,16735.170731707316,16735.170731707316,16735.170731707316,16735.170731707316,16735.170731707316,16735.170731707316,16735.170731707316,16735.170731707316,16735.170731707316,16735.170731707316,16735.170731707316,16735.170731707316,16735.170731707316,16735.170731707316,16735.170731707316,16735.170731707316,16735.170731707316,16735.170731707316,16735.170731707316,16735.170731707316,16286.41975308642,16286.41975308642,16286.41975308642,16286.41975308642,16286.41975308642,16286.41975308642,16286.41975308642,16286.41975308642,16286.41975308642,16286.41975308642,16286.41975308642,16286.41975308642,16286.41975308642,16286.41975308642,16286.41975308642,16286.41975308642,16286.41975308642,16286.41975308642,16286.41975308642,16286.41975308642,16286.41975308642,16570.03125,16570.03125,16570.03125,16570.03125,16570.03125,16988.666666666668,16988.666666666668,16988.666666666668,16988.666666666668,16988.666666666668,16988.666666666668,17144.053571428572,17144.053571428572,17144.053571428572,17144.053571428572,17144.053571428572,17144.053571428572,17144.053571428572,17144.053571428572,17144.053571428572,17144.053571428572,17144.053571428572,17144.053571428572,17144.053571428572,17144.053571428572,17144.053571428572,16827.629310344826,16827.629310344826,16827.629310344826,16827.629310344826,16827.629310344826,16827.629310344826,16827.629310344826,16827.629310344826,16827.629310344826,16827.629310344826,16827.629310344826,16827.629310344826,16827.629310344826,16454.13157894737,16454.13157894737,16454.13157894737,16454.13157894737,16454.13157894737,17355.26153846154,17355.26153846154,17355.26153846154,17355.26153846154,17355.26153846154,17355.26153846154,17355.26153846154,17355.26153846154,17355.26153846154,17355.26153846154,17355.26153846154,17355.26153846154,17355.26153846154,17355.26153846154,17355.26153846154,17355.26153846154,17355.26153846154,17355.26153846154,17355.26153846154,17355.26153846154,17355.26153846154,17355.26153846154,17355.26153846154,17355.26153846154,17355.26153846154,17247.011235955055,17247.011235955055,17247.011235955055,17247.011235955055,17247.011235955055,17247.011235955055,17247.011235955055,17247.011235955055,17247.011235955055,17247.011235955055,17247.011235955055,17247.011235955055,17247.011235955055,17247.011235955055,17247.011235955055,17247.011235955055,17247.011235955055,15255.48,15255.48,17309.929824561405,17309.929824561405,17309.929824561405,18729.51851851852,18729.51851851852,18729.51851851852,18729.51851851852,18729.51851851852,18729.51851851852,17110.73076923077,17110.73076923077,17110.73076923077,17110.73076923077,19029.734375,19029.734375,19029.734375,19029.734375,19029.734375,19029.734375,19029.734375,19029.734375,19029.734375,19029.734375,19029.734375,19029.734375,19029.734375,19029.734375,19029.734375,19029.734375,19029.734375,19029.734375,19029.734375,19029.734375,19029.734375,19029.734375,19029.734375,19029.734375,19029.734375,19029.734375,16407.266666666666,16407.266666666666,16407.266666666666,16407.266666666666,16407.266666666666,16407.266666666666,16407.266666666666,16407.266666666666,16979.1,16979.1,16979.1,16979.1,16979.1,16979.1,16979.1,16979.1,16979.1,16979.1,16979.1,16979.1,16979.1,16979.1,16979.1,16979.1,16979.1,16979.1,16979.1,16979.1,16979.1,16979.1,16979.1,16979.1,16979.1,16979.1,16979.1,16979.1,16979.1,16979.1,16979.1,16979.1,16979.1,16979.1,16979.1,16979.1,16979.1,16979.1,16979.1,16979.1,16979.1,16979.1,16979.1,16979.1,16979.1,16737.797872340427,16737.797872340427,16737.797872340427,16737.797872340427,16737.797872340427,16737.797872340427,16737.797872340427,16737.797872340427,16737.797872340427,16737.797872340427,16737.797872340427,16737.797872340427,16737.797872340427,16737.797872340427,16737.797872340427,16737.797872340427,16737.797872340427,16737.797872340427,16343.5,16343.5,17059.253424657534,17059.253424657534,17059.253424657534,17059.253424657534,17059.253424657534,17059.253424657534,17059.253424657534,17059.253424657534,17059.253424657534,17059.253424657534,17059.253424657534,17059.253424657534,17059.253424657534,17059.253424657534,17059.253424657534,17059.253424657534,17059.253424657534,17059.253424657534,17059.253424657534,17059.253424657534,17059.253424657534,17059.253424657534,15705.24705882353,15705.24705882353,15705.24705882353,15705.24705882353,15705.24705882353,15705.24705882353,15705.24705882353,15705.24705882353,15705.24705882353,15705.24705882353,15705.24705882353,15705.24705882353,15705.24705882353,15705.24705882353,15705.24705882353,15705.24705882353,15705.24705882353,15705.24705882353,15705.24705882353,15162.461538461539,15162.461538461539,15162.461538461539,15162.461538461539,17613.713333333333,17613.713333333333,17613.713333333333,17613.713333333333,17613.713333333333,17613.713333333333,17613.713333333333,17613.713333333333,17613.713333333333,17613.713333333333,17613.713333333333,17613.713333333333,17613.713333333333,17613.713333333333,17613.713333333333,17613.713333333333,17613.713333333333,17613.713333333333,17613.713333333333,17613.713333333333,17613.713333333333,17613.713333333333,17613.713333333333,17613.713333333333,17613.713333333333,17613.713333333333,17613.713333333333,17613.713333333333,17613.713333333333,17613.713333333333,17613.713333333333,17613.713333333333,17613.713333333333,17613.713333333333,17613.713333333333,17613.713333333333,17613.713333333333,16044.833333333334,16044.833333333334,16044.833333333334,15490.2,15490.2,15490.2,16929.654545454545,16929.654545454545,16929.654545454545,16929.654545454545,16929.654545454545,16929.654545454545,16929.654545454545,16929.654545454545,16929.654545454545,16929.654545454545,16929.654545454545,16929.654545454545,16929.654545454545,16929.654545454545,16929.654545454545,13864.157894736842,16775.604395604394,16775.604395604394,16775.604395604394,16775.604395604394,16775.604395604394,16775.604395604394,16775.604395604394,16775.604395604394,16775.604395604394,16775.604395604394,16775.604395604394,16775.604395604394,16775.604395604394,16775.604395604394,16775.604395604394,16775.604395604394,16775.604395604394,16775.604395604394,16775.604395604394,16775.604395604394,16775.604395604394,16775.604395604394,16775.604395604394,16775.604395604394,16775.604395604394,16775.604395604394,16775.604395604394,16995.533834586466,16995.533834586466,16995.533834586466,16995.533834586466,16995.533834586466,16995.533834586466,16995.533834586466,16995.533834586466,16995.533834586466,16995.533834586466,16995.533834586466,16995.533834586466,16995.533834586466,16995.533834586466,16995.533834586466,16995.533834586466,16995.533834586466,16995.533834586466,16995.533834586466,16995.533834586466,16995.533834586466,16995.533834586466,16995.533834586466,16995.533834586466,16995.533834586466,16995.533834586466,16995.533834586466,16995.533834586466,16995.533834586466,16995.533834586466,16995.533834586466,16995.533834586466,16995.533834586466,16995.533834586466,16995.533834586466,16995.533834586466,16995.533834586466,16995.533834586466,16995.533834586466,16995.533834586466,16995.533834586466,16995.533834586466,16995.533834586466,16995.533834586466,16995.533834586466,16995.533834586466,16995.533834586466,16995.533834586466,16995.533834586466,16995.533834586466,16995.533834586466,16216.970588235294,16216.970588235294,15519.083333333334,13115.0,16736.077922077922,16736.077922077922,16736.077922077922,16736.077922077922,16736.077922077922,16736.077922077922,16736.077922077922,16736.077922077922,16736.077922077922,16736.077922077922,16736.077922077922,16736.077922077922,16736.077922077922,16736.077922077922,16736.077922077922,16736.077922077922,16736.077922077922,16733.867647058825,16733.867647058825,16733.867647058825,16733.867647058825,16733.867647058825,16733.867647058825,16733.867647058825,16733.867647058825,16733.867647058825,16733.867647058825,16733.867647058825,16733.867647058825,16733.867647058825,16733.867647058825,16733.867647058825,16733.867647058825,16733.867647058825,16683.128205128207,16683.128205128207,16683.128205128207,16683.128205128207,16683.128205128207,16683.128205128207,16683.128205128207,16683.128205128207,16683.128205128207,16683.128205128207,16331.175925925925,16331.175925925925,16331.175925925925,16331.175925925925,16331.175925925925,15311.555555555555,15311.555555555555,16995.533834586466,16995.533834586466,16264.227848101265,16264.227848101265,16264.227848101265,16264.227848101265,16264.227848101265,16264.227848101265,16264.227848101265,16264.227848101265,16264.227848101265,16264.227848101265,16264.227848101265,16264.227848101265,16264.227848101265,16264.227848101265,16264.227848101265,16264.227848101265,16264.227848101265,16264.227848101265,16264.227848101265,16264.227848101265,16264.227848101265,16264.227848101265,16264.227848101265,16264.227848101265,16264.227848101265,16264.227848101265,16264.227848101265,16264.227848101265,16264.227848101265,16264.227848101265,16264.227848101265,14440.0,14440.0,14440.0,17446.0,17446.0,17446.0,17446.0,17446.0,17446.0,17446.0,17446.0,17446.0,17446.0,17446.0,17446.0,17446.0,17446.0,17446.0,17446.0,17446.0,17446.0,17446.0,16838.5,16838.5,16838.5,16838.5,16838.5,16838.5,16838.5,16838.5,16838.5,16838.5,16838.5,16838.5,16838.5,16838.5,16838.5,16838.5,16838.5,16838.5,16838.5,16838.5,16838.5,16838.5,16838.5,16642.006756756757,16642.006756756757,16642.006756756757,16642.006756756757,16642.006756756757,16642.006756756757,16642.006756756757,16642.006756756757,16642.006756756757,16642.006756756757,16642.006756756757,16642.006756756757,16642.006756756757,16642.006756756757,16642.006756756757,16642.006756756757,16642.006756756757,16642.006756756757,16642.006756756757,16642.006756756757,16642.006756756757,16642.006756756757,16642.006756756757,16642.006756756757,16642.006756756757,16642.006756756757,16642.006756756757,16642.006756756757,16642.006756756757,16642.006756756757,16642.006756756757,16642.006756756757,16642.006756756757,16642.006756756757,16642.006756756757,16642.006756756757,16642.006756756757,16642.006756756757,16642.006756756757,16642.006756756757,16642.006756756757,16642.006756756757,16642.006756756757,16642.006756756757,16642.006756756757,16642.006756756757,16642.006756756757,16642.006756756757,16642.006756756757,16642.006756756757,16642.006756756757,16642.006756756757,16642.006756756757,16642.006756756757,16642.006756756757,16642.006756756757,16642.006756756757,16642.006756756757,16642.006756756757,16642.006756756757,16642.006756756757,16642.006756756757,16642.006756756757,16642.006756756757,16642.006756756757,16642.006756756757,16642.006756756757,16642.006756756757,16642.006756756757,16642.006756756757,16642.006756756757,16642.006756756757,16642.006756756757,16642.006756756757,16642.006756756757,16642.006756756757,16642.006756756757,16642.006756756757,16642.006756756757,16642.006756756757,16642.006756756757,16642.006756756757,16642.006756756757,16642.006756756757,16642.006756756757,16642.006756756757,16642.006756756757,16642.006756756757,16642.006756756757,16642.006756756757,16642.006756756757,16642.006756756757,16642.006756756757,16449.78947368421,16449.78947368421,16449.78947368421,16449.78947368421,16449.78947368421,16449.78947368421,16449.78947368421,16449.78947368421,16449.78947368421,16449.78947368421,16449.78947368421,16449.78947368421,16449.78947368421,16449.78947368421,16449.78947368421,16449.78947368421,16449.78947368421,16449.78947368421,16449.78947368421,16449.78947368421,16449.78947368421,16449.78947368421,16449.78947368421,18143.5,18143.5,18143.5,18143.5,18143.5,18143.5,18143.5,18143.5,18143.5,18236.166666666668,18236.166666666668,18236.166666666668,18610.0,17994.207100591717,17994.207100591717,17994.207100591717,17994.207100591717,17994.207100591717,17994.207100591717,17994.207100591717,17994.207100591717,17994.207100591717,17994.207100591717,17994.207100591717,17994.207100591717,17994.207100591717,17994.207100591717,17994.207100591717,17994.207100591717,17994.207100591717,17994.207100591717,17994.207100591717,17994.207100591717,17994.207100591717,17994.207100591717,17994.207100591717,17994.207100591717,17994.207100591717,17994.207100591717,17994.207100591717,17994.207100591717,17994.207100591717,17994.207100591717,17994.207100591717,17994.207100591717,17994.207100591717,17994.207100591717,17994.207100591717,17994.207100591717,17994.207100591717,17994.207100591717,17994.207100591717,17994.207100591717,16506.212962962964,16506.212962962964,16506.212962962964,16506.212962962964,16506.212962962964,16506.212962962964,16506.212962962964,16506.212962962964,16506.212962962964,16506.212962962964,16506.212962962964,16506.212962962964,16506.212962962964,16506.212962962964,16506.212962962964,16506.212962962964,16506.212962962964,16506.212962962964,16506.212962962964,16506.212962962964,16506.212962962964,16506.212962962964,16506.212962962964,16506.212962962964,16506.212962962964,16506.212962962964,16506.212962962964,16506.212962962964,16506.212962962964,16506.212962962964,16506.212962962964,16506.212962962964,16506.212962962964,16506.212962962964,16506.212962962964,16506.212962962964,16506.212962962964,16506.212962962964,16506.212962962964,16506.212962962964,16506.212962962964,16506.212962962964,16682.23076923077,16682.23076923077,16682.23076923077,16682.23076923077,15244.36,15244.36,15244.36,15244.36,15244.36,15244.36,17372.552147239265,17372.552147239265,17372.552147239265,17372.552147239265,17372.552147239265,17372.552147239265,17372.552147239265,17372.552147239265,17372.552147239265,17372.552147239265,17372.552147239265,17372.552147239265,17372.552147239265,17372.552147239265,17372.552147239265,17372.552147239265,17372.552147239265,17372.552147239265,17372.552147239265,17372.552147239265,17372.552147239265,17372.552147239265,17372.552147239265,17372.552147239265,17372.552147239265,17372.552147239265,17372.552147239265,17372.552147239265,17372.552147239265,17372.552147239265,17372.552147239265,17372.552147239265,17372.552147239265,17372.552147239265,17372.552147239265,17372.552147239265,17372.552147239265,17372.552147239265,17372.552147239265,17372.552147239265,17372.552147239265,17372.552147239265,17372.552147239265,17372.552147239265,17372.552147239265,17372.552147239265,17372.552147239265,17372.552147239265,17372.552147239265,17372.552147239265,17372.552147239265,17372.552147239265,17372.552147239265,17372.552147239265,17372.552147239265,16718.081818181818,16718.081818181818,16718.081818181818,16718.081818181818,16718.081818181818,16718.081818181818,16718.081818181818,16718.081818181818,16718.081818181818,16718.081818181818,16718.081818181818,16718.081818181818,16718.081818181818,16718.081818181818,16718.081818181818,16718.081818181818,16718.081818181818,16718.081818181818,16718.081818181818,16718.081818181818,16718.081818181818,16718.081818181818,16718.081818181818,16718.081818181818,16718.081818181818,16718.081818181818,16718.081818181818,16718.081818181818,16718.081818181818,16718.081818181818,16718.081818181818,16718.081818181818,16718.081818181818,16718.081818181818,16718.081818181818,16718.081818181818,16856.095238095237,16856.095238095237,16856.095238095237,16856.095238095237,16856.095238095237,16856.095238095237,16856.095238095237,16856.095238095237,16856.095238095237,16856.095238095237,16856.095238095237,16856.095238095237,16856.095238095237,16856.095238095237,16856.095238095237,16856.095238095237,16856.095238095237,16856.095238095237,16856.095238095237,16856.095238095237,16856.095238095237,16856.095238095237,16856.095238095237,16856.095238095237,16856.095238095237,16856.095238095237,16856.095238095237,16856.095238095237,16856.095238095237,16465.628571428573,16465.628571428573,16465.628571428573,16465.628571428573,16465.628571428573,16465.628571428573,16465.628571428573,16465.628571428573,16465.628571428573,16465.628571428573,16465.628571428573,16465.628571428573,16465.628571428573,16465.628571428573,16465.628571428573,16465.628571428573,16465.628571428573,16465.628571428573,16465.628571428573,16465.628571428573,16465.628571428573,16465.628571428573,16465.628571428573,16465.628571428573,16465.628571428573,16465.628571428573,16465.628571428573,16465.628571428573,16465.628571428573,16465.628571428573,16735.170731707316,16735.170731707316,16735.170731707316,16735.170731707316,16735.170731707316,16735.170731707316,16735.170731707316,16735.170731707316,16735.170731707316,16735.170731707316,16735.170731707316,16735.170731707316,16735.170731707316,16735.170731707316,16735.170731707316,16735.170731707316,16735.170731707316,16735.170731707316,16735.170731707316,16735.170731707316,16735.170731707316,16735.170731707316,16735.170731707316,16735.170731707316,16735.170731707316,16735.170731707316,16735.170731707316,16735.170731707316,16735.170731707316,16735.170731707316,16735.170731707316,16735.170731707316,16286.41975308642,16286.41975308642,16286.41975308642,16286.41975308642,16286.41975308642,16286.41975308642,16286.41975308642,16286.41975308642,16286.41975308642,16286.41975308642,16286.41975308642,16286.41975308642,16286.41975308642,16286.41975308642,16286.41975308642,16286.41975308642,16286.41975308642,16286.41975308642,16286.41975308642,16286.41975308642,16286.41975308642,16286.41975308642,16286.41975308642,16286.41975308642,16286.41975308642,16286.41975308642,16286.41975308642,16286.41975308642,16286.41975308642,16286.41975308642,16286.41975308642,16286.41975308642,16286.41975308642,16286.41975308642,16286.41975308642,16570.03125,16570.03125,16570.03125,16570.03125,16570.03125,16570.03125,16570.03125,16570.03125,16570.03125,16570.03125,16988.666666666668,16988.666666666668,16988.666666666668,16988.666666666668,16988.666666666668,16988.666666666668,16988.666666666668,16988.666666666668,16988.666666666668,16988.666666666668,16988.666666666668,16988.666666666668,16988.666666666668,16988.666666666668,16988.666666666668,16988.666666666668,16988.666666666668,16988.666666666668,16988.666666666668,17144.053571428572,17144.053571428572,17144.053571428572,17144.053571428572,17144.053571428572,17144.053571428572,17144.053571428572,17144.053571428572,17144.053571428572,17144.053571428572,17144.053571428572,17144.053571428572,17144.053571428572,17144.053571428572,17144.053571428572,17144.053571428572,17144.053571428572,17144.053571428572,17144.053571428572,16827.629310344826,16827.629310344826,16827.629310344826,16827.629310344826,16827.629310344826,16827.629310344826,16827.629310344826,16827.629310344826,16827.629310344826,16827.629310344826,16827.629310344826,16827.629310344826,16827.629310344826,16827.629310344826,16827.629310344826,16827.629310344826,16827.629310344826,16827.629310344826,16827.629310344826,16827.629310344826,16827.629310344826,16827.629310344826,16827.629310344826,16827.629310344826,16827.629310344826,16827.629310344826,16827.629310344826,16827.629310344826,16827.629310344826,16827.629310344826,16827.629310344826,16827.629310344826,16827.629310344826,16827.629310344826,16827.629310344826,16827.629310344826,16827.629310344826,16454.13157894737,16454.13157894737,16454.13157894737,16454.13157894737,16454.13157894737,16454.13157894737,16454.13157894737,16454.13157894737,16454.13157894737,16454.13157894737,16454.13157894737,16454.13157894737,16454.13157894737,16454.13157894737,16454.13157894737,16454.13157894737,16454.13157894737,16454.13157894737,16454.13157894737,17355.26153846154,17355.26153846154,17355.26153846154,17355.26153846154,17355.26153846154,17355.26153846154,17355.26153846154,17355.26153846154,17355.26153846154,17355.26153846154,17355.26153846154,17355.26153846154,17355.26153846154,17355.26153846154,17355.26153846154,17355.26153846154,17355.26153846154,17355.26153846154,17355.26153846154,17355.26153846154,17355.26153846154,17355.26153846154,17355.26153846154,17355.26153846154,17355.26153846154,17355.26153846154,17247.011235955055,17247.011235955055,17247.011235955055,17247.011235955055,17247.011235955055,17247.011235955055,17247.011235955055,17247.011235955055,17247.011235955055,17247.011235955055,17247.011235955055,17247.011235955055,17247.011235955055,17247.011235955055,17247.011235955055,17247.011235955055,17247.011235955055,17247.011235955055,17247.011235955055,17247.011235955055,17247.011235955055,17247.011235955055,17247.011235955055,17247.011235955055,17247.011235955055,17247.011235955055,17247.011235955055,17247.011235955055,17247.011235955055,17247.011235955055,17247.011235955055,17247.011235955055,17247.011235955055,17247.011235955055,17247.011235955055,17247.011235955055,15255.48,15255.48,15255.48,15255.48,15255.48,15255.48,15255.48,15255.48,17309.929824561405,17309.929824561405,17309.929824561405,17309.929824561405,17309.929824561405,17309.929824561405,17309.929824561405,17309.929824561405,17309.929824561405,17309.929824561405,17309.929824561405,17309.929824561405,17309.929824561405,17309.929824561405,17309.929824561405,17309.929824561405,17309.929824561405,17309.929824561405,17309.929824561405,17309.929824561405,17309.929824561405,17309.929824561405,17309.929824561405,17309.929824561405,17309.929824561405,17309.929824561405,18729.51851851852,18729.51851851852,18729.51851851852,18729.51851851852,18729.51851851852,18729.51851851852,18729.51851851852,17110.73076923077,17110.73076923077,17110.73076923077,17110.73076923077,17110.73076923077,17110.73076923077,17110.73076923077,17110.73076923077,17110.73076923077,19029.734375,19029.734375,19029.734375,19029.734375,19029.734375,19029.734375,19029.734375,19029.734375,19029.734375,19029.734375,19029.734375,19029.734375,19029.734375,19029.734375,16407.266666666666,16407.266666666666,16407.266666666666,16407.266666666666,16407.266666666666,16407.266666666666,16407.266666666666,16407.266666666666,16407.266666666666,16407.266666666666,16407.266666666666,16407.266666666666,16407.266666666666,16979.1,16979.1,16979.1,16979.1,16979.1,16979.1,16979.1,16979.1,16979.1,16979.1,16979.1,16979.1,16979.1,16979.1,16979.1,16979.1,16979.1,16979.1,16979.1,16979.1,16979.1,16979.1,16979.1,16979.1,16979.1,16979.1,16979.1,16979.1,16979.1,16979.1,16979.1,16979.1,16979.1,16979.1,16979.1,16979.1,16979.1,16979.1,16979.1,16979.1,16737.797872340427,16737.797872340427,16737.797872340427,16737.797872340427,16737.797872340427,16737.797872340427,16737.797872340427,16737.797872340427,16737.797872340427,16737.797872340427,16737.797872340427,16737.797872340427,16737.797872340427,16737.797872340427,16737.797872340427,16737.797872340427,16737.797872340427,16737.797872340427,16737.797872340427,16737.797872340427,16737.797872340427,16737.797872340427,16737.797872340427,16737.797872340427,16737.797872340427,16737.797872340427,16737.797872340427,16737.797872340427,16737.797872340427,16737.797872340427,16737.797872340427,16737.797872340427,16737.797872340427,16737.797872340427,16737.797872340427,16737.797872340427,16343.5,16343.5,16343.5,16343.5,16343.5,16343.5,16343.5,16343.5,17059.253424657534,17059.253424657534,17059.253424657534,17059.253424657534,17059.253424657534,17059.253424657534,17059.253424657534,17059.253424657534,17059.253424657534,17059.253424657534,17059.253424657534,17059.253424657534,17059.253424657534,17059.253424657534,17059.253424657534,17059.253424657534,17059.253424657534,17059.253424657534,17059.253424657534,17059.253424657534,17059.253424657534,17059.253424657534,17059.253424657534,17059.253424657534,17059.253424657534,17059.253424657534,17059.253424657534,17059.253424657534,17059.253424657534,17059.253424657534,17059.253424657534,17059.253424657534,17059.253424657534,17059.253424657534,17059.253424657534,17059.253424657534,17059.253424657534,17059.253424657534,17059.253424657534,17059.253424657534,17059.253424657534,17059.253424657534,17059.253424657534,17059.253424657534,17059.253424657534,17059.253424657534,17059.253424657534,17059.253424657534,17059.253424657534,17059.253424657534,15705.24705882353,15705.24705882353,15705.24705882353,15705.24705882353,15705.24705882353,15705.24705882353,15705.24705882353,15705.24705882353,15705.24705882353,15705.24705882353,15705.24705882353,15705.24705882353,15705.24705882353,15705.24705882353,15705.24705882353,15705.24705882353,15705.24705882353,15705.24705882353,15705.24705882353,15705.24705882353,15705.24705882353,15705.24705882353,15705.24705882353,15705.24705882353,15705.24705882353,15705.24705882353,15705.24705882353,15705.24705882353,15162.461538461539,15162.461538461539,15162.461538461539,15162.461538461539,15162.461538461539,15162.461538461539,15162.461538461539,15162.461538461539,15162.461538461539,15162.461538461539,15162.461538461539,15162.461538461539,15162.461538461539,15162.461538461539,15162.461538461539,15162.461538461539,15162.461538461539,15162.461538461539,15162.461538461539,15162.461538461539,15162.461538461539,15162.461538461539,15162.461538461539,17613.713333333333,17613.713333333333,17613.713333333333,17613.713333333333,17613.713333333333,17613.713333333333,17613.713333333333,17613.713333333333,17613.713333333333,17613.713333333333,17613.713333333333,17613.713333333333,17613.713333333333,17613.713333333333,17613.713333333333,17613.713333333333,17613.713333333333,17613.713333333333,17613.713333333333,17613.713333333333,17613.713333333333,17613.713333333333,17613.713333333333,17613.713333333333,17613.713333333333,17613.713333333333,17613.713333333333,17613.713333333333,17613.713333333333,17613.713333333333,17613.713333333333,17613.713333333333,17613.713333333333,17613.713333333333,17613.713333333333,17613.713333333333,17613.713333333333,17613.713333333333,17613.713333333333,17613.713333333333,17613.713333333333,17613.713333333333,17613.713333333333,17613.713333333333,17613.713333333333,17613.713333333333,17613.713333333333,17613.713333333333,17613.713333333333,17613.713333333333,17613.713333333333,17613.713333333333,17613.713333333333,15490.2,15490.2,15490.2,16929.654545454545,16929.654545454545,16929.654545454545,16929.654545454545,16929.654545454545,16929.654545454545,16929.654545454545,16929.654545454545,16929.654545454545,16929.654545454545,16929.654545454545,16929.654545454545,16929.654545454545,16929.654545454545,16929.654545454545,16929.654545454545,16929.654545454545,13864.157894736842,13864.157894736842,13864.157894736842,13864.157894736842,13864.157894736842,13864.157894736842,16775.604395604394,16775.604395604394,16775.604395604394,16775.604395604394,16775.604395604394,16775.604395604394,16775.604395604394,16775.604395604394,16775.604395604394,16775.604395604394,16775.604395604394,16775.604395604394,16775.604395604394,16775.604395604394,16775.604395604394,16775.604395604394,16775.604395604394,16775.604395604394,16775.604395604394,16775.604395604394,16775.604395604394,16775.604395604394,16775.604395604394,16775.604395604394,16775.604395604394,16775.604395604394,16775.604395604394,16775.604395604394,16775.604395604394,16775.604395604394,16775.604395604394,16775.604395604394,16995.533834586466,16995.533834586466,16995.533834586466,16995.533834586466,16995.533834586466,16995.533834586466,16995.533834586466,16995.533834586466,16995.533834586466,16995.533834586466,16995.533834586466,16995.533834586466,16995.533834586466,16995.533834586466,16995.533834586466,16995.533834586466,16995.533834586466,16995.533834586466,16995.533834586466,16995.533834586466,16995.533834586466,16995.533834586466,16995.533834586466,16995.533834586466,16995.533834586466,16995.533834586466,16995.533834586466,16995.533834586466,16995.533834586466,16995.533834586466,16995.533834586466,16995.533834586466,16995.533834586466,16995.533834586466,16995.533834586466,16995.533834586466,16995.533834586466,16995.533834586466,16995.533834586466,16995.533834586466,16995.533834586466,16995.533834586466,16995.533834586466,16995.533834586466,16995.533834586466,16995.533834586466,16995.533834586466,16995.533834586466,16995.533834586466,16995.533834586466,16995.533834586466,16995.533834586466,16995.533834586466,16995.533834586466,16995.533834586466,16995.533834586466,16995.533834586466,16995.533834586466,16995.533834586466,16995.533834586466,16995.533834586466,16995.533834586466,16995.533834586466,16995.533834586466,16995.533834586466,16995.533834586466,16995.533834586466,16995.533834586466,16995.533834586466,16995.533834586466,16995.533834586466,16995.533834586466,16995.533834586466,16995.533834586466,16995.533834586466,16995.533834586466,16995.533834586466,16995.533834586466,16995.533834586466,16995.533834586466,16995.533834586466,16995.533834586466,16216.970588235294,16216.970588235294,16216.970588235294,16216.970588235294,16216.970588235294,16216.970588235294,16216.970588235294,15519.083333333334,15519.083333333334,15519.083333333334,15519.083333333334,15519.083333333334,15519.083333333334,13115.0,16736.077922077922,16736.077922077922,16736.077922077922,16736.077922077922,16736.077922077922,16736.077922077922,16736.077922077922,16736.077922077922,16736.077922077922,16736.077922077922,16736.077922077922,16736.077922077922,16736.077922077922,16736.077922077922,16736.077922077922,16736.077922077922,16736.077922077922,16736.077922077922,16736.077922077922,16736.077922077922,16736.077922077922,16736.077922077922,16736.077922077922,16736.077922077922,16733.867647058825,16733.867647058825,16733.867647058825,16733.867647058825,16733.867647058825,16733.867647058825,16733.867647058825,16733.867647058825,16733.867647058825,16733.867647058825,16733.867647058825,16733.867647058825,16733.867647058825,16733.867647058825,16733.867647058825,16733.867647058825,16733.867647058825,16733.867647058825,16733.867647058825,16733.867647058825,16733.867647058825,16733.867647058825,16733.867647058825,16733.867647058825,16683.128205128207,16683.128205128207,16683.128205128207,16683.128205128207,16683.128205128207,16683.128205128207,16683.128205128207,16683.128205128207,16683.128205128207,16683.128205128207,16683.128205128207,16683.128205128207,16683.128205128207,16683.128205128207,16683.128205128207,16683.128205128207,16683.128205128207,16683.128205128207,16331.175925925925,16331.175925925925,16331.175925925925,16331.175925925925,16331.175925925925,16331.175925925925,16331.175925925925,16331.175925925925,16331.175925925925,16331.175925925925,16331.175925925925,16331.175925925925,16331.175925925925,16331.175925925925,16331.175925925925,16331.175925925925,16331.175925925925,16331.175925925925,16331.175925925925,16331.175925925925,16331.175925925925,15311.555555555555,15311.555555555555,15311.555555555555,15311.555555555555,15311.555555555555,15311.555555555555,15311.555555555555,15311.555555555555,15311.555555555555,16995.533834586466,16995.533834586466,16995.533834586466,16995.533834586466,16995.533834586466,16995.533834586466,16995.533834586466,16995.533834586466,16995.533834586466,16995.533834586466,16995.533834586466,16995.533834586466,16995.533834586466,16264.227848101265,16264.227848101265,16264.227848101265,16264.227848101265,16264.227848101265,16264.227848101265,16264.227848101265,16264.227848101265,16264.227848101265,16264.227848101265,16264.227848101265,16264.227848101265,16264.227848101265,16264.227848101265,16264.227848101265,14440.0,14440.0,14440.0,14440.0,17446.0,17446.0,17446.0,17446.0,17446.0,17446.0,17446.0,17446.0,17446.0,17446.0,17446.0,17446.0,17446.0,17446.0,16838.5,16838.5,16838.5,16838.5,16838.5,16838.5,16838.5,16838.5,16838.5,16642.006756756757,16642.006756756757,16642.006756756757,16642.006756756757,16642.006756756757,16642.006756756757,16642.006756756757,16642.006756756757,16642.006756756757,16642.006756756757,16642.006756756757,16642.006756756757,16642.006756756757,16642.006756756757,16642.006756756757,16642.006756756757,16642.006756756757,16642.006756756757,16642.006756756757,16642.006756756757,16642.006756756757,16642.006756756757,16642.006756756757,16642.006756756757,16642.006756756757,16642.006756756757,16642.006756756757,16642.006756756757,16642.006756756757,16642.006756756757,16642.006756756757,16642.006756756757,16642.006756756757,16642.006756756757,16642.006756756757,16642.006756756757,16642.006756756757,16642.006756756757,16642.006756756757,16642.006756756757,16642.006756756757,16642.006756756757,16642.006756756757,16642.006756756757,16642.006756756757,16642.006756756757,16642.006756756757,16642.006756756757,16642.006756756757,16642.006756756757,16642.006756756757,16642.006756756757,16642.006756756757,16642.006756756757,16642.006756756757,16642.006756756757,16642.006756756757,16642.006756756757,16642.006756756757,16642.006756756757,16642.006756756757,16642.006756756757,16449.78947368421,16449.78947368421,16449.78947368421,16449.78947368421,16449.78947368421,16449.78947368421,16449.78947368421,16449.78947368421,16449.78947368421,16449.78947368421,16449.78947368421,16449.78947368421,16449.78947368421,16449.78947368421,16449.78947368421,16449.78947368421,16449.78947368421,16449.78947368421,16449.78947368421,16449.78947368421,16449.78947368421,16449.78947368421,16449.78947368421,16449.78947368421,16449.78947368421,18143.5,18143.5,18143.5,18143.5,18143.5,18143.5,18143.5,18143.5,18143.5,18236.166666666668,17994.207100591717,17994.207100591717,17994.207100591717,17994.207100591717,17994.207100591717,17994.207100591717,17994.207100591717,17994.207100591717,17994.207100591717,17994.207100591717,17994.207100591717,17994.207100591717,17994.207100591717,17994.207100591717,17994.207100591717,17994.207100591717,17994.207100591717,17994.207100591717,17994.207100591717,17994.207100591717,17994.207100591717,17994.207100591717,17994.207100591717,17994.207100591717,17994.207100591717,17994.207100591717,17994.207100591717,17994.207100591717,16506.212962962964,16506.212962962964,16506.212962962964,16506.212962962964,16506.212962962964,16506.212962962964,16506.212962962964,16506.212962962964,16506.212962962964,16506.212962962964,16506.212962962964,16506.212962962964,16506.212962962964,16506.212962962964,16506.212962962964,16506.212962962964,16506.212962962964,16506.212962962964,16506.212962962964,16506.212962962964,16506.212962962964,16506.212962962964,16506.212962962964,16506.212962962964,16506.212962962964,16506.212962962964,16682.23076923077,16682.23076923077,16682.23076923077,16682.23076923077,16682.23076923077,15244.36,15244.36,15244.36,15244.36,15244.36,15244.36,15244.36,15244.36,15244.36,15244.36,15244.36,17372.552147239265,17372.552147239265,17372.552147239265,17372.552147239265,17372.552147239265,17372.552147239265,17372.552147239265,17372.552147239265,17372.552147239265,17372.552147239265,17372.552147239265,17372.552147239265,17372.552147239265,17372.552147239265,17372.552147239265,17372.552147239265,17372.552147239265,17372.552147239265,17372.552147239265,17372.552147239265,17372.552147239265,17372.552147239265,17372.552147239265,17372.552147239265,17372.552147239265,17372.552147239265,17372.552147239265,17372.552147239265,17372.552147239265,17372.552147239265,17372.552147239265,17372.552147239265,17372.552147239265,17372.552147239265,17372.552147239265,17372.552147239265,17372.552147239265,17372.552147239265,17372.552147239265,17372.552147239265,17372.552147239265,17372.552147239265,17372.552147239265,17372.552147239265,17372.552147239265,17372.552147239265,17372.552147239265,17372.552147239265,17372.552147239265,16718.081818181818,16718.081818181818,16718.081818181818,16718.081818181818,16718.081818181818,16718.081818181818,16718.081818181818,16718.081818181818,16718.081818181818,16718.081818181818,16718.081818181818,16718.081818181818,16718.081818181818,16718.081818181818,16718.081818181818,16718.081818181818,16718.081818181818,16718.081818181818,16718.081818181818,16718.081818181818,16718.081818181818,16718.081818181818,16718.081818181818,16718.081818181818,16718.081818181818,16718.081818181818,16718.081818181818,16718.081818181818,16718.081818181818,16718.081818181818,16718.081818181818,16718.081818181818,16718.081818181818,16718.081818181818,16718.081818181818,16718.081818181818,16718.081818181818,16718.081818181818,16718.081818181818,16718.081818181818,16718.081818181818,16718.081818181818,16718.081818181818,16718.081818181818,16718.081818181818,16718.081818181818,16718.081818181818,16718.081818181818,16718.081818181818,16718.081818181818,16718.081818181818,16856.095238095237,16856.095238095237,16856.095238095237,16856.095238095237,16856.095238095237,16856.095238095237,16856.095238095237,16856.095238095237,16856.095238095237,16856.095238095237,16856.095238095237,16856.095238095237,16856.095238095237,16856.095238095237,16856.095238095237,16856.095238095237,16856.095238095237,16856.095238095237,16856.095238095237,16856.095238095237,16856.095238095237,16856.095238095237,16856.095238095237,16856.095238095237,16856.095238095237,16856.095238095237,16856.095238095237,16856.095238095237,16856.095238095237,16856.095238095237,16856.095238095237,16856.095238095237,16856.095238095237,16856.095238095237,16856.095238095237,16856.095238095237,16465.628571428573,16465.628571428573,16465.628571428573,16465.628571428573,16465.628571428573,16465.628571428573,16465.628571428573,16465.628571428573,16465.628571428573,16465.628571428573,16465.628571428573,16465.628571428573,16465.628571428573,16465.628571428573,16465.628571428573,16465.628571428573,16465.628571428573,16465.628571428573,16465.628571428573,16465.628571428573,16465.628571428573,16735.170731707316,16735.170731707316,16735.170731707316,16735.170731707316,16735.170731707316,16735.170731707316,16735.170731707316,16735.170731707316,16735.170731707316,16735.170731707316,16735.170731707316,16735.170731707316,16735.170731707316,16735.170731707316,16735.170731707316,16735.170731707316,16735.170731707316,16735.170731707316,16735.170731707316,16735.170731707316,16735.170731707316,16286.41975308642,16286.41975308642,16286.41975308642,16286.41975308642,16286.41975308642,16286.41975308642,16286.41975308642,16286.41975308642,16286.41975308642,16286.41975308642,16286.41975308642,16286.41975308642,16286.41975308642,16286.41975308642,16286.41975308642,16286.41975308642,16286.41975308642,16286.41975308642,16286.41975308642,16286.41975308642,16570.03125,16570.03125,16570.03125,16570.03125,16570.03125,16570.03125,16570.03125,16570.03125,16570.03125,16570.03125,16570.03125,16570.03125,16570.03125,16570.03125,16988.666666666668,16988.666666666668,16988.666666666668,16988.666666666668,16988.666666666668,16988.666666666668,16988.666666666668,16988.666666666668,16988.666666666668,17144.053571428572,17144.053571428572,17144.053571428572,17144.053571428572,17144.053571428572,17144.053571428572,17144.053571428572,17144.053571428572,17144.053571428572,17144.053571428572,17144.053571428572,16827.629310344826,16827.629310344826,16827.629310344826,16827.629310344826,16827.629310344826,16827.629310344826,16827.629310344826,16827.629310344826,16827.629310344826,16827.629310344826,16827.629310344826,16827.629310344826,16827.629310344826,16827.629310344826,16827.629310344826,16827.629310344826,16827.629310344826,16827.629310344826,16827.629310344826,16827.629310344826,16827.629310344826,16827.629310344826,16827.629310344826,16827.629310344826,16827.629310344826,16827.629310344826,16827.629310344826,16827.629310344826,16827.629310344826,16827.629310344826,16827.629310344826,16827.629310344826,16827.629310344826,16827.629310344826,16827.629310344826,16827.629310344826,16827.629310344826,16827.629310344826,16827.629310344826,16827.629310344826,16827.629310344826,16827.629310344826,16827.629310344826,16827.629310344826,16827.629310344826,16827.629310344826,16827.629310344826,16827.629310344826,16827.629310344826,16827.629310344826,16827.629310344826,16454.13157894737,16454.13157894737,16454.13157894737,16454.13157894737,16454.13157894737,16454.13157894737,16454.13157894737,16454.13157894737,16454.13157894737,16454.13157894737,16454.13157894737,16454.13157894737,16454.13157894737,16454.13157894737,16454.13157894737,16454.13157894737,16454.13157894737,16454.13157894737,16454.13157894737,16454.13157894737,16454.13157894737,16454.13157894737,16454.13157894737,16454.13157894737,16454.13157894737,16454.13157894737,16454.13157894737,16454.13157894737,16454.13157894737,16454.13157894737,16454.13157894737,16454.13157894737,16454.13157894737,16454.13157894737,16454.13157894737,16454.13157894737,16454.13157894737,16454.13157894737,16454.13157894737,16454.13157894737,16454.13157894737,16454.13157894737,16454.13157894737,17355.26153846154,17355.26153846154,17355.26153846154,17355.26153846154,17355.26153846154,17355.26153846154,17355.26153846154,17247.011235955055,17247.011235955055,17247.011235955055,17247.011235955055,17247.011235955055,17247.011235955055,17247.011235955055,17247.011235955055,17247.011235955055,17247.011235955055,17247.011235955055,17247.011235955055,17247.011235955055,17247.011235955055,17247.011235955055,17247.011235955055,17247.011235955055,17247.011235955055,17247.011235955055,17247.011235955055,17247.011235955055,17247.011235955055,17247.011235955055,15255.48,15255.48,15255.48,15255.48,15255.48,15255.48,15255.48,15255.48,15255.48,15255.48,15255.48,15255.48,17309.929824561405,17309.929824561405,17309.929824561405,17309.929824561405,17309.929824561405,17309.929824561405,17309.929824561405,17309.929824561405,17309.929824561405,17309.929824561405,17309.929824561405,17309.929824561405,17309.929824561405,17309.929824561405,17309.929824561405,17309.929824561405,17309.929824561405,17309.929824561405,17309.929824561405,17309.929824561405,17309.929824561405,17309.929824561405,17309.929824561405,17309.929824561405,17309.929824561405,18729.51851851852,18729.51851851852,18729.51851851852,18729.51851851852,17110.73076923077,17110.73076923077,17110.73076923077,17110.73076923077,17110.73076923077,17110.73076923077,17110.73076923077,17110.73076923077,17110.73076923077,17110.73076923077,19029.734375,19029.734375,19029.734375,19029.734375,19029.734375,19029.734375,19029.734375,19029.734375,19029.734375,19029.734375,16407.266666666666,16407.266666666666,16407.266666666666,16407.266666666666,16407.266666666666,16407.266666666666,16979.1,16979.1,16979.1,16979.1,16979.1,16979.1,16979.1,16979.1,16979.1,16979.1,16979.1,16979.1,16979.1,16979.1,16979.1,16979.1,16737.797872340427,16737.797872340427,16737.797872340427,16737.797872340427,16737.797872340427,16737.797872340427,16737.797872340427,16737.797872340427,16737.797872340427,16737.797872340427,16737.797872340427,16737.797872340427,16737.797872340427,16737.797872340427,16737.797872340427,16737.797872340427,16737.797872340427,16737.797872340427,16737.797872340427,16737.797872340427,16737.797872340427,16737.797872340427,16737.797872340427,16737.797872340427,16737.797872340427,16737.797872340427,16343.5,16343.5,16343.5,16343.5,16343.5,16343.5,16343.5,16343.5,17059.253424657534,17059.253424657534,17059.253424657534,17059.253424657534,17059.253424657534,17059.253424657534,17059.253424657534,17059.253424657534,17059.253424657534,17059.253424657534,17059.253424657534,17059.253424657534,17059.253424657534,17059.253424657534,17059.253424657534,17059.253424657534,17059.253424657534,17059.253424657534,17059.253424657534,17059.253424657534,17059.253424657534,17059.253424657534,17059.253424657534,17059.253424657534,17059.253424657534,17059.253424657534,17059.253424657534,17059.253424657534,17059.253424657534,17059.253424657534,17059.253424657534,17059.253424657534,17059.253424657534,17059.253424657534,17059.253424657534,17059.253424657534,17059.253424657534,17059.253424657534,17059.253424657534,17059.253424657534,17059.253424657534,17059.253424657534,17059.253424657534,17059.253424657534,17059.253424657534,17059.253424657534,17059.253424657534,17059.253424657534,17059.253424657534,17059.253424657534,17059.253424657534,17059.253424657534,15705.24705882353,15705.24705882353,15705.24705882353,15705.24705882353,15705.24705882353,15705.24705882353,15705.24705882353,15705.24705882353,15705.24705882353,15705.24705882353,15705.24705882353,15705.24705882353,15705.24705882353,15705.24705882353,15705.24705882353,15705.24705882353,15705.24705882353,15705.24705882353,15705.24705882353,15705.24705882353,15705.24705882353,15705.24705882353,15705.24705882353,15705.24705882353,15162.461538461539,15162.461538461539,15162.461538461539,15162.461538461539,15162.461538461539,15162.461538461539,15162.461538461539,15162.461538461539,15162.461538461539,15162.461538461539,15162.461538461539,15162.461538461539,15162.461538461539,15162.461538461539,15162.461538461539,15162.461538461539,15162.461538461539,15162.461538461539,15162.461538461539,15162.461538461539,15162.461538461539,15162.461538461539,17613.713333333333,17613.713333333333,17613.713333333333,17613.713333333333,17613.713333333333,17613.713333333333,17613.713333333333,17613.713333333333,17613.713333333333,17613.713333333333,17613.713333333333,17613.713333333333,17613.713333333333,17613.713333333333,17613.713333333333,17613.713333333333,17613.713333333333,17613.713333333333,17613.713333333333,17613.713333333333,17613.713333333333,17613.713333333333,17613.713333333333,17613.713333333333,17613.713333333333,17613.713333333333,17613.713333333333,17613.713333333333,17613.713333333333,17613.713333333333,17613.713333333333,17613.713333333333,17613.713333333333,17613.713333333333,17613.713333333333,17613.713333333333,15490.2,15490.2,16929.654545454545,16929.654545454545,16929.654545454545,16929.654545454545,16929.654545454545,16929.654545454545,16929.654545454545,16929.654545454545,16929.654545454545,16929.654545454545,16929.654545454545,16929.654545454545,16929.654545454545,16929.654545454545,16929.654545454545,13864.157894736842,13864.157894736842,13864.157894736842,13864.157894736842,13864.157894736842,13864.157894736842,13864.157894736842,16775.604395604394,16775.604395604394,16775.604395604394,16775.604395604394,16775.604395604394,16775.604395604394,16775.604395604394,16775.604395604394,16775.604395604394,16775.604395604394,16775.604395604394,16775.604395604394,16775.604395604394,16775.604395604394,16775.604395604394,16775.604395604394,16775.604395604394,16775.604395604394,16775.604395604394,16775.604395604394,16775.604395604394,16995.533834586466,16995.533834586466,16995.533834586466,16995.533834586466,16995.533834586466,16995.533834586466,16995.533834586466,16995.533834586466,16995.533834586466,16995.533834586466,16995.533834586466,16995.533834586466,16995.533834586466,16995.533834586466,16995.533834586466,16995.533834586466,16995.533834586466,16995.533834586466,16995.533834586466,16995.533834586466,16995.533834586466,16995.533834586466,16995.533834586466,16995.533834586466,16995.533834586466,16995.533834586466,16995.533834586466,16995.533834586466,16995.533834586466,16995.533834586466,16995.533834586466,16995.533834586466,16995.533834586466,16995.533834586466,16995.533834586466,16995.533834586466,16995.533834586466,16995.533834586466,16995.533834586466,16995.533834586466,16995.533834586466,16995.533834586466,16995.533834586466,16995.533834586466,16995.533834586466,16995.533834586466,16995.533834586466,16995.533834586466,16995.533834586466,16995.533834586466,16995.533834586466,16995.533834586466,16995.533834586466,16995.533834586466,16995.533834586466,16995.533834586466,16995.533834586466,16995.533834586466,16995.533834586466,16995.533834586466,16995.533834586466,16995.533834586466,16995.533834586466,16995.533834586466,16995.533834586466,16995.533834586466,16995.533834586466,16995.533834586466,16995.533834586466,16995.533834586466,16995.533834586466,16995.533834586466,16995.533834586466,16216.970588235294,16216.970588235294,16216.970588235294,16216.970588235294,16216.970588235294,16216.970588235294,16216.970588235294,16216.970588235294,16216.970588235294,16216.970588235294,16216.970588235294,16216.970588235294,16216.970588235294,16216.970588235294,16216.970588235294,16216.970588235294,16216.970588235294,16216.970588235294,16216.970588235294,16216.970588235294,16216.970588235294,15519.083333333334,15519.083333333334,15519.083333333334,15519.083333333334,15519.083333333334,16736.077922077922,16736.077922077922,16736.077922077922,16736.077922077922,16736.077922077922,16736.077922077922,16736.077922077922,16736.077922077922,16736.077922077922,16736.077922077922,16736.077922077922,16736.077922077922,16736.077922077922,16736.077922077922,16736.077922077922,16736.077922077922,16736.077922077922,16736.077922077922,16736.077922077922,16736.077922077922,16736.077922077922,16736.077922077922,16736.077922077922,16736.077922077922,16733.867647058825,16733.867647058825,16733.867647058825,16733.867647058825,16733.867647058825,16733.867647058825,16733.867647058825,16733.867647058825,16733.867647058825,16733.867647058825,16733.867647058825,16733.867647058825,16733.867647058825,16733.867647058825,16733.867647058825,16733.867647058825,16733.867647058825,16733.867647058825,16733.867647058825,16683.128205128207,16683.128205128207,16683.128205128207,16683.128205128207,16683.128205128207,16683.128205128207,16683.128205128207,16683.128205128207,16331.175925925925,16331.175925925925,16331.175925925925,16331.175925925925,16331.175925925925,16331.175925925925,16331.175925925925,16331.175925925925,16331.175925925925,16331.175925925925,16331.175925925925,16331.175925925925,16331.175925925925,16331.175925925925,16331.175925925925,16331.175925925925,16331.175925925925,16331.175925925925,16331.175925925925,16331.175925925925,16331.175925925925,16331.175925925925,16331.175925925925,16331.175925925925,16331.175925925925,16331.175925925925,16331.175925925925,16331.175925925925,16331.175925925925,16331.175925925925,16331.175925925925,16331.175925925925,16331.175925925925,16331.175925925925,16331.175925925925,16331.175925925925,16331.175925925925,16331.175925925925,16331.175925925925,16331.175925925925,16331.175925925925,16331.175925925925,16331.175925925925,16331.175925925925,16331.175925925925,16331.175925925925,16331.175925925925,16331.175925925925,16331.175925925925,16331.175925925925,16331.175925925925,16331.175925925925,16331.175925925925,16331.175925925925,16331.175925925925,16331.175925925925,16331.175925925925,16331.175925925925,16331.175925925925,15311.555555555555,15311.555555555555,15311.555555555555,15311.555555555555,15311.555555555555,15311.555555555555,16995.533834586466,16995.533834586466,16995.533834586466,16995.533834586466,16995.533834586466,16995.533834586466,16995.533834586466,16995.533834586466,16995.533834586466,16995.533834586466,16995.533834586466,16264.227848101265,16264.227848101265,16264.227848101265,16264.227848101265,16264.227848101265,14440.0,14440.0,17446.0,17446.0,17446.0,17446.0,16838.5,16838.5,16642.006756756757,16642.006756756757,16642.006756756757,16642.006756756757,16642.006756756757,16642.006756756757,16642.006756756757,16642.006756756757,16642.006756756757,16642.006756756757,16642.006756756757,16642.006756756757,16642.006756756757,16642.006756756757,16642.006756756757,16642.006756756757,16642.006756756757,16642.006756756757,16642.006756756757,16642.006756756757,16642.006756756757,16449.78947368421,16449.78947368421,16449.78947368421,16449.78947368421,16449.78947368421,16449.78947368421,17994.207100591717,17994.207100591717,17994.207100591717,17994.207100591717,17994.207100591717,17994.207100591717,17994.207100591717,17994.207100591717,17994.207100591717,16506.212962962964,16506.212962962964,16506.212962962964,16506.212962962964,16506.212962962964,16682.23076923077,16682.23076923077,16682.23076923077,15244.36,15244.36,15244.36,15244.36,15244.36,17372.552147239265,17372.552147239265,17372.552147239265,17372.552147239265,17372.552147239265,17372.552147239265,17372.552147239265,17372.552147239265,17372.552147239265,17372.552147239265,17372.552147239265,17372.552147239265,16718.081818181818,16718.081818181818,16718.081818181818,16718.081818181818,16718.081818181818,16718.081818181818,16718.081818181818,16718.081818181818,16718.081818181818,16718.081818181818,16718.081818181818,16718.081818181818,16718.081818181818,16856.095238095237,16856.095238095237,16856.095238095237,16856.095238095237,16856.095238095237,16856.095238095237,16856.095238095237,16465.628571428573,16465.628571428573,16465.628571428573,16465.628571428573,16465.628571428573,16465.628571428573,16465.628571428573,16465.628571428573,16735.170731707316,16286.41975308642,16286.41975308642,16286.41975308642,16570.03125,16570.03125,16570.03125,16988.666666666668,16988.666666666668,16988.666666666668,16988.666666666668,16988.666666666668,17144.053571428572,17144.053571428572,17144.053571428572,17144.053571428572,17144.053571428572,17144.053571428572,17144.053571428572,16827.629310344826,16827.629310344826,16827.629310344826,16827.629310344826,16827.629310344826,16827.629310344826,16827.629310344826,16827.629310344826,16827.629310344826,16827.629310344826,16827.629310344826,16454.13157894737,16454.13157894737,16454.13157894737,16454.13157894737,16454.13157894737,16454.13157894737,16454.13157894737,16454.13157894737,17355.26153846154,17247.011235955055,17247.011235955055,17247.011235955055,17247.011235955055,17247.011235955055,17247.011235955055,15255.48,15255.48,15255.48,17309.929824561405,17309.929824561405,17110.73076923077,17110.73076923077,17110.73076923077,19029.734375,19029.734375,19029.734375,19029.734375,19029.734375,19029.734375,16979.1,16737.797872340427,16737.797872340427,16737.797872340427,16737.797872340427,16737.797872340427,16737.797872340427,16737.797872340427,17059.253424657534,17059.253424657534,17059.253424657534,17059.253424657534,17059.253424657534,17059.253424657534,17059.253424657534,17059.253424657534,17059.253424657534,17059.253424657534,17059.253424657534,17059.253424657534,17059.253424657534,17059.253424657534,17059.253424657534,17059.253424657534,17059.253424657534,17059.253424657534,17059.253424657534,17059.253424657534,15705.24705882353,15705.24705882353,15705.24705882353,15705.24705882353,15705.24705882353,15705.24705882353,15705.24705882353,15705.24705882353,15705.24705882353,15162.461538461539,15162.461538461539,15162.461538461539,17613.713333333333,17613.713333333333,17613.713333333333,17613.713333333333,17613.713333333333,17613.713333333333,17613.713333333333,17613.713333333333,17613.713333333333,17613.713333333333,17613.713333333333,15490.2,15490.2,16929.654545454545,16929.654545454545,16929.654545454545,16929.654545454545,16929.654545454545,13864.157894736842,13864.157894736842,13864.157894736842,13864.157894736842,13864.157894736842,16775.604395604394,16995.533834586466,16995.533834586466,16995.533834586466,16995.533834586466,16995.533834586466,16995.533834586466,16995.533834586466,16995.533834586466,16995.533834586466,16995.533834586466,16995.533834586466,16995.533834586466,16995.533834586466,16995.533834586466,16995.533834586466,16995.533834586466,16216.970588235294,16216.970588235294,16216.970588235294,16216.970588235294,16736.077922077922,16736.077922077922,16736.077922077922,16736.077922077922,16736.077922077922,16736.077922077922,16736.077922077922,16736.077922077922,16736.077922077922,16733.867647058825,16733.867647058825,16733.867647058825,16733.867647058825,16733.867647058825,16733.867647058825,16683.128205128207,16331.175925925925,16331.175925925925,16331.175925925925,16331.175925925925,16331.175925925925,16331.175925925925,16331.175925925925,16331.175925925925,16331.175925925925,16331.175925925925,16331.175925925925,16331.175925925925,16331.175925925925,16331.175925925925,16331.175925925925,16331.175925925925,16331.175925925925,16331.175925925925,16331.175925925925,16331.175925925925,16331.175925925925,16331.175925925925,15311.555555555555,16995.533834586466,16995.533834586466,16995.533834586466,16995.533834586466,16995.533834586466,16995.533834586466,16995.533834586466,16995.533834586466],\"type\":\"choropleth\"}],                        {\"template\":{\"data\":{\"histogram2dcontour\":[{\"type\":\"histogram2dcontour\",\"colorbar\":{\"outlinewidth\":0,\"ticks\":\"\"},\"colorscale\":[[0.0,\"#0d0887\"],[0.1111111111111111,\"#46039f\"],[0.2222222222222222,\"#7201a8\"],[0.3333333333333333,\"#9c179e\"],[0.4444444444444444,\"#bd3786\"],[0.5555555555555556,\"#d8576b\"],[0.6666666666666666,\"#ed7953\"],[0.7777777777777778,\"#fb9f3a\"],[0.8888888888888888,\"#fdca26\"],[1.0,\"#f0f921\"]]}],\"choropleth\":[{\"type\":\"choropleth\",\"colorbar\":{\"outlinewidth\":0,\"ticks\":\"\"}}],\"histogram2d\":[{\"type\":\"histogram2d\",\"colorbar\":{\"outlinewidth\":0,\"ticks\":\"\"},\"colorscale\":[[0.0,\"#0d0887\"],[0.1111111111111111,\"#46039f\"],[0.2222222222222222,\"#7201a8\"],[0.3333333333333333,\"#9c179e\"],[0.4444444444444444,\"#bd3786\"],[0.5555555555555556,\"#d8576b\"],[0.6666666666666666,\"#ed7953\"],[0.7777777777777778,\"#fb9f3a\"],[0.8888888888888888,\"#fdca26\"],[1.0,\"#f0f921\"]]}],\"heatmap\":[{\"type\":\"heatmap\",\"colorbar\":{\"outlinewidth\":0,\"ticks\":\"\"},\"colorscale\":[[0.0,\"#0d0887\"],[0.1111111111111111,\"#46039f\"],[0.2222222222222222,\"#7201a8\"],[0.3333333333333333,\"#9c179e\"],[0.4444444444444444,\"#bd3786\"],[0.5555555555555556,\"#d8576b\"],[0.6666666666666666,\"#ed7953\"],[0.7777777777777778,\"#fb9f3a\"],[0.8888888888888888,\"#fdca26\"],[1.0,\"#f0f921\"]]}],\"heatmapgl\":[{\"type\":\"heatmapgl\",\"colorbar\":{\"outlinewidth\":0,\"ticks\":\"\"},\"colorscale\":[[0.0,\"#0d0887\"],[0.1111111111111111,\"#46039f\"],[0.2222222222222222,\"#7201a8\"],[0.3333333333333333,\"#9c179e\"],[0.4444444444444444,\"#bd3786\"],[0.5555555555555556,\"#d8576b\"],[0.6666666666666666,\"#ed7953\"],[0.7777777777777778,\"#fb9f3a\"],[0.8888888888888888,\"#fdca26\"],[1.0,\"#f0f921\"]]}],\"contourcarpet\":[{\"type\":\"contourcarpet\",\"colorbar\":{\"outlinewidth\":0,\"ticks\":\"\"}}],\"contour\":[{\"type\":\"contour\",\"colorbar\":{\"outlinewidth\":0,\"ticks\":\"\"},\"colorscale\":[[0.0,\"#0d0887\"],[0.1111111111111111,\"#46039f\"],[0.2222222222222222,\"#7201a8\"],[0.3333333333333333,\"#9c179e\"],[0.4444444444444444,\"#bd3786\"],[0.5555555555555556,\"#d8576b\"],[0.6666666666666666,\"#ed7953\"],[0.7777777777777778,\"#fb9f3a\"],[0.8888888888888888,\"#fdca26\"],[1.0,\"#f0f921\"]]}],\"surface\":[{\"type\":\"surface\",\"colorbar\":{\"outlinewidth\":0,\"ticks\":\"\"},\"colorscale\":[[0.0,\"#0d0887\"],[0.1111111111111111,\"#46039f\"],[0.2222222222222222,\"#7201a8\"],[0.3333333333333333,\"#9c179e\"],[0.4444444444444444,\"#bd3786\"],[0.5555555555555556,\"#d8576b\"],[0.6666666666666666,\"#ed7953\"],[0.7777777777777778,\"#fb9f3a\"],[0.8888888888888888,\"#fdca26\"],[1.0,\"#f0f921\"]]}],\"mesh3d\":[{\"type\":\"mesh3d\",\"colorbar\":{\"outlinewidth\":0,\"ticks\":\"\"}}],\"scatter\":[{\"fillpattern\":{\"fillmode\":\"overlay\",\"size\":10,\"solidity\":0.2},\"type\":\"scatter\"}],\"parcoords\":[{\"type\":\"parcoords\",\"line\":{\"colorbar\":{\"outlinewidth\":0,\"ticks\":\"\"}}}],\"scatterpolargl\":[{\"type\":\"scatterpolargl\",\"marker\":{\"colorbar\":{\"outlinewidth\":0,\"ticks\":\"\"}}}],\"bar\":[{\"error_x\":{\"color\":\"#2a3f5f\"},\"error_y\":{\"color\":\"#2a3f5f\"},\"marker\":{\"line\":{\"color\":\"#E5ECF6\",\"width\":0.5},\"pattern\":{\"fillmode\":\"overlay\",\"size\":10,\"solidity\":0.2}},\"type\":\"bar\"}],\"scattergeo\":[{\"type\":\"scattergeo\",\"marker\":{\"colorbar\":{\"outlinewidth\":0,\"ticks\":\"\"}}}],\"scatterpolar\":[{\"type\":\"scatterpolar\",\"marker\":{\"colorbar\":{\"outlinewidth\":0,\"ticks\":\"\"}}}],\"histogram\":[{\"marker\":{\"pattern\":{\"fillmode\":\"overlay\",\"size\":10,\"solidity\":0.2}},\"type\":\"histogram\"}],\"scattergl\":[{\"type\":\"scattergl\",\"marker\":{\"colorbar\":{\"outlinewidth\":0,\"ticks\":\"\"}}}],\"scatter3d\":[{\"type\":\"scatter3d\",\"line\":{\"colorbar\":{\"outlinewidth\":0,\"ticks\":\"\"}},\"marker\":{\"colorbar\":{\"outlinewidth\":0,\"ticks\":\"\"}}}],\"scattermapbox\":[{\"type\":\"scattermapbox\",\"marker\":{\"colorbar\":{\"outlinewidth\":0,\"ticks\":\"\"}}}],\"scatterternary\":[{\"type\":\"scatterternary\",\"marker\":{\"colorbar\":{\"outlinewidth\":0,\"ticks\":\"\"}}}],\"scattercarpet\":[{\"type\":\"scattercarpet\",\"marker\":{\"colorbar\":{\"outlinewidth\":0,\"ticks\":\"\"}}}],\"carpet\":[{\"aaxis\":{\"endlinecolor\":\"#2a3f5f\",\"gridcolor\":\"white\",\"linecolor\":\"white\",\"minorgridcolor\":\"white\",\"startlinecolor\":\"#2a3f5f\"},\"baxis\":{\"endlinecolor\":\"#2a3f5f\",\"gridcolor\":\"white\",\"linecolor\":\"white\",\"minorgridcolor\":\"white\",\"startlinecolor\":\"#2a3f5f\"},\"type\":\"carpet\"}],\"table\":[{\"cells\":{\"fill\":{\"color\":\"#EBF0F8\"},\"line\":{\"color\":\"white\"}},\"header\":{\"fill\":{\"color\":\"#C8D4E3\"},\"line\":{\"color\":\"white\"}},\"type\":\"table\"}],\"barpolar\":[{\"marker\":{\"line\":{\"color\":\"#E5ECF6\",\"width\":0.5},\"pattern\":{\"fillmode\":\"overlay\",\"size\":10,\"solidity\":0.2}},\"type\":\"barpolar\"}],\"pie\":[{\"automargin\":true,\"type\":\"pie\"}]},\"layout\":{\"autotypenumbers\":\"strict\",\"colorway\":[\"#636efa\",\"#EF553B\",\"#00cc96\",\"#ab63fa\",\"#FFA15A\",\"#19d3f3\",\"#FF6692\",\"#B6E880\",\"#FF97FF\",\"#FECB52\"],\"font\":{\"color\":\"#2a3f5f\"},\"hovermode\":\"closest\",\"hoverlabel\":{\"align\":\"left\"},\"paper_bgcolor\":\"white\",\"plot_bgcolor\":\"#E5ECF6\",\"polar\":{\"bgcolor\":\"#E5ECF6\",\"angularaxis\":{\"gridcolor\":\"white\",\"linecolor\":\"white\",\"ticks\":\"\"},\"radialaxis\":{\"gridcolor\":\"white\",\"linecolor\":\"white\",\"ticks\":\"\"}},\"ternary\":{\"bgcolor\":\"#E5ECF6\",\"aaxis\":{\"gridcolor\":\"white\",\"linecolor\":\"white\",\"ticks\":\"\"},\"baxis\":{\"gridcolor\":\"white\",\"linecolor\":\"white\",\"ticks\":\"\"},\"caxis\":{\"gridcolor\":\"white\",\"linecolor\":\"white\",\"ticks\":\"\"}},\"coloraxis\":{\"colorbar\":{\"outlinewidth\":0,\"ticks\":\"\"}},\"colorscale\":{\"sequential\":[[0.0,\"#0d0887\"],[0.1111111111111111,\"#46039f\"],[0.2222222222222222,\"#7201a8\"],[0.3333333333333333,\"#9c179e\"],[0.4444444444444444,\"#bd3786\"],[0.5555555555555556,\"#d8576b\"],[0.6666666666666666,\"#ed7953\"],[0.7777777777777778,\"#fb9f3a\"],[0.8888888888888888,\"#fdca26\"],[1.0,\"#f0f921\"]],\"sequentialminus\":[[0.0,\"#0d0887\"],[0.1111111111111111,\"#46039f\"],[0.2222222222222222,\"#7201a8\"],[0.3333333333333333,\"#9c179e\"],[0.4444444444444444,\"#bd3786\"],[0.5555555555555556,\"#d8576b\"],[0.6666666666666666,\"#ed7953\"],[0.7777777777777778,\"#fb9f3a\"],[0.8888888888888888,\"#fdca26\"],[1.0,\"#f0f921\"]],\"diverging\":[[0,\"#8e0152\"],[0.1,\"#c51b7d\"],[0.2,\"#de77ae\"],[0.3,\"#f1b6da\"],[0.4,\"#fde0ef\"],[0.5,\"#f7f7f7\"],[0.6,\"#e6f5d0\"],[0.7,\"#b8e186\"],[0.8,\"#7fbc41\"],[0.9,\"#4d9221\"],[1,\"#276419\"]]},\"xaxis\":{\"gridcolor\":\"white\",\"linecolor\":\"white\",\"ticks\":\"\",\"title\":{\"standoff\":15},\"zerolinecolor\":\"white\",\"automargin\":true,\"zerolinewidth\":2},\"yaxis\":{\"gridcolor\":\"white\",\"linecolor\":\"white\",\"ticks\":\"\",\"title\":{\"standoff\":15},\"zerolinecolor\":\"white\",\"automargin\":true,\"zerolinewidth\":2},\"scene\":{\"xaxis\":{\"backgroundcolor\":\"#E5ECF6\",\"gridcolor\":\"white\",\"linecolor\":\"white\",\"showbackground\":true,\"ticks\":\"\",\"zerolinecolor\":\"white\",\"gridwidth\":2},\"yaxis\":{\"backgroundcolor\":\"#E5ECF6\",\"gridcolor\":\"white\",\"linecolor\":\"white\",\"showbackground\":true,\"ticks\":\"\",\"zerolinecolor\":\"white\",\"gridwidth\":2},\"zaxis\":{\"backgroundcolor\":\"#E5ECF6\",\"gridcolor\":\"white\",\"linecolor\":\"white\",\"showbackground\":true,\"ticks\":\"\",\"zerolinecolor\":\"white\",\"gridwidth\":2}},\"shapedefaults\":{\"line\":{\"color\":\"#2a3f5f\"}},\"annotationdefaults\":{\"arrowcolor\":\"#2a3f5f\",\"arrowhead\":0,\"arrowwidth\":1},\"geo\":{\"bgcolor\":\"white\",\"landcolor\":\"#E5ECF6\",\"subunitcolor\":\"white\",\"showland\":true,\"showlakes\":true,\"lakecolor\":\"white\"},\"title\":{\"x\":0.05},\"mapbox\":{\"style\":\"light\"}}},\"title\":{\"text\":\"Average Cost of Pneumonia Care by State\"},\"geo\":{\"scope\":\"usa\"}},                        {\"responsive\": true}                    ).then(function(){\n",
              "                            \n",
              "var gd = document.getElementById('6ca14931-cd52-4544-82ee-94986d005d2f');\n",
              "var x = new MutationObserver(function (mutations, observer) {{\n",
              "        var display = window.getComputedStyle(gd).display;\n",
              "        if (!display || display === 'none') {{\n",
              "            console.log([gd, 'removed!']);\n",
              "            Plotly.purge(gd);\n",
              "            observer.disconnect();\n",
              "        }}\n",
              "}});\n",
              "\n",
              "// Listen for the removal of the full notebook cells\n",
              "var notebookContainer = gd.closest('#notebook-container');\n",
              "if (notebookContainer) {{\n",
              "    x.observe(notebookContainer, {childList: true});\n",
              "}}\n",
              "\n",
              "// Listen for the clearing of the current output cell\n",
              "var outputEl = gd.closest('.output');\n",
              "if (outputEl) {{\n",
              "    x.observe(outputEl, {childList: true});\n",
              "}}\n",
              "\n",
              "                        })                };                            </script>        </div>\n",
              "</body>\n",
              "</html>"
            ]
          },
          "metadata": {}
        },
        {
          "output_type": "display_data",
          "data": {
            "text/html": [
              "<html>\n",
              "<head><meta charset=\"utf-8\" /></head>\n",
              "<body>\n",
              "    <div>            <script src=\"https://cdnjs.cloudflare.com/ajax/libs/mathjax/2.7.5/MathJax.js?config=TeX-AMS-MML_SVG\"></script><script type=\"text/javascript\">if (window.MathJax && window.MathJax.Hub && window.MathJax.Hub.Config) {window.MathJax.Hub.Config({SVG: {font: \"STIX-Web\"}});}</script>                <script type=\"text/javascript\">window.PlotlyConfig = {MathJaxConfig: 'local'};</script>\n",
              "        <script src=\"https://cdn.plot.ly/plotly-2.12.1.min.js\"></script>                <div id=\"7048ac7a-6cf2-405e-92c7-6ed0b5cd6759\" class=\"plotly-graph-div\" style=\"height:525px; width:100%;\"></div>            <script type=\"text/javascript\">                                    window.PLOTLYENV=window.PLOTLYENV || {};                                    if (document.getElementById(\"7048ac7a-6cf2-405e-92c7-6ed0b5cd6759\")) {                    Plotly.newPlot(                        \"7048ac7a-6cf2-405e-92c7-6ed0b5cd6759\",                        [{\"colorbar\":{\"title\":{\"text\":\"Hip and Knee Care in Dollars\"}},\"colorscale\":[[0.0,\"rgb(247,251,255)\"],[0.125,\"rgb(222,235,247)\"],[0.25,\"rgb(198,219,239)\"],[0.375,\"rgb(158,202,225)\"],[0.5,\"rgb(107,174,214)\"],[0.625,\"rgb(66,146,198)\"],[0.75,\"rgb(33,113,181)\"],[0.875,\"rgb(8,81,156)\"],[1.0,\"rgb(8,48,107)\"]],\"locationmode\":\"USA-states\",\"locations\":[\"AL\",\"AL\",\"AL\",\"AL\",\"AL\",\"AZ\",\"AZ\",\"AR\",\"AR\",\"AR\",\"AR\",\"AR\",\"AR\",\"AR\",\"AR\",\"CA\",\"CA\",\"CA\",\"CA\",\"CA\",\"CA\",\"CA\",\"CA\",\"CA\",\"CA\",\"CA\",\"CA\",\"CA\",\"CA\",\"CA\",\"CA\",\"CA\",\"CA\",\"CA\",\"CA\",\"CA\",\"CA\",\"CA\",\"CA\",\"CT\",\"CT\",\"CT\",\"CT\",\"CT\",\"CT\",\"DC\",\"DC\",\"DC\",\"DC\",\"DC\",\"FL\",\"FL\",\"FL\",\"FL\",\"FL\",\"FL\",\"FL\",\"FL\",\"FL\",\"FL\",\"FL\",\"FL\",\"FL\",\"FL\",\"FL\",\"FL\",\"FL\",\"FL\",\"FL\",\"FL\",\"FL\",\"FL\",\"FL\",\"FL\",\"FL\",\"FL\",\"FL\",\"FL\",\"FL\",\"FL\",\"FL\",\"FL\",\"GA\",\"GA\",\"GA\",\"GA\",\"GA\",\"GA\",\"GA\",\"GA\",\"GA\",\"GA\",\"GA\",\"GA\",\"IL\",\"IL\",\"IL\",\"IL\",\"IL\",\"IL\",\"IL\",\"IL\",\"IL\",\"IL\",\"IL\",\"IL\",\"IL\",\"IL\",\"IL\",\"IL\",\"IA\",\"KS\",\"KY\",\"KY\",\"KY\",\"KY\",\"KY\",\"KY\",\"LA\",\"LA\",\"MD\",\"MD\",\"MD\",\"MD\",\"MD\",\"MD\",\"MA\",\"MA\",\"MA\",\"MA\",\"MI\",\"MI\",\"MI\",\"MI\",\"MN\",\"MS\",\"MS\",\"MS\",\"MS\",\"MS\",\"MS\",\"MO\",\"MO\",\"MO\",\"MO\",\"MO\",\"MO\",\"MO\",\"NE\",\"NV\",\"NV\",\"NV\",\"NV\",\"NV\",\"NV\",\"NV\",\"NV\",\"NV\",\"NV\",\"NJ\",\"NJ\",\"NJ\",\"NJ\",\"NJ\",\"NJ\",\"NJ\",\"NJ\",\"NM\",\"NM\",\"NM\",\"NY\",\"NY\",\"NY\",\"NY\",\"NY\",\"NY\",\"NY\",\"NY\",\"NY\",\"NY\",\"NY\",\"NY\",\"NY\",\"NY\",\"NY\",\"NY\",\"NY\",\"NY\",\"NY\",\"NY\",\"NY\",\"NY\",\"NY\",\"NY\",\"NY\",\"NY\",\"NY\",\"NY\",\"NY\",\"NY\",\"NY\",\"NY\",\"NY\",\"NY\",\"NY\",\"NY\",\"NY\",\"NY\",\"NY\",\"NY\",\"NY\",\"NY\",\"NY\",\"NY\",\"NY\",\"NY\",\"NY\",\"NY\",\"NC\",\"NC\",\"NC\",\"NC\",\"NC\",\"NC\",\"NC\",\"ND\",\"ND\",\"OH\",\"OH\",\"OK\",\"OK\",\"OK\",\"OK\",\"OK\",\"PA\",\"PA\",\"PA\",\"PA\",\"PA\",\"PA\",\"PA\",\"PA\",\"PA\",\"PA\",\"PA\",\"PA\",\"PA\",\"PR\",\"PR\",\"PR\",\"SC\",\"SC\",\"SC\",\"TN\",\"TN\",\"TN\",\"TN\",\"TN\",\"TN\",\"TN\",\"TN\",\"TN\",\"TN\",\"TX\",\"TX\",\"TX\",\"TX\",\"TX\",\"TX\",\"TX\",\"TX\",\"TX\",\"TX\",\"VA\",\"VA\",\"VA\",\"WA\",\"WA\",\"WV\",\"WV\",\"WI\",\"AL\",\"AL\",\"AL\",\"AL\",\"AL\",\"AL\",\"AL\",\"AL\",\"AL\",\"AL\",\"AL\",\"AL\",\"AL\",\"AL\",\"AL\",\"AL\",\"AL\",\"AL\",\"AL\",\"AL\",\"AL\",\"AL\",\"AL\",\"AK\",\"AZ\",\"AZ\",\"AZ\",\"AZ\",\"AZ\",\"AZ\",\"AZ\",\"AZ\",\"AZ\",\"AZ\",\"AZ\",\"AZ\",\"AZ\",\"AZ\",\"AZ\",\"AZ\",\"AR\",\"AR\",\"AR\",\"AR\",\"AR\",\"AR\",\"AR\",\"AR\",\"AR\",\"AR\",\"AR\",\"AR\",\"AR\",\"AR\",\"AR\",\"AR\",\"AR\",\"AR\",\"AR\",\"AR\",\"CA\",\"CA\",\"CA\",\"CA\",\"CA\",\"CA\",\"CA\",\"CA\",\"CA\",\"CA\",\"CA\",\"CA\",\"CA\",\"CA\",\"CA\",\"CA\",\"CA\",\"CA\",\"CA\",\"CA\",\"CA\",\"CA\",\"CA\",\"CA\",\"CA\",\"CA\",\"CA\",\"CA\",\"CA\",\"CA\",\"CA\",\"CA\",\"CA\",\"CA\",\"CA\",\"CA\",\"CA\",\"CA\",\"CA\",\"CA\",\"CA\",\"CA\",\"CA\",\"CA\",\"CA\",\"CA\",\"CA\",\"CA\",\"CA\",\"CA\",\"CA\",\"CA\",\"CA\",\"CA\",\"CA\",\"CA\",\"CA\",\"CA\",\"CA\",\"CA\",\"CA\",\"CA\",\"CA\",\"CA\",\"CA\",\"CA\",\"CA\",\"CA\",\"CA\",\"CA\",\"CA\",\"CA\",\"CA\",\"CA\",\"CA\",\"CA\",\"CA\",\"CA\",\"CA\",\"CA\",\"CA\",\"CA\",\"CA\",\"CA\",\"CA\",\"CA\",\"CA\",\"CA\",\"CA\",\"CA\",\"CA\",\"CA\",\"CA\",\"CA\",\"CA\",\"CA\",\"CO\",\"CO\",\"CO\",\"CT\",\"CT\",\"CT\",\"CT\",\"DE\",\"DE\",\"DC\",\"FL\",\"FL\",\"FL\",\"FL\",\"FL\",\"FL\",\"FL\",\"FL\",\"FL\",\"FL\",\"FL\",\"FL\",\"FL\",\"FL\",\"FL\",\"FL\",\"FL\",\"FL\",\"FL\",\"FL\",\"FL\",\"FL\",\"FL\",\"FL\",\"FL\",\"FL\",\"FL\",\"FL\",\"FL\",\"FL\",\"FL\",\"FL\",\"FL\",\"FL\",\"FL\",\"FL\",\"FL\",\"FL\",\"FL\",\"FL\",\"FL\",\"FL\",\"FL\",\"FL\",\"FL\",\"FL\",\"FL\",\"FL\",\"FL\",\"FL\",\"FL\",\"FL\",\"FL\",\"FL\",\"FL\",\"FL\",\"FL\",\"FL\",\"FL\",\"FL\",\"GA\",\"GA\",\"GA\",\"GA\",\"GA\",\"GA\",\"GA\",\"GA\",\"GA\",\"GA\",\"GA\",\"GA\",\"GA\",\"GA\",\"GA\",\"GA\",\"GA\",\"GA\",\"GA\",\"GA\",\"GA\",\"GA\",\"GA\",\"HI\",\"ID\",\"ID\",\"ID\",\"IL\",\"IL\",\"IL\",\"IL\",\"IL\",\"IL\",\"IL\",\"IL\",\"IL\",\"IL\",\"IL\",\"IL\",\"IL\",\"IL\",\"IL\",\"IL\",\"IL\",\"IL\",\"IL\",\"IL\",\"IL\",\"IL\",\"IL\",\"IL\",\"IL\",\"IL\",\"IL\",\"IL\",\"IL\",\"IL\",\"IL\",\"IN\",\"IN\",\"IN\",\"IN\",\"IN\",\"IN\",\"IN\",\"IN\",\"IN\",\"IN\",\"IA\",\"IA\",\"IA\",\"IA\",\"IA\",\"IA\",\"IA\",\"IA\",\"IA\",\"IA\",\"IA\",\"KS\",\"KS\",\"KS\",\"KS\",\"KS\",\"KS\",\"KS\",\"KS\",\"KS\",\"KS\",\"KY\",\"KY\",\"KY\",\"KY\",\"KY\",\"KY\",\"KY\",\"KY\",\"KY\",\"KY\",\"KY\",\"KY\",\"KY\",\"KY\",\"KY\",\"KY\",\"KY\",\"KY\",\"KY\",\"KY\",\"KY\",\"KY\",\"LA\",\"LA\",\"LA\",\"LA\",\"LA\",\"LA\",\"LA\",\"LA\",\"LA\",\"LA\",\"LA\",\"LA\",\"LA\",\"LA\",\"LA\",\"LA\",\"LA\",\"LA\",\"LA\",\"LA\",\"LA\",\"ME\",\"ME\",\"ME\",\"ME\",\"ME\",\"MD\",\"MD\",\"MD\",\"MD\",\"MD\",\"MD\",\"MA\",\"MA\",\"MA\",\"MA\",\"MA\",\"MA\",\"MA\",\"MA\",\"MA\",\"MA\",\"MA\",\"MA\",\"MA\",\"MA\",\"MA\",\"MI\",\"MI\",\"MI\",\"MI\",\"MI\",\"MI\",\"MI\",\"MI\",\"MI\",\"MI\",\"MI\",\"MI\",\"MI\",\"MN\",\"MN\",\"MN\",\"MN\",\"MN\",\"MS\",\"MS\",\"MS\",\"MS\",\"MS\",\"MS\",\"MS\",\"MS\",\"MS\",\"MS\",\"MS\",\"MS\",\"MS\",\"MS\",\"MS\",\"MS\",\"MS\",\"MS\",\"MS\",\"MS\",\"MS\",\"MS\",\"MS\",\"MS\",\"MS\",\"MO\",\"MO\",\"MO\",\"MO\",\"MO\",\"MO\",\"MO\",\"MO\",\"MO\",\"MO\",\"MO\",\"MO\",\"MO\",\"MO\",\"MO\",\"MO\",\"MO\",\"MT\",\"MT\",\"NE\",\"NE\",\"NE\",\"NV\",\"NV\",\"NV\",\"NV\",\"NV\",\"NV\",\"NH\",\"NH\",\"NH\",\"NH\",\"NJ\",\"NJ\",\"NJ\",\"NJ\",\"NJ\",\"NJ\",\"NJ\",\"NJ\",\"NJ\",\"NJ\",\"NJ\",\"NJ\",\"NJ\",\"NJ\",\"NJ\",\"NJ\",\"NJ\",\"NJ\",\"NJ\",\"NJ\",\"NJ\",\"NJ\",\"NJ\",\"NJ\",\"NJ\",\"NJ\",\"NM\",\"NM\",\"NM\",\"NM\",\"NM\",\"NM\",\"NM\",\"NM\",\"NY\",\"NY\",\"NY\",\"NY\",\"NY\",\"NY\",\"NY\",\"NY\",\"NY\",\"NY\",\"NY\",\"NY\",\"NY\",\"NY\",\"NY\",\"NY\",\"NY\",\"NY\",\"NY\",\"NY\",\"NY\",\"NY\",\"NY\",\"NY\",\"NY\",\"NY\",\"NY\",\"NY\",\"NY\",\"NY\",\"NY\",\"NY\",\"NY\",\"NY\",\"NY\",\"NY\",\"NY\",\"NY\",\"NY\",\"NY\",\"NY\",\"NY\",\"NY\",\"NY\",\"NY\",\"NC\",\"NC\",\"NC\",\"NC\",\"NC\",\"NC\",\"NC\",\"NC\",\"NC\",\"NC\",\"NC\",\"NC\",\"NC\",\"NC\",\"NC\",\"NC\",\"NC\",\"NC\",\"ND\",\"ND\",\"OH\",\"OH\",\"OH\",\"OH\",\"OH\",\"OH\",\"OH\",\"OH\",\"OH\",\"OH\",\"OH\",\"OH\",\"OH\",\"OH\",\"OH\",\"OH\",\"OH\",\"OH\",\"OH\",\"OH\",\"OH\",\"OH\",\"OK\",\"OK\",\"OK\",\"OK\",\"OK\",\"OK\",\"OK\",\"OK\",\"OK\",\"OK\",\"OK\",\"OK\",\"OK\",\"OK\",\"OK\",\"OK\",\"OK\",\"OK\",\"OK\",\"OR\",\"OR\",\"OR\",\"OR\",\"PA\",\"PA\",\"PA\",\"PA\",\"PA\",\"PA\",\"PA\",\"PA\",\"PA\",\"PA\",\"PA\",\"PA\",\"PA\",\"PA\",\"PA\",\"PA\",\"PA\",\"PA\",\"PA\",\"PA\",\"PA\",\"PA\",\"PA\",\"PA\",\"PA\",\"PA\",\"PA\",\"PA\",\"PA\",\"PA\",\"PA\",\"PA\",\"PA\",\"PA\",\"PA\",\"PA\",\"PA\",\"PR\",\"PR\",\"PR\",\"RI\",\"RI\",\"RI\",\"SC\",\"SC\",\"SC\",\"SC\",\"SC\",\"SC\",\"SC\",\"SC\",\"SC\",\"SC\",\"SC\",\"SC\",\"SC\",\"SC\",\"SC\",\"SD\",\"TN\",\"TN\",\"TN\",\"TN\",\"TN\",\"TN\",\"TN\",\"TN\",\"TN\",\"TN\",\"TN\",\"TN\",\"TN\",\"TN\",\"TN\",\"TN\",\"TN\",\"TN\",\"TN\",\"TN\",\"TN\",\"TN\",\"TN\",\"TN\",\"TN\",\"TN\",\"TN\",\"TX\",\"TX\",\"TX\",\"TX\",\"TX\",\"TX\",\"TX\",\"TX\",\"TX\",\"TX\",\"TX\",\"TX\",\"TX\",\"TX\",\"TX\",\"TX\",\"TX\",\"TX\",\"TX\",\"TX\",\"TX\",\"TX\",\"TX\",\"TX\",\"TX\",\"TX\",\"TX\",\"TX\",\"TX\",\"TX\",\"TX\",\"TX\",\"TX\",\"TX\",\"TX\",\"TX\",\"TX\",\"TX\",\"TX\",\"TX\",\"TX\",\"TX\",\"TX\",\"TX\",\"TX\",\"TX\",\"TX\",\"TX\",\"TX\",\"TX\",\"TX\",\"UT\",\"UT\",\"VT\",\"VI\",\"VA\",\"VA\",\"VA\",\"VA\",\"VA\",\"VA\",\"VA\",\"VA\",\"VA\",\"VA\",\"VA\",\"VA\",\"VA\",\"VA\",\"VA\",\"VA\",\"VA\",\"WA\",\"WA\",\"WA\",\"WA\",\"WA\",\"WA\",\"WA\",\"WA\",\"WA\",\"WA\",\"WA\",\"WA\",\"WA\",\"WA\",\"WA\",\"WA\",\"WA\",\"WV\",\"WV\",\"WV\",\"WV\",\"WV\",\"WV\",\"WV\",\"WV\",\"WV\",\"WV\",\"WI\",\"WI\",\"WI\",\"WI\",\"WI\",\"WY\",\"WY\",\"TX\",\"TX\",\"AL\",\"AL\",\"AL\",\"AL\",\"AL\",\"AL\",\"AL\",\"AL\",\"AL\",\"AL\",\"AL\",\"AL\",\"AL\",\"AL\",\"AL\",\"AL\",\"AL\",\"AL\",\"AL\",\"AL\",\"AL\",\"AL\",\"AL\",\"AL\",\"AL\",\"AL\",\"AL\",\"AL\",\"AL\",\"AL\",\"AL\",\"AK\",\"AK\",\"AK\",\"AZ\",\"AZ\",\"AZ\",\"AZ\",\"AZ\",\"AZ\",\"AZ\",\"AZ\",\"AZ\",\"AZ\",\"AZ\",\"AZ\",\"AZ\",\"AZ\",\"AZ\",\"AZ\",\"AZ\",\"AZ\",\"AZ\",\"AR\",\"AR\",\"AR\",\"AR\",\"AR\",\"AR\",\"AR\",\"AR\",\"AR\",\"AR\",\"AR\",\"AR\",\"AR\",\"AR\",\"AR\",\"AR\",\"AR\",\"AR\",\"AR\",\"AR\",\"AR\",\"AR\",\"AR\",\"CA\",\"CA\",\"CA\",\"CA\",\"CA\",\"CA\",\"CA\",\"CA\",\"CA\",\"CA\",\"CA\",\"CA\",\"CA\",\"CA\",\"CA\",\"CA\",\"CA\",\"CA\",\"CA\",\"CA\",\"CA\",\"CA\",\"CA\",\"CA\",\"CA\",\"CA\",\"CA\",\"CA\",\"CA\",\"CA\",\"CA\",\"CA\",\"CA\",\"CA\",\"CA\",\"CA\",\"CA\",\"CA\",\"CA\",\"CA\",\"CA\",\"CA\",\"CA\",\"CA\",\"CA\",\"CA\",\"CA\",\"CA\",\"CA\",\"CA\",\"CA\",\"CA\",\"CA\",\"CA\",\"CA\",\"CA\",\"CA\",\"CA\",\"CA\",\"CA\",\"CA\",\"CA\",\"CA\",\"CA\",\"CA\",\"CA\",\"CA\",\"CA\",\"CA\",\"CA\",\"CA\",\"CA\",\"CA\",\"CA\",\"CA\",\"CA\",\"CA\",\"CA\",\"CA\",\"CA\",\"CA\",\"CA\",\"CA\",\"CA\",\"CA\",\"CA\",\"CA\",\"CA\",\"CA\",\"CA\",\"CA\",\"CA\",\"CA\",\"CO\",\"CO\",\"CO\",\"CO\",\"CO\",\"CO\",\"CO\",\"CO\",\"CO\",\"CO\",\"CO\",\"CO\",\"CO\",\"CO\",\"CO\",\"CO\",\"CO\",\"CO\",\"CO\",\"CO\",\"CO\",\"CO\",\"CO\",\"CT\",\"CT\",\"CT\",\"CT\",\"CT\",\"CT\",\"CT\",\"CT\",\"CT\",\"DE\",\"DE\",\"DE\",\"DC\",\"FL\",\"FL\",\"FL\",\"FL\",\"FL\",\"FL\",\"FL\",\"FL\",\"FL\",\"FL\",\"FL\",\"FL\",\"FL\",\"FL\",\"FL\",\"FL\",\"FL\",\"FL\",\"FL\",\"FL\",\"FL\",\"FL\",\"FL\",\"FL\",\"FL\",\"FL\",\"FL\",\"FL\",\"FL\",\"FL\",\"FL\",\"FL\",\"FL\",\"FL\",\"FL\",\"FL\",\"FL\",\"FL\",\"FL\",\"FL\",\"GA\",\"GA\",\"GA\",\"GA\",\"GA\",\"GA\",\"GA\",\"GA\",\"GA\",\"GA\",\"GA\",\"GA\",\"GA\",\"GA\",\"GA\",\"GA\",\"GA\",\"GA\",\"GA\",\"GA\",\"GA\",\"GA\",\"GA\",\"GA\",\"GA\",\"GA\",\"GA\",\"GA\",\"GA\",\"GA\",\"GA\",\"GA\",\"GA\",\"GA\",\"GA\",\"GA\",\"GA\",\"GA\",\"GA\",\"GA\",\"GA\",\"GA\",\"HI\",\"HI\",\"HI\",\"HI\",\"ID\",\"ID\",\"ID\",\"ID\",\"ID\",\"ID\",\"IL\",\"IL\",\"IL\",\"IL\",\"IL\",\"IL\",\"IL\",\"IL\",\"IL\",\"IL\",\"IL\",\"IL\",\"IL\",\"IL\",\"IL\",\"IL\",\"IL\",\"IL\",\"IL\",\"IL\",\"IL\",\"IL\",\"IL\",\"IL\",\"IL\",\"IL\",\"IL\",\"IL\",\"IL\",\"IL\",\"IL\",\"IL\",\"IL\",\"IL\",\"IL\",\"IL\",\"IL\",\"IL\",\"IL\",\"IL\",\"IL\",\"IL\",\"IL\",\"IL\",\"IL\",\"IL\",\"IL\",\"IL\",\"IL\",\"IL\",\"IL\",\"IL\",\"IL\",\"IL\",\"IL\",\"IN\",\"IN\",\"IN\",\"IN\",\"IN\",\"IN\",\"IN\",\"IN\",\"IN\",\"IN\",\"IN\",\"IN\",\"IN\",\"IN\",\"IN\",\"IN\",\"IN\",\"IN\",\"IN\",\"IN\",\"IN\",\"IN\",\"IN\",\"IN\",\"IN\",\"IN\",\"IN\",\"IN\",\"IN\",\"IN\",\"IN\",\"IN\",\"IN\",\"IN\",\"IN\",\"IN\",\"IA\",\"IA\",\"IA\",\"IA\",\"IA\",\"IA\",\"IA\",\"IA\",\"IA\",\"IA\",\"IA\",\"IA\",\"IA\",\"IA\",\"IA\",\"IA\",\"IA\",\"IA\",\"IA\",\"IA\",\"IA\",\"IA\",\"IA\",\"IA\",\"IA\",\"IA\",\"IA\",\"IA\",\"IA\",\"KS\",\"KS\",\"KS\",\"KS\",\"KS\",\"KS\",\"KS\",\"KS\",\"KS\",\"KS\",\"KS\",\"KS\",\"KS\",\"KS\",\"KS\",\"KS\",\"KS\",\"KS\",\"KS\",\"KS\",\"KS\",\"KS\",\"KS\",\"KS\",\"KS\",\"KS\",\"KS\",\"KS\",\"KS\",\"KS\",\"KY\",\"KY\",\"KY\",\"KY\",\"KY\",\"KY\",\"KY\",\"KY\",\"KY\",\"KY\",\"KY\",\"KY\",\"KY\",\"KY\",\"KY\",\"KY\",\"KY\",\"KY\",\"KY\",\"KY\",\"KY\",\"KY\",\"KY\",\"KY\",\"KY\",\"KY\",\"KY\",\"KY\",\"KY\",\"KY\",\"KY\",\"KY\",\"LA\",\"LA\",\"LA\",\"LA\",\"LA\",\"LA\",\"LA\",\"LA\",\"LA\",\"LA\",\"LA\",\"LA\",\"LA\",\"LA\",\"LA\",\"LA\",\"LA\",\"LA\",\"LA\",\"LA\",\"LA\",\"LA\",\"LA\",\"LA\",\"LA\",\"LA\",\"LA\",\"LA\",\"LA\",\"LA\",\"LA\",\"LA\",\"LA\",\"LA\",\"LA\",\"ME\",\"ME\",\"ME\",\"ME\",\"ME\",\"ME\",\"ME\",\"ME\",\"ME\",\"ME\",\"MD\",\"MD\",\"MD\",\"MD\",\"MD\",\"MD\",\"MD\",\"MD\",\"MD\",\"MD\",\"MD\",\"MD\",\"MD\",\"MD\",\"MD\",\"MD\",\"MD\",\"MD\",\"MD\",\"MA\",\"MA\",\"MA\",\"MA\",\"MA\",\"MA\",\"MA\",\"MA\",\"MA\",\"MA\",\"MA\",\"MA\",\"MA\",\"MA\",\"MA\",\"MA\",\"MA\",\"MA\",\"MA\",\"MI\",\"MI\",\"MI\",\"MI\",\"MI\",\"MI\",\"MI\",\"MI\",\"MI\",\"MI\",\"MI\",\"MI\",\"MI\",\"MI\",\"MI\",\"MI\",\"MI\",\"MI\",\"MI\",\"MI\",\"MI\",\"MI\",\"MI\",\"MI\",\"MI\",\"MI\",\"MI\",\"MI\",\"MI\",\"MI\",\"MI\",\"MI\",\"MI\",\"MI\",\"MI\",\"MI\",\"MI\",\"MN\",\"MN\",\"MN\",\"MN\",\"MN\",\"MN\",\"MN\",\"MN\",\"MN\",\"MN\",\"MN\",\"MN\",\"MN\",\"MN\",\"MN\",\"MN\",\"MN\",\"MN\",\"MN\",\"MS\",\"MS\",\"MS\",\"MS\",\"MS\",\"MS\",\"MS\",\"MS\",\"MS\",\"MS\",\"MS\",\"MS\",\"MS\",\"MS\",\"MS\",\"MS\",\"MS\",\"MS\",\"MS\",\"MS\",\"MS\",\"MS\",\"MS\",\"MS\",\"MS\",\"MS\",\"MO\",\"MO\",\"MO\",\"MO\",\"MO\",\"MO\",\"MO\",\"MO\",\"MO\",\"MO\",\"MO\",\"MO\",\"MO\",\"MO\",\"MO\",\"MO\",\"MO\",\"MO\",\"MO\",\"MO\",\"MO\",\"MO\",\"MO\",\"MO\",\"MO\",\"MO\",\"MO\",\"MO\",\"MO\",\"MO\",\"MO\",\"MO\",\"MO\",\"MO\",\"MO\",\"MO\",\"MT\",\"MT\",\"MT\",\"MT\",\"MT\",\"MT\",\"MT\",\"MT\",\"NE\",\"NE\",\"NE\",\"NE\",\"NE\",\"NE\",\"NE\",\"NE\",\"NE\",\"NE\",\"NE\",\"NE\",\"NE\",\"NE\",\"NE\",\"NE\",\"NE\",\"NE\",\"NE\",\"NE\",\"NE\",\"NE\",\"NE\",\"NE\",\"NE\",\"NE\",\"NV\",\"NV\",\"NV\",\"NV\",\"NV\",\"NV\",\"NV\",\"NH\",\"NH\",\"NH\",\"NH\",\"NH\",\"NH\",\"NH\",\"NH\",\"NH\",\"NJ\",\"NJ\",\"NJ\",\"NJ\",\"NJ\",\"NJ\",\"NJ\",\"NJ\",\"NJ\",\"NJ\",\"NJ\",\"NJ\",\"NJ\",\"NJ\",\"NM\",\"NM\",\"NM\",\"NM\",\"NM\",\"NM\",\"NM\",\"NM\",\"NM\",\"NM\",\"NM\",\"NM\",\"NM\",\"NY\",\"NY\",\"NY\",\"NY\",\"NY\",\"NY\",\"NY\",\"NY\",\"NY\",\"NY\",\"NY\",\"NY\",\"NY\",\"NY\",\"NY\",\"NY\",\"NY\",\"NY\",\"NY\",\"NY\",\"NY\",\"NY\",\"NY\",\"NY\",\"NY\",\"NY\",\"NY\",\"NY\",\"NY\",\"NY\",\"NY\",\"NY\",\"NY\",\"NY\",\"NY\",\"NY\",\"NY\",\"NY\",\"NY\",\"NY\",\"NC\",\"NC\",\"NC\",\"NC\",\"NC\",\"NC\",\"NC\",\"NC\",\"NC\",\"NC\",\"NC\",\"NC\",\"NC\",\"NC\",\"NC\",\"NC\",\"NC\",\"NC\",\"NC\",\"NC\",\"NC\",\"NC\",\"NC\",\"NC\",\"NC\",\"NC\",\"NC\",\"NC\",\"NC\",\"NC\",\"NC\",\"NC\",\"NC\",\"NC\",\"NC\",\"NC\",\"ND\",\"ND\",\"ND\",\"ND\",\"ND\",\"ND\",\"ND\",\"ND\",\"OH\",\"OH\",\"OH\",\"OH\",\"OH\",\"OH\",\"OH\",\"OH\",\"OH\",\"OH\",\"OH\",\"OH\",\"OH\",\"OH\",\"OH\",\"OH\",\"OH\",\"OH\",\"OH\",\"OH\",\"OH\",\"OH\",\"OH\",\"OH\",\"OH\",\"OH\",\"OH\",\"OH\",\"OH\",\"OH\",\"OH\",\"OH\",\"OH\",\"OH\",\"OH\",\"OH\",\"OH\",\"OH\",\"OH\",\"OH\",\"OH\",\"OH\",\"OH\",\"OH\",\"OH\",\"OH\",\"OH\",\"OH\",\"OH\",\"OH\",\"OK\",\"OK\",\"OK\",\"OK\",\"OK\",\"OK\",\"OK\",\"OK\",\"OK\",\"OK\",\"OK\",\"OK\",\"OK\",\"OK\",\"OK\",\"OK\",\"OK\",\"OK\",\"OK\",\"OK\",\"OK\",\"OK\",\"OK\",\"OK\",\"OK\",\"OK\",\"OK\",\"OK\",\"OR\",\"OR\",\"OR\",\"OR\",\"OR\",\"OR\",\"OR\",\"OR\",\"OR\",\"OR\",\"OR\",\"OR\",\"OR\",\"OR\",\"OR\",\"OR\",\"OR\",\"OR\",\"OR\",\"OR\",\"OR\",\"OR\",\"OR\",\"PA\",\"PA\",\"PA\",\"PA\",\"PA\",\"PA\",\"PA\",\"PA\",\"PA\",\"PA\",\"PA\",\"PA\",\"PA\",\"PA\",\"PA\",\"PA\",\"PA\",\"PA\",\"PA\",\"PA\",\"PA\",\"PA\",\"PA\",\"PA\",\"PA\",\"PA\",\"PA\",\"PA\",\"PA\",\"PA\",\"PA\",\"PA\",\"PA\",\"PA\",\"PA\",\"PA\",\"PA\",\"PA\",\"PA\",\"PA\",\"PA\",\"PA\",\"PA\",\"PA\",\"PA\",\"PA\",\"PA\",\"PA\",\"PA\",\"PA\",\"PA\",\"PA\",\"PA\",\"RI\",\"RI\",\"RI\",\"SC\",\"SC\",\"SC\",\"SC\",\"SC\",\"SC\",\"SC\",\"SC\",\"SC\",\"SC\",\"SC\",\"SC\",\"SC\",\"SC\",\"SC\",\"SC\",\"SC\",\"SD\",\"SD\",\"SD\",\"SD\",\"SD\",\"SD\",\"TN\",\"TN\",\"TN\",\"TN\",\"TN\",\"TN\",\"TN\",\"TN\",\"TN\",\"TN\",\"TN\",\"TN\",\"TN\",\"TN\",\"TN\",\"TN\",\"TN\",\"TN\",\"TN\",\"TN\",\"TN\",\"TN\",\"TN\",\"TN\",\"TN\",\"TN\",\"TN\",\"TN\",\"TN\",\"TN\",\"TN\",\"TN\",\"TX\",\"TX\",\"TX\",\"TX\",\"TX\",\"TX\",\"TX\",\"TX\",\"TX\",\"TX\",\"TX\",\"TX\",\"TX\",\"TX\",\"TX\",\"TX\",\"TX\",\"TX\",\"TX\",\"TX\",\"TX\",\"TX\",\"TX\",\"TX\",\"TX\",\"TX\",\"TX\",\"TX\",\"TX\",\"TX\",\"TX\",\"TX\",\"TX\",\"TX\",\"TX\",\"TX\",\"TX\",\"TX\",\"TX\",\"TX\",\"TX\",\"TX\",\"TX\",\"TX\",\"TX\",\"TX\",\"TX\",\"TX\",\"TX\",\"TX\",\"TX\",\"TX\",\"TX\",\"TX\",\"TX\",\"TX\",\"TX\",\"TX\",\"TX\",\"TX\",\"TX\",\"TX\",\"TX\",\"TX\",\"TX\",\"TX\",\"TX\",\"TX\",\"TX\",\"TX\",\"TX\",\"TX\",\"TX\",\"TX\",\"TX\",\"TX\",\"TX\",\"TX\",\"TX\",\"TX\",\"TX\",\"TX\",\"UT\",\"UT\",\"UT\",\"UT\",\"UT\",\"UT\",\"UT\",\"VT\",\"VT\",\"VT\",\"VT\",\"VT\",\"VT\",\"VI\",\"VA\",\"VA\",\"VA\",\"VA\",\"VA\",\"VA\",\"VA\",\"VA\",\"VA\",\"VA\",\"VA\",\"VA\",\"VA\",\"VA\",\"VA\",\"VA\",\"VA\",\"VA\",\"VA\",\"VA\",\"VA\",\"VA\",\"VA\",\"VA\",\"WA\",\"WA\",\"WA\",\"WA\",\"WA\",\"WA\",\"WA\",\"WA\",\"WA\",\"WA\",\"WA\",\"WA\",\"WA\",\"WA\",\"WA\",\"WA\",\"WA\",\"WA\",\"WA\",\"WA\",\"WA\",\"WA\",\"WA\",\"WA\",\"WV\",\"WV\",\"WV\",\"WV\",\"WV\",\"WV\",\"WV\",\"WV\",\"WV\",\"WV\",\"WV\",\"WV\",\"WV\",\"WV\",\"WV\",\"WV\",\"WV\",\"WV\",\"WI\",\"WI\",\"WI\",\"WI\",\"WI\",\"WI\",\"WI\",\"WI\",\"WI\",\"WI\",\"WI\",\"WI\",\"WI\",\"WI\",\"WI\",\"WI\",\"WI\",\"WI\",\"WI\",\"WI\",\"WI\",\"WY\",\"WY\",\"WY\",\"WY\",\"WY\",\"WY\",\"WY\",\"WY\",\"WY\",\"TX\",\"TX\",\"TX\",\"TX\",\"TX\",\"TX\",\"TX\",\"TX\",\"TX\",\"TX\",\"TX\",\"TX\",\"TX\",\"AL\",\"AL\",\"AL\",\"AL\",\"AL\",\"AL\",\"AL\",\"AL\",\"AL\",\"AL\",\"AL\",\"AL\",\"AL\",\"AL\",\"AL\",\"AK\",\"AK\",\"AK\",\"AK\",\"AZ\",\"AZ\",\"AZ\",\"AZ\",\"AZ\",\"AZ\",\"AZ\",\"AZ\",\"AZ\",\"AZ\",\"AZ\",\"AZ\",\"AZ\",\"AZ\",\"AR\",\"AR\",\"AR\",\"AR\",\"AR\",\"AR\",\"AR\",\"AR\",\"AR\",\"CA\",\"CA\",\"CA\",\"CA\",\"CA\",\"CA\",\"CA\",\"CA\",\"CA\",\"CA\",\"CA\",\"CA\",\"CA\",\"CA\",\"CA\",\"CA\",\"CA\",\"CA\",\"CA\",\"CA\",\"CA\",\"CA\",\"CA\",\"CA\",\"CA\",\"CA\",\"CA\",\"CA\",\"CA\",\"CA\",\"CA\",\"CA\",\"CA\",\"CA\",\"CA\",\"CA\",\"CA\",\"CA\",\"CA\",\"CA\",\"CA\",\"CA\",\"CA\",\"CA\",\"CA\",\"CA\",\"CA\",\"CA\",\"CA\",\"CA\",\"CA\",\"CA\",\"CA\",\"CA\",\"CA\",\"CA\",\"CA\",\"CA\",\"CA\",\"CA\",\"CA\",\"CA\",\"CO\",\"CO\",\"CO\",\"CO\",\"CO\",\"CO\",\"CO\",\"CO\",\"CO\",\"CO\",\"CO\",\"CO\",\"CO\",\"CO\",\"CO\",\"CO\",\"CO\",\"CO\",\"CO\",\"CO\",\"CO\",\"CO\",\"CO\",\"CO\",\"CO\",\"CT\",\"CT\",\"CT\",\"CT\",\"CT\",\"CT\",\"CT\",\"CT\",\"CT\",\"DE\",\"FL\",\"FL\",\"FL\",\"FL\",\"FL\",\"FL\",\"FL\",\"FL\",\"FL\",\"FL\",\"FL\",\"FL\",\"FL\",\"FL\",\"FL\",\"FL\",\"FL\",\"FL\",\"FL\",\"FL\",\"FL\",\"FL\",\"FL\",\"FL\",\"FL\",\"FL\",\"FL\",\"FL\",\"GA\",\"GA\",\"GA\",\"GA\",\"GA\",\"GA\",\"GA\",\"GA\",\"GA\",\"GA\",\"GA\",\"GA\",\"GA\",\"GA\",\"GA\",\"GA\",\"GA\",\"GA\",\"GA\",\"GA\",\"GA\",\"GA\",\"GA\",\"GA\",\"GA\",\"GA\",\"HI\",\"HI\",\"HI\",\"HI\",\"HI\",\"ID\",\"ID\",\"ID\",\"ID\",\"ID\",\"ID\",\"ID\",\"ID\",\"ID\",\"ID\",\"ID\",\"IL\",\"IL\",\"IL\",\"IL\",\"IL\",\"IL\",\"IL\",\"IL\",\"IL\",\"IL\",\"IL\",\"IL\",\"IL\",\"IL\",\"IL\",\"IL\",\"IL\",\"IL\",\"IL\",\"IL\",\"IL\",\"IL\",\"IL\",\"IL\",\"IL\",\"IL\",\"IL\",\"IL\",\"IL\",\"IL\",\"IL\",\"IL\",\"IL\",\"IL\",\"IL\",\"IL\",\"IL\",\"IL\",\"IL\",\"IL\",\"IL\",\"IL\",\"IL\",\"IL\",\"IL\",\"IL\",\"IL\",\"IL\",\"IL\",\"IN\",\"IN\",\"IN\",\"IN\",\"IN\",\"IN\",\"IN\",\"IN\",\"IN\",\"IN\",\"IN\",\"IN\",\"IN\",\"IN\",\"IN\",\"IN\",\"IN\",\"IN\",\"IN\",\"IN\",\"IN\",\"IN\",\"IN\",\"IN\",\"IN\",\"IN\",\"IN\",\"IN\",\"IN\",\"IN\",\"IN\",\"IN\",\"IN\",\"IN\",\"IN\",\"IN\",\"IN\",\"IN\",\"IN\",\"IN\",\"IN\",\"IN\",\"IN\",\"IN\",\"IN\",\"IN\",\"IN\",\"IN\",\"IN\",\"IN\",\"IN\",\"IA\",\"IA\",\"IA\",\"IA\",\"IA\",\"IA\",\"IA\",\"IA\",\"IA\",\"IA\",\"IA\",\"IA\",\"IA\",\"IA\",\"IA\",\"IA\",\"IA\",\"IA\",\"IA\",\"IA\",\"IA\",\"IA\",\"IA\",\"IA\",\"IA\",\"IA\",\"IA\",\"IA\",\"IA\",\"IA\",\"IA\",\"IA\",\"IA\",\"IA\",\"IA\",\"IA\",\"KS\",\"KS\",\"KS\",\"KS\",\"KS\",\"KS\",\"KS\",\"KS\",\"KS\",\"KS\",\"KS\",\"KS\",\"KS\",\"KS\",\"KS\",\"KS\",\"KS\",\"KS\",\"KS\",\"KS\",\"KS\",\"KY\",\"KY\",\"KY\",\"KY\",\"KY\",\"KY\",\"KY\",\"KY\",\"KY\",\"KY\",\"KY\",\"KY\",\"KY\",\"KY\",\"KY\",\"KY\",\"KY\",\"KY\",\"KY\",\"KY\",\"KY\",\"LA\",\"LA\",\"LA\",\"LA\",\"LA\",\"LA\",\"LA\",\"LA\",\"LA\",\"LA\",\"LA\",\"LA\",\"LA\",\"LA\",\"LA\",\"LA\",\"LA\",\"LA\",\"LA\",\"LA\",\"ME\",\"ME\",\"ME\",\"ME\",\"ME\",\"ME\",\"ME\",\"ME\",\"ME\",\"ME\",\"ME\",\"ME\",\"ME\",\"ME\",\"MD\",\"MD\",\"MD\",\"MD\",\"MD\",\"MD\",\"MD\",\"MD\",\"MD\",\"MA\",\"MA\",\"MA\",\"MA\",\"MA\",\"MA\",\"MA\",\"MA\",\"MA\",\"MA\",\"MA\",\"MI\",\"MI\",\"MI\",\"MI\",\"MI\",\"MI\",\"MI\",\"MI\",\"MI\",\"MI\",\"MI\",\"MI\",\"MI\",\"MI\",\"MI\",\"MI\",\"MI\",\"MI\",\"MI\",\"MI\",\"MI\",\"MI\",\"MI\",\"MI\",\"MI\",\"MI\",\"MI\",\"MI\",\"MI\",\"MI\",\"MI\",\"MI\",\"MI\",\"MI\",\"MI\",\"MI\",\"MI\",\"MI\",\"MI\",\"MI\",\"MI\",\"MI\",\"MI\",\"MI\",\"MI\",\"MI\",\"MI\",\"MI\",\"MI\",\"MI\",\"MI\",\"MN\",\"MN\",\"MN\",\"MN\",\"MN\",\"MN\",\"MN\",\"MN\",\"MN\",\"MN\",\"MN\",\"MN\",\"MN\",\"MN\",\"MN\",\"MN\",\"MN\",\"MN\",\"MN\",\"MN\",\"MN\",\"MN\",\"MN\",\"MN\",\"MN\",\"MN\",\"MN\",\"MN\",\"MN\",\"MN\",\"MN\",\"MN\",\"MN\",\"MN\",\"MN\",\"MN\",\"MN\",\"MN\",\"MN\",\"MN\",\"MN\",\"MN\",\"MN\",\"MS\",\"MS\",\"MS\",\"MS\",\"MS\",\"MS\",\"MS\",\"MO\",\"MO\",\"MO\",\"MO\",\"MO\",\"MO\",\"MO\",\"MO\",\"MO\",\"MO\",\"MO\",\"MO\",\"MO\",\"MO\",\"MO\",\"MO\",\"MO\",\"MO\",\"MO\",\"MO\",\"MO\",\"MO\",\"MO\",\"MT\",\"MT\",\"MT\",\"MT\",\"MT\",\"MT\",\"MT\",\"MT\",\"MT\",\"MT\",\"MT\",\"MT\",\"NE\",\"NE\",\"NE\",\"NE\",\"NE\",\"NE\",\"NE\",\"NE\",\"NE\",\"NE\",\"NE\",\"NE\",\"NE\",\"NE\",\"NE\",\"NE\",\"NE\",\"NE\",\"NE\",\"NE\",\"NE\",\"NE\",\"NE\",\"NE\",\"NE\",\"NV\",\"NV\",\"NV\",\"NV\",\"NH\",\"NH\",\"NH\",\"NH\",\"NH\",\"NH\",\"NH\",\"NH\",\"NH\",\"NH\",\"NJ\",\"NJ\",\"NJ\",\"NJ\",\"NJ\",\"NJ\",\"NJ\",\"NJ\",\"NJ\",\"NJ\",\"NM\",\"NM\",\"NM\",\"NM\",\"NM\",\"NM\",\"NY\",\"NY\",\"NY\",\"NY\",\"NY\",\"NY\",\"NY\",\"NY\",\"NY\",\"NY\",\"NY\",\"NY\",\"NY\",\"NY\",\"NY\",\"NY\",\"NC\",\"NC\",\"NC\",\"NC\",\"NC\",\"NC\",\"NC\",\"NC\",\"NC\",\"NC\",\"NC\",\"NC\",\"NC\",\"NC\",\"NC\",\"NC\",\"NC\",\"NC\",\"NC\",\"NC\",\"NC\",\"NC\",\"NC\",\"NC\",\"NC\",\"NC\",\"ND\",\"ND\",\"ND\",\"ND\",\"ND\",\"ND\",\"ND\",\"ND\",\"OH\",\"OH\",\"OH\",\"OH\",\"OH\",\"OH\",\"OH\",\"OH\",\"OH\",\"OH\",\"OH\",\"OH\",\"OH\",\"OH\",\"OH\",\"OH\",\"OH\",\"OH\",\"OH\",\"OH\",\"OH\",\"OH\",\"OH\",\"OH\",\"OH\",\"OH\",\"OH\",\"OH\",\"OH\",\"OH\",\"OH\",\"OH\",\"OH\",\"OH\",\"OH\",\"OH\",\"OH\",\"OH\",\"OH\",\"OH\",\"OH\",\"OH\",\"OH\",\"OH\",\"OH\",\"OH\",\"OH\",\"OH\",\"OH\",\"OH\",\"OH\",\"OH\",\"OK\",\"OK\",\"OK\",\"OK\",\"OK\",\"OK\",\"OK\",\"OK\",\"OK\",\"OK\",\"OK\",\"OK\",\"OK\",\"OK\",\"OK\",\"OK\",\"OK\",\"OK\",\"OK\",\"OK\",\"OK\",\"OK\",\"OK\",\"OK\",\"OR\",\"OR\",\"OR\",\"OR\",\"OR\",\"OR\",\"OR\",\"OR\",\"OR\",\"OR\",\"OR\",\"OR\",\"OR\",\"OR\",\"OR\",\"OR\",\"OR\",\"OR\",\"OR\",\"OR\",\"OR\",\"OR\",\"PA\",\"PA\",\"PA\",\"PA\",\"PA\",\"PA\",\"PA\",\"PA\",\"PA\",\"PA\",\"PA\",\"PA\",\"PA\",\"PA\",\"PA\",\"PA\",\"PA\",\"PA\",\"PA\",\"PA\",\"PA\",\"PA\",\"PA\",\"PA\",\"PA\",\"PA\",\"PA\",\"PA\",\"PA\",\"PA\",\"PA\",\"PA\",\"PA\",\"PA\",\"PA\",\"PA\",\"RI\",\"RI\",\"SC\",\"SC\",\"SC\",\"SC\",\"SC\",\"SC\",\"SC\",\"SC\",\"SC\",\"SC\",\"SC\",\"SC\",\"SC\",\"SC\",\"SC\",\"SD\",\"SD\",\"SD\",\"SD\",\"SD\",\"SD\",\"SD\",\"TN\",\"TN\",\"TN\",\"TN\",\"TN\",\"TN\",\"TN\",\"TN\",\"TN\",\"TN\",\"TN\",\"TN\",\"TN\",\"TN\",\"TN\",\"TN\",\"TN\",\"TN\",\"TN\",\"TN\",\"TN\",\"TX\",\"TX\",\"TX\",\"TX\",\"TX\",\"TX\",\"TX\",\"TX\",\"TX\",\"TX\",\"TX\",\"TX\",\"TX\",\"TX\",\"TX\",\"TX\",\"TX\",\"TX\",\"TX\",\"TX\",\"TX\",\"TX\",\"TX\",\"TX\",\"TX\",\"TX\",\"TX\",\"TX\",\"TX\",\"TX\",\"TX\",\"TX\",\"TX\",\"TX\",\"TX\",\"TX\",\"TX\",\"TX\",\"TX\",\"TX\",\"TX\",\"TX\",\"TX\",\"TX\",\"TX\",\"TX\",\"TX\",\"TX\",\"TX\",\"TX\",\"TX\",\"TX\",\"TX\",\"TX\",\"TX\",\"TX\",\"TX\",\"TX\",\"TX\",\"TX\",\"TX\",\"TX\",\"TX\",\"TX\",\"TX\",\"TX\",\"TX\",\"TX\",\"TX\",\"TX\",\"TX\",\"TX\",\"TX\",\"UT\",\"UT\",\"UT\",\"UT\",\"UT\",\"UT\",\"UT\",\"UT\",\"UT\",\"UT\",\"UT\",\"UT\",\"UT\",\"UT\",\"UT\",\"UT\",\"UT\",\"UT\",\"UT\",\"UT\",\"UT\",\"VT\",\"VT\",\"VT\",\"VT\",\"VT\",\"VA\",\"VA\",\"VA\",\"VA\",\"VA\",\"VA\",\"VA\",\"VA\",\"VA\",\"VA\",\"VA\",\"VA\",\"VA\",\"VA\",\"VA\",\"VA\",\"VA\",\"VA\",\"VA\",\"VA\",\"VA\",\"VA\",\"VA\",\"VA\",\"WA\",\"WA\",\"WA\",\"WA\",\"WA\",\"WA\",\"WA\",\"WA\",\"WA\",\"WA\",\"WA\",\"WA\",\"WA\",\"WA\",\"WA\",\"WA\",\"WA\",\"WA\",\"WA\",\"WV\",\"WV\",\"WV\",\"WV\",\"WV\",\"WV\",\"WV\",\"WV\",\"WI\",\"WI\",\"WI\",\"WI\",\"WI\",\"WI\",\"WI\",\"WI\",\"WI\",\"WI\",\"WI\",\"WI\",\"WI\",\"WI\",\"WI\",\"WI\",\"WI\",\"WI\",\"WI\",\"WI\",\"WI\",\"WI\",\"WI\",\"WI\",\"WI\",\"WI\",\"WI\",\"WI\",\"WI\",\"WI\",\"WI\",\"WI\",\"WI\",\"WI\",\"WI\",\"WI\",\"WI\",\"WI\",\"WI\",\"WI\",\"WI\",\"WI\",\"WI\",\"WI\",\"WI\",\"WI\",\"WI\",\"WI\",\"WI\",\"WI\",\"WI\",\"WI\",\"WI\",\"WI\",\"WI\",\"WI\",\"WI\",\"WI\",\"WI\",\"WY\",\"WY\",\"WY\",\"WY\",\"WY\",\"WY\",\"TX\",\"TX\",\"TX\",\"TX\",\"TX\",\"TX\",\"TX\",\"TX\",\"TX\",\"TX\",\"TX\",\"AL\",\"AL\",\"AL\",\"AL\",\"AL\",\"AK\",\"AK\",\"AZ\",\"AZ\",\"AZ\",\"AZ\",\"AR\",\"AR\",\"CA\",\"CA\",\"CA\",\"CA\",\"CA\",\"CA\",\"CA\",\"CA\",\"CA\",\"CA\",\"CA\",\"CA\",\"CA\",\"CA\",\"CA\",\"CA\",\"CA\",\"CA\",\"CA\",\"CA\",\"CA\",\"CO\",\"CO\",\"CO\",\"CO\",\"CO\",\"CO\",\"FL\",\"FL\",\"FL\",\"FL\",\"FL\",\"FL\",\"FL\",\"FL\",\"FL\",\"GA\",\"GA\",\"GA\",\"GA\",\"GA\",\"HI\",\"HI\",\"HI\",\"ID\",\"ID\",\"ID\",\"ID\",\"ID\",\"IL\",\"IL\",\"IL\",\"IL\",\"IL\",\"IL\",\"IL\",\"IL\",\"IL\",\"IL\",\"IL\",\"IL\",\"IN\",\"IN\",\"IN\",\"IN\",\"IN\",\"IN\",\"IN\",\"IN\",\"IN\",\"IN\",\"IN\",\"IN\",\"IN\",\"IA\",\"IA\",\"IA\",\"IA\",\"IA\",\"IA\",\"IA\",\"KS\",\"KS\",\"KS\",\"KS\",\"KS\",\"KS\",\"KS\",\"KS\",\"KY\",\"LA\",\"LA\",\"LA\",\"ME\",\"ME\",\"ME\",\"MD\",\"MD\",\"MD\",\"MD\",\"MD\",\"MA\",\"MA\",\"MA\",\"MA\",\"MA\",\"MA\",\"MA\",\"MI\",\"MI\",\"MI\",\"MI\",\"MI\",\"MI\",\"MI\",\"MI\",\"MI\",\"MI\",\"MI\",\"MN\",\"MN\",\"MN\",\"MN\",\"MN\",\"MN\",\"MN\",\"MN\",\"MS\",\"MO\",\"MO\",\"MO\",\"MO\",\"MO\",\"MO\",\"MT\",\"MT\",\"MT\",\"NE\",\"NE\",\"NH\",\"NH\",\"NH\",\"NJ\",\"NJ\",\"NJ\",\"NJ\",\"NJ\",\"NJ\",\"NY\",\"NC\",\"NC\",\"NC\",\"NC\",\"NC\",\"NC\",\"NC\",\"OH\",\"OH\",\"OH\",\"OH\",\"OH\",\"OH\",\"OH\",\"OH\",\"OH\",\"OH\",\"OH\",\"OH\",\"OH\",\"OH\",\"OH\",\"OH\",\"OH\",\"OH\",\"OH\",\"OH\",\"OK\",\"OK\",\"OK\",\"OK\",\"OK\",\"OK\",\"OK\",\"OK\",\"OK\",\"OR\",\"OR\",\"OR\",\"PA\",\"PA\",\"PA\",\"PA\",\"PA\",\"PA\",\"PA\",\"PA\",\"PA\",\"PA\",\"PA\",\"RI\",\"RI\",\"SC\",\"SC\",\"SC\",\"SC\",\"SC\",\"SD\",\"SD\",\"SD\",\"SD\",\"SD\",\"TN\",\"TX\",\"TX\",\"TX\",\"TX\",\"TX\",\"TX\",\"TX\",\"TX\",\"TX\",\"TX\",\"TX\",\"TX\",\"TX\",\"TX\",\"TX\",\"TX\",\"UT\",\"UT\",\"UT\",\"UT\",\"VA\",\"VA\",\"VA\",\"VA\",\"VA\",\"VA\",\"VA\",\"VA\",\"VA\",\"WA\",\"WA\",\"WA\",\"WA\",\"WA\",\"WA\",\"WV\",\"WI\",\"WI\",\"WI\",\"WI\",\"WI\",\"WI\",\"WI\",\"WI\",\"WI\",\"WI\",\"WI\",\"WI\",\"WI\",\"WI\",\"WI\",\"WI\",\"WI\",\"WI\",\"WI\",\"WI\",\"WI\",\"WI\",\"WY\",\"TX\",\"TX\",\"TX\",\"TX\",\"TX\",\"TX\",\"TX\",\"TX\"],\"z\":[12110.0,12110.0,12110.0,12110.0,12110.0,15958.781818181818,15958.781818181818,10461.870967741936,10461.870967741936,10461.870967741936,10461.870967741936,10461.870967741936,10461.870967741936,10461.870967741936,10461.870967741936,14246.172297297297,14246.172297297297,14246.172297297297,14246.172297297297,14246.172297297297,14246.172297297297,14246.172297297297,14246.172297297297,14246.172297297297,14246.172297297297,14246.172297297297,14246.172297297297,14246.172297297297,14246.172297297297,14246.172297297297,14246.172297297297,14246.172297297297,14246.172297297297,14246.172297297297,14246.172297297297,14246.172297297297,14246.172297297297,14246.172297297297,14246.172297297297,20411.39285714286,20411.39285714286,20411.39285714286,20411.39285714286,20411.39285714286,20411.39285714286,16700.428571428572,16700.428571428572,16700.428571428572,16700.428571428572,16700.428571428572,19713.30769230769,19713.30769230769,19713.30769230769,19713.30769230769,19713.30769230769,19713.30769230769,19713.30769230769,19713.30769230769,19713.30769230769,19713.30769230769,19713.30769230769,19713.30769230769,19713.30769230769,19713.30769230769,19713.30769230769,19713.30769230769,19713.30769230769,19713.30769230769,19713.30769230769,19713.30769230769,19713.30769230769,19713.30769230769,19713.30769230769,19713.30769230769,19713.30769230769,19713.30769230769,19713.30769230769,19713.30769230769,19713.30769230769,19713.30769230769,19713.30769230769,19713.30769230769,13940.37962962963,13940.37962962963,13940.37962962963,13940.37962962963,13940.37962962963,13940.37962962963,13940.37962962963,13940.37962962963,13940.37962962963,13940.37962962963,13940.37962962963,13940.37962962963,15473.61963190184,15473.61963190184,15473.61963190184,15473.61963190184,15473.61963190184,15473.61963190184,15473.61963190184,15473.61963190184,15473.61963190184,15473.61963190184,15473.61963190184,15473.61963190184,15473.61963190184,15473.61963190184,15473.61963190184,15473.61963190184,12017.52380952381,12279.542857142857,11268.536585365853,11268.536585365853,11268.536585365853,11268.536585365853,11268.536585365853,11268.536585365853,12053.641975308641,12053.641975308641,20218.37777777778,20218.37777777778,20218.37777777778,20218.37777777778,20218.37777777778,20218.37777777778,22266.446428571428,22266.446428571428,22266.446428571428,22266.446428571428,17730.80172413793,17730.80172413793,17730.80172413793,17730.80172413793,14799.25,9939.76923076923,9939.76923076923,9939.76923076923,9939.76923076923,9939.76923076923,9939.76923076923,15749.157303370786,15749.157303370786,15749.157303370786,15749.157303370786,15749.157303370786,15749.157303370786,15749.157303370786,15104.736842105263,17463.59259259259,17463.59259259259,17463.59259259259,17463.59259259259,17463.59259259259,17463.59259259259,17463.59259259259,17463.59259259259,17463.59259259259,17463.59259259259,18678.0625,18678.0625,18678.0625,18678.0625,18678.0625,18678.0625,18678.0625,18678.0625,12444.166666666666,12444.166666666666,12444.166666666666,14766.713333333333,14766.713333333333,14766.713333333333,14766.713333333333,14766.713333333333,14766.713333333333,14766.713333333333,14766.713333333333,14766.713333333333,14766.713333333333,14766.713333333333,14766.713333333333,14766.713333333333,14766.713333333333,14766.713333333333,14766.713333333333,14766.713333333333,14766.713333333333,14766.713333333333,14766.713333333333,14766.713333333333,14766.713333333333,14766.713333333333,14766.713333333333,14766.713333333333,14766.713333333333,14766.713333333333,14766.713333333333,14766.713333333333,14766.713333333333,14766.713333333333,14766.713333333333,14766.713333333333,14766.713333333333,14766.713333333333,14766.713333333333,14766.713333333333,14766.713333333333,14766.713333333333,14766.713333333333,14766.713333333333,14766.713333333333,14766.713333333333,14766.713333333333,14766.713333333333,14766.713333333333,14766.713333333333,14766.713333333333,18064.468085106382,18064.468085106382,18064.468085106382,18064.468085106382,18064.468085106382,18064.468085106382,18064.468085106382,8953.6,8953.6,19323.698630136987,19323.698630136987,12199.823529411764,12199.823529411764,12199.823529411764,12199.823529411764,12199.823529411764,17437.7,17437.7,17437.7,17437.7,17437.7,17437.7,17437.7,17437.7,17437.7,17437.7,17437.7,17437.7,17437.7,10908.833333333334,10908.833333333334,10908.833333333334,15660.6,15660.6,15660.6,11833.956043956045,11833.956043956045,11833.956043956045,11833.956043956045,11833.956043956045,11833.956043956045,11833.956043956045,11833.956043956045,11833.956043956045,11833.956043956045,16558.507518796992,16558.507518796992,16558.507518796992,16558.507518796992,16558.507518796992,16558.507518796992,16558.507518796992,16558.507518796992,16558.507518796992,16558.507518796992,16698.20779220779,16698.20779220779,16698.20779220779,15440.79411764706,15440.79411764706,12160.692307692309,12160.692307692309,14938.407407407407,12110.0,12110.0,12110.0,12110.0,12110.0,12110.0,12110.0,12110.0,12110.0,12110.0,12110.0,12110.0,12110.0,12110.0,12110.0,12110.0,12110.0,12110.0,12110.0,12110.0,12110.0,12110.0,12110.0,14664.3,15958.781818181818,15958.781818181818,15958.781818181818,15958.781818181818,15958.781818181818,15958.781818181818,15958.781818181818,15958.781818181818,15958.781818181818,15958.781818181818,15958.781818181818,15958.781818181818,15958.781818181818,15958.781818181818,15958.781818181818,15958.781818181818,10461.870967741936,10461.870967741936,10461.870967741936,10461.870967741936,10461.870967741936,10461.870967741936,10461.870967741936,10461.870967741936,10461.870967741936,10461.870967741936,10461.870967741936,10461.870967741936,10461.870967741936,10461.870967741936,10461.870967741936,10461.870967741936,10461.870967741936,10461.870967741936,10461.870967741936,10461.870967741936,14246.172297297297,14246.172297297297,14246.172297297297,14246.172297297297,14246.172297297297,14246.172297297297,14246.172297297297,14246.172297297297,14246.172297297297,14246.172297297297,14246.172297297297,14246.172297297297,14246.172297297297,14246.172297297297,14246.172297297297,14246.172297297297,14246.172297297297,14246.172297297297,14246.172297297297,14246.172297297297,14246.172297297297,14246.172297297297,14246.172297297297,14246.172297297297,14246.172297297297,14246.172297297297,14246.172297297297,14246.172297297297,14246.172297297297,14246.172297297297,14246.172297297297,14246.172297297297,14246.172297297297,14246.172297297297,14246.172297297297,14246.172297297297,14246.172297297297,14246.172297297297,14246.172297297297,14246.172297297297,14246.172297297297,14246.172297297297,14246.172297297297,14246.172297297297,14246.172297297297,14246.172297297297,14246.172297297297,14246.172297297297,14246.172297297297,14246.172297297297,14246.172297297297,14246.172297297297,14246.172297297297,14246.172297297297,14246.172297297297,14246.172297297297,14246.172297297297,14246.172297297297,14246.172297297297,14246.172297297297,14246.172297297297,14246.172297297297,14246.172297297297,14246.172297297297,14246.172297297297,14246.172297297297,14246.172297297297,14246.172297297297,14246.172297297297,14246.172297297297,14246.172297297297,14246.172297297297,14246.172297297297,14246.172297297297,14246.172297297297,14246.172297297297,14246.172297297297,14246.172297297297,14246.172297297297,14246.172297297297,14246.172297297297,14246.172297297297,14246.172297297297,14246.172297297297,14246.172297297297,14246.172297297297,14246.172297297297,14246.172297297297,14246.172297297297,14246.172297297297,14246.172297297297,14246.172297297297,14246.172297297297,14246.172297297297,14246.172297297297,14246.172297297297,16533.947368421053,16533.947368421053,16533.947368421053,20411.39285714286,20411.39285714286,20411.39285714286,20411.39285714286,20446.166666666668,20446.166666666668,16700.428571428572,19713.30769230769,19713.30769230769,19713.30769230769,19713.30769230769,19713.30769230769,19713.30769230769,19713.30769230769,19713.30769230769,19713.30769230769,19713.30769230769,19713.30769230769,19713.30769230769,19713.30769230769,19713.30769230769,19713.30769230769,19713.30769230769,19713.30769230769,19713.30769230769,19713.30769230769,19713.30769230769,19713.30769230769,19713.30769230769,19713.30769230769,19713.30769230769,19713.30769230769,19713.30769230769,19713.30769230769,19713.30769230769,19713.30769230769,19713.30769230769,19713.30769230769,19713.30769230769,19713.30769230769,19713.30769230769,19713.30769230769,19713.30769230769,19713.30769230769,19713.30769230769,19713.30769230769,19713.30769230769,19713.30769230769,19713.30769230769,19713.30769230769,19713.30769230769,19713.30769230769,19713.30769230769,19713.30769230769,19713.30769230769,19713.30769230769,19713.30769230769,19713.30769230769,19713.30769230769,19713.30769230769,19713.30769230769,19713.30769230769,19713.30769230769,19713.30769230769,19713.30769230769,19713.30769230769,19713.30769230769,13940.37962962963,13940.37962962963,13940.37962962963,13940.37962962963,13940.37962962963,13940.37962962963,13940.37962962963,13940.37962962963,13940.37962962963,13940.37962962963,13940.37962962963,13940.37962962963,13940.37962962963,13940.37962962963,13940.37962962963,13940.37962962963,13940.37962962963,13940.37962962963,13940.37962962963,13940.37962962963,13940.37962962963,13940.37962962963,13940.37962962963,12269.307692307691,16734.8,16734.8,16734.8,15473.61963190184,15473.61963190184,15473.61963190184,15473.61963190184,15473.61963190184,15473.61963190184,15473.61963190184,15473.61963190184,15473.61963190184,15473.61963190184,15473.61963190184,15473.61963190184,15473.61963190184,15473.61963190184,15473.61963190184,15473.61963190184,15473.61963190184,15473.61963190184,15473.61963190184,15473.61963190184,15473.61963190184,15473.61963190184,15473.61963190184,15473.61963190184,15473.61963190184,15473.61963190184,15473.61963190184,15473.61963190184,15473.61963190184,15473.61963190184,15473.61963190184,15645.618181818181,15645.618181818181,15645.618181818181,15645.618181818181,15645.618181818181,15645.618181818181,15645.618181818181,15645.618181818181,15645.618181818181,15645.618181818181,12017.52380952381,12017.52380952381,12017.52380952381,12017.52380952381,12017.52380952381,12017.52380952381,12017.52380952381,12017.52380952381,12017.52380952381,12017.52380952381,12017.52380952381,12279.542857142857,12279.542857142857,12279.542857142857,12279.542857142857,12279.542857142857,12279.542857142857,12279.542857142857,12279.542857142857,12279.542857142857,12279.542857142857,11268.536585365853,11268.536585365853,11268.536585365853,11268.536585365853,11268.536585365853,11268.536585365853,11268.536585365853,11268.536585365853,11268.536585365853,11268.536585365853,11268.536585365853,11268.536585365853,11268.536585365853,11268.536585365853,11268.536585365853,11268.536585365853,11268.536585365853,11268.536585365853,11268.536585365853,11268.536585365853,11268.536585365853,11268.536585365853,12053.641975308641,12053.641975308641,12053.641975308641,12053.641975308641,12053.641975308641,12053.641975308641,12053.641975308641,12053.641975308641,12053.641975308641,12053.641975308641,12053.641975308641,12053.641975308641,12053.641975308641,12053.641975308641,12053.641975308641,12053.641975308641,12053.641975308641,12053.641975308641,12053.641975308641,12053.641975308641,12053.641975308641,17837.78125,17837.78125,17837.78125,17837.78125,17837.78125,20218.37777777778,20218.37777777778,20218.37777777778,20218.37777777778,20218.37777777778,20218.37777777778,22266.446428571428,22266.446428571428,22266.446428571428,22266.446428571428,22266.446428571428,22266.446428571428,22266.446428571428,22266.446428571428,22266.446428571428,22266.446428571428,22266.446428571428,22266.446428571428,22266.446428571428,22266.446428571428,22266.446428571428,17730.80172413793,17730.80172413793,17730.80172413793,17730.80172413793,17730.80172413793,17730.80172413793,17730.80172413793,17730.80172413793,17730.80172413793,17730.80172413793,17730.80172413793,17730.80172413793,17730.80172413793,14799.25,14799.25,14799.25,14799.25,14799.25,9939.76923076923,9939.76923076923,9939.76923076923,9939.76923076923,9939.76923076923,9939.76923076923,9939.76923076923,9939.76923076923,9939.76923076923,9939.76923076923,9939.76923076923,9939.76923076923,9939.76923076923,9939.76923076923,9939.76923076923,9939.76923076923,9939.76923076923,9939.76923076923,9939.76923076923,9939.76923076923,9939.76923076923,9939.76923076923,9939.76923076923,9939.76923076923,9939.76923076923,15749.157303370786,15749.157303370786,15749.157303370786,15749.157303370786,15749.157303370786,15749.157303370786,15749.157303370786,15749.157303370786,15749.157303370786,15749.157303370786,15749.157303370786,15749.157303370786,15749.157303370786,15749.157303370786,15749.157303370786,15749.157303370786,15749.157303370786,18299.56,18299.56,15104.736842105263,15104.736842105263,15104.736842105263,17463.59259259259,17463.59259259259,17463.59259259259,17463.59259259259,17463.59259259259,17463.59259259259,17840.30769230769,17840.30769230769,17840.30769230769,17840.30769230769,18678.0625,18678.0625,18678.0625,18678.0625,18678.0625,18678.0625,18678.0625,18678.0625,18678.0625,18678.0625,18678.0625,18678.0625,18678.0625,18678.0625,18678.0625,18678.0625,18678.0625,18678.0625,18678.0625,18678.0625,18678.0625,18678.0625,18678.0625,18678.0625,18678.0625,18678.0625,12444.166666666666,12444.166666666666,12444.166666666666,12444.166666666666,12444.166666666666,12444.166666666666,12444.166666666666,12444.166666666666,14766.713333333333,14766.713333333333,14766.713333333333,14766.713333333333,14766.713333333333,14766.713333333333,14766.713333333333,14766.713333333333,14766.713333333333,14766.713333333333,14766.713333333333,14766.713333333333,14766.713333333333,14766.713333333333,14766.713333333333,14766.713333333333,14766.713333333333,14766.713333333333,14766.713333333333,14766.713333333333,14766.713333333333,14766.713333333333,14766.713333333333,14766.713333333333,14766.713333333333,14766.713333333333,14766.713333333333,14766.713333333333,14766.713333333333,14766.713333333333,14766.713333333333,14766.713333333333,14766.713333333333,14766.713333333333,14766.713333333333,14766.713333333333,14766.713333333333,14766.713333333333,14766.713333333333,14766.713333333333,14766.713333333333,14766.713333333333,14766.713333333333,14766.713333333333,14766.713333333333,18064.468085106382,18064.468085106382,18064.468085106382,18064.468085106382,18064.468085106382,18064.468085106382,18064.468085106382,18064.468085106382,18064.468085106382,18064.468085106382,18064.468085106382,18064.468085106382,18064.468085106382,18064.468085106382,18064.468085106382,18064.468085106382,18064.468085106382,18064.468085106382,8953.6,8953.6,19323.698630136987,19323.698630136987,19323.698630136987,19323.698630136987,19323.698630136987,19323.698630136987,19323.698630136987,19323.698630136987,19323.698630136987,19323.698630136987,19323.698630136987,19323.698630136987,19323.698630136987,19323.698630136987,19323.698630136987,19323.698630136987,19323.698630136987,19323.698630136987,19323.698630136987,19323.698630136987,19323.698630136987,19323.698630136987,12199.823529411764,12199.823529411764,12199.823529411764,12199.823529411764,12199.823529411764,12199.823529411764,12199.823529411764,12199.823529411764,12199.823529411764,12199.823529411764,12199.823529411764,12199.823529411764,12199.823529411764,12199.823529411764,12199.823529411764,12199.823529411764,12199.823529411764,12199.823529411764,12199.823529411764,15656.096153846154,15656.096153846154,15656.096153846154,15656.096153846154,17437.7,17437.7,17437.7,17437.7,17437.7,17437.7,17437.7,17437.7,17437.7,17437.7,17437.7,17437.7,17437.7,17437.7,17437.7,17437.7,17437.7,17437.7,17437.7,17437.7,17437.7,17437.7,17437.7,17437.7,17437.7,17437.7,17437.7,17437.7,17437.7,17437.7,17437.7,17437.7,17437.7,17437.7,17437.7,17437.7,17437.7,10908.833333333334,10908.833333333334,10908.833333333334,18269.0,18269.0,18269.0,15660.6,15660.6,15660.6,15660.6,15660.6,15660.6,15660.6,15660.6,15660.6,15660.6,15660.6,15660.6,15660.6,15660.6,15660.6,14212.894736842105,11833.956043956045,11833.956043956045,11833.956043956045,11833.956043956045,11833.956043956045,11833.956043956045,11833.956043956045,11833.956043956045,11833.956043956045,11833.956043956045,11833.956043956045,11833.956043956045,11833.956043956045,11833.956043956045,11833.956043956045,11833.956043956045,11833.956043956045,11833.956043956045,11833.956043956045,11833.956043956045,11833.956043956045,11833.956043956045,11833.956043956045,11833.956043956045,11833.956043956045,11833.956043956045,11833.956043956045,16558.507518796992,16558.507518796992,16558.507518796992,16558.507518796992,16558.507518796992,16558.507518796992,16558.507518796992,16558.507518796992,16558.507518796992,16558.507518796992,16558.507518796992,16558.507518796992,16558.507518796992,16558.507518796992,16558.507518796992,16558.507518796992,16558.507518796992,16558.507518796992,16558.507518796992,16558.507518796992,16558.507518796992,16558.507518796992,16558.507518796992,16558.507518796992,16558.507518796992,16558.507518796992,16558.507518796992,16558.507518796992,16558.507518796992,16558.507518796992,16558.507518796992,16558.507518796992,16558.507518796992,16558.507518796992,16558.507518796992,16558.507518796992,16558.507518796992,16558.507518796992,16558.507518796992,16558.507518796992,16558.507518796992,16558.507518796992,16558.507518796992,16558.507518796992,16558.507518796992,16558.507518796992,16558.507518796992,16558.507518796992,16558.507518796992,16558.507518796992,16558.507518796992,18529.852941176472,18529.852941176472,19239.416666666668,18747.5,16698.20779220779,16698.20779220779,16698.20779220779,16698.20779220779,16698.20779220779,16698.20779220779,16698.20779220779,16698.20779220779,16698.20779220779,16698.20779220779,16698.20779220779,16698.20779220779,16698.20779220779,16698.20779220779,16698.20779220779,16698.20779220779,16698.20779220779,15440.79411764706,15440.79411764706,15440.79411764706,15440.79411764706,15440.79411764706,15440.79411764706,15440.79411764706,15440.79411764706,15440.79411764706,15440.79411764706,15440.79411764706,15440.79411764706,15440.79411764706,15440.79411764706,15440.79411764706,15440.79411764706,15440.79411764706,12160.692307692309,12160.692307692309,12160.692307692309,12160.692307692309,12160.692307692309,12160.692307692309,12160.692307692309,12160.692307692309,12160.692307692309,12160.692307692309,14938.407407407407,14938.407407407407,14938.407407407407,14938.407407407407,14938.407407407407,14763.555555555555,14763.555555555555,16558.507518796992,16558.507518796992,12110.0,12110.0,12110.0,12110.0,12110.0,12110.0,12110.0,12110.0,12110.0,12110.0,12110.0,12110.0,12110.0,12110.0,12110.0,12110.0,12110.0,12110.0,12110.0,12110.0,12110.0,12110.0,12110.0,12110.0,12110.0,12110.0,12110.0,12110.0,12110.0,12110.0,12110.0,14664.3,14664.3,14664.3,15958.781818181818,15958.781818181818,15958.781818181818,15958.781818181818,15958.781818181818,15958.781818181818,15958.781818181818,15958.781818181818,15958.781818181818,15958.781818181818,15958.781818181818,15958.781818181818,15958.781818181818,15958.781818181818,15958.781818181818,15958.781818181818,15958.781818181818,15958.781818181818,15958.781818181818,10461.870967741936,10461.870967741936,10461.870967741936,10461.870967741936,10461.870967741936,10461.870967741936,10461.870967741936,10461.870967741936,10461.870967741936,10461.870967741936,10461.870967741936,10461.870967741936,10461.870967741936,10461.870967741936,10461.870967741936,10461.870967741936,10461.870967741936,10461.870967741936,10461.870967741936,10461.870967741936,10461.870967741936,10461.870967741936,10461.870967741936,14246.172297297297,14246.172297297297,14246.172297297297,14246.172297297297,14246.172297297297,14246.172297297297,14246.172297297297,14246.172297297297,14246.172297297297,14246.172297297297,14246.172297297297,14246.172297297297,14246.172297297297,14246.172297297297,14246.172297297297,14246.172297297297,14246.172297297297,14246.172297297297,14246.172297297297,14246.172297297297,14246.172297297297,14246.172297297297,14246.172297297297,14246.172297297297,14246.172297297297,14246.172297297297,14246.172297297297,14246.172297297297,14246.172297297297,14246.172297297297,14246.172297297297,14246.172297297297,14246.172297297297,14246.172297297297,14246.172297297297,14246.172297297297,14246.172297297297,14246.172297297297,14246.172297297297,14246.172297297297,14246.172297297297,14246.172297297297,14246.172297297297,14246.172297297297,14246.172297297297,14246.172297297297,14246.172297297297,14246.172297297297,14246.172297297297,14246.172297297297,14246.172297297297,14246.172297297297,14246.172297297297,14246.172297297297,14246.172297297297,14246.172297297297,14246.172297297297,14246.172297297297,14246.172297297297,14246.172297297297,14246.172297297297,14246.172297297297,14246.172297297297,14246.172297297297,14246.172297297297,14246.172297297297,14246.172297297297,14246.172297297297,14246.172297297297,14246.172297297297,14246.172297297297,14246.172297297297,14246.172297297297,14246.172297297297,14246.172297297297,14246.172297297297,14246.172297297297,14246.172297297297,14246.172297297297,14246.172297297297,14246.172297297297,14246.172297297297,14246.172297297297,14246.172297297297,14246.172297297297,14246.172297297297,14246.172297297297,14246.172297297297,14246.172297297297,14246.172297297297,14246.172297297297,14246.172297297297,14246.172297297297,16533.947368421053,16533.947368421053,16533.947368421053,16533.947368421053,16533.947368421053,16533.947368421053,16533.947368421053,16533.947368421053,16533.947368421053,16533.947368421053,16533.947368421053,16533.947368421053,16533.947368421053,16533.947368421053,16533.947368421053,16533.947368421053,16533.947368421053,16533.947368421053,16533.947368421053,16533.947368421053,16533.947368421053,16533.947368421053,16533.947368421053,20411.39285714286,20411.39285714286,20411.39285714286,20411.39285714286,20411.39285714286,20411.39285714286,20411.39285714286,20411.39285714286,20411.39285714286,20446.166666666668,20446.166666666668,20446.166666666668,16700.428571428572,19713.30769230769,19713.30769230769,19713.30769230769,19713.30769230769,19713.30769230769,19713.30769230769,19713.30769230769,19713.30769230769,19713.30769230769,19713.30769230769,19713.30769230769,19713.30769230769,19713.30769230769,19713.30769230769,19713.30769230769,19713.30769230769,19713.30769230769,19713.30769230769,19713.30769230769,19713.30769230769,19713.30769230769,19713.30769230769,19713.30769230769,19713.30769230769,19713.30769230769,19713.30769230769,19713.30769230769,19713.30769230769,19713.30769230769,19713.30769230769,19713.30769230769,19713.30769230769,19713.30769230769,19713.30769230769,19713.30769230769,19713.30769230769,19713.30769230769,19713.30769230769,19713.30769230769,19713.30769230769,13940.37962962963,13940.37962962963,13940.37962962963,13940.37962962963,13940.37962962963,13940.37962962963,13940.37962962963,13940.37962962963,13940.37962962963,13940.37962962963,13940.37962962963,13940.37962962963,13940.37962962963,13940.37962962963,13940.37962962963,13940.37962962963,13940.37962962963,13940.37962962963,13940.37962962963,13940.37962962963,13940.37962962963,13940.37962962963,13940.37962962963,13940.37962962963,13940.37962962963,13940.37962962963,13940.37962962963,13940.37962962963,13940.37962962963,13940.37962962963,13940.37962962963,13940.37962962963,13940.37962962963,13940.37962962963,13940.37962962963,13940.37962962963,13940.37962962963,13940.37962962963,13940.37962962963,13940.37962962963,13940.37962962963,13940.37962962963,12269.307692307691,12269.307692307691,12269.307692307691,12269.307692307691,16734.8,16734.8,16734.8,16734.8,16734.8,16734.8,15473.61963190184,15473.61963190184,15473.61963190184,15473.61963190184,15473.61963190184,15473.61963190184,15473.61963190184,15473.61963190184,15473.61963190184,15473.61963190184,15473.61963190184,15473.61963190184,15473.61963190184,15473.61963190184,15473.61963190184,15473.61963190184,15473.61963190184,15473.61963190184,15473.61963190184,15473.61963190184,15473.61963190184,15473.61963190184,15473.61963190184,15473.61963190184,15473.61963190184,15473.61963190184,15473.61963190184,15473.61963190184,15473.61963190184,15473.61963190184,15473.61963190184,15473.61963190184,15473.61963190184,15473.61963190184,15473.61963190184,15473.61963190184,15473.61963190184,15473.61963190184,15473.61963190184,15473.61963190184,15473.61963190184,15473.61963190184,15473.61963190184,15473.61963190184,15473.61963190184,15473.61963190184,15473.61963190184,15473.61963190184,15473.61963190184,15473.61963190184,15473.61963190184,15473.61963190184,15473.61963190184,15473.61963190184,15473.61963190184,15645.618181818181,15645.618181818181,15645.618181818181,15645.618181818181,15645.618181818181,15645.618181818181,15645.618181818181,15645.618181818181,15645.618181818181,15645.618181818181,15645.618181818181,15645.618181818181,15645.618181818181,15645.618181818181,15645.618181818181,15645.618181818181,15645.618181818181,15645.618181818181,15645.618181818181,15645.618181818181,15645.618181818181,15645.618181818181,15645.618181818181,15645.618181818181,15645.618181818181,15645.618181818181,15645.618181818181,15645.618181818181,15645.618181818181,15645.618181818181,15645.618181818181,15645.618181818181,15645.618181818181,15645.618181818181,15645.618181818181,15645.618181818181,12017.52380952381,12017.52380952381,12017.52380952381,12017.52380952381,12017.52380952381,12017.52380952381,12017.52380952381,12017.52380952381,12017.52380952381,12017.52380952381,12017.52380952381,12017.52380952381,12017.52380952381,12017.52380952381,12017.52380952381,12017.52380952381,12017.52380952381,12017.52380952381,12017.52380952381,12017.52380952381,12017.52380952381,12017.52380952381,12017.52380952381,12017.52380952381,12017.52380952381,12017.52380952381,12017.52380952381,12017.52380952381,12017.52380952381,12279.542857142857,12279.542857142857,12279.542857142857,12279.542857142857,12279.542857142857,12279.542857142857,12279.542857142857,12279.542857142857,12279.542857142857,12279.542857142857,12279.542857142857,12279.542857142857,12279.542857142857,12279.542857142857,12279.542857142857,12279.542857142857,12279.542857142857,12279.542857142857,12279.542857142857,12279.542857142857,12279.542857142857,12279.542857142857,12279.542857142857,12279.542857142857,12279.542857142857,12279.542857142857,12279.542857142857,12279.542857142857,12279.542857142857,12279.542857142857,11268.536585365853,11268.536585365853,11268.536585365853,11268.536585365853,11268.536585365853,11268.536585365853,11268.536585365853,11268.536585365853,11268.536585365853,11268.536585365853,11268.536585365853,11268.536585365853,11268.536585365853,11268.536585365853,11268.536585365853,11268.536585365853,11268.536585365853,11268.536585365853,11268.536585365853,11268.536585365853,11268.536585365853,11268.536585365853,11268.536585365853,11268.536585365853,11268.536585365853,11268.536585365853,11268.536585365853,11268.536585365853,11268.536585365853,11268.536585365853,11268.536585365853,11268.536585365853,12053.641975308641,12053.641975308641,12053.641975308641,12053.641975308641,12053.641975308641,12053.641975308641,12053.641975308641,12053.641975308641,12053.641975308641,12053.641975308641,12053.641975308641,12053.641975308641,12053.641975308641,12053.641975308641,12053.641975308641,12053.641975308641,12053.641975308641,12053.641975308641,12053.641975308641,12053.641975308641,12053.641975308641,12053.641975308641,12053.641975308641,12053.641975308641,12053.641975308641,12053.641975308641,12053.641975308641,12053.641975308641,12053.641975308641,12053.641975308641,12053.641975308641,12053.641975308641,12053.641975308641,12053.641975308641,12053.641975308641,17837.78125,17837.78125,17837.78125,17837.78125,17837.78125,17837.78125,17837.78125,17837.78125,17837.78125,17837.78125,20218.37777777778,20218.37777777778,20218.37777777778,20218.37777777778,20218.37777777778,20218.37777777778,20218.37777777778,20218.37777777778,20218.37777777778,20218.37777777778,20218.37777777778,20218.37777777778,20218.37777777778,20218.37777777778,20218.37777777778,20218.37777777778,20218.37777777778,20218.37777777778,20218.37777777778,22266.446428571428,22266.446428571428,22266.446428571428,22266.446428571428,22266.446428571428,22266.446428571428,22266.446428571428,22266.446428571428,22266.446428571428,22266.446428571428,22266.446428571428,22266.446428571428,22266.446428571428,22266.446428571428,22266.446428571428,22266.446428571428,22266.446428571428,22266.446428571428,22266.446428571428,17730.80172413793,17730.80172413793,17730.80172413793,17730.80172413793,17730.80172413793,17730.80172413793,17730.80172413793,17730.80172413793,17730.80172413793,17730.80172413793,17730.80172413793,17730.80172413793,17730.80172413793,17730.80172413793,17730.80172413793,17730.80172413793,17730.80172413793,17730.80172413793,17730.80172413793,17730.80172413793,17730.80172413793,17730.80172413793,17730.80172413793,17730.80172413793,17730.80172413793,17730.80172413793,17730.80172413793,17730.80172413793,17730.80172413793,17730.80172413793,17730.80172413793,17730.80172413793,17730.80172413793,17730.80172413793,17730.80172413793,17730.80172413793,17730.80172413793,14799.25,14799.25,14799.25,14799.25,14799.25,14799.25,14799.25,14799.25,14799.25,14799.25,14799.25,14799.25,14799.25,14799.25,14799.25,14799.25,14799.25,14799.25,14799.25,9939.76923076923,9939.76923076923,9939.76923076923,9939.76923076923,9939.76923076923,9939.76923076923,9939.76923076923,9939.76923076923,9939.76923076923,9939.76923076923,9939.76923076923,9939.76923076923,9939.76923076923,9939.76923076923,9939.76923076923,9939.76923076923,9939.76923076923,9939.76923076923,9939.76923076923,9939.76923076923,9939.76923076923,9939.76923076923,9939.76923076923,9939.76923076923,9939.76923076923,9939.76923076923,15749.157303370786,15749.157303370786,15749.157303370786,15749.157303370786,15749.157303370786,15749.157303370786,15749.157303370786,15749.157303370786,15749.157303370786,15749.157303370786,15749.157303370786,15749.157303370786,15749.157303370786,15749.157303370786,15749.157303370786,15749.157303370786,15749.157303370786,15749.157303370786,15749.157303370786,15749.157303370786,15749.157303370786,15749.157303370786,15749.157303370786,15749.157303370786,15749.157303370786,15749.157303370786,15749.157303370786,15749.157303370786,15749.157303370786,15749.157303370786,15749.157303370786,15749.157303370786,15749.157303370786,15749.157303370786,15749.157303370786,15749.157303370786,18299.56,18299.56,18299.56,18299.56,18299.56,18299.56,18299.56,18299.56,15104.736842105263,15104.736842105263,15104.736842105263,15104.736842105263,15104.736842105263,15104.736842105263,15104.736842105263,15104.736842105263,15104.736842105263,15104.736842105263,15104.736842105263,15104.736842105263,15104.736842105263,15104.736842105263,15104.736842105263,15104.736842105263,15104.736842105263,15104.736842105263,15104.736842105263,15104.736842105263,15104.736842105263,15104.736842105263,15104.736842105263,15104.736842105263,15104.736842105263,15104.736842105263,17463.59259259259,17463.59259259259,17463.59259259259,17463.59259259259,17463.59259259259,17463.59259259259,17463.59259259259,17840.30769230769,17840.30769230769,17840.30769230769,17840.30769230769,17840.30769230769,17840.30769230769,17840.30769230769,17840.30769230769,17840.30769230769,18678.0625,18678.0625,18678.0625,18678.0625,18678.0625,18678.0625,18678.0625,18678.0625,18678.0625,18678.0625,18678.0625,18678.0625,18678.0625,18678.0625,12444.166666666666,12444.166666666666,12444.166666666666,12444.166666666666,12444.166666666666,12444.166666666666,12444.166666666666,12444.166666666666,12444.166666666666,12444.166666666666,12444.166666666666,12444.166666666666,12444.166666666666,14766.713333333333,14766.713333333333,14766.713333333333,14766.713333333333,14766.713333333333,14766.713333333333,14766.713333333333,14766.713333333333,14766.713333333333,14766.713333333333,14766.713333333333,14766.713333333333,14766.713333333333,14766.713333333333,14766.713333333333,14766.713333333333,14766.713333333333,14766.713333333333,14766.713333333333,14766.713333333333,14766.713333333333,14766.713333333333,14766.713333333333,14766.713333333333,14766.713333333333,14766.713333333333,14766.713333333333,14766.713333333333,14766.713333333333,14766.713333333333,14766.713333333333,14766.713333333333,14766.713333333333,14766.713333333333,14766.713333333333,14766.713333333333,14766.713333333333,14766.713333333333,14766.713333333333,14766.713333333333,18064.468085106382,18064.468085106382,18064.468085106382,18064.468085106382,18064.468085106382,18064.468085106382,18064.468085106382,18064.468085106382,18064.468085106382,18064.468085106382,18064.468085106382,18064.468085106382,18064.468085106382,18064.468085106382,18064.468085106382,18064.468085106382,18064.468085106382,18064.468085106382,18064.468085106382,18064.468085106382,18064.468085106382,18064.468085106382,18064.468085106382,18064.468085106382,18064.468085106382,18064.468085106382,18064.468085106382,18064.468085106382,18064.468085106382,18064.468085106382,18064.468085106382,18064.468085106382,18064.468085106382,18064.468085106382,18064.468085106382,18064.468085106382,8953.6,8953.6,8953.6,8953.6,8953.6,8953.6,8953.6,8953.6,19323.698630136987,19323.698630136987,19323.698630136987,19323.698630136987,19323.698630136987,19323.698630136987,19323.698630136987,19323.698630136987,19323.698630136987,19323.698630136987,19323.698630136987,19323.698630136987,19323.698630136987,19323.698630136987,19323.698630136987,19323.698630136987,19323.698630136987,19323.698630136987,19323.698630136987,19323.698630136987,19323.698630136987,19323.698630136987,19323.698630136987,19323.698630136987,19323.698630136987,19323.698630136987,19323.698630136987,19323.698630136987,19323.698630136987,19323.698630136987,19323.698630136987,19323.698630136987,19323.698630136987,19323.698630136987,19323.698630136987,19323.698630136987,19323.698630136987,19323.698630136987,19323.698630136987,19323.698630136987,19323.698630136987,19323.698630136987,19323.698630136987,19323.698630136987,19323.698630136987,19323.698630136987,19323.698630136987,19323.698630136987,19323.698630136987,19323.698630136987,12199.823529411764,12199.823529411764,12199.823529411764,12199.823529411764,12199.823529411764,12199.823529411764,12199.823529411764,12199.823529411764,12199.823529411764,12199.823529411764,12199.823529411764,12199.823529411764,12199.823529411764,12199.823529411764,12199.823529411764,12199.823529411764,12199.823529411764,12199.823529411764,12199.823529411764,12199.823529411764,12199.823529411764,12199.823529411764,12199.823529411764,12199.823529411764,12199.823529411764,12199.823529411764,12199.823529411764,12199.823529411764,15656.096153846154,15656.096153846154,15656.096153846154,15656.096153846154,15656.096153846154,15656.096153846154,15656.096153846154,15656.096153846154,15656.096153846154,15656.096153846154,15656.096153846154,15656.096153846154,15656.096153846154,15656.096153846154,15656.096153846154,15656.096153846154,15656.096153846154,15656.096153846154,15656.096153846154,15656.096153846154,15656.096153846154,15656.096153846154,15656.096153846154,17437.7,17437.7,17437.7,17437.7,17437.7,17437.7,17437.7,17437.7,17437.7,17437.7,17437.7,17437.7,17437.7,17437.7,17437.7,17437.7,17437.7,17437.7,17437.7,17437.7,17437.7,17437.7,17437.7,17437.7,17437.7,17437.7,17437.7,17437.7,17437.7,17437.7,17437.7,17437.7,17437.7,17437.7,17437.7,17437.7,17437.7,17437.7,17437.7,17437.7,17437.7,17437.7,17437.7,17437.7,17437.7,17437.7,17437.7,17437.7,17437.7,17437.7,17437.7,17437.7,17437.7,18269.0,18269.0,18269.0,15660.6,15660.6,15660.6,15660.6,15660.6,15660.6,15660.6,15660.6,15660.6,15660.6,15660.6,15660.6,15660.6,15660.6,15660.6,15660.6,15660.6,14212.894736842105,14212.894736842105,14212.894736842105,14212.894736842105,14212.894736842105,14212.894736842105,11833.956043956045,11833.956043956045,11833.956043956045,11833.956043956045,11833.956043956045,11833.956043956045,11833.956043956045,11833.956043956045,11833.956043956045,11833.956043956045,11833.956043956045,11833.956043956045,11833.956043956045,11833.956043956045,11833.956043956045,11833.956043956045,11833.956043956045,11833.956043956045,11833.956043956045,11833.956043956045,11833.956043956045,11833.956043956045,11833.956043956045,11833.956043956045,11833.956043956045,11833.956043956045,11833.956043956045,11833.956043956045,11833.956043956045,11833.956043956045,11833.956043956045,11833.956043956045,16558.507518796992,16558.507518796992,16558.507518796992,16558.507518796992,16558.507518796992,16558.507518796992,16558.507518796992,16558.507518796992,16558.507518796992,16558.507518796992,16558.507518796992,16558.507518796992,16558.507518796992,16558.507518796992,16558.507518796992,16558.507518796992,16558.507518796992,16558.507518796992,16558.507518796992,16558.507518796992,16558.507518796992,16558.507518796992,16558.507518796992,16558.507518796992,16558.507518796992,16558.507518796992,16558.507518796992,16558.507518796992,16558.507518796992,16558.507518796992,16558.507518796992,16558.507518796992,16558.507518796992,16558.507518796992,16558.507518796992,16558.507518796992,16558.507518796992,16558.507518796992,16558.507518796992,16558.507518796992,16558.507518796992,16558.507518796992,16558.507518796992,16558.507518796992,16558.507518796992,16558.507518796992,16558.507518796992,16558.507518796992,16558.507518796992,16558.507518796992,16558.507518796992,16558.507518796992,16558.507518796992,16558.507518796992,16558.507518796992,16558.507518796992,16558.507518796992,16558.507518796992,16558.507518796992,16558.507518796992,16558.507518796992,16558.507518796992,16558.507518796992,16558.507518796992,16558.507518796992,16558.507518796992,16558.507518796992,16558.507518796992,16558.507518796992,16558.507518796992,16558.507518796992,16558.507518796992,16558.507518796992,16558.507518796992,16558.507518796992,16558.507518796992,16558.507518796992,16558.507518796992,16558.507518796992,16558.507518796992,16558.507518796992,16558.507518796992,18529.852941176472,18529.852941176472,18529.852941176472,18529.852941176472,18529.852941176472,18529.852941176472,18529.852941176472,19239.416666666668,19239.416666666668,19239.416666666668,19239.416666666668,19239.416666666668,19239.416666666668,18747.5,16698.20779220779,16698.20779220779,16698.20779220779,16698.20779220779,16698.20779220779,16698.20779220779,16698.20779220779,16698.20779220779,16698.20779220779,16698.20779220779,16698.20779220779,16698.20779220779,16698.20779220779,16698.20779220779,16698.20779220779,16698.20779220779,16698.20779220779,16698.20779220779,16698.20779220779,16698.20779220779,16698.20779220779,16698.20779220779,16698.20779220779,16698.20779220779,15440.79411764706,15440.79411764706,15440.79411764706,15440.79411764706,15440.79411764706,15440.79411764706,15440.79411764706,15440.79411764706,15440.79411764706,15440.79411764706,15440.79411764706,15440.79411764706,15440.79411764706,15440.79411764706,15440.79411764706,15440.79411764706,15440.79411764706,15440.79411764706,15440.79411764706,15440.79411764706,15440.79411764706,15440.79411764706,15440.79411764706,15440.79411764706,12160.692307692309,12160.692307692309,12160.692307692309,12160.692307692309,12160.692307692309,12160.692307692309,12160.692307692309,12160.692307692309,12160.692307692309,12160.692307692309,12160.692307692309,12160.692307692309,12160.692307692309,12160.692307692309,12160.692307692309,12160.692307692309,12160.692307692309,12160.692307692309,14938.407407407407,14938.407407407407,14938.407407407407,14938.407407407407,14938.407407407407,14938.407407407407,14938.407407407407,14938.407407407407,14938.407407407407,14938.407407407407,14938.407407407407,14938.407407407407,14938.407407407407,14938.407407407407,14938.407407407407,14938.407407407407,14938.407407407407,14938.407407407407,14938.407407407407,14938.407407407407,14938.407407407407,14763.555555555555,14763.555555555555,14763.555555555555,14763.555555555555,14763.555555555555,14763.555555555555,14763.555555555555,14763.555555555555,14763.555555555555,16558.507518796992,16558.507518796992,16558.507518796992,16558.507518796992,16558.507518796992,16558.507518796992,16558.507518796992,16558.507518796992,16558.507518796992,16558.507518796992,16558.507518796992,16558.507518796992,16558.507518796992,12110.0,12110.0,12110.0,12110.0,12110.0,12110.0,12110.0,12110.0,12110.0,12110.0,12110.0,12110.0,12110.0,12110.0,12110.0,14664.3,14664.3,14664.3,14664.3,15958.781818181818,15958.781818181818,15958.781818181818,15958.781818181818,15958.781818181818,15958.781818181818,15958.781818181818,15958.781818181818,15958.781818181818,15958.781818181818,15958.781818181818,15958.781818181818,15958.781818181818,15958.781818181818,10461.870967741936,10461.870967741936,10461.870967741936,10461.870967741936,10461.870967741936,10461.870967741936,10461.870967741936,10461.870967741936,10461.870967741936,14246.172297297297,14246.172297297297,14246.172297297297,14246.172297297297,14246.172297297297,14246.172297297297,14246.172297297297,14246.172297297297,14246.172297297297,14246.172297297297,14246.172297297297,14246.172297297297,14246.172297297297,14246.172297297297,14246.172297297297,14246.172297297297,14246.172297297297,14246.172297297297,14246.172297297297,14246.172297297297,14246.172297297297,14246.172297297297,14246.172297297297,14246.172297297297,14246.172297297297,14246.172297297297,14246.172297297297,14246.172297297297,14246.172297297297,14246.172297297297,14246.172297297297,14246.172297297297,14246.172297297297,14246.172297297297,14246.172297297297,14246.172297297297,14246.172297297297,14246.172297297297,14246.172297297297,14246.172297297297,14246.172297297297,14246.172297297297,14246.172297297297,14246.172297297297,14246.172297297297,14246.172297297297,14246.172297297297,14246.172297297297,14246.172297297297,14246.172297297297,14246.172297297297,14246.172297297297,14246.172297297297,14246.172297297297,14246.172297297297,14246.172297297297,14246.172297297297,14246.172297297297,14246.172297297297,14246.172297297297,14246.172297297297,14246.172297297297,16533.947368421053,16533.947368421053,16533.947368421053,16533.947368421053,16533.947368421053,16533.947368421053,16533.947368421053,16533.947368421053,16533.947368421053,16533.947368421053,16533.947368421053,16533.947368421053,16533.947368421053,16533.947368421053,16533.947368421053,16533.947368421053,16533.947368421053,16533.947368421053,16533.947368421053,16533.947368421053,16533.947368421053,16533.947368421053,16533.947368421053,16533.947368421053,16533.947368421053,20411.39285714286,20411.39285714286,20411.39285714286,20411.39285714286,20411.39285714286,20411.39285714286,20411.39285714286,20411.39285714286,20411.39285714286,20446.166666666668,19713.30769230769,19713.30769230769,19713.30769230769,19713.30769230769,19713.30769230769,19713.30769230769,19713.30769230769,19713.30769230769,19713.30769230769,19713.30769230769,19713.30769230769,19713.30769230769,19713.30769230769,19713.30769230769,19713.30769230769,19713.30769230769,19713.30769230769,19713.30769230769,19713.30769230769,19713.30769230769,19713.30769230769,19713.30769230769,19713.30769230769,19713.30769230769,19713.30769230769,19713.30769230769,19713.30769230769,19713.30769230769,13940.37962962963,13940.37962962963,13940.37962962963,13940.37962962963,13940.37962962963,13940.37962962963,13940.37962962963,13940.37962962963,13940.37962962963,13940.37962962963,13940.37962962963,13940.37962962963,13940.37962962963,13940.37962962963,13940.37962962963,13940.37962962963,13940.37962962963,13940.37962962963,13940.37962962963,13940.37962962963,13940.37962962963,13940.37962962963,13940.37962962963,13940.37962962963,13940.37962962963,13940.37962962963,12269.307692307691,12269.307692307691,12269.307692307691,12269.307692307691,12269.307692307691,16734.8,16734.8,16734.8,16734.8,16734.8,16734.8,16734.8,16734.8,16734.8,16734.8,16734.8,15473.61963190184,15473.61963190184,15473.61963190184,15473.61963190184,15473.61963190184,15473.61963190184,15473.61963190184,15473.61963190184,15473.61963190184,15473.61963190184,15473.61963190184,15473.61963190184,15473.61963190184,15473.61963190184,15473.61963190184,15473.61963190184,15473.61963190184,15473.61963190184,15473.61963190184,15473.61963190184,15473.61963190184,15473.61963190184,15473.61963190184,15473.61963190184,15473.61963190184,15473.61963190184,15473.61963190184,15473.61963190184,15473.61963190184,15473.61963190184,15473.61963190184,15473.61963190184,15473.61963190184,15473.61963190184,15473.61963190184,15473.61963190184,15473.61963190184,15473.61963190184,15473.61963190184,15473.61963190184,15473.61963190184,15473.61963190184,15473.61963190184,15473.61963190184,15473.61963190184,15473.61963190184,15473.61963190184,15473.61963190184,15473.61963190184,15645.618181818181,15645.618181818181,15645.618181818181,15645.618181818181,15645.618181818181,15645.618181818181,15645.618181818181,15645.618181818181,15645.618181818181,15645.618181818181,15645.618181818181,15645.618181818181,15645.618181818181,15645.618181818181,15645.618181818181,15645.618181818181,15645.618181818181,15645.618181818181,15645.618181818181,15645.618181818181,15645.618181818181,15645.618181818181,15645.618181818181,15645.618181818181,15645.618181818181,15645.618181818181,15645.618181818181,15645.618181818181,15645.618181818181,15645.618181818181,15645.618181818181,15645.618181818181,15645.618181818181,15645.618181818181,15645.618181818181,15645.618181818181,15645.618181818181,15645.618181818181,15645.618181818181,15645.618181818181,15645.618181818181,15645.618181818181,15645.618181818181,15645.618181818181,15645.618181818181,15645.618181818181,15645.618181818181,15645.618181818181,15645.618181818181,15645.618181818181,15645.618181818181,12017.52380952381,12017.52380952381,12017.52380952381,12017.52380952381,12017.52380952381,12017.52380952381,12017.52380952381,12017.52380952381,12017.52380952381,12017.52380952381,12017.52380952381,12017.52380952381,12017.52380952381,12017.52380952381,12017.52380952381,12017.52380952381,12017.52380952381,12017.52380952381,12017.52380952381,12017.52380952381,12017.52380952381,12017.52380952381,12017.52380952381,12017.52380952381,12017.52380952381,12017.52380952381,12017.52380952381,12017.52380952381,12017.52380952381,12017.52380952381,12017.52380952381,12017.52380952381,12017.52380952381,12017.52380952381,12017.52380952381,12017.52380952381,12279.542857142857,12279.542857142857,12279.542857142857,12279.542857142857,12279.542857142857,12279.542857142857,12279.542857142857,12279.542857142857,12279.542857142857,12279.542857142857,12279.542857142857,12279.542857142857,12279.542857142857,12279.542857142857,12279.542857142857,12279.542857142857,12279.542857142857,12279.542857142857,12279.542857142857,12279.542857142857,12279.542857142857,11268.536585365853,11268.536585365853,11268.536585365853,11268.536585365853,11268.536585365853,11268.536585365853,11268.536585365853,11268.536585365853,11268.536585365853,11268.536585365853,11268.536585365853,11268.536585365853,11268.536585365853,11268.536585365853,11268.536585365853,11268.536585365853,11268.536585365853,11268.536585365853,11268.536585365853,11268.536585365853,11268.536585365853,12053.641975308641,12053.641975308641,12053.641975308641,12053.641975308641,12053.641975308641,12053.641975308641,12053.641975308641,12053.641975308641,12053.641975308641,12053.641975308641,12053.641975308641,12053.641975308641,12053.641975308641,12053.641975308641,12053.641975308641,12053.641975308641,12053.641975308641,12053.641975308641,12053.641975308641,12053.641975308641,17837.78125,17837.78125,17837.78125,17837.78125,17837.78125,17837.78125,17837.78125,17837.78125,17837.78125,17837.78125,17837.78125,17837.78125,17837.78125,17837.78125,20218.37777777778,20218.37777777778,20218.37777777778,20218.37777777778,20218.37777777778,20218.37777777778,20218.37777777778,20218.37777777778,20218.37777777778,22266.446428571428,22266.446428571428,22266.446428571428,22266.446428571428,22266.446428571428,22266.446428571428,22266.446428571428,22266.446428571428,22266.446428571428,22266.446428571428,22266.446428571428,17730.80172413793,17730.80172413793,17730.80172413793,17730.80172413793,17730.80172413793,17730.80172413793,17730.80172413793,17730.80172413793,17730.80172413793,17730.80172413793,17730.80172413793,17730.80172413793,17730.80172413793,17730.80172413793,17730.80172413793,17730.80172413793,17730.80172413793,17730.80172413793,17730.80172413793,17730.80172413793,17730.80172413793,17730.80172413793,17730.80172413793,17730.80172413793,17730.80172413793,17730.80172413793,17730.80172413793,17730.80172413793,17730.80172413793,17730.80172413793,17730.80172413793,17730.80172413793,17730.80172413793,17730.80172413793,17730.80172413793,17730.80172413793,17730.80172413793,17730.80172413793,17730.80172413793,17730.80172413793,17730.80172413793,17730.80172413793,17730.80172413793,17730.80172413793,17730.80172413793,17730.80172413793,17730.80172413793,17730.80172413793,17730.80172413793,17730.80172413793,17730.80172413793,14799.25,14799.25,14799.25,14799.25,14799.25,14799.25,14799.25,14799.25,14799.25,14799.25,14799.25,14799.25,14799.25,14799.25,14799.25,14799.25,14799.25,14799.25,14799.25,14799.25,14799.25,14799.25,14799.25,14799.25,14799.25,14799.25,14799.25,14799.25,14799.25,14799.25,14799.25,14799.25,14799.25,14799.25,14799.25,14799.25,14799.25,14799.25,14799.25,14799.25,14799.25,14799.25,14799.25,9939.76923076923,9939.76923076923,9939.76923076923,9939.76923076923,9939.76923076923,9939.76923076923,9939.76923076923,15749.157303370786,15749.157303370786,15749.157303370786,15749.157303370786,15749.157303370786,15749.157303370786,15749.157303370786,15749.157303370786,15749.157303370786,15749.157303370786,15749.157303370786,15749.157303370786,15749.157303370786,15749.157303370786,15749.157303370786,15749.157303370786,15749.157303370786,15749.157303370786,15749.157303370786,15749.157303370786,15749.157303370786,15749.157303370786,15749.157303370786,18299.56,18299.56,18299.56,18299.56,18299.56,18299.56,18299.56,18299.56,18299.56,18299.56,18299.56,18299.56,15104.736842105263,15104.736842105263,15104.736842105263,15104.736842105263,15104.736842105263,15104.736842105263,15104.736842105263,15104.736842105263,15104.736842105263,15104.736842105263,15104.736842105263,15104.736842105263,15104.736842105263,15104.736842105263,15104.736842105263,15104.736842105263,15104.736842105263,15104.736842105263,15104.736842105263,15104.736842105263,15104.736842105263,15104.736842105263,15104.736842105263,15104.736842105263,15104.736842105263,17463.59259259259,17463.59259259259,17463.59259259259,17463.59259259259,17840.30769230769,17840.30769230769,17840.30769230769,17840.30769230769,17840.30769230769,17840.30769230769,17840.30769230769,17840.30769230769,17840.30769230769,17840.30769230769,18678.0625,18678.0625,18678.0625,18678.0625,18678.0625,18678.0625,18678.0625,18678.0625,18678.0625,18678.0625,12444.166666666666,12444.166666666666,12444.166666666666,12444.166666666666,12444.166666666666,12444.166666666666,14766.713333333333,14766.713333333333,14766.713333333333,14766.713333333333,14766.713333333333,14766.713333333333,14766.713333333333,14766.713333333333,14766.713333333333,14766.713333333333,14766.713333333333,14766.713333333333,14766.713333333333,14766.713333333333,14766.713333333333,14766.713333333333,18064.468085106382,18064.468085106382,18064.468085106382,18064.468085106382,18064.468085106382,18064.468085106382,18064.468085106382,18064.468085106382,18064.468085106382,18064.468085106382,18064.468085106382,18064.468085106382,18064.468085106382,18064.468085106382,18064.468085106382,18064.468085106382,18064.468085106382,18064.468085106382,18064.468085106382,18064.468085106382,18064.468085106382,18064.468085106382,18064.468085106382,18064.468085106382,18064.468085106382,18064.468085106382,8953.6,8953.6,8953.6,8953.6,8953.6,8953.6,8953.6,8953.6,19323.698630136987,19323.698630136987,19323.698630136987,19323.698630136987,19323.698630136987,19323.698630136987,19323.698630136987,19323.698630136987,19323.698630136987,19323.698630136987,19323.698630136987,19323.698630136987,19323.698630136987,19323.698630136987,19323.698630136987,19323.698630136987,19323.698630136987,19323.698630136987,19323.698630136987,19323.698630136987,19323.698630136987,19323.698630136987,19323.698630136987,19323.698630136987,19323.698630136987,19323.698630136987,19323.698630136987,19323.698630136987,19323.698630136987,19323.698630136987,19323.698630136987,19323.698630136987,19323.698630136987,19323.698630136987,19323.698630136987,19323.698630136987,19323.698630136987,19323.698630136987,19323.698630136987,19323.698630136987,19323.698630136987,19323.698630136987,19323.698630136987,19323.698630136987,19323.698630136987,19323.698630136987,19323.698630136987,19323.698630136987,19323.698630136987,19323.698630136987,19323.698630136987,19323.698630136987,12199.823529411764,12199.823529411764,12199.823529411764,12199.823529411764,12199.823529411764,12199.823529411764,12199.823529411764,12199.823529411764,12199.823529411764,12199.823529411764,12199.823529411764,12199.823529411764,12199.823529411764,12199.823529411764,12199.823529411764,12199.823529411764,12199.823529411764,12199.823529411764,12199.823529411764,12199.823529411764,12199.823529411764,12199.823529411764,12199.823529411764,12199.823529411764,15656.096153846154,15656.096153846154,15656.096153846154,15656.096153846154,15656.096153846154,15656.096153846154,15656.096153846154,15656.096153846154,15656.096153846154,15656.096153846154,15656.096153846154,15656.096153846154,15656.096153846154,15656.096153846154,15656.096153846154,15656.096153846154,15656.096153846154,15656.096153846154,15656.096153846154,15656.096153846154,15656.096153846154,15656.096153846154,17437.7,17437.7,17437.7,17437.7,17437.7,17437.7,17437.7,17437.7,17437.7,17437.7,17437.7,17437.7,17437.7,17437.7,17437.7,17437.7,17437.7,17437.7,17437.7,17437.7,17437.7,17437.7,17437.7,17437.7,17437.7,17437.7,17437.7,17437.7,17437.7,17437.7,17437.7,17437.7,17437.7,17437.7,17437.7,17437.7,18269.0,18269.0,15660.6,15660.6,15660.6,15660.6,15660.6,15660.6,15660.6,15660.6,15660.6,15660.6,15660.6,15660.6,15660.6,15660.6,15660.6,14212.894736842105,14212.894736842105,14212.894736842105,14212.894736842105,14212.894736842105,14212.894736842105,14212.894736842105,11833.956043956045,11833.956043956045,11833.956043956045,11833.956043956045,11833.956043956045,11833.956043956045,11833.956043956045,11833.956043956045,11833.956043956045,11833.956043956045,11833.956043956045,11833.956043956045,11833.956043956045,11833.956043956045,11833.956043956045,11833.956043956045,11833.956043956045,11833.956043956045,11833.956043956045,11833.956043956045,11833.956043956045,16558.507518796992,16558.507518796992,16558.507518796992,16558.507518796992,16558.507518796992,16558.507518796992,16558.507518796992,16558.507518796992,16558.507518796992,16558.507518796992,16558.507518796992,16558.507518796992,16558.507518796992,16558.507518796992,16558.507518796992,16558.507518796992,16558.507518796992,16558.507518796992,16558.507518796992,16558.507518796992,16558.507518796992,16558.507518796992,16558.507518796992,16558.507518796992,16558.507518796992,16558.507518796992,16558.507518796992,16558.507518796992,16558.507518796992,16558.507518796992,16558.507518796992,16558.507518796992,16558.507518796992,16558.507518796992,16558.507518796992,16558.507518796992,16558.507518796992,16558.507518796992,16558.507518796992,16558.507518796992,16558.507518796992,16558.507518796992,16558.507518796992,16558.507518796992,16558.507518796992,16558.507518796992,16558.507518796992,16558.507518796992,16558.507518796992,16558.507518796992,16558.507518796992,16558.507518796992,16558.507518796992,16558.507518796992,16558.507518796992,16558.507518796992,16558.507518796992,16558.507518796992,16558.507518796992,16558.507518796992,16558.507518796992,16558.507518796992,16558.507518796992,16558.507518796992,16558.507518796992,16558.507518796992,16558.507518796992,16558.507518796992,16558.507518796992,16558.507518796992,16558.507518796992,16558.507518796992,16558.507518796992,18529.852941176472,18529.852941176472,18529.852941176472,18529.852941176472,18529.852941176472,18529.852941176472,18529.852941176472,18529.852941176472,18529.852941176472,18529.852941176472,18529.852941176472,18529.852941176472,18529.852941176472,18529.852941176472,18529.852941176472,18529.852941176472,18529.852941176472,18529.852941176472,18529.852941176472,18529.852941176472,18529.852941176472,19239.416666666668,19239.416666666668,19239.416666666668,19239.416666666668,19239.416666666668,16698.20779220779,16698.20779220779,16698.20779220779,16698.20779220779,16698.20779220779,16698.20779220779,16698.20779220779,16698.20779220779,16698.20779220779,16698.20779220779,16698.20779220779,16698.20779220779,16698.20779220779,16698.20779220779,16698.20779220779,16698.20779220779,16698.20779220779,16698.20779220779,16698.20779220779,16698.20779220779,16698.20779220779,16698.20779220779,16698.20779220779,16698.20779220779,15440.79411764706,15440.79411764706,15440.79411764706,15440.79411764706,15440.79411764706,15440.79411764706,15440.79411764706,15440.79411764706,15440.79411764706,15440.79411764706,15440.79411764706,15440.79411764706,15440.79411764706,15440.79411764706,15440.79411764706,15440.79411764706,15440.79411764706,15440.79411764706,15440.79411764706,12160.692307692309,12160.692307692309,12160.692307692309,12160.692307692309,12160.692307692309,12160.692307692309,12160.692307692309,12160.692307692309,14938.407407407407,14938.407407407407,14938.407407407407,14938.407407407407,14938.407407407407,14938.407407407407,14938.407407407407,14938.407407407407,14938.407407407407,14938.407407407407,14938.407407407407,14938.407407407407,14938.407407407407,14938.407407407407,14938.407407407407,14938.407407407407,14938.407407407407,14938.407407407407,14938.407407407407,14938.407407407407,14938.407407407407,14938.407407407407,14938.407407407407,14938.407407407407,14938.407407407407,14938.407407407407,14938.407407407407,14938.407407407407,14938.407407407407,14938.407407407407,14938.407407407407,14938.407407407407,14938.407407407407,14938.407407407407,14938.407407407407,14938.407407407407,14938.407407407407,14938.407407407407,14938.407407407407,14938.407407407407,14938.407407407407,14938.407407407407,14938.407407407407,14938.407407407407,14938.407407407407,14938.407407407407,14938.407407407407,14938.407407407407,14938.407407407407,14938.407407407407,14938.407407407407,14938.407407407407,14938.407407407407,14938.407407407407,14938.407407407407,14938.407407407407,14938.407407407407,14938.407407407407,14938.407407407407,14763.555555555555,14763.555555555555,14763.555555555555,14763.555555555555,14763.555555555555,14763.555555555555,16558.507518796992,16558.507518796992,16558.507518796992,16558.507518796992,16558.507518796992,16558.507518796992,16558.507518796992,16558.507518796992,16558.507518796992,16558.507518796992,16558.507518796992,12110.0,12110.0,12110.0,12110.0,12110.0,14664.3,14664.3,15958.781818181818,15958.781818181818,15958.781818181818,15958.781818181818,10461.870967741936,10461.870967741936,14246.172297297297,14246.172297297297,14246.172297297297,14246.172297297297,14246.172297297297,14246.172297297297,14246.172297297297,14246.172297297297,14246.172297297297,14246.172297297297,14246.172297297297,14246.172297297297,14246.172297297297,14246.172297297297,14246.172297297297,14246.172297297297,14246.172297297297,14246.172297297297,14246.172297297297,14246.172297297297,14246.172297297297,16533.947368421053,16533.947368421053,16533.947368421053,16533.947368421053,16533.947368421053,16533.947368421053,19713.30769230769,19713.30769230769,19713.30769230769,19713.30769230769,19713.30769230769,19713.30769230769,19713.30769230769,19713.30769230769,19713.30769230769,13940.37962962963,13940.37962962963,13940.37962962963,13940.37962962963,13940.37962962963,12269.307692307691,12269.307692307691,12269.307692307691,16734.8,16734.8,16734.8,16734.8,16734.8,15473.61963190184,15473.61963190184,15473.61963190184,15473.61963190184,15473.61963190184,15473.61963190184,15473.61963190184,15473.61963190184,15473.61963190184,15473.61963190184,15473.61963190184,15473.61963190184,15645.618181818181,15645.618181818181,15645.618181818181,15645.618181818181,15645.618181818181,15645.618181818181,15645.618181818181,15645.618181818181,15645.618181818181,15645.618181818181,15645.618181818181,15645.618181818181,15645.618181818181,12017.52380952381,12017.52380952381,12017.52380952381,12017.52380952381,12017.52380952381,12017.52380952381,12017.52380952381,12279.542857142857,12279.542857142857,12279.542857142857,12279.542857142857,12279.542857142857,12279.542857142857,12279.542857142857,12279.542857142857,11268.536585365853,12053.641975308641,12053.641975308641,12053.641975308641,17837.78125,17837.78125,17837.78125,20218.37777777778,20218.37777777778,20218.37777777778,20218.37777777778,20218.37777777778,22266.446428571428,22266.446428571428,22266.446428571428,22266.446428571428,22266.446428571428,22266.446428571428,22266.446428571428,17730.80172413793,17730.80172413793,17730.80172413793,17730.80172413793,17730.80172413793,17730.80172413793,17730.80172413793,17730.80172413793,17730.80172413793,17730.80172413793,17730.80172413793,14799.25,14799.25,14799.25,14799.25,14799.25,14799.25,14799.25,14799.25,9939.76923076923,15749.157303370786,15749.157303370786,15749.157303370786,15749.157303370786,15749.157303370786,15749.157303370786,18299.56,18299.56,18299.56,15104.736842105263,15104.736842105263,17840.30769230769,17840.30769230769,17840.30769230769,18678.0625,18678.0625,18678.0625,18678.0625,18678.0625,18678.0625,14766.713333333333,18064.468085106382,18064.468085106382,18064.468085106382,18064.468085106382,18064.468085106382,18064.468085106382,18064.468085106382,19323.698630136987,19323.698630136987,19323.698630136987,19323.698630136987,19323.698630136987,19323.698630136987,19323.698630136987,19323.698630136987,19323.698630136987,19323.698630136987,19323.698630136987,19323.698630136987,19323.698630136987,19323.698630136987,19323.698630136987,19323.698630136987,19323.698630136987,19323.698630136987,19323.698630136987,19323.698630136987,12199.823529411764,12199.823529411764,12199.823529411764,12199.823529411764,12199.823529411764,12199.823529411764,12199.823529411764,12199.823529411764,12199.823529411764,15656.096153846154,15656.096153846154,15656.096153846154,17437.7,17437.7,17437.7,17437.7,17437.7,17437.7,17437.7,17437.7,17437.7,17437.7,17437.7,18269.0,18269.0,15660.6,15660.6,15660.6,15660.6,15660.6,14212.894736842105,14212.894736842105,14212.894736842105,14212.894736842105,14212.894736842105,11833.956043956045,16558.507518796992,16558.507518796992,16558.507518796992,16558.507518796992,16558.507518796992,16558.507518796992,16558.507518796992,16558.507518796992,16558.507518796992,16558.507518796992,16558.507518796992,16558.507518796992,16558.507518796992,16558.507518796992,16558.507518796992,16558.507518796992,18529.852941176472,18529.852941176472,18529.852941176472,18529.852941176472,16698.20779220779,16698.20779220779,16698.20779220779,16698.20779220779,16698.20779220779,16698.20779220779,16698.20779220779,16698.20779220779,16698.20779220779,15440.79411764706,15440.79411764706,15440.79411764706,15440.79411764706,15440.79411764706,15440.79411764706,12160.692307692309,14938.407407407407,14938.407407407407,14938.407407407407,14938.407407407407,14938.407407407407,14938.407407407407,14938.407407407407,14938.407407407407,14938.407407407407,14938.407407407407,14938.407407407407,14938.407407407407,14938.407407407407,14938.407407407407,14938.407407407407,14938.407407407407,14938.407407407407,14938.407407407407,14938.407407407407,14938.407407407407,14938.407407407407,14938.407407407407,14763.555555555555,16558.507518796992,16558.507518796992,16558.507518796992,16558.507518796992,16558.507518796992,16558.507518796992,16558.507518796992,16558.507518796992],\"type\":\"choropleth\"}],                        {\"template\":{\"data\":{\"histogram2dcontour\":[{\"type\":\"histogram2dcontour\",\"colorbar\":{\"outlinewidth\":0,\"ticks\":\"\"},\"colorscale\":[[0.0,\"#0d0887\"],[0.1111111111111111,\"#46039f\"],[0.2222222222222222,\"#7201a8\"],[0.3333333333333333,\"#9c179e\"],[0.4444444444444444,\"#bd3786\"],[0.5555555555555556,\"#d8576b\"],[0.6666666666666666,\"#ed7953\"],[0.7777777777777778,\"#fb9f3a\"],[0.8888888888888888,\"#fdca26\"],[1.0,\"#f0f921\"]]}],\"choropleth\":[{\"type\":\"choropleth\",\"colorbar\":{\"outlinewidth\":0,\"ticks\":\"\"}}],\"histogram2d\":[{\"type\":\"histogram2d\",\"colorbar\":{\"outlinewidth\":0,\"ticks\":\"\"},\"colorscale\":[[0.0,\"#0d0887\"],[0.1111111111111111,\"#46039f\"],[0.2222222222222222,\"#7201a8\"],[0.3333333333333333,\"#9c179e\"],[0.4444444444444444,\"#bd3786\"],[0.5555555555555556,\"#d8576b\"],[0.6666666666666666,\"#ed7953\"],[0.7777777777777778,\"#fb9f3a\"],[0.8888888888888888,\"#fdca26\"],[1.0,\"#f0f921\"]]}],\"heatmap\":[{\"type\":\"heatmap\",\"colorbar\":{\"outlinewidth\":0,\"ticks\":\"\"},\"colorscale\":[[0.0,\"#0d0887\"],[0.1111111111111111,\"#46039f\"],[0.2222222222222222,\"#7201a8\"],[0.3333333333333333,\"#9c179e\"],[0.4444444444444444,\"#bd3786\"],[0.5555555555555556,\"#d8576b\"],[0.6666666666666666,\"#ed7953\"],[0.7777777777777778,\"#fb9f3a\"],[0.8888888888888888,\"#fdca26\"],[1.0,\"#f0f921\"]]}],\"heatmapgl\":[{\"type\":\"heatmapgl\",\"colorbar\":{\"outlinewidth\":0,\"ticks\":\"\"},\"colorscale\":[[0.0,\"#0d0887\"],[0.1111111111111111,\"#46039f\"],[0.2222222222222222,\"#7201a8\"],[0.3333333333333333,\"#9c179e\"],[0.4444444444444444,\"#bd3786\"],[0.5555555555555556,\"#d8576b\"],[0.6666666666666666,\"#ed7953\"],[0.7777777777777778,\"#fb9f3a\"],[0.8888888888888888,\"#fdca26\"],[1.0,\"#f0f921\"]]}],\"contourcarpet\":[{\"type\":\"contourcarpet\",\"colorbar\":{\"outlinewidth\":0,\"ticks\":\"\"}}],\"contour\":[{\"type\":\"contour\",\"colorbar\":{\"outlinewidth\":0,\"ticks\":\"\"},\"colorscale\":[[0.0,\"#0d0887\"],[0.1111111111111111,\"#46039f\"],[0.2222222222222222,\"#7201a8\"],[0.3333333333333333,\"#9c179e\"],[0.4444444444444444,\"#bd3786\"],[0.5555555555555556,\"#d8576b\"],[0.6666666666666666,\"#ed7953\"],[0.7777777777777778,\"#fb9f3a\"],[0.8888888888888888,\"#fdca26\"],[1.0,\"#f0f921\"]]}],\"surface\":[{\"type\":\"surface\",\"colorbar\":{\"outlinewidth\":0,\"ticks\":\"\"},\"colorscale\":[[0.0,\"#0d0887\"],[0.1111111111111111,\"#46039f\"],[0.2222222222222222,\"#7201a8\"],[0.3333333333333333,\"#9c179e\"],[0.4444444444444444,\"#bd3786\"],[0.5555555555555556,\"#d8576b\"],[0.6666666666666666,\"#ed7953\"],[0.7777777777777778,\"#fb9f3a\"],[0.8888888888888888,\"#fdca26\"],[1.0,\"#f0f921\"]]}],\"mesh3d\":[{\"type\":\"mesh3d\",\"colorbar\":{\"outlinewidth\":0,\"ticks\":\"\"}}],\"scatter\":[{\"fillpattern\":{\"fillmode\":\"overlay\",\"size\":10,\"solidity\":0.2},\"type\":\"scatter\"}],\"parcoords\":[{\"type\":\"parcoords\",\"line\":{\"colorbar\":{\"outlinewidth\":0,\"ticks\":\"\"}}}],\"scatterpolargl\":[{\"type\":\"scatterpolargl\",\"marker\":{\"colorbar\":{\"outlinewidth\":0,\"ticks\":\"\"}}}],\"bar\":[{\"error_x\":{\"color\":\"#2a3f5f\"},\"error_y\":{\"color\":\"#2a3f5f\"},\"marker\":{\"line\":{\"color\":\"#E5ECF6\",\"width\":0.5},\"pattern\":{\"fillmode\":\"overlay\",\"size\":10,\"solidity\":0.2}},\"type\":\"bar\"}],\"scattergeo\":[{\"type\":\"scattergeo\",\"marker\":{\"colorbar\":{\"outlinewidth\":0,\"ticks\":\"\"}}}],\"scatterpolar\":[{\"type\":\"scatterpolar\",\"marker\":{\"colorbar\":{\"outlinewidth\":0,\"ticks\":\"\"}}}],\"histogram\":[{\"marker\":{\"pattern\":{\"fillmode\":\"overlay\",\"size\":10,\"solidity\":0.2}},\"type\":\"histogram\"}],\"scattergl\":[{\"type\":\"scattergl\",\"marker\":{\"colorbar\":{\"outlinewidth\":0,\"ticks\":\"\"}}}],\"scatter3d\":[{\"type\":\"scatter3d\",\"line\":{\"colorbar\":{\"outlinewidth\":0,\"ticks\":\"\"}},\"marker\":{\"colorbar\":{\"outlinewidth\":0,\"ticks\":\"\"}}}],\"scattermapbox\":[{\"type\":\"scattermapbox\",\"marker\":{\"colorbar\":{\"outlinewidth\":0,\"ticks\":\"\"}}}],\"scatterternary\":[{\"type\":\"scatterternary\",\"marker\":{\"colorbar\":{\"outlinewidth\":0,\"ticks\":\"\"}}}],\"scattercarpet\":[{\"type\":\"scattercarpet\",\"marker\":{\"colorbar\":{\"outlinewidth\":0,\"ticks\":\"\"}}}],\"carpet\":[{\"aaxis\":{\"endlinecolor\":\"#2a3f5f\",\"gridcolor\":\"white\",\"linecolor\":\"white\",\"minorgridcolor\":\"white\",\"startlinecolor\":\"#2a3f5f\"},\"baxis\":{\"endlinecolor\":\"#2a3f5f\",\"gridcolor\":\"white\",\"linecolor\":\"white\",\"minorgridcolor\":\"white\",\"startlinecolor\":\"#2a3f5f\"},\"type\":\"carpet\"}],\"table\":[{\"cells\":{\"fill\":{\"color\":\"#EBF0F8\"},\"line\":{\"color\":\"white\"}},\"header\":{\"fill\":{\"color\":\"#C8D4E3\"},\"line\":{\"color\":\"white\"}},\"type\":\"table\"}],\"barpolar\":[{\"marker\":{\"line\":{\"color\":\"#E5ECF6\",\"width\":0.5},\"pattern\":{\"fillmode\":\"overlay\",\"size\":10,\"solidity\":0.2}},\"type\":\"barpolar\"}],\"pie\":[{\"automargin\":true,\"type\":\"pie\"}]},\"layout\":{\"autotypenumbers\":\"strict\",\"colorway\":[\"#636efa\",\"#EF553B\",\"#00cc96\",\"#ab63fa\",\"#FFA15A\",\"#19d3f3\",\"#FF6692\",\"#B6E880\",\"#FF97FF\",\"#FECB52\"],\"font\":{\"color\":\"#2a3f5f\"},\"hovermode\":\"closest\",\"hoverlabel\":{\"align\":\"left\"},\"paper_bgcolor\":\"white\",\"plot_bgcolor\":\"#E5ECF6\",\"polar\":{\"bgcolor\":\"#E5ECF6\",\"angularaxis\":{\"gridcolor\":\"white\",\"linecolor\":\"white\",\"ticks\":\"\"},\"radialaxis\":{\"gridcolor\":\"white\",\"linecolor\":\"white\",\"ticks\":\"\"}},\"ternary\":{\"bgcolor\":\"#E5ECF6\",\"aaxis\":{\"gridcolor\":\"white\",\"linecolor\":\"white\",\"ticks\":\"\"},\"baxis\":{\"gridcolor\":\"white\",\"linecolor\":\"white\",\"ticks\":\"\"},\"caxis\":{\"gridcolor\":\"white\",\"linecolor\":\"white\",\"ticks\":\"\"}},\"coloraxis\":{\"colorbar\":{\"outlinewidth\":0,\"ticks\":\"\"}},\"colorscale\":{\"sequential\":[[0.0,\"#0d0887\"],[0.1111111111111111,\"#46039f\"],[0.2222222222222222,\"#7201a8\"],[0.3333333333333333,\"#9c179e\"],[0.4444444444444444,\"#bd3786\"],[0.5555555555555556,\"#d8576b\"],[0.6666666666666666,\"#ed7953\"],[0.7777777777777778,\"#fb9f3a\"],[0.8888888888888888,\"#fdca26\"],[1.0,\"#f0f921\"]],\"sequentialminus\":[[0.0,\"#0d0887\"],[0.1111111111111111,\"#46039f\"],[0.2222222222222222,\"#7201a8\"],[0.3333333333333333,\"#9c179e\"],[0.4444444444444444,\"#bd3786\"],[0.5555555555555556,\"#d8576b\"],[0.6666666666666666,\"#ed7953\"],[0.7777777777777778,\"#fb9f3a\"],[0.8888888888888888,\"#fdca26\"],[1.0,\"#f0f921\"]],\"diverging\":[[0,\"#8e0152\"],[0.1,\"#c51b7d\"],[0.2,\"#de77ae\"],[0.3,\"#f1b6da\"],[0.4,\"#fde0ef\"],[0.5,\"#f7f7f7\"],[0.6,\"#e6f5d0\"],[0.7,\"#b8e186\"],[0.8,\"#7fbc41\"],[0.9,\"#4d9221\"],[1,\"#276419\"]]},\"xaxis\":{\"gridcolor\":\"white\",\"linecolor\":\"white\",\"ticks\":\"\",\"title\":{\"standoff\":15},\"zerolinecolor\":\"white\",\"automargin\":true,\"zerolinewidth\":2},\"yaxis\":{\"gridcolor\":\"white\",\"linecolor\":\"white\",\"ticks\":\"\",\"title\":{\"standoff\":15},\"zerolinecolor\":\"white\",\"automargin\":true,\"zerolinewidth\":2},\"scene\":{\"xaxis\":{\"backgroundcolor\":\"#E5ECF6\",\"gridcolor\":\"white\",\"linecolor\":\"white\",\"showbackground\":true,\"ticks\":\"\",\"zerolinecolor\":\"white\",\"gridwidth\":2},\"yaxis\":{\"backgroundcolor\":\"#E5ECF6\",\"gridcolor\":\"white\",\"linecolor\":\"white\",\"showbackground\":true,\"ticks\":\"\",\"zerolinecolor\":\"white\",\"gridwidth\":2},\"zaxis\":{\"backgroundcolor\":\"#E5ECF6\",\"gridcolor\":\"white\",\"linecolor\":\"white\",\"showbackground\":true,\"ticks\":\"\",\"zerolinecolor\":\"white\",\"gridwidth\":2}},\"shapedefaults\":{\"line\":{\"color\":\"#2a3f5f\"}},\"annotationdefaults\":{\"arrowcolor\":\"#2a3f5f\",\"arrowhead\":0,\"arrowwidth\":1},\"geo\":{\"bgcolor\":\"white\",\"landcolor\":\"#E5ECF6\",\"subunitcolor\":\"white\",\"showland\":true,\"showlakes\":true,\"lakecolor\":\"white\"},\"title\":{\"x\":0.05},\"mapbox\":{\"style\":\"light\"}}},\"title\":{\"text\":\"Average Cost of Hip and Knee Care by State\"},\"geo\":{\"scope\":\"usa\"}},                        {\"responsive\": true}                    ).then(function(){\n",
              "                            \n",
              "var gd = document.getElementById('7048ac7a-6cf2-405e-92c7-6ed0b5cd6759');\n",
              "var x = new MutationObserver(function (mutations, observer) {{\n",
              "        var display = window.getComputedStyle(gd).display;\n",
              "        if (!display || display === 'none') {{\n",
              "            console.log([gd, 'removed!']);\n",
              "            Plotly.purge(gd);\n",
              "            observer.disconnect();\n",
              "        }}\n",
              "}});\n",
              "\n",
              "// Listen for the removal of the full notebook cells\n",
              "var notebookContainer = gd.closest('#notebook-container');\n",
              "if (notebookContainer) {{\n",
              "    x.observe(notebookContainer, {childList: true});\n",
              "}}\n",
              "\n",
              "// Listen for the clearing of the current output cell\n",
              "var outputEl = gd.closest('.output');\n",
              "if (outputEl) {{\n",
              "    x.observe(outputEl, {childList: true});\n",
              "}}\n",
              "\n",
              "                        })                };                            </script>        </div>\n",
              "</body>\n",
              "</html>"
            ]
          },
          "metadata": {}
        }
      ]
    },
    {
      "cell_type": "markdown",
      "source": [
        "**Modeling**"
      ],
      "metadata": {
        "id": "v-kW_rpYYa9g"
      }
    },
    {
      "cell_type": "code",
      "source": [
        "df2 = df.copy()\n",
        "df2.duplicated().sum()\n",
        "#drop duplicates from data\n",
        "df2.drop_duplicates(inplace=True)"
      ],
      "metadata": {
        "id": "wJ7TBPcuYco_"
      },
      "execution_count": 43,
      "outputs": []
    },
    {
      "cell_type": "code",
      "source": [
        "#drop mean columns that's not needed for modeling\n",
        "df2.drop(['Mean.HAC.State', 'Mean.HFC.State', 'Mean.Pne.State', 'Mean.HK.State'], axis=1, inplace=True)\n",
        "df2.head()"
      ],
      "metadata": {
        "colab": {
          "base_uri": "https://localhost:8080/",
          "height": 270
        },
        "id": "rqLmF3SgnKYg",
        "outputId": "4664a566-35a1-4f8b-c059-c18072cbb36f"
      },
      "execution_count": 44,
      "outputs": [
        {
          "output_type": "execute_result",
          "data": {
            "text/plain": [
              "  Facility.State Facility.Type  Rating.Overall  Procedure.Heart.Attack.Cost  \\\n",
              "0             AL    Government             1.0                        22579   \n",
              "1             AL       Private             1.0                            0   \n",
              "2             AL    Government             1.0                            0   \n",
              "3             AL       Private             1.0                        22788   \n",
              "4             AL   Proprietary             1.0                        22208   \n",
              "\n",
              "   Procedure.Heart.Attack.Quality  Procedure.Heart.Attack.Value  \\\n",
              "0                               2                             2   \n",
              "1                               0                             0   \n",
              "2                               0                             0   \n",
              "3                               2                             2   \n",
              "4                               2                             2   \n",
              "\n",
              "   Procedure.Heart.Failure.Cost  Procedure.Heart.Failure.Quality  \\\n",
              "0                         15819                                1   \n",
              "1                         14541                                2   \n",
              "2                         14855                                2   \n",
              "3                         17664                                2   \n",
              "4                         17150                                2   \n",
              "\n",
              "   Procedure.Heart.Failure.Value  Procedure.Pneumonia.Cost  \\\n",
              "0                              2                     15614   \n",
              "1                              1                     15226   \n",
              "2                              1                     14509   \n",
              "3                              3                     18321   \n",
              "4                              2                     17128   \n",
              "\n",
              "   Procedure.Pneumonia.Quality  Procedure.Pneumonia.Value  \\\n",
              "0                            1                          1   \n",
              "1                            1                          1   \n",
              "2                            2                          1   \n",
              "3                            2                          3   \n",
              "4                            2                          2   \n",
              "\n",
              "   Procedure.Hip.Knee.Cost  Procedure.Hip.Knee.Quality  \\\n",
              "0                    22747                           2   \n",
              "1                    23472                           2   \n",
              "2                    24701                           2   \n",
              "3                    21994                           2   \n",
              "4                    23520                           2   \n",
              "\n",
              "   Procedure.Hip.Knee.Value  \n",
              "0                         2  \n",
              "1                         2  \n",
              "2                         3  \n",
              "3                         2  \n",
              "4                         3  "
            ],
            "text/html": [
              "\n",
              "  <div id=\"df-4bd6fa71-ae5b-4904-b134-fd744ec8a7ba\">\n",
              "    <div class=\"colab-df-container\">\n",
              "      <div>\n",
              "<style scoped>\n",
              "    .dataframe tbody tr th:only-of-type {\n",
              "        vertical-align: middle;\n",
              "    }\n",
              "\n",
              "    .dataframe tbody tr th {\n",
              "        vertical-align: top;\n",
              "    }\n",
              "\n",
              "    .dataframe thead th {\n",
              "        text-align: right;\n",
              "    }\n",
              "</style>\n",
              "<table border=\"1\" class=\"dataframe\">\n",
              "  <thead>\n",
              "    <tr style=\"text-align: right;\">\n",
              "      <th></th>\n",
              "      <th>Facility.State</th>\n",
              "      <th>Facility.Type</th>\n",
              "      <th>Rating.Overall</th>\n",
              "      <th>Procedure.Heart.Attack.Cost</th>\n",
              "      <th>Procedure.Heart.Attack.Quality</th>\n",
              "      <th>Procedure.Heart.Attack.Value</th>\n",
              "      <th>Procedure.Heart.Failure.Cost</th>\n",
              "      <th>Procedure.Heart.Failure.Quality</th>\n",
              "      <th>Procedure.Heart.Failure.Value</th>\n",
              "      <th>Procedure.Pneumonia.Cost</th>\n",
              "      <th>Procedure.Pneumonia.Quality</th>\n",
              "      <th>Procedure.Pneumonia.Value</th>\n",
              "      <th>Procedure.Hip.Knee.Cost</th>\n",
              "      <th>Procedure.Hip.Knee.Quality</th>\n",
              "      <th>Procedure.Hip.Knee.Value</th>\n",
              "    </tr>\n",
              "  </thead>\n",
              "  <tbody>\n",
              "    <tr>\n",
              "      <th>0</th>\n",
              "      <td>AL</td>\n",
              "      <td>Government</td>\n",
              "      <td>1.0</td>\n",
              "      <td>22579</td>\n",
              "      <td>2</td>\n",
              "      <td>2</td>\n",
              "      <td>15819</td>\n",
              "      <td>1</td>\n",
              "      <td>2</td>\n",
              "      <td>15614</td>\n",
              "      <td>1</td>\n",
              "      <td>1</td>\n",
              "      <td>22747</td>\n",
              "      <td>2</td>\n",
              "      <td>2</td>\n",
              "    </tr>\n",
              "    <tr>\n",
              "      <th>1</th>\n",
              "      <td>AL</td>\n",
              "      <td>Private</td>\n",
              "      <td>1.0</td>\n",
              "      <td>0</td>\n",
              "      <td>0</td>\n",
              "      <td>0</td>\n",
              "      <td>14541</td>\n",
              "      <td>2</td>\n",
              "      <td>1</td>\n",
              "      <td>15226</td>\n",
              "      <td>1</td>\n",
              "      <td>1</td>\n",
              "      <td>23472</td>\n",
              "      <td>2</td>\n",
              "      <td>2</td>\n",
              "    </tr>\n",
              "    <tr>\n",
              "      <th>2</th>\n",
              "      <td>AL</td>\n",
              "      <td>Government</td>\n",
              "      <td>1.0</td>\n",
              "      <td>0</td>\n",
              "      <td>0</td>\n",
              "      <td>0</td>\n",
              "      <td>14855</td>\n",
              "      <td>2</td>\n",
              "      <td>1</td>\n",
              "      <td>14509</td>\n",
              "      <td>2</td>\n",
              "      <td>1</td>\n",
              "      <td>24701</td>\n",
              "      <td>2</td>\n",
              "      <td>3</td>\n",
              "    </tr>\n",
              "    <tr>\n",
              "      <th>3</th>\n",
              "      <td>AL</td>\n",
              "      <td>Private</td>\n",
              "      <td>1.0</td>\n",
              "      <td>22788</td>\n",
              "      <td>2</td>\n",
              "      <td>2</td>\n",
              "      <td>17664</td>\n",
              "      <td>2</td>\n",
              "      <td>3</td>\n",
              "      <td>18321</td>\n",
              "      <td>2</td>\n",
              "      <td>3</td>\n",
              "      <td>21994</td>\n",
              "      <td>2</td>\n",
              "      <td>2</td>\n",
              "    </tr>\n",
              "    <tr>\n",
              "      <th>4</th>\n",
              "      <td>AL</td>\n",
              "      <td>Proprietary</td>\n",
              "      <td>1.0</td>\n",
              "      <td>22208</td>\n",
              "      <td>2</td>\n",
              "      <td>2</td>\n",
              "      <td>17150</td>\n",
              "      <td>2</td>\n",
              "      <td>2</td>\n",
              "      <td>17128</td>\n",
              "      <td>2</td>\n",
              "      <td>2</td>\n",
              "      <td>23520</td>\n",
              "      <td>2</td>\n",
              "      <td>3</td>\n",
              "    </tr>\n",
              "  </tbody>\n",
              "</table>\n",
              "</div>\n",
              "      <button class=\"colab-df-convert\" onclick=\"convertToInteractive('df-4bd6fa71-ae5b-4904-b134-fd744ec8a7ba')\"\n",
              "              title=\"Convert this dataframe to an interactive table.\"\n",
              "              style=\"display:none;\">\n",
              "        \n",
              "  <svg xmlns=\"http://www.w3.org/2000/svg\" height=\"24px\"viewBox=\"0 0 24 24\"\n",
              "       width=\"24px\">\n",
              "    <path d=\"M0 0h24v24H0V0z\" fill=\"none\"/>\n",
              "    <path d=\"M18.56 5.44l.94 2.06.94-2.06 2.06-.94-2.06-.94-.94-2.06-.94 2.06-2.06.94zm-11 1L8.5 8.5l.94-2.06 2.06-.94-2.06-.94L8.5 2.5l-.94 2.06-2.06.94zm10 10l.94 2.06.94-2.06 2.06-.94-2.06-.94-.94-2.06-.94 2.06-2.06.94z\"/><path d=\"M17.41 7.96l-1.37-1.37c-.4-.4-.92-.59-1.43-.59-.52 0-1.04.2-1.43.59L10.3 9.45l-7.72 7.72c-.78.78-.78 2.05 0 2.83L4 21.41c.39.39.9.59 1.41.59.51 0 1.02-.2 1.41-.59l7.78-7.78 2.81-2.81c.8-.78.8-2.07 0-2.86zM5.41 20L4 18.59l7.72-7.72 1.47 1.35L5.41 20z\"/>\n",
              "  </svg>\n",
              "      </button>\n",
              "      \n",
              "  <style>\n",
              "    .colab-df-container {\n",
              "      display:flex;\n",
              "      flex-wrap:wrap;\n",
              "      gap: 12px;\n",
              "    }\n",
              "\n",
              "    .colab-df-convert {\n",
              "      background-color: #E8F0FE;\n",
              "      border: none;\n",
              "      border-radius: 50%;\n",
              "      cursor: pointer;\n",
              "      display: none;\n",
              "      fill: #1967D2;\n",
              "      height: 32px;\n",
              "      padding: 0 0 0 0;\n",
              "      width: 32px;\n",
              "    }\n",
              "\n",
              "    .colab-df-convert:hover {\n",
              "      background-color: #E2EBFA;\n",
              "      box-shadow: 0px 1px 2px rgba(60, 64, 67, 0.3), 0px 1px 3px 1px rgba(60, 64, 67, 0.15);\n",
              "      fill: #174EA6;\n",
              "    }\n",
              "\n",
              "    [theme=dark] .colab-df-convert {\n",
              "      background-color: #3B4455;\n",
              "      fill: #D2E3FC;\n",
              "    }\n",
              "\n",
              "    [theme=dark] .colab-df-convert:hover {\n",
              "      background-color: #434B5C;\n",
              "      box-shadow: 0px 1px 3px 1px rgba(0, 0, 0, 0.15);\n",
              "      filter: drop-shadow(0px 1px 2px rgba(0, 0, 0, 0.3));\n",
              "      fill: #FFFFFF;\n",
              "    }\n",
              "  </style>\n",
              "\n",
              "      <script>\n",
              "        const buttonEl =\n",
              "          document.querySelector('#df-4bd6fa71-ae5b-4904-b134-fd744ec8a7ba button.colab-df-convert');\n",
              "        buttonEl.style.display =\n",
              "          google.colab.kernel.accessAllowed ? 'block' : 'none';\n",
              "\n",
              "        async function convertToInteractive(key) {\n",
              "          const element = document.querySelector('#df-4bd6fa71-ae5b-4904-b134-fd744ec8a7ba');\n",
              "          const dataTable =\n",
              "            await google.colab.kernel.invokeFunction('convertToInteractive',\n",
              "                                                     [key], {});\n",
              "          if (!dataTable) return;\n",
              "\n",
              "          const docLinkHtml = 'Like what you see? Visit the ' +\n",
              "            '<a target=\"_blank\" href=https://colab.research.google.com/notebooks/data_table.ipynb>data table notebook</a>'\n",
              "            + ' to learn more about interactive tables.';\n",
              "          element.innerHTML = '';\n",
              "          dataTable['output_type'] = 'display_data';\n",
              "          await google.colab.output.renderOutput(dataTable, element);\n",
              "          const docLink = document.createElement('div');\n",
              "          docLink.innerHTML = docLinkHtml;\n",
              "          element.appendChild(docLink);\n",
              "        }\n",
              "      </script>\n",
              "    </div>\n",
              "  </div>\n",
              "  "
            ]
          },
          "metadata": {},
          "execution_count": 44
        }
      ]
    },
    {
      "cell_type": "code",
      "source": [
        "#df3 for deep learning model\n",
        "df3 = df2.copy()"
      ],
      "metadata": {
        "id": "SF2NuUIkpCnh"
      },
      "execution_count": 45,
      "outputs": []
    },
    {
      "cell_type": "code",
      "source": [
        "df3.head()"
      ],
      "metadata": {
        "colab": {
          "base_uri": "https://localhost:8080/",
          "height": 270
        },
        "id": "iyFFjF-yYZcN",
        "outputId": "076ab17f-0d80-4148-8110-e3be99d7f689"
      },
      "execution_count": 46,
      "outputs": [
        {
          "output_type": "execute_result",
          "data": {
            "text/plain": [
              "  Facility.State Facility.Type  Rating.Overall  Procedure.Heart.Attack.Cost  \\\n",
              "0             AL    Government             1.0                        22579   \n",
              "1             AL       Private             1.0                            0   \n",
              "2             AL    Government             1.0                            0   \n",
              "3             AL       Private             1.0                        22788   \n",
              "4             AL   Proprietary             1.0                        22208   \n",
              "\n",
              "   Procedure.Heart.Attack.Quality  Procedure.Heart.Attack.Value  \\\n",
              "0                               2                             2   \n",
              "1                               0                             0   \n",
              "2                               0                             0   \n",
              "3                               2                             2   \n",
              "4                               2                             2   \n",
              "\n",
              "   Procedure.Heart.Failure.Cost  Procedure.Heart.Failure.Quality  \\\n",
              "0                         15819                                1   \n",
              "1                         14541                                2   \n",
              "2                         14855                                2   \n",
              "3                         17664                                2   \n",
              "4                         17150                                2   \n",
              "\n",
              "   Procedure.Heart.Failure.Value  Procedure.Pneumonia.Cost  \\\n",
              "0                              2                     15614   \n",
              "1                              1                     15226   \n",
              "2                              1                     14509   \n",
              "3                              3                     18321   \n",
              "4                              2                     17128   \n",
              "\n",
              "   Procedure.Pneumonia.Quality  Procedure.Pneumonia.Value  \\\n",
              "0                            1                          1   \n",
              "1                            1                          1   \n",
              "2                            2                          1   \n",
              "3                            2                          3   \n",
              "4                            2                          2   \n",
              "\n",
              "   Procedure.Hip.Knee.Cost  Procedure.Hip.Knee.Quality  \\\n",
              "0                    22747                           2   \n",
              "1                    23472                           2   \n",
              "2                    24701                           2   \n",
              "3                    21994                           2   \n",
              "4                    23520                           2   \n",
              "\n",
              "   Procedure.Hip.Knee.Value  \n",
              "0                         2  \n",
              "1                         2  \n",
              "2                         3  \n",
              "3                         2  \n",
              "4                         3  "
            ],
            "text/html": [
              "\n",
              "  <div id=\"df-ef4c6e81-801d-4421-902b-6e4d93dfacab\">\n",
              "    <div class=\"colab-df-container\">\n",
              "      <div>\n",
              "<style scoped>\n",
              "    .dataframe tbody tr th:only-of-type {\n",
              "        vertical-align: middle;\n",
              "    }\n",
              "\n",
              "    .dataframe tbody tr th {\n",
              "        vertical-align: top;\n",
              "    }\n",
              "\n",
              "    .dataframe thead th {\n",
              "        text-align: right;\n",
              "    }\n",
              "</style>\n",
              "<table border=\"1\" class=\"dataframe\">\n",
              "  <thead>\n",
              "    <tr style=\"text-align: right;\">\n",
              "      <th></th>\n",
              "      <th>Facility.State</th>\n",
              "      <th>Facility.Type</th>\n",
              "      <th>Rating.Overall</th>\n",
              "      <th>Procedure.Heart.Attack.Cost</th>\n",
              "      <th>Procedure.Heart.Attack.Quality</th>\n",
              "      <th>Procedure.Heart.Attack.Value</th>\n",
              "      <th>Procedure.Heart.Failure.Cost</th>\n",
              "      <th>Procedure.Heart.Failure.Quality</th>\n",
              "      <th>Procedure.Heart.Failure.Value</th>\n",
              "      <th>Procedure.Pneumonia.Cost</th>\n",
              "      <th>Procedure.Pneumonia.Quality</th>\n",
              "      <th>Procedure.Pneumonia.Value</th>\n",
              "      <th>Procedure.Hip.Knee.Cost</th>\n",
              "      <th>Procedure.Hip.Knee.Quality</th>\n",
              "      <th>Procedure.Hip.Knee.Value</th>\n",
              "    </tr>\n",
              "  </thead>\n",
              "  <tbody>\n",
              "    <tr>\n",
              "      <th>0</th>\n",
              "      <td>AL</td>\n",
              "      <td>Government</td>\n",
              "      <td>1.0</td>\n",
              "      <td>22579</td>\n",
              "      <td>2</td>\n",
              "      <td>2</td>\n",
              "      <td>15819</td>\n",
              "      <td>1</td>\n",
              "      <td>2</td>\n",
              "      <td>15614</td>\n",
              "      <td>1</td>\n",
              "      <td>1</td>\n",
              "      <td>22747</td>\n",
              "      <td>2</td>\n",
              "      <td>2</td>\n",
              "    </tr>\n",
              "    <tr>\n",
              "      <th>1</th>\n",
              "      <td>AL</td>\n",
              "      <td>Private</td>\n",
              "      <td>1.0</td>\n",
              "      <td>0</td>\n",
              "      <td>0</td>\n",
              "      <td>0</td>\n",
              "      <td>14541</td>\n",
              "      <td>2</td>\n",
              "      <td>1</td>\n",
              "      <td>15226</td>\n",
              "      <td>1</td>\n",
              "      <td>1</td>\n",
              "      <td>23472</td>\n",
              "      <td>2</td>\n",
              "      <td>2</td>\n",
              "    </tr>\n",
              "    <tr>\n",
              "      <th>2</th>\n",
              "      <td>AL</td>\n",
              "      <td>Government</td>\n",
              "      <td>1.0</td>\n",
              "      <td>0</td>\n",
              "      <td>0</td>\n",
              "      <td>0</td>\n",
              "      <td>14855</td>\n",
              "      <td>2</td>\n",
              "      <td>1</td>\n",
              "      <td>14509</td>\n",
              "      <td>2</td>\n",
              "      <td>1</td>\n",
              "      <td>24701</td>\n",
              "      <td>2</td>\n",
              "      <td>3</td>\n",
              "    </tr>\n",
              "    <tr>\n",
              "      <th>3</th>\n",
              "      <td>AL</td>\n",
              "      <td>Private</td>\n",
              "      <td>1.0</td>\n",
              "      <td>22788</td>\n",
              "      <td>2</td>\n",
              "      <td>2</td>\n",
              "      <td>17664</td>\n",
              "      <td>2</td>\n",
              "      <td>3</td>\n",
              "      <td>18321</td>\n",
              "      <td>2</td>\n",
              "      <td>3</td>\n",
              "      <td>21994</td>\n",
              "      <td>2</td>\n",
              "      <td>2</td>\n",
              "    </tr>\n",
              "    <tr>\n",
              "      <th>4</th>\n",
              "      <td>AL</td>\n",
              "      <td>Proprietary</td>\n",
              "      <td>1.0</td>\n",
              "      <td>22208</td>\n",
              "      <td>2</td>\n",
              "      <td>2</td>\n",
              "      <td>17150</td>\n",
              "      <td>2</td>\n",
              "      <td>2</td>\n",
              "      <td>17128</td>\n",
              "      <td>2</td>\n",
              "      <td>2</td>\n",
              "      <td>23520</td>\n",
              "      <td>2</td>\n",
              "      <td>3</td>\n",
              "    </tr>\n",
              "  </tbody>\n",
              "</table>\n",
              "</div>\n",
              "      <button class=\"colab-df-convert\" onclick=\"convertToInteractive('df-ef4c6e81-801d-4421-902b-6e4d93dfacab')\"\n",
              "              title=\"Convert this dataframe to an interactive table.\"\n",
              "              style=\"display:none;\">\n",
              "        \n",
              "  <svg xmlns=\"http://www.w3.org/2000/svg\" height=\"24px\"viewBox=\"0 0 24 24\"\n",
              "       width=\"24px\">\n",
              "    <path d=\"M0 0h24v24H0V0z\" fill=\"none\"/>\n",
              "    <path d=\"M18.56 5.44l.94 2.06.94-2.06 2.06-.94-2.06-.94-.94-2.06-.94 2.06-2.06.94zm-11 1L8.5 8.5l.94-2.06 2.06-.94-2.06-.94L8.5 2.5l-.94 2.06-2.06.94zm10 10l.94 2.06.94-2.06 2.06-.94-2.06-.94-.94-2.06-.94 2.06-2.06.94z\"/><path d=\"M17.41 7.96l-1.37-1.37c-.4-.4-.92-.59-1.43-.59-.52 0-1.04.2-1.43.59L10.3 9.45l-7.72 7.72c-.78.78-.78 2.05 0 2.83L4 21.41c.39.39.9.59 1.41.59.51 0 1.02-.2 1.41-.59l7.78-7.78 2.81-2.81c.8-.78.8-2.07 0-2.86zM5.41 20L4 18.59l7.72-7.72 1.47 1.35L5.41 20z\"/>\n",
              "  </svg>\n",
              "      </button>\n",
              "      \n",
              "  <style>\n",
              "    .colab-df-container {\n",
              "      display:flex;\n",
              "      flex-wrap:wrap;\n",
              "      gap: 12px;\n",
              "    }\n",
              "\n",
              "    .colab-df-convert {\n",
              "      background-color: #E8F0FE;\n",
              "      border: none;\n",
              "      border-radius: 50%;\n",
              "      cursor: pointer;\n",
              "      display: none;\n",
              "      fill: #1967D2;\n",
              "      height: 32px;\n",
              "      padding: 0 0 0 0;\n",
              "      width: 32px;\n",
              "    }\n",
              "\n",
              "    .colab-df-convert:hover {\n",
              "      background-color: #E2EBFA;\n",
              "      box-shadow: 0px 1px 2px rgba(60, 64, 67, 0.3), 0px 1px 3px 1px rgba(60, 64, 67, 0.15);\n",
              "      fill: #174EA6;\n",
              "    }\n",
              "\n",
              "    [theme=dark] .colab-df-convert {\n",
              "      background-color: #3B4455;\n",
              "      fill: #D2E3FC;\n",
              "    }\n",
              "\n",
              "    [theme=dark] .colab-df-convert:hover {\n",
              "      background-color: #434B5C;\n",
              "      box-shadow: 0px 1px 3px 1px rgba(0, 0, 0, 0.15);\n",
              "      filter: drop-shadow(0px 1px 2px rgba(0, 0, 0, 0.3));\n",
              "      fill: #FFFFFF;\n",
              "    }\n",
              "  </style>\n",
              "\n",
              "      <script>\n",
              "        const buttonEl =\n",
              "          document.querySelector('#df-ef4c6e81-801d-4421-902b-6e4d93dfacab button.colab-df-convert');\n",
              "        buttonEl.style.display =\n",
              "          google.colab.kernel.accessAllowed ? 'block' : 'none';\n",
              "\n",
              "        async function convertToInteractive(key) {\n",
              "          const element = document.querySelector('#df-ef4c6e81-801d-4421-902b-6e4d93dfacab');\n",
              "          const dataTable =\n",
              "            await google.colab.kernel.invokeFunction('convertToInteractive',\n",
              "                                                     [key], {});\n",
              "          if (!dataTable) return;\n",
              "\n",
              "          const docLinkHtml = 'Like what you see? Visit the ' +\n",
              "            '<a target=\"_blank\" href=https://colab.research.google.com/notebooks/data_table.ipynb>data table notebook</a>'\n",
              "            + ' to learn more about interactive tables.';\n",
              "          element.innerHTML = '';\n",
              "          dataTable['output_type'] = 'display_data';\n",
              "          await google.colab.output.renderOutput(dataTable, element);\n",
              "          const docLink = document.createElement('div');\n",
              "          docLink.innerHTML = docLinkHtml;\n",
              "          element.appendChild(docLink);\n",
              "        }\n",
              "      </script>\n",
              "    </div>\n",
              "  </div>\n",
              "  "
            ]
          },
          "metadata": {},
          "execution_count": 46
        }
      ]
    },
    {
      "cell_type": "markdown",
      "source": [
        "Preprocessing"
      ],
      "metadata": {
        "id": "XZupNryuYihH"
      }
    },
    {
      "cell_type": "code",
      "source": [
        "#assign X and y\n",
        "#Rating.Overall is the target\n",
        "\n",
        "X = df2.drop(columns='Rating.Overall')\n",
        "y = df2['Rating.Overall']\n",
        "\n",
        "# split into training and test sets\n",
        "X_train, X_test, y_train, y_test = train_test_split(X, y, random_state=42)"
      ],
      "metadata": {
        "id": "kpfVms0lYffk"
      },
      "execution_count": 47,
      "outputs": []
    },
    {
      "cell_type": "code",
      "source": [
        "cat_selector = make_column_selector(dtype_include='object')\n",
        "num_selector = make_column_selector(dtype_include='number')\n",
        "\n",
        "ohe = OneHotEncoder(sparse=False, handle_unknown='ignore')\n",
        "scaler = StandardScaler()\n",
        "\n",
        "#create tuples\n",
        "ohe_tuple = (ohe, cat_selector)\n",
        "scaler_tuple = (scaler, num_selector)\n",
        "\n",
        "# let the numeric columns pass through unchanged\n",
        "preprocessor = make_column_transformer(ohe_tuple, scaler_tuple, remainder = 'passthrough')\n"
      ],
      "metadata": {
        "id": "k5t9UnLP1yXo"
      },
      "execution_count": 48,
      "outputs": []
    },
    {
      "cell_type": "markdown",
      "source": [
        "KNN Model"
      ],
      "metadata": {
        "id": "eyoYJEGLY_h-"
      }
    },
    {
      "cell_type": "code",
      "source": [
        "knn= KNeighborsClassifier()\n",
        "\n",
        "#create a pipeline for KNN model\n",
        "knn_pipe = make_pipeline(preprocessor, knn)\n",
        "#fit model to dataset\n",
        "knn_pipe.fit(X_train, y_train)"
      ],
      "metadata": {
        "colab": {
          "base_uri": "https://localhost:8080/",
          "height": 192
        },
        "id": "aHjkCUmLY6QO",
        "outputId": "918737c1-176e-4956-a9f1-b7340cd16c2d"
      },
      "execution_count": 49,
      "outputs": [
        {
          "output_type": "execute_result",
          "data": {
            "text/plain": [
              "Pipeline(steps=[('columntransformer',\n",
              "                 ColumnTransformer(remainder='passthrough',\n",
              "                                   transformers=[('onehotencoder',\n",
              "                                                  OneHotEncoder(handle_unknown='ignore',\n",
              "                                                                sparse=False),\n",
              "                                                  <sklearn.compose._column_transformer.make_column_selector object at 0x7f0544993390>),\n",
              "                                                 ('standardscaler',\n",
              "                                                  StandardScaler(),\n",
              "                                                  <sklearn.compose._column_transformer.make_column_selector object at 0x7f0544993c10>)])),\n",
              "                ('kneighborsclassifier', KNeighborsClassifier())])"
            ],
            "text/html": [
              "<style>#sk-535f925f-8815-4f73-a614-07b099025a07 {color: black;background-color: white;}#sk-535f925f-8815-4f73-a614-07b099025a07 pre{padding: 0;}#sk-535f925f-8815-4f73-a614-07b099025a07 div.sk-toggleable {background-color: white;}#sk-535f925f-8815-4f73-a614-07b099025a07 label.sk-toggleable__label {cursor: pointer;display: block;width: 100%;margin-bottom: 0;padding: 0.3em;box-sizing: border-box;text-align: center;}#sk-535f925f-8815-4f73-a614-07b099025a07 label.sk-toggleable__label-arrow:before {content: \"▸\";float: left;margin-right: 0.25em;color: #696969;}#sk-535f925f-8815-4f73-a614-07b099025a07 label.sk-toggleable__label-arrow:hover:before {color: black;}#sk-535f925f-8815-4f73-a614-07b099025a07 div.sk-estimator:hover label.sk-toggleable__label-arrow:before {color: black;}#sk-535f925f-8815-4f73-a614-07b099025a07 div.sk-toggleable__content {max-height: 0;max-width: 0;overflow: hidden;text-align: left;background-color: #f0f8ff;}#sk-535f925f-8815-4f73-a614-07b099025a07 div.sk-toggleable__content pre {margin: 0.2em;color: black;border-radius: 0.25em;background-color: #f0f8ff;}#sk-535f925f-8815-4f73-a614-07b099025a07 input.sk-toggleable__control:checked~div.sk-toggleable__content {max-height: 200px;max-width: 100%;overflow: auto;}#sk-535f925f-8815-4f73-a614-07b099025a07 input.sk-toggleable__control:checked~label.sk-toggleable__label-arrow:before {content: \"▾\";}#sk-535f925f-8815-4f73-a614-07b099025a07 div.sk-estimator input.sk-toggleable__control:checked~label.sk-toggleable__label {background-color: #d4ebff;}#sk-535f925f-8815-4f73-a614-07b099025a07 div.sk-label input.sk-toggleable__control:checked~label.sk-toggleable__label {background-color: #d4ebff;}#sk-535f925f-8815-4f73-a614-07b099025a07 input.sk-hidden--visually {border: 0;clip: rect(1px 1px 1px 1px);clip: rect(1px, 1px, 1px, 1px);height: 1px;margin: -1px;overflow: hidden;padding: 0;position: absolute;width: 1px;}#sk-535f925f-8815-4f73-a614-07b099025a07 div.sk-estimator {font-family: monospace;background-color: #f0f8ff;border: 1px dotted black;border-radius: 0.25em;box-sizing: border-box;margin-bottom: 0.5em;}#sk-535f925f-8815-4f73-a614-07b099025a07 div.sk-estimator:hover {background-color: #d4ebff;}#sk-535f925f-8815-4f73-a614-07b099025a07 div.sk-parallel-item::after {content: \"\";width: 100%;border-bottom: 1px solid gray;flex-grow: 1;}#sk-535f925f-8815-4f73-a614-07b099025a07 div.sk-label:hover label.sk-toggleable__label {background-color: #d4ebff;}#sk-535f925f-8815-4f73-a614-07b099025a07 div.sk-serial::before {content: \"\";position: absolute;border-left: 1px solid gray;box-sizing: border-box;top: 2em;bottom: 0;left: 50%;}#sk-535f925f-8815-4f73-a614-07b099025a07 div.sk-serial {display: flex;flex-direction: column;align-items: center;background-color: white;padding-right: 0.2em;padding-left: 0.2em;}#sk-535f925f-8815-4f73-a614-07b099025a07 div.sk-item {z-index: 1;}#sk-535f925f-8815-4f73-a614-07b099025a07 div.sk-parallel {display: flex;align-items: stretch;justify-content: center;background-color: white;}#sk-535f925f-8815-4f73-a614-07b099025a07 div.sk-parallel::before {content: \"\";position: absolute;border-left: 1px solid gray;box-sizing: border-box;top: 2em;bottom: 0;left: 50%;}#sk-535f925f-8815-4f73-a614-07b099025a07 div.sk-parallel-item {display: flex;flex-direction: column;position: relative;background-color: white;}#sk-535f925f-8815-4f73-a614-07b099025a07 div.sk-parallel-item:first-child::after {align-self: flex-end;width: 50%;}#sk-535f925f-8815-4f73-a614-07b099025a07 div.sk-parallel-item:last-child::after {align-self: flex-start;width: 50%;}#sk-535f925f-8815-4f73-a614-07b099025a07 div.sk-parallel-item:only-child::after {width: 0;}#sk-535f925f-8815-4f73-a614-07b099025a07 div.sk-dashed-wrapped {border: 1px dashed gray;margin: 0 0.4em 0.5em 0.4em;box-sizing: border-box;padding-bottom: 0.4em;background-color: white;position: relative;}#sk-535f925f-8815-4f73-a614-07b099025a07 div.sk-label label {font-family: monospace;font-weight: bold;background-color: white;display: inline-block;line-height: 1.2em;}#sk-535f925f-8815-4f73-a614-07b099025a07 div.sk-label-container {position: relative;z-index: 2;text-align: center;}#sk-535f925f-8815-4f73-a614-07b099025a07 div.sk-container {/* jupyter's `normalize.less` sets `[hidden] { display: none; }` but bootstrap.min.css set `[hidden] { display: none !important; }` so we also need the `!important` here to be able to override the default hidden behavior on the sphinx rendered scikit-learn.org. See: https://github.com/scikit-learn/scikit-learn/issues/21755 */display: inline-block !important;position: relative;}#sk-535f925f-8815-4f73-a614-07b099025a07 div.sk-text-repr-fallback {display: none;}</style><div id=\"sk-535f925f-8815-4f73-a614-07b099025a07\" class=\"sk-top-container\"><div class=\"sk-text-repr-fallback\"><pre>Pipeline(steps=[(&#x27;columntransformer&#x27;,\n",
              "                 ColumnTransformer(remainder=&#x27;passthrough&#x27;,\n",
              "                                   transformers=[(&#x27;onehotencoder&#x27;,\n",
              "                                                  OneHotEncoder(handle_unknown=&#x27;ignore&#x27;,\n",
              "                                                                sparse=False),\n",
              "                                                  &lt;sklearn.compose._column_transformer.make_column_selector object at 0x7f0544993390&gt;),\n",
              "                                                 (&#x27;standardscaler&#x27;,\n",
              "                                                  StandardScaler(),\n",
              "                                                  &lt;sklearn.compose._column_transformer.make_column_selector object at 0x7f0544993c10&gt;)])),\n",
              "                (&#x27;kneighborsclassifier&#x27;, KNeighborsClassifier())])</pre><b>Please rerun this cell to show the HTML repr or trust the notebook.</b></div><div class=\"sk-container\" hidden><div class=\"sk-item sk-dashed-wrapped\"><div class=\"sk-label-container\"><div class=\"sk-label sk-toggleable\"><input class=\"sk-toggleable__control sk-hidden--visually\" id=\"e6600654-3ece-4cca-a4f6-b02274ae21c2\" type=\"checkbox\" ><label for=\"e6600654-3ece-4cca-a4f6-b02274ae21c2\" class=\"sk-toggleable__label sk-toggleable__label-arrow\">Pipeline</label><div class=\"sk-toggleable__content\"><pre>Pipeline(steps=[(&#x27;columntransformer&#x27;,\n",
              "                 ColumnTransformer(remainder=&#x27;passthrough&#x27;,\n",
              "                                   transformers=[(&#x27;onehotencoder&#x27;,\n",
              "                                                  OneHotEncoder(handle_unknown=&#x27;ignore&#x27;,\n",
              "                                                                sparse=False),\n",
              "                                                  &lt;sklearn.compose._column_transformer.make_column_selector object at 0x7f0544993390&gt;),\n",
              "                                                 (&#x27;standardscaler&#x27;,\n",
              "                                                  StandardScaler(),\n",
              "                                                  &lt;sklearn.compose._column_transformer.make_column_selector object at 0x7f0544993c10&gt;)])),\n",
              "                (&#x27;kneighborsclassifier&#x27;, KNeighborsClassifier())])</pre></div></div></div><div class=\"sk-serial\"><div class=\"sk-item sk-dashed-wrapped\"><div class=\"sk-label-container\"><div class=\"sk-label sk-toggleable\"><input class=\"sk-toggleable__control sk-hidden--visually\" id=\"15d7e511-3029-4820-bc45-a8f6b29499a7\" type=\"checkbox\" ><label for=\"15d7e511-3029-4820-bc45-a8f6b29499a7\" class=\"sk-toggleable__label sk-toggleable__label-arrow\">columntransformer: ColumnTransformer</label><div class=\"sk-toggleable__content\"><pre>ColumnTransformer(remainder=&#x27;passthrough&#x27;,\n",
              "                  transformers=[(&#x27;onehotencoder&#x27;,\n",
              "                                 OneHotEncoder(handle_unknown=&#x27;ignore&#x27;,\n",
              "                                               sparse=False),\n",
              "                                 &lt;sklearn.compose._column_transformer.make_column_selector object at 0x7f0544993390&gt;),\n",
              "                                (&#x27;standardscaler&#x27;, StandardScaler(),\n",
              "                                 &lt;sklearn.compose._column_transformer.make_column_selector object at 0x7f0544993c10&gt;)])</pre></div></div></div><div class=\"sk-parallel\"><div class=\"sk-parallel-item\"><div class=\"sk-item\"><div class=\"sk-label-container\"><div class=\"sk-label sk-toggleable\"><input class=\"sk-toggleable__control sk-hidden--visually\" id=\"37e391da-83c1-4d35-bf66-63fa9cbc2503\" type=\"checkbox\" ><label for=\"37e391da-83c1-4d35-bf66-63fa9cbc2503\" class=\"sk-toggleable__label sk-toggleable__label-arrow\">onehotencoder</label><div class=\"sk-toggleable__content\"><pre>&lt;sklearn.compose._column_transformer.make_column_selector object at 0x7f0544993390&gt;</pre></div></div></div><div class=\"sk-serial\"><div class=\"sk-item\"><div class=\"sk-estimator sk-toggleable\"><input class=\"sk-toggleable__control sk-hidden--visually\" id=\"e8c2fc7f-1baf-4dcf-bbaf-a9a54e2aba4c\" type=\"checkbox\" ><label for=\"e8c2fc7f-1baf-4dcf-bbaf-a9a54e2aba4c\" class=\"sk-toggleable__label sk-toggleable__label-arrow\">OneHotEncoder</label><div class=\"sk-toggleable__content\"><pre>OneHotEncoder(handle_unknown=&#x27;ignore&#x27;, sparse=False)</pre></div></div></div></div></div></div><div class=\"sk-parallel-item\"><div class=\"sk-item\"><div class=\"sk-label-container\"><div class=\"sk-label sk-toggleable\"><input class=\"sk-toggleable__control sk-hidden--visually\" id=\"7c723656-79a4-4131-9b31-0eb9790b88d2\" type=\"checkbox\" ><label for=\"7c723656-79a4-4131-9b31-0eb9790b88d2\" class=\"sk-toggleable__label sk-toggleable__label-arrow\">standardscaler</label><div class=\"sk-toggleable__content\"><pre>&lt;sklearn.compose._column_transformer.make_column_selector object at 0x7f0544993c10&gt;</pre></div></div></div><div class=\"sk-serial\"><div class=\"sk-item\"><div class=\"sk-estimator sk-toggleable\"><input class=\"sk-toggleable__control sk-hidden--visually\" id=\"5f4a4dad-d8ba-489d-a3b2-2c8df61dadae\" type=\"checkbox\" ><label for=\"5f4a4dad-d8ba-489d-a3b2-2c8df61dadae\" class=\"sk-toggleable__label sk-toggleable__label-arrow\">StandardScaler</label><div class=\"sk-toggleable__content\"><pre>StandardScaler()</pre></div></div></div></div></div></div><div class=\"sk-parallel-item\"><div class=\"sk-item\"><div class=\"sk-label-container\"><div class=\"sk-label sk-toggleable\"><input class=\"sk-toggleable__control sk-hidden--visually\" id=\"ea497382-18c6-4ab9-b64d-05ab578870ce\" type=\"checkbox\" ><label for=\"ea497382-18c6-4ab9-b64d-05ab578870ce\" class=\"sk-toggleable__label sk-toggleable__label-arrow\">remainder</label><div class=\"sk-toggleable__content\"><pre>[]</pre></div></div></div><div class=\"sk-serial\"><div class=\"sk-item\"><div class=\"sk-estimator sk-toggleable\"><input class=\"sk-toggleable__control sk-hidden--visually\" id=\"5f1c0fe5-2002-4215-b099-f36a18a2791c\" type=\"checkbox\" ><label for=\"5f1c0fe5-2002-4215-b099-f36a18a2791c\" class=\"sk-toggleable__label sk-toggleable__label-arrow\">passthrough</label><div class=\"sk-toggleable__content\"><pre>passthrough</pre></div></div></div></div></div></div></div></div><div class=\"sk-item\"><div class=\"sk-estimator sk-toggleable\"><input class=\"sk-toggleable__control sk-hidden--visually\" id=\"372451e7-cda3-427a-b00d-0f91f3d66286\" type=\"checkbox\" ><label for=\"372451e7-cda3-427a-b00d-0f91f3d66286\" class=\"sk-toggleable__label sk-toggleable__label-arrow\">KNeighborsClassifier</label><div class=\"sk-toggleable__content\"><pre>KNeighborsClassifier()</pre></div></div></div></div></div></div></div>"
            ]
          },
          "metadata": {},
          "execution_count": 49
        }
      ]
    },
    {
      "cell_type": "code",
      "source": [
        "#predict Rating.Overall\n",
        "knn_train_preds = knn_pipe.predict(X_train)\n",
        "knn_test_preds = knn_pipe.predict(X_test)"
      ],
      "metadata": {
        "id": "O_i3Yw8eZDvM"
      },
      "execution_count": 50,
      "outputs": []
    },
    {
      "cell_type": "code",
      "source": [
        "#evaluate KNN model\n",
        "\n",
        "#accuracy\n",
        "print('Accuracy of Train set', accuracy_score(y_train, knn_train_preds))\n",
        "print('Accuracy of Test set', accuracy_score(y_test, knn_test_preds))"
      ],
      "metadata": {
        "colab": {
          "base_uri": "https://localhost:8080/"
        },
        "id": "tt7VR3GEZGM1",
        "outputId": "8a8db1f1-0437-4e69-8807-966a1980789f"
      },
      "execution_count": 51,
      "outputs": [
        {
          "output_type": "stream",
          "name": "stdout",
          "text": [
            "Accuracy of Train set 0.5612833453496756\n",
            "Accuracy of Test set 0.3567567567567568\n"
          ]
        }
      ]
    },
    {
      "cell_type": "markdown",
      "source": [
        "Accuracy of KNN model is 35% on the test set and 56% on the train set"
      ],
      "metadata": {
        "id": "NSXk_aXdZVUY"
      }
    },
    {
      "cell_type": "code",
      "source": [
        "#find best K value\n",
        "krange = range(1, 50)\n",
        "test_accuracies = []\n",
        "bestacc = 0\n",
        "bestk = 0\n",
        "for k in krange:\n",
        "  #find accuracy for each k\n",
        "  pipe = make_pipeline(preprocessor, KNeighborsClassifier(n_neighbors=k))\n",
        "  pipe.fit(X_train, y_train)\n",
        "  acc = accuracy_score(y_test, pipe.predict(X_test))\n",
        "  #if accuracy for this k is better than previous accuracies, set bestk = k\n",
        "  if acc > bestacc:\n",
        "    bestacc = acc\n",
        "    bestk = k\n",
        "\n",
        "  test_accuracies.append(acc)\n",
        "\n",
        "#plot accuracies over K\n",
        "plt.plot(krange, test_accuracies, label='Test K Scores')\n",
        "plt.show()\n",
        "\n",
        "#print best k and best accuracy\n",
        "print(f'Best K value is {bestk} \\nwith {bestacc} accuracy on the test set')"
      ],
      "metadata": {
        "colab": {
          "base_uri": "https://localhost:8080/",
          "height": 300
        },
        "id": "tEps6LmFZRsN",
        "outputId": "2d58ca47-bb44-49c9-b5ef-74a52a962f15"
      },
      "execution_count": 79,
      "outputs": [
        {
          "output_type": "display_data",
          "data": {
            "text/plain": [
              "<Figure size 432x288 with 1 Axes>"
            ],
            "image/png": "[encoded data removed]"
          },
          "metadata": {
            "needs_background": "light"
          }
        },
        {
          "output_type": "stream",
          "name": "stdout",
          "text": [
            "Best K value is 36 \n",
            "with 0.3956756756756757 accuracy on the test set\n"
          ]
        }
      ]
    },
    {
      "cell_type": "markdown",
      "source": [
        "Best K value at 36 improved model with 40% accuracy on the test set."
      ],
      "metadata": {
        "id": "LktfCqntZ4sX"
      }
    },
    {
      "cell_type": "code",
      "source": [
        "#KNN model with best k and confusion matrix\n",
        "\n",
        "#create and fit pipeline for model\n",
        "knn_final_pipe = make_pipeline(preprocessor, \n",
        "                               KNeighborsClassifier(n_neighbors = bestk))\n",
        "knn_final_pipe.fit(X_train, y_train)\n",
        "\n",
        "#confusion matrix for KNN with best k\n",
        "plot_confusion_matrix(knn_final_pipe, X_test, y_test, cmap = 'Blues', values_format = 'd');"
      ],
      "metadata": {
        "colab": {
          "base_uri": "https://localhost:8080/",
          "height": 368
        },
        "id": "obJXjoBwZ9nt",
        "outputId": "43b89101-f001-4c3d-e2f8-7c9372e5d8ce"
      },
      "execution_count": 80,
      "outputs": [
        {
          "output_type": "stream",
          "name": "stderr",
          "text": [
            "/usr/local/lib/python3.7/dist-packages/sklearn/utils/deprecation.py:87: FutureWarning:\n",
            "\n",
            "Function plot_confusion_matrix is deprecated; Function `plot_confusion_matrix` is deprecated in 1.0 and will be removed in 1.2. Use one of the class methods: ConfusionMatrixDisplay.from_predictions or ConfusionMatrixDisplay.from_estimator.\n",
            "\n"
          ]
        },
        {
          "output_type": "display_data",
          "data": {
            "text/plain": [
              "<Figure size 432x288 with 2 Axes>"
            ],
            "image/png": "[encoded data removed]"
          },
          "metadata": {
            "needs_background": "light"
          }
        }
      ]
    },
    {
      "cell_type": "code",
      "source": [
        "#prediction time\n",
        "knn_final_pred = knn_final_pipe.predict(X_test)"
      ],
      "metadata": {
        "id": "gGKo53zpiqxV"
      },
      "execution_count": 81,
      "outputs": []
    },
    {
      "cell_type": "code",
      "source": [
        "#recall score\n",
        "print(metrics.recall_score(y_test.values, knn_final_pred, average='micro'))\n",
        "#recall score shows that model correctly predicts the hospital rating 40% of the time. High recall score reduces chance of type 2 errors (false negatives)- reduces chance of model incorrectly predicting a certain rating"
      ],
      "metadata": {
        "colab": {
          "base_uri": "https://localhost:8080/"
        },
        "id": "OAtJD0mBijFn",
        "outputId": "2c381dc5-a08e-4244-b7ff-cc209020a250"
      },
      "execution_count": 82,
      "outputs": [
        {
          "output_type": "stream",
          "name": "stdout",
          "text": [
            "0.3956756756756757\n"
          ]
        }
      ]
    },
    {
      "cell_type": "code",
      "source": [
        "#precision score\n",
        "print(metrics.precision_score(y_test.values, knn_final_pred, average='micro'))\n",
        "#precision score of 40%. High precision score reduces type 1 errors (false positive) -reduces chance of model incorrectly rejecting a certain rating"
      ],
      "metadata": {
        "colab": {
          "base_uri": "https://localhost:8080/"
        },
        "id": "61RrFunTk4pA",
        "outputId": "75b57117-6181-4da5-8957-344f1dbee742"
      },
      "execution_count": 83,
      "outputs": [
        {
          "output_type": "stream",
          "name": "stdout",
          "text": [
            "0.3956756756756757\n"
          ]
        }
      ]
    },
    {
      "cell_type": "markdown",
      "source": [
        "Based on the confusion matrix, the KNN model with best K 36 can predict hospital ratings of 3 and 4 pretty well, has about an average predictability for 2 rated hospitals but does not do well with 1 and 5 rated hospitals. "
      ],
      "metadata": {
        "id": "XHUVv5jnd0-C"
      }
    },
    {
      "cell_type": "markdown",
      "source": [
        "PCA with KNN Model"
      ],
      "metadata": {
        "id": "5pmuKBDBbZDb"
      }
    },
    {
      "cell_type": "code",
      "source": [
        "knn2 = KNeighborsClassifier()\n",
        "pca = PCA()"
      ],
      "metadata": {
        "id": "Ta6E3wzBaplf"
      },
      "execution_count": 62,
      "outputs": []
    },
    {
      "cell_type": "code",
      "source": [
        "#create a transformer pipeline\n",
        "transformer = make_pipeline(preprocessor, pca)"
      ],
      "metadata": {
        "id": "mf3UM3nPDkGt"
      },
      "execution_count": 63,
      "outputs": []
    },
    {
      "cell_type": "code",
      "source": [
        "#create a modeling pipeline with pca\n",
        "knn2_pca_pipe = make_pipeline(transformer, knn2)\n",
        "knn2_pca_pipe.fit(X_train, y_train)"
      ],
      "metadata": {
        "colab": {
          "base_uri": "https://localhost:8080/",
          "height": 252
        },
        "id": "L-eQhGmKbc0l",
        "outputId": "60c1c491-c3b5-4206-d5f3-9e19e48e8bc5"
      },
      "execution_count": 64,
      "outputs": [
        {
          "output_type": "execute_result",
          "data": {
            "text/plain": [
              "Pipeline(steps=[('pipeline',\n",
              "                 Pipeline(steps=[('columntransformer',\n",
              "                                  ColumnTransformer(remainder='passthrough',\n",
              "                                                    transformers=[('onehotencoder',\n",
              "                                                                   OneHotEncoder(handle_unknown='ignore',\n",
              "                                                                                 sparse=False),\n",
              "                                                                   <sklearn.compose._column_transformer.make_column_selector object at 0x7f5632681e50>),\n",
              "                                                                  ('standardscaler',\n",
              "                                                                   StandardScaler(),\n",
              "                                                                   <sklearn.compose._column_transformer.make_column_selector object at 0x7f5632681f10>)])),\n",
              "                                 ('pca', PCA())])),\n",
              "                ('kneighborsclassifier', KNeighborsClassifier())])"
            ],
            "text/html": [
              "<style>#sk-317e95e5-4f80-4c51-87e3-a2b345690200 {color: black;background-color: white;}#sk-317e95e5-4f80-4c51-87e3-a2b345690200 pre{padding: 0;}#sk-317e95e5-4f80-4c51-87e3-a2b345690200 div.sk-toggleable {background-color: white;}#sk-317e95e5-4f80-4c51-87e3-a2b345690200 label.sk-toggleable__label {cursor: pointer;display: block;width: 100%;margin-bottom: 0;padding: 0.3em;box-sizing: border-box;text-align: center;}#sk-317e95e5-4f80-4c51-87e3-a2b345690200 label.sk-toggleable__label-arrow:before {content: \"▸\";float: left;margin-right: 0.25em;color: #696969;}#sk-317e95e5-4f80-4c51-87e3-a2b345690200 label.sk-toggleable__label-arrow:hover:before {color: black;}#sk-317e95e5-4f80-4c51-87e3-a2b345690200 div.sk-estimator:hover label.sk-toggleable__label-arrow:before {color: black;}#sk-317e95e5-4f80-4c51-87e3-a2b345690200 div.sk-toggleable__content {max-height: 0;max-width: 0;overflow: hidden;text-align: left;background-color: #f0f8ff;}#sk-317e95e5-4f80-4c51-87e3-a2b345690200 div.sk-toggleable__content pre {margin: 0.2em;color: black;border-radius: 0.25em;background-color: #f0f8ff;}#sk-317e95e5-4f80-4c51-87e3-a2b345690200 input.sk-toggleable__control:checked~div.sk-toggleable__content {max-height: 200px;max-width: 100%;overflow: auto;}#sk-317e95e5-4f80-4c51-87e3-a2b345690200 input.sk-toggleable__control:checked~label.sk-toggleable__label-arrow:before {content: \"▾\";}#sk-317e95e5-4f80-4c51-87e3-a2b345690200 div.sk-estimator input.sk-toggleable__control:checked~label.sk-toggleable__label {background-color: #d4ebff;}#sk-317e95e5-4f80-4c51-87e3-a2b345690200 div.sk-label input.sk-toggleable__control:checked~label.sk-toggleable__label {background-color: #d4ebff;}#sk-317e95e5-4f80-4c51-87e3-a2b345690200 input.sk-hidden--visually {border: 0;clip: rect(1px 1px 1px 1px);clip: rect(1px, 1px, 1px, 1px);height: 1px;margin: -1px;overflow: hidden;padding: 0;position: absolute;width: 1px;}#sk-317e95e5-4f80-4c51-87e3-a2b345690200 div.sk-estimator {font-family: monospace;background-color: #f0f8ff;border: 1px dotted black;border-radius: 0.25em;box-sizing: border-box;margin-bottom: 0.5em;}#sk-317e95e5-4f80-4c51-87e3-a2b345690200 div.sk-estimator:hover {background-color: #d4ebff;}#sk-317e95e5-4f80-4c51-87e3-a2b345690200 div.sk-parallel-item::after {content: \"\";width: 100%;border-bottom: 1px solid gray;flex-grow: 1;}#sk-317e95e5-4f80-4c51-87e3-a2b345690200 div.sk-label:hover label.sk-toggleable__label {background-color: #d4ebff;}#sk-317e95e5-4f80-4c51-87e3-a2b345690200 div.sk-serial::before {content: \"\";position: absolute;border-left: 1px solid gray;box-sizing: border-box;top: 2em;bottom: 0;left: 50%;}#sk-317e95e5-4f80-4c51-87e3-a2b345690200 div.sk-serial {display: flex;flex-direction: column;align-items: center;background-color: white;padding-right: 0.2em;padding-left: 0.2em;}#sk-317e95e5-4f80-4c51-87e3-a2b345690200 div.sk-item {z-index: 1;}#sk-317e95e5-4f80-4c51-87e3-a2b345690200 div.sk-parallel {display: flex;align-items: stretch;justify-content: center;background-color: white;}#sk-317e95e5-4f80-4c51-87e3-a2b345690200 div.sk-parallel::before {content: \"\";position: absolute;border-left: 1px solid gray;box-sizing: border-box;top: 2em;bottom: 0;left: 50%;}#sk-317e95e5-4f80-4c51-87e3-a2b345690200 div.sk-parallel-item {display: flex;flex-direction: column;position: relative;background-color: white;}#sk-317e95e5-4f80-4c51-87e3-a2b345690200 div.sk-parallel-item:first-child::after {align-self: flex-end;width: 50%;}#sk-317e95e5-4f80-4c51-87e3-a2b345690200 div.sk-parallel-item:last-child::after {align-self: flex-start;width: 50%;}#sk-317e95e5-4f80-4c51-87e3-a2b345690200 div.sk-parallel-item:only-child::after {width: 0;}#sk-317e95e5-4f80-4c51-87e3-a2b345690200 div.sk-dashed-wrapped {border: 1px dashed gray;margin: 0 0.4em 0.5em 0.4em;box-sizing: border-box;padding-bottom: 0.4em;background-color: white;position: relative;}#sk-317e95e5-4f80-4c51-87e3-a2b345690200 div.sk-label label {font-family: monospace;font-weight: bold;background-color: white;display: inline-block;line-height: 1.2em;}#sk-317e95e5-4f80-4c51-87e3-a2b345690200 div.sk-label-container {position: relative;z-index: 2;text-align: center;}#sk-317e95e5-4f80-4c51-87e3-a2b345690200 div.sk-container {/* jupyter's `normalize.less` sets `[hidden] { display: none; }` but bootstrap.min.css set `[hidden] { display: none !important; }` so we also need the `!important` here to be able to override the default hidden behavior on the sphinx rendered scikit-learn.org. See: https://github.com/scikit-learn/scikit-learn/issues/21755 */display: inline-block !important;position: relative;}#sk-317e95e5-4f80-4c51-87e3-a2b345690200 div.sk-text-repr-fallback {display: none;}</style><div id=\"sk-317e95e5-4f80-4c51-87e3-a2b345690200\" class=\"sk-top-container\"><div class=\"sk-text-repr-fallback\"><pre>Pipeline(steps=[(&#x27;pipeline&#x27;,\n",
              "                 Pipeline(steps=[(&#x27;columntransformer&#x27;,\n",
              "                                  ColumnTransformer(remainder=&#x27;passthrough&#x27;,\n",
              "                                                    transformers=[(&#x27;onehotencoder&#x27;,\n",
              "                                                                   OneHotEncoder(handle_unknown=&#x27;ignore&#x27;,\n",
              "                                                                                 sparse=False),\n",
              "                                                                   &lt;sklearn.compose._column_transformer.make_column_selector object at 0x7f5632681e50&gt;),\n",
              "                                                                  (&#x27;standardscaler&#x27;,\n",
              "                                                                   StandardScaler(),\n",
              "                                                                   &lt;sklearn.compose._column_transformer.make_column_selector object at 0x7f5632681f10&gt;)])),\n",
              "                                 (&#x27;pca&#x27;, PCA())])),\n",
              "                (&#x27;kneighborsclassifier&#x27;, KNeighborsClassifier())])</pre><b>Please rerun this cell to show the HTML repr or trust the notebook.</b></div><div class=\"sk-container\" hidden><div class=\"sk-item sk-dashed-wrapped\"><div class=\"sk-label-container\"><div class=\"sk-label sk-toggleable\"><input class=\"sk-toggleable__control sk-hidden--visually\" id=\"94ddb44a-726a-45d4-a83b-50b507da43e3\" type=\"checkbox\" ><label for=\"94ddb44a-726a-45d4-a83b-50b507da43e3\" class=\"sk-toggleable__label sk-toggleable__label-arrow\">Pipeline</label><div class=\"sk-toggleable__content\"><pre>Pipeline(steps=[(&#x27;pipeline&#x27;,\n",
              "                 Pipeline(steps=[(&#x27;columntransformer&#x27;,\n",
              "                                  ColumnTransformer(remainder=&#x27;passthrough&#x27;,\n",
              "                                                    transformers=[(&#x27;onehotencoder&#x27;,\n",
              "                                                                   OneHotEncoder(handle_unknown=&#x27;ignore&#x27;,\n",
              "                                                                                 sparse=False),\n",
              "                                                                   &lt;sklearn.compose._column_transformer.make_column_selector object at 0x7f5632681e50&gt;),\n",
              "                                                                  (&#x27;standardscaler&#x27;,\n",
              "                                                                   StandardScaler(),\n",
              "                                                                   &lt;sklearn.compose._column_transformer.make_column_selector object at 0x7f5632681f10&gt;)])),\n",
              "                                 (&#x27;pca&#x27;, PCA())])),\n",
              "                (&#x27;kneighborsclassifier&#x27;, KNeighborsClassifier())])</pre></div></div></div><div class=\"sk-serial\"><div class=\"sk-item\"><div class=\"sk-label-container\"><div class=\"sk-label sk-toggleable\"><input class=\"sk-toggleable__control sk-hidden--visually\" id=\"90018c7b-5b26-433c-9889-b040aa4ad585\" type=\"checkbox\" ><label for=\"90018c7b-5b26-433c-9889-b040aa4ad585\" class=\"sk-toggleable__label sk-toggleable__label-arrow\">pipeline: Pipeline</label><div class=\"sk-toggleable__content\"><pre>Pipeline(steps=[(&#x27;columntransformer&#x27;,\n",
              "                 ColumnTransformer(remainder=&#x27;passthrough&#x27;,\n",
              "                                   transformers=[(&#x27;onehotencoder&#x27;,\n",
              "                                                  OneHotEncoder(handle_unknown=&#x27;ignore&#x27;,\n",
              "                                                                sparse=False),\n",
              "                                                  &lt;sklearn.compose._column_transformer.make_column_selector object at 0x7f5632681e50&gt;),\n",
              "                                                 (&#x27;standardscaler&#x27;,\n",
              "                                                  StandardScaler(),\n",
              "                                                  &lt;sklearn.compose._column_transformer.make_column_selector object at 0x7f5632681f10&gt;)])),\n",
              "                (&#x27;pca&#x27;, PCA())])</pre></div></div></div><div class=\"sk-serial\"><div class=\"sk-item sk-dashed-wrapped\"><div class=\"sk-label-container\"><div class=\"sk-label sk-toggleable\"><input class=\"sk-toggleable__control sk-hidden--visually\" id=\"40bbaabf-cd3c-4acc-83ac-6a2d50d71fdd\" type=\"checkbox\" ><label for=\"40bbaabf-cd3c-4acc-83ac-6a2d50d71fdd\" class=\"sk-toggleable__label sk-toggleable__label-arrow\">columntransformer: ColumnTransformer</label><div class=\"sk-toggleable__content\"><pre>ColumnTransformer(remainder=&#x27;passthrough&#x27;,\n",
              "                  transformers=[(&#x27;onehotencoder&#x27;,\n",
              "                                 OneHotEncoder(handle_unknown=&#x27;ignore&#x27;,\n",
              "                                               sparse=False),\n",
              "                                 &lt;sklearn.compose._column_transformer.make_column_selector object at 0x7f5632681e50&gt;),\n",
              "                                (&#x27;standardscaler&#x27;, StandardScaler(),\n",
              "                                 &lt;sklearn.compose._column_transformer.make_column_selector object at 0x7f5632681f10&gt;)])</pre></div></div></div><div class=\"sk-parallel\"><div class=\"sk-parallel-item\"><div class=\"sk-item\"><div class=\"sk-label-container\"><div class=\"sk-label sk-toggleable\"><input class=\"sk-toggleable__control sk-hidden--visually\" id=\"4cad49b0-554e-49b5-abc8-906e13be2eaa\" type=\"checkbox\" ><label for=\"4cad49b0-554e-49b5-abc8-906e13be2eaa\" class=\"sk-toggleable__label sk-toggleable__label-arrow\">onehotencoder</label><div class=\"sk-toggleable__content\"><pre>&lt;sklearn.compose._column_transformer.make_column_selector object at 0x7f5632681e50&gt;</pre></div></div></div><div class=\"sk-serial\"><div class=\"sk-item\"><div class=\"sk-estimator sk-toggleable\"><input class=\"sk-toggleable__control sk-hidden--visually\" id=\"09a3ce52-74cb-4a71-8fe6-d4aeffd96763\" type=\"checkbox\" ><label for=\"09a3ce52-74cb-4a71-8fe6-d4aeffd96763\" class=\"sk-toggleable__label sk-toggleable__label-arrow\">OneHotEncoder</label><div class=\"sk-toggleable__content\"><pre>OneHotEncoder(handle_unknown=&#x27;ignore&#x27;, sparse=False)</pre></div></div></div></div></div></div><div class=\"sk-parallel-item\"><div class=\"sk-item\"><div class=\"sk-label-container\"><div class=\"sk-label sk-toggleable\"><input class=\"sk-toggleable__control sk-hidden--visually\" id=\"dcb869d5-4692-4737-86f8-06a1283e5078\" type=\"checkbox\" ><label for=\"dcb869d5-4692-4737-86f8-06a1283e5078\" class=\"sk-toggleable__label sk-toggleable__label-arrow\">standardscaler</label><div class=\"sk-toggleable__content\"><pre>&lt;sklearn.compose._column_transformer.make_column_selector object at 0x7f5632681f10&gt;</pre></div></div></div><div class=\"sk-serial\"><div class=\"sk-item\"><div class=\"sk-estimator sk-toggleable\"><input class=\"sk-toggleable__control sk-hidden--visually\" id=\"eb64ec08-47b5-450d-a2ef-6a28b297a116\" type=\"checkbox\" ><label for=\"eb64ec08-47b5-450d-a2ef-6a28b297a116\" class=\"sk-toggleable__label sk-toggleable__label-arrow\">StandardScaler</label><div class=\"sk-toggleable__content\"><pre>StandardScaler()</pre></div></div></div></div></div></div><div class=\"sk-parallel-item\"><div class=\"sk-item\"><div class=\"sk-label-container\"><div class=\"sk-label sk-toggleable\"><input class=\"sk-toggleable__control sk-hidden--visually\" id=\"e7467444-f597-47d9-a282-ec18199624d9\" type=\"checkbox\" ><label for=\"e7467444-f597-47d9-a282-ec18199624d9\" class=\"sk-toggleable__label sk-toggleable__label-arrow\">remainder</label><div class=\"sk-toggleable__content\"><pre>[]</pre></div></div></div><div class=\"sk-serial\"><div class=\"sk-item\"><div class=\"sk-estimator sk-toggleable\"><input class=\"sk-toggleable__control sk-hidden--visually\" id=\"4746f875-801b-46c4-acdc-0513aa7320b4\" type=\"checkbox\" ><label for=\"4746f875-801b-46c4-acdc-0513aa7320b4\" class=\"sk-toggleable__label sk-toggleable__label-arrow\">passthrough</label><div class=\"sk-toggleable__content\"><pre>passthrough</pre></div></div></div></div></div></div></div></div><div class=\"sk-item\"><div class=\"sk-estimator sk-toggleable\"><input class=\"sk-toggleable__control sk-hidden--visually\" id=\"c06a0aa7-afa4-4a93-949f-9030e2318bcc\" type=\"checkbox\" ><label for=\"c06a0aa7-afa4-4a93-949f-9030e2318bcc\" class=\"sk-toggleable__label sk-toggleable__label-arrow\">PCA</label><div class=\"sk-toggleable__content\"><pre>PCA()</pre></div></div></div></div></div><div class=\"sk-item\"><div class=\"sk-estimator sk-toggleable\"><input class=\"sk-toggleable__control sk-hidden--visually\" id=\"660f110d-eb1e-44f3-8473-9ea1d6b4ec4a\" type=\"checkbox\" ><label for=\"660f110d-eb1e-44f3-8473-9ea1d6b4ec4a\" class=\"sk-toggleable__label sk-toggleable__label-arrow\">KNeighborsClassifier</label><div class=\"sk-toggleable__content\"><pre>KNeighborsClassifier()</pre></div></div></div></div></div></div></div>"
            ]
          },
          "metadata": {},
          "execution_count": 64
        }
      ]
    },
    {
      "cell_type": "code",
      "source": [
        "#predict Rating.Overall\n",
        "knn2_pca_train_preds = knn2_pca_pipe.predict(X_train)\n",
        "knn2_pca_test_preds = knn2_pca_pipe.predict(X_test)\n",
        "\n",
        "#accuracy\n",
        "print('Accuracy of Train set', accuracy_score(y_train, knn2_pca_train_preds))\n",
        "print('Accuracy of Test set', accuracy_score(y_test, knn2_pca_test_preds))"
      ],
      "metadata": {
        "colab": {
          "base_uri": "https://localhost:8080/"
        },
        "id": "kg7pL64yNu3n",
        "outputId": "d23f41ab-e696-435c-99d9-e176dc8a0522"
      },
      "execution_count": 65,
      "outputs": [
        {
          "output_type": "stream",
          "name": "stdout",
          "text": [
            "Accuracy of Train set 0.5612833453496756\n",
            "Accuracy of Test set 0.35783783783783785\n"
          ]
        }
      ]
    },
    {
      "cell_type": "markdown",
      "source": [
        "PCA did not improve the KNN model."
      ],
      "metadata": {
        "id": "pc6nUZ0ZboQu"
      }
    },
    {
      "cell_type": "code",
      "source": [
        "#KNN model with GridSearchCV\n",
        "\n",
        "#define new KNN model for GridSearchCV\n",
        "knn3 = KNeighborsClassifier()\n",
        "#create a modeling pipeline\n",
        "knn3_pipe = make_pipeline(preprocessor, knn3)"
      ],
      "metadata": {
        "id": "9cfDyYc4zv78"
      },
      "execution_count": 84,
      "outputs": []
    },
    {
      "cell_type": "code",
      "source": [
        "#review parameters\n",
        "knn3_pipe.get_params()\n"
      ],
      "metadata": {
        "colab": {
          "base_uri": "https://localhost:8080/"
        },
        "id": "0wVGbJzmG_DS",
        "outputId": "9dcae6cf-51e9-4777-c2e0-8675ccf90dd0"
      },
      "execution_count": 85,
      "outputs": [
        {
          "output_type": "execute_result",
          "data": {
            "text/plain": [
              "{'columntransformer': ColumnTransformer(remainder='passthrough',\n",
              "                   transformers=[('onehotencoder',\n",
              "                                  OneHotEncoder(handle_unknown='ignore',\n",
              "                                                sparse=False),\n",
              "                                  <sklearn.compose._column_transformer.make_column_selector object at 0x7f56324282d0>),\n",
              "                                 ('standardscaler', StandardScaler(),\n",
              "                                  <sklearn.compose._column_transformer.make_column_selector object at 0x7f5632428250>)]),\n",
              " 'columntransformer__n_jobs': None,\n",
              " 'columntransformer__onehotencoder': OneHotEncoder(handle_unknown='ignore', sparse=False),\n",
              " 'columntransformer__onehotencoder__categories': 'auto',\n",
              " 'columntransformer__onehotencoder__drop': None,\n",
              " 'columntransformer__onehotencoder__dtype': numpy.float64,\n",
              " 'columntransformer__onehotencoder__handle_unknown': 'ignore',\n",
              " 'columntransformer__onehotencoder__sparse': False,\n",
              " 'columntransformer__remainder': 'passthrough',\n",
              " 'columntransformer__sparse_threshold': 0.3,\n",
              " 'columntransformer__standardscaler': StandardScaler(),\n",
              " 'columntransformer__standardscaler__copy': True,\n",
              " 'columntransformer__standardscaler__with_mean': True,\n",
              " 'columntransformer__standardscaler__with_std': True,\n",
              " 'columntransformer__transformer_weights': None,\n",
              " 'columntransformer__transformers': [('onehotencoder',\n",
              "   OneHotEncoder(handle_unknown='ignore', sparse=False),\n",
              "   <sklearn.compose._column_transformer.make_column_selector at 0x7f56324282d0>),\n",
              "  ('standardscaler',\n",
              "   StandardScaler(),\n",
              "   <sklearn.compose._column_transformer.make_column_selector at 0x7f5632428250>)],\n",
              " 'columntransformer__verbose': False,\n",
              " 'columntransformer__verbose_feature_names_out': True,\n",
              " 'kneighborsclassifier': KNeighborsClassifier(),\n",
              " 'kneighborsclassifier__algorithm': 'auto',\n",
              " 'kneighborsclassifier__leaf_size': 30,\n",
              " 'kneighborsclassifier__metric': 'minkowski',\n",
              " 'kneighborsclassifier__metric_params': None,\n",
              " 'kneighborsclassifier__n_jobs': None,\n",
              " 'kneighborsclassifier__n_neighbors': 5,\n",
              " 'kneighborsclassifier__p': 2,\n",
              " 'kneighborsclassifier__weights': 'uniform',\n",
              " 'memory': None,\n",
              " 'steps': [('columntransformer', ColumnTransformer(remainder='passthrough',\n",
              "                     transformers=[('onehotencoder',\n",
              "                                    OneHotEncoder(handle_unknown='ignore',\n",
              "                                                  sparse=False),\n",
              "                                    <sklearn.compose._column_transformer.make_column_selector object at 0x7f56324282d0>),\n",
              "                                   ('standardscaler', StandardScaler(),\n",
              "                                    <sklearn.compose._column_transformer.make_column_selector object at 0x7f5632428250>)])),\n",
              "  ('kneighborsclassifier', KNeighborsClassifier())],\n",
              " 'verbose': False}"
            ]
          },
          "metadata": {},
          "execution_count": 85
        }
      ]
    },
    {
      "cell_type": "code",
      "source": [
        "#set parameters\n",
        "param_grid = {'kneighborsclassifier__n_neighbors': range(1,10),\n",
        "              'kneighborsclassifier__p': range(1,40),\n",
        "              'kneighborsclassifier__weights': ['balanced','uniform']}"
      ],
      "metadata": {
        "id": "aHNmrU7_HyRS"
      },
      "execution_count": 86,
      "outputs": []
    },
    {
      "cell_type": "code",
      "source": [
        "knn3_pipe_gs = GridSearchCV(knn3_pipe, param_grid)\n",
        " \n",
        "knn3_pipe_gs.fit(X_train, y_train)\n",
        "print('Best KNN Parameters:')\n",
        "print(knn3_pipe_gs.best_params_)\n",
        "best_pipe = knn3_pipe_gs.best_estimator_\n",
        "print(f'Accuracy of best KNN model is: {best_pipe.score(X_test, y_test)}')"
      ],
      "metadata": {
        "colab": {
          "base_uri": "https://localhost:8080/"
        },
        "id": "dEXJU5HLIDch",
        "outputId": "0cbd3837-1716-47fd-fb4b-06aedcecf19b"
      },
      "execution_count": 87,
      "outputs": [
        {
          "output_type": "stream",
          "name": "stderr",
          "text": [
            "/usr/local/lib/python3.7/dist-packages/sklearn/model_selection/_validation.py:372: FitFailedWarning:\n",
            "\n",
            "\n",
            "1755 fits failed out of a total of 3510.\n",
            "The score on these train-test partitions for these parameters will be set to nan.\n",
            "If these failures are not expected, you can try to debug them by setting error_score='raise'.\n",
            "\n",
            "Below are more details about the failures:\n",
            "--------------------------------------------------------------------------------\n",
            "1755 fits failed with the following error:\n",
            "Traceback (most recent call last):\n",
            "  File \"/usr/local/lib/python3.7/dist-packages/sklearn/model_selection/_validation.py\", line 680, in _fit_and_score\n",
            "    estimator.fit(X_train, y_train, **fit_params)\n",
            "  File \"/usr/local/lib/python3.7/dist-packages/sklearn/pipeline.py\", line 394, in fit\n",
            "    self._final_estimator.fit(Xt, y, **fit_params_last_step)\n",
            "  File \"/usr/local/lib/python3.7/dist-packages/sklearn/neighbors/_classification.py\", line 196, in fit\n",
            "    self.weights = _check_weights(self.weights)\n",
            "  File \"/usr/local/lib/python3.7/dist-packages/sklearn/neighbors/_base.py\", line 83, in _check_weights\n",
            "    \"weights not recognized: should be 'uniform', \"\n",
            "ValueError: weights not recognized: should be 'uniform', 'distance', or a callable function\n",
            "\n",
            "\n",
            "/usr/local/lib/python3.7/dist-packages/sklearn/model_selection/_search.py:972: UserWarning:\n",
            "\n",
            "One or more of the test scores are non-finite: [       nan 0.33237909        nan 0.32913195        nan 0.32408625\n",
            "        nan 0.32264611        nan 0.32480892        nan 0.32336748\n",
            "        nan 0.3240882         nan 0.3240895         nan 0.32228705\n",
            "        nan 0.32192799        nan 0.32156763        nan 0.32228965\n",
            "        nan 0.322289          nan 0.32264936        nan 0.32012359\n",
            "        nan 0.32192604        nan 0.32192539        nan 0.3222864\n",
            "        nan 0.32192669        nan 0.31832374        nan 0.31580057\n",
            "        nan 0.31760172        nan 0.31940417        nan 0.3186854\n",
            "        nan 0.32012619        nan 0.32192994        nan 0.31904706\n",
            "        nan 0.31940677        nan 0.32084951        nan 0.32373435\n",
            "        nan 0.32337334        nan 0.32445507        nan 0.3255355\n",
            "        nan 0.3273386         nan 0.32229291        nan 0.32481348\n",
            "        nan 0.32481283        nan 0.32265067        nan 0.32373175\n",
            "        nan 0.31615702        nan 0.32444726        nan 0.32156503\n",
            "        nan 0.32192734        nan 0.32120727        nan 0.3204872\n",
            "        nan 0.32048785        nan 0.32012684        nan 0.31940677\n",
            "        nan 0.32084886        nan 0.31976648        nan 0.32012749\n",
            "        nan 0.31832504        nan 0.31796598        nan 0.31544281\n",
            "        nan 0.31580122        nan 0.31327804        nan 0.31435912\n",
            "        nan 0.31579992        nan 0.31904641        nan 0.31904641\n",
            "        nan 0.31832439        nan 0.32120922        nan 0.32445507\n",
            "        nan 0.32373305        nan 0.32626142        nan 0.32698084\n",
            "        nan 0.32589781        nan 0.32698084        nan 0.32698345\n",
            "        nan 0.32661983        nan 0.3269828         nan 0.33094871\n",
            "        nan 0.33202979        nan 0.32986698        nan 0.33599311\n",
            "        nan 0.33491007        nan 0.33238755        nan 0.3323869\n",
            "        nan 0.33202394        nan 0.3269828         nan 0.32157284\n",
            "        nan 0.32193255        nan 0.32085081        nan 0.32084886\n",
            "        nan 0.31904576        nan 0.32048915        nan 0.31904641\n",
            "        nan 0.31940677        nan 0.31940547        nan 0.31940807\n",
            "        nan 0.31976648        nan 0.31940807        nan 0.31940677\n",
            "        nan 0.31940612        nan 0.31976843        nan 0.3219319\n",
            "        nan 0.32445572        nan 0.3237324         nan 0.31940742\n",
            "        nan 0.31904771        nan 0.32265001        nan 0.32373175\n",
            "        nan 0.32661593        nan 0.32120662        nan 0.32156763\n",
            "        nan 0.31904381        nan 0.32048655        nan 0.31507724\n",
            "        nan 0.31760172        nan 0.31435652        nan 0.31688035\n",
            "        nan 0.31832244        nan 0.31327609        nan 0.31832179\n",
            "        nan 0.31976388        nan 0.32048525        nan 0.32084561\n",
            "        nan 0.34248284        nan 0.3493388         nan 0.34968875\n",
            "        nan 0.3514899         nan 0.35293394        nan 0.35509546\n",
            "        nan 0.35401307        nan 0.35689856        nan 0.35509611\n",
            "        nan 0.35581813        nan 0.35545712        nan 0.35509741\n",
            "        nan 0.35329496        nan 0.35293199        nan 0.35581488\n",
            "        nan 0.35545582        nan 0.3514886         nan 0.34571828\n",
            "        nan 0.34464045        nan 0.3464403         nan 0.3550896\n",
            "        nan 0.34788109        nan 0.34824015        nan 0.3446372\n",
            "        nan 0.34824536        nan 0.34823625        nan 0.34751748\n",
            "        nan 0.34175627        nan 0.34464045        nan 0.34679806\n",
            "        nan 0.34895632        nan 0.35472599        nan 0.35112239\n",
            "        nan 0.34787004        nan 0.34102839        nan 0.34139331\n",
            "        nan 0.34679871        nan 0.34247309        nan 0.33922854\n",
            "        nan 0.35725957        nan 0.35077243        nan 0.35329365\n",
            "        nan 0.35834065        nan 0.35329105        nan 0.35437474\n",
            "        nan 0.35401438        nan 0.35293264        nan 0.35257228\n",
            "        nan 0.35221257        nan 0.35329496        nan 0.35113279\n",
            "        nan 0.35329561        nan 0.353293          nan 0.35365727\n",
            "        nan 0.35004976        nan 0.34968875        nan 0.34932709\n",
            "        nan 0.3514925         nan 0.35148925        nan 0.35509481\n",
            "        nan 0.34752594        nan 0.3565382         nan 0.349692\n",
            "        nan 0.34933164        nan 0.34571503        nan 0.35112889\n",
            "        nan 0.3529359         nan 0.35257293        nan 0.35077243\n",
            "        nan 0.3478824         nan 0.34824015        nan 0.35401307\n",
            "        nan 0.34752073        nan 0.34824341        nan 0.34860116\n",
            "        nan 0.34391908        nan 0.34572349        nan 0.33922594\n",
            "        nan 0.35040817        nan 0.35221583        nan 0.34572414\n",
            "        nan 0.34896803        nan 0.34716623        nan 0.34644486\n",
            "        nan 0.34464501        nan 0.34500472        nan 0.34464501\n",
            "        nan 0.34572609        nan 0.34680652        nan 0.34500537\n",
            "        nan 0.34716558        nan 0.34391973        nan 0.34752529\n",
            "        nan 0.34608254        nan 0.34572349        nan 0.34319901\n",
            "        nan 0.3496907         nan 0.34644551        nan 0.35148795\n",
            "        nan 0.34716037        nan 0.35364881        nan 0.34968745\n",
            "        nan 0.34752529        nan 0.35004261        nan 0.34896218\n",
            "        nan 0.35329561        nan 0.35004846        nan 0.34968485\n",
            "        nan 0.34860312        nan 0.35076528        nan 0.35004716\n",
            "        nan 0.35580967        nan 0.34607864        nan 0.34968094\n",
            "        nan 0.35364426        nan 0.34751878        nan 0.3431873\n",
            "        nan 0.36230266        nan 0.35545061        nan 0.34607734\n",
            "        nan 0.34859726        nan 0.34715387        nan 0.34715452\n",
            "        nan 0.34715452        nan 0.34895892        nan 0.34859986\n",
            "        nan 0.34896152        nan 0.34715907        nan 0.34716037\n",
            "        nan 0.3482408         nan 0.34932189        nan 0.35112564\n",
            "        nan 0.35184571        nan 0.35004521        nan 0.35004586\n",
            "        nan 0.35040687        nan 0.35112759        nan 0.35184311\n",
            "        nan 0.34931993        nan 0.35292354        nan 0.34607539\n",
            "        nan 0.34535857        nan 0.35004586        nan 0.34319641\n",
            "        nan 0.34752269        nan 0.34391583        nan 0.34787849\n",
            "        nan 0.34463655        nan 0.35436498        nan 0.35148405\n",
            "        nan 0.3532852         nan 0.34390997        nan 0.34931863\n",
            "        nan 0.35004196        nan 0.3500413         nan 0.34354831\n",
            "        nan 0.35725697        nan 0.36085862        nan 0.35185351\n",
            "        nan 0.35257228        nan 0.35293199        nan 0.35545647\n",
            "        nan 0.35617849        nan 0.35329235        nan 0.35617654\n",
            "        nan 0.35581618        nan 0.35473575        nan 0.3547351\n",
            "        nan 0.35473575        nan 0.35221192        nan 0.35293329\n",
            "        nan 0.35509546        nan 0.35221192        nan 0.35040947\n",
            "        nan 0.35329365        nan 0.35437278        nan 0.35905747\n",
            "        nan 0.35581227        nan 0.35653169        nan 0.34716232\n",
            "        nan 0.34680131        nan 0.3547351         nan 0.34896933\n",
            "        nan 0.35004716        nan 0.34824276        nan 0.35941458\n",
            "        nan 0.34896348        nan 0.35220152        nan 0.3514847\n",
            "        nan 0.34788305        nan 0.35040362        nan 0.35400787\n",
            "        nan 0.34247179        nan 0.3446359         nan 0.34715192\n",
            "        nan 0.36914496        nan 0.36481803        nan 0.36301818\n",
            "        nan 0.36229681        nan 0.35940937        nan 0.36013205\n",
            "        nan 0.35905161        nan 0.3586919         nan 0.3586906\n",
            "        nan 0.35761082        nan 0.3568901         nan 0.35580772\n",
            "        nan 0.35616743        nan 0.35688815        nan 0.35544671\n",
            "        nan 0.35941132        nan 0.35652909        nan 0.35544606\n",
            "        nan 0.35905096        nan 0.35905357        nan 0.36481738\n",
            "        nan 0.36446092        nan 0.35977103        nan 0.35508635\n",
            "        nan 0.35508895        nan 0.35761147        nan 0.35616678\n",
            "        nan 0.35472534        nan 0.35436498        nan 0.35652649\n",
            "        nan 0.35148145        nan 0.35255862        nan 0.35184181\n",
            "        nan 0.34463395        nan 0.34607669        nan 0.35040036\n",
            "        nan 0.34535467        nan 0.34859791        nan 0.34859141]\n",
            "\n"
          ]
        },
        {
          "output_type": "stream",
          "name": "stdout",
          "text": [
            "Best KNN Parameters:\n",
            "{'kneighborsclassifier__n_neighbors': 9, 'kneighborsclassifier__p': 1, 'kneighborsclassifier__weights': 'uniform'}\n",
            "Accuracy of best KNN model is: 0.36864864864864866\n"
          ]
        }
      ]
    },
    {
      "cell_type": "markdown",
      "source": [
        "Random Forest Regressor"
      ],
      "metadata": {
        "id": "-uMlAQlJb4_i"
      }
    },
    {
      "cell_type": "code",
      "source": [
        "#instantiate model\n",
        "rf = RandomForestRegressor(random_state = 42)\n",
        "#review hyperparameters\n",
        "rf.get_params()"
      ],
      "metadata": {
        "colab": {
          "base_uri": "https://localhost:8080/"
        },
        "id": "hAAphiDpbnn-",
        "outputId": "87943af9-d79b-44f6-8558-c2703aa05e8c"
      },
      "execution_count": 88,
      "outputs": [
        {
          "output_type": "execute_result",
          "data": {
            "text/plain": [
              "{'bootstrap': True,\n",
              " 'ccp_alpha': 0.0,\n",
              " 'criterion': 'squared_error',\n",
              " 'max_depth': None,\n",
              " 'max_features': 'auto',\n",
              " 'max_leaf_nodes': None,\n",
              " 'max_samples': None,\n",
              " 'min_impurity_decrease': 0.0,\n",
              " 'min_samples_leaf': 1,\n",
              " 'min_samples_split': 2,\n",
              " 'min_weight_fraction_leaf': 0.0,\n",
              " 'n_estimators': 100,\n",
              " 'n_jobs': None,\n",
              " 'oob_score': False,\n",
              " 'random_state': 42,\n",
              " 'verbose': 0,\n",
              " 'warm_start': False}"
            ]
          },
          "metadata": {},
          "execution_count": 88
        }
      ]
    },
    {
      "cell_type": "code",
      "source": [
        "#instanstiate model\n",
        "rf_pipe = make_pipeline(preprocessor, rf)\n",
        "#train model\n",
        "rf_pipe.fit(X_train,y_train)"
      ],
      "metadata": {
        "colab": {
          "base_uri": "https://localhost:8080/",
          "height": 192
        },
        "id": "KFu1oB3yb_xy",
        "outputId": "ede6d4ea-aac0-44c5-d7f4-0f45e1be4ac2"
      },
      "execution_count": 89,
      "outputs": [
        {
          "output_type": "execute_result",
          "data": {
            "text/plain": [
              "Pipeline(steps=[('columntransformer',\n",
              "                 ColumnTransformer(remainder='passthrough',\n",
              "                                   transformers=[('onehotencoder',\n",
              "                                                  OneHotEncoder(handle_unknown='ignore',\n",
              "                                                                sparse=False),\n",
              "                                                  <sklearn.compose._column_transformer.make_column_selector object at 0x7f56324282d0>),\n",
              "                                                 ('standardscaler',\n",
              "                                                  StandardScaler(),\n",
              "                                                  <sklearn.compose._column_transformer.make_column_selector object at 0x7f5632428250>)])),\n",
              "                ('randomforestregressor',\n",
              "                 RandomForestRegressor(random_state=42))])"
            ],
            "text/html": [
              "<style>#sk-22149a7d-a55d-42ac-ad51-18434784ac8c {color: black;background-color: white;}#sk-22149a7d-a55d-42ac-ad51-18434784ac8c pre{padding: 0;}#sk-22149a7d-a55d-42ac-ad51-18434784ac8c div.sk-toggleable {background-color: white;}#sk-22149a7d-a55d-42ac-ad51-18434784ac8c label.sk-toggleable__label {cursor: pointer;display: block;width: 100%;margin-bottom: 0;padding: 0.3em;box-sizing: border-box;text-align: center;}#sk-22149a7d-a55d-42ac-ad51-18434784ac8c label.sk-toggleable__label-arrow:before {content: \"▸\";float: left;margin-right: 0.25em;color: #696969;}#sk-22149a7d-a55d-42ac-ad51-18434784ac8c label.sk-toggleable__label-arrow:hover:before {color: black;}#sk-22149a7d-a55d-42ac-ad51-18434784ac8c div.sk-estimator:hover label.sk-toggleable__label-arrow:before {color: black;}#sk-22149a7d-a55d-42ac-ad51-18434784ac8c div.sk-toggleable__content {max-height: 0;max-width: 0;overflow: hidden;text-align: left;background-color: #f0f8ff;}#sk-22149a7d-a55d-42ac-ad51-18434784ac8c div.sk-toggleable__content pre {margin: 0.2em;color: black;border-radius: 0.25em;background-color: #f0f8ff;}#sk-22149a7d-a55d-42ac-ad51-18434784ac8c input.sk-toggleable__control:checked~div.sk-toggleable__content {max-height: 200px;max-width: 100%;overflow: auto;}#sk-22149a7d-a55d-42ac-ad51-18434784ac8c input.sk-toggleable__control:checked~label.sk-toggleable__label-arrow:before {content: \"▾\";}#sk-22149a7d-a55d-42ac-ad51-18434784ac8c div.sk-estimator input.sk-toggleable__control:checked~label.sk-toggleable__label {background-color: #d4ebff;}#sk-22149a7d-a55d-42ac-ad51-18434784ac8c div.sk-label input.sk-toggleable__control:checked~label.sk-toggleable__label {background-color: #d4ebff;}#sk-22149a7d-a55d-42ac-ad51-18434784ac8c input.sk-hidden--visually {border: 0;clip: rect(1px 1px 1px 1px);clip: rect(1px, 1px, 1px, 1px);height: 1px;margin: -1px;overflow: hidden;padding: 0;position: absolute;width: 1px;}#sk-22149a7d-a55d-42ac-ad51-18434784ac8c div.sk-estimator {font-family: monospace;background-color: #f0f8ff;border: 1px dotted black;border-radius: 0.25em;box-sizing: border-box;margin-bottom: 0.5em;}#sk-22149a7d-a55d-42ac-ad51-18434784ac8c div.sk-estimator:hover {background-color: #d4ebff;}#sk-22149a7d-a55d-42ac-ad51-18434784ac8c div.sk-parallel-item::after {content: \"\";width: 100%;border-bottom: 1px solid gray;flex-grow: 1;}#sk-22149a7d-a55d-42ac-ad51-18434784ac8c div.sk-label:hover label.sk-toggleable__label {background-color: #d4ebff;}#sk-22149a7d-a55d-42ac-ad51-18434784ac8c div.sk-serial::before {content: \"\";position: absolute;border-left: 1px solid gray;box-sizing: border-box;top: 2em;bottom: 0;left: 50%;}#sk-22149a7d-a55d-42ac-ad51-18434784ac8c div.sk-serial {display: flex;flex-direction: column;align-items: center;background-color: white;padding-right: 0.2em;padding-left: 0.2em;}#sk-22149a7d-a55d-42ac-ad51-18434784ac8c div.sk-item {z-index: 1;}#sk-22149a7d-a55d-42ac-ad51-18434784ac8c div.sk-parallel {display: flex;align-items: stretch;justify-content: center;background-color: white;}#sk-22149a7d-a55d-42ac-ad51-18434784ac8c div.sk-parallel::before {content: \"\";position: absolute;border-left: 1px solid gray;box-sizing: border-box;top: 2em;bottom: 0;left: 50%;}#sk-22149a7d-a55d-42ac-ad51-18434784ac8c div.sk-parallel-item {display: flex;flex-direction: column;position: relative;background-color: white;}#sk-22149a7d-a55d-42ac-ad51-18434784ac8c div.sk-parallel-item:first-child::after {align-self: flex-end;width: 50%;}#sk-22149a7d-a55d-42ac-ad51-18434784ac8c div.sk-parallel-item:last-child::after {align-self: flex-start;width: 50%;}#sk-22149a7d-a55d-42ac-ad51-18434784ac8c div.sk-parallel-item:only-child::after {width: 0;}#sk-22149a7d-a55d-42ac-ad51-18434784ac8c div.sk-dashed-wrapped {border: 1px dashed gray;margin: 0 0.4em 0.5em 0.4em;box-sizing: border-box;padding-bottom: 0.4em;background-color: white;position: relative;}#sk-22149a7d-a55d-42ac-ad51-18434784ac8c div.sk-label label {font-family: monospace;font-weight: bold;background-color: white;display: inline-block;line-height: 1.2em;}#sk-22149a7d-a55d-42ac-ad51-18434784ac8c div.sk-label-container {position: relative;z-index: 2;text-align: center;}#sk-22149a7d-a55d-42ac-ad51-18434784ac8c div.sk-container {/* jupyter's `normalize.less` sets `[hidden] { display: none; }` but bootstrap.min.css set `[hidden] { display: none !important; }` so we also need the `!important` here to be able to override the default hidden behavior on the sphinx rendered scikit-learn.org. See: https://github.com/scikit-learn/scikit-learn/issues/21755 */display: inline-block !important;position: relative;}#sk-22149a7d-a55d-42ac-ad51-18434784ac8c div.sk-text-repr-fallback {display: none;}</style><div id=\"sk-22149a7d-a55d-42ac-ad51-18434784ac8c\" class=\"sk-top-container\"><div class=\"sk-text-repr-fallback\"><pre>Pipeline(steps=[(&#x27;columntransformer&#x27;,\n",
              "                 ColumnTransformer(remainder=&#x27;passthrough&#x27;,\n",
              "                                   transformers=[(&#x27;onehotencoder&#x27;,\n",
              "                                                  OneHotEncoder(handle_unknown=&#x27;ignore&#x27;,\n",
              "                                                                sparse=False),\n",
              "                                                  &lt;sklearn.compose._column_transformer.make_column_selector object at 0x7f56324282d0&gt;),\n",
              "                                                 (&#x27;standardscaler&#x27;,\n",
              "                                                  StandardScaler(),\n",
              "                                                  &lt;sklearn.compose._column_transformer.make_column_selector object at 0x7f5632428250&gt;)])),\n",
              "                (&#x27;randomforestregressor&#x27;,\n",
              "                 RandomForestRegressor(random_state=42))])</pre><b>Please rerun this cell to show the HTML repr or trust the notebook.</b></div><div class=\"sk-container\" hidden><div class=\"sk-item sk-dashed-wrapped\"><div class=\"sk-label-container\"><div class=\"sk-label sk-toggleable\"><input class=\"sk-toggleable__control sk-hidden--visually\" id=\"a25a3a5d-1823-4517-821f-937d0ad51b0a\" type=\"checkbox\" ><label for=\"a25a3a5d-1823-4517-821f-937d0ad51b0a\" class=\"sk-toggleable__label sk-toggleable__label-arrow\">Pipeline</label><div class=\"sk-toggleable__content\"><pre>Pipeline(steps=[(&#x27;columntransformer&#x27;,\n",
              "                 ColumnTransformer(remainder=&#x27;passthrough&#x27;,\n",
              "                                   transformers=[(&#x27;onehotencoder&#x27;,\n",
              "                                                  OneHotEncoder(handle_unknown=&#x27;ignore&#x27;,\n",
              "                                                                sparse=False),\n",
              "                                                  &lt;sklearn.compose._column_transformer.make_column_selector object at 0x7f56324282d0&gt;),\n",
              "                                                 (&#x27;standardscaler&#x27;,\n",
              "                                                  StandardScaler(),\n",
              "                                                  &lt;sklearn.compose._column_transformer.make_column_selector object at 0x7f5632428250&gt;)])),\n",
              "                (&#x27;randomforestregressor&#x27;,\n",
              "                 RandomForestRegressor(random_state=42))])</pre></div></div></div><div class=\"sk-serial\"><div class=\"sk-item sk-dashed-wrapped\"><div class=\"sk-label-container\"><div class=\"sk-label sk-toggleable\"><input class=\"sk-toggleable__control sk-hidden--visually\" id=\"13c385fb-9c90-4ea4-9b75-4634d4bfe105\" type=\"checkbox\" ><label for=\"13c385fb-9c90-4ea4-9b75-4634d4bfe105\" class=\"sk-toggleable__label sk-toggleable__label-arrow\">columntransformer: ColumnTransformer</label><div class=\"sk-toggleable__content\"><pre>ColumnTransformer(remainder=&#x27;passthrough&#x27;,\n",
              "                  transformers=[(&#x27;onehotencoder&#x27;,\n",
              "                                 OneHotEncoder(handle_unknown=&#x27;ignore&#x27;,\n",
              "                                               sparse=False),\n",
              "                                 &lt;sklearn.compose._column_transformer.make_column_selector object at 0x7f56324282d0&gt;),\n",
              "                                (&#x27;standardscaler&#x27;, StandardScaler(),\n",
              "                                 &lt;sklearn.compose._column_transformer.make_column_selector object at 0x7f5632428250&gt;)])</pre></div></div></div><div class=\"sk-parallel\"><div class=\"sk-parallel-item\"><div class=\"sk-item\"><div class=\"sk-label-container\"><div class=\"sk-label sk-toggleable\"><input class=\"sk-toggleable__control sk-hidden--visually\" id=\"a2ee4a97-954c-48e3-a45f-e333b1c603de\" type=\"checkbox\" ><label for=\"a2ee4a97-954c-48e3-a45f-e333b1c603de\" class=\"sk-toggleable__label sk-toggleable__label-arrow\">onehotencoder</label><div class=\"sk-toggleable__content\"><pre>&lt;sklearn.compose._column_transformer.make_column_selector object at 0x7f56324282d0&gt;</pre></div></div></div><div class=\"sk-serial\"><div class=\"sk-item\"><div class=\"sk-estimator sk-toggleable\"><input class=\"sk-toggleable__control sk-hidden--visually\" id=\"c2f4b72d-a205-458a-bef6-14cecb5c1c9f\" type=\"checkbox\" ><label for=\"c2f4b72d-a205-458a-bef6-14cecb5c1c9f\" class=\"sk-toggleable__label sk-toggleable__label-arrow\">OneHotEncoder</label><div class=\"sk-toggleable__content\"><pre>OneHotEncoder(handle_unknown=&#x27;ignore&#x27;, sparse=False)</pre></div></div></div></div></div></div><div class=\"sk-parallel-item\"><div class=\"sk-item\"><div class=\"sk-label-container\"><div class=\"sk-label sk-toggleable\"><input class=\"sk-toggleable__control sk-hidden--visually\" id=\"db0b3f85-da91-4cd6-835a-a07cf149e39f\" type=\"checkbox\" ><label for=\"db0b3f85-da91-4cd6-835a-a07cf149e39f\" class=\"sk-toggleable__label sk-toggleable__label-arrow\">standardscaler</label><div class=\"sk-toggleable__content\"><pre>&lt;sklearn.compose._column_transformer.make_column_selector object at 0x7f5632428250&gt;</pre></div></div></div><div class=\"sk-serial\"><div class=\"sk-item\"><div class=\"sk-estimator sk-toggleable\"><input class=\"sk-toggleable__control sk-hidden--visually\" id=\"ac0082dc-b5b7-41e1-bbbf-07ce79a27c65\" type=\"checkbox\" ><label for=\"ac0082dc-b5b7-41e1-bbbf-07ce79a27c65\" class=\"sk-toggleable__label sk-toggleable__label-arrow\">StandardScaler</label><div class=\"sk-toggleable__content\"><pre>StandardScaler()</pre></div></div></div></div></div></div><div class=\"sk-parallel-item\"><div class=\"sk-item\"><div class=\"sk-label-container\"><div class=\"sk-label sk-toggleable\"><input class=\"sk-toggleable__control sk-hidden--visually\" id=\"11ec62e9-748f-40ef-a614-c466f1788fa9\" type=\"checkbox\" ><label for=\"11ec62e9-748f-40ef-a614-c466f1788fa9\" class=\"sk-toggleable__label sk-toggleable__label-arrow\">remainder</label><div class=\"sk-toggleable__content\"><pre>[]</pre></div></div></div><div class=\"sk-serial\"><div class=\"sk-item\"><div class=\"sk-estimator sk-toggleable\"><input class=\"sk-toggleable__control sk-hidden--visually\" id=\"c17c2b9b-872b-401c-9537-2c2d57ae272e\" type=\"checkbox\" ><label for=\"c17c2b9b-872b-401c-9537-2c2d57ae272e\" class=\"sk-toggleable__label sk-toggleable__label-arrow\">passthrough</label><div class=\"sk-toggleable__content\"><pre>passthrough</pre></div></div></div></div></div></div></div></div><div class=\"sk-item\"><div class=\"sk-estimator sk-toggleable\"><input class=\"sk-toggleable__control sk-hidden--visually\" id=\"ed4f001b-4775-4d9a-8393-7c0e03d664e5\" type=\"checkbox\" ><label for=\"ed4f001b-4775-4d9a-8393-7c0e03d664e5\" class=\"sk-toggleable__label sk-toggleable__label-arrow\">RandomForestRegressor</label><div class=\"sk-toggleable__content\"><pre>RandomForestRegressor(random_state=42)</pre></div></div></div></div></div></div></div>"
            ]
          },
          "metadata": {},
          "execution_count": 89
        }
      ]
    },
    {
      "cell_type": "code",
      "source": [
        "#predict values for y\n",
        "rf_pipe.predict(X_test)"
      ],
      "metadata": {
        "id": "uJ26g9cgcITr",
        "colab": {
          "base_uri": "https://localhost:8080/"
        },
        "outputId": "5481982d-f725-4493-e473-44808cce3735"
      },
      "execution_count": 90,
      "outputs": [
        {
          "output_type": "execute_result",
          "data": {
            "text/plain": [
              "array([2.97      , 2.7       , 3.09      , 4.67      , 2.61      ,\n",
              "       3.11      , 3.23      , 2.55      , 3.59      , 3.08      ,\n",
              "       2.70916667, 2.86      , 2.22      , 2.52      , 2.75      ,\n",
              "       2.96      , 3.24      , 2.23      , 3.76      , 2.97      ,\n",
              "       3.45      , 3.09      , 3.16      , 2.45      , 3.28      ,\n",
              "       3.25      , 2.9       , 3.57      , 2.96      , 1.87      ,\n",
              "       3.41      , 3.11      , 3.03      , 1.48      , 3.95      ,\n",
              "       2.74      , 2.35      , 3.92      , 3.12      , 3.03      ,\n",
              "       2.88      , 3.29      , 2.6       , 2.71      , 3.38      ,\n",
              "       2.08      , 3.66      , 2.76      , 3.1       , 3.55      ,\n",
              "       3.04      , 3.00583333, 3.22      , 3.63      , 3.73      ,\n",
              "       4.22      , 2.91      , 3.36      , 3.51      , 2.39      ,\n",
              "       3.52      , 3.41      , 2.79      , 3.28      , 2.92      ,\n",
              "       3.44      , 3.38      , 2.59      , 4.06      , 1.33      ,\n",
              "       3.37      , 2.51      , 2.67      , 3.05      , 1.77      ,\n",
              "       3.07      , 3.99      , 2.82      , 3.79      , 2.34      ,\n",
              "       3.56      , 2.1       , 2.86      , 3.72      , 3.19      ,\n",
              "       2.86      , 3.33      , 3.04      , 3.35      , 3.04      ,\n",
              "       2.64      , 2.64      , 4.15      , 3.08      , 3.29      ,\n",
              "       3.45      , 3.02      , 2.96      , 3.48      , 2.88      ,\n",
              "       2.93      , 2.53      , 3.22      , 3.37      , 2.86      ,\n",
              "       2.48      , 2.78      , 2.58      , 2.67      , 3.08      ,\n",
              "       2.66      , 3.45      , 3.01      , 3.41      , 2.01      ,\n",
              "       2.88      , 3.77      , 2.22      , 4.99      , 3.78      ,\n",
              "       3.29      , 1.93      , 2.27      , 4.49      , 2.37      ,\n",
              "       2.85      , 3.26      , 2.82      , 3.56      , 2.54      ,\n",
              "       3.46      , 3.29      , 3.06      , 3.31      , 3.73      ,\n",
              "       2.04      , 3.73      , 3.07      , 3.17      , 2.55      ,\n",
              "       3.12      , 3.01      , 3.36      , 3.26      , 3.07      ,\n",
              "       3.36      , 3.3       , 2.35      , 3.01      , 3.52      ,\n",
              "       3.21      , 2.55      , 3.47292857, 4.18      , 2.86      ,\n",
              "       3.36      , 3.72      , 2.59      , 2.58      , 3.74      ,\n",
              "       3.13      , 3.73      , 2.5       , 4.94      , 3.05166667,\n",
              "       4.44      , 3.62      , 3.13      , 3.22      , 4.08      ,\n",
              "       2.75      , 1.89      , 3.85      , 3.41      , 2.79      ,\n",
              "       3.24      , 3.65      , 3.23      , 3.57      , 2.85      ,\n",
              "       3.88      , 3.91      , 2.86      , 2.3       , 3.45      ,\n",
              "       3.24      , 2.4       , 3.26      , 2.49      , 3.11      ,\n",
              "       2.77      , 2.4       , 3.35      , 3.31      , 3.29      ,\n",
              "       3.35      , 2.12      , 2.77      , 1.88      , 2.26      ,\n",
              "       3.17      , 3.21      , 3.13      , 3.35      , 2.98      ,\n",
              "       3.44      , 2.63      , 2.88      , 3.5       , 2.42      ,\n",
              "       2.73      , 3.03      , 2.36      , 2.71      , 3.38      ,\n",
              "       3.01      , 3.6       , 2.98      , 3.92      , 2.87      ,\n",
              "       3.5       , 3.7       , 2.34      , 3.74      , 3.22      ,\n",
              "       3.6       , 1.82      , 3.3       , 2.48      , 3.11      ,\n",
              "       3.23      , 4.8       , 4.08      , 3.01      , 3.64      ,\n",
              "       3.59      , 2.77      , 3.54      , 3.33      , 3.2       ,\n",
              "       3.6       , 3.76      , 2.32      , 2.42      , 3.73      ,\n",
              "       3.59      , 2.41      , 2.74      , 3.06      , 3.42      ,\n",
              "       2.87      , 3.26      , 3.2       , 3.72      , 3.        ,\n",
              "       3.        , 2.6       , 2.57      , 3.17      , 4.99      ,\n",
              "       2.98      , 2.5       , 3.71      , 3.51      , 3.27      ,\n",
              "       3.5       , 3.02      , 3.8       , 3.11      , 4.33      ,\n",
              "       3.26      , 2.99      , 3.41      , 3.28      , 3.25      ,\n",
              "       3.39      , 3.15      , 3.12      , 3.25      , 2.6       ,\n",
              "       1.84      , 3.04      , 3.25      , 2.84      , 3.67      ,\n",
              "       3.49      , 2.36      , 2.08      , 3.33      , 3.46      ,\n",
              "       3.33      , 2.44      , 2.7       , 3.4       , 3.17      ,\n",
              "       3.        , 2.92      , 3.23      , 3.36      , 3.35      ,\n",
              "       3.15      , 4.44      , 3.42      , 2.2       , 4.34      ,\n",
              "       2.16      , 3.52      , 3.26      , 2.74      , 2.75      ,\n",
              "       2.87      , 3.93      , 4.13      , 2.15      , 3.64      ,\n",
              "       3.78      , 2.86      , 2.91      , 2.76      , 3.33      ,\n",
              "       2.95      , 2.33      , 3.34      , 2.65      , 4.04      ,\n",
              "       3.44      , 2.65      , 3.02      , 3.81      , 2.97      ,\n",
              "       3.31      , 4.33      , 2.87      , 3.23      , 2.36      ,\n",
              "       2.99      , 3.55      , 2.8       , 2.19      , 3.46      ,\n",
              "       3.01092857, 4.835     , 3.75      , 2.71      , 2.87      ,\n",
              "       3.13      , 3.15      , 2.58      , 3.23      , 3.46      ,\n",
              "       3.9       , 3.16      , 3.38      , 2.29      , 2.11      ,\n",
              "       3.2287619 , 3.13      , 3.38      , 2.66      , 2.59      ,\n",
              "       3.04      , 3.53      , 2.93      , 3.67      , 3.1       ,\n",
              "       3.4       , 3.82      , 3.77      , 1.98      , 3.72      ,\n",
              "       3.5       , 3.94      , 1.81      , 2.66      , 3.43      ,\n",
              "       2.96      , 3.24      , 2.75      , 3.21      , 3.68      ,\n",
              "       3.8       , 3.36      , 2.19      , 4.22      , 2.52      ,\n",
              "       3.48      , 2.97      , 1.65      , 2.62      , 3.17      ,\n",
              "       3.27      , 3.4       , 3.25      , 3.66      , 2.9       ,\n",
              "       2.26      , 3.46      , 2.42      , 3.27      , 3.69      ,\n",
              "       3.06      , 3.36      , 2.93      , 3.15      , 2.51      ,\n",
              "       2.66      , 2.39      , 2.99      , 2.2       , 3.51      ,\n",
              "       2.57      , 2.52      , 3.72      , 2.48      , 2.4       ,\n",
              "       3.31      , 3.67      , 2.79      , 3.35      , 2.94      ,\n",
              "       4.42      , 2.52      , 3.32      , 3.86      , 1.98      ,\n",
              "       3.01      , 2.79      , 4.81      , 3.12      , 3.75      ,\n",
              "       3.15      , 3.7       , 2.79      , 2.99      , 3.47      ,\n",
              "       2.63      , 2.93      , 3.06      , 3.2697619 , 3.09      ,\n",
              "       2.25      , 3.21      , 2.14      , 2.45      , 1.94      ,\n",
              "       3.47      , 1.91      , 2.88      , 3.47      , 2.52      ,\n",
              "       1.75      , 3.21      , 2.24      , 3.6       , 2.79      ,\n",
              "       2.07      , 3.3       , 3.11      , 2.22      , 3.77      ,\n",
              "       3.65      , 3.24      , 3.97      , 2.38      , 3.57      ,\n",
              "       3.93      , 2.93      , 3.48      , 3.06      , 3.74      ,\n",
              "       3.74      , 2.46      , 4.4       , 2.41      , 2.68      ,\n",
              "       3.53      , 2.42      , 3.27      , 2.89      , 3.92      ,\n",
              "       2.74      , 3.72      , 3.11      , 3.19      , 3.73      ,\n",
              "       2.29      , 4.18      , 3.91      , 3.33      , 2.15      ,\n",
              "       3.37      , 3.07      , 2.99      , 3.32      , 3.13      ,\n",
              "       2.49      , 2.48      , 3.05      , 3.01      , 3.21      ,\n",
              "       2.97166667, 3.54      , 3.85      , 3.44      , 3.08      ,\n",
              "       2.88      , 3.44      , 1.71      , 2.84      , 3.38      ,\n",
              "       1.92      , 2.44      , 2.78      , 2.92      , 3.45      ,\n",
              "       3.05      , 3.47      , 3.47      , 2.8       , 2.69      ,\n",
              "       2.13      , 3.5       , 3.31      , 2.47      , 3.69      ,\n",
              "       2.65      , 3.16      , 3.59      , 3.89      , 3.49      ,\n",
              "       3.37      , 1.91      , 2.62      , 2.23      , 3.02      ,\n",
              "       3.46      , 3.14      , 2.89      , 3.3       , 1.97      ,\n",
              "       2.22      , 2.82      , 3.33      , 2.42      , 2.6       ,\n",
              "       2.97      , 2.47      , 3.26      , 2.83      , 2.86      ,\n",
              "       3.03      , 3.66      , 3.58      , 3.35      , 3.56      ,\n",
              "       1.76      , 3.37      , 2.46      , 3.3       , 4.24      ,\n",
              "       3.22      , 3.82      , 2.77      , 2.82      , 3.48      ,\n",
              "       2.83      , 3.23      , 3.56      , 3.61      , 2.99      ,\n",
              "       2.81      , 3.08      , 2.19      , 3.49      , 3.16      ,\n",
              "       2.83      , 2.81      , 3.19      , 2.9       , 3.43      ,\n",
              "       3.45      , 2.42      , 3.43      , 2.99      , 2.55      ,\n",
              "       3.38      , 1.95      , 3.13833333, 3.09      , 3.99      ,\n",
              "       3.82      , 3.23      , 3.3       , 3.42      , 2.94      ,\n",
              "       2.99      , 2.56      , 2.72      , 2.71      , 3.72      ,\n",
              "       3.38      , 3.13      , 2.45      , 3.36      , 3.39      ,\n",
              "       3.42      , 2.67      , 2.55      , 3.04      , 3.32      ,\n",
              "       2.55      , 3.36      , 3.39      , 3.33      , 2.97      ,\n",
              "       3.38      , 2.13      , 3.49      , 3.21      , 3.71      ,\n",
              "       4.21      , 3.1       , 2.91      , 3.27      , 3.44      ,\n",
              "       2.55      , 3.47      , 3.2       , 3.1       , 3.13      ,\n",
              "       3.33      , 3.44      , 2.78      , 3.2       , 3.17      ,\n",
              "       1.82      , 3.17      , 3.28      , 2.34      , 2.1       ,\n",
              "       3.34      , 2.73      , 2.85      , 2.37      , 3.91      ,\n",
              "       2.72      , 2.08      , 2.35      , 2.34      , 2.67      ,\n",
              "       3.19      , 1.9       , 3.21      , 3.42      , 3.61      ,\n",
              "       3.37      , 2.56      , 3.32      , 2.57      , 3.18      ,\n",
              "       2.95      , 3.72      , 2.69      , 2.52      , 3.16      ,\n",
              "       3.3       , 3.28      , 2.37      , 2.06      , 2.99      ,\n",
              "       3.17      , 2.86      , 3.99      , 3.37      , 3.31      ,\n",
              "       3.01      , 3.8       , 3.17      , 2.84      , 2.98      ,\n",
              "       2.98      , 2.25      , 2.96      , 3.33      , 3.06      ,\n",
              "       3.5       , 4.02      , 3.28      , 3.55      , 3.25      ,\n",
              "       3.36      , 3.09      , 2.56      , 3.57      , 3.72      ,\n",
              "       2.58      , 3.29      , 3.62      , 3.36      , 3.27      ,\n",
              "       3.03      , 3.23      , 3.89      , 3.58      , 3.54      ,\n",
              "       2.21      , 3.14      , 2.7       , 3.74      , 3.5       ,\n",
              "       3.68      , 5.        , 3.04      , 2.01      , 2.85      ,\n",
              "       2.95      , 3.59      , 2.        , 2.85      , 3.04      ,\n",
              "       3.71      , 2.08      , 3.63      , 3.48      , 2.14      ,\n",
              "       3.8       , 3.75      , 3.47      , 3.38      , 3.3       ,\n",
              "       3.5       , 3.62      , 2.75      , 2.79      , 3.61      ,\n",
              "       2.54      , 2.45      , 3.78      , 3.48      , 3.76      ,\n",
              "       1.4       , 4.59      , 2.84      , 1.86      , 3.38      ,\n",
              "       2.5       , 2.56      , 2.44      , 3.16      , 2.97      ,\n",
              "       3.53      , 2.98      , 3.28      , 2.7       , 2.52      ,\n",
              "       3.35      , 2.79      , 3.99      , 2.56      , 2.94      ,\n",
              "       2.25      , 3.14      , 3.49      , 3.59709524, 3.4       ,\n",
              "       3.97      , 3.25      , 3.47      , 3.4       , 2.59      ,\n",
              "       3.02      , 4.03      , 2.98      , 3.        , 2.74      ,\n",
              "       2.61      , 3.6       , 3.1       , 2.92      , 3.05      ,\n",
              "       3.25      , 3.78      , 2.53      , 3.27      , 3.68      ,\n",
              "       4.1       , 3.1       , 3.88      , 3.97      , 3.98      ,\n",
              "       3.56      , 3.53      , 3.03      , 3.55      , 2.26      ,\n",
              "       3.45      , 3.57      , 2.28      , 3.39      , 2.92      ,\n",
              "       2.72      , 3.67      , 1.7       , 3.88      , 2.83      ,\n",
              "       3.82      , 3.24      , 3.83      , 3.53      , 2.68      ,\n",
              "       3.13      , 2.97      , 3.17      , 1.9       , 3.47      ,\n",
              "       3.31      , 2.79      , 2.98      , 2.9       , 2.16      ,\n",
              "       2.8       , 3.42      , 2.98      , 3.78      , 2.99      ,\n",
              "       3.7       , 3.23      , 2.67      , 3.86      , 2.66      ,\n",
              "       2.86      , 3.3       , 2.59      , 3.53      , 4.18      ,\n",
              "       3.54      , 3.48      , 3.31      , 3.08      , 3.38      ,\n",
              "       2.97      , 3.26      , 3.56      , 3.11      , 2.7       ,\n",
              "       3.44      , 2.79      , 3.31      , 2.46      , 3.12      ,\n",
              "       3.16      , 2.82      , 2.52      , 3.41      , 3.73      ,\n",
              "       3.07      , 3.4       , 2.72      , 3.65      , 3.31      ,\n",
              "       2.18      , 3.09      , 2.59      , 2.63      , 3.33      ,\n",
              "       2.54      , 2.73      , 3.56      , 3.88      , 3.23      ,\n",
              "       2.87      , 2.32      , 2.21      , 3.29      , 2.64      ,\n",
              "       3.05      , 3.33      , 4.05      , 3.19      , 3.1       ,\n",
              "       2.59      , 3.34      , 2.24      , 4.36      , 3.48      ,\n",
              "       3.03      , 2.73      , 2.35      , 2.48      , 3.28      ,\n",
              "       1.98      , 3.21      , 2.73      , 2.45      , 3.4       ,\n",
              "       3.58      , 3.55      , 2.79      , 2.39      , 2.89      ,\n",
              "       3.01      , 2.96      , 2.48      , 2.88      , 3.34      ,\n",
              "       2.74      , 1.73      , 2.04      , 2.46      , 3.64      ,\n",
              "       3.64      , 3.46      , 3.23      , 3.65      , 2.88      ,\n",
              "       2.77      , 3.78      , 3.01      , 3.        , 2.64      ,\n",
              "       2.59      , 3.28      , 3.44      , 2.48      , 3.87      ])"
            ]
          },
          "metadata": {},
          "execution_count": 90
        }
      ]
    },
    {
      "cell_type": "code",
      "source": [
        "#evaluate random forest model performance\n",
        "rf_pipe_train_score = rf_pipe.score(X_train, y_train)\n",
        "rf_pipe_test_score = rf_pipe.score(X_test, y_test)\n",
        "print(rf_pipe_train_score)\n",
        "print(rf_pipe_test_score)"
      ],
      "metadata": {
        "colab": {
          "base_uri": "https://localhost:8080/"
        },
        "id": "CYOgQFrgcMMY",
        "outputId": "6277d57b-cade-4b73-ebe4-a3ad4e76756f"
      },
      "execution_count": 91,
      "outputs": [
        {
          "output_type": "stream",
          "name": "stdout",
          "text": [
            "0.883668740246947\n",
            "0.2043433955101165\n"
          ]
        }
      ]
    },
    {
      "cell_type": "markdown",
      "source": [
        "R2 value of about 88% for training set and 20% for test set. This shows very high overfitting. Will tune random forest model to see if model can be improved."
      ],
      "metadata": {
        "id": "pHlLNcKdcVK0"
      }
    },
    {
      "cell_type": "code",
      "source": [
        "#depth of model with unlimited max_depth\n",
        "est_depths = [estimator.get_depth() for estimator in rf.estimators_]\n",
        "max(est_depths)"
      ],
      "metadata": {
        "colab": {
          "base_uri": "https://localhost:8080/"
        },
        "id": "1VVl0MFQcZ07",
        "outputId": "87c6fc30-988b-48bc-958d-29ff5e8379d2"
      },
      "execution_count": 92,
      "outputs": [
        {
          "output_type": "execute_result",
          "data": {
            "text/plain": [
              "53"
            ]
          },
          "metadata": {},
          "execution_count": 92
        }
      ]
    },
    {
      "cell_type": "code",
      "source": [
        "#use loop to loop to find best max_depth\n",
        "depths = range(1, max(est_depths))\n",
        "scores = pd.DataFrame(index=depths, columns=['Test Score'])\n",
        "for depth in depths:    \n",
        "   model = RandomForestRegressor(max_depth=depth)\n",
        "   model_pipe = make_pipeline(preprocessor, model)\n",
        "   model_pipe.fit(X_train, y_train)\n",
        "   scores.loc[depth, 'Train Score'] = model_pipe.score(X_train, y_train)\n",
        "   scores.loc[depth, 'Test Score'] = model_pipe.score(X_test, y_test)\n",
        "   scores.head()"
      ],
      "metadata": {
        "id": "InJcVodmcdVq"
      },
      "execution_count": 93,
      "outputs": []
    },
    {
      "cell_type": "code",
      "source": [
        "sorted_scores = scores.sort_values(by='Test Score', ascending=False)\n",
        "sorted_scores.head()\n",
        "\n",
        "# best test score at the top"
      ],
      "metadata": {
        "id": "tJ3IBBiQcypt",
        "colab": {
          "base_uri": "https://localhost:8080/",
          "height": 206
        },
        "outputId": "8f26c5a1-c940-4b8b-8f00-1f3aad942e47"
      },
      "execution_count": 94,
      "outputs": [
        {
          "output_type": "execute_result",
          "data": {
            "text/plain": [
              "   Test Score  Train Score\n",
              "9    0.220706     0.446578\n",
              "13   0.218688     0.608842\n",
              "15   0.216476     0.681357\n",
              "11   0.216159     0.535970\n",
              "10   0.215253     0.489010"
            ],
            "text/html": [
              "\n",
              "  <div id=\"df-453bb401-3086-4132-b823-9968cccae720\">\n",
              "    <div class=\"colab-df-container\">\n",
              "      <div>\n",
              "<style scoped>\n",
              "    .dataframe tbody tr th:only-of-type {\n",
              "        vertical-align: middle;\n",
              "    }\n",
              "\n",
              "    .dataframe tbody tr th {\n",
              "        vertical-align: top;\n",
              "    }\n",
              "\n",
              "    .dataframe thead th {\n",
              "        text-align: right;\n",
              "    }\n",
              "</style>\n",
              "<table border=\"1\" class=\"dataframe\">\n",
              "  <thead>\n",
              "    <tr style=\"text-align: right;\">\n",
              "      <th></th>\n",
              "      <th>Test Score</th>\n",
              "      <th>Train Score</th>\n",
              "    </tr>\n",
              "  </thead>\n",
              "  <tbody>\n",
              "    <tr>\n",
              "      <th>9</th>\n",
              "      <td>0.220706</td>\n",
              "      <td>0.446578</td>\n",
              "    </tr>\n",
              "    <tr>\n",
              "      <th>13</th>\n",
              "      <td>0.218688</td>\n",
              "      <td>0.608842</td>\n",
              "    </tr>\n",
              "    <tr>\n",
              "      <th>15</th>\n",
              "      <td>0.216476</td>\n",
              "      <td>0.681357</td>\n",
              "    </tr>\n",
              "    <tr>\n",
              "      <th>11</th>\n",
              "      <td>0.216159</td>\n",
              "      <td>0.535970</td>\n",
              "    </tr>\n",
              "    <tr>\n",
              "      <th>10</th>\n",
              "      <td>0.215253</td>\n",
              "      <td>0.489010</td>\n",
              "    </tr>\n",
              "  </tbody>\n",
              "</table>\n",
              "</div>\n",
              "      <button class=\"colab-df-convert\" onclick=\"convertToInteractive('df-453bb401-3086-4132-b823-9968cccae720')\"\n",
              "              title=\"Convert this dataframe to an interactive table.\"\n",
              "              style=\"display:none;\">\n",
              "        \n",
              "  <svg xmlns=\"http://www.w3.org/2000/svg\" height=\"24px\"viewBox=\"0 0 24 24\"\n",
              "       width=\"24px\">\n",
              "    <path d=\"M0 0h24v24H0V0z\" fill=\"none\"/>\n",
              "    <path d=\"M18.56 5.44l.94 2.06.94-2.06 2.06-.94-2.06-.94-.94-2.06-.94 2.06-2.06.94zm-11 1L8.5 8.5l.94-2.06 2.06-.94-2.06-.94L8.5 2.5l-.94 2.06-2.06.94zm10 10l.94 2.06.94-2.06 2.06-.94-2.06-.94-.94-2.06-.94 2.06-2.06.94z\"/><path d=\"M17.41 7.96l-1.37-1.37c-.4-.4-.92-.59-1.43-.59-.52 0-1.04.2-1.43.59L10.3 9.45l-7.72 7.72c-.78.78-.78 2.05 0 2.83L4 21.41c.39.39.9.59 1.41.59.51 0 1.02-.2 1.41-.59l7.78-7.78 2.81-2.81c.8-.78.8-2.07 0-2.86zM5.41 20L4 18.59l7.72-7.72 1.47 1.35L5.41 20z\"/>\n",
              "  </svg>\n",
              "      </button>\n",
              "      \n",
              "  <style>\n",
              "    .colab-df-container {\n",
              "      display:flex;\n",
              "      flex-wrap:wrap;\n",
              "      gap: 12px;\n",
              "    }\n",
              "\n",
              "    .colab-df-convert {\n",
              "      background-color: #E8F0FE;\n",
              "      border: none;\n",
              "      border-radius: 50%;\n",
              "      cursor: pointer;\n",
              "      display: none;\n",
              "      fill: #1967D2;\n",
              "      height: 32px;\n",
              "      padding: 0 0 0 0;\n",
              "      width: 32px;\n",
              "    }\n",
              "\n",
              "    .colab-df-convert:hover {\n",
              "      background-color: #E2EBFA;\n",
              "      box-shadow: 0px 1px 2px rgba(60, 64, 67, 0.3), 0px 1px 3px 1px rgba(60, 64, 67, 0.15);\n",
              "      fill: #174EA6;\n",
              "    }\n",
              "\n",
              "    [theme=dark] .colab-df-convert {\n",
              "      background-color: #3B4455;\n",
              "      fill: #D2E3FC;\n",
              "    }\n",
              "\n",
              "    [theme=dark] .colab-df-convert:hover {\n",
              "      background-color: #434B5C;\n",
              "      box-shadow: 0px 1px 3px 1px rgba(0, 0, 0, 0.15);\n",
              "      filter: drop-shadow(0px 1px 2px rgba(0, 0, 0, 0.3));\n",
              "      fill: #FFFFFF;\n",
              "    }\n",
              "  </style>\n",
              "\n",
              "      <script>\n",
              "        const buttonEl =\n",
              "          document.querySelector('#df-453bb401-3086-4132-b823-9968cccae720 button.colab-df-convert');\n",
              "        buttonEl.style.display =\n",
              "          google.colab.kernel.accessAllowed ? 'block' : 'none';\n",
              "\n",
              "        async function convertToInteractive(key) {\n",
              "          const element = document.querySelector('#df-453bb401-3086-4132-b823-9968cccae720');\n",
              "          const dataTable =\n",
              "            await google.colab.kernel.invokeFunction('convertToInteractive',\n",
              "                                                     [key], {});\n",
              "          if (!dataTable) return;\n",
              "\n",
              "          const docLinkHtml = 'Like what you see? Visit the ' +\n",
              "            '<a target=\"_blank\" href=https://colab.research.google.com/notebooks/data_table.ipynb>data table notebook</a>'\n",
              "            + ' to learn more about interactive tables.';\n",
              "          element.innerHTML = '';\n",
              "          dataTable['output_type'] = 'display_data';\n",
              "          await google.colab.output.renderOutput(dataTable, element);\n",
              "          const docLink = document.createElement('div');\n",
              "          docLink.innerHTML = docLinkHtml;\n",
              "          element.appendChild(docLink);\n",
              "        }\n",
              "      </script>\n",
              "    </div>\n",
              "  </div>\n",
              "  "
            ]
          },
          "metadata": {},
          "execution_count": 94
        }
      ]
    },
    {
      "cell_type": "code",
      "source": [
        "#tune model using n_estimators instead\n",
        "\n",
        "n_ests = [2, 10, 20, 30, 40, 55]\n",
        "scores2 = pd.DataFrame(index=n_ests, columns=['Test Score', 'Train Score'])\n",
        "for n in n_ests:\n",
        "   model2 = RandomForestRegressor(max_depth=53, n_estimators=n)\n",
        "   model2_pipe = make_pipeline(preprocessor, model)\n",
        "   model2_pipe.fit(X_train, y_train)\n",
        "   scores2.loc[n, 'Train Score'] = model2_pipe.score(X_train, y_train)\n",
        "   scores2.loc[n, 'Test Score'] = model2_pipe.score(X_test, y_test)\n",
        "scores2.head()"
      ],
      "metadata": {
        "id": "Jx4tUO_rdBSi",
        "colab": {
          "base_uri": "https://localhost:8080/",
          "height": 206
        },
        "outputId": "9c86733f-5bfb-4162-8b1f-9b6e3421a535"
      },
      "execution_count": 95,
      "outputs": [
        {
          "output_type": "execute_result",
          "data": {
            "text/plain": [
              "   Test Score Train Score\n",
              "2    0.198274    0.884682\n",
              "10   0.208601    0.885657\n",
              "20   0.201837    0.884746\n",
              "30   0.188417    0.887299\n",
              "40   0.210746    0.884804"
            ],
            "text/html": [
              "\n",
              "  <div id=\"df-df3f07d2-c2eb-416a-8a8d-18dbbc2a5c91\">\n",
              "    <div class=\"colab-df-container\">\n",
              "      <div>\n",
              "<style scoped>\n",
              "    .dataframe tbody tr th:only-of-type {\n",
              "        vertical-align: middle;\n",
              "    }\n",
              "\n",
              "    .dataframe tbody tr th {\n",
              "        vertical-align: top;\n",
              "    }\n",
              "\n",
              "    .dataframe thead th {\n",
              "        text-align: right;\n",
              "    }\n",
              "</style>\n",
              "<table border=\"1\" class=\"dataframe\">\n",
              "  <thead>\n",
              "    <tr style=\"text-align: right;\">\n",
              "      <th></th>\n",
              "      <th>Test Score</th>\n",
              "      <th>Train Score</th>\n",
              "    </tr>\n",
              "  </thead>\n",
              "  <tbody>\n",
              "    <tr>\n",
              "      <th>2</th>\n",
              "      <td>0.198274</td>\n",
              "      <td>0.884682</td>\n",
              "    </tr>\n",
              "    <tr>\n",
              "      <th>10</th>\n",
              "      <td>0.208601</td>\n",
              "      <td>0.885657</td>\n",
              "    </tr>\n",
              "    <tr>\n",
              "      <th>20</th>\n",
              "      <td>0.201837</td>\n",
              "      <td>0.884746</td>\n",
              "    </tr>\n",
              "    <tr>\n",
              "      <th>30</th>\n",
              "      <td>0.188417</td>\n",
              "      <td>0.887299</td>\n",
              "    </tr>\n",
              "    <tr>\n",
              "      <th>40</th>\n",
              "      <td>0.210746</td>\n",
              "      <td>0.884804</td>\n",
              "    </tr>\n",
              "  </tbody>\n",
              "</table>\n",
              "</div>\n",
              "      <button class=\"colab-df-convert\" onclick=\"convertToInteractive('df-df3f07d2-c2eb-416a-8a8d-18dbbc2a5c91')\"\n",
              "              title=\"Convert this dataframe to an interactive table.\"\n",
              "              style=\"display:none;\">\n",
              "        \n",
              "  <svg xmlns=\"http://www.w3.org/2000/svg\" height=\"24px\"viewBox=\"0 0 24 24\"\n",
              "       width=\"24px\">\n",
              "    <path d=\"M0 0h24v24H0V0z\" fill=\"none\"/>\n",
              "    <path d=\"M18.56 5.44l.94 2.06.94-2.06 2.06-.94-2.06-.94-.94-2.06-.94 2.06-2.06.94zm-11 1L8.5 8.5l.94-2.06 2.06-.94-2.06-.94L8.5 2.5l-.94 2.06-2.06.94zm10 10l.94 2.06.94-2.06 2.06-.94-2.06-.94-.94-2.06-.94 2.06-2.06.94z\"/><path d=\"M17.41 7.96l-1.37-1.37c-.4-.4-.92-.59-1.43-.59-.52 0-1.04.2-1.43.59L10.3 9.45l-7.72 7.72c-.78.78-.78 2.05 0 2.83L4 21.41c.39.39.9.59 1.41.59.51 0 1.02-.2 1.41-.59l7.78-7.78 2.81-2.81c.8-.78.8-2.07 0-2.86zM5.41 20L4 18.59l7.72-7.72 1.47 1.35L5.41 20z\"/>\n",
              "  </svg>\n",
              "      </button>\n",
              "      \n",
              "  <style>\n",
              "    .colab-df-container {\n",
              "      display:flex;\n",
              "      flex-wrap:wrap;\n",
              "      gap: 12px;\n",
              "    }\n",
              "\n",
              "    .colab-df-convert {\n",
              "      background-color: #E8F0FE;\n",
              "      border: none;\n",
              "      border-radius: 50%;\n",
              "      cursor: pointer;\n",
              "      display: none;\n",
              "      fill: #1967D2;\n",
              "      height: 32px;\n",
              "      padding: 0 0 0 0;\n",
              "      width: 32px;\n",
              "    }\n",
              "\n",
              "    .colab-df-convert:hover {\n",
              "      background-color: #E2EBFA;\n",
              "      box-shadow: 0px 1px 2px rgba(60, 64, 67, 0.3), 0px 1px 3px 1px rgba(60, 64, 67, 0.15);\n",
              "      fill: #174EA6;\n",
              "    }\n",
              "\n",
              "    [theme=dark] .colab-df-convert {\n",
              "      background-color: #3B4455;\n",
              "      fill: #D2E3FC;\n",
              "    }\n",
              "\n",
              "    [theme=dark] .colab-df-convert:hover {\n",
              "      background-color: #434B5C;\n",
              "      box-shadow: 0px 1px 3px 1px rgba(0, 0, 0, 0.15);\n",
              "      filter: drop-shadow(0px 1px 2px rgba(0, 0, 0, 0.3));\n",
              "      fill: #FFFFFF;\n",
              "    }\n",
              "  </style>\n",
              "\n",
              "      <script>\n",
              "        const buttonEl =\n",
              "          document.querySelector('#df-df3f07d2-c2eb-416a-8a8d-18dbbc2a5c91 button.colab-df-convert');\n",
              "        buttonEl.style.display =\n",
              "          google.colab.kernel.accessAllowed ? 'block' : 'none';\n",
              "\n",
              "        async function convertToInteractive(key) {\n",
              "          const element = document.querySelector('#df-df3f07d2-c2eb-416a-8a8d-18dbbc2a5c91');\n",
              "          const dataTable =\n",
              "            await google.colab.kernel.invokeFunction('convertToInteractive',\n",
              "                                                     [key], {});\n",
              "          if (!dataTable) return;\n",
              "\n",
              "          const docLinkHtml = 'Like what you see? Visit the ' +\n",
              "            '<a target=\"_blank\" href=https://colab.research.google.com/notebooks/data_table.ipynb>data table notebook</a>'\n",
              "            + ' to learn more about interactive tables.';\n",
              "          element.innerHTML = '';\n",
              "          dataTable['output_type'] = 'display_data';\n",
              "          await google.colab.output.renderOutput(dataTable, element);\n",
              "          const docLink = document.createElement('div');\n",
              "          docLink.innerHTML = docLinkHtml;\n",
              "          element.appendChild(docLink);\n",
              "        }\n",
              "      </script>\n",
              "    </div>\n",
              "  </div>\n",
              "  "
            ]
          },
          "metadata": {},
          "execution_count": 95
        }
      ]
    },
    {
      "cell_type": "markdown",
      "source": [
        "**Deep Learning Model**"
      ],
      "metadata": {
        "id": "NmmRcMPIXQoY"
      }
    },
    {
      "cell_type": "code",
      "source": [
        "#assign X and y\n",
        "#Rating.Overall is the target\n",
        "\n",
        "X = df3.drop(columns='Rating.Overall')\n",
        "y = df3['Rating.Overall']\n",
        "\n",
        "# split into training and test sets\n",
        "X_train, X_test, y_train, y_test = train_test_split(X, y, random_state=42)"
      ],
      "metadata": {
        "id": "SjnEBXnOpqpZ"
      },
      "execution_count": 52,
      "outputs": []
    },
    {
      "cell_type": "code",
      "source": [
        "# process the data\n",
        "preprocessor.fit(X_train, y_train)\n",
        "X_train_proc = preprocessor.transform(X_train)\n",
        "X_test_proc = preprocessor.transform(X_test)\n",
        "\n",
        "X_train_proc.shape"
      ],
      "metadata": {
        "colab": {
          "base_uri": "https://localhost:8080/"
        },
        "id": "OQ0W0MZPsNxd",
        "outputId": "3c937528-d03e-4f76-f586-b1068f75503a"
      },
      "execution_count": 53,
      "outputs": [
        {
          "output_type": "execute_result",
          "data": {
            "text/plain": [
              "(2774, 70)"
            ]
          },
          "metadata": {},
          "execution_count": 53
        }
      ]
    },
    {
      "cell_type": "code",
      "source": [
        "#define features\n",
        "input_shape = X_train_proc.shape[1]\n",
        "input_shape"
      ],
      "metadata": {
        "colab": {
          "base_uri": "https://localhost:8080/"
        },
        "id": "SjMMt4Wesnvx",
        "outputId": "4ca25770-90c8-41d8-a068-487510507e20"
      },
      "execution_count": 54,
      "outputs": [
        {
          "output_type": "execute_result",
          "data": {
            "text/plain": [
              "70"
            ]
          },
          "metadata": {},
          "execution_count": 54
        }
      ]
    },
    {
      "cell_type": "code",
      "source": [
        "#define model\n",
        "reg_model = Sequential()"
      ],
      "metadata": {
        "id": "tA6DlLtVqpBK"
      },
      "execution_count": 55,
      "outputs": []
    },
    {
      "cell_type": "code",
      "source": [
        "#sequential model in keras\n",
        "\n",
        "#first layer\n",
        "reg_model.add(Dense(70, input_dim = input_shape, activation='relu'))\n",
        "#second layer\n",
        "reg_model.add(Dense(50, activation='relu'))\n",
        "#second layer\n",
        "reg_model.add(Dense(30, activation='relu'))\n",
        "#second layer\n",
        "reg_model.add(Dense(10, activation='relu'))\n",
        "#second layer\n",
        "reg_model.add(Dense(5, activation='relu'))\n",
        "#outer layer\n",
        "reg_model.add(Dense(1, activation='linear'))\n",
        "\n",
        "#summary\n",
        "reg_model.summary()"
      ],
      "metadata": {
        "colab": {
          "base_uri": "https://localhost:8080/"
        },
        "id": "XPaPb71vZNy1",
        "outputId": "25bca197-fdf9-4daa-fe85-41035a119196"
      },
      "execution_count": 56,
      "outputs": [
        {
          "output_type": "stream",
          "name": "stdout",
          "text": [
            "Model: \"sequential\"\n",
            "_________________________________________________________________\n",
            " Layer (type)                Output Shape              Param #   \n",
            "=================================================================\n",
            " dense (Dense)               (None, 70)                4970      \n",
            "                                                                 \n",
            " dense_1 (Dense)             (None, 50)                3550      \n",
            "                                                                 \n",
            " dense_2 (Dense)             (None, 30)                1530      \n",
            "                                                                 \n",
            " dense_3 (Dense)             (None, 10)                310       \n",
            "                                                                 \n",
            " dense_4 (Dense)             (None, 5)                 55        \n",
            "                                                                 \n",
            " dense_5 (Dense)             (None, 1)                 6         \n",
            "                                                                 \n",
            "=================================================================\n",
            "Total params: 10,421\n",
            "Trainable params: 10,421\n",
            "Non-trainable params: 0\n",
            "_________________________________________________________________\n"
          ]
        }
      ]
    },
    {
      "cell_type": "code",
      "source": [
        "#compile classification model- mse loss function and adam optimizer\n",
        "reg_model.compile(loss = 'mse', optimizer = 'adam', metrics = 'mae')\n",
        "\n",
        "#fit model\n",
        "history = reg_model.fit(X_train_proc, y_train, validation_data = (X_test_proc, y_test), epochs=60, verbose=0)"
      ],
      "metadata": {
        "id": "htkIn73flj1C"
      },
      "execution_count": 57,
      "outputs": []
    },
    {
      "cell_type": "code",
      "source": [
        "#visualize the loss\n",
        "plt.plot(history.history['loss'], label='Train loss')\n",
        "plt.plot(history.history['val_loss'], label='Test Loss')\n",
        "plt.legend();"
      ],
      "metadata": {
        "colab": {
          "base_uri": "https://localhost:8080/",
          "height": 265
        },
        "id": "Im_3MbagvpKf",
        "outputId": "97f05de0-355a-441c-dfc9-b5b7040a1fae"
      },
      "execution_count": 58,
      "outputs": [
        {
          "output_type": "display_data",
          "data": {
            "text/plain": [
              "<Figure size 432x288 with 1 Axes>"
            ],
            "image/png": "[encoded data removed]"
          },
          "metadata": {
            "needs_background": "light"
          }
        }
      ]
    },
    {
      "cell_type": "markdown",
      "source": [
        "Upward trend of test loss shows overfitting. Will try to tune model with dropout."
      ],
      "metadata": {
        "id": "KVAqNuHX38Uj"
      }
    },
    {
      "cell_type": "code",
      "source": [
        "#sequential model with dropout\n",
        "\n",
        "#define model\n",
        "reg_model2 = Sequential()"
      ],
      "metadata": {
        "id": "1ytqYzl65Mw1"
      },
      "execution_count": 59,
      "outputs": []
    },
    {
      "cell_type": "code",
      "source": [
        "#sequential model with dropout\n",
        "\n",
        "#first layer\n",
        "reg_model2.add(Dense(70, input_dim = input_shape, activation='relu'))\n",
        "reg_model2.add(Dropout(.2))\n",
        "#second layer\n",
        "reg_model2.add(Dense(50, activation='relu'))\n",
        "reg_model2.add(Dropout(.2))\n",
        "#third layer\n",
        "reg_model2.add(Dense(30, activation='relu'))\n",
        "reg_model2.add(Dropout(.2))\n",
        "#fourth layer\n",
        "reg_model2.add(Dense(10, activation='relu'))\n",
        "reg_model2.add(Dropout(.2))\n",
        "#fifth layer\n",
        "reg_model2.add(Dense(5, activation='relu'))\n",
        "reg_model2.add(Dropout(.2))\n",
        "#outer layer\n",
        "reg_model2.add(Dense(1, activation='linear'))\n",
        "\n",
        "#summary\n",
        "reg_model2.summary()"
      ],
      "metadata": {
        "colab": {
          "base_uri": "https://localhost:8080/"
        },
        "id": "JSF_TNBI5UMt",
        "outputId": "d982e707-75ab-42c3-ecbc-9fe036c9e892"
      },
      "execution_count": 60,
      "outputs": [
        {
          "output_type": "stream",
          "name": "stdout",
          "text": [
            "Model: \"sequential_1\"\n",
            "_________________________________________________________________\n",
            " Layer (type)                Output Shape              Param #   \n",
            "=================================================================\n",
            " dense_6 (Dense)             (None, 70)                4970      \n",
            "                                                                 \n",
            " dropout (Dropout)           (None, 70)                0         \n",
            "                                                                 \n",
            " dense_7 (Dense)             (None, 50)                3550      \n",
            "                                                                 \n",
            " dropout_1 (Dropout)         (None, 50)                0         \n",
            "                                                                 \n",
            " dense_8 (Dense)             (None, 30)                1530      \n",
            "                                                                 \n",
            " dropout_2 (Dropout)         (None, 30)                0         \n",
            "                                                                 \n",
            " dense_9 (Dense)             (None, 10)                310       \n",
            "                                                                 \n",
            " dropout_3 (Dropout)         (None, 10)                0         \n",
            "                                                                 \n",
            " dense_10 (Dense)            (None, 5)                 55        \n",
            "                                                                 \n",
            " dropout_4 (Dropout)         (None, 5)                 0         \n",
            "                                                                 \n",
            " dense_11 (Dense)            (None, 1)                 6         \n",
            "                                                                 \n",
            "=================================================================\n",
            "Total params: 10,421\n",
            "Trainable params: 10,421\n",
            "Non-trainable params: 0\n",
            "_________________________________________________________________\n"
          ]
        }
      ]
    },
    {
      "cell_type": "code",
      "source": [
        "#compile classification model- mse loss function and adam optimizer\n",
        "reg_model2.compile(loss = 'mse', optimizer = 'adam', metrics = ['mae', 'accuracy'])\n",
        "\n",
        "#fit model\n",
        "history2 = reg_model2.fit(X_train_proc, y_train, validation_data = (X_test_proc, y_test), epochs=60, verbose=0)"
      ],
      "metadata": {
        "id": "EaKIAIlg53sM"
      },
      "execution_count": 68,
      "outputs": []
    },
    {
      "cell_type": "code",
      "source": [
        "pyplot.plot(history2.history['accuracy'])\n",
        "pyplot.show()"
      ],
      "metadata": {
        "colab": {
          "base_uri": "https://localhost:8080/",
          "height": 265
        },
        "id": "OUoWqE0vrepg",
        "outputId": "18e9e780-0a86-4c87-9cbf-f260b0db0b31"
      },
      "execution_count": 70,
      "outputs": [
        {
          "output_type": "display_data",
          "data": {
            "text/plain": [
              "<Figure size 432x288 with 1 Axes>"
            ],
            "image/png": "[encoded data removed]"
          },
          "metadata": {
            "needs_background": "light"
          }
        }
      ]
    },
    {
      "cell_type": "code",
      "source": [
        "#visualize the loss\n",
        "plt.plot(history2.history['loss'], label='Train loss')\n",
        "plt.plot(history2.history['val_loss'], label='Test Loss')\n",
        "plt.legend();"
      ],
      "metadata": {
        "colab": {
          "base_uri": "https://localhost:8080/",
          "height": 265
        },
        "id": "sDBvQH1l6Cf1",
        "outputId": "8d2e9a35-e67c-456f-e600-51bce0f8c139"
      },
      "execution_count": 62,
      "outputs": [
        {
          "output_type": "display_data",
          "data": {
            "text/plain": [
              "<Figure size 432x288 with 1 Axes>"
            ],
            "image/png": "[encoded data removed]"
          },
          "metadata": {
            "needs_background": "light"
          }
        }
      ]
    },
    {
      "cell_type": "markdown",
      "source": [
        "dropout helped sequential model be much less overfit but with low accuracy"
      ],
      "metadata": {
        "id": "6SvrFhFl-IJV"
      }
    }
  ]
}