{
  "nbformat": 4,
  "nbformat_minor": 0,
  "metadata": {
    "colab": {
      "name": "National Hospital Ratings",
      "provenance": [],
      "collapsed_sections": [],
      "mount_file_id": "1eZAGP6ekXS0e_Psbn7pZjjcfc9gmt_8x",
      "authorship_tag": "ABX9TyMfaD1lfF2YxADoHHQYccuX",
      "include_colab_link": true
    },
    "kernelspec": {
      "name": "python3",
      "display_name": "Python 3"
    },
    "language_info": {
      "name": "python"
    }
  },
  "cells": [
    {
      "cell_type": "markdown",
      "metadata": {
        "id": "view-in-github",
        "colab_type": "text"
      },
      "source": [
        "<a href=\"https://colab.research.google.com/github/Sun-ny-A/Hospital-Ratings/blob/main/National_Hospital_Ratings.ipynb\" target=\"_parent\"><img src=\"https://colab.research.google.com/assets/colab-badge.svg\" alt=\"Open In Colab\"/></a>"
      ]
    },
    {
      "cell_type": "markdown",
      "source": [
        "Hospital Ratings in the United States\n",
        "\n",
        "Senait Abate"
      ],
      "metadata": {
        "id": "m8WfXD0w5DUN"
      }
    },
    {
      "cell_type": "markdown",
      "source": [
        "**Clean Data**"
      ],
      "metadata": {
        "id": "ER0Fb-MG5HGr"
      }
    },
    {
      "cell_type": "code",
      "source": [
        "#mount drive\n",
        "from google.colab import drive\n",
        "drive.mount('/content/drive')"
      ],
      "metadata": {
        "colab": {
          "base_uri": "https://localhost:8080/"
        },
        "id": "188IciAy3JNR",
        "outputId": "8fca2c8d-c5e2-480a-f551-291087f3c779"
      },
      "execution_count": 149,
      "outputs": [
        {
          "output_type": "stream",
          "name": "stdout",
          "text": [
            "Drive already mounted at /content/drive; to attempt to forcibly remount, call drive.mount(\"/content/drive\", force_remount=True).\n"
          ]
        }
      ]
    },
    {
      "cell_type": "code",
      "execution_count": 323,
      "metadata": {
        "colab": {
          "base_uri": "https://localhost:8080/"
        },
        "id": "RzVJBBh02XGr",
        "outputId": "e933a0e0-1f34-4304-b7bb-e2ecc41df578"
      },
      "outputs": [
        {
          "output_type": "stream",
          "name": "stdout",
          "text": [
            "Looking in indexes: https://pypi.org/simple, https://us-python.pkg.dev/colab-wheels/public/simple/\n",
            "Requirement already satisfied: plotly in /usr/local/lib/python3.7/dist-packages (5.9.0)\n",
            "Requirement already satisfied: tenacity>=6.2.0 in /usr/local/lib/python3.7/dist-packages (from plotly) (8.0.1)\n"
          ]
        }
      ],
      "source": [
        "#import\n",
        "import pandas as pd\n",
        "import numpy as np\n",
        "import matplotlib.pyplot as plt\n",
        "import seaborn as sns\n",
        "from sklearn import set_config\n",
        "set_config(display='diagram')\n",
        "import seaborn as sns\n",
        "from sklearn.model_selection import train_test_split, cross_val_score, GridSearchCV\n",
        "from sklearn.preprocessing import StandardScaler, OneHotEncoder\n",
        "from sklearn.pipeline import make_pipeline\n",
        "from sklearn.neighbors import KNeighborsClassifier\n",
        "from sklearn.metrics import accuracy_score, plot_confusion_matrix, classification_report, mean_absolute_error, mean_squared_error, r2_score\n",
        "from sklearn.compose import make_column_selector, make_column_transformer\n",
        "from sklearn.impute import SimpleImputer\n",
        "from sklearn.decomposition import PCA\n",
        "from sklearn.linear_model import LinearRegression, LogisticRegression\n",
        "from sklearn import metrics\n",
        "from sklearn.ensemble import RandomForestRegressor, GradientBoostingClassifier\n",
        "import folium\n",
        "!pip install --upgrade plotly\n",
        "import plotly.graph_objects as go\n",
        "import tensorflow.keras as keras\n",
        "from tensorflow.keras.models import Sequential\n",
        "from tensorflow.keras.layers import Dense, Dropout"
      ]
    },
    {
      "cell_type": "markdown",
      "source": [
        "source of dataset: https://corgis-edu.github.io/corgis/csv/hospitals/"
      ],
      "metadata": {
        "id": "dpKBlt7I3Bjt"
      }
    },
    {
      "cell_type": "code",
      "source": [
        "#upload data\n",
        "df = pd.read_csv('/content/hospitals.csv')\n",
        "df.head()"
      ],
      "metadata": {
        "colab": {
          "base_uri": "https://localhost:8080/",
          "height": 438
        },
        "id": "t1F0CO8N2xqu",
        "outputId": "f635f57b-d461-4e58-d480-75539dc231b7"
      },
      "execution_count": 151,
      "outputs": [
        {
          "output_type": "execute_result",
          "data": {
            "text/plain": [
              "                     Facility.Name Facility.City Facility.State Facility.Type  \\\n",
              "0    Marshall Medical Center South          Boaz             AL    Government   \n",
              "1         Mizell Memorial Hospital           Opp             AL       Private   \n",
              "2         Highlands Medical Center    Scottsboro             AL    Government   \n",
              "3  Mobile Infirmary Medical Center        Mobile             AL       Private   \n",
              "4     Springhill Memorial Hospital        Mobile             AL   Proprietary   \n",
              "\n",
              "   Rating.Overall Rating.Mortality Rating.Safety Rating.Readmission  \\\n",
              "0             1.0            Below         Below              Below   \n",
              "1             1.0             Same          Same              Below   \n",
              "2             1.0             Same         Below              Below   \n",
              "3             1.0             Same         Below              Below   \n",
              "4             1.0             Same         Below              Below   \n",
              "\n",
              "  Rating.Experience Rating.Effectiveness  ... Procedure.Heart Attack.Value  \\\n",
              "0              Same                Above  ...                      Average   \n",
              "1             Below                Below  ...                      Unknown   \n",
              "2             Below                 Same  ...                      Unknown   \n",
              "3             Above                 Same  ...                      Average   \n",
              "4              Same                 Same  ...                      Average   \n",
              "\n",
              "  Procedure.Heart Failure.Cost  Procedure.Heart Failure.Quality  \\\n",
              "0                        15819                            Worse   \n",
              "1                        14541                          Average   \n",
              "2                        14855                          Average   \n",
              "3                        17664                          Average   \n",
              "4                        17150                          Average   \n",
              "\n",
              "  Procedure.Heart Failure.Value Procedure.Pneumonia.Cost  \\\n",
              "0                       Average                    15614   \n",
              "1                         Lower                    15226   \n",
              "2                         Lower                    14509   \n",
              "3                        Higher                    18321   \n",
              "4                       Average                    17128   \n",
              "\n",
              "   Procedure.Pneumonia.Quality Procedure.Pneumonia.Value  \\\n",
              "0                        Worse                     Lower   \n",
              "1                        Worse                     Lower   \n",
              "2                      Average                     Lower   \n",
              "3                      Average                    Higher   \n",
              "4                      Average                   Average   \n",
              "\n",
              "  Procedure.Hip Knee.Cost  Procedure.Hip Knee.Quality Procedure.Hip Knee.Value  \n",
              "0                   22747                     Average                  Average  \n",
              "1                   23472                     Average                  Average  \n",
              "2                   24701                     Average                   Higher  \n",
              "3                   21994                     Average                  Average  \n",
              "4                   23520                     Average                   Higher  \n",
              "\n",
              "[5 rows x 24 columns]"
            ],
            "text/html": [
              "\n",
              "  <div id=\"df-c1cc0652-01c1-4950-80be-97f97e238f9f\">\n",
              "    <div class=\"colab-df-container\">\n",
              "      <div>\n",
              "<style scoped>\n",
              "    .dataframe tbody tr th:only-of-type {\n",
              "        vertical-align: middle;\n",
              "    }\n",
              "\n",
              "    .dataframe tbody tr th {\n",
              "        vertical-align: top;\n",
              "    }\n",
              "\n",
              "    .dataframe thead th {\n",
              "        text-align: right;\n",
              "    }\n",
              "</style>\n",
              "<table border=\"1\" class=\"dataframe\">\n",
              "  <thead>\n",
              "    <tr style=\"text-align: right;\">\n",
              "      <th></th>\n",
              "      <th>Facility.Name</th>\n",
              "      <th>Facility.City</th>\n",
              "      <th>Facility.State</th>\n",
              "      <th>Facility.Type</th>\n",
              "      <th>Rating.Overall</th>\n",
              "      <th>Rating.Mortality</th>\n",
              "      <th>Rating.Safety</th>\n",
              "      <th>Rating.Readmission</th>\n",
              "      <th>Rating.Experience</th>\n",
              "      <th>Rating.Effectiveness</th>\n",
              "      <th>...</th>\n",
              "      <th>Procedure.Heart Attack.Value</th>\n",
              "      <th>Procedure.Heart Failure.Cost</th>\n",
              "      <th>Procedure.Heart Failure.Quality</th>\n",
              "      <th>Procedure.Heart Failure.Value</th>\n",
              "      <th>Procedure.Pneumonia.Cost</th>\n",
              "      <th>Procedure.Pneumonia.Quality</th>\n",
              "      <th>Procedure.Pneumonia.Value</th>\n",
              "      <th>Procedure.Hip Knee.Cost</th>\n",
              "      <th>Procedure.Hip Knee.Quality</th>\n",
              "      <th>Procedure.Hip Knee.Value</th>\n",
              "    </tr>\n",
              "  </thead>\n",
              "  <tbody>\n",
              "    <tr>\n",
              "      <th>0</th>\n",
              "      <td>Marshall Medical Center South</td>\n",
              "      <td>Boaz</td>\n",
              "      <td>AL</td>\n",
              "      <td>Government</td>\n",
              "      <td>1.0</td>\n",
              "      <td>Below</td>\n",
              "      <td>Below</td>\n",
              "      <td>Below</td>\n",
              "      <td>Same</td>\n",
              "      <td>Above</td>\n",
              "      <td>...</td>\n",
              "      <td>Average</td>\n",
              "      <td>15819</td>\n",
              "      <td>Worse</td>\n",
              "      <td>Average</td>\n",
              "      <td>15614</td>\n",
              "      <td>Worse</td>\n",
              "      <td>Lower</td>\n",
              "      <td>22747</td>\n",
              "      <td>Average</td>\n",
              "      <td>Average</td>\n",
              "    </tr>\n",
              "    <tr>\n",
              "      <th>1</th>\n",
              "      <td>Mizell Memorial Hospital</td>\n",
              "      <td>Opp</td>\n",
              "      <td>AL</td>\n",
              "      <td>Private</td>\n",
              "      <td>1.0</td>\n",
              "      <td>Same</td>\n",
              "      <td>Same</td>\n",
              "      <td>Below</td>\n",
              "      <td>Below</td>\n",
              "      <td>Below</td>\n",
              "      <td>...</td>\n",
              "      <td>Unknown</td>\n",
              "      <td>14541</td>\n",
              "      <td>Average</td>\n",
              "      <td>Lower</td>\n",
              "      <td>15226</td>\n",
              "      <td>Worse</td>\n",
              "      <td>Lower</td>\n",
              "      <td>23472</td>\n",
              "      <td>Average</td>\n",
              "      <td>Average</td>\n",
              "    </tr>\n",
              "    <tr>\n",
              "      <th>2</th>\n",
              "      <td>Highlands Medical Center</td>\n",
              "      <td>Scottsboro</td>\n",
              "      <td>AL</td>\n",
              "      <td>Government</td>\n",
              "      <td>1.0</td>\n",
              "      <td>Same</td>\n",
              "      <td>Below</td>\n",
              "      <td>Below</td>\n",
              "      <td>Below</td>\n",
              "      <td>Same</td>\n",
              "      <td>...</td>\n",
              "      <td>Unknown</td>\n",
              "      <td>14855</td>\n",
              "      <td>Average</td>\n",
              "      <td>Lower</td>\n",
              "      <td>14509</td>\n",
              "      <td>Average</td>\n",
              "      <td>Lower</td>\n",
              "      <td>24701</td>\n",
              "      <td>Average</td>\n",
              "      <td>Higher</td>\n",
              "    </tr>\n",
              "    <tr>\n",
              "      <th>3</th>\n",
              "      <td>Mobile Infirmary Medical Center</td>\n",
              "      <td>Mobile</td>\n",
              "      <td>AL</td>\n",
              "      <td>Private</td>\n",
              "      <td>1.0</td>\n",
              "      <td>Same</td>\n",
              "      <td>Below</td>\n",
              "      <td>Below</td>\n",
              "      <td>Above</td>\n",
              "      <td>Same</td>\n",
              "      <td>...</td>\n",
              "      <td>Average</td>\n",
              "      <td>17664</td>\n",
              "      <td>Average</td>\n",
              "      <td>Higher</td>\n",
              "      <td>18321</td>\n",
              "      <td>Average</td>\n",
              "      <td>Higher</td>\n",
              "      <td>21994</td>\n",
              "      <td>Average</td>\n",
              "      <td>Average</td>\n",
              "    </tr>\n",
              "    <tr>\n",
              "      <th>4</th>\n",
              "      <td>Springhill Memorial Hospital</td>\n",
              "      <td>Mobile</td>\n",
              "      <td>AL</td>\n",
              "      <td>Proprietary</td>\n",
              "      <td>1.0</td>\n",
              "      <td>Same</td>\n",
              "      <td>Below</td>\n",
              "      <td>Below</td>\n",
              "      <td>Same</td>\n",
              "      <td>Same</td>\n",
              "      <td>...</td>\n",
              "      <td>Average</td>\n",
              "      <td>17150</td>\n",
              "      <td>Average</td>\n",
              "      <td>Average</td>\n",
              "      <td>17128</td>\n",
              "      <td>Average</td>\n",
              "      <td>Average</td>\n",
              "      <td>23520</td>\n",
              "      <td>Average</td>\n",
              "      <td>Higher</td>\n",
              "    </tr>\n",
              "  </tbody>\n",
              "</table>\n",
              "<p>5 rows × 24 columns</p>\n",
              "</div>\n",
              "      <button class=\"colab-df-convert\" onclick=\"convertToInteractive('df-c1cc0652-01c1-4950-80be-97f97e238f9f')\"\n",
              "              title=\"Convert this dataframe to an interactive table.\"\n",
              "              style=\"display:none;\">\n",
              "        \n",
              "  <svg xmlns=\"http://www.w3.org/2000/svg\" height=\"24px\"viewBox=\"0 0 24 24\"\n",
              "       width=\"24px\">\n",
              "    <path d=\"M0 0h24v24H0V0z\" fill=\"none\"/>\n",
              "    <path d=\"M18.56 5.44l.94 2.06.94-2.06 2.06-.94-2.06-.94-.94-2.06-.94 2.06-2.06.94zm-11 1L8.5 8.5l.94-2.06 2.06-.94-2.06-.94L8.5 2.5l-.94 2.06-2.06.94zm10 10l.94 2.06.94-2.06 2.06-.94-2.06-.94-.94-2.06-.94 2.06-2.06.94z\"/><path d=\"M17.41 7.96l-1.37-1.37c-.4-.4-.92-.59-1.43-.59-.52 0-1.04.2-1.43.59L10.3 9.45l-7.72 7.72c-.78.78-.78 2.05 0 2.83L4 21.41c.39.39.9.59 1.41.59.51 0 1.02-.2 1.41-.59l7.78-7.78 2.81-2.81c.8-.78.8-2.07 0-2.86zM5.41 20L4 18.59l7.72-7.72 1.47 1.35L5.41 20z\"/>\n",
              "  </svg>\n",
              "      </button>\n",
              "      \n",
              "  <style>\n",
              "    .colab-df-container {\n",
              "      display:flex;\n",
              "      flex-wrap:wrap;\n",
              "      gap: 12px;\n",
              "    }\n",
              "\n",
              "    .colab-df-convert {\n",
              "      background-color: #E8F0FE;\n",
              "      border: none;\n",
              "      border-radius: 50%;\n",
              "      cursor: pointer;\n",
              "      display: none;\n",
              "      fill: #1967D2;\n",
              "      height: 32px;\n",
              "      padding: 0 0 0 0;\n",
              "      width: 32px;\n",
              "    }\n",
              "\n",
              "    .colab-df-convert:hover {\n",
              "      background-color: #E2EBFA;\n",
              "      box-shadow: 0px 1px 2px rgba(60, 64, 67, 0.3), 0px 1px 3px 1px rgba(60, 64, 67, 0.15);\n",
              "      fill: #174EA6;\n",
              "    }\n",
              "\n",
              "    [theme=dark] .colab-df-convert {\n",
              "      background-color: #3B4455;\n",
              "      fill: #D2E3FC;\n",
              "    }\n",
              "\n",
              "    [theme=dark] .colab-df-convert:hover {\n",
              "      background-color: #434B5C;\n",
              "      box-shadow: 0px 1px 3px 1px rgba(0, 0, 0, 0.15);\n",
              "      filter: drop-shadow(0px 1px 2px rgba(0, 0, 0, 0.3));\n",
              "      fill: #FFFFFF;\n",
              "    }\n",
              "  </style>\n",
              "\n",
              "      <script>\n",
              "        const buttonEl =\n",
              "          document.querySelector('#df-c1cc0652-01c1-4950-80be-97f97e238f9f button.colab-df-convert');\n",
              "        buttonEl.style.display =\n",
              "          google.colab.kernel.accessAllowed ? 'block' : 'none';\n",
              "\n",
              "        async function convertToInteractive(key) {\n",
              "          const element = document.querySelector('#df-c1cc0652-01c1-4950-80be-97f97e238f9f');\n",
              "          const dataTable =\n",
              "            await google.colab.kernel.invokeFunction('convertToInteractive',\n",
              "                                                     [key], {});\n",
              "          if (!dataTable) return;\n",
              "\n",
              "          const docLinkHtml = 'Like what you see? Visit the ' +\n",
              "            '<a target=\"_blank\" href=https://colab.research.google.com/notebooks/data_table.ipynb>data table notebook</a>'\n",
              "            + ' to learn more about interactive tables.';\n",
              "          element.innerHTML = '';\n",
              "          dataTable['output_type'] = 'display_data';\n",
              "          await google.colab.output.renderOutput(dataTable, element);\n",
              "          const docLink = document.createElement('div');\n",
              "          docLink.innerHTML = docLinkHtml;\n",
              "          element.appendChild(docLink);\n",
              "        }\n",
              "      </script>\n",
              "    </div>\n",
              "  </div>\n",
              "  "
            ]
          },
          "metadata": {},
          "execution_count": 151
        }
      ]
    },
    {
      "cell_type": "code",
      "source": [
        "#check for duplicates\n",
        "df.duplicated().sum()\n",
        "#drop duplicates from data\n",
        "df.drop_duplicates(inplace=True)"
      ],
      "metadata": {
        "id": "xu3O98CU2-xb"
      },
      "execution_count": 152,
      "outputs": []
    },
    {
      "cell_type": "code",
      "source": [
        "#no missing values\n",
        "df.info()\n",
        "#rating, quality, and value columns are ordinal"
      ],
      "metadata": {
        "colab": {
          "base_uri": "https://localhost:8080/"
        },
        "id": "L8AOiFN_3WTF",
        "outputId": "2f7da37e-4ba5-417e-d401-f33885601417"
      },
      "execution_count": 153,
      "outputs": [
        {
          "output_type": "stream",
          "name": "stdout",
          "text": [
            "<class 'pandas.core.frame.DataFrame'>\n",
            "Int64Index: 3715 entries, 0 to 3714\n",
            "Data columns (total 24 columns):\n",
            " #   Column                           Non-Null Count  Dtype  \n",
            "---  ------                           --------------  -----  \n",
            " 0   Facility.Name                    3715 non-null   object \n",
            " 1   Facility.City                    3715 non-null   object \n",
            " 2   Facility.State                   3715 non-null   object \n",
            " 3   Facility.Type                    3715 non-null   object \n",
            " 4   Rating.Overall                   3715 non-null   float64\n",
            " 5   Rating.Mortality                 3715 non-null   object \n",
            " 6   Rating.Safety                    3715 non-null   object \n",
            " 7   Rating.Readmission               3715 non-null   object \n",
            " 8   Rating.Experience                3715 non-null   object \n",
            " 9   Rating.Effectiveness             3715 non-null   object \n",
            " 10  Rating.Timeliness                3715 non-null   object \n",
            " 11  Rating.Imaging                   3715 non-null   object \n",
            " 12  Procedure.Heart Attack.Cost      3715 non-null   int64  \n",
            " 13  Procedure.Heart Attack.Quality   3715 non-null   object \n",
            " 14  Procedure.Heart Attack.Value     3715 non-null   object \n",
            " 15  Procedure.Heart Failure.Cost     3715 non-null   int64  \n",
            " 16  Procedure.Heart Failure.Quality  3715 non-null   object \n",
            " 17  Procedure.Heart Failure.Value    3715 non-null   object \n",
            " 18  Procedure.Pneumonia.Cost         3715 non-null   int64  \n",
            " 19  Procedure.Pneumonia.Quality      3715 non-null   object \n",
            " 20  Procedure.Pneumonia.Value        3715 non-null   object \n",
            " 21  Procedure.Hip Knee.Cost          3715 non-null   int64  \n",
            " 22  Procedure.Hip Knee.Quality       3715 non-null   object \n",
            " 23  Procedure.Hip Knee.Value         3715 non-null   object \n",
            "dtypes: float64(1), int64(4), object(19)\n",
            "memory usage: 725.6+ KB\n"
          ]
        }
      ]
    },
    {
      "cell_type": "code",
      "source": [
        "#rename columns with spaces\n",
        "df.rename(columns={'Procedure.Heart Attack.Cost':'Procedure.Heart.Attack.Cost'}, inplace=True)\n",
        "df.rename(columns={'Procedure.Heart Attack.Quality':'Procedure.Heart.Attack.Quality'}, inplace=True)\n",
        "df.rename(columns={'Procedure.Heart Attack.Value':'Procedure.Heart.Attack.Value'}, inplace=True)\n",
        "df.rename(columns={'Procedure.Heart Failure.Cost':'Procedure.Heart.Failure.Cost'}, inplace=True)\n",
        "df.rename(columns={'Procedure.Heart Failure.Quality':'Procedure.Heart.Failure.Quality'}, inplace=True)\n",
        "df.rename(columns={'Procedure.Heart Failure.Value':'Procedure.Heart.Failure.Value'}, inplace=True)\n",
        "df.rename(columns={'Procedure.Hip Knee.Cost':'Procedure.Hip.Knee.Cost'}, inplace=True)\n",
        "df.rename(columns={'Procedure.Hip Knee.Quality':'Procedure.Hip.Knee.Quality'}, inplace=True)\n",
        "df.rename(columns={'Procedure.Hip Knee.Value':'Procedure.Hip.Knee.Value'}, inplace=True)"
      ],
      "metadata": {
        "id": "FKdTngzX3chf"
      },
      "execution_count": 154,
      "outputs": []
    },
    {
      "cell_type": "code",
      "source": [
        "df.nunique()\n",
        "#all ordinal columns for quality and vaue have the four subtypes Above, Same, Below, or None/Unknown."
      ],
      "metadata": {
        "colab": {
          "base_uri": "https://localhost:8080/"
        },
        "id": "mA_zd4tU3h4W",
        "outputId": "0df56fde-7336-408b-ecf2-bf8b25159d4f"
      },
      "execution_count": 155,
      "outputs": [
        {
          "output_type": "execute_result",
          "data": {
            "text/plain": [
              "Facility.Name                      3570\n",
              "Facility.City                      2363\n",
              "Facility.State                       53\n",
              "Facility.Type                         5\n",
              "Rating.Overall                        5\n",
              "Rating.Mortality                      4\n",
              "Rating.Safety                         4\n",
              "Rating.Readmission                    4\n",
              "Rating.Experience                     4\n",
              "Rating.Effectiveness                  4\n",
              "Rating.Timeliness                     4\n",
              "Rating.Imaging                        4\n",
              "Procedure.Heart.Attack.Cost        1835\n",
              "Procedure.Heart.Attack.Quality        4\n",
              "Procedure.Heart.Attack.Value          4\n",
              "Procedure.Heart.Failure.Cost       2413\n",
              "Procedure.Heart.Failure.Quality       4\n",
              "Procedure.Heart.Failure.Value         4\n",
              "Procedure.Pneumonia.Cost           2728\n",
              "Procedure.Pneumonia.Quality           4\n",
              "Procedure.Pneumonia.Value             4\n",
              "Procedure.Hip.Knee.Cost            2267\n",
              "Procedure.Hip.Knee.Quality            4\n",
              "Procedure.Hip.Knee.Value              4\n",
              "dtype: int64"
            ]
          },
          "metadata": {},
          "execution_count": 155
        }
      ]
    },
    {
      "cell_type": "code",
      "source": [
        "#drop columns\n",
        "df.drop(['Facility.Name', 'Rating.Mortality', 'Rating.Safety', 'Rating.Readmission', 'Rating.Experience', 'Rating.Effectiveness', 'Rating.Timeliness', 'Rating.Imaging'], axis=1, inplace=True)\n",
        "df.head()"
      ],
      "metadata": {
        "colab": {
          "base_uri": "https://localhost:8080/",
          "height": 270
        },
        "id": "tdMUkxDF3kFQ",
        "outputId": "a07d4e3d-c196-428c-a2f7-4e205bd97d59"
      },
      "execution_count": 156,
      "outputs": [
        {
          "output_type": "execute_result",
          "data": {
            "text/plain": [
              "  Facility.City Facility.State Facility.Type  Rating.Overall  \\\n",
              "0          Boaz             AL    Government             1.0   \n",
              "1           Opp             AL       Private             1.0   \n",
              "2    Scottsboro             AL    Government             1.0   \n",
              "3        Mobile             AL       Private             1.0   \n",
              "4        Mobile             AL   Proprietary             1.0   \n",
              "\n",
              "   Procedure.Heart.Attack.Cost Procedure.Heart.Attack.Quality  \\\n",
              "0                        22579                        Average   \n",
              "1                            0                        Unknown   \n",
              "2                            0                        Unknown   \n",
              "3                        22788                        Average   \n",
              "4                        22208                        Average   \n",
              "\n",
              "  Procedure.Heart.Attack.Value  Procedure.Heart.Failure.Cost  \\\n",
              "0                      Average                         15819   \n",
              "1                      Unknown                         14541   \n",
              "2                      Unknown                         14855   \n",
              "3                      Average                         17664   \n",
              "4                      Average                         17150   \n",
              "\n",
              "  Procedure.Heart.Failure.Quality Procedure.Heart.Failure.Value  \\\n",
              "0                           Worse                       Average   \n",
              "1                         Average                         Lower   \n",
              "2                         Average                         Lower   \n",
              "3                         Average                        Higher   \n",
              "4                         Average                       Average   \n",
              "\n",
              "   Procedure.Pneumonia.Cost Procedure.Pneumonia.Quality  \\\n",
              "0                     15614                       Worse   \n",
              "1                     15226                       Worse   \n",
              "2                     14509                     Average   \n",
              "3                     18321                     Average   \n",
              "4                     17128                     Average   \n",
              "\n",
              "  Procedure.Pneumonia.Value  Procedure.Hip.Knee.Cost  \\\n",
              "0                     Lower                    22747   \n",
              "1                     Lower                    23472   \n",
              "2                     Lower                    24701   \n",
              "3                    Higher                    21994   \n",
              "4                   Average                    23520   \n",
              "\n",
              "  Procedure.Hip.Knee.Quality Procedure.Hip.Knee.Value  \n",
              "0                    Average                  Average  \n",
              "1                    Average                  Average  \n",
              "2                    Average                   Higher  \n",
              "3                    Average                  Average  \n",
              "4                    Average                   Higher  "
            ],
            "text/html": [
              "\n",
              "  <div id=\"df-a5a8daf2-2890-4dbe-b6f5-5d91240a8b85\">\n",
              "    <div class=\"colab-df-container\">\n",
              "      <div>\n",
              "<style scoped>\n",
              "    .dataframe tbody tr th:only-of-type {\n",
              "        vertical-align: middle;\n",
              "    }\n",
              "\n",
              "    .dataframe tbody tr th {\n",
              "        vertical-align: top;\n",
              "    }\n",
              "\n",
              "    .dataframe thead th {\n",
              "        text-align: right;\n",
              "    }\n",
              "</style>\n",
              "<table border=\"1\" class=\"dataframe\">\n",
              "  <thead>\n",
              "    <tr style=\"text-align: right;\">\n",
              "      <th></th>\n",
              "      <th>Facility.City</th>\n",
              "      <th>Facility.State</th>\n",
              "      <th>Facility.Type</th>\n",
              "      <th>Rating.Overall</th>\n",
              "      <th>Procedure.Heart.Attack.Cost</th>\n",
              "      <th>Procedure.Heart.Attack.Quality</th>\n",
              "      <th>Procedure.Heart.Attack.Value</th>\n",
              "      <th>Procedure.Heart.Failure.Cost</th>\n",
              "      <th>Procedure.Heart.Failure.Quality</th>\n",
              "      <th>Procedure.Heart.Failure.Value</th>\n",
              "      <th>Procedure.Pneumonia.Cost</th>\n",
              "      <th>Procedure.Pneumonia.Quality</th>\n",
              "      <th>Procedure.Pneumonia.Value</th>\n",
              "      <th>Procedure.Hip.Knee.Cost</th>\n",
              "      <th>Procedure.Hip.Knee.Quality</th>\n",
              "      <th>Procedure.Hip.Knee.Value</th>\n",
              "    </tr>\n",
              "  </thead>\n",
              "  <tbody>\n",
              "    <tr>\n",
              "      <th>0</th>\n",
              "      <td>Boaz</td>\n",
              "      <td>AL</td>\n",
              "      <td>Government</td>\n",
              "      <td>1.0</td>\n",
              "      <td>22579</td>\n",
              "      <td>Average</td>\n",
              "      <td>Average</td>\n",
              "      <td>15819</td>\n",
              "      <td>Worse</td>\n",
              "      <td>Average</td>\n",
              "      <td>15614</td>\n",
              "      <td>Worse</td>\n",
              "      <td>Lower</td>\n",
              "      <td>22747</td>\n",
              "      <td>Average</td>\n",
              "      <td>Average</td>\n",
              "    </tr>\n",
              "    <tr>\n",
              "      <th>1</th>\n",
              "      <td>Opp</td>\n",
              "      <td>AL</td>\n",
              "      <td>Private</td>\n",
              "      <td>1.0</td>\n",
              "      <td>0</td>\n",
              "      <td>Unknown</td>\n",
              "      <td>Unknown</td>\n",
              "      <td>14541</td>\n",
              "      <td>Average</td>\n",
              "      <td>Lower</td>\n",
              "      <td>15226</td>\n",
              "      <td>Worse</td>\n",
              "      <td>Lower</td>\n",
              "      <td>23472</td>\n",
              "      <td>Average</td>\n",
              "      <td>Average</td>\n",
              "    </tr>\n",
              "    <tr>\n",
              "      <th>2</th>\n",
              "      <td>Scottsboro</td>\n",
              "      <td>AL</td>\n",
              "      <td>Government</td>\n",
              "      <td>1.0</td>\n",
              "      <td>0</td>\n",
              "      <td>Unknown</td>\n",
              "      <td>Unknown</td>\n",
              "      <td>14855</td>\n",
              "      <td>Average</td>\n",
              "      <td>Lower</td>\n",
              "      <td>14509</td>\n",
              "      <td>Average</td>\n",
              "      <td>Lower</td>\n",
              "      <td>24701</td>\n",
              "      <td>Average</td>\n",
              "      <td>Higher</td>\n",
              "    </tr>\n",
              "    <tr>\n",
              "      <th>3</th>\n",
              "      <td>Mobile</td>\n",
              "      <td>AL</td>\n",
              "      <td>Private</td>\n",
              "      <td>1.0</td>\n",
              "      <td>22788</td>\n",
              "      <td>Average</td>\n",
              "      <td>Average</td>\n",
              "      <td>17664</td>\n",
              "      <td>Average</td>\n",
              "      <td>Higher</td>\n",
              "      <td>18321</td>\n",
              "      <td>Average</td>\n",
              "      <td>Higher</td>\n",
              "      <td>21994</td>\n",
              "      <td>Average</td>\n",
              "      <td>Average</td>\n",
              "    </tr>\n",
              "    <tr>\n",
              "      <th>4</th>\n",
              "      <td>Mobile</td>\n",
              "      <td>AL</td>\n",
              "      <td>Proprietary</td>\n",
              "      <td>1.0</td>\n",
              "      <td>22208</td>\n",
              "      <td>Average</td>\n",
              "      <td>Average</td>\n",
              "      <td>17150</td>\n",
              "      <td>Average</td>\n",
              "      <td>Average</td>\n",
              "      <td>17128</td>\n",
              "      <td>Average</td>\n",
              "      <td>Average</td>\n",
              "      <td>23520</td>\n",
              "      <td>Average</td>\n",
              "      <td>Higher</td>\n",
              "    </tr>\n",
              "  </tbody>\n",
              "</table>\n",
              "</div>\n",
              "      <button class=\"colab-df-convert\" onclick=\"convertToInteractive('df-a5a8daf2-2890-4dbe-b6f5-5d91240a8b85')\"\n",
              "              title=\"Convert this dataframe to an interactive table.\"\n",
              "              style=\"display:none;\">\n",
              "        \n",
              "  <svg xmlns=\"http://www.w3.org/2000/svg\" height=\"24px\"viewBox=\"0 0 24 24\"\n",
              "       width=\"24px\">\n",
              "    <path d=\"M0 0h24v24H0V0z\" fill=\"none\"/>\n",
              "    <path d=\"M18.56 5.44l.94 2.06.94-2.06 2.06-.94-2.06-.94-.94-2.06-.94 2.06-2.06.94zm-11 1L8.5 8.5l.94-2.06 2.06-.94-2.06-.94L8.5 2.5l-.94 2.06-2.06.94zm10 10l.94 2.06.94-2.06 2.06-.94-2.06-.94-.94-2.06-.94 2.06-2.06.94z\"/><path d=\"M17.41 7.96l-1.37-1.37c-.4-.4-.92-.59-1.43-.59-.52 0-1.04.2-1.43.59L10.3 9.45l-7.72 7.72c-.78.78-.78 2.05 0 2.83L4 21.41c.39.39.9.59 1.41.59.51 0 1.02-.2 1.41-.59l7.78-7.78 2.81-2.81c.8-.78.8-2.07 0-2.86zM5.41 20L4 18.59l7.72-7.72 1.47 1.35L5.41 20z\"/>\n",
              "  </svg>\n",
              "      </button>\n",
              "      \n",
              "  <style>\n",
              "    .colab-df-container {\n",
              "      display:flex;\n",
              "      flex-wrap:wrap;\n",
              "      gap: 12px;\n",
              "    }\n",
              "\n",
              "    .colab-df-convert {\n",
              "      background-color: #E8F0FE;\n",
              "      border: none;\n",
              "      border-radius: 50%;\n",
              "      cursor: pointer;\n",
              "      display: none;\n",
              "      fill: #1967D2;\n",
              "      height: 32px;\n",
              "      padding: 0 0 0 0;\n",
              "      width: 32px;\n",
              "    }\n",
              "\n",
              "    .colab-df-convert:hover {\n",
              "      background-color: #E2EBFA;\n",
              "      box-shadow: 0px 1px 2px rgba(60, 64, 67, 0.3), 0px 1px 3px 1px rgba(60, 64, 67, 0.15);\n",
              "      fill: #174EA6;\n",
              "    }\n",
              "\n",
              "    [theme=dark] .colab-df-convert {\n",
              "      background-color: #3B4455;\n",
              "      fill: #D2E3FC;\n",
              "    }\n",
              "\n",
              "    [theme=dark] .colab-df-convert:hover {\n",
              "      background-color: #434B5C;\n",
              "      box-shadow: 0px 1px 3px 1px rgba(0, 0, 0, 0.15);\n",
              "      filter: drop-shadow(0px 1px 2px rgba(0, 0, 0, 0.3));\n",
              "      fill: #FFFFFF;\n",
              "    }\n",
              "  </style>\n",
              "\n",
              "      <script>\n",
              "        const buttonEl =\n",
              "          document.querySelector('#df-a5a8daf2-2890-4dbe-b6f5-5d91240a8b85 button.colab-df-convert');\n",
              "        buttonEl.style.display =\n",
              "          google.colab.kernel.accessAllowed ? 'block' : 'none';\n",
              "\n",
              "        async function convertToInteractive(key) {\n",
              "          const element = document.querySelector('#df-a5a8daf2-2890-4dbe-b6f5-5d91240a8b85');\n",
              "          const dataTable =\n",
              "            await google.colab.kernel.invokeFunction('convertToInteractive',\n",
              "                                                     [key], {});\n",
              "          if (!dataTable) return;\n",
              "\n",
              "          const docLinkHtml = 'Like what you see? Visit the ' +\n",
              "            '<a target=\"_blank\" href=https://colab.research.google.com/notebooks/data_table.ipynb>data table notebook</a>'\n",
              "            + ' to learn more about interactive tables.';\n",
              "          element.innerHTML = '';\n",
              "          dataTable['output_type'] = 'display_data';\n",
              "          await google.colab.output.renderOutput(dataTable, element);\n",
              "          const docLink = document.createElement('div');\n",
              "          docLink.innerHTML = docLinkHtml;\n",
              "          element.appendChild(docLink);\n",
              "        }\n",
              "      </script>\n",
              "    </div>\n",
              "  </div>\n",
              "  "
            ]
          },
          "metadata": {},
          "execution_count": 156
        }
      ]
    },
    {
      "cell_type": "code",
      "source": [
        "df['Facility.State'].value_counts()\n",
        "#double check VI"
      ],
      "metadata": {
        "colab": {
          "base_uri": "https://localhost:8080/"
        },
        "id": "znwxZxqD3qr9",
        "outputId": "1b95e876-febb-4ab4-a2eb-142c5728f3a7"
      },
      "execution_count": 157,
      "outputs": [
        {
          "output_type": "execute_result",
          "data": {
            "text/plain": [
              "CA    296\n",
              "TX    266\n",
              "FL    169\n",
              "IL    163\n",
              "NY    150\n",
              "PA    150\n",
              "OH    146\n",
              "MI    116\n",
              "IN    110\n",
              "GA    108\n",
              "WI    108\n",
              "NC     94\n",
              "TN     91\n",
              "MO     89\n",
              "OK     85\n",
              "IA     84\n",
              "KY     82\n",
              "LA     81\n",
              "AL     79\n",
              "VA     77\n",
              "MN     76\n",
              "KS     70\n",
              "WA     68\n",
              "MS     65\n",
              "NJ     64\n",
              "AR     62\n",
              "CO     57\n",
              "NE     57\n",
              "MA     56\n",
              "SC     55\n",
              "AZ     55\n",
              "OR     52\n",
              "MD     45\n",
              "WV     39\n",
              "UT     34\n",
              "ME     32\n",
              "NM     30\n",
              "CT     28\n",
              "NV     27\n",
              "NH     26\n",
              "ID     25\n",
              "MT     25\n",
              "ND     20\n",
              "SD     19\n",
              "WY     18\n",
              "HI     13\n",
              "VT     12\n",
              "AK     10\n",
              "RI     10\n",
              "DC      7\n",
              "DE      6\n",
              "PR      6\n",
              "VI      2\n",
              "Name: Facility.State, dtype: int64"
            ]
          },
          "metadata": {},
          "execution_count": 157
        }
      ]
    },
    {
      "cell_type": "code",
      "source": [
        "#locate VI\n",
        "df.loc[df['Facility.State'] == 'VI']\n",
        "#looks like US territories are included in the state list, VI is Virgin Islands"
      ],
      "metadata": {
        "colab": {
          "base_uri": "https://localhost:8080/",
          "height": 176
        },
        "id": "MPw6NXix3uFT",
        "outputId": "5cea0d12-2574-4d56-c31b-b15430a70b33"
      },
      "execution_count": 158,
      "outputs": [
        {
          "output_type": "execute_result",
          "data": {
            "text/plain": [
              "     Facility.City Facility.State Facility.Type  Rating.Overall  \\\n",
              "1024      St Croix             VI    Government             2.0   \n",
              "2226     St Thomas             VI    Government             3.0   \n",
              "\n",
              "      Procedure.Heart.Attack.Cost Procedure.Heart.Attack.Quality  \\\n",
              "1024                        20088                        Average   \n",
              "2226                        19583                        Average   \n",
              "\n",
              "     Procedure.Heart.Attack.Value  Procedure.Heart.Failure.Cost  \\\n",
              "1024                        Lower                         13420   \n",
              "2226                        Lower                         11716   \n",
              "\n",
              "     Procedure.Heart.Failure.Quality Procedure.Heart.Failure.Value  \\\n",
              "1024                         Average                         Lower   \n",
              "2226                         Average                         Lower   \n",
              "\n",
              "      Procedure.Pneumonia.Cost Procedure.Pneumonia.Quality  \\\n",
              "1024                     13038                     Average   \n",
              "2226                     13192                     Average   \n",
              "\n",
              "     Procedure.Pneumonia.Value  Procedure.Hip.Knee.Cost  \\\n",
              "1024                     Lower                    17725   \n",
              "2226                     Lower                    19770   \n",
              "\n",
              "     Procedure.Hip.Knee.Quality Procedure.Hip.Knee.Value  \n",
              "1024                    Average                    Lower  \n",
              "2226                    Average                    Lower  "
            ],
            "text/html": [
              "\n",
              "  <div id=\"df-c5deaf0e-7559-4793-aea5-23c3285ded5e\">\n",
              "    <div class=\"colab-df-container\">\n",
              "      <div>\n",
              "<style scoped>\n",
              "    .dataframe tbody tr th:only-of-type {\n",
              "        vertical-align: middle;\n",
              "    }\n",
              "\n",
              "    .dataframe tbody tr th {\n",
              "        vertical-align: top;\n",
              "    }\n",
              "\n",
              "    .dataframe thead th {\n",
              "        text-align: right;\n",
              "    }\n",
              "</style>\n",
              "<table border=\"1\" class=\"dataframe\">\n",
              "  <thead>\n",
              "    <tr style=\"text-align: right;\">\n",
              "      <th></th>\n",
              "      <th>Facility.City</th>\n",
              "      <th>Facility.State</th>\n",
              "      <th>Facility.Type</th>\n",
              "      <th>Rating.Overall</th>\n",
              "      <th>Procedure.Heart.Attack.Cost</th>\n",
              "      <th>Procedure.Heart.Attack.Quality</th>\n",
              "      <th>Procedure.Heart.Attack.Value</th>\n",
              "      <th>Procedure.Heart.Failure.Cost</th>\n",
              "      <th>Procedure.Heart.Failure.Quality</th>\n",
              "      <th>Procedure.Heart.Failure.Value</th>\n",
              "      <th>Procedure.Pneumonia.Cost</th>\n",
              "      <th>Procedure.Pneumonia.Quality</th>\n",
              "      <th>Procedure.Pneumonia.Value</th>\n",
              "      <th>Procedure.Hip.Knee.Cost</th>\n",
              "      <th>Procedure.Hip.Knee.Quality</th>\n",
              "      <th>Procedure.Hip.Knee.Value</th>\n",
              "    </tr>\n",
              "  </thead>\n",
              "  <tbody>\n",
              "    <tr>\n",
              "      <th>1024</th>\n",
              "      <td>St Croix</td>\n",
              "      <td>VI</td>\n",
              "      <td>Government</td>\n",
              "      <td>2.0</td>\n",
              "      <td>20088</td>\n",
              "      <td>Average</td>\n",
              "      <td>Lower</td>\n",
              "      <td>13420</td>\n",
              "      <td>Average</td>\n",
              "      <td>Lower</td>\n",
              "      <td>13038</td>\n",
              "      <td>Average</td>\n",
              "      <td>Lower</td>\n",
              "      <td>17725</td>\n",
              "      <td>Average</td>\n",
              "      <td>Lower</td>\n",
              "    </tr>\n",
              "    <tr>\n",
              "      <th>2226</th>\n",
              "      <td>St Thomas</td>\n",
              "      <td>VI</td>\n",
              "      <td>Government</td>\n",
              "      <td>3.0</td>\n",
              "      <td>19583</td>\n",
              "      <td>Average</td>\n",
              "      <td>Lower</td>\n",
              "      <td>11716</td>\n",
              "      <td>Average</td>\n",
              "      <td>Lower</td>\n",
              "      <td>13192</td>\n",
              "      <td>Average</td>\n",
              "      <td>Lower</td>\n",
              "      <td>19770</td>\n",
              "      <td>Average</td>\n",
              "      <td>Lower</td>\n",
              "    </tr>\n",
              "  </tbody>\n",
              "</table>\n",
              "</div>\n",
              "      <button class=\"colab-df-convert\" onclick=\"convertToInteractive('df-c5deaf0e-7559-4793-aea5-23c3285ded5e')\"\n",
              "              title=\"Convert this dataframe to an interactive table.\"\n",
              "              style=\"display:none;\">\n",
              "        \n",
              "  <svg xmlns=\"http://www.w3.org/2000/svg\" height=\"24px\"viewBox=\"0 0 24 24\"\n",
              "       width=\"24px\">\n",
              "    <path d=\"M0 0h24v24H0V0z\" fill=\"none\"/>\n",
              "    <path d=\"M18.56 5.44l.94 2.06.94-2.06 2.06-.94-2.06-.94-.94-2.06-.94 2.06-2.06.94zm-11 1L8.5 8.5l.94-2.06 2.06-.94-2.06-.94L8.5 2.5l-.94 2.06-2.06.94zm10 10l.94 2.06.94-2.06 2.06-.94-2.06-.94-.94-2.06-.94 2.06-2.06.94z\"/><path d=\"M17.41 7.96l-1.37-1.37c-.4-.4-.92-.59-1.43-.59-.52 0-1.04.2-1.43.59L10.3 9.45l-7.72 7.72c-.78.78-.78 2.05 0 2.83L4 21.41c.39.39.9.59 1.41.59.51 0 1.02-.2 1.41-.59l7.78-7.78 2.81-2.81c.8-.78.8-2.07 0-2.86zM5.41 20L4 18.59l7.72-7.72 1.47 1.35L5.41 20z\"/>\n",
              "  </svg>\n",
              "      </button>\n",
              "      \n",
              "  <style>\n",
              "    .colab-df-container {\n",
              "      display:flex;\n",
              "      flex-wrap:wrap;\n",
              "      gap: 12px;\n",
              "    }\n",
              "\n",
              "    .colab-df-convert {\n",
              "      background-color: #E8F0FE;\n",
              "      border: none;\n",
              "      border-radius: 50%;\n",
              "      cursor: pointer;\n",
              "      display: none;\n",
              "      fill: #1967D2;\n",
              "      height: 32px;\n",
              "      padding: 0 0 0 0;\n",
              "      width: 32px;\n",
              "    }\n",
              "\n",
              "    .colab-df-convert:hover {\n",
              "      background-color: #E2EBFA;\n",
              "      box-shadow: 0px 1px 2px rgba(60, 64, 67, 0.3), 0px 1px 3px 1px rgba(60, 64, 67, 0.15);\n",
              "      fill: #174EA6;\n",
              "    }\n",
              "\n",
              "    [theme=dark] .colab-df-convert {\n",
              "      background-color: #3B4455;\n",
              "      fill: #D2E3FC;\n",
              "    }\n",
              "\n",
              "    [theme=dark] .colab-df-convert:hover {\n",
              "      background-color: #434B5C;\n",
              "      box-shadow: 0px 1px 3px 1px rgba(0, 0, 0, 0.15);\n",
              "      filter: drop-shadow(0px 1px 2px rgba(0, 0, 0, 0.3));\n",
              "      fill: #FFFFFF;\n",
              "    }\n",
              "  </style>\n",
              "\n",
              "      <script>\n",
              "        const buttonEl =\n",
              "          document.querySelector('#df-c5deaf0e-7559-4793-aea5-23c3285ded5e button.colab-df-convert');\n",
              "        buttonEl.style.display =\n",
              "          google.colab.kernel.accessAllowed ? 'block' : 'none';\n",
              "\n",
              "        async function convertToInteractive(key) {\n",
              "          const element = document.querySelector('#df-c5deaf0e-7559-4793-aea5-23c3285ded5e');\n",
              "          const dataTable =\n",
              "            await google.colab.kernel.invokeFunction('convertToInteractive',\n",
              "                                                     [key], {});\n",
              "          if (!dataTable) return;\n",
              "\n",
              "          const docLinkHtml = 'Like what you see? Visit the ' +\n",
              "            '<a target=\"_blank\" href=https://colab.research.google.com/notebooks/data_table.ipynb>data table notebook</a>'\n",
              "            + ' to learn more about interactive tables.';\n",
              "          element.innerHTML = '';\n",
              "          dataTable['output_type'] = 'display_data';\n",
              "          await google.colab.output.renderOutput(dataTable, element);\n",
              "          const docLink = document.createElement('div');\n",
              "          docLink.innerHTML = docLinkHtml;\n",
              "          element.appendChild(docLink);\n",
              "        }\n",
              "      </script>\n",
              "    </div>\n",
              "  </div>\n",
              "  "
            ]
          },
          "metadata": {},
          "execution_count": 158
        }
      ]
    },
    {
      "cell_type": "code",
      "source": [
        "#Better, Average, Worse, or Unknown\n",
        "df['Procedure.Heart.Attack.Value'].replace({'Unknown': 0, 'None': 0, 'Worse': 1, 'Lower': 1, 'Average': 2, 'Higher': 3, 'Better': 3}, inplace=True)\n",
        "df['Procedure.Heart.Attack.Quality'].replace({'Unknown': 0, 'None': 0, 'Worse': 1, 'Average': 2, 'Higher': 3, 'Better': 3}, inplace=True)\n",
        "df['Procedure.Heart.Failure.Quality'].replace({'Unknown': 0, 'None': 0, 'Worse': 1, 'Average': 2, 'Higher': 3, 'Better': 3}, inplace=True)\n",
        "df['Procedure.Heart.Failure.Value'].replace({'Unknown': 0, 'None': 0, 'Worse': 1, 'Average': 2, 'Lower': 1, 'Higher': 3, 'Better': 3}, inplace=True)\n",
        "df['Procedure.Pneumonia.Quality'].replace({'Unknown': 0, 'None': 0, 'Worse': 1, 'Average': 2, 'Higher': 3, 'Better': 3}, inplace=True)\n",
        "df['Procedure.Pneumonia.Value'].replace({'Unknown': 0, 'None': 0, 'Worse': 1, 'Lower': 1, 'Average': 2, 'Higher': 3, 'Better': 3}, inplace=True)\n",
        "df['Procedure.Hip.Knee.Quality'].replace({'Unknown': 0, 'None': 0, 'Worse': 1, 'Average': 2, 'Higher': 3, 'Better': 3}, inplace=True)\n",
        "df['Procedure.Hip.Knee.Value'].replace({'Unknown': 0, 'None': 0, 'Worse': 1, 'Lower': 1, 'Average': 2, 'Higher': 3, 'Better': 3}, inplace=True)"
      ],
      "metadata": {
        "id": "oXv1qjJc5mJG"
      },
      "execution_count": 159,
      "outputs": []
    },
    {
      "cell_type": "code",
      "source": [
        "#Kind of organization operating the hospital: one of Government, Private, Proprietary, Church, or Unknown\n",
        "df['Facility.Type'].value_counts()"
      ],
      "metadata": {
        "colab": {
          "base_uri": "https://localhost:8080/"
        },
        "id": "TwwUXlWf34tW",
        "outputId": "b12ec973-3758-4b2a-e449-4e77165aced0"
      },
      "execution_count": 160,
      "outputs": [
        {
          "output_type": "execute_result",
          "data": {
            "text/plain": [
              "Private        1713\n",
              "Government      672\n",
              "Proprietary     627\n",
              "Unknown         404\n",
              "Church          299\n",
              "Name: Facility.Type, dtype: int64"
            ]
          },
          "metadata": {},
          "execution_count": 160
        }
      ]
    },
    {
      "cell_type": "code",
      "source": [
        "#Overall rating between 1 and 5 stars, with 5 stars being the highest rating; -1 represents no rating.\n",
        "df['Rating.Overall'].value_counts()"
      ],
      "metadata": {
        "colab": {
          "base_uri": "https://localhost:8080/"
        },
        "id": "3FAVBSPz4DLq",
        "outputId": "bcbac09e-cef3-4bd2-9d02-c7524fda2e12"
      },
      "execution_count": 161,
      "outputs": [
        {
          "output_type": "execute_result",
          "data": {
            "text/plain": [
              "3.0    1258\n",
              "4.0    1087\n",
              "2.0     797\n",
              "5.0     292\n",
              "1.0     281\n",
              "Name: Rating.Overall, dtype: int64"
            ]
          },
          "metadata": {},
          "execution_count": 161
        }
      ]
    },
    {
      "cell_type": "code",
      "source": [
        "#reviewing to confirm change\n",
        "df['Procedure.Heart.Attack.Quality'].value_counts()"
      ],
      "metadata": {
        "colab": {
          "base_uri": "https://localhost:8080/"
        },
        "id": "1Ab4nKgv4LWB",
        "outputId": "9c295859-a3df-4272-fa27-736cf4e1a02e"
      },
      "execution_count": 162,
      "outputs": [
        {
          "output_type": "execute_result",
          "data": {
            "text/plain": [
              "2    2185\n",
              "0    1461\n",
              "3      45\n",
              "1      24\n",
              "Name: Procedure.Heart.Attack.Quality, dtype: int64"
            ]
          },
          "metadata": {},
          "execution_count": 162
        }
      ]
    },
    {
      "cell_type": "code",
      "source": [
        "df['Procedure.Heart.Attack.Value'].value_counts()"
      ],
      "metadata": {
        "colab": {
          "base_uri": "https://localhost:8080/"
        },
        "id": "sERkY0fj4RIu",
        "outputId": "2c11a743-92dc-4539-b1fc-efc3902faa36"
      },
      "execution_count": 163,
      "outputs": [
        {
          "output_type": "execute_result",
          "data": {
            "text/plain": [
              "2    1868\n",
              "0    1461\n",
              "3     199\n",
              "1     187\n",
              "Name: Procedure.Heart.Attack.Value, dtype: int64"
            ]
          },
          "metadata": {},
          "execution_count": 163
        }
      ]
    },
    {
      "cell_type": "code",
      "source": [
        "df['Procedure.Heart.Failure.Quality'].value_counts()"
      ],
      "metadata": {
        "colab": {
          "base_uri": "https://localhost:8080/"
        },
        "id": "3DaBqMJW4WF_",
        "outputId": "c299a9c2-a655-40fa-a8fd-0ae483651f66"
      },
      "execution_count": 164,
      "outputs": [
        {
          "output_type": "execute_result",
          "data": {
            "text/plain": [
              "2    3031\n",
              "0     354\n",
              "3     196\n",
              "1     134\n",
              "Name: Procedure.Heart.Failure.Quality, dtype: int64"
            ]
          },
          "metadata": {},
          "execution_count": 164
        }
      ]
    },
    {
      "cell_type": "code",
      "source": [
        "df['Procedure.Heart.Failure.Value'].value_counts()"
      ],
      "metadata": {
        "colab": {
          "base_uri": "https://localhost:8080/"
        },
        "id": "aX3BI2ow4XPw",
        "outputId": "dd0d5e4b-1799-48c1-9de3-62160d285245"
      },
      "execution_count": 165,
      "outputs": [
        {
          "output_type": "execute_result",
          "data": {
            "text/plain": [
              "2    2423\n",
              "3     530\n",
              "1     408\n",
              "0     354\n",
              "Name: Procedure.Heart.Failure.Value, dtype: int64"
            ]
          },
          "metadata": {},
          "execution_count": 165
        }
      ]
    },
    {
      "cell_type": "code",
      "source": [
        "df['Procedure.Pneumonia.Quality'].value_counts()"
      ],
      "metadata": {
        "colab": {
          "base_uri": "https://localhost:8080/"
        },
        "id": "4QGKZdFt4cJ0",
        "outputId": "21a9b7c2-255a-45a0-d192-70b8b338b347"
      },
      "execution_count": 166,
      "outputs": [
        {
          "output_type": "execute_result",
          "data": {
            "text/plain": [
              "2    3154\n",
              "1     232\n",
              "3     218\n",
              "0     111\n",
              "Name: Procedure.Pneumonia.Quality, dtype: int64"
            ]
          },
          "metadata": {},
          "execution_count": 166
        }
      ]
    },
    {
      "cell_type": "code",
      "source": [
        "df['Procedure.Pneumonia.Value'].value_counts()"
      ],
      "metadata": {
        "colab": {
          "base_uri": "https://localhost:8080/"
        },
        "id": "SbttNkuJ4fur",
        "outputId": "81d360f9-e0e7-4743-878a-8e94801d6932"
      },
      "execution_count": 167,
      "outputs": [
        {
          "output_type": "execute_result",
          "data": {
            "text/plain": [
              "2    2078\n",
              "1     785\n",
              "3     741\n",
              "0     111\n",
              "Name: Procedure.Pneumonia.Value, dtype: int64"
            ]
          },
          "metadata": {},
          "execution_count": 167
        }
      ]
    },
    {
      "cell_type": "code",
      "source": [
        "df['Procedure.Hip.Knee.Quality'].value_counts()"
      ],
      "metadata": {
        "colab": {
          "base_uri": "https://localhost:8080/"
        },
        "id": "0YzNEeZq4gEC",
        "outputId": "f1d304bb-7742-4c81-c192-1f796eef5f4a"
      },
      "execution_count": 168,
      "outputs": [
        {
          "output_type": "execute_result",
          "data": {
            "text/plain": [
              "2    2527\n",
              "0    1082\n",
              "3      62\n",
              "1      44\n",
              "Name: Procedure.Hip.Knee.Quality, dtype: int64"
            ]
          },
          "metadata": {},
          "execution_count": 168
        }
      ]
    },
    {
      "cell_type": "code",
      "source": [
        "df['Procedure.Hip.Knee.Value'].value_counts()"
      ],
      "metadata": {
        "colab": {
          "base_uri": "https://localhost:8080/"
        },
        "id": "j1_BgtGH4gY7",
        "outputId": "9ae9421e-56ef-4102-e975-fbe57e289c1a"
      },
      "execution_count": 169,
      "outputs": [
        {
          "output_type": "execute_result",
          "data": {
            "text/plain": [
              "0    1082\n",
              "2    1007\n",
              "1     977\n",
              "3     649\n",
              "Name: Procedure.Hip.Knee.Value, dtype: int64"
            ]
          },
          "metadata": {},
          "execution_count": 169
        }
      ]
    },
    {
      "cell_type": "code",
      "source": [
        "#add average heart attack procedure per state to data- adding for visuals\n",
        "#source= https://stackoverflow.com/questions/69227651/add-a-column-with-mean-values-for-groups-based-on-another-column \n",
        "df = df.join(df.groupby('Facility.State')[['Procedure.Heart.Attack.Cost']]\n",
        "             .transform('mean')\n",
        "             .rename(columns='Mean.HAC.State'.format))"
      ],
      "metadata": {
        "id": "qmedCuvYEXT6"
      },
      "execution_count": 170,
      "outputs": []
    },
    {
      "cell_type": "code",
      "source": [
        "#add average cost of care for heart failure per state to data\n",
        "df = df.join(df.groupby('Facility.State')[['Procedure.Heart.Failure.Cost']]\n",
        "             .transform('mean')\n",
        "             .rename(columns='Mean.HFC.State'.format))"
      ],
      "metadata": {
        "id": "dEJD1s3cLAlO"
      },
      "execution_count": 171,
      "outputs": []
    },
    {
      "cell_type": "code",
      "source": [
        "#add average cost of care for pneumonia per state to data\n",
        "df = df.join(df.groupby('Facility.State')[['Procedure.Pneumonia.Cost']]\n",
        "             .transform('mean')\n",
        "             .rename(columns='Mean.Pne.State'.format))"
      ],
      "metadata": {
        "id": "aIIvXCqPMABD"
      },
      "execution_count": 172,
      "outputs": []
    },
    {
      "cell_type": "code",
      "source": [
        "#add average cost of hip and knee procedures per state to data\n",
        "df = df.join(df.groupby('Facility.State')[['Procedure.Hip.Knee.Cost']]\n",
        "             .transform('mean')\n",
        "             .rename(columns='Mean.HK.State'.format))"
      ],
      "metadata": {
        "id": "yr-jslYYMMeP"
      },
      "execution_count": 173,
      "outputs": []
    },
    {
      "cell_type": "code",
      "source": [
        "df.head()"
      ],
      "metadata": {
        "colab": {
          "base_uri": "https://localhost:8080/",
          "height": 270
        },
        "id": "xVQAUi2bFo6T",
        "outputId": "88f69c0b-ecaf-4d44-d106-e44426fa85c8"
      },
      "execution_count": 174,
      "outputs": [
        {
          "output_type": "execute_result",
          "data": {
            "text/plain": [
              "  Facility.City Facility.State Facility.Type  Rating.Overall  \\\n",
              "0          Boaz             AL    Government             1.0   \n",
              "1           Opp             AL       Private             1.0   \n",
              "2    Scottsboro             AL    Government             1.0   \n",
              "3        Mobile             AL       Private             1.0   \n",
              "4        Mobile             AL   Proprietary             1.0   \n",
              "\n",
              "   Procedure.Heart.Attack.Cost  Procedure.Heart.Attack.Quality  \\\n",
              "0                        22579                               2   \n",
              "1                            0                               0   \n",
              "2                            0                               0   \n",
              "3                        22788                               2   \n",
              "4                        22208                               2   \n",
              "\n",
              "   Procedure.Heart.Attack.Value  Procedure.Heart.Failure.Cost  \\\n",
              "0                             2                         15819   \n",
              "1                             0                         14541   \n",
              "2                             0                         14855   \n",
              "3                             2                         17664   \n",
              "4                             2                         17150   \n",
              "\n",
              "   Procedure.Heart.Failure.Quality  Procedure.Heart.Failure.Value  \\\n",
              "0                                1                              2   \n",
              "1                                2                              1   \n",
              "2                                2                              1   \n",
              "3                                2                              3   \n",
              "4                                2                              2   \n",
              "\n",
              "   Procedure.Pneumonia.Cost  Procedure.Pneumonia.Quality  \\\n",
              "0                     15614                            1   \n",
              "1                     15226                            1   \n",
              "2                     14509                            2   \n",
              "3                     18321                            2   \n",
              "4                     17128                            2   \n",
              "\n",
              "   Procedure.Pneumonia.Value  Procedure.Hip.Knee.Cost  \\\n",
              "0                          1                    22747   \n",
              "1                          1                    23472   \n",
              "2                          1                    24701   \n",
              "3                          3                    21994   \n",
              "4                          2                    23520   \n",
              "\n",
              "   Procedure.Hip.Knee.Quality  Procedure.Hip.Knee.Value  Mean.HAC.State  \\\n",
              "0                           2                         2    11610.202532   \n",
              "1                           2                         2    11610.202532   \n",
              "2                           2                         3    11610.202532   \n",
              "3                           2                         2    11610.202532   \n",
              "4                           2                         3    11610.202532   \n",
              "\n",
              "   Mean.HFC.State  Mean.Pne.State  Mean.HK.State  \n",
              "0    15131.860759    16264.227848        12110.0  \n",
              "1    15131.860759    16264.227848        12110.0  \n",
              "2    15131.860759    16264.227848        12110.0  \n",
              "3    15131.860759    16264.227848        12110.0  \n",
              "4    15131.860759    16264.227848        12110.0  "
            ],
            "text/html": [
              "\n",
              "  <div id=\"df-a1ee21e0-bcca-49eb-b371-13177b1dc88d\">\n",
              "    <div class=\"colab-df-container\">\n",
              "      <div>\n",
              "<style scoped>\n",
              "    .dataframe tbody tr th:only-of-type {\n",
              "        vertical-align: middle;\n",
              "    }\n",
              "\n",
              "    .dataframe tbody tr th {\n",
              "        vertical-align: top;\n",
              "    }\n",
              "\n",
              "    .dataframe thead th {\n",
              "        text-align: right;\n",
              "    }\n",
              "</style>\n",
              "<table border=\"1\" class=\"dataframe\">\n",
              "  <thead>\n",
              "    <tr style=\"text-align: right;\">\n",
              "      <th></th>\n",
              "      <th>Facility.City</th>\n",
              "      <th>Facility.State</th>\n",
              "      <th>Facility.Type</th>\n",
              "      <th>Rating.Overall</th>\n",
              "      <th>Procedure.Heart.Attack.Cost</th>\n",
              "      <th>Procedure.Heart.Attack.Quality</th>\n",
              "      <th>Procedure.Heart.Attack.Value</th>\n",
              "      <th>Procedure.Heart.Failure.Cost</th>\n",
              "      <th>Procedure.Heart.Failure.Quality</th>\n",
              "      <th>Procedure.Heart.Failure.Value</th>\n",
              "      <th>Procedure.Pneumonia.Cost</th>\n",
              "      <th>Procedure.Pneumonia.Quality</th>\n",
              "      <th>Procedure.Pneumonia.Value</th>\n",
              "      <th>Procedure.Hip.Knee.Cost</th>\n",
              "      <th>Procedure.Hip.Knee.Quality</th>\n",
              "      <th>Procedure.Hip.Knee.Value</th>\n",
              "      <th>Mean.HAC.State</th>\n",
              "      <th>Mean.HFC.State</th>\n",
              "      <th>Mean.Pne.State</th>\n",
              "      <th>Mean.HK.State</th>\n",
              "    </tr>\n",
              "  </thead>\n",
              "  <tbody>\n",
              "    <tr>\n",
              "      <th>0</th>\n",
              "      <td>Boaz</td>\n",
              "      <td>AL</td>\n",
              "      <td>Government</td>\n",
              "      <td>1.0</td>\n",
              "      <td>22579</td>\n",
              "      <td>2</td>\n",
              "      <td>2</td>\n",
              "      <td>15819</td>\n",
              "      <td>1</td>\n",
              "      <td>2</td>\n",
              "      <td>15614</td>\n",
              "      <td>1</td>\n",
              "      <td>1</td>\n",
              "      <td>22747</td>\n",
              "      <td>2</td>\n",
              "      <td>2</td>\n",
              "      <td>11610.202532</td>\n",
              "      <td>15131.860759</td>\n",
              "      <td>16264.227848</td>\n",
              "      <td>12110.0</td>\n",
              "    </tr>\n",
              "    <tr>\n",
              "      <th>1</th>\n",
              "      <td>Opp</td>\n",
              "      <td>AL</td>\n",
              "      <td>Private</td>\n",
              "      <td>1.0</td>\n",
              "      <td>0</td>\n",
              "      <td>0</td>\n",
              "      <td>0</td>\n",
              "      <td>14541</td>\n",
              "      <td>2</td>\n",
              "      <td>1</td>\n",
              "      <td>15226</td>\n",
              "      <td>1</td>\n",
              "      <td>1</td>\n",
              "      <td>23472</td>\n",
              "      <td>2</td>\n",
              "      <td>2</td>\n",
              "      <td>11610.202532</td>\n",
              "      <td>15131.860759</td>\n",
              "      <td>16264.227848</td>\n",
              "      <td>12110.0</td>\n",
              "    </tr>\n",
              "    <tr>\n",
              "      <th>2</th>\n",
              "      <td>Scottsboro</td>\n",
              "      <td>AL</td>\n",
              "      <td>Government</td>\n",
              "      <td>1.0</td>\n",
              "      <td>0</td>\n",
              "      <td>0</td>\n",
              "      <td>0</td>\n",
              "      <td>14855</td>\n",
              "      <td>2</td>\n",
              "      <td>1</td>\n",
              "      <td>14509</td>\n",
              "      <td>2</td>\n",
              "      <td>1</td>\n",
              "      <td>24701</td>\n",
              "      <td>2</td>\n",
              "      <td>3</td>\n",
              "      <td>11610.202532</td>\n",
              "      <td>15131.860759</td>\n",
              "      <td>16264.227848</td>\n",
              "      <td>12110.0</td>\n",
              "    </tr>\n",
              "    <tr>\n",
              "      <th>3</th>\n",
              "      <td>Mobile</td>\n",
              "      <td>AL</td>\n",
              "      <td>Private</td>\n",
              "      <td>1.0</td>\n",
              "      <td>22788</td>\n",
              "      <td>2</td>\n",
              "      <td>2</td>\n",
              "      <td>17664</td>\n",
              "      <td>2</td>\n",
              "      <td>3</td>\n",
              "      <td>18321</td>\n",
              "      <td>2</td>\n",
              "      <td>3</td>\n",
              "      <td>21994</td>\n",
              "      <td>2</td>\n",
              "      <td>2</td>\n",
              "      <td>11610.202532</td>\n",
              "      <td>15131.860759</td>\n",
              "      <td>16264.227848</td>\n",
              "      <td>12110.0</td>\n",
              "    </tr>\n",
              "    <tr>\n",
              "      <th>4</th>\n",
              "      <td>Mobile</td>\n",
              "      <td>AL</td>\n",
              "      <td>Proprietary</td>\n",
              "      <td>1.0</td>\n",
              "      <td>22208</td>\n",
              "      <td>2</td>\n",
              "      <td>2</td>\n",
              "      <td>17150</td>\n",
              "      <td>2</td>\n",
              "      <td>2</td>\n",
              "      <td>17128</td>\n",
              "      <td>2</td>\n",
              "      <td>2</td>\n",
              "      <td>23520</td>\n",
              "      <td>2</td>\n",
              "      <td>3</td>\n",
              "      <td>11610.202532</td>\n",
              "      <td>15131.860759</td>\n",
              "      <td>16264.227848</td>\n",
              "      <td>12110.0</td>\n",
              "    </tr>\n",
              "  </tbody>\n",
              "</table>\n",
              "</div>\n",
              "      <button class=\"colab-df-convert\" onclick=\"convertToInteractive('df-a1ee21e0-bcca-49eb-b371-13177b1dc88d')\"\n",
              "              title=\"Convert this dataframe to an interactive table.\"\n",
              "              style=\"display:none;\">\n",
              "        \n",
              "  <svg xmlns=\"http://www.w3.org/2000/svg\" height=\"24px\"viewBox=\"0 0 24 24\"\n",
              "       width=\"24px\">\n",
              "    <path d=\"M0 0h24v24H0V0z\" fill=\"none\"/>\n",
              "    <path d=\"M18.56 5.44l.94 2.06.94-2.06 2.06-.94-2.06-.94-.94-2.06-.94 2.06-2.06.94zm-11 1L8.5 8.5l.94-2.06 2.06-.94-2.06-.94L8.5 2.5l-.94 2.06-2.06.94zm10 10l.94 2.06.94-2.06 2.06-.94-2.06-.94-.94-2.06-.94 2.06-2.06.94z\"/><path d=\"M17.41 7.96l-1.37-1.37c-.4-.4-.92-.59-1.43-.59-.52 0-1.04.2-1.43.59L10.3 9.45l-7.72 7.72c-.78.78-.78 2.05 0 2.83L4 21.41c.39.39.9.59 1.41.59.51 0 1.02-.2 1.41-.59l7.78-7.78 2.81-2.81c.8-.78.8-2.07 0-2.86zM5.41 20L4 18.59l7.72-7.72 1.47 1.35L5.41 20z\"/>\n",
              "  </svg>\n",
              "      </button>\n",
              "      \n",
              "  <style>\n",
              "    .colab-df-container {\n",
              "      display:flex;\n",
              "      flex-wrap:wrap;\n",
              "      gap: 12px;\n",
              "    }\n",
              "\n",
              "    .colab-df-convert {\n",
              "      background-color: #E8F0FE;\n",
              "      border: none;\n",
              "      border-radius: 50%;\n",
              "      cursor: pointer;\n",
              "      display: none;\n",
              "      fill: #1967D2;\n",
              "      height: 32px;\n",
              "      padding: 0 0 0 0;\n",
              "      width: 32px;\n",
              "    }\n",
              "\n",
              "    .colab-df-convert:hover {\n",
              "      background-color: #E2EBFA;\n",
              "      box-shadow: 0px 1px 2px rgba(60, 64, 67, 0.3), 0px 1px 3px 1px rgba(60, 64, 67, 0.15);\n",
              "      fill: #174EA6;\n",
              "    }\n",
              "\n",
              "    [theme=dark] .colab-df-convert {\n",
              "      background-color: #3B4455;\n",
              "      fill: #D2E3FC;\n",
              "    }\n",
              "\n",
              "    [theme=dark] .colab-df-convert:hover {\n",
              "      background-color: #434B5C;\n",
              "      box-shadow: 0px 1px 3px 1px rgba(0, 0, 0, 0.15);\n",
              "      filter: drop-shadow(0px 1px 2px rgba(0, 0, 0, 0.3));\n",
              "      fill: #FFFFFF;\n",
              "    }\n",
              "  </style>\n",
              "\n",
              "      <script>\n",
              "        const buttonEl =\n",
              "          document.querySelector('#df-a1ee21e0-bcca-49eb-b371-13177b1dc88d button.colab-df-convert');\n",
              "        buttonEl.style.display =\n",
              "          google.colab.kernel.accessAllowed ? 'block' : 'none';\n",
              "\n",
              "        async function convertToInteractive(key) {\n",
              "          const element = document.querySelector('#df-a1ee21e0-bcca-49eb-b371-13177b1dc88d');\n",
              "          const dataTable =\n",
              "            await google.colab.kernel.invokeFunction('convertToInteractive',\n",
              "                                                     [key], {});\n",
              "          if (!dataTable) return;\n",
              "\n",
              "          const docLinkHtml = 'Like what you see? Visit the ' +\n",
              "            '<a target=\"_blank\" href=https://colab.research.google.com/notebooks/data_table.ipynb>data table notebook</a>'\n",
              "            + ' to learn more about interactive tables.';\n",
              "          element.innerHTML = '';\n",
              "          dataTable['output_type'] = 'display_data';\n",
              "          await google.colab.output.renderOutput(dataTable, element);\n",
              "          const docLink = document.createElement('div');\n",
              "          docLink.innerHTML = docLinkHtml;\n",
              "          element.appendChild(docLink);\n",
              "        }\n",
              "      </script>\n",
              "    </div>\n",
              "  </div>\n",
              "  "
            ]
          },
          "metadata": {},
          "execution_count": 174
        }
      ]
    },
    {
      "cell_type": "markdown",
      "source": [
        "**Visualizations**"
      ],
      "metadata": {
        "id": "0hj7B3pD4-Mu"
      }
    },
    {
      "cell_type": "code",
      "source": [
        "corr = df.corr()\n",
        "sns.heatmap(corr, cmap = 'Blues');"
      ],
      "metadata": {
        "colab": {
          "base_uri": "https://localhost:8080/",
          "height": 416
        },
        "id": "vG8aWcyH46ca",
        "outputId": "a12b4b6e-8f37-4a07-e6a9-2c339c154fca"
      },
      "execution_count": 175,
      "outputs": [
        {
          "output_type": "display_data",
          "data": {
            "text/plain": [
              "<Figure size 432x288 with 2 Axes>"
            ],
            "image/png": "[encoded data removed]"
          },
          "metadata": {
            "needs_background": "light"
          }
        }
      ]
    },
    {
      "cell_type": "markdown",
      "source": [
        "In the heat map, I took out annot=True to take out the correlation values as there are too many features and the values overlapped. \n",
        "\n",
        "The costs for all 4 procedures tend to be highly correlated with quality and value of that procedure. "
      ],
      "metadata": {
        "id": "Y-McnIMQ56H6"
      }
    },
    {
      "cell_type": "code",
      "source": [
        "fig, axes = plt.subplots(ncols=2, figsize=(14,5))\n",
        "sns.barplot(data = df, x = 'Rating.Overall', y = 'Procedure.Heart.Attack.Cost', ax=axes[0])\n",
        "axes[0].set_title('Hospital Rating Based on Heart Attack Procedure Cost', fontsize = 15, fontweight = 'bold')\n",
        "\n",
        "sns.barplot(data = df, x = 'Rating.Overall', y = 'Procedure.Heart.Failure.Cost', ax=axes[1])\n",
        "axes[1].set_title('Hospital Rating Based on Heart Failure Procedure Cost', fontsize = 15, fontweight = 'bold')\n",
        "\n",
        "fig.suptitle('The Effect of Heart Attack and Heart Failure Costs on Hospital Ratings', fontsize = 20, fontweight = 'bold', y=1.05)\n",
        "fig.tight_layout()"
      ],
      "metadata": {
        "colab": {
          "base_uri": "https://localhost:8080/",
          "height": 398
        },
        "id": "Hxjl6F6M50fs",
        "outputId": "e4e55fa9-6888-497d-a6d3-e76d61493e6c"
      },
      "execution_count": 176,
      "outputs": [
        {
          "output_type": "display_data",
          "data": {
            "text/plain": [
              "<Figure size 1008x360 with 2 Axes>"
            ],
            "image/png": "[encoded data removed]"
          },
          "metadata": {
            "needs_background": "light"
          }
        }
      ]
    },
    {
      "cell_type": "markdown",
      "source": [
        "Heart failure costs are slightly higher than heart attack costs at 4 and 3 rated hospitals. \n",
        "\n",
        "Heart attack costs are higher than heart failure costs at 1 rated hospitals. \n",
        "\n",
        "In general, heart failure and heart attack costs decrease the higher the hospital rating.\n",
        "\n",
        "There is also much less variation in heart failure costs across all rated hospitals versus heart attack costs across all rated hospitals. "
      ],
      "metadata": {
        "id": "Fnvk9Zy76N4n"
      }
    },
    {
      "cell_type": "code",
      "source": [
        "fig, axes = plt.subplots(ncols=2, figsize=(14,5))\n",
        "sns.barplot(data = df, x = 'Rating.Overall', y = 'Procedure.Pneumonia.Cost', ax=axes[0])\n",
        "axes[0].set_title('Hospital Rating Based on Pneumonia Procedure Cost', fontsize = 15, fontweight = 'bold')\n",
        "\n",
        "sns.barplot(data = df, x = 'Rating.Overall', y = 'Procedure.Hip.Knee.Cost', ax=axes[1])\n",
        "axes[1].set_title('Hospital Rating Based on Hip Knee Procedure Cost', fontsize = 15, fontweight = 'bold')\n",
        "\n",
        "fig.suptitle('The Effect of Knee and Hip Procedural Costs on Hospital Ratings', fontsize = 20, fontweight = 'bold', y=1.05)\n",
        "fig.tight_layout()"
      ],
      "metadata": {
        "colab": {
          "base_uri": "https://localhost:8080/",
          "height": 398
        },
        "id": "MRpgcS0L6ItZ",
        "outputId": "5c929b10-61ee-43e6-fc91-5ef6f8ac4f0d"
      },
      "execution_count": 177,
      "outputs": [
        {
          "output_type": "display_data",
          "data": {
            "text/plain": [
              "<Figure size 1008x360 with 2 Axes>"
            ],
            "image/png": "[encoded data removed]"
          },
          "metadata": {
            "needs_background": "light"
          }
        }
      ]
    },
    {
      "cell_type": "markdown",
      "source": [
        "The trend in the above barplot shows the higher the hospital rating the lower the costs for pneumonia procedures while costs for hip and knee procedures fluctuate more with a average rating of 3 having the least cost."
      ],
      "metadata": {
        "id": "wdPjb-ya6UPv"
      }
    },
    {
      "cell_type": "code",
      "source": [
        "#source= https://infopython.com/9-ways-to-plot-a-pie-chart-using-python/ \n",
        "values = df['Facility.Type'].value_counts()\n",
        "labels = df['Facility.Type'].unique().tolist()\n",
        "\n",
        "circle_fig = go.Figure(data=[go.Pie(values=values, labels=labels, hole=0.3)])\n",
        "circle_fig.update_layout(title_text='Percentage of Hospitals by Facility Type')\n",
        "circle_fig.show()\n",
        "\n",
        "print(values)"
      ],
      "metadata": {
        "colab": {
          "base_uri": "https://localhost:8080/",
          "height": 646
        },
        "id": "3CBJzHk_f21q",
        "outputId": "549cd333-cfac-43c9-db37-8ff30c1292ce"
      },
      "execution_count": 178,
      "outputs": [
        {
          "output_type": "display_data",
          "data": {
            "text/html": [
              "<html>\n",
              "<head><meta charset=\"utf-8\" /></head>\n",
              "<body>\n",
              "    <div>            <script src=\"https://cdnjs.cloudflare.com/ajax/libs/mathjax/2.7.5/MathJax.js?config=TeX-AMS-MML_SVG\"></script><script type=\"text/javascript\">if (window.MathJax && window.MathJax.Hub && window.MathJax.Hub.Config) {window.MathJax.Hub.Config({SVG: {font: \"STIX-Web\"}});}</script>                <script type=\"text/javascript\">window.PlotlyConfig = {MathJaxConfig: 'local'};</script>\n",
              "        <script src=\"https://cdn.plot.ly/plotly-2.12.1.min.js\"></script>                <div id=\"5c43a2c3-d43c-4ca4-9234-01e8456605bf\" class=\"plotly-graph-div\" style=\"height:525px; width:100%;\"></div>            <script type=\"text/javascript\">                                    window.PLOTLYENV=window.PLOTLYENV || {};                                    if (document.getElementById(\"5c43a2c3-d43c-4ca4-9234-01e8456605bf\")) {                    Plotly.newPlot(                        \"5c43a2c3-d43c-4ca4-9234-01e8456605bf\",                        [{\"hole\":0.3,\"labels\":[\"Government\",\"Private\",\"Proprietary\",\"Unknown\",\"Church\"],\"values\":[1713,672,627,404,299],\"type\":\"pie\"}],                        {\"template\":{\"data\":{\"histogram2dcontour\":[{\"type\":\"histogram2dcontour\",\"colorbar\":{\"outlinewidth\":0,\"ticks\":\"\"},\"colorscale\":[[0.0,\"#0d0887\"],[0.1111111111111111,\"#46039f\"],[0.2222222222222222,\"#7201a8\"],[0.3333333333333333,\"#9c179e\"],[0.4444444444444444,\"#bd3786\"],[0.5555555555555556,\"#d8576b\"],[0.6666666666666666,\"#ed7953\"],[0.7777777777777778,\"#fb9f3a\"],[0.8888888888888888,\"#fdca26\"],[1.0,\"#f0f921\"]]}],\"choropleth\":[{\"type\":\"choropleth\",\"colorbar\":{\"outlinewidth\":0,\"ticks\":\"\"}}],\"histogram2d\":[{\"type\":\"histogram2d\",\"colorbar\":{\"outlinewidth\":0,\"ticks\":\"\"},\"colorscale\":[[0.0,\"#0d0887\"],[0.1111111111111111,\"#46039f\"],[0.2222222222222222,\"#7201a8\"],[0.3333333333333333,\"#9c179e\"],[0.4444444444444444,\"#bd3786\"],[0.5555555555555556,\"#d8576b\"],[0.6666666666666666,\"#ed7953\"],[0.7777777777777778,\"#fb9f3a\"],[0.8888888888888888,\"#fdca26\"],[1.0,\"#f0f921\"]]}],\"heatmap\":[{\"type\":\"heatmap\",\"colorbar\":{\"outlinewidth\":0,\"ticks\":\"\"},\"colorscale\":[[0.0,\"#0d0887\"],[0.1111111111111111,\"#46039f\"],[0.2222222222222222,\"#7201a8\"],[0.3333333333333333,\"#9c179e\"],[0.4444444444444444,\"#bd3786\"],[0.5555555555555556,\"#d8576b\"],[0.6666666666666666,\"#ed7953\"],[0.7777777777777778,\"#fb9f3a\"],[0.8888888888888888,\"#fdca26\"],[1.0,\"#f0f921\"]]}],\"heatmapgl\":[{\"type\":\"heatmapgl\",\"colorbar\":{\"outlinewidth\":0,\"ticks\":\"\"},\"colorscale\":[[0.0,\"#0d0887\"],[0.1111111111111111,\"#46039f\"],[0.2222222222222222,\"#7201a8\"],[0.3333333333333333,\"#9c179e\"],[0.4444444444444444,\"#bd3786\"],[0.5555555555555556,\"#d8576b\"],[0.6666666666666666,\"#ed7953\"],[0.7777777777777778,\"#fb9f3a\"],[0.8888888888888888,\"#fdca26\"],[1.0,\"#f0f921\"]]}],\"contourcarpet\":[{\"type\":\"contourcarpet\",\"colorbar\":{\"outlinewidth\":0,\"ticks\":\"\"}}],\"contour\":[{\"type\":\"contour\",\"colorbar\":{\"outlinewidth\":0,\"ticks\":\"\"},\"colorscale\":[[0.0,\"#0d0887\"],[0.1111111111111111,\"#46039f\"],[0.2222222222222222,\"#7201a8\"],[0.3333333333333333,\"#9c179e\"],[0.4444444444444444,\"#bd3786\"],[0.5555555555555556,\"#d8576b\"],[0.6666666666666666,\"#ed7953\"],[0.7777777777777778,\"#fb9f3a\"],[0.8888888888888888,\"#fdca26\"],[1.0,\"#f0f921\"]]}],\"surface\":[{\"type\":\"surface\",\"colorbar\":{\"outlinewidth\":0,\"ticks\":\"\"},\"colorscale\":[[0.0,\"#0d0887\"],[0.1111111111111111,\"#46039f\"],[0.2222222222222222,\"#7201a8\"],[0.3333333333333333,\"#9c179e\"],[0.4444444444444444,\"#bd3786\"],[0.5555555555555556,\"#d8576b\"],[0.6666666666666666,\"#ed7953\"],[0.7777777777777778,\"#fb9f3a\"],[0.8888888888888888,\"#fdca26\"],[1.0,\"#f0f921\"]]}],\"mesh3d\":[{\"type\":\"mesh3d\",\"colorbar\":{\"outlinewidth\":0,\"ticks\":\"\"}}],\"scatter\":[{\"fillpattern\":{\"fillmode\":\"overlay\",\"size\":10,\"solidity\":0.2},\"type\":\"scatter\"}],\"parcoords\":[{\"type\":\"parcoords\",\"line\":{\"colorbar\":{\"outlinewidth\":0,\"ticks\":\"\"}}}],\"scatterpolargl\":[{\"type\":\"scatterpolargl\",\"marker\":{\"colorbar\":{\"outlinewidth\":0,\"ticks\":\"\"}}}],\"bar\":[{\"error_x\":{\"color\":\"#2a3f5f\"},\"error_y\":{\"color\":\"#2a3f5f\"},\"marker\":{\"line\":{\"color\":\"#E5ECF6\",\"width\":0.5},\"pattern\":{\"fillmode\":\"overlay\",\"size\":10,\"solidity\":0.2}},\"type\":\"bar\"}],\"scattergeo\":[{\"type\":\"scattergeo\",\"marker\":{\"colorbar\":{\"outlinewidth\":0,\"ticks\":\"\"}}}],\"scatterpolar\":[{\"type\":\"scatterpolar\",\"marker\":{\"colorbar\":{\"outlinewidth\":0,\"ticks\":\"\"}}}],\"histogram\":[{\"marker\":{\"pattern\":{\"fillmode\":\"overlay\",\"size\":10,\"solidity\":0.2}},\"type\":\"histogram\"}],\"scattergl\":[{\"type\":\"scattergl\",\"marker\":{\"colorbar\":{\"outlinewidth\":0,\"ticks\":\"\"}}}],\"scatter3d\":[{\"type\":\"scatter3d\",\"line\":{\"colorbar\":{\"outlinewidth\":0,\"ticks\":\"\"}},\"marker\":{\"colorbar\":{\"outlinewidth\":0,\"ticks\":\"\"}}}],\"scattermapbox\":[{\"type\":\"scattermapbox\",\"marker\":{\"colorbar\":{\"outlinewidth\":0,\"ticks\":\"\"}}}],\"scatterternary\":[{\"type\":\"scatterternary\",\"marker\":{\"colorbar\":{\"outlinewidth\":0,\"ticks\":\"\"}}}],\"scattercarpet\":[{\"type\":\"scattercarpet\",\"marker\":{\"colorbar\":{\"outlinewidth\":0,\"ticks\":\"\"}}}],\"carpet\":[{\"aaxis\":{\"endlinecolor\":\"#2a3f5f\",\"gridcolor\":\"white\",\"linecolor\":\"white\",\"minorgridcolor\":\"white\",\"startlinecolor\":\"#2a3f5f\"},\"baxis\":{\"endlinecolor\":\"#2a3f5f\",\"gridcolor\":\"white\",\"linecolor\":\"white\",\"minorgridcolor\":\"white\",\"startlinecolor\":\"#2a3f5f\"},\"type\":\"carpet\"}],\"table\":[{\"cells\":{\"fill\":{\"color\":\"#EBF0F8\"},\"line\":{\"color\":\"white\"}},\"header\":{\"fill\":{\"color\":\"#C8D4E3\"},\"line\":{\"color\":\"white\"}},\"type\":\"table\"}],\"barpolar\":[{\"marker\":{\"line\":{\"color\":\"#E5ECF6\",\"width\":0.5},\"pattern\":{\"fillmode\":\"overlay\",\"size\":10,\"solidity\":0.2}},\"type\":\"barpolar\"}],\"pie\":[{\"automargin\":true,\"type\":\"pie\"}]},\"layout\":{\"autotypenumbers\":\"strict\",\"colorway\":[\"#636efa\",\"#EF553B\",\"#00cc96\",\"#ab63fa\",\"#FFA15A\",\"#19d3f3\",\"#FF6692\",\"#B6E880\",\"#FF97FF\",\"#FECB52\"],\"font\":{\"color\":\"#2a3f5f\"},\"hovermode\":\"closest\",\"hoverlabel\":{\"align\":\"left\"},\"paper_bgcolor\":\"white\",\"plot_bgcolor\":\"#E5ECF6\",\"polar\":{\"bgcolor\":\"#E5ECF6\",\"angularaxis\":{\"gridcolor\":\"white\",\"linecolor\":\"white\",\"ticks\":\"\"},\"radialaxis\":{\"gridcolor\":\"white\",\"linecolor\":\"white\",\"ticks\":\"\"}},\"ternary\":{\"bgcolor\":\"#E5ECF6\",\"aaxis\":{\"gridcolor\":\"white\",\"linecolor\":\"white\",\"ticks\":\"\"},\"baxis\":{\"gridcolor\":\"white\",\"linecolor\":\"white\",\"ticks\":\"\"},\"caxis\":{\"gridcolor\":\"white\",\"linecolor\":\"white\",\"ticks\":\"\"}},\"coloraxis\":{\"colorbar\":{\"outlinewidth\":0,\"ticks\":\"\"}},\"colorscale\":{\"sequential\":[[0.0,\"#0d0887\"],[0.1111111111111111,\"#46039f\"],[0.2222222222222222,\"#7201a8\"],[0.3333333333333333,\"#9c179e\"],[0.4444444444444444,\"#bd3786\"],[0.5555555555555556,\"#d8576b\"],[0.6666666666666666,\"#ed7953\"],[0.7777777777777778,\"#fb9f3a\"],[0.8888888888888888,\"#fdca26\"],[1.0,\"#f0f921\"]],\"sequentialminus\":[[0.0,\"#0d0887\"],[0.1111111111111111,\"#46039f\"],[0.2222222222222222,\"#7201a8\"],[0.3333333333333333,\"#9c179e\"],[0.4444444444444444,\"#bd3786\"],[0.5555555555555556,\"#d8576b\"],[0.6666666666666666,\"#ed7953\"],[0.7777777777777778,\"#fb9f3a\"],[0.8888888888888888,\"#fdca26\"],[1.0,\"#f0f921\"]],\"diverging\":[[0,\"#8e0152\"],[0.1,\"#c51b7d\"],[0.2,\"#de77ae\"],[0.3,\"#f1b6da\"],[0.4,\"#fde0ef\"],[0.5,\"#f7f7f7\"],[0.6,\"#e6f5d0\"],[0.7,\"#b8e186\"],[0.8,\"#7fbc41\"],[0.9,\"#4d9221\"],[1,\"#276419\"]]},\"xaxis\":{\"gridcolor\":\"white\",\"linecolor\":\"white\",\"ticks\":\"\",\"title\":{\"standoff\":15},\"zerolinecolor\":\"white\",\"automargin\":true,\"zerolinewidth\":2},\"yaxis\":{\"gridcolor\":\"white\",\"linecolor\":\"white\",\"ticks\":\"\",\"title\":{\"standoff\":15},\"zerolinecolor\":\"white\",\"automargin\":true,\"zerolinewidth\":2},\"scene\":{\"xaxis\":{\"backgroundcolor\":\"#E5ECF6\",\"gridcolor\":\"white\",\"linecolor\":\"white\",\"showbackground\":true,\"ticks\":\"\",\"zerolinecolor\":\"white\",\"gridwidth\":2},\"yaxis\":{\"backgroundcolor\":\"#E5ECF6\",\"gridcolor\":\"white\",\"linecolor\":\"white\",\"showbackground\":true,\"ticks\":\"\",\"zerolinecolor\":\"white\",\"gridwidth\":2},\"zaxis\":{\"backgroundcolor\":\"#E5ECF6\",\"gridcolor\":\"white\",\"linecolor\":\"white\",\"showbackground\":true,\"ticks\":\"\",\"zerolinecolor\":\"white\",\"gridwidth\":2}},\"shapedefaults\":{\"line\":{\"color\":\"#2a3f5f\"}},\"annotationdefaults\":{\"arrowcolor\":\"#2a3f5f\",\"arrowhead\":0,\"arrowwidth\":1},\"geo\":{\"bgcolor\":\"white\",\"landcolor\":\"#E5ECF6\",\"subunitcolor\":\"white\",\"showland\":true,\"showlakes\":true,\"lakecolor\":\"white\"},\"title\":{\"x\":0.05},\"mapbox\":{\"style\":\"light\"}}},\"title\":{\"text\":\"Percentage of Hospitals by Facility Type\"}},                        {\"responsive\": true}                    ).then(function(){\n",
              "                            \n",
              "var gd = document.getElementById('5c43a2c3-d43c-4ca4-9234-01e8456605bf');\n",
              "var x = new MutationObserver(function (mutations, observer) {{\n",
              "        var display = window.getComputedStyle(gd).display;\n",
              "        if (!display || display === 'none') {{\n",
              "            console.log([gd, 'removed!']);\n",
              "            Plotly.purge(gd);\n",
              "            observer.disconnect();\n",
              "        }}\n",
              "}});\n",
              "\n",
              "// Listen for the removal of the full notebook cells\n",
              "var notebookContainer = gd.closest('#notebook-container');\n",
              "if (notebookContainer) {{\n",
              "    x.observe(notebookContainer, {childList: true});\n",
              "}}\n",
              "\n",
              "// Listen for the clearing of the current output cell\n",
              "var outputEl = gd.closest('.output');\n",
              "if (outputEl) {{\n",
              "    x.observe(outputEl, {childList: true});\n",
              "}}\n",
              "\n",
              "                        })                };                            </script>        </div>\n",
              "</body>\n",
              "</html>"
            ]
          },
          "metadata": {}
        },
        {
          "output_type": "stream",
          "name": "stdout",
          "text": [
            "Private        1713\n",
            "Government      672\n",
            "Proprietary     627\n",
            "Unknown         404\n",
            "Church          299\n",
            "Name: Facility.Type, dtype: int64\n"
          ]
        }
      ]
    },
    {
      "cell_type": "code",
      "source": [
        "#choropleth maps of cost of care by state\n",
        "#source= https://plotly.com/python/choropleth-maps/ \n",
        "\n",
        "fig = go.Figure(data=go.Choropleth(\n",
        "    locations=df['Facility.State'],\n",
        "    z = df['Mean.HAC.State'].astype(float),\n",
        "    locationmode = 'USA-states',\n",
        "    colorscale = 'Reds',\n",
        "    colorbar_title = \"Heart Attack Care in Dollars\",\n",
        "))\n",
        "\n",
        "fig2 = go.Figure(data=go.Choropleth(\n",
        "    locations=df['Facility.State'],\n",
        "    z = df['Mean.HFC.State'].astype(float),\n",
        "    locationmode = 'USA-states',\n",
        "    colorscale = 'Blues',\n",
        "    colorbar_title = \"Heart Failure Care in Dollars\",\n",
        "))\n",
        "\n",
        "fig3 = go.Figure(data=go.Choropleth(\n",
        "    locations=df['Facility.State'],\n",
        "    z = df['Mean.Pne.State'].astype(float),\n",
        "    locationmode = 'USA-states',\n",
        "    colorscale = 'Reds',\n",
        "    colorbar_title = \"Pneumonia Care in Dollars\",\n",
        "))\n",
        "\n",
        "fig4 = go.Figure(data=go.Choropleth(\n",
        "    locations=df['Facility.State'],\n",
        "    z = df['Mean.HK.State'].astype(float),\n",
        "    locationmode = 'USA-states',\n",
        "    colorscale = 'Blues',\n",
        "    colorbar_title = \"Hip and Knee Care in Dollars\",\n",
        "))\n",
        "\n",
        "fig.update_layout(\n",
        "    title_text = 'Average Cost of Heart Attack Care by State',\n",
        "    geo_scope='usa',\n",
        ")\n",
        "\n",
        "fig2.update_layout(\n",
        "    title_text = 'Average Cost of Heart Failure Care by State',\n",
        "    geo_scope='usa',\n",
        ")\n",
        "\n",
        "fig3.update_layout(\n",
        "    title_text = 'Average Cost of Pneumonia Care by State',\n",
        "    geo_scope='usa',\n",
        ")\n",
        "\n",
        "fig4.update_layout(\n",
        "    title_text = 'Average Cost of Hip and Knee Care by State',\n",
        "    geo_scope='usa',\n",
        ")\n",
        "\n",
        "fig.show()\n",
        "fig2.show()\n",
        "fig3.show()\n",
        "fig4.show()"
      ],
      "metadata": {
        "colab": {
          "base_uri": "https://localhost:8080/",
          "height": 1000
        },
        "id": "onvXEHCYLFZM",
        "outputId": "2e7e04cd-6a2c-4e55-dbfb-bfbb12085f39"
      },
      "execution_count": 179,
      "outputs": [
        {
          "output_type": "display_data",
          "data": {
            "text/html": [
              "<html>\n",
              "<head><meta charset=\"utf-8\" /></head>\n",
              "<body>\n",
              "    <div>            <script src=\"https://cdnjs.cloudflare.com/ajax/libs/mathjax/2.7.5/MathJax.js?config=TeX-AMS-MML_SVG\"></script><script type=\"text/javascript\">if (window.MathJax && window.MathJax.Hub && window.MathJax.Hub.Config) {window.MathJax.Hub.Config({SVG: {font: \"STIX-Web\"}});}</script>                <script type=\"text/javascript\">window.PlotlyConfig = {MathJaxConfig: 'local'};</script>\n",
              "        <script src=\"https://cdn.plot.ly/plotly-2.12.1.min.js\"></script>                <div id=\"c322bfab-12af-49ab-a2b3-6ca640c62ed4\" class=\"plotly-graph-div\" style=\"height:525px; width:100%;\"></div>            <script type=\"text/javascript\">                                    window.PLOTLYENV=window.PLOTLYENV || {};                                    if (document.getElementById(\"c322bfab-12af-49ab-a2b3-6ca640c62ed4\")) {                    Plotly.newPlot(                        \"c322bfab-12af-49ab-a2b3-6ca640c62ed4\",                        [{\"colorbar\":{\"title\":{\"text\":\"Heart Attack Care in Dollars\"}},\"colorscale\":[[0.0,\"rgb(255,245,240)\"],[0.125,\"rgb(254,224,210)\"],[0.25,\"rgb(252,187,161)\"],[0.375,\"rgb(252,146,114)\"],[0.5,\"rgb(251,106,74)\"],[0.625,\"rgb(239,59,44)\"],[0.75,\"rgb(203,24,29)\"],[0.875,\"rgb(165,15,21)\"],[1.0,\"rgb(103,0,13)\"]],\"locationmode\":\"USA-states\",\"locations\":[\"AL\",\"AL\",\"AL\",\"AL\",\"AL\",\"AZ\",\"AZ\",\"AR\",\"AR\",\"AR\",\"AR\",\"AR\",\"AR\",\"AR\",\"AR\",\"CA\",\"CA\",\"CA\",\"CA\",\"CA\",\"CA\",\"CA\",\"CA\",\"CA\",\"CA\",\"CA\",\"CA\",\"CA\",\"CA\",\"CA\",\"CA\",\"CA\",\"CA\",\"CA\",\"CA\",\"CA\",\"CA\",\"CA\",\"CA\",\"CT\",\"CT\",\"CT\",\"CT\",\"CT\",\"CT\",\"DC\",\"DC\",\"DC\",\"DC\",\"DC\",\"FL\",\"FL\",\"FL\",\"FL\",\"FL\",\"FL\",\"FL\",\"FL\",\"FL\",\"FL\",\"FL\",\"FL\",\"FL\",\"FL\",\"FL\",\"FL\",\"FL\",\"FL\",\"FL\",\"FL\",\"FL\",\"FL\",\"FL\",\"FL\",\"FL\",\"FL\",\"FL\",\"FL\",\"FL\",\"FL\",\"FL\",\"FL\",\"GA\",\"GA\",\"GA\",\"GA\",\"GA\",\"GA\",\"GA\",\"GA\",\"GA\",\"GA\",\"GA\",\"GA\",\"IL\",\"IL\",\"IL\",\"IL\",\"IL\",\"IL\",\"IL\",\"IL\",\"IL\",\"IL\",\"IL\",\"IL\",\"IL\",\"IL\",\"IL\",\"IL\",\"IA\",\"KS\",\"KY\",\"KY\",\"KY\",\"KY\",\"KY\",\"KY\",\"LA\",\"LA\",\"MD\",\"MD\",\"MD\",\"MD\",\"MD\",\"MD\",\"MA\",\"MA\",\"MA\",\"MA\",\"MI\",\"MI\",\"MI\",\"MI\",\"MN\",\"MS\",\"MS\",\"MS\",\"MS\",\"MS\",\"MS\",\"MO\",\"MO\",\"MO\",\"MO\",\"MO\",\"MO\",\"MO\",\"NE\",\"NV\",\"NV\",\"NV\",\"NV\",\"NV\",\"NV\",\"NV\",\"NV\",\"NV\",\"NV\",\"NJ\",\"NJ\",\"NJ\",\"NJ\",\"NJ\",\"NJ\",\"NJ\",\"NJ\",\"NM\",\"NM\",\"NM\",\"NY\",\"NY\",\"NY\",\"NY\",\"NY\",\"NY\",\"NY\",\"NY\",\"NY\",\"NY\",\"NY\",\"NY\",\"NY\",\"NY\",\"NY\",\"NY\",\"NY\",\"NY\",\"NY\",\"NY\",\"NY\",\"NY\",\"NY\",\"NY\",\"NY\",\"NY\",\"NY\",\"NY\",\"NY\",\"NY\",\"NY\",\"NY\",\"NY\",\"NY\",\"NY\",\"NY\",\"NY\",\"NY\",\"NY\",\"NY\",\"NY\",\"NY\",\"NY\",\"NY\",\"NY\",\"NY\",\"NY\",\"NY\",\"NC\",\"NC\",\"NC\",\"NC\",\"NC\",\"NC\",\"NC\",\"ND\",\"ND\",\"OH\",\"OH\",\"OK\",\"OK\",\"OK\",\"OK\",\"OK\",\"PA\",\"PA\",\"PA\",\"PA\",\"PA\",\"PA\",\"PA\",\"PA\",\"PA\",\"PA\",\"PA\",\"PA\",\"PA\",\"PR\",\"PR\",\"PR\",\"SC\",\"SC\",\"SC\",\"TN\",\"TN\",\"TN\",\"TN\",\"TN\",\"TN\",\"TN\",\"TN\",\"TN\",\"TN\",\"TX\",\"TX\",\"TX\",\"TX\",\"TX\",\"TX\",\"TX\",\"TX\",\"TX\",\"TX\",\"VA\",\"VA\",\"VA\",\"WA\",\"WA\",\"WV\",\"WV\",\"WI\",\"AL\",\"AL\",\"AL\",\"AL\",\"AL\",\"AL\",\"AL\",\"AL\",\"AL\",\"AL\",\"AL\",\"AL\",\"AL\",\"AL\",\"AL\",\"AL\",\"AL\",\"AL\",\"AL\",\"AL\",\"AL\",\"AL\",\"AL\",\"AK\",\"AZ\",\"AZ\",\"AZ\",\"AZ\",\"AZ\",\"AZ\",\"AZ\",\"AZ\",\"AZ\",\"AZ\",\"AZ\",\"AZ\",\"AZ\",\"AZ\",\"AZ\",\"AZ\",\"AR\",\"AR\",\"AR\",\"AR\",\"AR\",\"AR\",\"AR\",\"AR\",\"AR\",\"AR\",\"AR\",\"AR\",\"AR\",\"AR\",\"AR\",\"AR\",\"AR\",\"AR\",\"AR\",\"AR\",\"CA\",\"CA\",\"CA\",\"CA\",\"CA\",\"CA\",\"CA\",\"CA\",\"CA\",\"CA\",\"CA\",\"CA\",\"CA\",\"CA\",\"CA\",\"CA\",\"CA\",\"CA\",\"CA\",\"CA\",\"CA\",\"CA\",\"CA\",\"CA\",\"CA\",\"CA\",\"CA\",\"CA\",\"CA\",\"CA\",\"CA\",\"CA\",\"CA\",\"CA\",\"CA\",\"CA\",\"CA\",\"CA\",\"CA\",\"CA\",\"CA\",\"CA\",\"CA\",\"CA\",\"CA\",\"CA\",\"CA\",\"CA\",\"CA\",\"CA\",\"CA\",\"CA\",\"CA\",\"CA\",\"CA\",\"CA\",\"CA\",\"CA\",\"CA\",\"CA\",\"CA\",\"CA\",\"CA\",\"CA\",\"CA\",\"CA\",\"CA\",\"CA\",\"CA\",\"CA\",\"CA\",\"CA\",\"CA\",\"CA\",\"CA\",\"CA\",\"CA\",\"CA\",\"CA\",\"CA\",\"CA\",\"CA\",\"CA\",\"CA\",\"CA\",\"CA\",\"CA\",\"CA\",\"CA\",\"CA\",\"CA\",\"CA\",\"CA\",\"CA\",\"CA\",\"CA\",\"CO\",\"CO\",\"CO\",\"CT\",\"CT\",\"CT\",\"CT\",\"DE\",\"DE\",\"DC\",\"FL\",\"FL\",\"FL\",\"FL\",\"FL\",\"FL\",\"FL\",\"FL\",\"FL\",\"FL\",\"FL\",\"FL\",\"FL\",\"FL\",\"FL\",\"FL\",\"FL\",\"FL\",\"FL\",\"FL\",\"FL\",\"FL\",\"FL\",\"FL\",\"FL\",\"FL\",\"FL\",\"FL\",\"FL\",\"FL\",\"FL\",\"FL\",\"FL\",\"FL\",\"FL\",\"FL\",\"FL\",\"FL\",\"FL\",\"FL\",\"FL\",\"FL\",\"FL\",\"FL\",\"FL\",\"FL\",\"FL\",\"FL\",\"FL\",\"FL\",\"FL\",\"FL\",\"FL\",\"FL\",\"FL\",\"FL\",\"FL\",\"FL\",\"FL\",\"FL\",\"GA\",\"GA\",\"GA\",\"GA\",\"GA\",\"GA\",\"GA\",\"GA\",\"GA\",\"GA\",\"GA\",\"GA\",\"GA\",\"GA\",\"GA\",\"GA\",\"GA\",\"GA\",\"GA\",\"GA\",\"GA\",\"GA\",\"GA\",\"HI\",\"ID\",\"ID\",\"ID\",\"IL\",\"IL\",\"IL\",\"IL\",\"IL\",\"IL\",\"IL\",\"IL\",\"IL\",\"IL\",\"IL\",\"IL\",\"IL\",\"IL\",\"IL\",\"IL\",\"IL\",\"IL\",\"IL\",\"IL\",\"IL\",\"IL\",\"IL\",\"IL\",\"IL\",\"IL\",\"IL\",\"IL\",\"IL\",\"IL\",\"IL\",\"IN\",\"IN\",\"IN\",\"IN\",\"IN\",\"IN\",\"IN\",\"IN\",\"IN\",\"IN\",\"IA\",\"IA\",\"IA\",\"IA\",\"IA\",\"IA\",\"IA\",\"IA\",\"IA\",\"IA\",\"IA\",\"KS\",\"KS\",\"KS\",\"KS\",\"KS\",\"KS\",\"KS\",\"KS\",\"KS\",\"KS\",\"KY\",\"KY\",\"KY\",\"KY\",\"KY\",\"KY\",\"KY\",\"KY\",\"KY\",\"KY\",\"KY\",\"KY\",\"KY\",\"KY\",\"KY\",\"KY\",\"KY\",\"KY\",\"KY\",\"KY\",\"KY\",\"KY\",\"LA\",\"LA\",\"LA\",\"LA\",\"LA\",\"LA\",\"LA\",\"LA\",\"LA\",\"LA\",\"LA\",\"LA\",\"LA\",\"LA\",\"LA\",\"LA\",\"LA\",\"LA\",\"LA\",\"LA\",\"LA\",\"ME\",\"ME\",\"ME\",\"ME\",\"ME\",\"MD\",\"MD\",\"MD\",\"MD\",\"MD\",\"MD\",\"MA\",\"MA\",\"MA\",\"MA\",\"MA\",\"MA\",\"MA\",\"MA\",\"MA\",\"MA\",\"MA\",\"MA\",\"MA\",\"MA\",\"MA\",\"MI\",\"MI\",\"MI\",\"MI\",\"MI\",\"MI\",\"MI\",\"MI\",\"MI\",\"MI\",\"MI\",\"MI\",\"MI\",\"MN\",\"MN\",\"MN\",\"MN\",\"MN\",\"MS\",\"MS\",\"MS\",\"MS\",\"MS\",\"MS\",\"MS\",\"MS\",\"MS\",\"MS\",\"MS\",\"MS\",\"MS\",\"MS\",\"MS\",\"MS\",\"MS\",\"MS\",\"MS\",\"MS\",\"MS\",\"MS\",\"MS\",\"MS\",\"MS\",\"MO\",\"MO\",\"MO\",\"MO\",\"MO\",\"MO\",\"MO\",\"MO\",\"MO\",\"MO\",\"MO\",\"MO\",\"MO\",\"MO\",\"MO\",\"MO\",\"MO\",\"MT\",\"MT\",\"NE\",\"NE\",\"NE\",\"NV\",\"NV\",\"NV\",\"NV\",\"NV\",\"NV\",\"NH\",\"NH\",\"NH\",\"NH\",\"NJ\",\"NJ\",\"NJ\",\"NJ\",\"NJ\",\"NJ\",\"NJ\",\"NJ\",\"NJ\",\"NJ\",\"NJ\",\"NJ\",\"NJ\",\"NJ\",\"NJ\",\"NJ\",\"NJ\",\"NJ\",\"NJ\",\"NJ\",\"NJ\",\"NJ\",\"NJ\",\"NJ\",\"NJ\",\"NJ\",\"NM\",\"NM\",\"NM\",\"NM\",\"NM\",\"NM\",\"NM\",\"NM\",\"NY\",\"NY\",\"NY\",\"NY\",\"NY\",\"NY\",\"NY\",\"NY\",\"NY\",\"NY\",\"NY\",\"NY\",\"NY\",\"NY\",\"NY\",\"NY\",\"NY\",\"NY\",\"NY\",\"NY\",\"NY\",\"NY\",\"NY\",\"NY\",\"NY\",\"NY\",\"NY\",\"NY\",\"NY\",\"NY\",\"NY\",\"NY\",\"NY\",\"NY\",\"NY\",\"NY\",\"NY\",\"NY\",\"NY\",\"NY\",\"NY\",\"NY\",\"NY\",\"NY\",\"NY\",\"NC\",\"NC\",\"NC\",\"NC\",\"NC\",\"NC\",\"NC\",\"NC\",\"NC\",\"NC\",\"NC\",\"NC\",\"NC\",\"NC\",\"NC\",\"NC\",\"NC\",\"NC\",\"ND\",\"ND\",\"OH\",\"OH\",\"OH\",\"OH\",\"OH\",\"OH\",\"OH\",\"OH\",\"OH\",\"OH\",\"OH\",\"OH\",\"OH\",\"OH\",\"OH\",\"OH\",\"OH\",\"OH\",\"OH\",\"OH\",\"OH\",\"OH\",\"OK\",\"OK\",\"OK\",\"OK\",\"OK\",\"OK\",\"OK\",\"OK\",\"OK\",\"OK\",\"OK\",\"OK\",\"OK\",\"OK\",\"OK\",\"OK\",\"OK\",\"OK\",\"OK\",\"OR\",\"OR\",\"OR\",\"OR\",\"PA\",\"PA\",\"PA\",\"PA\",\"PA\",\"PA\",\"PA\",\"PA\",\"PA\",\"PA\",\"PA\",\"PA\",\"PA\",\"PA\",\"PA\",\"PA\",\"PA\",\"PA\",\"PA\",\"PA\",\"PA\",\"PA\",\"PA\",\"PA\",\"PA\",\"PA\",\"PA\",\"PA\",\"PA\",\"PA\",\"PA\",\"PA\",\"PA\",\"PA\",\"PA\",\"PA\",\"PA\",\"PR\",\"PR\",\"PR\",\"RI\",\"RI\",\"RI\",\"SC\",\"SC\",\"SC\",\"SC\",\"SC\",\"SC\",\"SC\",\"SC\",\"SC\",\"SC\",\"SC\",\"SC\",\"SC\",\"SC\",\"SC\",\"SD\",\"TN\",\"TN\",\"TN\",\"TN\",\"TN\",\"TN\",\"TN\",\"TN\",\"TN\",\"TN\",\"TN\",\"TN\",\"TN\",\"TN\",\"TN\",\"TN\",\"TN\",\"TN\",\"TN\",\"TN\",\"TN\",\"TN\",\"TN\",\"TN\",\"TN\",\"TN\",\"TN\",\"TX\",\"TX\",\"TX\",\"TX\",\"TX\",\"TX\",\"TX\",\"TX\",\"TX\",\"TX\",\"TX\",\"TX\",\"TX\",\"TX\",\"TX\",\"TX\",\"TX\",\"TX\",\"TX\",\"TX\",\"TX\",\"TX\",\"TX\",\"TX\",\"TX\",\"TX\",\"TX\",\"TX\",\"TX\",\"TX\",\"TX\",\"TX\",\"TX\",\"TX\",\"TX\",\"TX\",\"TX\",\"TX\",\"TX\",\"TX\",\"TX\",\"TX\",\"TX\",\"TX\",\"TX\",\"TX\",\"TX\",\"TX\",\"TX\",\"TX\",\"TX\",\"UT\",\"UT\",\"VT\",\"VI\",\"VA\",\"VA\",\"VA\",\"VA\",\"VA\",\"VA\",\"VA\",\"VA\",\"VA\",\"VA\",\"VA\",\"VA\",\"VA\",\"VA\",\"VA\",\"VA\",\"VA\",\"WA\",\"WA\",\"WA\",\"WA\",\"WA\",\"WA\",\"WA\",\"WA\",\"WA\",\"WA\",\"WA\",\"WA\",\"WA\",\"WA\",\"WA\",\"WA\",\"WA\",\"WV\",\"WV\",\"WV\",\"WV\",\"WV\",\"WV\",\"WV\",\"WV\",\"WV\",\"WV\",\"WI\",\"WI\",\"WI\",\"WI\",\"WI\",\"WY\",\"WY\",\"TX\",\"TX\",\"AL\",\"AL\",\"AL\",\"AL\",\"AL\",\"AL\",\"AL\",\"AL\",\"AL\",\"AL\",\"AL\",\"AL\",\"AL\",\"AL\",\"AL\",\"AL\",\"AL\",\"AL\",\"AL\",\"AL\",\"AL\",\"AL\",\"AL\",\"AL\",\"AL\",\"AL\",\"AL\",\"AL\",\"AL\",\"AL\",\"AL\",\"AK\",\"AK\",\"AK\",\"AZ\",\"AZ\",\"AZ\",\"AZ\",\"AZ\",\"AZ\",\"AZ\",\"AZ\",\"AZ\",\"AZ\",\"AZ\",\"AZ\",\"AZ\",\"AZ\",\"AZ\",\"AZ\",\"AZ\",\"AZ\",\"AZ\",\"AR\",\"AR\",\"AR\",\"AR\",\"AR\",\"AR\",\"AR\",\"AR\",\"AR\",\"AR\",\"AR\",\"AR\",\"AR\",\"AR\",\"AR\",\"AR\",\"AR\",\"AR\",\"AR\",\"AR\",\"AR\",\"AR\",\"AR\",\"CA\",\"CA\",\"CA\",\"CA\",\"CA\",\"CA\",\"CA\",\"CA\",\"CA\",\"CA\",\"CA\",\"CA\",\"CA\",\"CA\",\"CA\",\"CA\",\"CA\",\"CA\",\"CA\",\"CA\",\"CA\",\"CA\",\"CA\",\"CA\",\"CA\",\"CA\",\"CA\",\"CA\",\"CA\",\"CA\",\"CA\",\"CA\",\"CA\",\"CA\",\"CA\",\"CA\",\"CA\",\"CA\",\"CA\",\"CA\",\"CA\",\"CA\",\"CA\",\"CA\",\"CA\",\"CA\",\"CA\",\"CA\",\"CA\",\"CA\",\"CA\",\"CA\",\"CA\",\"CA\",\"CA\",\"CA\",\"CA\",\"CA\",\"CA\",\"CA\",\"CA\",\"CA\",\"CA\",\"CA\",\"CA\",\"CA\",\"CA\",\"CA\",\"CA\",\"CA\",\"CA\",\"CA\",\"CA\",\"CA\",\"CA\",\"CA\",\"CA\",\"CA\",\"CA\",\"CA\",\"CA\",\"CA\",\"CA\",\"CA\",\"CA\",\"CA\",\"CA\",\"CA\",\"CA\",\"CA\",\"CA\",\"CA\",\"CA\",\"CO\",\"CO\",\"CO\",\"CO\",\"CO\",\"CO\",\"CO\",\"CO\",\"CO\",\"CO\",\"CO\",\"CO\",\"CO\",\"CO\",\"CO\",\"CO\",\"CO\",\"CO\",\"CO\",\"CO\",\"CO\",\"CO\",\"CO\",\"CT\",\"CT\",\"CT\",\"CT\",\"CT\",\"CT\",\"CT\",\"CT\",\"CT\",\"DE\",\"DE\",\"DE\",\"DC\",\"FL\",\"FL\",\"FL\",\"FL\",\"FL\",\"FL\",\"FL\",\"FL\",\"FL\",\"FL\",\"FL\",\"FL\",\"FL\",\"FL\",\"FL\",\"FL\",\"FL\",\"FL\",\"FL\",\"FL\",\"FL\",\"FL\",\"FL\",\"FL\",\"FL\",\"FL\",\"FL\",\"FL\",\"FL\",\"FL\",\"FL\",\"FL\",\"FL\",\"FL\",\"FL\",\"FL\",\"FL\",\"FL\",\"FL\",\"FL\",\"GA\",\"GA\",\"GA\",\"GA\",\"GA\",\"GA\",\"GA\",\"GA\",\"GA\",\"GA\",\"GA\",\"GA\",\"GA\",\"GA\",\"GA\",\"GA\",\"GA\",\"GA\",\"GA\",\"GA\",\"GA\",\"GA\",\"GA\",\"GA\",\"GA\",\"GA\",\"GA\",\"GA\",\"GA\",\"GA\",\"GA\",\"GA\",\"GA\",\"GA\",\"GA\",\"GA\",\"GA\",\"GA\",\"GA\",\"GA\",\"GA\",\"GA\",\"HI\",\"HI\",\"HI\",\"HI\",\"ID\",\"ID\",\"ID\",\"ID\",\"ID\",\"ID\",\"IL\",\"IL\",\"IL\",\"IL\",\"IL\",\"IL\",\"IL\",\"IL\",\"IL\",\"IL\",\"IL\",\"IL\",\"IL\",\"IL\",\"IL\",\"IL\",\"IL\",\"IL\",\"IL\",\"IL\",\"IL\",\"IL\",\"IL\",\"IL\",\"IL\",\"IL\",\"IL\",\"IL\",\"IL\",\"IL\",\"IL\",\"IL\",\"IL\",\"IL\",\"IL\",\"IL\",\"IL\",\"IL\",\"IL\",\"IL\",\"IL\",\"IL\",\"IL\",\"IL\",\"IL\",\"IL\",\"IL\",\"IL\",\"IL\",\"IL\",\"IL\",\"IL\",\"IL\",\"IL\",\"IL\",\"IN\",\"IN\",\"IN\",\"IN\",\"IN\",\"IN\",\"IN\",\"IN\",\"IN\",\"IN\",\"IN\",\"IN\",\"IN\",\"IN\",\"IN\",\"IN\",\"IN\",\"IN\",\"IN\",\"IN\",\"IN\",\"IN\",\"IN\",\"IN\",\"IN\",\"IN\",\"IN\",\"IN\",\"IN\",\"IN\",\"IN\",\"IN\",\"IN\",\"IN\",\"IN\",\"IN\",\"IA\",\"IA\",\"IA\",\"IA\",\"IA\",\"IA\",\"IA\",\"IA\",\"IA\",\"IA\",\"IA\",\"IA\",\"IA\",\"IA\",\"IA\",\"IA\",\"IA\",\"IA\",\"IA\",\"IA\",\"IA\",\"IA\",\"IA\",\"IA\",\"IA\",\"IA\",\"IA\",\"IA\",\"IA\",\"KS\",\"KS\",\"KS\",\"KS\",\"KS\",\"KS\",\"KS\",\"KS\",\"KS\",\"KS\",\"KS\",\"KS\",\"KS\",\"KS\",\"KS\",\"KS\",\"KS\",\"KS\",\"KS\",\"KS\",\"KS\",\"KS\",\"KS\",\"KS\",\"KS\",\"KS\",\"KS\",\"KS\",\"KS\",\"KS\",\"KY\",\"KY\",\"KY\",\"KY\",\"KY\",\"KY\",\"KY\",\"KY\",\"KY\",\"KY\",\"KY\",\"KY\",\"KY\",\"KY\",\"KY\",\"KY\",\"KY\",\"KY\",\"KY\",\"KY\",\"KY\",\"KY\",\"KY\",\"KY\",\"KY\",\"KY\",\"KY\",\"KY\",\"KY\",\"KY\",\"KY\",\"KY\",\"LA\",\"LA\",\"LA\",\"LA\",\"LA\",\"LA\",\"LA\",\"LA\",\"LA\",\"LA\",\"LA\",\"LA\",\"LA\",\"LA\",\"LA\",\"LA\",\"LA\",\"LA\",\"LA\",\"LA\",\"LA\",\"LA\",\"LA\",\"LA\",\"LA\",\"LA\",\"LA\",\"LA\",\"LA\",\"LA\",\"LA\",\"LA\",\"LA\",\"LA\",\"LA\",\"ME\",\"ME\",\"ME\",\"ME\",\"ME\",\"ME\",\"ME\",\"ME\",\"ME\",\"ME\",\"MD\",\"MD\",\"MD\",\"MD\",\"MD\",\"MD\",\"MD\",\"MD\",\"MD\",\"MD\",\"MD\",\"MD\",\"MD\",\"MD\",\"MD\",\"MD\",\"MD\",\"MD\",\"MD\",\"MA\",\"MA\",\"MA\",\"MA\",\"MA\",\"MA\",\"MA\",\"MA\",\"MA\",\"MA\",\"MA\",\"MA\",\"MA\",\"MA\",\"MA\",\"MA\",\"MA\",\"MA\",\"MA\",\"MI\",\"MI\",\"MI\",\"MI\",\"MI\",\"MI\",\"MI\",\"MI\",\"MI\",\"MI\",\"MI\",\"MI\",\"MI\",\"MI\",\"MI\",\"MI\",\"MI\",\"MI\",\"MI\",\"MI\",\"MI\",\"MI\",\"MI\",\"MI\",\"MI\",\"MI\",\"MI\",\"MI\",\"MI\",\"MI\",\"MI\",\"MI\",\"MI\",\"MI\",\"MI\",\"MI\",\"MI\",\"MN\",\"MN\",\"MN\",\"MN\",\"MN\",\"MN\",\"MN\",\"MN\",\"MN\",\"MN\",\"MN\",\"MN\",\"MN\",\"MN\",\"MN\",\"MN\",\"MN\",\"MN\",\"MN\",\"MS\",\"MS\",\"MS\",\"MS\",\"MS\",\"MS\",\"MS\",\"MS\",\"MS\",\"MS\",\"MS\",\"MS\",\"MS\",\"MS\",\"MS\",\"MS\",\"MS\",\"MS\",\"MS\",\"MS\",\"MS\",\"MS\",\"MS\",\"MS\",\"MS\",\"MS\",\"MO\",\"MO\",\"MO\",\"MO\",\"MO\",\"MO\",\"MO\",\"MO\",\"MO\",\"MO\",\"MO\",\"MO\",\"MO\",\"MO\",\"MO\",\"MO\",\"MO\",\"MO\",\"MO\",\"MO\",\"MO\",\"MO\",\"MO\",\"MO\",\"MO\",\"MO\",\"MO\",\"MO\",\"MO\",\"MO\",\"MO\",\"MO\",\"MO\",\"MO\",\"MO\",\"MO\",\"MT\",\"MT\",\"MT\",\"MT\",\"MT\",\"MT\",\"MT\",\"MT\",\"NE\",\"NE\",\"NE\",\"NE\",\"NE\",\"NE\",\"NE\",\"NE\",\"NE\",\"NE\",\"NE\",\"NE\",\"NE\",\"NE\",\"NE\",\"NE\",\"NE\",\"NE\",\"NE\",\"NE\",\"NE\",\"NE\",\"NE\",\"NE\",\"NE\",\"NE\",\"NV\",\"NV\",\"NV\",\"NV\",\"NV\",\"NV\",\"NV\",\"NH\",\"NH\",\"NH\",\"NH\",\"NH\",\"NH\",\"NH\",\"NH\",\"NH\",\"NJ\",\"NJ\",\"NJ\",\"NJ\",\"NJ\",\"NJ\",\"NJ\",\"NJ\",\"NJ\",\"NJ\",\"NJ\",\"NJ\",\"NJ\",\"NJ\",\"NM\",\"NM\",\"NM\",\"NM\",\"NM\",\"NM\",\"NM\",\"NM\",\"NM\",\"NM\",\"NM\",\"NM\",\"NM\",\"NY\",\"NY\",\"NY\",\"NY\",\"NY\",\"NY\",\"NY\",\"NY\",\"NY\",\"NY\",\"NY\",\"NY\",\"NY\",\"NY\",\"NY\",\"NY\",\"NY\",\"NY\",\"NY\",\"NY\",\"NY\",\"NY\",\"NY\",\"NY\",\"NY\",\"NY\",\"NY\",\"NY\",\"NY\",\"NY\",\"NY\",\"NY\",\"NY\",\"NY\",\"NY\",\"NY\",\"NY\",\"NY\",\"NY\",\"NY\",\"NC\",\"NC\",\"NC\",\"NC\",\"NC\",\"NC\",\"NC\",\"NC\",\"NC\",\"NC\",\"NC\",\"NC\",\"NC\",\"NC\",\"NC\",\"NC\",\"NC\",\"NC\",\"NC\",\"NC\",\"NC\",\"NC\",\"NC\",\"NC\",\"NC\",\"NC\",\"NC\",\"NC\",\"NC\",\"NC\",\"NC\",\"NC\",\"NC\",\"NC\",\"NC\",\"NC\",\"ND\",\"ND\",\"ND\",\"ND\",\"ND\",\"ND\",\"ND\",\"ND\",\"OH\",\"OH\",\"OH\",\"OH\",\"OH\",\"OH\",\"OH\",\"OH\",\"OH\",\"OH\",\"OH\",\"OH\",\"OH\",\"OH\",\"OH\",\"OH\",\"OH\",\"OH\",\"OH\",\"OH\",\"OH\",\"OH\",\"OH\",\"OH\",\"OH\",\"OH\",\"OH\",\"OH\",\"OH\",\"OH\",\"OH\",\"OH\",\"OH\",\"OH\",\"OH\",\"OH\",\"OH\",\"OH\",\"OH\",\"OH\",\"OH\",\"OH\",\"OH\",\"OH\",\"OH\",\"OH\",\"OH\",\"OH\",\"OH\",\"OH\",\"OK\",\"OK\",\"OK\",\"OK\",\"OK\",\"OK\",\"OK\",\"OK\",\"OK\",\"OK\",\"OK\",\"OK\",\"OK\",\"OK\",\"OK\",\"OK\",\"OK\",\"OK\",\"OK\",\"OK\",\"OK\",\"OK\",\"OK\",\"OK\",\"OK\",\"OK\",\"OK\",\"OK\",\"OR\",\"OR\",\"OR\",\"OR\",\"OR\",\"OR\",\"OR\",\"OR\",\"OR\",\"OR\",\"OR\",\"OR\",\"OR\",\"OR\",\"OR\",\"OR\",\"OR\",\"OR\",\"OR\",\"OR\",\"OR\",\"OR\",\"OR\",\"PA\",\"PA\",\"PA\",\"PA\",\"PA\",\"PA\",\"PA\",\"PA\",\"PA\",\"PA\",\"PA\",\"PA\",\"PA\",\"PA\",\"PA\",\"PA\",\"PA\",\"PA\",\"PA\",\"PA\",\"PA\",\"PA\",\"PA\",\"PA\",\"PA\",\"PA\",\"PA\",\"PA\",\"PA\",\"PA\",\"PA\",\"PA\",\"PA\",\"PA\",\"PA\",\"PA\",\"PA\",\"PA\",\"PA\",\"PA\",\"PA\",\"PA\",\"PA\",\"PA\",\"PA\",\"PA\",\"PA\",\"PA\",\"PA\",\"PA\",\"PA\",\"PA\",\"PA\",\"RI\",\"RI\",\"RI\",\"SC\",\"SC\",\"SC\",\"SC\",\"SC\",\"SC\",\"SC\",\"SC\",\"SC\",\"SC\",\"SC\",\"SC\",\"SC\",\"SC\",\"SC\",\"SC\",\"SC\",\"SD\",\"SD\",\"SD\",\"SD\",\"SD\",\"SD\",\"TN\",\"TN\",\"TN\",\"TN\",\"TN\",\"TN\",\"TN\",\"TN\",\"TN\",\"TN\",\"TN\",\"TN\",\"TN\",\"TN\",\"TN\",\"TN\",\"TN\",\"TN\",\"TN\",\"TN\",\"TN\",\"TN\",\"TN\",\"TN\",\"TN\",\"TN\",\"TN\",\"TN\",\"TN\",\"TN\",\"TN\",\"TN\",\"TX\",\"TX\",\"TX\",\"TX\",\"TX\",\"TX\",\"TX\",\"TX\",\"TX\",\"TX\",\"TX\",\"TX\",\"TX\",\"TX\",\"TX\",\"TX\",\"TX\",\"TX\",\"TX\",\"TX\",\"TX\",\"TX\",\"TX\",\"TX\",\"TX\",\"TX\",\"TX\",\"TX\",\"TX\",\"TX\",\"TX\",\"TX\",\"TX\",\"TX\",\"TX\",\"TX\",\"TX\",\"TX\",\"TX\",\"TX\",\"TX\",\"TX\",\"TX\",\"TX\",\"TX\",\"TX\",\"TX\",\"TX\",\"TX\",\"TX\",\"TX\",\"TX\",\"TX\",\"TX\",\"TX\",\"TX\",\"TX\",\"TX\",\"TX\",\"TX\",\"TX\",\"TX\",\"TX\",\"TX\",\"TX\",\"TX\",\"TX\",\"TX\",\"TX\",\"TX\",\"TX\",\"TX\",\"TX\",\"TX\",\"TX\",\"TX\",\"TX\",\"TX\",\"TX\",\"TX\",\"TX\",\"TX\",\"UT\",\"UT\",\"UT\",\"UT\",\"UT\",\"UT\",\"UT\",\"VT\",\"VT\",\"VT\",\"VT\",\"VT\",\"VT\",\"VI\",\"VA\",\"VA\",\"VA\",\"VA\",\"VA\",\"VA\",\"VA\",\"VA\",\"VA\",\"VA\",\"VA\",\"VA\",\"VA\",\"VA\",\"VA\",\"VA\",\"VA\",\"VA\",\"VA\",\"VA\",\"VA\",\"VA\",\"VA\",\"VA\",\"WA\",\"WA\",\"WA\",\"WA\",\"WA\",\"WA\",\"WA\",\"WA\",\"WA\",\"WA\",\"WA\",\"WA\",\"WA\",\"WA\",\"WA\",\"WA\",\"WA\",\"WA\",\"WA\",\"WA\",\"WA\",\"WA\",\"WA\",\"WA\",\"WV\",\"WV\",\"WV\",\"WV\",\"WV\",\"WV\",\"WV\",\"WV\",\"WV\",\"WV\",\"WV\",\"WV\",\"WV\",\"WV\",\"WV\",\"WV\",\"WV\",\"WV\",\"WI\",\"WI\",\"WI\",\"WI\",\"WI\",\"WI\",\"WI\",\"WI\",\"WI\",\"WI\",\"WI\",\"WI\",\"WI\",\"WI\",\"WI\",\"WI\",\"WI\",\"WI\",\"WI\",\"WI\",\"WI\",\"WY\",\"WY\",\"WY\",\"WY\",\"WY\",\"WY\",\"WY\",\"WY\",\"WY\",\"TX\",\"TX\",\"TX\",\"TX\",\"TX\",\"TX\",\"TX\",\"TX\",\"TX\",\"TX\",\"TX\",\"TX\",\"TX\",\"AL\",\"AL\",\"AL\",\"AL\",\"AL\",\"AL\",\"AL\",\"AL\",\"AL\",\"AL\",\"AL\",\"AL\",\"AL\",\"AL\",\"AL\",\"AK\",\"AK\",\"AK\",\"AK\",\"AZ\",\"AZ\",\"AZ\",\"AZ\",\"AZ\",\"AZ\",\"AZ\",\"AZ\",\"AZ\",\"AZ\",\"AZ\",\"AZ\",\"AZ\",\"AZ\",\"AR\",\"AR\",\"AR\",\"AR\",\"AR\",\"AR\",\"AR\",\"AR\",\"AR\",\"CA\",\"CA\",\"CA\",\"CA\",\"CA\",\"CA\",\"CA\",\"CA\",\"CA\",\"CA\",\"CA\",\"CA\",\"CA\",\"CA\",\"CA\",\"CA\",\"CA\",\"CA\",\"CA\",\"CA\",\"CA\",\"CA\",\"CA\",\"CA\",\"CA\",\"CA\",\"CA\",\"CA\",\"CA\",\"CA\",\"CA\",\"CA\",\"CA\",\"CA\",\"CA\",\"CA\",\"CA\",\"CA\",\"CA\",\"CA\",\"CA\",\"CA\",\"CA\",\"CA\",\"CA\",\"CA\",\"CA\",\"CA\",\"CA\",\"CA\",\"CA\",\"CA\",\"CA\",\"CA\",\"CA\",\"CA\",\"CA\",\"CA\",\"CA\",\"CA\",\"CA\",\"CA\",\"CO\",\"CO\",\"CO\",\"CO\",\"CO\",\"CO\",\"CO\",\"CO\",\"CO\",\"CO\",\"CO\",\"CO\",\"CO\",\"CO\",\"CO\",\"CO\",\"CO\",\"CO\",\"CO\",\"CO\",\"CO\",\"CO\",\"CO\",\"CO\",\"CO\",\"CT\",\"CT\",\"CT\",\"CT\",\"CT\",\"CT\",\"CT\",\"CT\",\"CT\",\"DE\",\"FL\",\"FL\",\"FL\",\"FL\",\"FL\",\"FL\",\"FL\",\"FL\",\"FL\",\"FL\",\"FL\",\"FL\",\"FL\",\"FL\",\"FL\",\"FL\",\"FL\",\"FL\",\"FL\",\"FL\",\"FL\",\"FL\",\"FL\",\"FL\",\"FL\",\"FL\",\"FL\",\"FL\",\"GA\",\"GA\",\"GA\",\"GA\",\"GA\",\"GA\",\"GA\",\"GA\",\"GA\",\"GA\",\"GA\",\"GA\",\"GA\",\"GA\",\"GA\",\"GA\",\"GA\",\"GA\",\"GA\",\"GA\",\"GA\",\"GA\",\"GA\",\"GA\",\"GA\",\"GA\",\"HI\",\"HI\",\"HI\",\"HI\",\"HI\",\"ID\",\"ID\",\"ID\",\"ID\",\"ID\",\"ID\",\"ID\",\"ID\",\"ID\",\"ID\",\"ID\",\"IL\",\"IL\",\"IL\",\"IL\",\"IL\",\"IL\",\"IL\",\"IL\",\"IL\",\"IL\",\"IL\",\"IL\",\"IL\",\"IL\",\"IL\",\"IL\",\"IL\",\"IL\",\"IL\",\"IL\",\"IL\",\"IL\",\"IL\",\"IL\",\"IL\",\"IL\",\"IL\",\"IL\",\"IL\",\"IL\",\"IL\",\"IL\",\"IL\",\"IL\",\"IL\",\"IL\",\"IL\",\"IL\",\"IL\",\"IL\",\"IL\",\"IL\",\"IL\",\"IL\",\"IL\",\"IL\",\"IL\",\"IL\",\"IL\",\"IN\",\"IN\",\"IN\",\"IN\",\"IN\",\"IN\",\"IN\",\"IN\",\"IN\",\"IN\",\"IN\",\"IN\",\"IN\",\"IN\",\"IN\",\"IN\",\"IN\",\"IN\",\"IN\",\"IN\",\"IN\",\"IN\",\"IN\",\"IN\",\"IN\",\"IN\",\"IN\",\"IN\",\"IN\",\"IN\",\"IN\",\"IN\",\"IN\",\"IN\",\"IN\",\"IN\",\"IN\",\"IN\",\"IN\",\"IN\",\"IN\",\"IN\",\"IN\",\"IN\",\"IN\",\"IN\",\"IN\",\"IN\",\"IN\",\"IN\",\"IN\",\"IA\",\"IA\",\"IA\",\"IA\",\"IA\",\"IA\",\"IA\",\"IA\",\"IA\",\"IA\",\"IA\",\"IA\",\"IA\",\"IA\",\"IA\",\"IA\",\"IA\",\"IA\",\"IA\",\"IA\",\"IA\",\"IA\",\"IA\",\"IA\",\"IA\",\"IA\",\"IA\",\"IA\",\"IA\",\"IA\",\"IA\",\"IA\",\"IA\",\"IA\",\"IA\",\"IA\",\"KS\",\"KS\",\"KS\",\"KS\",\"KS\",\"KS\",\"KS\",\"KS\",\"KS\",\"KS\",\"KS\",\"KS\",\"KS\",\"KS\",\"KS\",\"KS\",\"KS\",\"KS\",\"KS\",\"KS\",\"KS\",\"KY\",\"KY\",\"KY\",\"KY\",\"KY\",\"KY\",\"KY\",\"KY\",\"KY\",\"KY\",\"KY\",\"KY\",\"KY\",\"KY\",\"KY\",\"KY\",\"KY\",\"KY\",\"KY\",\"KY\",\"KY\",\"LA\",\"LA\",\"LA\",\"LA\",\"LA\",\"LA\",\"LA\",\"LA\",\"LA\",\"LA\",\"LA\",\"LA\",\"LA\",\"LA\",\"LA\",\"LA\",\"LA\",\"LA\",\"LA\",\"LA\",\"ME\",\"ME\",\"ME\",\"ME\",\"ME\",\"ME\",\"ME\",\"ME\",\"ME\",\"ME\",\"ME\",\"ME\",\"ME\",\"ME\",\"MD\",\"MD\",\"MD\",\"MD\",\"MD\",\"MD\",\"MD\",\"MD\",\"MD\",\"MA\",\"MA\",\"MA\",\"MA\",\"MA\",\"MA\",\"MA\",\"MA\",\"MA\",\"MA\",\"MA\",\"MI\",\"MI\",\"MI\",\"MI\",\"MI\",\"MI\",\"MI\",\"MI\",\"MI\",\"MI\",\"MI\",\"MI\",\"MI\",\"MI\",\"MI\",\"MI\",\"MI\",\"MI\",\"MI\",\"MI\",\"MI\",\"MI\",\"MI\",\"MI\",\"MI\",\"MI\",\"MI\",\"MI\",\"MI\",\"MI\",\"MI\",\"MI\",\"MI\",\"MI\",\"MI\",\"MI\",\"MI\",\"MI\",\"MI\",\"MI\",\"MI\",\"MI\",\"MI\",\"MI\",\"MI\",\"MI\",\"MI\",\"MI\",\"MI\",\"MI\",\"MI\",\"MN\",\"MN\",\"MN\",\"MN\",\"MN\",\"MN\",\"MN\",\"MN\",\"MN\",\"MN\",\"MN\",\"MN\",\"MN\",\"MN\",\"MN\",\"MN\",\"MN\",\"MN\",\"MN\",\"MN\",\"MN\",\"MN\",\"MN\",\"MN\",\"MN\",\"MN\",\"MN\",\"MN\",\"MN\",\"MN\",\"MN\",\"MN\",\"MN\",\"MN\",\"MN\",\"MN\",\"MN\",\"MN\",\"MN\",\"MN\",\"MN\",\"MN\",\"MN\",\"MS\",\"MS\",\"MS\",\"MS\",\"MS\",\"MS\",\"MS\",\"MO\",\"MO\",\"MO\",\"MO\",\"MO\",\"MO\",\"MO\",\"MO\",\"MO\",\"MO\",\"MO\",\"MO\",\"MO\",\"MO\",\"MO\",\"MO\",\"MO\",\"MO\",\"MO\",\"MO\",\"MO\",\"MO\",\"MO\",\"MT\",\"MT\",\"MT\",\"MT\",\"MT\",\"MT\",\"MT\",\"MT\",\"MT\",\"MT\",\"MT\",\"MT\",\"NE\",\"NE\",\"NE\",\"NE\",\"NE\",\"NE\",\"NE\",\"NE\",\"NE\",\"NE\",\"NE\",\"NE\",\"NE\",\"NE\",\"NE\",\"NE\",\"NE\",\"NE\",\"NE\",\"NE\",\"NE\",\"NE\",\"NE\",\"NE\",\"NE\",\"NV\",\"NV\",\"NV\",\"NV\",\"NH\",\"NH\",\"NH\",\"NH\",\"NH\",\"NH\",\"NH\",\"NH\",\"NH\",\"NH\",\"NJ\",\"NJ\",\"NJ\",\"NJ\",\"NJ\",\"NJ\",\"NJ\",\"NJ\",\"NJ\",\"NJ\",\"NM\",\"NM\",\"NM\",\"NM\",\"NM\",\"NM\",\"NY\",\"NY\",\"NY\",\"NY\",\"NY\",\"NY\",\"NY\",\"NY\",\"NY\",\"NY\",\"NY\",\"NY\",\"NY\",\"NY\",\"NY\",\"NY\",\"NC\",\"NC\",\"NC\",\"NC\",\"NC\",\"NC\",\"NC\",\"NC\",\"NC\",\"NC\",\"NC\",\"NC\",\"NC\",\"NC\",\"NC\",\"NC\",\"NC\",\"NC\",\"NC\",\"NC\",\"NC\",\"NC\",\"NC\",\"NC\",\"NC\",\"NC\",\"ND\",\"ND\",\"ND\",\"ND\",\"ND\",\"ND\",\"ND\",\"ND\",\"OH\",\"OH\",\"OH\",\"OH\",\"OH\",\"OH\",\"OH\",\"OH\",\"OH\",\"OH\",\"OH\",\"OH\",\"OH\",\"OH\",\"OH\",\"OH\",\"OH\",\"OH\",\"OH\",\"OH\",\"OH\",\"OH\",\"OH\",\"OH\",\"OH\",\"OH\",\"OH\",\"OH\",\"OH\",\"OH\",\"OH\",\"OH\",\"OH\",\"OH\",\"OH\",\"OH\",\"OH\",\"OH\",\"OH\",\"OH\",\"OH\",\"OH\",\"OH\",\"OH\",\"OH\",\"OH\",\"OH\",\"OH\",\"OH\",\"OH\",\"OH\",\"OH\",\"OK\",\"OK\",\"OK\",\"OK\",\"OK\",\"OK\",\"OK\",\"OK\",\"OK\",\"OK\",\"OK\",\"OK\",\"OK\",\"OK\",\"OK\",\"OK\",\"OK\",\"OK\",\"OK\",\"OK\",\"OK\",\"OK\",\"OK\",\"OK\",\"OR\",\"OR\",\"OR\",\"OR\",\"OR\",\"OR\",\"OR\",\"OR\",\"OR\",\"OR\",\"OR\",\"OR\",\"OR\",\"OR\",\"OR\",\"OR\",\"OR\",\"OR\",\"OR\",\"OR\",\"OR\",\"OR\",\"PA\",\"PA\",\"PA\",\"PA\",\"PA\",\"PA\",\"PA\",\"PA\",\"PA\",\"PA\",\"PA\",\"PA\",\"PA\",\"PA\",\"PA\",\"PA\",\"PA\",\"PA\",\"PA\",\"PA\",\"PA\",\"PA\",\"PA\",\"PA\",\"PA\",\"PA\",\"PA\",\"PA\",\"PA\",\"PA\",\"PA\",\"PA\",\"PA\",\"PA\",\"PA\",\"PA\",\"RI\",\"RI\",\"SC\",\"SC\",\"SC\",\"SC\",\"SC\",\"SC\",\"SC\",\"SC\",\"SC\",\"SC\",\"SC\",\"SC\",\"SC\",\"SC\",\"SC\",\"SD\",\"SD\",\"SD\",\"SD\",\"SD\",\"SD\",\"SD\",\"TN\",\"TN\",\"TN\",\"TN\",\"TN\",\"TN\",\"TN\",\"TN\",\"TN\",\"TN\",\"TN\",\"TN\",\"TN\",\"TN\",\"TN\",\"TN\",\"TN\",\"TN\",\"TN\",\"TN\",\"TN\",\"TX\",\"TX\",\"TX\",\"TX\",\"TX\",\"TX\",\"TX\",\"TX\",\"TX\",\"TX\",\"TX\",\"TX\",\"TX\",\"TX\",\"TX\",\"TX\",\"TX\",\"TX\",\"TX\",\"TX\",\"TX\",\"TX\",\"TX\",\"TX\",\"TX\",\"TX\",\"TX\",\"TX\",\"TX\",\"TX\",\"TX\",\"TX\",\"TX\",\"TX\",\"TX\",\"TX\",\"TX\",\"TX\",\"TX\",\"TX\",\"TX\",\"TX\",\"TX\",\"TX\",\"TX\",\"TX\",\"TX\",\"TX\",\"TX\",\"TX\",\"TX\",\"TX\",\"TX\",\"TX\",\"TX\",\"TX\",\"TX\",\"TX\",\"TX\",\"TX\",\"TX\",\"TX\",\"TX\",\"TX\",\"TX\",\"TX\",\"TX\",\"TX\",\"TX\",\"TX\",\"TX\",\"TX\",\"TX\",\"UT\",\"UT\",\"UT\",\"UT\",\"UT\",\"UT\",\"UT\",\"UT\",\"UT\",\"UT\",\"UT\",\"UT\",\"UT\",\"UT\",\"UT\",\"UT\",\"UT\",\"UT\",\"UT\",\"UT\",\"UT\",\"VT\",\"VT\",\"VT\",\"VT\",\"VT\",\"VA\",\"VA\",\"VA\",\"VA\",\"VA\",\"VA\",\"VA\",\"VA\",\"VA\",\"VA\",\"VA\",\"VA\",\"VA\",\"VA\",\"VA\",\"VA\",\"VA\",\"VA\",\"VA\",\"VA\",\"VA\",\"VA\",\"VA\",\"VA\",\"WA\",\"WA\",\"WA\",\"WA\",\"WA\",\"WA\",\"WA\",\"WA\",\"WA\",\"WA\",\"WA\",\"WA\",\"WA\",\"WA\",\"WA\",\"WA\",\"WA\",\"WA\",\"WA\",\"WV\",\"WV\",\"WV\",\"WV\",\"WV\",\"WV\",\"WV\",\"WV\",\"WI\",\"WI\",\"WI\",\"WI\",\"WI\",\"WI\",\"WI\",\"WI\",\"WI\",\"WI\",\"WI\",\"WI\",\"WI\",\"WI\",\"WI\",\"WI\",\"WI\",\"WI\",\"WI\",\"WI\",\"WI\",\"WI\",\"WI\",\"WI\",\"WI\",\"WI\",\"WI\",\"WI\",\"WI\",\"WI\",\"WI\",\"WI\",\"WI\",\"WI\",\"WI\",\"WI\",\"WI\",\"WI\",\"WI\",\"WI\",\"WI\",\"WI\",\"WI\",\"WI\",\"WI\",\"WI\",\"WI\",\"WI\",\"WI\",\"WI\",\"WI\",\"WI\",\"WI\",\"WI\",\"WI\",\"WI\",\"WI\",\"WI\",\"WI\",\"WY\",\"WY\",\"WY\",\"WY\",\"WY\",\"WY\",\"TX\",\"TX\",\"TX\",\"TX\",\"TX\",\"TX\",\"TX\",\"TX\",\"TX\",\"TX\",\"TX\",\"AL\",\"AL\",\"AL\",\"AL\",\"AL\",\"AK\",\"AK\",\"AZ\",\"AZ\",\"AZ\",\"AZ\",\"AR\",\"AR\",\"CA\",\"CA\",\"CA\",\"CA\",\"CA\",\"CA\",\"CA\",\"CA\",\"CA\",\"CA\",\"CA\",\"CA\",\"CA\",\"CA\",\"CA\",\"CA\",\"CA\",\"CA\",\"CA\",\"CA\",\"CA\",\"CO\",\"CO\",\"CO\",\"CO\",\"CO\",\"CO\",\"FL\",\"FL\",\"FL\",\"FL\",\"FL\",\"FL\",\"FL\",\"FL\",\"FL\",\"GA\",\"GA\",\"GA\",\"GA\",\"GA\",\"HI\",\"HI\",\"HI\",\"ID\",\"ID\",\"ID\",\"ID\",\"ID\",\"IL\",\"IL\",\"IL\",\"IL\",\"IL\",\"IL\",\"IL\",\"IL\",\"IL\",\"IL\",\"IL\",\"IL\",\"IN\",\"IN\",\"IN\",\"IN\",\"IN\",\"IN\",\"IN\",\"IN\",\"IN\",\"IN\",\"IN\",\"IN\",\"IN\",\"IA\",\"IA\",\"IA\",\"IA\",\"IA\",\"IA\",\"IA\",\"KS\",\"KS\",\"KS\",\"KS\",\"KS\",\"KS\",\"KS\",\"KS\",\"KY\",\"LA\",\"LA\",\"LA\",\"ME\",\"ME\",\"ME\",\"MD\",\"MD\",\"MD\",\"MD\",\"MD\",\"MA\",\"MA\",\"MA\",\"MA\",\"MA\",\"MA\",\"MA\",\"MI\",\"MI\",\"MI\",\"MI\",\"MI\",\"MI\",\"MI\",\"MI\",\"MI\",\"MI\",\"MI\",\"MN\",\"MN\",\"MN\",\"MN\",\"MN\",\"MN\",\"MN\",\"MN\",\"MS\",\"MO\",\"MO\",\"MO\",\"MO\",\"MO\",\"MO\",\"MT\",\"MT\",\"MT\",\"NE\",\"NE\",\"NH\",\"NH\",\"NH\",\"NJ\",\"NJ\",\"NJ\",\"NJ\",\"NJ\",\"NJ\",\"NY\",\"NC\",\"NC\",\"NC\",\"NC\",\"NC\",\"NC\",\"NC\",\"OH\",\"OH\",\"OH\",\"OH\",\"OH\",\"OH\",\"OH\",\"OH\",\"OH\",\"OH\",\"OH\",\"OH\",\"OH\",\"OH\",\"OH\",\"OH\",\"OH\",\"OH\",\"OH\",\"OH\",\"OK\",\"OK\",\"OK\",\"OK\",\"OK\",\"OK\",\"OK\",\"OK\",\"OK\",\"OR\",\"OR\",\"OR\",\"PA\",\"PA\",\"PA\",\"PA\",\"PA\",\"PA\",\"PA\",\"PA\",\"PA\",\"PA\",\"PA\",\"RI\",\"RI\",\"SC\",\"SC\",\"SC\",\"SC\",\"SC\",\"SD\",\"SD\",\"SD\",\"SD\",\"SD\",\"TN\",\"TX\",\"TX\",\"TX\",\"TX\",\"TX\",\"TX\",\"TX\",\"TX\",\"TX\",\"TX\",\"TX\",\"TX\",\"TX\",\"TX\",\"TX\",\"TX\",\"UT\",\"UT\",\"UT\",\"UT\",\"VA\",\"VA\",\"VA\",\"VA\",\"VA\",\"VA\",\"VA\",\"VA\",\"VA\",\"WA\",\"WA\",\"WA\",\"WA\",\"WA\",\"WA\",\"WV\",\"WI\",\"WI\",\"WI\",\"WI\",\"WI\",\"WI\",\"WI\",\"WI\",\"WI\",\"WI\",\"WI\",\"WI\",\"WI\",\"WI\",\"WI\",\"WI\",\"WI\",\"WI\",\"WI\",\"WI\",\"WI\",\"WI\",\"WY\",\"TX\",\"TX\",\"TX\",\"TX\",\"TX\",\"TX\",\"TX\",\"TX\"],\"z\":[11610.20253164557,11610.20253164557,11610.20253164557,11610.20253164557,11610.20253164557,19225.272727272728,19225.272727272728,9710.709677419354,9710.709677419354,9710.709677419354,9710.709677419354,9710.709677419354,9710.709677419354,9710.709677419354,9710.709677419354,16172.510135135135,16172.510135135135,16172.510135135135,16172.510135135135,16172.510135135135,16172.510135135135,16172.510135135135,16172.510135135135,16172.510135135135,16172.510135135135,16172.510135135135,16172.510135135135,16172.510135135135,16172.510135135135,16172.510135135135,16172.510135135135,16172.510135135135,16172.510135135135,16172.510135135135,16172.510135135135,16172.510135135135,16172.510135135135,16172.510135135135,16172.510135135135,21553.678571428572,21553.678571428572,21553.678571428572,21553.678571428572,21553.678571428572,21553.678571428572,23816.428571428572,23816.428571428572,23816.428571428572,23816.428571428572,23816.428571428572,21691.065088757397,21691.065088757397,21691.065088757397,21691.065088757397,21691.065088757397,21691.065088757397,21691.065088757397,21691.065088757397,21691.065088757397,21691.065088757397,21691.065088757397,21691.065088757397,21691.065088757397,21691.065088757397,21691.065088757397,21691.065088757397,21691.065088757397,21691.065088757397,21691.065088757397,21691.065088757397,21691.065088757397,21691.065088757397,21691.065088757397,21691.065088757397,21691.065088757397,21691.065088757397,21691.065088757397,21691.065088757397,21691.065088757397,21691.065088757397,21691.065088757397,21691.065088757397,13601.861111111111,13601.861111111111,13601.861111111111,13601.861111111111,13601.861111111111,13601.861111111111,13601.861111111111,13601.861111111111,13601.861111111111,13601.861111111111,13601.861111111111,13601.861111111111,15048.907975460123,15048.907975460123,15048.907975460123,15048.907975460123,15048.907975460123,15048.907975460123,15048.907975460123,15048.907975460123,15048.907975460123,15048.907975460123,15048.907975460123,15048.907975460123,15048.907975460123,15048.907975460123,15048.907975460123,15048.907975460123,6944.75,8184.1,12657.59756097561,12657.59756097561,12657.59756097561,12657.59756097561,12657.59756097561,12657.59756097561,11458.012345679012,11458.012345679012,21513.577777777777,21513.577777777777,21513.577777777777,21513.577777777777,21513.577777777777,21513.577777777777,21334.535714285714,21334.535714285714,21334.535714285714,21334.535714285714,13720.120689655172,13720.120689655172,13720.120689655172,13720.120689655172,6635.973684210527,8934.338461538462,8934.338461538462,8934.338461538462,8934.338461538462,8934.338461538462,8934.338461538462,13719.41573033708,13719.41573033708,13719.41573033708,13719.41573033708,13719.41573033708,13719.41573033708,13719.41573033708,8018.684210526316,17514.0,17514.0,17514.0,17514.0,17514.0,17514.0,17514.0,17514.0,17514.0,17514.0,25278.109375,25278.109375,25278.109375,25278.109375,25278.109375,25278.109375,25278.109375,25278.109375,9254.2,9254.2,9254.2,18786.366666666665,18786.366666666665,18786.366666666665,18786.366666666665,18786.366666666665,18786.366666666665,18786.366666666665,18786.366666666665,18786.366666666665,18786.366666666665,18786.366666666665,18786.366666666665,18786.366666666665,18786.366666666665,18786.366666666665,18786.366666666665,18786.366666666665,18786.366666666665,18786.366666666665,18786.366666666665,18786.366666666665,18786.366666666665,18786.366666666665,18786.366666666665,18786.366666666665,18786.366666666665,18786.366666666665,18786.366666666665,18786.366666666665,18786.366666666665,18786.366666666665,18786.366666666665,18786.366666666665,18786.366666666665,18786.366666666665,18786.366666666665,18786.366666666665,18786.366666666665,18786.366666666665,18786.366666666665,18786.366666666665,18786.366666666665,18786.366666666665,18786.366666666665,18786.366666666665,18786.366666666665,18786.366666666665,18786.366666666665,17598.81914893617,17598.81914893617,17598.81914893617,17598.81914893617,17598.81914893617,17598.81914893617,17598.81914893617,9304.1,9304.1,14425.609589041096,14425.609589041096,8960.164705882353,8960.164705882353,8960.164705882353,8960.164705882353,8960.164705882353,17518.746666666666,17518.746666666666,17518.746666666666,17518.746666666666,17518.746666666666,17518.746666666666,17518.746666666666,17518.746666666666,17518.746666666666,17518.746666666666,17518.746666666666,17518.746666666666,17518.746666666666,17034.833333333332,17034.833333333332,17034.833333333332,13818.927272727273,13818.927272727273,13818.927272727273,12326.89010989011,12326.89010989011,12326.89010989011,12326.89010989011,12326.89010989011,12326.89010989011,12326.89010989011,12326.89010989011,12326.89010989011,12326.89010989011,16034.142857142857,16034.142857142857,16034.142857142857,16034.142857142857,16034.142857142857,16034.142857142857,16034.142857142857,16034.142857142857,16034.142857142857,16034.142857142857,18986.66233766234,18986.66233766234,18986.66233766234,15031.85294117647,15031.85294117647,14540.358974358975,14540.358974358975,10571.481481481482,11610.20253164557,11610.20253164557,11610.20253164557,11610.20253164557,11610.20253164557,11610.20253164557,11610.20253164557,11610.20253164557,11610.20253164557,11610.20253164557,11610.20253164557,11610.20253164557,11610.20253164557,11610.20253164557,11610.20253164557,11610.20253164557,11610.20253164557,11610.20253164557,11610.20253164557,11610.20253164557,11610.20253164557,11610.20253164557,11610.20253164557,11596.5,19225.272727272728,19225.272727272728,19225.272727272728,19225.272727272728,19225.272727272728,19225.272727272728,19225.272727272728,19225.272727272728,19225.272727272728,19225.272727272728,19225.272727272728,19225.272727272728,19225.272727272728,19225.272727272728,19225.272727272728,19225.272727272728,9710.709677419354,9710.709677419354,9710.709677419354,9710.709677419354,9710.709677419354,9710.709677419354,9710.709677419354,9710.709677419354,9710.709677419354,9710.709677419354,9710.709677419354,9710.709677419354,9710.709677419354,9710.709677419354,9710.709677419354,9710.709677419354,9710.709677419354,9710.709677419354,9710.709677419354,9710.709677419354,16172.510135135135,16172.510135135135,16172.510135135135,16172.510135135135,16172.510135135135,16172.510135135135,16172.510135135135,16172.510135135135,16172.510135135135,16172.510135135135,16172.510135135135,16172.510135135135,16172.510135135135,16172.510135135135,16172.510135135135,16172.510135135135,16172.510135135135,16172.510135135135,16172.510135135135,16172.510135135135,16172.510135135135,16172.510135135135,16172.510135135135,16172.510135135135,16172.510135135135,16172.510135135135,16172.510135135135,16172.510135135135,16172.510135135135,16172.510135135135,16172.510135135135,16172.510135135135,16172.510135135135,16172.510135135135,16172.510135135135,16172.510135135135,16172.510135135135,16172.510135135135,16172.510135135135,16172.510135135135,16172.510135135135,16172.510135135135,16172.510135135135,16172.510135135135,16172.510135135135,16172.510135135135,16172.510135135135,16172.510135135135,16172.510135135135,16172.510135135135,16172.510135135135,16172.510135135135,16172.510135135135,16172.510135135135,16172.510135135135,16172.510135135135,16172.510135135135,16172.510135135135,16172.510135135135,16172.510135135135,16172.510135135135,16172.510135135135,16172.510135135135,16172.510135135135,16172.510135135135,16172.510135135135,16172.510135135135,16172.510135135135,16172.510135135135,16172.510135135135,16172.510135135135,16172.510135135135,16172.510135135135,16172.510135135135,16172.510135135135,16172.510135135135,16172.510135135135,16172.510135135135,16172.510135135135,16172.510135135135,16172.510135135135,16172.510135135135,16172.510135135135,16172.510135135135,16172.510135135135,16172.510135135135,16172.510135135135,16172.510135135135,16172.510135135135,16172.510135135135,16172.510135135135,16172.510135135135,16172.510135135135,16172.510135135135,16172.510135135135,16172.510135135135,13464.087719298246,13464.087719298246,13464.087719298246,21553.678571428572,21553.678571428572,21553.678571428572,21553.678571428572,25066.666666666668,25066.666666666668,23816.428571428572,21691.065088757397,21691.065088757397,21691.065088757397,21691.065088757397,21691.065088757397,21691.065088757397,21691.065088757397,21691.065088757397,21691.065088757397,21691.065088757397,21691.065088757397,21691.065088757397,21691.065088757397,21691.065088757397,21691.065088757397,21691.065088757397,21691.065088757397,21691.065088757397,21691.065088757397,21691.065088757397,21691.065088757397,21691.065088757397,21691.065088757397,21691.065088757397,21691.065088757397,21691.065088757397,21691.065088757397,21691.065088757397,21691.065088757397,21691.065088757397,21691.065088757397,21691.065088757397,21691.065088757397,21691.065088757397,21691.065088757397,21691.065088757397,21691.065088757397,21691.065088757397,21691.065088757397,21691.065088757397,21691.065088757397,21691.065088757397,21691.065088757397,21691.065088757397,21691.065088757397,21691.065088757397,21691.065088757397,21691.065088757397,21691.065088757397,21691.065088757397,21691.065088757397,21691.065088757397,21691.065088757397,21691.065088757397,21691.065088757397,21691.065088757397,21691.065088757397,21691.065088757397,21691.065088757397,21691.065088757397,13601.861111111111,13601.861111111111,13601.861111111111,13601.861111111111,13601.861111111111,13601.861111111111,13601.861111111111,13601.861111111111,13601.861111111111,13601.861111111111,13601.861111111111,13601.861111111111,13601.861111111111,13601.861111111111,13601.861111111111,13601.861111111111,13601.861111111111,13601.861111111111,13601.861111111111,13601.861111111111,13601.861111111111,13601.861111111111,13601.861111111111,15220.923076923076,8181.12,8181.12,8181.12,15048.907975460123,15048.907975460123,15048.907975460123,15048.907975460123,15048.907975460123,15048.907975460123,15048.907975460123,15048.907975460123,15048.907975460123,15048.907975460123,15048.907975460123,15048.907975460123,15048.907975460123,15048.907975460123,15048.907975460123,15048.907975460123,15048.907975460123,15048.907975460123,15048.907975460123,15048.907975460123,15048.907975460123,15048.907975460123,15048.907975460123,15048.907975460123,15048.907975460123,15048.907975460123,15048.907975460123,15048.907975460123,15048.907975460123,15048.907975460123,15048.907975460123,12750.318181818182,12750.318181818182,12750.318181818182,12750.318181818182,12750.318181818182,12750.318181818182,12750.318181818182,12750.318181818182,12750.318181818182,12750.318181818182,6944.75,6944.75,6944.75,6944.75,6944.75,6944.75,6944.75,6944.75,6944.75,6944.75,6944.75,8184.1,8184.1,8184.1,8184.1,8184.1,8184.1,8184.1,8184.1,8184.1,8184.1,12657.59756097561,12657.59756097561,12657.59756097561,12657.59756097561,12657.59756097561,12657.59756097561,12657.59756097561,12657.59756097561,12657.59756097561,12657.59756097561,12657.59756097561,12657.59756097561,12657.59756097561,12657.59756097561,12657.59756097561,12657.59756097561,12657.59756097561,12657.59756097561,12657.59756097561,12657.59756097561,12657.59756097561,12657.59756097561,11458.012345679012,11458.012345679012,11458.012345679012,11458.012345679012,11458.012345679012,11458.012345679012,11458.012345679012,11458.012345679012,11458.012345679012,11458.012345679012,11458.012345679012,11458.012345679012,11458.012345679012,11458.012345679012,11458.012345679012,11458.012345679012,11458.012345679012,11458.012345679012,11458.012345679012,11458.012345679012,11458.012345679012,17917.53125,17917.53125,17917.53125,17917.53125,17917.53125,21513.577777777777,21513.577777777777,21513.577777777777,21513.577777777777,21513.577777777777,21513.577777777777,21334.535714285714,21334.535714285714,21334.535714285714,21334.535714285714,21334.535714285714,21334.535714285714,21334.535714285714,21334.535714285714,21334.535714285714,21334.535714285714,21334.535714285714,21334.535714285714,21334.535714285714,21334.535714285714,21334.535714285714,13720.120689655172,13720.120689655172,13720.120689655172,13720.120689655172,13720.120689655172,13720.120689655172,13720.120689655172,13720.120689655172,13720.120689655172,13720.120689655172,13720.120689655172,13720.120689655172,13720.120689655172,6635.973684210527,6635.973684210527,6635.973684210527,6635.973684210527,6635.973684210527,8934.338461538462,8934.338461538462,8934.338461538462,8934.338461538462,8934.338461538462,8934.338461538462,8934.338461538462,8934.338461538462,8934.338461538462,8934.338461538462,8934.338461538462,8934.338461538462,8934.338461538462,8934.338461538462,8934.338461538462,8934.338461538462,8934.338461538462,8934.338461538462,8934.338461538462,8934.338461538462,8934.338461538462,8934.338461538462,8934.338461538462,8934.338461538462,8934.338461538462,13719.41573033708,13719.41573033708,13719.41573033708,13719.41573033708,13719.41573033708,13719.41573033708,13719.41573033708,13719.41573033708,13719.41573033708,13719.41573033708,13719.41573033708,13719.41573033708,13719.41573033708,13719.41573033708,13719.41573033708,13719.41573033708,13719.41573033708,8331.6,8331.6,8018.684210526316,8018.684210526316,8018.684210526316,17514.0,17514.0,17514.0,17514.0,17514.0,17514.0,15502.23076923077,15502.23076923077,15502.23076923077,15502.23076923077,25278.109375,25278.109375,25278.109375,25278.109375,25278.109375,25278.109375,25278.109375,25278.109375,25278.109375,25278.109375,25278.109375,25278.109375,25278.109375,25278.109375,25278.109375,25278.109375,25278.109375,25278.109375,25278.109375,25278.109375,25278.109375,25278.109375,25278.109375,25278.109375,25278.109375,25278.109375,9254.2,9254.2,9254.2,9254.2,9254.2,9254.2,9254.2,9254.2,18786.366666666665,18786.366666666665,18786.366666666665,18786.366666666665,18786.366666666665,18786.366666666665,18786.366666666665,18786.366666666665,18786.366666666665,18786.366666666665,18786.366666666665,18786.366666666665,18786.366666666665,18786.366666666665,18786.366666666665,18786.366666666665,18786.366666666665,18786.366666666665,18786.366666666665,18786.366666666665,18786.366666666665,18786.366666666665,18786.366666666665,18786.366666666665,18786.366666666665,18786.366666666665,18786.366666666665,18786.366666666665,18786.366666666665,18786.366666666665,18786.366666666665,18786.366666666665,18786.366666666665,18786.366666666665,18786.366666666665,18786.366666666665,18786.366666666665,18786.366666666665,18786.366666666665,18786.366666666665,18786.366666666665,18786.366666666665,18786.366666666665,18786.366666666665,18786.366666666665,17598.81914893617,17598.81914893617,17598.81914893617,17598.81914893617,17598.81914893617,17598.81914893617,17598.81914893617,17598.81914893617,17598.81914893617,17598.81914893617,17598.81914893617,17598.81914893617,17598.81914893617,17598.81914893617,17598.81914893617,17598.81914893617,17598.81914893617,17598.81914893617,9304.1,9304.1,14425.609589041096,14425.609589041096,14425.609589041096,14425.609589041096,14425.609589041096,14425.609589041096,14425.609589041096,14425.609589041096,14425.609589041096,14425.609589041096,14425.609589041096,14425.609589041096,14425.609589041096,14425.609589041096,14425.609589041096,14425.609589041096,14425.609589041096,14425.609589041096,14425.609589041096,14425.609589041096,14425.609589041096,14425.609589041096,8960.164705882353,8960.164705882353,8960.164705882353,8960.164705882353,8960.164705882353,8960.164705882353,8960.164705882353,8960.164705882353,8960.164705882353,8960.164705882353,8960.164705882353,8960.164705882353,8960.164705882353,8960.164705882353,8960.164705882353,8960.164705882353,8960.164705882353,8960.164705882353,8960.164705882353,10821.211538461539,10821.211538461539,10821.211538461539,10821.211538461539,17518.746666666666,17518.746666666666,17518.746666666666,17518.746666666666,17518.746666666666,17518.746666666666,17518.746666666666,17518.746666666666,17518.746666666666,17518.746666666666,17518.746666666666,17518.746666666666,17518.746666666666,17518.746666666666,17518.746666666666,17518.746666666666,17518.746666666666,17518.746666666666,17518.746666666666,17518.746666666666,17518.746666666666,17518.746666666666,17518.746666666666,17518.746666666666,17518.746666666666,17518.746666666666,17518.746666666666,17518.746666666666,17518.746666666666,17518.746666666666,17518.746666666666,17518.746666666666,17518.746666666666,17518.746666666666,17518.746666666666,17518.746666666666,17518.746666666666,17034.833333333332,17034.833333333332,17034.833333333332,20879.7,20879.7,20879.7,13818.927272727273,13818.927272727273,13818.927272727273,13818.927272727273,13818.927272727273,13818.927272727273,13818.927272727273,13818.927272727273,13818.927272727273,13818.927272727273,13818.927272727273,13818.927272727273,13818.927272727273,13818.927272727273,13818.927272727273,9886.263157894737,12326.89010989011,12326.89010989011,12326.89010989011,12326.89010989011,12326.89010989011,12326.89010989011,12326.89010989011,12326.89010989011,12326.89010989011,12326.89010989011,12326.89010989011,12326.89010989011,12326.89010989011,12326.89010989011,12326.89010989011,12326.89010989011,12326.89010989011,12326.89010989011,12326.89010989011,12326.89010989011,12326.89010989011,12326.89010989011,12326.89010989011,12326.89010989011,12326.89010989011,12326.89010989011,12326.89010989011,16034.142857142857,16034.142857142857,16034.142857142857,16034.142857142857,16034.142857142857,16034.142857142857,16034.142857142857,16034.142857142857,16034.142857142857,16034.142857142857,16034.142857142857,16034.142857142857,16034.142857142857,16034.142857142857,16034.142857142857,16034.142857142857,16034.142857142857,16034.142857142857,16034.142857142857,16034.142857142857,16034.142857142857,16034.142857142857,16034.142857142857,16034.142857142857,16034.142857142857,16034.142857142857,16034.142857142857,16034.142857142857,16034.142857142857,16034.142857142857,16034.142857142857,16034.142857142857,16034.142857142857,16034.142857142857,16034.142857142857,16034.142857142857,16034.142857142857,16034.142857142857,16034.142857142857,16034.142857142857,16034.142857142857,16034.142857142857,16034.142857142857,16034.142857142857,16034.142857142857,16034.142857142857,16034.142857142857,16034.142857142857,16034.142857142857,16034.142857142857,16034.142857142857,9963.823529411764,9963.823529411764,15377.75,19835.5,18986.66233766234,18986.66233766234,18986.66233766234,18986.66233766234,18986.66233766234,18986.66233766234,18986.66233766234,18986.66233766234,18986.66233766234,18986.66233766234,18986.66233766234,18986.66233766234,18986.66233766234,18986.66233766234,18986.66233766234,18986.66233766234,18986.66233766234,15031.85294117647,15031.85294117647,15031.85294117647,15031.85294117647,15031.85294117647,15031.85294117647,15031.85294117647,15031.85294117647,15031.85294117647,15031.85294117647,15031.85294117647,15031.85294117647,15031.85294117647,15031.85294117647,15031.85294117647,15031.85294117647,15031.85294117647,14540.358974358975,14540.358974358975,14540.358974358975,14540.358974358975,14540.358974358975,14540.358974358975,14540.358974358975,14540.358974358975,14540.358974358975,14540.358974358975,10571.481481481482,10571.481481481482,10571.481481481482,10571.481481481482,10571.481481481482,5208.611111111111,5208.611111111111,16034.142857142857,16034.142857142857,11610.20253164557,11610.20253164557,11610.20253164557,11610.20253164557,11610.20253164557,11610.20253164557,11610.20253164557,11610.20253164557,11610.20253164557,11610.20253164557,11610.20253164557,11610.20253164557,11610.20253164557,11610.20253164557,11610.20253164557,11610.20253164557,11610.20253164557,11610.20253164557,11610.20253164557,11610.20253164557,11610.20253164557,11610.20253164557,11610.20253164557,11610.20253164557,11610.20253164557,11610.20253164557,11610.20253164557,11610.20253164557,11610.20253164557,11610.20253164557,11610.20253164557,11596.5,11596.5,11596.5,19225.272727272728,19225.272727272728,19225.272727272728,19225.272727272728,19225.272727272728,19225.272727272728,19225.272727272728,19225.272727272728,19225.272727272728,19225.272727272728,19225.272727272728,19225.272727272728,19225.272727272728,19225.272727272728,19225.272727272728,19225.272727272728,19225.272727272728,19225.272727272728,19225.272727272728,9710.709677419354,9710.709677419354,9710.709677419354,9710.709677419354,9710.709677419354,9710.709677419354,9710.709677419354,9710.709677419354,9710.709677419354,9710.709677419354,9710.709677419354,9710.709677419354,9710.709677419354,9710.709677419354,9710.709677419354,9710.709677419354,9710.709677419354,9710.709677419354,9710.709677419354,9710.709677419354,9710.709677419354,9710.709677419354,9710.709677419354,16172.510135135135,16172.510135135135,16172.510135135135,16172.510135135135,16172.510135135135,16172.510135135135,16172.510135135135,16172.510135135135,16172.510135135135,16172.510135135135,16172.510135135135,16172.510135135135,16172.510135135135,16172.510135135135,16172.510135135135,16172.510135135135,16172.510135135135,16172.510135135135,16172.510135135135,16172.510135135135,16172.510135135135,16172.510135135135,16172.510135135135,16172.510135135135,16172.510135135135,16172.510135135135,16172.510135135135,16172.510135135135,16172.510135135135,16172.510135135135,16172.510135135135,16172.510135135135,16172.510135135135,16172.510135135135,16172.510135135135,16172.510135135135,16172.510135135135,16172.510135135135,16172.510135135135,16172.510135135135,16172.510135135135,16172.510135135135,16172.510135135135,16172.510135135135,16172.510135135135,16172.510135135135,16172.510135135135,16172.510135135135,16172.510135135135,16172.510135135135,16172.510135135135,16172.510135135135,16172.510135135135,16172.510135135135,16172.510135135135,16172.510135135135,16172.510135135135,16172.510135135135,16172.510135135135,16172.510135135135,16172.510135135135,16172.510135135135,16172.510135135135,16172.510135135135,16172.510135135135,16172.510135135135,16172.510135135135,16172.510135135135,16172.510135135135,16172.510135135135,16172.510135135135,16172.510135135135,16172.510135135135,16172.510135135135,16172.510135135135,16172.510135135135,16172.510135135135,16172.510135135135,16172.510135135135,16172.510135135135,16172.510135135135,16172.510135135135,16172.510135135135,16172.510135135135,16172.510135135135,16172.510135135135,16172.510135135135,16172.510135135135,16172.510135135135,16172.510135135135,16172.510135135135,16172.510135135135,16172.510135135135,13464.087719298246,13464.087719298246,13464.087719298246,13464.087719298246,13464.087719298246,13464.087719298246,13464.087719298246,13464.087719298246,13464.087719298246,13464.087719298246,13464.087719298246,13464.087719298246,13464.087719298246,13464.087719298246,13464.087719298246,13464.087719298246,13464.087719298246,13464.087719298246,13464.087719298246,13464.087719298246,13464.087719298246,13464.087719298246,13464.087719298246,21553.678571428572,21553.678571428572,21553.678571428572,21553.678571428572,21553.678571428572,21553.678571428572,21553.678571428572,21553.678571428572,21553.678571428572,25066.666666666668,25066.666666666668,25066.666666666668,23816.428571428572,21691.065088757397,21691.065088757397,21691.065088757397,21691.065088757397,21691.065088757397,21691.065088757397,21691.065088757397,21691.065088757397,21691.065088757397,21691.065088757397,21691.065088757397,21691.065088757397,21691.065088757397,21691.065088757397,21691.065088757397,21691.065088757397,21691.065088757397,21691.065088757397,21691.065088757397,21691.065088757397,21691.065088757397,21691.065088757397,21691.065088757397,21691.065088757397,21691.065088757397,21691.065088757397,21691.065088757397,21691.065088757397,21691.065088757397,21691.065088757397,21691.065088757397,21691.065088757397,21691.065088757397,21691.065088757397,21691.065088757397,21691.065088757397,21691.065088757397,21691.065088757397,21691.065088757397,21691.065088757397,13601.861111111111,13601.861111111111,13601.861111111111,13601.861111111111,13601.861111111111,13601.861111111111,13601.861111111111,13601.861111111111,13601.861111111111,13601.861111111111,13601.861111111111,13601.861111111111,13601.861111111111,13601.861111111111,13601.861111111111,13601.861111111111,13601.861111111111,13601.861111111111,13601.861111111111,13601.861111111111,13601.861111111111,13601.861111111111,13601.861111111111,13601.861111111111,13601.861111111111,13601.861111111111,13601.861111111111,13601.861111111111,13601.861111111111,13601.861111111111,13601.861111111111,13601.861111111111,13601.861111111111,13601.861111111111,13601.861111111111,13601.861111111111,13601.861111111111,13601.861111111111,13601.861111111111,13601.861111111111,13601.861111111111,13601.861111111111,15220.923076923076,15220.923076923076,15220.923076923076,15220.923076923076,8181.12,8181.12,8181.12,8181.12,8181.12,8181.12,15048.907975460123,15048.907975460123,15048.907975460123,15048.907975460123,15048.907975460123,15048.907975460123,15048.907975460123,15048.907975460123,15048.907975460123,15048.907975460123,15048.907975460123,15048.907975460123,15048.907975460123,15048.907975460123,15048.907975460123,15048.907975460123,15048.907975460123,15048.907975460123,15048.907975460123,15048.907975460123,15048.907975460123,15048.907975460123,15048.907975460123,15048.907975460123,15048.907975460123,15048.907975460123,15048.907975460123,15048.907975460123,15048.907975460123,15048.907975460123,15048.907975460123,15048.907975460123,15048.907975460123,15048.907975460123,15048.907975460123,15048.907975460123,15048.907975460123,15048.907975460123,15048.907975460123,15048.907975460123,15048.907975460123,15048.907975460123,15048.907975460123,15048.907975460123,15048.907975460123,15048.907975460123,15048.907975460123,15048.907975460123,15048.907975460123,15048.907975460123,15048.907975460123,15048.907975460123,15048.907975460123,15048.907975460123,15048.907975460123,12750.318181818182,12750.318181818182,12750.318181818182,12750.318181818182,12750.318181818182,12750.318181818182,12750.318181818182,12750.318181818182,12750.318181818182,12750.318181818182,12750.318181818182,12750.318181818182,12750.318181818182,12750.318181818182,12750.318181818182,12750.318181818182,12750.318181818182,12750.318181818182,12750.318181818182,12750.318181818182,12750.318181818182,12750.318181818182,12750.318181818182,12750.318181818182,12750.318181818182,12750.318181818182,12750.318181818182,12750.318181818182,12750.318181818182,12750.318181818182,12750.318181818182,12750.318181818182,12750.318181818182,12750.318181818182,12750.318181818182,12750.318181818182,6944.75,6944.75,6944.75,6944.75,6944.75,6944.75,6944.75,6944.75,6944.75,6944.75,6944.75,6944.75,6944.75,6944.75,6944.75,6944.75,6944.75,6944.75,6944.75,6944.75,6944.75,6944.75,6944.75,6944.75,6944.75,6944.75,6944.75,6944.75,6944.75,8184.1,8184.1,8184.1,8184.1,8184.1,8184.1,8184.1,8184.1,8184.1,8184.1,8184.1,8184.1,8184.1,8184.1,8184.1,8184.1,8184.1,8184.1,8184.1,8184.1,8184.1,8184.1,8184.1,8184.1,8184.1,8184.1,8184.1,8184.1,8184.1,8184.1,12657.59756097561,12657.59756097561,12657.59756097561,12657.59756097561,12657.59756097561,12657.59756097561,12657.59756097561,12657.59756097561,12657.59756097561,12657.59756097561,12657.59756097561,12657.59756097561,12657.59756097561,12657.59756097561,12657.59756097561,12657.59756097561,12657.59756097561,12657.59756097561,12657.59756097561,12657.59756097561,12657.59756097561,12657.59756097561,12657.59756097561,12657.59756097561,12657.59756097561,12657.59756097561,12657.59756097561,12657.59756097561,12657.59756097561,12657.59756097561,12657.59756097561,12657.59756097561,11458.012345679012,11458.012345679012,11458.012345679012,11458.012345679012,11458.012345679012,11458.012345679012,11458.012345679012,11458.012345679012,11458.012345679012,11458.012345679012,11458.012345679012,11458.012345679012,11458.012345679012,11458.012345679012,11458.012345679012,11458.012345679012,11458.012345679012,11458.012345679012,11458.012345679012,11458.012345679012,11458.012345679012,11458.012345679012,11458.012345679012,11458.012345679012,11458.012345679012,11458.012345679012,11458.012345679012,11458.012345679012,11458.012345679012,11458.012345679012,11458.012345679012,11458.012345679012,11458.012345679012,11458.012345679012,11458.012345679012,17917.53125,17917.53125,17917.53125,17917.53125,17917.53125,17917.53125,17917.53125,17917.53125,17917.53125,17917.53125,21513.577777777777,21513.577777777777,21513.577777777777,21513.577777777777,21513.577777777777,21513.577777777777,21513.577777777777,21513.577777777777,21513.577777777777,21513.577777777777,21513.577777777777,21513.577777777777,21513.577777777777,21513.577777777777,21513.577777777777,21513.577777777777,21513.577777777777,21513.577777777777,21513.577777777777,21334.535714285714,21334.535714285714,21334.535714285714,21334.535714285714,21334.535714285714,21334.535714285714,21334.535714285714,21334.535714285714,21334.535714285714,21334.535714285714,21334.535714285714,21334.535714285714,21334.535714285714,21334.535714285714,21334.535714285714,21334.535714285714,21334.535714285714,21334.535714285714,21334.535714285714,13720.120689655172,13720.120689655172,13720.120689655172,13720.120689655172,13720.120689655172,13720.120689655172,13720.120689655172,13720.120689655172,13720.120689655172,13720.120689655172,13720.120689655172,13720.120689655172,13720.120689655172,13720.120689655172,13720.120689655172,13720.120689655172,13720.120689655172,13720.120689655172,13720.120689655172,13720.120689655172,13720.120689655172,13720.120689655172,13720.120689655172,13720.120689655172,13720.120689655172,13720.120689655172,13720.120689655172,13720.120689655172,13720.120689655172,13720.120689655172,13720.120689655172,13720.120689655172,13720.120689655172,13720.120689655172,13720.120689655172,13720.120689655172,13720.120689655172,6635.973684210527,6635.973684210527,6635.973684210527,6635.973684210527,6635.973684210527,6635.973684210527,6635.973684210527,6635.973684210527,6635.973684210527,6635.973684210527,6635.973684210527,6635.973684210527,6635.973684210527,6635.973684210527,6635.973684210527,6635.973684210527,6635.973684210527,6635.973684210527,6635.973684210527,8934.338461538462,8934.338461538462,8934.338461538462,8934.338461538462,8934.338461538462,8934.338461538462,8934.338461538462,8934.338461538462,8934.338461538462,8934.338461538462,8934.338461538462,8934.338461538462,8934.338461538462,8934.338461538462,8934.338461538462,8934.338461538462,8934.338461538462,8934.338461538462,8934.338461538462,8934.338461538462,8934.338461538462,8934.338461538462,8934.338461538462,8934.338461538462,8934.338461538462,8934.338461538462,13719.41573033708,13719.41573033708,13719.41573033708,13719.41573033708,13719.41573033708,13719.41573033708,13719.41573033708,13719.41573033708,13719.41573033708,13719.41573033708,13719.41573033708,13719.41573033708,13719.41573033708,13719.41573033708,13719.41573033708,13719.41573033708,13719.41573033708,13719.41573033708,13719.41573033708,13719.41573033708,13719.41573033708,13719.41573033708,13719.41573033708,13719.41573033708,13719.41573033708,13719.41573033708,13719.41573033708,13719.41573033708,13719.41573033708,13719.41573033708,13719.41573033708,13719.41573033708,13719.41573033708,13719.41573033708,13719.41573033708,13719.41573033708,8331.6,8331.6,8331.6,8331.6,8331.6,8331.6,8331.6,8331.6,8018.684210526316,8018.684210526316,8018.684210526316,8018.684210526316,8018.684210526316,8018.684210526316,8018.684210526316,8018.684210526316,8018.684210526316,8018.684210526316,8018.684210526316,8018.684210526316,8018.684210526316,8018.684210526316,8018.684210526316,8018.684210526316,8018.684210526316,8018.684210526316,8018.684210526316,8018.684210526316,8018.684210526316,8018.684210526316,8018.684210526316,8018.684210526316,8018.684210526316,8018.684210526316,17514.0,17514.0,17514.0,17514.0,17514.0,17514.0,17514.0,15502.23076923077,15502.23076923077,15502.23076923077,15502.23076923077,15502.23076923077,15502.23076923077,15502.23076923077,15502.23076923077,15502.23076923077,25278.109375,25278.109375,25278.109375,25278.109375,25278.109375,25278.109375,25278.109375,25278.109375,25278.109375,25278.109375,25278.109375,25278.109375,25278.109375,25278.109375,9254.2,9254.2,9254.2,9254.2,9254.2,9254.2,9254.2,9254.2,9254.2,9254.2,9254.2,9254.2,9254.2,18786.366666666665,18786.366666666665,18786.366666666665,18786.366666666665,18786.366666666665,18786.366666666665,18786.366666666665,18786.366666666665,18786.366666666665,18786.366666666665,18786.366666666665,18786.366666666665,18786.366666666665,18786.366666666665,18786.366666666665,18786.366666666665,18786.366666666665,18786.366666666665,18786.366666666665,18786.366666666665,18786.366666666665,18786.366666666665,18786.366666666665,18786.366666666665,18786.366666666665,18786.366666666665,18786.366666666665,18786.366666666665,18786.366666666665,18786.366666666665,18786.366666666665,18786.366666666665,18786.366666666665,18786.366666666665,18786.366666666665,18786.366666666665,18786.366666666665,18786.366666666665,18786.366666666665,18786.366666666665,17598.81914893617,17598.81914893617,17598.81914893617,17598.81914893617,17598.81914893617,17598.81914893617,17598.81914893617,17598.81914893617,17598.81914893617,17598.81914893617,17598.81914893617,17598.81914893617,17598.81914893617,17598.81914893617,17598.81914893617,17598.81914893617,17598.81914893617,17598.81914893617,17598.81914893617,17598.81914893617,17598.81914893617,17598.81914893617,17598.81914893617,17598.81914893617,17598.81914893617,17598.81914893617,17598.81914893617,17598.81914893617,17598.81914893617,17598.81914893617,17598.81914893617,17598.81914893617,17598.81914893617,17598.81914893617,17598.81914893617,17598.81914893617,9304.1,9304.1,9304.1,9304.1,9304.1,9304.1,9304.1,9304.1,14425.609589041096,14425.609589041096,14425.609589041096,14425.609589041096,14425.609589041096,14425.609589041096,14425.609589041096,14425.609589041096,14425.609589041096,14425.609589041096,14425.609589041096,14425.609589041096,14425.609589041096,14425.609589041096,14425.609589041096,14425.609589041096,14425.609589041096,14425.609589041096,14425.609589041096,14425.609589041096,14425.609589041096,14425.609589041096,14425.609589041096,14425.609589041096,14425.609589041096,14425.609589041096,14425.609589041096,14425.609589041096,14425.609589041096,14425.609589041096,14425.609589041096,14425.609589041096,14425.609589041096,14425.609589041096,14425.609589041096,14425.609589041096,14425.609589041096,14425.609589041096,14425.609589041096,14425.609589041096,14425.609589041096,14425.609589041096,14425.609589041096,14425.609589041096,14425.609589041096,14425.609589041096,14425.609589041096,14425.609589041096,14425.609589041096,14425.609589041096,8960.164705882353,8960.164705882353,8960.164705882353,8960.164705882353,8960.164705882353,8960.164705882353,8960.164705882353,8960.164705882353,8960.164705882353,8960.164705882353,8960.164705882353,8960.164705882353,8960.164705882353,8960.164705882353,8960.164705882353,8960.164705882353,8960.164705882353,8960.164705882353,8960.164705882353,8960.164705882353,8960.164705882353,8960.164705882353,8960.164705882353,8960.164705882353,8960.164705882353,8960.164705882353,8960.164705882353,8960.164705882353,10821.211538461539,10821.211538461539,10821.211538461539,10821.211538461539,10821.211538461539,10821.211538461539,10821.211538461539,10821.211538461539,10821.211538461539,10821.211538461539,10821.211538461539,10821.211538461539,10821.211538461539,10821.211538461539,10821.211538461539,10821.211538461539,10821.211538461539,10821.211538461539,10821.211538461539,10821.211538461539,10821.211538461539,10821.211538461539,10821.211538461539,17518.746666666666,17518.746666666666,17518.746666666666,17518.746666666666,17518.746666666666,17518.746666666666,17518.746666666666,17518.746666666666,17518.746666666666,17518.746666666666,17518.746666666666,17518.746666666666,17518.746666666666,17518.746666666666,17518.746666666666,17518.746666666666,17518.746666666666,17518.746666666666,17518.746666666666,17518.746666666666,17518.746666666666,17518.746666666666,17518.746666666666,17518.746666666666,17518.746666666666,17518.746666666666,17518.746666666666,17518.746666666666,17518.746666666666,17518.746666666666,17518.746666666666,17518.746666666666,17518.746666666666,17518.746666666666,17518.746666666666,17518.746666666666,17518.746666666666,17518.746666666666,17518.746666666666,17518.746666666666,17518.746666666666,17518.746666666666,17518.746666666666,17518.746666666666,17518.746666666666,17518.746666666666,17518.746666666666,17518.746666666666,17518.746666666666,17518.746666666666,17518.746666666666,17518.746666666666,17518.746666666666,20879.7,20879.7,20879.7,13818.927272727273,13818.927272727273,13818.927272727273,13818.927272727273,13818.927272727273,13818.927272727273,13818.927272727273,13818.927272727273,13818.927272727273,13818.927272727273,13818.927272727273,13818.927272727273,13818.927272727273,13818.927272727273,13818.927272727273,13818.927272727273,13818.927272727273,9886.263157894737,9886.263157894737,9886.263157894737,9886.263157894737,9886.263157894737,9886.263157894737,12326.89010989011,12326.89010989011,12326.89010989011,12326.89010989011,12326.89010989011,12326.89010989011,12326.89010989011,12326.89010989011,12326.89010989011,12326.89010989011,12326.89010989011,12326.89010989011,12326.89010989011,12326.89010989011,12326.89010989011,12326.89010989011,12326.89010989011,12326.89010989011,12326.89010989011,12326.89010989011,12326.89010989011,12326.89010989011,12326.89010989011,12326.89010989011,12326.89010989011,12326.89010989011,12326.89010989011,12326.89010989011,12326.89010989011,12326.89010989011,12326.89010989011,12326.89010989011,16034.142857142857,16034.142857142857,16034.142857142857,16034.142857142857,16034.142857142857,16034.142857142857,16034.142857142857,16034.142857142857,16034.142857142857,16034.142857142857,16034.142857142857,16034.142857142857,16034.142857142857,16034.142857142857,16034.142857142857,16034.142857142857,16034.142857142857,16034.142857142857,16034.142857142857,16034.142857142857,16034.142857142857,16034.142857142857,16034.142857142857,16034.142857142857,16034.142857142857,16034.142857142857,16034.142857142857,16034.142857142857,16034.142857142857,16034.142857142857,16034.142857142857,16034.142857142857,16034.142857142857,16034.142857142857,16034.142857142857,16034.142857142857,16034.142857142857,16034.142857142857,16034.142857142857,16034.142857142857,16034.142857142857,16034.142857142857,16034.142857142857,16034.142857142857,16034.142857142857,16034.142857142857,16034.142857142857,16034.142857142857,16034.142857142857,16034.142857142857,16034.142857142857,16034.142857142857,16034.142857142857,16034.142857142857,16034.142857142857,16034.142857142857,16034.142857142857,16034.142857142857,16034.142857142857,16034.142857142857,16034.142857142857,16034.142857142857,16034.142857142857,16034.142857142857,16034.142857142857,16034.142857142857,16034.142857142857,16034.142857142857,16034.142857142857,16034.142857142857,16034.142857142857,16034.142857142857,16034.142857142857,16034.142857142857,16034.142857142857,16034.142857142857,16034.142857142857,16034.142857142857,16034.142857142857,16034.142857142857,16034.142857142857,16034.142857142857,9963.823529411764,9963.823529411764,9963.823529411764,9963.823529411764,9963.823529411764,9963.823529411764,9963.823529411764,15377.75,15377.75,15377.75,15377.75,15377.75,15377.75,19835.5,18986.66233766234,18986.66233766234,18986.66233766234,18986.66233766234,18986.66233766234,18986.66233766234,18986.66233766234,18986.66233766234,18986.66233766234,18986.66233766234,18986.66233766234,18986.66233766234,18986.66233766234,18986.66233766234,18986.66233766234,18986.66233766234,18986.66233766234,18986.66233766234,18986.66233766234,18986.66233766234,18986.66233766234,18986.66233766234,18986.66233766234,18986.66233766234,15031.85294117647,15031.85294117647,15031.85294117647,15031.85294117647,15031.85294117647,15031.85294117647,15031.85294117647,15031.85294117647,15031.85294117647,15031.85294117647,15031.85294117647,15031.85294117647,15031.85294117647,15031.85294117647,15031.85294117647,15031.85294117647,15031.85294117647,15031.85294117647,15031.85294117647,15031.85294117647,15031.85294117647,15031.85294117647,15031.85294117647,15031.85294117647,14540.358974358975,14540.358974358975,14540.358974358975,14540.358974358975,14540.358974358975,14540.358974358975,14540.358974358975,14540.358974358975,14540.358974358975,14540.358974358975,14540.358974358975,14540.358974358975,14540.358974358975,14540.358974358975,14540.358974358975,14540.358974358975,14540.358974358975,14540.358974358975,10571.481481481482,10571.481481481482,10571.481481481482,10571.481481481482,10571.481481481482,10571.481481481482,10571.481481481482,10571.481481481482,10571.481481481482,10571.481481481482,10571.481481481482,10571.481481481482,10571.481481481482,10571.481481481482,10571.481481481482,10571.481481481482,10571.481481481482,10571.481481481482,10571.481481481482,10571.481481481482,10571.481481481482,5208.611111111111,5208.611111111111,5208.611111111111,5208.611111111111,5208.611111111111,5208.611111111111,5208.611111111111,5208.611111111111,5208.611111111111,16034.142857142857,16034.142857142857,16034.142857142857,16034.142857142857,16034.142857142857,16034.142857142857,16034.142857142857,16034.142857142857,16034.142857142857,16034.142857142857,16034.142857142857,16034.142857142857,16034.142857142857,11610.20253164557,11610.20253164557,11610.20253164557,11610.20253164557,11610.20253164557,11610.20253164557,11610.20253164557,11610.20253164557,11610.20253164557,11610.20253164557,11610.20253164557,11610.20253164557,11610.20253164557,11610.20253164557,11610.20253164557,11596.5,11596.5,11596.5,11596.5,19225.272727272728,19225.272727272728,19225.272727272728,19225.272727272728,19225.272727272728,19225.272727272728,19225.272727272728,19225.272727272728,19225.272727272728,19225.272727272728,19225.272727272728,19225.272727272728,19225.272727272728,19225.272727272728,9710.709677419354,9710.709677419354,9710.709677419354,9710.709677419354,9710.709677419354,9710.709677419354,9710.709677419354,9710.709677419354,9710.709677419354,16172.510135135135,16172.510135135135,16172.510135135135,16172.510135135135,16172.510135135135,16172.510135135135,16172.510135135135,16172.510135135135,16172.510135135135,16172.510135135135,16172.510135135135,16172.510135135135,16172.510135135135,16172.510135135135,16172.510135135135,16172.510135135135,16172.510135135135,16172.510135135135,16172.510135135135,16172.510135135135,16172.510135135135,16172.510135135135,16172.510135135135,16172.510135135135,16172.510135135135,16172.510135135135,16172.510135135135,16172.510135135135,16172.510135135135,16172.510135135135,16172.510135135135,16172.510135135135,16172.510135135135,16172.510135135135,16172.510135135135,16172.510135135135,16172.510135135135,16172.510135135135,16172.510135135135,16172.510135135135,16172.510135135135,16172.510135135135,16172.510135135135,16172.510135135135,16172.510135135135,16172.510135135135,16172.510135135135,16172.510135135135,16172.510135135135,16172.510135135135,16172.510135135135,16172.510135135135,16172.510135135135,16172.510135135135,16172.510135135135,16172.510135135135,16172.510135135135,16172.510135135135,16172.510135135135,16172.510135135135,16172.510135135135,16172.510135135135,13464.087719298246,13464.087719298246,13464.087719298246,13464.087719298246,13464.087719298246,13464.087719298246,13464.087719298246,13464.087719298246,13464.087719298246,13464.087719298246,13464.087719298246,13464.087719298246,13464.087719298246,13464.087719298246,13464.087719298246,13464.087719298246,13464.087719298246,13464.087719298246,13464.087719298246,13464.087719298246,13464.087719298246,13464.087719298246,13464.087719298246,13464.087719298246,13464.087719298246,21553.678571428572,21553.678571428572,21553.678571428572,21553.678571428572,21553.678571428572,21553.678571428572,21553.678571428572,21553.678571428572,21553.678571428572,25066.666666666668,21691.065088757397,21691.065088757397,21691.065088757397,21691.065088757397,21691.065088757397,21691.065088757397,21691.065088757397,21691.065088757397,21691.065088757397,21691.065088757397,21691.065088757397,21691.065088757397,21691.065088757397,21691.065088757397,21691.065088757397,21691.065088757397,21691.065088757397,21691.065088757397,21691.065088757397,21691.065088757397,21691.065088757397,21691.065088757397,21691.065088757397,21691.065088757397,21691.065088757397,21691.065088757397,21691.065088757397,21691.065088757397,13601.861111111111,13601.861111111111,13601.861111111111,13601.861111111111,13601.861111111111,13601.861111111111,13601.861111111111,13601.861111111111,13601.861111111111,13601.861111111111,13601.861111111111,13601.861111111111,13601.861111111111,13601.861111111111,13601.861111111111,13601.861111111111,13601.861111111111,13601.861111111111,13601.861111111111,13601.861111111111,13601.861111111111,13601.861111111111,13601.861111111111,13601.861111111111,13601.861111111111,13601.861111111111,15220.923076923076,15220.923076923076,15220.923076923076,15220.923076923076,15220.923076923076,8181.12,8181.12,8181.12,8181.12,8181.12,8181.12,8181.12,8181.12,8181.12,8181.12,8181.12,15048.907975460123,15048.907975460123,15048.907975460123,15048.907975460123,15048.907975460123,15048.907975460123,15048.907975460123,15048.907975460123,15048.907975460123,15048.907975460123,15048.907975460123,15048.907975460123,15048.907975460123,15048.907975460123,15048.907975460123,15048.907975460123,15048.907975460123,15048.907975460123,15048.907975460123,15048.907975460123,15048.907975460123,15048.907975460123,15048.907975460123,15048.907975460123,15048.907975460123,15048.907975460123,15048.907975460123,15048.907975460123,15048.907975460123,15048.907975460123,15048.907975460123,15048.907975460123,15048.907975460123,15048.907975460123,15048.907975460123,15048.907975460123,15048.907975460123,15048.907975460123,15048.907975460123,15048.907975460123,15048.907975460123,15048.907975460123,15048.907975460123,15048.907975460123,15048.907975460123,15048.907975460123,15048.907975460123,15048.907975460123,15048.907975460123,12750.318181818182,12750.318181818182,12750.318181818182,12750.318181818182,12750.318181818182,12750.318181818182,12750.318181818182,12750.318181818182,12750.318181818182,12750.318181818182,12750.318181818182,12750.318181818182,12750.318181818182,12750.318181818182,12750.318181818182,12750.318181818182,12750.318181818182,12750.318181818182,12750.318181818182,12750.318181818182,12750.318181818182,12750.318181818182,12750.318181818182,12750.318181818182,12750.318181818182,12750.318181818182,12750.318181818182,12750.318181818182,12750.318181818182,12750.318181818182,12750.318181818182,12750.318181818182,12750.318181818182,12750.318181818182,12750.318181818182,12750.318181818182,12750.318181818182,12750.318181818182,12750.318181818182,12750.318181818182,12750.318181818182,12750.318181818182,12750.318181818182,12750.318181818182,12750.318181818182,12750.318181818182,12750.318181818182,12750.318181818182,12750.318181818182,12750.318181818182,12750.318181818182,6944.75,6944.75,6944.75,6944.75,6944.75,6944.75,6944.75,6944.75,6944.75,6944.75,6944.75,6944.75,6944.75,6944.75,6944.75,6944.75,6944.75,6944.75,6944.75,6944.75,6944.75,6944.75,6944.75,6944.75,6944.75,6944.75,6944.75,6944.75,6944.75,6944.75,6944.75,6944.75,6944.75,6944.75,6944.75,6944.75,8184.1,8184.1,8184.1,8184.1,8184.1,8184.1,8184.1,8184.1,8184.1,8184.1,8184.1,8184.1,8184.1,8184.1,8184.1,8184.1,8184.1,8184.1,8184.1,8184.1,8184.1,12657.59756097561,12657.59756097561,12657.59756097561,12657.59756097561,12657.59756097561,12657.59756097561,12657.59756097561,12657.59756097561,12657.59756097561,12657.59756097561,12657.59756097561,12657.59756097561,12657.59756097561,12657.59756097561,12657.59756097561,12657.59756097561,12657.59756097561,12657.59756097561,12657.59756097561,12657.59756097561,12657.59756097561,11458.012345679012,11458.012345679012,11458.012345679012,11458.012345679012,11458.012345679012,11458.012345679012,11458.012345679012,11458.012345679012,11458.012345679012,11458.012345679012,11458.012345679012,11458.012345679012,11458.012345679012,11458.012345679012,11458.012345679012,11458.012345679012,11458.012345679012,11458.012345679012,11458.012345679012,11458.012345679012,17917.53125,17917.53125,17917.53125,17917.53125,17917.53125,17917.53125,17917.53125,17917.53125,17917.53125,17917.53125,17917.53125,17917.53125,17917.53125,17917.53125,21513.577777777777,21513.577777777777,21513.577777777777,21513.577777777777,21513.577777777777,21513.577777777777,21513.577777777777,21513.577777777777,21513.577777777777,21334.535714285714,21334.535714285714,21334.535714285714,21334.535714285714,21334.535714285714,21334.535714285714,21334.535714285714,21334.535714285714,21334.535714285714,21334.535714285714,21334.535714285714,13720.120689655172,13720.120689655172,13720.120689655172,13720.120689655172,13720.120689655172,13720.120689655172,13720.120689655172,13720.120689655172,13720.120689655172,13720.120689655172,13720.120689655172,13720.120689655172,13720.120689655172,13720.120689655172,13720.120689655172,13720.120689655172,13720.120689655172,13720.120689655172,13720.120689655172,13720.120689655172,13720.120689655172,13720.120689655172,13720.120689655172,13720.120689655172,13720.120689655172,13720.120689655172,13720.120689655172,13720.120689655172,13720.120689655172,13720.120689655172,13720.120689655172,13720.120689655172,13720.120689655172,13720.120689655172,13720.120689655172,13720.120689655172,13720.120689655172,13720.120689655172,13720.120689655172,13720.120689655172,13720.120689655172,13720.120689655172,13720.120689655172,13720.120689655172,13720.120689655172,13720.120689655172,13720.120689655172,13720.120689655172,13720.120689655172,13720.120689655172,13720.120689655172,6635.973684210527,6635.973684210527,6635.973684210527,6635.973684210527,6635.973684210527,6635.973684210527,6635.973684210527,6635.973684210527,6635.973684210527,6635.973684210527,6635.973684210527,6635.973684210527,6635.973684210527,6635.973684210527,6635.973684210527,6635.973684210527,6635.973684210527,6635.973684210527,6635.973684210527,6635.973684210527,6635.973684210527,6635.973684210527,6635.973684210527,6635.973684210527,6635.973684210527,6635.973684210527,6635.973684210527,6635.973684210527,6635.973684210527,6635.973684210527,6635.973684210527,6635.973684210527,6635.973684210527,6635.973684210527,6635.973684210527,6635.973684210527,6635.973684210527,6635.973684210527,6635.973684210527,6635.973684210527,6635.973684210527,6635.973684210527,6635.973684210527,8934.338461538462,8934.338461538462,8934.338461538462,8934.338461538462,8934.338461538462,8934.338461538462,8934.338461538462,13719.41573033708,13719.41573033708,13719.41573033708,13719.41573033708,13719.41573033708,13719.41573033708,13719.41573033708,13719.41573033708,13719.41573033708,13719.41573033708,13719.41573033708,13719.41573033708,13719.41573033708,13719.41573033708,13719.41573033708,13719.41573033708,13719.41573033708,13719.41573033708,13719.41573033708,13719.41573033708,13719.41573033708,13719.41573033708,13719.41573033708,8331.6,8331.6,8331.6,8331.6,8331.6,8331.6,8331.6,8331.6,8331.6,8331.6,8331.6,8331.6,8018.684210526316,8018.684210526316,8018.684210526316,8018.684210526316,8018.684210526316,8018.684210526316,8018.684210526316,8018.684210526316,8018.684210526316,8018.684210526316,8018.684210526316,8018.684210526316,8018.684210526316,8018.684210526316,8018.684210526316,8018.684210526316,8018.684210526316,8018.684210526316,8018.684210526316,8018.684210526316,8018.684210526316,8018.684210526316,8018.684210526316,8018.684210526316,8018.684210526316,17514.0,17514.0,17514.0,17514.0,15502.23076923077,15502.23076923077,15502.23076923077,15502.23076923077,15502.23076923077,15502.23076923077,15502.23076923077,15502.23076923077,15502.23076923077,15502.23076923077,25278.109375,25278.109375,25278.109375,25278.109375,25278.109375,25278.109375,25278.109375,25278.109375,25278.109375,25278.109375,9254.2,9254.2,9254.2,9254.2,9254.2,9254.2,18786.366666666665,18786.366666666665,18786.366666666665,18786.366666666665,18786.366666666665,18786.366666666665,18786.366666666665,18786.366666666665,18786.366666666665,18786.366666666665,18786.366666666665,18786.366666666665,18786.366666666665,18786.366666666665,18786.366666666665,18786.366666666665,17598.81914893617,17598.81914893617,17598.81914893617,17598.81914893617,17598.81914893617,17598.81914893617,17598.81914893617,17598.81914893617,17598.81914893617,17598.81914893617,17598.81914893617,17598.81914893617,17598.81914893617,17598.81914893617,17598.81914893617,17598.81914893617,17598.81914893617,17598.81914893617,17598.81914893617,17598.81914893617,17598.81914893617,17598.81914893617,17598.81914893617,17598.81914893617,17598.81914893617,17598.81914893617,9304.1,9304.1,9304.1,9304.1,9304.1,9304.1,9304.1,9304.1,14425.609589041096,14425.609589041096,14425.609589041096,14425.609589041096,14425.609589041096,14425.609589041096,14425.609589041096,14425.609589041096,14425.609589041096,14425.609589041096,14425.609589041096,14425.609589041096,14425.609589041096,14425.609589041096,14425.609589041096,14425.609589041096,14425.609589041096,14425.609589041096,14425.609589041096,14425.609589041096,14425.609589041096,14425.609589041096,14425.609589041096,14425.609589041096,14425.609589041096,14425.609589041096,14425.609589041096,14425.609589041096,14425.609589041096,14425.609589041096,14425.609589041096,14425.609589041096,14425.609589041096,14425.609589041096,14425.609589041096,14425.609589041096,14425.609589041096,14425.609589041096,14425.609589041096,14425.609589041096,14425.609589041096,14425.609589041096,14425.609589041096,14425.609589041096,14425.609589041096,14425.609589041096,14425.609589041096,14425.609589041096,14425.609589041096,14425.609589041096,14425.609589041096,14425.609589041096,8960.164705882353,8960.164705882353,8960.164705882353,8960.164705882353,8960.164705882353,8960.164705882353,8960.164705882353,8960.164705882353,8960.164705882353,8960.164705882353,8960.164705882353,8960.164705882353,8960.164705882353,8960.164705882353,8960.164705882353,8960.164705882353,8960.164705882353,8960.164705882353,8960.164705882353,8960.164705882353,8960.164705882353,8960.164705882353,8960.164705882353,8960.164705882353,10821.211538461539,10821.211538461539,10821.211538461539,10821.211538461539,10821.211538461539,10821.211538461539,10821.211538461539,10821.211538461539,10821.211538461539,10821.211538461539,10821.211538461539,10821.211538461539,10821.211538461539,10821.211538461539,10821.211538461539,10821.211538461539,10821.211538461539,10821.211538461539,10821.211538461539,10821.211538461539,10821.211538461539,10821.211538461539,17518.746666666666,17518.746666666666,17518.746666666666,17518.746666666666,17518.746666666666,17518.746666666666,17518.746666666666,17518.746666666666,17518.746666666666,17518.746666666666,17518.746666666666,17518.746666666666,17518.746666666666,17518.746666666666,17518.746666666666,17518.746666666666,17518.746666666666,17518.746666666666,17518.746666666666,17518.746666666666,17518.746666666666,17518.746666666666,17518.746666666666,17518.746666666666,17518.746666666666,17518.746666666666,17518.746666666666,17518.746666666666,17518.746666666666,17518.746666666666,17518.746666666666,17518.746666666666,17518.746666666666,17518.746666666666,17518.746666666666,17518.746666666666,20879.7,20879.7,13818.927272727273,13818.927272727273,13818.927272727273,13818.927272727273,13818.927272727273,13818.927272727273,13818.927272727273,13818.927272727273,13818.927272727273,13818.927272727273,13818.927272727273,13818.927272727273,13818.927272727273,13818.927272727273,13818.927272727273,9886.263157894737,9886.263157894737,9886.263157894737,9886.263157894737,9886.263157894737,9886.263157894737,9886.263157894737,12326.89010989011,12326.89010989011,12326.89010989011,12326.89010989011,12326.89010989011,12326.89010989011,12326.89010989011,12326.89010989011,12326.89010989011,12326.89010989011,12326.89010989011,12326.89010989011,12326.89010989011,12326.89010989011,12326.89010989011,12326.89010989011,12326.89010989011,12326.89010989011,12326.89010989011,12326.89010989011,12326.89010989011,16034.142857142857,16034.142857142857,16034.142857142857,16034.142857142857,16034.142857142857,16034.142857142857,16034.142857142857,16034.142857142857,16034.142857142857,16034.142857142857,16034.142857142857,16034.142857142857,16034.142857142857,16034.142857142857,16034.142857142857,16034.142857142857,16034.142857142857,16034.142857142857,16034.142857142857,16034.142857142857,16034.142857142857,16034.142857142857,16034.142857142857,16034.142857142857,16034.142857142857,16034.142857142857,16034.142857142857,16034.142857142857,16034.142857142857,16034.142857142857,16034.142857142857,16034.142857142857,16034.142857142857,16034.142857142857,16034.142857142857,16034.142857142857,16034.142857142857,16034.142857142857,16034.142857142857,16034.142857142857,16034.142857142857,16034.142857142857,16034.142857142857,16034.142857142857,16034.142857142857,16034.142857142857,16034.142857142857,16034.142857142857,16034.142857142857,16034.142857142857,16034.142857142857,16034.142857142857,16034.142857142857,16034.142857142857,16034.142857142857,16034.142857142857,16034.142857142857,16034.142857142857,16034.142857142857,16034.142857142857,16034.142857142857,16034.142857142857,16034.142857142857,16034.142857142857,16034.142857142857,16034.142857142857,16034.142857142857,16034.142857142857,16034.142857142857,16034.142857142857,16034.142857142857,16034.142857142857,16034.142857142857,9963.823529411764,9963.823529411764,9963.823529411764,9963.823529411764,9963.823529411764,9963.823529411764,9963.823529411764,9963.823529411764,9963.823529411764,9963.823529411764,9963.823529411764,9963.823529411764,9963.823529411764,9963.823529411764,9963.823529411764,9963.823529411764,9963.823529411764,9963.823529411764,9963.823529411764,9963.823529411764,9963.823529411764,15377.75,15377.75,15377.75,15377.75,15377.75,18986.66233766234,18986.66233766234,18986.66233766234,18986.66233766234,18986.66233766234,18986.66233766234,18986.66233766234,18986.66233766234,18986.66233766234,18986.66233766234,18986.66233766234,18986.66233766234,18986.66233766234,18986.66233766234,18986.66233766234,18986.66233766234,18986.66233766234,18986.66233766234,18986.66233766234,18986.66233766234,18986.66233766234,18986.66233766234,18986.66233766234,18986.66233766234,15031.85294117647,15031.85294117647,15031.85294117647,15031.85294117647,15031.85294117647,15031.85294117647,15031.85294117647,15031.85294117647,15031.85294117647,15031.85294117647,15031.85294117647,15031.85294117647,15031.85294117647,15031.85294117647,15031.85294117647,15031.85294117647,15031.85294117647,15031.85294117647,15031.85294117647,14540.358974358975,14540.358974358975,14540.358974358975,14540.358974358975,14540.358974358975,14540.358974358975,14540.358974358975,14540.358974358975,10571.481481481482,10571.481481481482,10571.481481481482,10571.481481481482,10571.481481481482,10571.481481481482,10571.481481481482,10571.481481481482,10571.481481481482,10571.481481481482,10571.481481481482,10571.481481481482,10571.481481481482,10571.481481481482,10571.481481481482,10571.481481481482,10571.481481481482,10571.481481481482,10571.481481481482,10571.481481481482,10571.481481481482,10571.481481481482,10571.481481481482,10571.481481481482,10571.481481481482,10571.481481481482,10571.481481481482,10571.481481481482,10571.481481481482,10571.481481481482,10571.481481481482,10571.481481481482,10571.481481481482,10571.481481481482,10571.481481481482,10571.481481481482,10571.481481481482,10571.481481481482,10571.481481481482,10571.481481481482,10571.481481481482,10571.481481481482,10571.481481481482,10571.481481481482,10571.481481481482,10571.481481481482,10571.481481481482,10571.481481481482,10571.481481481482,10571.481481481482,10571.481481481482,10571.481481481482,10571.481481481482,10571.481481481482,10571.481481481482,10571.481481481482,10571.481481481482,10571.481481481482,10571.481481481482,5208.611111111111,5208.611111111111,5208.611111111111,5208.611111111111,5208.611111111111,5208.611111111111,16034.142857142857,16034.142857142857,16034.142857142857,16034.142857142857,16034.142857142857,16034.142857142857,16034.142857142857,16034.142857142857,16034.142857142857,16034.142857142857,16034.142857142857,11610.20253164557,11610.20253164557,11610.20253164557,11610.20253164557,11610.20253164557,11596.5,11596.5,19225.272727272728,19225.272727272728,19225.272727272728,19225.272727272728,9710.709677419354,9710.709677419354,16172.510135135135,16172.510135135135,16172.510135135135,16172.510135135135,16172.510135135135,16172.510135135135,16172.510135135135,16172.510135135135,16172.510135135135,16172.510135135135,16172.510135135135,16172.510135135135,16172.510135135135,16172.510135135135,16172.510135135135,16172.510135135135,16172.510135135135,16172.510135135135,16172.510135135135,16172.510135135135,16172.510135135135,13464.087719298246,13464.087719298246,13464.087719298246,13464.087719298246,13464.087719298246,13464.087719298246,21691.065088757397,21691.065088757397,21691.065088757397,21691.065088757397,21691.065088757397,21691.065088757397,21691.065088757397,21691.065088757397,21691.065088757397,13601.861111111111,13601.861111111111,13601.861111111111,13601.861111111111,13601.861111111111,15220.923076923076,15220.923076923076,15220.923076923076,8181.12,8181.12,8181.12,8181.12,8181.12,15048.907975460123,15048.907975460123,15048.907975460123,15048.907975460123,15048.907975460123,15048.907975460123,15048.907975460123,15048.907975460123,15048.907975460123,15048.907975460123,15048.907975460123,15048.907975460123,12750.318181818182,12750.318181818182,12750.318181818182,12750.318181818182,12750.318181818182,12750.318181818182,12750.318181818182,12750.318181818182,12750.318181818182,12750.318181818182,12750.318181818182,12750.318181818182,12750.318181818182,6944.75,6944.75,6944.75,6944.75,6944.75,6944.75,6944.75,8184.1,8184.1,8184.1,8184.1,8184.1,8184.1,8184.1,8184.1,12657.59756097561,11458.012345679012,11458.012345679012,11458.012345679012,17917.53125,17917.53125,17917.53125,21513.577777777777,21513.577777777777,21513.577777777777,21513.577777777777,21513.577777777777,21334.535714285714,21334.535714285714,21334.535714285714,21334.535714285714,21334.535714285714,21334.535714285714,21334.535714285714,13720.120689655172,13720.120689655172,13720.120689655172,13720.120689655172,13720.120689655172,13720.120689655172,13720.120689655172,13720.120689655172,13720.120689655172,13720.120689655172,13720.120689655172,6635.973684210527,6635.973684210527,6635.973684210527,6635.973684210527,6635.973684210527,6635.973684210527,6635.973684210527,6635.973684210527,8934.338461538462,13719.41573033708,13719.41573033708,13719.41573033708,13719.41573033708,13719.41573033708,13719.41573033708,8331.6,8331.6,8331.6,8018.684210526316,8018.684210526316,15502.23076923077,15502.23076923077,15502.23076923077,25278.109375,25278.109375,25278.109375,25278.109375,25278.109375,25278.109375,18786.366666666665,17598.81914893617,17598.81914893617,17598.81914893617,17598.81914893617,17598.81914893617,17598.81914893617,17598.81914893617,14425.609589041096,14425.609589041096,14425.609589041096,14425.609589041096,14425.609589041096,14425.609589041096,14425.609589041096,14425.609589041096,14425.609589041096,14425.609589041096,14425.609589041096,14425.609589041096,14425.609589041096,14425.609589041096,14425.609589041096,14425.609589041096,14425.609589041096,14425.609589041096,14425.609589041096,14425.609589041096,8960.164705882353,8960.164705882353,8960.164705882353,8960.164705882353,8960.164705882353,8960.164705882353,8960.164705882353,8960.164705882353,8960.164705882353,10821.211538461539,10821.211538461539,10821.211538461539,17518.746666666666,17518.746666666666,17518.746666666666,17518.746666666666,17518.746666666666,17518.746666666666,17518.746666666666,17518.746666666666,17518.746666666666,17518.746666666666,17518.746666666666,20879.7,20879.7,13818.927272727273,13818.927272727273,13818.927272727273,13818.927272727273,13818.927272727273,9886.263157894737,9886.263157894737,9886.263157894737,9886.263157894737,9886.263157894737,12326.89010989011,16034.142857142857,16034.142857142857,16034.142857142857,16034.142857142857,16034.142857142857,16034.142857142857,16034.142857142857,16034.142857142857,16034.142857142857,16034.142857142857,16034.142857142857,16034.142857142857,16034.142857142857,16034.142857142857,16034.142857142857,16034.142857142857,9963.823529411764,9963.823529411764,9963.823529411764,9963.823529411764,18986.66233766234,18986.66233766234,18986.66233766234,18986.66233766234,18986.66233766234,18986.66233766234,18986.66233766234,18986.66233766234,18986.66233766234,15031.85294117647,15031.85294117647,15031.85294117647,15031.85294117647,15031.85294117647,15031.85294117647,14540.358974358975,10571.481481481482,10571.481481481482,10571.481481481482,10571.481481481482,10571.481481481482,10571.481481481482,10571.481481481482,10571.481481481482,10571.481481481482,10571.481481481482,10571.481481481482,10571.481481481482,10571.481481481482,10571.481481481482,10571.481481481482,10571.481481481482,10571.481481481482,10571.481481481482,10571.481481481482,10571.481481481482,10571.481481481482,10571.481481481482,5208.611111111111,16034.142857142857,16034.142857142857,16034.142857142857,16034.142857142857,16034.142857142857,16034.142857142857,16034.142857142857,16034.142857142857],\"type\":\"choropleth\"}],                        {\"template\":{\"data\":{\"histogram2dcontour\":[{\"type\":\"histogram2dcontour\",\"colorbar\":{\"outlinewidth\":0,\"ticks\":\"\"},\"colorscale\":[[0.0,\"#0d0887\"],[0.1111111111111111,\"#46039f\"],[0.2222222222222222,\"#7201a8\"],[0.3333333333333333,\"#9c179e\"],[0.4444444444444444,\"#bd3786\"],[0.5555555555555556,\"#d8576b\"],[0.6666666666666666,\"#ed7953\"],[0.7777777777777778,\"#fb9f3a\"],[0.8888888888888888,\"#fdca26\"],[1.0,\"#f0f921\"]]}],\"choropleth\":[{\"type\":\"choropleth\",\"colorbar\":{\"outlinewidth\":0,\"ticks\":\"\"}}],\"histogram2d\":[{\"type\":\"histogram2d\",\"colorbar\":{\"outlinewidth\":0,\"ticks\":\"\"},\"colorscale\":[[0.0,\"#0d0887\"],[0.1111111111111111,\"#46039f\"],[0.2222222222222222,\"#7201a8\"],[0.3333333333333333,\"#9c179e\"],[0.4444444444444444,\"#bd3786\"],[0.5555555555555556,\"#d8576b\"],[0.6666666666666666,\"#ed7953\"],[0.7777777777777778,\"#fb9f3a\"],[0.8888888888888888,\"#fdca26\"],[1.0,\"#f0f921\"]]}],\"heatmap\":[{\"type\":\"heatmap\",\"colorbar\":{\"outlinewidth\":0,\"ticks\":\"\"},\"colorscale\":[[0.0,\"#0d0887\"],[0.1111111111111111,\"#46039f\"],[0.2222222222222222,\"#7201a8\"],[0.3333333333333333,\"#9c179e\"],[0.4444444444444444,\"#bd3786\"],[0.5555555555555556,\"#d8576b\"],[0.6666666666666666,\"#ed7953\"],[0.7777777777777778,\"#fb9f3a\"],[0.8888888888888888,\"#fdca26\"],[1.0,\"#f0f921\"]]}],\"heatmapgl\":[{\"type\":\"heatmapgl\",\"colorbar\":{\"outlinewidth\":0,\"ticks\":\"\"},\"colorscale\":[[0.0,\"#0d0887\"],[0.1111111111111111,\"#46039f\"],[0.2222222222222222,\"#7201a8\"],[0.3333333333333333,\"#9c179e\"],[0.4444444444444444,\"#bd3786\"],[0.5555555555555556,\"#d8576b\"],[0.6666666666666666,\"#ed7953\"],[0.7777777777777778,\"#fb9f3a\"],[0.8888888888888888,\"#fdca26\"],[1.0,\"#f0f921\"]]}],\"contourcarpet\":[{\"type\":\"contourcarpet\",\"colorbar\":{\"outlinewidth\":0,\"ticks\":\"\"}}],\"contour\":[{\"type\":\"contour\",\"colorbar\":{\"outlinewidth\":0,\"ticks\":\"\"},\"colorscale\":[[0.0,\"#0d0887\"],[0.1111111111111111,\"#46039f\"],[0.2222222222222222,\"#7201a8\"],[0.3333333333333333,\"#9c179e\"],[0.4444444444444444,\"#bd3786\"],[0.5555555555555556,\"#d8576b\"],[0.6666666666666666,\"#ed7953\"],[0.7777777777777778,\"#fb9f3a\"],[0.8888888888888888,\"#fdca26\"],[1.0,\"#f0f921\"]]}],\"surface\":[{\"type\":\"surface\",\"colorbar\":{\"outlinewidth\":0,\"ticks\":\"\"},\"colorscale\":[[0.0,\"#0d0887\"],[0.1111111111111111,\"#46039f\"],[0.2222222222222222,\"#7201a8\"],[0.3333333333333333,\"#9c179e\"],[0.4444444444444444,\"#bd3786\"],[0.5555555555555556,\"#d8576b\"],[0.6666666666666666,\"#ed7953\"],[0.7777777777777778,\"#fb9f3a\"],[0.8888888888888888,\"#fdca26\"],[1.0,\"#f0f921\"]]}],\"mesh3d\":[{\"type\":\"mesh3d\",\"colorbar\":{\"outlinewidth\":0,\"ticks\":\"\"}}],\"scatter\":[{\"fillpattern\":{\"fillmode\":\"overlay\",\"size\":10,\"solidity\":0.2},\"type\":\"scatter\"}],\"parcoords\":[{\"type\":\"parcoords\",\"line\":{\"colorbar\":{\"outlinewidth\":0,\"ticks\":\"\"}}}],\"scatterpolargl\":[{\"type\":\"scatterpolargl\",\"marker\":{\"colorbar\":{\"outlinewidth\":0,\"ticks\":\"\"}}}],\"bar\":[{\"error_x\":{\"color\":\"#2a3f5f\"},\"error_y\":{\"color\":\"#2a3f5f\"},\"marker\":{\"line\":{\"color\":\"#E5ECF6\",\"width\":0.5},\"pattern\":{\"fillmode\":\"overlay\",\"size\":10,\"solidity\":0.2}},\"type\":\"bar\"}],\"scattergeo\":[{\"type\":\"scattergeo\",\"marker\":{\"colorbar\":{\"outlinewidth\":0,\"ticks\":\"\"}}}],\"scatterpolar\":[{\"type\":\"scatterpolar\",\"marker\":{\"colorbar\":{\"outlinewidth\":0,\"ticks\":\"\"}}}],\"histogram\":[{\"marker\":{\"pattern\":{\"fillmode\":\"overlay\",\"size\":10,\"solidity\":0.2}},\"type\":\"histogram\"}],\"scattergl\":[{\"type\":\"scattergl\",\"marker\":{\"colorbar\":{\"outlinewidth\":0,\"ticks\":\"\"}}}],\"scatter3d\":[{\"type\":\"scatter3d\",\"line\":{\"colorbar\":{\"outlinewidth\":0,\"ticks\":\"\"}},\"marker\":{\"colorbar\":{\"outlinewidth\":0,\"ticks\":\"\"}}}],\"scattermapbox\":[{\"type\":\"scattermapbox\",\"marker\":{\"colorbar\":{\"outlinewidth\":0,\"ticks\":\"\"}}}],\"scatterternary\":[{\"type\":\"scatterternary\",\"marker\":{\"colorbar\":{\"outlinewidth\":0,\"ticks\":\"\"}}}],\"scattercarpet\":[{\"type\":\"scattercarpet\",\"marker\":{\"colorbar\":{\"outlinewidth\":0,\"ticks\":\"\"}}}],\"carpet\":[{\"aaxis\":{\"endlinecolor\":\"#2a3f5f\",\"gridcolor\":\"white\",\"linecolor\":\"white\",\"minorgridcolor\":\"white\",\"startlinecolor\":\"#2a3f5f\"},\"baxis\":{\"endlinecolor\":\"#2a3f5f\",\"gridcolor\":\"white\",\"linecolor\":\"white\",\"minorgridcolor\":\"white\",\"startlinecolor\":\"#2a3f5f\"},\"type\":\"carpet\"}],\"table\":[{\"cells\":{\"fill\":{\"color\":\"#EBF0F8\"},\"line\":{\"color\":\"white\"}},\"header\":{\"fill\":{\"color\":\"#C8D4E3\"},\"line\":{\"color\":\"white\"}},\"type\":\"table\"}],\"barpolar\":[{\"marker\":{\"line\":{\"color\":\"#E5ECF6\",\"width\":0.5},\"pattern\":{\"fillmode\":\"overlay\",\"size\":10,\"solidity\":0.2}},\"type\":\"barpolar\"}],\"pie\":[{\"automargin\":true,\"type\":\"pie\"}]},\"layout\":{\"autotypenumbers\":\"strict\",\"colorway\":[\"#636efa\",\"#EF553B\",\"#00cc96\",\"#ab63fa\",\"#FFA15A\",\"#19d3f3\",\"#FF6692\",\"#B6E880\",\"#FF97FF\",\"#FECB52\"],\"font\":{\"color\":\"#2a3f5f\"},\"hovermode\":\"closest\",\"hoverlabel\":{\"align\":\"left\"},\"paper_bgcolor\":\"white\",\"plot_bgcolor\":\"#E5ECF6\",\"polar\":{\"bgcolor\":\"#E5ECF6\",\"angularaxis\":{\"gridcolor\":\"white\",\"linecolor\":\"white\",\"ticks\":\"\"},\"radialaxis\":{\"gridcolor\":\"white\",\"linecolor\":\"white\",\"ticks\":\"\"}},\"ternary\":{\"bgcolor\":\"#E5ECF6\",\"aaxis\":{\"gridcolor\":\"white\",\"linecolor\":\"white\",\"ticks\":\"\"},\"baxis\":{\"gridcolor\":\"white\",\"linecolor\":\"white\",\"ticks\":\"\"},\"caxis\":{\"gridcolor\":\"white\",\"linecolor\":\"white\",\"ticks\":\"\"}},\"coloraxis\":{\"colorbar\":{\"outlinewidth\":0,\"ticks\":\"\"}},\"colorscale\":{\"sequential\":[[0.0,\"#0d0887\"],[0.1111111111111111,\"#46039f\"],[0.2222222222222222,\"#7201a8\"],[0.3333333333333333,\"#9c179e\"],[0.4444444444444444,\"#bd3786\"],[0.5555555555555556,\"#d8576b\"],[0.6666666666666666,\"#ed7953\"],[0.7777777777777778,\"#fb9f3a\"],[0.8888888888888888,\"#fdca26\"],[1.0,\"#f0f921\"]],\"sequentialminus\":[[0.0,\"#0d0887\"],[0.1111111111111111,\"#46039f\"],[0.2222222222222222,\"#7201a8\"],[0.3333333333333333,\"#9c179e\"],[0.4444444444444444,\"#bd3786\"],[0.5555555555555556,\"#d8576b\"],[0.6666666666666666,\"#ed7953\"],[0.7777777777777778,\"#fb9f3a\"],[0.8888888888888888,\"#fdca26\"],[1.0,\"#f0f921\"]],\"diverging\":[[0,\"#8e0152\"],[0.1,\"#c51b7d\"],[0.2,\"#de77ae\"],[0.3,\"#f1b6da\"],[0.4,\"#fde0ef\"],[0.5,\"#f7f7f7\"],[0.6,\"#e6f5d0\"],[0.7,\"#b8e186\"],[0.8,\"#7fbc41\"],[0.9,\"#4d9221\"],[1,\"#276419\"]]},\"xaxis\":{\"gridcolor\":\"white\",\"linecolor\":\"white\",\"ticks\":\"\",\"title\":{\"standoff\":15},\"zerolinecolor\":\"white\",\"automargin\":true,\"zerolinewidth\":2},\"yaxis\":{\"gridcolor\":\"white\",\"linecolor\":\"white\",\"ticks\":\"\",\"title\":{\"standoff\":15},\"zerolinecolor\":\"white\",\"automargin\":true,\"zerolinewidth\":2},\"scene\":{\"xaxis\":{\"backgroundcolor\":\"#E5ECF6\",\"gridcolor\":\"white\",\"linecolor\":\"white\",\"showbackground\":true,\"ticks\":\"\",\"zerolinecolor\":\"white\",\"gridwidth\":2},\"yaxis\":{\"backgroundcolor\":\"#E5ECF6\",\"gridcolor\":\"white\",\"linecolor\":\"white\",\"showbackground\":true,\"ticks\":\"\",\"zerolinecolor\":\"white\",\"gridwidth\":2},\"zaxis\":{\"backgroundcolor\":\"#E5ECF6\",\"gridcolor\":\"white\",\"linecolor\":\"white\",\"showbackground\":true,\"ticks\":\"\",\"zerolinecolor\":\"white\",\"gridwidth\":2}},\"shapedefaults\":{\"line\":{\"color\":\"#2a3f5f\"}},\"annotationdefaults\":{\"arrowcolor\":\"#2a3f5f\",\"arrowhead\":0,\"arrowwidth\":1},\"geo\":{\"bgcolor\":\"white\",\"landcolor\":\"#E5ECF6\",\"subunitcolor\":\"white\",\"showland\":true,\"showlakes\":true,\"lakecolor\":\"white\"},\"title\":{\"x\":0.05},\"mapbox\":{\"style\":\"light\"}}},\"title\":{\"text\":\"Average Cost of Heart Attack Care by State\"},\"geo\":{\"scope\":\"usa\"}},                        {\"responsive\": true}                    ).then(function(){\n",
              "                            \n",
              "var gd = document.getElementById('c322bfab-12af-49ab-a2b3-6ca640c62ed4');\n",
              "var x = new MutationObserver(function (mutations, observer) {{\n",
              "        var display = window.getComputedStyle(gd).display;\n",
              "        if (!display || display === 'none') {{\n",
              "            console.log([gd, 'removed!']);\n",
              "            Plotly.purge(gd);\n",
              "            observer.disconnect();\n",
              "        }}\n",
              "}});\n",
              "\n",
              "// Listen for the removal of the full notebook cells\n",
              "var notebookContainer = gd.closest('#notebook-container');\n",
              "if (notebookContainer) {{\n",
              "    x.observe(notebookContainer, {childList: true});\n",
              "}}\n",
              "\n",
              "// Listen for the clearing of the current output cell\n",
              "var outputEl = gd.closest('.output');\n",
              "if (outputEl) {{\n",
              "    x.observe(outputEl, {childList: true});\n",
              "}}\n",
              "\n",
              "                        })                };                            </script>        </div>\n",
              "</body>\n",
              "</html>"
            ]
          },
          "metadata": {}
        },
        {
          "output_type": "display_data",
          "data": {
            "text/html": [
              "<html>\n",
              "<head><meta charset=\"utf-8\" /></head>\n",
              "<body>\n",
              "    <div>            <script src=\"https://cdnjs.cloudflare.com/ajax/libs/mathjax/2.7.5/MathJax.js?config=TeX-AMS-MML_SVG\"></script><script type=\"text/javascript\">if (window.MathJax && window.MathJax.Hub && window.MathJax.Hub.Config) {window.MathJax.Hub.Config({SVG: {font: \"STIX-Web\"}});}</script>                <script type=\"text/javascript\">window.PlotlyConfig = {MathJaxConfig: 'local'};</script>\n",
              "        <script src=\"https://cdn.plot.ly/plotly-2.12.1.min.js\"></script>                <div id=\"6671cbac-67fc-45d7-b1de-ee445342a629\" class=\"plotly-graph-div\" style=\"height:525px; width:100%;\"></div>            <script type=\"text/javascript\">                                    window.PLOTLYENV=window.PLOTLYENV || {};                                    if (document.getElementById(\"6671cbac-67fc-45d7-b1de-ee445342a629\")) {                    Plotly.newPlot(                        \"6671cbac-67fc-45d7-b1de-ee445342a629\",                        [{\"colorbar\":{\"title\":{\"text\":\"Heart Failure Care in Dollars\"}},\"colorscale\":[[0.0,\"rgb(247,251,255)\"],[0.125,\"rgb(222,235,247)\"],[0.25,\"rgb(198,219,239)\"],[0.375,\"rgb(158,202,225)\"],[0.5,\"rgb(107,174,214)\"],[0.625,\"rgb(66,146,198)\"],[0.75,\"rgb(33,113,181)\"],[0.875,\"rgb(8,81,156)\"],[1.0,\"rgb(8,48,107)\"]],\"locationmode\":\"USA-states\",\"locations\":[\"AL\",\"AL\",\"AL\",\"AL\",\"AL\",\"AZ\",\"AZ\",\"AR\",\"AR\",\"AR\",\"AR\",\"AR\",\"AR\",\"AR\",\"AR\",\"CA\",\"CA\",\"CA\",\"CA\",\"CA\",\"CA\",\"CA\",\"CA\",\"CA\",\"CA\",\"CA\",\"CA\",\"CA\",\"CA\",\"CA\",\"CA\",\"CA\",\"CA\",\"CA\",\"CA\",\"CA\",\"CA\",\"CA\",\"CA\",\"CT\",\"CT\",\"CT\",\"CT\",\"CT\",\"CT\",\"DC\",\"DC\",\"DC\",\"DC\",\"DC\",\"FL\",\"FL\",\"FL\",\"FL\",\"FL\",\"FL\",\"FL\",\"FL\",\"FL\",\"FL\",\"FL\",\"FL\",\"FL\",\"FL\",\"FL\",\"FL\",\"FL\",\"FL\",\"FL\",\"FL\",\"FL\",\"FL\",\"FL\",\"FL\",\"FL\",\"FL\",\"FL\",\"FL\",\"FL\",\"FL\",\"FL\",\"FL\",\"GA\",\"GA\",\"GA\",\"GA\",\"GA\",\"GA\",\"GA\",\"GA\",\"GA\",\"GA\",\"GA\",\"GA\",\"IL\",\"IL\",\"IL\",\"IL\",\"IL\",\"IL\",\"IL\",\"IL\",\"IL\",\"IL\",\"IL\",\"IL\",\"IL\",\"IL\",\"IL\",\"IL\",\"IA\",\"KS\",\"KY\",\"KY\",\"KY\",\"KY\",\"KY\",\"KY\",\"LA\",\"LA\",\"MD\",\"MD\",\"MD\",\"MD\",\"MD\",\"MD\",\"MA\",\"MA\",\"MA\",\"MA\",\"MI\",\"MI\",\"MI\",\"MI\",\"MN\",\"MS\",\"MS\",\"MS\",\"MS\",\"MS\",\"MS\",\"MO\",\"MO\",\"MO\",\"MO\",\"MO\",\"MO\",\"MO\",\"NE\",\"NV\",\"NV\",\"NV\",\"NV\",\"NV\",\"NV\",\"NV\",\"NV\",\"NV\",\"NV\",\"NJ\",\"NJ\",\"NJ\",\"NJ\",\"NJ\",\"NJ\",\"NJ\",\"NJ\",\"NM\",\"NM\",\"NM\",\"NY\",\"NY\",\"NY\",\"NY\",\"NY\",\"NY\",\"NY\",\"NY\",\"NY\",\"NY\",\"NY\",\"NY\",\"NY\",\"NY\",\"NY\",\"NY\",\"NY\",\"NY\",\"NY\",\"NY\",\"NY\",\"NY\",\"NY\",\"NY\",\"NY\",\"NY\",\"NY\",\"NY\",\"NY\",\"NY\",\"NY\",\"NY\",\"NY\",\"NY\",\"NY\",\"NY\",\"NY\",\"NY\",\"NY\",\"NY\",\"NY\",\"NY\",\"NY\",\"NY\",\"NY\",\"NY\",\"NY\",\"NY\",\"NC\",\"NC\",\"NC\",\"NC\",\"NC\",\"NC\",\"NC\",\"ND\",\"ND\",\"OH\",\"OH\",\"OK\",\"OK\",\"OK\",\"OK\",\"OK\",\"PA\",\"PA\",\"PA\",\"PA\",\"PA\",\"PA\",\"PA\",\"PA\",\"PA\",\"PA\",\"PA\",\"PA\",\"PA\",\"PR\",\"PR\",\"PR\",\"SC\",\"SC\",\"SC\",\"TN\",\"TN\",\"TN\",\"TN\",\"TN\",\"TN\",\"TN\",\"TN\",\"TN\",\"TN\",\"TX\",\"TX\",\"TX\",\"TX\",\"TX\",\"TX\",\"TX\",\"TX\",\"TX\",\"TX\",\"VA\",\"VA\",\"VA\",\"WA\",\"WA\",\"WV\",\"WV\",\"WI\",\"AL\",\"AL\",\"AL\",\"AL\",\"AL\",\"AL\",\"AL\",\"AL\",\"AL\",\"AL\",\"AL\",\"AL\",\"AL\",\"AL\",\"AL\",\"AL\",\"AL\",\"AL\",\"AL\",\"AL\",\"AL\",\"AL\",\"AL\",\"AK\",\"AZ\",\"AZ\",\"AZ\",\"AZ\",\"AZ\",\"AZ\",\"AZ\",\"AZ\",\"AZ\",\"AZ\",\"AZ\",\"AZ\",\"AZ\",\"AZ\",\"AZ\",\"AZ\",\"AR\",\"AR\",\"AR\",\"AR\",\"AR\",\"AR\",\"AR\",\"AR\",\"AR\",\"AR\",\"AR\",\"AR\",\"AR\",\"AR\",\"AR\",\"AR\",\"AR\",\"AR\",\"AR\",\"AR\",\"CA\",\"CA\",\"CA\",\"CA\",\"CA\",\"CA\",\"CA\",\"CA\",\"CA\",\"CA\",\"CA\",\"CA\",\"CA\",\"CA\",\"CA\",\"CA\",\"CA\",\"CA\",\"CA\",\"CA\",\"CA\",\"CA\",\"CA\",\"CA\",\"CA\",\"CA\",\"CA\",\"CA\",\"CA\",\"CA\",\"CA\",\"CA\",\"CA\",\"CA\",\"CA\",\"CA\",\"CA\",\"CA\",\"CA\",\"CA\",\"CA\",\"CA\",\"CA\",\"CA\",\"CA\",\"CA\",\"CA\",\"CA\",\"CA\",\"CA\",\"CA\",\"CA\",\"CA\",\"CA\",\"CA\",\"CA\",\"CA\",\"CA\",\"CA\",\"CA\",\"CA\",\"CA\",\"CA\",\"CA\",\"CA\",\"CA\",\"CA\",\"CA\",\"CA\",\"CA\",\"CA\",\"CA\",\"CA\",\"CA\",\"CA\",\"CA\",\"CA\",\"CA\",\"CA\",\"CA\",\"CA\",\"CA\",\"CA\",\"CA\",\"CA\",\"CA\",\"CA\",\"CA\",\"CA\",\"CA\",\"CA\",\"CA\",\"CA\",\"CA\",\"CA\",\"CA\",\"CO\",\"CO\",\"CO\",\"CT\",\"CT\",\"CT\",\"CT\",\"DE\",\"DE\",\"DC\",\"FL\",\"FL\",\"FL\",\"FL\",\"FL\",\"FL\",\"FL\",\"FL\",\"FL\",\"FL\",\"FL\",\"FL\",\"FL\",\"FL\",\"FL\",\"FL\",\"FL\",\"FL\",\"FL\",\"FL\",\"FL\",\"FL\",\"FL\",\"FL\",\"FL\",\"FL\",\"FL\",\"FL\",\"FL\",\"FL\",\"FL\",\"FL\",\"FL\",\"FL\",\"FL\",\"FL\",\"FL\",\"FL\",\"FL\",\"FL\",\"FL\",\"FL\",\"FL\",\"FL\",\"FL\",\"FL\",\"FL\",\"FL\",\"FL\",\"FL\",\"FL\",\"FL\",\"FL\",\"FL\",\"FL\",\"FL\",\"FL\",\"FL\",\"FL\",\"FL\",\"GA\",\"GA\",\"GA\",\"GA\",\"GA\",\"GA\",\"GA\",\"GA\",\"GA\",\"GA\",\"GA\",\"GA\",\"GA\",\"GA\",\"GA\",\"GA\",\"GA\",\"GA\",\"GA\",\"GA\",\"GA\",\"GA\",\"GA\",\"HI\",\"ID\",\"ID\",\"ID\",\"IL\",\"IL\",\"IL\",\"IL\",\"IL\",\"IL\",\"IL\",\"IL\",\"IL\",\"IL\",\"IL\",\"IL\",\"IL\",\"IL\",\"IL\",\"IL\",\"IL\",\"IL\",\"IL\",\"IL\",\"IL\",\"IL\",\"IL\",\"IL\",\"IL\",\"IL\",\"IL\",\"IL\",\"IL\",\"IL\",\"IL\",\"IN\",\"IN\",\"IN\",\"IN\",\"IN\",\"IN\",\"IN\",\"IN\",\"IN\",\"IN\",\"IA\",\"IA\",\"IA\",\"IA\",\"IA\",\"IA\",\"IA\",\"IA\",\"IA\",\"IA\",\"IA\",\"KS\",\"KS\",\"KS\",\"KS\",\"KS\",\"KS\",\"KS\",\"KS\",\"KS\",\"KS\",\"KY\",\"KY\",\"KY\",\"KY\",\"KY\",\"KY\",\"KY\",\"KY\",\"KY\",\"KY\",\"KY\",\"KY\",\"KY\",\"KY\",\"KY\",\"KY\",\"KY\",\"KY\",\"KY\",\"KY\",\"KY\",\"KY\",\"LA\",\"LA\",\"LA\",\"LA\",\"LA\",\"LA\",\"LA\",\"LA\",\"LA\",\"LA\",\"LA\",\"LA\",\"LA\",\"LA\",\"LA\",\"LA\",\"LA\",\"LA\",\"LA\",\"LA\",\"LA\",\"ME\",\"ME\",\"ME\",\"ME\",\"ME\",\"MD\",\"MD\",\"MD\",\"MD\",\"MD\",\"MD\",\"MA\",\"MA\",\"MA\",\"MA\",\"MA\",\"MA\",\"MA\",\"MA\",\"MA\",\"MA\",\"MA\",\"MA\",\"MA\",\"MA\",\"MA\",\"MI\",\"MI\",\"MI\",\"MI\",\"MI\",\"MI\",\"MI\",\"MI\",\"MI\",\"MI\",\"MI\",\"MI\",\"MI\",\"MN\",\"MN\",\"MN\",\"MN\",\"MN\",\"MS\",\"MS\",\"MS\",\"MS\",\"MS\",\"MS\",\"MS\",\"MS\",\"MS\",\"MS\",\"MS\",\"MS\",\"MS\",\"MS\",\"MS\",\"MS\",\"MS\",\"MS\",\"MS\",\"MS\",\"MS\",\"MS\",\"MS\",\"MS\",\"MS\",\"MO\",\"MO\",\"MO\",\"MO\",\"MO\",\"MO\",\"MO\",\"MO\",\"MO\",\"MO\",\"MO\",\"MO\",\"MO\",\"MO\",\"MO\",\"MO\",\"MO\",\"MT\",\"MT\",\"NE\",\"NE\",\"NE\",\"NV\",\"NV\",\"NV\",\"NV\",\"NV\",\"NV\",\"NH\",\"NH\",\"NH\",\"NH\",\"NJ\",\"NJ\",\"NJ\",\"NJ\",\"NJ\",\"NJ\",\"NJ\",\"NJ\",\"NJ\",\"NJ\",\"NJ\",\"NJ\",\"NJ\",\"NJ\",\"NJ\",\"NJ\",\"NJ\",\"NJ\",\"NJ\",\"NJ\",\"NJ\",\"NJ\",\"NJ\",\"NJ\",\"NJ\",\"NJ\",\"NM\",\"NM\",\"NM\",\"NM\",\"NM\",\"NM\",\"NM\",\"NM\",\"NY\",\"NY\",\"NY\",\"NY\",\"NY\",\"NY\",\"NY\",\"NY\",\"NY\",\"NY\",\"NY\",\"NY\",\"NY\",\"NY\",\"NY\",\"NY\",\"NY\",\"NY\",\"NY\",\"NY\",\"NY\",\"NY\",\"NY\",\"NY\",\"NY\",\"NY\",\"NY\",\"NY\",\"NY\",\"NY\",\"NY\",\"NY\",\"NY\",\"NY\",\"NY\",\"NY\",\"NY\",\"NY\",\"NY\",\"NY\",\"NY\",\"NY\",\"NY\",\"NY\",\"NY\",\"NC\",\"NC\",\"NC\",\"NC\",\"NC\",\"NC\",\"NC\",\"NC\",\"NC\",\"NC\",\"NC\",\"NC\",\"NC\",\"NC\",\"NC\",\"NC\",\"NC\",\"NC\",\"ND\",\"ND\",\"OH\",\"OH\",\"OH\",\"OH\",\"OH\",\"OH\",\"OH\",\"OH\",\"OH\",\"OH\",\"OH\",\"OH\",\"OH\",\"OH\",\"OH\",\"OH\",\"OH\",\"OH\",\"OH\",\"OH\",\"OH\",\"OH\",\"OK\",\"OK\",\"OK\",\"OK\",\"OK\",\"OK\",\"OK\",\"OK\",\"OK\",\"OK\",\"OK\",\"OK\",\"OK\",\"OK\",\"OK\",\"OK\",\"OK\",\"OK\",\"OK\",\"OR\",\"OR\",\"OR\",\"OR\",\"PA\",\"PA\",\"PA\",\"PA\",\"PA\",\"PA\",\"PA\",\"PA\",\"PA\",\"PA\",\"PA\",\"PA\",\"PA\",\"PA\",\"PA\",\"PA\",\"PA\",\"PA\",\"PA\",\"PA\",\"PA\",\"PA\",\"PA\",\"PA\",\"PA\",\"PA\",\"PA\",\"PA\",\"PA\",\"PA\",\"PA\",\"PA\",\"PA\",\"PA\",\"PA\",\"PA\",\"PA\",\"PR\",\"PR\",\"PR\",\"RI\",\"RI\",\"RI\",\"SC\",\"SC\",\"SC\",\"SC\",\"SC\",\"SC\",\"SC\",\"SC\",\"SC\",\"SC\",\"SC\",\"SC\",\"SC\",\"SC\",\"SC\",\"SD\",\"TN\",\"TN\",\"TN\",\"TN\",\"TN\",\"TN\",\"TN\",\"TN\",\"TN\",\"TN\",\"TN\",\"TN\",\"TN\",\"TN\",\"TN\",\"TN\",\"TN\",\"TN\",\"TN\",\"TN\",\"TN\",\"TN\",\"TN\",\"TN\",\"TN\",\"TN\",\"TN\",\"TX\",\"TX\",\"TX\",\"TX\",\"TX\",\"TX\",\"TX\",\"TX\",\"TX\",\"TX\",\"TX\",\"TX\",\"TX\",\"TX\",\"TX\",\"TX\",\"TX\",\"TX\",\"TX\",\"TX\",\"TX\",\"TX\",\"TX\",\"TX\",\"TX\",\"TX\",\"TX\",\"TX\",\"TX\",\"TX\",\"TX\",\"TX\",\"TX\",\"TX\",\"TX\",\"TX\",\"TX\",\"TX\",\"TX\",\"TX\",\"TX\",\"TX\",\"TX\",\"TX\",\"TX\",\"TX\",\"TX\",\"TX\",\"TX\",\"TX\",\"TX\",\"UT\",\"UT\",\"VT\",\"VI\",\"VA\",\"VA\",\"VA\",\"VA\",\"VA\",\"VA\",\"VA\",\"VA\",\"VA\",\"VA\",\"VA\",\"VA\",\"VA\",\"VA\",\"VA\",\"VA\",\"VA\",\"WA\",\"WA\",\"WA\",\"WA\",\"WA\",\"WA\",\"WA\",\"WA\",\"WA\",\"WA\",\"WA\",\"WA\",\"WA\",\"WA\",\"WA\",\"WA\",\"WA\",\"WV\",\"WV\",\"WV\",\"WV\",\"WV\",\"WV\",\"WV\",\"WV\",\"WV\",\"WV\",\"WI\",\"WI\",\"WI\",\"WI\",\"WI\",\"WY\",\"WY\",\"TX\",\"TX\",\"AL\",\"AL\",\"AL\",\"AL\",\"AL\",\"AL\",\"AL\",\"AL\",\"AL\",\"AL\",\"AL\",\"AL\",\"AL\",\"AL\",\"AL\",\"AL\",\"AL\",\"AL\",\"AL\",\"AL\",\"AL\",\"AL\",\"AL\",\"AL\",\"AL\",\"AL\",\"AL\",\"AL\",\"AL\",\"AL\",\"AL\",\"AK\",\"AK\",\"AK\",\"AZ\",\"AZ\",\"AZ\",\"AZ\",\"AZ\",\"AZ\",\"AZ\",\"AZ\",\"AZ\",\"AZ\",\"AZ\",\"AZ\",\"AZ\",\"AZ\",\"AZ\",\"AZ\",\"AZ\",\"AZ\",\"AZ\",\"AR\",\"AR\",\"AR\",\"AR\",\"AR\",\"AR\",\"AR\",\"AR\",\"AR\",\"AR\",\"AR\",\"AR\",\"AR\",\"AR\",\"AR\",\"AR\",\"AR\",\"AR\",\"AR\",\"AR\",\"AR\",\"AR\",\"AR\",\"CA\",\"CA\",\"CA\",\"CA\",\"CA\",\"CA\",\"CA\",\"CA\",\"CA\",\"CA\",\"CA\",\"CA\",\"CA\",\"CA\",\"CA\",\"CA\",\"CA\",\"CA\",\"CA\",\"CA\",\"CA\",\"CA\",\"CA\",\"CA\",\"CA\",\"CA\",\"CA\",\"CA\",\"CA\",\"CA\",\"CA\",\"CA\",\"CA\",\"CA\",\"CA\",\"CA\",\"CA\",\"CA\",\"CA\",\"CA\",\"CA\",\"CA\",\"CA\",\"CA\",\"CA\",\"CA\",\"CA\",\"CA\",\"CA\",\"CA\",\"CA\",\"CA\",\"CA\",\"CA\",\"CA\",\"CA\",\"CA\",\"CA\",\"CA\",\"CA\",\"CA\",\"CA\",\"CA\",\"CA\",\"CA\",\"CA\",\"CA\",\"CA\",\"CA\",\"CA\",\"CA\",\"CA\",\"CA\",\"CA\",\"CA\",\"CA\",\"CA\",\"CA\",\"CA\",\"CA\",\"CA\",\"CA\",\"CA\",\"CA\",\"CA\",\"CA\",\"CA\",\"CA\",\"CA\",\"CA\",\"CA\",\"CA\",\"CA\",\"CO\",\"CO\",\"CO\",\"CO\",\"CO\",\"CO\",\"CO\",\"CO\",\"CO\",\"CO\",\"CO\",\"CO\",\"CO\",\"CO\",\"CO\",\"CO\",\"CO\",\"CO\",\"CO\",\"CO\",\"CO\",\"CO\",\"CO\",\"CT\",\"CT\",\"CT\",\"CT\",\"CT\",\"CT\",\"CT\",\"CT\",\"CT\",\"DE\",\"DE\",\"DE\",\"DC\",\"FL\",\"FL\",\"FL\",\"FL\",\"FL\",\"FL\",\"FL\",\"FL\",\"FL\",\"FL\",\"FL\",\"FL\",\"FL\",\"FL\",\"FL\",\"FL\",\"FL\",\"FL\",\"FL\",\"FL\",\"FL\",\"FL\",\"FL\",\"FL\",\"FL\",\"FL\",\"FL\",\"FL\",\"FL\",\"FL\",\"FL\",\"FL\",\"FL\",\"FL\",\"FL\",\"FL\",\"FL\",\"FL\",\"FL\",\"FL\",\"GA\",\"GA\",\"GA\",\"GA\",\"GA\",\"GA\",\"GA\",\"GA\",\"GA\",\"GA\",\"GA\",\"GA\",\"GA\",\"GA\",\"GA\",\"GA\",\"GA\",\"GA\",\"GA\",\"GA\",\"GA\",\"GA\",\"GA\",\"GA\",\"GA\",\"GA\",\"GA\",\"GA\",\"GA\",\"GA\",\"GA\",\"GA\",\"GA\",\"GA\",\"GA\",\"GA\",\"GA\",\"GA\",\"GA\",\"GA\",\"GA\",\"GA\",\"HI\",\"HI\",\"HI\",\"HI\",\"ID\",\"ID\",\"ID\",\"ID\",\"ID\",\"ID\",\"IL\",\"IL\",\"IL\",\"IL\",\"IL\",\"IL\",\"IL\",\"IL\",\"IL\",\"IL\",\"IL\",\"IL\",\"IL\",\"IL\",\"IL\",\"IL\",\"IL\",\"IL\",\"IL\",\"IL\",\"IL\",\"IL\",\"IL\",\"IL\",\"IL\",\"IL\",\"IL\",\"IL\",\"IL\",\"IL\",\"IL\",\"IL\",\"IL\",\"IL\",\"IL\",\"IL\",\"IL\",\"IL\",\"IL\",\"IL\",\"IL\",\"IL\",\"IL\",\"IL\",\"IL\",\"IL\",\"IL\",\"IL\",\"IL\",\"IL\",\"IL\",\"IL\",\"IL\",\"IL\",\"IL\",\"IN\",\"IN\",\"IN\",\"IN\",\"IN\",\"IN\",\"IN\",\"IN\",\"IN\",\"IN\",\"IN\",\"IN\",\"IN\",\"IN\",\"IN\",\"IN\",\"IN\",\"IN\",\"IN\",\"IN\",\"IN\",\"IN\",\"IN\",\"IN\",\"IN\",\"IN\",\"IN\",\"IN\",\"IN\",\"IN\",\"IN\",\"IN\",\"IN\",\"IN\",\"IN\",\"IN\",\"IA\",\"IA\",\"IA\",\"IA\",\"IA\",\"IA\",\"IA\",\"IA\",\"IA\",\"IA\",\"IA\",\"IA\",\"IA\",\"IA\",\"IA\",\"IA\",\"IA\",\"IA\",\"IA\",\"IA\",\"IA\",\"IA\",\"IA\",\"IA\",\"IA\",\"IA\",\"IA\",\"IA\",\"IA\",\"KS\",\"KS\",\"KS\",\"KS\",\"KS\",\"KS\",\"KS\",\"KS\",\"KS\",\"KS\",\"KS\",\"KS\",\"KS\",\"KS\",\"KS\",\"KS\",\"KS\",\"KS\",\"KS\",\"KS\",\"KS\",\"KS\",\"KS\",\"KS\",\"KS\",\"KS\",\"KS\",\"KS\",\"KS\",\"KS\",\"KY\",\"KY\",\"KY\",\"KY\",\"KY\",\"KY\",\"KY\",\"KY\",\"KY\",\"KY\",\"KY\",\"KY\",\"KY\",\"KY\",\"KY\",\"KY\",\"KY\",\"KY\",\"KY\",\"KY\",\"KY\",\"KY\",\"KY\",\"KY\",\"KY\",\"KY\",\"KY\",\"KY\",\"KY\",\"KY\",\"KY\",\"KY\",\"LA\",\"LA\",\"LA\",\"LA\",\"LA\",\"LA\",\"LA\",\"LA\",\"LA\",\"LA\",\"LA\",\"LA\",\"LA\",\"LA\",\"LA\",\"LA\",\"LA\",\"LA\",\"LA\",\"LA\",\"LA\",\"LA\",\"LA\",\"LA\",\"LA\",\"LA\",\"LA\",\"LA\",\"LA\",\"LA\",\"LA\",\"LA\",\"LA\",\"LA\",\"LA\",\"ME\",\"ME\",\"ME\",\"ME\",\"ME\",\"ME\",\"ME\",\"ME\",\"ME\",\"ME\",\"MD\",\"MD\",\"MD\",\"MD\",\"MD\",\"MD\",\"MD\",\"MD\",\"MD\",\"MD\",\"MD\",\"MD\",\"MD\",\"MD\",\"MD\",\"MD\",\"MD\",\"MD\",\"MD\",\"MA\",\"MA\",\"MA\",\"MA\",\"MA\",\"MA\",\"MA\",\"MA\",\"MA\",\"MA\",\"MA\",\"MA\",\"MA\",\"MA\",\"MA\",\"MA\",\"MA\",\"MA\",\"MA\",\"MI\",\"MI\",\"MI\",\"MI\",\"MI\",\"MI\",\"MI\",\"MI\",\"MI\",\"MI\",\"MI\",\"MI\",\"MI\",\"MI\",\"MI\",\"MI\",\"MI\",\"MI\",\"MI\",\"MI\",\"MI\",\"MI\",\"MI\",\"MI\",\"MI\",\"MI\",\"MI\",\"MI\",\"MI\",\"MI\",\"MI\",\"MI\",\"MI\",\"MI\",\"MI\",\"MI\",\"MI\",\"MN\",\"MN\",\"MN\",\"MN\",\"MN\",\"MN\",\"MN\",\"MN\",\"MN\",\"MN\",\"MN\",\"MN\",\"MN\",\"MN\",\"MN\",\"MN\",\"MN\",\"MN\",\"MN\",\"MS\",\"MS\",\"MS\",\"MS\",\"MS\",\"MS\",\"MS\",\"MS\",\"MS\",\"MS\",\"MS\",\"MS\",\"MS\",\"MS\",\"MS\",\"MS\",\"MS\",\"MS\",\"MS\",\"MS\",\"MS\",\"MS\",\"MS\",\"MS\",\"MS\",\"MS\",\"MO\",\"MO\",\"MO\",\"MO\",\"MO\",\"MO\",\"MO\",\"MO\",\"MO\",\"MO\",\"MO\",\"MO\",\"MO\",\"MO\",\"MO\",\"MO\",\"MO\",\"MO\",\"MO\",\"MO\",\"MO\",\"MO\",\"MO\",\"MO\",\"MO\",\"MO\",\"MO\",\"MO\",\"MO\",\"MO\",\"MO\",\"MO\",\"MO\",\"MO\",\"MO\",\"MO\",\"MT\",\"MT\",\"MT\",\"MT\",\"MT\",\"MT\",\"MT\",\"MT\",\"NE\",\"NE\",\"NE\",\"NE\",\"NE\",\"NE\",\"NE\",\"NE\",\"NE\",\"NE\",\"NE\",\"NE\",\"NE\",\"NE\",\"NE\",\"NE\",\"NE\",\"NE\",\"NE\",\"NE\",\"NE\",\"NE\",\"NE\",\"NE\",\"NE\",\"NE\",\"NV\",\"NV\",\"NV\",\"NV\",\"NV\",\"NV\",\"NV\",\"NH\",\"NH\",\"NH\",\"NH\",\"NH\",\"NH\",\"NH\",\"NH\",\"NH\",\"NJ\",\"NJ\",\"NJ\",\"NJ\",\"NJ\",\"NJ\",\"NJ\",\"NJ\",\"NJ\",\"NJ\",\"NJ\",\"NJ\",\"NJ\",\"NJ\",\"NM\",\"NM\",\"NM\",\"NM\",\"NM\",\"NM\",\"NM\",\"NM\",\"NM\",\"NM\",\"NM\",\"NM\",\"NM\",\"NY\",\"NY\",\"NY\",\"NY\",\"NY\",\"NY\",\"NY\",\"NY\",\"NY\",\"NY\",\"NY\",\"NY\",\"NY\",\"NY\",\"NY\",\"NY\",\"NY\",\"NY\",\"NY\",\"NY\",\"NY\",\"NY\",\"NY\",\"NY\",\"NY\",\"NY\",\"NY\",\"NY\",\"NY\",\"NY\",\"NY\",\"NY\",\"NY\",\"NY\",\"NY\",\"NY\",\"NY\",\"NY\",\"NY\",\"NY\",\"NC\",\"NC\",\"NC\",\"NC\",\"NC\",\"NC\",\"NC\",\"NC\",\"NC\",\"NC\",\"NC\",\"NC\",\"NC\",\"NC\",\"NC\",\"NC\",\"NC\",\"NC\",\"NC\",\"NC\",\"NC\",\"NC\",\"NC\",\"NC\",\"NC\",\"NC\",\"NC\",\"NC\",\"NC\",\"NC\",\"NC\",\"NC\",\"NC\",\"NC\",\"NC\",\"NC\",\"ND\",\"ND\",\"ND\",\"ND\",\"ND\",\"ND\",\"ND\",\"ND\",\"OH\",\"OH\",\"OH\",\"OH\",\"OH\",\"OH\",\"OH\",\"OH\",\"OH\",\"OH\",\"OH\",\"OH\",\"OH\",\"OH\",\"OH\",\"OH\",\"OH\",\"OH\",\"OH\",\"OH\",\"OH\",\"OH\",\"OH\",\"OH\",\"OH\",\"OH\",\"OH\",\"OH\",\"OH\",\"OH\",\"OH\",\"OH\",\"OH\",\"OH\",\"OH\",\"OH\",\"OH\",\"OH\",\"OH\",\"OH\",\"OH\",\"OH\",\"OH\",\"OH\",\"OH\",\"OH\",\"OH\",\"OH\",\"OH\",\"OH\",\"OK\",\"OK\",\"OK\",\"OK\",\"OK\",\"OK\",\"OK\",\"OK\",\"OK\",\"OK\",\"OK\",\"OK\",\"OK\",\"OK\",\"OK\",\"OK\",\"OK\",\"OK\",\"OK\",\"OK\",\"OK\",\"OK\",\"OK\",\"OK\",\"OK\",\"OK\",\"OK\",\"OK\",\"OR\",\"OR\",\"OR\",\"OR\",\"OR\",\"OR\",\"OR\",\"OR\",\"OR\",\"OR\",\"OR\",\"OR\",\"OR\",\"OR\",\"OR\",\"OR\",\"OR\",\"OR\",\"OR\",\"OR\",\"OR\",\"OR\",\"OR\",\"PA\",\"PA\",\"PA\",\"PA\",\"PA\",\"PA\",\"PA\",\"PA\",\"PA\",\"PA\",\"PA\",\"PA\",\"PA\",\"PA\",\"PA\",\"PA\",\"PA\",\"PA\",\"PA\",\"PA\",\"PA\",\"PA\",\"PA\",\"PA\",\"PA\",\"PA\",\"PA\",\"PA\",\"PA\",\"PA\",\"PA\",\"PA\",\"PA\",\"PA\",\"PA\",\"PA\",\"PA\",\"PA\",\"PA\",\"PA\",\"PA\",\"PA\",\"PA\",\"PA\",\"PA\",\"PA\",\"PA\",\"PA\",\"PA\",\"PA\",\"PA\",\"PA\",\"PA\",\"RI\",\"RI\",\"RI\",\"SC\",\"SC\",\"SC\",\"SC\",\"SC\",\"SC\",\"SC\",\"SC\",\"SC\",\"SC\",\"SC\",\"SC\",\"SC\",\"SC\",\"SC\",\"SC\",\"SC\",\"SD\",\"SD\",\"SD\",\"SD\",\"SD\",\"SD\",\"TN\",\"TN\",\"TN\",\"TN\",\"TN\",\"TN\",\"TN\",\"TN\",\"TN\",\"TN\",\"TN\",\"TN\",\"TN\",\"TN\",\"TN\",\"TN\",\"TN\",\"TN\",\"TN\",\"TN\",\"TN\",\"TN\",\"TN\",\"TN\",\"TN\",\"TN\",\"TN\",\"TN\",\"TN\",\"TN\",\"TN\",\"TN\",\"TX\",\"TX\",\"TX\",\"TX\",\"TX\",\"TX\",\"TX\",\"TX\",\"TX\",\"TX\",\"TX\",\"TX\",\"TX\",\"TX\",\"TX\",\"TX\",\"TX\",\"TX\",\"TX\",\"TX\",\"TX\",\"TX\",\"TX\",\"TX\",\"TX\",\"TX\",\"TX\",\"TX\",\"TX\",\"TX\",\"TX\",\"TX\",\"TX\",\"TX\",\"TX\",\"TX\",\"TX\",\"TX\",\"TX\",\"TX\",\"TX\",\"TX\",\"TX\",\"TX\",\"TX\",\"TX\",\"TX\",\"TX\",\"TX\",\"TX\",\"TX\",\"TX\",\"TX\",\"TX\",\"TX\",\"TX\",\"TX\",\"TX\",\"TX\",\"TX\",\"TX\",\"TX\",\"TX\",\"TX\",\"TX\",\"TX\",\"TX\",\"TX\",\"TX\",\"TX\",\"TX\",\"TX\",\"TX\",\"TX\",\"TX\",\"TX\",\"TX\",\"TX\",\"TX\",\"TX\",\"TX\",\"TX\",\"UT\",\"UT\",\"UT\",\"UT\",\"UT\",\"UT\",\"UT\",\"VT\",\"VT\",\"VT\",\"VT\",\"VT\",\"VT\",\"VI\",\"VA\",\"VA\",\"VA\",\"VA\",\"VA\",\"VA\",\"VA\",\"VA\",\"VA\",\"VA\",\"VA\",\"VA\",\"VA\",\"VA\",\"VA\",\"VA\",\"VA\",\"VA\",\"VA\",\"VA\",\"VA\",\"VA\",\"VA\",\"VA\",\"WA\",\"WA\",\"WA\",\"WA\",\"WA\",\"WA\",\"WA\",\"WA\",\"WA\",\"WA\",\"WA\",\"WA\",\"WA\",\"WA\",\"WA\",\"WA\",\"WA\",\"WA\",\"WA\",\"WA\",\"WA\",\"WA\",\"WA\",\"WA\",\"WV\",\"WV\",\"WV\",\"WV\",\"WV\",\"WV\",\"WV\",\"WV\",\"WV\",\"WV\",\"WV\",\"WV\",\"WV\",\"WV\",\"WV\",\"WV\",\"WV\",\"WV\",\"WI\",\"WI\",\"WI\",\"WI\",\"WI\",\"WI\",\"WI\",\"WI\",\"WI\",\"WI\",\"WI\",\"WI\",\"WI\",\"WI\",\"WI\",\"WI\",\"WI\",\"WI\",\"WI\",\"WI\",\"WI\",\"WY\",\"WY\",\"WY\",\"WY\",\"WY\",\"WY\",\"WY\",\"WY\",\"WY\",\"TX\",\"TX\",\"TX\",\"TX\",\"TX\",\"TX\",\"TX\",\"TX\",\"TX\",\"TX\",\"TX\",\"TX\",\"TX\",\"AL\",\"AL\",\"AL\",\"AL\",\"AL\",\"AL\",\"AL\",\"AL\",\"AL\",\"AL\",\"AL\",\"AL\",\"AL\",\"AL\",\"AL\",\"AK\",\"AK\",\"AK\",\"AK\",\"AZ\",\"AZ\",\"AZ\",\"AZ\",\"AZ\",\"AZ\",\"AZ\",\"AZ\",\"AZ\",\"AZ\",\"AZ\",\"AZ\",\"AZ\",\"AZ\",\"AR\",\"AR\",\"AR\",\"AR\",\"AR\",\"AR\",\"AR\",\"AR\",\"AR\",\"CA\",\"CA\",\"CA\",\"CA\",\"CA\",\"CA\",\"CA\",\"CA\",\"CA\",\"CA\",\"CA\",\"CA\",\"CA\",\"CA\",\"CA\",\"CA\",\"CA\",\"CA\",\"CA\",\"CA\",\"CA\",\"CA\",\"CA\",\"CA\",\"CA\",\"CA\",\"CA\",\"CA\",\"CA\",\"CA\",\"CA\",\"CA\",\"CA\",\"CA\",\"CA\",\"CA\",\"CA\",\"CA\",\"CA\",\"CA\",\"CA\",\"CA\",\"CA\",\"CA\",\"CA\",\"CA\",\"CA\",\"CA\",\"CA\",\"CA\",\"CA\",\"CA\",\"CA\",\"CA\",\"CA\",\"CA\",\"CA\",\"CA\",\"CA\",\"CA\",\"CA\",\"CA\",\"CO\",\"CO\",\"CO\",\"CO\",\"CO\",\"CO\",\"CO\",\"CO\",\"CO\",\"CO\",\"CO\",\"CO\",\"CO\",\"CO\",\"CO\",\"CO\",\"CO\",\"CO\",\"CO\",\"CO\",\"CO\",\"CO\",\"CO\",\"CO\",\"CO\",\"CT\",\"CT\",\"CT\",\"CT\",\"CT\",\"CT\",\"CT\",\"CT\",\"CT\",\"DE\",\"FL\",\"FL\",\"FL\",\"FL\",\"FL\",\"FL\",\"FL\",\"FL\",\"FL\",\"FL\",\"FL\",\"FL\",\"FL\",\"FL\",\"FL\",\"FL\",\"FL\",\"FL\",\"FL\",\"FL\",\"FL\",\"FL\",\"FL\",\"FL\",\"FL\",\"FL\",\"FL\",\"FL\",\"GA\",\"GA\",\"GA\",\"GA\",\"GA\",\"GA\",\"GA\",\"GA\",\"GA\",\"GA\",\"GA\",\"GA\",\"GA\",\"GA\",\"GA\",\"GA\",\"GA\",\"GA\",\"GA\",\"GA\",\"GA\",\"GA\",\"GA\",\"GA\",\"GA\",\"GA\",\"HI\",\"HI\",\"HI\",\"HI\",\"HI\",\"ID\",\"ID\",\"ID\",\"ID\",\"ID\",\"ID\",\"ID\",\"ID\",\"ID\",\"ID\",\"ID\",\"IL\",\"IL\",\"IL\",\"IL\",\"IL\",\"IL\",\"IL\",\"IL\",\"IL\",\"IL\",\"IL\",\"IL\",\"IL\",\"IL\",\"IL\",\"IL\",\"IL\",\"IL\",\"IL\",\"IL\",\"IL\",\"IL\",\"IL\",\"IL\",\"IL\",\"IL\",\"IL\",\"IL\",\"IL\",\"IL\",\"IL\",\"IL\",\"IL\",\"IL\",\"IL\",\"IL\",\"IL\",\"IL\",\"IL\",\"IL\",\"IL\",\"IL\",\"IL\",\"IL\",\"IL\",\"IL\",\"IL\",\"IL\",\"IL\",\"IN\",\"IN\",\"IN\",\"IN\",\"IN\",\"IN\",\"IN\",\"IN\",\"IN\",\"IN\",\"IN\",\"IN\",\"IN\",\"IN\",\"IN\",\"IN\",\"IN\",\"IN\",\"IN\",\"IN\",\"IN\",\"IN\",\"IN\",\"IN\",\"IN\",\"IN\",\"IN\",\"IN\",\"IN\",\"IN\",\"IN\",\"IN\",\"IN\",\"IN\",\"IN\",\"IN\",\"IN\",\"IN\",\"IN\",\"IN\",\"IN\",\"IN\",\"IN\",\"IN\",\"IN\",\"IN\",\"IN\",\"IN\",\"IN\",\"IN\",\"IN\",\"IA\",\"IA\",\"IA\",\"IA\",\"IA\",\"IA\",\"IA\",\"IA\",\"IA\",\"IA\",\"IA\",\"IA\",\"IA\",\"IA\",\"IA\",\"IA\",\"IA\",\"IA\",\"IA\",\"IA\",\"IA\",\"IA\",\"IA\",\"IA\",\"IA\",\"IA\",\"IA\",\"IA\",\"IA\",\"IA\",\"IA\",\"IA\",\"IA\",\"IA\",\"IA\",\"IA\",\"KS\",\"KS\",\"KS\",\"KS\",\"KS\",\"KS\",\"KS\",\"KS\",\"KS\",\"KS\",\"KS\",\"KS\",\"KS\",\"KS\",\"KS\",\"KS\",\"KS\",\"KS\",\"KS\",\"KS\",\"KS\",\"KY\",\"KY\",\"KY\",\"KY\",\"KY\",\"KY\",\"KY\",\"KY\",\"KY\",\"KY\",\"KY\",\"KY\",\"KY\",\"KY\",\"KY\",\"KY\",\"KY\",\"KY\",\"KY\",\"KY\",\"KY\",\"LA\",\"LA\",\"LA\",\"LA\",\"LA\",\"LA\",\"LA\",\"LA\",\"LA\",\"LA\",\"LA\",\"LA\",\"LA\",\"LA\",\"LA\",\"LA\",\"LA\",\"LA\",\"LA\",\"LA\",\"ME\",\"ME\",\"ME\",\"ME\",\"ME\",\"ME\",\"ME\",\"ME\",\"ME\",\"ME\",\"ME\",\"ME\",\"ME\",\"ME\",\"MD\",\"MD\",\"MD\",\"MD\",\"MD\",\"MD\",\"MD\",\"MD\",\"MD\",\"MA\",\"MA\",\"MA\",\"MA\",\"MA\",\"MA\",\"MA\",\"MA\",\"MA\",\"MA\",\"MA\",\"MI\",\"MI\",\"MI\",\"MI\",\"MI\",\"MI\",\"MI\",\"MI\",\"MI\",\"MI\",\"MI\",\"MI\",\"MI\",\"MI\",\"MI\",\"MI\",\"MI\",\"MI\",\"MI\",\"MI\",\"MI\",\"MI\",\"MI\",\"MI\",\"MI\",\"MI\",\"MI\",\"MI\",\"MI\",\"MI\",\"MI\",\"MI\",\"MI\",\"MI\",\"MI\",\"MI\",\"MI\",\"MI\",\"MI\",\"MI\",\"MI\",\"MI\",\"MI\",\"MI\",\"MI\",\"MI\",\"MI\",\"MI\",\"MI\",\"MI\",\"MI\",\"MN\",\"MN\",\"MN\",\"MN\",\"MN\",\"MN\",\"MN\",\"MN\",\"MN\",\"MN\",\"MN\",\"MN\",\"MN\",\"MN\",\"MN\",\"MN\",\"MN\",\"MN\",\"MN\",\"MN\",\"MN\",\"MN\",\"MN\",\"MN\",\"MN\",\"MN\",\"MN\",\"MN\",\"MN\",\"MN\",\"MN\",\"MN\",\"MN\",\"MN\",\"MN\",\"MN\",\"MN\",\"MN\",\"MN\",\"MN\",\"MN\",\"MN\",\"MN\",\"MS\",\"MS\",\"MS\",\"MS\",\"MS\",\"MS\",\"MS\",\"MO\",\"MO\",\"MO\",\"MO\",\"MO\",\"MO\",\"MO\",\"MO\",\"MO\",\"MO\",\"MO\",\"MO\",\"MO\",\"MO\",\"MO\",\"MO\",\"MO\",\"MO\",\"MO\",\"MO\",\"MO\",\"MO\",\"MO\",\"MT\",\"MT\",\"MT\",\"MT\",\"MT\",\"MT\",\"MT\",\"MT\",\"MT\",\"MT\",\"MT\",\"MT\",\"NE\",\"NE\",\"NE\",\"NE\",\"NE\",\"NE\",\"NE\",\"NE\",\"NE\",\"NE\",\"NE\",\"NE\",\"NE\",\"NE\",\"NE\",\"NE\",\"NE\",\"NE\",\"NE\",\"NE\",\"NE\",\"NE\",\"NE\",\"NE\",\"NE\",\"NV\",\"NV\",\"NV\",\"NV\",\"NH\",\"NH\",\"NH\",\"NH\",\"NH\",\"NH\",\"NH\",\"NH\",\"NH\",\"NH\",\"NJ\",\"NJ\",\"NJ\",\"NJ\",\"NJ\",\"NJ\",\"NJ\",\"NJ\",\"NJ\",\"NJ\",\"NM\",\"NM\",\"NM\",\"NM\",\"NM\",\"NM\",\"NY\",\"NY\",\"NY\",\"NY\",\"NY\",\"NY\",\"NY\",\"NY\",\"NY\",\"NY\",\"NY\",\"NY\",\"NY\",\"NY\",\"NY\",\"NY\",\"NC\",\"NC\",\"NC\",\"NC\",\"NC\",\"NC\",\"NC\",\"NC\",\"NC\",\"NC\",\"NC\",\"NC\",\"NC\",\"NC\",\"NC\",\"NC\",\"NC\",\"NC\",\"NC\",\"NC\",\"NC\",\"NC\",\"NC\",\"NC\",\"NC\",\"NC\",\"ND\",\"ND\",\"ND\",\"ND\",\"ND\",\"ND\",\"ND\",\"ND\",\"OH\",\"OH\",\"OH\",\"OH\",\"OH\",\"OH\",\"OH\",\"OH\",\"OH\",\"OH\",\"OH\",\"OH\",\"OH\",\"OH\",\"OH\",\"OH\",\"OH\",\"OH\",\"OH\",\"OH\",\"OH\",\"OH\",\"OH\",\"OH\",\"OH\",\"OH\",\"OH\",\"OH\",\"OH\",\"OH\",\"OH\",\"OH\",\"OH\",\"OH\",\"OH\",\"OH\",\"OH\",\"OH\",\"OH\",\"OH\",\"OH\",\"OH\",\"OH\",\"OH\",\"OH\",\"OH\",\"OH\",\"OH\",\"OH\",\"OH\",\"OH\",\"OH\",\"OK\",\"OK\",\"OK\",\"OK\",\"OK\",\"OK\",\"OK\",\"OK\",\"OK\",\"OK\",\"OK\",\"OK\",\"OK\",\"OK\",\"OK\",\"OK\",\"OK\",\"OK\",\"OK\",\"OK\",\"OK\",\"OK\",\"OK\",\"OK\",\"OR\",\"OR\",\"OR\",\"OR\",\"OR\",\"OR\",\"OR\",\"OR\",\"OR\",\"OR\",\"OR\",\"OR\",\"OR\",\"OR\",\"OR\",\"OR\",\"OR\",\"OR\",\"OR\",\"OR\",\"OR\",\"OR\",\"PA\",\"PA\",\"PA\",\"PA\",\"PA\",\"PA\",\"PA\",\"PA\",\"PA\",\"PA\",\"PA\",\"PA\",\"PA\",\"PA\",\"PA\",\"PA\",\"PA\",\"PA\",\"PA\",\"PA\",\"PA\",\"PA\",\"PA\",\"PA\",\"PA\",\"PA\",\"PA\",\"PA\",\"PA\",\"PA\",\"PA\",\"PA\",\"PA\",\"PA\",\"PA\",\"PA\",\"RI\",\"RI\",\"SC\",\"SC\",\"SC\",\"SC\",\"SC\",\"SC\",\"SC\",\"SC\",\"SC\",\"SC\",\"SC\",\"SC\",\"SC\",\"SC\",\"SC\",\"SD\",\"SD\",\"SD\",\"SD\",\"SD\",\"SD\",\"SD\",\"TN\",\"TN\",\"TN\",\"TN\",\"TN\",\"TN\",\"TN\",\"TN\",\"TN\",\"TN\",\"TN\",\"TN\",\"TN\",\"TN\",\"TN\",\"TN\",\"TN\",\"TN\",\"TN\",\"TN\",\"TN\",\"TX\",\"TX\",\"TX\",\"TX\",\"TX\",\"TX\",\"TX\",\"TX\",\"TX\",\"TX\",\"TX\",\"TX\",\"TX\",\"TX\",\"TX\",\"TX\",\"TX\",\"TX\",\"TX\",\"TX\",\"TX\",\"TX\",\"TX\",\"TX\",\"TX\",\"TX\",\"TX\",\"TX\",\"TX\",\"TX\",\"TX\",\"TX\",\"TX\",\"TX\",\"TX\",\"TX\",\"TX\",\"TX\",\"TX\",\"TX\",\"TX\",\"TX\",\"TX\",\"TX\",\"TX\",\"TX\",\"TX\",\"TX\",\"TX\",\"TX\",\"TX\",\"TX\",\"TX\",\"TX\",\"TX\",\"TX\",\"TX\",\"TX\",\"TX\",\"TX\",\"TX\",\"TX\",\"TX\",\"TX\",\"TX\",\"TX\",\"TX\",\"TX\",\"TX\",\"TX\",\"TX\",\"TX\",\"TX\",\"UT\",\"UT\",\"UT\",\"UT\",\"UT\",\"UT\",\"UT\",\"UT\",\"UT\",\"UT\",\"UT\",\"UT\",\"UT\",\"UT\",\"UT\",\"UT\",\"UT\",\"UT\",\"UT\",\"UT\",\"UT\",\"VT\",\"VT\",\"VT\",\"VT\",\"VT\",\"VA\",\"VA\",\"VA\",\"VA\",\"VA\",\"VA\",\"VA\",\"VA\",\"VA\",\"VA\",\"VA\",\"VA\",\"VA\",\"VA\",\"VA\",\"VA\",\"VA\",\"VA\",\"VA\",\"VA\",\"VA\",\"VA\",\"VA\",\"VA\",\"WA\",\"WA\",\"WA\",\"WA\",\"WA\",\"WA\",\"WA\",\"WA\",\"WA\",\"WA\",\"WA\",\"WA\",\"WA\",\"WA\",\"WA\",\"WA\",\"WA\",\"WA\",\"WA\",\"WV\",\"WV\",\"WV\",\"WV\",\"WV\",\"WV\",\"WV\",\"WV\",\"WI\",\"WI\",\"WI\",\"WI\",\"WI\",\"WI\",\"WI\",\"WI\",\"WI\",\"WI\",\"WI\",\"WI\",\"WI\",\"WI\",\"WI\",\"WI\",\"WI\",\"WI\",\"WI\",\"WI\",\"WI\",\"WI\",\"WI\",\"WI\",\"WI\",\"WI\",\"WI\",\"WI\",\"WI\",\"WI\",\"WI\",\"WI\",\"WI\",\"WI\",\"WI\",\"WI\",\"WI\",\"WI\",\"WI\",\"WI\",\"WI\",\"WI\",\"WI\",\"WI\",\"WI\",\"WI\",\"WI\",\"WI\",\"WI\",\"WI\",\"WI\",\"WI\",\"WI\",\"WI\",\"WI\",\"WI\",\"WI\",\"WI\",\"WI\",\"WY\",\"WY\",\"WY\",\"WY\",\"WY\",\"WY\",\"TX\",\"TX\",\"TX\",\"TX\",\"TX\",\"TX\",\"TX\",\"TX\",\"TX\",\"TX\",\"TX\",\"AL\",\"AL\",\"AL\",\"AL\",\"AL\",\"AK\",\"AK\",\"AZ\",\"AZ\",\"AZ\",\"AZ\",\"AR\",\"AR\",\"CA\",\"CA\",\"CA\",\"CA\",\"CA\",\"CA\",\"CA\",\"CA\",\"CA\",\"CA\",\"CA\",\"CA\",\"CA\",\"CA\",\"CA\",\"CA\",\"CA\",\"CA\",\"CA\",\"CA\",\"CA\",\"CO\",\"CO\",\"CO\",\"CO\",\"CO\",\"CO\",\"FL\",\"FL\",\"FL\",\"FL\",\"FL\",\"FL\",\"FL\",\"FL\",\"FL\",\"GA\",\"GA\",\"GA\",\"GA\",\"GA\",\"HI\",\"HI\",\"HI\",\"ID\",\"ID\",\"ID\",\"ID\",\"ID\",\"IL\",\"IL\",\"IL\",\"IL\",\"IL\",\"IL\",\"IL\",\"IL\",\"IL\",\"IL\",\"IL\",\"IL\",\"IN\",\"IN\",\"IN\",\"IN\",\"IN\",\"IN\",\"IN\",\"IN\",\"IN\",\"IN\",\"IN\",\"IN\",\"IN\",\"IA\",\"IA\",\"IA\",\"IA\",\"IA\",\"IA\",\"IA\",\"KS\",\"KS\",\"KS\",\"KS\",\"KS\",\"KS\",\"KS\",\"KS\",\"KY\",\"LA\",\"LA\",\"LA\",\"ME\",\"ME\",\"ME\",\"MD\",\"MD\",\"MD\",\"MD\",\"MD\",\"MA\",\"MA\",\"MA\",\"MA\",\"MA\",\"MA\",\"MA\",\"MI\",\"MI\",\"MI\",\"MI\",\"MI\",\"MI\",\"MI\",\"MI\",\"MI\",\"MI\",\"MI\",\"MN\",\"MN\",\"MN\",\"MN\",\"MN\",\"MN\",\"MN\",\"MN\",\"MS\",\"MO\",\"MO\",\"MO\",\"MO\",\"MO\",\"MO\",\"MT\",\"MT\",\"MT\",\"NE\",\"NE\",\"NH\",\"NH\",\"NH\",\"NJ\",\"NJ\",\"NJ\",\"NJ\",\"NJ\",\"NJ\",\"NY\",\"NC\",\"NC\",\"NC\",\"NC\",\"NC\",\"NC\",\"NC\",\"OH\",\"OH\",\"OH\",\"OH\",\"OH\",\"OH\",\"OH\",\"OH\",\"OH\",\"OH\",\"OH\",\"OH\",\"OH\",\"OH\",\"OH\",\"OH\",\"OH\",\"OH\",\"OH\",\"OH\",\"OK\",\"OK\",\"OK\",\"OK\",\"OK\",\"OK\",\"OK\",\"OK\",\"OK\",\"OR\",\"OR\",\"OR\",\"PA\",\"PA\",\"PA\",\"PA\",\"PA\",\"PA\",\"PA\",\"PA\",\"PA\",\"PA\",\"PA\",\"RI\",\"RI\",\"SC\",\"SC\",\"SC\",\"SC\",\"SC\",\"SD\",\"SD\",\"SD\",\"SD\",\"SD\",\"TN\",\"TX\",\"TX\",\"TX\",\"TX\",\"TX\",\"TX\",\"TX\",\"TX\",\"TX\",\"TX\",\"TX\",\"TX\",\"TX\",\"TX\",\"TX\",\"TX\",\"UT\",\"UT\",\"UT\",\"UT\",\"VA\",\"VA\",\"VA\",\"VA\",\"VA\",\"VA\",\"VA\",\"VA\",\"VA\",\"WA\",\"WA\",\"WA\",\"WA\",\"WA\",\"WA\",\"WV\",\"WI\",\"WI\",\"WI\",\"WI\",\"WI\",\"WI\",\"WI\",\"WI\",\"WI\",\"WI\",\"WI\",\"WI\",\"WI\",\"WI\",\"WI\",\"WI\",\"WI\",\"WI\",\"WI\",\"WI\",\"WI\",\"WI\",\"WY\",\"TX\",\"TX\",\"TX\",\"TX\",\"TX\",\"TX\",\"TX\",\"TX\"],\"z\":[15131.860759493671,15131.860759493671,15131.860759493671,15131.860759493671,15131.860759493671,15239.927272727273,15239.927272727273,14963.741935483871,14963.741935483871,14963.741935483871,14963.741935483871,14963.741935483871,14963.741935483871,14963.741935483871,14963.741935483871,14275.631756756757,14275.631756756757,14275.631756756757,14275.631756756757,14275.631756756757,14275.631756756757,14275.631756756757,14275.631756756757,14275.631756756757,14275.631756756757,14275.631756756757,14275.631756756757,14275.631756756757,14275.631756756757,14275.631756756757,14275.631756756757,14275.631756756757,14275.631756756757,14275.631756756757,14275.631756756757,14275.631756756757,14275.631756756757,14275.631756756757,14275.631756756757,17479.928571428572,17479.928571428572,17479.928571428572,17479.928571428572,17479.928571428572,17479.928571428572,16599.714285714286,16599.714285714286,16599.714285714286,16599.714285714286,16599.714285714286,17528.958579881655,17528.958579881655,17528.958579881655,17528.958579881655,17528.958579881655,17528.958579881655,17528.958579881655,17528.958579881655,17528.958579881655,17528.958579881655,17528.958579881655,17528.958579881655,17528.958579881655,17528.958579881655,17528.958579881655,17528.958579881655,17528.958579881655,17528.958579881655,17528.958579881655,17528.958579881655,17528.958579881655,17528.958579881655,17528.958579881655,17528.958579881655,17528.958579881655,17528.958579881655,17528.958579881655,17528.958579881655,17528.958579881655,17528.958579881655,17528.958579881655,17528.958579881655,13924.518518518518,13924.518518518518,13924.518518518518,13924.518518518518,13924.518518518518,13924.518518518518,13924.518518518518,13924.518518518518,13924.518518518518,13924.518518518518,13924.518518518518,13924.518518518518,15991.79754601227,15991.79754601227,15991.79754601227,15991.79754601227,15991.79754601227,15991.79754601227,15991.79754601227,15991.79754601227,15991.79754601227,15991.79754601227,15991.79754601227,15991.79754601227,15991.79754601227,15991.79754601227,15991.79754601227,15991.79754601227,13758.392857142857,14375.757142857143,15410.219512195123,15410.219512195123,15410.219512195123,15410.219512195123,15410.219512195123,15410.219512195123,14672.345679012345,14672.345679012345,16141.244444444445,16141.244444444445,16141.244444444445,16141.244444444445,16141.244444444445,16141.244444444445,16732.589285714286,16732.589285714286,16732.589285714286,16732.589285714286,15121.956896551725,15121.956896551725,15121.956896551725,15121.956896551725,13076.631578947368,15944.323076923078,15944.323076923078,15944.323076923078,15944.323076923078,15944.323076923078,15944.323076923078,15327.41573033708,15327.41573033708,15327.41573033708,15327.41573033708,15327.41573033708,15327.41573033708,15327.41573033708,11046.035087719298,16389.40740740741,16389.40740740741,16389.40740740741,16389.40740740741,16389.40740740741,16389.40740740741,16389.40740740741,16389.40740740741,16389.40740740741,16389.40740740741,18314.90625,18314.90625,18314.90625,18314.90625,18314.90625,18314.90625,18314.90625,18314.90625,15123.633333333333,15123.633333333333,15123.633333333333,15795.6,15795.6,15795.6,15795.6,15795.6,15795.6,15795.6,15795.6,15795.6,15795.6,15795.6,15795.6,15795.6,15795.6,15795.6,15795.6,15795.6,15795.6,15795.6,15795.6,15795.6,15795.6,15795.6,15795.6,15795.6,15795.6,15795.6,15795.6,15795.6,15795.6,15795.6,15795.6,15795.6,15795.6,15795.6,15795.6,15795.6,15795.6,15795.6,15795.6,15795.6,15795.6,15795.6,15795.6,15795.6,15795.6,15795.6,15795.6,15117.234042553191,15117.234042553191,15117.234042553191,15117.234042553191,15117.234042553191,15117.234042553191,15117.234042553191,11334.6,11334.6,15905.808219178081,15905.808219178081,13660.70588235294,13660.70588235294,13660.70588235294,13660.70588235294,13660.70588235294,16380.18,16380.18,16380.18,16380.18,16380.18,16380.18,16380.18,16380.18,16380.18,16380.18,16380.18,16380.18,16380.18,14337.666666666666,14337.666666666666,14337.666666666666,15103.872727272726,15103.872727272726,15103.872727272726,15252.692307692309,15252.692307692309,15252.692307692309,15252.692307692309,15252.692307692309,15252.692307692309,15252.692307692309,15252.692307692309,15252.692307692309,15252.692307692309,15058.62030075188,15058.62030075188,15058.62030075188,15058.62030075188,15058.62030075188,15058.62030075188,15058.62030075188,15058.62030075188,15058.62030075188,15058.62030075188,16337.636363636364,16337.636363636364,16337.636363636364,14469.14705882353,14469.14705882353,13396.23076923077,13396.23076923077,14351.574074074075,15131.860759493671,15131.860759493671,15131.860759493671,15131.860759493671,15131.860759493671,15131.860759493671,15131.860759493671,15131.860759493671,15131.860759493671,15131.860759493671,15131.860759493671,15131.860759493671,15131.860759493671,15131.860759493671,15131.860759493671,15131.860759493671,15131.860759493671,15131.860759493671,15131.860759493671,15131.860759493671,15131.860759493671,15131.860759493671,15131.860759493671,13600.9,15239.927272727273,15239.927272727273,15239.927272727273,15239.927272727273,15239.927272727273,15239.927272727273,15239.927272727273,15239.927272727273,15239.927272727273,15239.927272727273,15239.927272727273,15239.927272727273,15239.927272727273,15239.927272727273,15239.927272727273,15239.927272727273,14963.741935483871,14963.741935483871,14963.741935483871,14963.741935483871,14963.741935483871,14963.741935483871,14963.741935483871,14963.741935483871,14963.741935483871,14963.741935483871,14963.741935483871,14963.741935483871,14963.741935483871,14963.741935483871,14963.741935483871,14963.741935483871,14963.741935483871,14963.741935483871,14963.741935483871,14963.741935483871,14275.631756756757,14275.631756756757,14275.631756756757,14275.631756756757,14275.631756756757,14275.631756756757,14275.631756756757,14275.631756756757,14275.631756756757,14275.631756756757,14275.631756756757,14275.631756756757,14275.631756756757,14275.631756756757,14275.631756756757,14275.631756756757,14275.631756756757,14275.631756756757,14275.631756756757,14275.631756756757,14275.631756756757,14275.631756756757,14275.631756756757,14275.631756756757,14275.631756756757,14275.631756756757,14275.631756756757,14275.631756756757,14275.631756756757,14275.631756756757,14275.631756756757,14275.631756756757,14275.631756756757,14275.631756756757,14275.631756756757,14275.631756756757,14275.631756756757,14275.631756756757,14275.631756756757,14275.631756756757,14275.631756756757,14275.631756756757,14275.631756756757,14275.631756756757,14275.631756756757,14275.631756756757,14275.631756756757,14275.631756756757,14275.631756756757,14275.631756756757,14275.631756756757,14275.631756756757,14275.631756756757,14275.631756756757,14275.631756756757,14275.631756756757,14275.631756756757,14275.631756756757,14275.631756756757,14275.631756756757,14275.631756756757,14275.631756756757,14275.631756756757,14275.631756756757,14275.631756756757,14275.631756756757,14275.631756756757,14275.631756756757,14275.631756756757,14275.631756756757,14275.631756756757,14275.631756756757,14275.631756756757,14275.631756756757,14275.631756756757,14275.631756756757,14275.631756756757,14275.631756756757,14275.631756756757,14275.631756756757,14275.631756756757,14275.631756756757,14275.631756756757,14275.631756756757,14275.631756756757,14275.631756756757,14275.631756756757,14275.631756756757,14275.631756756757,14275.631756756757,14275.631756756757,14275.631756756757,14275.631756756757,14275.631756756757,14275.631756756757,14275.631756756757,13443.40350877193,13443.40350877193,13443.40350877193,17479.928571428572,17479.928571428572,17479.928571428572,17479.928571428572,16965.166666666668,16965.166666666668,16599.714285714286,17528.958579881655,17528.958579881655,17528.958579881655,17528.958579881655,17528.958579881655,17528.958579881655,17528.958579881655,17528.958579881655,17528.958579881655,17528.958579881655,17528.958579881655,17528.958579881655,17528.958579881655,17528.958579881655,17528.958579881655,17528.958579881655,17528.958579881655,17528.958579881655,17528.958579881655,17528.958579881655,17528.958579881655,17528.958579881655,17528.958579881655,17528.958579881655,17528.958579881655,17528.958579881655,17528.958579881655,17528.958579881655,17528.958579881655,17528.958579881655,17528.958579881655,17528.958579881655,17528.958579881655,17528.958579881655,17528.958579881655,17528.958579881655,17528.958579881655,17528.958579881655,17528.958579881655,17528.958579881655,17528.958579881655,17528.958579881655,17528.958579881655,17528.958579881655,17528.958579881655,17528.958579881655,17528.958579881655,17528.958579881655,17528.958579881655,17528.958579881655,17528.958579881655,17528.958579881655,17528.958579881655,17528.958579881655,17528.958579881655,17528.958579881655,17528.958579881655,17528.958579881655,17528.958579881655,17528.958579881655,13924.518518518518,13924.518518518518,13924.518518518518,13924.518518518518,13924.518518518518,13924.518518518518,13924.518518518518,13924.518518518518,13924.518518518518,13924.518518518518,13924.518518518518,13924.518518518518,13924.518518518518,13924.518518518518,13924.518518518518,13924.518518518518,13924.518518518518,13924.518518518518,13924.518518518518,13924.518518518518,13924.518518518518,13924.518518518518,13924.518518518518,14192.153846153846,12450.84,12450.84,12450.84,15991.79754601227,15991.79754601227,15991.79754601227,15991.79754601227,15991.79754601227,15991.79754601227,15991.79754601227,15991.79754601227,15991.79754601227,15991.79754601227,15991.79754601227,15991.79754601227,15991.79754601227,15991.79754601227,15991.79754601227,15991.79754601227,15991.79754601227,15991.79754601227,15991.79754601227,15991.79754601227,15991.79754601227,15991.79754601227,15991.79754601227,15991.79754601227,15991.79754601227,15991.79754601227,15991.79754601227,15991.79754601227,15991.79754601227,15991.79754601227,15991.79754601227,15901.054545454546,15901.054545454546,15901.054545454546,15901.054545454546,15901.054545454546,15901.054545454546,15901.054545454546,15901.054545454546,15901.054545454546,15901.054545454546,13758.392857142857,13758.392857142857,13758.392857142857,13758.392857142857,13758.392857142857,13758.392857142857,13758.392857142857,13758.392857142857,13758.392857142857,13758.392857142857,13758.392857142857,14375.757142857143,14375.757142857143,14375.757142857143,14375.757142857143,14375.757142857143,14375.757142857143,14375.757142857143,14375.757142857143,14375.757142857143,14375.757142857143,15410.219512195123,15410.219512195123,15410.219512195123,15410.219512195123,15410.219512195123,15410.219512195123,15410.219512195123,15410.219512195123,15410.219512195123,15410.219512195123,15410.219512195123,15410.219512195123,15410.219512195123,15410.219512195123,15410.219512195123,15410.219512195123,15410.219512195123,15410.219512195123,15410.219512195123,15410.219512195123,15410.219512195123,15410.219512195123,14672.345679012345,14672.345679012345,14672.345679012345,14672.345679012345,14672.345679012345,14672.345679012345,14672.345679012345,14672.345679012345,14672.345679012345,14672.345679012345,14672.345679012345,14672.345679012345,14672.345679012345,14672.345679012345,14672.345679012345,14672.345679012345,14672.345679012345,14672.345679012345,14672.345679012345,14672.345679012345,14672.345679012345,16064.9375,16064.9375,16064.9375,16064.9375,16064.9375,16141.244444444445,16141.244444444445,16141.244444444445,16141.244444444445,16141.244444444445,16141.244444444445,16732.589285714286,16732.589285714286,16732.589285714286,16732.589285714286,16732.589285714286,16732.589285714286,16732.589285714286,16732.589285714286,16732.589285714286,16732.589285714286,16732.589285714286,16732.589285714286,16732.589285714286,16732.589285714286,16732.589285714286,15121.956896551725,15121.956896551725,15121.956896551725,15121.956896551725,15121.956896551725,15121.956896551725,15121.956896551725,15121.956896551725,15121.956896551725,15121.956896551725,15121.956896551725,15121.956896551725,15121.956896551725,13076.631578947368,13076.631578947368,13076.631578947368,13076.631578947368,13076.631578947368,15944.323076923078,15944.323076923078,15944.323076923078,15944.323076923078,15944.323076923078,15944.323076923078,15944.323076923078,15944.323076923078,15944.323076923078,15944.323076923078,15944.323076923078,15944.323076923078,15944.323076923078,15944.323076923078,15944.323076923078,15944.323076923078,15944.323076923078,15944.323076923078,15944.323076923078,15944.323076923078,15944.323076923078,15944.323076923078,15944.323076923078,15944.323076923078,15944.323076923078,15327.41573033708,15327.41573033708,15327.41573033708,15327.41573033708,15327.41573033708,15327.41573033708,15327.41573033708,15327.41573033708,15327.41573033708,15327.41573033708,15327.41573033708,15327.41573033708,15327.41573033708,15327.41573033708,15327.41573033708,15327.41573033708,15327.41573033708,14058.96,14058.96,11046.035087719298,11046.035087719298,11046.035087719298,16389.40740740741,16389.40740740741,16389.40740740741,16389.40740740741,16389.40740740741,16389.40740740741,15933.0,15933.0,15933.0,15933.0,18314.90625,18314.90625,18314.90625,18314.90625,18314.90625,18314.90625,18314.90625,18314.90625,18314.90625,18314.90625,18314.90625,18314.90625,18314.90625,18314.90625,18314.90625,18314.90625,18314.90625,18314.90625,18314.90625,18314.90625,18314.90625,18314.90625,18314.90625,18314.90625,18314.90625,18314.90625,15123.633333333333,15123.633333333333,15123.633333333333,15123.633333333333,15123.633333333333,15123.633333333333,15123.633333333333,15123.633333333333,15795.6,15795.6,15795.6,15795.6,15795.6,15795.6,15795.6,15795.6,15795.6,15795.6,15795.6,15795.6,15795.6,15795.6,15795.6,15795.6,15795.6,15795.6,15795.6,15795.6,15795.6,15795.6,15795.6,15795.6,15795.6,15795.6,15795.6,15795.6,15795.6,15795.6,15795.6,15795.6,15795.6,15795.6,15795.6,15795.6,15795.6,15795.6,15795.6,15795.6,15795.6,15795.6,15795.6,15795.6,15795.6,15117.234042553191,15117.234042553191,15117.234042553191,15117.234042553191,15117.234042553191,15117.234042553191,15117.234042553191,15117.234042553191,15117.234042553191,15117.234042553191,15117.234042553191,15117.234042553191,15117.234042553191,15117.234042553191,15117.234042553191,15117.234042553191,15117.234042553191,15117.234042553191,11334.6,11334.6,15905.808219178081,15905.808219178081,15905.808219178081,15905.808219178081,15905.808219178081,15905.808219178081,15905.808219178081,15905.808219178081,15905.808219178081,15905.808219178081,15905.808219178081,15905.808219178081,15905.808219178081,15905.808219178081,15905.808219178081,15905.808219178081,15905.808219178081,15905.808219178081,15905.808219178081,15905.808219178081,15905.808219178081,15905.808219178081,13660.70588235294,13660.70588235294,13660.70588235294,13660.70588235294,13660.70588235294,13660.70588235294,13660.70588235294,13660.70588235294,13660.70588235294,13660.70588235294,13660.70588235294,13660.70588235294,13660.70588235294,13660.70588235294,13660.70588235294,13660.70588235294,13660.70588235294,13660.70588235294,13660.70588235294,13591.096153846154,13591.096153846154,13591.096153846154,13591.096153846154,16380.18,16380.18,16380.18,16380.18,16380.18,16380.18,16380.18,16380.18,16380.18,16380.18,16380.18,16380.18,16380.18,16380.18,16380.18,16380.18,16380.18,16380.18,16380.18,16380.18,16380.18,16380.18,16380.18,16380.18,16380.18,16380.18,16380.18,16380.18,16380.18,16380.18,16380.18,16380.18,16380.18,16380.18,16380.18,16380.18,16380.18,14337.666666666666,14337.666666666666,14337.666666666666,14933.6,14933.6,14933.6,15103.872727272726,15103.872727272726,15103.872727272726,15103.872727272726,15103.872727272726,15103.872727272726,15103.872727272726,15103.872727272726,15103.872727272726,15103.872727272726,15103.872727272726,15103.872727272726,15103.872727272726,15103.872727272726,15103.872727272726,13748.421052631578,15252.692307692309,15252.692307692309,15252.692307692309,15252.692307692309,15252.692307692309,15252.692307692309,15252.692307692309,15252.692307692309,15252.692307692309,15252.692307692309,15252.692307692309,15252.692307692309,15252.692307692309,15252.692307692309,15252.692307692309,15252.692307692309,15252.692307692309,15252.692307692309,15252.692307692309,15252.692307692309,15252.692307692309,15252.692307692309,15252.692307692309,15252.692307692309,15252.692307692309,15252.692307692309,15252.692307692309,15058.62030075188,15058.62030075188,15058.62030075188,15058.62030075188,15058.62030075188,15058.62030075188,15058.62030075188,15058.62030075188,15058.62030075188,15058.62030075188,15058.62030075188,15058.62030075188,15058.62030075188,15058.62030075188,15058.62030075188,15058.62030075188,15058.62030075188,15058.62030075188,15058.62030075188,15058.62030075188,15058.62030075188,15058.62030075188,15058.62030075188,15058.62030075188,15058.62030075188,15058.62030075188,15058.62030075188,15058.62030075188,15058.62030075188,15058.62030075188,15058.62030075188,15058.62030075188,15058.62030075188,15058.62030075188,15058.62030075188,15058.62030075188,15058.62030075188,15058.62030075188,15058.62030075188,15058.62030075188,15058.62030075188,15058.62030075188,15058.62030075188,15058.62030075188,15058.62030075188,15058.62030075188,15058.62030075188,15058.62030075188,15058.62030075188,15058.62030075188,15058.62030075188,12323.85294117647,12323.85294117647,15462.0,12568.0,16337.636363636364,16337.636363636364,16337.636363636364,16337.636363636364,16337.636363636364,16337.636363636364,16337.636363636364,16337.636363636364,16337.636363636364,16337.636363636364,16337.636363636364,16337.636363636364,16337.636363636364,16337.636363636364,16337.636363636364,16337.636363636364,16337.636363636364,14469.14705882353,14469.14705882353,14469.14705882353,14469.14705882353,14469.14705882353,14469.14705882353,14469.14705882353,14469.14705882353,14469.14705882353,14469.14705882353,14469.14705882353,14469.14705882353,14469.14705882353,14469.14705882353,14469.14705882353,14469.14705882353,14469.14705882353,13396.23076923077,13396.23076923077,13396.23076923077,13396.23076923077,13396.23076923077,13396.23076923077,13396.23076923077,13396.23076923077,13396.23076923077,13396.23076923077,14351.574074074075,14351.574074074075,14351.574074074075,14351.574074074075,14351.574074074075,14000.777777777777,14000.777777777777,15058.62030075188,15058.62030075188,15131.860759493671,15131.860759493671,15131.860759493671,15131.860759493671,15131.860759493671,15131.860759493671,15131.860759493671,15131.860759493671,15131.860759493671,15131.860759493671,15131.860759493671,15131.860759493671,15131.860759493671,15131.860759493671,15131.860759493671,15131.860759493671,15131.860759493671,15131.860759493671,15131.860759493671,15131.860759493671,15131.860759493671,15131.860759493671,15131.860759493671,15131.860759493671,15131.860759493671,15131.860759493671,15131.860759493671,15131.860759493671,15131.860759493671,15131.860759493671,15131.860759493671,13600.9,13600.9,13600.9,15239.927272727273,15239.927272727273,15239.927272727273,15239.927272727273,15239.927272727273,15239.927272727273,15239.927272727273,15239.927272727273,15239.927272727273,15239.927272727273,15239.927272727273,15239.927272727273,15239.927272727273,15239.927272727273,15239.927272727273,15239.927272727273,15239.927272727273,15239.927272727273,15239.927272727273,14963.741935483871,14963.741935483871,14963.741935483871,14963.741935483871,14963.741935483871,14963.741935483871,14963.741935483871,14963.741935483871,14963.741935483871,14963.741935483871,14963.741935483871,14963.741935483871,14963.741935483871,14963.741935483871,14963.741935483871,14963.741935483871,14963.741935483871,14963.741935483871,14963.741935483871,14963.741935483871,14963.741935483871,14963.741935483871,14963.741935483871,14275.631756756757,14275.631756756757,14275.631756756757,14275.631756756757,14275.631756756757,14275.631756756757,14275.631756756757,14275.631756756757,14275.631756756757,14275.631756756757,14275.631756756757,14275.631756756757,14275.631756756757,14275.631756756757,14275.631756756757,14275.631756756757,14275.631756756757,14275.631756756757,14275.631756756757,14275.631756756757,14275.631756756757,14275.631756756757,14275.631756756757,14275.631756756757,14275.631756756757,14275.631756756757,14275.631756756757,14275.631756756757,14275.631756756757,14275.631756756757,14275.631756756757,14275.631756756757,14275.631756756757,14275.631756756757,14275.631756756757,14275.631756756757,14275.631756756757,14275.631756756757,14275.631756756757,14275.631756756757,14275.631756756757,14275.631756756757,14275.631756756757,14275.631756756757,14275.631756756757,14275.631756756757,14275.631756756757,14275.631756756757,14275.631756756757,14275.631756756757,14275.631756756757,14275.631756756757,14275.631756756757,14275.631756756757,14275.631756756757,14275.631756756757,14275.631756756757,14275.631756756757,14275.631756756757,14275.631756756757,14275.631756756757,14275.631756756757,14275.631756756757,14275.631756756757,14275.631756756757,14275.631756756757,14275.631756756757,14275.631756756757,14275.631756756757,14275.631756756757,14275.631756756757,14275.631756756757,14275.631756756757,14275.631756756757,14275.631756756757,14275.631756756757,14275.631756756757,14275.631756756757,14275.631756756757,14275.631756756757,14275.631756756757,14275.631756756757,14275.631756756757,14275.631756756757,14275.631756756757,14275.631756756757,14275.631756756757,14275.631756756757,14275.631756756757,14275.631756756757,14275.631756756757,14275.631756756757,14275.631756756757,13443.40350877193,13443.40350877193,13443.40350877193,13443.40350877193,13443.40350877193,13443.40350877193,13443.40350877193,13443.40350877193,13443.40350877193,13443.40350877193,13443.40350877193,13443.40350877193,13443.40350877193,13443.40350877193,13443.40350877193,13443.40350877193,13443.40350877193,13443.40350877193,13443.40350877193,13443.40350877193,13443.40350877193,13443.40350877193,13443.40350877193,17479.928571428572,17479.928571428572,17479.928571428572,17479.928571428572,17479.928571428572,17479.928571428572,17479.928571428572,17479.928571428572,17479.928571428572,16965.166666666668,16965.166666666668,16965.166666666668,16599.714285714286,17528.958579881655,17528.958579881655,17528.958579881655,17528.958579881655,17528.958579881655,17528.958579881655,17528.958579881655,17528.958579881655,17528.958579881655,17528.958579881655,17528.958579881655,17528.958579881655,17528.958579881655,17528.958579881655,17528.958579881655,17528.958579881655,17528.958579881655,17528.958579881655,17528.958579881655,17528.958579881655,17528.958579881655,17528.958579881655,17528.958579881655,17528.958579881655,17528.958579881655,17528.958579881655,17528.958579881655,17528.958579881655,17528.958579881655,17528.958579881655,17528.958579881655,17528.958579881655,17528.958579881655,17528.958579881655,17528.958579881655,17528.958579881655,17528.958579881655,17528.958579881655,17528.958579881655,17528.958579881655,13924.518518518518,13924.518518518518,13924.518518518518,13924.518518518518,13924.518518518518,13924.518518518518,13924.518518518518,13924.518518518518,13924.518518518518,13924.518518518518,13924.518518518518,13924.518518518518,13924.518518518518,13924.518518518518,13924.518518518518,13924.518518518518,13924.518518518518,13924.518518518518,13924.518518518518,13924.518518518518,13924.518518518518,13924.518518518518,13924.518518518518,13924.518518518518,13924.518518518518,13924.518518518518,13924.518518518518,13924.518518518518,13924.518518518518,13924.518518518518,13924.518518518518,13924.518518518518,13924.518518518518,13924.518518518518,13924.518518518518,13924.518518518518,13924.518518518518,13924.518518518518,13924.518518518518,13924.518518518518,13924.518518518518,13924.518518518518,14192.153846153846,14192.153846153846,14192.153846153846,14192.153846153846,12450.84,12450.84,12450.84,12450.84,12450.84,12450.84,15991.79754601227,15991.79754601227,15991.79754601227,15991.79754601227,15991.79754601227,15991.79754601227,15991.79754601227,15991.79754601227,15991.79754601227,15991.79754601227,15991.79754601227,15991.79754601227,15991.79754601227,15991.79754601227,15991.79754601227,15991.79754601227,15991.79754601227,15991.79754601227,15991.79754601227,15991.79754601227,15991.79754601227,15991.79754601227,15991.79754601227,15991.79754601227,15991.79754601227,15991.79754601227,15991.79754601227,15991.79754601227,15991.79754601227,15991.79754601227,15991.79754601227,15991.79754601227,15991.79754601227,15991.79754601227,15991.79754601227,15991.79754601227,15991.79754601227,15991.79754601227,15991.79754601227,15991.79754601227,15991.79754601227,15991.79754601227,15991.79754601227,15991.79754601227,15991.79754601227,15991.79754601227,15991.79754601227,15991.79754601227,15991.79754601227,15991.79754601227,15991.79754601227,15991.79754601227,15991.79754601227,15991.79754601227,15991.79754601227,15901.054545454546,15901.054545454546,15901.054545454546,15901.054545454546,15901.054545454546,15901.054545454546,15901.054545454546,15901.054545454546,15901.054545454546,15901.054545454546,15901.054545454546,15901.054545454546,15901.054545454546,15901.054545454546,15901.054545454546,15901.054545454546,15901.054545454546,15901.054545454546,15901.054545454546,15901.054545454546,15901.054545454546,15901.054545454546,15901.054545454546,15901.054545454546,15901.054545454546,15901.054545454546,15901.054545454546,15901.054545454546,15901.054545454546,15901.054545454546,15901.054545454546,15901.054545454546,15901.054545454546,15901.054545454546,15901.054545454546,15901.054545454546,13758.392857142857,13758.392857142857,13758.392857142857,13758.392857142857,13758.392857142857,13758.392857142857,13758.392857142857,13758.392857142857,13758.392857142857,13758.392857142857,13758.392857142857,13758.392857142857,13758.392857142857,13758.392857142857,13758.392857142857,13758.392857142857,13758.392857142857,13758.392857142857,13758.392857142857,13758.392857142857,13758.392857142857,13758.392857142857,13758.392857142857,13758.392857142857,13758.392857142857,13758.392857142857,13758.392857142857,13758.392857142857,13758.392857142857,14375.757142857143,14375.757142857143,14375.757142857143,14375.757142857143,14375.757142857143,14375.757142857143,14375.757142857143,14375.757142857143,14375.757142857143,14375.757142857143,14375.757142857143,14375.757142857143,14375.757142857143,14375.757142857143,14375.757142857143,14375.757142857143,14375.757142857143,14375.757142857143,14375.757142857143,14375.757142857143,14375.757142857143,14375.757142857143,14375.757142857143,14375.757142857143,14375.757142857143,14375.757142857143,14375.757142857143,14375.757142857143,14375.757142857143,14375.757142857143,15410.219512195123,15410.219512195123,15410.219512195123,15410.219512195123,15410.219512195123,15410.219512195123,15410.219512195123,15410.219512195123,15410.219512195123,15410.219512195123,15410.219512195123,15410.219512195123,15410.219512195123,15410.219512195123,15410.219512195123,15410.219512195123,15410.219512195123,15410.219512195123,15410.219512195123,15410.219512195123,15410.219512195123,15410.219512195123,15410.219512195123,15410.219512195123,15410.219512195123,15410.219512195123,15410.219512195123,15410.219512195123,15410.219512195123,15410.219512195123,15410.219512195123,15410.219512195123,14672.345679012345,14672.345679012345,14672.345679012345,14672.345679012345,14672.345679012345,14672.345679012345,14672.345679012345,14672.345679012345,14672.345679012345,14672.345679012345,14672.345679012345,14672.345679012345,14672.345679012345,14672.345679012345,14672.345679012345,14672.345679012345,14672.345679012345,14672.345679012345,14672.345679012345,14672.345679012345,14672.345679012345,14672.345679012345,14672.345679012345,14672.345679012345,14672.345679012345,14672.345679012345,14672.345679012345,14672.345679012345,14672.345679012345,14672.345679012345,14672.345679012345,14672.345679012345,14672.345679012345,14672.345679012345,14672.345679012345,16064.9375,16064.9375,16064.9375,16064.9375,16064.9375,16064.9375,16064.9375,16064.9375,16064.9375,16064.9375,16141.244444444445,16141.244444444445,16141.244444444445,16141.244444444445,16141.244444444445,16141.244444444445,16141.244444444445,16141.244444444445,16141.244444444445,16141.244444444445,16141.244444444445,16141.244444444445,16141.244444444445,16141.244444444445,16141.244444444445,16141.244444444445,16141.244444444445,16141.244444444445,16141.244444444445,16732.589285714286,16732.589285714286,16732.589285714286,16732.589285714286,16732.589285714286,16732.589285714286,16732.589285714286,16732.589285714286,16732.589285714286,16732.589285714286,16732.589285714286,16732.589285714286,16732.589285714286,16732.589285714286,16732.589285714286,16732.589285714286,16732.589285714286,16732.589285714286,16732.589285714286,15121.956896551725,15121.956896551725,15121.956896551725,15121.956896551725,15121.956896551725,15121.956896551725,15121.956896551725,15121.956896551725,15121.956896551725,15121.956896551725,15121.956896551725,15121.956896551725,15121.956896551725,15121.956896551725,15121.956896551725,15121.956896551725,15121.956896551725,15121.956896551725,15121.956896551725,15121.956896551725,15121.956896551725,15121.956896551725,15121.956896551725,15121.956896551725,15121.956896551725,15121.956896551725,15121.956896551725,15121.956896551725,15121.956896551725,15121.956896551725,15121.956896551725,15121.956896551725,15121.956896551725,15121.956896551725,15121.956896551725,15121.956896551725,15121.956896551725,13076.631578947368,13076.631578947368,13076.631578947368,13076.631578947368,13076.631578947368,13076.631578947368,13076.631578947368,13076.631578947368,13076.631578947368,13076.631578947368,13076.631578947368,13076.631578947368,13076.631578947368,13076.631578947368,13076.631578947368,13076.631578947368,13076.631578947368,13076.631578947368,13076.631578947368,15944.323076923078,15944.323076923078,15944.323076923078,15944.323076923078,15944.323076923078,15944.323076923078,15944.323076923078,15944.323076923078,15944.323076923078,15944.323076923078,15944.323076923078,15944.323076923078,15944.323076923078,15944.323076923078,15944.323076923078,15944.323076923078,15944.323076923078,15944.323076923078,15944.323076923078,15944.323076923078,15944.323076923078,15944.323076923078,15944.323076923078,15944.323076923078,15944.323076923078,15944.323076923078,15327.41573033708,15327.41573033708,15327.41573033708,15327.41573033708,15327.41573033708,15327.41573033708,15327.41573033708,15327.41573033708,15327.41573033708,15327.41573033708,15327.41573033708,15327.41573033708,15327.41573033708,15327.41573033708,15327.41573033708,15327.41573033708,15327.41573033708,15327.41573033708,15327.41573033708,15327.41573033708,15327.41573033708,15327.41573033708,15327.41573033708,15327.41573033708,15327.41573033708,15327.41573033708,15327.41573033708,15327.41573033708,15327.41573033708,15327.41573033708,15327.41573033708,15327.41573033708,15327.41573033708,15327.41573033708,15327.41573033708,15327.41573033708,14058.96,14058.96,14058.96,14058.96,14058.96,14058.96,14058.96,14058.96,11046.035087719298,11046.035087719298,11046.035087719298,11046.035087719298,11046.035087719298,11046.035087719298,11046.035087719298,11046.035087719298,11046.035087719298,11046.035087719298,11046.035087719298,11046.035087719298,11046.035087719298,11046.035087719298,11046.035087719298,11046.035087719298,11046.035087719298,11046.035087719298,11046.035087719298,11046.035087719298,11046.035087719298,11046.035087719298,11046.035087719298,11046.035087719298,11046.035087719298,11046.035087719298,16389.40740740741,16389.40740740741,16389.40740740741,16389.40740740741,16389.40740740741,16389.40740740741,16389.40740740741,15933.0,15933.0,15933.0,15933.0,15933.0,15933.0,15933.0,15933.0,15933.0,18314.90625,18314.90625,18314.90625,18314.90625,18314.90625,18314.90625,18314.90625,18314.90625,18314.90625,18314.90625,18314.90625,18314.90625,18314.90625,18314.90625,15123.633333333333,15123.633333333333,15123.633333333333,15123.633333333333,15123.633333333333,15123.633333333333,15123.633333333333,15123.633333333333,15123.633333333333,15123.633333333333,15123.633333333333,15123.633333333333,15123.633333333333,15795.6,15795.6,15795.6,15795.6,15795.6,15795.6,15795.6,15795.6,15795.6,15795.6,15795.6,15795.6,15795.6,15795.6,15795.6,15795.6,15795.6,15795.6,15795.6,15795.6,15795.6,15795.6,15795.6,15795.6,15795.6,15795.6,15795.6,15795.6,15795.6,15795.6,15795.6,15795.6,15795.6,15795.6,15795.6,15795.6,15795.6,15795.6,15795.6,15795.6,15117.234042553191,15117.234042553191,15117.234042553191,15117.234042553191,15117.234042553191,15117.234042553191,15117.234042553191,15117.234042553191,15117.234042553191,15117.234042553191,15117.234042553191,15117.234042553191,15117.234042553191,15117.234042553191,15117.234042553191,15117.234042553191,15117.234042553191,15117.234042553191,15117.234042553191,15117.234042553191,15117.234042553191,15117.234042553191,15117.234042553191,15117.234042553191,15117.234042553191,15117.234042553191,15117.234042553191,15117.234042553191,15117.234042553191,15117.234042553191,15117.234042553191,15117.234042553191,15117.234042553191,15117.234042553191,15117.234042553191,15117.234042553191,11334.6,11334.6,11334.6,11334.6,11334.6,11334.6,11334.6,11334.6,15905.808219178081,15905.808219178081,15905.808219178081,15905.808219178081,15905.808219178081,15905.808219178081,15905.808219178081,15905.808219178081,15905.808219178081,15905.808219178081,15905.808219178081,15905.808219178081,15905.808219178081,15905.808219178081,15905.808219178081,15905.808219178081,15905.808219178081,15905.808219178081,15905.808219178081,15905.808219178081,15905.808219178081,15905.808219178081,15905.808219178081,15905.808219178081,15905.808219178081,15905.808219178081,15905.808219178081,15905.808219178081,15905.808219178081,15905.808219178081,15905.808219178081,15905.808219178081,15905.808219178081,15905.808219178081,15905.808219178081,15905.808219178081,15905.808219178081,15905.808219178081,15905.808219178081,15905.808219178081,15905.808219178081,15905.808219178081,15905.808219178081,15905.808219178081,15905.808219178081,15905.808219178081,15905.808219178081,15905.808219178081,15905.808219178081,15905.808219178081,13660.70588235294,13660.70588235294,13660.70588235294,13660.70588235294,13660.70588235294,13660.70588235294,13660.70588235294,13660.70588235294,13660.70588235294,13660.70588235294,13660.70588235294,13660.70588235294,13660.70588235294,13660.70588235294,13660.70588235294,13660.70588235294,13660.70588235294,13660.70588235294,13660.70588235294,13660.70588235294,13660.70588235294,13660.70588235294,13660.70588235294,13660.70588235294,13660.70588235294,13660.70588235294,13660.70588235294,13660.70588235294,13591.096153846154,13591.096153846154,13591.096153846154,13591.096153846154,13591.096153846154,13591.096153846154,13591.096153846154,13591.096153846154,13591.096153846154,13591.096153846154,13591.096153846154,13591.096153846154,13591.096153846154,13591.096153846154,13591.096153846154,13591.096153846154,13591.096153846154,13591.096153846154,13591.096153846154,13591.096153846154,13591.096153846154,13591.096153846154,13591.096153846154,16380.18,16380.18,16380.18,16380.18,16380.18,16380.18,16380.18,16380.18,16380.18,16380.18,16380.18,16380.18,16380.18,16380.18,16380.18,16380.18,16380.18,16380.18,16380.18,16380.18,16380.18,16380.18,16380.18,16380.18,16380.18,16380.18,16380.18,16380.18,16380.18,16380.18,16380.18,16380.18,16380.18,16380.18,16380.18,16380.18,16380.18,16380.18,16380.18,16380.18,16380.18,16380.18,16380.18,16380.18,16380.18,16380.18,16380.18,16380.18,16380.18,16380.18,16380.18,16380.18,16380.18,14933.6,14933.6,14933.6,15103.872727272726,15103.872727272726,15103.872727272726,15103.872727272726,15103.872727272726,15103.872727272726,15103.872727272726,15103.872727272726,15103.872727272726,15103.872727272726,15103.872727272726,15103.872727272726,15103.872727272726,15103.872727272726,15103.872727272726,15103.872727272726,15103.872727272726,13748.421052631578,13748.421052631578,13748.421052631578,13748.421052631578,13748.421052631578,13748.421052631578,15252.692307692309,15252.692307692309,15252.692307692309,15252.692307692309,15252.692307692309,15252.692307692309,15252.692307692309,15252.692307692309,15252.692307692309,15252.692307692309,15252.692307692309,15252.692307692309,15252.692307692309,15252.692307692309,15252.692307692309,15252.692307692309,15252.692307692309,15252.692307692309,15252.692307692309,15252.692307692309,15252.692307692309,15252.692307692309,15252.692307692309,15252.692307692309,15252.692307692309,15252.692307692309,15252.692307692309,15252.692307692309,15252.692307692309,15252.692307692309,15252.692307692309,15252.692307692309,15058.62030075188,15058.62030075188,15058.62030075188,15058.62030075188,15058.62030075188,15058.62030075188,15058.62030075188,15058.62030075188,15058.62030075188,15058.62030075188,15058.62030075188,15058.62030075188,15058.62030075188,15058.62030075188,15058.62030075188,15058.62030075188,15058.62030075188,15058.62030075188,15058.62030075188,15058.62030075188,15058.62030075188,15058.62030075188,15058.62030075188,15058.62030075188,15058.62030075188,15058.62030075188,15058.62030075188,15058.62030075188,15058.62030075188,15058.62030075188,15058.62030075188,15058.62030075188,15058.62030075188,15058.62030075188,15058.62030075188,15058.62030075188,15058.62030075188,15058.62030075188,15058.62030075188,15058.62030075188,15058.62030075188,15058.62030075188,15058.62030075188,15058.62030075188,15058.62030075188,15058.62030075188,15058.62030075188,15058.62030075188,15058.62030075188,15058.62030075188,15058.62030075188,15058.62030075188,15058.62030075188,15058.62030075188,15058.62030075188,15058.62030075188,15058.62030075188,15058.62030075188,15058.62030075188,15058.62030075188,15058.62030075188,15058.62030075188,15058.62030075188,15058.62030075188,15058.62030075188,15058.62030075188,15058.62030075188,15058.62030075188,15058.62030075188,15058.62030075188,15058.62030075188,15058.62030075188,15058.62030075188,15058.62030075188,15058.62030075188,15058.62030075188,15058.62030075188,15058.62030075188,15058.62030075188,15058.62030075188,15058.62030075188,15058.62030075188,12323.85294117647,12323.85294117647,12323.85294117647,12323.85294117647,12323.85294117647,12323.85294117647,12323.85294117647,15462.0,15462.0,15462.0,15462.0,15462.0,15462.0,12568.0,16337.636363636364,16337.636363636364,16337.636363636364,16337.636363636364,16337.636363636364,16337.636363636364,16337.636363636364,16337.636363636364,16337.636363636364,16337.636363636364,16337.636363636364,16337.636363636364,16337.636363636364,16337.636363636364,16337.636363636364,16337.636363636364,16337.636363636364,16337.636363636364,16337.636363636364,16337.636363636364,16337.636363636364,16337.636363636364,16337.636363636364,16337.636363636364,14469.14705882353,14469.14705882353,14469.14705882353,14469.14705882353,14469.14705882353,14469.14705882353,14469.14705882353,14469.14705882353,14469.14705882353,14469.14705882353,14469.14705882353,14469.14705882353,14469.14705882353,14469.14705882353,14469.14705882353,14469.14705882353,14469.14705882353,14469.14705882353,14469.14705882353,14469.14705882353,14469.14705882353,14469.14705882353,14469.14705882353,14469.14705882353,13396.23076923077,13396.23076923077,13396.23076923077,13396.23076923077,13396.23076923077,13396.23076923077,13396.23076923077,13396.23076923077,13396.23076923077,13396.23076923077,13396.23076923077,13396.23076923077,13396.23076923077,13396.23076923077,13396.23076923077,13396.23076923077,13396.23076923077,13396.23076923077,14351.574074074075,14351.574074074075,14351.574074074075,14351.574074074075,14351.574074074075,14351.574074074075,14351.574074074075,14351.574074074075,14351.574074074075,14351.574074074075,14351.574074074075,14351.574074074075,14351.574074074075,14351.574074074075,14351.574074074075,14351.574074074075,14351.574074074075,14351.574074074075,14351.574074074075,14351.574074074075,14351.574074074075,14000.777777777777,14000.777777777777,14000.777777777777,14000.777777777777,14000.777777777777,14000.777777777777,14000.777777777777,14000.777777777777,14000.777777777777,15058.62030075188,15058.62030075188,15058.62030075188,15058.62030075188,15058.62030075188,15058.62030075188,15058.62030075188,15058.62030075188,15058.62030075188,15058.62030075188,15058.62030075188,15058.62030075188,15058.62030075188,15131.860759493671,15131.860759493671,15131.860759493671,15131.860759493671,15131.860759493671,15131.860759493671,15131.860759493671,15131.860759493671,15131.860759493671,15131.860759493671,15131.860759493671,15131.860759493671,15131.860759493671,15131.860759493671,15131.860759493671,13600.9,13600.9,13600.9,13600.9,15239.927272727273,15239.927272727273,15239.927272727273,15239.927272727273,15239.927272727273,15239.927272727273,15239.927272727273,15239.927272727273,15239.927272727273,15239.927272727273,15239.927272727273,15239.927272727273,15239.927272727273,15239.927272727273,14963.741935483871,14963.741935483871,14963.741935483871,14963.741935483871,14963.741935483871,14963.741935483871,14963.741935483871,14963.741935483871,14963.741935483871,14275.631756756757,14275.631756756757,14275.631756756757,14275.631756756757,14275.631756756757,14275.631756756757,14275.631756756757,14275.631756756757,14275.631756756757,14275.631756756757,14275.631756756757,14275.631756756757,14275.631756756757,14275.631756756757,14275.631756756757,14275.631756756757,14275.631756756757,14275.631756756757,14275.631756756757,14275.631756756757,14275.631756756757,14275.631756756757,14275.631756756757,14275.631756756757,14275.631756756757,14275.631756756757,14275.631756756757,14275.631756756757,14275.631756756757,14275.631756756757,14275.631756756757,14275.631756756757,14275.631756756757,14275.631756756757,14275.631756756757,14275.631756756757,14275.631756756757,14275.631756756757,14275.631756756757,14275.631756756757,14275.631756756757,14275.631756756757,14275.631756756757,14275.631756756757,14275.631756756757,14275.631756756757,14275.631756756757,14275.631756756757,14275.631756756757,14275.631756756757,14275.631756756757,14275.631756756757,14275.631756756757,14275.631756756757,14275.631756756757,14275.631756756757,14275.631756756757,14275.631756756757,14275.631756756757,14275.631756756757,14275.631756756757,14275.631756756757,13443.40350877193,13443.40350877193,13443.40350877193,13443.40350877193,13443.40350877193,13443.40350877193,13443.40350877193,13443.40350877193,13443.40350877193,13443.40350877193,13443.40350877193,13443.40350877193,13443.40350877193,13443.40350877193,13443.40350877193,13443.40350877193,13443.40350877193,13443.40350877193,13443.40350877193,13443.40350877193,13443.40350877193,13443.40350877193,13443.40350877193,13443.40350877193,13443.40350877193,17479.928571428572,17479.928571428572,17479.928571428572,17479.928571428572,17479.928571428572,17479.928571428572,17479.928571428572,17479.928571428572,17479.928571428572,16965.166666666668,17528.958579881655,17528.958579881655,17528.958579881655,17528.958579881655,17528.958579881655,17528.958579881655,17528.958579881655,17528.958579881655,17528.958579881655,17528.958579881655,17528.958579881655,17528.958579881655,17528.958579881655,17528.958579881655,17528.958579881655,17528.958579881655,17528.958579881655,17528.958579881655,17528.958579881655,17528.958579881655,17528.958579881655,17528.958579881655,17528.958579881655,17528.958579881655,17528.958579881655,17528.958579881655,17528.958579881655,17528.958579881655,13924.518518518518,13924.518518518518,13924.518518518518,13924.518518518518,13924.518518518518,13924.518518518518,13924.518518518518,13924.518518518518,13924.518518518518,13924.518518518518,13924.518518518518,13924.518518518518,13924.518518518518,13924.518518518518,13924.518518518518,13924.518518518518,13924.518518518518,13924.518518518518,13924.518518518518,13924.518518518518,13924.518518518518,13924.518518518518,13924.518518518518,13924.518518518518,13924.518518518518,13924.518518518518,14192.153846153846,14192.153846153846,14192.153846153846,14192.153846153846,14192.153846153846,12450.84,12450.84,12450.84,12450.84,12450.84,12450.84,12450.84,12450.84,12450.84,12450.84,12450.84,15991.79754601227,15991.79754601227,15991.79754601227,15991.79754601227,15991.79754601227,15991.79754601227,15991.79754601227,15991.79754601227,15991.79754601227,15991.79754601227,15991.79754601227,15991.79754601227,15991.79754601227,15991.79754601227,15991.79754601227,15991.79754601227,15991.79754601227,15991.79754601227,15991.79754601227,15991.79754601227,15991.79754601227,15991.79754601227,15991.79754601227,15991.79754601227,15991.79754601227,15991.79754601227,15991.79754601227,15991.79754601227,15991.79754601227,15991.79754601227,15991.79754601227,15991.79754601227,15991.79754601227,15991.79754601227,15991.79754601227,15991.79754601227,15991.79754601227,15991.79754601227,15991.79754601227,15991.79754601227,15991.79754601227,15991.79754601227,15991.79754601227,15991.79754601227,15991.79754601227,15991.79754601227,15991.79754601227,15991.79754601227,15991.79754601227,15901.054545454546,15901.054545454546,15901.054545454546,15901.054545454546,15901.054545454546,15901.054545454546,15901.054545454546,15901.054545454546,15901.054545454546,15901.054545454546,15901.054545454546,15901.054545454546,15901.054545454546,15901.054545454546,15901.054545454546,15901.054545454546,15901.054545454546,15901.054545454546,15901.054545454546,15901.054545454546,15901.054545454546,15901.054545454546,15901.054545454546,15901.054545454546,15901.054545454546,15901.054545454546,15901.054545454546,15901.054545454546,15901.054545454546,15901.054545454546,15901.054545454546,15901.054545454546,15901.054545454546,15901.054545454546,15901.054545454546,15901.054545454546,15901.054545454546,15901.054545454546,15901.054545454546,15901.054545454546,15901.054545454546,15901.054545454546,15901.054545454546,15901.054545454546,15901.054545454546,15901.054545454546,15901.054545454546,15901.054545454546,15901.054545454546,15901.054545454546,15901.054545454546,13758.392857142857,13758.392857142857,13758.392857142857,13758.392857142857,13758.392857142857,13758.392857142857,13758.392857142857,13758.392857142857,13758.392857142857,13758.392857142857,13758.392857142857,13758.392857142857,13758.392857142857,13758.392857142857,13758.392857142857,13758.392857142857,13758.392857142857,13758.392857142857,13758.392857142857,13758.392857142857,13758.392857142857,13758.392857142857,13758.392857142857,13758.392857142857,13758.392857142857,13758.392857142857,13758.392857142857,13758.392857142857,13758.392857142857,13758.392857142857,13758.392857142857,13758.392857142857,13758.392857142857,13758.392857142857,13758.392857142857,13758.392857142857,14375.757142857143,14375.757142857143,14375.757142857143,14375.757142857143,14375.757142857143,14375.757142857143,14375.757142857143,14375.757142857143,14375.757142857143,14375.757142857143,14375.757142857143,14375.757142857143,14375.757142857143,14375.757142857143,14375.757142857143,14375.757142857143,14375.757142857143,14375.757142857143,14375.757142857143,14375.757142857143,14375.757142857143,15410.219512195123,15410.219512195123,15410.219512195123,15410.219512195123,15410.219512195123,15410.219512195123,15410.219512195123,15410.219512195123,15410.219512195123,15410.219512195123,15410.219512195123,15410.219512195123,15410.219512195123,15410.219512195123,15410.219512195123,15410.219512195123,15410.219512195123,15410.219512195123,15410.219512195123,15410.219512195123,15410.219512195123,14672.345679012345,14672.345679012345,14672.345679012345,14672.345679012345,14672.345679012345,14672.345679012345,14672.345679012345,14672.345679012345,14672.345679012345,14672.345679012345,14672.345679012345,14672.345679012345,14672.345679012345,14672.345679012345,14672.345679012345,14672.345679012345,14672.345679012345,14672.345679012345,14672.345679012345,14672.345679012345,16064.9375,16064.9375,16064.9375,16064.9375,16064.9375,16064.9375,16064.9375,16064.9375,16064.9375,16064.9375,16064.9375,16064.9375,16064.9375,16064.9375,16141.244444444445,16141.244444444445,16141.244444444445,16141.244444444445,16141.244444444445,16141.244444444445,16141.244444444445,16141.244444444445,16141.244444444445,16732.589285714286,16732.589285714286,16732.589285714286,16732.589285714286,16732.589285714286,16732.589285714286,16732.589285714286,16732.589285714286,16732.589285714286,16732.589285714286,16732.589285714286,15121.956896551725,15121.956896551725,15121.956896551725,15121.956896551725,15121.956896551725,15121.956896551725,15121.956896551725,15121.956896551725,15121.956896551725,15121.956896551725,15121.956896551725,15121.956896551725,15121.956896551725,15121.956896551725,15121.956896551725,15121.956896551725,15121.956896551725,15121.956896551725,15121.956896551725,15121.956896551725,15121.956896551725,15121.956896551725,15121.956896551725,15121.956896551725,15121.956896551725,15121.956896551725,15121.956896551725,15121.956896551725,15121.956896551725,15121.956896551725,15121.956896551725,15121.956896551725,15121.956896551725,15121.956896551725,15121.956896551725,15121.956896551725,15121.956896551725,15121.956896551725,15121.956896551725,15121.956896551725,15121.956896551725,15121.956896551725,15121.956896551725,15121.956896551725,15121.956896551725,15121.956896551725,15121.956896551725,15121.956896551725,15121.956896551725,15121.956896551725,15121.956896551725,13076.631578947368,13076.631578947368,13076.631578947368,13076.631578947368,13076.631578947368,13076.631578947368,13076.631578947368,13076.631578947368,13076.631578947368,13076.631578947368,13076.631578947368,13076.631578947368,13076.631578947368,13076.631578947368,13076.631578947368,13076.631578947368,13076.631578947368,13076.631578947368,13076.631578947368,13076.631578947368,13076.631578947368,13076.631578947368,13076.631578947368,13076.631578947368,13076.631578947368,13076.631578947368,13076.631578947368,13076.631578947368,13076.631578947368,13076.631578947368,13076.631578947368,13076.631578947368,13076.631578947368,13076.631578947368,13076.631578947368,13076.631578947368,13076.631578947368,13076.631578947368,13076.631578947368,13076.631578947368,13076.631578947368,13076.631578947368,13076.631578947368,15944.323076923078,15944.323076923078,15944.323076923078,15944.323076923078,15944.323076923078,15944.323076923078,15944.323076923078,15327.41573033708,15327.41573033708,15327.41573033708,15327.41573033708,15327.41573033708,15327.41573033708,15327.41573033708,15327.41573033708,15327.41573033708,15327.41573033708,15327.41573033708,15327.41573033708,15327.41573033708,15327.41573033708,15327.41573033708,15327.41573033708,15327.41573033708,15327.41573033708,15327.41573033708,15327.41573033708,15327.41573033708,15327.41573033708,15327.41573033708,14058.96,14058.96,14058.96,14058.96,14058.96,14058.96,14058.96,14058.96,14058.96,14058.96,14058.96,14058.96,11046.035087719298,11046.035087719298,11046.035087719298,11046.035087719298,11046.035087719298,11046.035087719298,11046.035087719298,11046.035087719298,11046.035087719298,11046.035087719298,11046.035087719298,11046.035087719298,11046.035087719298,11046.035087719298,11046.035087719298,11046.035087719298,11046.035087719298,11046.035087719298,11046.035087719298,11046.035087719298,11046.035087719298,11046.035087719298,11046.035087719298,11046.035087719298,11046.035087719298,16389.40740740741,16389.40740740741,16389.40740740741,16389.40740740741,15933.0,15933.0,15933.0,15933.0,15933.0,15933.0,15933.0,15933.0,15933.0,15933.0,18314.90625,18314.90625,18314.90625,18314.90625,18314.90625,18314.90625,18314.90625,18314.90625,18314.90625,18314.90625,15123.633333333333,15123.633333333333,15123.633333333333,15123.633333333333,15123.633333333333,15123.633333333333,15795.6,15795.6,15795.6,15795.6,15795.6,15795.6,15795.6,15795.6,15795.6,15795.6,15795.6,15795.6,15795.6,15795.6,15795.6,15795.6,15117.234042553191,15117.234042553191,15117.234042553191,15117.234042553191,15117.234042553191,15117.234042553191,15117.234042553191,15117.234042553191,15117.234042553191,15117.234042553191,15117.234042553191,15117.234042553191,15117.234042553191,15117.234042553191,15117.234042553191,15117.234042553191,15117.234042553191,15117.234042553191,15117.234042553191,15117.234042553191,15117.234042553191,15117.234042553191,15117.234042553191,15117.234042553191,15117.234042553191,15117.234042553191,11334.6,11334.6,11334.6,11334.6,11334.6,11334.6,11334.6,11334.6,15905.808219178081,15905.808219178081,15905.808219178081,15905.808219178081,15905.808219178081,15905.808219178081,15905.808219178081,15905.808219178081,15905.808219178081,15905.808219178081,15905.808219178081,15905.808219178081,15905.808219178081,15905.808219178081,15905.808219178081,15905.808219178081,15905.808219178081,15905.808219178081,15905.808219178081,15905.808219178081,15905.808219178081,15905.808219178081,15905.808219178081,15905.808219178081,15905.808219178081,15905.808219178081,15905.808219178081,15905.808219178081,15905.808219178081,15905.808219178081,15905.808219178081,15905.808219178081,15905.808219178081,15905.808219178081,15905.808219178081,15905.808219178081,15905.808219178081,15905.808219178081,15905.808219178081,15905.808219178081,15905.808219178081,15905.808219178081,15905.808219178081,15905.808219178081,15905.808219178081,15905.808219178081,15905.808219178081,15905.808219178081,15905.808219178081,15905.808219178081,15905.808219178081,15905.808219178081,13660.70588235294,13660.70588235294,13660.70588235294,13660.70588235294,13660.70588235294,13660.70588235294,13660.70588235294,13660.70588235294,13660.70588235294,13660.70588235294,13660.70588235294,13660.70588235294,13660.70588235294,13660.70588235294,13660.70588235294,13660.70588235294,13660.70588235294,13660.70588235294,13660.70588235294,13660.70588235294,13660.70588235294,13660.70588235294,13660.70588235294,13660.70588235294,13591.096153846154,13591.096153846154,13591.096153846154,13591.096153846154,13591.096153846154,13591.096153846154,13591.096153846154,13591.096153846154,13591.096153846154,13591.096153846154,13591.096153846154,13591.096153846154,13591.096153846154,13591.096153846154,13591.096153846154,13591.096153846154,13591.096153846154,13591.096153846154,13591.096153846154,13591.096153846154,13591.096153846154,13591.096153846154,16380.18,16380.18,16380.18,16380.18,16380.18,16380.18,16380.18,16380.18,16380.18,16380.18,16380.18,16380.18,16380.18,16380.18,16380.18,16380.18,16380.18,16380.18,16380.18,16380.18,16380.18,16380.18,16380.18,16380.18,16380.18,16380.18,16380.18,16380.18,16380.18,16380.18,16380.18,16380.18,16380.18,16380.18,16380.18,16380.18,14933.6,14933.6,15103.872727272726,15103.872727272726,15103.872727272726,15103.872727272726,15103.872727272726,15103.872727272726,15103.872727272726,15103.872727272726,15103.872727272726,15103.872727272726,15103.872727272726,15103.872727272726,15103.872727272726,15103.872727272726,15103.872727272726,13748.421052631578,13748.421052631578,13748.421052631578,13748.421052631578,13748.421052631578,13748.421052631578,13748.421052631578,15252.692307692309,15252.692307692309,15252.692307692309,15252.692307692309,15252.692307692309,15252.692307692309,15252.692307692309,15252.692307692309,15252.692307692309,15252.692307692309,15252.692307692309,15252.692307692309,15252.692307692309,15252.692307692309,15252.692307692309,15252.692307692309,15252.692307692309,15252.692307692309,15252.692307692309,15252.692307692309,15252.692307692309,15058.62030075188,15058.62030075188,15058.62030075188,15058.62030075188,15058.62030075188,15058.62030075188,15058.62030075188,15058.62030075188,15058.62030075188,15058.62030075188,15058.62030075188,15058.62030075188,15058.62030075188,15058.62030075188,15058.62030075188,15058.62030075188,15058.62030075188,15058.62030075188,15058.62030075188,15058.62030075188,15058.62030075188,15058.62030075188,15058.62030075188,15058.62030075188,15058.62030075188,15058.62030075188,15058.62030075188,15058.62030075188,15058.62030075188,15058.62030075188,15058.62030075188,15058.62030075188,15058.62030075188,15058.62030075188,15058.62030075188,15058.62030075188,15058.62030075188,15058.62030075188,15058.62030075188,15058.62030075188,15058.62030075188,15058.62030075188,15058.62030075188,15058.62030075188,15058.62030075188,15058.62030075188,15058.62030075188,15058.62030075188,15058.62030075188,15058.62030075188,15058.62030075188,15058.62030075188,15058.62030075188,15058.62030075188,15058.62030075188,15058.62030075188,15058.62030075188,15058.62030075188,15058.62030075188,15058.62030075188,15058.62030075188,15058.62030075188,15058.62030075188,15058.62030075188,15058.62030075188,15058.62030075188,15058.62030075188,15058.62030075188,15058.62030075188,15058.62030075188,15058.62030075188,15058.62030075188,15058.62030075188,12323.85294117647,12323.85294117647,12323.85294117647,12323.85294117647,12323.85294117647,12323.85294117647,12323.85294117647,12323.85294117647,12323.85294117647,12323.85294117647,12323.85294117647,12323.85294117647,12323.85294117647,12323.85294117647,12323.85294117647,12323.85294117647,12323.85294117647,12323.85294117647,12323.85294117647,12323.85294117647,12323.85294117647,15462.0,15462.0,15462.0,15462.0,15462.0,16337.636363636364,16337.636363636364,16337.636363636364,16337.636363636364,16337.636363636364,16337.636363636364,16337.636363636364,16337.636363636364,16337.636363636364,16337.636363636364,16337.636363636364,16337.636363636364,16337.636363636364,16337.636363636364,16337.636363636364,16337.636363636364,16337.636363636364,16337.636363636364,16337.636363636364,16337.636363636364,16337.636363636364,16337.636363636364,16337.636363636364,16337.636363636364,14469.14705882353,14469.14705882353,14469.14705882353,14469.14705882353,14469.14705882353,14469.14705882353,14469.14705882353,14469.14705882353,14469.14705882353,14469.14705882353,14469.14705882353,14469.14705882353,14469.14705882353,14469.14705882353,14469.14705882353,14469.14705882353,14469.14705882353,14469.14705882353,14469.14705882353,13396.23076923077,13396.23076923077,13396.23076923077,13396.23076923077,13396.23076923077,13396.23076923077,13396.23076923077,13396.23076923077,14351.574074074075,14351.574074074075,14351.574074074075,14351.574074074075,14351.574074074075,14351.574074074075,14351.574074074075,14351.574074074075,14351.574074074075,14351.574074074075,14351.574074074075,14351.574074074075,14351.574074074075,14351.574074074075,14351.574074074075,14351.574074074075,14351.574074074075,14351.574074074075,14351.574074074075,14351.574074074075,14351.574074074075,14351.574074074075,14351.574074074075,14351.574074074075,14351.574074074075,14351.574074074075,14351.574074074075,14351.574074074075,14351.574074074075,14351.574074074075,14351.574074074075,14351.574074074075,14351.574074074075,14351.574074074075,14351.574074074075,14351.574074074075,14351.574074074075,14351.574074074075,14351.574074074075,14351.574074074075,14351.574074074075,14351.574074074075,14351.574074074075,14351.574074074075,14351.574074074075,14351.574074074075,14351.574074074075,14351.574074074075,14351.574074074075,14351.574074074075,14351.574074074075,14351.574074074075,14351.574074074075,14351.574074074075,14351.574074074075,14351.574074074075,14351.574074074075,14351.574074074075,14351.574074074075,14000.777777777777,14000.777777777777,14000.777777777777,14000.777777777777,14000.777777777777,14000.777777777777,15058.62030075188,15058.62030075188,15058.62030075188,15058.62030075188,15058.62030075188,15058.62030075188,15058.62030075188,15058.62030075188,15058.62030075188,15058.62030075188,15058.62030075188,15131.860759493671,15131.860759493671,15131.860759493671,15131.860759493671,15131.860759493671,13600.9,13600.9,15239.927272727273,15239.927272727273,15239.927272727273,15239.927272727273,14963.741935483871,14963.741935483871,14275.631756756757,14275.631756756757,14275.631756756757,14275.631756756757,14275.631756756757,14275.631756756757,14275.631756756757,14275.631756756757,14275.631756756757,14275.631756756757,14275.631756756757,14275.631756756757,14275.631756756757,14275.631756756757,14275.631756756757,14275.631756756757,14275.631756756757,14275.631756756757,14275.631756756757,14275.631756756757,14275.631756756757,13443.40350877193,13443.40350877193,13443.40350877193,13443.40350877193,13443.40350877193,13443.40350877193,17528.958579881655,17528.958579881655,17528.958579881655,17528.958579881655,17528.958579881655,17528.958579881655,17528.958579881655,17528.958579881655,17528.958579881655,13924.518518518518,13924.518518518518,13924.518518518518,13924.518518518518,13924.518518518518,14192.153846153846,14192.153846153846,14192.153846153846,12450.84,12450.84,12450.84,12450.84,12450.84,15991.79754601227,15991.79754601227,15991.79754601227,15991.79754601227,15991.79754601227,15991.79754601227,15991.79754601227,15991.79754601227,15991.79754601227,15991.79754601227,15991.79754601227,15991.79754601227,15901.054545454546,15901.054545454546,15901.054545454546,15901.054545454546,15901.054545454546,15901.054545454546,15901.054545454546,15901.054545454546,15901.054545454546,15901.054545454546,15901.054545454546,15901.054545454546,15901.054545454546,13758.392857142857,13758.392857142857,13758.392857142857,13758.392857142857,13758.392857142857,13758.392857142857,13758.392857142857,14375.757142857143,14375.757142857143,14375.757142857143,14375.757142857143,14375.757142857143,14375.757142857143,14375.757142857143,14375.757142857143,15410.219512195123,14672.345679012345,14672.345679012345,14672.345679012345,16064.9375,16064.9375,16064.9375,16141.244444444445,16141.244444444445,16141.244444444445,16141.244444444445,16141.244444444445,16732.589285714286,16732.589285714286,16732.589285714286,16732.589285714286,16732.589285714286,16732.589285714286,16732.589285714286,15121.956896551725,15121.956896551725,15121.956896551725,15121.956896551725,15121.956896551725,15121.956896551725,15121.956896551725,15121.956896551725,15121.956896551725,15121.956896551725,15121.956896551725,13076.631578947368,13076.631578947368,13076.631578947368,13076.631578947368,13076.631578947368,13076.631578947368,13076.631578947368,13076.631578947368,15944.323076923078,15327.41573033708,15327.41573033708,15327.41573033708,15327.41573033708,15327.41573033708,15327.41573033708,14058.96,14058.96,14058.96,11046.035087719298,11046.035087719298,15933.0,15933.0,15933.0,18314.90625,18314.90625,18314.90625,18314.90625,18314.90625,18314.90625,15795.6,15117.234042553191,15117.234042553191,15117.234042553191,15117.234042553191,15117.234042553191,15117.234042553191,15117.234042553191,15905.808219178081,15905.808219178081,15905.808219178081,15905.808219178081,15905.808219178081,15905.808219178081,15905.808219178081,15905.808219178081,15905.808219178081,15905.808219178081,15905.808219178081,15905.808219178081,15905.808219178081,15905.808219178081,15905.808219178081,15905.808219178081,15905.808219178081,15905.808219178081,15905.808219178081,15905.808219178081,13660.70588235294,13660.70588235294,13660.70588235294,13660.70588235294,13660.70588235294,13660.70588235294,13660.70588235294,13660.70588235294,13660.70588235294,13591.096153846154,13591.096153846154,13591.096153846154,16380.18,16380.18,16380.18,16380.18,16380.18,16380.18,16380.18,16380.18,16380.18,16380.18,16380.18,14933.6,14933.6,15103.872727272726,15103.872727272726,15103.872727272726,15103.872727272726,15103.872727272726,13748.421052631578,13748.421052631578,13748.421052631578,13748.421052631578,13748.421052631578,15252.692307692309,15058.62030075188,15058.62030075188,15058.62030075188,15058.62030075188,15058.62030075188,15058.62030075188,15058.62030075188,15058.62030075188,15058.62030075188,15058.62030075188,15058.62030075188,15058.62030075188,15058.62030075188,15058.62030075188,15058.62030075188,15058.62030075188,12323.85294117647,12323.85294117647,12323.85294117647,12323.85294117647,16337.636363636364,16337.636363636364,16337.636363636364,16337.636363636364,16337.636363636364,16337.636363636364,16337.636363636364,16337.636363636364,16337.636363636364,14469.14705882353,14469.14705882353,14469.14705882353,14469.14705882353,14469.14705882353,14469.14705882353,13396.23076923077,14351.574074074075,14351.574074074075,14351.574074074075,14351.574074074075,14351.574074074075,14351.574074074075,14351.574074074075,14351.574074074075,14351.574074074075,14351.574074074075,14351.574074074075,14351.574074074075,14351.574074074075,14351.574074074075,14351.574074074075,14351.574074074075,14351.574074074075,14351.574074074075,14351.574074074075,14351.574074074075,14351.574074074075,14351.574074074075,14000.777777777777,15058.62030075188,15058.62030075188,15058.62030075188,15058.62030075188,15058.62030075188,15058.62030075188,15058.62030075188,15058.62030075188],\"type\":\"choropleth\"}],                        {\"template\":{\"data\":{\"histogram2dcontour\":[{\"type\":\"histogram2dcontour\",\"colorbar\":{\"outlinewidth\":0,\"ticks\":\"\"},\"colorscale\":[[0.0,\"#0d0887\"],[0.1111111111111111,\"#46039f\"],[0.2222222222222222,\"#7201a8\"],[0.3333333333333333,\"#9c179e\"],[0.4444444444444444,\"#bd3786\"],[0.5555555555555556,\"#d8576b\"],[0.6666666666666666,\"#ed7953\"],[0.7777777777777778,\"#fb9f3a\"],[0.8888888888888888,\"#fdca26\"],[1.0,\"#f0f921\"]]}],\"choropleth\":[{\"type\":\"choropleth\",\"colorbar\":{\"outlinewidth\":0,\"ticks\":\"\"}}],\"histogram2d\":[{\"type\":\"histogram2d\",\"colorbar\":{\"outlinewidth\":0,\"ticks\":\"\"},\"colorscale\":[[0.0,\"#0d0887\"],[0.1111111111111111,\"#46039f\"],[0.2222222222222222,\"#7201a8\"],[0.3333333333333333,\"#9c179e\"],[0.4444444444444444,\"#bd3786\"],[0.5555555555555556,\"#d8576b\"],[0.6666666666666666,\"#ed7953\"],[0.7777777777777778,\"#fb9f3a\"],[0.8888888888888888,\"#fdca26\"],[1.0,\"#f0f921\"]]}],\"heatmap\":[{\"type\":\"heatmap\",\"colorbar\":{\"outlinewidth\":0,\"ticks\":\"\"},\"colorscale\":[[0.0,\"#0d0887\"],[0.1111111111111111,\"#46039f\"],[0.2222222222222222,\"#7201a8\"],[0.3333333333333333,\"#9c179e\"],[0.4444444444444444,\"#bd3786\"],[0.5555555555555556,\"#d8576b\"],[0.6666666666666666,\"#ed7953\"],[0.7777777777777778,\"#fb9f3a\"],[0.8888888888888888,\"#fdca26\"],[1.0,\"#f0f921\"]]}],\"heatmapgl\":[{\"type\":\"heatmapgl\",\"colorbar\":{\"outlinewidth\":0,\"ticks\":\"\"},\"colorscale\":[[0.0,\"#0d0887\"],[0.1111111111111111,\"#46039f\"],[0.2222222222222222,\"#7201a8\"],[0.3333333333333333,\"#9c179e\"],[0.4444444444444444,\"#bd3786\"],[0.5555555555555556,\"#d8576b\"],[0.6666666666666666,\"#ed7953\"],[0.7777777777777778,\"#fb9f3a\"],[0.8888888888888888,\"#fdca26\"],[1.0,\"#f0f921\"]]}],\"contourcarpet\":[{\"type\":\"contourcarpet\",\"colorbar\":{\"outlinewidth\":0,\"ticks\":\"\"}}],\"contour\":[{\"type\":\"contour\",\"colorbar\":{\"outlinewidth\":0,\"ticks\":\"\"},\"colorscale\":[[0.0,\"#0d0887\"],[0.1111111111111111,\"#46039f\"],[0.2222222222222222,\"#7201a8\"],[0.3333333333333333,\"#9c179e\"],[0.4444444444444444,\"#bd3786\"],[0.5555555555555556,\"#d8576b\"],[0.6666666666666666,\"#ed7953\"],[0.7777777777777778,\"#fb9f3a\"],[0.8888888888888888,\"#fdca26\"],[1.0,\"#f0f921\"]]}],\"surface\":[{\"type\":\"surface\",\"colorbar\":{\"outlinewidth\":0,\"ticks\":\"\"},\"colorscale\":[[0.0,\"#0d0887\"],[0.1111111111111111,\"#46039f\"],[0.2222222222222222,\"#7201a8\"],[0.3333333333333333,\"#9c179e\"],[0.4444444444444444,\"#bd3786\"],[0.5555555555555556,\"#d8576b\"],[0.6666666666666666,\"#ed7953\"],[0.7777777777777778,\"#fb9f3a\"],[0.8888888888888888,\"#fdca26\"],[1.0,\"#f0f921\"]]}],\"mesh3d\":[{\"type\":\"mesh3d\",\"colorbar\":{\"outlinewidth\":0,\"ticks\":\"\"}}],\"scatter\":[{\"fillpattern\":{\"fillmode\":\"overlay\",\"size\":10,\"solidity\":0.2},\"type\":\"scatter\"}],\"parcoords\":[{\"type\":\"parcoords\",\"line\":{\"colorbar\":{\"outlinewidth\":0,\"ticks\":\"\"}}}],\"scatterpolargl\":[{\"type\":\"scatterpolargl\",\"marker\":{\"colorbar\":{\"outlinewidth\":0,\"ticks\":\"\"}}}],\"bar\":[{\"error_x\":{\"color\":\"#2a3f5f\"},\"error_y\":{\"color\":\"#2a3f5f\"},\"marker\":{\"line\":{\"color\":\"#E5ECF6\",\"width\":0.5},\"pattern\":{\"fillmode\":\"overlay\",\"size\":10,\"solidity\":0.2}},\"type\":\"bar\"}],\"scattergeo\":[{\"type\":\"scattergeo\",\"marker\":{\"colorbar\":{\"outlinewidth\":0,\"ticks\":\"\"}}}],\"scatterpolar\":[{\"type\":\"scatterpolar\",\"marker\":{\"colorbar\":{\"outlinewidth\":0,\"ticks\":\"\"}}}],\"histogram\":[{\"marker\":{\"pattern\":{\"fillmode\":\"overlay\",\"size\":10,\"solidity\":0.2}},\"type\":\"histogram\"}],\"scattergl\":[{\"type\":\"scattergl\",\"marker\":{\"colorbar\":{\"outlinewidth\":0,\"ticks\":\"\"}}}],\"scatter3d\":[{\"type\":\"scatter3d\",\"line\":{\"colorbar\":{\"outlinewidth\":0,\"ticks\":\"\"}},\"marker\":{\"colorbar\":{\"outlinewidth\":0,\"ticks\":\"\"}}}],\"scattermapbox\":[{\"type\":\"scattermapbox\",\"marker\":{\"colorbar\":{\"outlinewidth\":0,\"ticks\":\"\"}}}],\"scatterternary\":[{\"type\":\"scatterternary\",\"marker\":{\"colorbar\":{\"outlinewidth\":0,\"ticks\":\"\"}}}],\"scattercarpet\":[{\"type\":\"scattercarpet\",\"marker\":{\"colorbar\":{\"outlinewidth\":0,\"ticks\":\"\"}}}],\"carpet\":[{\"aaxis\":{\"endlinecolor\":\"#2a3f5f\",\"gridcolor\":\"white\",\"linecolor\":\"white\",\"minorgridcolor\":\"white\",\"startlinecolor\":\"#2a3f5f\"},\"baxis\":{\"endlinecolor\":\"#2a3f5f\",\"gridcolor\":\"white\",\"linecolor\":\"white\",\"minorgridcolor\":\"white\",\"startlinecolor\":\"#2a3f5f\"},\"type\":\"carpet\"}],\"table\":[{\"cells\":{\"fill\":{\"color\":\"#EBF0F8\"},\"line\":{\"color\":\"white\"}},\"header\":{\"fill\":{\"color\":\"#C8D4E3\"},\"line\":{\"color\":\"white\"}},\"type\":\"table\"}],\"barpolar\":[{\"marker\":{\"line\":{\"color\":\"#E5ECF6\",\"width\":0.5},\"pattern\":{\"fillmode\":\"overlay\",\"size\":10,\"solidity\":0.2}},\"type\":\"barpolar\"}],\"pie\":[{\"automargin\":true,\"type\":\"pie\"}]},\"layout\":{\"autotypenumbers\":\"strict\",\"colorway\":[\"#636efa\",\"#EF553B\",\"#00cc96\",\"#ab63fa\",\"#FFA15A\",\"#19d3f3\",\"#FF6692\",\"#B6E880\",\"#FF97FF\",\"#FECB52\"],\"font\":{\"color\":\"#2a3f5f\"},\"hovermode\":\"closest\",\"hoverlabel\":{\"align\":\"left\"},\"paper_bgcolor\":\"white\",\"plot_bgcolor\":\"#E5ECF6\",\"polar\":{\"bgcolor\":\"#E5ECF6\",\"angularaxis\":{\"gridcolor\":\"white\",\"linecolor\":\"white\",\"ticks\":\"\"},\"radialaxis\":{\"gridcolor\":\"white\",\"linecolor\":\"white\",\"ticks\":\"\"}},\"ternary\":{\"bgcolor\":\"#E5ECF6\",\"aaxis\":{\"gridcolor\":\"white\",\"linecolor\":\"white\",\"ticks\":\"\"},\"baxis\":{\"gridcolor\":\"white\",\"linecolor\":\"white\",\"ticks\":\"\"},\"caxis\":{\"gridcolor\":\"white\",\"linecolor\":\"white\",\"ticks\":\"\"}},\"coloraxis\":{\"colorbar\":{\"outlinewidth\":0,\"ticks\":\"\"}},\"colorscale\":{\"sequential\":[[0.0,\"#0d0887\"],[0.1111111111111111,\"#46039f\"],[0.2222222222222222,\"#7201a8\"],[0.3333333333333333,\"#9c179e\"],[0.4444444444444444,\"#bd3786\"],[0.5555555555555556,\"#d8576b\"],[0.6666666666666666,\"#ed7953\"],[0.7777777777777778,\"#fb9f3a\"],[0.8888888888888888,\"#fdca26\"],[1.0,\"#f0f921\"]],\"sequentialminus\":[[0.0,\"#0d0887\"],[0.1111111111111111,\"#46039f\"],[0.2222222222222222,\"#7201a8\"],[0.3333333333333333,\"#9c179e\"],[0.4444444444444444,\"#bd3786\"],[0.5555555555555556,\"#d8576b\"],[0.6666666666666666,\"#ed7953\"],[0.7777777777777778,\"#fb9f3a\"],[0.8888888888888888,\"#fdca26\"],[1.0,\"#f0f921\"]],\"diverging\":[[0,\"#8e0152\"],[0.1,\"#c51b7d\"],[0.2,\"#de77ae\"],[0.3,\"#f1b6da\"],[0.4,\"#fde0ef\"],[0.5,\"#f7f7f7\"],[0.6,\"#e6f5d0\"],[0.7,\"#b8e186\"],[0.8,\"#7fbc41\"],[0.9,\"#4d9221\"],[1,\"#276419\"]]},\"xaxis\":{\"gridcolor\":\"white\",\"linecolor\":\"white\",\"ticks\":\"\",\"title\":{\"standoff\":15},\"zerolinecolor\":\"white\",\"automargin\":true,\"zerolinewidth\":2},\"yaxis\":{\"gridcolor\":\"white\",\"linecolor\":\"white\",\"ticks\":\"\",\"title\":{\"standoff\":15},\"zerolinecolor\":\"white\",\"automargin\":true,\"zerolinewidth\":2},\"scene\":{\"xaxis\":{\"backgroundcolor\":\"#E5ECF6\",\"gridcolor\":\"white\",\"linecolor\":\"white\",\"showbackground\":true,\"ticks\":\"\",\"zerolinecolor\":\"white\",\"gridwidth\":2},\"yaxis\":{\"backgroundcolor\":\"#E5ECF6\",\"gridcolor\":\"white\",\"linecolor\":\"white\",\"showbackground\":true,\"ticks\":\"\",\"zerolinecolor\":\"white\",\"gridwidth\":2},\"zaxis\":{\"backgroundcolor\":\"#E5ECF6\",\"gridcolor\":\"white\",\"linecolor\":\"white\",\"showbackground\":true,\"ticks\":\"\",\"zerolinecolor\":\"white\",\"gridwidth\":2}},\"shapedefaults\":{\"line\":{\"color\":\"#2a3f5f\"}},\"annotationdefaults\":{\"arrowcolor\":\"#2a3f5f\",\"arrowhead\":0,\"arrowwidth\":1},\"geo\":{\"bgcolor\":\"white\",\"landcolor\":\"#E5ECF6\",\"subunitcolor\":\"white\",\"showland\":true,\"showlakes\":true,\"lakecolor\":\"white\"},\"title\":{\"x\":0.05},\"mapbox\":{\"style\":\"light\"}}},\"title\":{\"text\":\"Average Cost of Heart Failure Care by State\"},\"geo\":{\"scope\":\"usa\"}},                        {\"responsive\": true}                    ).then(function(){\n",
              "                            \n",
              "var gd = document.getElementById('6671cbac-67fc-45d7-b1de-ee445342a629');\n",
              "var x = new MutationObserver(function (mutations, observer) {{\n",
              "        var display = window.getComputedStyle(gd).display;\n",
              "        if (!display || display === 'none') {{\n",
              "            console.log([gd, 'removed!']);\n",
              "            Plotly.purge(gd);\n",
              "            observer.disconnect();\n",
              "        }}\n",
              "}});\n",
              "\n",
              "// Listen for the removal of the full notebook cells\n",
              "var notebookContainer = gd.closest('#notebook-container');\n",
              "if (notebookContainer) {{\n",
              "    x.observe(notebookContainer, {childList: true});\n",
              "}}\n",
              "\n",
              "// Listen for the clearing of the current output cell\n",
              "var outputEl = gd.closest('.output');\n",
              "if (outputEl) {{\n",
              "    x.observe(outputEl, {childList: true});\n",
              "}}\n",
              "\n",
              "                        })                };                            </script>        </div>\n",
              "</body>\n",
              "</html>"
            ]
          },
          "metadata": {}
        },
        {
          "output_type": "display_data",
          "data": {
            "text/html": [
              "<html>\n",
              "<head><meta charset=\"utf-8\" /></head>\n",
              "<body>\n",
              "    <div>            <script src=\"https://cdnjs.cloudflare.com/ajax/libs/mathjax/2.7.5/MathJax.js?config=TeX-AMS-MML_SVG\"></script><script type=\"text/javascript\">if (window.MathJax && window.MathJax.Hub && window.MathJax.Hub.Config) {window.MathJax.Hub.Config({SVG: {font: \"STIX-Web\"}});}</script>                <script type=\"text/javascript\">window.PlotlyConfig = {MathJaxConfig: 'local'};</script>\n",
              "        <script src=\"https://cdn.plot.ly/plotly-2.12.1.min.js\"></script>                <div id=\"b0f7b76c-39c6-4d27-b478-f837d01b7cf2\" class=\"plotly-graph-div\" style=\"height:525px; width:100%;\"></div>            <script type=\"text/javascript\">                                    window.PLOTLYENV=window.PLOTLYENV || {};                                    if (document.getElementById(\"b0f7b76c-39c6-4d27-b478-f837d01b7cf2\")) {                    Plotly.newPlot(                        \"b0f7b76c-39c6-4d27-b478-f837d01b7cf2\",                        [{\"colorbar\":{\"title\":{\"text\":\"Pneumonia Care in Dollars\"}},\"colorscale\":[[0.0,\"rgb(255,245,240)\"],[0.125,\"rgb(254,224,210)\"],[0.25,\"rgb(252,187,161)\"],[0.375,\"rgb(252,146,114)\"],[0.5,\"rgb(251,106,74)\"],[0.625,\"rgb(239,59,44)\"],[0.75,\"rgb(203,24,29)\"],[0.875,\"rgb(165,15,21)\"],[1.0,\"rgb(103,0,13)\"]],\"locationmode\":\"USA-states\",\"locations\":[\"AL\",\"AL\",\"AL\",\"AL\",\"AL\",\"AZ\",\"AZ\",\"AR\",\"AR\",\"AR\",\"AR\",\"AR\",\"AR\",\"AR\",\"AR\",\"CA\",\"CA\",\"CA\",\"CA\",\"CA\",\"CA\",\"CA\",\"CA\",\"CA\",\"CA\",\"CA\",\"CA\",\"CA\",\"CA\",\"CA\",\"CA\",\"CA\",\"CA\",\"CA\",\"CA\",\"CA\",\"CA\",\"CA\",\"CA\",\"CT\",\"CT\",\"CT\",\"CT\",\"CT\",\"CT\",\"DC\",\"DC\",\"DC\",\"DC\",\"DC\",\"FL\",\"FL\",\"FL\",\"FL\",\"FL\",\"FL\",\"FL\",\"FL\",\"FL\",\"FL\",\"FL\",\"FL\",\"FL\",\"FL\",\"FL\",\"FL\",\"FL\",\"FL\",\"FL\",\"FL\",\"FL\",\"FL\",\"FL\",\"FL\",\"FL\",\"FL\",\"FL\",\"FL\",\"FL\",\"FL\",\"FL\",\"FL\",\"GA\",\"GA\",\"GA\",\"GA\",\"GA\",\"GA\",\"GA\",\"GA\",\"GA\",\"GA\",\"GA\",\"GA\",\"IL\",\"IL\",\"IL\",\"IL\",\"IL\",\"IL\",\"IL\",\"IL\",\"IL\",\"IL\",\"IL\",\"IL\",\"IL\",\"IL\",\"IL\",\"IL\",\"IA\",\"KS\",\"KY\",\"KY\",\"KY\",\"KY\",\"KY\",\"KY\",\"LA\",\"LA\",\"MD\",\"MD\",\"MD\",\"MD\",\"MD\",\"MD\",\"MA\",\"MA\",\"MA\",\"MA\",\"MI\",\"MI\",\"MI\",\"MI\",\"MN\",\"MS\",\"MS\",\"MS\",\"MS\",\"MS\",\"MS\",\"MO\",\"MO\",\"MO\",\"MO\",\"MO\",\"MO\",\"MO\",\"NE\",\"NV\",\"NV\",\"NV\",\"NV\",\"NV\",\"NV\",\"NV\",\"NV\",\"NV\",\"NV\",\"NJ\",\"NJ\",\"NJ\",\"NJ\",\"NJ\",\"NJ\",\"NJ\",\"NJ\",\"NM\",\"NM\",\"NM\",\"NY\",\"NY\",\"NY\",\"NY\",\"NY\",\"NY\",\"NY\",\"NY\",\"NY\",\"NY\",\"NY\",\"NY\",\"NY\",\"NY\",\"NY\",\"NY\",\"NY\",\"NY\",\"NY\",\"NY\",\"NY\",\"NY\",\"NY\",\"NY\",\"NY\",\"NY\",\"NY\",\"NY\",\"NY\",\"NY\",\"NY\",\"NY\",\"NY\",\"NY\",\"NY\",\"NY\",\"NY\",\"NY\",\"NY\",\"NY\",\"NY\",\"NY\",\"NY\",\"NY\",\"NY\",\"NY\",\"NY\",\"NY\",\"NC\",\"NC\",\"NC\",\"NC\",\"NC\",\"NC\",\"NC\",\"ND\",\"ND\",\"OH\",\"OH\",\"OK\",\"OK\",\"OK\",\"OK\",\"OK\",\"PA\",\"PA\",\"PA\",\"PA\",\"PA\",\"PA\",\"PA\",\"PA\",\"PA\",\"PA\",\"PA\",\"PA\",\"PA\",\"PR\",\"PR\",\"PR\",\"SC\",\"SC\",\"SC\",\"TN\",\"TN\",\"TN\",\"TN\",\"TN\",\"TN\",\"TN\",\"TN\",\"TN\",\"TN\",\"TX\",\"TX\",\"TX\",\"TX\",\"TX\",\"TX\",\"TX\",\"TX\",\"TX\",\"TX\",\"VA\",\"VA\",\"VA\",\"WA\",\"WA\",\"WV\",\"WV\",\"WI\",\"AL\",\"AL\",\"AL\",\"AL\",\"AL\",\"AL\",\"AL\",\"AL\",\"AL\",\"AL\",\"AL\",\"AL\",\"AL\",\"AL\",\"AL\",\"AL\",\"AL\",\"AL\",\"AL\",\"AL\",\"AL\",\"AL\",\"AL\",\"AK\",\"AZ\",\"AZ\",\"AZ\",\"AZ\",\"AZ\",\"AZ\",\"AZ\",\"AZ\",\"AZ\",\"AZ\",\"AZ\",\"AZ\",\"AZ\",\"AZ\",\"AZ\",\"AZ\",\"AR\",\"AR\",\"AR\",\"AR\",\"AR\",\"AR\",\"AR\",\"AR\",\"AR\",\"AR\",\"AR\",\"AR\",\"AR\",\"AR\",\"AR\",\"AR\",\"AR\",\"AR\",\"AR\",\"AR\",\"CA\",\"CA\",\"CA\",\"CA\",\"CA\",\"CA\",\"CA\",\"CA\",\"CA\",\"CA\",\"CA\",\"CA\",\"CA\",\"CA\",\"CA\",\"CA\",\"CA\",\"CA\",\"CA\",\"CA\",\"CA\",\"CA\",\"CA\",\"CA\",\"CA\",\"CA\",\"CA\",\"CA\",\"CA\",\"CA\",\"CA\",\"CA\",\"CA\",\"CA\",\"CA\",\"CA\",\"CA\",\"CA\",\"CA\",\"CA\",\"CA\",\"CA\",\"CA\",\"CA\",\"CA\",\"CA\",\"CA\",\"CA\",\"CA\",\"CA\",\"CA\",\"CA\",\"CA\",\"CA\",\"CA\",\"CA\",\"CA\",\"CA\",\"CA\",\"CA\",\"CA\",\"CA\",\"CA\",\"CA\",\"CA\",\"CA\",\"CA\",\"CA\",\"CA\",\"CA\",\"CA\",\"CA\",\"CA\",\"CA\",\"CA\",\"CA\",\"CA\",\"CA\",\"CA\",\"CA\",\"CA\",\"CA\",\"CA\",\"CA\",\"CA\",\"CA\",\"CA\",\"CA\",\"CA\",\"CA\",\"CA\",\"CA\",\"CA\",\"CA\",\"CA\",\"CA\",\"CO\",\"CO\",\"CO\",\"CT\",\"CT\",\"CT\",\"CT\",\"DE\",\"DE\",\"DC\",\"FL\",\"FL\",\"FL\",\"FL\",\"FL\",\"FL\",\"FL\",\"FL\",\"FL\",\"FL\",\"FL\",\"FL\",\"FL\",\"FL\",\"FL\",\"FL\",\"FL\",\"FL\",\"FL\",\"FL\",\"FL\",\"FL\",\"FL\",\"FL\",\"FL\",\"FL\",\"FL\",\"FL\",\"FL\",\"FL\",\"FL\",\"FL\",\"FL\",\"FL\",\"FL\",\"FL\",\"FL\",\"FL\",\"FL\",\"FL\",\"FL\",\"FL\",\"FL\",\"FL\",\"FL\",\"FL\",\"FL\",\"FL\",\"FL\",\"FL\",\"FL\",\"FL\",\"FL\",\"FL\",\"FL\",\"FL\",\"FL\",\"FL\",\"FL\",\"FL\",\"GA\",\"GA\",\"GA\",\"GA\",\"GA\",\"GA\",\"GA\",\"GA\",\"GA\",\"GA\",\"GA\",\"GA\",\"GA\",\"GA\",\"GA\",\"GA\",\"GA\",\"GA\",\"GA\",\"GA\",\"GA\",\"GA\",\"GA\",\"HI\",\"ID\",\"ID\",\"ID\",\"IL\",\"IL\",\"IL\",\"IL\",\"IL\",\"IL\",\"IL\",\"IL\",\"IL\",\"IL\",\"IL\",\"IL\",\"IL\",\"IL\",\"IL\",\"IL\",\"IL\",\"IL\",\"IL\",\"IL\",\"IL\",\"IL\",\"IL\",\"IL\",\"IL\",\"IL\",\"IL\",\"IL\",\"IL\",\"IL\",\"IL\",\"IN\",\"IN\",\"IN\",\"IN\",\"IN\",\"IN\",\"IN\",\"IN\",\"IN\",\"IN\",\"IA\",\"IA\",\"IA\",\"IA\",\"IA\",\"IA\",\"IA\",\"IA\",\"IA\",\"IA\",\"IA\",\"KS\",\"KS\",\"KS\",\"KS\",\"KS\",\"KS\",\"KS\",\"KS\",\"KS\",\"KS\",\"KY\",\"KY\",\"KY\",\"KY\",\"KY\",\"KY\",\"KY\",\"KY\",\"KY\",\"KY\",\"KY\",\"KY\",\"KY\",\"KY\",\"KY\",\"KY\",\"KY\",\"KY\",\"KY\",\"KY\",\"KY\",\"KY\",\"LA\",\"LA\",\"LA\",\"LA\",\"LA\",\"LA\",\"LA\",\"LA\",\"LA\",\"LA\",\"LA\",\"LA\",\"LA\",\"LA\",\"LA\",\"LA\",\"LA\",\"LA\",\"LA\",\"LA\",\"LA\",\"ME\",\"ME\",\"ME\",\"ME\",\"ME\",\"MD\",\"MD\",\"MD\",\"MD\",\"MD\",\"MD\",\"MA\",\"MA\",\"MA\",\"MA\",\"MA\",\"MA\",\"MA\",\"MA\",\"MA\",\"MA\",\"MA\",\"MA\",\"MA\",\"MA\",\"MA\",\"MI\",\"MI\",\"MI\",\"MI\",\"MI\",\"MI\",\"MI\",\"MI\",\"MI\",\"MI\",\"MI\",\"MI\",\"MI\",\"MN\",\"MN\",\"MN\",\"MN\",\"MN\",\"MS\",\"MS\",\"MS\",\"MS\",\"MS\",\"MS\",\"MS\",\"MS\",\"MS\",\"MS\",\"MS\",\"MS\",\"MS\",\"MS\",\"MS\",\"MS\",\"MS\",\"MS\",\"MS\",\"MS\",\"MS\",\"MS\",\"MS\",\"MS\",\"MS\",\"MO\",\"MO\",\"MO\",\"MO\",\"MO\",\"MO\",\"MO\",\"MO\",\"MO\",\"MO\",\"MO\",\"MO\",\"MO\",\"MO\",\"MO\",\"MO\",\"MO\",\"MT\",\"MT\",\"NE\",\"NE\",\"NE\",\"NV\",\"NV\",\"NV\",\"NV\",\"NV\",\"NV\",\"NH\",\"NH\",\"NH\",\"NH\",\"NJ\",\"NJ\",\"NJ\",\"NJ\",\"NJ\",\"NJ\",\"NJ\",\"NJ\",\"NJ\",\"NJ\",\"NJ\",\"NJ\",\"NJ\",\"NJ\",\"NJ\",\"NJ\",\"NJ\",\"NJ\",\"NJ\",\"NJ\",\"NJ\",\"NJ\",\"NJ\",\"NJ\",\"NJ\",\"NJ\",\"NM\",\"NM\",\"NM\",\"NM\",\"NM\",\"NM\",\"NM\",\"NM\",\"NY\",\"NY\",\"NY\",\"NY\",\"NY\",\"NY\",\"NY\",\"NY\",\"NY\",\"NY\",\"NY\",\"NY\",\"NY\",\"NY\",\"NY\",\"NY\",\"NY\",\"NY\",\"NY\",\"NY\",\"NY\",\"NY\",\"NY\",\"NY\",\"NY\",\"NY\",\"NY\",\"NY\",\"NY\",\"NY\",\"NY\",\"NY\",\"NY\",\"NY\",\"NY\",\"NY\",\"NY\",\"NY\",\"NY\",\"NY\",\"NY\",\"NY\",\"NY\",\"NY\",\"NY\",\"NC\",\"NC\",\"NC\",\"NC\",\"NC\",\"NC\",\"NC\",\"NC\",\"NC\",\"NC\",\"NC\",\"NC\",\"NC\",\"NC\",\"NC\",\"NC\",\"NC\",\"NC\",\"ND\",\"ND\",\"OH\",\"OH\",\"OH\",\"OH\",\"OH\",\"OH\",\"OH\",\"OH\",\"OH\",\"OH\",\"OH\",\"OH\",\"OH\",\"OH\",\"OH\",\"OH\",\"OH\",\"OH\",\"OH\",\"OH\",\"OH\",\"OH\",\"OK\",\"OK\",\"OK\",\"OK\",\"OK\",\"OK\",\"OK\",\"OK\",\"OK\",\"OK\",\"OK\",\"OK\",\"OK\",\"OK\",\"OK\",\"OK\",\"OK\",\"OK\",\"OK\",\"OR\",\"OR\",\"OR\",\"OR\",\"PA\",\"PA\",\"PA\",\"PA\",\"PA\",\"PA\",\"PA\",\"PA\",\"PA\",\"PA\",\"PA\",\"PA\",\"PA\",\"PA\",\"PA\",\"PA\",\"PA\",\"PA\",\"PA\",\"PA\",\"PA\",\"PA\",\"PA\",\"PA\",\"PA\",\"PA\",\"PA\",\"PA\",\"PA\",\"PA\",\"PA\",\"PA\",\"PA\",\"PA\",\"PA\",\"PA\",\"PA\",\"PR\",\"PR\",\"PR\",\"RI\",\"RI\",\"RI\",\"SC\",\"SC\",\"SC\",\"SC\",\"SC\",\"SC\",\"SC\",\"SC\",\"SC\",\"SC\",\"SC\",\"SC\",\"SC\",\"SC\",\"SC\",\"SD\",\"TN\",\"TN\",\"TN\",\"TN\",\"TN\",\"TN\",\"TN\",\"TN\",\"TN\",\"TN\",\"TN\",\"TN\",\"TN\",\"TN\",\"TN\",\"TN\",\"TN\",\"TN\",\"TN\",\"TN\",\"TN\",\"TN\",\"TN\",\"TN\",\"TN\",\"TN\",\"TN\",\"TX\",\"TX\",\"TX\",\"TX\",\"TX\",\"TX\",\"TX\",\"TX\",\"TX\",\"TX\",\"TX\",\"TX\",\"TX\",\"TX\",\"TX\",\"TX\",\"TX\",\"TX\",\"TX\",\"TX\",\"TX\",\"TX\",\"TX\",\"TX\",\"TX\",\"TX\",\"TX\",\"TX\",\"TX\",\"TX\",\"TX\",\"TX\",\"TX\",\"TX\",\"TX\",\"TX\",\"TX\",\"TX\",\"TX\",\"TX\",\"TX\",\"TX\",\"TX\",\"TX\",\"TX\",\"TX\",\"TX\",\"TX\",\"TX\",\"TX\",\"TX\",\"UT\",\"UT\",\"VT\",\"VI\",\"VA\",\"VA\",\"VA\",\"VA\",\"VA\",\"VA\",\"VA\",\"VA\",\"VA\",\"VA\",\"VA\",\"VA\",\"VA\",\"VA\",\"VA\",\"VA\",\"VA\",\"WA\",\"WA\",\"WA\",\"WA\",\"WA\",\"WA\",\"WA\",\"WA\",\"WA\",\"WA\",\"WA\",\"WA\",\"WA\",\"WA\",\"WA\",\"WA\",\"WA\",\"WV\",\"WV\",\"WV\",\"WV\",\"WV\",\"WV\",\"WV\",\"WV\",\"WV\",\"WV\",\"WI\",\"WI\",\"WI\",\"WI\",\"WI\",\"WY\",\"WY\",\"TX\",\"TX\",\"AL\",\"AL\",\"AL\",\"AL\",\"AL\",\"AL\",\"AL\",\"AL\",\"AL\",\"AL\",\"AL\",\"AL\",\"AL\",\"AL\",\"AL\",\"AL\",\"AL\",\"AL\",\"AL\",\"AL\",\"AL\",\"AL\",\"AL\",\"AL\",\"AL\",\"AL\",\"AL\",\"AL\",\"AL\",\"AL\",\"AL\",\"AK\",\"AK\",\"AK\",\"AZ\",\"AZ\",\"AZ\",\"AZ\",\"AZ\",\"AZ\",\"AZ\",\"AZ\",\"AZ\",\"AZ\",\"AZ\",\"AZ\",\"AZ\",\"AZ\",\"AZ\",\"AZ\",\"AZ\",\"AZ\",\"AZ\",\"AR\",\"AR\",\"AR\",\"AR\",\"AR\",\"AR\",\"AR\",\"AR\",\"AR\",\"AR\",\"AR\",\"AR\",\"AR\",\"AR\",\"AR\",\"AR\",\"AR\",\"AR\",\"AR\",\"AR\",\"AR\",\"AR\",\"AR\",\"CA\",\"CA\",\"CA\",\"CA\",\"CA\",\"CA\",\"CA\",\"CA\",\"CA\",\"CA\",\"CA\",\"CA\",\"CA\",\"CA\",\"CA\",\"CA\",\"CA\",\"CA\",\"CA\",\"CA\",\"CA\",\"CA\",\"CA\",\"CA\",\"CA\",\"CA\",\"CA\",\"CA\",\"CA\",\"CA\",\"CA\",\"CA\",\"CA\",\"CA\",\"CA\",\"CA\",\"CA\",\"CA\",\"CA\",\"CA\",\"CA\",\"CA\",\"CA\",\"CA\",\"CA\",\"CA\",\"CA\",\"CA\",\"CA\",\"CA\",\"CA\",\"CA\",\"CA\",\"CA\",\"CA\",\"CA\",\"CA\",\"CA\",\"CA\",\"CA\",\"CA\",\"CA\",\"CA\",\"CA\",\"CA\",\"CA\",\"CA\",\"CA\",\"CA\",\"CA\",\"CA\",\"CA\",\"CA\",\"CA\",\"CA\",\"CA\",\"CA\",\"CA\",\"CA\",\"CA\",\"CA\",\"CA\",\"CA\",\"CA\",\"CA\",\"CA\",\"CA\",\"CA\",\"CA\",\"CA\",\"CA\",\"CA\",\"CA\",\"CO\",\"CO\",\"CO\",\"CO\",\"CO\",\"CO\",\"CO\",\"CO\",\"CO\",\"CO\",\"CO\",\"CO\",\"CO\",\"CO\",\"CO\",\"CO\",\"CO\",\"CO\",\"CO\",\"CO\",\"CO\",\"CO\",\"CO\",\"CT\",\"CT\",\"CT\",\"CT\",\"CT\",\"CT\",\"CT\",\"CT\",\"CT\",\"DE\",\"DE\",\"DE\",\"DC\",\"FL\",\"FL\",\"FL\",\"FL\",\"FL\",\"FL\",\"FL\",\"FL\",\"FL\",\"FL\",\"FL\",\"FL\",\"FL\",\"FL\",\"FL\",\"FL\",\"FL\",\"FL\",\"FL\",\"FL\",\"FL\",\"FL\",\"FL\",\"FL\",\"FL\",\"FL\",\"FL\",\"FL\",\"FL\",\"FL\",\"FL\",\"FL\",\"FL\",\"FL\",\"FL\",\"FL\",\"FL\",\"FL\",\"FL\",\"FL\",\"GA\",\"GA\",\"GA\",\"GA\",\"GA\",\"GA\",\"GA\",\"GA\",\"GA\",\"GA\",\"GA\",\"GA\",\"GA\",\"GA\",\"GA\",\"GA\",\"GA\",\"GA\",\"GA\",\"GA\",\"GA\",\"GA\",\"GA\",\"GA\",\"GA\",\"GA\",\"GA\",\"GA\",\"GA\",\"GA\",\"GA\",\"GA\",\"GA\",\"GA\",\"GA\",\"GA\",\"GA\",\"GA\",\"GA\",\"GA\",\"GA\",\"GA\",\"HI\",\"HI\",\"HI\",\"HI\",\"ID\",\"ID\",\"ID\",\"ID\",\"ID\",\"ID\",\"IL\",\"IL\",\"IL\",\"IL\",\"IL\",\"IL\",\"IL\",\"IL\",\"IL\",\"IL\",\"IL\",\"IL\",\"IL\",\"IL\",\"IL\",\"IL\",\"IL\",\"IL\",\"IL\",\"IL\",\"IL\",\"IL\",\"IL\",\"IL\",\"IL\",\"IL\",\"IL\",\"IL\",\"IL\",\"IL\",\"IL\",\"IL\",\"IL\",\"IL\",\"IL\",\"IL\",\"IL\",\"IL\",\"IL\",\"IL\",\"IL\",\"IL\",\"IL\",\"IL\",\"IL\",\"IL\",\"IL\",\"IL\",\"IL\",\"IL\",\"IL\",\"IL\",\"IL\",\"IL\",\"IL\",\"IN\",\"IN\",\"IN\",\"IN\",\"IN\",\"IN\",\"IN\",\"IN\",\"IN\",\"IN\",\"IN\",\"IN\",\"IN\",\"IN\",\"IN\",\"IN\",\"IN\",\"IN\",\"IN\",\"IN\",\"IN\",\"IN\",\"IN\",\"IN\",\"IN\",\"IN\",\"IN\",\"IN\",\"IN\",\"IN\",\"IN\",\"IN\",\"IN\",\"IN\",\"IN\",\"IN\",\"IA\",\"IA\",\"IA\",\"IA\",\"IA\",\"IA\",\"IA\",\"IA\",\"IA\",\"IA\",\"IA\",\"IA\",\"IA\",\"IA\",\"IA\",\"IA\",\"IA\",\"IA\",\"IA\",\"IA\",\"IA\",\"IA\",\"IA\",\"IA\",\"IA\",\"IA\",\"IA\",\"IA\",\"IA\",\"KS\",\"KS\",\"KS\",\"KS\",\"KS\",\"KS\",\"KS\",\"KS\",\"KS\",\"KS\",\"KS\",\"KS\",\"KS\",\"KS\",\"KS\",\"KS\",\"KS\",\"KS\",\"KS\",\"KS\",\"KS\",\"KS\",\"KS\",\"KS\",\"KS\",\"KS\",\"KS\",\"KS\",\"KS\",\"KS\",\"KY\",\"KY\",\"KY\",\"KY\",\"KY\",\"KY\",\"KY\",\"KY\",\"KY\",\"KY\",\"KY\",\"KY\",\"KY\",\"KY\",\"KY\",\"KY\",\"KY\",\"KY\",\"KY\",\"KY\",\"KY\",\"KY\",\"KY\",\"KY\",\"KY\",\"KY\",\"KY\",\"KY\",\"KY\",\"KY\",\"KY\",\"KY\",\"LA\",\"LA\",\"LA\",\"LA\",\"LA\",\"LA\",\"LA\",\"LA\",\"LA\",\"LA\",\"LA\",\"LA\",\"LA\",\"LA\",\"LA\",\"LA\",\"LA\",\"LA\",\"LA\",\"LA\",\"LA\",\"LA\",\"LA\",\"LA\",\"LA\",\"LA\",\"LA\",\"LA\",\"LA\",\"LA\",\"LA\",\"LA\",\"LA\",\"LA\",\"LA\",\"ME\",\"ME\",\"ME\",\"ME\",\"ME\",\"ME\",\"ME\",\"ME\",\"ME\",\"ME\",\"MD\",\"MD\",\"MD\",\"MD\",\"MD\",\"MD\",\"MD\",\"MD\",\"MD\",\"MD\",\"MD\",\"MD\",\"MD\",\"MD\",\"MD\",\"MD\",\"MD\",\"MD\",\"MD\",\"MA\",\"MA\",\"MA\",\"MA\",\"MA\",\"MA\",\"MA\",\"MA\",\"MA\",\"MA\",\"MA\",\"MA\",\"MA\",\"MA\",\"MA\",\"MA\",\"MA\",\"MA\",\"MA\",\"MI\",\"MI\",\"MI\",\"MI\",\"MI\",\"MI\",\"MI\",\"MI\",\"MI\",\"MI\",\"MI\",\"MI\",\"MI\",\"MI\",\"MI\",\"MI\",\"MI\",\"MI\",\"MI\",\"MI\",\"MI\",\"MI\",\"MI\",\"MI\",\"MI\",\"MI\",\"MI\",\"MI\",\"MI\",\"MI\",\"MI\",\"MI\",\"MI\",\"MI\",\"MI\",\"MI\",\"MI\",\"MN\",\"MN\",\"MN\",\"MN\",\"MN\",\"MN\",\"MN\",\"MN\",\"MN\",\"MN\",\"MN\",\"MN\",\"MN\",\"MN\",\"MN\",\"MN\",\"MN\",\"MN\",\"MN\",\"MS\",\"MS\",\"MS\",\"MS\",\"MS\",\"MS\",\"MS\",\"MS\",\"MS\",\"MS\",\"MS\",\"MS\",\"MS\",\"MS\",\"MS\",\"MS\",\"MS\",\"MS\",\"MS\",\"MS\",\"MS\",\"MS\",\"MS\",\"MS\",\"MS\",\"MS\",\"MO\",\"MO\",\"MO\",\"MO\",\"MO\",\"MO\",\"MO\",\"MO\",\"MO\",\"MO\",\"MO\",\"MO\",\"MO\",\"MO\",\"MO\",\"MO\",\"MO\",\"MO\",\"MO\",\"MO\",\"MO\",\"MO\",\"MO\",\"MO\",\"MO\",\"MO\",\"MO\",\"MO\",\"MO\",\"MO\",\"MO\",\"MO\",\"MO\",\"MO\",\"MO\",\"MO\",\"MT\",\"MT\",\"MT\",\"MT\",\"MT\",\"MT\",\"MT\",\"MT\",\"NE\",\"NE\",\"NE\",\"NE\",\"NE\",\"NE\",\"NE\",\"NE\",\"NE\",\"NE\",\"NE\",\"NE\",\"NE\",\"NE\",\"NE\",\"NE\",\"NE\",\"NE\",\"NE\",\"NE\",\"NE\",\"NE\",\"NE\",\"NE\",\"NE\",\"NE\",\"NV\",\"NV\",\"NV\",\"NV\",\"NV\",\"NV\",\"NV\",\"NH\",\"NH\",\"NH\",\"NH\",\"NH\",\"NH\",\"NH\",\"NH\",\"NH\",\"NJ\",\"NJ\",\"NJ\",\"NJ\",\"NJ\",\"NJ\",\"NJ\",\"NJ\",\"NJ\",\"NJ\",\"NJ\",\"NJ\",\"NJ\",\"NJ\",\"NM\",\"NM\",\"NM\",\"NM\",\"NM\",\"NM\",\"NM\",\"NM\",\"NM\",\"NM\",\"NM\",\"NM\",\"NM\",\"NY\",\"NY\",\"NY\",\"NY\",\"NY\",\"NY\",\"NY\",\"NY\",\"NY\",\"NY\",\"NY\",\"NY\",\"NY\",\"NY\",\"NY\",\"NY\",\"NY\",\"NY\",\"NY\",\"NY\",\"NY\",\"NY\",\"NY\",\"NY\",\"NY\",\"NY\",\"NY\",\"NY\",\"NY\",\"NY\",\"NY\",\"NY\",\"NY\",\"NY\",\"NY\",\"NY\",\"NY\",\"NY\",\"NY\",\"NY\",\"NC\",\"NC\",\"NC\",\"NC\",\"NC\",\"NC\",\"NC\",\"NC\",\"NC\",\"NC\",\"NC\",\"NC\",\"NC\",\"NC\",\"NC\",\"NC\",\"NC\",\"NC\",\"NC\",\"NC\",\"NC\",\"NC\",\"NC\",\"NC\",\"NC\",\"NC\",\"NC\",\"NC\",\"NC\",\"NC\",\"NC\",\"NC\",\"NC\",\"NC\",\"NC\",\"NC\",\"ND\",\"ND\",\"ND\",\"ND\",\"ND\",\"ND\",\"ND\",\"ND\",\"OH\",\"OH\",\"OH\",\"OH\",\"OH\",\"OH\",\"OH\",\"OH\",\"OH\",\"OH\",\"OH\",\"OH\",\"OH\",\"OH\",\"OH\",\"OH\",\"OH\",\"OH\",\"OH\",\"OH\",\"OH\",\"OH\",\"OH\",\"OH\",\"OH\",\"OH\",\"OH\",\"OH\",\"OH\",\"OH\",\"OH\",\"OH\",\"OH\",\"OH\",\"OH\",\"OH\",\"OH\",\"OH\",\"OH\",\"OH\",\"OH\",\"OH\",\"OH\",\"OH\",\"OH\",\"OH\",\"OH\",\"OH\",\"OH\",\"OH\",\"OK\",\"OK\",\"OK\",\"OK\",\"OK\",\"OK\",\"OK\",\"OK\",\"OK\",\"OK\",\"OK\",\"OK\",\"OK\",\"OK\",\"OK\",\"OK\",\"OK\",\"OK\",\"OK\",\"OK\",\"OK\",\"OK\",\"OK\",\"OK\",\"OK\",\"OK\",\"OK\",\"OK\",\"OR\",\"OR\",\"OR\",\"OR\",\"OR\",\"OR\",\"OR\",\"OR\",\"OR\",\"OR\",\"OR\",\"OR\",\"OR\",\"OR\",\"OR\",\"OR\",\"OR\",\"OR\",\"OR\",\"OR\",\"OR\",\"OR\",\"OR\",\"PA\",\"PA\",\"PA\",\"PA\",\"PA\",\"PA\",\"PA\",\"PA\",\"PA\",\"PA\",\"PA\",\"PA\",\"PA\",\"PA\",\"PA\",\"PA\",\"PA\",\"PA\",\"PA\",\"PA\",\"PA\",\"PA\",\"PA\",\"PA\",\"PA\",\"PA\",\"PA\",\"PA\",\"PA\",\"PA\",\"PA\",\"PA\",\"PA\",\"PA\",\"PA\",\"PA\",\"PA\",\"PA\",\"PA\",\"PA\",\"PA\",\"PA\",\"PA\",\"PA\",\"PA\",\"PA\",\"PA\",\"PA\",\"PA\",\"PA\",\"PA\",\"PA\",\"PA\",\"RI\",\"RI\",\"RI\",\"SC\",\"SC\",\"SC\",\"SC\",\"SC\",\"SC\",\"SC\",\"SC\",\"SC\",\"SC\",\"SC\",\"SC\",\"SC\",\"SC\",\"SC\",\"SC\",\"SC\",\"SD\",\"SD\",\"SD\",\"SD\",\"SD\",\"SD\",\"TN\",\"TN\",\"TN\",\"TN\",\"TN\",\"TN\",\"TN\",\"TN\",\"TN\",\"TN\",\"TN\",\"TN\",\"TN\",\"TN\",\"TN\",\"TN\",\"TN\",\"TN\",\"TN\",\"TN\",\"TN\",\"TN\",\"TN\",\"TN\",\"TN\",\"TN\",\"TN\",\"TN\",\"TN\",\"TN\",\"TN\",\"TN\",\"TX\",\"TX\",\"TX\",\"TX\",\"TX\",\"TX\",\"TX\",\"TX\",\"TX\",\"TX\",\"TX\",\"TX\",\"TX\",\"TX\",\"TX\",\"TX\",\"TX\",\"TX\",\"TX\",\"TX\",\"TX\",\"TX\",\"TX\",\"TX\",\"TX\",\"TX\",\"TX\",\"TX\",\"TX\",\"TX\",\"TX\",\"TX\",\"TX\",\"TX\",\"TX\",\"TX\",\"TX\",\"TX\",\"TX\",\"TX\",\"TX\",\"TX\",\"TX\",\"TX\",\"TX\",\"TX\",\"TX\",\"TX\",\"TX\",\"TX\",\"TX\",\"TX\",\"TX\",\"TX\",\"TX\",\"TX\",\"TX\",\"TX\",\"TX\",\"TX\",\"TX\",\"TX\",\"TX\",\"TX\",\"TX\",\"TX\",\"TX\",\"TX\",\"TX\",\"TX\",\"TX\",\"TX\",\"TX\",\"TX\",\"TX\",\"TX\",\"TX\",\"TX\",\"TX\",\"TX\",\"TX\",\"TX\",\"UT\",\"UT\",\"UT\",\"UT\",\"UT\",\"UT\",\"UT\",\"VT\",\"VT\",\"VT\",\"VT\",\"VT\",\"VT\",\"VI\",\"VA\",\"VA\",\"VA\",\"VA\",\"VA\",\"VA\",\"VA\",\"VA\",\"VA\",\"VA\",\"VA\",\"VA\",\"VA\",\"VA\",\"VA\",\"VA\",\"VA\",\"VA\",\"VA\",\"VA\",\"VA\",\"VA\",\"VA\",\"VA\",\"WA\",\"WA\",\"WA\",\"WA\",\"WA\",\"WA\",\"WA\",\"WA\",\"WA\",\"WA\",\"WA\",\"WA\",\"WA\",\"WA\",\"WA\",\"WA\",\"WA\",\"WA\",\"WA\",\"WA\",\"WA\",\"WA\",\"WA\",\"WA\",\"WV\",\"WV\",\"WV\",\"WV\",\"WV\",\"WV\",\"WV\",\"WV\",\"WV\",\"WV\",\"WV\",\"WV\",\"WV\",\"WV\",\"WV\",\"WV\",\"WV\",\"WV\",\"WI\",\"WI\",\"WI\",\"WI\",\"WI\",\"WI\",\"WI\",\"WI\",\"WI\",\"WI\",\"WI\",\"WI\",\"WI\",\"WI\",\"WI\",\"WI\",\"WI\",\"WI\",\"WI\",\"WI\",\"WI\",\"WY\",\"WY\",\"WY\",\"WY\",\"WY\",\"WY\",\"WY\",\"WY\",\"WY\",\"TX\",\"TX\",\"TX\",\"TX\",\"TX\",\"TX\",\"TX\",\"TX\",\"TX\",\"TX\",\"TX\",\"TX\",\"TX\",\"AL\",\"AL\",\"AL\",\"AL\",\"AL\",\"AL\",\"AL\",\"AL\",\"AL\",\"AL\",\"AL\",\"AL\",\"AL\",\"AL\",\"AL\",\"AK\",\"AK\",\"AK\",\"AK\",\"AZ\",\"AZ\",\"AZ\",\"AZ\",\"AZ\",\"AZ\",\"AZ\",\"AZ\",\"AZ\",\"AZ\",\"AZ\",\"AZ\",\"AZ\",\"AZ\",\"AR\",\"AR\",\"AR\",\"AR\",\"AR\",\"AR\",\"AR\",\"AR\",\"AR\",\"CA\",\"CA\",\"CA\",\"CA\",\"CA\",\"CA\",\"CA\",\"CA\",\"CA\",\"CA\",\"CA\",\"CA\",\"CA\",\"CA\",\"CA\",\"CA\",\"CA\",\"CA\",\"CA\",\"CA\",\"CA\",\"CA\",\"CA\",\"CA\",\"CA\",\"CA\",\"CA\",\"CA\",\"CA\",\"CA\",\"CA\",\"CA\",\"CA\",\"CA\",\"CA\",\"CA\",\"CA\",\"CA\",\"CA\",\"CA\",\"CA\",\"CA\",\"CA\",\"CA\",\"CA\",\"CA\",\"CA\",\"CA\",\"CA\",\"CA\",\"CA\",\"CA\",\"CA\",\"CA\",\"CA\",\"CA\",\"CA\",\"CA\",\"CA\",\"CA\",\"CA\",\"CA\",\"CO\",\"CO\",\"CO\",\"CO\",\"CO\",\"CO\",\"CO\",\"CO\",\"CO\",\"CO\",\"CO\",\"CO\",\"CO\",\"CO\",\"CO\",\"CO\",\"CO\",\"CO\",\"CO\",\"CO\",\"CO\",\"CO\",\"CO\",\"CO\",\"CO\",\"CT\",\"CT\",\"CT\",\"CT\",\"CT\",\"CT\",\"CT\",\"CT\",\"CT\",\"DE\",\"FL\",\"FL\",\"FL\",\"FL\",\"FL\",\"FL\",\"FL\",\"FL\",\"FL\",\"FL\",\"FL\",\"FL\",\"FL\",\"FL\",\"FL\",\"FL\",\"FL\",\"FL\",\"FL\",\"FL\",\"FL\",\"FL\",\"FL\",\"FL\",\"FL\",\"FL\",\"FL\",\"FL\",\"GA\",\"GA\",\"GA\",\"GA\",\"GA\",\"GA\",\"GA\",\"GA\",\"GA\",\"GA\",\"GA\",\"GA\",\"GA\",\"GA\",\"GA\",\"GA\",\"GA\",\"GA\",\"GA\",\"GA\",\"GA\",\"GA\",\"GA\",\"GA\",\"GA\",\"GA\",\"HI\",\"HI\",\"HI\",\"HI\",\"HI\",\"ID\",\"ID\",\"ID\",\"ID\",\"ID\",\"ID\",\"ID\",\"ID\",\"ID\",\"ID\",\"ID\",\"IL\",\"IL\",\"IL\",\"IL\",\"IL\",\"IL\",\"IL\",\"IL\",\"IL\",\"IL\",\"IL\",\"IL\",\"IL\",\"IL\",\"IL\",\"IL\",\"IL\",\"IL\",\"IL\",\"IL\",\"IL\",\"IL\",\"IL\",\"IL\",\"IL\",\"IL\",\"IL\",\"IL\",\"IL\",\"IL\",\"IL\",\"IL\",\"IL\",\"IL\",\"IL\",\"IL\",\"IL\",\"IL\",\"IL\",\"IL\",\"IL\",\"IL\",\"IL\",\"IL\",\"IL\",\"IL\",\"IL\",\"IL\",\"IL\",\"IN\",\"IN\",\"IN\",\"IN\",\"IN\",\"IN\",\"IN\",\"IN\",\"IN\",\"IN\",\"IN\",\"IN\",\"IN\",\"IN\",\"IN\",\"IN\",\"IN\",\"IN\",\"IN\",\"IN\",\"IN\",\"IN\",\"IN\",\"IN\",\"IN\",\"IN\",\"IN\",\"IN\",\"IN\",\"IN\",\"IN\",\"IN\",\"IN\",\"IN\",\"IN\",\"IN\",\"IN\",\"IN\",\"IN\",\"IN\",\"IN\",\"IN\",\"IN\",\"IN\",\"IN\",\"IN\",\"IN\",\"IN\",\"IN\",\"IN\",\"IN\",\"IA\",\"IA\",\"IA\",\"IA\",\"IA\",\"IA\",\"IA\",\"IA\",\"IA\",\"IA\",\"IA\",\"IA\",\"IA\",\"IA\",\"IA\",\"IA\",\"IA\",\"IA\",\"IA\",\"IA\",\"IA\",\"IA\",\"IA\",\"IA\",\"IA\",\"IA\",\"IA\",\"IA\",\"IA\",\"IA\",\"IA\",\"IA\",\"IA\",\"IA\",\"IA\",\"IA\",\"KS\",\"KS\",\"KS\",\"KS\",\"KS\",\"KS\",\"KS\",\"KS\",\"KS\",\"KS\",\"KS\",\"KS\",\"KS\",\"KS\",\"KS\",\"KS\",\"KS\",\"KS\",\"KS\",\"KS\",\"KS\",\"KY\",\"KY\",\"KY\",\"KY\",\"KY\",\"KY\",\"KY\",\"KY\",\"KY\",\"KY\",\"KY\",\"KY\",\"KY\",\"KY\",\"KY\",\"KY\",\"KY\",\"KY\",\"KY\",\"KY\",\"KY\",\"LA\",\"LA\",\"LA\",\"LA\",\"LA\",\"LA\",\"LA\",\"LA\",\"LA\",\"LA\",\"LA\",\"LA\",\"LA\",\"LA\",\"LA\",\"LA\",\"LA\",\"LA\",\"LA\",\"LA\",\"ME\",\"ME\",\"ME\",\"ME\",\"ME\",\"ME\",\"ME\",\"ME\",\"ME\",\"ME\",\"ME\",\"ME\",\"ME\",\"ME\",\"MD\",\"MD\",\"MD\",\"MD\",\"MD\",\"MD\",\"MD\",\"MD\",\"MD\",\"MA\",\"MA\",\"MA\",\"MA\",\"MA\",\"MA\",\"MA\",\"MA\",\"MA\",\"MA\",\"MA\",\"MI\",\"MI\",\"MI\",\"MI\",\"MI\",\"MI\",\"MI\",\"MI\",\"MI\",\"MI\",\"MI\",\"MI\",\"MI\",\"MI\",\"MI\",\"MI\",\"MI\",\"MI\",\"MI\",\"MI\",\"MI\",\"MI\",\"MI\",\"MI\",\"MI\",\"MI\",\"MI\",\"MI\",\"MI\",\"MI\",\"MI\",\"MI\",\"MI\",\"MI\",\"MI\",\"MI\",\"MI\",\"MI\",\"MI\",\"MI\",\"MI\",\"MI\",\"MI\",\"MI\",\"MI\",\"MI\",\"MI\",\"MI\",\"MI\",\"MI\",\"MI\",\"MN\",\"MN\",\"MN\",\"MN\",\"MN\",\"MN\",\"MN\",\"MN\",\"MN\",\"MN\",\"MN\",\"MN\",\"MN\",\"MN\",\"MN\",\"MN\",\"MN\",\"MN\",\"MN\",\"MN\",\"MN\",\"MN\",\"MN\",\"MN\",\"MN\",\"MN\",\"MN\",\"MN\",\"MN\",\"MN\",\"MN\",\"MN\",\"MN\",\"MN\",\"MN\",\"MN\",\"MN\",\"MN\",\"MN\",\"MN\",\"MN\",\"MN\",\"MN\",\"MS\",\"MS\",\"MS\",\"MS\",\"MS\",\"MS\",\"MS\",\"MO\",\"MO\",\"MO\",\"MO\",\"MO\",\"MO\",\"MO\",\"MO\",\"MO\",\"MO\",\"MO\",\"MO\",\"MO\",\"MO\",\"MO\",\"MO\",\"MO\",\"MO\",\"MO\",\"MO\",\"MO\",\"MO\",\"MO\",\"MT\",\"MT\",\"MT\",\"MT\",\"MT\",\"MT\",\"MT\",\"MT\",\"MT\",\"MT\",\"MT\",\"MT\",\"NE\",\"NE\",\"NE\",\"NE\",\"NE\",\"NE\",\"NE\",\"NE\",\"NE\",\"NE\",\"NE\",\"NE\",\"NE\",\"NE\",\"NE\",\"NE\",\"NE\",\"NE\",\"NE\",\"NE\",\"NE\",\"NE\",\"NE\",\"NE\",\"NE\",\"NV\",\"NV\",\"NV\",\"NV\",\"NH\",\"NH\",\"NH\",\"NH\",\"NH\",\"NH\",\"NH\",\"NH\",\"NH\",\"NH\",\"NJ\",\"NJ\",\"NJ\",\"NJ\",\"NJ\",\"NJ\",\"NJ\",\"NJ\",\"NJ\",\"NJ\",\"NM\",\"NM\",\"NM\",\"NM\",\"NM\",\"NM\",\"NY\",\"NY\",\"NY\",\"NY\",\"NY\",\"NY\",\"NY\",\"NY\",\"NY\",\"NY\",\"NY\",\"NY\",\"NY\",\"NY\",\"NY\",\"NY\",\"NC\",\"NC\",\"NC\",\"NC\",\"NC\",\"NC\",\"NC\",\"NC\",\"NC\",\"NC\",\"NC\",\"NC\",\"NC\",\"NC\",\"NC\",\"NC\",\"NC\",\"NC\",\"NC\",\"NC\",\"NC\",\"NC\",\"NC\",\"NC\",\"NC\",\"NC\",\"ND\",\"ND\",\"ND\",\"ND\",\"ND\",\"ND\",\"ND\",\"ND\",\"OH\",\"OH\",\"OH\",\"OH\",\"OH\",\"OH\",\"OH\",\"OH\",\"OH\",\"OH\",\"OH\",\"OH\",\"OH\",\"OH\",\"OH\",\"OH\",\"OH\",\"OH\",\"OH\",\"OH\",\"OH\",\"OH\",\"OH\",\"OH\",\"OH\",\"OH\",\"OH\",\"OH\",\"OH\",\"OH\",\"OH\",\"OH\",\"OH\",\"OH\",\"OH\",\"OH\",\"OH\",\"OH\",\"OH\",\"OH\",\"OH\",\"OH\",\"OH\",\"OH\",\"OH\",\"OH\",\"OH\",\"OH\",\"OH\",\"OH\",\"OH\",\"OH\",\"OK\",\"OK\",\"OK\",\"OK\",\"OK\",\"OK\",\"OK\",\"OK\",\"OK\",\"OK\",\"OK\",\"OK\",\"OK\",\"OK\",\"OK\",\"OK\",\"OK\",\"OK\",\"OK\",\"OK\",\"OK\",\"OK\",\"OK\",\"OK\",\"OR\",\"OR\",\"OR\",\"OR\",\"OR\",\"OR\",\"OR\",\"OR\",\"OR\",\"OR\",\"OR\",\"OR\",\"OR\",\"OR\",\"OR\",\"OR\",\"OR\",\"OR\",\"OR\",\"OR\",\"OR\",\"OR\",\"PA\",\"PA\",\"PA\",\"PA\",\"PA\",\"PA\",\"PA\",\"PA\",\"PA\",\"PA\",\"PA\",\"PA\",\"PA\",\"PA\",\"PA\",\"PA\",\"PA\",\"PA\",\"PA\",\"PA\",\"PA\",\"PA\",\"PA\",\"PA\",\"PA\",\"PA\",\"PA\",\"PA\",\"PA\",\"PA\",\"PA\",\"PA\",\"PA\",\"PA\",\"PA\",\"PA\",\"RI\",\"RI\",\"SC\",\"SC\",\"SC\",\"SC\",\"SC\",\"SC\",\"SC\",\"SC\",\"SC\",\"SC\",\"SC\",\"SC\",\"SC\",\"SC\",\"SC\",\"SD\",\"SD\",\"SD\",\"SD\",\"SD\",\"SD\",\"SD\",\"TN\",\"TN\",\"TN\",\"TN\",\"TN\",\"TN\",\"TN\",\"TN\",\"TN\",\"TN\",\"TN\",\"TN\",\"TN\",\"TN\",\"TN\",\"TN\",\"TN\",\"TN\",\"TN\",\"TN\",\"TN\",\"TX\",\"TX\",\"TX\",\"TX\",\"TX\",\"TX\",\"TX\",\"TX\",\"TX\",\"TX\",\"TX\",\"TX\",\"TX\",\"TX\",\"TX\",\"TX\",\"TX\",\"TX\",\"TX\",\"TX\",\"TX\",\"TX\",\"TX\",\"TX\",\"TX\",\"TX\",\"TX\",\"TX\",\"TX\",\"TX\",\"TX\",\"TX\",\"TX\",\"TX\",\"TX\",\"TX\",\"TX\",\"TX\",\"TX\",\"TX\",\"TX\",\"TX\",\"TX\",\"TX\",\"TX\",\"TX\",\"TX\",\"TX\",\"TX\",\"TX\",\"TX\",\"TX\",\"TX\",\"TX\",\"TX\",\"TX\",\"TX\",\"TX\",\"TX\",\"TX\",\"TX\",\"TX\",\"TX\",\"TX\",\"TX\",\"TX\",\"TX\",\"TX\",\"TX\",\"TX\",\"TX\",\"TX\",\"TX\",\"UT\",\"UT\",\"UT\",\"UT\",\"UT\",\"UT\",\"UT\",\"UT\",\"UT\",\"UT\",\"UT\",\"UT\",\"UT\",\"UT\",\"UT\",\"UT\",\"UT\",\"UT\",\"UT\",\"UT\",\"UT\",\"VT\",\"VT\",\"VT\",\"VT\",\"VT\",\"VA\",\"VA\",\"VA\",\"VA\",\"VA\",\"VA\",\"VA\",\"VA\",\"VA\",\"VA\",\"VA\",\"VA\",\"VA\",\"VA\",\"VA\",\"VA\",\"VA\",\"VA\",\"VA\",\"VA\",\"VA\",\"VA\",\"VA\",\"VA\",\"WA\",\"WA\",\"WA\",\"WA\",\"WA\",\"WA\",\"WA\",\"WA\",\"WA\",\"WA\",\"WA\",\"WA\",\"WA\",\"WA\",\"WA\",\"WA\",\"WA\",\"WA\",\"WA\",\"WV\",\"WV\",\"WV\",\"WV\",\"WV\",\"WV\",\"WV\",\"WV\",\"WI\",\"WI\",\"WI\",\"WI\",\"WI\",\"WI\",\"WI\",\"WI\",\"WI\",\"WI\",\"WI\",\"WI\",\"WI\",\"WI\",\"WI\",\"WI\",\"WI\",\"WI\",\"WI\",\"WI\",\"WI\",\"WI\",\"WI\",\"WI\",\"WI\",\"WI\",\"WI\",\"WI\",\"WI\",\"WI\",\"WI\",\"WI\",\"WI\",\"WI\",\"WI\",\"WI\",\"WI\",\"WI\",\"WI\",\"WI\",\"WI\",\"WI\",\"WI\",\"WI\",\"WI\",\"WI\",\"WI\",\"WI\",\"WI\",\"WI\",\"WI\",\"WI\",\"WI\",\"WI\",\"WI\",\"WI\",\"WI\",\"WI\",\"WI\",\"WY\",\"WY\",\"WY\",\"WY\",\"WY\",\"WY\",\"TX\",\"TX\",\"TX\",\"TX\",\"TX\",\"TX\",\"TX\",\"TX\",\"TX\",\"TX\",\"TX\",\"AL\",\"AL\",\"AL\",\"AL\",\"AL\",\"AK\",\"AK\",\"AZ\",\"AZ\",\"AZ\",\"AZ\",\"AR\",\"AR\",\"CA\",\"CA\",\"CA\",\"CA\",\"CA\",\"CA\",\"CA\",\"CA\",\"CA\",\"CA\",\"CA\",\"CA\",\"CA\",\"CA\",\"CA\",\"CA\",\"CA\",\"CA\",\"CA\",\"CA\",\"CA\",\"CO\",\"CO\",\"CO\",\"CO\",\"CO\",\"CO\",\"FL\",\"FL\",\"FL\",\"FL\",\"FL\",\"FL\",\"FL\",\"FL\",\"FL\",\"GA\",\"GA\",\"GA\",\"GA\",\"GA\",\"HI\",\"HI\",\"HI\",\"ID\",\"ID\",\"ID\",\"ID\",\"ID\",\"IL\",\"IL\",\"IL\",\"IL\",\"IL\",\"IL\",\"IL\",\"IL\",\"IL\",\"IL\",\"IL\",\"IL\",\"IN\",\"IN\",\"IN\",\"IN\",\"IN\",\"IN\",\"IN\",\"IN\",\"IN\",\"IN\",\"IN\",\"IN\",\"IN\",\"IA\",\"IA\",\"IA\",\"IA\",\"IA\",\"IA\",\"IA\",\"KS\",\"KS\",\"KS\",\"KS\",\"KS\",\"KS\",\"KS\",\"KS\",\"KY\",\"LA\",\"LA\",\"LA\",\"ME\",\"ME\",\"ME\",\"MD\",\"MD\",\"MD\",\"MD\",\"MD\",\"MA\",\"MA\",\"MA\",\"MA\",\"MA\",\"MA\",\"MA\",\"MI\",\"MI\",\"MI\",\"MI\",\"MI\",\"MI\",\"MI\",\"MI\",\"MI\",\"MI\",\"MI\",\"MN\",\"MN\",\"MN\",\"MN\",\"MN\",\"MN\",\"MN\",\"MN\",\"MS\",\"MO\",\"MO\",\"MO\",\"MO\",\"MO\",\"MO\",\"MT\",\"MT\",\"MT\",\"NE\",\"NE\",\"NH\",\"NH\",\"NH\",\"NJ\",\"NJ\",\"NJ\",\"NJ\",\"NJ\",\"NJ\",\"NY\",\"NC\",\"NC\",\"NC\",\"NC\",\"NC\",\"NC\",\"NC\",\"OH\",\"OH\",\"OH\",\"OH\",\"OH\",\"OH\",\"OH\",\"OH\",\"OH\",\"OH\",\"OH\",\"OH\",\"OH\",\"OH\",\"OH\",\"OH\",\"OH\",\"OH\",\"OH\",\"OH\",\"OK\",\"OK\",\"OK\",\"OK\",\"OK\",\"OK\",\"OK\",\"OK\",\"OK\",\"OR\",\"OR\",\"OR\",\"PA\",\"PA\",\"PA\",\"PA\",\"PA\",\"PA\",\"PA\",\"PA\",\"PA\",\"PA\",\"PA\",\"RI\",\"RI\",\"SC\",\"SC\",\"SC\",\"SC\",\"SC\",\"SD\",\"SD\",\"SD\",\"SD\",\"SD\",\"TN\",\"TX\",\"TX\",\"TX\",\"TX\",\"TX\",\"TX\",\"TX\",\"TX\",\"TX\",\"TX\",\"TX\",\"TX\",\"TX\",\"TX\",\"TX\",\"TX\",\"UT\",\"UT\",\"UT\",\"UT\",\"VA\",\"VA\",\"VA\",\"VA\",\"VA\",\"VA\",\"VA\",\"VA\",\"VA\",\"WA\",\"WA\",\"WA\",\"WA\",\"WA\",\"WA\",\"WV\",\"WI\",\"WI\",\"WI\",\"WI\",\"WI\",\"WI\",\"WI\",\"WI\",\"WI\",\"WI\",\"WI\",\"WI\",\"WI\",\"WI\",\"WI\",\"WI\",\"WI\",\"WI\",\"WI\",\"WI\",\"WI\",\"WI\",\"WY\",\"TX\",\"TX\",\"TX\",\"TX\",\"TX\",\"TX\",\"TX\",\"TX\"],\"z\":[16264.227848101265,16264.227848101265,16264.227848101265,16264.227848101265,16264.227848101265,17446.0,17446.0,16838.5,16838.5,16838.5,16838.5,16838.5,16838.5,16838.5,16838.5,16642.006756756757,16642.006756756757,16642.006756756757,16642.006756756757,16642.006756756757,16642.006756756757,16642.006756756757,16642.006756756757,16642.006756756757,16642.006756756757,16642.006756756757,16642.006756756757,16642.006756756757,16642.006756756757,16642.006756756757,16642.006756756757,16642.006756756757,16642.006756756757,16642.006756756757,16642.006756756757,16642.006756756757,16642.006756756757,16642.006756756757,16642.006756756757,18143.5,18143.5,18143.5,18143.5,18143.5,18143.5,18610.0,18610.0,18610.0,18610.0,18610.0,17994.207100591717,17994.207100591717,17994.207100591717,17994.207100591717,17994.207100591717,17994.207100591717,17994.207100591717,17994.207100591717,17994.207100591717,17994.207100591717,17994.207100591717,17994.207100591717,17994.207100591717,17994.207100591717,17994.207100591717,17994.207100591717,17994.207100591717,17994.207100591717,17994.207100591717,17994.207100591717,17994.207100591717,17994.207100591717,17994.207100591717,17994.207100591717,17994.207100591717,17994.207100591717,17994.207100591717,17994.207100591717,17994.207100591717,17994.207100591717,17994.207100591717,17994.207100591717,16506.212962962964,16506.212962962964,16506.212962962964,16506.212962962964,16506.212962962964,16506.212962962964,16506.212962962964,16506.212962962964,16506.212962962964,16506.212962962964,16506.212962962964,16506.212962962964,17372.552147239265,17372.552147239265,17372.552147239265,17372.552147239265,17372.552147239265,17372.552147239265,17372.552147239265,17372.552147239265,17372.552147239265,17372.552147239265,17372.552147239265,17372.552147239265,17372.552147239265,17372.552147239265,17372.552147239265,17372.552147239265,16856.095238095237,16465.628571428573,16735.170731707316,16735.170731707316,16735.170731707316,16735.170731707316,16735.170731707316,16735.170731707316,16286.41975308642,16286.41975308642,16988.666666666668,16988.666666666668,16988.666666666668,16988.666666666668,16988.666666666668,16988.666666666668,17144.053571428572,17144.053571428572,17144.053571428572,17144.053571428572,16827.629310344826,16827.629310344826,16827.629310344826,16827.629310344826,16454.13157894737,17355.26153846154,17355.26153846154,17355.26153846154,17355.26153846154,17355.26153846154,17355.26153846154,17247.011235955055,17247.011235955055,17247.011235955055,17247.011235955055,17247.011235955055,17247.011235955055,17247.011235955055,17309.929824561405,18729.51851851852,18729.51851851852,18729.51851851852,18729.51851851852,18729.51851851852,18729.51851851852,18729.51851851852,18729.51851851852,18729.51851851852,18729.51851851852,19029.734375,19029.734375,19029.734375,19029.734375,19029.734375,19029.734375,19029.734375,19029.734375,16407.266666666666,16407.266666666666,16407.266666666666,16979.1,16979.1,16979.1,16979.1,16979.1,16979.1,16979.1,16979.1,16979.1,16979.1,16979.1,16979.1,16979.1,16979.1,16979.1,16979.1,16979.1,16979.1,16979.1,16979.1,16979.1,16979.1,16979.1,16979.1,16979.1,16979.1,16979.1,16979.1,16979.1,16979.1,16979.1,16979.1,16979.1,16979.1,16979.1,16979.1,16979.1,16979.1,16979.1,16979.1,16979.1,16979.1,16979.1,16979.1,16979.1,16979.1,16979.1,16979.1,16737.797872340427,16737.797872340427,16737.797872340427,16737.797872340427,16737.797872340427,16737.797872340427,16737.797872340427,16343.5,16343.5,17059.253424657534,17059.253424657534,15705.24705882353,15705.24705882353,15705.24705882353,15705.24705882353,15705.24705882353,17613.713333333333,17613.713333333333,17613.713333333333,17613.713333333333,17613.713333333333,17613.713333333333,17613.713333333333,17613.713333333333,17613.713333333333,17613.713333333333,17613.713333333333,17613.713333333333,17613.713333333333,16044.833333333334,16044.833333333334,16044.833333333334,16929.654545454545,16929.654545454545,16929.654545454545,16775.604395604394,16775.604395604394,16775.604395604394,16775.604395604394,16775.604395604394,16775.604395604394,16775.604395604394,16775.604395604394,16775.604395604394,16775.604395604394,16995.533834586466,16995.533834586466,16995.533834586466,16995.533834586466,16995.533834586466,16995.533834586466,16995.533834586466,16995.533834586466,16995.533834586466,16995.533834586466,16736.077922077922,16736.077922077922,16736.077922077922,16733.867647058825,16733.867647058825,16683.128205128207,16683.128205128207,16331.175925925925,16264.227848101265,16264.227848101265,16264.227848101265,16264.227848101265,16264.227848101265,16264.227848101265,16264.227848101265,16264.227848101265,16264.227848101265,16264.227848101265,16264.227848101265,16264.227848101265,16264.227848101265,16264.227848101265,16264.227848101265,16264.227848101265,16264.227848101265,16264.227848101265,16264.227848101265,16264.227848101265,16264.227848101265,16264.227848101265,16264.227848101265,14440.0,17446.0,17446.0,17446.0,17446.0,17446.0,17446.0,17446.0,17446.0,17446.0,17446.0,17446.0,17446.0,17446.0,17446.0,17446.0,17446.0,16838.5,16838.5,16838.5,16838.5,16838.5,16838.5,16838.5,16838.5,16838.5,16838.5,16838.5,16838.5,16838.5,16838.5,16838.5,16838.5,16838.5,16838.5,16838.5,16838.5,16642.006756756757,16642.006756756757,16642.006756756757,16642.006756756757,16642.006756756757,16642.006756756757,16642.006756756757,16642.006756756757,16642.006756756757,16642.006756756757,16642.006756756757,16642.006756756757,16642.006756756757,16642.006756756757,16642.006756756757,16642.006756756757,16642.006756756757,16642.006756756757,16642.006756756757,16642.006756756757,16642.006756756757,16642.006756756757,16642.006756756757,16642.006756756757,16642.006756756757,16642.006756756757,16642.006756756757,16642.006756756757,16642.006756756757,16642.006756756757,16642.006756756757,16642.006756756757,16642.006756756757,16642.006756756757,16642.006756756757,16642.006756756757,16642.006756756757,16642.006756756757,16642.006756756757,16642.006756756757,16642.006756756757,16642.006756756757,16642.006756756757,16642.006756756757,16642.006756756757,16642.006756756757,16642.006756756757,16642.006756756757,16642.006756756757,16642.006756756757,16642.006756756757,16642.006756756757,16642.006756756757,16642.006756756757,16642.006756756757,16642.006756756757,16642.006756756757,16642.006756756757,16642.006756756757,16642.006756756757,16642.006756756757,16642.006756756757,16642.006756756757,16642.006756756757,16642.006756756757,16642.006756756757,16642.006756756757,16642.006756756757,16642.006756756757,16642.006756756757,16642.006756756757,16642.006756756757,16642.006756756757,16642.006756756757,16642.006756756757,16642.006756756757,16642.006756756757,16642.006756756757,16642.006756756757,16642.006756756757,16642.006756756757,16642.006756756757,16642.006756756757,16642.006756756757,16642.006756756757,16642.006756756757,16642.006756756757,16642.006756756757,16642.006756756757,16642.006756756757,16642.006756756757,16642.006756756757,16642.006756756757,16642.006756756757,16642.006756756757,16642.006756756757,16449.78947368421,16449.78947368421,16449.78947368421,18143.5,18143.5,18143.5,18143.5,18236.166666666668,18236.166666666668,18610.0,17994.207100591717,17994.207100591717,17994.207100591717,17994.207100591717,17994.207100591717,17994.207100591717,17994.207100591717,17994.207100591717,17994.207100591717,17994.207100591717,17994.207100591717,17994.207100591717,17994.207100591717,17994.207100591717,17994.207100591717,17994.207100591717,17994.207100591717,17994.207100591717,17994.207100591717,17994.207100591717,17994.207100591717,17994.207100591717,17994.207100591717,17994.207100591717,17994.207100591717,17994.207100591717,17994.207100591717,17994.207100591717,17994.207100591717,17994.207100591717,17994.207100591717,17994.207100591717,17994.207100591717,17994.207100591717,17994.207100591717,17994.207100591717,17994.207100591717,17994.207100591717,17994.207100591717,17994.207100591717,17994.207100591717,17994.207100591717,17994.207100591717,17994.207100591717,17994.207100591717,17994.207100591717,17994.207100591717,17994.207100591717,17994.207100591717,17994.207100591717,17994.207100591717,17994.207100591717,17994.207100591717,17994.207100591717,17994.207100591717,17994.207100591717,17994.207100591717,17994.207100591717,17994.207100591717,17994.207100591717,16506.212962962964,16506.212962962964,16506.212962962964,16506.212962962964,16506.212962962964,16506.212962962964,16506.212962962964,16506.212962962964,16506.212962962964,16506.212962962964,16506.212962962964,16506.212962962964,16506.212962962964,16506.212962962964,16506.212962962964,16506.212962962964,16506.212962962964,16506.212962962964,16506.212962962964,16506.212962962964,16506.212962962964,16506.212962962964,16506.212962962964,16682.23076923077,15244.36,15244.36,15244.36,17372.552147239265,17372.552147239265,17372.552147239265,17372.552147239265,17372.552147239265,17372.552147239265,17372.552147239265,17372.552147239265,17372.552147239265,17372.552147239265,17372.552147239265,17372.552147239265,17372.552147239265,17372.552147239265,17372.552147239265,17372.552147239265,17372.552147239265,17372.552147239265,17372.552147239265,17372.552147239265,17372.552147239265,17372.552147239265,17372.552147239265,17372.552147239265,17372.552147239265,17372.552147239265,17372.552147239265,17372.552147239265,17372.552147239265,17372.552147239265,17372.552147239265,16718.081818181818,16718.081818181818,16718.081818181818,16718.081818181818,16718.081818181818,16718.081818181818,16718.081818181818,16718.081818181818,16718.081818181818,16718.081818181818,16856.095238095237,16856.095238095237,16856.095238095237,16856.095238095237,16856.095238095237,16856.095238095237,16856.095238095237,16856.095238095237,16856.095238095237,16856.095238095237,16856.095238095237,16465.628571428573,16465.628571428573,16465.628571428573,16465.628571428573,16465.628571428573,16465.628571428573,16465.628571428573,16465.628571428573,16465.628571428573,16465.628571428573,16735.170731707316,16735.170731707316,16735.170731707316,16735.170731707316,16735.170731707316,16735.170731707316,16735.170731707316,16735.170731707316,16735.170731707316,16735.170731707316,16735.170731707316,16735.170731707316,16735.170731707316,16735.170731707316,16735.170731707316,16735.170731707316,16735.170731707316,16735.170731707316,16735.170731707316,16735.170731707316,16735.170731707316,16735.170731707316,16286.41975308642,16286.41975308642,16286.41975308642,16286.41975308642,16286.41975308642,16286.41975308642,16286.41975308642,16286.41975308642,16286.41975308642,16286.41975308642,16286.41975308642,16286.41975308642,16286.41975308642,16286.41975308642,16286.41975308642,16286.41975308642,16286.41975308642,16286.41975308642,16286.41975308642,16286.41975308642,16286.41975308642,16570.03125,16570.03125,16570.03125,16570.03125,16570.03125,16988.666666666668,16988.666666666668,16988.666666666668,16988.666666666668,16988.666666666668,16988.666666666668,17144.053571428572,17144.053571428572,17144.053571428572,17144.053571428572,17144.053571428572,17144.053571428572,17144.053571428572,17144.053571428572,17144.053571428572,17144.053571428572,17144.053571428572,17144.053571428572,17144.053571428572,17144.053571428572,17144.053571428572,16827.629310344826,16827.629310344826,16827.629310344826,16827.629310344826,16827.629310344826,16827.629310344826,16827.629310344826,16827.629310344826,16827.629310344826,16827.629310344826,16827.629310344826,16827.629310344826,16827.629310344826,16454.13157894737,16454.13157894737,16454.13157894737,16454.13157894737,16454.13157894737,17355.26153846154,17355.26153846154,17355.26153846154,17355.26153846154,17355.26153846154,17355.26153846154,17355.26153846154,17355.26153846154,17355.26153846154,17355.26153846154,17355.26153846154,17355.26153846154,17355.26153846154,17355.26153846154,17355.26153846154,17355.26153846154,17355.26153846154,17355.26153846154,17355.26153846154,17355.26153846154,17355.26153846154,17355.26153846154,17355.26153846154,17355.26153846154,17355.26153846154,17247.011235955055,17247.011235955055,17247.011235955055,17247.011235955055,17247.011235955055,17247.011235955055,17247.011235955055,17247.011235955055,17247.011235955055,17247.011235955055,17247.011235955055,17247.011235955055,17247.011235955055,17247.011235955055,17247.011235955055,17247.011235955055,17247.011235955055,15255.48,15255.48,17309.929824561405,17309.929824561405,17309.929824561405,18729.51851851852,18729.51851851852,18729.51851851852,18729.51851851852,18729.51851851852,18729.51851851852,17110.73076923077,17110.73076923077,17110.73076923077,17110.73076923077,19029.734375,19029.734375,19029.734375,19029.734375,19029.734375,19029.734375,19029.734375,19029.734375,19029.734375,19029.734375,19029.734375,19029.734375,19029.734375,19029.734375,19029.734375,19029.734375,19029.734375,19029.734375,19029.734375,19029.734375,19029.734375,19029.734375,19029.734375,19029.734375,19029.734375,19029.734375,16407.266666666666,16407.266666666666,16407.266666666666,16407.266666666666,16407.266666666666,16407.266666666666,16407.266666666666,16407.266666666666,16979.1,16979.1,16979.1,16979.1,16979.1,16979.1,16979.1,16979.1,16979.1,16979.1,16979.1,16979.1,16979.1,16979.1,16979.1,16979.1,16979.1,16979.1,16979.1,16979.1,16979.1,16979.1,16979.1,16979.1,16979.1,16979.1,16979.1,16979.1,16979.1,16979.1,16979.1,16979.1,16979.1,16979.1,16979.1,16979.1,16979.1,16979.1,16979.1,16979.1,16979.1,16979.1,16979.1,16979.1,16979.1,16737.797872340427,16737.797872340427,16737.797872340427,16737.797872340427,16737.797872340427,16737.797872340427,16737.797872340427,16737.797872340427,16737.797872340427,16737.797872340427,16737.797872340427,16737.797872340427,16737.797872340427,16737.797872340427,16737.797872340427,16737.797872340427,16737.797872340427,16737.797872340427,16343.5,16343.5,17059.253424657534,17059.253424657534,17059.253424657534,17059.253424657534,17059.253424657534,17059.253424657534,17059.253424657534,17059.253424657534,17059.253424657534,17059.253424657534,17059.253424657534,17059.253424657534,17059.253424657534,17059.253424657534,17059.253424657534,17059.253424657534,17059.253424657534,17059.253424657534,17059.253424657534,17059.253424657534,17059.253424657534,17059.253424657534,15705.24705882353,15705.24705882353,15705.24705882353,15705.24705882353,15705.24705882353,15705.24705882353,15705.24705882353,15705.24705882353,15705.24705882353,15705.24705882353,15705.24705882353,15705.24705882353,15705.24705882353,15705.24705882353,15705.24705882353,15705.24705882353,15705.24705882353,15705.24705882353,15705.24705882353,15162.461538461539,15162.461538461539,15162.461538461539,15162.461538461539,17613.713333333333,17613.713333333333,17613.713333333333,17613.713333333333,17613.713333333333,17613.713333333333,17613.713333333333,17613.713333333333,17613.713333333333,17613.713333333333,17613.713333333333,17613.713333333333,17613.713333333333,17613.713333333333,17613.713333333333,17613.713333333333,17613.713333333333,17613.713333333333,17613.713333333333,17613.713333333333,17613.713333333333,17613.713333333333,17613.713333333333,17613.713333333333,17613.713333333333,17613.713333333333,17613.713333333333,17613.713333333333,17613.713333333333,17613.713333333333,17613.713333333333,17613.713333333333,17613.713333333333,17613.713333333333,17613.713333333333,17613.713333333333,17613.713333333333,16044.833333333334,16044.833333333334,16044.833333333334,15490.2,15490.2,15490.2,16929.654545454545,16929.654545454545,16929.654545454545,16929.654545454545,16929.654545454545,16929.654545454545,16929.654545454545,16929.654545454545,16929.654545454545,16929.654545454545,16929.654545454545,16929.654545454545,16929.654545454545,16929.654545454545,16929.654545454545,13864.157894736842,16775.604395604394,16775.604395604394,16775.604395604394,16775.604395604394,16775.604395604394,16775.604395604394,16775.604395604394,16775.604395604394,16775.604395604394,16775.604395604394,16775.604395604394,16775.604395604394,16775.604395604394,16775.604395604394,16775.604395604394,16775.604395604394,16775.604395604394,16775.604395604394,16775.604395604394,16775.604395604394,16775.604395604394,16775.604395604394,16775.604395604394,16775.604395604394,16775.604395604394,16775.604395604394,16775.604395604394,16995.533834586466,16995.533834586466,16995.533834586466,16995.533834586466,16995.533834586466,16995.533834586466,16995.533834586466,16995.533834586466,16995.533834586466,16995.533834586466,16995.533834586466,16995.533834586466,16995.533834586466,16995.533834586466,16995.533834586466,16995.533834586466,16995.533834586466,16995.533834586466,16995.533834586466,16995.533834586466,16995.533834586466,16995.533834586466,16995.533834586466,16995.533834586466,16995.533834586466,16995.533834586466,16995.533834586466,16995.533834586466,16995.533834586466,16995.533834586466,16995.533834586466,16995.533834586466,16995.533834586466,16995.533834586466,16995.533834586466,16995.533834586466,16995.533834586466,16995.533834586466,16995.533834586466,16995.533834586466,16995.533834586466,16995.533834586466,16995.533834586466,16995.533834586466,16995.533834586466,16995.533834586466,16995.533834586466,16995.533834586466,16995.533834586466,16995.533834586466,16995.533834586466,16216.970588235294,16216.970588235294,15519.083333333334,13115.0,16736.077922077922,16736.077922077922,16736.077922077922,16736.077922077922,16736.077922077922,16736.077922077922,16736.077922077922,16736.077922077922,16736.077922077922,16736.077922077922,16736.077922077922,16736.077922077922,16736.077922077922,16736.077922077922,16736.077922077922,16736.077922077922,16736.077922077922,16733.867647058825,16733.867647058825,16733.867647058825,16733.867647058825,16733.867647058825,16733.867647058825,16733.867647058825,16733.867647058825,16733.867647058825,16733.867647058825,16733.867647058825,16733.867647058825,16733.867647058825,16733.867647058825,16733.867647058825,16733.867647058825,16733.867647058825,16683.128205128207,16683.128205128207,16683.128205128207,16683.128205128207,16683.128205128207,16683.128205128207,16683.128205128207,16683.128205128207,16683.128205128207,16683.128205128207,16331.175925925925,16331.175925925925,16331.175925925925,16331.175925925925,16331.175925925925,15311.555555555555,15311.555555555555,16995.533834586466,16995.533834586466,16264.227848101265,16264.227848101265,16264.227848101265,16264.227848101265,16264.227848101265,16264.227848101265,16264.227848101265,16264.227848101265,16264.227848101265,16264.227848101265,16264.227848101265,16264.227848101265,16264.227848101265,16264.227848101265,16264.227848101265,16264.227848101265,16264.227848101265,16264.227848101265,16264.227848101265,16264.227848101265,16264.227848101265,16264.227848101265,16264.227848101265,16264.227848101265,16264.227848101265,16264.227848101265,16264.227848101265,16264.227848101265,16264.227848101265,16264.227848101265,16264.227848101265,14440.0,14440.0,14440.0,17446.0,17446.0,17446.0,17446.0,17446.0,17446.0,17446.0,17446.0,17446.0,17446.0,17446.0,17446.0,17446.0,17446.0,17446.0,17446.0,17446.0,17446.0,17446.0,16838.5,16838.5,16838.5,16838.5,16838.5,16838.5,16838.5,16838.5,16838.5,16838.5,16838.5,16838.5,16838.5,16838.5,16838.5,16838.5,16838.5,16838.5,16838.5,16838.5,16838.5,16838.5,16838.5,16642.006756756757,16642.006756756757,16642.006756756757,16642.006756756757,16642.006756756757,16642.006756756757,16642.006756756757,16642.006756756757,16642.006756756757,16642.006756756757,16642.006756756757,16642.006756756757,16642.006756756757,16642.006756756757,16642.006756756757,16642.006756756757,16642.006756756757,16642.006756756757,16642.006756756757,16642.006756756757,16642.006756756757,16642.006756756757,16642.006756756757,16642.006756756757,16642.006756756757,16642.006756756757,16642.006756756757,16642.006756756757,16642.006756756757,16642.006756756757,16642.006756756757,16642.006756756757,16642.006756756757,16642.006756756757,16642.006756756757,16642.006756756757,16642.006756756757,16642.006756756757,16642.006756756757,16642.006756756757,16642.006756756757,16642.006756756757,16642.006756756757,16642.006756756757,16642.006756756757,16642.006756756757,16642.006756756757,16642.006756756757,16642.006756756757,16642.006756756757,16642.006756756757,16642.006756756757,16642.006756756757,16642.006756756757,16642.006756756757,16642.006756756757,16642.006756756757,16642.006756756757,16642.006756756757,16642.006756756757,16642.006756756757,16642.006756756757,16642.006756756757,16642.006756756757,16642.006756756757,16642.006756756757,16642.006756756757,16642.006756756757,16642.006756756757,16642.006756756757,16642.006756756757,16642.006756756757,16642.006756756757,16642.006756756757,16642.006756756757,16642.006756756757,16642.006756756757,16642.006756756757,16642.006756756757,16642.006756756757,16642.006756756757,16642.006756756757,16642.006756756757,16642.006756756757,16642.006756756757,16642.006756756757,16642.006756756757,16642.006756756757,16642.006756756757,16642.006756756757,16642.006756756757,16642.006756756757,16642.006756756757,16449.78947368421,16449.78947368421,16449.78947368421,16449.78947368421,16449.78947368421,16449.78947368421,16449.78947368421,16449.78947368421,16449.78947368421,16449.78947368421,16449.78947368421,16449.78947368421,16449.78947368421,16449.78947368421,16449.78947368421,16449.78947368421,16449.78947368421,16449.78947368421,16449.78947368421,16449.78947368421,16449.78947368421,16449.78947368421,16449.78947368421,18143.5,18143.5,18143.5,18143.5,18143.5,18143.5,18143.5,18143.5,18143.5,18236.166666666668,18236.166666666668,18236.166666666668,18610.0,17994.207100591717,17994.207100591717,17994.207100591717,17994.207100591717,17994.207100591717,17994.207100591717,17994.207100591717,17994.207100591717,17994.207100591717,17994.207100591717,17994.207100591717,17994.207100591717,17994.207100591717,17994.207100591717,17994.207100591717,17994.207100591717,17994.207100591717,17994.207100591717,17994.207100591717,17994.207100591717,17994.207100591717,17994.207100591717,17994.207100591717,17994.207100591717,17994.207100591717,17994.207100591717,17994.207100591717,17994.207100591717,17994.207100591717,17994.207100591717,17994.207100591717,17994.207100591717,17994.207100591717,17994.207100591717,17994.207100591717,17994.207100591717,17994.207100591717,17994.207100591717,17994.207100591717,17994.207100591717,16506.212962962964,16506.212962962964,16506.212962962964,16506.212962962964,16506.212962962964,16506.212962962964,16506.212962962964,16506.212962962964,16506.212962962964,16506.212962962964,16506.212962962964,16506.212962962964,16506.212962962964,16506.212962962964,16506.212962962964,16506.212962962964,16506.212962962964,16506.212962962964,16506.212962962964,16506.212962962964,16506.212962962964,16506.212962962964,16506.212962962964,16506.212962962964,16506.212962962964,16506.212962962964,16506.212962962964,16506.212962962964,16506.212962962964,16506.212962962964,16506.212962962964,16506.212962962964,16506.212962962964,16506.212962962964,16506.212962962964,16506.212962962964,16506.212962962964,16506.212962962964,16506.212962962964,16506.212962962964,16506.212962962964,16506.212962962964,16682.23076923077,16682.23076923077,16682.23076923077,16682.23076923077,15244.36,15244.36,15244.36,15244.36,15244.36,15244.36,17372.552147239265,17372.552147239265,17372.552147239265,17372.552147239265,17372.552147239265,17372.552147239265,17372.552147239265,17372.552147239265,17372.552147239265,17372.552147239265,17372.552147239265,17372.552147239265,17372.552147239265,17372.552147239265,17372.552147239265,17372.552147239265,17372.552147239265,17372.552147239265,17372.552147239265,17372.552147239265,17372.552147239265,17372.552147239265,17372.552147239265,17372.552147239265,17372.552147239265,17372.552147239265,17372.552147239265,17372.552147239265,17372.552147239265,17372.552147239265,17372.552147239265,17372.552147239265,17372.552147239265,17372.552147239265,17372.552147239265,17372.552147239265,17372.552147239265,17372.552147239265,17372.552147239265,17372.552147239265,17372.552147239265,17372.552147239265,17372.552147239265,17372.552147239265,17372.552147239265,17372.552147239265,17372.552147239265,17372.552147239265,17372.552147239265,17372.552147239265,17372.552147239265,17372.552147239265,17372.552147239265,17372.552147239265,17372.552147239265,16718.081818181818,16718.081818181818,16718.081818181818,16718.081818181818,16718.081818181818,16718.081818181818,16718.081818181818,16718.081818181818,16718.081818181818,16718.081818181818,16718.081818181818,16718.081818181818,16718.081818181818,16718.081818181818,16718.081818181818,16718.081818181818,16718.081818181818,16718.081818181818,16718.081818181818,16718.081818181818,16718.081818181818,16718.081818181818,16718.081818181818,16718.081818181818,16718.081818181818,16718.081818181818,16718.081818181818,16718.081818181818,16718.081818181818,16718.081818181818,16718.081818181818,16718.081818181818,16718.081818181818,16718.081818181818,16718.081818181818,16718.081818181818,16856.095238095237,16856.095238095237,16856.095238095237,16856.095238095237,16856.095238095237,16856.095238095237,16856.095238095237,16856.095238095237,16856.095238095237,16856.095238095237,16856.095238095237,16856.095238095237,16856.095238095237,16856.095238095237,16856.095238095237,16856.095238095237,16856.095238095237,16856.095238095237,16856.095238095237,16856.095238095237,16856.095238095237,16856.095238095237,16856.095238095237,16856.095238095237,16856.095238095237,16856.095238095237,16856.095238095237,16856.095238095237,16856.095238095237,16465.628571428573,16465.628571428573,16465.628571428573,16465.628571428573,16465.628571428573,16465.628571428573,16465.628571428573,16465.628571428573,16465.628571428573,16465.628571428573,16465.628571428573,16465.628571428573,16465.628571428573,16465.628571428573,16465.628571428573,16465.628571428573,16465.628571428573,16465.628571428573,16465.628571428573,16465.628571428573,16465.628571428573,16465.628571428573,16465.628571428573,16465.628571428573,16465.628571428573,16465.628571428573,16465.628571428573,16465.628571428573,16465.628571428573,16465.628571428573,16735.170731707316,16735.170731707316,16735.170731707316,16735.170731707316,16735.170731707316,16735.170731707316,16735.170731707316,16735.170731707316,16735.170731707316,16735.170731707316,16735.170731707316,16735.170731707316,16735.170731707316,16735.170731707316,16735.170731707316,16735.170731707316,16735.170731707316,16735.170731707316,16735.170731707316,16735.170731707316,16735.170731707316,16735.170731707316,16735.170731707316,16735.170731707316,16735.170731707316,16735.170731707316,16735.170731707316,16735.170731707316,16735.170731707316,16735.170731707316,16735.170731707316,16735.170731707316,16286.41975308642,16286.41975308642,16286.41975308642,16286.41975308642,16286.41975308642,16286.41975308642,16286.41975308642,16286.41975308642,16286.41975308642,16286.41975308642,16286.41975308642,16286.41975308642,16286.41975308642,16286.41975308642,16286.41975308642,16286.41975308642,16286.41975308642,16286.41975308642,16286.41975308642,16286.41975308642,16286.41975308642,16286.41975308642,16286.41975308642,16286.41975308642,16286.41975308642,16286.41975308642,16286.41975308642,16286.41975308642,16286.41975308642,16286.41975308642,16286.41975308642,16286.41975308642,16286.41975308642,16286.41975308642,16286.41975308642,16570.03125,16570.03125,16570.03125,16570.03125,16570.03125,16570.03125,16570.03125,16570.03125,16570.03125,16570.03125,16988.666666666668,16988.666666666668,16988.666666666668,16988.666666666668,16988.666666666668,16988.666666666668,16988.666666666668,16988.666666666668,16988.666666666668,16988.666666666668,16988.666666666668,16988.666666666668,16988.666666666668,16988.666666666668,16988.666666666668,16988.666666666668,16988.666666666668,16988.666666666668,16988.666666666668,17144.053571428572,17144.053571428572,17144.053571428572,17144.053571428572,17144.053571428572,17144.053571428572,17144.053571428572,17144.053571428572,17144.053571428572,17144.053571428572,17144.053571428572,17144.053571428572,17144.053571428572,17144.053571428572,17144.053571428572,17144.053571428572,17144.053571428572,17144.053571428572,17144.053571428572,16827.629310344826,16827.629310344826,16827.629310344826,16827.629310344826,16827.629310344826,16827.629310344826,16827.629310344826,16827.629310344826,16827.629310344826,16827.629310344826,16827.629310344826,16827.629310344826,16827.629310344826,16827.629310344826,16827.629310344826,16827.629310344826,16827.629310344826,16827.629310344826,16827.629310344826,16827.629310344826,16827.629310344826,16827.629310344826,16827.629310344826,16827.629310344826,16827.629310344826,16827.629310344826,16827.629310344826,16827.629310344826,16827.629310344826,16827.629310344826,16827.629310344826,16827.629310344826,16827.629310344826,16827.629310344826,16827.629310344826,16827.629310344826,16827.629310344826,16454.13157894737,16454.13157894737,16454.13157894737,16454.13157894737,16454.13157894737,16454.13157894737,16454.13157894737,16454.13157894737,16454.13157894737,16454.13157894737,16454.13157894737,16454.13157894737,16454.13157894737,16454.13157894737,16454.13157894737,16454.13157894737,16454.13157894737,16454.13157894737,16454.13157894737,17355.26153846154,17355.26153846154,17355.26153846154,17355.26153846154,17355.26153846154,17355.26153846154,17355.26153846154,17355.26153846154,17355.26153846154,17355.26153846154,17355.26153846154,17355.26153846154,17355.26153846154,17355.26153846154,17355.26153846154,17355.26153846154,17355.26153846154,17355.26153846154,17355.26153846154,17355.26153846154,17355.26153846154,17355.26153846154,17355.26153846154,17355.26153846154,17355.26153846154,17355.26153846154,17247.011235955055,17247.011235955055,17247.011235955055,17247.011235955055,17247.011235955055,17247.011235955055,17247.011235955055,17247.011235955055,17247.011235955055,17247.011235955055,17247.011235955055,17247.011235955055,17247.011235955055,17247.011235955055,17247.011235955055,17247.011235955055,17247.011235955055,17247.011235955055,17247.011235955055,17247.011235955055,17247.011235955055,17247.011235955055,17247.011235955055,17247.011235955055,17247.011235955055,17247.011235955055,17247.011235955055,17247.011235955055,17247.011235955055,17247.011235955055,17247.011235955055,17247.011235955055,17247.011235955055,17247.011235955055,17247.011235955055,17247.011235955055,15255.48,15255.48,15255.48,15255.48,15255.48,15255.48,15255.48,15255.48,17309.929824561405,17309.929824561405,17309.929824561405,17309.929824561405,17309.929824561405,17309.929824561405,17309.929824561405,17309.929824561405,17309.929824561405,17309.929824561405,17309.929824561405,17309.929824561405,17309.929824561405,17309.929824561405,17309.929824561405,17309.929824561405,17309.929824561405,17309.929824561405,17309.929824561405,17309.929824561405,17309.929824561405,17309.929824561405,17309.929824561405,17309.929824561405,17309.929824561405,17309.929824561405,18729.51851851852,18729.51851851852,18729.51851851852,18729.51851851852,18729.51851851852,18729.51851851852,18729.51851851852,17110.73076923077,17110.73076923077,17110.73076923077,17110.73076923077,17110.73076923077,17110.73076923077,17110.73076923077,17110.73076923077,17110.73076923077,19029.734375,19029.734375,19029.734375,19029.734375,19029.734375,19029.734375,19029.734375,19029.734375,19029.734375,19029.734375,19029.734375,19029.734375,19029.734375,19029.734375,16407.266666666666,16407.266666666666,16407.266666666666,16407.266666666666,16407.266666666666,16407.266666666666,16407.266666666666,16407.266666666666,16407.266666666666,16407.266666666666,16407.266666666666,16407.266666666666,16407.266666666666,16979.1,16979.1,16979.1,16979.1,16979.1,16979.1,16979.1,16979.1,16979.1,16979.1,16979.1,16979.1,16979.1,16979.1,16979.1,16979.1,16979.1,16979.1,16979.1,16979.1,16979.1,16979.1,16979.1,16979.1,16979.1,16979.1,16979.1,16979.1,16979.1,16979.1,16979.1,16979.1,16979.1,16979.1,16979.1,16979.1,16979.1,16979.1,16979.1,16979.1,16737.797872340427,16737.797872340427,16737.797872340427,16737.797872340427,16737.797872340427,16737.797872340427,16737.797872340427,16737.797872340427,16737.797872340427,16737.797872340427,16737.797872340427,16737.797872340427,16737.797872340427,16737.797872340427,16737.797872340427,16737.797872340427,16737.797872340427,16737.797872340427,16737.797872340427,16737.797872340427,16737.797872340427,16737.797872340427,16737.797872340427,16737.797872340427,16737.797872340427,16737.797872340427,16737.797872340427,16737.797872340427,16737.797872340427,16737.797872340427,16737.797872340427,16737.797872340427,16737.797872340427,16737.797872340427,16737.797872340427,16737.797872340427,16343.5,16343.5,16343.5,16343.5,16343.5,16343.5,16343.5,16343.5,17059.253424657534,17059.253424657534,17059.253424657534,17059.253424657534,17059.253424657534,17059.253424657534,17059.253424657534,17059.253424657534,17059.253424657534,17059.253424657534,17059.253424657534,17059.253424657534,17059.253424657534,17059.253424657534,17059.253424657534,17059.253424657534,17059.253424657534,17059.253424657534,17059.253424657534,17059.253424657534,17059.253424657534,17059.253424657534,17059.253424657534,17059.253424657534,17059.253424657534,17059.253424657534,17059.253424657534,17059.253424657534,17059.253424657534,17059.253424657534,17059.253424657534,17059.253424657534,17059.253424657534,17059.253424657534,17059.253424657534,17059.253424657534,17059.253424657534,17059.253424657534,17059.253424657534,17059.253424657534,17059.253424657534,17059.253424657534,17059.253424657534,17059.253424657534,17059.253424657534,17059.253424657534,17059.253424657534,17059.253424657534,17059.253424657534,17059.253424657534,15705.24705882353,15705.24705882353,15705.24705882353,15705.24705882353,15705.24705882353,15705.24705882353,15705.24705882353,15705.24705882353,15705.24705882353,15705.24705882353,15705.24705882353,15705.24705882353,15705.24705882353,15705.24705882353,15705.24705882353,15705.24705882353,15705.24705882353,15705.24705882353,15705.24705882353,15705.24705882353,15705.24705882353,15705.24705882353,15705.24705882353,15705.24705882353,15705.24705882353,15705.24705882353,15705.24705882353,15705.24705882353,15162.461538461539,15162.461538461539,15162.461538461539,15162.461538461539,15162.461538461539,15162.461538461539,15162.461538461539,15162.461538461539,15162.461538461539,15162.461538461539,15162.461538461539,15162.461538461539,15162.461538461539,15162.461538461539,15162.461538461539,15162.461538461539,15162.461538461539,15162.461538461539,15162.461538461539,15162.461538461539,15162.461538461539,15162.461538461539,15162.461538461539,17613.713333333333,17613.713333333333,17613.713333333333,17613.713333333333,17613.713333333333,17613.713333333333,17613.713333333333,17613.713333333333,17613.713333333333,17613.713333333333,17613.713333333333,17613.713333333333,17613.713333333333,17613.713333333333,17613.713333333333,17613.713333333333,17613.713333333333,17613.713333333333,17613.713333333333,17613.713333333333,17613.713333333333,17613.713333333333,17613.713333333333,17613.713333333333,17613.713333333333,17613.713333333333,17613.713333333333,17613.713333333333,17613.713333333333,17613.713333333333,17613.713333333333,17613.713333333333,17613.713333333333,17613.713333333333,17613.713333333333,17613.713333333333,17613.713333333333,17613.713333333333,17613.713333333333,17613.713333333333,17613.713333333333,17613.713333333333,17613.713333333333,17613.713333333333,17613.713333333333,17613.713333333333,17613.713333333333,17613.713333333333,17613.713333333333,17613.713333333333,17613.713333333333,17613.713333333333,17613.713333333333,15490.2,15490.2,15490.2,16929.654545454545,16929.654545454545,16929.654545454545,16929.654545454545,16929.654545454545,16929.654545454545,16929.654545454545,16929.654545454545,16929.654545454545,16929.654545454545,16929.654545454545,16929.654545454545,16929.654545454545,16929.654545454545,16929.654545454545,16929.654545454545,16929.654545454545,13864.157894736842,13864.157894736842,13864.157894736842,13864.157894736842,13864.157894736842,13864.157894736842,16775.604395604394,16775.604395604394,16775.604395604394,16775.604395604394,16775.604395604394,16775.604395604394,16775.604395604394,16775.604395604394,16775.604395604394,16775.604395604394,16775.604395604394,16775.604395604394,16775.604395604394,16775.604395604394,16775.604395604394,16775.604395604394,16775.604395604394,16775.604395604394,16775.604395604394,16775.604395604394,16775.604395604394,16775.604395604394,16775.604395604394,16775.604395604394,16775.604395604394,16775.604395604394,16775.604395604394,16775.604395604394,16775.604395604394,16775.604395604394,16775.604395604394,16775.604395604394,16995.533834586466,16995.533834586466,16995.533834586466,16995.533834586466,16995.533834586466,16995.533834586466,16995.533834586466,16995.533834586466,16995.533834586466,16995.533834586466,16995.533834586466,16995.533834586466,16995.533834586466,16995.533834586466,16995.533834586466,16995.533834586466,16995.533834586466,16995.533834586466,16995.533834586466,16995.533834586466,16995.533834586466,16995.533834586466,16995.533834586466,16995.533834586466,16995.533834586466,16995.533834586466,16995.533834586466,16995.533834586466,16995.533834586466,16995.533834586466,16995.533834586466,16995.533834586466,16995.533834586466,16995.533834586466,16995.533834586466,16995.533834586466,16995.533834586466,16995.533834586466,16995.533834586466,16995.533834586466,16995.533834586466,16995.533834586466,16995.533834586466,16995.533834586466,16995.533834586466,16995.533834586466,16995.533834586466,16995.533834586466,16995.533834586466,16995.533834586466,16995.533834586466,16995.533834586466,16995.533834586466,16995.533834586466,16995.533834586466,16995.533834586466,16995.533834586466,16995.533834586466,16995.533834586466,16995.533834586466,16995.533834586466,16995.533834586466,16995.533834586466,16995.533834586466,16995.533834586466,16995.533834586466,16995.533834586466,16995.533834586466,16995.533834586466,16995.533834586466,16995.533834586466,16995.533834586466,16995.533834586466,16995.533834586466,16995.533834586466,16995.533834586466,16995.533834586466,16995.533834586466,16995.533834586466,16995.533834586466,16995.533834586466,16995.533834586466,16216.970588235294,16216.970588235294,16216.970588235294,16216.970588235294,16216.970588235294,16216.970588235294,16216.970588235294,15519.083333333334,15519.083333333334,15519.083333333334,15519.083333333334,15519.083333333334,15519.083333333334,13115.0,16736.077922077922,16736.077922077922,16736.077922077922,16736.077922077922,16736.077922077922,16736.077922077922,16736.077922077922,16736.077922077922,16736.077922077922,16736.077922077922,16736.077922077922,16736.077922077922,16736.077922077922,16736.077922077922,16736.077922077922,16736.077922077922,16736.077922077922,16736.077922077922,16736.077922077922,16736.077922077922,16736.077922077922,16736.077922077922,16736.077922077922,16736.077922077922,16733.867647058825,16733.867647058825,16733.867647058825,16733.867647058825,16733.867647058825,16733.867647058825,16733.867647058825,16733.867647058825,16733.867647058825,16733.867647058825,16733.867647058825,16733.867647058825,16733.867647058825,16733.867647058825,16733.867647058825,16733.867647058825,16733.867647058825,16733.867647058825,16733.867647058825,16733.867647058825,16733.867647058825,16733.867647058825,16733.867647058825,16733.867647058825,16683.128205128207,16683.128205128207,16683.128205128207,16683.128205128207,16683.128205128207,16683.128205128207,16683.128205128207,16683.128205128207,16683.128205128207,16683.128205128207,16683.128205128207,16683.128205128207,16683.128205128207,16683.128205128207,16683.128205128207,16683.128205128207,16683.128205128207,16683.128205128207,16331.175925925925,16331.175925925925,16331.175925925925,16331.175925925925,16331.175925925925,16331.175925925925,16331.175925925925,16331.175925925925,16331.175925925925,16331.175925925925,16331.175925925925,16331.175925925925,16331.175925925925,16331.175925925925,16331.175925925925,16331.175925925925,16331.175925925925,16331.175925925925,16331.175925925925,16331.175925925925,16331.175925925925,15311.555555555555,15311.555555555555,15311.555555555555,15311.555555555555,15311.555555555555,15311.555555555555,15311.555555555555,15311.555555555555,15311.555555555555,16995.533834586466,16995.533834586466,16995.533834586466,16995.533834586466,16995.533834586466,16995.533834586466,16995.533834586466,16995.533834586466,16995.533834586466,16995.533834586466,16995.533834586466,16995.533834586466,16995.533834586466,16264.227848101265,16264.227848101265,16264.227848101265,16264.227848101265,16264.227848101265,16264.227848101265,16264.227848101265,16264.227848101265,16264.227848101265,16264.227848101265,16264.227848101265,16264.227848101265,16264.227848101265,16264.227848101265,16264.227848101265,14440.0,14440.0,14440.0,14440.0,17446.0,17446.0,17446.0,17446.0,17446.0,17446.0,17446.0,17446.0,17446.0,17446.0,17446.0,17446.0,17446.0,17446.0,16838.5,16838.5,16838.5,16838.5,16838.5,16838.5,16838.5,16838.5,16838.5,16642.006756756757,16642.006756756757,16642.006756756757,16642.006756756757,16642.006756756757,16642.006756756757,16642.006756756757,16642.006756756757,16642.006756756757,16642.006756756757,16642.006756756757,16642.006756756757,16642.006756756757,16642.006756756757,16642.006756756757,16642.006756756757,16642.006756756757,16642.006756756757,16642.006756756757,16642.006756756757,16642.006756756757,16642.006756756757,16642.006756756757,16642.006756756757,16642.006756756757,16642.006756756757,16642.006756756757,16642.006756756757,16642.006756756757,16642.006756756757,16642.006756756757,16642.006756756757,16642.006756756757,16642.006756756757,16642.006756756757,16642.006756756757,16642.006756756757,16642.006756756757,16642.006756756757,16642.006756756757,16642.006756756757,16642.006756756757,16642.006756756757,16642.006756756757,16642.006756756757,16642.006756756757,16642.006756756757,16642.006756756757,16642.006756756757,16642.006756756757,16642.006756756757,16642.006756756757,16642.006756756757,16642.006756756757,16642.006756756757,16642.006756756757,16642.006756756757,16642.006756756757,16642.006756756757,16642.006756756757,16642.006756756757,16642.006756756757,16449.78947368421,16449.78947368421,16449.78947368421,16449.78947368421,16449.78947368421,16449.78947368421,16449.78947368421,16449.78947368421,16449.78947368421,16449.78947368421,16449.78947368421,16449.78947368421,16449.78947368421,16449.78947368421,16449.78947368421,16449.78947368421,16449.78947368421,16449.78947368421,16449.78947368421,16449.78947368421,16449.78947368421,16449.78947368421,16449.78947368421,16449.78947368421,16449.78947368421,18143.5,18143.5,18143.5,18143.5,18143.5,18143.5,18143.5,18143.5,18143.5,18236.166666666668,17994.207100591717,17994.207100591717,17994.207100591717,17994.207100591717,17994.207100591717,17994.207100591717,17994.207100591717,17994.207100591717,17994.207100591717,17994.207100591717,17994.207100591717,17994.207100591717,17994.207100591717,17994.207100591717,17994.207100591717,17994.207100591717,17994.207100591717,17994.207100591717,17994.207100591717,17994.207100591717,17994.207100591717,17994.207100591717,17994.207100591717,17994.207100591717,17994.207100591717,17994.207100591717,17994.207100591717,17994.207100591717,16506.212962962964,16506.212962962964,16506.212962962964,16506.212962962964,16506.212962962964,16506.212962962964,16506.212962962964,16506.212962962964,16506.212962962964,16506.212962962964,16506.212962962964,16506.212962962964,16506.212962962964,16506.212962962964,16506.212962962964,16506.212962962964,16506.212962962964,16506.212962962964,16506.212962962964,16506.212962962964,16506.212962962964,16506.212962962964,16506.212962962964,16506.212962962964,16506.212962962964,16506.212962962964,16682.23076923077,16682.23076923077,16682.23076923077,16682.23076923077,16682.23076923077,15244.36,15244.36,15244.36,15244.36,15244.36,15244.36,15244.36,15244.36,15244.36,15244.36,15244.36,17372.552147239265,17372.552147239265,17372.552147239265,17372.552147239265,17372.552147239265,17372.552147239265,17372.552147239265,17372.552147239265,17372.552147239265,17372.552147239265,17372.552147239265,17372.552147239265,17372.552147239265,17372.552147239265,17372.552147239265,17372.552147239265,17372.552147239265,17372.552147239265,17372.552147239265,17372.552147239265,17372.552147239265,17372.552147239265,17372.552147239265,17372.552147239265,17372.552147239265,17372.552147239265,17372.552147239265,17372.552147239265,17372.552147239265,17372.552147239265,17372.552147239265,17372.552147239265,17372.552147239265,17372.552147239265,17372.552147239265,17372.552147239265,17372.552147239265,17372.552147239265,17372.552147239265,17372.552147239265,17372.552147239265,17372.552147239265,17372.552147239265,17372.552147239265,17372.552147239265,17372.552147239265,17372.552147239265,17372.552147239265,17372.552147239265,16718.081818181818,16718.081818181818,16718.081818181818,16718.081818181818,16718.081818181818,16718.081818181818,16718.081818181818,16718.081818181818,16718.081818181818,16718.081818181818,16718.081818181818,16718.081818181818,16718.081818181818,16718.081818181818,16718.081818181818,16718.081818181818,16718.081818181818,16718.081818181818,16718.081818181818,16718.081818181818,16718.081818181818,16718.081818181818,16718.081818181818,16718.081818181818,16718.081818181818,16718.081818181818,16718.081818181818,16718.081818181818,16718.081818181818,16718.081818181818,16718.081818181818,16718.081818181818,16718.081818181818,16718.081818181818,16718.081818181818,16718.081818181818,16718.081818181818,16718.081818181818,16718.081818181818,16718.081818181818,16718.081818181818,16718.081818181818,16718.081818181818,16718.081818181818,16718.081818181818,16718.081818181818,16718.081818181818,16718.081818181818,16718.081818181818,16718.081818181818,16718.081818181818,16856.095238095237,16856.095238095237,16856.095238095237,16856.095238095237,16856.095238095237,16856.095238095237,16856.095238095237,16856.095238095237,16856.095238095237,16856.095238095237,16856.095238095237,16856.095238095237,16856.095238095237,16856.095238095237,16856.095238095237,16856.095238095237,16856.095238095237,16856.095238095237,16856.095238095237,16856.095238095237,16856.095238095237,16856.095238095237,16856.095238095237,16856.095238095237,16856.095238095237,16856.095238095237,16856.095238095237,16856.095238095237,16856.095238095237,16856.095238095237,16856.095238095237,16856.095238095237,16856.095238095237,16856.095238095237,16856.095238095237,16856.095238095237,16465.628571428573,16465.628571428573,16465.628571428573,16465.628571428573,16465.628571428573,16465.628571428573,16465.628571428573,16465.628571428573,16465.628571428573,16465.628571428573,16465.628571428573,16465.628571428573,16465.628571428573,16465.628571428573,16465.628571428573,16465.628571428573,16465.628571428573,16465.628571428573,16465.628571428573,16465.628571428573,16465.628571428573,16735.170731707316,16735.170731707316,16735.170731707316,16735.170731707316,16735.170731707316,16735.170731707316,16735.170731707316,16735.170731707316,16735.170731707316,16735.170731707316,16735.170731707316,16735.170731707316,16735.170731707316,16735.170731707316,16735.170731707316,16735.170731707316,16735.170731707316,16735.170731707316,16735.170731707316,16735.170731707316,16735.170731707316,16286.41975308642,16286.41975308642,16286.41975308642,16286.41975308642,16286.41975308642,16286.41975308642,16286.41975308642,16286.41975308642,16286.41975308642,16286.41975308642,16286.41975308642,16286.41975308642,16286.41975308642,16286.41975308642,16286.41975308642,16286.41975308642,16286.41975308642,16286.41975308642,16286.41975308642,16286.41975308642,16570.03125,16570.03125,16570.03125,16570.03125,16570.03125,16570.03125,16570.03125,16570.03125,16570.03125,16570.03125,16570.03125,16570.03125,16570.03125,16570.03125,16988.666666666668,16988.666666666668,16988.666666666668,16988.666666666668,16988.666666666668,16988.666666666668,16988.666666666668,16988.666666666668,16988.666666666668,17144.053571428572,17144.053571428572,17144.053571428572,17144.053571428572,17144.053571428572,17144.053571428572,17144.053571428572,17144.053571428572,17144.053571428572,17144.053571428572,17144.053571428572,16827.629310344826,16827.629310344826,16827.629310344826,16827.629310344826,16827.629310344826,16827.629310344826,16827.629310344826,16827.629310344826,16827.629310344826,16827.629310344826,16827.629310344826,16827.629310344826,16827.629310344826,16827.629310344826,16827.629310344826,16827.629310344826,16827.629310344826,16827.629310344826,16827.629310344826,16827.629310344826,16827.629310344826,16827.629310344826,16827.629310344826,16827.629310344826,16827.629310344826,16827.629310344826,16827.629310344826,16827.629310344826,16827.629310344826,16827.629310344826,16827.629310344826,16827.629310344826,16827.629310344826,16827.629310344826,16827.629310344826,16827.629310344826,16827.629310344826,16827.629310344826,16827.629310344826,16827.629310344826,16827.629310344826,16827.629310344826,16827.629310344826,16827.629310344826,16827.629310344826,16827.629310344826,16827.629310344826,16827.629310344826,16827.629310344826,16827.629310344826,16827.629310344826,16454.13157894737,16454.13157894737,16454.13157894737,16454.13157894737,16454.13157894737,16454.13157894737,16454.13157894737,16454.13157894737,16454.13157894737,16454.13157894737,16454.13157894737,16454.13157894737,16454.13157894737,16454.13157894737,16454.13157894737,16454.13157894737,16454.13157894737,16454.13157894737,16454.13157894737,16454.13157894737,16454.13157894737,16454.13157894737,16454.13157894737,16454.13157894737,16454.13157894737,16454.13157894737,16454.13157894737,16454.13157894737,16454.13157894737,16454.13157894737,16454.13157894737,16454.13157894737,16454.13157894737,16454.13157894737,16454.13157894737,16454.13157894737,16454.13157894737,16454.13157894737,16454.13157894737,16454.13157894737,16454.13157894737,16454.13157894737,16454.13157894737,17355.26153846154,17355.26153846154,17355.26153846154,17355.26153846154,17355.26153846154,17355.26153846154,17355.26153846154,17247.011235955055,17247.011235955055,17247.011235955055,17247.011235955055,17247.011235955055,17247.011235955055,17247.011235955055,17247.011235955055,17247.011235955055,17247.011235955055,17247.011235955055,17247.011235955055,17247.011235955055,17247.011235955055,17247.011235955055,17247.011235955055,17247.011235955055,17247.011235955055,17247.011235955055,17247.011235955055,17247.011235955055,17247.011235955055,17247.011235955055,15255.48,15255.48,15255.48,15255.48,15255.48,15255.48,15255.48,15255.48,15255.48,15255.48,15255.48,15255.48,17309.929824561405,17309.929824561405,17309.929824561405,17309.929824561405,17309.929824561405,17309.929824561405,17309.929824561405,17309.929824561405,17309.929824561405,17309.929824561405,17309.929824561405,17309.929824561405,17309.929824561405,17309.929824561405,17309.929824561405,17309.929824561405,17309.929824561405,17309.929824561405,17309.929824561405,17309.929824561405,17309.929824561405,17309.929824561405,17309.929824561405,17309.929824561405,17309.929824561405,18729.51851851852,18729.51851851852,18729.51851851852,18729.51851851852,17110.73076923077,17110.73076923077,17110.73076923077,17110.73076923077,17110.73076923077,17110.73076923077,17110.73076923077,17110.73076923077,17110.73076923077,17110.73076923077,19029.734375,19029.734375,19029.734375,19029.734375,19029.734375,19029.734375,19029.734375,19029.734375,19029.734375,19029.734375,16407.266666666666,16407.266666666666,16407.266666666666,16407.266666666666,16407.266666666666,16407.266666666666,16979.1,16979.1,16979.1,16979.1,16979.1,16979.1,16979.1,16979.1,16979.1,16979.1,16979.1,16979.1,16979.1,16979.1,16979.1,16979.1,16737.797872340427,16737.797872340427,16737.797872340427,16737.797872340427,16737.797872340427,16737.797872340427,16737.797872340427,16737.797872340427,16737.797872340427,16737.797872340427,16737.797872340427,16737.797872340427,16737.797872340427,16737.797872340427,16737.797872340427,16737.797872340427,16737.797872340427,16737.797872340427,16737.797872340427,16737.797872340427,16737.797872340427,16737.797872340427,16737.797872340427,16737.797872340427,16737.797872340427,16737.797872340427,16343.5,16343.5,16343.5,16343.5,16343.5,16343.5,16343.5,16343.5,17059.253424657534,17059.253424657534,17059.253424657534,17059.253424657534,17059.253424657534,17059.253424657534,17059.253424657534,17059.253424657534,17059.253424657534,17059.253424657534,17059.253424657534,17059.253424657534,17059.253424657534,17059.253424657534,17059.253424657534,17059.253424657534,17059.253424657534,17059.253424657534,17059.253424657534,17059.253424657534,17059.253424657534,17059.253424657534,17059.253424657534,17059.253424657534,17059.253424657534,17059.253424657534,17059.253424657534,17059.253424657534,17059.253424657534,17059.253424657534,17059.253424657534,17059.253424657534,17059.253424657534,17059.253424657534,17059.253424657534,17059.253424657534,17059.253424657534,17059.253424657534,17059.253424657534,17059.253424657534,17059.253424657534,17059.253424657534,17059.253424657534,17059.253424657534,17059.253424657534,17059.253424657534,17059.253424657534,17059.253424657534,17059.253424657534,17059.253424657534,17059.253424657534,17059.253424657534,15705.24705882353,15705.24705882353,15705.24705882353,15705.24705882353,15705.24705882353,15705.24705882353,15705.24705882353,15705.24705882353,15705.24705882353,15705.24705882353,15705.24705882353,15705.24705882353,15705.24705882353,15705.24705882353,15705.24705882353,15705.24705882353,15705.24705882353,15705.24705882353,15705.24705882353,15705.24705882353,15705.24705882353,15705.24705882353,15705.24705882353,15705.24705882353,15162.461538461539,15162.461538461539,15162.461538461539,15162.461538461539,15162.461538461539,15162.461538461539,15162.461538461539,15162.461538461539,15162.461538461539,15162.461538461539,15162.461538461539,15162.461538461539,15162.461538461539,15162.461538461539,15162.461538461539,15162.461538461539,15162.461538461539,15162.461538461539,15162.461538461539,15162.461538461539,15162.461538461539,15162.461538461539,17613.713333333333,17613.713333333333,17613.713333333333,17613.713333333333,17613.713333333333,17613.713333333333,17613.713333333333,17613.713333333333,17613.713333333333,17613.713333333333,17613.713333333333,17613.713333333333,17613.713333333333,17613.713333333333,17613.713333333333,17613.713333333333,17613.713333333333,17613.713333333333,17613.713333333333,17613.713333333333,17613.713333333333,17613.713333333333,17613.713333333333,17613.713333333333,17613.713333333333,17613.713333333333,17613.713333333333,17613.713333333333,17613.713333333333,17613.713333333333,17613.713333333333,17613.713333333333,17613.713333333333,17613.713333333333,17613.713333333333,17613.713333333333,15490.2,15490.2,16929.654545454545,16929.654545454545,16929.654545454545,16929.654545454545,16929.654545454545,16929.654545454545,16929.654545454545,16929.654545454545,16929.654545454545,16929.654545454545,16929.654545454545,16929.654545454545,16929.654545454545,16929.654545454545,16929.654545454545,13864.157894736842,13864.157894736842,13864.157894736842,13864.157894736842,13864.157894736842,13864.157894736842,13864.157894736842,16775.604395604394,16775.604395604394,16775.604395604394,16775.604395604394,16775.604395604394,16775.604395604394,16775.604395604394,16775.604395604394,16775.604395604394,16775.604395604394,16775.604395604394,16775.604395604394,16775.604395604394,16775.604395604394,16775.604395604394,16775.604395604394,16775.604395604394,16775.604395604394,16775.604395604394,16775.604395604394,16775.604395604394,16995.533834586466,16995.533834586466,16995.533834586466,16995.533834586466,16995.533834586466,16995.533834586466,16995.533834586466,16995.533834586466,16995.533834586466,16995.533834586466,16995.533834586466,16995.533834586466,16995.533834586466,16995.533834586466,16995.533834586466,16995.533834586466,16995.533834586466,16995.533834586466,16995.533834586466,16995.533834586466,16995.533834586466,16995.533834586466,16995.533834586466,16995.533834586466,16995.533834586466,16995.533834586466,16995.533834586466,16995.533834586466,16995.533834586466,16995.533834586466,16995.533834586466,16995.533834586466,16995.533834586466,16995.533834586466,16995.533834586466,16995.533834586466,16995.533834586466,16995.533834586466,16995.533834586466,16995.533834586466,16995.533834586466,16995.533834586466,16995.533834586466,16995.533834586466,16995.533834586466,16995.533834586466,16995.533834586466,16995.533834586466,16995.533834586466,16995.533834586466,16995.533834586466,16995.533834586466,16995.533834586466,16995.533834586466,16995.533834586466,16995.533834586466,16995.533834586466,16995.533834586466,16995.533834586466,16995.533834586466,16995.533834586466,16995.533834586466,16995.533834586466,16995.533834586466,16995.533834586466,16995.533834586466,16995.533834586466,16995.533834586466,16995.533834586466,16995.533834586466,16995.533834586466,16995.533834586466,16995.533834586466,16216.970588235294,16216.970588235294,16216.970588235294,16216.970588235294,16216.970588235294,16216.970588235294,16216.970588235294,16216.970588235294,16216.970588235294,16216.970588235294,16216.970588235294,16216.970588235294,16216.970588235294,16216.970588235294,16216.970588235294,16216.970588235294,16216.970588235294,16216.970588235294,16216.970588235294,16216.970588235294,16216.970588235294,15519.083333333334,15519.083333333334,15519.083333333334,15519.083333333334,15519.083333333334,16736.077922077922,16736.077922077922,16736.077922077922,16736.077922077922,16736.077922077922,16736.077922077922,16736.077922077922,16736.077922077922,16736.077922077922,16736.077922077922,16736.077922077922,16736.077922077922,16736.077922077922,16736.077922077922,16736.077922077922,16736.077922077922,16736.077922077922,16736.077922077922,16736.077922077922,16736.077922077922,16736.077922077922,16736.077922077922,16736.077922077922,16736.077922077922,16733.867647058825,16733.867647058825,16733.867647058825,16733.867647058825,16733.867647058825,16733.867647058825,16733.867647058825,16733.867647058825,16733.867647058825,16733.867647058825,16733.867647058825,16733.867647058825,16733.867647058825,16733.867647058825,16733.867647058825,16733.867647058825,16733.867647058825,16733.867647058825,16733.867647058825,16683.128205128207,16683.128205128207,16683.128205128207,16683.128205128207,16683.128205128207,16683.128205128207,16683.128205128207,16683.128205128207,16331.175925925925,16331.175925925925,16331.175925925925,16331.175925925925,16331.175925925925,16331.175925925925,16331.175925925925,16331.175925925925,16331.175925925925,16331.175925925925,16331.175925925925,16331.175925925925,16331.175925925925,16331.175925925925,16331.175925925925,16331.175925925925,16331.175925925925,16331.175925925925,16331.175925925925,16331.175925925925,16331.175925925925,16331.175925925925,16331.175925925925,16331.175925925925,16331.175925925925,16331.175925925925,16331.175925925925,16331.175925925925,16331.175925925925,16331.175925925925,16331.175925925925,16331.175925925925,16331.175925925925,16331.175925925925,16331.175925925925,16331.175925925925,16331.175925925925,16331.175925925925,16331.175925925925,16331.175925925925,16331.175925925925,16331.175925925925,16331.175925925925,16331.175925925925,16331.175925925925,16331.175925925925,16331.175925925925,16331.175925925925,16331.175925925925,16331.175925925925,16331.175925925925,16331.175925925925,16331.175925925925,16331.175925925925,16331.175925925925,16331.175925925925,16331.175925925925,16331.175925925925,16331.175925925925,15311.555555555555,15311.555555555555,15311.555555555555,15311.555555555555,15311.555555555555,15311.555555555555,16995.533834586466,16995.533834586466,16995.533834586466,16995.533834586466,16995.533834586466,16995.533834586466,16995.533834586466,16995.533834586466,16995.533834586466,16995.533834586466,16995.533834586466,16264.227848101265,16264.227848101265,16264.227848101265,16264.227848101265,16264.227848101265,14440.0,14440.0,17446.0,17446.0,17446.0,17446.0,16838.5,16838.5,16642.006756756757,16642.006756756757,16642.006756756757,16642.006756756757,16642.006756756757,16642.006756756757,16642.006756756757,16642.006756756757,16642.006756756757,16642.006756756757,16642.006756756757,16642.006756756757,16642.006756756757,16642.006756756757,16642.006756756757,16642.006756756757,16642.006756756757,16642.006756756757,16642.006756756757,16642.006756756757,16642.006756756757,16449.78947368421,16449.78947368421,16449.78947368421,16449.78947368421,16449.78947368421,16449.78947368421,17994.207100591717,17994.207100591717,17994.207100591717,17994.207100591717,17994.207100591717,17994.207100591717,17994.207100591717,17994.207100591717,17994.207100591717,16506.212962962964,16506.212962962964,16506.212962962964,16506.212962962964,16506.212962962964,16682.23076923077,16682.23076923077,16682.23076923077,15244.36,15244.36,15244.36,15244.36,15244.36,17372.552147239265,17372.552147239265,17372.552147239265,17372.552147239265,17372.552147239265,17372.552147239265,17372.552147239265,17372.552147239265,17372.552147239265,17372.552147239265,17372.552147239265,17372.552147239265,16718.081818181818,16718.081818181818,16718.081818181818,16718.081818181818,16718.081818181818,16718.081818181818,16718.081818181818,16718.081818181818,16718.081818181818,16718.081818181818,16718.081818181818,16718.081818181818,16718.081818181818,16856.095238095237,16856.095238095237,16856.095238095237,16856.095238095237,16856.095238095237,16856.095238095237,16856.095238095237,16465.628571428573,16465.628571428573,16465.628571428573,16465.628571428573,16465.628571428573,16465.628571428573,16465.628571428573,16465.628571428573,16735.170731707316,16286.41975308642,16286.41975308642,16286.41975308642,16570.03125,16570.03125,16570.03125,16988.666666666668,16988.666666666668,16988.666666666668,16988.666666666668,16988.666666666668,17144.053571428572,17144.053571428572,17144.053571428572,17144.053571428572,17144.053571428572,17144.053571428572,17144.053571428572,16827.629310344826,16827.629310344826,16827.629310344826,16827.629310344826,16827.629310344826,16827.629310344826,16827.629310344826,16827.629310344826,16827.629310344826,16827.629310344826,16827.629310344826,16454.13157894737,16454.13157894737,16454.13157894737,16454.13157894737,16454.13157894737,16454.13157894737,16454.13157894737,16454.13157894737,17355.26153846154,17247.011235955055,17247.011235955055,17247.011235955055,17247.011235955055,17247.011235955055,17247.011235955055,15255.48,15255.48,15255.48,17309.929824561405,17309.929824561405,17110.73076923077,17110.73076923077,17110.73076923077,19029.734375,19029.734375,19029.734375,19029.734375,19029.734375,19029.734375,16979.1,16737.797872340427,16737.797872340427,16737.797872340427,16737.797872340427,16737.797872340427,16737.797872340427,16737.797872340427,17059.253424657534,17059.253424657534,17059.253424657534,17059.253424657534,17059.253424657534,17059.253424657534,17059.253424657534,17059.253424657534,17059.253424657534,17059.253424657534,17059.253424657534,17059.253424657534,17059.253424657534,17059.253424657534,17059.253424657534,17059.253424657534,17059.253424657534,17059.253424657534,17059.253424657534,17059.253424657534,15705.24705882353,15705.24705882353,15705.24705882353,15705.24705882353,15705.24705882353,15705.24705882353,15705.24705882353,15705.24705882353,15705.24705882353,15162.461538461539,15162.461538461539,15162.461538461539,17613.713333333333,17613.713333333333,17613.713333333333,17613.713333333333,17613.713333333333,17613.713333333333,17613.713333333333,17613.713333333333,17613.713333333333,17613.713333333333,17613.713333333333,15490.2,15490.2,16929.654545454545,16929.654545454545,16929.654545454545,16929.654545454545,16929.654545454545,13864.157894736842,13864.157894736842,13864.157894736842,13864.157894736842,13864.157894736842,16775.604395604394,16995.533834586466,16995.533834586466,16995.533834586466,16995.533834586466,16995.533834586466,16995.533834586466,16995.533834586466,16995.533834586466,16995.533834586466,16995.533834586466,16995.533834586466,16995.533834586466,16995.533834586466,16995.533834586466,16995.533834586466,16995.533834586466,16216.970588235294,16216.970588235294,16216.970588235294,16216.970588235294,16736.077922077922,16736.077922077922,16736.077922077922,16736.077922077922,16736.077922077922,16736.077922077922,16736.077922077922,16736.077922077922,16736.077922077922,16733.867647058825,16733.867647058825,16733.867647058825,16733.867647058825,16733.867647058825,16733.867647058825,16683.128205128207,16331.175925925925,16331.175925925925,16331.175925925925,16331.175925925925,16331.175925925925,16331.175925925925,16331.175925925925,16331.175925925925,16331.175925925925,16331.175925925925,16331.175925925925,16331.175925925925,16331.175925925925,16331.175925925925,16331.175925925925,16331.175925925925,16331.175925925925,16331.175925925925,16331.175925925925,16331.175925925925,16331.175925925925,16331.175925925925,15311.555555555555,16995.533834586466,16995.533834586466,16995.533834586466,16995.533834586466,16995.533834586466,16995.533834586466,16995.533834586466,16995.533834586466],\"type\":\"choropleth\"}],                        {\"template\":{\"data\":{\"histogram2dcontour\":[{\"type\":\"histogram2dcontour\",\"colorbar\":{\"outlinewidth\":0,\"ticks\":\"\"},\"colorscale\":[[0.0,\"#0d0887\"],[0.1111111111111111,\"#46039f\"],[0.2222222222222222,\"#7201a8\"],[0.3333333333333333,\"#9c179e\"],[0.4444444444444444,\"#bd3786\"],[0.5555555555555556,\"#d8576b\"],[0.6666666666666666,\"#ed7953\"],[0.7777777777777778,\"#fb9f3a\"],[0.8888888888888888,\"#fdca26\"],[1.0,\"#f0f921\"]]}],\"choropleth\":[{\"type\":\"choropleth\",\"colorbar\":{\"outlinewidth\":0,\"ticks\":\"\"}}],\"histogram2d\":[{\"type\":\"histogram2d\",\"colorbar\":{\"outlinewidth\":0,\"ticks\":\"\"},\"colorscale\":[[0.0,\"#0d0887\"],[0.1111111111111111,\"#46039f\"],[0.2222222222222222,\"#7201a8\"],[0.3333333333333333,\"#9c179e\"],[0.4444444444444444,\"#bd3786\"],[0.5555555555555556,\"#d8576b\"],[0.6666666666666666,\"#ed7953\"],[0.7777777777777778,\"#fb9f3a\"],[0.8888888888888888,\"#fdca26\"],[1.0,\"#f0f921\"]]}],\"heatmap\":[{\"type\":\"heatmap\",\"colorbar\":{\"outlinewidth\":0,\"ticks\":\"\"},\"colorscale\":[[0.0,\"#0d0887\"],[0.1111111111111111,\"#46039f\"],[0.2222222222222222,\"#7201a8\"],[0.3333333333333333,\"#9c179e\"],[0.4444444444444444,\"#bd3786\"],[0.5555555555555556,\"#d8576b\"],[0.6666666666666666,\"#ed7953\"],[0.7777777777777778,\"#fb9f3a\"],[0.8888888888888888,\"#fdca26\"],[1.0,\"#f0f921\"]]}],\"heatmapgl\":[{\"type\":\"heatmapgl\",\"colorbar\":{\"outlinewidth\":0,\"ticks\":\"\"},\"colorscale\":[[0.0,\"#0d0887\"],[0.1111111111111111,\"#46039f\"],[0.2222222222222222,\"#7201a8\"],[0.3333333333333333,\"#9c179e\"],[0.4444444444444444,\"#bd3786\"],[0.5555555555555556,\"#d8576b\"],[0.6666666666666666,\"#ed7953\"],[0.7777777777777778,\"#fb9f3a\"],[0.8888888888888888,\"#fdca26\"],[1.0,\"#f0f921\"]]}],\"contourcarpet\":[{\"type\":\"contourcarpet\",\"colorbar\":{\"outlinewidth\":0,\"ticks\":\"\"}}],\"contour\":[{\"type\":\"contour\",\"colorbar\":{\"outlinewidth\":0,\"ticks\":\"\"},\"colorscale\":[[0.0,\"#0d0887\"],[0.1111111111111111,\"#46039f\"],[0.2222222222222222,\"#7201a8\"],[0.3333333333333333,\"#9c179e\"],[0.4444444444444444,\"#bd3786\"],[0.5555555555555556,\"#d8576b\"],[0.6666666666666666,\"#ed7953\"],[0.7777777777777778,\"#fb9f3a\"],[0.8888888888888888,\"#fdca26\"],[1.0,\"#f0f921\"]]}],\"surface\":[{\"type\":\"surface\",\"colorbar\":{\"outlinewidth\":0,\"ticks\":\"\"},\"colorscale\":[[0.0,\"#0d0887\"],[0.1111111111111111,\"#46039f\"],[0.2222222222222222,\"#7201a8\"],[0.3333333333333333,\"#9c179e\"],[0.4444444444444444,\"#bd3786\"],[0.5555555555555556,\"#d8576b\"],[0.6666666666666666,\"#ed7953\"],[0.7777777777777778,\"#fb9f3a\"],[0.8888888888888888,\"#fdca26\"],[1.0,\"#f0f921\"]]}],\"mesh3d\":[{\"type\":\"mesh3d\",\"colorbar\":{\"outlinewidth\":0,\"ticks\":\"\"}}],\"scatter\":[{\"fillpattern\":{\"fillmode\":\"overlay\",\"size\":10,\"solidity\":0.2},\"type\":\"scatter\"}],\"parcoords\":[{\"type\":\"parcoords\",\"line\":{\"colorbar\":{\"outlinewidth\":0,\"ticks\":\"\"}}}],\"scatterpolargl\":[{\"type\":\"scatterpolargl\",\"marker\":{\"colorbar\":{\"outlinewidth\":0,\"ticks\":\"\"}}}],\"bar\":[{\"error_x\":{\"color\":\"#2a3f5f\"},\"error_y\":{\"color\":\"#2a3f5f\"},\"marker\":{\"line\":{\"color\":\"#E5ECF6\",\"width\":0.5},\"pattern\":{\"fillmode\":\"overlay\",\"size\":10,\"solidity\":0.2}},\"type\":\"bar\"}],\"scattergeo\":[{\"type\":\"scattergeo\",\"marker\":{\"colorbar\":{\"outlinewidth\":0,\"ticks\":\"\"}}}],\"scatterpolar\":[{\"type\":\"scatterpolar\",\"marker\":{\"colorbar\":{\"outlinewidth\":0,\"ticks\":\"\"}}}],\"histogram\":[{\"marker\":{\"pattern\":{\"fillmode\":\"overlay\",\"size\":10,\"solidity\":0.2}},\"type\":\"histogram\"}],\"scattergl\":[{\"type\":\"scattergl\",\"marker\":{\"colorbar\":{\"outlinewidth\":0,\"ticks\":\"\"}}}],\"scatter3d\":[{\"type\":\"scatter3d\",\"line\":{\"colorbar\":{\"outlinewidth\":0,\"ticks\":\"\"}},\"marker\":{\"colorbar\":{\"outlinewidth\":0,\"ticks\":\"\"}}}],\"scattermapbox\":[{\"type\":\"scattermapbox\",\"marker\":{\"colorbar\":{\"outlinewidth\":0,\"ticks\":\"\"}}}],\"scatterternary\":[{\"type\":\"scatterternary\",\"marker\":{\"colorbar\":{\"outlinewidth\":0,\"ticks\":\"\"}}}],\"scattercarpet\":[{\"type\":\"scattercarpet\",\"marker\":{\"colorbar\":{\"outlinewidth\":0,\"ticks\":\"\"}}}],\"carpet\":[{\"aaxis\":{\"endlinecolor\":\"#2a3f5f\",\"gridcolor\":\"white\",\"linecolor\":\"white\",\"minorgridcolor\":\"white\",\"startlinecolor\":\"#2a3f5f\"},\"baxis\":{\"endlinecolor\":\"#2a3f5f\",\"gridcolor\":\"white\",\"linecolor\":\"white\",\"minorgridcolor\":\"white\",\"startlinecolor\":\"#2a3f5f\"},\"type\":\"carpet\"}],\"table\":[{\"cells\":{\"fill\":{\"color\":\"#EBF0F8\"},\"line\":{\"color\":\"white\"}},\"header\":{\"fill\":{\"color\":\"#C8D4E3\"},\"line\":{\"color\":\"white\"}},\"type\":\"table\"}],\"barpolar\":[{\"marker\":{\"line\":{\"color\":\"#E5ECF6\",\"width\":0.5},\"pattern\":{\"fillmode\":\"overlay\",\"size\":10,\"solidity\":0.2}},\"type\":\"barpolar\"}],\"pie\":[{\"automargin\":true,\"type\":\"pie\"}]},\"layout\":{\"autotypenumbers\":\"strict\",\"colorway\":[\"#636efa\",\"#EF553B\",\"#00cc96\",\"#ab63fa\",\"#FFA15A\",\"#19d3f3\",\"#FF6692\",\"#B6E880\",\"#FF97FF\",\"#FECB52\"],\"font\":{\"color\":\"#2a3f5f\"},\"hovermode\":\"closest\",\"hoverlabel\":{\"align\":\"left\"},\"paper_bgcolor\":\"white\",\"plot_bgcolor\":\"#E5ECF6\",\"polar\":{\"bgcolor\":\"#E5ECF6\",\"angularaxis\":{\"gridcolor\":\"white\",\"linecolor\":\"white\",\"ticks\":\"\"},\"radialaxis\":{\"gridcolor\":\"white\",\"linecolor\":\"white\",\"ticks\":\"\"}},\"ternary\":{\"bgcolor\":\"#E5ECF6\",\"aaxis\":{\"gridcolor\":\"white\",\"linecolor\":\"white\",\"ticks\":\"\"},\"baxis\":{\"gridcolor\":\"white\",\"linecolor\":\"white\",\"ticks\":\"\"},\"caxis\":{\"gridcolor\":\"white\",\"linecolor\":\"white\",\"ticks\":\"\"}},\"coloraxis\":{\"colorbar\":{\"outlinewidth\":0,\"ticks\":\"\"}},\"colorscale\":{\"sequential\":[[0.0,\"#0d0887\"],[0.1111111111111111,\"#46039f\"],[0.2222222222222222,\"#7201a8\"],[0.3333333333333333,\"#9c179e\"],[0.4444444444444444,\"#bd3786\"],[0.5555555555555556,\"#d8576b\"],[0.6666666666666666,\"#ed7953\"],[0.7777777777777778,\"#fb9f3a\"],[0.8888888888888888,\"#fdca26\"],[1.0,\"#f0f921\"]],\"sequentialminus\":[[0.0,\"#0d0887\"],[0.1111111111111111,\"#46039f\"],[0.2222222222222222,\"#7201a8\"],[0.3333333333333333,\"#9c179e\"],[0.4444444444444444,\"#bd3786\"],[0.5555555555555556,\"#d8576b\"],[0.6666666666666666,\"#ed7953\"],[0.7777777777777778,\"#fb9f3a\"],[0.8888888888888888,\"#fdca26\"],[1.0,\"#f0f921\"]],\"diverging\":[[0,\"#8e0152\"],[0.1,\"#c51b7d\"],[0.2,\"#de77ae\"],[0.3,\"#f1b6da\"],[0.4,\"#fde0ef\"],[0.5,\"#f7f7f7\"],[0.6,\"#e6f5d0\"],[0.7,\"#b8e186\"],[0.8,\"#7fbc41\"],[0.9,\"#4d9221\"],[1,\"#276419\"]]},\"xaxis\":{\"gridcolor\":\"white\",\"linecolor\":\"white\",\"ticks\":\"\",\"title\":{\"standoff\":15},\"zerolinecolor\":\"white\",\"automargin\":true,\"zerolinewidth\":2},\"yaxis\":{\"gridcolor\":\"white\",\"linecolor\":\"white\",\"ticks\":\"\",\"title\":{\"standoff\":15},\"zerolinecolor\":\"white\",\"automargin\":true,\"zerolinewidth\":2},\"scene\":{\"xaxis\":{\"backgroundcolor\":\"#E5ECF6\",\"gridcolor\":\"white\",\"linecolor\":\"white\",\"showbackground\":true,\"ticks\":\"\",\"zerolinecolor\":\"white\",\"gridwidth\":2},\"yaxis\":{\"backgroundcolor\":\"#E5ECF6\",\"gridcolor\":\"white\",\"linecolor\":\"white\",\"showbackground\":true,\"ticks\":\"\",\"zerolinecolor\":\"white\",\"gridwidth\":2},\"zaxis\":{\"backgroundcolor\":\"#E5ECF6\",\"gridcolor\":\"white\",\"linecolor\":\"white\",\"showbackground\":true,\"ticks\":\"\",\"zerolinecolor\":\"white\",\"gridwidth\":2}},\"shapedefaults\":{\"line\":{\"color\":\"#2a3f5f\"}},\"annotationdefaults\":{\"arrowcolor\":\"#2a3f5f\",\"arrowhead\":0,\"arrowwidth\":1},\"geo\":{\"bgcolor\":\"white\",\"landcolor\":\"#E5ECF6\",\"subunitcolor\":\"white\",\"showland\":true,\"showlakes\":true,\"lakecolor\":\"white\"},\"title\":{\"x\":0.05},\"mapbox\":{\"style\":\"light\"}}},\"title\":{\"text\":\"Average Cost of Pneumonia Care by State\"},\"geo\":{\"scope\":\"usa\"}},                        {\"responsive\": true}                    ).then(function(){\n",
              "                            \n",
              "var gd = document.getElementById('b0f7b76c-39c6-4d27-b478-f837d01b7cf2');\n",
              "var x = new MutationObserver(function (mutations, observer) {{\n",
              "        var display = window.getComputedStyle(gd).display;\n",
              "        if (!display || display === 'none') {{\n",
              "            console.log([gd, 'removed!']);\n",
              "            Plotly.purge(gd);\n",
              "            observer.disconnect();\n",
              "        }}\n",
              "}});\n",
              "\n",
              "// Listen for the removal of the full notebook cells\n",
              "var notebookContainer = gd.closest('#notebook-container');\n",
              "if (notebookContainer) {{\n",
              "    x.observe(notebookContainer, {childList: true});\n",
              "}}\n",
              "\n",
              "// Listen for the clearing of the current output cell\n",
              "var outputEl = gd.closest('.output');\n",
              "if (outputEl) {{\n",
              "    x.observe(outputEl, {childList: true});\n",
              "}}\n",
              "\n",
              "                        })                };                            </script>        </div>\n",
              "</body>\n",
              "</html>"
            ]
          },
          "metadata": {}
        },
        {
          "output_type": "display_data",
          "data": {
            "text/html": [
              "<html>\n",
              "<head><meta charset=\"utf-8\" /></head>\n",
              "<body>\n",
              "    <div>            <script src=\"https://cdnjs.cloudflare.com/ajax/libs/mathjax/2.7.5/MathJax.js?config=TeX-AMS-MML_SVG\"></script><script type=\"text/javascript\">if (window.MathJax && window.MathJax.Hub && window.MathJax.Hub.Config) {window.MathJax.Hub.Config({SVG: {font: \"STIX-Web\"}});}</script>                <script type=\"text/javascript\">window.PlotlyConfig = {MathJaxConfig: 'local'};</script>\n",
              "        <script src=\"https://cdn.plot.ly/plotly-2.12.1.min.js\"></script>                <div id=\"0c8fd9ca-55fe-41c2-bb5f-f946ccad69ec\" class=\"plotly-graph-div\" style=\"height:525px; width:100%;\"></div>            <script type=\"text/javascript\">                                    window.PLOTLYENV=window.PLOTLYENV || {};                                    if (document.getElementById(\"0c8fd9ca-55fe-41c2-bb5f-f946ccad69ec\")) {                    Plotly.newPlot(                        \"0c8fd9ca-55fe-41c2-bb5f-f946ccad69ec\",                        [{\"colorbar\":{\"title\":{\"text\":\"Hip and Knee Care in Dollars\"}},\"colorscale\":[[0.0,\"rgb(247,251,255)\"],[0.125,\"rgb(222,235,247)\"],[0.25,\"rgb(198,219,239)\"],[0.375,\"rgb(158,202,225)\"],[0.5,\"rgb(107,174,214)\"],[0.625,\"rgb(66,146,198)\"],[0.75,\"rgb(33,113,181)\"],[0.875,\"rgb(8,81,156)\"],[1.0,\"rgb(8,48,107)\"]],\"locationmode\":\"USA-states\",\"locations\":[\"AL\",\"AL\",\"AL\",\"AL\",\"AL\",\"AZ\",\"AZ\",\"AR\",\"AR\",\"AR\",\"AR\",\"AR\",\"AR\",\"AR\",\"AR\",\"CA\",\"CA\",\"CA\",\"CA\",\"CA\",\"CA\",\"CA\",\"CA\",\"CA\",\"CA\",\"CA\",\"CA\",\"CA\",\"CA\",\"CA\",\"CA\",\"CA\",\"CA\",\"CA\",\"CA\",\"CA\",\"CA\",\"CA\",\"CA\",\"CT\",\"CT\",\"CT\",\"CT\",\"CT\",\"CT\",\"DC\",\"DC\",\"DC\",\"DC\",\"DC\",\"FL\",\"FL\",\"FL\",\"FL\",\"FL\",\"FL\",\"FL\",\"FL\",\"FL\",\"FL\",\"FL\",\"FL\",\"FL\",\"FL\",\"FL\",\"FL\",\"FL\",\"FL\",\"FL\",\"FL\",\"FL\",\"FL\",\"FL\",\"FL\",\"FL\",\"FL\",\"FL\",\"FL\",\"FL\",\"FL\",\"FL\",\"FL\",\"GA\",\"GA\",\"GA\",\"GA\",\"GA\",\"GA\",\"GA\",\"GA\",\"GA\",\"GA\",\"GA\",\"GA\",\"IL\",\"IL\",\"IL\",\"IL\",\"IL\",\"IL\",\"IL\",\"IL\",\"IL\",\"IL\",\"IL\",\"IL\",\"IL\",\"IL\",\"IL\",\"IL\",\"IA\",\"KS\",\"KY\",\"KY\",\"KY\",\"KY\",\"KY\",\"KY\",\"LA\",\"LA\",\"MD\",\"MD\",\"MD\",\"MD\",\"MD\",\"MD\",\"MA\",\"MA\",\"MA\",\"MA\",\"MI\",\"MI\",\"MI\",\"MI\",\"MN\",\"MS\",\"MS\",\"MS\",\"MS\",\"MS\",\"MS\",\"MO\",\"MO\",\"MO\",\"MO\",\"MO\",\"MO\",\"MO\",\"NE\",\"NV\",\"NV\",\"NV\",\"NV\",\"NV\",\"NV\",\"NV\",\"NV\",\"NV\",\"NV\",\"NJ\",\"NJ\",\"NJ\",\"NJ\",\"NJ\",\"NJ\",\"NJ\",\"NJ\",\"NM\",\"NM\",\"NM\",\"NY\",\"NY\",\"NY\",\"NY\",\"NY\",\"NY\",\"NY\",\"NY\",\"NY\",\"NY\",\"NY\",\"NY\",\"NY\",\"NY\",\"NY\",\"NY\",\"NY\",\"NY\",\"NY\",\"NY\",\"NY\",\"NY\",\"NY\",\"NY\",\"NY\",\"NY\",\"NY\",\"NY\",\"NY\",\"NY\",\"NY\",\"NY\",\"NY\",\"NY\",\"NY\",\"NY\",\"NY\",\"NY\",\"NY\",\"NY\",\"NY\",\"NY\",\"NY\",\"NY\",\"NY\",\"NY\",\"NY\",\"NY\",\"NC\",\"NC\",\"NC\",\"NC\",\"NC\",\"NC\",\"NC\",\"ND\",\"ND\",\"OH\",\"OH\",\"OK\",\"OK\",\"OK\",\"OK\",\"OK\",\"PA\",\"PA\",\"PA\",\"PA\",\"PA\",\"PA\",\"PA\",\"PA\",\"PA\",\"PA\",\"PA\",\"PA\",\"PA\",\"PR\",\"PR\",\"PR\",\"SC\",\"SC\",\"SC\",\"TN\",\"TN\",\"TN\",\"TN\",\"TN\",\"TN\",\"TN\",\"TN\",\"TN\",\"TN\",\"TX\",\"TX\",\"TX\",\"TX\",\"TX\",\"TX\",\"TX\",\"TX\",\"TX\",\"TX\",\"VA\",\"VA\",\"VA\",\"WA\",\"WA\",\"WV\",\"WV\",\"WI\",\"AL\",\"AL\",\"AL\",\"AL\",\"AL\",\"AL\",\"AL\",\"AL\",\"AL\",\"AL\",\"AL\",\"AL\",\"AL\",\"AL\",\"AL\",\"AL\",\"AL\",\"AL\",\"AL\",\"AL\",\"AL\",\"AL\",\"AL\",\"AK\",\"AZ\",\"AZ\",\"AZ\",\"AZ\",\"AZ\",\"AZ\",\"AZ\",\"AZ\",\"AZ\",\"AZ\",\"AZ\",\"AZ\",\"AZ\",\"AZ\",\"AZ\",\"AZ\",\"AR\",\"AR\",\"AR\",\"AR\",\"AR\",\"AR\",\"AR\",\"AR\",\"AR\",\"AR\",\"AR\",\"AR\",\"AR\",\"AR\",\"AR\",\"AR\",\"AR\",\"AR\",\"AR\",\"AR\",\"CA\",\"CA\",\"CA\",\"CA\",\"CA\",\"CA\",\"CA\",\"CA\",\"CA\",\"CA\",\"CA\",\"CA\",\"CA\",\"CA\",\"CA\",\"CA\",\"CA\",\"CA\",\"CA\",\"CA\",\"CA\",\"CA\",\"CA\",\"CA\",\"CA\",\"CA\",\"CA\",\"CA\",\"CA\",\"CA\",\"CA\",\"CA\",\"CA\",\"CA\",\"CA\",\"CA\",\"CA\",\"CA\",\"CA\",\"CA\",\"CA\",\"CA\",\"CA\",\"CA\",\"CA\",\"CA\",\"CA\",\"CA\",\"CA\",\"CA\",\"CA\",\"CA\",\"CA\",\"CA\",\"CA\",\"CA\",\"CA\",\"CA\",\"CA\",\"CA\",\"CA\",\"CA\",\"CA\",\"CA\",\"CA\",\"CA\",\"CA\",\"CA\",\"CA\",\"CA\",\"CA\",\"CA\",\"CA\",\"CA\",\"CA\",\"CA\",\"CA\",\"CA\",\"CA\",\"CA\",\"CA\",\"CA\",\"CA\",\"CA\",\"CA\",\"CA\",\"CA\",\"CA\",\"CA\",\"CA\",\"CA\",\"CA\",\"CA\",\"CA\",\"CA\",\"CA\",\"CO\",\"CO\",\"CO\",\"CT\",\"CT\",\"CT\",\"CT\",\"DE\",\"DE\",\"DC\",\"FL\",\"FL\",\"FL\",\"FL\",\"FL\",\"FL\",\"FL\",\"FL\",\"FL\",\"FL\",\"FL\",\"FL\",\"FL\",\"FL\",\"FL\",\"FL\",\"FL\",\"FL\",\"FL\",\"FL\",\"FL\",\"FL\",\"FL\",\"FL\",\"FL\",\"FL\",\"FL\",\"FL\",\"FL\",\"FL\",\"FL\",\"FL\",\"FL\",\"FL\",\"FL\",\"FL\",\"FL\",\"FL\",\"FL\",\"FL\",\"FL\",\"FL\",\"FL\",\"FL\",\"FL\",\"FL\",\"FL\",\"FL\",\"FL\",\"FL\",\"FL\",\"FL\",\"FL\",\"FL\",\"FL\",\"FL\",\"FL\",\"FL\",\"FL\",\"FL\",\"GA\",\"GA\",\"GA\",\"GA\",\"GA\",\"GA\",\"GA\",\"GA\",\"GA\",\"GA\",\"GA\",\"GA\",\"GA\",\"GA\",\"GA\",\"GA\",\"GA\",\"GA\",\"GA\",\"GA\",\"GA\",\"GA\",\"GA\",\"HI\",\"ID\",\"ID\",\"ID\",\"IL\",\"IL\",\"IL\",\"IL\",\"IL\",\"IL\",\"IL\",\"IL\",\"IL\",\"IL\",\"IL\",\"IL\",\"IL\",\"IL\",\"IL\",\"IL\",\"IL\",\"IL\",\"IL\",\"IL\",\"IL\",\"IL\",\"IL\",\"IL\",\"IL\",\"IL\",\"IL\",\"IL\",\"IL\",\"IL\",\"IL\",\"IN\",\"IN\",\"IN\",\"IN\",\"IN\",\"IN\",\"IN\",\"IN\",\"IN\",\"IN\",\"IA\",\"IA\",\"IA\",\"IA\",\"IA\",\"IA\",\"IA\",\"IA\",\"IA\",\"IA\",\"IA\",\"KS\",\"KS\",\"KS\",\"KS\",\"KS\",\"KS\",\"KS\",\"KS\",\"KS\",\"KS\",\"KY\",\"KY\",\"KY\",\"KY\",\"KY\",\"KY\",\"KY\",\"KY\",\"KY\",\"KY\",\"KY\",\"KY\",\"KY\",\"KY\",\"KY\",\"KY\",\"KY\",\"KY\",\"KY\",\"KY\",\"KY\",\"KY\",\"LA\",\"LA\",\"LA\",\"LA\",\"LA\",\"LA\",\"LA\",\"LA\",\"LA\",\"LA\",\"LA\",\"LA\",\"LA\",\"LA\",\"LA\",\"LA\",\"LA\",\"LA\",\"LA\",\"LA\",\"LA\",\"ME\",\"ME\",\"ME\",\"ME\",\"ME\",\"MD\",\"MD\",\"MD\",\"MD\",\"MD\",\"MD\",\"MA\",\"MA\",\"MA\",\"MA\",\"MA\",\"MA\",\"MA\",\"MA\",\"MA\",\"MA\",\"MA\",\"MA\",\"MA\",\"MA\",\"MA\",\"MI\",\"MI\",\"MI\",\"MI\",\"MI\",\"MI\",\"MI\",\"MI\",\"MI\",\"MI\",\"MI\",\"MI\",\"MI\",\"MN\",\"MN\",\"MN\",\"MN\",\"MN\",\"MS\",\"MS\",\"MS\",\"MS\",\"MS\",\"MS\",\"MS\",\"MS\",\"MS\",\"MS\",\"MS\",\"MS\",\"MS\",\"MS\",\"MS\",\"MS\",\"MS\",\"MS\",\"MS\",\"MS\",\"MS\",\"MS\",\"MS\",\"MS\",\"MS\",\"MO\",\"MO\",\"MO\",\"MO\",\"MO\",\"MO\",\"MO\",\"MO\",\"MO\",\"MO\",\"MO\",\"MO\",\"MO\",\"MO\",\"MO\",\"MO\",\"MO\",\"MT\",\"MT\",\"NE\",\"NE\",\"NE\",\"NV\",\"NV\",\"NV\",\"NV\",\"NV\",\"NV\",\"NH\",\"NH\",\"NH\",\"NH\",\"NJ\",\"NJ\",\"NJ\",\"NJ\",\"NJ\",\"NJ\",\"NJ\",\"NJ\",\"NJ\",\"NJ\",\"NJ\",\"NJ\",\"NJ\",\"NJ\",\"NJ\",\"NJ\",\"NJ\",\"NJ\",\"NJ\",\"NJ\",\"NJ\",\"NJ\",\"NJ\",\"NJ\",\"NJ\",\"NJ\",\"NM\",\"NM\",\"NM\",\"NM\",\"NM\",\"NM\",\"NM\",\"NM\",\"NY\",\"NY\",\"NY\",\"NY\",\"NY\",\"NY\",\"NY\",\"NY\",\"NY\",\"NY\",\"NY\",\"NY\",\"NY\",\"NY\",\"NY\",\"NY\",\"NY\",\"NY\",\"NY\",\"NY\",\"NY\",\"NY\",\"NY\",\"NY\",\"NY\",\"NY\",\"NY\",\"NY\",\"NY\",\"NY\",\"NY\",\"NY\",\"NY\",\"NY\",\"NY\",\"NY\",\"NY\",\"NY\",\"NY\",\"NY\",\"NY\",\"NY\",\"NY\",\"NY\",\"NY\",\"NC\",\"NC\",\"NC\",\"NC\",\"NC\",\"NC\",\"NC\",\"NC\",\"NC\",\"NC\",\"NC\",\"NC\",\"NC\",\"NC\",\"NC\",\"NC\",\"NC\",\"NC\",\"ND\",\"ND\",\"OH\",\"OH\",\"OH\",\"OH\",\"OH\",\"OH\",\"OH\",\"OH\",\"OH\",\"OH\",\"OH\",\"OH\",\"OH\",\"OH\",\"OH\",\"OH\",\"OH\",\"OH\",\"OH\",\"OH\",\"OH\",\"OH\",\"OK\",\"OK\",\"OK\",\"OK\",\"OK\",\"OK\",\"OK\",\"OK\",\"OK\",\"OK\",\"OK\",\"OK\",\"OK\",\"OK\",\"OK\",\"OK\",\"OK\",\"OK\",\"OK\",\"OR\",\"OR\",\"OR\",\"OR\",\"PA\",\"PA\",\"PA\",\"PA\",\"PA\",\"PA\",\"PA\",\"PA\",\"PA\",\"PA\",\"PA\",\"PA\",\"PA\",\"PA\",\"PA\",\"PA\",\"PA\",\"PA\",\"PA\",\"PA\",\"PA\",\"PA\",\"PA\",\"PA\",\"PA\",\"PA\",\"PA\",\"PA\",\"PA\",\"PA\",\"PA\",\"PA\",\"PA\",\"PA\",\"PA\",\"PA\",\"PA\",\"PR\",\"PR\",\"PR\",\"RI\",\"RI\",\"RI\",\"SC\",\"SC\",\"SC\",\"SC\",\"SC\",\"SC\",\"SC\",\"SC\",\"SC\",\"SC\",\"SC\",\"SC\",\"SC\",\"SC\",\"SC\",\"SD\",\"TN\",\"TN\",\"TN\",\"TN\",\"TN\",\"TN\",\"TN\",\"TN\",\"TN\",\"TN\",\"TN\",\"TN\",\"TN\",\"TN\",\"TN\",\"TN\",\"TN\",\"TN\",\"TN\",\"TN\",\"TN\",\"TN\",\"TN\",\"TN\",\"TN\",\"TN\",\"TN\",\"TX\",\"TX\",\"TX\",\"TX\",\"TX\",\"TX\",\"TX\",\"TX\",\"TX\",\"TX\",\"TX\",\"TX\",\"TX\",\"TX\",\"TX\",\"TX\",\"TX\",\"TX\",\"TX\",\"TX\",\"TX\",\"TX\",\"TX\",\"TX\",\"TX\",\"TX\",\"TX\",\"TX\",\"TX\",\"TX\",\"TX\",\"TX\",\"TX\",\"TX\",\"TX\",\"TX\",\"TX\",\"TX\",\"TX\",\"TX\",\"TX\",\"TX\",\"TX\",\"TX\",\"TX\",\"TX\",\"TX\",\"TX\",\"TX\",\"TX\",\"TX\",\"UT\",\"UT\",\"VT\",\"VI\",\"VA\",\"VA\",\"VA\",\"VA\",\"VA\",\"VA\",\"VA\",\"VA\",\"VA\",\"VA\",\"VA\",\"VA\",\"VA\",\"VA\",\"VA\",\"VA\",\"VA\",\"WA\",\"WA\",\"WA\",\"WA\",\"WA\",\"WA\",\"WA\",\"WA\",\"WA\",\"WA\",\"WA\",\"WA\",\"WA\",\"WA\",\"WA\",\"WA\",\"WA\",\"WV\",\"WV\",\"WV\",\"WV\",\"WV\",\"WV\",\"WV\",\"WV\",\"WV\",\"WV\",\"WI\",\"WI\",\"WI\",\"WI\",\"WI\",\"WY\",\"WY\",\"TX\",\"TX\",\"AL\",\"AL\",\"AL\",\"AL\",\"AL\",\"AL\",\"AL\",\"AL\",\"AL\",\"AL\",\"AL\",\"AL\",\"AL\",\"AL\",\"AL\",\"AL\",\"AL\",\"AL\",\"AL\",\"AL\",\"AL\",\"AL\",\"AL\",\"AL\",\"AL\",\"AL\",\"AL\",\"AL\",\"AL\",\"AL\",\"AL\",\"AK\",\"AK\",\"AK\",\"AZ\",\"AZ\",\"AZ\",\"AZ\",\"AZ\",\"AZ\",\"AZ\",\"AZ\",\"AZ\",\"AZ\",\"AZ\",\"AZ\",\"AZ\",\"AZ\",\"AZ\",\"AZ\",\"AZ\",\"AZ\",\"AZ\",\"AR\",\"AR\",\"AR\",\"AR\",\"AR\",\"AR\",\"AR\",\"AR\",\"AR\",\"AR\",\"AR\",\"AR\",\"AR\",\"AR\",\"AR\",\"AR\",\"AR\",\"AR\",\"AR\",\"AR\",\"AR\",\"AR\",\"AR\",\"CA\",\"CA\",\"CA\",\"CA\",\"CA\",\"CA\",\"CA\",\"CA\",\"CA\",\"CA\",\"CA\",\"CA\",\"CA\",\"CA\",\"CA\",\"CA\",\"CA\",\"CA\",\"CA\",\"CA\",\"CA\",\"CA\",\"CA\",\"CA\",\"CA\",\"CA\",\"CA\",\"CA\",\"CA\",\"CA\",\"CA\",\"CA\",\"CA\",\"CA\",\"CA\",\"CA\",\"CA\",\"CA\",\"CA\",\"CA\",\"CA\",\"CA\",\"CA\",\"CA\",\"CA\",\"CA\",\"CA\",\"CA\",\"CA\",\"CA\",\"CA\",\"CA\",\"CA\",\"CA\",\"CA\",\"CA\",\"CA\",\"CA\",\"CA\",\"CA\",\"CA\",\"CA\",\"CA\",\"CA\",\"CA\",\"CA\",\"CA\",\"CA\",\"CA\",\"CA\",\"CA\",\"CA\",\"CA\",\"CA\",\"CA\",\"CA\",\"CA\",\"CA\",\"CA\",\"CA\",\"CA\",\"CA\",\"CA\",\"CA\",\"CA\",\"CA\",\"CA\",\"CA\",\"CA\",\"CA\",\"CA\",\"CA\",\"CA\",\"CO\",\"CO\",\"CO\",\"CO\",\"CO\",\"CO\",\"CO\",\"CO\",\"CO\",\"CO\",\"CO\",\"CO\",\"CO\",\"CO\",\"CO\",\"CO\",\"CO\",\"CO\",\"CO\",\"CO\",\"CO\",\"CO\",\"CO\",\"CT\",\"CT\",\"CT\",\"CT\",\"CT\",\"CT\",\"CT\",\"CT\",\"CT\",\"DE\",\"DE\",\"DE\",\"DC\",\"FL\",\"FL\",\"FL\",\"FL\",\"FL\",\"FL\",\"FL\",\"FL\",\"FL\",\"FL\",\"FL\",\"FL\",\"FL\",\"FL\",\"FL\",\"FL\",\"FL\",\"FL\",\"FL\",\"FL\",\"FL\",\"FL\",\"FL\",\"FL\",\"FL\",\"FL\",\"FL\",\"FL\",\"FL\",\"FL\",\"FL\",\"FL\",\"FL\",\"FL\",\"FL\",\"FL\",\"FL\",\"FL\",\"FL\",\"FL\",\"GA\",\"GA\",\"GA\",\"GA\",\"GA\",\"GA\",\"GA\",\"GA\",\"GA\",\"GA\",\"GA\",\"GA\",\"GA\",\"GA\",\"GA\",\"GA\",\"GA\",\"GA\",\"GA\",\"GA\",\"GA\",\"GA\",\"GA\",\"GA\",\"GA\",\"GA\",\"GA\",\"GA\",\"GA\",\"GA\",\"GA\",\"GA\",\"GA\",\"GA\",\"GA\",\"GA\",\"GA\",\"GA\",\"GA\",\"GA\",\"GA\",\"GA\",\"HI\",\"HI\",\"HI\",\"HI\",\"ID\",\"ID\",\"ID\",\"ID\",\"ID\",\"ID\",\"IL\",\"IL\",\"IL\",\"IL\",\"IL\",\"IL\",\"IL\",\"IL\",\"IL\",\"IL\",\"IL\",\"IL\",\"IL\",\"IL\",\"IL\",\"IL\",\"IL\",\"IL\",\"IL\",\"IL\",\"IL\",\"IL\",\"IL\",\"IL\",\"IL\",\"IL\",\"IL\",\"IL\",\"IL\",\"IL\",\"IL\",\"IL\",\"IL\",\"IL\",\"IL\",\"IL\",\"IL\",\"IL\",\"IL\",\"IL\",\"IL\",\"IL\",\"IL\",\"IL\",\"IL\",\"IL\",\"IL\",\"IL\",\"IL\",\"IL\",\"IL\",\"IL\",\"IL\",\"IL\",\"IL\",\"IN\",\"IN\",\"IN\",\"IN\",\"IN\",\"IN\",\"IN\",\"IN\",\"IN\",\"IN\",\"IN\",\"IN\",\"IN\",\"IN\",\"IN\",\"IN\",\"IN\",\"IN\",\"IN\",\"IN\",\"IN\",\"IN\",\"IN\",\"IN\",\"IN\",\"IN\",\"IN\",\"IN\",\"IN\",\"IN\",\"IN\",\"IN\",\"IN\",\"IN\",\"IN\",\"IN\",\"IA\",\"IA\",\"IA\",\"IA\",\"IA\",\"IA\",\"IA\",\"IA\",\"IA\",\"IA\",\"IA\",\"IA\",\"IA\",\"IA\",\"IA\",\"IA\",\"IA\",\"IA\",\"IA\",\"IA\",\"IA\",\"IA\",\"IA\",\"IA\",\"IA\",\"IA\",\"IA\",\"IA\",\"IA\",\"KS\",\"KS\",\"KS\",\"KS\",\"KS\",\"KS\",\"KS\",\"KS\",\"KS\",\"KS\",\"KS\",\"KS\",\"KS\",\"KS\",\"KS\",\"KS\",\"KS\",\"KS\",\"KS\",\"KS\",\"KS\",\"KS\",\"KS\",\"KS\",\"KS\",\"KS\",\"KS\",\"KS\",\"KS\",\"KS\",\"KY\",\"KY\",\"KY\",\"KY\",\"KY\",\"KY\",\"KY\",\"KY\",\"KY\",\"KY\",\"KY\",\"KY\",\"KY\",\"KY\",\"KY\",\"KY\",\"KY\",\"KY\",\"KY\",\"KY\",\"KY\",\"KY\",\"KY\",\"KY\",\"KY\",\"KY\",\"KY\",\"KY\",\"KY\",\"KY\",\"KY\",\"KY\",\"LA\",\"LA\",\"LA\",\"LA\",\"LA\",\"LA\",\"LA\",\"LA\",\"LA\",\"LA\",\"LA\",\"LA\",\"LA\",\"LA\",\"LA\",\"LA\",\"LA\",\"LA\",\"LA\",\"LA\",\"LA\",\"LA\",\"LA\",\"LA\",\"LA\",\"LA\",\"LA\",\"LA\",\"LA\",\"LA\",\"LA\",\"LA\",\"LA\",\"LA\",\"LA\",\"ME\",\"ME\",\"ME\",\"ME\",\"ME\",\"ME\",\"ME\",\"ME\",\"ME\",\"ME\",\"MD\",\"MD\",\"MD\",\"MD\",\"MD\",\"MD\",\"MD\",\"MD\",\"MD\",\"MD\",\"MD\",\"MD\",\"MD\",\"MD\",\"MD\",\"MD\",\"MD\",\"MD\",\"MD\",\"MA\",\"MA\",\"MA\",\"MA\",\"MA\",\"MA\",\"MA\",\"MA\",\"MA\",\"MA\",\"MA\",\"MA\",\"MA\",\"MA\",\"MA\",\"MA\",\"MA\",\"MA\",\"MA\",\"MI\",\"MI\",\"MI\",\"MI\",\"MI\",\"MI\",\"MI\",\"MI\",\"MI\",\"MI\",\"MI\",\"MI\",\"MI\",\"MI\",\"MI\",\"MI\",\"MI\",\"MI\",\"MI\",\"MI\",\"MI\",\"MI\",\"MI\",\"MI\",\"MI\",\"MI\",\"MI\",\"MI\",\"MI\",\"MI\",\"MI\",\"MI\",\"MI\",\"MI\",\"MI\",\"MI\",\"MI\",\"MN\",\"MN\",\"MN\",\"MN\",\"MN\",\"MN\",\"MN\",\"MN\",\"MN\",\"MN\",\"MN\",\"MN\",\"MN\",\"MN\",\"MN\",\"MN\",\"MN\",\"MN\",\"MN\",\"MS\",\"MS\",\"MS\",\"MS\",\"MS\",\"MS\",\"MS\",\"MS\",\"MS\",\"MS\",\"MS\",\"MS\",\"MS\",\"MS\",\"MS\",\"MS\",\"MS\",\"MS\",\"MS\",\"MS\",\"MS\",\"MS\",\"MS\",\"MS\",\"MS\",\"MS\",\"MO\",\"MO\",\"MO\",\"MO\",\"MO\",\"MO\",\"MO\",\"MO\",\"MO\",\"MO\",\"MO\",\"MO\",\"MO\",\"MO\",\"MO\",\"MO\",\"MO\",\"MO\",\"MO\",\"MO\",\"MO\",\"MO\",\"MO\",\"MO\",\"MO\",\"MO\",\"MO\",\"MO\",\"MO\",\"MO\",\"MO\",\"MO\",\"MO\",\"MO\",\"MO\",\"MO\",\"MT\",\"MT\",\"MT\",\"MT\",\"MT\",\"MT\",\"MT\",\"MT\",\"NE\",\"NE\",\"NE\",\"NE\",\"NE\",\"NE\",\"NE\",\"NE\",\"NE\",\"NE\",\"NE\",\"NE\",\"NE\",\"NE\",\"NE\",\"NE\",\"NE\",\"NE\",\"NE\",\"NE\",\"NE\",\"NE\",\"NE\",\"NE\",\"NE\",\"NE\",\"NV\",\"NV\",\"NV\",\"NV\",\"NV\",\"NV\",\"NV\",\"NH\",\"NH\",\"NH\",\"NH\",\"NH\",\"NH\",\"NH\",\"NH\",\"NH\",\"NJ\",\"NJ\",\"NJ\",\"NJ\",\"NJ\",\"NJ\",\"NJ\",\"NJ\",\"NJ\",\"NJ\",\"NJ\",\"NJ\",\"NJ\",\"NJ\",\"NM\",\"NM\",\"NM\",\"NM\",\"NM\",\"NM\",\"NM\",\"NM\",\"NM\",\"NM\",\"NM\",\"NM\",\"NM\",\"NY\",\"NY\",\"NY\",\"NY\",\"NY\",\"NY\",\"NY\",\"NY\",\"NY\",\"NY\",\"NY\",\"NY\",\"NY\",\"NY\",\"NY\",\"NY\",\"NY\",\"NY\",\"NY\",\"NY\",\"NY\",\"NY\",\"NY\",\"NY\",\"NY\",\"NY\",\"NY\",\"NY\",\"NY\",\"NY\",\"NY\",\"NY\",\"NY\",\"NY\",\"NY\",\"NY\",\"NY\",\"NY\",\"NY\",\"NY\",\"NC\",\"NC\",\"NC\",\"NC\",\"NC\",\"NC\",\"NC\",\"NC\",\"NC\",\"NC\",\"NC\",\"NC\",\"NC\",\"NC\",\"NC\",\"NC\",\"NC\",\"NC\",\"NC\",\"NC\",\"NC\",\"NC\",\"NC\",\"NC\",\"NC\",\"NC\",\"NC\",\"NC\",\"NC\",\"NC\",\"NC\",\"NC\",\"NC\",\"NC\",\"NC\",\"NC\",\"ND\",\"ND\",\"ND\",\"ND\",\"ND\",\"ND\",\"ND\",\"ND\",\"OH\",\"OH\",\"OH\",\"OH\",\"OH\",\"OH\",\"OH\",\"OH\",\"OH\",\"OH\",\"OH\",\"OH\",\"OH\",\"OH\",\"OH\",\"OH\",\"OH\",\"OH\",\"OH\",\"OH\",\"OH\",\"OH\",\"OH\",\"OH\",\"OH\",\"OH\",\"OH\",\"OH\",\"OH\",\"OH\",\"OH\",\"OH\",\"OH\",\"OH\",\"OH\",\"OH\",\"OH\",\"OH\",\"OH\",\"OH\",\"OH\",\"OH\",\"OH\",\"OH\",\"OH\",\"OH\",\"OH\",\"OH\",\"OH\",\"OH\",\"OK\",\"OK\",\"OK\",\"OK\",\"OK\",\"OK\",\"OK\",\"OK\",\"OK\",\"OK\",\"OK\",\"OK\",\"OK\",\"OK\",\"OK\",\"OK\",\"OK\",\"OK\",\"OK\",\"OK\",\"OK\",\"OK\",\"OK\",\"OK\",\"OK\",\"OK\",\"OK\",\"OK\",\"OR\",\"OR\",\"OR\",\"OR\",\"OR\",\"OR\",\"OR\",\"OR\",\"OR\",\"OR\",\"OR\",\"OR\",\"OR\",\"OR\",\"OR\",\"OR\",\"OR\",\"OR\",\"OR\",\"OR\",\"OR\",\"OR\",\"OR\",\"PA\",\"PA\",\"PA\",\"PA\",\"PA\",\"PA\",\"PA\",\"PA\",\"PA\",\"PA\",\"PA\",\"PA\",\"PA\",\"PA\",\"PA\",\"PA\",\"PA\",\"PA\",\"PA\",\"PA\",\"PA\",\"PA\",\"PA\",\"PA\",\"PA\",\"PA\",\"PA\",\"PA\",\"PA\",\"PA\",\"PA\",\"PA\",\"PA\",\"PA\",\"PA\",\"PA\",\"PA\",\"PA\",\"PA\",\"PA\",\"PA\",\"PA\",\"PA\",\"PA\",\"PA\",\"PA\",\"PA\",\"PA\",\"PA\",\"PA\",\"PA\",\"PA\",\"PA\",\"RI\",\"RI\",\"RI\",\"SC\",\"SC\",\"SC\",\"SC\",\"SC\",\"SC\",\"SC\",\"SC\",\"SC\",\"SC\",\"SC\",\"SC\",\"SC\",\"SC\",\"SC\",\"SC\",\"SC\",\"SD\",\"SD\",\"SD\",\"SD\",\"SD\",\"SD\",\"TN\",\"TN\",\"TN\",\"TN\",\"TN\",\"TN\",\"TN\",\"TN\",\"TN\",\"TN\",\"TN\",\"TN\",\"TN\",\"TN\",\"TN\",\"TN\",\"TN\",\"TN\",\"TN\",\"TN\",\"TN\",\"TN\",\"TN\",\"TN\",\"TN\",\"TN\",\"TN\",\"TN\",\"TN\",\"TN\",\"TN\",\"TN\",\"TX\",\"TX\",\"TX\",\"TX\",\"TX\",\"TX\",\"TX\",\"TX\",\"TX\",\"TX\",\"TX\",\"TX\",\"TX\",\"TX\",\"TX\",\"TX\",\"TX\",\"TX\",\"TX\",\"TX\",\"TX\",\"TX\",\"TX\",\"TX\",\"TX\",\"TX\",\"TX\",\"TX\",\"TX\",\"TX\",\"TX\",\"TX\",\"TX\",\"TX\",\"TX\",\"TX\",\"TX\",\"TX\",\"TX\",\"TX\",\"TX\",\"TX\",\"TX\",\"TX\",\"TX\",\"TX\",\"TX\",\"TX\",\"TX\",\"TX\",\"TX\",\"TX\",\"TX\",\"TX\",\"TX\",\"TX\",\"TX\",\"TX\",\"TX\",\"TX\",\"TX\",\"TX\",\"TX\",\"TX\",\"TX\",\"TX\",\"TX\",\"TX\",\"TX\",\"TX\",\"TX\",\"TX\",\"TX\",\"TX\",\"TX\",\"TX\",\"TX\",\"TX\",\"TX\",\"TX\",\"TX\",\"TX\",\"UT\",\"UT\",\"UT\",\"UT\",\"UT\",\"UT\",\"UT\",\"VT\",\"VT\",\"VT\",\"VT\",\"VT\",\"VT\",\"VI\",\"VA\",\"VA\",\"VA\",\"VA\",\"VA\",\"VA\",\"VA\",\"VA\",\"VA\",\"VA\",\"VA\",\"VA\",\"VA\",\"VA\",\"VA\",\"VA\",\"VA\",\"VA\",\"VA\",\"VA\",\"VA\",\"VA\",\"VA\",\"VA\",\"WA\",\"WA\",\"WA\",\"WA\",\"WA\",\"WA\",\"WA\",\"WA\",\"WA\",\"WA\",\"WA\",\"WA\",\"WA\",\"WA\",\"WA\",\"WA\",\"WA\",\"WA\",\"WA\",\"WA\",\"WA\",\"WA\",\"WA\",\"WA\",\"WV\",\"WV\",\"WV\",\"WV\",\"WV\",\"WV\",\"WV\",\"WV\",\"WV\",\"WV\",\"WV\",\"WV\",\"WV\",\"WV\",\"WV\",\"WV\",\"WV\",\"WV\",\"WI\",\"WI\",\"WI\",\"WI\",\"WI\",\"WI\",\"WI\",\"WI\",\"WI\",\"WI\",\"WI\",\"WI\",\"WI\",\"WI\",\"WI\",\"WI\",\"WI\",\"WI\",\"WI\",\"WI\",\"WI\",\"WY\",\"WY\",\"WY\",\"WY\",\"WY\",\"WY\",\"WY\",\"WY\",\"WY\",\"TX\",\"TX\",\"TX\",\"TX\",\"TX\",\"TX\",\"TX\",\"TX\",\"TX\",\"TX\",\"TX\",\"TX\",\"TX\",\"AL\",\"AL\",\"AL\",\"AL\",\"AL\",\"AL\",\"AL\",\"AL\",\"AL\",\"AL\",\"AL\",\"AL\",\"AL\",\"AL\",\"AL\",\"AK\",\"AK\",\"AK\",\"AK\",\"AZ\",\"AZ\",\"AZ\",\"AZ\",\"AZ\",\"AZ\",\"AZ\",\"AZ\",\"AZ\",\"AZ\",\"AZ\",\"AZ\",\"AZ\",\"AZ\",\"AR\",\"AR\",\"AR\",\"AR\",\"AR\",\"AR\",\"AR\",\"AR\",\"AR\",\"CA\",\"CA\",\"CA\",\"CA\",\"CA\",\"CA\",\"CA\",\"CA\",\"CA\",\"CA\",\"CA\",\"CA\",\"CA\",\"CA\",\"CA\",\"CA\",\"CA\",\"CA\",\"CA\",\"CA\",\"CA\",\"CA\",\"CA\",\"CA\",\"CA\",\"CA\",\"CA\",\"CA\",\"CA\",\"CA\",\"CA\",\"CA\",\"CA\",\"CA\",\"CA\",\"CA\",\"CA\",\"CA\",\"CA\",\"CA\",\"CA\",\"CA\",\"CA\",\"CA\",\"CA\",\"CA\",\"CA\",\"CA\",\"CA\",\"CA\",\"CA\",\"CA\",\"CA\",\"CA\",\"CA\",\"CA\",\"CA\",\"CA\",\"CA\",\"CA\",\"CA\",\"CA\",\"CO\",\"CO\",\"CO\",\"CO\",\"CO\",\"CO\",\"CO\",\"CO\",\"CO\",\"CO\",\"CO\",\"CO\",\"CO\",\"CO\",\"CO\",\"CO\",\"CO\",\"CO\",\"CO\",\"CO\",\"CO\",\"CO\",\"CO\",\"CO\",\"CO\",\"CT\",\"CT\",\"CT\",\"CT\",\"CT\",\"CT\",\"CT\",\"CT\",\"CT\",\"DE\",\"FL\",\"FL\",\"FL\",\"FL\",\"FL\",\"FL\",\"FL\",\"FL\",\"FL\",\"FL\",\"FL\",\"FL\",\"FL\",\"FL\",\"FL\",\"FL\",\"FL\",\"FL\",\"FL\",\"FL\",\"FL\",\"FL\",\"FL\",\"FL\",\"FL\",\"FL\",\"FL\",\"FL\",\"GA\",\"GA\",\"GA\",\"GA\",\"GA\",\"GA\",\"GA\",\"GA\",\"GA\",\"GA\",\"GA\",\"GA\",\"GA\",\"GA\",\"GA\",\"GA\",\"GA\",\"GA\",\"GA\",\"GA\",\"GA\",\"GA\",\"GA\",\"GA\",\"GA\",\"GA\",\"HI\",\"HI\",\"HI\",\"HI\",\"HI\",\"ID\",\"ID\",\"ID\",\"ID\",\"ID\",\"ID\",\"ID\",\"ID\",\"ID\",\"ID\",\"ID\",\"IL\",\"IL\",\"IL\",\"IL\",\"IL\",\"IL\",\"IL\",\"IL\",\"IL\",\"IL\",\"IL\",\"IL\",\"IL\",\"IL\",\"IL\",\"IL\",\"IL\",\"IL\",\"IL\",\"IL\",\"IL\",\"IL\",\"IL\",\"IL\",\"IL\",\"IL\",\"IL\",\"IL\",\"IL\",\"IL\",\"IL\",\"IL\",\"IL\",\"IL\",\"IL\",\"IL\",\"IL\",\"IL\",\"IL\",\"IL\",\"IL\",\"IL\",\"IL\",\"IL\",\"IL\",\"IL\",\"IL\",\"IL\",\"IL\",\"IN\",\"IN\",\"IN\",\"IN\",\"IN\",\"IN\",\"IN\",\"IN\",\"IN\",\"IN\",\"IN\",\"IN\",\"IN\",\"IN\",\"IN\",\"IN\",\"IN\",\"IN\",\"IN\",\"IN\",\"IN\",\"IN\",\"IN\",\"IN\",\"IN\",\"IN\",\"IN\",\"IN\",\"IN\",\"IN\",\"IN\",\"IN\",\"IN\",\"IN\",\"IN\",\"IN\",\"IN\",\"IN\",\"IN\",\"IN\",\"IN\",\"IN\",\"IN\",\"IN\",\"IN\",\"IN\",\"IN\",\"IN\",\"IN\",\"IN\",\"IN\",\"IA\",\"IA\",\"IA\",\"IA\",\"IA\",\"IA\",\"IA\",\"IA\",\"IA\",\"IA\",\"IA\",\"IA\",\"IA\",\"IA\",\"IA\",\"IA\",\"IA\",\"IA\",\"IA\",\"IA\",\"IA\",\"IA\",\"IA\",\"IA\",\"IA\",\"IA\",\"IA\",\"IA\",\"IA\",\"IA\",\"IA\",\"IA\",\"IA\",\"IA\",\"IA\",\"IA\",\"KS\",\"KS\",\"KS\",\"KS\",\"KS\",\"KS\",\"KS\",\"KS\",\"KS\",\"KS\",\"KS\",\"KS\",\"KS\",\"KS\",\"KS\",\"KS\",\"KS\",\"KS\",\"KS\",\"KS\",\"KS\",\"KY\",\"KY\",\"KY\",\"KY\",\"KY\",\"KY\",\"KY\",\"KY\",\"KY\",\"KY\",\"KY\",\"KY\",\"KY\",\"KY\",\"KY\",\"KY\",\"KY\",\"KY\",\"KY\",\"KY\",\"KY\",\"LA\",\"LA\",\"LA\",\"LA\",\"LA\",\"LA\",\"LA\",\"LA\",\"LA\",\"LA\",\"LA\",\"LA\",\"LA\",\"LA\",\"LA\",\"LA\",\"LA\",\"LA\",\"LA\",\"LA\",\"ME\",\"ME\",\"ME\",\"ME\",\"ME\",\"ME\",\"ME\",\"ME\",\"ME\",\"ME\",\"ME\",\"ME\",\"ME\",\"ME\",\"MD\",\"MD\",\"MD\",\"MD\",\"MD\",\"MD\",\"MD\",\"MD\",\"MD\",\"MA\",\"MA\",\"MA\",\"MA\",\"MA\",\"MA\",\"MA\",\"MA\",\"MA\",\"MA\",\"MA\",\"MI\",\"MI\",\"MI\",\"MI\",\"MI\",\"MI\",\"MI\",\"MI\",\"MI\",\"MI\",\"MI\",\"MI\",\"MI\",\"MI\",\"MI\",\"MI\",\"MI\",\"MI\",\"MI\",\"MI\",\"MI\",\"MI\",\"MI\",\"MI\",\"MI\",\"MI\",\"MI\",\"MI\",\"MI\",\"MI\",\"MI\",\"MI\",\"MI\",\"MI\",\"MI\",\"MI\",\"MI\",\"MI\",\"MI\",\"MI\",\"MI\",\"MI\",\"MI\",\"MI\",\"MI\",\"MI\",\"MI\",\"MI\",\"MI\",\"MI\",\"MI\",\"MN\",\"MN\",\"MN\",\"MN\",\"MN\",\"MN\",\"MN\",\"MN\",\"MN\",\"MN\",\"MN\",\"MN\",\"MN\",\"MN\",\"MN\",\"MN\",\"MN\",\"MN\",\"MN\",\"MN\",\"MN\",\"MN\",\"MN\",\"MN\",\"MN\",\"MN\",\"MN\",\"MN\",\"MN\",\"MN\",\"MN\",\"MN\",\"MN\",\"MN\",\"MN\",\"MN\",\"MN\",\"MN\",\"MN\",\"MN\",\"MN\",\"MN\",\"MN\",\"MS\",\"MS\",\"MS\",\"MS\",\"MS\",\"MS\",\"MS\",\"MO\",\"MO\",\"MO\",\"MO\",\"MO\",\"MO\",\"MO\",\"MO\",\"MO\",\"MO\",\"MO\",\"MO\",\"MO\",\"MO\",\"MO\",\"MO\",\"MO\",\"MO\",\"MO\",\"MO\",\"MO\",\"MO\",\"MO\",\"MT\",\"MT\",\"MT\",\"MT\",\"MT\",\"MT\",\"MT\",\"MT\",\"MT\",\"MT\",\"MT\",\"MT\",\"NE\",\"NE\",\"NE\",\"NE\",\"NE\",\"NE\",\"NE\",\"NE\",\"NE\",\"NE\",\"NE\",\"NE\",\"NE\",\"NE\",\"NE\",\"NE\",\"NE\",\"NE\",\"NE\",\"NE\",\"NE\",\"NE\",\"NE\",\"NE\",\"NE\",\"NV\",\"NV\",\"NV\",\"NV\",\"NH\",\"NH\",\"NH\",\"NH\",\"NH\",\"NH\",\"NH\",\"NH\",\"NH\",\"NH\",\"NJ\",\"NJ\",\"NJ\",\"NJ\",\"NJ\",\"NJ\",\"NJ\",\"NJ\",\"NJ\",\"NJ\",\"NM\",\"NM\",\"NM\",\"NM\",\"NM\",\"NM\",\"NY\",\"NY\",\"NY\",\"NY\",\"NY\",\"NY\",\"NY\",\"NY\",\"NY\",\"NY\",\"NY\",\"NY\",\"NY\",\"NY\",\"NY\",\"NY\",\"NC\",\"NC\",\"NC\",\"NC\",\"NC\",\"NC\",\"NC\",\"NC\",\"NC\",\"NC\",\"NC\",\"NC\",\"NC\",\"NC\",\"NC\",\"NC\",\"NC\",\"NC\",\"NC\",\"NC\",\"NC\",\"NC\",\"NC\",\"NC\",\"NC\",\"NC\",\"ND\",\"ND\",\"ND\",\"ND\",\"ND\",\"ND\",\"ND\",\"ND\",\"OH\",\"OH\",\"OH\",\"OH\",\"OH\",\"OH\",\"OH\",\"OH\",\"OH\",\"OH\",\"OH\",\"OH\",\"OH\",\"OH\",\"OH\",\"OH\",\"OH\",\"OH\",\"OH\",\"OH\",\"OH\",\"OH\",\"OH\",\"OH\",\"OH\",\"OH\",\"OH\",\"OH\",\"OH\",\"OH\",\"OH\",\"OH\",\"OH\",\"OH\",\"OH\",\"OH\",\"OH\",\"OH\",\"OH\",\"OH\",\"OH\",\"OH\",\"OH\",\"OH\",\"OH\",\"OH\",\"OH\",\"OH\",\"OH\",\"OH\",\"OH\",\"OH\",\"OK\",\"OK\",\"OK\",\"OK\",\"OK\",\"OK\",\"OK\",\"OK\",\"OK\",\"OK\",\"OK\",\"OK\",\"OK\",\"OK\",\"OK\",\"OK\",\"OK\",\"OK\",\"OK\",\"OK\",\"OK\",\"OK\",\"OK\",\"OK\",\"OR\",\"OR\",\"OR\",\"OR\",\"OR\",\"OR\",\"OR\",\"OR\",\"OR\",\"OR\",\"OR\",\"OR\",\"OR\",\"OR\",\"OR\",\"OR\",\"OR\",\"OR\",\"OR\",\"OR\",\"OR\",\"OR\",\"PA\",\"PA\",\"PA\",\"PA\",\"PA\",\"PA\",\"PA\",\"PA\",\"PA\",\"PA\",\"PA\",\"PA\",\"PA\",\"PA\",\"PA\",\"PA\",\"PA\",\"PA\",\"PA\",\"PA\",\"PA\",\"PA\",\"PA\",\"PA\",\"PA\",\"PA\",\"PA\",\"PA\",\"PA\",\"PA\",\"PA\",\"PA\",\"PA\",\"PA\",\"PA\",\"PA\",\"RI\",\"RI\",\"SC\",\"SC\",\"SC\",\"SC\",\"SC\",\"SC\",\"SC\",\"SC\",\"SC\",\"SC\",\"SC\",\"SC\",\"SC\",\"SC\",\"SC\",\"SD\",\"SD\",\"SD\",\"SD\",\"SD\",\"SD\",\"SD\",\"TN\",\"TN\",\"TN\",\"TN\",\"TN\",\"TN\",\"TN\",\"TN\",\"TN\",\"TN\",\"TN\",\"TN\",\"TN\",\"TN\",\"TN\",\"TN\",\"TN\",\"TN\",\"TN\",\"TN\",\"TN\",\"TX\",\"TX\",\"TX\",\"TX\",\"TX\",\"TX\",\"TX\",\"TX\",\"TX\",\"TX\",\"TX\",\"TX\",\"TX\",\"TX\",\"TX\",\"TX\",\"TX\",\"TX\",\"TX\",\"TX\",\"TX\",\"TX\",\"TX\",\"TX\",\"TX\",\"TX\",\"TX\",\"TX\",\"TX\",\"TX\",\"TX\",\"TX\",\"TX\",\"TX\",\"TX\",\"TX\",\"TX\",\"TX\",\"TX\",\"TX\",\"TX\",\"TX\",\"TX\",\"TX\",\"TX\",\"TX\",\"TX\",\"TX\",\"TX\",\"TX\",\"TX\",\"TX\",\"TX\",\"TX\",\"TX\",\"TX\",\"TX\",\"TX\",\"TX\",\"TX\",\"TX\",\"TX\",\"TX\",\"TX\",\"TX\",\"TX\",\"TX\",\"TX\",\"TX\",\"TX\",\"TX\",\"TX\",\"TX\",\"UT\",\"UT\",\"UT\",\"UT\",\"UT\",\"UT\",\"UT\",\"UT\",\"UT\",\"UT\",\"UT\",\"UT\",\"UT\",\"UT\",\"UT\",\"UT\",\"UT\",\"UT\",\"UT\",\"UT\",\"UT\",\"VT\",\"VT\",\"VT\",\"VT\",\"VT\",\"VA\",\"VA\",\"VA\",\"VA\",\"VA\",\"VA\",\"VA\",\"VA\",\"VA\",\"VA\",\"VA\",\"VA\",\"VA\",\"VA\",\"VA\",\"VA\",\"VA\",\"VA\",\"VA\",\"VA\",\"VA\",\"VA\",\"VA\",\"VA\",\"WA\",\"WA\",\"WA\",\"WA\",\"WA\",\"WA\",\"WA\",\"WA\",\"WA\",\"WA\",\"WA\",\"WA\",\"WA\",\"WA\",\"WA\",\"WA\",\"WA\",\"WA\",\"WA\",\"WV\",\"WV\",\"WV\",\"WV\",\"WV\",\"WV\",\"WV\",\"WV\",\"WI\",\"WI\",\"WI\",\"WI\",\"WI\",\"WI\",\"WI\",\"WI\",\"WI\",\"WI\",\"WI\",\"WI\",\"WI\",\"WI\",\"WI\",\"WI\",\"WI\",\"WI\",\"WI\",\"WI\",\"WI\",\"WI\",\"WI\",\"WI\",\"WI\",\"WI\",\"WI\",\"WI\",\"WI\",\"WI\",\"WI\",\"WI\",\"WI\",\"WI\",\"WI\",\"WI\",\"WI\",\"WI\",\"WI\",\"WI\",\"WI\",\"WI\",\"WI\",\"WI\",\"WI\",\"WI\",\"WI\",\"WI\",\"WI\",\"WI\",\"WI\",\"WI\",\"WI\",\"WI\",\"WI\",\"WI\",\"WI\",\"WI\",\"WI\",\"WY\",\"WY\",\"WY\",\"WY\",\"WY\",\"WY\",\"TX\",\"TX\",\"TX\",\"TX\",\"TX\",\"TX\",\"TX\",\"TX\",\"TX\",\"TX\",\"TX\",\"AL\",\"AL\",\"AL\",\"AL\",\"AL\",\"AK\",\"AK\",\"AZ\",\"AZ\",\"AZ\",\"AZ\",\"AR\",\"AR\",\"CA\",\"CA\",\"CA\",\"CA\",\"CA\",\"CA\",\"CA\",\"CA\",\"CA\",\"CA\",\"CA\",\"CA\",\"CA\",\"CA\",\"CA\",\"CA\",\"CA\",\"CA\",\"CA\",\"CA\",\"CA\",\"CO\",\"CO\",\"CO\",\"CO\",\"CO\",\"CO\",\"FL\",\"FL\",\"FL\",\"FL\",\"FL\",\"FL\",\"FL\",\"FL\",\"FL\",\"GA\",\"GA\",\"GA\",\"GA\",\"GA\",\"HI\",\"HI\",\"HI\",\"ID\",\"ID\",\"ID\",\"ID\",\"ID\",\"IL\",\"IL\",\"IL\",\"IL\",\"IL\",\"IL\",\"IL\",\"IL\",\"IL\",\"IL\",\"IL\",\"IL\",\"IN\",\"IN\",\"IN\",\"IN\",\"IN\",\"IN\",\"IN\",\"IN\",\"IN\",\"IN\",\"IN\",\"IN\",\"IN\",\"IA\",\"IA\",\"IA\",\"IA\",\"IA\",\"IA\",\"IA\",\"KS\",\"KS\",\"KS\",\"KS\",\"KS\",\"KS\",\"KS\",\"KS\",\"KY\",\"LA\",\"LA\",\"LA\",\"ME\",\"ME\",\"ME\",\"MD\",\"MD\",\"MD\",\"MD\",\"MD\",\"MA\",\"MA\",\"MA\",\"MA\",\"MA\",\"MA\",\"MA\",\"MI\",\"MI\",\"MI\",\"MI\",\"MI\",\"MI\",\"MI\",\"MI\",\"MI\",\"MI\",\"MI\",\"MN\",\"MN\",\"MN\",\"MN\",\"MN\",\"MN\",\"MN\",\"MN\",\"MS\",\"MO\",\"MO\",\"MO\",\"MO\",\"MO\",\"MO\",\"MT\",\"MT\",\"MT\",\"NE\",\"NE\",\"NH\",\"NH\",\"NH\",\"NJ\",\"NJ\",\"NJ\",\"NJ\",\"NJ\",\"NJ\",\"NY\",\"NC\",\"NC\",\"NC\",\"NC\",\"NC\",\"NC\",\"NC\",\"OH\",\"OH\",\"OH\",\"OH\",\"OH\",\"OH\",\"OH\",\"OH\",\"OH\",\"OH\",\"OH\",\"OH\",\"OH\",\"OH\",\"OH\",\"OH\",\"OH\",\"OH\",\"OH\",\"OH\",\"OK\",\"OK\",\"OK\",\"OK\",\"OK\",\"OK\",\"OK\",\"OK\",\"OK\",\"OR\",\"OR\",\"OR\",\"PA\",\"PA\",\"PA\",\"PA\",\"PA\",\"PA\",\"PA\",\"PA\",\"PA\",\"PA\",\"PA\",\"RI\",\"RI\",\"SC\",\"SC\",\"SC\",\"SC\",\"SC\",\"SD\",\"SD\",\"SD\",\"SD\",\"SD\",\"TN\",\"TX\",\"TX\",\"TX\",\"TX\",\"TX\",\"TX\",\"TX\",\"TX\",\"TX\",\"TX\",\"TX\",\"TX\",\"TX\",\"TX\",\"TX\",\"TX\",\"UT\",\"UT\",\"UT\",\"UT\",\"VA\",\"VA\",\"VA\",\"VA\",\"VA\",\"VA\",\"VA\",\"VA\",\"VA\",\"WA\",\"WA\",\"WA\",\"WA\",\"WA\",\"WA\",\"WV\",\"WI\",\"WI\",\"WI\",\"WI\",\"WI\",\"WI\",\"WI\",\"WI\",\"WI\",\"WI\",\"WI\",\"WI\",\"WI\",\"WI\",\"WI\",\"WI\",\"WI\",\"WI\",\"WI\",\"WI\",\"WI\",\"WI\",\"WY\",\"TX\",\"TX\",\"TX\",\"TX\",\"TX\",\"TX\",\"TX\",\"TX\"],\"z\":[12110.0,12110.0,12110.0,12110.0,12110.0,15958.781818181818,15958.781818181818,10461.870967741936,10461.870967741936,10461.870967741936,10461.870967741936,10461.870967741936,10461.870967741936,10461.870967741936,10461.870967741936,14246.172297297297,14246.172297297297,14246.172297297297,14246.172297297297,14246.172297297297,14246.172297297297,14246.172297297297,14246.172297297297,14246.172297297297,14246.172297297297,14246.172297297297,14246.172297297297,14246.172297297297,14246.172297297297,14246.172297297297,14246.172297297297,14246.172297297297,14246.172297297297,14246.172297297297,14246.172297297297,14246.172297297297,14246.172297297297,14246.172297297297,14246.172297297297,20411.39285714286,20411.39285714286,20411.39285714286,20411.39285714286,20411.39285714286,20411.39285714286,16700.428571428572,16700.428571428572,16700.428571428572,16700.428571428572,16700.428571428572,19713.30769230769,19713.30769230769,19713.30769230769,19713.30769230769,19713.30769230769,19713.30769230769,19713.30769230769,19713.30769230769,19713.30769230769,19713.30769230769,19713.30769230769,19713.30769230769,19713.30769230769,19713.30769230769,19713.30769230769,19713.30769230769,19713.30769230769,19713.30769230769,19713.30769230769,19713.30769230769,19713.30769230769,19713.30769230769,19713.30769230769,19713.30769230769,19713.30769230769,19713.30769230769,19713.30769230769,19713.30769230769,19713.30769230769,19713.30769230769,19713.30769230769,19713.30769230769,13940.37962962963,13940.37962962963,13940.37962962963,13940.37962962963,13940.37962962963,13940.37962962963,13940.37962962963,13940.37962962963,13940.37962962963,13940.37962962963,13940.37962962963,13940.37962962963,15473.61963190184,15473.61963190184,15473.61963190184,15473.61963190184,15473.61963190184,15473.61963190184,15473.61963190184,15473.61963190184,15473.61963190184,15473.61963190184,15473.61963190184,15473.61963190184,15473.61963190184,15473.61963190184,15473.61963190184,15473.61963190184,12017.52380952381,12279.542857142857,11268.536585365853,11268.536585365853,11268.536585365853,11268.536585365853,11268.536585365853,11268.536585365853,12053.641975308641,12053.641975308641,20218.37777777778,20218.37777777778,20218.37777777778,20218.37777777778,20218.37777777778,20218.37777777778,22266.446428571428,22266.446428571428,22266.446428571428,22266.446428571428,17730.80172413793,17730.80172413793,17730.80172413793,17730.80172413793,14799.25,9939.76923076923,9939.76923076923,9939.76923076923,9939.76923076923,9939.76923076923,9939.76923076923,15749.157303370786,15749.157303370786,15749.157303370786,15749.157303370786,15749.157303370786,15749.157303370786,15749.157303370786,15104.736842105263,17463.59259259259,17463.59259259259,17463.59259259259,17463.59259259259,17463.59259259259,17463.59259259259,17463.59259259259,17463.59259259259,17463.59259259259,17463.59259259259,18678.0625,18678.0625,18678.0625,18678.0625,18678.0625,18678.0625,18678.0625,18678.0625,12444.166666666666,12444.166666666666,12444.166666666666,14766.713333333333,14766.713333333333,14766.713333333333,14766.713333333333,14766.713333333333,14766.713333333333,14766.713333333333,14766.713333333333,14766.713333333333,14766.713333333333,14766.713333333333,14766.713333333333,14766.713333333333,14766.713333333333,14766.713333333333,14766.713333333333,14766.713333333333,14766.713333333333,14766.713333333333,14766.713333333333,14766.713333333333,14766.713333333333,14766.713333333333,14766.713333333333,14766.713333333333,14766.713333333333,14766.713333333333,14766.713333333333,14766.713333333333,14766.713333333333,14766.713333333333,14766.713333333333,14766.713333333333,14766.713333333333,14766.713333333333,14766.713333333333,14766.713333333333,14766.713333333333,14766.713333333333,14766.713333333333,14766.713333333333,14766.713333333333,14766.713333333333,14766.713333333333,14766.713333333333,14766.713333333333,14766.713333333333,14766.713333333333,18064.468085106382,18064.468085106382,18064.468085106382,18064.468085106382,18064.468085106382,18064.468085106382,18064.468085106382,8953.6,8953.6,19323.698630136987,19323.698630136987,12199.823529411764,12199.823529411764,12199.823529411764,12199.823529411764,12199.823529411764,17437.7,17437.7,17437.7,17437.7,17437.7,17437.7,17437.7,17437.7,17437.7,17437.7,17437.7,17437.7,17437.7,10908.833333333334,10908.833333333334,10908.833333333334,15660.6,15660.6,15660.6,11833.956043956045,11833.956043956045,11833.956043956045,11833.956043956045,11833.956043956045,11833.956043956045,11833.956043956045,11833.956043956045,11833.956043956045,11833.956043956045,16558.507518796992,16558.507518796992,16558.507518796992,16558.507518796992,16558.507518796992,16558.507518796992,16558.507518796992,16558.507518796992,16558.507518796992,16558.507518796992,16698.20779220779,16698.20779220779,16698.20779220779,15440.79411764706,15440.79411764706,12160.692307692309,12160.692307692309,14938.407407407407,12110.0,12110.0,12110.0,12110.0,12110.0,12110.0,12110.0,12110.0,12110.0,12110.0,12110.0,12110.0,12110.0,12110.0,12110.0,12110.0,12110.0,12110.0,12110.0,12110.0,12110.0,12110.0,12110.0,14664.3,15958.781818181818,15958.781818181818,15958.781818181818,15958.781818181818,15958.781818181818,15958.781818181818,15958.781818181818,15958.781818181818,15958.781818181818,15958.781818181818,15958.781818181818,15958.781818181818,15958.781818181818,15958.781818181818,15958.781818181818,15958.781818181818,10461.870967741936,10461.870967741936,10461.870967741936,10461.870967741936,10461.870967741936,10461.870967741936,10461.870967741936,10461.870967741936,10461.870967741936,10461.870967741936,10461.870967741936,10461.870967741936,10461.870967741936,10461.870967741936,10461.870967741936,10461.870967741936,10461.870967741936,10461.870967741936,10461.870967741936,10461.870967741936,14246.172297297297,14246.172297297297,14246.172297297297,14246.172297297297,14246.172297297297,14246.172297297297,14246.172297297297,14246.172297297297,14246.172297297297,14246.172297297297,14246.172297297297,14246.172297297297,14246.172297297297,14246.172297297297,14246.172297297297,14246.172297297297,14246.172297297297,14246.172297297297,14246.172297297297,14246.172297297297,14246.172297297297,14246.172297297297,14246.172297297297,14246.172297297297,14246.172297297297,14246.172297297297,14246.172297297297,14246.172297297297,14246.172297297297,14246.172297297297,14246.172297297297,14246.172297297297,14246.172297297297,14246.172297297297,14246.172297297297,14246.172297297297,14246.172297297297,14246.172297297297,14246.172297297297,14246.172297297297,14246.172297297297,14246.172297297297,14246.172297297297,14246.172297297297,14246.172297297297,14246.172297297297,14246.172297297297,14246.172297297297,14246.172297297297,14246.172297297297,14246.172297297297,14246.172297297297,14246.172297297297,14246.172297297297,14246.172297297297,14246.172297297297,14246.172297297297,14246.172297297297,14246.172297297297,14246.172297297297,14246.172297297297,14246.172297297297,14246.172297297297,14246.172297297297,14246.172297297297,14246.172297297297,14246.172297297297,14246.172297297297,14246.172297297297,14246.172297297297,14246.172297297297,14246.172297297297,14246.172297297297,14246.172297297297,14246.172297297297,14246.172297297297,14246.172297297297,14246.172297297297,14246.172297297297,14246.172297297297,14246.172297297297,14246.172297297297,14246.172297297297,14246.172297297297,14246.172297297297,14246.172297297297,14246.172297297297,14246.172297297297,14246.172297297297,14246.172297297297,14246.172297297297,14246.172297297297,14246.172297297297,14246.172297297297,14246.172297297297,14246.172297297297,16533.947368421053,16533.947368421053,16533.947368421053,20411.39285714286,20411.39285714286,20411.39285714286,20411.39285714286,20446.166666666668,20446.166666666668,16700.428571428572,19713.30769230769,19713.30769230769,19713.30769230769,19713.30769230769,19713.30769230769,19713.30769230769,19713.30769230769,19713.30769230769,19713.30769230769,19713.30769230769,19713.30769230769,19713.30769230769,19713.30769230769,19713.30769230769,19713.30769230769,19713.30769230769,19713.30769230769,19713.30769230769,19713.30769230769,19713.30769230769,19713.30769230769,19713.30769230769,19713.30769230769,19713.30769230769,19713.30769230769,19713.30769230769,19713.30769230769,19713.30769230769,19713.30769230769,19713.30769230769,19713.30769230769,19713.30769230769,19713.30769230769,19713.30769230769,19713.30769230769,19713.30769230769,19713.30769230769,19713.30769230769,19713.30769230769,19713.30769230769,19713.30769230769,19713.30769230769,19713.30769230769,19713.30769230769,19713.30769230769,19713.30769230769,19713.30769230769,19713.30769230769,19713.30769230769,19713.30769230769,19713.30769230769,19713.30769230769,19713.30769230769,19713.30769230769,19713.30769230769,19713.30769230769,19713.30769230769,19713.30769230769,19713.30769230769,19713.30769230769,13940.37962962963,13940.37962962963,13940.37962962963,13940.37962962963,13940.37962962963,13940.37962962963,13940.37962962963,13940.37962962963,13940.37962962963,13940.37962962963,13940.37962962963,13940.37962962963,13940.37962962963,13940.37962962963,13940.37962962963,13940.37962962963,13940.37962962963,13940.37962962963,13940.37962962963,13940.37962962963,13940.37962962963,13940.37962962963,13940.37962962963,12269.307692307691,16734.8,16734.8,16734.8,15473.61963190184,15473.61963190184,15473.61963190184,15473.61963190184,15473.61963190184,15473.61963190184,15473.61963190184,15473.61963190184,15473.61963190184,15473.61963190184,15473.61963190184,15473.61963190184,15473.61963190184,15473.61963190184,15473.61963190184,15473.61963190184,15473.61963190184,15473.61963190184,15473.61963190184,15473.61963190184,15473.61963190184,15473.61963190184,15473.61963190184,15473.61963190184,15473.61963190184,15473.61963190184,15473.61963190184,15473.61963190184,15473.61963190184,15473.61963190184,15473.61963190184,15645.618181818181,15645.618181818181,15645.618181818181,15645.618181818181,15645.618181818181,15645.618181818181,15645.618181818181,15645.618181818181,15645.618181818181,15645.618181818181,12017.52380952381,12017.52380952381,12017.52380952381,12017.52380952381,12017.52380952381,12017.52380952381,12017.52380952381,12017.52380952381,12017.52380952381,12017.52380952381,12017.52380952381,12279.542857142857,12279.542857142857,12279.542857142857,12279.542857142857,12279.542857142857,12279.542857142857,12279.542857142857,12279.542857142857,12279.542857142857,12279.542857142857,11268.536585365853,11268.536585365853,11268.536585365853,11268.536585365853,11268.536585365853,11268.536585365853,11268.536585365853,11268.536585365853,11268.536585365853,11268.536585365853,11268.536585365853,11268.536585365853,11268.536585365853,11268.536585365853,11268.536585365853,11268.536585365853,11268.536585365853,11268.536585365853,11268.536585365853,11268.536585365853,11268.536585365853,11268.536585365853,12053.641975308641,12053.641975308641,12053.641975308641,12053.641975308641,12053.641975308641,12053.641975308641,12053.641975308641,12053.641975308641,12053.641975308641,12053.641975308641,12053.641975308641,12053.641975308641,12053.641975308641,12053.641975308641,12053.641975308641,12053.641975308641,12053.641975308641,12053.641975308641,12053.641975308641,12053.641975308641,12053.641975308641,17837.78125,17837.78125,17837.78125,17837.78125,17837.78125,20218.37777777778,20218.37777777778,20218.37777777778,20218.37777777778,20218.37777777778,20218.37777777778,22266.446428571428,22266.446428571428,22266.446428571428,22266.446428571428,22266.446428571428,22266.446428571428,22266.446428571428,22266.446428571428,22266.446428571428,22266.446428571428,22266.446428571428,22266.446428571428,22266.446428571428,22266.446428571428,22266.446428571428,17730.80172413793,17730.80172413793,17730.80172413793,17730.80172413793,17730.80172413793,17730.80172413793,17730.80172413793,17730.80172413793,17730.80172413793,17730.80172413793,17730.80172413793,17730.80172413793,17730.80172413793,14799.25,14799.25,14799.25,14799.25,14799.25,9939.76923076923,9939.76923076923,9939.76923076923,9939.76923076923,9939.76923076923,9939.76923076923,9939.76923076923,9939.76923076923,9939.76923076923,9939.76923076923,9939.76923076923,9939.76923076923,9939.76923076923,9939.76923076923,9939.76923076923,9939.76923076923,9939.76923076923,9939.76923076923,9939.76923076923,9939.76923076923,9939.76923076923,9939.76923076923,9939.76923076923,9939.76923076923,9939.76923076923,15749.157303370786,15749.157303370786,15749.157303370786,15749.157303370786,15749.157303370786,15749.157303370786,15749.157303370786,15749.157303370786,15749.157303370786,15749.157303370786,15749.157303370786,15749.157303370786,15749.157303370786,15749.157303370786,15749.157303370786,15749.157303370786,15749.157303370786,18299.56,18299.56,15104.736842105263,15104.736842105263,15104.736842105263,17463.59259259259,17463.59259259259,17463.59259259259,17463.59259259259,17463.59259259259,17463.59259259259,17840.30769230769,17840.30769230769,17840.30769230769,17840.30769230769,18678.0625,18678.0625,18678.0625,18678.0625,18678.0625,18678.0625,18678.0625,18678.0625,18678.0625,18678.0625,18678.0625,18678.0625,18678.0625,18678.0625,18678.0625,18678.0625,18678.0625,18678.0625,18678.0625,18678.0625,18678.0625,18678.0625,18678.0625,18678.0625,18678.0625,18678.0625,12444.166666666666,12444.166666666666,12444.166666666666,12444.166666666666,12444.166666666666,12444.166666666666,12444.166666666666,12444.166666666666,14766.713333333333,14766.713333333333,14766.713333333333,14766.713333333333,14766.713333333333,14766.713333333333,14766.713333333333,14766.713333333333,14766.713333333333,14766.713333333333,14766.713333333333,14766.713333333333,14766.713333333333,14766.713333333333,14766.713333333333,14766.713333333333,14766.713333333333,14766.713333333333,14766.713333333333,14766.713333333333,14766.713333333333,14766.713333333333,14766.713333333333,14766.713333333333,14766.713333333333,14766.713333333333,14766.713333333333,14766.713333333333,14766.713333333333,14766.713333333333,14766.713333333333,14766.713333333333,14766.713333333333,14766.713333333333,14766.713333333333,14766.713333333333,14766.713333333333,14766.713333333333,14766.713333333333,14766.713333333333,14766.713333333333,14766.713333333333,14766.713333333333,14766.713333333333,14766.713333333333,18064.468085106382,18064.468085106382,18064.468085106382,18064.468085106382,18064.468085106382,18064.468085106382,18064.468085106382,18064.468085106382,18064.468085106382,18064.468085106382,18064.468085106382,18064.468085106382,18064.468085106382,18064.468085106382,18064.468085106382,18064.468085106382,18064.468085106382,18064.468085106382,8953.6,8953.6,19323.698630136987,19323.698630136987,19323.698630136987,19323.698630136987,19323.698630136987,19323.698630136987,19323.698630136987,19323.698630136987,19323.698630136987,19323.698630136987,19323.698630136987,19323.698630136987,19323.698630136987,19323.698630136987,19323.698630136987,19323.698630136987,19323.698630136987,19323.698630136987,19323.698630136987,19323.698630136987,19323.698630136987,19323.698630136987,12199.823529411764,12199.823529411764,12199.823529411764,12199.823529411764,12199.823529411764,12199.823529411764,12199.823529411764,12199.823529411764,12199.823529411764,12199.823529411764,12199.823529411764,12199.823529411764,12199.823529411764,12199.823529411764,12199.823529411764,12199.823529411764,12199.823529411764,12199.823529411764,12199.823529411764,15656.096153846154,15656.096153846154,15656.096153846154,15656.096153846154,17437.7,17437.7,17437.7,17437.7,17437.7,17437.7,17437.7,17437.7,17437.7,17437.7,17437.7,17437.7,17437.7,17437.7,17437.7,17437.7,17437.7,17437.7,17437.7,17437.7,17437.7,17437.7,17437.7,17437.7,17437.7,17437.7,17437.7,17437.7,17437.7,17437.7,17437.7,17437.7,17437.7,17437.7,17437.7,17437.7,17437.7,10908.833333333334,10908.833333333334,10908.833333333334,18269.0,18269.0,18269.0,15660.6,15660.6,15660.6,15660.6,15660.6,15660.6,15660.6,15660.6,15660.6,15660.6,15660.6,15660.6,15660.6,15660.6,15660.6,14212.894736842105,11833.956043956045,11833.956043956045,11833.956043956045,11833.956043956045,11833.956043956045,11833.956043956045,11833.956043956045,11833.956043956045,11833.956043956045,11833.956043956045,11833.956043956045,11833.956043956045,11833.956043956045,11833.956043956045,11833.956043956045,11833.956043956045,11833.956043956045,11833.956043956045,11833.956043956045,11833.956043956045,11833.956043956045,11833.956043956045,11833.956043956045,11833.956043956045,11833.956043956045,11833.956043956045,11833.956043956045,16558.507518796992,16558.507518796992,16558.507518796992,16558.507518796992,16558.507518796992,16558.507518796992,16558.507518796992,16558.507518796992,16558.507518796992,16558.507518796992,16558.507518796992,16558.507518796992,16558.507518796992,16558.507518796992,16558.507518796992,16558.507518796992,16558.507518796992,16558.507518796992,16558.507518796992,16558.507518796992,16558.507518796992,16558.507518796992,16558.507518796992,16558.507518796992,16558.507518796992,16558.507518796992,16558.507518796992,16558.507518796992,16558.507518796992,16558.507518796992,16558.507518796992,16558.507518796992,16558.507518796992,16558.507518796992,16558.507518796992,16558.507518796992,16558.507518796992,16558.507518796992,16558.507518796992,16558.507518796992,16558.507518796992,16558.507518796992,16558.507518796992,16558.507518796992,16558.507518796992,16558.507518796992,16558.507518796992,16558.507518796992,16558.507518796992,16558.507518796992,16558.507518796992,18529.852941176472,18529.852941176472,19239.416666666668,18747.5,16698.20779220779,16698.20779220779,16698.20779220779,16698.20779220779,16698.20779220779,16698.20779220779,16698.20779220779,16698.20779220779,16698.20779220779,16698.20779220779,16698.20779220779,16698.20779220779,16698.20779220779,16698.20779220779,16698.20779220779,16698.20779220779,16698.20779220779,15440.79411764706,15440.79411764706,15440.79411764706,15440.79411764706,15440.79411764706,15440.79411764706,15440.79411764706,15440.79411764706,15440.79411764706,15440.79411764706,15440.79411764706,15440.79411764706,15440.79411764706,15440.79411764706,15440.79411764706,15440.79411764706,15440.79411764706,12160.692307692309,12160.692307692309,12160.692307692309,12160.692307692309,12160.692307692309,12160.692307692309,12160.692307692309,12160.692307692309,12160.692307692309,12160.692307692309,14938.407407407407,14938.407407407407,14938.407407407407,14938.407407407407,14938.407407407407,14763.555555555555,14763.555555555555,16558.507518796992,16558.507518796992,12110.0,12110.0,12110.0,12110.0,12110.0,12110.0,12110.0,12110.0,12110.0,12110.0,12110.0,12110.0,12110.0,12110.0,12110.0,12110.0,12110.0,12110.0,12110.0,12110.0,12110.0,12110.0,12110.0,12110.0,12110.0,12110.0,12110.0,12110.0,12110.0,12110.0,12110.0,14664.3,14664.3,14664.3,15958.781818181818,15958.781818181818,15958.781818181818,15958.781818181818,15958.781818181818,15958.781818181818,15958.781818181818,15958.781818181818,15958.781818181818,15958.781818181818,15958.781818181818,15958.781818181818,15958.781818181818,15958.781818181818,15958.781818181818,15958.781818181818,15958.781818181818,15958.781818181818,15958.781818181818,10461.870967741936,10461.870967741936,10461.870967741936,10461.870967741936,10461.870967741936,10461.870967741936,10461.870967741936,10461.870967741936,10461.870967741936,10461.870967741936,10461.870967741936,10461.870967741936,10461.870967741936,10461.870967741936,10461.870967741936,10461.870967741936,10461.870967741936,10461.870967741936,10461.870967741936,10461.870967741936,10461.870967741936,10461.870967741936,10461.870967741936,14246.172297297297,14246.172297297297,14246.172297297297,14246.172297297297,14246.172297297297,14246.172297297297,14246.172297297297,14246.172297297297,14246.172297297297,14246.172297297297,14246.172297297297,14246.172297297297,14246.172297297297,14246.172297297297,14246.172297297297,14246.172297297297,14246.172297297297,14246.172297297297,14246.172297297297,14246.172297297297,14246.172297297297,14246.172297297297,14246.172297297297,14246.172297297297,14246.172297297297,14246.172297297297,14246.172297297297,14246.172297297297,14246.172297297297,14246.172297297297,14246.172297297297,14246.172297297297,14246.172297297297,14246.172297297297,14246.172297297297,14246.172297297297,14246.172297297297,14246.172297297297,14246.172297297297,14246.172297297297,14246.172297297297,14246.172297297297,14246.172297297297,14246.172297297297,14246.172297297297,14246.172297297297,14246.172297297297,14246.172297297297,14246.172297297297,14246.172297297297,14246.172297297297,14246.172297297297,14246.172297297297,14246.172297297297,14246.172297297297,14246.172297297297,14246.172297297297,14246.172297297297,14246.172297297297,14246.172297297297,14246.172297297297,14246.172297297297,14246.172297297297,14246.172297297297,14246.172297297297,14246.172297297297,14246.172297297297,14246.172297297297,14246.172297297297,14246.172297297297,14246.172297297297,14246.172297297297,14246.172297297297,14246.172297297297,14246.172297297297,14246.172297297297,14246.172297297297,14246.172297297297,14246.172297297297,14246.172297297297,14246.172297297297,14246.172297297297,14246.172297297297,14246.172297297297,14246.172297297297,14246.172297297297,14246.172297297297,14246.172297297297,14246.172297297297,14246.172297297297,14246.172297297297,14246.172297297297,14246.172297297297,16533.947368421053,16533.947368421053,16533.947368421053,16533.947368421053,16533.947368421053,16533.947368421053,16533.947368421053,16533.947368421053,16533.947368421053,16533.947368421053,16533.947368421053,16533.947368421053,16533.947368421053,16533.947368421053,16533.947368421053,16533.947368421053,16533.947368421053,16533.947368421053,16533.947368421053,16533.947368421053,16533.947368421053,16533.947368421053,16533.947368421053,20411.39285714286,20411.39285714286,20411.39285714286,20411.39285714286,20411.39285714286,20411.39285714286,20411.39285714286,20411.39285714286,20411.39285714286,20446.166666666668,20446.166666666668,20446.166666666668,16700.428571428572,19713.30769230769,19713.30769230769,19713.30769230769,19713.30769230769,19713.30769230769,19713.30769230769,19713.30769230769,19713.30769230769,19713.30769230769,19713.30769230769,19713.30769230769,19713.30769230769,19713.30769230769,19713.30769230769,19713.30769230769,19713.30769230769,19713.30769230769,19713.30769230769,19713.30769230769,19713.30769230769,19713.30769230769,19713.30769230769,19713.30769230769,19713.30769230769,19713.30769230769,19713.30769230769,19713.30769230769,19713.30769230769,19713.30769230769,19713.30769230769,19713.30769230769,19713.30769230769,19713.30769230769,19713.30769230769,19713.30769230769,19713.30769230769,19713.30769230769,19713.30769230769,19713.30769230769,19713.30769230769,13940.37962962963,13940.37962962963,13940.37962962963,13940.37962962963,13940.37962962963,13940.37962962963,13940.37962962963,13940.37962962963,13940.37962962963,13940.37962962963,13940.37962962963,13940.37962962963,13940.37962962963,13940.37962962963,13940.37962962963,13940.37962962963,13940.37962962963,13940.37962962963,13940.37962962963,13940.37962962963,13940.37962962963,13940.37962962963,13940.37962962963,13940.37962962963,13940.37962962963,13940.37962962963,13940.37962962963,13940.37962962963,13940.37962962963,13940.37962962963,13940.37962962963,13940.37962962963,13940.37962962963,13940.37962962963,13940.37962962963,13940.37962962963,13940.37962962963,13940.37962962963,13940.37962962963,13940.37962962963,13940.37962962963,13940.37962962963,12269.307692307691,12269.307692307691,12269.307692307691,12269.307692307691,16734.8,16734.8,16734.8,16734.8,16734.8,16734.8,15473.61963190184,15473.61963190184,15473.61963190184,15473.61963190184,15473.61963190184,15473.61963190184,15473.61963190184,15473.61963190184,15473.61963190184,15473.61963190184,15473.61963190184,15473.61963190184,15473.61963190184,15473.61963190184,15473.61963190184,15473.61963190184,15473.61963190184,15473.61963190184,15473.61963190184,15473.61963190184,15473.61963190184,15473.61963190184,15473.61963190184,15473.61963190184,15473.61963190184,15473.61963190184,15473.61963190184,15473.61963190184,15473.61963190184,15473.61963190184,15473.61963190184,15473.61963190184,15473.61963190184,15473.61963190184,15473.61963190184,15473.61963190184,15473.61963190184,15473.61963190184,15473.61963190184,15473.61963190184,15473.61963190184,15473.61963190184,15473.61963190184,15473.61963190184,15473.61963190184,15473.61963190184,15473.61963190184,15473.61963190184,15473.61963190184,15473.61963190184,15473.61963190184,15473.61963190184,15473.61963190184,15473.61963190184,15473.61963190184,15645.618181818181,15645.618181818181,15645.618181818181,15645.618181818181,15645.618181818181,15645.618181818181,15645.618181818181,15645.618181818181,15645.618181818181,15645.618181818181,15645.618181818181,15645.618181818181,15645.618181818181,15645.618181818181,15645.618181818181,15645.618181818181,15645.618181818181,15645.618181818181,15645.618181818181,15645.618181818181,15645.618181818181,15645.618181818181,15645.618181818181,15645.618181818181,15645.618181818181,15645.618181818181,15645.618181818181,15645.618181818181,15645.618181818181,15645.618181818181,15645.618181818181,15645.618181818181,15645.618181818181,15645.618181818181,15645.618181818181,15645.618181818181,12017.52380952381,12017.52380952381,12017.52380952381,12017.52380952381,12017.52380952381,12017.52380952381,12017.52380952381,12017.52380952381,12017.52380952381,12017.52380952381,12017.52380952381,12017.52380952381,12017.52380952381,12017.52380952381,12017.52380952381,12017.52380952381,12017.52380952381,12017.52380952381,12017.52380952381,12017.52380952381,12017.52380952381,12017.52380952381,12017.52380952381,12017.52380952381,12017.52380952381,12017.52380952381,12017.52380952381,12017.52380952381,12017.52380952381,12279.542857142857,12279.542857142857,12279.542857142857,12279.542857142857,12279.542857142857,12279.542857142857,12279.542857142857,12279.542857142857,12279.542857142857,12279.542857142857,12279.542857142857,12279.542857142857,12279.542857142857,12279.542857142857,12279.542857142857,12279.542857142857,12279.542857142857,12279.542857142857,12279.542857142857,12279.542857142857,12279.542857142857,12279.542857142857,12279.542857142857,12279.542857142857,12279.542857142857,12279.542857142857,12279.542857142857,12279.542857142857,12279.542857142857,12279.542857142857,11268.536585365853,11268.536585365853,11268.536585365853,11268.536585365853,11268.536585365853,11268.536585365853,11268.536585365853,11268.536585365853,11268.536585365853,11268.536585365853,11268.536585365853,11268.536585365853,11268.536585365853,11268.536585365853,11268.536585365853,11268.536585365853,11268.536585365853,11268.536585365853,11268.536585365853,11268.536585365853,11268.536585365853,11268.536585365853,11268.536585365853,11268.536585365853,11268.536585365853,11268.536585365853,11268.536585365853,11268.536585365853,11268.536585365853,11268.536585365853,11268.536585365853,11268.536585365853,12053.641975308641,12053.641975308641,12053.641975308641,12053.641975308641,12053.641975308641,12053.641975308641,12053.641975308641,12053.641975308641,12053.641975308641,12053.641975308641,12053.641975308641,12053.641975308641,12053.641975308641,12053.641975308641,12053.641975308641,12053.641975308641,12053.641975308641,12053.641975308641,12053.641975308641,12053.641975308641,12053.641975308641,12053.641975308641,12053.641975308641,12053.641975308641,12053.641975308641,12053.641975308641,12053.641975308641,12053.641975308641,12053.641975308641,12053.641975308641,12053.641975308641,12053.641975308641,12053.641975308641,12053.641975308641,12053.641975308641,17837.78125,17837.78125,17837.78125,17837.78125,17837.78125,17837.78125,17837.78125,17837.78125,17837.78125,17837.78125,20218.37777777778,20218.37777777778,20218.37777777778,20218.37777777778,20218.37777777778,20218.37777777778,20218.37777777778,20218.37777777778,20218.37777777778,20218.37777777778,20218.37777777778,20218.37777777778,20218.37777777778,20218.37777777778,20218.37777777778,20218.37777777778,20218.37777777778,20218.37777777778,20218.37777777778,22266.446428571428,22266.446428571428,22266.446428571428,22266.446428571428,22266.446428571428,22266.446428571428,22266.446428571428,22266.446428571428,22266.446428571428,22266.446428571428,22266.446428571428,22266.446428571428,22266.446428571428,22266.446428571428,22266.446428571428,22266.446428571428,22266.446428571428,22266.446428571428,22266.446428571428,17730.80172413793,17730.80172413793,17730.80172413793,17730.80172413793,17730.80172413793,17730.80172413793,17730.80172413793,17730.80172413793,17730.80172413793,17730.80172413793,17730.80172413793,17730.80172413793,17730.80172413793,17730.80172413793,17730.80172413793,17730.80172413793,17730.80172413793,17730.80172413793,17730.80172413793,17730.80172413793,17730.80172413793,17730.80172413793,17730.80172413793,17730.80172413793,17730.80172413793,17730.80172413793,17730.80172413793,17730.80172413793,17730.80172413793,17730.80172413793,17730.80172413793,17730.80172413793,17730.80172413793,17730.80172413793,17730.80172413793,17730.80172413793,17730.80172413793,14799.25,14799.25,14799.25,14799.25,14799.25,14799.25,14799.25,14799.25,14799.25,14799.25,14799.25,14799.25,14799.25,14799.25,14799.25,14799.25,14799.25,14799.25,14799.25,9939.76923076923,9939.76923076923,9939.76923076923,9939.76923076923,9939.76923076923,9939.76923076923,9939.76923076923,9939.76923076923,9939.76923076923,9939.76923076923,9939.76923076923,9939.76923076923,9939.76923076923,9939.76923076923,9939.76923076923,9939.76923076923,9939.76923076923,9939.76923076923,9939.76923076923,9939.76923076923,9939.76923076923,9939.76923076923,9939.76923076923,9939.76923076923,9939.76923076923,9939.76923076923,15749.157303370786,15749.157303370786,15749.157303370786,15749.157303370786,15749.157303370786,15749.157303370786,15749.157303370786,15749.157303370786,15749.157303370786,15749.157303370786,15749.157303370786,15749.157303370786,15749.157303370786,15749.157303370786,15749.157303370786,15749.157303370786,15749.157303370786,15749.157303370786,15749.157303370786,15749.157303370786,15749.157303370786,15749.157303370786,15749.157303370786,15749.157303370786,15749.157303370786,15749.157303370786,15749.157303370786,15749.157303370786,15749.157303370786,15749.157303370786,15749.157303370786,15749.157303370786,15749.157303370786,15749.157303370786,15749.157303370786,15749.157303370786,18299.56,18299.56,18299.56,18299.56,18299.56,18299.56,18299.56,18299.56,15104.736842105263,15104.736842105263,15104.736842105263,15104.736842105263,15104.736842105263,15104.736842105263,15104.736842105263,15104.736842105263,15104.736842105263,15104.736842105263,15104.736842105263,15104.736842105263,15104.736842105263,15104.736842105263,15104.736842105263,15104.736842105263,15104.736842105263,15104.736842105263,15104.736842105263,15104.736842105263,15104.736842105263,15104.736842105263,15104.736842105263,15104.736842105263,15104.736842105263,15104.736842105263,17463.59259259259,17463.59259259259,17463.59259259259,17463.59259259259,17463.59259259259,17463.59259259259,17463.59259259259,17840.30769230769,17840.30769230769,17840.30769230769,17840.30769230769,17840.30769230769,17840.30769230769,17840.30769230769,17840.30769230769,17840.30769230769,18678.0625,18678.0625,18678.0625,18678.0625,18678.0625,18678.0625,18678.0625,18678.0625,18678.0625,18678.0625,18678.0625,18678.0625,18678.0625,18678.0625,12444.166666666666,12444.166666666666,12444.166666666666,12444.166666666666,12444.166666666666,12444.166666666666,12444.166666666666,12444.166666666666,12444.166666666666,12444.166666666666,12444.166666666666,12444.166666666666,12444.166666666666,14766.713333333333,14766.713333333333,14766.713333333333,14766.713333333333,14766.713333333333,14766.713333333333,14766.713333333333,14766.713333333333,14766.713333333333,14766.713333333333,14766.713333333333,14766.713333333333,14766.713333333333,14766.713333333333,14766.713333333333,14766.713333333333,14766.713333333333,14766.713333333333,14766.713333333333,14766.713333333333,14766.713333333333,14766.713333333333,14766.713333333333,14766.713333333333,14766.713333333333,14766.713333333333,14766.713333333333,14766.713333333333,14766.713333333333,14766.713333333333,14766.713333333333,14766.713333333333,14766.713333333333,14766.713333333333,14766.713333333333,14766.713333333333,14766.713333333333,14766.713333333333,14766.713333333333,14766.713333333333,18064.468085106382,18064.468085106382,18064.468085106382,18064.468085106382,18064.468085106382,18064.468085106382,18064.468085106382,18064.468085106382,18064.468085106382,18064.468085106382,18064.468085106382,18064.468085106382,18064.468085106382,18064.468085106382,18064.468085106382,18064.468085106382,18064.468085106382,18064.468085106382,18064.468085106382,18064.468085106382,18064.468085106382,18064.468085106382,18064.468085106382,18064.468085106382,18064.468085106382,18064.468085106382,18064.468085106382,18064.468085106382,18064.468085106382,18064.468085106382,18064.468085106382,18064.468085106382,18064.468085106382,18064.468085106382,18064.468085106382,18064.468085106382,8953.6,8953.6,8953.6,8953.6,8953.6,8953.6,8953.6,8953.6,19323.698630136987,19323.698630136987,19323.698630136987,19323.698630136987,19323.698630136987,19323.698630136987,19323.698630136987,19323.698630136987,19323.698630136987,19323.698630136987,19323.698630136987,19323.698630136987,19323.698630136987,19323.698630136987,19323.698630136987,19323.698630136987,19323.698630136987,19323.698630136987,19323.698630136987,19323.698630136987,19323.698630136987,19323.698630136987,19323.698630136987,19323.698630136987,19323.698630136987,19323.698630136987,19323.698630136987,19323.698630136987,19323.698630136987,19323.698630136987,19323.698630136987,19323.698630136987,19323.698630136987,19323.698630136987,19323.698630136987,19323.698630136987,19323.698630136987,19323.698630136987,19323.698630136987,19323.698630136987,19323.698630136987,19323.698630136987,19323.698630136987,19323.698630136987,19323.698630136987,19323.698630136987,19323.698630136987,19323.698630136987,19323.698630136987,19323.698630136987,12199.823529411764,12199.823529411764,12199.823529411764,12199.823529411764,12199.823529411764,12199.823529411764,12199.823529411764,12199.823529411764,12199.823529411764,12199.823529411764,12199.823529411764,12199.823529411764,12199.823529411764,12199.823529411764,12199.823529411764,12199.823529411764,12199.823529411764,12199.823529411764,12199.823529411764,12199.823529411764,12199.823529411764,12199.823529411764,12199.823529411764,12199.823529411764,12199.823529411764,12199.823529411764,12199.823529411764,12199.823529411764,15656.096153846154,15656.096153846154,15656.096153846154,15656.096153846154,15656.096153846154,15656.096153846154,15656.096153846154,15656.096153846154,15656.096153846154,15656.096153846154,15656.096153846154,15656.096153846154,15656.096153846154,15656.096153846154,15656.096153846154,15656.096153846154,15656.096153846154,15656.096153846154,15656.096153846154,15656.096153846154,15656.096153846154,15656.096153846154,15656.096153846154,17437.7,17437.7,17437.7,17437.7,17437.7,17437.7,17437.7,17437.7,17437.7,17437.7,17437.7,17437.7,17437.7,17437.7,17437.7,17437.7,17437.7,17437.7,17437.7,17437.7,17437.7,17437.7,17437.7,17437.7,17437.7,17437.7,17437.7,17437.7,17437.7,17437.7,17437.7,17437.7,17437.7,17437.7,17437.7,17437.7,17437.7,17437.7,17437.7,17437.7,17437.7,17437.7,17437.7,17437.7,17437.7,17437.7,17437.7,17437.7,17437.7,17437.7,17437.7,17437.7,17437.7,18269.0,18269.0,18269.0,15660.6,15660.6,15660.6,15660.6,15660.6,15660.6,15660.6,15660.6,15660.6,15660.6,15660.6,15660.6,15660.6,15660.6,15660.6,15660.6,15660.6,14212.894736842105,14212.894736842105,14212.894736842105,14212.894736842105,14212.894736842105,14212.894736842105,11833.956043956045,11833.956043956045,11833.956043956045,11833.956043956045,11833.956043956045,11833.956043956045,11833.956043956045,11833.956043956045,11833.956043956045,11833.956043956045,11833.956043956045,11833.956043956045,11833.956043956045,11833.956043956045,11833.956043956045,11833.956043956045,11833.956043956045,11833.956043956045,11833.956043956045,11833.956043956045,11833.956043956045,11833.956043956045,11833.956043956045,11833.956043956045,11833.956043956045,11833.956043956045,11833.956043956045,11833.956043956045,11833.956043956045,11833.956043956045,11833.956043956045,11833.956043956045,16558.507518796992,16558.507518796992,16558.507518796992,16558.507518796992,16558.507518796992,16558.507518796992,16558.507518796992,16558.507518796992,16558.507518796992,16558.507518796992,16558.507518796992,16558.507518796992,16558.507518796992,16558.507518796992,16558.507518796992,16558.507518796992,16558.507518796992,16558.507518796992,16558.507518796992,16558.507518796992,16558.507518796992,16558.507518796992,16558.507518796992,16558.507518796992,16558.507518796992,16558.507518796992,16558.507518796992,16558.507518796992,16558.507518796992,16558.507518796992,16558.507518796992,16558.507518796992,16558.507518796992,16558.507518796992,16558.507518796992,16558.507518796992,16558.507518796992,16558.507518796992,16558.507518796992,16558.507518796992,16558.507518796992,16558.507518796992,16558.507518796992,16558.507518796992,16558.507518796992,16558.507518796992,16558.507518796992,16558.507518796992,16558.507518796992,16558.507518796992,16558.507518796992,16558.507518796992,16558.507518796992,16558.507518796992,16558.507518796992,16558.507518796992,16558.507518796992,16558.507518796992,16558.507518796992,16558.507518796992,16558.507518796992,16558.507518796992,16558.507518796992,16558.507518796992,16558.507518796992,16558.507518796992,16558.507518796992,16558.507518796992,16558.507518796992,16558.507518796992,16558.507518796992,16558.507518796992,16558.507518796992,16558.507518796992,16558.507518796992,16558.507518796992,16558.507518796992,16558.507518796992,16558.507518796992,16558.507518796992,16558.507518796992,16558.507518796992,18529.852941176472,18529.852941176472,18529.852941176472,18529.852941176472,18529.852941176472,18529.852941176472,18529.852941176472,19239.416666666668,19239.416666666668,19239.416666666668,19239.416666666668,19239.416666666668,19239.416666666668,18747.5,16698.20779220779,16698.20779220779,16698.20779220779,16698.20779220779,16698.20779220779,16698.20779220779,16698.20779220779,16698.20779220779,16698.20779220779,16698.20779220779,16698.20779220779,16698.20779220779,16698.20779220779,16698.20779220779,16698.20779220779,16698.20779220779,16698.20779220779,16698.20779220779,16698.20779220779,16698.20779220779,16698.20779220779,16698.20779220779,16698.20779220779,16698.20779220779,15440.79411764706,15440.79411764706,15440.79411764706,15440.79411764706,15440.79411764706,15440.79411764706,15440.79411764706,15440.79411764706,15440.79411764706,15440.79411764706,15440.79411764706,15440.79411764706,15440.79411764706,15440.79411764706,15440.79411764706,15440.79411764706,15440.79411764706,15440.79411764706,15440.79411764706,15440.79411764706,15440.79411764706,15440.79411764706,15440.79411764706,15440.79411764706,12160.692307692309,12160.692307692309,12160.692307692309,12160.692307692309,12160.692307692309,12160.692307692309,12160.692307692309,12160.692307692309,12160.692307692309,12160.692307692309,12160.692307692309,12160.692307692309,12160.692307692309,12160.692307692309,12160.692307692309,12160.692307692309,12160.692307692309,12160.692307692309,14938.407407407407,14938.407407407407,14938.407407407407,14938.407407407407,14938.407407407407,14938.407407407407,14938.407407407407,14938.407407407407,14938.407407407407,14938.407407407407,14938.407407407407,14938.407407407407,14938.407407407407,14938.407407407407,14938.407407407407,14938.407407407407,14938.407407407407,14938.407407407407,14938.407407407407,14938.407407407407,14938.407407407407,14763.555555555555,14763.555555555555,14763.555555555555,14763.555555555555,14763.555555555555,14763.555555555555,14763.555555555555,14763.555555555555,14763.555555555555,16558.507518796992,16558.507518796992,16558.507518796992,16558.507518796992,16558.507518796992,16558.507518796992,16558.507518796992,16558.507518796992,16558.507518796992,16558.507518796992,16558.507518796992,16558.507518796992,16558.507518796992,12110.0,12110.0,12110.0,12110.0,12110.0,12110.0,12110.0,12110.0,12110.0,12110.0,12110.0,12110.0,12110.0,12110.0,12110.0,14664.3,14664.3,14664.3,14664.3,15958.781818181818,15958.781818181818,15958.781818181818,15958.781818181818,15958.781818181818,15958.781818181818,15958.781818181818,15958.781818181818,15958.781818181818,15958.781818181818,15958.781818181818,15958.781818181818,15958.781818181818,15958.781818181818,10461.870967741936,10461.870967741936,10461.870967741936,10461.870967741936,10461.870967741936,10461.870967741936,10461.870967741936,10461.870967741936,10461.870967741936,14246.172297297297,14246.172297297297,14246.172297297297,14246.172297297297,14246.172297297297,14246.172297297297,14246.172297297297,14246.172297297297,14246.172297297297,14246.172297297297,14246.172297297297,14246.172297297297,14246.172297297297,14246.172297297297,14246.172297297297,14246.172297297297,14246.172297297297,14246.172297297297,14246.172297297297,14246.172297297297,14246.172297297297,14246.172297297297,14246.172297297297,14246.172297297297,14246.172297297297,14246.172297297297,14246.172297297297,14246.172297297297,14246.172297297297,14246.172297297297,14246.172297297297,14246.172297297297,14246.172297297297,14246.172297297297,14246.172297297297,14246.172297297297,14246.172297297297,14246.172297297297,14246.172297297297,14246.172297297297,14246.172297297297,14246.172297297297,14246.172297297297,14246.172297297297,14246.172297297297,14246.172297297297,14246.172297297297,14246.172297297297,14246.172297297297,14246.172297297297,14246.172297297297,14246.172297297297,14246.172297297297,14246.172297297297,14246.172297297297,14246.172297297297,14246.172297297297,14246.172297297297,14246.172297297297,14246.172297297297,14246.172297297297,14246.172297297297,16533.947368421053,16533.947368421053,16533.947368421053,16533.947368421053,16533.947368421053,16533.947368421053,16533.947368421053,16533.947368421053,16533.947368421053,16533.947368421053,16533.947368421053,16533.947368421053,16533.947368421053,16533.947368421053,16533.947368421053,16533.947368421053,16533.947368421053,16533.947368421053,16533.947368421053,16533.947368421053,16533.947368421053,16533.947368421053,16533.947368421053,16533.947368421053,16533.947368421053,20411.39285714286,20411.39285714286,20411.39285714286,20411.39285714286,20411.39285714286,20411.39285714286,20411.39285714286,20411.39285714286,20411.39285714286,20446.166666666668,19713.30769230769,19713.30769230769,19713.30769230769,19713.30769230769,19713.30769230769,19713.30769230769,19713.30769230769,19713.30769230769,19713.30769230769,19713.30769230769,19713.30769230769,19713.30769230769,19713.30769230769,19713.30769230769,19713.30769230769,19713.30769230769,19713.30769230769,19713.30769230769,19713.30769230769,19713.30769230769,19713.30769230769,19713.30769230769,19713.30769230769,19713.30769230769,19713.30769230769,19713.30769230769,19713.30769230769,19713.30769230769,13940.37962962963,13940.37962962963,13940.37962962963,13940.37962962963,13940.37962962963,13940.37962962963,13940.37962962963,13940.37962962963,13940.37962962963,13940.37962962963,13940.37962962963,13940.37962962963,13940.37962962963,13940.37962962963,13940.37962962963,13940.37962962963,13940.37962962963,13940.37962962963,13940.37962962963,13940.37962962963,13940.37962962963,13940.37962962963,13940.37962962963,13940.37962962963,13940.37962962963,13940.37962962963,12269.307692307691,12269.307692307691,12269.307692307691,12269.307692307691,12269.307692307691,16734.8,16734.8,16734.8,16734.8,16734.8,16734.8,16734.8,16734.8,16734.8,16734.8,16734.8,15473.61963190184,15473.61963190184,15473.61963190184,15473.61963190184,15473.61963190184,15473.61963190184,15473.61963190184,15473.61963190184,15473.61963190184,15473.61963190184,15473.61963190184,15473.61963190184,15473.61963190184,15473.61963190184,15473.61963190184,15473.61963190184,15473.61963190184,15473.61963190184,15473.61963190184,15473.61963190184,15473.61963190184,15473.61963190184,15473.61963190184,15473.61963190184,15473.61963190184,15473.61963190184,15473.61963190184,15473.61963190184,15473.61963190184,15473.61963190184,15473.61963190184,15473.61963190184,15473.61963190184,15473.61963190184,15473.61963190184,15473.61963190184,15473.61963190184,15473.61963190184,15473.61963190184,15473.61963190184,15473.61963190184,15473.61963190184,15473.61963190184,15473.61963190184,15473.61963190184,15473.61963190184,15473.61963190184,15473.61963190184,15473.61963190184,15645.618181818181,15645.618181818181,15645.618181818181,15645.618181818181,15645.618181818181,15645.618181818181,15645.618181818181,15645.618181818181,15645.618181818181,15645.618181818181,15645.618181818181,15645.618181818181,15645.618181818181,15645.618181818181,15645.618181818181,15645.618181818181,15645.618181818181,15645.618181818181,15645.618181818181,15645.618181818181,15645.618181818181,15645.618181818181,15645.618181818181,15645.618181818181,15645.618181818181,15645.618181818181,15645.618181818181,15645.618181818181,15645.618181818181,15645.618181818181,15645.618181818181,15645.618181818181,15645.618181818181,15645.618181818181,15645.618181818181,15645.618181818181,15645.618181818181,15645.618181818181,15645.618181818181,15645.618181818181,15645.618181818181,15645.618181818181,15645.618181818181,15645.618181818181,15645.618181818181,15645.618181818181,15645.618181818181,15645.618181818181,15645.618181818181,15645.618181818181,15645.618181818181,12017.52380952381,12017.52380952381,12017.52380952381,12017.52380952381,12017.52380952381,12017.52380952381,12017.52380952381,12017.52380952381,12017.52380952381,12017.52380952381,12017.52380952381,12017.52380952381,12017.52380952381,12017.52380952381,12017.52380952381,12017.52380952381,12017.52380952381,12017.52380952381,12017.52380952381,12017.52380952381,12017.52380952381,12017.52380952381,12017.52380952381,12017.52380952381,12017.52380952381,12017.52380952381,12017.52380952381,12017.52380952381,12017.52380952381,12017.52380952381,12017.52380952381,12017.52380952381,12017.52380952381,12017.52380952381,12017.52380952381,12017.52380952381,12279.542857142857,12279.542857142857,12279.542857142857,12279.542857142857,12279.542857142857,12279.542857142857,12279.542857142857,12279.542857142857,12279.542857142857,12279.542857142857,12279.542857142857,12279.542857142857,12279.542857142857,12279.542857142857,12279.542857142857,12279.542857142857,12279.542857142857,12279.542857142857,12279.542857142857,12279.542857142857,12279.542857142857,11268.536585365853,11268.536585365853,11268.536585365853,11268.536585365853,11268.536585365853,11268.536585365853,11268.536585365853,11268.536585365853,11268.536585365853,11268.536585365853,11268.536585365853,11268.536585365853,11268.536585365853,11268.536585365853,11268.536585365853,11268.536585365853,11268.536585365853,11268.536585365853,11268.536585365853,11268.536585365853,11268.536585365853,12053.641975308641,12053.641975308641,12053.641975308641,12053.641975308641,12053.641975308641,12053.641975308641,12053.641975308641,12053.641975308641,12053.641975308641,12053.641975308641,12053.641975308641,12053.641975308641,12053.641975308641,12053.641975308641,12053.641975308641,12053.641975308641,12053.641975308641,12053.641975308641,12053.641975308641,12053.641975308641,17837.78125,17837.78125,17837.78125,17837.78125,17837.78125,17837.78125,17837.78125,17837.78125,17837.78125,17837.78125,17837.78125,17837.78125,17837.78125,17837.78125,20218.37777777778,20218.37777777778,20218.37777777778,20218.37777777778,20218.37777777778,20218.37777777778,20218.37777777778,20218.37777777778,20218.37777777778,22266.446428571428,22266.446428571428,22266.446428571428,22266.446428571428,22266.446428571428,22266.446428571428,22266.446428571428,22266.446428571428,22266.446428571428,22266.446428571428,22266.446428571428,17730.80172413793,17730.80172413793,17730.80172413793,17730.80172413793,17730.80172413793,17730.80172413793,17730.80172413793,17730.80172413793,17730.80172413793,17730.80172413793,17730.80172413793,17730.80172413793,17730.80172413793,17730.80172413793,17730.80172413793,17730.80172413793,17730.80172413793,17730.80172413793,17730.80172413793,17730.80172413793,17730.80172413793,17730.80172413793,17730.80172413793,17730.80172413793,17730.80172413793,17730.80172413793,17730.80172413793,17730.80172413793,17730.80172413793,17730.80172413793,17730.80172413793,17730.80172413793,17730.80172413793,17730.80172413793,17730.80172413793,17730.80172413793,17730.80172413793,17730.80172413793,17730.80172413793,17730.80172413793,17730.80172413793,17730.80172413793,17730.80172413793,17730.80172413793,17730.80172413793,17730.80172413793,17730.80172413793,17730.80172413793,17730.80172413793,17730.80172413793,17730.80172413793,14799.25,14799.25,14799.25,14799.25,14799.25,14799.25,14799.25,14799.25,14799.25,14799.25,14799.25,14799.25,14799.25,14799.25,14799.25,14799.25,14799.25,14799.25,14799.25,14799.25,14799.25,14799.25,14799.25,14799.25,14799.25,14799.25,14799.25,14799.25,14799.25,14799.25,14799.25,14799.25,14799.25,14799.25,14799.25,14799.25,14799.25,14799.25,14799.25,14799.25,14799.25,14799.25,14799.25,9939.76923076923,9939.76923076923,9939.76923076923,9939.76923076923,9939.76923076923,9939.76923076923,9939.76923076923,15749.157303370786,15749.157303370786,15749.157303370786,15749.157303370786,15749.157303370786,15749.157303370786,15749.157303370786,15749.157303370786,15749.157303370786,15749.157303370786,15749.157303370786,15749.157303370786,15749.157303370786,15749.157303370786,15749.157303370786,15749.157303370786,15749.157303370786,15749.157303370786,15749.157303370786,15749.157303370786,15749.157303370786,15749.157303370786,15749.157303370786,18299.56,18299.56,18299.56,18299.56,18299.56,18299.56,18299.56,18299.56,18299.56,18299.56,18299.56,18299.56,15104.736842105263,15104.736842105263,15104.736842105263,15104.736842105263,15104.736842105263,15104.736842105263,15104.736842105263,15104.736842105263,15104.736842105263,15104.736842105263,15104.736842105263,15104.736842105263,15104.736842105263,15104.736842105263,15104.736842105263,15104.736842105263,15104.736842105263,15104.736842105263,15104.736842105263,15104.736842105263,15104.736842105263,15104.736842105263,15104.736842105263,15104.736842105263,15104.736842105263,17463.59259259259,17463.59259259259,17463.59259259259,17463.59259259259,17840.30769230769,17840.30769230769,17840.30769230769,17840.30769230769,17840.30769230769,17840.30769230769,17840.30769230769,17840.30769230769,17840.30769230769,17840.30769230769,18678.0625,18678.0625,18678.0625,18678.0625,18678.0625,18678.0625,18678.0625,18678.0625,18678.0625,18678.0625,12444.166666666666,12444.166666666666,12444.166666666666,12444.166666666666,12444.166666666666,12444.166666666666,14766.713333333333,14766.713333333333,14766.713333333333,14766.713333333333,14766.713333333333,14766.713333333333,14766.713333333333,14766.713333333333,14766.713333333333,14766.713333333333,14766.713333333333,14766.713333333333,14766.713333333333,14766.713333333333,14766.713333333333,14766.713333333333,18064.468085106382,18064.468085106382,18064.468085106382,18064.468085106382,18064.468085106382,18064.468085106382,18064.468085106382,18064.468085106382,18064.468085106382,18064.468085106382,18064.468085106382,18064.468085106382,18064.468085106382,18064.468085106382,18064.468085106382,18064.468085106382,18064.468085106382,18064.468085106382,18064.468085106382,18064.468085106382,18064.468085106382,18064.468085106382,18064.468085106382,18064.468085106382,18064.468085106382,18064.468085106382,8953.6,8953.6,8953.6,8953.6,8953.6,8953.6,8953.6,8953.6,19323.698630136987,19323.698630136987,19323.698630136987,19323.698630136987,19323.698630136987,19323.698630136987,19323.698630136987,19323.698630136987,19323.698630136987,19323.698630136987,19323.698630136987,19323.698630136987,19323.698630136987,19323.698630136987,19323.698630136987,19323.698630136987,19323.698630136987,19323.698630136987,19323.698630136987,19323.698630136987,19323.698630136987,19323.698630136987,19323.698630136987,19323.698630136987,19323.698630136987,19323.698630136987,19323.698630136987,19323.698630136987,19323.698630136987,19323.698630136987,19323.698630136987,19323.698630136987,19323.698630136987,19323.698630136987,19323.698630136987,19323.698630136987,19323.698630136987,19323.698630136987,19323.698630136987,19323.698630136987,19323.698630136987,19323.698630136987,19323.698630136987,19323.698630136987,19323.698630136987,19323.698630136987,19323.698630136987,19323.698630136987,19323.698630136987,19323.698630136987,19323.698630136987,19323.698630136987,12199.823529411764,12199.823529411764,12199.823529411764,12199.823529411764,12199.823529411764,12199.823529411764,12199.823529411764,12199.823529411764,12199.823529411764,12199.823529411764,12199.823529411764,12199.823529411764,12199.823529411764,12199.823529411764,12199.823529411764,12199.823529411764,12199.823529411764,12199.823529411764,12199.823529411764,12199.823529411764,12199.823529411764,12199.823529411764,12199.823529411764,12199.823529411764,15656.096153846154,15656.096153846154,15656.096153846154,15656.096153846154,15656.096153846154,15656.096153846154,15656.096153846154,15656.096153846154,15656.096153846154,15656.096153846154,15656.096153846154,15656.096153846154,15656.096153846154,15656.096153846154,15656.096153846154,15656.096153846154,15656.096153846154,15656.096153846154,15656.096153846154,15656.096153846154,15656.096153846154,15656.096153846154,17437.7,17437.7,17437.7,17437.7,17437.7,17437.7,17437.7,17437.7,17437.7,17437.7,17437.7,17437.7,17437.7,17437.7,17437.7,17437.7,17437.7,17437.7,17437.7,17437.7,17437.7,17437.7,17437.7,17437.7,17437.7,17437.7,17437.7,17437.7,17437.7,17437.7,17437.7,17437.7,17437.7,17437.7,17437.7,17437.7,18269.0,18269.0,15660.6,15660.6,15660.6,15660.6,15660.6,15660.6,15660.6,15660.6,15660.6,15660.6,15660.6,15660.6,15660.6,15660.6,15660.6,14212.894736842105,14212.894736842105,14212.894736842105,14212.894736842105,14212.894736842105,14212.894736842105,14212.894736842105,11833.956043956045,11833.956043956045,11833.956043956045,11833.956043956045,11833.956043956045,11833.956043956045,11833.956043956045,11833.956043956045,11833.956043956045,11833.956043956045,11833.956043956045,11833.956043956045,11833.956043956045,11833.956043956045,11833.956043956045,11833.956043956045,11833.956043956045,11833.956043956045,11833.956043956045,11833.956043956045,11833.956043956045,16558.507518796992,16558.507518796992,16558.507518796992,16558.507518796992,16558.507518796992,16558.507518796992,16558.507518796992,16558.507518796992,16558.507518796992,16558.507518796992,16558.507518796992,16558.507518796992,16558.507518796992,16558.507518796992,16558.507518796992,16558.507518796992,16558.507518796992,16558.507518796992,16558.507518796992,16558.507518796992,16558.507518796992,16558.507518796992,16558.507518796992,16558.507518796992,16558.507518796992,16558.507518796992,16558.507518796992,16558.507518796992,16558.507518796992,16558.507518796992,16558.507518796992,16558.507518796992,16558.507518796992,16558.507518796992,16558.507518796992,16558.507518796992,16558.507518796992,16558.507518796992,16558.507518796992,16558.507518796992,16558.507518796992,16558.507518796992,16558.507518796992,16558.507518796992,16558.507518796992,16558.507518796992,16558.507518796992,16558.507518796992,16558.507518796992,16558.507518796992,16558.507518796992,16558.507518796992,16558.507518796992,16558.507518796992,16558.507518796992,16558.507518796992,16558.507518796992,16558.507518796992,16558.507518796992,16558.507518796992,16558.507518796992,16558.507518796992,16558.507518796992,16558.507518796992,16558.507518796992,16558.507518796992,16558.507518796992,16558.507518796992,16558.507518796992,16558.507518796992,16558.507518796992,16558.507518796992,16558.507518796992,18529.852941176472,18529.852941176472,18529.852941176472,18529.852941176472,18529.852941176472,18529.852941176472,18529.852941176472,18529.852941176472,18529.852941176472,18529.852941176472,18529.852941176472,18529.852941176472,18529.852941176472,18529.852941176472,18529.852941176472,18529.852941176472,18529.852941176472,18529.852941176472,18529.852941176472,18529.852941176472,18529.852941176472,19239.416666666668,19239.416666666668,19239.416666666668,19239.416666666668,19239.416666666668,16698.20779220779,16698.20779220779,16698.20779220779,16698.20779220779,16698.20779220779,16698.20779220779,16698.20779220779,16698.20779220779,16698.20779220779,16698.20779220779,16698.20779220779,16698.20779220779,16698.20779220779,16698.20779220779,16698.20779220779,16698.20779220779,16698.20779220779,16698.20779220779,16698.20779220779,16698.20779220779,16698.20779220779,16698.20779220779,16698.20779220779,16698.20779220779,15440.79411764706,15440.79411764706,15440.79411764706,15440.79411764706,15440.79411764706,15440.79411764706,15440.79411764706,15440.79411764706,15440.79411764706,15440.79411764706,15440.79411764706,15440.79411764706,15440.79411764706,15440.79411764706,15440.79411764706,15440.79411764706,15440.79411764706,15440.79411764706,15440.79411764706,12160.692307692309,12160.692307692309,12160.692307692309,12160.692307692309,12160.692307692309,12160.692307692309,12160.692307692309,12160.692307692309,14938.407407407407,14938.407407407407,14938.407407407407,14938.407407407407,14938.407407407407,14938.407407407407,14938.407407407407,14938.407407407407,14938.407407407407,14938.407407407407,14938.407407407407,14938.407407407407,14938.407407407407,14938.407407407407,14938.407407407407,14938.407407407407,14938.407407407407,14938.407407407407,14938.407407407407,14938.407407407407,14938.407407407407,14938.407407407407,14938.407407407407,14938.407407407407,14938.407407407407,14938.407407407407,14938.407407407407,14938.407407407407,14938.407407407407,14938.407407407407,14938.407407407407,14938.407407407407,14938.407407407407,14938.407407407407,14938.407407407407,14938.407407407407,14938.407407407407,14938.407407407407,14938.407407407407,14938.407407407407,14938.407407407407,14938.407407407407,14938.407407407407,14938.407407407407,14938.407407407407,14938.407407407407,14938.407407407407,14938.407407407407,14938.407407407407,14938.407407407407,14938.407407407407,14938.407407407407,14938.407407407407,14938.407407407407,14938.407407407407,14938.407407407407,14938.407407407407,14938.407407407407,14938.407407407407,14763.555555555555,14763.555555555555,14763.555555555555,14763.555555555555,14763.555555555555,14763.555555555555,16558.507518796992,16558.507518796992,16558.507518796992,16558.507518796992,16558.507518796992,16558.507518796992,16558.507518796992,16558.507518796992,16558.507518796992,16558.507518796992,16558.507518796992,12110.0,12110.0,12110.0,12110.0,12110.0,14664.3,14664.3,15958.781818181818,15958.781818181818,15958.781818181818,15958.781818181818,10461.870967741936,10461.870967741936,14246.172297297297,14246.172297297297,14246.172297297297,14246.172297297297,14246.172297297297,14246.172297297297,14246.172297297297,14246.172297297297,14246.172297297297,14246.172297297297,14246.172297297297,14246.172297297297,14246.172297297297,14246.172297297297,14246.172297297297,14246.172297297297,14246.172297297297,14246.172297297297,14246.172297297297,14246.172297297297,14246.172297297297,16533.947368421053,16533.947368421053,16533.947368421053,16533.947368421053,16533.947368421053,16533.947368421053,19713.30769230769,19713.30769230769,19713.30769230769,19713.30769230769,19713.30769230769,19713.30769230769,19713.30769230769,19713.30769230769,19713.30769230769,13940.37962962963,13940.37962962963,13940.37962962963,13940.37962962963,13940.37962962963,12269.307692307691,12269.307692307691,12269.307692307691,16734.8,16734.8,16734.8,16734.8,16734.8,15473.61963190184,15473.61963190184,15473.61963190184,15473.61963190184,15473.61963190184,15473.61963190184,15473.61963190184,15473.61963190184,15473.61963190184,15473.61963190184,15473.61963190184,15473.61963190184,15645.618181818181,15645.618181818181,15645.618181818181,15645.618181818181,15645.618181818181,15645.618181818181,15645.618181818181,15645.618181818181,15645.618181818181,15645.618181818181,15645.618181818181,15645.618181818181,15645.618181818181,12017.52380952381,12017.52380952381,12017.52380952381,12017.52380952381,12017.52380952381,12017.52380952381,12017.52380952381,12279.542857142857,12279.542857142857,12279.542857142857,12279.542857142857,12279.542857142857,12279.542857142857,12279.542857142857,12279.542857142857,11268.536585365853,12053.641975308641,12053.641975308641,12053.641975308641,17837.78125,17837.78125,17837.78125,20218.37777777778,20218.37777777778,20218.37777777778,20218.37777777778,20218.37777777778,22266.446428571428,22266.446428571428,22266.446428571428,22266.446428571428,22266.446428571428,22266.446428571428,22266.446428571428,17730.80172413793,17730.80172413793,17730.80172413793,17730.80172413793,17730.80172413793,17730.80172413793,17730.80172413793,17730.80172413793,17730.80172413793,17730.80172413793,17730.80172413793,14799.25,14799.25,14799.25,14799.25,14799.25,14799.25,14799.25,14799.25,9939.76923076923,15749.157303370786,15749.157303370786,15749.157303370786,15749.157303370786,15749.157303370786,15749.157303370786,18299.56,18299.56,18299.56,15104.736842105263,15104.736842105263,17840.30769230769,17840.30769230769,17840.30769230769,18678.0625,18678.0625,18678.0625,18678.0625,18678.0625,18678.0625,14766.713333333333,18064.468085106382,18064.468085106382,18064.468085106382,18064.468085106382,18064.468085106382,18064.468085106382,18064.468085106382,19323.698630136987,19323.698630136987,19323.698630136987,19323.698630136987,19323.698630136987,19323.698630136987,19323.698630136987,19323.698630136987,19323.698630136987,19323.698630136987,19323.698630136987,19323.698630136987,19323.698630136987,19323.698630136987,19323.698630136987,19323.698630136987,19323.698630136987,19323.698630136987,19323.698630136987,19323.698630136987,12199.823529411764,12199.823529411764,12199.823529411764,12199.823529411764,12199.823529411764,12199.823529411764,12199.823529411764,12199.823529411764,12199.823529411764,15656.096153846154,15656.096153846154,15656.096153846154,17437.7,17437.7,17437.7,17437.7,17437.7,17437.7,17437.7,17437.7,17437.7,17437.7,17437.7,18269.0,18269.0,15660.6,15660.6,15660.6,15660.6,15660.6,14212.894736842105,14212.894736842105,14212.894736842105,14212.894736842105,14212.894736842105,11833.956043956045,16558.507518796992,16558.507518796992,16558.507518796992,16558.507518796992,16558.507518796992,16558.507518796992,16558.507518796992,16558.507518796992,16558.507518796992,16558.507518796992,16558.507518796992,16558.507518796992,16558.507518796992,16558.507518796992,16558.507518796992,16558.507518796992,18529.852941176472,18529.852941176472,18529.852941176472,18529.852941176472,16698.20779220779,16698.20779220779,16698.20779220779,16698.20779220779,16698.20779220779,16698.20779220779,16698.20779220779,16698.20779220779,16698.20779220779,15440.79411764706,15440.79411764706,15440.79411764706,15440.79411764706,15440.79411764706,15440.79411764706,12160.692307692309,14938.407407407407,14938.407407407407,14938.407407407407,14938.407407407407,14938.407407407407,14938.407407407407,14938.407407407407,14938.407407407407,14938.407407407407,14938.407407407407,14938.407407407407,14938.407407407407,14938.407407407407,14938.407407407407,14938.407407407407,14938.407407407407,14938.407407407407,14938.407407407407,14938.407407407407,14938.407407407407,14938.407407407407,14938.407407407407,14763.555555555555,16558.507518796992,16558.507518796992,16558.507518796992,16558.507518796992,16558.507518796992,16558.507518796992,16558.507518796992,16558.507518796992],\"type\":\"choropleth\"}],                        {\"template\":{\"data\":{\"histogram2dcontour\":[{\"type\":\"histogram2dcontour\",\"colorbar\":{\"outlinewidth\":0,\"ticks\":\"\"},\"colorscale\":[[0.0,\"#0d0887\"],[0.1111111111111111,\"#46039f\"],[0.2222222222222222,\"#7201a8\"],[0.3333333333333333,\"#9c179e\"],[0.4444444444444444,\"#bd3786\"],[0.5555555555555556,\"#d8576b\"],[0.6666666666666666,\"#ed7953\"],[0.7777777777777778,\"#fb9f3a\"],[0.8888888888888888,\"#fdca26\"],[1.0,\"#f0f921\"]]}],\"choropleth\":[{\"type\":\"choropleth\",\"colorbar\":{\"outlinewidth\":0,\"ticks\":\"\"}}],\"histogram2d\":[{\"type\":\"histogram2d\",\"colorbar\":{\"outlinewidth\":0,\"ticks\":\"\"},\"colorscale\":[[0.0,\"#0d0887\"],[0.1111111111111111,\"#46039f\"],[0.2222222222222222,\"#7201a8\"],[0.3333333333333333,\"#9c179e\"],[0.4444444444444444,\"#bd3786\"],[0.5555555555555556,\"#d8576b\"],[0.6666666666666666,\"#ed7953\"],[0.7777777777777778,\"#fb9f3a\"],[0.8888888888888888,\"#fdca26\"],[1.0,\"#f0f921\"]]}],\"heatmap\":[{\"type\":\"heatmap\",\"colorbar\":{\"outlinewidth\":0,\"ticks\":\"\"},\"colorscale\":[[0.0,\"#0d0887\"],[0.1111111111111111,\"#46039f\"],[0.2222222222222222,\"#7201a8\"],[0.3333333333333333,\"#9c179e\"],[0.4444444444444444,\"#bd3786\"],[0.5555555555555556,\"#d8576b\"],[0.6666666666666666,\"#ed7953\"],[0.7777777777777778,\"#fb9f3a\"],[0.8888888888888888,\"#fdca26\"],[1.0,\"#f0f921\"]]}],\"heatmapgl\":[{\"type\":\"heatmapgl\",\"colorbar\":{\"outlinewidth\":0,\"ticks\":\"\"},\"colorscale\":[[0.0,\"#0d0887\"],[0.1111111111111111,\"#46039f\"],[0.2222222222222222,\"#7201a8\"],[0.3333333333333333,\"#9c179e\"],[0.4444444444444444,\"#bd3786\"],[0.5555555555555556,\"#d8576b\"],[0.6666666666666666,\"#ed7953\"],[0.7777777777777778,\"#fb9f3a\"],[0.8888888888888888,\"#fdca26\"],[1.0,\"#f0f921\"]]}],\"contourcarpet\":[{\"type\":\"contourcarpet\",\"colorbar\":{\"outlinewidth\":0,\"ticks\":\"\"}}],\"contour\":[{\"type\":\"contour\",\"colorbar\":{\"outlinewidth\":0,\"ticks\":\"\"},\"colorscale\":[[0.0,\"#0d0887\"],[0.1111111111111111,\"#46039f\"],[0.2222222222222222,\"#7201a8\"],[0.3333333333333333,\"#9c179e\"],[0.4444444444444444,\"#bd3786\"],[0.5555555555555556,\"#d8576b\"],[0.6666666666666666,\"#ed7953\"],[0.7777777777777778,\"#fb9f3a\"],[0.8888888888888888,\"#fdca26\"],[1.0,\"#f0f921\"]]}],\"surface\":[{\"type\":\"surface\",\"colorbar\":{\"outlinewidth\":0,\"ticks\":\"\"},\"colorscale\":[[0.0,\"#0d0887\"],[0.1111111111111111,\"#46039f\"],[0.2222222222222222,\"#7201a8\"],[0.3333333333333333,\"#9c179e\"],[0.4444444444444444,\"#bd3786\"],[0.5555555555555556,\"#d8576b\"],[0.6666666666666666,\"#ed7953\"],[0.7777777777777778,\"#fb9f3a\"],[0.8888888888888888,\"#fdca26\"],[1.0,\"#f0f921\"]]}],\"mesh3d\":[{\"type\":\"mesh3d\",\"colorbar\":{\"outlinewidth\":0,\"ticks\":\"\"}}],\"scatter\":[{\"fillpattern\":{\"fillmode\":\"overlay\",\"size\":10,\"solidity\":0.2},\"type\":\"scatter\"}],\"parcoords\":[{\"type\":\"parcoords\",\"line\":{\"colorbar\":{\"outlinewidth\":0,\"ticks\":\"\"}}}],\"scatterpolargl\":[{\"type\":\"scatterpolargl\",\"marker\":{\"colorbar\":{\"outlinewidth\":0,\"ticks\":\"\"}}}],\"bar\":[{\"error_x\":{\"color\":\"#2a3f5f\"},\"error_y\":{\"color\":\"#2a3f5f\"},\"marker\":{\"line\":{\"color\":\"#E5ECF6\",\"width\":0.5},\"pattern\":{\"fillmode\":\"overlay\",\"size\":10,\"solidity\":0.2}},\"type\":\"bar\"}],\"scattergeo\":[{\"type\":\"scattergeo\",\"marker\":{\"colorbar\":{\"outlinewidth\":0,\"ticks\":\"\"}}}],\"scatterpolar\":[{\"type\":\"scatterpolar\",\"marker\":{\"colorbar\":{\"outlinewidth\":0,\"ticks\":\"\"}}}],\"histogram\":[{\"marker\":{\"pattern\":{\"fillmode\":\"overlay\",\"size\":10,\"solidity\":0.2}},\"type\":\"histogram\"}],\"scattergl\":[{\"type\":\"scattergl\",\"marker\":{\"colorbar\":{\"outlinewidth\":0,\"ticks\":\"\"}}}],\"scatter3d\":[{\"type\":\"scatter3d\",\"line\":{\"colorbar\":{\"outlinewidth\":0,\"ticks\":\"\"}},\"marker\":{\"colorbar\":{\"outlinewidth\":0,\"ticks\":\"\"}}}],\"scattermapbox\":[{\"type\":\"scattermapbox\",\"marker\":{\"colorbar\":{\"outlinewidth\":0,\"ticks\":\"\"}}}],\"scatterternary\":[{\"type\":\"scatterternary\",\"marker\":{\"colorbar\":{\"outlinewidth\":0,\"ticks\":\"\"}}}],\"scattercarpet\":[{\"type\":\"scattercarpet\",\"marker\":{\"colorbar\":{\"outlinewidth\":0,\"ticks\":\"\"}}}],\"carpet\":[{\"aaxis\":{\"endlinecolor\":\"#2a3f5f\",\"gridcolor\":\"white\",\"linecolor\":\"white\",\"minorgridcolor\":\"white\",\"startlinecolor\":\"#2a3f5f\"},\"baxis\":{\"endlinecolor\":\"#2a3f5f\",\"gridcolor\":\"white\",\"linecolor\":\"white\",\"minorgridcolor\":\"white\",\"startlinecolor\":\"#2a3f5f\"},\"type\":\"carpet\"}],\"table\":[{\"cells\":{\"fill\":{\"color\":\"#EBF0F8\"},\"line\":{\"color\":\"white\"}},\"header\":{\"fill\":{\"color\":\"#C8D4E3\"},\"line\":{\"color\":\"white\"}},\"type\":\"table\"}],\"barpolar\":[{\"marker\":{\"line\":{\"color\":\"#E5ECF6\",\"width\":0.5},\"pattern\":{\"fillmode\":\"overlay\",\"size\":10,\"solidity\":0.2}},\"type\":\"barpolar\"}],\"pie\":[{\"automargin\":true,\"type\":\"pie\"}]},\"layout\":{\"autotypenumbers\":\"strict\",\"colorway\":[\"#636efa\",\"#EF553B\",\"#00cc96\",\"#ab63fa\",\"#FFA15A\",\"#19d3f3\",\"#FF6692\",\"#B6E880\",\"#FF97FF\",\"#FECB52\"],\"font\":{\"color\":\"#2a3f5f\"},\"hovermode\":\"closest\",\"hoverlabel\":{\"align\":\"left\"},\"paper_bgcolor\":\"white\",\"plot_bgcolor\":\"#E5ECF6\",\"polar\":{\"bgcolor\":\"#E5ECF6\",\"angularaxis\":{\"gridcolor\":\"white\",\"linecolor\":\"white\",\"ticks\":\"\"},\"radialaxis\":{\"gridcolor\":\"white\",\"linecolor\":\"white\",\"ticks\":\"\"}},\"ternary\":{\"bgcolor\":\"#E5ECF6\",\"aaxis\":{\"gridcolor\":\"white\",\"linecolor\":\"white\",\"ticks\":\"\"},\"baxis\":{\"gridcolor\":\"white\",\"linecolor\":\"white\",\"ticks\":\"\"},\"caxis\":{\"gridcolor\":\"white\",\"linecolor\":\"white\",\"ticks\":\"\"}},\"coloraxis\":{\"colorbar\":{\"outlinewidth\":0,\"ticks\":\"\"}},\"colorscale\":{\"sequential\":[[0.0,\"#0d0887\"],[0.1111111111111111,\"#46039f\"],[0.2222222222222222,\"#7201a8\"],[0.3333333333333333,\"#9c179e\"],[0.4444444444444444,\"#bd3786\"],[0.5555555555555556,\"#d8576b\"],[0.6666666666666666,\"#ed7953\"],[0.7777777777777778,\"#fb9f3a\"],[0.8888888888888888,\"#fdca26\"],[1.0,\"#f0f921\"]],\"sequentialminus\":[[0.0,\"#0d0887\"],[0.1111111111111111,\"#46039f\"],[0.2222222222222222,\"#7201a8\"],[0.3333333333333333,\"#9c179e\"],[0.4444444444444444,\"#bd3786\"],[0.5555555555555556,\"#d8576b\"],[0.6666666666666666,\"#ed7953\"],[0.7777777777777778,\"#fb9f3a\"],[0.8888888888888888,\"#fdca26\"],[1.0,\"#f0f921\"]],\"diverging\":[[0,\"#8e0152\"],[0.1,\"#c51b7d\"],[0.2,\"#de77ae\"],[0.3,\"#f1b6da\"],[0.4,\"#fde0ef\"],[0.5,\"#f7f7f7\"],[0.6,\"#e6f5d0\"],[0.7,\"#b8e186\"],[0.8,\"#7fbc41\"],[0.9,\"#4d9221\"],[1,\"#276419\"]]},\"xaxis\":{\"gridcolor\":\"white\",\"linecolor\":\"white\",\"ticks\":\"\",\"title\":{\"standoff\":15},\"zerolinecolor\":\"white\",\"automargin\":true,\"zerolinewidth\":2},\"yaxis\":{\"gridcolor\":\"white\",\"linecolor\":\"white\",\"ticks\":\"\",\"title\":{\"standoff\":15},\"zerolinecolor\":\"white\",\"automargin\":true,\"zerolinewidth\":2},\"scene\":{\"xaxis\":{\"backgroundcolor\":\"#E5ECF6\",\"gridcolor\":\"white\",\"linecolor\":\"white\",\"showbackground\":true,\"ticks\":\"\",\"zerolinecolor\":\"white\",\"gridwidth\":2},\"yaxis\":{\"backgroundcolor\":\"#E5ECF6\",\"gridcolor\":\"white\",\"linecolor\":\"white\",\"showbackground\":true,\"ticks\":\"\",\"zerolinecolor\":\"white\",\"gridwidth\":2},\"zaxis\":{\"backgroundcolor\":\"#E5ECF6\",\"gridcolor\":\"white\",\"linecolor\":\"white\",\"showbackground\":true,\"ticks\":\"\",\"zerolinecolor\":\"white\",\"gridwidth\":2}},\"shapedefaults\":{\"line\":{\"color\":\"#2a3f5f\"}},\"annotationdefaults\":{\"arrowcolor\":\"#2a3f5f\",\"arrowhead\":0,\"arrowwidth\":1},\"geo\":{\"bgcolor\":\"white\",\"landcolor\":\"#E5ECF6\",\"subunitcolor\":\"white\",\"showland\":true,\"showlakes\":true,\"lakecolor\":\"white\"},\"title\":{\"x\":0.05},\"mapbox\":{\"style\":\"light\"}}},\"title\":{\"text\":\"Average Cost of Hip and Knee Care by State\"},\"geo\":{\"scope\":\"usa\"}},                        {\"responsive\": true}                    ).then(function(){\n",
              "                            \n",
              "var gd = document.getElementById('0c8fd9ca-55fe-41c2-bb5f-f946ccad69ec');\n",
              "var x = new MutationObserver(function (mutations, observer) {{\n",
              "        var display = window.getComputedStyle(gd).display;\n",
              "        if (!display || display === 'none') {{\n",
              "            console.log([gd, 'removed!']);\n",
              "            Plotly.purge(gd);\n",
              "            observer.disconnect();\n",
              "        }}\n",
              "}});\n",
              "\n",
              "// Listen for the removal of the full notebook cells\n",
              "var notebookContainer = gd.closest('#notebook-container');\n",
              "if (notebookContainer) {{\n",
              "    x.observe(notebookContainer, {childList: true});\n",
              "}}\n",
              "\n",
              "// Listen for the clearing of the current output cell\n",
              "var outputEl = gd.closest('.output');\n",
              "if (outputEl) {{\n",
              "    x.observe(outputEl, {childList: true});\n",
              "}}\n",
              "\n",
              "                        })                };                            </script>        </div>\n",
              "</body>\n",
              "</html>"
            ]
          },
          "metadata": {}
        }
      ]
    },
    {
      "cell_type": "markdown",
      "source": [
        "**Modeling**"
      ],
      "metadata": {
        "id": "v-kW_rpYYa9g"
      }
    },
    {
      "cell_type": "code",
      "source": [
        "df2 = df.copy()\n",
        "df2.duplicated().sum()\n",
        "#drop duplicates from data\n",
        "df2.drop_duplicates(inplace=True)"
      ],
      "metadata": {
        "id": "wJ7TBPcuYco_"
      },
      "execution_count": 330,
      "outputs": []
    },
    {
      "cell_type": "code",
      "source": [
        "#drop mean columns that's not needed for modeling\n",
        "df2.drop(['Mean.HAC.State', 'Mean.HFC.State', 'Mean.Pne.State', 'Mean.HK.State'], axis=1, inplace=True)\n",
        "df2.head()"
      ],
      "metadata": {
        "colab": {
          "base_uri": "https://localhost:8080/",
          "height": 270
        },
        "id": "rqLmF3SgnKYg",
        "outputId": "dd9c54ab-67e0-4ab8-853c-0ddc2ebbafc0"
      },
      "execution_count": 331,
      "outputs": [
        {
          "output_type": "execute_result",
          "data": {
            "text/plain": [
              "  Facility.City Facility.State Facility.Type  Rating.Overall  \\\n",
              "0          Boaz             AL    Government             1.0   \n",
              "1           Opp             AL       Private             1.0   \n",
              "2    Scottsboro             AL    Government             1.0   \n",
              "3        Mobile             AL       Private             1.0   \n",
              "4        Mobile             AL   Proprietary             1.0   \n",
              "\n",
              "   Procedure.Heart.Attack.Cost  Procedure.Heart.Attack.Quality  \\\n",
              "0                        22579                               2   \n",
              "1                            0                               0   \n",
              "2                            0                               0   \n",
              "3                        22788                               2   \n",
              "4                        22208                               2   \n",
              "\n",
              "   Procedure.Heart.Attack.Value  Procedure.Heart.Failure.Cost  \\\n",
              "0                             2                         15819   \n",
              "1                             0                         14541   \n",
              "2                             0                         14855   \n",
              "3                             2                         17664   \n",
              "4                             2                         17150   \n",
              "\n",
              "   Procedure.Heart.Failure.Quality  Procedure.Heart.Failure.Value  \\\n",
              "0                                1                              2   \n",
              "1                                2                              1   \n",
              "2                                2                              1   \n",
              "3                                2                              3   \n",
              "4                                2                              2   \n",
              "\n",
              "   Procedure.Pneumonia.Cost  Procedure.Pneumonia.Quality  \\\n",
              "0                     15614                            1   \n",
              "1                     15226                            1   \n",
              "2                     14509                            2   \n",
              "3                     18321                            2   \n",
              "4                     17128                            2   \n",
              "\n",
              "   Procedure.Pneumonia.Value  Procedure.Hip.Knee.Cost  \\\n",
              "0                          1                    22747   \n",
              "1                          1                    23472   \n",
              "2                          1                    24701   \n",
              "3                          3                    21994   \n",
              "4                          2                    23520   \n",
              "\n",
              "   Procedure.Hip.Knee.Quality  Procedure.Hip.Knee.Value  \n",
              "0                           2                         2  \n",
              "1                           2                         2  \n",
              "2                           2                         3  \n",
              "3                           2                         2  \n",
              "4                           2                         3  "
            ],
            "text/html": [
              "\n",
              "  <div id=\"df-2f0ef94c-c901-4558-9df4-0ac92ace6655\">\n",
              "    <div class=\"colab-df-container\">\n",
              "      <div>\n",
              "<style scoped>\n",
              "    .dataframe tbody tr th:only-of-type {\n",
              "        vertical-align: middle;\n",
              "    }\n",
              "\n",
              "    .dataframe tbody tr th {\n",
              "        vertical-align: top;\n",
              "    }\n",
              "\n",
              "    .dataframe thead th {\n",
              "        text-align: right;\n",
              "    }\n",
              "</style>\n",
              "<table border=\"1\" class=\"dataframe\">\n",
              "  <thead>\n",
              "    <tr style=\"text-align: right;\">\n",
              "      <th></th>\n",
              "      <th>Facility.City</th>\n",
              "      <th>Facility.State</th>\n",
              "      <th>Facility.Type</th>\n",
              "      <th>Rating.Overall</th>\n",
              "      <th>Procedure.Heart.Attack.Cost</th>\n",
              "      <th>Procedure.Heart.Attack.Quality</th>\n",
              "      <th>Procedure.Heart.Attack.Value</th>\n",
              "      <th>Procedure.Heart.Failure.Cost</th>\n",
              "      <th>Procedure.Heart.Failure.Quality</th>\n",
              "      <th>Procedure.Heart.Failure.Value</th>\n",
              "      <th>Procedure.Pneumonia.Cost</th>\n",
              "      <th>Procedure.Pneumonia.Quality</th>\n",
              "      <th>Procedure.Pneumonia.Value</th>\n",
              "      <th>Procedure.Hip.Knee.Cost</th>\n",
              "      <th>Procedure.Hip.Knee.Quality</th>\n",
              "      <th>Procedure.Hip.Knee.Value</th>\n",
              "    </tr>\n",
              "  </thead>\n",
              "  <tbody>\n",
              "    <tr>\n",
              "      <th>0</th>\n",
              "      <td>Boaz</td>\n",
              "      <td>AL</td>\n",
              "      <td>Government</td>\n",
              "      <td>1.0</td>\n",
              "      <td>22579</td>\n",
              "      <td>2</td>\n",
              "      <td>2</td>\n",
              "      <td>15819</td>\n",
              "      <td>1</td>\n",
              "      <td>2</td>\n",
              "      <td>15614</td>\n",
              "      <td>1</td>\n",
              "      <td>1</td>\n",
              "      <td>22747</td>\n",
              "      <td>2</td>\n",
              "      <td>2</td>\n",
              "    </tr>\n",
              "    <tr>\n",
              "      <th>1</th>\n",
              "      <td>Opp</td>\n",
              "      <td>AL</td>\n",
              "      <td>Private</td>\n",
              "      <td>1.0</td>\n",
              "      <td>0</td>\n",
              "      <td>0</td>\n",
              "      <td>0</td>\n",
              "      <td>14541</td>\n",
              "      <td>2</td>\n",
              "      <td>1</td>\n",
              "      <td>15226</td>\n",
              "      <td>1</td>\n",
              "      <td>1</td>\n",
              "      <td>23472</td>\n",
              "      <td>2</td>\n",
              "      <td>2</td>\n",
              "    </tr>\n",
              "    <tr>\n",
              "      <th>2</th>\n",
              "      <td>Scottsboro</td>\n",
              "      <td>AL</td>\n",
              "      <td>Government</td>\n",
              "      <td>1.0</td>\n",
              "      <td>0</td>\n",
              "      <td>0</td>\n",
              "      <td>0</td>\n",
              "      <td>14855</td>\n",
              "      <td>2</td>\n",
              "      <td>1</td>\n",
              "      <td>14509</td>\n",
              "      <td>2</td>\n",
              "      <td>1</td>\n",
              "      <td>24701</td>\n",
              "      <td>2</td>\n",
              "      <td>3</td>\n",
              "    </tr>\n",
              "    <tr>\n",
              "      <th>3</th>\n",
              "      <td>Mobile</td>\n",
              "      <td>AL</td>\n",
              "      <td>Private</td>\n",
              "      <td>1.0</td>\n",
              "      <td>22788</td>\n",
              "      <td>2</td>\n",
              "      <td>2</td>\n",
              "      <td>17664</td>\n",
              "      <td>2</td>\n",
              "      <td>3</td>\n",
              "      <td>18321</td>\n",
              "      <td>2</td>\n",
              "      <td>3</td>\n",
              "      <td>21994</td>\n",
              "      <td>2</td>\n",
              "      <td>2</td>\n",
              "    </tr>\n",
              "    <tr>\n",
              "      <th>4</th>\n",
              "      <td>Mobile</td>\n",
              "      <td>AL</td>\n",
              "      <td>Proprietary</td>\n",
              "      <td>1.0</td>\n",
              "      <td>22208</td>\n",
              "      <td>2</td>\n",
              "      <td>2</td>\n",
              "      <td>17150</td>\n",
              "      <td>2</td>\n",
              "      <td>2</td>\n",
              "      <td>17128</td>\n",
              "      <td>2</td>\n",
              "      <td>2</td>\n",
              "      <td>23520</td>\n",
              "      <td>2</td>\n",
              "      <td>3</td>\n",
              "    </tr>\n",
              "  </tbody>\n",
              "</table>\n",
              "</div>\n",
              "      <button class=\"colab-df-convert\" onclick=\"convertToInteractive('df-2f0ef94c-c901-4558-9df4-0ac92ace6655')\"\n",
              "              title=\"Convert this dataframe to an interactive table.\"\n",
              "              style=\"display:none;\">\n",
              "        \n",
              "  <svg xmlns=\"http://www.w3.org/2000/svg\" height=\"24px\"viewBox=\"0 0 24 24\"\n",
              "       width=\"24px\">\n",
              "    <path d=\"M0 0h24v24H0V0z\" fill=\"none\"/>\n",
              "    <path d=\"M18.56 5.44l.94 2.06.94-2.06 2.06-.94-2.06-.94-.94-2.06-.94 2.06-2.06.94zm-11 1L8.5 8.5l.94-2.06 2.06-.94-2.06-.94L8.5 2.5l-.94 2.06-2.06.94zm10 10l.94 2.06.94-2.06 2.06-.94-2.06-.94-.94-2.06-.94 2.06-2.06.94z\"/><path d=\"M17.41 7.96l-1.37-1.37c-.4-.4-.92-.59-1.43-.59-.52 0-1.04.2-1.43.59L10.3 9.45l-7.72 7.72c-.78.78-.78 2.05 0 2.83L4 21.41c.39.39.9.59 1.41.59.51 0 1.02-.2 1.41-.59l7.78-7.78 2.81-2.81c.8-.78.8-2.07 0-2.86zM5.41 20L4 18.59l7.72-7.72 1.47 1.35L5.41 20z\"/>\n",
              "  </svg>\n",
              "      </button>\n",
              "      \n",
              "  <style>\n",
              "    .colab-df-container {\n",
              "      display:flex;\n",
              "      flex-wrap:wrap;\n",
              "      gap: 12px;\n",
              "    }\n",
              "\n",
              "    .colab-df-convert {\n",
              "      background-color: #E8F0FE;\n",
              "      border: none;\n",
              "      border-radius: 50%;\n",
              "      cursor: pointer;\n",
              "      display: none;\n",
              "      fill: #1967D2;\n",
              "      height: 32px;\n",
              "      padding: 0 0 0 0;\n",
              "      width: 32px;\n",
              "    }\n",
              "\n",
              "    .colab-df-convert:hover {\n",
              "      background-color: #E2EBFA;\n",
              "      box-shadow: 0px 1px 2px rgba(60, 64, 67, 0.3), 0px 1px 3px 1px rgba(60, 64, 67, 0.15);\n",
              "      fill: #174EA6;\n",
              "    }\n",
              "\n",
              "    [theme=dark] .colab-df-convert {\n",
              "      background-color: #3B4455;\n",
              "      fill: #D2E3FC;\n",
              "    }\n",
              "\n",
              "    [theme=dark] .colab-df-convert:hover {\n",
              "      background-color: #434B5C;\n",
              "      box-shadow: 0px 1px 3px 1px rgba(0, 0, 0, 0.15);\n",
              "      filter: drop-shadow(0px 1px 2px rgba(0, 0, 0, 0.3));\n",
              "      fill: #FFFFFF;\n",
              "    }\n",
              "  </style>\n",
              "\n",
              "      <script>\n",
              "        const buttonEl =\n",
              "          document.querySelector('#df-2f0ef94c-c901-4558-9df4-0ac92ace6655 button.colab-df-convert');\n",
              "        buttonEl.style.display =\n",
              "          google.colab.kernel.accessAllowed ? 'block' : 'none';\n",
              "\n",
              "        async function convertToInteractive(key) {\n",
              "          const element = document.querySelector('#df-2f0ef94c-c901-4558-9df4-0ac92ace6655');\n",
              "          const dataTable =\n",
              "            await google.colab.kernel.invokeFunction('convertToInteractive',\n",
              "                                                     [key], {});\n",
              "          if (!dataTable) return;\n",
              "\n",
              "          const docLinkHtml = 'Like what you see? Visit the ' +\n",
              "            '<a target=\"_blank\" href=https://colab.research.google.com/notebooks/data_table.ipynb>data table notebook</a>'\n",
              "            + ' to learn more about interactive tables.';\n",
              "          element.innerHTML = '';\n",
              "          dataTable['output_type'] = 'display_data';\n",
              "          await google.colab.output.renderOutput(dataTable, element);\n",
              "          const docLink = document.createElement('div');\n",
              "          docLink.innerHTML = docLinkHtml;\n",
              "          element.appendChild(docLink);\n",
              "        }\n",
              "      </script>\n",
              "    </div>\n",
              "  </div>\n",
              "  "
            ]
          },
          "metadata": {},
          "execution_count": 331
        }
      ]
    },
    {
      "cell_type": "code",
      "source": [
        "#df3 for deep learning model\n",
        "df3 = df2.copy()"
      ],
      "metadata": {
        "id": "SF2NuUIkpCnh"
      },
      "execution_count": null,
      "outputs": []
    },
    {
      "cell_type": "markdown",
      "source": [
        "Preprocessing"
      ],
      "metadata": {
        "id": "XZupNryuYihH"
      }
    },
    {
      "cell_type": "code",
      "source": [
        "#assign X and y\n",
        "#Rating.Overall is the target\n",
        "\n",
        "X = df2.drop(columns='Rating.Overall')\n",
        "y = df2['Rating.Overall']\n",
        "\n",
        "# split into training and test sets\n",
        "X_train, X_test, y_train, y_test = train_test_split(X, y, random_state=42)"
      ],
      "metadata": {
        "id": "kpfVms0lYffk"
      },
      "execution_count": 283,
      "outputs": []
    },
    {
      "cell_type": "code",
      "source": [
        "cat_selector = make_column_selector(dtype_include='object')\n",
        "num_selector = make_column_selector(dtype_include='number')\n",
        "\n",
        "ohe = OneHotEncoder(sparse=False, handle_unknown='ignore')\n",
        "scaler = StandardScaler()\n",
        "\n",
        "#create tuples\n",
        "ohe_tuple = (ohe, cat_selector)\n",
        "scaler_tuple = (scaler, num_selector)\n",
        "\n",
        "# let the numeric columns pass through unchanged\n",
        "preprocessor = make_column_transformer(ohe_tuple, scaler_tuple, remainder = 'passthrough')\n"
      ],
      "metadata": {
        "id": "k5t9UnLP1yXo"
      },
      "execution_count": 284,
      "outputs": []
    },
    {
      "cell_type": "markdown",
      "source": [
        "Linear Regression Model"
      ],
      "metadata": {
        "id": "SC5ZMELsqIC7"
      }
    },
    {
      "cell_type": "code",
      "source": [
        "#prediction model\n",
        "\n",
        "#define model and make pipeline\n",
        "reg = LinearRegression()\n",
        "reg_pipe = make_pipeline(preprocessor, reg)"
      ],
      "metadata": {
        "id": "ce1mo9BrsuI3"
      },
      "execution_count": 285,
      "outputs": []
    },
    {
      "cell_type": "code",
      "source": [
        "#fit model onto data\n",
        "reg_pipe.fit(X_train, y_train)"
      ],
      "metadata": {
        "colab": {
          "base_uri": "https://localhost:8080/",
          "height": 192
        },
        "id": "i-YPCpoyqL4R",
        "outputId": "87cd1fb3-6c2e-4037-912e-042d50eed7e6"
      },
      "execution_count": 286,
      "outputs": [
        {
          "output_type": "execute_result",
          "data": {
            "text/plain": [
              "Pipeline(steps=[('columntransformer',\n",
              "                 ColumnTransformer(remainder='passthrough',\n",
              "                                   transformers=[('onehotencoder',\n",
              "                                                  OneHotEncoder(handle_unknown='ignore',\n",
              "                                                                sparse=False),\n",
              "                                                  <sklearn.compose._column_transformer.make_column_selector object at 0x7f3430952350>),\n",
              "                                                 ('standardscaler',\n",
              "                                                  StandardScaler(),\n",
              "                                                  <sklearn.compose._column_transformer.make_column_selector object at 0x7f3430952b90>)])),\n",
              "                ('linearregression', LinearRegression())])"
            ],
            "text/html": [
              "<style>#sk-3035509b-906e-4309-a866-ddf6a7b0c881 {color: black;background-color: white;}#sk-3035509b-906e-4309-a866-ddf6a7b0c881 pre{padding: 0;}#sk-3035509b-906e-4309-a866-ddf6a7b0c881 div.sk-toggleable {background-color: white;}#sk-3035509b-906e-4309-a866-ddf6a7b0c881 label.sk-toggleable__label {cursor: pointer;display: block;width: 100%;margin-bottom: 0;padding: 0.3em;box-sizing: border-box;text-align: center;}#sk-3035509b-906e-4309-a866-ddf6a7b0c881 label.sk-toggleable__label-arrow:before {content: \"▸\";float: left;margin-right: 0.25em;color: #696969;}#sk-3035509b-906e-4309-a866-ddf6a7b0c881 label.sk-toggleable__label-arrow:hover:before {color: black;}#sk-3035509b-906e-4309-a866-ddf6a7b0c881 div.sk-estimator:hover label.sk-toggleable__label-arrow:before {color: black;}#sk-3035509b-906e-4309-a866-ddf6a7b0c881 div.sk-toggleable__content {max-height: 0;max-width: 0;overflow: hidden;text-align: left;background-color: #f0f8ff;}#sk-3035509b-906e-4309-a866-ddf6a7b0c881 div.sk-toggleable__content pre {margin: 0.2em;color: black;border-radius: 0.25em;background-color: #f0f8ff;}#sk-3035509b-906e-4309-a866-ddf6a7b0c881 input.sk-toggleable__control:checked~div.sk-toggleable__content {max-height: 200px;max-width: 100%;overflow: auto;}#sk-3035509b-906e-4309-a866-ddf6a7b0c881 input.sk-toggleable__control:checked~label.sk-toggleable__label-arrow:before {content: \"▾\";}#sk-3035509b-906e-4309-a866-ddf6a7b0c881 div.sk-estimator input.sk-toggleable__control:checked~label.sk-toggleable__label {background-color: #d4ebff;}#sk-3035509b-906e-4309-a866-ddf6a7b0c881 div.sk-label input.sk-toggleable__control:checked~label.sk-toggleable__label {background-color: #d4ebff;}#sk-3035509b-906e-4309-a866-ddf6a7b0c881 input.sk-hidden--visually {border: 0;clip: rect(1px 1px 1px 1px);clip: rect(1px, 1px, 1px, 1px);height: 1px;margin: -1px;overflow: hidden;padding: 0;position: absolute;width: 1px;}#sk-3035509b-906e-4309-a866-ddf6a7b0c881 div.sk-estimator {font-family: monospace;background-color: #f0f8ff;border: 1px dotted black;border-radius: 0.25em;box-sizing: border-box;margin-bottom: 0.5em;}#sk-3035509b-906e-4309-a866-ddf6a7b0c881 div.sk-estimator:hover {background-color: #d4ebff;}#sk-3035509b-906e-4309-a866-ddf6a7b0c881 div.sk-parallel-item::after {content: \"\";width: 100%;border-bottom: 1px solid gray;flex-grow: 1;}#sk-3035509b-906e-4309-a866-ddf6a7b0c881 div.sk-label:hover label.sk-toggleable__label {background-color: #d4ebff;}#sk-3035509b-906e-4309-a866-ddf6a7b0c881 div.sk-serial::before {content: \"\";position: absolute;border-left: 1px solid gray;box-sizing: border-box;top: 2em;bottom: 0;left: 50%;}#sk-3035509b-906e-4309-a866-ddf6a7b0c881 div.sk-serial {display: flex;flex-direction: column;align-items: center;background-color: white;padding-right: 0.2em;padding-left: 0.2em;}#sk-3035509b-906e-4309-a866-ddf6a7b0c881 div.sk-item {z-index: 1;}#sk-3035509b-906e-4309-a866-ddf6a7b0c881 div.sk-parallel {display: flex;align-items: stretch;justify-content: center;background-color: white;}#sk-3035509b-906e-4309-a866-ddf6a7b0c881 div.sk-parallel::before {content: \"\";position: absolute;border-left: 1px solid gray;box-sizing: border-box;top: 2em;bottom: 0;left: 50%;}#sk-3035509b-906e-4309-a866-ddf6a7b0c881 div.sk-parallel-item {display: flex;flex-direction: column;position: relative;background-color: white;}#sk-3035509b-906e-4309-a866-ddf6a7b0c881 div.sk-parallel-item:first-child::after {align-self: flex-end;width: 50%;}#sk-3035509b-906e-4309-a866-ddf6a7b0c881 div.sk-parallel-item:last-child::after {align-self: flex-start;width: 50%;}#sk-3035509b-906e-4309-a866-ddf6a7b0c881 div.sk-parallel-item:only-child::after {width: 0;}#sk-3035509b-906e-4309-a866-ddf6a7b0c881 div.sk-dashed-wrapped {border: 1px dashed gray;margin: 0 0.4em 0.5em 0.4em;box-sizing: border-box;padding-bottom: 0.4em;background-color: white;position: relative;}#sk-3035509b-906e-4309-a866-ddf6a7b0c881 div.sk-label label {font-family: monospace;font-weight: bold;background-color: white;display: inline-block;line-height: 1.2em;}#sk-3035509b-906e-4309-a866-ddf6a7b0c881 div.sk-label-container {position: relative;z-index: 2;text-align: center;}#sk-3035509b-906e-4309-a866-ddf6a7b0c881 div.sk-container {/* jupyter's `normalize.less` sets `[hidden] { display: none; }` but bootstrap.min.css set `[hidden] { display: none !important; }` so we also need the `!important` here to be able to override the default hidden behavior on the sphinx rendered scikit-learn.org. See: https://github.com/scikit-learn/scikit-learn/issues/21755 */display: inline-block !important;position: relative;}#sk-3035509b-906e-4309-a866-ddf6a7b0c881 div.sk-text-repr-fallback {display: none;}</style><div id=\"sk-3035509b-906e-4309-a866-ddf6a7b0c881\" class=\"sk-top-container\"><div class=\"sk-text-repr-fallback\"><pre>Pipeline(steps=[(&#x27;columntransformer&#x27;,\n",
              "                 ColumnTransformer(remainder=&#x27;passthrough&#x27;,\n",
              "                                   transformers=[(&#x27;onehotencoder&#x27;,\n",
              "                                                  OneHotEncoder(handle_unknown=&#x27;ignore&#x27;,\n",
              "                                                                sparse=False),\n",
              "                                                  &lt;sklearn.compose._column_transformer.make_column_selector object at 0x7f3430952350&gt;),\n",
              "                                                 (&#x27;standardscaler&#x27;,\n",
              "                                                  StandardScaler(),\n",
              "                                                  &lt;sklearn.compose._column_transformer.make_column_selector object at 0x7f3430952b90&gt;)])),\n",
              "                (&#x27;linearregression&#x27;, LinearRegression())])</pre><b>Please rerun this cell to show the HTML repr or trust the notebook.</b></div><div class=\"sk-container\" hidden><div class=\"sk-item sk-dashed-wrapped\"><div class=\"sk-label-container\"><div class=\"sk-label sk-toggleable\"><input class=\"sk-toggleable__control sk-hidden--visually\" id=\"887bc07a-fe9a-4fb7-95df-4f2807f6a5a3\" type=\"checkbox\" ><label for=\"887bc07a-fe9a-4fb7-95df-4f2807f6a5a3\" class=\"sk-toggleable__label sk-toggleable__label-arrow\">Pipeline</label><div class=\"sk-toggleable__content\"><pre>Pipeline(steps=[(&#x27;columntransformer&#x27;,\n",
              "                 ColumnTransformer(remainder=&#x27;passthrough&#x27;,\n",
              "                                   transformers=[(&#x27;onehotencoder&#x27;,\n",
              "                                                  OneHotEncoder(handle_unknown=&#x27;ignore&#x27;,\n",
              "                                                                sparse=False),\n",
              "                                                  &lt;sklearn.compose._column_transformer.make_column_selector object at 0x7f3430952350&gt;),\n",
              "                                                 (&#x27;standardscaler&#x27;,\n",
              "                                                  StandardScaler(),\n",
              "                                                  &lt;sklearn.compose._column_transformer.make_column_selector object at 0x7f3430952b90&gt;)])),\n",
              "                (&#x27;linearregression&#x27;, LinearRegression())])</pre></div></div></div><div class=\"sk-serial\"><div class=\"sk-item sk-dashed-wrapped\"><div class=\"sk-label-container\"><div class=\"sk-label sk-toggleable\"><input class=\"sk-toggleable__control sk-hidden--visually\" id=\"6c7d2714-978d-4dd0-9461-f6976b7141ff\" type=\"checkbox\" ><label for=\"6c7d2714-978d-4dd0-9461-f6976b7141ff\" class=\"sk-toggleable__label sk-toggleable__label-arrow\">columntransformer: ColumnTransformer</label><div class=\"sk-toggleable__content\"><pre>ColumnTransformer(remainder=&#x27;passthrough&#x27;,\n",
              "                  transformers=[(&#x27;onehotencoder&#x27;,\n",
              "                                 OneHotEncoder(handle_unknown=&#x27;ignore&#x27;,\n",
              "                                               sparse=False),\n",
              "                                 &lt;sklearn.compose._column_transformer.make_column_selector object at 0x7f3430952350&gt;),\n",
              "                                (&#x27;standardscaler&#x27;, StandardScaler(),\n",
              "                                 &lt;sklearn.compose._column_transformer.make_column_selector object at 0x7f3430952b90&gt;)])</pre></div></div></div><div class=\"sk-parallel\"><div class=\"sk-parallel-item\"><div class=\"sk-item\"><div class=\"sk-label-container\"><div class=\"sk-label sk-toggleable\"><input class=\"sk-toggleable__control sk-hidden--visually\" id=\"7229bc7b-4ac5-40d5-9fb0-48677565d502\" type=\"checkbox\" ><label for=\"7229bc7b-4ac5-40d5-9fb0-48677565d502\" class=\"sk-toggleable__label sk-toggleable__label-arrow\">onehotencoder</label><div class=\"sk-toggleable__content\"><pre>&lt;sklearn.compose._column_transformer.make_column_selector object at 0x7f3430952350&gt;</pre></div></div></div><div class=\"sk-serial\"><div class=\"sk-item\"><div class=\"sk-estimator sk-toggleable\"><input class=\"sk-toggleable__control sk-hidden--visually\" id=\"d3872b76-fe31-42ca-ae07-bd5ebf715284\" type=\"checkbox\" ><label for=\"d3872b76-fe31-42ca-ae07-bd5ebf715284\" class=\"sk-toggleable__label sk-toggleable__label-arrow\">OneHotEncoder</label><div class=\"sk-toggleable__content\"><pre>OneHotEncoder(handle_unknown=&#x27;ignore&#x27;, sparse=False)</pre></div></div></div></div></div></div><div class=\"sk-parallel-item\"><div class=\"sk-item\"><div class=\"sk-label-container\"><div class=\"sk-label sk-toggleable\"><input class=\"sk-toggleable__control sk-hidden--visually\" id=\"50141fce-011a-4fc6-9e9a-5a97d6d14e02\" type=\"checkbox\" ><label for=\"50141fce-011a-4fc6-9e9a-5a97d6d14e02\" class=\"sk-toggleable__label sk-toggleable__label-arrow\">standardscaler</label><div class=\"sk-toggleable__content\"><pre>&lt;sklearn.compose._column_transformer.make_column_selector object at 0x7f3430952b90&gt;</pre></div></div></div><div class=\"sk-serial\"><div class=\"sk-item\"><div class=\"sk-estimator sk-toggleable\"><input class=\"sk-toggleable__control sk-hidden--visually\" id=\"07a79703-4d90-4b59-9049-264a7681ae82\" type=\"checkbox\" ><label for=\"07a79703-4d90-4b59-9049-264a7681ae82\" class=\"sk-toggleable__label sk-toggleable__label-arrow\">StandardScaler</label><div class=\"sk-toggleable__content\"><pre>StandardScaler()</pre></div></div></div></div></div></div><div class=\"sk-parallel-item\"><div class=\"sk-item\"><div class=\"sk-label-container\"><div class=\"sk-label sk-toggleable\"><input class=\"sk-toggleable__control sk-hidden--visually\" id=\"bbfa0123-87e9-4424-bb8b-c91b93fa5f44\" type=\"checkbox\" ><label for=\"bbfa0123-87e9-4424-bb8b-c91b93fa5f44\" class=\"sk-toggleable__label sk-toggleable__label-arrow\">remainder</label><div class=\"sk-toggleable__content\"><pre>[]</pre></div></div></div><div class=\"sk-serial\"><div class=\"sk-item\"><div class=\"sk-estimator sk-toggleable\"><input class=\"sk-toggleable__control sk-hidden--visually\" id=\"599c87b2-b4b4-4cab-9f7c-9ce048f5ec65\" type=\"checkbox\" ><label for=\"599c87b2-b4b4-4cab-9f7c-9ce048f5ec65\" class=\"sk-toggleable__label sk-toggleable__label-arrow\">passthrough</label><div class=\"sk-toggleable__content\"><pre>passthrough</pre></div></div></div></div></div></div></div></div><div class=\"sk-item\"><div class=\"sk-estimator sk-toggleable\"><input class=\"sk-toggleable__control sk-hidden--visually\" id=\"cac2d4f5-23b3-4984-a94c-49ba1f901e9a\" type=\"checkbox\" ><label for=\"cac2d4f5-23b3-4984-a94c-49ba1f901e9a\" class=\"sk-toggleable__label sk-toggleable__label-arrow\">LinearRegression</label><div class=\"sk-toggleable__content\"><pre>LinearRegression()</pre></div></div></div></div></div></div></div>"
            ]
          },
          "metadata": {},
          "execution_count": 286
        }
      ]
    },
    {
      "cell_type": "code",
      "source": [
        "#prediction of model\n",
        "predictions = reg_pipe.predict(X_test)"
      ],
      "metadata": {
        "id": "vlwgEjSKqLy5"
      },
      "execution_count": 287,
      "outputs": []
    },
    {
      "cell_type": "code",
      "source": [
        "#review prediction model\n",
        "prediction_df2 = X_test.copy()\n",
        "prediction_df2['True Rating.Overall'] = y_test\n",
        "prediction_df2['Predicted Rating.Overall'] = predictions\n",
        "prediction_df2['Error'] = predictions - y_test\n",
        "prediction_df2.head()"
      ],
      "metadata": {
        "colab": {
          "base_uri": "https://localhost:8080/",
          "height": 322
        },
        "id": "YULT-GrYqLvE",
        "outputId": "0bd10a19-2851-44bc-ae43-530355961553"
      },
      "execution_count": 288,
      "outputs": [
        {
          "output_type": "execute_result",
          "data": {
            "text/plain": [
              "     Facility.City Facility.State Facility.Type  Procedure.Heart.Attack.Cost  \\\n",
              "3418  Flower Mound             TX   Proprietary                            0   \n",
              "842       Columbus             OH        Church                        23005   \n",
              "321    Clarksville             AR    Government                            0   \n",
              "2351     Anchorage             AK        Church                        23925   \n",
              "1392       Decatur             IL       Unknown                        23262   \n",
              "\n",
              "      Procedure.Heart.Attack.Quality  Procedure.Heart.Attack.Value  \\\n",
              "3418                               0                             0   \n",
              "842                                2                             2   \n",
              "321                                0                             0   \n",
              "2351                               2                             2   \n",
              "1392                               2                             2   \n",
              "\n",
              "      Procedure.Heart.Failure.Cost  Procedure.Heart.Failure.Quality  \\\n",
              "3418                         19517                                2   \n",
              "842                          16432                                2   \n",
              "321                          14454                                2   \n",
              "2351                         15169                                2   \n",
              "1392                         14908                                2   \n",
              "\n",
              "      Procedure.Heart.Failure.Value  Procedure.Pneumonia.Cost  \\\n",
              "3418                              3                     18676   \n",
              "842                               2                     19260   \n",
              "321                               1                     14254   \n",
              "2351                              1                     14136   \n",
              "1392                              1                     16206   \n",
              "\n",
              "      Procedure.Pneumonia.Quality  Procedure.Pneumonia.Value  \\\n",
              "3418                            2                          2   \n",
              "842                             2                          3   \n",
              "321                             2                          1   \n",
              "2351                            2                          1   \n",
              "1392                            2                          1   \n",
              "\n",
              "      Procedure.Hip.Knee.Cost  Procedure.Hip.Knee.Quality  \\\n",
              "3418                    21983                           2   \n",
              "842                     22043                           2   \n",
              "321                     24308                           2   \n",
              "2351                    19274                           2   \n",
              "1392                    20413                           2   \n",
              "\n",
              "      Procedure.Hip.Knee.Value  True Rating.Overall  Predicted Rating.Overall  \\\n",
              "3418                         2                  4.0              1.894275e+11   \n",
              "842                          2                  2.0              3.286499e+00   \n",
              "321                          3                  2.0              1.556519e+00   \n",
              "2351                         1                  4.0              3.609650e+00   \n",
              "1392                         1                  3.0              3.572968e+00   \n",
              "\n",
              "             Error  \n",
              "3418  1.894275e+11  \n",
              "842   1.286499e+00  \n",
              "321  -4.434814e-01  \n",
              "2351 -3.903503e-01  \n",
              "1392  5.729675e-01  "
            ],
            "text/html": [
              "\n",
              "  <div id=\"df-5b495f0a-cc30-4606-bfac-8ed245dc545c\">\n",
              "    <div class=\"colab-df-container\">\n",
              "      <div>\n",
              "<style scoped>\n",
              "    .dataframe tbody tr th:only-of-type {\n",
              "        vertical-align: middle;\n",
              "    }\n",
              "\n",
              "    .dataframe tbody tr th {\n",
              "        vertical-align: top;\n",
              "    }\n",
              "\n",
              "    .dataframe thead th {\n",
              "        text-align: right;\n",
              "    }\n",
              "</style>\n",
              "<table border=\"1\" class=\"dataframe\">\n",
              "  <thead>\n",
              "    <tr style=\"text-align: right;\">\n",
              "      <th></th>\n",
              "      <th>Facility.City</th>\n",
              "      <th>Facility.State</th>\n",
              "      <th>Facility.Type</th>\n",
              "      <th>Procedure.Heart.Attack.Cost</th>\n",
              "      <th>Procedure.Heart.Attack.Quality</th>\n",
              "      <th>Procedure.Heart.Attack.Value</th>\n",
              "      <th>Procedure.Heart.Failure.Cost</th>\n",
              "      <th>Procedure.Heart.Failure.Quality</th>\n",
              "      <th>Procedure.Heart.Failure.Value</th>\n",
              "      <th>Procedure.Pneumonia.Cost</th>\n",
              "      <th>Procedure.Pneumonia.Quality</th>\n",
              "      <th>Procedure.Pneumonia.Value</th>\n",
              "      <th>Procedure.Hip.Knee.Cost</th>\n",
              "      <th>Procedure.Hip.Knee.Quality</th>\n",
              "      <th>Procedure.Hip.Knee.Value</th>\n",
              "      <th>True Rating.Overall</th>\n",
              "      <th>Predicted Rating.Overall</th>\n",
              "      <th>Error</th>\n",
              "    </tr>\n",
              "  </thead>\n",
              "  <tbody>\n",
              "    <tr>\n",
              "      <th>3418</th>\n",
              "      <td>Flower Mound</td>\n",
              "      <td>TX</td>\n",
              "      <td>Proprietary</td>\n",
              "      <td>0</td>\n",
              "      <td>0</td>\n",
              "      <td>0</td>\n",
              "      <td>19517</td>\n",
              "      <td>2</td>\n",
              "      <td>3</td>\n",
              "      <td>18676</td>\n",
              "      <td>2</td>\n",
              "      <td>2</td>\n",
              "      <td>21983</td>\n",
              "      <td>2</td>\n",
              "      <td>2</td>\n",
              "      <td>4.0</td>\n",
              "      <td>1.894275e+11</td>\n",
              "      <td>1.894275e+11</td>\n",
              "    </tr>\n",
              "    <tr>\n",
              "      <th>842</th>\n",
              "      <td>Columbus</td>\n",
              "      <td>OH</td>\n",
              "      <td>Church</td>\n",
              "      <td>23005</td>\n",
              "      <td>2</td>\n",
              "      <td>2</td>\n",
              "      <td>16432</td>\n",
              "      <td>2</td>\n",
              "      <td>2</td>\n",
              "      <td>19260</td>\n",
              "      <td>2</td>\n",
              "      <td>3</td>\n",
              "      <td>22043</td>\n",
              "      <td>2</td>\n",
              "      <td>2</td>\n",
              "      <td>2.0</td>\n",
              "      <td>3.286499e+00</td>\n",
              "      <td>1.286499e+00</td>\n",
              "    </tr>\n",
              "    <tr>\n",
              "      <th>321</th>\n",
              "      <td>Clarksville</td>\n",
              "      <td>AR</td>\n",
              "      <td>Government</td>\n",
              "      <td>0</td>\n",
              "      <td>0</td>\n",
              "      <td>0</td>\n",
              "      <td>14454</td>\n",
              "      <td>2</td>\n",
              "      <td>1</td>\n",
              "      <td>14254</td>\n",
              "      <td>2</td>\n",
              "      <td>1</td>\n",
              "      <td>24308</td>\n",
              "      <td>2</td>\n",
              "      <td>3</td>\n",
              "      <td>2.0</td>\n",
              "      <td>1.556519e+00</td>\n",
              "      <td>-4.434814e-01</td>\n",
              "    </tr>\n",
              "    <tr>\n",
              "      <th>2351</th>\n",
              "      <td>Anchorage</td>\n",
              "      <td>AK</td>\n",
              "      <td>Church</td>\n",
              "      <td>23925</td>\n",
              "      <td>2</td>\n",
              "      <td>2</td>\n",
              "      <td>15169</td>\n",
              "      <td>2</td>\n",
              "      <td>1</td>\n",
              "      <td>14136</td>\n",
              "      <td>2</td>\n",
              "      <td>1</td>\n",
              "      <td>19274</td>\n",
              "      <td>2</td>\n",
              "      <td>1</td>\n",
              "      <td>4.0</td>\n",
              "      <td>3.609650e+00</td>\n",
              "      <td>-3.903503e-01</td>\n",
              "    </tr>\n",
              "    <tr>\n",
              "      <th>1392</th>\n",
              "      <td>Decatur</td>\n",
              "      <td>IL</td>\n",
              "      <td>Unknown</td>\n",
              "      <td>23262</td>\n",
              "      <td>2</td>\n",
              "      <td>2</td>\n",
              "      <td>14908</td>\n",
              "      <td>2</td>\n",
              "      <td>1</td>\n",
              "      <td>16206</td>\n",
              "      <td>2</td>\n",
              "      <td>1</td>\n",
              "      <td>20413</td>\n",
              "      <td>2</td>\n",
              "      <td>1</td>\n",
              "      <td>3.0</td>\n",
              "      <td>3.572968e+00</td>\n",
              "      <td>5.729675e-01</td>\n",
              "    </tr>\n",
              "  </tbody>\n",
              "</table>\n",
              "</div>\n",
              "      <button class=\"colab-df-convert\" onclick=\"convertToInteractive('df-5b495f0a-cc30-4606-bfac-8ed245dc545c')\"\n",
              "              title=\"Convert this dataframe to an interactive table.\"\n",
              "              style=\"display:none;\">\n",
              "        \n",
              "  <svg xmlns=\"http://www.w3.org/2000/svg\" height=\"24px\"viewBox=\"0 0 24 24\"\n",
              "       width=\"24px\">\n",
              "    <path d=\"M0 0h24v24H0V0z\" fill=\"none\"/>\n",
              "    <path d=\"M18.56 5.44l.94 2.06.94-2.06 2.06-.94-2.06-.94-.94-2.06-.94 2.06-2.06.94zm-11 1L8.5 8.5l.94-2.06 2.06-.94-2.06-.94L8.5 2.5l-.94 2.06-2.06.94zm10 10l.94 2.06.94-2.06 2.06-.94-2.06-.94-.94-2.06-.94 2.06-2.06.94z\"/><path d=\"M17.41 7.96l-1.37-1.37c-.4-.4-.92-.59-1.43-.59-.52 0-1.04.2-1.43.59L10.3 9.45l-7.72 7.72c-.78.78-.78 2.05 0 2.83L4 21.41c.39.39.9.59 1.41.59.51 0 1.02-.2 1.41-.59l7.78-7.78 2.81-2.81c.8-.78.8-2.07 0-2.86zM5.41 20L4 18.59l7.72-7.72 1.47 1.35L5.41 20z\"/>\n",
              "  </svg>\n",
              "      </button>\n",
              "      \n",
              "  <style>\n",
              "    .colab-df-container {\n",
              "      display:flex;\n",
              "      flex-wrap:wrap;\n",
              "      gap: 12px;\n",
              "    }\n",
              "\n",
              "    .colab-df-convert {\n",
              "      background-color: #E8F0FE;\n",
              "      border: none;\n",
              "      border-radius: 50%;\n",
              "      cursor: pointer;\n",
              "      display: none;\n",
              "      fill: #1967D2;\n",
              "      height: 32px;\n",
              "      padding: 0 0 0 0;\n",
              "      width: 32px;\n",
              "    }\n",
              "\n",
              "    .colab-df-convert:hover {\n",
              "      background-color: #E2EBFA;\n",
              "      box-shadow: 0px 1px 2px rgba(60, 64, 67, 0.3), 0px 1px 3px 1px rgba(60, 64, 67, 0.15);\n",
              "      fill: #174EA6;\n",
              "    }\n",
              "\n",
              "    [theme=dark] .colab-df-convert {\n",
              "      background-color: #3B4455;\n",
              "      fill: #D2E3FC;\n",
              "    }\n",
              "\n",
              "    [theme=dark] .colab-df-convert:hover {\n",
              "      background-color: #434B5C;\n",
              "      box-shadow: 0px 1px 3px 1px rgba(0, 0, 0, 0.15);\n",
              "      filter: drop-shadow(0px 1px 2px rgba(0, 0, 0, 0.3));\n",
              "      fill: #FFFFFF;\n",
              "    }\n",
              "  </style>\n",
              "\n",
              "      <script>\n",
              "        const buttonEl =\n",
              "          document.querySelector('#df-5b495f0a-cc30-4606-bfac-8ed245dc545c button.colab-df-convert');\n",
              "        buttonEl.style.display =\n",
              "          google.colab.kernel.accessAllowed ? 'block' : 'none';\n",
              "\n",
              "        async function convertToInteractive(key) {\n",
              "          const element = document.querySelector('#df-5b495f0a-cc30-4606-bfac-8ed245dc545c');\n",
              "          const dataTable =\n",
              "            await google.colab.kernel.invokeFunction('convertToInteractive',\n",
              "                                                     [key], {});\n",
              "          if (!dataTable) return;\n",
              "\n",
              "          const docLinkHtml = 'Like what you see? Visit the ' +\n",
              "            '<a target=\"_blank\" href=https://colab.research.google.com/notebooks/data_table.ipynb>data table notebook</a>'\n",
              "            + ' to learn more about interactive tables.';\n",
              "          element.innerHTML = '';\n",
              "          dataTable['output_type'] = 'display_data';\n",
              "          await google.colab.output.renderOutput(dataTable, element);\n",
              "          const docLink = document.createElement('div');\n",
              "          docLink.innerHTML = docLinkHtml;\n",
              "          element.appendChild(docLink);\n",
              "        }\n",
              "      </script>\n",
              "    </div>\n",
              "  </div>\n",
              "  "
            ]
          },
          "metadata": {},
          "execution_count": 288
        }
      ]
    },
    {
      "cell_type": "code",
      "source": [
        "#linear regression model\n",
        "\n",
        "#define model\n",
        "lin_reg = LinearRegression()\n",
        "#make and fit pipeline to data\n",
        "lin_reg_pipe = make_pipeline(preprocessor, lin_reg)\n",
        "lin_reg_pipe.fit(X_train, y_train)"
      ],
      "metadata": {
        "colab": {
          "base_uri": "https://localhost:8080/",
          "height": 192
        },
        "id": "-y3O8yTuqLp8",
        "outputId": "ed525410-139f-43db-bcd9-80b961007458"
      },
      "execution_count": 289,
      "outputs": [
        {
          "output_type": "execute_result",
          "data": {
            "text/plain": [
              "Pipeline(steps=[('columntransformer',\n",
              "                 ColumnTransformer(remainder='passthrough',\n",
              "                                   transformers=[('onehotencoder',\n",
              "                                                  OneHotEncoder(handle_unknown='ignore',\n",
              "                                                                sparse=False),\n",
              "                                                  <sklearn.compose._column_transformer.make_column_selector object at 0x7f3430952350>),\n",
              "                                                 ('standardscaler',\n",
              "                                                  StandardScaler(),\n",
              "                                                  <sklearn.compose._column_transformer.make_column_selector object at 0x7f3430952b90>)])),\n",
              "                ('linearregression', LinearRegression())])"
            ],
            "text/html": [
              "<style>#sk-326d1139-9425-407d-a18a-3519879c5208 {color: black;background-color: white;}#sk-326d1139-9425-407d-a18a-3519879c5208 pre{padding: 0;}#sk-326d1139-9425-407d-a18a-3519879c5208 div.sk-toggleable {background-color: white;}#sk-326d1139-9425-407d-a18a-3519879c5208 label.sk-toggleable__label {cursor: pointer;display: block;width: 100%;margin-bottom: 0;padding: 0.3em;box-sizing: border-box;text-align: center;}#sk-326d1139-9425-407d-a18a-3519879c5208 label.sk-toggleable__label-arrow:before {content: \"▸\";float: left;margin-right: 0.25em;color: #696969;}#sk-326d1139-9425-407d-a18a-3519879c5208 label.sk-toggleable__label-arrow:hover:before {color: black;}#sk-326d1139-9425-407d-a18a-3519879c5208 div.sk-estimator:hover label.sk-toggleable__label-arrow:before {color: black;}#sk-326d1139-9425-407d-a18a-3519879c5208 div.sk-toggleable__content {max-height: 0;max-width: 0;overflow: hidden;text-align: left;background-color: #f0f8ff;}#sk-326d1139-9425-407d-a18a-3519879c5208 div.sk-toggleable__content pre {margin: 0.2em;color: black;border-radius: 0.25em;background-color: #f0f8ff;}#sk-326d1139-9425-407d-a18a-3519879c5208 input.sk-toggleable__control:checked~div.sk-toggleable__content {max-height: 200px;max-width: 100%;overflow: auto;}#sk-326d1139-9425-407d-a18a-3519879c5208 input.sk-toggleable__control:checked~label.sk-toggleable__label-arrow:before {content: \"▾\";}#sk-326d1139-9425-407d-a18a-3519879c5208 div.sk-estimator input.sk-toggleable__control:checked~label.sk-toggleable__label {background-color: #d4ebff;}#sk-326d1139-9425-407d-a18a-3519879c5208 div.sk-label input.sk-toggleable__control:checked~label.sk-toggleable__label {background-color: #d4ebff;}#sk-326d1139-9425-407d-a18a-3519879c5208 input.sk-hidden--visually {border: 0;clip: rect(1px 1px 1px 1px);clip: rect(1px, 1px, 1px, 1px);height: 1px;margin: -1px;overflow: hidden;padding: 0;position: absolute;width: 1px;}#sk-326d1139-9425-407d-a18a-3519879c5208 div.sk-estimator {font-family: monospace;background-color: #f0f8ff;border: 1px dotted black;border-radius: 0.25em;box-sizing: border-box;margin-bottom: 0.5em;}#sk-326d1139-9425-407d-a18a-3519879c5208 div.sk-estimator:hover {background-color: #d4ebff;}#sk-326d1139-9425-407d-a18a-3519879c5208 div.sk-parallel-item::after {content: \"\";width: 100%;border-bottom: 1px solid gray;flex-grow: 1;}#sk-326d1139-9425-407d-a18a-3519879c5208 div.sk-label:hover label.sk-toggleable__label {background-color: #d4ebff;}#sk-326d1139-9425-407d-a18a-3519879c5208 div.sk-serial::before {content: \"\";position: absolute;border-left: 1px solid gray;box-sizing: border-box;top: 2em;bottom: 0;left: 50%;}#sk-326d1139-9425-407d-a18a-3519879c5208 div.sk-serial {display: flex;flex-direction: column;align-items: center;background-color: white;padding-right: 0.2em;padding-left: 0.2em;}#sk-326d1139-9425-407d-a18a-3519879c5208 div.sk-item {z-index: 1;}#sk-326d1139-9425-407d-a18a-3519879c5208 div.sk-parallel {display: flex;align-items: stretch;justify-content: center;background-color: white;}#sk-326d1139-9425-407d-a18a-3519879c5208 div.sk-parallel::before {content: \"\";position: absolute;border-left: 1px solid gray;box-sizing: border-box;top: 2em;bottom: 0;left: 50%;}#sk-326d1139-9425-407d-a18a-3519879c5208 div.sk-parallel-item {display: flex;flex-direction: column;position: relative;background-color: white;}#sk-326d1139-9425-407d-a18a-3519879c5208 div.sk-parallel-item:first-child::after {align-self: flex-end;width: 50%;}#sk-326d1139-9425-407d-a18a-3519879c5208 div.sk-parallel-item:last-child::after {align-self: flex-start;width: 50%;}#sk-326d1139-9425-407d-a18a-3519879c5208 div.sk-parallel-item:only-child::after {width: 0;}#sk-326d1139-9425-407d-a18a-3519879c5208 div.sk-dashed-wrapped {border: 1px dashed gray;margin: 0 0.4em 0.5em 0.4em;box-sizing: border-box;padding-bottom: 0.4em;background-color: white;position: relative;}#sk-326d1139-9425-407d-a18a-3519879c5208 div.sk-label label {font-family: monospace;font-weight: bold;background-color: white;display: inline-block;line-height: 1.2em;}#sk-326d1139-9425-407d-a18a-3519879c5208 div.sk-label-container {position: relative;z-index: 2;text-align: center;}#sk-326d1139-9425-407d-a18a-3519879c5208 div.sk-container {/* jupyter's `normalize.less` sets `[hidden] { display: none; }` but bootstrap.min.css set `[hidden] { display: none !important; }` so we also need the `!important` here to be able to override the default hidden behavior on the sphinx rendered scikit-learn.org. See: https://github.com/scikit-learn/scikit-learn/issues/21755 */display: inline-block !important;position: relative;}#sk-326d1139-9425-407d-a18a-3519879c5208 div.sk-text-repr-fallback {display: none;}</style><div id=\"sk-326d1139-9425-407d-a18a-3519879c5208\" class=\"sk-top-container\"><div class=\"sk-text-repr-fallback\"><pre>Pipeline(steps=[(&#x27;columntransformer&#x27;,\n",
              "                 ColumnTransformer(remainder=&#x27;passthrough&#x27;,\n",
              "                                   transformers=[(&#x27;onehotencoder&#x27;,\n",
              "                                                  OneHotEncoder(handle_unknown=&#x27;ignore&#x27;,\n",
              "                                                                sparse=False),\n",
              "                                                  &lt;sklearn.compose._column_transformer.make_column_selector object at 0x7f3430952350&gt;),\n",
              "                                                 (&#x27;standardscaler&#x27;,\n",
              "                                                  StandardScaler(),\n",
              "                                                  &lt;sklearn.compose._column_transformer.make_column_selector object at 0x7f3430952b90&gt;)])),\n",
              "                (&#x27;linearregression&#x27;, LinearRegression())])</pre><b>Please rerun this cell to show the HTML repr or trust the notebook.</b></div><div class=\"sk-container\" hidden><div class=\"sk-item sk-dashed-wrapped\"><div class=\"sk-label-container\"><div class=\"sk-label sk-toggleable\"><input class=\"sk-toggleable__control sk-hidden--visually\" id=\"63dec89d-e8cb-4331-bcb2-b741916e31f5\" type=\"checkbox\" ><label for=\"63dec89d-e8cb-4331-bcb2-b741916e31f5\" class=\"sk-toggleable__label sk-toggleable__label-arrow\">Pipeline</label><div class=\"sk-toggleable__content\"><pre>Pipeline(steps=[(&#x27;columntransformer&#x27;,\n",
              "                 ColumnTransformer(remainder=&#x27;passthrough&#x27;,\n",
              "                                   transformers=[(&#x27;onehotencoder&#x27;,\n",
              "                                                  OneHotEncoder(handle_unknown=&#x27;ignore&#x27;,\n",
              "                                                                sparse=False),\n",
              "                                                  &lt;sklearn.compose._column_transformer.make_column_selector object at 0x7f3430952350&gt;),\n",
              "                                                 (&#x27;standardscaler&#x27;,\n",
              "                                                  StandardScaler(),\n",
              "                                                  &lt;sklearn.compose._column_transformer.make_column_selector object at 0x7f3430952b90&gt;)])),\n",
              "                (&#x27;linearregression&#x27;, LinearRegression())])</pre></div></div></div><div class=\"sk-serial\"><div class=\"sk-item sk-dashed-wrapped\"><div class=\"sk-label-container\"><div class=\"sk-label sk-toggleable\"><input class=\"sk-toggleable__control sk-hidden--visually\" id=\"09532280-bfa1-4bca-ba31-d3d477389027\" type=\"checkbox\" ><label for=\"09532280-bfa1-4bca-ba31-d3d477389027\" class=\"sk-toggleable__label sk-toggleable__label-arrow\">columntransformer: ColumnTransformer</label><div class=\"sk-toggleable__content\"><pre>ColumnTransformer(remainder=&#x27;passthrough&#x27;,\n",
              "                  transformers=[(&#x27;onehotencoder&#x27;,\n",
              "                                 OneHotEncoder(handle_unknown=&#x27;ignore&#x27;,\n",
              "                                               sparse=False),\n",
              "                                 &lt;sklearn.compose._column_transformer.make_column_selector object at 0x7f3430952350&gt;),\n",
              "                                (&#x27;standardscaler&#x27;, StandardScaler(),\n",
              "                                 &lt;sklearn.compose._column_transformer.make_column_selector object at 0x7f3430952b90&gt;)])</pre></div></div></div><div class=\"sk-parallel\"><div class=\"sk-parallel-item\"><div class=\"sk-item\"><div class=\"sk-label-container\"><div class=\"sk-label sk-toggleable\"><input class=\"sk-toggleable__control sk-hidden--visually\" id=\"92220643-85c5-4a0b-90d3-82273572b25a\" type=\"checkbox\" ><label for=\"92220643-85c5-4a0b-90d3-82273572b25a\" class=\"sk-toggleable__label sk-toggleable__label-arrow\">onehotencoder</label><div class=\"sk-toggleable__content\"><pre>&lt;sklearn.compose._column_transformer.make_column_selector object at 0x7f3430952350&gt;</pre></div></div></div><div class=\"sk-serial\"><div class=\"sk-item\"><div class=\"sk-estimator sk-toggleable\"><input class=\"sk-toggleable__control sk-hidden--visually\" id=\"5b25ad84-21a7-438e-a104-437c6fe8bcbb\" type=\"checkbox\" ><label for=\"5b25ad84-21a7-438e-a104-437c6fe8bcbb\" class=\"sk-toggleable__label sk-toggleable__label-arrow\">OneHotEncoder</label><div class=\"sk-toggleable__content\"><pre>OneHotEncoder(handle_unknown=&#x27;ignore&#x27;, sparse=False)</pre></div></div></div></div></div></div><div class=\"sk-parallel-item\"><div class=\"sk-item\"><div class=\"sk-label-container\"><div class=\"sk-label sk-toggleable\"><input class=\"sk-toggleable__control sk-hidden--visually\" id=\"ce0bf78d-beec-44fe-b672-8f70d008b9ca\" type=\"checkbox\" ><label for=\"ce0bf78d-beec-44fe-b672-8f70d008b9ca\" class=\"sk-toggleable__label sk-toggleable__label-arrow\">standardscaler</label><div class=\"sk-toggleable__content\"><pre>&lt;sklearn.compose._column_transformer.make_column_selector object at 0x7f3430952b90&gt;</pre></div></div></div><div class=\"sk-serial\"><div class=\"sk-item\"><div class=\"sk-estimator sk-toggleable\"><input class=\"sk-toggleable__control sk-hidden--visually\" id=\"1ce22614-f48d-4818-9a3d-5163a0f6209d\" type=\"checkbox\" ><label for=\"1ce22614-f48d-4818-9a3d-5163a0f6209d\" class=\"sk-toggleable__label sk-toggleable__label-arrow\">StandardScaler</label><div class=\"sk-toggleable__content\"><pre>StandardScaler()</pre></div></div></div></div></div></div><div class=\"sk-parallel-item\"><div class=\"sk-item\"><div class=\"sk-label-container\"><div class=\"sk-label sk-toggleable\"><input class=\"sk-toggleable__control sk-hidden--visually\" id=\"1f555c67-a59c-44fd-ac2a-a07147709c2f\" type=\"checkbox\" ><label for=\"1f555c67-a59c-44fd-ac2a-a07147709c2f\" class=\"sk-toggleable__label sk-toggleable__label-arrow\">remainder</label><div class=\"sk-toggleable__content\"><pre>[]</pre></div></div></div><div class=\"sk-serial\"><div class=\"sk-item\"><div class=\"sk-estimator sk-toggleable\"><input class=\"sk-toggleable__control sk-hidden--visually\" id=\"0ca740fe-a72d-4b2c-b0f0-db61105d226b\" type=\"checkbox\" ><label for=\"0ca740fe-a72d-4b2c-b0f0-db61105d226b\" class=\"sk-toggleable__label sk-toggleable__label-arrow\">passthrough</label><div class=\"sk-toggleable__content\"><pre>passthrough</pre></div></div></div></div></div></div></div></div><div class=\"sk-item\"><div class=\"sk-estimator sk-toggleable\"><input class=\"sk-toggleable__control sk-hidden--visually\" id=\"9948f0dd-fc65-44ea-8490-37ef36392168\" type=\"checkbox\" ><label for=\"9948f0dd-fc65-44ea-8490-37ef36392168\" class=\"sk-toggleable__label sk-toggleable__label-arrow\">LinearRegression</label><div class=\"sk-toggleable__content\"><pre>LinearRegression()</pre></div></div></div></div></div></div></div>"
            ]
          },
          "metadata": {},
          "execution_count": 289
        }
      ]
    },
    {
      "cell_type": "code",
      "source": [
        "#function will evaluate model with true and predicted values and print metrics\n",
        "\n",
        "def eval_regression(true, pred):\n",
        "  mae = mean_absolute_error(true, pred)\n",
        "  mse = mean_squared_error(true, pred)\n",
        "  rmse = np.sqrt(mse)\n",
        "  r2 = r2_score(true, pred)\n",
        "\n",
        "  print(f'MAE {mae},\\n MSE {mse},\\n RMSE: {rmse},\\n R^2: {r2} ')"
      ],
      "metadata": {
        "id": "9iH1nO1awo5w"
      },
      "execution_count": 290,
      "outputs": []
    },
    {
      "cell_type": "code",
      "source": [
        "#evaluate\n",
        "print('Training accuracy:', lin_reg_pipe.score(X_train, y_train))\n",
        "print('Testing accuracy:', lin_reg_pipe.score(X_test, y_test))"
      ],
      "metadata": {
        "colab": {
          "base_uri": "https://localhost:8080/"
        },
        "id": "2wJ0rYjT5QzD",
        "outputId": "e4ff1953-1dc7-4966-c407-100faea1cfec"
      },
      "execution_count": 291,
      "outputs": [
        {
          "output_type": "stream",
          "name": "stdout",
          "text": [
            "Training accuracy: 0.7678037157666212\n",
            "Testing accuracy: -1.6957740048796927e+22\n"
          ]
        }
      ]
    },
    {
      "cell_type": "code",
      "source": [
        "#evaluate predictive model for both the train and test data\n",
        "print('Train Evaluation')\n",
        "eval_regression(y_train, lin_reg_pipe.predict(X_train))\n",
        "\n",
        "print('\\nTest Evaluation')\n",
        "eval_regression(y_test, lin_reg_pipe.predict(X_test))"
      ],
      "metadata": {
        "colab": {
          "base_uri": "https://localhost:8080/"
        },
        "id": "bieV4Rct4_wR",
        "outputId": "eab9fbd9-ab20-4438-dbd7-a20485751fdb"
      },
      "execution_count": 292,
      "outputs": [
        {
          "output_type": "stream",
          "name": "stdout",
          "text": [
            "Train Evaluation\n",
            "MAE 0.30686248538310973,\n",
            " MSE 0.25776487224242584,\n",
            " RMSE: 0.5077054975499338,\n",
            " R^2: 0.7678037157666212 \n",
            "\n",
            "Test Evaluation\n",
            "MAE 100885194049.65854,\n",
            " MSE 1.909146470975626e+22,\n",
            " RMSE: 138171866563.91473,\n",
            " R^2: -1.6957740048796927e+22 \n"
          ]
        }
      ]
    },
    {
      "cell_type": "markdown",
      "source": [
        "While the R2 of the train set shows that the model can explain 77% variation this does not translate to the test set. Since my R2 test set is negative I know my model is very overfit and will not be able to predict the target from new data. I will have to make adjustments or find another model to improve accuracy."
      ],
      "metadata": {
        "id": "Z2hBstRx60wC"
      }
    },
    {
      "cell_type": "code",
      "source": [
        "#tuning linear regression model with Gradient Boosting\n",
        "\n",
        "#define model\n",
        "lin_reg2 = LinearRegression()\n",
        "#make and fit pipeline to data\n",
        "lin_reg2_pipe = make_pipeline(preprocessor, lin_reg2)\n",
        "lin_reg2_pipe.fit(X_train, y_train)"
      ],
      "metadata": {
        "colab": {
          "base_uri": "https://localhost:8080/",
          "height": 192
        },
        "id": "s_f7uLfLvHAh",
        "outputId": "160d2e0d-ec6f-4e02-994a-c4cfdd7492ba"
      },
      "execution_count": 293,
      "outputs": [
        {
          "output_type": "execute_result",
          "data": {
            "text/plain": [
              "Pipeline(steps=[('columntransformer',\n",
              "                 ColumnTransformer(remainder='passthrough',\n",
              "                                   transformers=[('onehotencoder',\n",
              "                                                  OneHotEncoder(handle_unknown='ignore',\n",
              "                                                                sparse=False),\n",
              "                                                  <sklearn.compose._column_transformer.make_column_selector object at 0x7f3430952350>),\n",
              "                                                 ('standardscaler',\n",
              "                                                  StandardScaler(),\n",
              "                                                  <sklearn.compose._column_transformer.make_column_selector object at 0x7f3430952b90>)])),\n",
              "                ('linearregression', LinearRegression())])"
            ],
            "text/html": [
              "<style>#sk-65abdf16-eaca-4f01-b4d8-59c31de037f9 {color: black;background-color: white;}#sk-65abdf16-eaca-4f01-b4d8-59c31de037f9 pre{padding: 0;}#sk-65abdf16-eaca-4f01-b4d8-59c31de037f9 div.sk-toggleable {background-color: white;}#sk-65abdf16-eaca-4f01-b4d8-59c31de037f9 label.sk-toggleable__label {cursor: pointer;display: block;width: 100%;margin-bottom: 0;padding: 0.3em;box-sizing: border-box;text-align: center;}#sk-65abdf16-eaca-4f01-b4d8-59c31de037f9 label.sk-toggleable__label-arrow:before {content: \"▸\";float: left;margin-right: 0.25em;color: #696969;}#sk-65abdf16-eaca-4f01-b4d8-59c31de037f9 label.sk-toggleable__label-arrow:hover:before {color: black;}#sk-65abdf16-eaca-4f01-b4d8-59c31de037f9 div.sk-estimator:hover label.sk-toggleable__label-arrow:before {color: black;}#sk-65abdf16-eaca-4f01-b4d8-59c31de037f9 div.sk-toggleable__content {max-height: 0;max-width: 0;overflow: hidden;text-align: left;background-color: #f0f8ff;}#sk-65abdf16-eaca-4f01-b4d8-59c31de037f9 div.sk-toggleable__content pre {margin: 0.2em;color: black;border-radius: 0.25em;background-color: #f0f8ff;}#sk-65abdf16-eaca-4f01-b4d8-59c31de037f9 input.sk-toggleable__control:checked~div.sk-toggleable__content {max-height: 200px;max-width: 100%;overflow: auto;}#sk-65abdf16-eaca-4f01-b4d8-59c31de037f9 input.sk-toggleable__control:checked~label.sk-toggleable__label-arrow:before {content: \"▾\";}#sk-65abdf16-eaca-4f01-b4d8-59c31de037f9 div.sk-estimator input.sk-toggleable__control:checked~label.sk-toggleable__label {background-color: #d4ebff;}#sk-65abdf16-eaca-4f01-b4d8-59c31de037f9 div.sk-label input.sk-toggleable__control:checked~label.sk-toggleable__label {background-color: #d4ebff;}#sk-65abdf16-eaca-4f01-b4d8-59c31de037f9 input.sk-hidden--visually {border: 0;clip: rect(1px 1px 1px 1px);clip: rect(1px, 1px, 1px, 1px);height: 1px;margin: -1px;overflow: hidden;padding: 0;position: absolute;width: 1px;}#sk-65abdf16-eaca-4f01-b4d8-59c31de037f9 div.sk-estimator {font-family: monospace;background-color: #f0f8ff;border: 1px dotted black;border-radius: 0.25em;box-sizing: border-box;margin-bottom: 0.5em;}#sk-65abdf16-eaca-4f01-b4d8-59c31de037f9 div.sk-estimator:hover {background-color: #d4ebff;}#sk-65abdf16-eaca-4f01-b4d8-59c31de037f9 div.sk-parallel-item::after {content: \"\";width: 100%;border-bottom: 1px solid gray;flex-grow: 1;}#sk-65abdf16-eaca-4f01-b4d8-59c31de037f9 div.sk-label:hover label.sk-toggleable__label {background-color: #d4ebff;}#sk-65abdf16-eaca-4f01-b4d8-59c31de037f9 div.sk-serial::before {content: \"\";position: absolute;border-left: 1px solid gray;box-sizing: border-box;top: 2em;bottom: 0;left: 50%;}#sk-65abdf16-eaca-4f01-b4d8-59c31de037f9 div.sk-serial {display: flex;flex-direction: column;align-items: center;background-color: white;padding-right: 0.2em;padding-left: 0.2em;}#sk-65abdf16-eaca-4f01-b4d8-59c31de037f9 div.sk-item {z-index: 1;}#sk-65abdf16-eaca-4f01-b4d8-59c31de037f9 div.sk-parallel {display: flex;align-items: stretch;justify-content: center;background-color: white;}#sk-65abdf16-eaca-4f01-b4d8-59c31de037f9 div.sk-parallel::before {content: \"\";position: absolute;border-left: 1px solid gray;box-sizing: border-box;top: 2em;bottom: 0;left: 50%;}#sk-65abdf16-eaca-4f01-b4d8-59c31de037f9 div.sk-parallel-item {display: flex;flex-direction: column;position: relative;background-color: white;}#sk-65abdf16-eaca-4f01-b4d8-59c31de037f9 div.sk-parallel-item:first-child::after {align-self: flex-end;width: 50%;}#sk-65abdf16-eaca-4f01-b4d8-59c31de037f9 div.sk-parallel-item:last-child::after {align-self: flex-start;width: 50%;}#sk-65abdf16-eaca-4f01-b4d8-59c31de037f9 div.sk-parallel-item:only-child::after {width: 0;}#sk-65abdf16-eaca-4f01-b4d8-59c31de037f9 div.sk-dashed-wrapped {border: 1px dashed gray;margin: 0 0.4em 0.5em 0.4em;box-sizing: border-box;padding-bottom: 0.4em;background-color: white;position: relative;}#sk-65abdf16-eaca-4f01-b4d8-59c31de037f9 div.sk-label label {font-family: monospace;font-weight: bold;background-color: white;display: inline-block;line-height: 1.2em;}#sk-65abdf16-eaca-4f01-b4d8-59c31de037f9 div.sk-label-container {position: relative;z-index: 2;text-align: center;}#sk-65abdf16-eaca-4f01-b4d8-59c31de037f9 div.sk-container {/* jupyter's `normalize.less` sets `[hidden] { display: none; }` but bootstrap.min.css set `[hidden] { display: none !important; }` so we also need the `!important` here to be able to override the default hidden behavior on the sphinx rendered scikit-learn.org. See: https://github.com/scikit-learn/scikit-learn/issues/21755 */display: inline-block !important;position: relative;}#sk-65abdf16-eaca-4f01-b4d8-59c31de037f9 div.sk-text-repr-fallback {display: none;}</style><div id=\"sk-65abdf16-eaca-4f01-b4d8-59c31de037f9\" class=\"sk-top-container\"><div class=\"sk-text-repr-fallback\"><pre>Pipeline(steps=[(&#x27;columntransformer&#x27;,\n",
              "                 ColumnTransformer(remainder=&#x27;passthrough&#x27;,\n",
              "                                   transformers=[(&#x27;onehotencoder&#x27;,\n",
              "                                                  OneHotEncoder(handle_unknown=&#x27;ignore&#x27;,\n",
              "                                                                sparse=False),\n",
              "                                                  &lt;sklearn.compose._column_transformer.make_column_selector object at 0x7f3430952350&gt;),\n",
              "                                                 (&#x27;standardscaler&#x27;,\n",
              "                                                  StandardScaler(),\n",
              "                                                  &lt;sklearn.compose._column_transformer.make_column_selector object at 0x7f3430952b90&gt;)])),\n",
              "                (&#x27;linearregression&#x27;, LinearRegression())])</pre><b>Please rerun this cell to show the HTML repr or trust the notebook.</b></div><div class=\"sk-container\" hidden><div class=\"sk-item sk-dashed-wrapped\"><div class=\"sk-label-container\"><div class=\"sk-label sk-toggleable\"><input class=\"sk-toggleable__control sk-hidden--visually\" id=\"616dedc7-e170-4165-abe9-d0fe14089055\" type=\"checkbox\" ><label for=\"616dedc7-e170-4165-abe9-d0fe14089055\" class=\"sk-toggleable__label sk-toggleable__label-arrow\">Pipeline</label><div class=\"sk-toggleable__content\"><pre>Pipeline(steps=[(&#x27;columntransformer&#x27;,\n",
              "                 ColumnTransformer(remainder=&#x27;passthrough&#x27;,\n",
              "                                   transformers=[(&#x27;onehotencoder&#x27;,\n",
              "                                                  OneHotEncoder(handle_unknown=&#x27;ignore&#x27;,\n",
              "                                                                sparse=False),\n",
              "                                                  &lt;sklearn.compose._column_transformer.make_column_selector object at 0x7f3430952350&gt;),\n",
              "                                                 (&#x27;standardscaler&#x27;,\n",
              "                                                  StandardScaler(),\n",
              "                                                  &lt;sklearn.compose._column_transformer.make_column_selector object at 0x7f3430952b90&gt;)])),\n",
              "                (&#x27;linearregression&#x27;, LinearRegression())])</pre></div></div></div><div class=\"sk-serial\"><div class=\"sk-item sk-dashed-wrapped\"><div class=\"sk-label-container\"><div class=\"sk-label sk-toggleable\"><input class=\"sk-toggleable__control sk-hidden--visually\" id=\"0605a41f-db52-41af-a253-36dd2b044e8d\" type=\"checkbox\" ><label for=\"0605a41f-db52-41af-a253-36dd2b044e8d\" class=\"sk-toggleable__label sk-toggleable__label-arrow\">columntransformer: ColumnTransformer</label><div class=\"sk-toggleable__content\"><pre>ColumnTransformer(remainder=&#x27;passthrough&#x27;,\n",
              "                  transformers=[(&#x27;onehotencoder&#x27;,\n",
              "                                 OneHotEncoder(handle_unknown=&#x27;ignore&#x27;,\n",
              "                                               sparse=False),\n",
              "                                 &lt;sklearn.compose._column_transformer.make_column_selector object at 0x7f3430952350&gt;),\n",
              "                                (&#x27;standardscaler&#x27;, StandardScaler(),\n",
              "                                 &lt;sklearn.compose._column_transformer.make_column_selector object at 0x7f3430952b90&gt;)])</pre></div></div></div><div class=\"sk-parallel\"><div class=\"sk-parallel-item\"><div class=\"sk-item\"><div class=\"sk-label-container\"><div class=\"sk-label sk-toggleable\"><input class=\"sk-toggleable__control sk-hidden--visually\" id=\"a888285e-0b36-409a-9207-4fc82467f250\" type=\"checkbox\" ><label for=\"a888285e-0b36-409a-9207-4fc82467f250\" class=\"sk-toggleable__label sk-toggleable__label-arrow\">onehotencoder</label><div class=\"sk-toggleable__content\"><pre>&lt;sklearn.compose._column_transformer.make_column_selector object at 0x7f3430952350&gt;</pre></div></div></div><div class=\"sk-serial\"><div class=\"sk-item\"><div class=\"sk-estimator sk-toggleable\"><input class=\"sk-toggleable__control sk-hidden--visually\" id=\"77441211-28f4-450e-9c49-7f4ac4e373af\" type=\"checkbox\" ><label for=\"77441211-28f4-450e-9c49-7f4ac4e373af\" class=\"sk-toggleable__label sk-toggleable__label-arrow\">OneHotEncoder</label><div class=\"sk-toggleable__content\"><pre>OneHotEncoder(handle_unknown=&#x27;ignore&#x27;, sparse=False)</pre></div></div></div></div></div></div><div class=\"sk-parallel-item\"><div class=\"sk-item\"><div class=\"sk-label-container\"><div class=\"sk-label sk-toggleable\"><input class=\"sk-toggleable__control sk-hidden--visually\" id=\"41c513a5-da47-46d0-a747-73b85c1b390d\" type=\"checkbox\" ><label for=\"41c513a5-da47-46d0-a747-73b85c1b390d\" class=\"sk-toggleable__label sk-toggleable__label-arrow\">standardscaler</label><div class=\"sk-toggleable__content\"><pre>&lt;sklearn.compose._column_transformer.make_column_selector object at 0x7f3430952b90&gt;</pre></div></div></div><div class=\"sk-serial\"><div class=\"sk-item\"><div class=\"sk-estimator sk-toggleable\"><input class=\"sk-toggleable__control sk-hidden--visually\" id=\"baa2e1bf-fc8e-455a-877f-6fc3c5df4aaf\" type=\"checkbox\" ><label for=\"baa2e1bf-fc8e-455a-877f-6fc3c5df4aaf\" class=\"sk-toggleable__label sk-toggleable__label-arrow\">StandardScaler</label><div class=\"sk-toggleable__content\"><pre>StandardScaler()</pre></div></div></div></div></div></div><div class=\"sk-parallel-item\"><div class=\"sk-item\"><div class=\"sk-label-container\"><div class=\"sk-label sk-toggleable\"><input class=\"sk-toggleable__control sk-hidden--visually\" id=\"ff29a89d-865d-44b9-8c78-ed48004901a7\" type=\"checkbox\" ><label for=\"ff29a89d-865d-44b9-8c78-ed48004901a7\" class=\"sk-toggleable__label sk-toggleable__label-arrow\">remainder</label><div class=\"sk-toggleable__content\"><pre>[]</pre></div></div></div><div class=\"sk-serial\"><div class=\"sk-item\"><div class=\"sk-estimator sk-toggleable\"><input class=\"sk-toggleable__control sk-hidden--visually\" id=\"29f4ba8c-76ad-431e-9ced-4528ec331ed5\" type=\"checkbox\" ><label for=\"29f4ba8c-76ad-431e-9ced-4528ec331ed5\" class=\"sk-toggleable__label sk-toggleable__label-arrow\">passthrough</label><div class=\"sk-toggleable__content\"><pre>passthrough</pre></div></div></div></div></div></div></div></div><div class=\"sk-item\"><div class=\"sk-estimator sk-toggleable\"><input class=\"sk-toggleable__control sk-hidden--visually\" id=\"e9745a73-0db5-4d93-9e86-9a8b9b6eeaf2\" type=\"checkbox\" ><label for=\"e9745a73-0db5-4d93-9e86-9a8b9b6eeaf2\" class=\"sk-toggleable__label sk-toggleable__label-arrow\">LinearRegression</label><div class=\"sk-toggleable__content\"><pre>LinearRegression()</pre></div></div></div></div></div></div></div>"
            ]
          },
          "metadata": {},
          "execution_count": 293
        }
      ]
    },
    {
      "cell_type": "code",
      "source": [
        "gbc = GradientBoostingClassifier()\n",
        "gbc_pipe = make_pipeline(preprocessor, gbc)\n",
        "gbc_pipe.fit(X_train, y_train)"
      ],
      "metadata": {
        "colab": {
          "base_uri": "https://localhost:8080/",
          "height": 192
        },
        "id": "8w9MhGNRAS-A",
        "outputId": "0f50a228-0dd5-4b40-d2dc-b10924c92eca"
      },
      "execution_count": 294,
      "outputs": [
        {
          "output_type": "execute_result",
          "data": {
            "text/plain": [
              "Pipeline(steps=[('columntransformer',\n",
              "                 ColumnTransformer(remainder='passthrough',\n",
              "                                   transformers=[('onehotencoder',\n",
              "                                                  OneHotEncoder(handle_unknown='ignore',\n",
              "                                                                sparse=False),\n",
              "                                                  <sklearn.compose._column_transformer.make_column_selector object at 0x7f3430952350>),\n",
              "                                                 ('standardscaler',\n",
              "                                                  StandardScaler(),\n",
              "                                                  <sklearn.compose._column_transformer.make_column_selector object at 0x7f3430952b90>)])),\n",
              "                ('gradientboostingclassifier', GradientBoostingClassifier())])"
            ],
            "text/html": [
              "<style>#sk-30c2f271-fed9-4bad-a214-d6cc73f920b5 {color: black;background-color: white;}#sk-30c2f271-fed9-4bad-a214-d6cc73f920b5 pre{padding: 0;}#sk-30c2f271-fed9-4bad-a214-d6cc73f920b5 div.sk-toggleable {background-color: white;}#sk-30c2f271-fed9-4bad-a214-d6cc73f920b5 label.sk-toggleable__label {cursor: pointer;display: block;width: 100%;margin-bottom: 0;padding: 0.3em;box-sizing: border-box;text-align: center;}#sk-30c2f271-fed9-4bad-a214-d6cc73f920b5 label.sk-toggleable__label-arrow:before {content: \"▸\";float: left;margin-right: 0.25em;color: #696969;}#sk-30c2f271-fed9-4bad-a214-d6cc73f920b5 label.sk-toggleable__label-arrow:hover:before {color: black;}#sk-30c2f271-fed9-4bad-a214-d6cc73f920b5 div.sk-estimator:hover label.sk-toggleable__label-arrow:before {color: black;}#sk-30c2f271-fed9-4bad-a214-d6cc73f920b5 div.sk-toggleable__content {max-height: 0;max-width: 0;overflow: hidden;text-align: left;background-color: #f0f8ff;}#sk-30c2f271-fed9-4bad-a214-d6cc73f920b5 div.sk-toggleable__content pre {margin: 0.2em;color: black;border-radius: 0.25em;background-color: #f0f8ff;}#sk-30c2f271-fed9-4bad-a214-d6cc73f920b5 input.sk-toggleable__control:checked~div.sk-toggleable__content {max-height: 200px;max-width: 100%;overflow: auto;}#sk-30c2f271-fed9-4bad-a214-d6cc73f920b5 input.sk-toggleable__control:checked~label.sk-toggleable__label-arrow:before {content: \"▾\";}#sk-30c2f271-fed9-4bad-a214-d6cc73f920b5 div.sk-estimator input.sk-toggleable__control:checked~label.sk-toggleable__label {background-color: #d4ebff;}#sk-30c2f271-fed9-4bad-a214-d6cc73f920b5 div.sk-label input.sk-toggleable__control:checked~label.sk-toggleable__label {background-color: #d4ebff;}#sk-30c2f271-fed9-4bad-a214-d6cc73f920b5 input.sk-hidden--visually {border: 0;clip: rect(1px 1px 1px 1px);clip: rect(1px, 1px, 1px, 1px);height: 1px;margin: -1px;overflow: hidden;padding: 0;position: absolute;width: 1px;}#sk-30c2f271-fed9-4bad-a214-d6cc73f920b5 div.sk-estimator {font-family: monospace;background-color: #f0f8ff;border: 1px dotted black;border-radius: 0.25em;box-sizing: border-box;margin-bottom: 0.5em;}#sk-30c2f271-fed9-4bad-a214-d6cc73f920b5 div.sk-estimator:hover {background-color: #d4ebff;}#sk-30c2f271-fed9-4bad-a214-d6cc73f920b5 div.sk-parallel-item::after {content: \"\";width: 100%;border-bottom: 1px solid gray;flex-grow: 1;}#sk-30c2f271-fed9-4bad-a214-d6cc73f920b5 div.sk-label:hover label.sk-toggleable__label {background-color: #d4ebff;}#sk-30c2f271-fed9-4bad-a214-d6cc73f920b5 div.sk-serial::before {content: \"\";position: absolute;border-left: 1px solid gray;box-sizing: border-box;top: 2em;bottom: 0;left: 50%;}#sk-30c2f271-fed9-4bad-a214-d6cc73f920b5 div.sk-serial {display: flex;flex-direction: column;align-items: center;background-color: white;padding-right: 0.2em;padding-left: 0.2em;}#sk-30c2f271-fed9-4bad-a214-d6cc73f920b5 div.sk-item {z-index: 1;}#sk-30c2f271-fed9-4bad-a214-d6cc73f920b5 div.sk-parallel {display: flex;align-items: stretch;justify-content: center;background-color: white;}#sk-30c2f271-fed9-4bad-a214-d6cc73f920b5 div.sk-parallel::before {content: \"\";position: absolute;border-left: 1px solid gray;box-sizing: border-box;top: 2em;bottom: 0;left: 50%;}#sk-30c2f271-fed9-4bad-a214-d6cc73f920b5 div.sk-parallel-item {display: flex;flex-direction: column;position: relative;background-color: white;}#sk-30c2f271-fed9-4bad-a214-d6cc73f920b5 div.sk-parallel-item:first-child::after {align-self: flex-end;width: 50%;}#sk-30c2f271-fed9-4bad-a214-d6cc73f920b5 div.sk-parallel-item:last-child::after {align-self: flex-start;width: 50%;}#sk-30c2f271-fed9-4bad-a214-d6cc73f920b5 div.sk-parallel-item:only-child::after {width: 0;}#sk-30c2f271-fed9-4bad-a214-d6cc73f920b5 div.sk-dashed-wrapped {border: 1px dashed gray;margin: 0 0.4em 0.5em 0.4em;box-sizing: border-box;padding-bottom: 0.4em;background-color: white;position: relative;}#sk-30c2f271-fed9-4bad-a214-d6cc73f920b5 div.sk-label label {font-family: monospace;font-weight: bold;background-color: white;display: inline-block;line-height: 1.2em;}#sk-30c2f271-fed9-4bad-a214-d6cc73f920b5 div.sk-label-container {position: relative;z-index: 2;text-align: center;}#sk-30c2f271-fed9-4bad-a214-d6cc73f920b5 div.sk-container {/* jupyter's `normalize.less` sets `[hidden] { display: none; }` but bootstrap.min.css set `[hidden] { display: none !important; }` so we also need the `!important` here to be able to override the default hidden behavior on the sphinx rendered scikit-learn.org. See: https://github.com/scikit-learn/scikit-learn/issues/21755 */display: inline-block !important;position: relative;}#sk-30c2f271-fed9-4bad-a214-d6cc73f920b5 div.sk-text-repr-fallback {display: none;}</style><div id=\"sk-30c2f271-fed9-4bad-a214-d6cc73f920b5\" class=\"sk-top-container\"><div class=\"sk-text-repr-fallback\"><pre>Pipeline(steps=[(&#x27;columntransformer&#x27;,\n",
              "                 ColumnTransformer(remainder=&#x27;passthrough&#x27;,\n",
              "                                   transformers=[(&#x27;onehotencoder&#x27;,\n",
              "                                                  OneHotEncoder(handle_unknown=&#x27;ignore&#x27;,\n",
              "                                                                sparse=False),\n",
              "                                                  &lt;sklearn.compose._column_transformer.make_column_selector object at 0x7f3430952350&gt;),\n",
              "                                                 (&#x27;standardscaler&#x27;,\n",
              "                                                  StandardScaler(),\n",
              "                                                  &lt;sklearn.compose._column_transformer.make_column_selector object at 0x7f3430952b90&gt;)])),\n",
              "                (&#x27;gradientboostingclassifier&#x27;, GradientBoostingClassifier())])</pre><b>Please rerun this cell to show the HTML repr or trust the notebook.</b></div><div class=\"sk-container\" hidden><div class=\"sk-item sk-dashed-wrapped\"><div class=\"sk-label-container\"><div class=\"sk-label sk-toggleable\"><input class=\"sk-toggleable__control sk-hidden--visually\" id=\"08916d1d-4b3f-40a4-b2bb-ac912639267b\" type=\"checkbox\" ><label for=\"08916d1d-4b3f-40a4-b2bb-ac912639267b\" class=\"sk-toggleable__label sk-toggleable__label-arrow\">Pipeline</label><div class=\"sk-toggleable__content\"><pre>Pipeline(steps=[(&#x27;columntransformer&#x27;,\n",
              "                 ColumnTransformer(remainder=&#x27;passthrough&#x27;,\n",
              "                                   transformers=[(&#x27;onehotencoder&#x27;,\n",
              "                                                  OneHotEncoder(handle_unknown=&#x27;ignore&#x27;,\n",
              "                                                                sparse=False),\n",
              "                                                  &lt;sklearn.compose._column_transformer.make_column_selector object at 0x7f3430952350&gt;),\n",
              "                                                 (&#x27;standardscaler&#x27;,\n",
              "                                                  StandardScaler(),\n",
              "                                                  &lt;sklearn.compose._column_transformer.make_column_selector object at 0x7f3430952b90&gt;)])),\n",
              "                (&#x27;gradientboostingclassifier&#x27;, GradientBoostingClassifier())])</pre></div></div></div><div class=\"sk-serial\"><div class=\"sk-item sk-dashed-wrapped\"><div class=\"sk-label-container\"><div class=\"sk-label sk-toggleable\"><input class=\"sk-toggleable__control sk-hidden--visually\" id=\"aa87569e-a611-4470-bddd-8b9b157d0119\" type=\"checkbox\" ><label for=\"aa87569e-a611-4470-bddd-8b9b157d0119\" class=\"sk-toggleable__label sk-toggleable__label-arrow\">columntransformer: ColumnTransformer</label><div class=\"sk-toggleable__content\"><pre>ColumnTransformer(remainder=&#x27;passthrough&#x27;,\n",
              "                  transformers=[(&#x27;onehotencoder&#x27;,\n",
              "                                 OneHotEncoder(handle_unknown=&#x27;ignore&#x27;,\n",
              "                                               sparse=False),\n",
              "                                 &lt;sklearn.compose._column_transformer.make_column_selector object at 0x7f3430952350&gt;),\n",
              "                                (&#x27;standardscaler&#x27;, StandardScaler(),\n",
              "                                 &lt;sklearn.compose._column_transformer.make_column_selector object at 0x7f3430952b90&gt;)])</pre></div></div></div><div class=\"sk-parallel\"><div class=\"sk-parallel-item\"><div class=\"sk-item\"><div class=\"sk-label-container\"><div class=\"sk-label sk-toggleable\"><input class=\"sk-toggleable__control sk-hidden--visually\" id=\"97945681-37cb-4bbd-87c7-66b4d82f9c76\" type=\"checkbox\" ><label for=\"97945681-37cb-4bbd-87c7-66b4d82f9c76\" class=\"sk-toggleable__label sk-toggleable__label-arrow\">onehotencoder</label><div class=\"sk-toggleable__content\"><pre>&lt;sklearn.compose._column_transformer.make_column_selector object at 0x7f3430952350&gt;</pre></div></div></div><div class=\"sk-serial\"><div class=\"sk-item\"><div class=\"sk-estimator sk-toggleable\"><input class=\"sk-toggleable__control sk-hidden--visually\" id=\"11d351dc-b5e5-4eb1-a283-da009c5dab74\" type=\"checkbox\" ><label for=\"11d351dc-b5e5-4eb1-a283-da009c5dab74\" class=\"sk-toggleable__label sk-toggleable__label-arrow\">OneHotEncoder</label><div class=\"sk-toggleable__content\"><pre>OneHotEncoder(handle_unknown=&#x27;ignore&#x27;, sparse=False)</pre></div></div></div></div></div></div><div class=\"sk-parallel-item\"><div class=\"sk-item\"><div class=\"sk-label-container\"><div class=\"sk-label sk-toggleable\"><input class=\"sk-toggleable__control sk-hidden--visually\" id=\"0b161e71-5988-443b-ad7d-411784d71d84\" type=\"checkbox\" ><label for=\"0b161e71-5988-443b-ad7d-411784d71d84\" class=\"sk-toggleable__label sk-toggleable__label-arrow\">standardscaler</label><div class=\"sk-toggleable__content\"><pre>&lt;sklearn.compose._column_transformer.make_column_selector object at 0x7f3430952b90&gt;</pre></div></div></div><div class=\"sk-serial\"><div class=\"sk-item\"><div class=\"sk-estimator sk-toggleable\"><input class=\"sk-toggleable__control sk-hidden--visually\" id=\"365b6336-0152-4885-94d9-932fc144d161\" type=\"checkbox\" ><label for=\"365b6336-0152-4885-94d9-932fc144d161\" class=\"sk-toggleable__label sk-toggleable__label-arrow\">StandardScaler</label><div class=\"sk-toggleable__content\"><pre>StandardScaler()</pre></div></div></div></div></div></div><div class=\"sk-parallel-item\"><div class=\"sk-item\"><div class=\"sk-label-container\"><div class=\"sk-label sk-toggleable\"><input class=\"sk-toggleable__control sk-hidden--visually\" id=\"d81e467b-7ccf-4f97-9375-d48f1a5fe12e\" type=\"checkbox\" ><label for=\"d81e467b-7ccf-4f97-9375-d48f1a5fe12e\" class=\"sk-toggleable__label sk-toggleable__label-arrow\">remainder</label><div class=\"sk-toggleable__content\"><pre>[]</pre></div></div></div><div class=\"sk-serial\"><div class=\"sk-item\"><div class=\"sk-estimator sk-toggleable\"><input class=\"sk-toggleable__control sk-hidden--visually\" id=\"21b64548-cb34-45a3-8088-d46adcb8732b\" type=\"checkbox\" ><label for=\"21b64548-cb34-45a3-8088-d46adcb8732b\" class=\"sk-toggleable__label sk-toggleable__label-arrow\">passthrough</label><div class=\"sk-toggleable__content\"><pre>passthrough</pre></div></div></div></div></div></div></div></div><div class=\"sk-item\"><div class=\"sk-estimator sk-toggleable\"><input class=\"sk-toggleable__control sk-hidden--visually\" id=\"b461274b-1482-4a27-b910-81c855263f95\" type=\"checkbox\" ><label for=\"b461274b-1482-4a27-b910-81c855263f95\" class=\"sk-toggleable__label sk-toggleable__label-arrow\">GradientBoostingClassifier</label><div class=\"sk-toggleable__content\"><pre>GradientBoostingClassifier()</pre></div></div></div></div></div></div></div>"
            ]
          },
          "metadata": {},
          "execution_count": 294
        }
      ]
    },
    {
      "cell_type": "code",
      "source": [
        "#evaluate\n",
        "print('Training accuracy:', gbc_pipe.score(X_train, y_train))\n",
        "print('Testing accuracy:', gbc_pipe.score(X_test, y_test))"
      ],
      "metadata": {
        "colab": {
          "base_uri": "https://localhost:8080/"
        },
        "id": "vuqAzj42B3-E",
        "outputId": "61b92627-a707-4085-d430-84f9f24ce8cf"
      },
      "execution_count": 295,
      "outputs": [
        {
          "output_type": "stream",
          "name": "stdout",
          "text": [
            "Training accuracy: 0.6048097631012204\n",
            "Testing accuracy: 0.3961248654467169\n"
          ]
        }
      ]
    },
    {
      "cell_type": "code",
      "source": [
        "#evaluate model for both the train and test data\n",
        "print('Train Evaluation')\n",
        "eval_regression(y_train, gbc_pipe.predict(X_train))\n",
        "\n",
        "print('\\nTest Evaluation')\n",
        "eval_regression(y_test, gbc_pipe.predict(X_test))"
      ],
      "metadata": {
        "colab": {
          "base_uri": "https://localhost:8080/"
        },
        "id": "ELRC6wVLFVX4",
        "outputId": "40104992-0a4f-4904-e72e-b2d5a1fece6f"
      },
      "execution_count": 297,
      "outputs": [
        {
          "output_type": "stream",
          "name": "stdout",
          "text": [
            "Train Evaluation\n",
            "MAE 0.47559224694903085,\n",
            " MSE 0.6457286432160804,\n",
            " RMSE: 0.8035724256195458,\n",
            " R^2: 0.418323411279945 \n",
            "\n",
            "Test Evaluation\n",
            "MAE 0.7782561894510226,\n",
            " MSE 1.193756727664155,\n",
            " RMSE: 1.0925917479388882,\n",
            " R^2: -0.06033856369785329 \n"
          ]
        }
      ]
    },
    {
      "cell_type": "markdown",
      "source": [
        "Compared to the -1 value for the testing accuracy for the linear regression model, Gradient Boosting did improve the testing accuracy to about 40%. Gradient Boosting helped the model's predictability as it started extremely overfit."
      ],
      "metadata": {
        "id": "30d_zDrfyPWj"
      }
    },
    {
      "cell_type": "markdown",
      "source": [
        "KNN Model"
      ],
      "metadata": {
        "id": "eyoYJEGLY_h-"
      }
    },
    {
      "cell_type": "code",
      "source": [
        "knn= KNeighborsClassifier()\n",
        "\n",
        "#create a pipeline for KNN model\n",
        "knn_pipe = make_pipeline(preprocessor, knn)\n",
        "#fit model to dataset\n",
        "knn_pipe.fit(X_train, y_train)"
      ],
      "metadata": {
        "colab": {
          "base_uri": "https://localhost:8080/",
          "height": 192
        },
        "id": "aHjkCUmLY6QO",
        "outputId": "a8e04fcc-8c68-4bc8-8831-034085c96f80"
      },
      "execution_count": 298,
      "outputs": [
        {
          "output_type": "execute_result",
          "data": {
            "text/plain": [
              "Pipeline(steps=[('columntransformer',\n",
              "                 ColumnTransformer(remainder='passthrough',\n",
              "                                   transformers=[('onehotencoder',\n",
              "                                                  OneHotEncoder(handle_unknown='ignore',\n",
              "                                                                sparse=False),\n",
              "                                                  <sklearn.compose._column_transformer.make_column_selector object at 0x7f3430952350>),\n",
              "                                                 ('standardscaler',\n",
              "                                                  StandardScaler(),\n",
              "                                                  <sklearn.compose._column_transformer.make_column_selector object at 0x7f3430952b90>)])),\n",
              "                ('kneighborsclassifier', KNeighborsClassifier())])"
            ],
            "text/html": [
              "<style>#sk-c3f9c4b4-2210-4903-bb7a-aa1e596c5e63 {color: black;background-color: white;}#sk-c3f9c4b4-2210-4903-bb7a-aa1e596c5e63 pre{padding: 0;}#sk-c3f9c4b4-2210-4903-bb7a-aa1e596c5e63 div.sk-toggleable {background-color: white;}#sk-c3f9c4b4-2210-4903-bb7a-aa1e596c5e63 label.sk-toggleable__label {cursor: pointer;display: block;width: 100%;margin-bottom: 0;padding: 0.3em;box-sizing: border-box;text-align: center;}#sk-c3f9c4b4-2210-4903-bb7a-aa1e596c5e63 label.sk-toggleable__label-arrow:before {content: \"▸\";float: left;margin-right: 0.25em;color: #696969;}#sk-c3f9c4b4-2210-4903-bb7a-aa1e596c5e63 label.sk-toggleable__label-arrow:hover:before {color: black;}#sk-c3f9c4b4-2210-4903-bb7a-aa1e596c5e63 div.sk-estimator:hover label.sk-toggleable__label-arrow:before {color: black;}#sk-c3f9c4b4-2210-4903-bb7a-aa1e596c5e63 div.sk-toggleable__content {max-height: 0;max-width: 0;overflow: hidden;text-align: left;background-color: #f0f8ff;}#sk-c3f9c4b4-2210-4903-bb7a-aa1e596c5e63 div.sk-toggleable__content pre {margin: 0.2em;color: black;border-radius: 0.25em;background-color: #f0f8ff;}#sk-c3f9c4b4-2210-4903-bb7a-aa1e596c5e63 input.sk-toggleable__control:checked~div.sk-toggleable__content {max-height: 200px;max-width: 100%;overflow: auto;}#sk-c3f9c4b4-2210-4903-bb7a-aa1e596c5e63 input.sk-toggleable__control:checked~label.sk-toggleable__label-arrow:before {content: \"▾\";}#sk-c3f9c4b4-2210-4903-bb7a-aa1e596c5e63 div.sk-estimator input.sk-toggleable__control:checked~label.sk-toggleable__label {background-color: #d4ebff;}#sk-c3f9c4b4-2210-4903-bb7a-aa1e596c5e63 div.sk-label input.sk-toggleable__control:checked~label.sk-toggleable__label {background-color: #d4ebff;}#sk-c3f9c4b4-2210-4903-bb7a-aa1e596c5e63 input.sk-hidden--visually {border: 0;clip: rect(1px 1px 1px 1px);clip: rect(1px, 1px, 1px, 1px);height: 1px;margin: -1px;overflow: hidden;padding: 0;position: absolute;width: 1px;}#sk-c3f9c4b4-2210-4903-bb7a-aa1e596c5e63 div.sk-estimator {font-family: monospace;background-color: #f0f8ff;border: 1px dotted black;border-radius: 0.25em;box-sizing: border-box;margin-bottom: 0.5em;}#sk-c3f9c4b4-2210-4903-bb7a-aa1e596c5e63 div.sk-estimator:hover {background-color: #d4ebff;}#sk-c3f9c4b4-2210-4903-bb7a-aa1e596c5e63 div.sk-parallel-item::after {content: \"\";width: 100%;border-bottom: 1px solid gray;flex-grow: 1;}#sk-c3f9c4b4-2210-4903-bb7a-aa1e596c5e63 div.sk-label:hover label.sk-toggleable__label {background-color: #d4ebff;}#sk-c3f9c4b4-2210-4903-bb7a-aa1e596c5e63 div.sk-serial::before {content: \"\";position: absolute;border-left: 1px solid gray;box-sizing: border-box;top: 2em;bottom: 0;left: 50%;}#sk-c3f9c4b4-2210-4903-bb7a-aa1e596c5e63 div.sk-serial {display: flex;flex-direction: column;align-items: center;background-color: white;padding-right: 0.2em;padding-left: 0.2em;}#sk-c3f9c4b4-2210-4903-bb7a-aa1e596c5e63 div.sk-item {z-index: 1;}#sk-c3f9c4b4-2210-4903-bb7a-aa1e596c5e63 div.sk-parallel {display: flex;align-items: stretch;justify-content: center;background-color: white;}#sk-c3f9c4b4-2210-4903-bb7a-aa1e596c5e63 div.sk-parallel::before {content: \"\";position: absolute;border-left: 1px solid gray;box-sizing: border-box;top: 2em;bottom: 0;left: 50%;}#sk-c3f9c4b4-2210-4903-bb7a-aa1e596c5e63 div.sk-parallel-item {display: flex;flex-direction: column;position: relative;background-color: white;}#sk-c3f9c4b4-2210-4903-bb7a-aa1e596c5e63 div.sk-parallel-item:first-child::after {align-self: flex-end;width: 50%;}#sk-c3f9c4b4-2210-4903-bb7a-aa1e596c5e63 div.sk-parallel-item:last-child::after {align-self: flex-start;width: 50%;}#sk-c3f9c4b4-2210-4903-bb7a-aa1e596c5e63 div.sk-parallel-item:only-child::after {width: 0;}#sk-c3f9c4b4-2210-4903-bb7a-aa1e596c5e63 div.sk-dashed-wrapped {border: 1px dashed gray;margin: 0 0.4em 0.5em 0.4em;box-sizing: border-box;padding-bottom: 0.4em;background-color: white;position: relative;}#sk-c3f9c4b4-2210-4903-bb7a-aa1e596c5e63 div.sk-label label {font-family: monospace;font-weight: bold;background-color: white;display: inline-block;line-height: 1.2em;}#sk-c3f9c4b4-2210-4903-bb7a-aa1e596c5e63 div.sk-label-container {position: relative;z-index: 2;text-align: center;}#sk-c3f9c4b4-2210-4903-bb7a-aa1e596c5e63 div.sk-container {/* jupyter's `normalize.less` sets `[hidden] { display: none; }` but bootstrap.min.css set `[hidden] { display: none !important; }` so we also need the `!important` here to be able to override the default hidden behavior on the sphinx rendered scikit-learn.org. See: https://github.com/scikit-learn/scikit-learn/issues/21755 */display: inline-block !important;position: relative;}#sk-c3f9c4b4-2210-4903-bb7a-aa1e596c5e63 div.sk-text-repr-fallback {display: none;}</style><div id=\"sk-c3f9c4b4-2210-4903-bb7a-aa1e596c5e63\" class=\"sk-top-container\"><div class=\"sk-text-repr-fallback\"><pre>Pipeline(steps=[(&#x27;columntransformer&#x27;,\n",
              "                 ColumnTransformer(remainder=&#x27;passthrough&#x27;,\n",
              "                                   transformers=[(&#x27;onehotencoder&#x27;,\n",
              "                                                  OneHotEncoder(handle_unknown=&#x27;ignore&#x27;,\n",
              "                                                                sparse=False),\n",
              "                                                  &lt;sklearn.compose._column_transformer.make_column_selector object at 0x7f3430952350&gt;),\n",
              "                                                 (&#x27;standardscaler&#x27;,\n",
              "                                                  StandardScaler(),\n",
              "                                                  &lt;sklearn.compose._column_transformer.make_column_selector object at 0x7f3430952b90&gt;)])),\n",
              "                (&#x27;kneighborsclassifier&#x27;, KNeighborsClassifier())])</pre><b>Please rerun this cell to show the HTML repr or trust the notebook.</b></div><div class=\"sk-container\" hidden><div class=\"sk-item sk-dashed-wrapped\"><div class=\"sk-label-container\"><div class=\"sk-label sk-toggleable\"><input class=\"sk-toggleable__control sk-hidden--visually\" id=\"810f11e0-2434-4ff4-938c-7dc665d546a3\" type=\"checkbox\" ><label for=\"810f11e0-2434-4ff4-938c-7dc665d546a3\" class=\"sk-toggleable__label sk-toggleable__label-arrow\">Pipeline</label><div class=\"sk-toggleable__content\"><pre>Pipeline(steps=[(&#x27;columntransformer&#x27;,\n",
              "                 ColumnTransformer(remainder=&#x27;passthrough&#x27;,\n",
              "                                   transformers=[(&#x27;onehotencoder&#x27;,\n",
              "                                                  OneHotEncoder(handle_unknown=&#x27;ignore&#x27;,\n",
              "                                                                sparse=False),\n",
              "                                                  &lt;sklearn.compose._column_transformer.make_column_selector object at 0x7f3430952350&gt;),\n",
              "                                                 (&#x27;standardscaler&#x27;,\n",
              "                                                  StandardScaler(),\n",
              "                                                  &lt;sklearn.compose._column_transformer.make_column_selector object at 0x7f3430952b90&gt;)])),\n",
              "                (&#x27;kneighborsclassifier&#x27;, KNeighborsClassifier())])</pre></div></div></div><div class=\"sk-serial\"><div class=\"sk-item sk-dashed-wrapped\"><div class=\"sk-label-container\"><div class=\"sk-label sk-toggleable\"><input class=\"sk-toggleable__control sk-hidden--visually\" id=\"c11e0d8f-dce1-4fac-a51d-fea29f30652e\" type=\"checkbox\" ><label for=\"c11e0d8f-dce1-4fac-a51d-fea29f30652e\" class=\"sk-toggleable__label sk-toggleable__label-arrow\">columntransformer: ColumnTransformer</label><div class=\"sk-toggleable__content\"><pre>ColumnTransformer(remainder=&#x27;passthrough&#x27;,\n",
              "                  transformers=[(&#x27;onehotencoder&#x27;,\n",
              "                                 OneHotEncoder(handle_unknown=&#x27;ignore&#x27;,\n",
              "                                               sparse=False),\n",
              "                                 &lt;sklearn.compose._column_transformer.make_column_selector object at 0x7f3430952350&gt;),\n",
              "                                (&#x27;standardscaler&#x27;, StandardScaler(),\n",
              "                                 &lt;sklearn.compose._column_transformer.make_column_selector object at 0x7f3430952b90&gt;)])</pre></div></div></div><div class=\"sk-parallel\"><div class=\"sk-parallel-item\"><div class=\"sk-item\"><div class=\"sk-label-container\"><div class=\"sk-label sk-toggleable\"><input class=\"sk-toggleable__control sk-hidden--visually\" id=\"47999d45-350a-4a00-8a5b-4ce934c317ec\" type=\"checkbox\" ><label for=\"47999d45-350a-4a00-8a5b-4ce934c317ec\" class=\"sk-toggleable__label sk-toggleable__label-arrow\">onehotencoder</label><div class=\"sk-toggleable__content\"><pre>&lt;sklearn.compose._column_transformer.make_column_selector object at 0x7f3430952350&gt;</pre></div></div></div><div class=\"sk-serial\"><div class=\"sk-item\"><div class=\"sk-estimator sk-toggleable\"><input class=\"sk-toggleable__control sk-hidden--visually\" id=\"aa1d4c10-f98b-4f0d-8d91-5d08b219a9bc\" type=\"checkbox\" ><label for=\"aa1d4c10-f98b-4f0d-8d91-5d08b219a9bc\" class=\"sk-toggleable__label sk-toggleable__label-arrow\">OneHotEncoder</label><div class=\"sk-toggleable__content\"><pre>OneHotEncoder(handle_unknown=&#x27;ignore&#x27;, sparse=False)</pre></div></div></div></div></div></div><div class=\"sk-parallel-item\"><div class=\"sk-item\"><div class=\"sk-label-container\"><div class=\"sk-label sk-toggleable\"><input class=\"sk-toggleable__control sk-hidden--visually\" id=\"60c625a3-4a07-474d-b45b-de11323e00bf\" type=\"checkbox\" ><label for=\"60c625a3-4a07-474d-b45b-de11323e00bf\" class=\"sk-toggleable__label sk-toggleable__label-arrow\">standardscaler</label><div class=\"sk-toggleable__content\"><pre>&lt;sklearn.compose._column_transformer.make_column_selector object at 0x7f3430952b90&gt;</pre></div></div></div><div class=\"sk-serial\"><div class=\"sk-item\"><div class=\"sk-estimator sk-toggleable\"><input class=\"sk-toggleable__control sk-hidden--visually\" id=\"cd900b20-6234-4821-920f-876dec4ccf6c\" type=\"checkbox\" ><label for=\"cd900b20-6234-4821-920f-876dec4ccf6c\" class=\"sk-toggleable__label sk-toggleable__label-arrow\">StandardScaler</label><div class=\"sk-toggleable__content\"><pre>StandardScaler()</pre></div></div></div></div></div></div><div class=\"sk-parallel-item\"><div class=\"sk-item\"><div class=\"sk-label-container\"><div class=\"sk-label sk-toggleable\"><input class=\"sk-toggleable__control sk-hidden--visually\" id=\"df427342-72c3-44ba-8c7c-970d26814524\" type=\"checkbox\" ><label for=\"df427342-72c3-44ba-8c7c-970d26814524\" class=\"sk-toggleable__label sk-toggleable__label-arrow\">remainder</label><div class=\"sk-toggleable__content\"><pre>[]</pre></div></div></div><div class=\"sk-serial\"><div class=\"sk-item\"><div class=\"sk-estimator sk-toggleable\"><input class=\"sk-toggleable__control sk-hidden--visually\" id=\"f7fc09ce-9ee4-4a3b-baf1-52da5e095dd6\" type=\"checkbox\" ><label for=\"f7fc09ce-9ee4-4a3b-baf1-52da5e095dd6\" class=\"sk-toggleable__label sk-toggleable__label-arrow\">passthrough</label><div class=\"sk-toggleable__content\"><pre>passthrough</pre></div></div></div></div></div></div></div></div><div class=\"sk-item\"><div class=\"sk-estimator sk-toggleable\"><input class=\"sk-toggleable__control sk-hidden--visually\" id=\"280e0a93-fb60-400b-95f0-ad09d199303a\" type=\"checkbox\" ><label for=\"280e0a93-fb60-400b-95f0-ad09d199303a\" class=\"sk-toggleable__label sk-toggleable__label-arrow\">KNeighborsClassifier</label><div class=\"sk-toggleable__content\"><pre>KNeighborsClassifier()</pre></div></div></div></div></div></div></div>"
            ]
          },
          "metadata": {},
          "execution_count": 298
        }
      ]
    },
    {
      "cell_type": "code",
      "source": [
        "#predict Rating.Overall\n",
        "knn_train_preds = knn_pipe.predict(X_train)\n",
        "knn_test_preds = knn_pipe.predict(X_test)"
      ],
      "metadata": {
        "id": "O_i3Yw8eZDvM"
      },
      "execution_count": 299,
      "outputs": []
    },
    {
      "cell_type": "code",
      "source": [
        "#evaluate KNN model\n",
        "\n",
        "#accuracy\n",
        "print('Accuracy of Train set', accuracy_score(y_train, knn_train_preds))\n",
        "print('Accuracy of Test set', accuracy_score(y_test, knn_test_preds))"
      ],
      "metadata": {
        "colab": {
          "base_uri": "https://localhost:8080/"
        },
        "id": "tt7VR3GEZGM1",
        "outputId": "60dddc76-4da0-4aae-abf3-c09d209955f5"
      },
      "execution_count": 300,
      "outputs": [
        {
          "output_type": "stream",
          "name": "stdout",
          "text": [
            "Accuracy of Train set 0.5527638190954773\n",
            "Accuracy of Test set 0.37351991388589884\n"
          ]
        }
      ]
    },
    {
      "cell_type": "markdown",
      "source": [
        "Accuracy of KNN model is 37% on the test set"
      ],
      "metadata": {
        "id": "NSXk_aXdZVUY"
      }
    },
    {
      "cell_type": "code",
      "source": [
        "#evaluate model for both the train and test data\n",
        "print('Train Evaluation')\n",
        "eval_regression(y_train, knn_pipe.predict(X_train))\n",
        "\n",
        "print('\\nTest Evaluation')\n",
        "eval_regression(y_test, knn_pipe.predict(X_test))"
      ],
      "metadata": {
        "colab": {
          "base_uri": "https://localhost:8080/"
        },
        "id": "X60Cj5QTG4DU",
        "outputId": "fcca7b55-613f-4b46-cbc7-bf0025a883dd"
      },
      "execution_count": 301,
      "outputs": [
        {
          "output_type": "stream",
          "name": "stdout",
          "text": [
            "Train Evaluation\n",
            "MAE 0.6062455132806892,\n",
            " MSE 0.9816941852117731,\n",
            " RMSE: 0.9908048169098559,\n",
            " R^2: 0.11568345183471351 \n",
            "\n",
            "Test Evaluation\n",
            "MAE 0.8654467168998924,\n",
            " MSE 1.4402583423035522,\n",
            " RMSE: 1.2001076377990234,\n",
            " R^2: -0.27929035007008807 \n"
          ]
        }
      ]
    },
    {
      "cell_type": "code",
      "source": [
        "#find best K value\n",
        "krange = range(1, 50)\n",
        "test_accuracies = []\n",
        "bestacc = 0\n",
        "bestk = 0\n",
        "for k in krange:\n",
        "  #find accuracy for each k\n",
        "  pipe = make_pipeline(preprocessor, KNeighborsClassifier(n_neighbors=k))\n",
        "  pipe.fit(X_train, y_train)\n",
        "  acc = accuracy_score(y_test, pipe.predict(X_test))\n",
        "  #if accuracy for this k is better than previous accuracies, set bestk = k\n",
        "  if acc > bestacc:\n",
        "    bestacc = acc\n",
        "    bestk = k\n",
        "\n",
        "  test_accuracies.append(acc)\n",
        "\n",
        "#plot accuracies over K\n",
        "plt.plot(krange, test_accuracies, label='Test K Scores')\n",
        "plt.show()\n",
        "\n",
        "#print best k and best accuracy\n",
        "print(f'Best K value is {bestk} \\nwith {bestacc} accuracy on the test set')"
      ],
      "metadata": {
        "colab": {
          "base_uri": "https://localhost:8080/",
          "height": 300
        },
        "id": "tEps6LmFZRsN",
        "outputId": "e60480a8-61f9-4955-c671-26e1e9e8afb4"
      },
      "execution_count": 302,
      "outputs": [
        {
          "output_type": "display_data",
          "data": {
            "text/plain": [
              "<Figure size 432x288 with 1 Axes>"
            ],
            "image/png": "[encoded data removed]"
          },
          "metadata": {
            "needs_background": "light"
          }
        },
        {
          "output_type": "stream",
          "name": "stdout",
          "text": [
            "Best K value is 15 \n",
            "with 0.418729817007535 accuracy on the test set\n"
          ]
        }
      ]
    },
    {
      "cell_type": "markdown",
      "source": [
        "Best K value at 15 slightly improved model with 42% accuracy on the test set."
      ],
      "metadata": {
        "id": "LktfCqntZ4sX"
      }
    },
    {
      "cell_type": "code",
      "source": [
        "#KNN model with best k and confusion matrix\n",
        "\n",
        "#create and fit pipeline for model\n",
        "knn_final_pipe = make_pipeline(preprocessor, \n",
        "                               KNeighborsClassifier(n_neighbors = bestk))\n",
        "knn_final_pipe.fit(X_train, y_train)\n",
        "\n",
        "#confusion matrix for KNN with best k\n",
        "plot_confusion_matrix(knn_final_pipe, X_test, y_test, cmap = 'Blues', values_format = 'd');"
      ],
      "metadata": {
        "colab": {
          "base_uri": "https://localhost:8080/",
          "height": 368
        },
        "id": "obJXjoBwZ9nt",
        "outputId": "daa95a12-2773-4025-ee6a-28c54a3a0d9b"
      },
      "execution_count": 303,
      "outputs": [
        {
          "output_type": "stream",
          "name": "stderr",
          "text": [
            "/usr/local/lib/python3.7/dist-packages/sklearn/utils/deprecation.py:87: FutureWarning:\n",
            "\n",
            "Function plot_confusion_matrix is deprecated; Function `plot_confusion_matrix` is deprecated in 1.0 and will be removed in 1.2. Use one of the class methods: ConfusionMatrixDisplay.from_predictions or ConfusionMatrixDisplay.from_estimator.\n",
            "\n"
          ]
        },
        {
          "output_type": "display_data",
          "data": {
            "text/plain": [
              "<Figure size 432x288 with 2 Axes>"
            ],
            "image/png": "[encoded data removed]"
          },
          "metadata": {
            "needs_background": "light"
          }
        }
      ]
    },
    {
      "cell_type": "markdown",
      "source": [
        "PCA with KNN Model"
      ],
      "metadata": {
        "id": "5pmuKBDBbZDb"
      }
    },
    {
      "cell_type": "code",
      "source": [
        "knn2 = KNeighborsClassifier()\n",
        "pca = PCA()"
      ],
      "metadata": {
        "id": "Ta6E3wzBaplf"
      },
      "execution_count": 309,
      "outputs": []
    },
    {
      "cell_type": "code",
      "source": [
        "#create a transformer pipeline\n",
        "transformer = make_pipeline(preprocessor, pca)"
      ],
      "metadata": {
        "id": "mf3UM3nPDkGt"
      },
      "execution_count": 310,
      "outputs": []
    },
    {
      "cell_type": "code",
      "source": [
        "#create a modeling pipeline with pca\n",
        "knn2_pca_pipe = make_pipeline(transformer, knn2)\n",
        "knn2_pca_pipe.fit(X_train, y_train)"
      ],
      "metadata": {
        "colab": {
          "base_uri": "https://localhost:8080/",
          "height": 252
        },
        "id": "L-eQhGmKbc0l",
        "outputId": "d40530d0-c3e2-48d2-d2e2-80983b87634f"
      },
      "execution_count": 312,
      "outputs": [
        {
          "output_type": "execute_result",
          "data": {
            "text/plain": [
              "Pipeline(steps=[('pipeline',\n",
              "                 Pipeline(steps=[('columntransformer',\n",
              "                                  ColumnTransformer(remainder='passthrough',\n",
              "                                                    transformers=[('onehotencoder',\n",
              "                                                                   OneHotEncoder(handle_unknown='ignore',\n",
              "                                                                                 sparse=False),\n",
              "                                                                   <sklearn.compose._column_transformer.make_column_selector object at 0x7f3430952350>),\n",
              "                                                                  ('standardscaler',\n",
              "                                                                   StandardScaler(),\n",
              "                                                                   <sklearn.compose._column_transformer.make_column_selector object at 0x7f3430952b90>)])),\n",
              "                                 ('pca', PCA())])),\n",
              "                ('kneighborsclassifier', KNeighborsClassifier())])"
            ],
            "text/html": [
              "<style>#sk-dded78c9-a089-4d69-8028-cea78f389163 {color: black;background-color: white;}#sk-dded78c9-a089-4d69-8028-cea78f389163 pre{padding: 0;}#sk-dded78c9-a089-4d69-8028-cea78f389163 div.sk-toggleable {background-color: white;}#sk-dded78c9-a089-4d69-8028-cea78f389163 label.sk-toggleable__label {cursor: pointer;display: block;width: 100%;margin-bottom: 0;padding: 0.3em;box-sizing: border-box;text-align: center;}#sk-dded78c9-a089-4d69-8028-cea78f389163 label.sk-toggleable__label-arrow:before {content: \"▸\";float: left;margin-right: 0.25em;color: #696969;}#sk-dded78c9-a089-4d69-8028-cea78f389163 label.sk-toggleable__label-arrow:hover:before {color: black;}#sk-dded78c9-a089-4d69-8028-cea78f389163 div.sk-estimator:hover label.sk-toggleable__label-arrow:before {color: black;}#sk-dded78c9-a089-4d69-8028-cea78f389163 div.sk-toggleable__content {max-height: 0;max-width: 0;overflow: hidden;text-align: left;background-color: #f0f8ff;}#sk-dded78c9-a089-4d69-8028-cea78f389163 div.sk-toggleable__content pre {margin: 0.2em;color: black;border-radius: 0.25em;background-color: #f0f8ff;}#sk-dded78c9-a089-4d69-8028-cea78f389163 input.sk-toggleable__control:checked~div.sk-toggleable__content {max-height: 200px;max-width: 100%;overflow: auto;}#sk-dded78c9-a089-4d69-8028-cea78f389163 input.sk-toggleable__control:checked~label.sk-toggleable__label-arrow:before {content: \"▾\";}#sk-dded78c9-a089-4d69-8028-cea78f389163 div.sk-estimator input.sk-toggleable__control:checked~label.sk-toggleable__label {background-color: #d4ebff;}#sk-dded78c9-a089-4d69-8028-cea78f389163 div.sk-label input.sk-toggleable__control:checked~label.sk-toggleable__label {background-color: #d4ebff;}#sk-dded78c9-a089-4d69-8028-cea78f389163 input.sk-hidden--visually {border: 0;clip: rect(1px 1px 1px 1px);clip: rect(1px, 1px, 1px, 1px);height: 1px;margin: -1px;overflow: hidden;padding: 0;position: absolute;width: 1px;}#sk-dded78c9-a089-4d69-8028-cea78f389163 div.sk-estimator {font-family: monospace;background-color: #f0f8ff;border: 1px dotted black;border-radius: 0.25em;box-sizing: border-box;margin-bottom: 0.5em;}#sk-dded78c9-a089-4d69-8028-cea78f389163 div.sk-estimator:hover {background-color: #d4ebff;}#sk-dded78c9-a089-4d69-8028-cea78f389163 div.sk-parallel-item::after {content: \"\";width: 100%;border-bottom: 1px solid gray;flex-grow: 1;}#sk-dded78c9-a089-4d69-8028-cea78f389163 div.sk-label:hover label.sk-toggleable__label {background-color: #d4ebff;}#sk-dded78c9-a089-4d69-8028-cea78f389163 div.sk-serial::before {content: \"\";position: absolute;border-left: 1px solid gray;box-sizing: border-box;top: 2em;bottom: 0;left: 50%;}#sk-dded78c9-a089-4d69-8028-cea78f389163 div.sk-serial {display: flex;flex-direction: column;align-items: center;background-color: white;padding-right: 0.2em;padding-left: 0.2em;}#sk-dded78c9-a089-4d69-8028-cea78f389163 div.sk-item {z-index: 1;}#sk-dded78c9-a089-4d69-8028-cea78f389163 div.sk-parallel {display: flex;align-items: stretch;justify-content: center;background-color: white;}#sk-dded78c9-a089-4d69-8028-cea78f389163 div.sk-parallel::before {content: \"\";position: absolute;border-left: 1px solid gray;box-sizing: border-box;top: 2em;bottom: 0;left: 50%;}#sk-dded78c9-a089-4d69-8028-cea78f389163 div.sk-parallel-item {display: flex;flex-direction: column;position: relative;background-color: white;}#sk-dded78c9-a089-4d69-8028-cea78f389163 div.sk-parallel-item:first-child::after {align-self: flex-end;width: 50%;}#sk-dded78c9-a089-4d69-8028-cea78f389163 div.sk-parallel-item:last-child::after {align-self: flex-start;width: 50%;}#sk-dded78c9-a089-4d69-8028-cea78f389163 div.sk-parallel-item:only-child::after {width: 0;}#sk-dded78c9-a089-4d69-8028-cea78f389163 div.sk-dashed-wrapped {border: 1px dashed gray;margin: 0 0.4em 0.5em 0.4em;box-sizing: border-box;padding-bottom: 0.4em;background-color: white;position: relative;}#sk-dded78c9-a089-4d69-8028-cea78f389163 div.sk-label label {font-family: monospace;font-weight: bold;background-color: white;display: inline-block;line-height: 1.2em;}#sk-dded78c9-a089-4d69-8028-cea78f389163 div.sk-label-container {position: relative;z-index: 2;text-align: center;}#sk-dded78c9-a089-4d69-8028-cea78f389163 div.sk-container {/* jupyter's `normalize.less` sets `[hidden] { display: none; }` but bootstrap.min.css set `[hidden] { display: none !important; }` so we also need the `!important` here to be able to override the default hidden behavior on the sphinx rendered scikit-learn.org. See: https://github.com/scikit-learn/scikit-learn/issues/21755 */display: inline-block !important;position: relative;}#sk-dded78c9-a089-4d69-8028-cea78f389163 div.sk-text-repr-fallback {display: none;}</style><div id=\"sk-dded78c9-a089-4d69-8028-cea78f389163\" class=\"sk-top-container\"><div class=\"sk-text-repr-fallback\"><pre>Pipeline(steps=[(&#x27;pipeline&#x27;,\n",
              "                 Pipeline(steps=[(&#x27;columntransformer&#x27;,\n",
              "                                  ColumnTransformer(remainder=&#x27;passthrough&#x27;,\n",
              "                                                    transformers=[(&#x27;onehotencoder&#x27;,\n",
              "                                                                   OneHotEncoder(handle_unknown=&#x27;ignore&#x27;,\n",
              "                                                                                 sparse=False),\n",
              "                                                                   &lt;sklearn.compose._column_transformer.make_column_selector object at 0x7f3430952350&gt;),\n",
              "                                                                  (&#x27;standardscaler&#x27;,\n",
              "                                                                   StandardScaler(),\n",
              "                                                                   &lt;sklearn.compose._column_transformer.make_column_selector object at 0x7f3430952b90&gt;)])),\n",
              "                                 (&#x27;pca&#x27;, PCA())])),\n",
              "                (&#x27;kneighborsclassifier&#x27;, KNeighborsClassifier())])</pre><b>Please rerun this cell to show the HTML repr or trust the notebook.</b></div><div class=\"sk-container\" hidden><div class=\"sk-item sk-dashed-wrapped\"><div class=\"sk-label-container\"><div class=\"sk-label sk-toggleable\"><input class=\"sk-toggleable__control sk-hidden--visually\" id=\"2b47fd2d-1093-4fe3-8f44-68f0f8b11007\" type=\"checkbox\" ><label for=\"2b47fd2d-1093-4fe3-8f44-68f0f8b11007\" class=\"sk-toggleable__label sk-toggleable__label-arrow\">Pipeline</label><div class=\"sk-toggleable__content\"><pre>Pipeline(steps=[(&#x27;pipeline&#x27;,\n",
              "                 Pipeline(steps=[(&#x27;columntransformer&#x27;,\n",
              "                                  ColumnTransformer(remainder=&#x27;passthrough&#x27;,\n",
              "                                                    transformers=[(&#x27;onehotencoder&#x27;,\n",
              "                                                                   OneHotEncoder(handle_unknown=&#x27;ignore&#x27;,\n",
              "                                                                                 sparse=False),\n",
              "                                                                   &lt;sklearn.compose._column_transformer.make_column_selector object at 0x7f3430952350&gt;),\n",
              "                                                                  (&#x27;standardscaler&#x27;,\n",
              "                                                                   StandardScaler(),\n",
              "                                                                   &lt;sklearn.compose._column_transformer.make_column_selector object at 0x7f3430952b90&gt;)])),\n",
              "                                 (&#x27;pca&#x27;, PCA())])),\n",
              "                (&#x27;kneighborsclassifier&#x27;, KNeighborsClassifier())])</pre></div></div></div><div class=\"sk-serial\"><div class=\"sk-item\"><div class=\"sk-label-container\"><div class=\"sk-label sk-toggleable\"><input class=\"sk-toggleable__control sk-hidden--visually\" id=\"d3511c78-5e9b-4f30-8905-56854b5f4565\" type=\"checkbox\" ><label for=\"d3511c78-5e9b-4f30-8905-56854b5f4565\" class=\"sk-toggleable__label sk-toggleable__label-arrow\">pipeline: Pipeline</label><div class=\"sk-toggleable__content\"><pre>Pipeline(steps=[(&#x27;columntransformer&#x27;,\n",
              "                 ColumnTransformer(remainder=&#x27;passthrough&#x27;,\n",
              "                                   transformers=[(&#x27;onehotencoder&#x27;,\n",
              "                                                  OneHotEncoder(handle_unknown=&#x27;ignore&#x27;,\n",
              "                                                                sparse=False),\n",
              "                                                  &lt;sklearn.compose._column_transformer.make_column_selector object at 0x7f3430952350&gt;),\n",
              "                                                 (&#x27;standardscaler&#x27;,\n",
              "                                                  StandardScaler(),\n",
              "                                                  &lt;sklearn.compose._column_transformer.make_column_selector object at 0x7f3430952b90&gt;)])),\n",
              "                (&#x27;pca&#x27;, PCA())])</pre></div></div></div><div class=\"sk-serial\"><div class=\"sk-item sk-dashed-wrapped\"><div class=\"sk-label-container\"><div class=\"sk-label sk-toggleable\"><input class=\"sk-toggleable__control sk-hidden--visually\" id=\"ba2d7d9e-0471-47f0-a070-a943c4c61dd7\" type=\"checkbox\" ><label for=\"ba2d7d9e-0471-47f0-a070-a943c4c61dd7\" class=\"sk-toggleable__label sk-toggleable__label-arrow\">columntransformer: ColumnTransformer</label><div class=\"sk-toggleable__content\"><pre>ColumnTransformer(remainder=&#x27;passthrough&#x27;,\n",
              "                  transformers=[(&#x27;onehotencoder&#x27;,\n",
              "                                 OneHotEncoder(handle_unknown=&#x27;ignore&#x27;,\n",
              "                                               sparse=False),\n",
              "                                 &lt;sklearn.compose._column_transformer.make_column_selector object at 0x7f3430952350&gt;),\n",
              "                                (&#x27;standardscaler&#x27;, StandardScaler(),\n",
              "                                 &lt;sklearn.compose._column_transformer.make_column_selector object at 0x7f3430952b90&gt;)])</pre></div></div></div><div class=\"sk-parallel\"><div class=\"sk-parallel-item\"><div class=\"sk-item\"><div class=\"sk-label-container\"><div class=\"sk-label sk-toggleable\"><input class=\"sk-toggleable__control sk-hidden--visually\" id=\"9239dc73-7153-4e5e-959d-90d6487a57f0\" type=\"checkbox\" ><label for=\"9239dc73-7153-4e5e-959d-90d6487a57f0\" class=\"sk-toggleable__label sk-toggleable__label-arrow\">onehotencoder</label><div class=\"sk-toggleable__content\"><pre>&lt;sklearn.compose._column_transformer.make_column_selector object at 0x7f3430952350&gt;</pre></div></div></div><div class=\"sk-serial\"><div class=\"sk-item\"><div class=\"sk-estimator sk-toggleable\"><input class=\"sk-toggleable__control sk-hidden--visually\" id=\"25111c86-d5b3-4dd4-9d01-8c24a74786ce\" type=\"checkbox\" ><label for=\"25111c86-d5b3-4dd4-9d01-8c24a74786ce\" class=\"sk-toggleable__label sk-toggleable__label-arrow\">OneHotEncoder</label><div class=\"sk-toggleable__content\"><pre>OneHotEncoder(handle_unknown=&#x27;ignore&#x27;, sparse=False)</pre></div></div></div></div></div></div><div class=\"sk-parallel-item\"><div class=\"sk-item\"><div class=\"sk-label-container\"><div class=\"sk-label sk-toggleable\"><input class=\"sk-toggleable__control sk-hidden--visually\" id=\"3e5989a8-5ee5-4376-a5f5-1e7ed79bdad0\" type=\"checkbox\" ><label for=\"3e5989a8-5ee5-4376-a5f5-1e7ed79bdad0\" class=\"sk-toggleable__label sk-toggleable__label-arrow\">standardscaler</label><div class=\"sk-toggleable__content\"><pre>&lt;sklearn.compose._column_transformer.make_column_selector object at 0x7f3430952b90&gt;</pre></div></div></div><div class=\"sk-serial\"><div class=\"sk-item\"><div class=\"sk-estimator sk-toggleable\"><input class=\"sk-toggleable__control sk-hidden--visually\" id=\"aa461db1-87aa-4add-8869-15b2624bca38\" type=\"checkbox\" ><label for=\"aa461db1-87aa-4add-8869-15b2624bca38\" class=\"sk-toggleable__label sk-toggleable__label-arrow\">StandardScaler</label><div class=\"sk-toggleable__content\"><pre>StandardScaler()</pre></div></div></div></div></div></div><div class=\"sk-parallel-item\"><div class=\"sk-item\"><div class=\"sk-label-container\"><div class=\"sk-label sk-toggleable\"><input class=\"sk-toggleable__control sk-hidden--visually\" id=\"46a398a3-c614-463a-a605-4fbd48a09aac\" type=\"checkbox\" ><label for=\"46a398a3-c614-463a-a605-4fbd48a09aac\" class=\"sk-toggleable__label sk-toggleable__label-arrow\">remainder</label><div class=\"sk-toggleable__content\"><pre>[]</pre></div></div></div><div class=\"sk-serial\"><div class=\"sk-item\"><div class=\"sk-estimator sk-toggleable\"><input class=\"sk-toggleable__control sk-hidden--visually\" id=\"5f7663ab-5140-404e-a6f3-6eb85a577ea0\" type=\"checkbox\" ><label for=\"5f7663ab-5140-404e-a6f3-6eb85a577ea0\" class=\"sk-toggleable__label sk-toggleable__label-arrow\">passthrough</label><div class=\"sk-toggleable__content\"><pre>passthrough</pre></div></div></div></div></div></div></div></div><div class=\"sk-item\"><div class=\"sk-estimator sk-toggleable\"><input class=\"sk-toggleable__control sk-hidden--visually\" id=\"8e16e179-6b22-4dba-a134-7a089b54c129\" type=\"checkbox\" ><label for=\"8e16e179-6b22-4dba-a134-7a089b54c129\" class=\"sk-toggleable__label sk-toggleable__label-arrow\">PCA</label><div class=\"sk-toggleable__content\"><pre>PCA()</pre></div></div></div></div></div><div class=\"sk-item\"><div class=\"sk-estimator sk-toggleable\"><input class=\"sk-toggleable__control sk-hidden--visually\" id=\"15e32d72-7c00-4169-b5e1-afda032ad3bd\" type=\"checkbox\" ><label for=\"15e32d72-7c00-4169-b5e1-afda032ad3bd\" class=\"sk-toggleable__label sk-toggleable__label-arrow\">KNeighborsClassifier</label><div class=\"sk-toggleable__content\"><pre>KNeighborsClassifier()</pre></div></div></div></div></div></div></div>"
            ]
          },
          "metadata": {},
          "execution_count": 312
        }
      ]
    },
    {
      "cell_type": "code",
      "source": [
        "#predict Rating.Overall\n",
        "knn2_pca_train_preds = knn2_pca_pipe.predict(X_train)\n",
        "knn2_pca_test_preds = knn2_pca_pipe.predict(X_test)\n",
        "\n",
        "#accuracy\n",
        "print('Accuracy of Train set', accuracy_score(y_train, knn2_pca_train_preds))\n",
        "print('Accuracy of Test set', accuracy_score(y_test, knn2_pca_test_preds))"
      ],
      "metadata": {
        "colab": {
          "base_uri": "https://localhost:8080/"
        },
        "id": "kg7pL64yNu3n",
        "outputId": "1d4f89b6-d8e9-423e-e1f8-41fa3e84d1e3"
      },
      "execution_count": 316,
      "outputs": [
        {
          "output_type": "stream",
          "name": "stdout",
          "text": [
            "Accuracy of Train set 0.5513280689160086\n",
            "Accuracy of Test set 0.37351991388589884\n"
          ]
        }
      ]
    },
    {
      "cell_type": "code",
      "source": [
        "y_pred4 = knn2_pca_pipe.predict(X_test)\n",
        "\n",
        "print(f'final RMSE: {np.sqrt(mean_squared_error(y_test, y_pred4))}')\n",
        "print(f'final MAE: {mean_absolute_error(y_test, y_pred4)}')\n",
        "print(f'final R2: {r2_score(y_test, y_pred4)}')"
      ],
      "metadata": {
        "colab": {
          "base_uri": "https://localhost:8080/"
        },
        "id": "45GTTpPo-p_9",
        "outputId": "8112cf72-19ea-4fc1-bdc2-f169a63894ed"
      },
      "execution_count": 317,
      "outputs": [
        {
          "output_type": "stream",
          "name": "stdout",
          "text": [
            "final RMSE: 1.1987614706475804\n",
            "final MAE: 0.8643702906350915\n",
            "final R2: -0.27642198605647805\n"
          ]
        }
      ]
    },
    {
      "cell_type": "markdown",
      "source": [
        "PCA did not improve the KNN model."
      ],
      "metadata": {
        "id": "pc6nUZ0ZboQu"
      }
    },
    {
      "cell_type": "code",
      "source": [
        "#KNN model with GridSearchCV\n",
        "\n",
        "#define new KNN model for GridSearchCV\n",
        "knn3 = KNeighborsClassifier()\n",
        "#create a modeling pipeline\n",
        "knn3_pipe = make_pipeline(preprocessor, knn3)"
      ],
      "metadata": {
        "id": "9cfDyYc4zv78"
      },
      "execution_count": 318,
      "outputs": []
    },
    {
      "cell_type": "code",
      "source": [
        "#review parameters\n",
        "knn3_pipe.get_params()\n",
        "\n",
        "#5 N Neighbors"
      ],
      "metadata": {
        "colab": {
          "base_uri": "https://localhost:8080/"
        },
        "id": "0wVGbJzmG_DS",
        "outputId": "94c1fb7d-9c0e-46e3-cf70-fbad49017ee2"
      },
      "execution_count": 319,
      "outputs": [
        {
          "output_type": "execute_result",
          "data": {
            "text/plain": [
              "{'columntransformer': ColumnTransformer(remainder='passthrough',\n",
              "                   transformers=[('onehotencoder',\n",
              "                                  OneHotEncoder(handle_unknown='ignore',\n",
              "                                                sparse=False),\n",
              "                                  <sklearn.compose._column_transformer.make_column_selector object at 0x7f3430952350>),\n",
              "                                 ('standardscaler', StandardScaler(),\n",
              "                                  <sklearn.compose._column_transformer.make_column_selector object at 0x7f3430952b90>)]),\n",
              " 'columntransformer__n_jobs': None,\n",
              " 'columntransformer__onehotencoder': OneHotEncoder(handle_unknown='ignore', sparse=False),\n",
              " 'columntransformer__onehotencoder__categories': 'auto',\n",
              " 'columntransformer__onehotencoder__drop': None,\n",
              " 'columntransformer__onehotencoder__dtype': numpy.float64,\n",
              " 'columntransformer__onehotencoder__handle_unknown': 'ignore',\n",
              " 'columntransformer__onehotencoder__sparse': False,\n",
              " 'columntransformer__remainder': 'passthrough',\n",
              " 'columntransformer__sparse_threshold': 0.3,\n",
              " 'columntransformer__standardscaler': StandardScaler(),\n",
              " 'columntransformer__standardscaler__copy': True,\n",
              " 'columntransformer__standardscaler__with_mean': True,\n",
              " 'columntransformer__standardscaler__with_std': True,\n",
              " 'columntransformer__transformer_weights': None,\n",
              " 'columntransformer__transformers': [('onehotencoder',\n",
              "   OneHotEncoder(handle_unknown='ignore', sparse=False),\n",
              "   <sklearn.compose._column_transformer.make_column_selector at 0x7f3430952350>),\n",
              "  ('standardscaler',\n",
              "   StandardScaler(),\n",
              "   <sklearn.compose._column_transformer.make_column_selector at 0x7f3430952b90>)],\n",
              " 'columntransformer__verbose': False,\n",
              " 'columntransformer__verbose_feature_names_out': True,\n",
              " 'kneighborsclassifier': KNeighborsClassifier(),\n",
              " 'kneighborsclassifier__algorithm': 'auto',\n",
              " 'kneighborsclassifier__leaf_size': 30,\n",
              " 'kneighborsclassifier__metric': 'minkowski',\n",
              " 'kneighborsclassifier__metric_params': None,\n",
              " 'kneighborsclassifier__n_jobs': None,\n",
              " 'kneighborsclassifier__n_neighbors': 5,\n",
              " 'kneighborsclassifier__p': 2,\n",
              " 'kneighborsclassifier__weights': 'uniform',\n",
              " 'memory': None,\n",
              " 'steps': [('columntransformer', ColumnTransformer(remainder='passthrough',\n",
              "                     transformers=[('onehotencoder',\n",
              "                                    OneHotEncoder(handle_unknown='ignore',\n",
              "                                                  sparse=False),\n",
              "                                    <sklearn.compose._column_transformer.make_column_selector object at 0x7f3430952350>),\n",
              "                                   ('standardscaler', StandardScaler(),\n",
              "                                    <sklearn.compose._column_transformer.make_column_selector object at 0x7f3430952b90>)])),\n",
              "  ('kneighborsclassifier', KNeighborsClassifier())],\n",
              " 'verbose': False}"
            ]
          },
          "metadata": {},
          "execution_count": 319
        }
      ]
    },
    {
      "cell_type": "code",
      "source": [
        "#set parameters\n",
        "param_grid = {'kneighborsclassifier__n_neighbors': range(1,10),\n",
        "              'kneighborsclassifier__p': range(1,5),\n",
        "              'kneighborsclassifier__weights': ['balanced','uniform']}"
      ],
      "metadata": {
        "id": "aHNmrU7_HyRS"
      },
      "execution_count": 320,
      "outputs": []
    },
    {
      "cell_type": "code",
      "source": [
        "knn3_pipe_gs = GridSearchCV(knn3_pipe, param_grid)\n",
        " \n",
        "knn3_pipe_gs.fit(X_train, y_train)\n",
        "print('Best KNN Parameters:')\n",
        "print(knn3_pipe_gs.best_params_)\n",
        "best_pipe = knn3_pipe_gs.best_estimator_\n",
        "print(f'Accuracy of best KNN model is: {best_pipe.score(X_test, y_test)}')"
      ],
      "metadata": {
        "colab": {
          "base_uri": "https://localhost:8080/"
        },
        "id": "dEXJU5HLIDch",
        "outputId": "2e9b9176-0862-4822-aa04-153d9364bf0e"
      },
      "execution_count": 321,
      "outputs": [
        {
          "output_type": "stream",
          "name": "stderr",
          "text": [
            "/usr/local/lib/python3.7/dist-packages/sklearn/model_selection/_validation.py:372: FitFailedWarning:\n",
            "\n",
            "\n",
            "180 fits failed out of a total of 360.\n",
            "The score on these train-test partitions for these parameters will be set to nan.\n",
            "If these failures are not expected, you can try to debug them by setting error_score='raise'.\n",
            "\n",
            "Below are more details about the failures:\n",
            "--------------------------------------------------------------------------------\n",
            "180 fits failed with the following error:\n",
            "Traceback (most recent call last):\n",
            "  File \"/usr/local/lib/python3.7/dist-packages/sklearn/model_selection/_validation.py\", line 680, in _fit_and_score\n",
            "    estimator.fit(X_train, y_train, **fit_params)\n",
            "  File \"/usr/local/lib/python3.7/dist-packages/sklearn/pipeline.py\", line 394, in fit\n",
            "    self._final_estimator.fit(Xt, y, **fit_params_last_step)\n",
            "  File \"/usr/local/lib/python3.7/dist-packages/sklearn/neighbors/_classification.py\", line 196, in fit\n",
            "    self.weights = _check_weights(self.weights)\n",
            "  File \"/usr/local/lib/python3.7/dist-packages/sklearn/neighbors/_base.py\", line 83, in _check_weights\n",
            "    \"weights not recognized: should be 'uniform', \"\n",
            "ValueError: weights not recognized: should be 'uniform', 'distance', or a callable function\n",
            "\n",
            "\n",
            "/usr/local/lib/python3.7/dist-packages/sklearn/model_selection/_search.py:972: UserWarning:\n",
            "\n",
            "One or more of the test scores are non-finite: [       nan 0.33847867        nan 0.33848317        nan 0.33776246\n",
            "        nan 0.33273811        nan 0.31837802        nan 0.31874159\n",
            "        nan 0.31622556        nan 0.31586906        nan 0.32734632\n",
            "        nan 0.32878065        nan 0.32626848        nan 0.32519256\n",
            "        nan 0.35176026        nan 0.34780603        nan 0.35282974\n",
            "        nan 0.35210968        nan 0.35965136        nan 0.3578541\n",
            "        nan 0.35533548        nan 0.35246488        nan 0.36360238\n",
            "        nan 0.36898902        nan 0.359291          nan 0.35534256\n",
            "        nan 0.36504315        nan 0.3671924         nan 0.36000914\n",
            "        nan 0.35390694        nan 0.36180576        nan 0.36970329\n",
            "        nan 0.360013          nan 0.35355302        nan 0.36252711\n",
            "        nan 0.36504057        nan 0.36432759        nan 0.36145119]\n",
            "\n"
          ]
        },
        {
          "output_type": "stream",
          "name": "stdout",
          "text": [
            "Best KNN Parameters:\n",
            "{'kneighborsclassifier__n_neighbors': 8, 'kneighborsclassifier__p': 2, 'kneighborsclassifier__weights': 'uniform'}\n",
            "Accuracy of best KNN model is: 0.38643702906350913\n"
          ]
        }
      ]
    },
    {
      "cell_type": "markdown",
      "source": [
        "Random Forest Regressor"
      ],
      "metadata": {
        "id": "-uMlAQlJb4_i"
      }
    },
    {
      "cell_type": "code",
      "source": [
        "#instantiate model\n",
        "rf = RandomForestRegressor(random_state = 42)\n",
        "#review hyperparameters\n",
        "rf.get_params()"
      ],
      "metadata": {
        "colab": {
          "base_uri": "https://localhost:8080/"
        },
        "id": "hAAphiDpbnn-",
        "outputId": "a2e957f4-dbda-42c9-c0d6-c3667e6008b8"
      },
      "execution_count": 212,
      "outputs": [
        {
          "output_type": "execute_result",
          "data": {
            "text/plain": [
              "{'bootstrap': True,\n",
              " 'ccp_alpha': 0.0,\n",
              " 'criterion': 'squared_error',\n",
              " 'max_depth': None,\n",
              " 'max_features': 'auto',\n",
              " 'max_leaf_nodes': None,\n",
              " 'max_samples': None,\n",
              " 'min_impurity_decrease': 0.0,\n",
              " 'min_samples_leaf': 1,\n",
              " 'min_samples_split': 2,\n",
              " 'min_weight_fraction_leaf': 0.0,\n",
              " 'n_estimators': 100,\n",
              " 'n_jobs': None,\n",
              " 'oob_score': False,\n",
              " 'random_state': 42,\n",
              " 'verbose': 0,\n",
              " 'warm_start': False}"
            ]
          },
          "metadata": {},
          "execution_count": 212
        }
      ]
    },
    {
      "cell_type": "code",
      "source": [
        "#instanstiate model\n",
        "rf_pipe = make_pipeline(preprocessor, rf)\n",
        "#train model\n",
        "rf_pipe.fit(X_train,y_train)"
      ],
      "metadata": {
        "colab": {
          "base_uri": "https://localhost:8080/",
          "height": 227
        },
        "id": "KFu1oB3yb_xy",
        "outputId": "eeb8c9d8-f5ef-4692-c375-d62fef1fb8f8"
      },
      "execution_count": 213,
      "outputs": [
        {
          "output_type": "execute_result",
          "data": {
            "text/plain": [
              "Pipeline(steps=[('columntransformer',\n",
              "                 ColumnTransformer(remainder='passthrough',\n",
              "                                   transformers=[('pipeline-1',\n",
              "                                                  Pipeline(steps=[('simpleimputer',\n",
              "                                                                   SimpleImputer()),\n",
              "                                                                  ('standardscaler',\n",
              "                                                                   StandardScaler())]),\n",
              "                                                  <sklearn.compose._column_transformer.make_column_selector object at 0x7f342e449610>),\n",
              "                                                 ('pipeline-2',\n",
              "                                                  Pipeline(steps=[('simpleimputer',\n",
              "                                                                   SimpleImputer(strategy='most_frequent')),\n",
              "                                                                  ('onehotencoder',\n",
              "                                                                   OneHotEncoder(handle_unknown='ignore',\n",
              "                                                                                 sparse=False))]),\n",
              "                                                  <sklearn.compose._column_transformer.make_column_selector object at 0x7f342e449dd0>)])),\n",
              "                ('randomforestregressor',\n",
              "                 RandomForestRegressor(random_state=42))])"
            ],
            "text/html": [
              "<style>#sk-9afa6503-ce57-4a10-a3ac-a4b1bf5fd9d7 {color: black;background-color: white;}#sk-9afa6503-ce57-4a10-a3ac-a4b1bf5fd9d7 pre{padding: 0;}#sk-9afa6503-ce57-4a10-a3ac-a4b1bf5fd9d7 div.sk-toggleable {background-color: white;}#sk-9afa6503-ce57-4a10-a3ac-a4b1bf5fd9d7 label.sk-toggleable__label {cursor: pointer;display: block;width: 100%;margin-bottom: 0;padding: 0.3em;box-sizing: border-box;text-align: center;}#sk-9afa6503-ce57-4a10-a3ac-a4b1bf5fd9d7 label.sk-toggleable__label-arrow:before {content: \"▸\";float: left;margin-right: 0.25em;color: #696969;}#sk-9afa6503-ce57-4a10-a3ac-a4b1bf5fd9d7 label.sk-toggleable__label-arrow:hover:before {color: black;}#sk-9afa6503-ce57-4a10-a3ac-a4b1bf5fd9d7 div.sk-estimator:hover label.sk-toggleable__label-arrow:before {color: black;}#sk-9afa6503-ce57-4a10-a3ac-a4b1bf5fd9d7 div.sk-toggleable__content {max-height: 0;max-width: 0;overflow: hidden;text-align: left;background-color: #f0f8ff;}#sk-9afa6503-ce57-4a10-a3ac-a4b1bf5fd9d7 div.sk-toggleable__content pre {margin: 0.2em;color: black;border-radius: 0.25em;background-color: #f0f8ff;}#sk-9afa6503-ce57-4a10-a3ac-a4b1bf5fd9d7 input.sk-toggleable__control:checked~div.sk-toggleable__content {max-height: 200px;max-width: 100%;overflow: auto;}#sk-9afa6503-ce57-4a10-a3ac-a4b1bf5fd9d7 input.sk-toggleable__control:checked~label.sk-toggleable__label-arrow:before {content: \"▾\";}#sk-9afa6503-ce57-4a10-a3ac-a4b1bf5fd9d7 div.sk-estimator input.sk-toggleable__control:checked~label.sk-toggleable__label {background-color: #d4ebff;}#sk-9afa6503-ce57-4a10-a3ac-a4b1bf5fd9d7 div.sk-label input.sk-toggleable__control:checked~label.sk-toggleable__label {background-color: #d4ebff;}#sk-9afa6503-ce57-4a10-a3ac-a4b1bf5fd9d7 input.sk-hidden--visually {border: 0;clip: rect(1px 1px 1px 1px);clip: rect(1px, 1px, 1px, 1px);height: 1px;margin: -1px;overflow: hidden;padding: 0;position: absolute;width: 1px;}#sk-9afa6503-ce57-4a10-a3ac-a4b1bf5fd9d7 div.sk-estimator {font-family: monospace;background-color: #f0f8ff;border: 1px dotted black;border-radius: 0.25em;box-sizing: border-box;margin-bottom: 0.5em;}#sk-9afa6503-ce57-4a10-a3ac-a4b1bf5fd9d7 div.sk-estimator:hover {background-color: #d4ebff;}#sk-9afa6503-ce57-4a10-a3ac-a4b1bf5fd9d7 div.sk-parallel-item::after {content: \"\";width: 100%;border-bottom: 1px solid gray;flex-grow: 1;}#sk-9afa6503-ce57-4a10-a3ac-a4b1bf5fd9d7 div.sk-label:hover label.sk-toggleable__label {background-color: #d4ebff;}#sk-9afa6503-ce57-4a10-a3ac-a4b1bf5fd9d7 div.sk-serial::before {content: \"\";position: absolute;border-left: 1px solid gray;box-sizing: border-box;top: 2em;bottom: 0;left: 50%;}#sk-9afa6503-ce57-4a10-a3ac-a4b1bf5fd9d7 div.sk-serial {display: flex;flex-direction: column;align-items: center;background-color: white;padding-right: 0.2em;padding-left: 0.2em;}#sk-9afa6503-ce57-4a10-a3ac-a4b1bf5fd9d7 div.sk-item {z-index: 1;}#sk-9afa6503-ce57-4a10-a3ac-a4b1bf5fd9d7 div.sk-parallel {display: flex;align-items: stretch;justify-content: center;background-color: white;}#sk-9afa6503-ce57-4a10-a3ac-a4b1bf5fd9d7 div.sk-parallel::before {content: \"\";position: absolute;border-left: 1px solid gray;box-sizing: border-box;top: 2em;bottom: 0;left: 50%;}#sk-9afa6503-ce57-4a10-a3ac-a4b1bf5fd9d7 div.sk-parallel-item {display: flex;flex-direction: column;position: relative;background-color: white;}#sk-9afa6503-ce57-4a10-a3ac-a4b1bf5fd9d7 div.sk-parallel-item:first-child::after {align-self: flex-end;width: 50%;}#sk-9afa6503-ce57-4a10-a3ac-a4b1bf5fd9d7 div.sk-parallel-item:last-child::after {align-self: flex-start;width: 50%;}#sk-9afa6503-ce57-4a10-a3ac-a4b1bf5fd9d7 div.sk-parallel-item:only-child::after {width: 0;}#sk-9afa6503-ce57-4a10-a3ac-a4b1bf5fd9d7 div.sk-dashed-wrapped {border: 1px dashed gray;margin: 0 0.4em 0.5em 0.4em;box-sizing: border-box;padding-bottom: 0.4em;background-color: white;position: relative;}#sk-9afa6503-ce57-4a10-a3ac-a4b1bf5fd9d7 div.sk-label label {font-family: monospace;font-weight: bold;background-color: white;display: inline-block;line-height: 1.2em;}#sk-9afa6503-ce57-4a10-a3ac-a4b1bf5fd9d7 div.sk-label-container {position: relative;z-index: 2;text-align: center;}#sk-9afa6503-ce57-4a10-a3ac-a4b1bf5fd9d7 div.sk-container {/* jupyter's `normalize.less` sets `[hidden] { display: none; }` but bootstrap.min.css set `[hidden] { display: none !important; }` so we also need the `!important` here to be able to override the default hidden behavior on the sphinx rendered scikit-learn.org. See: https://github.com/scikit-learn/scikit-learn/issues/21755 */display: inline-block !important;position: relative;}#sk-9afa6503-ce57-4a10-a3ac-a4b1bf5fd9d7 div.sk-text-repr-fallback {display: none;}</style><div id=\"sk-9afa6503-ce57-4a10-a3ac-a4b1bf5fd9d7\" class=\"sk-top-container\"><div class=\"sk-text-repr-fallback\"><pre>Pipeline(steps=[(&#x27;columntransformer&#x27;,\n",
              "                 ColumnTransformer(remainder=&#x27;passthrough&#x27;,\n",
              "                                   transformers=[(&#x27;pipeline-1&#x27;,\n",
              "                                                  Pipeline(steps=[(&#x27;simpleimputer&#x27;,\n",
              "                                                                   SimpleImputer()),\n",
              "                                                                  (&#x27;standardscaler&#x27;,\n",
              "                                                                   StandardScaler())]),\n",
              "                                                  &lt;sklearn.compose._column_transformer.make_column_selector object at 0x7f342e449610&gt;),\n",
              "                                                 (&#x27;pipeline-2&#x27;,\n",
              "                                                  Pipeline(steps=[(&#x27;simpleimputer&#x27;,\n",
              "                                                                   SimpleImputer(strategy=&#x27;most_frequent&#x27;)),\n",
              "                                                                  (&#x27;onehotencoder&#x27;,\n",
              "                                                                   OneHotEncoder(handle_unknown=&#x27;ignore&#x27;,\n",
              "                                                                                 sparse=False))]),\n",
              "                                                  &lt;sklearn.compose._column_transformer.make_column_selector object at 0x7f342e449dd0&gt;)])),\n",
              "                (&#x27;randomforestregressor&#x27;,\n",
              "                 RandomForestRegressor(random_state=42))])</pre><b>Please rerun this cell to show the HTML repr or trust the notebook.</b></div><div class=\"sk-container\" hidden><div class=\"sk-item sk-dashed-wrapped\"><div class=\"sk-label-container\"><div class=\"sk-label sk-toggleable\"><input class=\"sk-toggleable__control sk-hidden--visually\" id=\"95bc9a59-9e2c-4649-8287-a20552edbc73\" type=\"checkbox\" ><label for=\"95bc9a59-9e2c-4649-8287-a20552edbc73\" class=\"sk-toggleable__label sk-toggleable__label-arrow\">Pipeline</label><div class=\"sk-toggleable__content\"><pre>Pipeline(steps=[(&#x27;columntransformer&#x27;,\n",
              "                 ColumnTransformer(remainder=&#x27;passthrough&#x27;,\n",
              "                                   transformers=[(&#x27;pipeline-1&#x27;,\n",
              "                                                  Pipeline(steps=[(&#x27;simpleimputer&#x27;,\n",
              "                                                                   SimpleImputer()),\n",
              "                                                                  (&#x27;standardscaler&#x27;,\n",
              "                                                                   StandardScaler())]),\n",
              "                                                  &lt;sklearn.compose._column_transformer.make_column_selector object at 0x7f342e449610&gt;),\n",
              "                                                 (&#x27;pipeline-2&#x27;,\n",
              "                                                  Pipeline(steps=[(&#x27;simpleimputer&#x27;,\n",
              "                                                                   SimpleImputer(strategy=&#x27;most_frequent&#x27;)),\n",
              "                                                                  (&#x27;onehotencoder&#x27;,\n",
              "                                                                   OneHotEncoder(handle_unknown=&#x27;ignore&#x27;,\n",
              "                                                                                 sparse=False))]),\n",
              "                                                  &lt;sklearn.compose._column_transformer.make_column_selector object at 0x7f342e449dd0&gt;)])),\n",
              "                (&#x27;randomforestregressor&#x27;,\n",
              "                 RandomForestRegressor(random_state=42))])</pre></div></div></div><div class=\"sk-serial\"><div class=\"sk-item sk-dashed-wrapped\"><div class=\"sk-label-container\"><div class=\"sk-label sk-toggleable\"><input class=\"sk-toggleable__control sk-hidden--visually\" id=\"27fef301-edb4-4e3b-af49-ab507c531ded\" type=\"checkbox\" ><label for=\"27fef301-edb4-4e3b-af49-ab507c531ded\" class=\"sk-toggleable__label sk-toggleable__label-arrow\">columntransformer: ColumnTransformer</label><div class=\"sk-toggleable__content\"><pre>ColumnTransformer(remainder=&#x27;passthrough&#x27;,\n",
              "                  transformers=[(&#x27;pipeline-1&#x27;,\n",
              "                                 Pipeline(steps=[(&#x27;simpleimputer&#x27;,\n",
              "                                                  SimpleImputer()),\n",
              "                                                 (&#x27;standardscaler&#x27;,\n",
              "                                                  StandardScaler())]),\n",
              "                                 &lt;sklearn.compose._column_transformer.make_column_selector object at 0x7f342e449610&gt;),\n",
              "                                (&#x27;pipeline-2&#x27;,\n",
              "                                 Pipeline(steps=[(&#x27;simpleimputer&#x27;,\n",
              "                                                  SimpleImputer(strategy=&#x27;most_frequent&#x27;)),\n",
              "                                                 (&#x27;onehotencoder&#x27;,\n",
              "                                                  OneHotEncoder(handle_unknown=&#x27;ignore&#x27;,\n",
              "                                                                sparse=False))]),\n",
              "                                 &lt;sklearn.compose._column_transformer.make_column_selector object at 0x7f342e449dd0&gt;)])</pre></div></div></div><div class=\"sk-parallel\"><div class=\"sk-parallel-item\"><div class=\"sk-item\"><div class=\"sk-label-container\"><div class=\"sk-label sk-toggleable\"><input class=\"sk-toggleable__control sk-hidden--visually\" id=\"e36e0766-b7f2-4d90-ab05-580b8c625dc0\" type=\"checkbox\" ><label for=\"e36e0766-b7f2-4d90-ab05-580b8c625dc0\" class=\"sk-toggleable__label sk-toggleable__label-arrow\">pipeline-1</label><div class=\"sk-toggleable__content\"><pre>&lt;sklearn.compose._column_transformer.make_column_selector object at 0x7f342e449610&gt;</pre></div></div></div><div class=\"sk-serial\"><div class=\"sk-item\"><div class=\"sk-serial\"><div class=\"sk-item\"><div class=\"sk-estimator sk-toggleable\"><input class=\"sk-toggleable__control sk-hidden--visually\" id=\"a8cbea28-402a-41c2-81e3-42229c9f564d\" type=\"checkbox\" ><label for=\"a8cbea28-402a-41c2-81e3-42229c9f564d\" class=\"sk-toggleable__label sk-toggleable__label-arrow\">SimpleImputer</label><div class=\"sk-toggleable__content\"><pre>SimpleImputer()</pre></div></div></div><div class=\"sk-item\"><div class=\"sk-estimator sk-toggleable\"><input class=\"sk-toggleable__control sk-hidden--visually\" id=\"e97022c8-0bf2-4f96-96ae-b68a3122a415\" type=\"checkbox\" ><label for=\"e97022c8-0bf2-4f96-96ae-b68a3122a415\" class=\"sk-toggleable__label sk-toggleable__label-arrow\">StandardScaler</label><div class=\"sk-toggleable__content\"><pre>StandardScaler()</pre></div></div></div></div></div></div></div></div><div class=\"sk-parallel-item\"><div class=\"sk-item\"><div class=\"sk-label-container\"><div class=\"sk-label sk-toggleable\"><input class=\"sk-toggleable__control sk-hidden--visually\" id=\"8eed0f97-bd53-4159-9bc5-cb7edc34f060\" type=\"checkbox\" ><label for=\"8eed0f97-bd53-4159-9bc5-cb7edc34f060\" class=\"sk-toggleable__label sk-toggleable__label-arrow\">pipeline-2</label><div class=\"sk-toggleable__content\"><pre>&lt;sklearn.compose._column_transformer.make_column_selector object at 0x7f342e449dd0&gt;</pre></div></div></div><div class=\"sk-serial\"><div class=\"sk-item\"><div class=\"sk-serial\"><div class=\"sk-item\"><div class=\"sk-estimator sk-toggleable\"><input class=\"sk-toggleable__control sk-hidden--visually\" id=\"c9ee0fb8-5254-402f-a7ea-d3744fcc47dc\" type=\"checkbox\" ><label for=\"c9ee0fb8-5254-402f-a7ea-d3744fcc47dc\" class=\"sk-toggleable__label sk-toggleable__label-arrow\">SimpleImputer</label><div class=\"sk-toggleable__content\"><pre>SimpleImputer(strategy=&#x27;most_frequent&#x27;)</pre></div></div></div><div class=\"sk-item\"><div class=\"sk-estimator sk-toggleable\"><input class=\"sk-toggleable__control sk-hidden--visually\" id=\"c4e2d538-b251-4987-8f75-dac0c7d3405b\" type=\"checkbox\" ><label for=\"c4e2d538-b251-4987-8f75-dac0c7d3405b\" class=\"sk-toggleable__label sk-toggleable__label-arrow\">OneHotEncoder</label><div class=\"sk-toggleable__content\"><pre>OneHotEncoder(handle_unknown=&#x27;ignore&#x27;, sparse=False)</pre></div></div></div></div></div></div></div></div><div class=\"sk-parallel-item\"><div class=\"sk-item\"><div class=\"sk-label-container\"><div class=\"sk-label sk-toggleable\"><input class=\"sk-toggleable__control sk-hidden--visually\" id=\"e7463cac-7ede-4744-8c2f-b6c8e2648371\" type=\"checkbox\" ><label for=\"e7463cac-7ede-4744-8c2f-b6c8e2648371\" class=\"sk-toggleable__label sk-toggleable__label-arrow\">remainder</label><div class=\"sk-toggleable__content\"><pre>[]</pre></div></div></div><div class=\"sk-serial\"><div class=\"sk-item\"><div class=\"sk-estimator sk-toggleable\"><input class=\"sk-toggleable__control sk-hidden--visually\" id=\"1dd6d53c-bafd-4206-aa4b-d09421757b8f\" type=\"checkbox\" ><label for=\"1dd6d53c-bafd-4206-aa4b-d09421757b8f\" class=\"sk-toggleable__label sk-toggleable__label-arrow\">passthrough</label><div class=\"sk-toggleable__content\"><pre>passthrough</pre></div></div></div></div></div></div></div></div><div class=\"sk-item\"><div class=\"sk-estimator sk-toggleable\"><input class=\"sk-toggleable__control sk-hidden--visually\" id=\"c9edd599-ab84-4802-8e2b-5c5e00187671\" type=\"checkbox\" ><label for=\"c9edd599-ab84-4802-8e2b-5c5e00187671\" class=\"sk-toggleable__label sk-toggleable__label-arrow\">RandomForestRegressor</label><div class=\"sk-toggleable__content\"><pre>RandomForestRegressor(random_state=42)</pre></div></div></div></div></div></div></div>"
            ]
          },
          "metadata": {},
          "execution_count": 213
        }
      ]
    },
    {
      "cell_type": "code",
      "source": [
        "#predict values for y\n",
        "rf_pipe.predict(X_test)"
      ],
      "metadata": {
        "id": "uJ26g9cgcITr",
        "colab": {
          "base_uri": "https://localhost:8080/"
        },
        "outputId": "741bbc61-c4fa-40cc-d866-3b66f2ac03b1"
      },
      "execution_count": 214,
      "outputs": [
        {
          "output_type": "execute_result",
          "data": {
            "text/plain": [
              "array([3.35, 3.1 , 3.01, 3.54, 3.38, 3.57, 2.28, 1.52, 3.02, 3.68, 2.99,\n",
              "       2.52, 3.22, 4.18, 3.3 , 2.36, 2.88, 3.29, 2.54, 3.46, 3.4 , 3.36,\n",
              "       2.71, 3.6 , 2.88, 3.14, 2.6 , 3.09, 3.04, 3.64, 3.77, 3.12, 3.32,\n",
              "       3.84, 2.26, 3.39, 3.68, 3.1 , 4.21, 3.89, 2.7 , 3.57, 3.43, 3.56,\n",
              "       2.58, 3.16, 2.64, 3.48, 3.52, 2.89, 3.87, 3.14, 2.01, 3.12, 3.29,\n",
              "       3.24, 4.57, 2.73, 4.11, 3.84, 3.53, 3.02, 2.63, 3.14, 3.17, 2.99,\n",
              "       3.86, 2.52, 3.42, 2.96, 3.49, 2.51, 4.06, 2.5 , 3.32, 2.51, 3.31,\n",
              "       3.77, 3.32, 3.62, 2.88, 3.1 , 2.21, 3.32, 3.28, 2.81, 1.98, 3.24,\n",
              "       2.44, 2.94, 3.48, 4.39, 3.2 , 3.25, 3.2 , 3.78, 2.8 , 3.4 , 3.15,\n",
              "       2.81, 3.41, 3.32, 3.3 , 2.44, 3.04, 3.06, 3.3 , 3.36, 3.06, 3.89,\n",
              "       3.12, 2.95, 2.61, 3.22, 2.26, 2.47, 2.58, 3.27, 3.57, 3.67, 3.93,\n",
              "       2.01, 2.63, 3.17, 2.94, 3.29, 3.81, 4.07, 2.1 , 1.9 , 3.07, 2.38,\n",
              "       3.53, 2.78, 3.45, 3.46, 4.2 , 2.93, 1.3 , 3.31, 3.1 , 4.95, 3.53,\n",
              "       3.47, 2.87, 2.87, 3.56, 4.04, 3.87, 2.41, 3.27, 3.83, 3.43, 3.28,\n",
              "       3.2 , 3.39, 2.61, 2.96, 2.65, 3.11, 2.86, 3.33, 1.8 , 3.24, 3.25,\n",
              "       2.88, 3.38, 4.29, 2.9 , 4.03, 3.57, 3.26, 3.58, 3.08, 3.03, 4.45,\n",
              "       3.53, 3.57, 3.14, 3.12, 2.42, 1.91, 3.  , 3.74, 2.73, 2.96, 3.84,\n",
              "       3.47, 2.85, 3.22, 3.45, 3.15, 2.31, 2.83, 3.  , 3.51, 3.46, 2.33,\n",
              "       3.95, 3.88, 3.8 , 3.13, 3.31, 2.23, 3.34, 2.44, 3.91, 3.36, 3.8 ,\n",
              "       2.79, 3.16, 1.62, 2.39, 2.72, 2.96, 2.32, 3.34, 2.08, 3.25, 3.43,\n",
              "       3.86, 2.37, 3.74, 2.57, 3.22, 3.2 , 3.17, 3.18, 2.49, 3.55, 3.19,\n",
              "       3.54, 3.06, 2.64, 2.93, 3.09, 1.74, 3.68, 3.06, 3.23, 3.5 , 2.86,\n",
              "       1.7 , 3.43, 3.44, 3.22, 3.53, 3.71, 3.54, 3.36, 3.79, 3.76, 2.86,\n",
              "       2.99, 3.02, 4.42, 4.43, 3.62, 2.71, 2.81, 3.48, 2.36, 2.85, 3.43,\n",
              "       3.41, 3.66, 2.65, 2.33, 2.49, 3.22, 2.71, 2.63, 3.08, 1.81, 3.48,\n",
              "       3.64, 3.16, 3.54, 3.16, 3.53, 3.28, 3.16, 3.39, 2.34, 3.25, 2.11,\n",
              "       2.48, 3.56, 3.56, 3.83, 2.93, 1.97, 3.41, 4.32, 2.75, 3.17, 3.49,\n",
              "       2.36, 2.4 , 3.66, 2.97, 3.63, 3.07, 3.75, 3.1 , 2.97, 1.47, 2.65,\n",
              "       3.11, 3.8 , 3.37, 3.46, 2.96, 3.26, 3.41, 2.81, 2.14, 2.65, 3.18,\n",
              "       3.65, 3.04, 3.13, 2.99, 3.47, 3.14, 4.24, 3.53, 2.9 , 3.5 , 3.58,\n",
              "       3.56, 2.49, 2.93, 2.1 , 2.4 , 2.67, 2.  , 2.51, 2.84, 2.64, 3.43,\n",
              "       2.92, 3.5 , 2.62, 2.93, 3.09, 2.96, 3.25, 2.61, 3.46, 2.82, 2.02,\n",
              "       1.96, 2.44, 3.58, 3.62, 3.71, 2.02, 1.64, 1.83, 2.87, 1.94, 3.35,\n",
              "       3.01, 3.95, 2.85, 3.52, 2.56, 2.3 , 3.61, 3.42, 3.82, 3.04, 3.03,\n",
              "       3.46, 3.35, 3.21, 3.66, 3.14, 3.59, 3.48, 3.24, 2.  , 3.28, 3.31,\n",
              "       3.91, 3.91, 2.58, 3.28, 2.7 , 4.1 , 3.79, 3.63, 3.06, 2.82, 2.73,\n",
              "       3.78, 3.14, 3.3 , 2.93, 3.18, 3.57, 2.66, 3.31, 3.92, 2.42, 2.96,\n",
              "       2.9 , 3.64, 2.16, 3.29, 2.63, 2.89, 2.52, 3.12, 3.49, 3.57, 3.51,\n",
              "       2.42, 3.02, 3.64, 3.56, 3.35, 3.03, 3.09, 3.19, 3.37, 3.21, 3.33,\n",
              "       3.19, 2.35, 3.97, 3.71, 3.29, 2.97, 3.8 , 2.41, 3.  , 3.02, 3.45,\n",
              "       2.9 , 3.63, 3.36, 2.91, 3.59, 3.64, 2.81, 3.85, 2.72, 3.67, 2.21,\n",
              "       3.42, 3.38, 2.75, 2.43, 3.54, 3.2 , 3.39, 2.87, 2.2 , 3.33, 1.89,\n",
              "       3.42, 1.92, 2.43, 4.3 , 3.07, 1.86, 3.5 , 3.33, 3.64, 2.46, 4.03,\n",
              "       2.92, 4.21, 2.44, 3.1 , 3.72, 3.13, 1.86, 3.62, 2.38, 3.09, 3.5 ,\n",
              "       3.49, 3.13, 3.26, 3.49, 2.5 , 3.54, 2.26, 2.84, 3.57, 3.25, 2.39,\n",
              "       3.07, 3.26, 3.12, 3.56, 3.83, 3.51, 3.18, 3.77, 3.63, 3.34, 3.07,\n",
              "       2.66, 3.47, 3.51, 2.66, 3.12, 1.79, 3.1 , 3.05, 3.94, 2.95, 3.69,\n",
              "       2.31, 3.36, 2.5 , 3.2 , 3.56, 3.27, 3.17, 2.96, 3.39, 3.21, 3.76,\n",
              "       3.22, 3.19, 4.39, 3.07, 2.36, 2.97, 3.34, 2.52, 2.65, 3.29, 3.02,\n",
              "       3.24, 3.23, 3.1 , 2.45, 2.89, 3.13, 2.68, 2.89, 2.07, 2.48, 2.96,\n",
              "       2.5 , 2.71, 3.09, 3.7 , 3.2 , 3.05, 3.71, 2.7 , 2.18, 2.95, 3.73,\n",
              "       3.13, 2.21, 3.63, 1.87, 2.93, 2.99, 3.06, 2.63, 1.99, 3.83, 1.67,\n",
              "       2.72, 2.77, 3.39, 3.14, 3.1 , 3.07, 2.67, 3.64, 2.65, 3.58, 3.6 ,\n",
              "       3.57, 2.88, 2.38, 2.39, 2.33, 2.43, 3.18, 3.43, 2.64, 1.91, 3.42,\n",
              "       3.23, 3.14, 3.6 , 3.22, 3.48, 3.58, 3.53, 3.05, 3.4 , 3.88, 3.25,\n",
              "       3.28, 2.62, 2.6 , 3.3 , 3.57, 3.55, 3.75, 2.67, 3.79, 2.58, 3.23,\n",
              "       4.07, 3.64, 4.35, 2.92, 3.67, 2.63, 3.24, 3.22, 3.54, 2.96, 3.1 ,\n",
              "       2.26, 3.25, 4.99, 3.77, 3.59, 2.44, 3.44, 3.15, 3.21, 2.28, 3.07,\n",
              "       3.01, 2.93, 3.07, 3.52, 3.74, 2.53, 3.6 , 3.41, 3.49, 3.9 , 1.96,\n",
              "       3.73, 3.51, 3.15, 4.49, 3.48, 3.02, 3.53, 3.41, 3.8 , 3.13, 2.73,\n",
              "       3.78, 3.22, 2.97, 2.96, 2.99, 2.92, 3.37, 3.3 , 2.56, 3.76, 2.58,\n",
              "       2.46, 3.04, 2.92, 3.74, 3.3 , 2.05, 3.53, 2.39, 3.28, 3.22, 2.66,\n",
              "       2.4 , 2.17, 2.95, 2.89, 3.2 , 2.66, 3.19, 3.69, 3.09, 3.28, 2.83,\n",
              "       3.11, 3.82, 3.31, 2.95, 3.23, 3.18, 3.01, 2.59, 3.99, 3.2 , 3.58,\n",
              "       2.84, 3.36, 3.55, 3.56, 2.99, 3.06, 3.84, 2.8 , 4.92, 2.6 , 3.57,\n",
              "       3.05, 2.79, 2.91, 2.85, 3.61, 3.36, 3.39, 4.91, 2.9 , 3.73, 3.7 ,\n",
              "       4.04, 3.61, 1.76, 3.82, 3.21, 2.45, 2.  , 3.84, 2.82, 3.84, 3.43,\n",
              "       3.81, 2.53, 2.29, 4.07, 2.89, 2.9 , 2.23, 3.42, 3.6 , 3.81, 3.47,\n",
              "       2.87, 3.23, 2.67, 2.38, 3.15, 3.27, 3.67, 3.29, 3.44, 3.34, 2.76,\n",
              "       3.99, 3.22, 3.71, 3.07, 3.28, 3.2 , 3.57, 2.98, 3.77, 3.79, 3.44,\n",
              "       3.36, 3.52, 3.2 , 4.22, 3.09, 2.38, 1.95, 2.98, 3.02, 3.02, 3.47,\n",
              "       3.27, 3.08, 3.89, 3.41, 2.59, 4.01, 3.35, 3.48, 3.21, 3.74, 3.19,\n",
              "       3.43, 3.74, 2.82, 3.56, 3.15, 3.63, 2.51, 3.29, 3.  , 3.95, 2.97,\n",
              "       3.78, 3.76, 3.06, 3.27, 1.63, 3.25, 3.11, 2.78, 3.47, 3.71, 3.24,\n",
              "       2.92, 3.5 , 2.84, 3.73, 1.89, 3.61, 2.63, 3.84, 3.2 , 3.16, 3.6 ,\n",
              "       3.35, 3.79, 3.59, 3.12, 1.68, 3.44, 2.32, 2.53, 3.45, 3.36, 2.1 ,\n",
              "       3.56, 3.45, 3.82, 3.45, 2.86, 2.6 , 3.55, 2.29, 3.28, 3.2 , 3.85,\n",
              "       2.98, 3.71, 3.19, 3.61, 3.51, 2.74, 3.2 , 2.92, 3.18, 3.12, 3.07,\n",
              "       2.96, 3.69, 2.68, 3.97, 3.7 , 4.21, 2.9 , 3.43, 3.52, 2.86, 2.92,\n",
              "       3.43, 3.39, 3.2 , 3.17, 3.31, 2.75, 3.69, 2.05, 3.01, 3.09, 3.13,\n",
              "       4.81, 3.78, 2.8 , 3.12, 3.38, 3.2 , 2.82, 2.98, 3.24, 3.2 , 2.52,\n",
              "       3.73, 3.71, 4.01, 2.85, 2.92, 3.16, 3.53, 3.25, 4.54, 3.05, 3.05,\n",
              "       1.87, 3.37, 3.08, 2.97, 4.34, 2.75, 2.81, 1.68, 3.4 , 3.51, 3.77,\n",
              "       2.82, 2.61, 3.26, 3.17, 3.74, 2.52, 2.47, 3.32, 2.88, 1.61, 3.26,\n",
              "       2.  , 2.76, 3.74, 3.05, 3.23])"
            ]
          },
          "metadata": {},
          "execution_count": 214
        }
      ]
    },
    {
      "cell_type": "code",
      "source": [
        "#evaluate random forest model performance\n",
        "rf_pipe_train_score = rf_pipe.score(X_train, y_train)\n",
        "rf_pipe_test_score = rf_pipe.score(X_test, y_test)\n",
        "print(rf_pipe_train_score)\n",
        "print(rf_pipe_test_score)"
      ],
      "metadata": {
        "colab": {
          "base_uri": "https://localhost:8080/"
        },
        "id": "CYOgQFrgcMMY",
        "outputId": "826b65a0-e261-4acf-c04c-6d26dc917caf"
      },
      "execution_count": 215,
      "outputs": [
        {
          "output_type": "stream",
          "name": "stdout",
          "text": [
            "0.8868217731662615\n",
            "0.18778658815973903\n"
          ]
        }
      ]
    },
    {
      "cell_type": "markdown",
      "source": [
        "R2 value of about 87% for training set and 19% for test set. This shows very high overfitting. Will tune random forest model to see if model can be improved."
      ],
      "metadata": {
        "id": "pHlLNcKdcVK0"
      }
    },
    {
      "cell_type": "code",
      "source": [
        "#depth of model with unlimited max_depth\n",
        "est_depths = [estimator.get_depth() for estimator in rf.estimators_]\n",
        "max(est_depths)"
      ],
      "metadata": {
        "colab": {
          "base_uri": "https://localhost:8080/"
        },
        "id": "1VVl0MFQcZ07",
        "outputId": "9fb3a356-69d2-49d1-e1ce-c018a5a0cf07"
      },
      "execution_count": 216,
      "outputs": [
        {
          "output_type": "execute_result",
          "data": {
            "text/plain": [
              "119"
            ]
          },
          "metadata": {},
          "execution_count": 216
        }
      ]
    },
    {
      "cell_type": "code",
      "source": [
        "#use loop to loop to find best max_depth\n",
        "depths = range(1, max(est_depths))\n",
        "scores = pd.DataFrame(index=depths, columns=['Test Score'])\n",
        "for depth in depths:    \n",
        "   model = RandomForestRegressor(max_depth=depth)\n",
        "   model_pipe = make_pipeline(preprocessor, model)\n",
        "   model_pipe.fit(X_train, y_train)\n",
        "   scores.loc[depth, 'Train Score'] = model_pipe.score(X_train, y_train)\n",
        "   scores.loc[depth, 'Test Score'] = model_pipe.score(X_test, y_test)\n",
        "   scores.head()"
      ],
      "metadata": {
        "id": "InJcVodmcdVq"
      },
      "execution_count": 217,
      "outputs": []
    },
    {
      "cell_type": "code",
      "source": [
        "sorted_scores = scores.sort_values(by='Test Score', ascending=False)\n",
        "sorted_scores.head()\n",
        "\n",
        "# best test score at the top"
      ],
      "metadata": {
        "id": "tJ3IBBiQcypt",
        "colab": {
          "base_uri": "https://localhost:8080/",
          "height": 206
        },
        "outputId": "1942929a-b7fc-4fc8-803c-117d215de7a3"
      },
      "execution_count": 218,
      "outputs": [
        {
          "output_type": "execute_result",
          "data": {
            "text/plain": [
              "   Test Score  Train Score\n",
              "8    0.209874     0.384970\n",
              "14   0.209454     0.583451\n",
              "9    0.209401     0.423887\n",
              "53   0.209084     0.882239\n",
              "17   0.208056     0.648502"
            ],
            "text/html": [
              "\n",
              "  <div id=\"df-5c610ade-b150-419f-ae6e-d66d5d3e67f1\">\n",
              "    <div class=\"colab-df-container\">\n",
              "      <div>\n",
              "<style scoped>\n",
              "    .dataframe tbody tr th:only-of-type {\n",
              "        vertical-align: middle;\n",
              "    }\n",
              "\n",
              "    .dataframe tbody tr th {\n",
              "        vertical-align: top;\n",
              "    }\n",
              "\n",
              "    .dataframe thead th {\n",
              "        text-align: right;\n",
              "    }\n",
              "</style>\n",
              "<table border=\"1\" class=\"dataframe\">\n",
              "  <thead>\n",
              "    <tr style=\"text-align: right;\">\n",
              "      <th></th>\n",
              "      <th>Test Score</th>\n",
              "      <th>Train Score</th>\n",
              "    </tr>\n",
              "  </thead>\n",
              "  <tbody>\n",
              "    <tr>\n",
              "      <th>8</th>\n",
              "      <td>0.209874</td>\n",
              "      <td>0.384970</td>\n",
              "    </tr>\n",
              "    <tr>\n",
              "      <th>14</th>\n",
              "      <td>0.209454</td>\n",
              "      <td>0.583451</td>\n",
              "    </tr>\n",
              "    <tr>\n",
              "      <th>9</th>\n",
              "      <td>0.209401</td>\n",
              "      <td>0.423887</td>\n",
              "    </tr>\n",
              "    <tr>\n",
              "      <th>53</th>\n",
              "      <td>0.209084</td>\n",
              "      <td>0.882239</td>\n",
              "    </tr>\n",
              "    <tr>\n",
              "      <th>17</th>\n",
              "      <td>0.208056</td>\n",
              "      <td>0.648502</td>\n",
              "    </tr>\n",
              "  </tbody>\n",
              "</table>\n",
              "</div>\n",
              "      <button class=\"colab-df-convert\" onclick=\"convertToInteractive('df-5c610ade-b150-419f-ae6e-d66d5d3e67f1')\"\n",
              "              title=\"Convert this dataframe to an interactive table.\"\n",
              "              style=\"display:none;\">\n",
              "        \n",
              "  <svg xmlns=\"http://www.w3.org/2000/svg\" height=\"24px\"viewBox=\"0 0 24 24\"\n",
              "       width=\"24px\">\n",
              "    <path d=\"M0 0h24v24H0V0z\" fill=\"none\"/>\n",
              "    <path d=\"M18.56 5.44l.94 2.06.94-2.06 2.06-.94-2.06-.94-.94-2.06-.94 2.06-2.06.94zm-11 1L8.5 8.5l.94-2.06 2.06-.94-2.06-.94L8.5 2.5l-.94 2.06-2.06.94zm10 10l.94 2.06.94-2.06 2.06-.94-2.06-.94-.94-2.06-.94 2.06-2.06.94z\"/><path d=\"M17.41 7.96l-1.37-1.37c-.4-.4-.92-.59-1.43-.59-.52 0-1.04.2-1.43.59L10.3 9.45l-7.72 7.72c-.78.78-.78 2.05 0 2.83L4 21.41c.39.39.9.59 1.41.59.51 0 1.02-.2 1.41-.59l7.78-7.78 2.81-2.81c.8-.78.8-2.07 0-2.86zM5.41 20L4 18.59l7.72-7.72 1.47 1.35L5.41 20z\"/>\n",
              "  </svg>\n",
              "      </button>\n",
              "      \n",
              "  <style>\n",
              "    .colab-df-container {\n",
              "      display:flex;\n",
              "      flex-wrap:wrap;\n",
              "      gap: 12px;\n",
              "    }\n",
              "\n",
              "    .colab-df-convert {\n",
              "      background-color: #E8F0FE;\n",
              "      border: none;\n",
              "      border-radius: 50%;\n",
              "      cursor: pointer;\n",
              "      display: none;\n",
              "      fill: #1967D2;\n",
              "      height: 32px;\n",
              "      padding: 0 0 0 0;\n",
              "      width: 32px;\n",
              "    }\n",
              "\n",
              "    .colab-df-convert:hover {\n",
              "      background-color: #E2EBFA;\n",
              "      box-shadow: 0px 1px 2px rgba(60, 64, 67, 0.3), 0px 1px 3px 1px rgba(60, 64, 67, 0.15);\n",
              "      fill: #174EA6;\n",
              "    }\n",
              "\n",
              "    [theme=dark] .colab-df-convert {\n",
              "      background-color: #3B4455;\n",
              "      fill: #D2E3FC;\n",
              "    }\n",
              "\n",
              "    [theme=dark] .colab-df-convert:hover {\n",
              "      background-color: #434B5C;\n",
              "      box-shadow: 0px 1px 3px 1px rgba(0, 0, 0, 0.15);\n",
              "      filter: drop-shadow(0px 1px 2px rgba(0, 0, 0, 0.3));\n",
              "      fill: #FFFFFF;\n",
              "    }\n",
              "  </style>\n",
              "\n",
              "      <script>\n",
              "        const buttonEl =\n",
              "          document.querySelector('#df-5c610ade-b150-419f-ae6e-d66d5d3e67f1 button.colab-df-convert');\n",
              "        buttonEl.style.display =\n",
              "          google.colab.kernel.accessAllowed ? 'block' : 'none';\n",
              "\n",
              "        async function convertToInteractive(key) {\n",
              "          const element = document.querySelector('#df-5c610ade-b150-419f-ae6e-d66d5d3e67f1');\n",
              "          const dataTable =\n",
              "            await google.colab.kernel.invokeFunction('convertToInteractive',\n",
              "                                                     [key], {});\n",
              "          if (!dataTable) return;\n",
              "\n",
              "          const docLinkHtml = 'Like what you see? Visit the ' +\n",
              "            '<a target=\"_blank\" href=https://colab.research.google.com/notebooks/data_table.ipynb>data table notebook</a>'\n",
              "            + ' to learn more about interactive tables.';\n",
              "          element.innerHTML = '';\n",
              "          dataTable['output_type'] = 'display_data';\n",
              "          await google.colab.output.renderOutput(dataTable, element);\n",
              "          const docLink = document.createElement('div');\n",
              "          docLink.innerHTML = docLinkHtml;\n",
              "          element.appendChild(docLink);\n",
              "        }\n",
              "      </script>\n",
              "    </div>\n",
              "  </div>\n",
              "  "
            ]
          },
          "metadata": {},
          "execution_count": 218
        }
      ]
    },
    {
      "cell_type": "code",
      "source": [
        "#tune model using n_estimators instead\n",
        "\n",
        "n_ests = [2, 10, 30, 50, 70, 100, 119]\n",
        "scores2 = pd.DataFrame(index=n_ests, columns=['Test Score', 'Train Score'])\n",
        "for n in n_ests:\n",
        "   model2 = RandomForestRegressor(max_depth=119, n_estimators=n)\n",
        "   model2_pipe = make_pipeline(preprocessor, model)\n",
        "   model2_pipe.fit(X_train, y_train)\n",
        "   scores2.loc[n, 'Train Score'] = model2_pipe.score(X_train, y_train)\n",
        "   scores2.loc[n, 'Test Score'] = model2_pipe.score(X_test, y_test)\n",
        "scores2.head()"
      ],
      "metadata": {
        "id": "Jx4tUO_rdBSi",
        "colab": {
          "base_uri": "https://localhost:8080/",
          "height": 206
        },
        "outputId": "66db6c07-b2b4-49e2-bfed-b5627f62191f"
      },
      "execution_count": 324,
      "outputs": [
        {
          "output_type": "execute_result",
          "data": {
            "text/plain": [
              "   Test Score Train Score\n",
              "2    0.199945    0.887709\n",
              "10   0.188221    0.889322\n",
              "30   0.201842    0.889226\n",
              "50   0.193325    0.889183\n",
              "70   0.194777    0.888995"
            ],
            "text/html": [
              "\n",
              "  <div id=\"df-7426e130-b9dd-4b5f-886c-50ad0ca61b1b\">\n",
              "    <div class=\"colab-df-container\">\n",
              "      <div>\n",
              "<style scoped>\n",
              "    .dataframe tbody tr th:only-of-type {\n",
              "        vertical-align: middle;\n",
              "    }\n",
              "\n",
              "    .dataframe tbody tr th {\n",
              "        vertical-align: top;\n",
              "    }\n",
              "\n",
              "    .dataframe thead th {\n",
              "        text-align: right;\n",
              "    }\n",
              "</style>\n",
              "<table border=\"1\" class=\"dataframe\">\n",
              "  <thead>\n",
              "    <tr style=\"text-align: right;\">\n",
              "      <th></th>\n",
              "      <th>Test Score</th>\n",
              "      <th>Train Score</th>\n",
              "    </tr>\n",
              "  </thead>\n",
              "  <tbody>\n",
              "    <tr>\n",
              "      <th>2</th>\n",
              "      <td>0.199945</td>\n",
              "      <td>0.887709</td>\n",
              "    </tr>\n",
              "    <tr>\n",
              "      <th>10</th>\n",
              "      <td>0.188221</td>\n",
              "      <td>0.889322</td>\n",
              "    </tr>\n",
              "    <tr>\n",
              "      <th>30</th>\n",
              "      <td>0.201842</td>\n",
              "      <td>0.889226</td>\n",
              "    </tr>\n",
              "    <tr>\n",
              "      <th>50</th>\n",
              "      <td>0.193325</td>\n",
              "      <td>0.889183</td>\n",
              "    </tr>\n",
              "    <tr>\n",
              "      <th>70</th>\n",
              "      <td>0.194777</td>\n",
              "      <td>0.888995</td>\n",
              "    </tr>\n",
              "  </tbody>\n",
              "</table>\n",
              "</div>\n",
              "      <button class=\"colab-df-convert\" onclick=\"convertToInteractive('df-7426e130-b9dd-4b5f-886c-50ad0ca61b1b')\"\n",
              "              title=\"Convert this dataframe to an interactive table.\"\n",
              "              style=\"display:none;\">\n",
              "        \n",
              "  <svg xmlns=\"http://www.w3.org/2000/svg\" height=\"24px\"viewBox=\"0 0 24 24\"\n",
              "       width=\"24px\">\n",
              "    <path d=\"M0 0h24v24H0V0z\" fill=\"none\"/>\n",
              "    <path d=\"M18.56 5.44l.94 2.06.94-2.06 2.06-.94-2.06-.94-.94-2.06-.94 2.06-2.06.94zm-11 1L8.5 8.5l.94-2.06 2.06-.94-2.06-.94L8.5 2.5l-.94 2.06-2.06.94zm10 10l.94 2.06.94-2.06 2.06-.94-2.06-.94-.94-2.06-.94 2.06-2.06.94z\"/><path d=\"M17.41 7.96l-1.37-1.37c-.4-.4-.92-.59-1.43-.59-.52 0-1.04.2-1.43.59L10.3 9.45l-7.72 7.72c-.78.78-.78 2.05 0 2.83L4 21.41c.39.39.9.59 1.41.59.51 0 1.02-.2 1.41-.59l7.78-7.78 2.81-2.81c.8-.78.8-2.07 0-2.86zM5.41 20L4 18.59l7.72-7.72 1.47 1.35L5.41 20z\"/>\n",
              "  </svg>\n",
              "      </button>\n",
              "      \n",
              "  <style>\n",
              "    .colab-df-container {\n",
              "      display:flex;\n",
              "      flex-wrap:wrap;\n",
              "      gap: 12px;\n",
              "    }\n",
              "\n",
              "    .colab-df-convert {\n",
              "      background-color: #E8F0FE;\n",
              "      border: none;\n",
              "      border-radius: 50%;\n",
              "      cursor: pointer;\n",
              "      display: none;\n",
              "      fill: #1967D2;\n",
              "      height: 32px;\n",
              "      padding: 0 0 0 0;\n",
              "      width: 32px;\n",
              "    }\n",
              "\n",
              "    .colab-df-convert:hover {\n",
              "      background-color: #E2EBFA;\n",
              "      box-shadow: 0px 1px 2px rgba(60, 64, 67, 0.3), 0px 1px 3px 1px rgba(60, 64, 67, 0.15);\n",
              "      fill: #174EA6;\n",
              "    }\n",
              "\n",
              "    [theme=dark] .colab-df-convert {\n",
              "      background-color: #3B4455;\n",
              "      fill: #D2E3FC;\n",
              "    }\n",
              "\n",
              "    [theme=dark] .colab-df-convert:hover {\n",
              "      background-color: #434B5C;\n",
              "      box-shadow: 0px 1px 3px 1px rgba(0, 0, 0, 0.15);\n",
              "      filter: drop-shadow(0px 1px 2px rgba(0, 0, 0, 0.3));\n",
              "      fill: #FFFFFF;\n",
              "    }\n",
              "  </style>\n",
              "\n",
              "      <script>\n",
              "        const buttonEl =\n",
              "          document.querySelector('#df-7426e130-b9dd-4b5f-886c-50ad0ca61b1b button.colab-df-convert');\n",
              "        buttonEl.style.display =\n",
              "          google.colab.kernel.accessAllowed ? 'block' : 'none';\n",
              "\n",
              "        async function convertToInteractive(key) {\n",
              "          const element = document.querySelector('#df-7426e130-b9dd-4b5f-886c-50ad0ca61b1b');\n",
              "          const dataTable =\n",
              "            await google.colab.kernel.invokeFunction('convertToInteractive',\n",
              "                                                     [key], {});\n",
              "          if (!dataTable) return;\n",
              "\n",
              "          const docLinkHtml = 'Like what you see? Visit the ' +\n",
              "            '<a target=\"_blank\" href=https://colab.research.google.com/notebooks/data_table.ipynb>data table notebook</a>'\n",
              "            + ' to learn more about interactive tables.';\n",
              "          element.innerHTML = '';\n",
              "          dataTable['output_type'] = 'display_data';\n",
              "          await google.colab.output.renderOutput(dataTable, element);\n",
              "          const docLink = document.createElement('div');\n",
              "          docLink.innerHTML = docLinkHtml;\n",
              "          element.appendChild(docLink);\n",
              "        }\n",
              "      </script>\n",
              "    </div>\n",
              "  </div>\n",
              "  "
            ]
          },
          "metadata": {},
          "execution_count": 324
        }
      ]
    },
    {
      "cell_type": "markdown",
      "source": [
        "**Deep Learning Model**"
      ],
      "metadata": {
        "id": "NmmRcMPIXQoY"
      }
    },
    {
      "cell_type": "code",
      "source": [
        "#assign X and y\n",
        "#Rating.Overall is the target\n",
        "\n",
        "X = df3.drop(columns='Rating.Overall')\n",
        "y = df3['Rating.Overall']\n",
        "\n",
        "# split into training and test sets\n",
        "X_train, X_test, y_train, y_test = train_test_split(X, y, random_state=42)"
      ],
      "metadata": {
        "id": "SjnEBXnOpqpZ"
      },
      "execution_count": 337,
      "outputs": []
    },
    {
      "cell_type": "code",
      "source": [
        "# process the data\n",
        "preprocessor.fit(X_train, y_train)\n",
        "X_train_proc = preprocessor.transform(X_train)\n",
        "X_test_proc = preprocessor.transform(X_test)\n",
        "\n",
        "X_train_proc.shape"
      ],
      "metadata": {
        "colab": {
          "base_uri": "https://localhost:8080/"
        },
        "id": "OQ0W0MZPsNxd",
        "outputId": "89ef5b1f-7874-4b2f-9178-6ca40d2232c0"
      },
      "execution_count": 338,
      "outputs": [
        {
          "output_type": "execute_result",
          "data": {
            "text/plain": [
              "(2786, 1962)"
            ]
          },
          "metadata": {},
          "execution_count": 338
        }
      ]
    },
    {
      "cell_type": "code",
      "source": [
        "#define features\n",
        "input_shape = X_train_proc.shape[1]\n",
        "input_shape"
      ],
      "metadata": {
        "colab": {
          "base_uri": "https://localhost:8080/"
        },
        "id": "SjMMt4Wesnvx",
        "outputId": "f854f83a-5b74-4970-b011-d042d4296ada"
      },
      "execution_count": 340,
      "outputs": [
        {
          "output_type": "execute_result",
          "data": {
            "text/plain": [
              "1962"
            ]
          },
          "metadata": {},
          "execution_count": 340
        }
      ]
    },
    {
      "cell_type": "code",
      "source": [
        "#define model\n",
        "reg_model = Sequential()"
      ],
      "metadata": {
        "id": "tA6DlLtVqpBK"
      },
      "execution_count": 363,
      "outputs": []
    },
    {
      "cell_type": "code",
      "source": [
        "#sequential model in keras\n",
        "\n",
        "#first layer\n",
        "reg_model.add(Dense(100, input_dim = input_shape, activation='relu'))\n",
        "#second layer\n",
        "reg_model.add(Dense(70, activation='relu'))\n",
        "#second layer\n",
        "reg_model.add(Dense(50, activation='relu'))\n",
        "#second layer\n",
        "reg_model.add(Dense(30, activation='relu'))\n",
        "#second layer\n",
        "reg_model.add(Dense(10, activation='relu'))\n",
        "#outer layer\n",
        "reg_model.add(Dense(1, activation='linear'))\n",
        "\n",
        "#summary\n",
        "reg_model.summary()"
      ],
      "metadata": {
        "colab": {
          "base_uri": "https://localhost:8080/"
        },
        "id": "XPaPb71vZNy1",
        "outputId": "742a6ee7-f616-464a-ee92-e90d5c32dc79"
      },
      "execution_count": 364,
      "outputs": [
        {
          "output_type": "stream",
          "name": "stdout",
          "text": [
            "Model: \"sequential_5\"\n",
            "_________________________________________________________________\n",
            " Layer (type)                Output Shape              Param #   \n",
            "=================================================================\n",
            " dense_34 (Dense)            (None, 100)               196300    \n",
            "                                                                 \n",
            " dense_35 (Dense)            (None, 70)                7070      \n",
            "                                                                 \n",
            " dense_36 (Dense)            (None, 50)                3550      \n",
            "                                                                 \n",
            " dense_37 (Dense)            (None, 30)                1530      \n",
            "                                                                 \n",
            " dense_38 (Dense)            (None, 10)                310       \n",
            "                                                                 \n",
            " dense_39 (Dense)            (None, 1)                 11        \n",
            "                                                                 \n",
            "=================================================================\n",
            "Total params: 208,771\n",
            "Trainable params: 208,771\n",
            "Non-trainable params: 0\n",
            "_________________________________________________________________\n"
          ]
        }
      ]
    },
    {
      "cell_type": "code",
      "source": [
        "#compile model- mse loss function and adam optimizer\n",
        "reg_model.compile(loss = 'mse', optimizer = 'adam', metrics = 'mae')\n",
        "\n",
        "#fit model\n",
        "history = reg_model.fit(X_train_proc, y_train, validation_data = (X_test_proc, y_test), epochs=60, verbose=0)"
      ],
      "metadata": {
        "id": "htkIn73flj1C"
      },
      "execution_count": 365,
      "outputs": []
    },
    {
      "cell_type": "code",
      "source": [
        "# evaluate model\n",
        "\n",
        "y_pred5 = reg_model.predict(X_test_proc)\n",
        "\n",
        "print(f'final RMSE: {np.sqrt(mean_squared_error(y_test, y_pred5))}')\n",
        "print(f'final MAE: {mean_absolute_error(y_test, y_pred5)}')\n",
        "print(f'final R2: {r2_score(y_test, y_pred5)}')"
      ],
      "metadata": {
        "colab": {
          "base_uri": "https://localhost:8080/"
        },
        "id": "yrDeL1IQt9y7",
        "outputId": "5442328d-8ada-446e-aa06-8b8f2c4a2eea"
      },
      "execution_count": 366,
      "outputs": [
        {
          "output_type": "stream",
          "name": "stdout",
          "text": [
            "final RMSE: 1.0282831206965914\n",
            "final MAE: 0.8077948241623919\n",
            "final R2: 0.06080853266935382\n"
          ]
        }
      ]
    },
    {
      "cell_type": "code",
      "source": [
        "#visualize the loss\n",
        "plt.plot(history.history['loss'], label='Train loss')\n",
        "plt.plot(history.history['val_loss'], label='Test Loss')\n",
        "plt.legend();"
      ],
      "metadata": {
        "colab": {
          "base_uri": "https://localhost:8080/",
          "height": 265
        },
        "id": "Im_3MbagvpKf",
        "outputId": "7e6615ab-a27b-4483-de6f-a0cae1042b4a"
      },
      "execution_count": 367,
      "outputs": [
        {
          "output_type": "display_data",
          "data": {
            "text/plain": [
              "<Figure size 432x288 with 1 Axes>"
            ],
            "image/png": "[encoded data removed]"
          },
          "metadata": {
            "needs_background": "light"
          }
        }
      ]
    }
  ]
}